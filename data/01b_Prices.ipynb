{
 "cells": [
  {
   "cell_type": "markdown",
   "id": "narrow-blowing",
   "metadata": {},
   "source": [
    "# Digest minute crypto data (prices) and coinmarketcap (market)\n",
    "\n",
    "- https://www.bitfinex.com/\n",
    "- https://medium.com/coinmonks/how-to-get-historical-crypto-currency-data-954062d40d2d\n",
    "- https://www.kaggle.com/tencars/392-crypto-currency-pairs-at-minute-resolution\n"
   ]
  },
  {
   "cell_type": "code",
   "execution_count": 1,
   "id": "guided-theory",
   "metadata": {},
   "outputs": [],
   "source": [
    "from glob import glob\n",
    "\n",
    "from tqdm import tqdm\n",
    "\n",
    "from utils import reduce_footprint\n",
    "%matplotlib inline\n",
    "\n",
    "from pathlib import Path\n",
    "import pandas as pd\n",
    "\n",
    "idx = pd.IndexSlice"
   ]
  },
  {
   "cell_type": "markdown",
   "source": [
    "\n",
    "\n",
    "\n",
    "\n"
   ],
   "metadata": {
    "collapsed": false,
    "pycharm": {
     "name": "#%% md\n"
    }
   }
  },
  {
   "cell_type": "code",
   "execution_count": 2,
   "id": "angry-financing",
   "metadata": {},
   "outputs": [
    {
     "name": "stdout",
     "output_type": "stream",
     "text": [
      "symbol usdt not in ustusd\n",
      "symbol usdc not in udcusd\n",
      "symbol wbtc not in wbtusd\n",
      "symbol wbtc not in wbteth\n",
      "symbol miota not in iotusd\n",
      "symbol miota not in iotbtc\n",
      "symbol miota not in iotgbp\n",
      "symbol atom not in atousd\n",
      "symbol atom not in atobtc\n",
      "symbol atom not in atoeth\n",
      "symbol algo not in algusd\n",
      "symbol algo not in algbtc\n",
      "symbol algo not in algust\n",
      "symbol dash not in dshusd\n",
      "symbol dash not in dshbtc\n",
      "symbol qtum not in qtmusd\n"
     ]
    }
   ],
   "source": [
    "data_path ='../data/crypto/minute/'\n",
    "\n",
    "cryptos = {\n",
    "            'btcusd':  {'symbol': 'btc', 'base': 'usd', },\n",
    "            'btceur':  {'symbol': 'btc', 'base': 'eur', },\n",
    "            'btcgbp':  {'symbol': 'btc', 'base': 'gbp', },\n",
    "            'btcjpy':  {'symbol': 'btc', 'base': 'jpy', },\n",
    "            'btcxch':  {'symbol': 'btc', 'base': 'xch', },\n",
    "            'ethusd':  {'symbol': 'eth', 'base': 'usd', },\n",
    "            'ethust':  {'symbol': 'eth', 'base': 'ust', },\n",
    "            'etheur':  {'symbol': 'eth', 'base': 'eur', },\n",
    "            'ethbtc':  {'symbol': 'eth', 'base': 'btc', },\n",
    "            'ethjpy':  {'symbol': 'eth', 'base': 'jpy', },\n",
    "            'ethgbp':  {'symbol': 'eth', 'base': 'gbp', },\n",
    "            # Binance Coin\n",
    "            'xrpusd':  {'symbol': 'xrp', 'base': 'usd', },\n",
    "            'xrpust':  {'symbol': 'xrp', 'base': 'ust', },\n",
    "            'xrpbtc':  {'symbol': 'xrp', 'base': 'btc', },\n",
    "            'ustusd':  {'symbol': 'usdt', 'base': 'usd', },\n",
    "            #'ustbtc':  {'symbol': 'usdt', 'base': 'btc', }, #notfound\n",
    "            'adausd':  {'symbol': 'ada', 'base': 'usd', }, # Cardano\n",
    "            'adaust':  {'symbol': 'ada', 'base': 'ust', }, # Cardano\n",
    "            'adabtc':  {'symbol': 'ada', 'base': 'btc', }, # Cardano\n",
    "            'dogusd':  {'symbol': 'dog', 'base': 'usd', 'name': 'megadoge'},\n",
    "            'dogust':  {'symbol': 'dog', 'base': 'ust', 'name': 'megadoge'},\n",
    "            'dogbtc':  {'symbol': 'dog', 'base': 'btc', 'name': 'megadoge'},\n",
    "            'dogeusd':  {'symbol': 'doge', 'base': 'usd', 'name': 'doge'},\n",
    "            'dogeust':  {'symbol': 'doge', 'base': 'ust', 'name': 'doge'},\n",
    "            'dotusd':  {'symbol': 'dot', 'base': 'usd', 'name': 'polkadot'}, # Polkadot\n",
    "            'dotust':  {'symbol': 'dot', 'base': 'ust', 'name': 'polkadot' }, # Polkadot\n",
    "            'dotbtc':  {'symbol': 'dot', 'base': 'btc', 'name': 'polkadot' }, # Polkadot\n",
    "            'uniust':  {'symbol': 'uni', 'base': 'ust', 'name': 'Uniswap'},\n",
    "            'uniusd':  {'symbol': 'uni', 'base': 'usd', 'name': 'Uniswap'},\n",
    "            # 'unibtc':  {'symbol': 'uni', 'base': 'btc', },#notfound\n",
    "            'ltcusd':  {'symbol': 'ltc', 'base': 'usd', },\n",
    "            'ltcust':  {'symbol': 'ltc', 'base': 'ust', },\n",
    "            'ltcbtc':  {'symbol': 'ltc', 'base': 'btc', },\n",
    "            'bchnusd':  {'symbol': 'bch', 'base': 'usd', }, # Bitcoin Cash ? bch = bchn?\n",
    "            # 'bchnbtc':  {'symbol': 'bch', 'base': 'btc', }, # Bitcoin Cash ? bch = bchn? #notfound\n",
    "            'linkusd':  {'symbol': 'link', 'base': 'usd', }, # Chainlink\n",
    "            'linkust':  {'symbol': 'link', 'base': 'ust', }, # Chainlink\n",
    "            # 'linkbtc':  {'symbol': 'link', 'base': 'btc', }, # Chainlink #notfound\n",
    "            'udcusd':  {'symbol': 'usdc', 'base': 'usd', },   # USDC\n",
    "            # 'udcbtc':  {'symbol': 'usdc', 'base': 'btc', },   # USDC\n",
    "            'vetusd':  {'symbol': 'vet', 'base': 'usd', }, # VeChain\n",
    "            'vetbtc':  {'symbol': 'vet', 'base': 'btc', }, # VeChain\n",
    "            'solust':  {'symbol': 'sol', 'base': 'ust',}, # Solana\n",
    "            'solusd':  {'symbol': 'sol', 'base': 'usd',}, # Solana\n",
    "            # 'solbtc':  {'symbol': 'sol', 'base': 'btc',}, # Solana #notfound\n",
    "            'xlmusd':  {'symbol': 'xlm', 'base': 'usd',}, # Stellar\n",
    "            'xlmust':  {'symbol': 'xlm', 'base': 'ust',}, # Stellar\n",
    "            'xlmeth':  {'symbol': 'xlm', 'base': 'eth',}, # Stellar\n",
    "            'xlmbtc':  {'symbol': 'xlm', 'base': 'btc',}, # Stellar\n",
    "            # 'theta',\n",
    "            'filusd':  {'symbol': 'fil', 'base': 'usd',}, # filecoin\n",
    "            # 'filbtc':  {'symbol': 'fil', 'base': 'btc',}, # filecoin\n",
    "            'okbusd': {'symbol': 'okb', 'base': 'usd'},\n",
    "            'okbust': {'symbol': 'okb', 'base': 'ust'},\n",
    "            # 'okbbtc': {'symbol': 'okb', 'base': 'btc'}, #notfound\n",
    "            'wbtusd': {'symbol': 'wbtc', 'base': 'usd'},\n",
    "            'wbteth': {'symbol': 'wbtc', 'base': 'eth'}, #notfound\n",
    "\n",
    "            'trxusd':  {'symbol': 'trx', 'base': 'usd',}, # Tron\n",
    "            'trxeth':  {'symbol': 'trx', 'base': 'eth',}, # Tron\n",
    "            'trxeur':  {'symbol': 'trx', 'base': 'eur',}, # Tron\n",
    "            'trxbtc':  {'symbol': 'trx', 'base': 'btc',}, # Tron\n",
    "            # Binance USD busd\n",
    "            \n",
    "            'bsvbtc': {'symbol': 'bsv', 'base': 'btc'},\n",
    "\n",
    "            'xmrusd':  {'symbol': 'xmr', 'base': 'usd',}, # Monero\n",
    "            'xmrust':  {'symbol': 'xmr', 'base': 'ust',}, # Monero\n",
    "            'xmrbtc':  {'symbol': 'xmr', 'base': 'btc',}, # Monero\n",
    "            'lunausd':  {'symbol': 'luna', 'base': 'usd',}, # Luna\n",
    "            'lunaust':  {'symbol': 'luna', 'base': 'ust',}, # Luna\n",
    "            # 'lunabtc':  {'symbol': 'luna', 'base': 'btc',}, # Luna #notfound\n",
    "            'neousd':  {'symbol': 'neo', 'base': 'usd',}, #\n",
    "            'neoeur':  {'symbol': 'neo', 'base': 'eur',}, #\n",
    "            'neobtc':  {'symbol': 'neo', 'base': 'btc',}, #\n",
    "            # Klay\n",
    "            'iotusd':  {'symbol': 'miota', 'base': 'usd',}, # iota \n",
    "            'iotbtc':  {'symbol': 'miota', 'base': 'btc',}, # iota\n",
    "            'iotgbp':  {'symbol': 'miota', 'base': 'gbp',}, # iota\n",
    "            'atousd':  {'symbol': 'atom', 'base': 'usd',}, # cosmos\n",
    "            'atobtc':  {'symbol': 'atom', 'base': 'btc',}, # cosmos\n",
    "            'atoeth':  {'symbol': 'atom', 'base': 'eth',}, # cosmos\n",
    "            # 'cakusd':  {'symbol': 'cake', 'base': 'usd',}, # pancake\n",
    "            'aaveusd':  {'symbol': 'aave', 'base': 'usd',}, # aave\n",
    "            'aaveust':  {'symbol': 'aave', 'base': 'ust',}, # aave\n",
    "            #notfound 'aavebtc':  {'symbol': 'aave', 'base': 'btc',}, # aave\n",
    "            'etcbtc': {'symbol': 'etc', 'base': 'btc'},\n",
    "            'etcusd': {'symbol': 'etc', 'base': 'usd'},\n",
    "            # 'maticusd': {'symbol': '...', 'base': 'usd'},\n",
    "            # ht\n",
    "            'fttusd': {'symbol': 'ftt', 'base': 'usd'},\n",
    "            #notfound'fttbtc': {'symbol': 'ftt', 'base': 'btc'},\n",
    "            # cro\n",
    "            'bttusd': {'symbol': 'btt', 'base': 'usd'},\n",
    "            #notfound 'bttbtc': {'symbol': 'btt', 'base': 'btc'},\n",
    "            # cusd\n",
    "            'mkrusd': {'symbol': 'mkr', 'base': 'usd'},\n",
    "            'mkreth': {'symbol': 'mkr', 'base': 'eth'},\n",
    "            'mkrbtc': {'symbol': 'mkr', 'base': 'btc'},\n",
    "            # 'mkreth': {'symbol': 'mkr', 'base': 'eth'},\n",
    "            # 'mkrbtc': {'symbol': 'mkr', 'base': 'btc'},\n",
    "            'xtzusd': {'symbol': 'xtz', 'base': 'usd'},\n",
    "            'xtzbtc': {'symbol': 'xtz', 'base': 'btc'},\n",
    "            # 'xtzbtc': {'symbol': 'xtz', 'base': 'btc'},\n",
    "            # ceth\n",
    "            'algusd': {'symbol': 'algo', 'base': 'usd'},\n",
    "            'algbtc': {'symbol': 'algo', 'base': 'btc'},\n",
    "            'algust': {'symbol': 'algo', 'base': 'ust'},\n",
    "            'avaxusd': {'symbol': 'avax', 'base': 'usd'},\n",
    "            'avaxust': {'symbol': 'avax', 'base': 'ust'},\n",
    "            # notfound 'avaxbtc': {'symbol': 'avax', 'base': 'btc'},\n",
    "            'ksmusd': {'symbol': 'ksm', 'base': 'usd'},\n",
    "            # notfound 'ksmbtc': {'symbol': 'ksm', 'base': 'btc'},\n",
    "            'daiusd': {'symbol': 'dai', 'base': 'usd'},\n",
    "            'daibtc': {'symbol': 'dai', 'base': 'btc'},\n",
    "            'daieth': {'symbol': 'dai', 'base': 'eth',},\n",
    "\n",
    "            # cdai\n",
    "            # dash\n",
    "            'dshusd': {'symbol': 'dash', 'base': 'usd'},\n",
    "            'dshbtc': {'symbol': 'dash', 'base': 'btc'},\n",
    "\n",
    "            # notfound 'xemusd': {'symbol': 'xem', 'base': 'usd'},\n",
    "            # notfound 'xembtc': {'symbol': 'xem', 'base': 'btc'},\n",
    "            'zecbtc': {'symbol': 'zec', 'base': 'btc'}, # Zcash\n",
    "            'zecusd': {'symbol': 'zec', 'base': 'usd'}, # Zcash\n",
    "            'paxusd': {'symbol': 'pax', 'base': 'usd'}, # https://www.paxos.com/pax/\n",
    "            'b21xusd': {'symbol': 'b21x', 'base': 'usd'}, # https://www.tradingview.com/symbols/B21XUST/\n",
    "            'b21xust': {'symbol': 'b21x', 'base': 'ust'}, # https://www.tradingview.com/symbols/B21XUST/\n",
    "            'qtmusd': {'symbol': 'qtum', 'base': 'usd'},\n",
    "            '1inchusd': {'symbol': '1inch', 'base': 'usd'},\n",
    "            '1inchust': {'symbol': '1inch', 'base': 'ust'},\n",
    "            'mtnusd': {'symbol': 'mtn', 'base': 'usd'},\n",
    "            # notfound 'mtnbtc': {'symbol': 'mtn', 'base': 'btc'},\n",
    "            'manusd': {'symbol': 'man', 'base': 'usd'},\n",
    "            # notfound 'manbtc': {'symbol': 'man', 'base': 'btc'},\n",
    "            'albtusd': {'symbol': 'albt', 'base': 'usd'}, # AllianceBlock\n",
    "            'albtust': {'symbol': 'albt', 'base': 'ust'}, # AllianceBlock\n",
    "            'ampbtc': {'symbol': 'amp', 'base': 'btc'},\n",
    "            'ampusd': {'symbol': 'amp', 'base': 'usd'},\n",
    "            'ampust': {'symbol': 'amp', 'base': 'ust'},\n",
    "            'antusd': {'symbol': 'ant', 'base': 'usd'}, # aragon usd\n",
    "            'antbtc': {'symbol': 'ant', 'base': 'btc'}, # aragon usd\n",
    "            'anteth': {'symbol': 'ant', 'base': 'eth'}, # aragon usd\n",
    "            'astusd': {'symbol': 'ast', 'base': 'usd'}, # airswap\n",
    "            'avtusd': {'symbol': 'avt', 'base': 'usd'}, # Aventus\n",
    "            'balusd': {'symbol': 'bal', 'base': 'usd'}, # Balancer\n",
    "            'balust': {'symbol': 'bal', 'base': 'ust'}, # Balancer\n",
    "            'bandusd': {'symbol': 'band', 'base': 'usd'}, # band protocol (BAND)\n",
    "            'bandust': {'symbol': 'band', 'base': 'ust'}, # band protocol (BAND)\n",
    "            'batbtc': {'symbol': 'bat', 'base': 'btc'}, # BasicAttentionToken\n",
    "            'batusd': {'symbol': 'bat', 'base': 'usd'}, # BasicAttentionToken\n",
    "            'bateth': {'symbol': 'bat', 'base': 'eth'}, # BasicAttentionToken\n",
    "            'bchabcusd': {'symbol': 'bcha', 'base': 'usd'}, # bitcoin cash abc https://es.tradingview.com/chart/BCHABUSD/SCPaSBCD-BCHABUSD-Bitcoin-Cash-ABC/\n",
    "            'bestusd': {'symbol': 'best', 'base': 'usd'}, # Bitpanda Ecosystem Token\n",
    "            'bftusd': {'symbol': 'bft', 'base': 'usd'}, # BnkToTheFuture\n",
    "            'bmiusd': {'symbol': 'bmi', 'base': 'usd'}, # Bridge Mutual\n",
    "            'bmiust': {'symbol': 'bmi', 'base': 'ust'}, # Bridge Mutual\n",
    "            'bntusd': {'symbol': 'bnt', 'base': 'usd'}, # bancor\n",
    "            'bosonusd': {'symbol': 'boson', 'base': 'usd'}, # Boson Protocol\n",
    "            'bosonust': {'symbol': 'boson', 'base': 'ust'}, # Boson Protocol\n",
    "            'boxusd': {'symbol': 'box', 'base': 'usd'}, # Contentbox\n",
    "            'bsvusd': {'symbol': 'bsv', 'base': 'usd'}, # bitcoin satoshi vision\n",
    "            'btgbtc': {'symbol': 'btg', 'base': 'btc'}, #bitcoin gold\n",
    "            'btgusd': {'symbol': 'btg', 'base': 'usd'}, #bitcoin gold\n",
    "            'btseusd': {'symbol': 'btse', 'base': 'usd'}, # btse\n",
    "            'celusd': {'symbol': 'cel', 'base': 'usd'}, # ?\n",
    "            'celust': {'symbol': 'cel', 'base': 'ust'}, # ?\n",
    "            'chzusd': {'symbol': 'chz', 'base': 'usd'}, # chiliz\n",
    "            'chzust': {'symbol': 'chz', 'base': 'ust'}, # chiliz\n",
    "            'clousd': {'symbol': 'clo', 'base': 'usd'}, # calisto network\n",
    "            'cndusd': {'symbol': 'cnd', 'base': 'usd'}, # cindicator\n",
    "            'compusd': {'symbol': 'comp', 'base': 'usd'}, # compound\n",
    "            'compust': {'symbol': 'comp', 'base': 'ust'}, # compound\n",
    "            'ctkusd': {'symbol': 'ctk', 'base': 'usd', 'name:': 'certik'},\n",
    "            'ctkust': {'symbol': 'ctk', 'base': 'ust', 'name:': 'certik'},\n",
    "            'ctxusd': {'symbol': 'ctx', 'base': 'usd', 'name': 'cortex'},\n",
    "            'dappusd': {'symbol': 'dapp', 'base': 'usd', 'name': 'liquidapps'},\n",
    "            'dappust': {'symbol': 'dapp', 'base': 'ust', 'name': 'liquidapps'},\n",
    "            'datusd': {'symbol': 'dat', 'base': 'usd', 'name': 'streamr'},\n",
    "            'datbtc': {'symbol': 'dat', 'base': 'btc', 'name': 'streamr'},\n",
    "            'dgbusd': {'symbol': 'dgb', 'base': 'usd', 'name': 'digibyte'},\n",
    "            'dgxusd': {'symbol': 'dgx', 'base': 'usd', 'name': ''},\n",
    "            'drnusd': {'symbol': 'drn', 'base': 'usd', 'name': 'Dragonchain'},\n",
    "            'dtausd': {'symbol': 'dta', 'base': 'usd', 'name': 'data'},\n",
    "            'dtxusd': {'symbol': 'dtx', 'base': 'usd', 'name': 'dragon token'},\n",
    "            'duskbtc': {'symbol': 'dusk', 'base': 'btc', 'name': 'Dusk Network'},\n",
    "            'duskusd': {'symbol': 'dusk', 'base': 'usd', 'name': 'Dusk Network'},\n",
    "            'edobtc': {'symbol': 'edo', 'base': 'btc', 'name': ''},\n",
    "            'edoeth': {'symbol': 'edo', 'base': 'eth', 'name': ''},\n",
    "            'edousd': {'symbol': 'edo', 'base': 'usd', 'name': ''},\n",
    "            'egldusd': {'symbol': 'egld', 'base': 'usd', 'name': 'Elrond'},\n",
    "            'egldust': {'symbol': 'egld', 'base': 'ust', 'name': 'Elrond'},\n",
    "            'enjusd': {'symbol': 'enj', 'base': 'usd', 'name': 'enjin coin'},\n",
    "            'eosdtusd': {'symbol': 'eosdt', 'base': 'usd', 'name': 'eosdt'},\n",
    "            'eosdtust': {'symbol': 'eosdt', 'base': 'ust', 'name': 'eosdt'},\n",
    "            'eosbtc': {'symbol': 'eos', 'base': 'btc', 'name': 'eos'},\n",
    "            'eoseth': {'symbol': 'eos', 'base': 'eth', 'name': 'eos'},\n",
    "            'eoseur': {'symbol': 'eos', 'base': 'eur', 'name': 'eos'},\n",
    "            'eosgbp': {'symbol': 'eos', 'base': 'gbp', 'name': 'eos'},\n",
    "            'eosjpy': {'symbol': 'eos', 'base': 'jpy', 'name': 'eos'},\n",
    "            'eosusd': {'symbol': 'eos', 'base': 'usd', 'name': 'eos'},\n",
    "            'eosust': {'symbol': 'eos', 'base': 'ust', 'name': 'eos'},\n",
    "            'essusd': {'symbol': 'ess', 'base': 'usd', 'name': 'essentia'},\n",
    "            'etpusd': {'symbol': 'etp', 'base': 'usd', 'name': 'Metaverse ETP'},\n",
    "            'etpbtc': {'symbol': 'etp', 'base': 'btc', 'name': 'Metaverse ETP'},\n",
    "            'etpeth': {'symbol': 'etp', 'base': 'eth', 'name': 'Metaverse ETP'},\n",
    "            'eususd': {'symbol': 'eus', 'base': 'usd', 'name': 'Stasis euro'},\n",
    "            'eutusd': {'symbol': 'eut', 'base': 'usd', 'name': ''},\n",
    "            'eutust': {'symbol': 'eut', 'base': 'ust', 'name': ''},\n",
    "            'euteur': {'symbol': 'eut', 'base': 'eur', 'name': ''},\n",
    "            'exrdusd': {'symbol': 'exrd', 'base': 'usd', 'name': 'Radix'},\n",
    "            'exrdbtc': {'symbol': 'exrd', 'base': 'btc', 'name': 'Radix'},\n",
    "            'fetusd': {'symbol': 'fet', 'base': 'usd', 'name': 'fetch.ai'},\n",
    "            'fetust': {'symbol': 'fet', 'base': 'ust', 'name': 'fetch.ai'},\n",
    "            'filust': {'symbol': 'fil', 'base': 'ust', 'name': ''},\n",
    "            'fttust': {'symbol': 'ftt', 'base': 'ust', 'name': 'FTX Token'},\n",
    "            'funusd': {'symbol': 'fun', 'base': 'usd', 'name': 'FunToken'},\n",
    "            'genusd': {'symbol': 'gen', 'base': 'usd', 'name': 'DAOstack'},\n",
    "            'gnousd': {'symbol': 'gno', 'base': 'usd', 'name': 'Gnosis'},\n",
    "            'gntbtc': {'symbol': 'gnt', 'base': 'btc', 'name': 'Golem'},\n",
    "            'gnteth': {'symbol': 'gnt', 'base': 'eth', 'name': 'Golem'},\n",
    "            'gotusd': {'symbol': 'got', 'base': 'usd', 'name': 'ParkinGo'},\n",
    "            'goteur': {'symbol': 'got', 'base': 'eur', 'name': 'ParkinGo'},\n",
    "            'gtxusd': {'symbol': 'gtx', 'base': 'usd', 'name': 'GateToken'},\n",
    "            'gtxust': {'symbol': 'gtx', 'base': 'ust', 'name': 'GateToken'},\n",
    "            'hezusd': {'symbol': 'hez', 'base': 'usd', 'name': 'Hermez Network'},\n",
    "            'hezust': {'symbol': 'hez', 'base': 'ust', 'name': 'Hermez Network'},\n",
    "            #'hotusd': {'symbol': 'hot', 'base': 'usd', 'name': 'Hydro Protocol'},\n",
    "            # 'hotust': {'symbol': 'hot', 'base': 'ust', 'name': 'Hydro Protocol'},\n",
    "            'iceusd': {'symbol': 'ice', 'base': 'usd', 'name': 'Popsicle Finance'},\n",
    "            'idxusd': {'symbol': 'idx', 'base': 'usd', 'name': ''},\n",
    "            'idxbtc': {'symbol': 'idx', 'base': 'btc', 'name': ''},\n",
    "            'iosusd': {'symbol': 'ios', 'base': 'usd', 'name': 'iost'},\n",
    "            'iqxusd': {'symbol': 'iqx', 'base': 'usd', 'name': 'Everipedia'},\n",
    "            'kanusd': {'symbol': 'kan', 'base': 'usd', 'name': 'BitKan'},\n",
    "            'kanust': {'symbol': 'kan', 'base': 'ust', 'name': 'BitKan'},\n",
    "            'kncusd': {'symbol': 'knc', 'base': 'usd', 'name': 'Kyber network'},\n",
    "            'kncbtc': {'symbol': 'knc', 'base': 'btc', 'name': 'Kyber network'},\n",
    "            'ksmust': {'symbol': 'ksm', 'base': 'ust', 'name': 'Kusama'},\n",
    "            'leobtc': {'symbol': 'leo', 'base': 'btc', 'name': 'unus sed leo'},\n",
    "            'leoeos': {'symbol': 'leo', 'base': 'eos', 'name': 'unus sed leo'},\n",
    "            'leoeth': {'symbol': 'leo', 'base': 'eth', 'name': 'unus sed leo'},\n",
    "            'leousd': {'symbol': 'leo', 'base': 'usd', 'name': 'unus sed leo'},\n",
    "            'leoust': {'symbol': 'leo', 'base': 'ust', 'name': 'unus sed leo'},\n",
    "            # 'lrcusd': {'symbol': 'lrc', 'base': 'usd', 'name': 'Loopring'},\n",
    "            #'lrcust': {'symbol': 'lrc', 'base': 'ust', 'name': 'Loopring'},\n",
    "            'lymusd': {'symbol': 'lym', 'base': 'usd', 'name': 'Lympo'},\n",
    "            'mgousd': {'symbol': 'mgo', 'base': 'usd', 'name': 'MobileGo'},\n",
    "            'lrcbtc': {'symbol': 'lrc', 'base': 'btc', 'name': 'Loopring'},\n",
    "            'lrcusd': {'symbol': 'lrc', 'base': 'usd', 'name': 'Loopring'},\n",
    "            'jstusd': {'symbol': 'jst', 'base': 'usd', 'name': ''},\n",
    "            'jstust': {'symbol': 'jst', 'base': 'ust', 'name': ''},\n",
    "            'mlnusd': {'symbol': 'mln', 'base': 'usd', 'name': ''},\n",
    "            'mnabtc': {'symbol': 'mna', 'base': 'btc', 'name': 'Decetraland'},\n",
    "            'mnausd': {'symbol': 'mna', 'base': 'usd', 'name': 'Decetraland'},\n",
    "            'mobust': {'symbol': 'mob', 'base': 'ust', 'name': ''},\n",
    "            'mobusd': {'symbol': 'mob', 'base': 'usd', 'name': ''},\n",
    "            'ncausd': {'symbol': 'nca', 'base': 'usd', 'name': 'Nucleus Vision'},\n",
    "            'nearust': {'symbol': 'near', 'base': 'ust', 'name': ''},\n",
    "            'nearusd': {'symbol': 'near', 'base': 'usd', 'name': ''},\n",
    "            'neceth': {'symbol': 'nec', 'base': 'eth', 'name': 'Nectar'},\n",
    "            'necusd': {'symbol': 'nec', 'base': 'usd', 'name': 'Nectar'},\n",
    "            'neoeth': {'symbol': 'neo', 'base': 'eth', 'name': 'Neo'},\n",
    "            'neogbp': {'symbol': 'neo', 'base': 'gbp', 'name': 'Neo'},\n",
    "            'neojpy': {'symbol': 'neo', 'base': 'jpy', 'name': 'Neo'},\n",
    "            'nutust': {'symbol': 'nut', 'base': 'ust', 'name': 'native utility token'},\n",
    "            'nutusd': {'symbol': 'nut', 'base': 'usd', 'name': 'native utility token'},\n",
    "            'odeusd': {'symbol': 'ode', 'base': 'usd', 'name': 'odem'},\n",
    "            'omgbtc': {'symbol': 'omg', 'base': 'btc', 'name': 'omgnetwork'},\n",
    "            #'omgust': {'symbol': 'omg', 'base': 'ust', 'name': 'omgnetwork'},\n",
    "            'omgusd': {'symbol': 'omg', 'base': 'usd', 'name': 'omgnetwork'},\n",
    "            'omnbtc': {'symbol': 'omn', 'base': 'btc', 'name': 'omni'},\n",
    "            'omnusd': {'symbol': 'omn', 'base': 'usd', 'name': 'omni'},\n",
    "            'onlusd': {'symbol': 'onl', 'base': 'usd', 'name': 'on.live'},\n",
    "            'orsusd': {'symbol': 'ors', 'base': 'usd', 'name': 'ors group'},\n",
    "            'oxyust': {'symbol': 'oxy', 'base': 'ust', 'name': 'oxygen'},\n",
    "            'oxyusd': {'symbol': 'oxy', 'base': 'usd', 'name': 'oxygen'},\n",
    "            'pasusd': {'symbol': 'pas', 'base': 'usd', 'name': 'Paxos Standard'},\n",
    "            'paxust': {'symbol': 'pax', 'base': 'ust', 'name': 'Paxos Standard'},\n",
    "            'pluusd': {'symbol': 'plu', 'base': 'usd', 'name': 'Pluton'},\n",
    "            'pnketh': {'symbol': 'pnk', 'base': 'eth', 'name': 'pink'},\n",
    "            'pnkusd': {'symbol': 'pnk', 'base': 'usd', 'name': 'pink'},\n",
    "            'poausd': {'symbol': 'poa', 'base': 'usd', 'name': 'poa'},\n",
    "            'qshusd': {'symbol': 'qsh', 'base': 'usd', 'name': 'QASH'},\n",
    "            # notfound 'qtfbtc': {'symbol': 'qtf', 'base': 'btc', 'name': 'Quantfury Token'},\n",
    "            # notfound 'qtfusd': {'symbol': 'qtf', 'base': 'usd', 'name': 'Quantfury Token'},\n",
    "            'qtmbtc': {'symbol': 'qtm', 'base': 'btc', 'name': 'Qtum'},\n",
    "            'rbtbtc': {'symbol': 'rbt', 'base': 'btc', 'name': 'RSK Smart Bitcoin'},\n",
    "            'rbtusd': {'symbol': 'rbt', 'base': 'usd', 'name': 'RSK Smart Bitcoin'},\n",
    "            'rcnusd': {'symbol': 'rcn', 'base': 'usd', 'name': 'Ripio Credit Network'},\n",
    "            'repbtc': {'symbol': 'rep', 'base': 'btc', 'name': 'Augur'},\n",
    "            'repusd': {'symbol': 'rep', 'base': 'usd', 'name': 'Augur'},\n",
    "            'requsd': {'symbol': 'req', 'base': 'usd', 'name': 'request'},\n",
    "            'rifusd': {'symbol': 'rif', 'base': 'usd', 'name': 'RSK Infrastructure'},\n",
    "            'ringxusd': {'symbol': 'ringx', 'base': 'usd', 'name': 'ringx platform'},\n",
    "            'rrbusd': {'symbol': 'rrb', 'base': 'usd', 'name': 'renrenbit'},\n",
    "            'rrbust': {'symbol': 'rrb', 'base': 'ust', 'name': 'renrenbit'},\n",
    "            'rrtusd': {'symbol': 'rrt', 'base': 'usd', 'name': ''},\n",
    "            'sanbtc': {'symbol': 'san', 'base': 'btc', 'name': 'santiment'},\n",
    "            'sanusd': {'symbol': 'san', 'base': 'usd', 'name': 'santiment'},\n",
    "            'saneth': {'symbol': 'san', 'base': 'eth', 'name': 'santiment'},\n",
    "            'sngusd': {'symbol': 'sng', 'base': 'usd', 'name': 'singular'},\n",
    "            'sntusd': {'symbol': 'snt', 'base': 'usd', 'name': 'status'},\n",
    "            'snxust': {'symbol': 'snx', 'base': 'ust', 'name': 'synthetix'},\n",
    "            'snxusd': {'symbol': 'snx', 'base': 'usd', 'name': 'synthetix'},\n",
    "            'stjusd': {'symbol': 'stj', 'base': 'usd', 'name': 'storj'},\n",
    "            'sunusd': {'symbol': 'sun', 'base': 'usd', 'name': 'sun'},\n",
    "            'sunust': {'symbol': 'sun', 'base': 'ust', 'name': 'sun'},\n",
    "            'sushiust': {'symbol': 'sushi', 'base': 'ust', 'name': 'SushiSwap'},\n",
    "            'sushiusd': {'symbol': 'sushi', 'base': 'usd', 'name': 'SushiSwap'},\n",
    "            'swmusd': {'symbol': 'swm', 'base': 'usd', 'name': ''},\n",
    "            'tknusd': {'symbol': 'tkn', 'base': 'usd', 'name': 'Monolith'},\n",
    "            'triusd': {'symbol': 'tri', 'base': 'usd', 'name': 'tripio'},\n",
    "            'tsdust': {'symbol': 'tsd', 'base': 'ust', 'name': 'TrueUSD'},\n",
    "            'tsdusd': {'symbol': 'tsd', 'base': 'usd', 'name': 'TrueUSD'},\n",
    "            'uopusd': {'symbol': 'uop', 'base': 'usd', 'name': 'Utopia ..'},\n",
    "            'uosbtc': {'symbol': 'uos', 'base': 'btc', 'name': 'ultra'},\n",
    "            'uosusd': {'symbol': 'uos', 'base': 'usd', 'name': 'ultra'},\n",
    "            'uskusd': {'symbol': 'usk', 'base': 'usd', 'name': 'usdk'},\n",
    "            'utkusd': {'symbol': 'utk', 'base': 'usd', 'name': 'utrust'},\n",
    "            'veeusd': {'symbol': 'vee', 'base': 'usd', 'name': 'blockv'},\n",
    "            'vsybtc': {'symbol': 'vsy', 'base': 'btc', 'name': 'v.systems'},\n",
    "            'vsyusd': {'symbol': 'vsy', 'base': 'usd', 'name': 'v.systems'},\n",
    "            'waxusd': {'symbol': 'wax', 'base': 'usd', 'name': 'wax'},\n",
    "            'wprusd': {'symbol': 'wpr', 'base': 'usd', 'name': 'wepower'},\n",
    "            'wtcusd': {'symbol': 'wtc', 'base': 'usd', 'name': 'waltonchain'},\n",
    "            'xautbtc': {'symbol': 'xaut', 'base': 'btc', 'name': 'Tether Gold'},\n",
    "            'xautusd': {'symbol': 'xaut', 'base': 'usd', 'name': 'Tether Gold'},\n",
    "            'xautust': {'symbol': 'xaut', 'base': 'ust', 'name': 'Tether Gold'},\n",
    "            'xcheth': {'symbol': 'xch', 'base': 'eth', 'name': 'CryptoFranc'},\n",
    "            'xchusd': {'symbol': 'xch', 'base': 'usd', 'name': 'CryptoFranc'},\n",
    "            'xrausd': {'symbol': 'xra', 'base': 'usd', 'name': 'xriba'},\n",
    "            'xsnusd': {'symbol': 'xsn', 'base': 'usd', 'name': 'Stakenet'},\n",
    "            'xvgusd': {'symbol': 'xvg', 'base': 'usd', 'name': 'Verge'},\n",
    "            'yfiusd': {'symbol': 'yfi', 'base': 'usd', 'name': 'yearn finance'},\n",
    "            'yfiust': {'symbol': 'yfi', 'base': 'ust', 'name': 'yearn finance'},\n",
    "            'yywusd': {'symbol': 'yyw', 'base': 'usd', 'name': 'YOYOW'},\n",
    "            }\n",
    "\n",
    "\n",
    "for symbol_key, symbol_dict in cryptos.items():\n",
    "    if symbol_dict['symbol'] not in symbol_key:\n",
    "        print(\"symbol {} not in {}\".format(symbol_dict['symbol'], symbol_key))\n",
    "    if symbol_dict['base'] not in symbol_key:\n",
    "        print(\"base {} not in {}\".format(symbol_dict['base'], symbol_key))"
   ]
  },
  {
   "cell_type": "markdown",
   "id": "circular-express",
   "metadata": {},
   "source": [
    "Load minute data "
   ]
  },
  {
   "cell_type": "code",
   "execution_count": 3,
   "id": "executed-masters",
   "metadata": {},
   "outputs": [
    {
     "data": {
      "text/plain": "'../data/crypto/minute/'"
     },
     "execution_count": 3,
     "metadata": {},
     "output_type": "execute_result"
    }
   ],
   "source": [
    "data_path"
   ]
  },
  {
   "cell_type": "code",
   "execution_count": 4,
   "outputs": [],
   "source": [
    "# read folder\n",
    "file_list = glob(data_path + \"*.csv\")\n",
    "pairs = []\n",
    "for file in file_list:\n",
    "    f = file.replace(data_path, '')[:-4]\n",
    "    pairs.append(f)#[:-4])"
   ],
   "metadata": {
    "collapsed": false,
    "pycharm": {
     "name": "#%%\n"
    }
   }
  },
  {
   "cell_type": "code",
   "execution_count": 5,
   "outputs": [
    {
     "name": "stdout",
     "output_type": "stream",
     "text": [
      "n used tickers: 294 \n",
      " n unused tickers 70\n",
      "unused tickers: \n"
     ]
    },
    {
     "data": {
      "text/plain": "['aaabbb',\n 'adaf0ustf0',\n 'ampf0ustf0',\n 'btccnht',\n 'btcdomf0ustf0',\n 'btcf0ustf0',\n 'btcust',\n 'chexusd',\n 'cnhcnht',\n 'dogef0ustf0',\n 'dotf0btcf0',\n 'dotf0ustf0',\n 'eosf0ustf0',\n 'eth2xeth',\n 'eth2xusd',\n 'eth2xust',\n 'ethf0btcf0',\n 'ethf0ustf0',\n 'eurf0ustf0',\n 'europe50ixf0ustf0',\n 'eusbtc',\n 'forthusd',\n 'forthust',\n 'ftmusd',\n 'ftmust',\n 'gbpf0ustf0',\n 'germany30ixf0ustf0',\n 'gntusd',\n 'hotusd',\n 'idxust',\n 'ioteth',\n 'ioteur',\n 'iotf0ustf0',\n 'iotjpy',\n 'iqxust',\n 'jpyf0ustf0',\n 'jstbtc',\n 'linkf0ustf0',\n 'ltcf0btcf0',\n 'ltcf0ustf0',\n 'oceanusd',\n 'oceanust',\n 'omgeth',\n 'planetsusd',\n 'planetsust',\n 'qtfbtc',\n 'qtfusd',\n 'sukuusd',\n 'sukuust',\n 'testbtcf0testusdtf0',\n 'testbtctestusd',\n 'testbtctestusdt',\n 'udcust',\n 'unif0ustf0',\n 'uopust',\n 'ustcnht',\n 'xagf0ustf0',\n 'xautf0btcf0',\n 'xautf0ustf0',\n 'xdcusd',\n 'xdcust',\n 'xlmf0ustf0',\n 'yggusd',\n 'zbtusd',\n 'zcnusd',\n 'zilbtc',\n 'zilusd',\n 'zrxbtc',\n 'zrxeth',\n 'zrxusd']"
     },
     "execution_count": 5,
     "metadata": {},
     "output_type": "execute_result"
    }
   ],
   "source": [
    "used_tickers = []\n",
    "unused_tickers = []\n",
    "for pair in pairs:\n",
    "    if pair in cryptos:\n",
    "        used_tickers.append(pair)\n",
    "    else:\n",
    "        unused_tickers.append(pair)\n",
    "\n",
    "print(\"n used tickers: {} \\n n unused tickers {}\".format(len(used_tickers), len(unused_tickers)))\n",
    "print(\"unused tickers: \")\n",
    "unused_tickers.sort()\n",
    "unused_tickers\n"
   ],
   "metadata": {
    "collapsed": false,
    "pycharm": {
     "name": "#%%\n"
    }
   }
  },
  {
   "cell_type": "code",
   "execution_count": 6,
   "outputs": [],
   "source": [
    "\n",
    "# https://stackoverflow.com/questions/16466670/fill-nan-in-candlestick-ohlcv-data\n",
    "# https://pandas.pydata.org/pandas-docs/stable/reference/api/pandas.DataFrame.resample.html\n",
    "def nans_to_prev_close_method1(df):\n",
    "    df['volume'] = df['volume'].fillna(0.0)  # volume should always be 0 (if there were no trades in this interval)\n",
    "    df['close'] = df.fillna(method='pad')  # ie pull the last close into this close\n",
    "    # now copy the close that was pulled down from the last timestep into this row, across into o/h/l\n",
    "    df['open'] = df['open'].fillna(df['close'])\n",
    "    df['low'] = df['low'].fillna(df['close'])\n",
    "    df['high'] = df['high'].fillna(df['close'])\n",
    "    # print(df.head(10))\n",
    "    return df\n",
    "\n",
    "#\n",
    "def resample_df_ohlcv(df, timeframe='1Min'):\n",
    "    # Created a dictionary to tell Pandas how to re-sample, if this isn't in place it will re-sample each column separately\n",
    "    ohlcv_dict = {'open':'first', 'high':'max', 'low':'min', 'close': 'last', 'volume': 'sum'}\n",
    "\n",
    "    # Resample to 15Min (this format is needed) as per ohlc_dict, then remove any line with a NaN\n",
    "    df = df.resample(timeframe, label='right', closed='right').agg(ohlcv_dict)\n",
    "    df = nans_to_prev_close_method1(df)\n",
    "    # Resample mixes the columns so lets re-arrange them\n",
    "    cols=['open', 'high', 'low', 'close', 'volume']\n",
    "    df = df[cols]\n",
    "    return df\n"
   ],
   "metadata": {
    "collapsed": false,
    "pycharm": {
     "name": "#%%\n"
    }
   }
  },
  {
   "cell_type": "code",
   "execution_count": 7,
   "outputs": [
    {
     "name": "stderr",
     "output_type": "stream",
     "text": [
      "100%|██████████| 294/294 [00:11<00:00, 24.69it/s]"
     ]
    },
    {
     "name": "stdout",
     "output_type": "stream",
     "text": [
      "found 155 symbol(s):\n",
      " CategoricalIndex(['btc', 'ltc', 'eth', 'etc', 'rrt', 'zec', 'xmr', 'dash',\n",
      "                  'xrp', 'miota',\n",
      "                  ...\n",
      "                  'doge', 'egld', 'eosdt', 'exrd', 'link', 'luna', 'near',\n",
      "                  'ringx', 'sushi', 'xaut'],\n",
      "                 categories=['btc', 'ltc', 'eth', 'etc', 'rrt', 'zec', 'xmr', 'dash', ...], ordered=False, name='symbol', dtype='category', length=155)\n",
      "found 1 base(s):\n",
      " CategoricalIndex(['usd'], categories=['usd'], ordered=False, name='base', dtype='category')\n",
      "\n",
      "\n",
      "\n",
      "\n",
      "RESULTING DF: \n",
      "<class 'pandas.core.frame.DataFrame'>\n",
      "MultiIndex: 123118 entries, (Timestamp('2013-04-02 00:00:00'), 'btc-usd', 'btc', 'usd') to (Timestamp('2021-06-24 00:00:00'), 'zec-usd', 'zec', 'usd')\n",
      "Data columns (total 5 columns):\n",
      " #   Column  Non-Null Count   Dtype  \n",
      "---  ------  --------------   -----  \n",
      " 0   open    123118 non-null  float32\n",
      " 1   high    123118 non-null  float32\n",
      " 2   low     123118 non-null  float32\n",
      " 3   close   123118 non-null  float32\n",
      " 4   volume  123118 non-null  float64\n",
      "dtypes: float32(4), float64(1)\n",
      "memory usage: 3.7 MB\n",
      "None\n",
      "CategoricalIndex(['btc', 'ltc', 'eth', 'etc', 'rrt', 'zec', 'xmr', 'dash',\n",
      "                  'xrp', 'miota',\n",
      "                  ...\n",
      "                  'doge', 'egld', 'eosdt', 'exrd', 'link', 'luna', 'near',\n",
      "                  'ringx', 'sushi', 'xaut'],\n",
      "                 categories=['btc', 'ltc', 'eth', 'etc', 'rrt', 'zec', 'xmr', 'dash', ...], ordered=False, name='symbol', dtype='category', length=155)\n"
     ]
    },
    {
     "name": "stderr",
     "output_type": "stream",
     "text": [
      "\n"
     ]
    }
   ],
   "source": [
    "freq = 'D'\n",
    "bases = ['usd']\n",
    "\n",
    "def data_from_folder(csv_path, cryptos, frequency):\n",
    "\n",
    "    prices = []\n",
    "    for symbol_key, symbol_dict in tqdm(cryptos.items()):\n",
    "        if symbol_dict['base'] in bases:\n",
    "            file_path = csv_path + symbol_key + \".csv\"\n",
    "            file_path = Path(file_path)\n",
    "            df = pd.read_csv(file_path) # read the csv\n",
    "            df['date'] = df['time'].values.astype(dtype='datetime64[ms]') # for msec format\n",
    "            df.drop(df.filter(regex=\"time\"),axis=1, inplace=True) # otherwise time row is left behind as \"time\"\n",
    "            df.set_index(['date'], inplace=True)\n",
    "\n",
    "            # resample to desired frequency\n",
    "            df = resample_df_ohlcv(df, frequency)\n",
    "            # df.index = df.index.to_period(frequency)\n",
    "            df['ticker'] = symbol_dict['symbol'] + '-' + symbol_dict['base']\n",
    "            df['symbol'] = symbol_dict['symbol'] # get a symbol column\n",
    "            df['base'] = symbol_dict['base'] # get a base column\n",
    "            df.set_index(['ticker', 'symbol', 'base'], inplace=True, append=True)\n",
    "            df.sort_index(inplace=True)\n",
    "            df.drop(df.filter(regex=\"Unname\"),axis=1, inplace=True) # otherwise index row is left behind as \"unnamed\"\n",
    "            prices.append(df)\n",
    "    prices = pd.concat(prices)\n",
    "    #%%\n",
    "    cols = ['ticker', 'symbol', 'base']\n",
    "    prices.reset_index(cols, inplace=True)\n",
    "    prices[cols] = prices[cols].astype('category')\n",
    "    prices.set_index(cols, inplace=True, append=True)\n",
    "\n",
    "    prices.sort_index(inplace=True)\n",
    "    prices = reduce_footprint(prices, float_type='float32', except_cols=['volume'])\n",
    "\n",
    "    print(\"found {} symbol(s):\\n {}\".format(len(prices.index.get_level_values('symbol').unique()),\n",
    "                                          prices.index.get_level_values('symbol').unique()))\n",
    "    print(\"found {} base(s):\\n {}\".format(len(prices.index.get_level_values('base').unique()),\n",
    "                                       prices.index.get_level_values('base').unique()))\n",
    "\n",
    "    return prices\n",
    "\n",
    "\n",
    "prices = data_from_folder(data_path, cryptos, freq)\n",
    "print(\"\\n\\n\\n\")\n",
    "print('RESULTING DF: ')\n",
    "print(prices.info())\n",
    "print(prices.index.get_level_values('symbol').unique())"
   ],
   "metadata": {
    "collapsed": false,
    "pycharm": {
     "name": "#%%\n"
    }
   }
  },
  {
   "cell_type": "code",
   "execution_count": 8,
   "outputs": [
    {
     "name": "stdout",
     "output_type": "stream",
     "text": [
      "CategoricalIndex(['btc-usd', 'btc-usd', 'btc-usd', 'btc-usd', 'btc-usd',\n",
      "                  'btc-usd', 'btc-usd', 'btc-usd', 'btc-usd', 'btc-usd',\n",
      "                  ...\n",
      "                  'xch-usd', 'xlm-usd', 'xmr-usd', 'xra-usd', 'xrp-usd',\n",
      "                  'xsn-usd', 'xtz-usd', 'xvg-usd', 'yfi-usd', 'zec-usd'],\n",
      "                 categories=['1inch-usd', 'aave-usd', 'ada-usd', 'albt-usd', 'algo-usd', 'amp-usd', 'ant-usd', 'ast-usd', ...], ordered=False, name='ticker', dtype='category', length=123118)\n"
     ]
    }
   ],
   "source": [
    "print(prices.index.get_level_values('ticker'))"
   ],
   "metadata": {
    "collapsed": false,
    "pycharm": {
     "name": "#%%\n"
    }
   }
  },
  {
   "cell_type": "code",
   "execution_count": 9,
   "id": "induced-scott",
   "metadata": {},
   "outputs": [
    {
     "data": {
      "text/plain": "\"\\nDATA_STORE = '../data/crypto.h5'\\nwith pd.HDFStore(DATA_STORE) as store:\\n    store.put('crypto/caggle/prices', prices.reset_index(), format='table')\\n    prices_from_store = store['crypto/caggle/prices'].set_index(multiindex_cols)\\n\\nprint(prices_from_store.info(memory_usage=True))\\nprint(prices_from_store.memory_usage(deep=True))\\n\""
     },
     "execution_count": 9,
     "metadata": {},
     "output_type": "execute_result"
    }
   ],
   "source": [
    "multiindex_cols = ['date', 'ticker', 'symbol', 'base']\n",
    "\"\"\"\n",
    "DATA_STORE = '../data/crypto.h5'\n",
    "with pd.HDFStore(DATA_STORE) as store:\n",
    "    store.put('crypto/caggle/prices', prices.reset_index(), format='table')\n",
    "    prices_from_store = store['crypto/caggle/prices'].set_index(multiindex_cols)\n",
    "\n",
    "print(prices_from_store.info(memory_usage=True))\n",
    "print(prices_from_store.memory_usage(deep=True))\n",
    "\"\"\""
   ]
  },
  {
   "cell_type": "code",
   "execution_count": 10,
   "outputs": [],
   "source": [
    "prices_from_store = None\n"
   ],
   "metadata": {
    "collapsed": false,
    "pycharm": {
     "name": "#%%\n"
    }
   }
  },
  {
   "cell_type": "code",
   "execution_count": 11,
   "outputs": [
    {
     "name": "stdout",
     "output_type": "stream",
     "text": [
      "saved\n",
      "<class 'pandas.core.frame.DataFrame'>\n",
      "MultiIndex: 123118 entries, (Timestamp('2013-04-02 00:00:00'), 'btc-usd', 'btc', 'usd') to (Timestamp('2021-06-24 00:00:00'), 'zec-usd', 'zec', 'usd')\n",
      "Data columns (total 5 columns):\n",
      " #   Column  Non-Null Count   Dtype  \n",
      "---  ------  --------------   -----  \n",
      " 0   open    123118 non-null  float32\n",
      " 1   high    123118 non-null  float32\n",
      " 2   low     123118 non-null  float32\n",
      " 3   close   123118 non-null  float32\n",
      " 4   volume  123118 non-null  float64\n",
      "dtypes: float32(4), float64(1)\n",
      "memory usage: 3.7 MB\n",
      "None\n",
      "Index     980593\n",
      "open      492472\n",
      "high      492472\n",
      "low       492472\n",
      "close     492472\n",
      "volume    984944\n",
      "dtype: int64\n"
     ]
    }
   ],
   "source": [
    "feather_path = f'../data/crypto/prices_{freq}.ftr'\n",
    "prices.reset_index().to_feather(feather_path)\n",
    "print(\"saved\")\n",
    "prices_from_feather = pd.read_feather(feather_path).set_index(multiindex_cols)\n",
    "print(prices_from_feather.info(memory_usage=True))\n",
    "print(prices_from_feather.memory_usage(deep=True))"
   ],
   "metadata": {
    "collapsed": false,
    "pycharm": {
     "name": "#%%\n"
    }
   }
  },
  {
   "cell_type": "code",
   "execution_count": 12,
   "outputs": [
    {
     "data": {
      "text/plain": "DatetimeIndex(['2013-04-02', '2013-04-03', '2013-04-04', '2013-04-05',\n               '2013-04-06', '2013-04-07', '2013-04-08', '2013-04-09',\n               '2013-04-10', '2013-04-11',\n               ...\n               '2021-06-15', '2021-06-16', '2021-06-17', '2021-06-18',\n               '2021-06-19', '2021-06-20', '2021-06-21', '2021-06-22',\n               '2021-06-23', '2021-06-24'],\n              dtype='datetime64[ns]', name='date', length=3006, freq=None)"
     },
     "execution_count": 12,
     "metadata": {},
     "output_type": "execute_result"
    }
   ],
   "source": [
    "date_index = prices_from_feather.index.get_level_values('date')\n",
    "date_index.unique()"
   ],
   "metadata": {
    "collapsed": false,
    "pycharm": {
     "name": "#%%\n"
    }
   }
  },
  {
   "cell_type": "code",
   "execution_count": 13,
   "outputs": [
    {
     "name": "stdout",
     "output_type": "stream",
     "text": [
      "                                        open          high           low  \\\n",
      "date       ticker  symbol base                                             \n",
      "2013-04-02 btc-usd btc    usd      93.250000    105.900002     92.499992   \n",
      "2013-04-03 btc-usd btc    usd     104.000000    118.386703     99.000000   \n",
      "2013-04-04 btc-usd btc    usd     117.958260    146.880005    101.510880   \n",
      "2013-04-05 btc-usd btc    usd     133.530533    143.000000    119.000000   \n",
      "2013-04-06 btc-usd btc    usd     130.100006    145.000000    128.250000   \n",
      "...                                      ...           ...           ...   \n",
      "2021-06-24 xsn-usd xsn    usd       0.182340      0.197270      0.166000   \n",
      "           xtz-usd xtz    usd       2.373800      2.784900      2.286800   \n",
      "           xvg-usd xvg    usd       0.020681      0.023498      0.020106   \n",
      "           yfi-usd yfi    usd   28685.000000  32392.000000  27747.000000   \n",
      "           zec-usd zec    usd     106.389999    117.540001    102.910004   \n",
      "\n",
      "                                       close         volume  \n",
      "date       ticker  symbol base                               \n",
      "2013-04-02 btc-usd btc    usd      93.250000    5224.401313  \n",
      "2013-04-03 btc-usd btc    usd     104.000000    8376.527478  \n",
      "2013-04-04 btc-usd btc    usd     117.958260   13021.245072  \n",
      "2013-04-05 btc-usd btc    usd     133.530533    6956.668305  \n",
      "2013-04-06 btc-usd btc    usd     130.100006    5234.882203  \n",
      "...                                      ...            ...  \n",
      "2021-06-24 xsn-usd xsn    usd       0.182340  144941.922209  \n",
      "           xtz-usd xtz    usd       2.373800  461742.073182  \n",
      "           xvg-usd xvg    usd       0.020681  934333.803174  \n",
      "           yfi-usd yfi    usd   28685.000000      12.335453  \n",
      "           zec-usd zec    usd     106.389999    5705.368315  \n",
      "\n",
      "[123118 rows x 5 columns]\n"
     ]
    }
   ],
   "source": [
    "print(prices_from_feather)"
   ],
   "metadata": {
    "collapsed": false,
    "pycharm": {
     "name": "#%%\n"
    }
   }
  },
  {
   "cell_type": "code",
   "execution_count": 14,
   "outputs": [
    {
     "data": {
      "text/plain": "Index     980593\nopen      492472\nhigh      492472\nlow       492472\nclose     492472\nvolume    984944\ndtype: int64"
     },
     "execution_count": 14,
     "metadata": {},
     "output_type": "execute_result"
    }
   ],
   "source": [
    "prices.memory_usage(deep=True)"
   ],
   "metadata": {
    "collapsed": false,
    "pycharm": {
     "name": "#%%\n"
    }
   }
  },
  {
   "cell_type": "code",
   "execution_count": 14,
   "outputs": [],
   "source": [],
   "metadata": {
    "collapsed": false,
    "pycharm": {
     "name": "#%%\n"
    }
   }
  },
  {
   "cell_type": "code",
   "execution_count": 14,
   "outputs": [],
   "source": [],
   "metadata": {
    "collapsed": false,
    "pycharm": {
     "name": "#%%\n"
    }
   }
  },
  {
   "cell_type": "markdown",
   "id": "friendly-wireless",
   "metadata": {
    "pycharm": {
     "name": "#%% md\n"
    }
   },
   "source": [
    "https://zaxrosenberg.com/pandas-multiindex-tutorial/"
   ]
  }
 ],
 "metadata": {
  "kernelspec": {
   "name": "python3",
   "language": "python",
   "display_name": "Python 3"
  },
  "language_info": {
   "codemirror_mode": {
    "name": "ipython",
    "version": 3
   },
   "file_extension": ".py",
   "mimetype": "text/x-python",
   "name": "python",
   "nbconvert_exporter": "python",
   "pygments_lexer": "ipython3",
   "version": "3.8.8"
  }
 },
 "nbformat": 4,
 "nbformat_minor": 5
}