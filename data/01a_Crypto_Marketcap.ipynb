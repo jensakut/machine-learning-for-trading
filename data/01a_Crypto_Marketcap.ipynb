{
 "cells": [
  {
   "cell_type": "markdown",
   "id": "musical-globe",
   "metadata": {},
   "source": [
    "# Market Cap\n",
    "\n",
    "- load coinmarketcap data \n",
    "- create an crypto equivalent of \"stocks\" with marketcap, IPO, sector \n",
    "\n"
   ]
  },
  {
   "cell_type": "code",
   "execution_count": 1,
   "id": "dietary-lindsay",
   "metadata": {},
   "outputs": [],
   "source": [
    "import time\n",
    "import random\n",
    "import pandas as pd\n",
    "from tqdm import tqdm\n",
    "from pycoingecko import CoinGeckoAPI\n",
    "cg = CoinGeckoAPI()\n",
    "import numpy as np"
   ]
  },
  {
   "cell_type": "code",
   "execution_count": 2,
   "id": "unavailable-louisiana",
   "metadata": {},
   "outputs": [
    {
     "data": {
      "text/plain": "                  market_cap\nid                          \nbitcoin         851165633926\nethereum        408663307732\nbinancecoin      81684939616\nripple           77810326837\ncardano          67995769831\n...                      ...\nicon              1263863907\npirate-chain      1234724958\npaxos-standard    1232338318\nstaked-ether      1228398282\ntrue-usd          1198425385\n\n[100 rows x 1 columns]",
      "text/html": "<div>\n<style scoped>\n    .dataframe tbody tr th:only-of-type {\n        vertical-align: middle;\n    }\n\n    .dataframe tbody tr th {\n        vertical-align: top;\n    }\n\n    .dataframe thead th {\n        text-align: right;\n    }\n</style>\n<table border=\"1\" class=\"dataframe\">\n  <thead>\n    <tr style=\"text-align: right;\">\n      <th></th>\n      <th>market_cap</th>\n    </tr>\n    <tr>\n      <th>id</th>\n      <th></th>\n    </tr>\n  </thead>\n  <tbody>\n    <tr>\n      <th>bitcoin</th>\n      <td>851165633926</td>\n    </tr>\n    <tr>\n      <th>ethereum</th>\n      <td>408663307732</td>\n    </tr>\n    <tr>\n      <th>binancecoin</th>\n      <td>81684939616</td>\n    </tr>\n    <tr>\n      <th>ripple</th>\n      <td>77810326837</td>\n    </tr>\n    <tr>\n      <th>cardano</th>\n      <td>67995769831</td>\n    </tr>\n    <tr>\n      <th>...</th>\n      <td>...</td>\n    </tr>\n    <tr>\n      <th>icon</th>\n      <td>1263863907</td>\n    </tr>\n    <tr>\n      <th>pirate-chain</th>\n      <td>1234724958</td>\n    </tr>\n    <tr>\n      <th>paxos-standard</th>\n      <td>1232338318</td>\n    </tr>\n    <tr>\n      <th>staked-ether</th>\n      <td>1228398282</td>\n    </tr>\n    <tr>\n      <th>true-usd</th>\n      <td>1198425385</td>\n    </tr>\n  </tbody>\n</table>\n<p>100 rows × 1 columns</p>\n</div>"
     },
     "execution_count": 2,
     "metadata": {},
     "output_type": "execute_result"
    }
   ],
   "source": [
    "# get top 100 coins from coingecko \n",
    "\n",
    "top_100_coins = cg.get_coins_markets(vs_currency='usd')\n",
    "\n",
    "top_100_coins_df = pd.DataFrame(top_100_coins)\n",
    "top_100_coins_df.set_index('id',inplace=True)\n",
    "col_list = ['market_cap', ]\n",
    "top_100_coins_df = top_100_coins_df.loc[:, col_list]\n",
    "\n",
    "top_100_coins_list = top_100_coins_df.index.tolist()\n",
    "\n",
    "\n",
    "top_100_coins_df"
   ]
  },
  {
   "cell_type": "code",
   "execution_count": 3,
   "id": "biological-freight",
   "metadata": {},
   "outputs": [
    {
     "name": "stderr",
     "output_type": "stream",
     "text": [
      "100%|██████████| 100/100 [06:58<00:00,  4.18s/it]\n"
     ]
    }
   ],
   "source": [
    "# for each coin id get detailed information and store it into a market_df\n",
    "\n",
    "market = []\n",
    "raw_data = []\n",
    "for idx in tqdm(top_100_coins_list):\n",
    "    coin = cg.get_coin_by_id(id=idx, localization=False, vs_currencies='usd',include_market_cap=False,\n",
    "                             include_24hr_vol=False,include_24hr_change=False,include_last_updated_at=False)\n",
    "    raw_data.append(coin)\n",
    "    coin_info = [idx]\n",
    "    coin_info.append(coin['symbol'])\n",
    "    coin_info.append(str(coin['name']))\n",
    "    coin_info.append(coin['genesis_date'])\n",
    "    coin_info.append(coin['market_cap_rank'])\n",
    "    coin_info.append(str(coin['hashing_algorithm']))\n",
    "    coin_info.append(coin['coingecko_rank'])\n",
    "    coin_info.append(coin['coingecko_score'])\n",
    "    coin_info.append(coin['developer_score'])\n",
    "    coin_info.append(coin['community_score'])\n",
    "    coin_info.append(coin['liquidity_score'])\n",
    "    coin_info.append(coin['public_interest_score'])\n",
    "    market.append(coin_info)\n",
    "    time.sleep(random.randint(0, 5))\n",
    "    \n",
    "market_df = pd.DataFrame(market, columns = ['id', 'symbol', 'name', 'genesis_date',\n",
    "                                            'market_cap_rank', 'hashing_algorithm', \n",
    "                                            'coingecko_rank', 'coingecko_score', 'developer_score', 'community_score', \n",
    "                                            'liquidity_score', 'public_interest_score'])\n",
    "    \n",
    "market_df['genesis_date'] = pd.to_datetime(market_df['genesis_date'])\n",
    "market_df['base'] = 'usd'"
   ]
  },
  {
   "cell_type": "code",
   "execution_count": 4,
   "id": "ongoing-elimination",
   "metadata": {},
   "outputs": [],
   "source": [
    "# combine the information into the market\n",
    "\n",
    "market = top_100_coins_df.merge(market_df, on='id')\n",
    "\n",
    "market.set_index(['symbol', 'base'], inplace=True)"
   ]
  },
  {
   "cell_type": "code",
   "execution_count": 5,
   "outputs": [
    {
     "name": "stdout",
     "output_type": "stream",
     "text": [
      "<class 'pandas.core.frame.DataFrame'>\n",
      "MultiIndex: 100 entries, ('btc', 'usd') to ('tusd', 'usd')\n",
      "Data columns (total 12 columns):\n",
      " #   Column                 Non-Null Count  Dtype         \n",
      "---  ------                 --------------  -----         \n",
      " 0   id                     100 non-null    object        \n",
      " 1   market_cap             100 non-null    int64         \n",
      " 2   name                   100 non-null    object        \n",
      " 3   genesis_date           37 non-null     datetime64[ns]\n",
      " 4   market_cap_rank        100 non-null    int64         \n",
      " 5   hashing_algorithm      100 non-null    object        \n",
      " 6   coingecko_rank         100 non-null    int64         \n",
      " 7   coingecko_score        100 non-null    float64       \n",
      " 8   developer_score        100 non-null    float64       \n",
      " 9   community_score        100 non-null    float64       \n",
      " 10  liquidity_score        100 non-null    float64       \n",
      " 11  public_interest_score  100 non-null    float64       \n",
      "dtypes: datetime64[ns](1), float64(5), int64(3), object(3)\n",
      "memory usage: 14.6+ KB\n",
      "<class 'pandas.core.frame.DataFrame'>\n",
      "MultiIndex: 100 entries, ('btc', 'usd') to ('tusd', 'usd')\n",
      "Data columns (total 12 columns):\n",
      " #   Column                 Non-Null Count  Dtype         \n",
      "---  ------                 --------------  -----         \n",
      " 0   id                     100 non-null    object        \n",
      " 1   market_cap             100 non-null    int64         \n",
      " 2   name                   100 non-null    object        \n",
      " 3   genesis_date           37 non-null     datetime64[ns]\n",
      " 4   market_cap_rank        100 non-null    int64         \n",
      " 5   hashing_algorithm      100 non-null    object        \n",
      " 6   coingecko_rank         100 non-null    int64         \n",
      " 7   coingecko_score        100 non-null    float64       \n",
      " 8   developer_score        100 non-null    float64       \n",
      " 9   community_score        100 non-null    float64       \n",
      " 10  liquidity_score        100 non-null    float64       \n",
      " 11  public_interest_score  100 non-null    float64       \n",
      "dtypes: datetime64[ns](1), float64(5), int64(3), object(3)\n",
      "memory usage: 14.6+ KB\n"
     ]
    }
   ],
   "source": [
    "# todo figure out why name and hasing algorithm are object and not string\n",
    "market.info()\n",
    "market['name'] = market['name'].astype(str)\n",
    "market['hashing_algorithm'] = market['hashing_algorithm'].astype(str)\n",
    "market.info()"
   ],
   "metadata": {
    "collapsed": false,
    "pycharm": {
     "name": "#%%\n"
    }
   }
  },
  {
   "cell_type": "code",
   "execution_count": 6,
   "id": "complex-behavior",
   "metadata": {},
   "outputs": [
    {
     "data": {
      "text/plain": "                       id    market_cap          name genesis_date  \\\nsymbol base                                                          \nbtc    usd        bitcoin  851165633926       Bitcoin   2009-01-03   \neth    usd       ethereum  408663307732      Ethereum   2015-07-30   \nbnb    usd    binancecoin   81684939616  Binance Coin   2017-07-08   \nxrp    usd         ripple   77810326837           XRP          NaT   \nada    usd        cardano   67995769831       Cardano          NaT   \ndoge   usd       dogecoin   64856353213      Dogecoin   2013-12-08   \nusdt   usd         tether   58412066592        Tether          NaT   \ndot    usd       polkadot   40717651579      Polkadot          NaT   \nbch    usd   bitcoin-cash   21680014041  Bitcoin Cash          NaT   \nltc    usd       litecoin   21118986771      Litecoin   2011-10-08   \n\n             market_cap_rank hashing_algorithm  coingecko_rank  \\\nsymbol base                                                      \nbtc    usd                 1           SHA-256               2   \neth    usd                 2            Ethash               3   \nbnb    usd                 3              None               5   \nxrp    usd                 4              None               9   \nada    usd                 5              None               6   \ndoge   usd                 6            Scrypt               4   \nusdt   usd                 7              None             156   \ndot    usd                 8              None             139   \nbch    usd                 9           SHA-256             118   \nltc    usd                10            Scrypt              11   \n\n             coingecko_score  developer_score  community_score  \\\nsymbol base                                                      \nbtc    usd            81.149           98.874           74.606   \neth    usd            78.085           97.194           65.231   \nbnb    usd            67.430           73.243           66.596   \nxrp    usd            65.219           71.122           54.329   \nada    usd            66.641           70.441           61.873   \ndoge   usd            72.983           77.948           81.160   \nusdt   usd            41.764            0.000           10.712   \ndot    usd            43.098            0.000           42.842   \nbch    usd            44.919            0.000           47.911   \nltc    usd            64.352           73.349           52.351   \n\n             liquidity_score  public_interest_score  \nsymbol base                                          \nbtc    usd           100.084                    0.0  \neth    usd            99.843                    0.0  \nbnb    usd            80.872                    0.0  \nxrp    usd            86.490                    0.0  \nada    usd            86.307                    0.0  \ndoge   usd            87.606                    0.0  \nusdt   usd           106.774                    0.0  \ndot    usd            79.419                    0.0  \nbch    usd            85.319                    0.0  \nltc    usd            86.037                    0.0  ",
      "text/html": "<div>\n<style scoped>\n    .dataframe tbody tr th:only-of-type {\n        vertical-align: middle;\n    }\n\n    .dataframe tbody tr th {\n        vertical-align: top;\n    }\n\n    .dataframe thead th {\n        text-align: right;\n    }\n</style>\n<table border=\"1\" class=\"dataframe\">\n  <thead>\n    <tr style=\"text-align: right;\">\n      <th></th>\n      <th></th>\n      <th>id</th>\n      <th>market_cap</th>\n      <th>name</th>\n      <th>genesis_date</th>\n      <th>market_cap_rank</th>\n      <th>hashing_algorithm</th>\n      <th>coingecko_rank</th>\n      <th>coingecko_score</th>\n      <th>developer_score</th>\n      <th>community_score</th>\n      <th>liquidity_score</th>\n      <th>public_interest_score</th>\n    </tr>\n    <tr>\n      <th>symbol</th>\n      <th>base</th>\n      <th></th>\n      <th></th>\n      <th></th>\n      <th></th>\n      <th></th>\n      <th></th>\n      <th></th>\n      <th></th>\n      <th></th>\n      <th></th>\n      <th></th>\n      <th></th>\n    </tr>\n  </thead>\n  <tbody>\n    <tr>\n      <th>btc</th>\n      <th>usd</th>\n      <td>bitcoin</td>\n      <td>851165633926</td>\n      <td>Bitcoin</td>\n      <td>2009-01-03</td>\n      <td>1</td>\n      <td>SHA-256</td>\n      <td>2</td>\n      <td>81.149</td>\n      <td>98.874</td>\n      <td>74.606</td>\n      <td>100.084</td>\n      <td>0.0</td>\n    </tr>\n    <tr>\n      <th>eth</th>\n      <th>usd</th>\n      <td>ethereum</td>\n      <td>408663307732</td>\n      <td>Ethereum</td>\n      <td>2015-07-30</td>\n      <td>2</td>\n      <td>Ethash</td>\n      <td>3</td>\n      <td>78.085</td>\n      <td>97.194</td>\n      <td>65.231</td>\n      <td>99.843</td>\n      <td>0.0</td>\n    </tr>\n    <tr>\n      <th>bnb</th>\n      <th>usd</th>\n      <td>binancecoin</td>\n      <td>81684939616</td>\n      <td>Binance Coin</td>\n      <td>2017-07-08</td>\n      <td>3</td>\n      <td>None</td>\n      <td>5</td>\n      <td>67.430</td>\n      <td>73.243</td>\n      <td>66.596</td>\n      <td>80.872</td>\n      <td>0.0</td>\n    </tr>\n    <tr>\n      <th>xrp</th>\n      <th>usd</th>\n      <td>ripple</td>\n      <td>77810326837</td>\n      <td>XRP</td>\n      <td>NaT</td>\n      <td>4</td>\n      <td>None</td>\n      <td>9</td>\n      <td>65.219</td>\n      <td>71.122</td>\n      <td>54.329</td>\n      <td>86.490</td>\n      <td>0.0</td>\n    </tr>\n    <tr>\n      <th>ada</th>\n      <th>usd</th>\n      <td>cardano</td>\n      <td>67995769831</td>\n      <td>Cardano</td>\n      <td>NaT</td>\n      <td>5</td>\n      <td>None</td>\n      <td>6</td>\n      <td>66.641</td>\n      <td>70.441</td>\n      <td>61.873</td>\n      <td>86.307</td>\n      <td>0.0</td>\n    </tr>\n    <tr>\n      <th>doge</th>\n      <th>usd</th>\n      <td>dogecoin</td>\n      <td>64856353213</td>\n      <td>Dogecoin</td>\n      <td>2013-12-08</td>\n      <td>6</td>\n      <td>Scrypt</td>\n      <td>4</td>\n      <td>72.983</td>\n      <td>77.948</td>\n      <td>81.160</td>\n      <td>87.606</td>\n      <td>0.0</td>\n    </tr>\n    <tr>\n      <th>usdt</th>\n      <th>usd</th>\n      <td>tether</td>\n      <td>58412066592</td>\n      <td>Tether</td>\n      <td>NaT</td>\n      <td>7</td>\n      <td>None</td>\n      <td>156</td>\n      <td>41.764</td>\n      <td>0.000</td>\n      <td>10.712</td>\n      <td>106.774</td>\n      <td>0.0</td>\n    </tr>\n    <tr>\n      <th>dot</th>\n      <th>usd</th>\n      <td>polkadot</td>\n      <td>40717651579</td>\n      <td>Polkadot</td>\n      <td>NaT</td>\n      <td>8</td>\n      <td>None</td>\n      <td>139</td>\n      <td>43.098</td>\n      <td>0.000</td>\n      <td>42.842</td>\n      <td>79.419</td>\n      <td>0.0</td>\n    </tr>\n    <tr>\n      <th>bch</th>\n      <th>usd</th>\n      <td>bitcoin-cash</td>\n      <td>21680014041</td>\n      <td>Bitcoin Cash</td>\n      <td>NaT</td>\n      <td>9</td>\n      <td>SHA-256</td>\n      <td>118</td>\n      <td>44.919</td>\n      <td>0.000</td>\n      <td>47.911</td>\n      <td>85.319</td>\n      <td>0.0</td>\n    </tr>\n    <tr>\n      <th>ltc</th>\n      <th>usd</th>\n      <td>litecoin</td>\n      <td>21118986771</td>\n      <td>Litecoin</td>\n      <td>2011-10-08</td>\n      <td>10</td>\n      <td>Scrypt</td>\n      <td>11</td>\n      <td>64.352</td>\n      <td>73.349</td>\n      <td>52.351</td>\n      <td>86.037</td>\n      <td>0.0</td>\n    </tr>\n  </tbody>\n</table>\n</div>"
     },
     "execution_count": 6,
     "metadata": {},
     "output_type": "execute_result"
    }
   ],
   "source": [
    "market.head(10)"
   ]
  },
  {
   "cell_type": "code",
   "execution_count": 7,
   "id": "killing-jones",
   "metadata": {},
   "outputs": [
    {
     "data": {
      "text/plain": "<bound method IndexOpsMixin.tolist of MultiIndex([(     'btc', 'usd'),\n            (     'eth', 'usd'),\n            (     'bnb', 'usd'),\n            (     'xrp', 'usd'),\n            (     'ada', 'usd'),\n            (    'doge', 'usd'),\n            (    'usdt', 'usd'),\n            (     'dot', 'usd'),\n            (     'bch', 'usd'),\n            (     'ltc', 'usd'),\n            (     'uni', 'usd'),\n            (    'link', 'usd'),\n            (    'usdc', 'usd'),\n            (     'xlm', 'usd'),\n            (     'sol', 'usd'),\n            (   'matic', 'usd'),\n            (     'etc', 'usd'),\n            (     'vet', 'usd'),\n            (   'theta', 'usd'),\n            (     'eos', 'usd'),\n            (     'trx', 'usd'),\n            (    'shib', 'usd'),\n            (    'aave', 'usd'),\n            (    'wbtc', 'usd'),\n            (    'busd', 'usd'),\n            (     'okb', 'usd'),\n            (     'fil', 'usd'),\n            (     'neo', 'usd'),\n            (     'xmr', 'usd'),\n            (    'luna', 'usd'),\n            (     'bsv', 'usd'),\n            (    'klay', 'usd'),\n            (    'ceth', 'usd'),\n            (    'atom', 'usd'),\n            (   'miota', 'usd'),\n            (     'ksm', 'usd'),\n            (      'ht', 'usd'),\n            (    'rune', 'usd'),\n            (     'xtz', 'usd'),\n            (    'AVAX', 'usd'),\n            (    'cake', 'usd'),\n            (     'dai', 'usd'),\n            (     'ftt', 'usd'),\n            ('safemoon', 'usd'),\n            (     'mkr', 'usd'),\n            (    'cdai', 'usd'),\n            (    'algo', 'usd'),\n            (   'cusdc', 'usd'),\n            (     'cro', 'usd'),\n            (     'btt', 'usd'),\n            (    'comp', 'usd'),\n            (     'snx', 'usd'),\n            (   'sushi', 'usd'),\n            (    'dash', 'usd'),\n            (     'leo', 'usd'),\n            (   'waves', 'usd'),\n            (     'zec', 'usd'),\n            (     'cel', 'usd'),\n            (     'xem', 'usd'),\n            (     'yfi', 'usd'),\n            (    'egld', 'usd'),\n            (     'tel', 'usd'),\n            (    'hbar', 'usd'),\n            (     'dcr', 'usd'),\n            (     'chz', 'usd'),\n            (    'near', 'usd'),\n            (     'zil', 'usd'),\n            (     'amp', 'usd'),\n            (     'ust', 'usd'),\n            (     'hot', 'usd'),\n            (    'qtum', 'usd'),\n            (     'enj', 'usd'),\n            (    'nexo', 'usd'),\n            (     'bat', 'usd'),\n            (     'btg', 'usd'),\n            (     'ftm', 'usd'),\n            (    'mana', 'usd'),\n            (     'ont', 'usd'),\n            (     'one', 'usd'),\n            (     'grt', 'usd'),\n            (     'stx', 'usd'),\n            (     'dgb', 'usd'),\n            (    'lusd', 'usd'),\n            (    'hbtc', 'usd'),\n            (     'uma', 'usd'),\n            (    'nano', 'usd'),\n            (     'zrx', 'usd'),\n            (  'xsushi', 'usd'),\n            (      'sc', 'usd'),\n            (     'bnt', 'usd'),\n            (     'zen', 'usd'),\n            (     'crv', 'usd'),\n            (     'omg', 'usd'),\n            (      'gt', 'usd'),\n            (     'hnt', 'usd'),\n            (     'icx', 'usd'),\n            (    'arrr', 'usd'),\n            (     'pax', 'usd'),\n            (   'steth', 'usd'),\n            (    'tusd', 'usd')],\n           names=['symbol', 'base'])>"
     },
     "execution_count": 7,
     "metadata": {},
     "output_type": "execute_result"
    }
   ],
   "source": [
    "market.index.tolist"
   ]
  },
  {
   "cell_type": "markdown",
   "id": "lightweight-herald",
   "metadata": {},
   "source": [
    "## Create categorical data from raw data and store in seperate data frame"
   ]
  },
  {
   "cell_type": "code",
   "execution_count": 8,
   "id": "actual-messenger",
   "metadata": {},
   "outputs": [
    {
     "name": "stdout",
     "output_type": "stream",
     "text": [
      "['Analytics' 'Artificial Intelligence' 'Asset-backed Tokens'\n",
      " 'Automated Market Maker (AMM)' 'Avalanche Ecosystem'\n",
      " 'Binance Smart Chain Ecosystem' 'Business Platform' 'Business Services'\n",
      " 'Centralized Exchange Token (CEX)' 'Communication' 'Compound Tokens'\n",
      " 'Cosmos Ecosystem' 'Cryptocurrency' 'Decentralized Exchange Token (DEX)'\n",
      " 'Decentralized Finance (DeFi)' 'Derivatives' 'Entertainment'\n",
      " 'Eth 2.0 Staking' 'Exchange-based Tokens' 'Finance / Banking' 'Gaming'\n",
      " 'Governance' 'Infrastructure' 'Internet of Things (IOT)'\n",
      " 'Lending/Borrowing' 'Masternodes' 'Meme Tokens' 'Metaverse'\n",
      " 'Near Protocol Ecosystem' 'Non-Fungible Tokens (NFT)' 'Oracle'\n",
      " 'Polkadot Ecosystem' 'Polygon Ecosystem' 'Privacy Coins' 'Protocol'\n",
      " 'Seigniorage' 'Smart Contract Platform' 'Solana Ecosystem' 'Sports'\n",
      " 'Stablecoins' 'Storage' 'Synthetic Issuer' 'Terra Ecosystem'\n",
      " 'Tokenized BTC' 'USD Stablecoin' 'Wrapped-Tokens' 'Yearn Ecosystem'\n",
      " 'Yield Aggregator' 'Yield Farming']\n",
      "{'btc': ['Cryptocurrency'], 'eth': ['Smart Contract Platform'], 'bnb': ['Centralized Exchange Token (CEX)', 'Binance Smart Chain Ecosystem', 'Exchange-based Tokens'], 'xrp': ['Cryptocurrency'], 'ada': ['Smart Contract Platform'], 'doge': ['Meme Tokens', 'Cryptocurrency'], 'usdt': ['USD Stablecoin', 'Stablecoins'], 'dot': ['Polkadot Ecosystem'], 'bch': ['Cryptocurrency'], 'ltc': ['Cryptocurrency'], 'uni': ['Decentralized Exchange Token (DEX)', 'Automated Market Maker (AMM)', 'Yield Farming', 'Decentralized Finance (DeFi)', 'Governance', 'Exchange-based Tokens'], 'link': ['Solana Ecosystem', 'Near Protocol Ecosystem', 'Polygon Ecosystem', 'Business Services', 'Infrastructure', 'Smart Contract Platform', 'Polkadot Ecosystem', 'Decentralized Finance (DeFi)', 'Oracle'], 'usdc': ['USD Stablecoin', 'Stablecoins'], 'xlm': ['Cryptocurrency', 'Smart Contract Platform'], 'sol': ['Solana Ecosystem', 'Smart Contract Platform'], 'matic': ['Polygon Ecosystem'], 'etc': ['Smart Contract Platform'], 'vet': ['Internet of Things (IOT)', 'Artificial Intelligence', 'Business Platform'], 'theta': ['Entertainment', 'Non-Fungible Tokens (NFT)'], 'eos': ['Smart Contract Platform'], 'trx': ['Smart Contract Platform'], 'shib': ['Meme Tokens'], 'aave': ['Lending/Borrowing', 'Near Protocol Ecosystem', 'Polygon Ecosystem', 'Yield Farming', 'Decentralized Finance (DeFi)', 'Governance'], 'wbtc': ['Wrapped-Tokens', 'Tokenized BTC'], 'busd': ['USD Stablecoin', 'Binance Smart Chain Ecosystem', 'Stablecoins'], 'okb': ['Centralized Exchange Token (CEX)', 'Exchange-based Tokens'], 'fil': ['Infrastructure', 'Storage'], 'neo': ['Smart Contract Platform'], 'xmr': ['Privacy Coins'], 'luna': ['Cosmos Ecosystem', 'Terra Ecosystem', 'Decentralized Finance (DeFi)'], 'bsv': [], 'klay': [], 'ceth': ['Finance / Banking', 'Decentralized Finance (DeFi)', 'Compound Tokens', 'Asset-backed Tokens'], 'atom': ['Cosmos Ecosystem', 'Cryptocurrency'], 'miota': ['Internet of Things (IOT)', 'Smart Contract Platform'], 'ksm': ['Polkadot Ecosystem'], 'ht': ['Centralized Exchange Token (CEX)', 'Exchange-based Tokens'], 'rune': ['Cosmos Ecosystem', 'Decentralized Exchange Token (DEX)', 'Infrastructure', 'Decentralized Finance (DeFi)', 'Exchange-based Tokens'], 'xtz': ['Smart Contract Platform'], 'AVAX': ['Avalanche Ecosystem', 'Smart Contract Platform'], 'cake': ['Decentralized Exchange Token (DEX)', 'Automated Market Maker (AMM)', 'Yield Farming', 'Binance Smart Chain Ecosystem', 'Decentralized Finance (DeFi)', 'Governance', 'Exchange-based Tokens'], 'dai': ['USD Stablecoin', 'Decentralized Finance (DeFi)', 'Stablecoins'], 'ftt': ['Centralized Exchange Token (CEX)', 'Exchange-based Tokens'], 'safemoon': [], 'mkr': ['Lending/Borrowing', 'Near Protocol Ecosystem', 'Decentralized Finance (DeFi)', 'Governance'], 'cdai': ['Decentralized Finance (DeFi)', 'Compound Tokens', 'Asset-backed Tokens'], 'algo': ['Cryptocurrency', 'Smart Contract Platform'], 'cusdc': ['Finance / Banking', 'Decentralized Finance (DeFi)', 'Compound Tokens', 'Asset-backed Tokens'], 'cro': ['Cosmos Ecosystem', 'Centralized Exchange Token (CEX)', 'Exchange-based Tokens'], 'btt': ['Protocol', 'Storage'], 'comp': ['Lending/Borrowing', 'Yield Farming', 'Decentralized Finance (DeFi)', 'Governance'], 'snx': ['Derivatives', 'Decentralized Exchange Token (DEX)', 'Synthetic Issuer', 'Yield Farming', 'Decentralized Finance (DeFi)', 'Governance', 'Exchange-based Tokens'], 'sushi': ['Yearn Ecosystem', 'Decentralized Exchange Token (DEX)', 'Polygon Ecosystem', 'Automated Market Maker (AMM)', 'Yield Farming', 'Decentralized Finance (DeFi)', 'Governance', 'Exchange-based Tokens'], 'dash': ['Cryptocurrency', 'Masternodes', 'Privacy Coins'], 'leo': ['Centralized Exchange Token (CEX)', 'Exchange-based Tokens'], 'waves': ['Solana Ecosystem', 'Smart Contract Platform'], 'zec': ['Privacy Coins'], 'cel': ['Business Services'], 'xem': ['Smart Contract Platform'], 'yfi': ['Yearn Ecosystem', 'Yield Aggregator', 'Yield Farming', 'Decentralized Finance (DeFi)', 'Governance'], 'egld': ['Protocol', 'Smart Contract Platform'], 'tel': [], 'hbar': ['Protocol'], 'dcr': ['Cryptocurrency', 'Governance', 'Privacy Coins'], 'chz': ['Non-Fungible Tokens (NFT)', 'Sports'], 'near': ['Smart Contract Platform'], 'zil': ['Smart Contract Platform'], 'amp': [], 'ust': ['Seigniorage', 'Terra Ecosystem', 'USD Stablecoin', 'Stablecoins'], 'hot': ['Smart Contract Platform', 'Storage'], 'qtum': ['Smart Contract Platform'], 'enj': ['Entertainment', 'Non-Fungible Tokens (NFT)', 'Gaming'], 'nexo': ['Finance / Banking'], 'bat': [], 'btg': ['Cryptocurrency'], 'ftm': ['Infrastructure', 'Smart Contract Platform'], 'mana': ['Metaverse', 'Polygon Ecosystem', 'Entertainment', 'Non-Fungible Tokens (NFT)'], 'ont': ['Near Protocol Ecosystem', 'Smart Contract Platform', 'Binance Smart Chain Ecosystem', 'Polkadot Ecosystem'], 'one': ['Protocol', 'Smart Contract Platform'], 'grt': ['Solana Ecosystem', 'Near Protocol Ecosystem', 'Polygon Ecosystem', 'Business Services', 'Infrastructure', 'Binance Smart Chain Ecosystem', 'Decentralized Finance (DeFi)', 'Analytics'], 'stx': ['Infrastructure'], 'dgb': ['Internet of Things (IOT)', 'Artificial Intelligence', 'Cryptocurrency', 'Smart Contract Platform', 'Privacy Coins'], 'lusd': ['USD Stablecoin', 'Decentralized Finance (DeFi)', 'Stablecoins'], 'hbtc': ['Tokenized BTC'], 'uma': ['Derivatives', 'Finance / Banking', 'Synthetic Issuer', 'Polygon Ecosystem', 'Business Services', 'Decentralized Finance (DeFi)', 'Governance'], 'nano': ['Cryptocurrency'], 'zrx': ['Decentralized Exchange Token (DEX)', 'Protocol', 'Polkadot Ecosystem', 'Decentralized Finance (DeFi)', 'Governance'], 'xsushi': ['Yearn Ecosystem', 'Decentralized Exchange Token (DEX)', 'Decentralized Finance (DeFi)', 'Governance'], 'sc': ['Near Protocol Ecosystem', 'Storage'], 'bnt': ['Decentralized Exchange Token (DEX)', 'Automated Market Maker (AMM)', 'Decentralized Finance (DeFi)', 'Exchange-based Tokens'], 'zen': ['Masternodes', 'Privacy Coins'], 'crv': ['Decentralized Exchange Token (DEX)', 'Polygon Ecosystem', 'Automated Market Maker (AMM)', 'Yield Farming', 'Decentralized Finance (DeFi)', 'Governance', 'Exchange-based Tokens'], 'omg': ['Smart Contract Platform'], 'gt': ['Centralized Exchange Token (CEX)', 'Exchange-based Tokens'], 'hnt': ['Communication'], 'icx': ['Smart Contract Platform'], 'arrr': ['Privacy Coins'], 'pax': ['USD Stablecoin', 'Stablecoins'], 'steth': ['Eth 2.0 Staking', 'Decentralized Finance (DeFi)'], 'tusd': ['Avalanche Ecosystem', 'USD Stablecoin', 'Stablecoins']}\n"
     ]
    },
    {
     "data": {
      "text/plain": "             Analytics  Artificial Intelligence  Asset-backed Tokens  \\\nsymbol base                                                            \nbtc    usd           0                        0                    0   \neth    usd           0                        0                    0   \nbnb    usd           0                        0                    0   \nxrp    usd           0                        0                    0   \nada    usd           0                        0                    0   \n...                ...                      ...                  ...   \nicx    usd           0                        0                    0   \narrr   usd           0                        0                    0   \npax    usd           0                        0                    0   \nsteth  usd           0                        0                    0   \ntusd   usd           0                        0                    0   \n\n             Automated Market Maker (AMM)  Avalanche Ecosystem  \\\nsymbol base                                                      \nbtc    usd                              0                    0   \neth    usd                              0                    0   \nbnb    usd                              0                    0   \nxrp    usd                              0                    0   \nada    usd                              0                    0   \n...                                   ...                  ...   \nicx    usd                              0                    0   \narrr   usd                              0                    0   \npax    usd                              0                    0   \nsteth  usd                              0                    0   \ntusd   usd                              0                    1   \n\n             Binance Smart Chain Ecosystem  Business Platform  \\\nsymbol base                                                     \nbtc    usd                               0                  0   \neth    usd                               0                  0   \nbnb    usd                               1                  0   \nxrp    usd                               0                  0   \nada    usd                               0                  0   \n...                                    ...                ...   \nicx    usd                               0                  0   \narrr   usd                               0                  0   \npax    usd                               0                  0   \nsteth  usd                               0                  0   \ntusd   usd                               0                  0   \n\n             Business Services  Centralized Exchange Token (CEX)  \\\nsymbol base                                                        \nbtc    usd                   0                                 0   \neth    usd                   0                                 0   \nbnb    usd                   0                                 1   \nxrp    usd                   0                                 0   \nada    usd                   0                                 0   \n...                        ...                               ...   \nicx    usd                   0                                 0   \narrr   usd                   0                                 0   \npax    usd                   0                                 0   \nsteth  usd                   0                                 0   \ntusd   usd                   0                                 0   \n\n             Communication  ...  Stablecoins  Storage  Synthetic Issuer  \\\nsymbol base                 ...                                           \nbtc    usd               0  ...            0        0                 0   \neth    usd               0  ...            0        0                 0   \nbnb    usd               0  ...            0        0                 0   \nxrp    usd               0  ...            0        0                 0   \nada    usd               0  ...            0        0                 0   \n...                    ...  ...          ...      ...               ...   \nicx    usd               0  ...            0        0                 0   \narrr   usd               0  ...            0        0                 0   \npax    usd               0  ...            1        0                 0   \nsteth  usd               0  ...            0        0                 0   \ntusd   usd               0  ...            1        0                 0   \n\n             Terra Ecosystem  Tokenized BTC  USD Stablecoin  Wrapped-Tokens  \\\nsymbol base                                                                   \nbtc    usd                 0              0               0               0   \neth    usd                 0              0               0               0   \nbnb    usd                 0              0               0               0   \nxrp    usd                 0              0               0               0   \nada    usd                 0              0               0               0   \n...                      ...            ...             ...             ...   \nicx    usd                 0              0               0               0   \narrr   usd                 0              0               0               0   \npax    usd                 0              0               1               0   \nsteth  usd                 0              0               0               0   \ntusd   usd                 0              0               1               0   \n\n             Yearn Ecosystem  Yield Aggregator  Yield Farming  \nsymbol base                                                    \nbtc    usd                 0                 0              0  \neth    usd                 0                 0              0  \nbnb    usd                 0                 0              0  \nxrp    usd                 0                 0              0  \nada    usd                 0                 0              0  \n...                      ...               ...            ...  \nicx    usd                 0                 0              0  \narrr   usd                 0                 0              0  \npax    usd                 0                 0              0  \nsteth  usd                 0                 0              0  \ntusd   usd                 0                 0              0  \n\n[100 rows x 49 columns]",
      "text/html": "<div>\n<style scoped>\n    .dataframe tbody tr th:only-of-type {\n        vertical-align: middle;\n    }\n\n    .dataframe tbody tr th {\n        vertical-align: top;\n    }\n\n    .dataframe thead th {\n        text-align: right;\n    }\n</style>\n<table border=\"1\" class=\"dataframe\">\n  <thead>\n    <tr style=\"text-align: right;\">\n      <th></th>\n      <th></th>\n      <th>Analytics</th>\n      <th>Artificial Intelligence</th>\n      <th>Asset-backed Tokens</th>\n      <th>Automated Market Maker (AMM)</th>\n      <th>Avalanche Ecosystem</th>\n      <th>Binance Smart Chain Ecosystem</th>\n      <th>Business Platform</th>\n      <th>Business Services</th>\n      <th>Centralized Exchange Token (CEX)</th>\n      <th>Communication</th>\n      <th>...</th>\n      <th>Stablecoins</th>\n      <th>Storage</th>\n      <th>Synthetic Issuer</th>\n      <th>Terra Ecosystem</th>\n      <th>Tokenized BTC</th>\n      <th>USD Stablecoin</th>\n      <th>Wrapped-Tokens</th>\n      <th>Yearn Ecosystem</th>\n      <th>Yield Aggregator</th>\n      <th>Yield Farming</th>\n    </tr>\n    <tr>\n      <th>symbol</th>\n      <th>base</th>\n      <th></th>\n      <th></th>\n      <th></th>\n      <th></th>\n      <th></th>\n      <th></th>\n      <th></th>\n      <th></th>\n      <th></th>\n      <th></th>\n      <th></th>\n      <th></th>\n      <th></th>\n      <th></th>\n      <th></th>\n      <th></th>\n      <th></th>\n      <th></th>\n      <th></th>\n      <th></th>\n      <th></th>\n    </tr>\n  </thead>\n  <tbody>\n    <tr>\n      <th>btc</th>\n      <th>usd</th>\n      <td>0</td>\n      <td>0</td>\n      <td>0</td>\n      <td>0</td>\n      <td>0</td>\n      <td>0</td>\n      <td>0</td>\n      <td>0</td>\n      <td>0</td>\n      <td>0</td>\n      <td>...</td>\n      <td>0</td>\n      <td>0</td>\n      <td>0</td>\n      <td>0</td>\n      <td>0</td>\n      <td>0</td>\n      <td>0</td>\n      <td>0</td>\n      <td>0</td>\n      <td>0</td>\n    </tr>\n    <tr>\n      <th>eth</th>\n      <th>usd</th>\n      <td>0</td>\n      <td>0</td>\n      <td>0</td>\n      <td>0</td>\n      <td>0</td>\n      <td>0</td>\n      <td>0</td>\n      <td>0</td>\n      <td>0</td>\n      <td>0</td>\n      <td>...</td>\n      <td>0</td>\n      <td>0</td>\n      <td>0</td>\n      <td>0</td>\n      <td>0</td>\n      <td>0</td>\n      <td>0</td>\n      <td>0</td>\n      <td>0</td>\n      <td>0</td>\n    </tr>\n    <tr>\n      <th>bnb</th>\n      <th>usd</th>\n      <td>0</td>\n      <td>0</td>\n      <td>0</td>\n      <td>0</td>\n      <td>0</td>\n      <td>1</td>\n      <td>0</td>\n      <td>0</td>\n      <td>1</td>\n      <td>0</td>\n      <td>...</td>\n      <td>0</td>\n      <td>0</td>\n      <td>0</td>\n      <td>0</td>\n      <td>0</td>\n      <td>0</td>\n      <td>0</td>\n      <td>0</td>\n      <td>0</td>\n      <td>0</td>\n    </tr>\n    <tr>\n      <th>xrp</th>\n      <th>usd</th>\n      <td>0</td>\n      <td>0</td>\n      <td>0</td>\n      <td>0</td>\n      <td>0</td>\n      <td>0</td>\n      <td>0</td>\n      <td>0</td>\n      <td>0</td>\n      <td>0</td>\n      <td>...</td>\n      <td>0</td>\n      <td>0</td>\n      <td>0</td>\n      <td>0</td>\n      <td>0</td>\n      <td>0</td>\n      <td>0</td>\n      <td>0</td>\n      <td>0</td>\n      <td>0</td>\n    </tr>\n    <tr>\n      <th>ada</th>\n      <th>usd</th>\n      <td>0</td>\n      <td>0</td>\n      <td>0</td>\n      <td>0</td>\n      <td>0</td>\n      <td>0</td>\n      <td>0</td>\n      <td>0</td>\n      <td>0</td>\n      <td>0</td>\n      <td>...</td>\n      <td>0</td>\n      <td>0</td>\n      <td>0</td>\n      <td>0</td>\n      <td>0</td>\n      <td>0</td>\n      <td>0</td>\n      <td>0</td>\n      <td>0</td>\n      <td>0</td>\n    </tr>\n    <tr>\n      <th>...</th>\n      <th>...</th>\n      <td>...</td>\n      <td>...</td>\n      <td>...</td>\n      <td>...</td>\n      <td>...</td>\n      <td>...</td>\n      <td>...</td>\n      <td>...</td>\n      <td>...</td>\n      <td>...</td>\n      <td>...</td>\n      <td>...</td>\n      <td>...</td>\n      <td>...</td>\n      <td>...</td>\n      <td>...</td>\n      <td>...</td>\n      <td>...</td>\n      <td>...</td>\n      <td>...</td>\n      <td>...</td>\n    </tr>\n    <tr>\n      <th>icx</th>\n      <th>usd</th>\n      <td>0</td>\n      <td>0</td>\n      <td>0</td>\n      <td>0</td>\n      <td>0</td>\n      <td>0</td>\n      <td>0</td>\n      <td>0</td>\n      <td>0</td>\n      <td>0</td>\n      <td>...</td>\n      <td>0</td>\n      <td>0</td>\n      <td>0</td>\n      <td>0</td>\n      <td>0</td>\n      <td>0</td>\n      <td>0</td>\n      <td>0</td>\n      <td>0</td>\n      <td>0</td>\n    </tr>\n    <tr>\n      <th>arrr</th>\n      <th>usd</th>\n      <td>0</td>\n      <td>0</td>\n      <td>0</td>\n      <td>0</td>\n      <td>0</td>\n      <td>0</td>\n      <td>0</td>\n      <td>0</td>\n      <td>0</td>\n      <td>0</td>\n      <td>...</td>\n      <td>0</td>\n      <td>0</td>\n      <td>0</td>\n      <td>0</td>\n      <td>0</td>\n      <td>0</td>\n      <td>0</td>\n      <td>0</td>\n      <td>0</td>\n      <td>0</td>\n    </tr>\n    <tr>\n      <th>pax</th>\n      <th>usd</th>\n      <td>0</td>\n      <td>0</td>\n      <td>0</td>\n      <td>0</td>\n      <td>0</td>\n      <td>0</td>\n      <td>0</td>\n      <td>0</td>\n      <td>0</td>\n      <td>0</td>\n      <td>...</td>\n      <td>1</td>\n      <td>0</td>\n      <td>0</td>\n      <td>0</td>\n      <td>0</td>\n      <td>1</td>\n      <td>0</td>\n      <td>0</td>\n      <td>0</td>\n      <td>0</td>\n    </tr>\n    <tr>\n      <th>steth</th>\n      <th>usd</th>\n      <td>0</td>\n      <td>0</td>\n      <td>0</td>\n      <td>0</td>\n      <td>0</td>\n      <td>0</td>\n      <td>0</td>\n      <td>0</td>\n      <td>0</td>\n      <td>0</td>\n      <td>...</td>\n      <td>0</td>\n      <td>0</td>\n      <td>0</td>\n      <td>0</td>\n      <td>0</td>\n      <td>0</td>\n      <td>0</td>\n      <td>0</td>\n      <td>0</td>\n      <td>0</td>\n    </tr>\n    <tr>\n      <th>tusd</th>\n      <th>usd</th>\n      <td>0</td>\n      <td>0</td>\n      <td>0</td>\n      <td>0</td>\n      <td>1</td>\n      <td>0</td>\n      <td>0</td>\n      <td>0</td>\n      <td>0</td>\n      <td>0</td>\n      <td>...</td>\n      <td>1</td>\n      <td>0</td>\n      <td>0</td>\n      <td>0</td>\n      <td>0</td>\n      <td>1</td>\n      <td>0</td>\n      <td>0</td>\n      <td>0</td>\n      <td>0</td>\n    </tr>\n  </tbody>\n</table>\n<p>100 rows × 49 columns</p>\n</div>"
     },
     "execution_count": 8,
     "metadata": {},
     "output_type": "execute_result"
    }
   ],
   "source": [
    "def categorical_dict_to_np(cat_dict, unique_cats):\n",
    "    # create array of symbols and categoricals \n",
    "    cat_np = np.zeros((len(cat_dict), len(unique_cats)), dtype=int)\n",
    "    for ii, [key, values] in enumerate(cat_dict.items()): \n",
    "        for value in values: \n",
    "            idx = np.where(unique_cats == value)\n",
    "            # print(\"{} is on idx {}\".format(value, idx))\n",
    "            cat_np[ii][idx] = 1\n",
    "        assert(np.sum(cat_np[ii]) == len(values))\n",
    "    return cat_np\n",
    "\n",
    "\n",
    "def create_cat_dict(raw_data): \n",
    "    cat_dict = {}\n",
    "    cat_list = []\n",
    "    symbols = []\n",
    "    max_len_cat = 0\n",
    "    for coin in raw_data:\n",
    "        categories = coin['categories']\n",
    "        symbol = coin['symbol']\n",
    "        cat_dict[symbol] = coin['categories']\n",
    "        cat_list.extend(categories)\n",
    "        symbols.append(symbol)\n",
    "        max_len_cat = max(max_len_cat, len(coin['categories']))\n",
    "    \n",
    "    unique_cats = np.unique(cat_list)\n",
    "\n",
    "    return cat_dict, unique_cats, symbols\n",
    "\n",
    "def categoricals_from_raw_coingecko(raw_data): \n",
    "    cat_dict, unique_cats, symbols = create_cat_dict(raw_data)\n",
    "    \n",
    "    cat_np = categorical_dict_to_np(cat_dict, unique_cats)\n",
    "    \n",
    "    cat_df = pd.DataFrame(cat_np, columns=unique_cats)\n",
    "    cat_df['symbol'] = symbols\n",
    "    cat_df['base'] = 'usd'\n",
    "\n",
    "    cat_df.set_index(['symbol', 'base'], inplace=True)\n",
    "    print(unique_cats)\n",
    "    print(cat_dict)\n",
    "    return cat_df\n",
    "    \n",
    "cat_df = categoricals_from_raw_coingecko(raw_data)\n",
    "cat_df"
   ]
  },
  {
   "cell_type": "code",
   "execution_count": 9,
   "id": "attractive-likelihood",
   "metadata": {},
   "outputs": [
    {
     "name": "stdout",
     "output_type": "stream",
     "text": [
      "done\n"
     ]
    }
   ],
   "source": [
    "DATA_STORE = '../data/crypto.h5'\n",
    "with pd.HDFStore(DATA_STORE) as store:\n",
    "    store.put('coingecko/top100/market', market)\n",
    "    store.put('coingecko/top100/cats', cat_df)\n",
    "print(\"done\")"
   ]
  },
  {
   "cell_type": "code",
   "execution_count": 9,
   "id": "unknown-wagner",
   "metadata": {},
   "outputs": [],
   "source": []
  },
  {
   "cell_type": "code",
   "execution_count": 9,
   "id": "ancient-vegetable",
   "metadata": {},
   "outputs": [],
   "source": []
  },
  {
   "cell_type": "code",
   "execution_count": 9,
   "id": "hairy-undergraduate",
   "metadata": {},
   "outputs": [],
   "source": []
  }
 ],
 "metadata": {
  "kernelspec": {
   "name": "python3",
   "language": "python",
   "display_name": "Python 3"
  },
  "language_info": {
   "codemirror_mode": {
    "name": "ipython",
    "version": 3
   },
   "file_extension": ".py",
   "mimetype": "text/x-python",
   "name": "python",
   "nbconvert_exporter": "python",
   "pygments_lexer": "ipython3",
   "version": "3.8.8"
  }
 },
 "nbformat": 4,
 "nbformat_minor": 5
}