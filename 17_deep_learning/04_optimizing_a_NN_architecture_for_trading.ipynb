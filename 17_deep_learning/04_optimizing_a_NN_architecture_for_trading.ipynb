{
 "cells": [
  {
   "cell_type": "markdown",
   "metadata": {},
   "source": [
    "# Train a Deep NN to predict Asset Price returns"
   ]
  },
  {
   "cell_type": "markdown",
   "metadata": {},
   "source": [
    "In practice, we need to explore variations of the design options outlined above because we can rarely be sure from the outset which network architecture best suits the data.\n",
    "\n",
    "In this section, we will explore various options to build a simple feedforward Neural Network to predict asset price returns for a one-day horizon."
   ]
  },
  {
   "cell_type": "markdown",
   "metadata": {},
   "source": [
    "## Imports & Settings"
   ]
  },
  {
   "cell_type": "code",
   "execution_count": 57,
   "metadata": {
    "ExecuteTime": {
     "end_time": "2021-02-23T05:45:38.291434Z",
     "start_time": "2021-02-23T05:45:38.289510Z"
    }
   },
   "outputs": [],
   "source": [
    "import warnings\n",
    "\n",
    "from keras.callbacks import TensorBoard\n",
    "from keras.regularizers import L1L2\n",
    "from tqdm import tqdm\n",
    "\n",
    "warnings.filterwarnings('ignore')"
   ]
  },
  {
   "cell_type": "code",
   "execution_count": 58,
   "metadata": {
    "ExecuteTime": {
     "end_time": "2021-02-23T05:45:39.954191Z",
     "start_time": "2021-02-23T05:45:38.293938Z"
    }
   },
   "outputs": [],
   "source": [
    "%matplotlib inline\n",
    "\n",
    "import os, sys\n",
    "from ast import literal_eval as make_tuple\n",
    "from time import time\n",
    "from pathlib import Path\n",
    "from itertools import product\n",
    "import numpy as np\n",
    "import pandas as pd\n",
    "import matplotlib.pyplot as plt\n",
    "import statsmodels.api as sm\n",
    "from scipy.stats import spearmanr\n",
    "import seaborn as sns\n",
    "\n",
    "from sklearn.preprocessing import StandardScaler\n",
    "\n",
    "import tensorflow as tf\n",
    "from tensorflow.keras.models import Sequential\n",
    "from tensorflow.keras.layers import Dense, Dropout, Activation, BatchNormalization"
   ]
  },
  {
   "cell_type": "code",
   "execution_count": 59,
   "metadata": {
    "ExecuteTime": {
     "end_time": "2021-02-23T05:45:39.958084Z",
     "start_time": "2021-02-23T05:45:39.955234Z"
    }
   },
   "outputs": [
    {
     "name": "stdout",
     "output_type": "stream",
     "text": [
      "Using GPU\n"
     ]
    }
   ],
   "source": [
    "train_nn = True\n",
    "ols = True\n",
    "gpu_devices = tf.config.experimental.list_physical_devices('GPU')\n",
    "if gpu_devices:\n",
    "    print('Using GPU')\n",
    "    tf.config.experimental.set_memory_growth(gpu_devices[0], True)\n",
    "else:\n",
    "    print('Using CPU')"
   ]
  },
  {
   "cell_type": "code",
   "execution_count": 60,
   "metadata": {
    "ExecuteTime": {
     "end_time": "2021-02-23T05:45:39.968456Z",
     "start_time": "2021-02-23T05:45:39.959253Z"
    }
   },
   "outputs": [],
   "source": [
    "sys.path.insert(1, os.path.join(sys.path[0], '..'))\n",
    "from utils import MultipleTimeSeriesCV, calculate_splits, reduce_footprint"
   ]
  },
  {
   "cell_type": "code",
   "execution_count": 61,
   "metadata": {
    "ExecuteTime": {
     "end_time": "2021-02-23T05:45:39.992331Z",
     "start_time": "2021-02-23T05:45:39.969458Z"
    }
   },
   "outputs": [],
   "source": [
    "np.random.seed(42)\n",
    "sns.set_style('whitegrid')\n",
    "idx = pd.IndexSlice"
   ]
  },
  {
   "cell_type": "code",
   "execution_count": 62,
   "metadata": {
    "ExecuteTime": {
     "end_time": "2021-02-23T05:45:40.012549Z",
     "start_time": "2021-02-23T05:45:40.006305Z"
    }
   },
   "outputs": [],
   "source": [
    "results_path = Path('results_D_144_ncut_1yrs')\n",
    "if not results_path.exists():\n",
    "    results_path.mkdir()\n",
    "    \n",
    "checkpoint_path = results_path / 'logs'"
   ]
  },
  {
   "cell_type": "markdown",
   "metadata": {},
   "source": [
    "## Create a stock return series to predict asset price moves"
   ]
  },
  {
   "cell_type": "markdown",
   "metadata": {},
   "source": [
    "To develop our trading strategy, we use the daily stock returns for some 995 US stocks for the eight year period from 2010 to 2017, and the features developed in Chapter 12 that include volatility and momentum factors as well as lagged returns with cross-sectional and sectoral rankings."
   ]
  },
  {
   "cell_type": "code",
   "execution_count": 63,
   "metadata": {
    "ExecuteTime": {
     "end_time": "2021-02-23T05:45:42.078013Z",
     "start_time": "2021-02-23T05:45:40.014012Z"
    }
   },
   "outputs": [
    {
     "data": {
      "text/plain": "                                  rsi   bb_high    bb_low       NATR  \\\ndate       offset ticker                                               \n2013-05-03 10     btc-usd   45.195717  0.333876  0.226540  42.895950   \n           15     btc-usd   44.996559  0.339432  0.227344  43.202477   \n           20     btc-usd   44.665878  0.343619  0.223756  43.594116   \n           25     btc-usd   44.785118  0.344467  0.227588  43.588852   \n           30     btc-usd   44.907230  0.341647  0.224152  43.305061   \n...                               ...       ...       ...        ...   \n2021-06-20 865    xtz-usd   37.321785  0.268150 -0.006974  15.573627   \n           870    algo-usd  39.315731  0.212823 -0.036147  13.992373   \n                  chz-usd   42.134048  0.249972  0.110645  19.293007   \n                  leo-usd   47.955723  0.118094  0.078177   8.692143   \n                  wbtc-usd  37.396915  0.183451  0.016238  11.874786   \n\n                                 ATR       PPO      MACD  sector       r01  \\\ndate       offset ticker                                                     \n2013-05-03 10     btc-usd  -0.460349  4.349795 -0.133858       0 -0.081482   \n           15     btc-usd  -0.460884  4.068254 -0.134630       0 -0.065331   \n           20     btc-usd  -0.461162  3.673091 -0.135154       0 -0.083011   \n           25     btc-usd  -0.461271  3.307914 -0.135503       0 -0.074871   \n           30     btc-usd  -0.461130  3.000095 -0.135549       0 -0.077694   \n...                              ...       ...       ...     ...       ...   \n2021-06-20 865    xtz-usd   1.150429 -6.237974 -1.917071       1 -0.084538   \n           870    algo-usd  0.682024  1.954638 -0.619354       0 -0.070389   \n                  chz-usd   1.036831  3.956850 -0.538907       2 -0.123368   \n                  leo-usd   2.824224  1.499576 -0.429611       2 -0.032668   \n                  wbtc-usd  1.280465  1.249398 -1.348212       2 -0.044022   \n\n                                 r02  ...  r03dec  r01q_sector  r02q_sector  \\\ndate       offset ticker              ...                                     \n2013-05-03 10     btc-usd  -0.136415  ...     0.0          0.0          1.0   \n           15     btc-usd  -0.146862  ...     0.0          0.0          1.0   \n           20     btc-usd  -0.142226  ...     0.0          0.0          1.0   \n           25     btc-usd  -0.139922  ...     0.0          0.0          1.0   \n           30     btc-usd  -0.136460  ...     0.0          0.0          1.0   \n...                              ...  ...     ...          ...          ...   \n2021-06-20 865    xtz-usd  -0.133996  ...     2.0          1.0          1.0   \n           870    algo-usd -0.121663  ...     1.0          1.0          1.0   \n                  chz-usd  -0.183621  ...     1.0          0.0          0.0   \n                  leo-usd  -0.027579  ...     2.0          2.0          2.0   \n                  wbtc-usd -0.093304  ...     2.0          2.0          1.0   \n\n                            r03q_sector   r01_fwd   r02_fwd   r03_fwd  year  \\\ndate       offset ticker                                                      \n2013-05-03 10     btc-usd           0.0  0.132056  0.175000  0.125605  2013   \n           15     btc-usd           0.0  0.150816  0.179490  0.139388  2013   \n           20     btc-usd           0.0  0.158610  0.205149  0.163234  2013   \n           25     btc-usd           0.0  0.152595  0.191413  0.162582  2013   \n           30     btc-usd           0.0  0.153925  0.192714  0.157307  2013   \n...                                 ...       ...       ...       ...   ...   \n2021-06-20 865    xtz-usd           2.0 -0.190210 -0.015421 -0.012735  2021   \n           870    algo-usd          1.0 -0.174125  0.007268  0.009506  2021   \n                  chz-usd           1.0 -0.225372 -0.014524 -0.005949  2021   \n                  leo-usd           2.0 -0.051671 -0.003739 -0.010541  2021   \n                  wbtc-usd          2.0 -0.083188  0.041487  0.058541  2021   \n\n                            month  weekday  \ndate       offset ticker                    \n2013-05-03 10     btc-usd       5        4  \n           15     btc-usd       5        4  \n           20     btc-usd       5        4  \n           25     btc-usd       5        4  \n           30     btc-usd       5        4  \n...                           ...      ...  \n2021-06-20 865    xtz-usd       6        6  \n           870    algo-usd      6        6  \n                  chz-usd       6        6  \n                  leo-usd       6        6  \n                  wbtc-usd      6        6  \n\n[11211158 rows x 23 columns]",
      "text/html": "<div>\n<style scoped>\n    .dataframe tbody tr th:only-of-type {\n        vertical-align: middle;\n    }\n\n    .dataframe tbody tr th {\n        vertical-align: top;\n    }\n\n    .dataframe thead th {\n        text-align: right;\n    }\n</style>\n<table border=\"1\" class=\"dataframe\">\n  <thead>\n    <tr style=\"text-align: right;\">\n      <th></th>\n      <th></th>\n      <th></th>\n      <th>rsi</th>\n      <th>bb_high</th>\n      <th>bb_low</th>\n      <th>NATR</th>\n      <th>ATR</th>\n      <th>PPO</th>\n      <th>MACD</th>\n      <th>sector</th>\n      <th>r01</th>\n      <th>r02</th>\n      <th>...</th>\n      <th>r03dec</th>\n      <th>r01q_sector</th>\n      <th>r02q_sector</th>\n      <th>r03q_sector</th>\n      <th>r01_fwd</th>\n      <th>r02_fwd</th>\n      <th>r03_fwd</th>\n      <th>year</th>\n      <th>month</th>\n      <th>weekday</th>\n    </tr>\n    <tr>\n      <th>date</th>\n      <th>offset</th>\n      <th>ticker</th>\n      <th></th>\n      <th></th>\n      <th></th>\n      <th></th>\n      <th></th>\n      <th></th>\n      <th></th>\n      <th></th>\n      <th></th>\n      <th></th>\n      <th></th>\n      <th></th>\n      <th></th>\n      <th></th>\n      <th></th>\n      <th></th>\n      <th></th>\n      <th></th>\n      <th></th>\n      <th></th>\n      <th></th>\n    </tr>\n  </thead>\n  <tbody>\n    <tr>\n      <th rowspan=\"5\" valign=\"top\">2013-05-03</th>\n      <th>10</th>\n      <th>btc-usd</th>\n      <td>45.195717</td>\n      <td>0.333876</td>\n      <td>0.226540</td>\n      <td>42.895950</td>\n      <td>-0.460349</td>\n      <td>4.349795</td>\n      <td>-0.133858</td>\n      <td>0</td>\n      <td>-0.081482</td>\n      <td>-0.136415</td>\n      <td>...</td>\n      <td>0.0</td>\n      <td>0.0</td>\n      <td>1.0</td>\n      <td>0.0</td>\n      <td>0.132056</td>\n      <td>0.175000</td>\n      <td>0.125605</td>\n      <td>2013</td>\n      <td>5</td>\n      <td>4</td>\n    </tr>\n    <tr>\n      <th>15</th>\n      <th>btc-usd</th>\n      <td>44.996559</td>\n      <td>0.339432</td>\n      <td>0.227344</td>\n      <td>43.202477</td>\n      <td>-0.460884</td>\n      <td>4.068254</td>\n      <td>-0.134630</td>\n      <td>0</td>\n      <td>-0.065331</td>\n      <td>-0.146862</td>\n      <td>...</td>\n      <td>0.0</td>\n      <td>0.0</td>\n      <td>1.0</td>\n      <td>0.0</td>\n      <td>0.150816</td>\n      <td>0.179490</td>\n      <td>0.139388</td>\n      <td>2013</td>\n      <td>5</td>\n      <td>4</td>\n    </tr>\n    <tr>\n      <th>20</th>\n      <th>btc-usd</th>\n      <td>44.665878</td>\n      <td>0.343619</td>\n      <td>0.223756</td>\n      <td>43.594116</td>\n      <td>-0.461162</td>\n      <td>3.673091</td>\n      <td>-0.135154</td>\n      <td>0</td>\n      <td>-0.083011</td>\n      <td>-0.142226</td>\n      <td>...</td>\n      <td>0.0</td>\n      <td>0.0</td>\n      <td>1.0</td>\n      <td>0.0</td>\n      <td>0.158610</td>\n      <td>0.205149</td>\n      <td>0.163234</td>\n      <td>2013</td>\n      <td>5</td>\n      <td>4</td>\n    </tr>\n    <tr>\n      <th>25</th>\n      <th>btc-usd</th>\n      <td>44.785118</td>\n      <td>0.344467</td>\n      <td>0.227588</td>\n      <td>43.588852</td>\n      <td>-0.461271</td>\n      <td>3.307914</td>\n      <td>-0.135503</td>\n      <td>0</td>\n      <td>-0.074871</td>\n      <td>-0.139922</td>\n      <td>...</td>\n      <td>0.0</td>\n      <td>0.0</td>\n      <td>1.0</td>\n      <td>0.0</td>\n      <td>0.152595</td>\n      <td>0.191413</td>\n      <td>0.162582</td>\n      <td>2013</td>\n      <td>5</td>\n      <td>4</td>\n    </tr>\n    <tr>\n      <th>30</th>\n      <th>btc-usd</th>\n      <td>44.907230</td>\n      <td>0.341647</td>\n      <td>0.224152</td>\n      <td>43.305061</td>\n      <td>-0.461130</td>\n      <td>3.000095</td>\n      <td>-0.135549</td>\n      <td>0</td>\n      <td>-0.077694</td>\n      <td>-0.136460</td>\n      <td>...</td>\n      <td>0.0</td>\n      <td>0.0</td>\n      <td>1.0</td>\n      <td>0.0</td>\n      <td>0.153925</td>\n      <td>0.192714</td>\n      <td>0.157307</td>\n      <td>2013</td>\n      <td>5</td>\n      <td>4</td>\n    </tr>\n    <tr>\n      <th>...</th>\n      <th>...</th>\n      <th>...</th>\n      <td>...</td>\n      <td>...</td>\n      <td>...</td>\n      <td>...</td>\n      <td>...</td>\n      <td>...</td>\n      <td>...</td>\n      <td>...</td>\n      <td>...</td>\n      <td>...</td>\n      <td>...</td>\n      <td>...</td>\n      <td>...</td>\n      <td>...</td>\n      <td>...</td>\n      <td>...</td>\n      <td>...</td>\n      <td>...</td>\n      <td>...</td>\n      <td>...</td>\n      <td>...</td>\n    </tr>\n    <tr>\n      <th rowspan=\"5\" valign=\"top\">2021-06-20</th>\n      <th>865</th>\n      <th>xtz-usd</th>\n      <td>37.321785</td>\n      <td>0.268150</td>\n      <td>-0.006974</td>\n      <td>15.573627</td>\n      <td>1.150429</td>\n      <td>-6.237974</td>\n      <td>-1.917071</td>\n      <td>1</td>\n      <td>-0.084538</td>\n      <td>-0.133996</td>\n      <td>...</td>\n      <td>2.0</td>\n      <td>1.0</td>\n      <td>1.0</td>\n      <td>2.0</td>\n      <td>-0.190210</td>\n      <td>-0.015421</td>\n      <td>-0.012735</td>\n      <td>2021</td>\n      <td>6</td>\n      <td>6</td>\n    </tr>\n    <tr>\n      <th rowspan=\"4\" valign=\"top\">870</th>\n      <th>algo-usd</th>\n      <td>39.315731</td>\n      <td>0.212823</td>\n      <td>-0.036147</td>\n      <td>13.992373</td>\n      <td>0.682024</td>\n      <td>1.954638</td>\n      <td>-0.619354</td>\n      <td>0</td>\n      <td>-0.070389</td>\n      <td>-0.121663</td>\n      <td>...</td>\n      <td>1.0</td>\n      <td>1.0</td>\n      <td>1.0</td>\n      <td>1.0</td>\n      <td>-0.174125</td>\n      <td>0.007268</td>\n      <td>0.009506</td>\n      <td>2021</td>\n      <td>6</td>\n      <td>6</td>\n    </tr>\n    <tr>\n      <th>chz-usd</th>\n      <td>42.134048</td>\n      <td>0.249972</td>\n      <td>0.110645</td>\n      <td>19.293007</td>\n      <td>1.036831</td>\n      <td>3.956850</td>\n      <td>-0.538907</td>\n      <td>2</td>\n      <td>-0.123368</td>\n      <td>-0.183621</td>\n      <td>...</td>\n      <td>1.0</td>\n      <td>0.0</td>\n      <td>0.0</td>\n      <td>1.0</td>\n      <td>-0.225372</td>\n      <td>-0.014524</td>\n      <td>-0.005949</td>\n      <td>2021</td>\n      <td>6</td>\n      <td>6</td>\n    </tr>\n    <tr>\n      <th>leo-usd</th>\n      <td>47.955723</td>\n      <td>0.118094</td>\n      <td>0.078177</td>\n      <td>8.692143</td>\n      <td>2.824224</td>\n      <td>1.499576</td>\n      <td>-0.429611</td>\n      <td>2</td>\n      <td>-0.032668</td>\n      <td>-0.027579</td>\n      <td>...</td>\n      <td>2.0</td>\n      <td>2.0</td>\n      <td>2.0</td>\n      <td>2.0</td>\n      <td>-0.051671</td>\n      <td>-0.003739</td>\n      <td>-0.010541</td>\n      <td>2021</td>\n      <td>6</td>\n      <td>6</td>\n    </tr>\n    <tr>\n      <th>wbtc-usd</th>\n      <td>37.396915</td>\n      <td>0.183451</td>\n      <td>0.016238</td>\n      <td>11.874786</td>\n      <td>1.280465</td>\n      <td>1.249398</td>\n      <td>-1.348212</td>\n      <td>2</td>\n      <td>-0.044022</td>\n      <td>-0.093304</td>\n      <td>...</td>\n      <td>2.0</td>\n      <td>2.0</td>\n      <td>1.0</td>\n      <td>2.0</td>\n      <td>-0.083188</td>\n      <td>0.041487</td>\n      <td>0.058541</td>\n      <td>2021</td>\n      <td>6</td>\n      <td>6</td>\n    </tr>\n  </tbody>\n</table>\n<p>11211158 rows × 23 columns</p>\n</div>"
     },
     "execution_count": 63,
     "metadata": {},
     "output_type": "execute_result"
    }
   ],
   "source": [
    "multiindex_cols = ['date', 'offset', 'ticker']\n",
    "data_path = results_path / 'data.ftr'\n",
    "data = pd.read_feather(data_path).sort_index().set_index(multiindex_cols)\n",
    "data"
   ]
  },
  {
   "cell_type": "code",
   "execution_count": 64,
   "outputs": [
    {
     "data": {
      "text/plain": "                  rsi  bb_high  bb_low  NATR   ATR   PPO  MACD  sector   r01  \\\noffset ticker                                                                  \n0      algo-usd   698      698     698   698   698   698   698     698   698   \n       amp-usd    692      692     692   692   692   692   692     692   692   \n       atom-usd   755      755     755   755   755   755   755     755   755   \n       bat-usd   1227     1227    1227  1227  1227  1227  1227    1227  1227   \n       bnt-usd   1014     1014    1014  1014  1014  1014  1014    1014  1014   \n...               ...      ...     ...   ...   ...   ...   ...     ...   ...   \n1435   xlm-usd   1114     1114    1114  1114  1114  1114  1114    1114  1114   \n       xmr-usd   1631     1631    1631  1631  1631  1631  1631    1631  1631   \n       xrp-usd   1461     1461    1461  1461  1461  1461  1461    1461  1461   \n       xtz-usd    956      956     956   956   956   956   956     956   956   \n       zec-usd   1663     1663    1663  1663  1663  1663  1663    1663  1663   \n\n                  r02  ...  r03dec  r01q_sector  r02q_sector  r03q_sector  \\\noffset ticker          ...                                                  \n0      algo-usd   698  ...     698          698          698          698   \n       amp-usd    692  ...     692          692          692          692   \n       atom-usd   755  ...     755          755          755          755   \n       bat-usd   1227  ...    1227         1227         1227         1227   \n       bnt-usd   1014  ...    1014         1014         1014         1014   \n...               ...  ...     ...          ...          ...          ...   \n1435   xlm-usd   1114  ...    1114         1114         1114         1114   \n       xmr-usd   1631  ...    1631         1631         1631         1631   \n       xrp-usd   1461  ...    1461         1461         1461         1461   \n       xtz-usd    956  ...     956          956          956          956   \n       zec-usd   1663  ...    1663         1663         1663         1663   \n\n                 r01_fwd  r02_fwd  r03_fwd  year  month  weekday  \noffset ticker                                                     \n0      algo-usd      698      698      698   698    698      698  \n       amp-usd       692      692      692   692    692      692  \n       atom-usd      755      755      755   755    755      755  \n       bat-usd      1227     1227     1227  1227   1227     1227  \n       bnt-usd      1014     1014     1014  1014   1014     1014  \n...                  ...      ...      ...   ...    ...      ...  \n1435   xlm-usd      1114     1114     1114  1114   1114     1114  \n       xmr-usd      1631     1631     1631  1631   1631     1631  \n       xrp-usd      1461     1461     1461  1461   1461     1461  \n       xtz-usd       956      956      956   956    956      956  \n       zec-usd      1663     1663     1663  1663   1663     1663  \n\n[9216 rows x 23 columns]",
      "text/html": "<div>\n<style scoped>\n    .dataframe tbody tr th:only-of-type {\n        vertical-align: middle;\n    }\n\n    .dataframe tbody tr th {\n        vertical-align: top;\n    }\n\n    .dataframe thead th {\n        text-align: right;\n    }\n</style>\n<table border=\"1\" class=\"dataframe\">\n  <thead>\n    <tr style=\"text-align: right;\">\n      <th></th>\n      <th></th>\n      <th>rsi</th>\n      <th>bb_high</th>\n      <th>bb_low</th>\n      <th>NATR</th>\n      <th>ATR</th>\n      <th>PPO</th>\n      <th>MACD</th>\n      <th>sector</th>\n      <th>r01</th>\n      <th>r02</th>\n      <th>...</th>\n      <th>r03dec</th>\n      <th>r01q_sector</th>\n      <th>r02q_sector</th>\n      <th>r03q_sector</th>\n      <th>r01_fwd</th>\n      <th>r02_fwd</th>\n      <th>r03_fwd</th>\n      <th>year</th>\n      <th>month</th>\n      <th>weekday</th>\n    </tr>\n    <tr>\n      <th>offset</th>\n      <th>ticker</th>\n      <th></th>\n      <th></th>\n      <th></th>\n      <th></th>\n      <th></th>\n      <th></th>\n      <th></th>\n      <th></th>\n      <th></th>\n      <th></th>\n      <th></th>\n      <th></th>\n      <th></th>\n      <th></th>\n      <th></th>\n      <th></th>\n      <th></th>\n      <th></th>\n      <th></th>\n      <th></th>\n      <th></th>\n    </tr>\n  </thead>\n  <tbody>\n    <tr>\n      <th rowspan=\"5\" valign=\"top\">0</th>\n      <th>algo-usd</th>\n      <td>698</td>\n      <td>698</td>\n      <td>698</td>\n      <td>698</td>\n      <td>698</td>\n      <td>698</td>\n      <td>698</td>\n      <td>698</td>\n      <td>698</td>\n      <td>698</td>\n      <td>...</td>\n      <td>698</td>\n      <td>698</td>\n      <td>698</td>\n      <td>698</td>\n      <td>698</td>\n      <td>698</td>\n      <td>698</td>\n      <td>698</td>\n      <td>698</td>\n      <td>698</td>\n    </tr>\n    <tr>\n      <th>amp-usd</th>\n      <td>692</td>\n      <td>692</td>\n      <td>692</td>\n      <td>692</td>\n      <td>692</td>\n      <td>692</td>\n      <td>692</td>\n      <td>692</td>\n      <td>692</td>\n      <td>692</td>\n      <td>...</td>\n      <td>692</td>\n      <td>692</td>\n      <td>692</td>\n      <td>692</td>\n      <td>692</td>\n      <td>692</td>\n      <td>692</td>\n      <td>692</td>\n      <td>692</td>\n      <td>692</td>\n    </tr>\n    <tr>\n      <th>atom-usd</th>\n      <td>755</td>\n      <td>755</td>\n      <td>755</td>\n      <td>755</td>\n      <td>755</td>\n      <td>755</td>\n      <td>755</td>\n      <td>755</td>\n      <td>755</td>\n      <td>755</td>\n      <td>...</td>\n      <td>755</td>\n      <td>755</td>\n      <td>755</td>\n      <td>755</td>\n      <td>755</td>\n      <td>755</td>\n      <td>755</td>\n      <td>755</td>\n      <td>755</td>\n      <td>755</td>\n    </tr>\n    <tr>\n      <th>bat-usd</th>\n      <td>1227</td>\n      <td>1227</td>\n      <td>1227</td>\n      <td>1227</td>\n      <td>1227</td>\n      <td>1227</td>\n      <td>1227</td>\n      <td>1227</td>\n      <td>1227</td>\n      <td>1227</td>\n      <td>...</td>\n      <td>1227</td>\n      <td>1227</td>\n      <td>1227</td>\n      <td>1227</td>\n      <td>1227</td>\n      <td>1227</td>\n      <td>1227</td>\n      <td>1227</td>\n      <td>1227</td>\n      <td>1227</td>\n    </tr>\n    <tr>\n      <th>bnt-usd</th>\n      <td>1014</td>\n      <td>1014</td>\n      <td>1014</td>\n      <td>1014</td>\n      <td>1014</td>\n      <td>1014</td>\n      <td>1014</td>\n      <td>1014</td>\n      <td>1014</td>\n      <td>1014</td>\n      <td>...</td>\n      <td>1014</td>\n      <td>1014</td>\n      <td>1014</td>\n      <td>1014</td>\n      <td>1014</td>\n      <td>1014</td>\n      <td>1014</td>\n      <td>1014</td>\n      <td>1014</td>\n      <td>1014</td>\n    </tr>\n    <tr>\n      <th>...</th>\n      <th>...</th>\n      <td>...</td>\n      <td>...</td>\n      <td>...</td>\n      <td>...</td>\n      <td>...</td>\n      <td>...</td>\n      <td>...</td>\n      <td>...</td>\n      <td>...</td>\n      <td>...</td>\n      <td>...</td>\n      <td>...</td>\n      <td>...</td>\n      <td>...</td>\n      <td>...</td>\n      <td>...</td>\n      <td>...</td>\n      <td>...</td>\n      <td>...</td>\n      <td>...</td>\n      <td>...</td>\n    </tr>\n    <tr>\n      <th rowspan=\"5\" valign=\"top\">1435</th>\n      <th>xlm-usd</th>\n      <td>1114</td>\n      <td>1114</td>\n      <td>1114</td>\n      <td>1114</td>\n      <td>1114</td>\n      <td>1114</td>\n      <td>1114</td>\n      <td>1114</td>\n      <td>1114</td>\n      <td>1114</td>\n      <td>...</td>\n      <td>1114</td>\n      <td>1114</td>\n      <td>1114</td>\n      <td>1114</td>\n      <td>1114</td>\n      <td>1114</td>\n      <td>1114</td>\n      <td>1114</td>\n      <td>1114</td>\n      <td>1114</td>\n    </tr>\n    <tr>\n      <th>xmr-usd</th>\n      <td>1631</td>\n      <td>1631</td>\n      <td>1631</td>\n      <td>1631</td>\n      <td>1631</td>\n      <td>1631</td>\n      <td>1631</td>\n      <td>1631</td>\n      <td>1631</td>\n      <td>1631</td>\n      <td>...</td>\n      <td>1631</td>\n      <td>1631</td>\n      <td>1631</td>\n      <td>1631</td>\n      <td>1631</td>\n      <td>1631</td>\n      <td>1631</td>\n      <td>1631</td>\n      <td>1631</td>\n      <td>1631</td>\n    </tr>\n    <tr>\n      <th>xrp-usd</th>\n      <td>1461</td>\n      <td>1461</td>\n      <td>1461</td>\n      <td>1461</td>\n      <td>1461</td>\n      <td>1461</td>\n      <td>1461</td>\n      <td>1461</td>\n      <td>1461</td>\n      <td>1461</td>\n      <td>...</td>\n      <td>1461</td>\n      <td>1461</td>\n      <td>1461</td>\n      <td>1461</td>\n      <td>1461</td>\n      <td>1461</td>\n      <td>1461</td>\n      <td>1461</td>\n      <td>1461</td>\n      <td>1461</td>\n    </tr>\n    <tr>\n      <th>xtz-usd</th>\n      <td>956</td>\n      <td>956</td>\n      <td>956</td>\n      <td>956</td>\n      <td>956</td>\n      <td>956</td>\n      <td>956</td>\n      <td>956</td>\n      <td>956</td>\n      <td>956</td>\n      <td>...</td>\n      <td>956</td>\n      <td>956</td>\n      <td>956</td>\n      <td>956</td>\n      <td>956</td>\n      <td>956</td>\n      <td>956</td>\n      <td>956</td>\n      <td>956</td>\n      <td>956</td>\n    </tr>\n    <tr>\n      <th>zec-usd</th>\n      <td>1663</td>\n      <td>1663</td>\n      <td>1663</td>\n      <td>1663</td>\n      <td>1663</td>\n      <td>1663</td>\n      <td>1663</td>\n      <td>1663</td>\n      <td>1663</td>\n      <td>1663</td>\n      <td>...</td>\n      <td>1663</td>\n      <td>1663</td>\n      <td>1663</td>\n      <td>1663</td>\n      <td>1663</td>\n      <td>1663</td>\n      <td>1663</td>\n      <td>1663</td>\n      <td>1663</td>\n      <td>1663</td>\n    </tr>\n  </tbody>\n</table>\n<p>9216 rows × 23 columns</p>\n</div>"
     },
     "execution_count": 64,
     "metadata": {},
     "output_type": "execute_result"
    }
   ],
   "source": [
    "group_levels = ['offset', 'ticker']\n",
    "data.groupby(group_levels).count()"
   ],
   "metadata": {
    "collapsed": false,
    "pycharm": {
     "name": "#%%\n"
    }
   }
  },
  {
   "cell_type": "code",
   "execution_count": 65,
   "metadata": {},
   "outputs": [
    {
     "name": "stdout",
     "output_type": "stream",
     "text": [
      "<class 'pandas.core.frame.DataFrame'>\n",
      "MultiIndex: 11211158 entries, (Timestamp('2013-05-03 00:00:00'), 10, 'btc-usd') to (Timestamp('2021-06-20 00:00:00'), 870, 'wbtc-usd')\n",
      "Data columns (total 23 columns):\n",
      " #   Column       Non-Null Count     Dtype  \n",
      "---  ------       --------------     -----  \n",
      " 0   rsi          11211158 non-null  float32\n",
      " 1   bb_high      11211158 non-null  float32\n",
      " 2   bb_low       11211158 non-null  float32\n",
      " 3   NATR         11211158 non-null  float32\n",
      " 4   ATR          11211158 non-null  float32\n",
      " 5   PPO          11211158 non-null  float32\n",
      " 6   MACD         11211158 non-null  float32\n",
      " 7   sector       11211158 non-null  int16  \n",
      " 8   r01          11211158 non-null  float32\n",
      " 9   r02          11211158 non-null  float32\n",
      " 10  r03          11211158 non-null  float32\n",
      " 11  r01dec       11211158 non-null  float32\n",
      " 12  r02dec       11211158 non-null  float32\n",
      " 13  r03dec       11211158 non-null  float32\n",
      " 14  r01q_sector  11211158 non-null  float32\n",
      " 15  r02q_sector  11211158 non-null  float32\n",
      " 16  r03q_sector  11211158 non-null  float32\n",
      " 17  r01_fwd      11211158 non-null  float32\n",
      " 18  r02_fwd      11211158 non-null  float32\n",
      " 19  r03_fwd      11211158 non-null  float32\n",
      " 20  year         11211158 non-null  int16  \n",
      " 21  month        11211158 non-null  int16  \n",
      " 22  weekday      11211158 non-null  int16  \n",
      "dtypes: float32(19), int16(4)\n",
      "memory usage: 962.4 MB\n"
     ]
    }
   ],
   "source": [
    "data.info(show_counts=True)"
   ]
  },
  {
   "cell_type": "code",
   "execution_count": 66,
   "outputs": [
    {
     "data": {
      "text/plain": "(Timestamp('2013-05-03 00:00:00'), Timestamp('2021-06-20 00:00:00'))"
     },
     "execution_count": 66,
     "metadata": {},
     "output_type": "execute_result"
    }
   ],
   "source": [
    "dates= data.index.get_level_values('date')\n",
    "dates.min(), dates.max()"
   ],
   "metadata": {
    "collapsed": false,
    "pycharm": {
     "name": "#%%\n"
    }
   }
  },
  {
   "cell_type": "code",
   "execution_count": 67,
   "metadata": {
    "ExecuteTime": {
     "end_time": "2021-02-23T05:45:42.090238Z",
     "start_time": "2021-02-23T05:45:42.079584Z"
    }
   },
   "outputs": [],
   "source": [
    "outcomes = data.filter(like='fwd').columns.tolist()"
   ]
  },
  {
   "cell_type": "code",
   "execution_count": 68,
   "metadata": {
    "ExecuteTime": {
     "end_time": "2021-02-23T05:45:42.105424Z",
     "start_time": "2021-02-23T05:45:42.091504Z"
    }
   },
   "outputs": [],
   "source": [
    "lookahead = 1\n",
    "outcome = f'r{lookahead:02}_fwd'"
   ]
  },
  {
   "cell_type": "code",
   "execution_count": 69,
   "metadata": {
    "ExecuteTime": {
     "end_time": "2021-02-23T05:45:43.061968Z",
     "start_time": "2021-02-23T05:45:42.106337Z"
    }
   },
   "outputs": [],
   "source": [
    "data = data.swaplevel().sort_index()"
   ]
  },
  {
   "cell_type": "code",
   "execution_count": 70,
   "outputs": [
    {
     "data": {
      "text/plain": "((11211158, 20), (11211158,))"
     },
     "execution_count": 70,
     "metadata": {},
     "output_type": "execute_result"
    }
   ],
   "source": [
    "X_cv = data.drop(outcomes, axis=1)\n",
    "y_cv = data[outcome]\n",
    "X_cv.shape, y_cv.shape\n",
    "#X_cv = data.loc[idx[:, :'2021-3'], :].drop(outcomes, axis=1)\n",
    "#y_cv = data.loc[idx[:, :'2021-3'], outcome]\n",
    "#X_cv = data.loc[idx[:, :], :].drop(outcomes, axis=1)\n",
    "#y_cv = data.loc[idx[:, :], outcome]"
   ],
   "metadata": {
    "collapsed": false,
    "pycharm": {
     "name": "#%%\n"
    }
   }
  },
  {
   "cell_type": "code",
   "execution_count": 71,
   "outputs": [
    {
     "data": {
      "text/plain": "                                 rsi   bb_high    bb_low       NATR       ATR  \\\ndate       ticker  offset                                                       \n2013-05-03 btc-usd 10      45.195717  0.333876  0.226540  42.895950 -0.460349   \n                   15      44.996559  0.339432  0.227344  43.202477 -0.460884   \n                   20      44.665878  0.343619  0.223756  43.594116 -0.461162   \n                   25      44.785118  0.344467  0.227588  43.588852 -0.461271   \n                   30      44.907230  0.341647  0.224152  43.305061 -0.461130   \n...                              ...       ...       ...        ...       ...   \n2021-06-20 zec-usd 835     33.784706  0.279171 -0.004635  17.435909 -0.095235   \n                   840     33.533627  0.276957  0.000840  17.326042 -0.095561   \n                   845     34.178932  0.272546  0.006203  17.195267 -0.096032   \n                   850     34.290592  0.278250 -0.000492  17.421122 -0.095584   \n                   855     34.325436  0.276293  0.006249  17.318190 -0.095958   \n\n                                PPO      MACD  sector       r01       r02  \\\ndate       ticker  offset                                                   \n2013-05-03 btc-usd 10      4.349795 -0.133858       0 -0.081482 -0.136415   \n                   15      4.068254 -0.134630       0 -0.065331 -0.146862   \n                   20      3.673091 -0.135154       0 -0.083011 -0.142226   \n                   25      3.307914 -0.135503       0 -0.074871 -0.139922   \n                   30      3.000095 -0.135549       0 -0.077694 -0.136460   \n...                             ...       ...     ...       ...       ...   \n2021-06-20 zec-usd 835    -7.518497 -0.527340       2 -0.087386 -0.148134   \n                   840    -7.617944 -0.528555       2 -0.083306 -0.144065   \n                   845    -7.703447 -0.531402       2 -0.073279 -0.139836   \n                   850    -7.770775 -0.530312       2 -0.080260 -0.152268   \n                   855    -7.946272 -0.532770       2 -0.081254 -0.149265   \n\n                                r03  r01dec  r02dec  r03dec  r01q_sector  \\\ndate       ticker  offset                                                  \n2013-05-03 btc-usd 10     -0.290516     0.0     1.0     0.0          0.0   \n                   15     -0.299099     0.0     1.0     0.0          0.0   \n                   20     -0.305536     0.0     1.0     0.0          0.0   \n                   25     -0.299380     0.0     1.0     0.0          0.0   \n                   30     -0.297930     0.0     1.0     0.0          0.0   \n...                             ...     ...     ...     ...          ...   \n2021-06-20 zec-usd 835    -0.177211     1.0     1.0     0.0          1.0   \n                   840    -0.173532     1.0     1.0     0.0          1.0   \n                   845    -0.170019     1.0     1.0     0.0          1.0   \n                   850    -0.178396     1.0     0.0     0.0          1.0   \n                   855    -0.168296     1.0     1.0     0.0          1.0   \n\n                           r02q_sector  r03q_sector  year  month  weekday  \ndate       ticker  offset                                                  \n2013-05-03 btc-usd 10              1.0          0.0  2013      5        4  \n                   15              1.0          0.0  2013      5        4  \n                   20              1.0          0.0  2013      5        4  \n                   25              1.0          0.0  2013      5        4  \n                   30              1.0          0.0  2013      5        4  \n...                                ...          ...   ...    ...      ...  \n2021-06-20 zec-usd 835             1.0          0.0  2021      6        6  \n                   840             1.0          0.0  2021      6        6  \n                   845             1.0          0.0  2021      6        6  \n                   850             0.0          0.0  2021      6        6  \n                   855             1.0          0.0  2021      6        6  \n\n[11211158 rows x 20 columns]",
      "text/html": "<div>\n<style scoped>\n    .dataframe tbody tr th:only-of-type {\n        vertical-align: middle;\n    }\n\n    .dataframe tbody tr th {\n        vertical-align: top;\n    }\n\n    .dataframe thead th {\n        text-align: right;\n    }\n</style>\n<table border=\"1\" class=\"dataframe\">\n  <thead>\n    <tr style=\"text-align: right;\">\n      <th></th>\n      <th></th>\n      <th></th>\n      <th>rsi</th>\n      <th>bb_high</th>\n      <th>bb_low</th>\n      <th>NATR</th>\n      <th>ATR</th>\n      <th>PPO</th>\n      <th>MACD</th>\n      <th>sector</th>\n      <th>r01</th>\n      <th>r02</th>\n      <th>r03</th>\n      <th>r01dec</th>\n      <th>r02dec</th>\n      <th>r03dec</th>\n      <th>r01q_sector</th>\n      <th>r02q_sector</th>\n      <th>r03q_sector</th>\n      <th>year</th>\n      <th>month</th>\n      <th>weekday</th>\n    </tr>\n    <tr>\n      <th>date</th>\n      <th>ticker</th>\n      <th>offset</th>\n      <th></th>\n      <th></th>\n      <th></th>\n      <th></th>\n      <th></th>\n      <th></th>\n      <th></th>\n      <th></th>\n      <th></th>\n      <th></th>\n      <th></th>\n      <th></th>\n      <th></th>\n      <th></th>\n      <th></th>\n      <th></th>\n      <th></th>\n      <th></th>\n      <th></th>\n      <th></th>\n    </tr>\n  </thead>\n  <tbody>\n    <tr>\n      <th rowspan=\"5\" valign=\"top\">2013-05-03</th>\n      <th rowspan=\"5\" valign=\"top\">btc-usd</th>\n      <th>10</th>\n      <td>45.195717</td>\n      <td>0.333876</td>\n      <td>0.226540</td>\n      <td>42.895950</td>\n      <td>-0.460349</td>\n      <td>4.349795</td>\n      <td>-0.133858</td>\n      <td>0</td>\n      <td>-0.081482</td>\n      <td>-0.136415</td>\n      <td>-0.290516</td>\n      <td>0.0</td>\n      <td>1.0</td>\n      <td>0.0</td>\n      <td>0.0</td>\n      <td>1.0</td>\n      <td>0.0</td>\n      <td>2013</td>\n      <td>5</td>\n      <td>4</td>\n    </tr>\n    <tr>\n      <th>15</th>\n      <td>44.996559</td>\n      <td>0.339432</td>\n      <td>0.227344</td>\n      <td>43.202477</td>\n      <td>-0.460884</td>\n      <td>4.068254</td>\n      <td>-0.134630</td>\n      <td>0</td>\n      <td>-0.065331</td>\n      <td>-0.146862</td>\n      <td>-0.299099</td>\n      <td>0.0</td>\n      <td>1.0</td>\n      <td>0.0</td>\n      <td>0.0</td>\n      <td>1.0</td>\n      <td>0.0</td>\n      <td>2013</td>\n      <td>5</td>\n      <td>4</td>\n    </tr>\n    <tr>\n      <th>20</th>\n      <td>44.665878</td>\n      <td>0.343619</td>\n      <td>0.223756</td>\n      <td>43.594116</td>\n      <td>-0.461162</td>\n      <td>3.673091</td>\n      <td>-0.135154</td>\n      <td>0</td>\n      <td>-0.083011</td>\n      <td>-0.142226</td>\n      <td>-0.305536</td>\n      <td>0.0</td>\n      <td>1.0</td>\n      <td>0.0</td>\n      <td>0.0</td>\n      <td>1.0</td>\n      <td>0.0</td>\n      <td>2013</td>\n      <td>5</td>\n      <td>4</td>\n    </tr>\n    <tr>\n      <th>25</th>\n      <td>44.785118</td>\n      <td>0.344467</td>\n      <td>0.227588</td>\n      <td>43.588852</td>\n      <td>-0.461271</td>\n      <td>3.307914</td>\n      <td>-0.135503</td>\n      <td>0</td>\n      <td>-0.074871</td>\n      <td>-0.139922</td>\n      <td>-0.299380</td>\n      <td>0.0</td>\n      <td>1.0</td>\n      <td>0.0</td>\n      <td>0.0</td>\n      <td>1.0</td>\n      <td>0.0</td>\n      <td>2013</td>\n      <td>5</td>\n      <td>4</td>\n    </tr>\n    <tr>\n      <th>30</th>\n      <td>44.907230</td>\n      <td>0.341647</td>\n      <td>0.224152</td>\n      <td>43.305061</td>\n      <td>-0.461130</td>\n      <td>3.000095</td>\n      <td>-0.135549</td>\n      <td>0</td>\n      <td>-0.077694</td>\n      <td>-0.136460</td>\n      <td>-0.297930</td>\n      <td>0.0</td>\n      <td>1.0</td>\n      <td>0.0</td>\n      <td>0.0</td>\n      <td>1.0</td>\n      <td>0.0</td>\n      <td>2013</td>\n      <td>5</td>\n      <td>4</td>\n    </tr>\n    <tr>\n      <th>...</th>\n      <th>...</th>\n      <th>...</th>\n      <td>...</td>\n      <td>...</td>\n      <td>...</td>\n      <td>...</td>\n      <td>...</td>\n      <td>...</td>\n      <td>...</td>\n      <td>...</td>\n      <td>...</td>\n      <td>...</td>\n      <td>...</td>\n      <td>...</td>\n      <td>...</td>\n      <td>...</td>\n      <td>...</td>\n      <td>...</td>\n      <td>...</td>\n      <td>...</td>\n      <td>...</td>\n      <td>...</td>\n    </tr>\n    <tr>\n      <th rowspan=\"5\" valign=\"top\">2021-06-20</th>\n      <th rowspan=\"5\" valign=\"top\">zec-usd</th>\n      <th>835</th>\n      <td>33.784706</td>\n      <td>0.279171</td>\n      <td>-0.004635</td>\n      <td>17.435909</td>\n      <td>-0.095235</td>\n      <td>-7.518497</td>\n      <td>-0.527340</td>\n      <td>2</td>\n      <td>-0.087386</td>\n      <td>-0.148134</td>\n      <td>-0.177211</td>\n      <td>1.0</td>\n      <td>1.0</td>\n      <td>0.0</td>\n      <td>1.0</td>\n      <td>1.0</td>\n      <td>0.0</td>\n      <td>2021</td>\n      <td>6</td>\n      <td>6</td>\n    </tr>\n    <tr>\n      <th>840</th>\n      <td>33.533627</td>\n      <td>0.276957</td>\n      <td>0.000840</td>\n      <td>17.326042</td>\n      <td>-0.095561</td>\n      <td>-7.617944</td>\n      <td>-0.528555</td>\n      <td>2</td>\n      <td>-0.083306</td>\n      <td>-0.144065</td>\n      <td>-0.173532</td>\n      <td>1.0</td>\n      <td>1.0</td>\n      <td>0.0</td>\n      <td>1.0</td>\n      <td>1.0</td>\n      <td>0.0</td>\n      <td>2021</td>\n      <td>6</td>\n      <td>6</td>\n    </tr>\n    <tr>\n      <th>845</th>\n      <td>34.178932</td>\n      <td>0.272546</td>\n      <td>0.006203</td>\n      <td>17.195267</td>\n      <td>-0.096032</td>\n      <td>-7.703447</td>\n      <td>-0.531402</td>\n      <td>2</td>\n      <td>-0.073279</td>\n      <td>-0.139836</td>\n      <td>-0.170019</td>\n      <td>1.0</td>\n      <td>1.0</td>\n      <td>0.0</td>\n      <td>1.0</td>\n      <td>1.0</td>\n      <td>0.0</td>\n      <td>2021</td>\n      <td>6</td>\n      <td>6</td>\n    </tr>\n    <tr>\n      <th>850</th>\n      <td>34.290592</td>\n      <td>0.278250</td>\n      <td>-0.000492</td>\n      <td>17.421122</td>\n      <td>-0.095584</td>\n      <td>-7.770775</td>\n      <td>-0.530312</td>\n      <td>2</td>\n      <td>-0.080260</td>\n      <td>-0.152268</td>\n      <td>-0.178396</td>\n      <td>1.0</td>\n      <td>0.0</td>\n      <td>0.0</td>\n      <td>1.0</td>\n      <td>0.0</td>\n      <td>0.0</td>\n      <td>2021</td>\n      <td>6</td>\n      <td>6</td>\n    </tr>\n    <tr>\n      <th>855</th>\n      <td>34.325436</td>\n      <td>0.276293</td>\n      <td>0.006249</td>\n      <td>17.318190</td>\n      <td>-0.095958</td>\n      <td>-7.946272</td>\n      <td>-0.532770</td>\n      <td>2</td>\n      <td>-0.081254</td>\n      <td>-0.149265</td>\n      <td>-0.168296</td>\n      <td>1.0</td>\n      <td>1.0</td>\n      <td>0.0</td>\n      <td>1.0</td>\n      <td>1.0</td>\n      <td>0.0</td>\n      <td>2021</td>\n      <td>6</td>\n      <td>6</td>\n    </tr>\n  </tbody>\n</table>\n<p>11211158 rows × 20 columns</p>\n</div>"
     },
     "execution_count": 71,
     "metadata": {},
     "output_type": "execute_result"
    }
   ],
   "source": [
    "X_cv"
   ],
   "metadata": {
    "collapsed": false,
    "pycharm": {
     "name": "#%%\n"
    }
   }
  },
  {
   "cell_type": "code",
   "execution_count": 72,
   "metadata": {
    "ExecuteTime": {
     "end_time": "2021-02-23T05:45:43.160579Z",
     "start_time": "2021-02-23T05:45:43.063097Z"
    }
   },
   "outputs": [
    {
     "data": {
      "text/plain": "32"
     },
     "execution_count": 72,
     "metadata": {},
     "output_type": "execute_result"
    }
   ],
   "source": [
    "len(X_cv.index.get_level_values('ticker').unique())"
   ]
  },
  {
   "cell_type": "code",
   "execution_count": 73,
   "metadata": {
    "ExecuteTime": {
     "end_time": "2021-02-23T05:45:43.269555Z",
     "start_time": "2021-02-23T05:45:43.161556Z"
    }
   },
   "outputs": [
    {
     "name": "stdout",
     "output_type": "stream",
     "text": [
      "<class 'pandas.core.frame.DataFrame'>\n",
      "MultiIndex: 11211158 entries, (Timestamp('2013-05-03 00:00:00'), 'btc-usd', 10) to (Timestamp('2021-06-20 00:00:00'), 'zec-usd', 855)\n",
      "Data columns (total 20 columns):\n",
      " #   Column       Non-Null Count     Dtype  \n",
      "---  ------       --------------     -----  \n",
      " 0   rsi          11211158 non-null  float32\n",
      " 1   bb_high      11211158 non-null  float32\n",
      " 2   bb_low       11211158 non-null  float32\n",
      " 3   NATR         11211158 non-null  float32\n",
      " 4   ATR          11211158 non-null  float32\n",
      " 5   PPO          11211158 non-null  float32\n",
      " 6   MACD         11211158 non-null  float32\n",
      " 7   sector       11211158 non-null  int16  \n",
      " 8   r01          11211158 non-null  float32\n",
      " 9   r02          11211158 non-null  float32\n",
      " 10  r03          11211158 non-null  float32\n",
      " 11  r01dec       11211158 non-null  float32\n",
      " 12  r02dec       11211158 non-null  float32\n",
      " 13  r03dec       11211158 non-null  float32\n",
      " 14  r01q_sector  11211158 non-null  float32\n",
      " 15  r02q_sector  11211158 non-null  float32\n",
      " 16  r03q_sector  11211158 non-null  float32\n",
      " 17  year         11211158 non-null  int16  \n",
      " 18  month        11211158 non-null  int16  \n",
      " 19  weekday      11211158 non-null  int16  \n",
      "dtypes: float32(16), int16(4)\n",
      "memory usage: 834.1 MB\n"
     ]
    }
   ],
   "source": [
    "X_cv.info(null_counts=True)"
   ]
  },
  {
   "cell_type": "markdown",
   "metadata": {},
   "source": [
    "## Automate model generation"
   ]
  },
  {
   "cell_type": "markdown",
   "metadata": {},
   "source": [
    "The following `make_model` function illustrates how to flexibly define various architectural elements for the search process. The dense_layers argument defines both the depth and width of the network as a list of integers. We also use dropout for regularization, expressed as a float in the range [0, 1] to define the probability that a given unit will be excluded from a training iteration."
   ]
  },
  {
   "cell_type": "code",
   "execution_count": 74,
   "outputs": [],
   "source": [
    "def make_model(dense_layers, activation, dropout, reg_L1, reg_L2):\n",
    "    '''Creates a multi-layer perceptron model\n",
    "\n",
    "    dense_layers: List of layer sizes; one number per layer\n",
    "    '''\n",
    "\n",
    "    model = Sequential()\n",
    "    for i, layer_size in enumerate(dense_layers, 1):\n",
    "        if i == 1:\n",
    "            model.add(Dense(layer_size, input_dim=X_cv.shape[1],\n",
    "                            activity_regularizer=L1L2(reg_L1, reg_L2)))\n",
    "        else:\n",
    "            model.add(Dense(layer_size,\n",
    "                            activity_regularizer=L1L2(reg_L1, reg_L2)))\n",
    "        model.add(Activation(activation))\n",
    "    if dropout > 0:\n",
    "        model.add(Dropout(dropout))\n",
    "    model.add(Dense(1))\n",
    "\n",
    "    model.compile(loss='mean_squared_error',\n",
    "                  optimizer='Adam')\n",
    "\n",
    "    return model"
   ],
   "metadata": {
    "collapsed": false,
    "pycharm": {
     "name": "#%%\n"
    }
   }
  },
  {
   "cell_type": "markdown",
   "metadata": {},
   "source": [
    "## Cross-validate multiple configurations with TensorFlow"
   ]
  },
  {
   "cell_type": "markdown",
   "metadata": {},
   "source": [
    "### Train-Test Split"
   ]
  },
  {
   "cell_type": "markdown",
   "metadata": {},
   "source": [
    "We split the data into a training set for cross-validation, and keep the last 12 months with data as holdout test:"
   ]
  },
  {
   "cell_type": "code",
   "execution_count": 75,
   "metadata": {
    "ExecuteTime": {
     "end_time": "2021-02-23T05:45:43.289179Z",
     "start_time": "2021-02-23T05:45:43.277271Z"
    }
   },
   "outputs": [],
   "source": [
    "n_datetimes = X_cv.unstack(group_levels).index.nunique()\n",
    "n_datetimes_y = y_cv.unstack(group_levels).index.nunique()\n",
    "assert n_datetimes == n_datetimes_y"
   ]
  },
  {
   "cell_type": "code",
   "execution_count": 76,
   "outputs": [
    {
     "name": "stdout",
     "output_type": "stream",
     "text": [
      "unstack ['offset', 'ticker']\n",
      "Duplicate index: \n"
     ]
    },
    {
     "data": {
      "text/plain": "(1399, 69)"
     },
     "execution_count": 76,
     "metadata": {},
     "output_type": "execute_result"
    }
   ],
   "source": [
    "n_splits = int(3.5*6-2)\n",
    "train_test_ratio = 6\n",
    "\n",
    "\n",
    "n_splits = 20\n",
    "\n",
    "train_test_ratio = 20\n",
    "\n",
    "train_period_length, test_period_length = calculate_splits(X_cv, lookahead=lookahead,\n",
    "                                                           train_test_ratio=train_test_ratio,\n",
    "                                                           n_splits=n_splits,\n",
    "                                                           unstack=group_levels)\n",
    "\n",
    "train_period_length, test_period_length"
   ],
   "metadata": {
    "collapsed": false,
    "pycharm": {
     "name": "#%%\n"
    }
   }
  },
  {
   "cell_type": "code",
   "execution_count": 77,
   "outputs": [
    {
     "data": {
      "text/plain": "0.341552734375"
     },
     "execution_count": 77,
     "metadata": {},
     "output_type": "execute_result"
    }
   ],
   "source": [
    "train_period_length/8**4"
   ],
   "metadata": {
    "collapsed": false,
    "pycharm": {
     "name": "#%%\n"
    }
   }
  },
  {
   "cell_type": "code",
   "execution_count": 78,
   "metadata": {
    "ExecuteTime": {
     "end_time": "2021-02-23T05:45:43.297459Z",
     "start_time": "2021-02-23T05:45:43.290410Z"
    }
   },
   "outputs": [],
   "source": [
    "cv = MultipleTimeSeriesCV(n_splits=n_splits,\n",
    "                          train_period_length=train_period_length,\n",
    "                          test_period_length=test_period_length,\n",
    "                          lookahead=lookahead)\n"
   ]
  },
  {
   "cell_type": "markdown",
   "metadata": {},
   "source": [
    "### Define CV Parameters"
   ]
  },
  {
   "cell_type": "markdown",
   "metadata": {},
   "source": [
    "Now we just need to define our Keras classifier using the make_model function, set cross-validation (see chapter 6 on The Machine Learning Process and following for the OneStepTimeSeriesSplit), and the parameters that we would like to explore. \n",
    "\n",
    "We pick several one- and two-layer configurations, relu and tanh activation functions, and different dropout rates. We could also try out different optimizers (but did not run this experiment to limit what is already a computationally intensive effort):\n",
    "\n",
    "\n",
    "Parametersearch:\n",
    "Best results over 4 years with half a year of training\n",
    "    -{'dense_layers': '(256, 128)', 'activation': 'tanh', 'dropout': 0.75, 'batch_size': 512, 'epoch': 49}\n",
    "    -{'dense_layers': '(256, 128)', 'activation': 'relu', 'dropout': 0.5, 'batch_size': 512, 'epoch': 43}\n",
    "    -{'dense_layers': '(256, 128)', 'activation': 'relu', 'dropout': 0.5, 'batch_size': 512, 'epoch': 45}\n",
    "    -{'dense_layers': '(256, 128)', 'activation': 'relu', 'dropout': 0.5, 'batch_size': 512, 'epoch': 40}\n",
    "    -{'dense_layers': '(256, 128)', 'activation': 'relu', 'dropout': 0.5, 'batch_size': 512, 'epoch': 46}\n",
    "    -{'dense_layers': '(128, 64)', 'activation': 'relu', 'dropout': 0.25, 'batch_size': 512, 'epoch': 44}\n",
    "    -{'dense_layers': '(128, 64)', 'activation': 'relu', 'dropout': 0.25, 'batch_size': 512, 'epoch': 45}\n",
    "    -{'dense_layers': '(128, 128)', 'activation': 'relu', 'dropout': 0.25, 'batch_size': 512, 'epoch': 36}\n",
    "    -{'dense_layers': '(128, 128)', 'activation': 'relu', 'dropout': 0.25, 'batch_size': 512, 'epoch': 39}\n",
    "    -{'dense_layers': '(128, 128)', 'activation': 'relu', 'dropout': 0.25, 'batch_size': 512, 'epoch': 41}\n",
    "\n",
    "\n",
    "5 min data:\n",
    "\n",
    "\"\"\"\n",
    "dense_layer_opts = [(512, 256), (256, 128),\n",
    "                    (128, 64),  (128, 128)] # best before 64, 64 auf anderen Daten?\n",
    "# dense_layer_opts = [(128, 64)]\n",
    "activation_opts = ['relu', 'tanh'] # best relu?\n",
    "dropout_opts = [.25, 0.5, 0.75]\n",
    "\n",
    "\n",
    "best layers\n",
    "{'dense_layers': '(512, 256)', 'activation': 'relu', 'dropout': 0.75, 'batch_size': 1024, 'epoch': 6}\n",
    "{'dense_layers': '(512, 256)', 'activation': 'relu', 'dropout': 0.25, 'batch_size': 1024, 'epoch': 8}\n",
    "{'dense_layers': '(512, 256)', 'activation': 'relu', 'dropout': 0.25, 'batch_size': 1024, 'epoch': 9}\n",
    "{'dense_layers': '(128, 128)', 'activation': 'relu', 'dropout': 0.25, 'batch_size': 1024, 'epoch': 9}\n",
    "{'dense_layers': '(256, 128)', 'activation': 'relu', 'dropout': 0.5, 'batch_size': 8192, 'epoch': 9}\n",
    "{'dense_layers': '(512, 256)', 'activation': 'tanh', 'dropout': 0.5, 'batch_size': 1024, 'epoch': 9}\n",
    "{'dense_layers': '(256, 128)', 'activation': 'relu', 'dropout': 0.75, 'batch_size': 1024, 'epoch': 7}\n",
    "{'dense_layers': '(512, 256)', 'activation': 'relu', 'dropout': 0.5, 'batch_size': 8192, 'epoch': 7}\n",
    "{'dense_layers': '(512, 256)', 'activation': 'relu', 'dropout': 0.5, 'batch_size': 8192, 'epoch': 9}\n",
    "{'dense_layers': '(512, 256)', 'activation': 'relu', 'dropout': 0.5, 'batch_size': 8192, 'epoch': 8}\n"
   ]
  },
  {
   "cell_type": "code",
   "execution_count": 79,
   "metadata": {
    "ExecuteTime": {
     "end_time": "2021-02-23T05:45:43.305908Z",
     "start_time": "2021-02-23T05:45:43.298464Z"
    }
   },
   "outputs": [],
   "source": [
    "\"\"\"\n",
    "dense_layer_opts = [(32, 16), (32, 32),\n",
    "                    (64, 64), (128, 64),\n",
    "                    (128, 128), (128, 64),\n",
    "                    (256, 256), (256, 128)]\n",
    "activation_opts = ['tanh', 'relu']\n",
    "dropout_opts = [0.25, 0.5, 0.75]\n",
    "\"\"\"\n",
    "\n",
    "dense_layer_opts = [(256, 128),\n",
    "                    (128, 64),\n",
    "                    (64, 32),\n",
    "                    (32, 16)]\n",
    "activation_opts = ['relu']\n",
    "dropout_opts = [0.25, 0.5]\n",
    "reg_L1_opts = [0]\n",
    "reg_L2_opts = [0]\n"
   ]
  },
  {
   "cell_type": "code",
   "execution_count": 80,
   "metadata": {
    "ExecuteTime": {
     "end_time": "2021-02-23T05:45:43.314388Z",
     "start_time": "2021-02-23T05:45:43.307047Z"
    }
   },
   "outputs": [],
   "source": [
    "param_grid = list(product(dense_layer_opts, activation_opts, dropout_opts,\n",
    "                          reg_L1_opts, reg_L2_opts))\n",
    "\n",
    "np.random.shuffle(param_grid)"
   ]
  },
  {
   "cell_type": "code",
   "execution_count": 81,
   "metadata": {
    "ExecuteTime": {
     "end_time": "2021-02-23T05:45:43.324946Z",
     "start_time": "2021-02-23T05:45:43.315355Z"
    }
   },
   "outputs": [
    {
     "data": {
      "text/plain": "8"
     },
     "execution_count": 81,
     "metadata": {},
     "output_type": "execute_result"
    }
   ],
   "source": [
    "len(param_grid)"
   ]
  },
  {
   "cell_type": "markdown",
   "metadata": {},
   "source": [
    "To trigger the parameter search, we instantiate a GridSearchCV object, define the fit_params that will be passed to the Keras model’s fit method, and provide the training data to the GridSearchCV fit method:"
   ]
  },
  {
   "cell_type": "code",
   "execution_count": 82,
   "metadata": {
    "ExecuteTime": {
     "end_time": "2021-02-23T05:45:43.332302Z",
     "start_time": "2021-02-23T05:45:43.326769Z"
    }
   },
   "outputs": [
    {
     "name": "stdout",
     "output_type": "stream",
     "text": [
      "x_cv dates 2013-05-03 00:00:00:2021-06-20 00:00:00\n",
      "train dates 2017-06-14 00:00:00 to 2021-04-12 00:00:00\n",
      "val dates   2021-04-13 00:00:00 2021-06-20 00:00:00\n",
      "t duration 1398 days 00:00:00\n",
      "vduration 68 days 00:00:00\n",
      "train dates 2017-04-06 00:00:00 to 2021-02-02 00:00:00\n",
      "val dates   2021-02-03 00:00:00 2021-04-12 00:00:00\n",
      "t duration 1398 days 00:00:00\n",
      "vduration 68 days 00:00:00\n",
      "train dates 2017-01-27 00:00:00 to 2020-11-25 00:00:00\n",
      "val dates   2020-11-26 00:00:00 2021-02-02 00:00:00\n",
      "t duration 1398 days 00:00:00\n",
      "vduration 68 days 00:00:00\n",
      "train dates 2016-11-19 00:00:00 to 2020-09-17 00:00:00\n",
      "val dates   2020-09-18 00:00:00 2020-11-25 00:00:00\n",
      "t duration 1398 days 00:00:00\n",
      "vduration 68 days 00:00:00\n",
      "train dates 2016-09-11 00:00:00 to 2020-07-10 00:00:00\n",
      "val dates   2020-07-11 00:00:00 2020-09-17 00:00:00\n",
      "t duration 1398 days 00:00:00\n",
      "vduration 68 days 00:00:00\n",
      "train dates 2016-06-28 00:00:00 to 2020-05-02 00:00:00\n",
      "val dates   2020-05-03 00:00:00 2020-07-10 00:00:00\n",
      "t duration 1404 days 00:00:00\n",
      "vduration 68 days 00:00:00\n",
      "train dates 2016-02-21 00:00:00 to 2020-02-23 00:00:00\n",
      "val dates   2020-02-24 00:00:00 2020-05-02 00:00:00\n",
      "t duration 1463 days 00:00:00\n",
      "vduration 68 days 00:00:00\n",
      "train dates 2015-12-14 00:00:00 to 2019-12-16 00:00:00\n",
      "val dates   2019-12-17 00:00:00 2020-02-23 00:00:00\n",
      "t duration 1463 days 00:00:00\n",
      "vduration 68 days 00:00:00\n",
      "train dates 2015-10-06 00:00:00 to 2019-10-08 00:00:00\n",
      "val dates   2019-10-09 00:00:00 2019-12-16 00:00:00\n",
      "t duration 1463 days 00:00:00\n",
      "vduration 68 days 00:00:00\n",
      "train dates 2015-07-29 00:00:00 to 2019-07-31 00:00:00\n",
      "val dates   2019-08-01 00:00:00 2019-10-08 00:00:00\n",
      "t duration 1463 days 00:00:00\n",
      "vduration 68 days 00:00:00\n",
      "train dates 2015-04-22 00:00:00 to 2019-05-23 00:00:00\n",
      "val dates   2019-05-24 00:00:00 2019-07-31 00:00:00\n",
      "t duration 1492 days 00:00:00\n",
      "vduration 68 days 00:00:00\n",
      "train dates 2015-02-12 00:00:00 to 2019-03-15 00:00:00\n",
      "val dates   2019-03-16 00:00:00 2019-05-23 00:00:00\n",
      "t duration 1492 days 00:00:00\n",
      "vduration 68 days 00:00:00\n",
      "train dates 2014-10-27 00:00:00 to 2019-01-05 00:00:00\n",
      "val dates   2019-01-06 00:00:00 2019-03-15 00:00:00\n",
      "t duration 1531 days 00:00:00\n",
      "vduration 68 days 00:00:00\n",
      "train dates 2014-08-19 00:00:00 to 2018-10-28 00:00:00\n",
      "val dates   2018-10-29 00:00:00 2019-01-05 00:00:00\n",
      "t duration 1531 days 00:00:00\n",
      "vduration 68 days 00:00:00\n",
      "train dates 2014-06-11 00:00:00 to 2018-08-20 00:00:00\n",
      "val dates   2018-08-21 00:00:00 2018-10-28 00:00:00\n",
      "t duration 1531 days 00:00:00\n",
      "vduration 68 days 00:00:00\n",
      "train dates 2014-04-03 00:00:00 to 2018-06-12 00:00:00\n",
      "val dates   2018-06-13 00:00:00 2018-08-20 00:00:00\n",
      "t duration 1531 days 00:00:00\n",
      "vduration 68 days 00:00:00\n",
      "train dates 2014-01-24 00:00:00 to 2018-04-04 00:00:00\n",
      "val dates   2018-04-05 00:00:00 2018-06-12 00:00:00\n",
      "t duration 1531 days 00:00:00\n",
      "vduration 68 days 00:00:00\n",
      "train dates 2013-11-16 00:00:00 to 2018-01-25 00:00:00\n",
      "val dates   2018-01-26 00:00:00 2018-04-04 00:00:00\n",
      "t duration 1531 days 00:00:00\n",
      "vduration 68 days 00:00:00\n",
      "train dates 2013-09-08 00:00:00 to 2017-11-17 00:00:00\n",
      "val dates   2017-11-18 00:00:00 2018-01-25 00:00:00\n",
      "t duration 1531 days 00:00:00\n",
      "vduration 68 days 00:00:00\n",
      "train dates 2013-07-01 00:00:00 to 2017-09-09 00:00:00\n",
      "val dates   2017-09-10 00:00:00 2017-11-17 00:00:00\n",
      "t duration 1531 days 00:00:00\n",
      "vduration 68 days 00:00:00\n"
     ]
    }
   ],
   "source": [
    "def get_train_valid_data(X, y, train_idx, test_idx):\n",
    "    x_train, y_train = X.iloc[train_idx, :], y.iloc[train_idx]\n",
    "    x_val, y_val = X.iloc[test_idx, :], y.iloc[test_idx]\n",
    "    return x_train, y_train, x_val, y_val\n",
    "\n",
    "print('x_cv dates {}:{}'.format(X_cv.index.get_level_values('date').min(),\n",
    "                                 X_cv.index.get_level_values('date').max()))\n",
    "dates = []\n",
    "for i, (train_idx, test_idx) in enumerate(cv.split(X=X_cv)):\n",
    "    x_train, y_train, x_val, y_val = get_train_valid_data(X_cv, X_cv, train_idx, test_idx)\n",
    "    date = {}\n",
    "    date['train_date_min'] = x_train.index.get_level_values('date').min()\n",
    "    date['train_date_max'] = x_train.index.get_level_values('date').max()\n",
    "    date['val_date_min'] = x_val.index.get_level_values('date').min()\n",
    "    date['val_date_max'] = x_val.index.get_level_values('date').max()\n",
    "    date['train_idx'] = train_idx\n",
    "    date['test_idx'] = test_idx\n",
    "    dates.append(date)\n",
    "\n",
    "    print(\"train dates {} to {}\".format(date['train_date_min'],\n",
    "                                     date['train_date_max']))\n",
    "\n",
    "    print(\"val dates   {} {}\".format(date['val_date_min'],\n",
    "                                     date['val_date_max']))\n",
    "\n",
    "    print(\"t duration {}\".format(date['train_date_max']-date['train_date_min'] ))\n",
    "    print(\"vduration {}\".format(date['val_date_max']-date['val_date_min'] ))\n",
    "\n"
   ]
  },
  {
   "cell_type": "code",
   "execution_count": 83,
   "outputs": [
    {
     "data": {
      "text/plain": "11211158"
     },
     "execution_count": 83,
     "metadata": {},
     "output_type": "execute_result"
    }
   ],
   "source": [
    "X_cv.shape[0]"
   ],
   "metadata": {
    "collapsed": false,
    "pycharm": {
     "name": "#%%\n"
    }
   }
  },
  {
   "cell_type": "code",
   "execution_count": 84,
   "metadata": {
    "ExecuteTime": {
     "end_time": "2021-02-23T05:52:12.397856Z",
     "start_time": "2021-02-23T05:45:43.333668Z"
    },
    "scrolled": true
   },
   "outputs": [
    {
     "name": "stderr",
     "output_type": "stream",
     "text": [
      "  0%|          | 0/8 [00:00<?, ?it/s]"
     ]
    },
    {
     "name": "stdout",
     "output_type": "stream",
     "text": [
      "(256, 128) relu 0.5 8192 0 0\n",
      "fold:01 | ep:001 | mean_r 0.2303 | med_r 0.2152 | stop 0\n",
      "fold:01 | ep:002 | mean_r 0.2111 | med_r 0.2092 | stop 1\n",
      "fold:01 | ep:003 | mean_r 0.1690 | med_r 0.1674 | stop 2\n",
      "fold:01 | ep:004 | mean_r 0.1563 | med_r 0.1640 | stop 3\n",
      "fold:01 | ep:005 | mean_r 0.1229 | med_r 0.1489 | stop 4\n",
      "time: 32.34354257583618\n",
      "fold:02 | ep:001 | mean_r 0.1443 | med_r 0.1295 | stop 0\n",
      "fold:02 | ep:002 | mean_r 0.1303 | med_r 0.1075 | stop 1\n",
      "fold:02 | ep:003 | mean_r 0.1296 | med_r 0.1091 | stop 2\n",
      "fold:02 | ep:004 | mean_r 0.1044 | med_r 0.1175 | stop 3\n",
      "fold:02 | ep:005 | mean_r 0.1043 | med_r 0.1149 | stop 4\n",
      "time: 64.09226036071777\n",
      "fold:03 | ep:001 | mean_r 0.1584 | med_r 0.1510 | stop 0\n",
      "fold:03 | ep:002 | mean_r 0.1406 | med_r 0.1273 | stop 1\n",
      "fold:03 | ep:003 | mean_r 0.1396 | med_r 0.1382 | stop 2\n",
      "fold:03 | ep:004 | mean_r 0.1136 | med_r 0.1161 | stop 3\n",
      "fold:03 | ep:005 | mean_r 0.1203 | med_r 0.1292 | stop 4\n",
      "time: 96.90178084373474\n",
      "fold:04 | ep:001 | mean_r 0.1653 | med_r 0.1572 | stop 0\n",
      "fold:04 | ep:002 | mean_r 0.1461 | med_r 0.1381 | stop 1\n",
      "fold:04 | ep:003 | mean_r 0.1425 | med_r 0.1382 | stop 2\n",
      "fold:04 | ep:004 | mean_r 0.1395 | med_r 0.1363 | stop 3\n",
      "fold:04 | ep:005 | mean_r 0.1421 | med_r 0.1617 | stop 4\n",
      "time: 130.06789255142212\n",
      "fold:05 | ep:001 | mean_r 0.1266 | med_r 0.1309 | stop 0\n",
      "fold:05 | ep:002 | mean_r 0.1519 | med_r 0.1602 | stop 0\n",
      "fold:05 | ep:003 | mean_r 0.1555 | med_r 0.1718 | stop 0\n",
      "fold:05 | ep:004 | mean_r 0.1541 | med_r 0.1671 | stop 0\n",
      "fold:05 | ep:005 | mean_r 0.1293 | med_r 0.1453 | stop 1\n",
      "time: 160.10442924499512\n",
      "fold:06 | ep:001 | mean_r 0.1920 | med_r 0.1852 | stop 0\n",
      "fold:06 | ep:002 | mean_r 0.1929 | med_r 0.1712 | stop 0\n",
      "fold:06 | ep:003 | mean_r 0.1741 | med_r 0.1496 | stop 1\n",
      "fold:06 | ep:004 | mean_r 0.1729 | med_r 0.1611 | stop 2\n",
      "fold:06 | ep:005 | mean_r 0.1301 | med_r 0.1250 | stop 3\n",
      "time: 189.23564982414246\n",
      "fold:07 | ep:001 | mean_r 0.2195 | med_r 0.2589 | stop 0\n",
      "fold:07 | ep:002 | mean_r 0.2276 | med_r 0.2549 | stop 0\n",
      "fold:07 | ep:003 | mean_r 0.2063 | med_r 0.2311 | stop 1\n",
      "fold:07 | ep:004 | mean_r 0.1750 | med_r 0.1947 | stop 2\n",
      "fold:07 | ep:005 | mean_r 0.1727 | med_r 0.1917 | stop 3\n",
      "time: 218.00004148483276\n",
      "fold:08 | ep:001 | mean_r 0.1478 | med_r 0.1732 | stop 0\n",
      "fold:08 | ep:002 | mean_r 0.1436 | med_r 0.1718 | stop 0\n",
      "fold:08 | ep:003 | mean_r 0.1264 | med_r 0.1443 | stop 1\n",
      "fold:08 | ep:004 | mean_r 0.1151 | med_r 0.1257 | stop 2\n",
      "fold:08 | ep:005 | mean_r 0.1086 | med_r 0.1179 | stop 3\n",
      "time: 246.23376417160034\n",
      "fold:09 | ep:001 | mean_r 0.1626 | med_r 0.1648 | stop 0\n",
      "fold:09 | ep:002 | mean_r 0.1531 | med_r 0.1394 | stop 1\n",
      "fold:09 | ep:003 | mean_r 0.1527 | med_r 0.1573 | stop 2\n",
      "fold:09 | ep:004 | mean_r 0.1511 | med_r 0.1422 | stop 3\n",
      "fold:09 | ep:005 | mean_r 0.1347 | med_r 0.1230 | stop 4\n",
      "time: 273.11947798728943\n",
      "fold:10 | ep:001 | mean_r 0.1581 | med_r 0.1364 | stop 0\n",
      "fold:10 | ep:002 | mean_r 0.1481 | med_r 0.1454 | stop 0\n",
      "fold:10 | ep:003 | mean_r 0.1303 | med_r 0.1257 | stop 1\n",
      "fold:10 | ep:004 | mean_r 0.1111 | med_r 0.0920 | stop 2\n",
      "fold:10 | ep:005 | mean_r 0.1115 | med_r 0.1141 | stop 3\n",
      "time: 298.7625105381012\n",
      "fold:11 | ep:001 | mean_r 0.1938 | med_r 0.1883 | stop 0\n",
      "fold:11 | ep:002 | mean_r 0.1890 | med_r 0.1859 | stop 0\n",
      "fold:11 | ep:003 | mean_r 0.1884 | med_r 0.1811 | stop 0\n",
      "fold:11 | ep:004 | mean_r 0.1802 | med_r 0.1881 | stop 0\n",
      "fold:11 | ep:005 | mean_r 0.1693 | med_r 0.1578 | stop 1\n",
      "time: 321.64074659347534\n",
      "fold:12 | ep:001 | mean_r 0.1917 | med_r 0.2129 | stop 0\n",
      "fold:12 | ep:002 | mean_r 0.2001 | med_r 0.2426 | stop 0\n",
      "fold:12 | ep:003 | mean_r 0.1864 | med_r 0.2083 | stop 1\n",
      "fold:12 | ep:004 | mean_r 0.1864 | med_r 0.1945 | stop 2\n",
      "fold:12 | ep:005 | mean_r 0.1859 | med_r 0.1892 | stop 3\n",
      "time: 341.96586871147156\n",
      "fold:13 | ep:001 | mean_r 0.1616 | med_r 0.1398 | stop 0\n",
      "fold:13 | ep:002 | mean_r 0.1324 | med_r 0.1491 | stop 1\n",
      "fold:13 | ep:003 | mean_r 0.1450 | med_r 0.1424 | stop 0\n",
      "fold:13 | ep:004 | mean_r 0.1244 | med_r 0.1423 | stop 1\n",
      "fold:13 | ep:005 | mean_r 0.1049 | med_r 0.1055 | stop 2\n",
      "time: 361.3553113937378\n",
      "fold:14 | ep:001 | mean_r 0.2097 | med_r 0.2075 | stop 0\n",
      "fold:14 | ep:002 | mean_r 0.1990 | med_r 0.2108 | stop 0\n",
      "fold:14 | ep:003 | mean_r 0.1808 | med_r 0.1730 | stop 1\n",
      "fold:14 | ep:004 | mean_r 0.1555 | med_r 0.1143 | stop 2\n",
      "fold:14 | ep:005 | mean_r 0.1646 | med_r 0.1622 | stop 3\n",
      "time: 378.66724133491516\n",
      "fold:15 | ep:001 | mean_r 0.1824 | med_r 0.1357 | stop 0\n",
      "fold:15 | ep:002 | mean_r 0.1694 | med_r 0.1481 | stop 0\n",
      "fold:15 | ep:003 | mean_r 0.1671 | med_r 0.1198 | stop 1\n",
      "fold:15 | ep:004 | mean_r 0.1355 | med_r 0.1294 | stop 2\n",
      "fold:15 | ep:005 | mean_r 0.1385 | med_r 0.1250 | stop 3\n",
      "time: 394.1844620704651\n",
      "fold:16 | ep:001 | mean_r 0.2337 | med_r 0.2547 | stop 0\n",
      "fold:16 | ep:002 | mean_r 0.2193 | med_r 0.2224 | stop 1\n",
      "fold:16 | ep:003 | mean_r 0.2036 | med_r 0.1939 | stop 2\n",
      "fold:16 | ep:004 | mean_r 0.2100 | med_r 0.2042 | stop 3\n",
      "fold:16 | ep:005 | mean_r 0.1922 | med_r 0.1846 | stop 4\n",
      "time: 408.4052565097809\n",
      "fold:17 | ep:001 | mean_r 0.2183 | med_r 0.2045 | stop 0\n",
      "fold:17 | ep:002 | mean_r 0.2040 | med_r 0.1937 | stop 1\n",
      "fold:17 | ep:003 | mean_r 0.2010 | med_r 0.1689 | stop 2\n",
      "fold:17 | ep:004 | mean_r 0.1910 | med_r 0.1709 | stop 3\n",
      "fold:17 | ep:005 | mean_r 0.1818 | med_r 0.1903 | stop 4\n",
      "time: 421.42639112472534\n",
      "fold:18 | ep:001 | mean_r 0.2602 | med_r 0.2150 | stop 0\n",
      "fold:18 | ep:002 | mean_r 0.2761 | med_r 0.2299 | stop 0\n",
      "fold:18 | ep:003 | mean_r 0.2870 | med_r 0.2576 | stop 0\n",
      "fold:18 | ep:004 | mean_r 0.2852 | med_r 0.2641 | stop 0\n",
      "fold:18 | ep:005 | mean_r 0.2797 | med_r 0.2801 | stop 0\n",
      "time: 433.3847689628601\n",
      "fold:19 | ep:001 | mean_r 0.1774 | med_r 0.1688 | stop 0\n",
      "fold:19 | ep:002 | mean_r 0.1617 | med_r 0.1768 | stop 0\n",
      "fold:19 | ep:003 | mean_r 0.1491 | med_r 0.1394 | stop 1\n",
      "fold:19 | ep:004 | mean_r 0.1547 | med_r 0.1726 | stop 0\n",
      "fold:19 | ep:005 | mean_r 0.1626 | med_r 0.1579 | stop 0\n",
      "time: 444.40826630592346\n",
      "fold:20 | ep:001 | mean_r 0.1165 | med_r 0.1174 | stop 0\n",
      "fold:20 | ep:002 | mean_r 0.1208 | med_r 0.1175 | stop 0\n",
      "fold:20 | ep:003 | mean_r 0.1220 | med_r 0.1382 | stop 0\n",
      "fold:20 | ep:004 | mean_r 0.1178 | med_r 0.1218 | stop 1\n"
     ]
    },
    {
     "name": "stderr",
     "output_type": "stream",
     "text": [
      " 12%|█▎        | 1/8 [07:33<52:55, 453.70s/it]"
     ]
    },
    {
     "name": "stdout",
     "output_type": "stream",
     "text": [
      "fold:20 | ep:005 | mean_r 0.1215 | med_r 0.1309 | stop 0\n",
      "time: 453.6862049102783\n",
      "(64, 32) relu 0.5 8192 0 0\n",
      "fold:01 | ep:001 | mean_r 0.2273 | med_r 0.2129 | stop 0\n",
      "fold:01 | ep:002 | mean_r 0.2335 | med_r 0.2061 | stop 0\n",
      "fold:01 | ep:003 | mean_r 0.2339 | med_r 0.1978 | stop 0\n",
      "fold:01 | ep:004 | mean_r 0.2314 | med_r 0.2196 | stop 0\n",
      "fold:01 | ep:005 | mean_r 0.2206 | med_r 0.2042 | stop 1\n",
      "time: 30.16162419319153\n",
      "fold:02 | ep:001 | mean_r 0.1720 | med_r 0.1674 | stop 0\n",
      "fold:02 | ep:002 | mean_r 0.1957 | med_r 0.1898 | stop 0\n",
      "fold:02 | ep:003 | mean_r 0.1869 | med_r 0.1894 | stop 0\n",
      "fold:02 | ep:004 | mean_r 0.1860 | med_r 0.1918 | stop 0\n",
      "fold:02 | ep:005 | mean_r 0.1683 | med_r 0.1901 | stop 1\n",
      "time: 60.5645489692688\n",
      "fold:03 | ep:001 | mean_r 0.2038 | med_r 0.2175 | stop 0\n",
      "fold:03 | ep:002 | mean_r 0.2099 | med_r 0.2316 | stop 0\n",
      "fold:03 | ep:003 | mean_r 0.1891 | med_r 0.1986 | stop 1\n",
      "fold:03 | ep:004 | mean_r 0.1753 | med_r 0.1970 | stop 2\n",
      "fold:03 | ep:005 | mean_r 0.1655 | med_r 0.1553 | stop 3\n",
      "time: 90.48834133148193\n",
      "fold:04 | ep:001 | mean_r 0.1650 | med_r 0.1379 | stop 0\n",
      "fold:04 | ep:002 | mean_r 0.1710 | med_r 0.1600 | stop 0\n",
      "fold:04 | ep:003 | mean_r 0.1762 | med_r 0.1618 | stop 0\n",
      "fold:04 | ep:004 | mean_r 0.1664 | med_r 0.1543 | stop 1\n",
      "fold:04 | ep:005 | mean_r 0.1575 | med_r 0.1360 | stop 2\n",
      "time: 119.91434097290039\n",
      "fold:05 | ep:001 | mean_r 0.1275 | med_r 0.1388 | stop 0\n",
      "fold:05 | ep:002 | mean_r 0.1455 | med_r 0.1578 | stop 0\n",
      "fold:05 | ep:003 | mean_r 0.1561 | med_r 0.1660 | stop 0\n",
      "fold:05 | ep:004 | mean_r 0.1546 | med_r 0.1653 | stop 0\n",
      "fold:05 | ep:005 | mean_r 0.1524 | med_r 0.1650 | stop 0\n",
      "time: 148.61825394630432\n",
      "fold:06 | ep:001 | mean_r 0.1820 | med_r 0.1474 | stop 0\n",
      "fold:06 | ep:002 | mean_r 0.2097 | med_r 0.1789 | stop 0\n",
      "fold:06 | ep:003 | mean_r 0.2147 | med_r 0.1746 | stop 0\n",
      "fold:06 | ep:004 | mean_r 0.2181 | med_r 0.1894 | stop 0\n",
      "fold:06 | ep:005 | mean_r 0.2205 | med_r 0.1961 | stop 0\n",
      "time: 177.03115057945251\n",
      "fold:07 | ep:001 | mean_r 0.1255 | med_r 0.1534 | stop 0\n",
      "fold:07 | ep:002 | mean_r 0.1985 | med_r 0.2203 | stop 0\n",
      "fold:07 | ep:003 | mean_r 0.2345 | med_r 0.2590 | stop 0\n",
      "fold:07 | ep:004 | mean_r 0.2419 | med_r 0.2494 | stop 0\n",
      "fold:07 | ep:005 | mean_r 0.2442 | med_r 0.2648 | stop 0\n",
      "time: 204.83752489089966\n",
      "fold:08 | ep:001 | mean_r 0.1296 | med_r 0.1385 | stop 0\n",
      "fold:08 | ep:002 | mean_r 0.1537 | med_r 0.1611 | stop 0\n",
      "fold:08 | ep:003 | mean_r 0.1530 | med_r 0.1553 | stop 0\n",
      "fold:08 | ep:004 | mean_r 0.1539 | med_r 0.1857 | stop 0\n",
      "fold:08 | ep:005 | mean_r 0.1557 | med_r 0.1988 | stop 0\n",
      "time: 231.8899269104004\n",
      "fold:09 | ep:001 | mean_r 0.1962 | med_r 0.1902 | stop 0\n",
      "fold:09 | ep:002 | mean_r 0.2084 | med_r 0.2167 | stop 0\n",
      "fold:09 | ep:003 | mean_r 0.2006 | med_r 0.2009 | stop 1\n",
      "fold:09 | ep:004 | mean_r 0.1926 | med_r 0.1894 | stop 2\n",
      "fold:09 | ep:005 | mean_r 0.1899 | med_r 0.1788 | stop 3\n",
      "time: 257.7978904247284\n",
      "fold:10 | ep:001 | mean_r 0.1228 | med_r 0.0999 | stop 0\n",
      "fold:10 | ep:002 | mean_r 0.1625 | med_r 0.1415 | stop 0\n",
      "fold:10 | ep:003 | mean_r 0.1724 | med_r 0.1533 | stop 0\n",
      "fold:10 | ep:004 | mean_r 0.1729 | med_r 0.1655 | stop 0\n",
      "fold:10 | ep:005 | mean_r 0.1736 | med_r 0.1744 | stop 0\n",
      "time: 282.85330724716187\n",
      "fold:11 | ep:001 | mean_r 0.1722 | med_r 0.1306 | stop 0\n",
      "fold:11 | ep:002 | mean_r 0.1873 | med_r 0.1693 | stop 0\n",
      "fold:11 | ep:003 | mean_r 0.1960 | med_r 0.1739 | stop 0\n",
      "fold:11 | ep:004 | mean_r 0.1981 | med_r 0.1856 | stop 0\n",
      "fold:11 | ep:005 | mean_r 0.1973 | med_r 0.1821 | stop 0\n",
      "time: 304.91001319885254\n",
      "fold:12 | ep:001 | mean_r 0.1450 | med_r 0.1554 | stop 0\n",
      "fold:12 | ep:002 | mean_r 0.1826 | med_r 0.1875 | stop 0\n",
      "fold:12 | ep:003 | mean_r 0.1936 | med_r 0.2032 | stop 0\n",
      "fold:12 | ep:004 | mean_r 0.1939 | med_r 0.2009 | stop 0\n",
      "fold:12 | ep:005 | mean_r 0.2018 | med_r 0.2074 | stop 0\n",
      "time: 324.8587107658386\n",
      "fold:13 | ep:001 | mean_r 0.0044 | med_r 0.0208 | stop 0\n",
      "fold:13 | ep:002 | mean_r 0.0406 | med_r 0.0265 | stop 0\n",
      "fold:13 | ep:003 | mean_r 0.0869 | med_r 0.0651 | stop 0\n",
      "fold:13 | ep:004 | mean_r 0.1278 | med_r 0.1186 | stop 0\n",
      "fold:13 | ep:005 | mean_r 0.1534 | med_r 0.1609 | stop 0\n",
      "time: 343.7242510318756\n",
      "fold:14 | ep:001 | mean_r 0.0697 | med_r 0.0786 | stop 0\n",
      "fold:14 | ep:002 | mean_r 0.1605 | med_r 0.1223 | stop 0\n",
      "fold:14 | ep:003 | mean_r 0.1981 | med_r 0.1962 | stop 0\n",
      "fold:14 | ep:004 | mean_r 0.2185 | med_r 0.2358 | stop 0\n",
      "fold:14 | ep:005 | mean_r 0.2115 | med_r 0.2073 | stop 1\n",
      "time: 360.6205644607544\n",
      "fold:15 | ep:001 | mean_r 0.0986 | med_r 0.0816 | stop 0\n",
      "fold:15 | ep:002 | mean_r 0.1630 | med_r 0.1399 | stop 0\n",
      "fold:15 | ep:003 | mean_r 0.1806 | med_r 0.1308 | stop 0\n",
      "fold:15 | ep:004 | mean_r 0.1874 | med_r 0.1325 | stop 0\n",
      "fold:15 | ep:005 | mean_r 0.1860 | med_r 0.1273 | stop 0\n",
      "time: 375.5804281234741\n",
      "fold:16 | ep:001 | mean_r 0.2030 | med_r 0.2236 | stop 0\n",
      "fold:16 | ep:002 | mean_r 0.2412 | med_r 0.2720 | stop 0\n",
      "fold:16 | ep:003 | mean_r 0.2378 | med_r 0.2765 | stop 0\n",
      "fold:16 | ep:004 | mean_r 0.2246 | med_r 0.2720 | stop 0\n",
      "fold:16 | ep:005 | mean_r 0.2218 | med_r 0.2598 | stop 0\n",
      "time: 389.5566427707672\n",
      "fold:17 | ep:001 | mean_r 0.1713 | med_r 0.1392 | stop 0\n",
      "fold:17 | ep:002 | mean_r 0.2000 | med_r 0.1926 | stop 0\n",
      "fold:17 | ep:003 | mean_r 0.2115 | med_r 0.1934 | stop 0\n",
      "fold:17 | ep:004 | mean_r 0.2154 | med_r 0.2227 | stop 0\n",
      "fold:17 | ep:005 | mean_r 0.2165 | med_r 0.1954 | stop 1\n",
      "time: 402.35191917419434\n",
      "fold:18 | ep:001 | mean_r 0.1228 | med_r 0.1082 | stop 0\n",
      "fold:18 | ep:002 | mean_r 0.1788 | med_r 0.1837 | stop 0\n",
      "fold:18 | ep:003 | mean_r 0.2126 | med_r 0.2253 | stop 0\n",
      "fold:18 | ep:004 | mean_r 0.2357 | med_r 0.2413 | stop 0\n",
      "fold:18 | ep:005 | mean_r 0.2546 | med_r 0.2552 | stop 0\n",
      "time: 414.2154574394226\n",
      "fold:19 | ep:001 | mean_r 0.0123 | med_r 0.0279 | stop 0\n",
      "fold:19 | ep:002 | mean_r 0.0741 | med_r 0.0855 | stop 0\n",
      "fold:19 | ep:003 | mean_r 0.1240 | med_r 0.1174 | stop 0\n",
      "fold:19 | ep:004 | mean_r 0.0655 | med_r 0.0966 | stop 1\n",
      "fold:19 | ep:005 | mean_r 0.1000 | med_r 0.0892 | stop 2\n",
      "time: 424.9010007381439\n",
      "fold:20 | ep:001 | mean_r 0.0506 | med_r 0.0373 | stop 0\n",
      "fold:20 | ep:002 | mean_r 0.0969 | med_r 0.1029 | stop 0\n",
      "fold:20 | ep:003 | mean_r 0.1199 | med_r 0.1393 | stop 0\n",
      "fold:20 | ep:004 | mean_r 0.1295 | med_r 0.1117 | stop 1\n"
     ]
    },
    {
     "name": "stderr",
     "output_type": "stream",
     "text": [
      " 25%|██▌       | 2/8 [14:47<44:12, 442.08s/it]"
     ]
    },
    {
     "name": "stdout",
     "output_type": "stream",
     "text": [
      "fold:20 | ep:005 | mean_r 0.1283 | med_r 0.1097 | stop 2\n",
      "time: 433.92142510414124\n",
      "(256, 128) relu 0.25 8192 0 0\n",
      "fold:01 | ep:001 | mean_r 0.1653 | med_r 0.1910 | stop 0\n",
      "fold:01 | ep:002 | mean_r 0.1311 | med_r 0.1427 | stop 1\n",
      "fold:01 | ep:003 | mean_r 0.1295 | med_r 0.1481 | stop 2\n",
      "fold:01 | ep:004 | mean_r 0.1601 | med_r 0.1732 | stop 3\n",
      "fold:01 | ep:005 | mean_r 0.1584 | med_r 0.1647 | stop 4\n",
      "time: 31.49232769012451\n",
      "fold:02 | ep:001 | mean_r 0.1450 | med_r 0.1443 | stop 0\n",
      "fold:02 | ep:002 | mean_r 0.1281 | med_r 0.1297 | stop 1\n",
      "fold:02 | ep:003 | mean_r 0.1142 | med_r 0.1009 | stop 2\n",
      "fold:02 | ep:004 | mean_r 0.1088 | med_r 0.1003 | stop 3\n",
      "fold:02 | ep:005 | mean_r 0.0808 | med_r 0.0727 | stop 4\n",
      "time: 62.793126344680786\n",
      "fold:03 | ep:001 | mean_r 0.1276 | med_r 0.1131 | stop 0\n",
      "fold:03 | ep:002 | mean_r 0.1163 | med_r 0.1124 | stop 1\n",
      "fold:03 | ep:003 | mean_r 0.1046 | med_r 0.0833 | stop 2\n",
      "fold:03 | ep:004 | mean_r 0.0813 | med_r 0.0830 | stop 3\n",
      "fold:03 | ep:005 | mean_r 0.0870 | med_r 0.0729 | stop 4\n",
      "time: 93.90168190002441\n",
      "fold:04 | ep:001 | mean_r 0.0988 | med_r 0.1131 | stop 0\n",
      "fold:04 | ep:002 | mean_r 0.0879 | med_r 0.0751 | stop 1\n",
      "fold:04 | ep:003 | mean_r 0.0844 | med_r 0.0966 | stop 2\n",
      "fold:04 | ep:004 | mean_r 0.0777 | med_r 0.0723 | stop 3\n",
      "fold:04 | ep:005 | mean_r 0.1117 | med_r 0.1100 | stop 0\n",
      "time: 124.09967255592346\n",
      "fold:05 | ep:001 | mean_r 0.1330 | med_r 0.1181 | stop 0\n",
      "fold:05 | ep:002 | mean_r 0.1026 | med_r 0.0974 | stop 1\n",
      "fold:05 | ep:003 | mean_r 0.1123 | med_r 0.1308 | stop 0\n",
      "fold:05 | ep:004 | mean_r 0.1044 | med_r 0.0930 | stop 1\n",
      "fold:05 | ep:005 | mean_r 0.1247 | med_r 0.1135 | stop 0\n",
      "time: 154.36287641525269\n",
      "fold:06 | ep:001 | mean_r 0.1729 | med_r 0.1643 | stop 0\n",
      "fold:06 | ep:002 | mean_r 0.1428 | med_r 0.1327 | stop 1\n",
      "fold:06 | ep:003 | mean_r 0.1426 | med_r 0.1355 | stop 2\n",
      "fold:06 | ep:004 | mean_r 0.1351 | med_r 0.1436 | stop 3\n",
      "fold:06 | ep:005 | mean_r 0.1365 | med_r 0.1325 | stop 4\n",
      "time: 183.71945142745972\n",
      "fold:07 | ep:001 | mean_r 0.1936 | med_r 0.1870 | stop 0\n",
      "fold:07 | ep:002 | mean_r 0.1992 | med_r 0.2210 | stop 0\n",
      "fold:07 | ep:003 | mean_r 0.1816 | med_r 0.1966 | stop 1\n",
      "fold:07 | ep:004 | mean_r 0.1704 | med_r 0.1759 | stop 2\n",
      "fold:07 | ep:005 | mean_r 0.1676 | med_r 0.1736 | stop 3\n",
      "time: 212.50417804718018\n",
      "fold:08 | ep:001 | mean_r 0.1286 | med_r 0.1511 | stop 0\n",
      "fold:08 | ep:002 | mean_r 0.1196 | med_r 0.1454 | stop 1\n",
      "fold:08 | ep:003 | mean_r 0.1047 | med_r 0.1049 | stop 2\n",
      "fold:08 | ep:004 | mean_r 0.0923 | med_r 0.1004 | stop 3\n",
      "fold:08 | ep:005 | mean_r 0.0959 | med_r 0.0989 | stop 4\n",
      "time: 240.68974375724792\n",
      "fold:09 | ep:001 | mean_r 0.1278 | med_r 0.1322 | stop 0\n",
      "fold:09 | ep:002 | mean_r 0.1340 | med_r 0.1447 | stop 0\n",
      "fold:09 | ep:003 | mean_r 0.1147 | med_r 0.1353 | stop 1\n",
      "fold:09 | ep:004 | mean_r 0.1155 | med_r 0.1196 | stop 2\n",
      "fold:09 | ep:005 | mean_r 0.1004 | med_r 0.0911 | stop 3\n",
      "time: 267.55215644836426\n",
      "fold:10 | ep:001 | mean_r 0.1329 | med_r 0.1361 | stop 0\n",
      "fold:10 | ep:002 | mean_r 0.1259 | med_r 0.1199 | stop 1\n",
      "fold:10 | ep:003 | mean_r 0.1038 | med_r 0.1348 | stop 2\n",
      "fold:10 | ep:004 | mean_r 0.0811 | med_r 0.0800 | stop 3\n",
      "fold:10 | ep:005 | mean_r 0.0730 | med_r 0.0658 | stop 4\n",
      "time: 293.4925696849823\n",
      "fold:11 | ep:001 | mean_r 0.1713 | med_r 0.1570 | stop 0\n",
      "fold:11 | ep:002 | mean_r 0.1768 | med_r 0.1651 | stop 0\n",
      "fold:11 | ep:003 | mean_r 0.1595 | med_r 0.1627 | stop 1\n",
      "fold:11 | ep:004 | mean_r 0.1673 | med_r 0.1439 | stop 2\n",
      "fold:11 | ep:005 | mean_r 0.1598 | med_r 0.1476 | stop 3\n",
      "time: 316.37142729759216\n",
      "fold:12 | ep:001 | mean_r 0.1509 | med_r 0.1526 | stop 0\n",
      "fold:12 | ep:002 | mean_r 0.1541 | med_r 0.1809 | stop 0\n",
      "fold:12 | ep:003 | mean_r 0.1409 | med_r 0.1510 | stop 1\n",
      "fold:12 | ep:004 | mean_r 0.1353 | med_r 0.1571 | stop 2\n",
      "fold:12 | ep:005 | mean_r 0.1528 | med_r 0.1741 | stop 0\n",
      "time: 336.6761701107025\n",
      "fold:13 | ep:001 | mean_r 0.1515 | med_r 0.1173 | stop 0\n",
      "fold:13 | ep:002 | mean_r 0.1365 | med_r 0.1539 | stop 0\n",
      "fold:13 | ep:003 | mean_r 0.1074 | med_r 0.1154 | stop 1\n",
      "fold:13 | ep:004 | mean_r 0.0703 | med_r 0.0712 | stop 2\n",
      "fold:13 | ep:005 | mean_r 0.0656 | med_r 0.0692 | stop 3\n",
      "time: 356.1267628669739\n",
      "fold:14 | ep:001 | mean_r 0.1289 | med_r 0.1360 | stop 0\n",
      "fold:14 | ep:002 | mean_r 0.0981 | med_r 0.0895 | stop 1\n",
      "fold:14 | ep:003 | mean_r 0.0843 | med_r 0.0875 | stop 2\n",
      "fold:14 | ep:004 | mean_r 0.0775 | med_r 0.0667 | stop 3\n",
      "fold:14 | ep:005 | mean_r 0.0748 | med_r 0.0865 | stop 4\n",
      "time: 373.549813747406\n",
      "fold:15 | ep:001 | mean_r 0.1473 | med_r 0.1307 | stop 0\n",
      "fold:15 | ep:002 | mean_r 0.1488 | med_r 0.1142 | stop 1\n",
      "fold:15 | ep:003 | mean_r 0.1433 | med_r 0.1173 | stop 2\n",
      "fold:15 | ep:004 | mean_r 0.1350 | med_r 0.1438 | stop 0\n",
      "fold:15 | ep:005 | mean_r 0.1094 | med_r 0.1073 | stop 1\n",
      "time: 389.00904631614685\n",
      "fold:16 | ep:001 | mean_r 0.1915 | med_r 0.2207 | stop 0\n",
      "fold:16 | ep:002 | mean_r 0.1735 | med_r 0.2193 | stop 0\n",
      "fold:16 | ep:003 | mean_r 0.1540 | med_r 0.1509 | stop 1\n",
      "fold:16 | ep:004 | mean_r 0.1289 | med_r 0.1301 | stop 2\n",
      "fold:16 | ep:005 | mean_r 0.1278 | med_r 0.1380 | stop 3\n",
      "time: 403.414057970047\n",
      "fold:17 | ep:001 | mean_r 0.2047 | med_r 0.1864 | stop 0\n",
      "fold:17 | ep:002 | mean_r 0.1809 | med_r 0.1459 | stop 1\n",
      "fold:17 | ep:003 | mean_r 0.1599 | med_r 0.1236 | stop 2\n",
      "fold:17 | ep:004 | mean_r 0.1542 | med_r 0.1271 | stop 3\n",
      "fold:17 | ep:005 | mean_r 0.1557 | med_r 0.1410 | stop 4\n",
      "time: 416.49737071990967\n",
      "fold:18 | ep:001 | mean_r 0.2263 | med_r 0.1871 | stop 0\n",
      "fold:18 | ep:002 | mean_r 0.2325 | med_r 0.1778 | stop 0\n",
      "fold:18 | ep:003 | mean_r 0.2412 | med_r 0.2099 | stop 0\n",
      "fold:18 | ep:004 | mean_r 0.2343 | med_r 0.2052 | stop 0\n",
      "fold:18 | ep:005 | mean_r 0.2421 | med_r 0.1972 | stop 0\n",
      "time: 428.48427057266235\n",
      "fold:19 | ep:001 | mean_r 0.1691 | med_r 0.1814 | stop 0\n",
      "fold:19 | ep:002 | mean_r 0.2013 | med_r 0.2259 | stop 0\n",
      "fold:19 | ep:003 | mean_r 0.2126 | med_r 0.2310 | stop 0\n",
      "fold:19 | ep:004 | mean_r 0.2140 | med_r 0.2380 | stop 0\n",
      "fold:19 | ep:005 | mean_r 0.2051 | med_r 0.2115 | stop 1\n",
      "time: 439.4467453956604\n",
      "fold:20 | ep:001 | mean_r 0.0743 | med_r 0.0770 | stop 0\n",
      "fold:20 | ep:002 | mean_r 0.1002 | med_r 0.1298 | stop 0\n",
      "fold:20 | ep:003 | mean_r 0.1115 | med_r 0.1292 | stop 0\n",
      "fold:20 | ep:004 | mean_r 0.1190 | med_r 0.1421 | stop 0\n"
     ]
    },
    {
     "name": "stderr",
     "output_type": "stream",
     "text": [
      " 38%|███▊      | 3/8 [22:16<37:05, 445.11s/it]"
     ]
    },
    {
     "name": "stdout",
     "output_type": "stream",
     "text": [
      "fold:20 | ep:005 | mean_r 0.1016 | med_r 0.1191 | stop 1\n",
      "time: 448.7088544368744\n",
      "(32, 16) relu 0.5 8192 0 0\n",
      "fold:01 | ep:001 | mean_r 0.1462 | med_r 0.1220 | stop 0\n",
      "fold:01 | ep:002 | mean_r 0.1999 | med_r 0.1745 | stop 0\n",
      "fold:01 | ep:003 | mean_r 0.2209 | med_r 0.1798 | stop 0\n",
      "fold:01 | ep:004 | mean_r 0.2243 | med_r 0.1984 | stop 0\n",
      "fold:01 | ep:005 | mean_r 0.2354 | med_r 0.2056 | stop 0\n",
      "time: 30.140594482421875\n",
      "fold:02 | ep:001 | mean_r 0.0400 | med_r 0.0566 | stop 0\n",
      "fold:02 | ep:002 | mean_r 0.1430 | med_r 0.1354 | stop 0\n",
      "fold:02 | ep:003 | mean_r 0.1715 | med_r 0.1567 | stop 0\n",
      "fold:02 | ep:004 | mean_r 0.1869 | med_r 0.1896 | stop 0\n",
      "fold:02 | ep:005 | mean_r 0.1950 | med_r 0.2082 | stop 0\n",
      "time: 60.395365953445435\n",
      "fold:03 | ep:001 | mean_r 0.1036 | med_r 0.0858 | stop 0\n",
      "fold:03 | ep:002 | mean_r 0.1796 | med_r 0.1695 | stop 0\n",
      "fold:03 | ep:003 | mean_r 0.1891 | med_r 0.1810 | stop 0\n",
      "fold:03 | ep:004 | mean_r 0.1895 | med_r 0.1792 | stop 0\n",
      "fold:03 | ep:005 | mean_r 0.1898 | med_r 0.1914 | stop 0\n",
      "time: 90.20958733558655\n",
      "fold:04 | ep:001 | mean_r 0.1286 | med_r 0.1247 | stop 0\n",
      "fold:04 | ep:002 | mean_r 0.1523 | med_r 0.1465 | stop 0\n",
      "fold:04 | ep:003 | mean_r 0.1659 | med_r 0.1606 | stop 0\n",
      "fold:04 | ep:004 | mean_r 0.1674 | med_r 0.1574 | stop 0\n",
      "fold:04 | ep:005 | mean_r 0.1641 | med_r 0.1295 | stop 1\n",
      "time: 120.10176062583923\n",
      "fold:05 | ep:001 | mean_r 0.1126 | med_r 0.1161 | stop 0\n",
      "fold:05 | ep:002 | mean_r 0.1287 | med_r 0.1387 | stop 0\n",
      "fold:05 | ep:003 | mean_r 0.1366 | med_r 0.1306 | stop 0\n",
      "fold:05 | ep:004 | mean_r 0.1378 | med_r 0.1456 | stop 0\n",
      "fold:05 | ep:005 | mean_r 0.1389 | med_r 0.1562 | stop 0\n",
      "time: 148.85038208961487\n",
      "fold:06 | ep:001 | mean_r 0.1443 | med_r 0.1522 | stop 0\n",
      "fold:06 | ep:002 | mean_r 0.1825 | med_r 0.1694 | stop 0\n",
      "fold:06 | ep:003 | mean_r 0.1621 | med_r 0.1503 | stop 1\n",
      "fold:06 | ep:004 | mean_r 0.1649 | med_r 0.1484 | stop 2\n",
      "fold:06 | ep:005 | mean_r 0.1975 | med_r 0.1789 | stop 0\n",
      "time: 177.4164538383484\n",
      "fold:07 | ep:001 | mean_r 0.1259 | med_r 0.1534 | stop 0\n",
      "fold:07 | ep:002 | mean_r 0.2301 | med_r 0.2570 | stop 0\n",
      "fold:07 | ep:003 | mean_r 0.2415 | med_r 0.2681 | stop 0\n",
      "fold:07 | ep:004 | mean_r 0.2371 | med_r 0.2560 | stop 0\n",
      "fold:07 | ep:005 | mean_r 0.2321 | med_r 0.2594 | stop 0\n",
      "time: 205.472327709198\n",
      "fold:08 | ep:001 | mean_r 0.0723 | med_r 0.0690 | stop 0\n",
      "fold:08 | ep:002 | mean_r 0.0931 | med_r 0.0963 | stop 0\n",
      "fold:08 | ep:003 | mean_r 0.1051 | med_r 0.1052 | stop 0\n",
      "fold:08 | ep:004 | mean_r 0.1349 | med_r 0.1440 | stop 0\n",
      "fold:08 | ep:005 | mean_r 0.1407 | med_r 0.1668 | stop 0\n",
      "time: 232.55540561676025\n",
      "fold:09 | ep:001 | mean_r-0.0257 | med_r-0.0348 | stop 0\n",
      "fold:09 | ep:002 | mean_r 0.0182 | med_r 0.0080 | stop 0\n",
      "fold:09 | ep:003 | mean_r 0.1465 | med_r 0.1299 | stop 0\n",
      "fold:09 | ep:004 | mean_r 0.1795 | med_r 0.1644 | stop 0\n",
      "fold:09 | ep:005 | mean_r 0.1863 | med_r 0.1806 | stop 0\n",
      "time: 258.4626841545105\n",
      "fold:10 | ep:001 | mean_r 0.1172 | med_r 0.0895 | stop 0\n",
      "fold:10 | ep:002 | mean_r 0.1658 | med_r 0.1700 | stop 0\n",
      "fold:10 | ep:003 | mean_r 0.1852 | med_r 0.1465 | stop 0\n",
      "fold:10 | ep:004 | mean_r 0.1950 | med_r 0.1804 | stop 0\n",
      "fold:10 | ep:005 | mean_r 0.1955 | med_r 0.1846 | stop 0\n",
      "time: 283.3172860145569\n",
      "fold:11 | ep:001 | mean_r 0.0170 | med_r 0.0326 | stop 0\n",
      "fold:11 | ep:002 | mean_r 0.0150 | med_r 0.0407 | stop 0\n",
      "fold:11 | ep:003 | mean_r 0.0129 | med_r 0.0169 | stop 1\n",
      "fold:11 | ep:004 | mean_r 0.0168 | med_r 0.0085 | stop 2\n",
      "fold:11 | ep:005 | mean_r 0.0189 | med_r 0.0038 | stop 3\n",
      "time: 305.3898355960846\n",
      "fold:12 | ep:001 | mean_r 0.0257 | med_r 0.0486 | stop 0\n",
      "fold:12 | ep:002 | mean_r 0.1253 | med_r 0.1317 | stop 0\n",
      "fold:12 | ep:003 | mean_r 0.1468 | med_r 0.1679 | stop 0\n",
      "fold:12 | ep:004 | mean_r 0.1612 | med_r 0.1820 | stop 0\n",
      "fold:12 | ep:005 | mean_r 0.1861 | med_r 0.1975 | stop 0\n",
      "time: 325.0840470790863\n",
      "fold:13 | ep:001 | mean_r 0.0953 | med_r 0.1026 | stop 0\n",
      "fold:13 | ep:002 | mean_r 0.0840 | med_r 0.0659 | stop 1\n",
      "fold:13 | ep:003 | mean_r 0.0905 | med_r 0.0967 | stop 2\n",
      "fold:13 | ep:004 | mean_r 0.1007 | med_r 0.0880 | stop 0\n",
      "fold:13 | ep:005 | mean_r 0.1154 | med_r 0.1012 | stop 0\n",
      "time: 344.13273572921753\n",
      "fold:14 | ep:001 | mean_r 0.1109 | med_r 0.1067 | stop 0\n",
      "fold:14 | ep:002 | mean_r 0.1475 | med_r 0.1453 | stop 0\n",
      "fold:14 | ep:003 | mean_r 0.1577 | med_r 0.1378 | stop 0\n",
      "fold:14 | ep:004 | mean_r 0.1706 | med_r 0.1498 | stop 0\n",
      "fold:14 | ep:005 | mean_r 0.1867 | med_r 0.1742 | stop 0\n",
      "time: 361.0668737888336\n",
      "fold:15 | ep:001 | mean_r-0.0446 | med_r-0.0291 | stop 0\n",
      "fold:15 | ep:002 | mean_r-0.0164 | med_r-0.0177 | stop 0\n",
      "fold:15 | ep:003 | mean_r 0.0046 | med_r-0.0016 | stop 0\n",
      "fold:15 | ep:004 | mean_r 0.0163 | med_r 0.0156 | stop 0\n",
      "fold:15 | ep:005 | mean_r 0.0270 | med_r 0.0064 | stop 0\n",
      "time: 375.92809104919434\n",
      "fold:16 | ep:001 | mean_r-0.0096 | med_r-0.0095 | stop 0\n",
      "fold:16 | ep:002 | mean_r 0.0249 | med_r 0.0085 | stop 0\n",
      "fold:16 | ep:003 | mean_r 0.0557 | med_r 0.0580 | stop 0\n",
      "fold:16 | ep:004 | mean_r 0.1019 | med_r 0.0920 | stop 0\n",
      "fold:16 | ep:005 | mean_r 0.1225 | med_r 0.1326 | stop 0\n",
      "time: 389.829470872879\n",
      "fold:17 | ep:001 | mean_r 0.0780 | med_r 0.1004 | stop 0\n",
      "fold:17 | ep:002 | mean_r 0.1516 | med_r 0.1595 | stop 0\n",
      "fold:17 | ep:003 | mean_r 0.1933 | med_r 0.2104 | stop 0\n",
      "fold:17 | ep:004 | mean_r 0.2193 | med_r 0.2380 | stop 0\n",
      "fold:17 | ep:005 | mean_r 0.2271 | med_r 0.2362 | stop 0\n",
      "time: 402.4402129650116\n",
      "fold:18 | ep:001 | mean_r 0.0612 | med_r 0.0334 | stop 0\n",
      "fold:18 | ep:002 | mean_r 0.0101 | med_r-0.0141 | stop 1\n",
      "fold:18 | ep:003 | mean_r 0.0102 | med_r 0.0297 | stop 2\n",
      "fold:18 | ep:004 | mean_r 0.0506 | med_r 0.0634 | stop 0\n",
      "fold:18 | ep:005 | mean_r 0.0718 | med_r 0.0722 | stop 0\n",
      "time: 413.94993019104004\n",
      "fold:19 | ep:001 | mean_r 0.0334 | med_r 0.0324 | stop 0\n",
      "fold:19 | ep:002 | mean_r 0.0383 | med_r 0.0237 | stop 1\n",
      "fold:19 | ep:003 | mean_r 0.0571 | med_r 0.0504 | stop 0\n",
      "fold:19 | ep:004 | mean_r 0.0671 | med_r 0.0500 | stop 0\n",
      "fold:19 | ep:005 | mean_r 0.0771 | med_r 0.0612 | stop 0\n",
      "time: 424.48535418510437\n",
      "fold:20 | ep:001 | mean_r-0.0477 | med_r-0.0475 | stop 0\n",
      "fold:20 | ep:002 | mean_r-0.0408 | med_r-0.0192 | stop 0\n",
      "fold:20 | ep:003 | mean_r-0.0428 | med_r-0.0426 | stop 1\n",
      "fold:20 | ep:004 | mean_r-0.0394 | med_r-0.0334 | stop 2\n"
     ]
    },
    {
     "name": "stderr",
     "output_type": "stream",
     "text": [
      " 50%|█████     | 4/8 [29:29<29:22, 440.58s/it]"
     ]
    },
    {
     "name": "stdout",
     "output_type": "stream",
     "text": [
      "fold:20 | ep:005 | mean_r-0.0316 | med_r-0.0238 | stop 0\n",
      "time: 433.5955591201782\n",
      "(128, 64) relu 0.25 8192 0 0\n",
      "fold:01 | ep:001 | mean_r 0.2083 | med_r 0.1921 | stop 0\n",
      "fold:01 | ep:002 | mean_r 0.1801 | med_r 0.1721 | stop 1\n",
      "fold:01 | ep:003 | mean_r 0.1773 | med_r 0.1862 | stop 2\n",
      "fold:01 | ep:004 | mean_r 0.1406 | med_r 0.1660 | stop 3\n",
      "fold:01 | ep:005 | mean_r 0.1713 | med_r 0.1847 | stop 4\n",
      "time: 30.32084822654724\n",
      "fold:02 | ep:001 | mean_r 0.1637 | med_r 0.1511 | stop 0\n",
      "fold:02 | ep:002 | mean_r 0.1369 | med_r 0.1318 | stop 1\n",
      "fold:02 | ep:003 | mean_r 0.1061 | med_r 0.1119 | stop 2\n",
      "fold:02 | ep:004 | mean_r 0.0784 | med_r 0.0768 | stop 3\n",
      "fold:02 | ep:005 | mean_r 0.0981 | med_r 0.1070 | stop 4\n",
      "time: 60.36438846588135\n",
      "fold:03 | ep:001 | mean_r 0.1704 | med_r 0.1676 | stop 0\n",
      "fold:03 | ep:002 | mean_r 0.1618 | med_r 0.1693 | stop 0\n",
      "fold:03 | ep:003 | mean_r 0.1480 | med_r 0.1532 | stop 1\n",
      "fold:03 | ep:004 | mean_r 0.1303 | med_r 0.1158 | stop 2\n",
      "fold:03 | ep:005 | mean_r 0.1267 | med_r 0.1065 | stop 3\n",
      "time: 90.19277167320251\n",
      "fold:04 | ep:001 | mean_r 0.1387 | med_r 0.1360 | stop 0\n",
      "fold:04 | ep:002 | mean_r 0.1309 | med_r 0.1262 | stop 1\n",
      "fold:04 | ep:003 | mean_r 0.1170 | med_r 0.1282 | stop 2\n",
      "fold:04 | ep:004 | mean_r 0.1260 | med_r 0.1074 | stop 3\n",
      "fold:04 | ep:005 | mean_r 0.1092 | med_r 0.0932 | stop 4\n",
      "time: 119.48449802398682\n",
      "fold:05 | ep:001 | mean_r 0.1350 | med_r 0.1312 | stop 0\n",
      "fold:05 | ep:002 | mean_r 0.1420 | med_r 0.1540 | stop 0\n",
      "fold:05 | ep:003 | mean_r 0.1158 | med_r 0.1039 | stop 1\n",
      "fold:05 | ep:004 | mean_r 0.1225 | med_r 0.1168 | stop 2\n",
      "fold:05 | ep:005 | mean_r 0.1235 | med_r 0.1106 | stop 3\n",
      "time: 148.4601709842682\n",
      "fold:06 | ep:001 | mean_r 0.1783 | med_r 0.1599 | stop 0\n",
      "fold:06 | ep:002 | mean_r 0.1712 | med_r 0.1645 | stop 0\n",
      "fold:06 | ep:003 | mean_r 0.1793 | med_r 0.1777 | stop 0\n",
      "fold:06 | ep:004 | mean_r 0.1539 | med_r 0.1548 | stop 1\n",
      "fold:06 | ep:005 | mean_r 0.1674 | med_r 0.1829 | stop 0\n",
      "time: 176.84006690979004\n",
      "fold:07 | ep:001 | mean_r 0.2215 | med_r 0.2102 | stop 0\n",
      "fold:07 | ep:002 | mean_r 0.2013 | med_r 0.2091 | stop 0\n",
      "fold:07 | ep:003 | mean_r 0.1693 | med_r 0.1400 | stop 1\n",
      "fold:07 | ep:004 | mean_r 0.1438 | med_r 0.1374 | stop 2\n",
      "fold:07 | ep:005 | mean_r 0.1313 | med_r 0.1130 | stop 3\n",
      "time: 204.57225799560547\n",
      "fold:08 | ep:001 | mean_r 0.1006 | med_r 0.1227 | stop 0\n",
      "fold:08 | ep:002 | mean_r 0.1038 | med_r 0.1203 | stop 0\n",
      "fold:08 | ep:003 | mean_r 0.1040 | med_r 0.1233 | stop 0\n",
      "fold:08 | ep:004 | mean_r 0.1080 | med_r 0.1191 | stop 0\n",
      "fold:08 | ep:005 | mean_r 0.0935 | med_r 0.1091 | stop 1\n",
      "time: 231.6642301082611\n",
      "fold:09 | ep:001 | mean_r 0.1570 | med_r 0.1741 | stop 0\n",
      "fold:09 | ep:002 | mean_r 0.1400 | med_r 0.1475 | stop 1\n",
      "fold:09 | ep:003 | mean_r 0.1265 | med_r 0.1184 | stop 2\n",
      "fold:09 | ep:004 | mean_r 0.1243 | med_r 0.1360 | stop 3\n",
      "fold:09 | ep:005 | mean_r 0.1307 | med_r 0.1355 | stop 4\n",
      "time: 257.52301478385925\n",
      "fold:10 | ep:001 | mean_r 0.1491 | med_r 0.1573 | stop 0\n",
      "fold:10 | ep:002 | mean_r 0.1331 | med_r 0.1565 | stop 1\n",
      "fold:10 | ep:003 | mean_r 0.1302 | med_r 0.1461 | stop 2\n",
      "fold:10 | ep:004 | mean_r 0.1272 | med_r 0.1131 | stop 3\n",
      "fold:10 | ep:005 | mean_r 0.1190 | med_r 0.1344 | stop 4\n",
      "time: 282.565069437027\n",
      "fold:11 | ep:001 | mean_r 0.1797 | med_r 0.1614 | stop 0\n",
      "fold:11 | ep:002 | mean_r 0.1741 | med_r 0.1514 | stop 0\n",
      "fold:11 | ep:003 | mean_r 0.1513 | med_r 0.1661 | stop 0\n",
      "fold:11 | ep:004 | mean_r 0.1518 | med_r 0.1795 | stop 0\n",
      "fold:11 | ep:005 | mean_r 0.1506 | med_r 0.1778 | stop 0\n",
      "time: 304.46624279022217\n",
      "fold:12 | ep:001 | mean_r 0.1332 | med_r 0.1500 | stop 0\n",
      "fold:12 | ep:002 | mean_r 0.1757 | med_r 0.1926 | stop 0\n",
      "fold:12 | ep:003 | mean_r 0.1804 | med_r 0.1948 | stop 0\n",
      "fold:12 | ep:004 | mean_r 0.1839 | med_r 0.1974 | stop 0\n",
      "fold:12 | ep:005 | mean_r 0.1891 | med_r 0.1957 | stop 0\n",
      "time: 324.29464840888977\n",
      "fold:13 | ep:001 | mean_r 0.1893 | med_r 0.1968 | stop 0\n",
      "fold:13 | ep:002 | mean_r 0.2067 | med_r 0.2142 | stop 0\n",
      "fold:13 | ep:003 | mean_r 0.2083 | med_r 0.2165 | stop 0\n",
      "fold:13 | ep:004 | mean_r 0.1924 | med_r 0.1946 | stop 1\n",
      "fold:13 | ep:005 | mean_r 0.1563 | med_r 0.1686 | stop 2\n",
      "time: 343.194477558136\n",
      "fold:14 | ep:001 | mean_r 0.1572 | med_r 0.1235 | stop 0\n",
      "fold:14 | ep:002 | mean_r 0.1465 | med_r 0.1200 | stop 1\n",
      "fold:14 | ep:003 | mean_r 0.1436 | med_r 0.1288 | stop 0\n",
      "fold:14 | ep:004 | mean_r 0.1326 | med_r 0.1292 | stop 0\n",
      "fold:14 | ep:005 | mean_r 0.1417 | med_r 0.1214 | stop 0\n",
      "time: 360.01340770721436\n",
      "fold:15 | ep:001 | mean_r 0.1487 | med_r 0.0978 | stop 0\n",
      "fold:15 | ep:002 | mean_r 0.1524 | med_r 0.1145 | stop 0\n",
      "fold:15 | ep:003 | mean_r 0.1550 | med_r 0.1189 | stop 0\n",
      "fold:15 | ep:004 | mean_r 0.1655 | med_r 0.1415 | stop 0\n",
      "fold:15 | ep:005 | mean_r 0.1563 | med_r 0.1304 | stop 1\n",
      "time: 375.04631185531616\n",
      "fold:16 | ep:001 | mean_r 0.1615 | med_r 0.1710 | stop 0\n",
      "fold:16 | ep:002 | mean_r 0.1934 | med_r 0.2075 | stop 0\n",
      "fold:16 | ep:003 | mean_r 0.1802 | med_r 0.1967 | stop 1\n",
      "fold:16 | ep:004 | mean_r 0.1694 | med_r 0.1831 | stop 2\n",
      "fold:16 | ep:005 | mean_r 0.1513 | med_r 0.1580 | stop 3\n",
      "time: 389.01519322395325\n",
      "fold:17 | ep:001 | mean_r 0.1449 | med_r 0.1519 | stop 0\n",
      "fold:17 | ep:002 | mean_r 0.1715 | med_r 0.1486 | stop 0\n",
      "fold:17 | ep:003 | mean_r 0.1741 | med_r 0.1723 | stop 0\n",
      "fold:17 | ep:004 | mean_r 0.1843 | med_r 0.1638 | stop 0\n",
      "fold:17 | ep:005 | mean_r 0.1817 | med_r 0.1731 | stop 0\n",
      "time: 401.7239580154419\n",
      "fold:18 | ep:001 | mean_r 0.1810 | med_r 0.1578 | stop 0\n",
      "fold:18 | ep:002 | mean_r 0.1961 | med_r 0.1853 | stop 0\n",
      "fold:18 | ep:003 | mean_r 0.2256 | med_r 0.1917 | stop 0\n",
      "fold:18 | ep:004 | mean_r 0.2447 | med_r 0.2248 | stop 0\n",
      "fold:18 | ep:005 | mean_r 0.2391 | med_r 0.2336 | stop 0\n",
      "time: 413.3497338294983\n",
      "fold:19 | ep:001 | mean_r 0.0282 | med_r 0.0471 | stop 0\n",
      "fold:19 | ep:002 | mean_r 0.0968 | med_r 0.1201 | stop 0\n",
      "fold:19 | ep:003 | mean_r 0.1476 | med_r 0.1446 | stop 0\n",
      "fold:19 | ep:004 | mean_r 0.1592 | med_r 0.1293 | stop 0\n",
      "fold:19 | ep:005 | mean_r 0.1545 | med_r 0.1337 | stop 0\n",
      "time: 423.9676659107208\n",
      "fold:20 | ep:001 | mean_r 0.1074 | med_r 0.1149 | stop 0\n",
      "fold:20 | ep:002 | mean_r 0.1195 | med_r 0.1300 | stop 0\n",
      "fold:20 | ep:003 | mean_r 0.1219 | med_r 0.1340 | stop 0\n",
      "fold:20 | ep:004 | mean_r 0.1368 | med_r 0.1662 | stop 0\n"
     ]
    },
    {
     "name": "stderr",
     "output_type": "stream",
     "text": [
      " 62%|██████▎   | 5/8 [36:42<21:53, 437.84s/it]"
     ]
    },
    {
     "name": "stdout",
     "output_type": "stream",
     "text": [
      "fold:20 | ep:005 | mean_r 0.1411 | med_r 0.1321 | stop 1\n",
      "time: 432.958477973938\n",
      "(64, 32) relu 0.25 8192 0 0\n",
      "fold:01 | ep:001 | mean_r 0.2335 | med_r 0.2261 | stop 0\n",
      "fold:01 | ep:002 | mean_r 0.2373 | med_r 0.2527 | stop 0\n",
      "fold:01 | ep:003 | mean_r 0.2183 | med_r 0.2298 | stop 1\n",
      "fold:01 | ep:004 | mean_r 0.2156 | med_r 0.2429 | stop 2\n",
      "fold:01 | ep:005 | mean_r 0.2135 | med_r 0.2399 | stop 3\n",
      "time: 30.25810408592224\n",
      "fold:02 | ep:001 | mean_r 0.1706 | med_r 0.1364 | stop 0\n",
      "fold:02 | ep:002 | mean_r 0.1893 | med_r 0.1762 | stop 0\n",
      "fold:02 | ep:003 | mean_r 0.1932 | med_r 0.1551 | stop 0\n",
      "fold:02 | ep:004 | mean_r 0.1625 | med_r 0.1563 | stop 1\n",
      "fold:02 | ep:005 | mean_r 0.1318 | med_r 0.1364 | stop 2\n",
      "time: 60.34191346168518\n",
      "fold:03 | ep:001 | mean_r 0.1523 | med_r 0.1391 | stop 0\n",
      "fold:03 | ep:002 | mean_r 0.1589 | med_r 0.1605 | stop 0\n",
      "fold:03 | ep:003 | mean_r 0.1516 | med_r 0.1387 | stop 1\n",
      "fold:03 | ep:004 | mean_r 0.1391 | med_r 0.1422 | stop 2\n",
      "fold:03 | ep:005 | mean_r 0.1417 | med_r 0.1317 | stop 3\n",
      "time: 90.14770483970642\n",
      "fold:04 | ep:001 | mean_r 0.1213 | med_r 0.1005 | stop 0\n",
      "fold:04 | ep:002 | mean_r 0.1573 | med_r 0.1457 | stop 0\n",
      "fold:04 | ep:003 | mean_r 0.1672 | med_r 0.1522 | stop 0\n",
      "fold:04 | ep:004 | mean_r 0.1692 | med_r 0.1746 | stop 0\n",
      "fold:04 | ep:005 | mean_r 0.1665 | med_r 0.1608 | stop 0\n",
      "time: 119.4445173740387\n",
      "fold:05 | ep:001 | mean_r 0.1254 | med_r 0.1478 | stop 0\n",
      "fold:05 | ep:002 | mean_r 0.1373 | med_r 0.1694 | stop 0\n",
      "fold:05 | ep:003 | mean_r 0.1413 | med_r 0.1644 | stop 0\n",
      "fold:05 | ep:004 | mean_r 0.1304 | med_r 0.1256 | stop 1\n",
      "fold:05 | ep:005 | mean_r 0.1306 | med_r 0.1307 | stop 2\n",
      "time: 148.36702871322632\n",
      "fold:06 | ep:001 | mean_r 0.1854 | med_r 0.1762 | stop 0\n",
      "fold:06 | ep:002 | mean_r 0.1999 | med_r 0.1881 | stop 0\n",
      "fold:06 | ep:003 | mean_r 0.2033 | med_r 0.1789 | stop 0\n",
      "fold:06 | ep:004 | mean_r 0.2068 | med_r 0.1905 | stop 0\n",
      "fold:06 | ep:005 | mean_r 0.2006 | med_r 0.1861 | stop 0\n",
      "time: 176.6955225467682\n",
      "fold:07 | ep:001 | mean_r 0.2209 | med_r 0.2235 | stop 0\n",
      "fold:07 | ep:002 | mean_r 0.2348 | med_r 0.2591 | stop 0\n",
      "fold:07 | ep:003 | mean_r 0.2186 | med_r 0.2265 | stop 1\n",
      "fold:07 | ep:004 | mean_r 0.2234 | med_r 0.2394 | stop 2\n",
      "fold:07 | ep:005 | mean_r 0.2321 | med_r 0.2601 | stop 0\n",
      "time: 204.35183310508728\n",
      "fold:08 | ep:001 | mean_r 0.0758 | med_r 0.0623 | stop 0\n",
      "fold:08 | ep:002 | mean_r 0.1183 | med_r 0.1049 | stop 0\n",
      "fold:08 | ep:003 | mean_r 0.1237 | med_r 0.1022 | stop 0\n",
      "fold:08 | ep:004 | mean_r 0.1203 | med_r 0.1134 | stop 0\n",
      "fold:08 | ep:005 | mean_r 0.1153 | med_r 0.1245 | stop 0\n",
      "time: 231.3970193862915\n",
      "fold:09 | ep:001 | mean_r 0.1265 | med_r 0.1322 | stop 0\n",
      "fold:09 | ep:002 | mean_r 0.1642 | med_r 0.1662 | stop 0\n",
      "fold:09 | ep:003 | mean_r 0.1514 | med_r 0.1490 | stop 1\n",
      "fold:09 | ep:004 | mean_r 0.1523 | med_r 0.1500 | stop 2\n",
      "fold:09 | ep:005 | mean_r 0.1572 | med_r 0.1522 | stop 3\n",
      "time: 257.2426407337189\n",
      "fold:10 | ep:001 | mean_r 0.1214 | med_r 0.1121 | stop 0\n",
      "fold:10 | ep:002 | mean_r 0.1573 | med_r 0.1530 | stop 0\n",
      "fold:10 | ep:003 | mean_r 0.1653 | med_r 0.1597 | stop 0\n",
      "fold:10 | ep:004 | mean_r 0.1686 | med_r 0.1589 | stop 0\n",
      "fold:10 | ep:005 | mean_r 0.1697 | med_r 0.1563 | stop 0\n",
      "time: 282.1345229148865\n",
      "fold:11 | ep:001 | mean_r 0.1485 | med_r 0.1208 | stop 0\n",
      "fold:11 | ep:002 | mean_r 0.1755 | med_r 0.1480 | stop 0\n",
      "fold:11 | ep:003 | mean_r 0.1784 | med_r 0.1695 | stop 0\n",
      "fold:11 | ep:004 | mean_r 0.1743 | med_r 0.1742 | stop 0\n",
      "fold:11 | ep:005 | mean_r 0.1698 | med_r 0.1798 | stop 0\n",
      "time: 304.16067028045654\n",
      "fold:12 | ep:001 | mean_r 0.1590 | med_r 0.1675 | stop 0\n",
      "fold:12 | ep:002 | mean_r 0.1996 | med_r 0.2302 | stop 0\n",
      "fold:12 | ep:003 | mean_r 0.2030 | med_r 0.2229 | stop 0\n",
      "fold:12 | ep:004 | mean_r 0.1984 | med_r 0.2042 | stop 1\n",
      "fold:12 | ep:005 | mean_r 0.1920 | med_r 0.2133 | stop 0\n",
      "time: 323.9867362976074\n",
      "fold:13 | ep:001 | mean_r 0.2031 | med_r 0.1910 | stop 0\n",
      "fold:13 | ep:002 | mean_r 0.2128 | med_r 0.2030 | stop 0\n",
      "fold:13 | ep:003 | mean_r 0.2111 | med_r 0.2107 | stop 0\n",
      "fold:13 | ep:004 | mean_r 0.2164 | med_r 0.2062 | stop 0\n",
      "fold:13 | ep:005 | mean_r 0.2191 | med_r 0.2075 | stop 0\n",
      "time: 342.83498454093933\n",
      "fold:14 | ep:001 | mean_r 0.1121 | med_r 0.1034 | stop 0\n",
      "fold:14 | ep:002 | mean_r 0.1743 | med_r 0.1553 | stop 0\n",
      "fold:14 | ep:003 | mean_r 0.1827 | med_r 0.1774 | stop 0\n",
      "fold:14 | ep:004 | mean_r 0.1843 | med_r 0.1599 | stop 0\n",
      "fold:14 | ep:005 | mean_r 0.1756 | med_r 0.1590 | stop 0\n",
      "time: 359.7251572608948\n",
      "fold:15 | ep:001 | mean_r 0.0863 | med_r 0.0544 | stop 0\n",
      "fold:15 | ep:002 | mean_r 0.1635 | med_r 0.1481 | stop 0\n",
      "fold:15 | ep:003 | mean_r 0.1860 | med_r 0.1530 | stop 0\n",
      "fold:15 | ep:004 | mean_r 0.1924 | med_r 0.1244 | stop 1\n",
      "fold:15 | ep:005 | mean_r 0.1884 | med_r 0.1122 | stop 2\n",
      "time: 374.819473028183\n",
      "fold:16 | ep:001 | mean_r 0.0596 | med_r 0.0422 | stop 0\n",
      "fold:16 | ep:002 | mean_r 0.1211 | med_r 0.1133 | stop 0\n",
      "fold:16 | ep:003 | mean_r 0.1615 | med_r 0.1431 | stop 0\n",
      "fold:16 | ep:004 | mean_r 0.1899 | med_r 0.1990 | stop 0\n",
      "fold:16 | ep:005 | mean_r 0.2100 | med_r 0.2268 | stop 0\n",
      "time: 388.6563756465912\n",
      "fold:17 | ep:001 | mean_r 0.1674 | med_r 0.1796 | stop 0\n",
      "fold:17 | ep:002 | mean_r 0.1942 | med_r 0.1875 | stop 0\n",
      "fold:17 | ep:003 | mean_r 0.1938 | med_r 0.1870 | stop 0\n",
      "fold:17 | ep:004 | mean_r 0.1972 | med_r 0.1824 | stop 0\n",
      "fold:17 | ep:005 | mean_r 0.1944 | med_r 0.1928 | stop 0\n",
      "time: 401.22434544563293\n",
      "fold:18 | ep:001 | mean_r 0.0100 | med_r-0.0050 | stop 0\n",
      "fold:18 | ep:002 | mean_r 0.0786 | med_r 0.0661 | stop 0\n",
      "fold:18 | ep:003 | mean_r 0.1578 | med_r 0.1202 | stop 0\n",
      "fold:18 | ep:004 | mean_r 0.2090 | med_r 0.1881 | stop 0\n",
      "fold:18 | ep:005 | mean_r 0.2361 | med_r 0.2221 | stop 0\n",
      "time: 412.6982297897339\n",
      "fold:19 | ep:001 | mean_r 0.0878 | med_r 0.1120 | stop 0\n",
      "fold:19 | ep:002 | mean_r 0.0790 | med_r 0.0842 | stop 1\n",
      "fold:19 | ep:003 | mean_r 0.1270 | med_r 0.1340 | stop 0\n",
      "fold:19 | ep:004 | mean_r 0.1545 | med_r 0.1534 | stop 0\n",
      "fold:19 | ep:005 | mean_r 0.1618 | med_r 0.1606 | stop 0\n",
      "time: 423.2001416683197\n",
      "fold:20 | ep:001 | mean_r 0.0495 | med_r 0.0240 | stop 0\n",
      "fold:20 | ep:002 | mean_r 0.0630 | med_r 0.0582 | stop 0\n",
      "fold:20 | ep:003 | mean_r 0.0805 | med_r 0.0753 | stop 0\n",
      "fold:20 | ep:004 | mean_r 0.0958 | med_r 0.1057 | stop 0\n"
     ]
    },
    {
     "name": "stderr",
     "output_type": "stream",
     "text": [
      " 75%|███████▌  | 6/8 [43:55<14:31, 435.96s/it]"
     ]
    },
    {
     "name": "stdout",
     "output_type": "stream",
     "text": [
      "fold:20 | ep:005 | mean_r 0.1257 | med_r 0.1321 | stop 0\n",
      "time: 432.2991986274719\n",
      "(128, 64) relu 0.5 8192 0 0\n",
      "fold:01 | ep:001 | mean_r 0.1847 | med_r 0.1614 | stop 0\n",
      "fold:01 | ep:002 | mean_r 0.2153 | med_r 0.1738 | stop 0\n",
      "fold:01 | ep:003 | mean_r 0.2173 | med_r 0.2089 | stop 0\n",
      "fold:01 | ep:004 | mean_r 0.1992 | med_r 0.1858 | stop 1\n",
      "fold:01 | ep:005 | mean_r 0.1785 | med_r 0.1557 | stop 2\n",
      "time: 30.22749662399292\n",
      "fold:02 | ep:001 | mean_r 0.1497 | med_r 0.1578 | stop 0\n",
      "fold:02 | ep:002 | mean_r 0.1655 | med_r 0.1386 | stop 0\n",
      "fold:02 | ep:003 | mean_r 0.1527 | med_r 0.1354 | stop 1\n",
      "fold:02 | ep:004 | mean_r 0.1364 | med_r 0.1411 | stop 2\n",
      "fold:02 | ep:005 | mean_r 0.1159 | med_r 0.1064 | stop 3\n",
      "time: 60.064125537872314\n",
      "fold:03 | ep:001 | mean_r 0.1750 | med_r 0.1740 | stop 0\n",
      "fold:03 | ep:002 | mean_r 0.1719 | med_r 0.1700 | stop 0\n",
      "fold:03 | ep:003 | mean_r 0.1501 | med_r 0.1645 | stop 1\n",
      "fold:03 | ep:004 | mean_r 0.1303 | med_r 0.1297 | stop 2\n",
      "fold:03 | ep:005 | mean_r 0.1191 | med_r 0.1125 | stop 3\n",
      "time: 90.09233164787292\n",
      "fold:04 | ep:001 | mean_r 0.1542 | med_r 0.1421 | stop 0\n",
      "fold:04 | ep:002 | mean_r 0.1543 | med_r 0.1513 | stop 0\n",
      "fold:04 | ep:003 | mean_r 0.1430 | med_r 0.1399 | stop 1\n",
      "fold:04 | ep:004 | mean_r 0.1203 | med_r 0.1279 | stop 2\n",
      "fold:04 | ep:005 | mean_r 0.1271 | med_r 0.1361 | stop 3\n",
      "time: 119.67642736434937\n",
      "fold:05 | ep:001 | mean_r 0.1328 | med_r 0.1446 | stop 0\n",
      "fold:05 | ep:002 | mean_r 0.1396 | med_r 0.1586 | stop 0\n",
      "fold:05 | ep:003 | mean_r 0.1386 | med_r 0.1766 | stop 0\n",
      "fold:05 | ep:004 | mean_r 0.1510 | med_r 0.1679 | stop 0\n",
      "fold:05 | ep:005 | mean_r 0.1442 | med_r 0.1391 | stop 1\n",
      "time: 148.72731351852417\n",
      "fold:06 | ep:001 | mean_r 0.1943 | med_r 0.1825 | stop 0\n",
      "fold:06 | ep:002 | mean_r 0.2122 | med_r 0.1991 | stop 0\n",
      "fold:06 | ep:003 | mean_r 0.1967 | med_r 0.1929 | stop 1\n",
      "fold:06 | ep:004 | mean_r 0.2013 | med_r 0.1954 | stop 0\n",
      "fold:06 | ep:005 | mean_r 0.1684 | med_r 0.1774 | stop 1\n",
      "time: 177.0067822933197\n",
      "fold:07 | ep:001 | mean_r 0.2393 | med_r 0.2692 | stop 0\n",
      "fold:07 | ep:002 | mean_r 0.2370 | med_r 0.2487 | stop 0\n",
      "fold:07 | ep:003 | mean_r 0.2143 | med_r 0.2256 | stop 1\n",
      "fold:07 | ep:004 | mean_r 0.2194 | med_r 0.2730 | stop 0\n",
      "fold:07 | ep:005 | mean_r 0.2096 | med_r 0.2096 | stop 1\n",
      "time: 204.83311796188354\n",
      "fold:08 | ep:001 | mean_r 0.1451 | med_r 0.1413 | stop 0\n",
      "fold:08 | ep:002 | mean_r 0.1469 | med_r 0.1591 | stop 0\n",
      "fold:08 | ep:003 | mean_r 0.1441 | med_r 0.1460 | stop 1\n",
      "fold:08 | ep:004 | mean_r 0.1421 | med_r 0.1616 | stop 0\n",
      "fold:08 | ep:005 | mean_r 0.1379 | med_r 0.1458 | stop 1\n",
      "time: 231.94053983688354\n",
      "fold:09 | ep:001 | mean_r 0.1464 | med_r 0.1502 | stop 0\n",
      "fold:09 | ep:002 | mean_r 0.1689 | med_r 0.1716 | stop 0\n",
      "fold:09 | ep:003 | mean_r 0.1840 | med_r 0.1847 | stop 0\n",
      "fold:09 | ep:004 | mean_r 0.1861 | med_r 0.2104 | stop 0\n",
      "fold:09 | ep:005 | mean_r 0.1842 | med_r 0.1941 | stop 0\n",
      "time: 257.9715304374695\n",
      "fold:10 | ep:001 | mean_r 0.1591 | med_r 0.1462 | stop 0\n",
      "fold:10 | ep:002 | mean_r 0.1544 | med_r 0.1655 | stop 0\n",
      "fold:10 | ep:003 | mean_r 0.1535 | med_r 0.1593 | stop 0\n",
      "fold:10 | ep:004 | mean_r 0.1399 | med_r 0.1370 | stop 1\n",
      "fold:10 | ep:005 | mean_r 0.1306 | med_r 0.1167 | stop 2\n",
      "time: 282.8828237056732\n",
      "fold:11 | ep:001 | mean_r 0.1809 | med_r 0.1566 | stop 0\n",
      "fold:11 | ep:002 | mean_r 0.1969 | med_r 0.1938 | stop 0\n",
      "fold:11 | ep:003 | mean_r 0.1982 | med_r 0.1903 | stop 0\n",
      "fold:11 | ep:004 | mean_r 0.1997 | med_r 0.1988 | stop 0\n",
      "fold:11 | ep:005 | mean_r 0.1858 | med_r 0.1723 | stop 1\n",
      "time: 304.9514546394348\n",
      "fold:12 | ep:001 | mean_r 0.1836 | med_r 0.1902 | stop 0\n",
      "fold:12 | ep:002 | mean_r 0.1794 | med_r 0.1994 | stop 0\n",
      "fold:12 | ep:003 | mean_r 0.1893 | med_r 0.2298 | stop 0\n",
      "fold:12 | ep:004 | mean_r 0.1844 | med_r 0.2106 | stop 1\n",
      "fold:12 | ep:005 | mean_r 0.2016 | med_r 0.2394 | stop 0\n",
      "time: 324.80227971076965\n",
      "fold:13 | ep:001 | mean_r 0.2264 | med_r 0.2050 | stop 0\n",
      "fold:13 | ep:002 | mean_r 0.2307 | med_r 0.2040 | stop 0\n",
      "fold:13 | ep:003 | mean_r 0.2262 | med_r 0.2135 | stop 0\n",
      "fold:13 | ep:004 | mean_r 0.2192 | med_r 0.2103 | stop 0\n",
      "fold:13 | ep:005 | mean_r 0.2054 | med_r 0.2100 | stop 0\n",
      "time: 343.66023302078247\n",
      "fold:14 | ep:001 | mean_r 0.2174 | med_r 0.2061 | stop 0\n",
      "fold:14 | ep:002 | mean_r 0.2093 | med_r 0.2229 | stop 0\n",
      "fold:14 | ep:003 | mean_r 0.1996 | med_r 0.2236 | stop 0\n",
      "fold:14 | ep:004 | mean_r 0.2036 | med_r 0.2008 | stop 0\n",
      "fold:14 | ep:005 | mean_r 0.1915 | med_r 0.1577 | stop 1\n",
      "time: 360.56361150741577\n",
      "fold:15 | ep:001 | mean_r 0.1213 | med_r 0.1169 | stop 0\n",
      "fold:15 | ep:002 | mean_r 0.1594 | med_r 0.1498 | stop 0\n",
      "fold:15 | ep:003 | mean_r 0.1760 | med_r 0.1620 | stop 0\n",
      "fold:15 | ep:004 | mean_r 0.1847 | med_r 0.1676 | stop 0\n",
      "fold:15 | ep:005 | mean_r 0.1797 | med_r 0.1691 | stop 0\n",
      "time: 375.60278391838074\n",
      "fold:16 | ep:001 | mean_r 0.1713 | med_r 0.1712 | stop 0\n",
      "fold:16 | ep:002 | mean_r 0.1947 | med_r 0.2239 | stop 0\n",
      "fold:16 | ep:003 | mean_r 0.1895 | med_r 0.2250 | stop 0\n",
      "fold:16 | ep:004 | mean_r 0.1995 | med_r 0.2136 | stop 0\n",
      "fold:16 | ep:005 | mean_r 0.2026 | med_r 0.2281 | stop 0\n",
      "time: 389.57041025161743\n",
      "fold:17 | ep:001 | mean_r 0.1895 | med_r 0.1591 | stop 0\n",
      "fold:17 | ep:002 | mean_r 0.2293 | med_r 0.2233 | stop 0\n",
      "fold:17 | ep:003 | mean_r 0.2366 | med_r 0.2205 | stop 0\n",
      "fold:17 | ep:004 | mean_r 0.2422 | med_r 0.2367 | stop 0\n",
      "fold:17 | ep:005 | mean_r 0.2388 | med_r 0.2337 | stop 0\n",
      "time: 402.21187591552734\n",
      "fold:18 | ep:001 | mean_r 0.2268 | med_r 0.2399 | stop 0\n",
      "fold:18 | ep:002 | mean_r 0.2587 | med_r 0.2485 | stop 0\n",
      "fold:18 | ep:003 | mean_r 0.2690 | med_r 0.2101 | stop 1\n",
      "fold:18 | ep:004 | mean_r 0.2658 | med_r 0.2103 | stop 2\n",
      "fold:18 | ep:005 | mean_r 0.2669 | med_r 0.2185 | stop 0\n",
      "time: 413.75871109962463\n",
      "fold:19 | ep:001 | mean_r 0.1386 | med_r 0.1263 | stop 0\n",
      "fold:19 | ep:002 | mean_r 0.1638 | med_r 0.1521 | stop 0\n",
      "fold:19 | ep:003 | mean_r 0.1615 | med_r 0.1645 | stop 0\n",
      "fold:19 | ep:004 | mean_r 0.1539 | med_r 0.1461 | stop 1\n",
      "fold:19 | ep:005 | mean_r 0.1401 | med_r 0.1476 | stop 2\n",
      "time: 424.3500623703003\n",
      "fold:20 | ep:001 | mean_r 0.1017 | med_r 0.0952 | stop 0\n",
      "fold:20 | ep:002 | mean_r 0.1402 | med_r 0.1449 | stop 0\n",
      "fold:20 | ep:003 | mean_r 0.1389 | med_r 0.1551 | stop 0\n",
      "fold:20 | ep:004 | mean_r 0.1369 | med_r 0.1565 | stop 0\n"
     ]
    },
    {
     "name": "stderr",
     "output_type": "stream",
     "text": [
      " 88%|████████▊ | 7/8 [51:08<07:15, 435.16s/it]"
     ]
    },
    {
     "name": "stdout",
     "output_type": "stream",
     "text": [
      "fold:20 | ep:005 | mean_r 0.1308 | med_r 0.1566 | stop 0\n",
      "time: 433.4880735874176\n",
      "(32, 16) relu 0.25 8192 0 0\n",
      "fold:01 | ep:001 | mean_r 0.1959 | med_r 0.1524 | stop 0\n",
      "fold:01 | ep:002 | mean_r 0.2363 | med_r 0.2050 | stop 0\n",
      "fold:01 | ep:003 | mean_r 0.2416 | med_r 0.2335 | stop 0\n",
      "fold:01 | ep:004 | mean_r 0.2553 | med_r 0.2447 | stop 0\n",
      "fold:01 | ep:005 | mean_r 0.2531 | med_r 0.2440 | stop 0\n",
      "time: 30.285306215286255\n",
      "fold:02 | ep:001 | mean_r 0.1501 | med_r 0.1470 | stop 0\n",
      "fold:02 | ep:002 | mean_r 0.1513 | med_r 0.1431 | stop 0\n",
      "fold:02 | ep:003 | mean_r 0.1604 | med_r 0.1604 | stop 0\n",
      "fold:02 | ep:004 | mean_r 0.1668 | med_r 0.1716 | stop 0\n",
      "fold:02 | ep:005 | mean_r 0.1745 | med_r 0.1751 | stop 0\n",
      "time: 60.5359902381897\n",
      "fold:03 | ep:001 | mean_r 0.1522 | med_r 0.1147 | stop 0\n",
      "fold:03 | ep:002 | mean_r 0.1777 | med_r 0.1470 | stop 0\n",
      "fold:03 | ep:003 | mean_r 0.1720 | med_r 0.1434 | stop 0\n",
      "fold:03 | ep:004 | mean_r 0.1592 | med_r 0.1564 | stop 0\n",
      "fold:03 | ep:005 | mean_r 0.1629 | med_r 0.1541 | stop 0\n",
      "time: 90.66254949569702\n",
      "fold:04 | ep:001 | mean_r 0.0616 | med_r 0.0230 | stop 0\n",
      "fold:04 | ep:002 | mean_r 0.0910 | med_r 0.0824 | stop 0\n",
      "fold:04 | ep:003 | mean_r 0.1344 | med_r 0.1072 | stop 0\n",
      "fold:04 | ep:004 | mean_r 0.1564 | med_r 0.1408 | stop 0\n",
      "fold:04 | ep:005 | mean_r 0.1595 | med_r 0.1719 | stop 0\n",
      "time: 120.25141191482544\n",
      "fold:05 | ep:001 | mean_r 0.0640 | med_r 0.0585 | stop 0\n",
      "fold:05 | ep:002 | mean_r 0.1156 | med_r 0.1019 | stop 0\n",
      "fold:05 | ep:003 | mean_r 0.1326 | med_r 0.1222 | stop 0\n",
      "fold:05 | ep:004 | mean_r 0.1356 | med_r 0.1511 | stop 0\n",
      "fold:05 | ep:005 | mean_r 0.1414 | med_r 0.1618 | stop 0\n",
      "time: 149.06086015701294\n",
      "fold:06 | ep:001 | mean_r 0.1414 | med_r 0.1099 | stop 0\n",
      "fold:06 | ep:002 | mean_r 0.1931 | med_r 0.1619 | stop 0\n",
      "fold:06 | ep:003 | mean_r 0.2079 | med_r 0.1844 | stop 0\n",
      "fold:06 | ep:004 | mean_r 0.2074 | med_r 0.1710 | stop 0\n",
      "fold:06 | ep:005 | mean_r 0.2043 | med_r 0.1636 | stop 0\n",
      "time: 177.34368324279785\n",
      "fold:07 | ep:001 | mean_r 0.1532 | med_r 0.1696 | stop 0\n",
      "fold:07 | ep:002 | mean_r 0.2419 | med_r 0.2422 | stop 0\n",
      "fold:07 | ep:003 | mean_r 0.2541 | med_r 0.2594 | stop 0\n",
      "fold:07 | ep:004 | mean_r 0.2529 | med_r 0.2657 | stop 0\n",
      "fold:07 | ep:005 | mean_r 0.2514 | med_r 0.2659 | stop 0\n",
      "time: 205.20473647117615\n",
      "fold:08 | ep:001 | mean_r 0.1381 | med_r 0.1356 | stop 0\n",
      "fold:08 | ep:002 | mean_r 0.1536 | med_r 0.1763 | stop 0\n",
      "fold:08 | ep:003 | mean_r 0.1539 | med_r 0.1589 | stop 1\n",
      "fold:08 | ep:004 | mean_r 0.1504 | med_r 0.1569 | stop 2\n",
      "fold:08 | ep:005 | mean_r 0.1418 | med_r 0.1559 | stop 3\n",
      "time: 232.20664262771606\n",
      "fold:09 | ep:001 | mean_r 0.0734 | med_r 0.0783 | stop 0\n",
      "fold:09 | ep:002 | mean_r 0.1668 | med_r 0.1684 | stop 0\n",
      "fold:09 | ep:003 | mean_r 0.1970 | med_r 0.2017 | stop 0\n",
      "fold:09 | ep:004 | mean_r 0.1989 | med_r 0.2030 | stop 0\n",
      "fold:09 | ep:005 | mean_r 0.1896 | med_r 0.1998 | stop 0\n",
      "time: 258.1738455295563\n",
      "fold:10 | ep:001 | mean_r 0.0845 | med_r 0.0615 | stop 0\n",
      "fold:10 | ep:002 | mean_r 0.1347 | med_r 0.1116 | stop 0\n",
      "fold:10 | ep:003 | mean_r 0.1511 | med_r 0.1044 | stop 0\n",
      "fold:10 | ep:004 | mean_r 0.1577 | med_r 0.1109 | stop 0\n",
      "fold:10 | ep:005 | mean_r 0.1632 | med_r 0.1197 | stop 0\n",
      "time: 283.0226686000824\n",
      "fold:11 | ep:001 | mean_r 0.0643 | med_r 0.0717 | stop 0\n",
      "fold:11 | ep:002 | mean_r 0.1170 | med_r 0.1099 | stop 0\n",
      "fold:11 | ep:003 | mean_r 0.1250 | med_r 0.1288 | stop 0\n",
      "fold:11 | ep:004 | mean_r 0.1256 | med_r 0.1193 | stop 0\n",
      "fold:11 | ep:005 | mean_r 0.1332 | med_r 0.1274 | stop 0\n",
      "time: 305.1195635795593\n",
      "fold:12 | ep:001 | mean_r 0.0713 | med_r 0.0781 | stop 0\n",
      "fold:12 | ep:002 | mean_r 0.1505 | med_r 0.1610 | stop 0\n",
      "fold:12 | ep:003 | mean_r 0.1762 | med_r 0.2031 | stop 0\n",
      "fold:12 | ep:004 | mean_r 0.1848 | med_r 0.2102 | stop 0\n",
      "fold:12 | ep:005 | mean_r 0.1863 | med_r 0.2184 | stop 0\n",
      "time: 325.05915808677673\n",
      "fold:13 | ep:001 | mean_r 0.1413 | med_r 0.1480 | stop 0\n",
      "fold:13 | ep:002 | mean_r 0.1474 | med_r 0.1136 | stop 1\n",
      "fold:13 | ep:003 | mean_r 0.1711 | med_r 0.1280 | stop 0\n",
      "fold:13 | ep:004 | mean_r 0.1796 | med_r 0.1434 | stop 0\n",
      "fold:13 | ep:005 | mean_r 0.1961 | med_r 0.1684 | stop 0\n",
      "time: 343.9097054004669\n",
      "fold:14 | ep:001 | mean_r 0.0545 | med_r 0.0376 | stop 0\n",
      "fold:14 | ep:002 | mean_r 0.1221 | med_r 0.1365 | stop 0\n",
      "fold:14 | ep:003 | mean_r 0.1592 | med_r 0.1672 | stop 0\n",
      "fold:14 | ep:004 | mean_r 0.1924 | med_r 0.1886 | stop 0\n",
      "fold:14 | ep:005 | mean_r 0.2127 | med_r 0.2380 | stop 0\n",
      "time: 360.8863971233368\n",
      "fold:15 | ep:001 | mean_r 0.0887 | med_r 0.0446 | stop 0\n",
      "fold:15 | ep:002 | mean_r 0.1342 | med_r 0.0882 | stop 0\n",
      "fold:15 | ep:003 | mean_r 0.1601 | med_r 0.1030 | stop 0\n",
      "fold:15 | ep:004 | mean_r 0.1558 | med_r 0.0995 | stop 0\n",
      "fold:15 | ep:005 | mean_r 0.1667 | med_r 0.1178 | stop 0\n",
      "time: 376.00842571258545\n",
      "fold:16 | ep:001 | mean_r 0.1363 | med_r 0.1541 | stop 0\n",
      "fold:16 | ep:002 | mean_r 0.2128 | med_r 0.2451 | stop 0\n",
      "fold:16 | ep:003 | mean_r 0.2533 | med_r 0.3010 | stop 0\n",
      "fold:16 | ep:004 | mean_r 0.2636 | med_r 0.3005 | stop 0\n",
      "fold:16 | ep:005 | mean_r 0.2654 | med_r 0.3054 | stop 0\n",
      "time: 389.8500144481659\n",
      "fold:17 | ep:001 | mean_r 0.0217 | med_r 0.0021 | stop 0\n",
      "fold:17 | ep:002 | mean_r 0.1156 | med_r 0.1273 | stop 0\n",
      "fold:17 | ep:003 | mean_r 0.1542 | med_r 0.1474 | stop 0\n",
      "fold:17 | ep:004 | mean_r 0.1784 | med_r 0.1644 | stop 0\n",
      "fold:17 | ep:005 | mean_r 0.1954 | med_r 0.1928 | stop 0\n",
      "time: 402.2595751285553\n",
      "fold:18 | ep:001 | mean_r-0.0780 | med_r-0.0675 | stop 0\n",
      "fold:18 | ep:002 | mean_r-0.0303 | med_r-0.0408 | stop 0\n",
      "fold:18 | ep:003 | mean_r 0.0561 | med_r 0.0308 | stop 0\n",
      "fold:18 | ep:004 | mean_r 0.1228 | med_r 0.1103 | stop 0\n",
      "fold:18 | ep:005 | mean_r 0.1579 | med_r 0.1645 | stop 0\n",
      "time: 413.94767570495605\n",
      "fold:19 | ep:001 | mean_r-0.0081 | med_r 0.0062 | stop 0\n",
      "fold:19 | ep:002 | mean_r-0.0341 | med_r-0.0213 | stop 1\n",
      "fold:19 | ep:003 | mean_r-0.0667 | med_r-0.0793 | stop 2\n",
      "fold:19 | ep:004 | mean_r-0.0841 | med_r-0.1079 | stop 3\n",
      "fold:19 | ep:005 | mean_r-0.0895 | med_r-0.1116 | stop 4\n",
      "time: 424.511527299881\n",
      "fold:20 | ep:001 | mean_r 0.0754 | med_r 0.0951 | stop 0\n",
      "fold:20 | ep:002 | mean_r 0.0914 | med_r 0.0898 | stop 0\n",
      "fold:20 | ep:003 | mean_r 0.0974 | med_r 0.0925 | stop 0\n",
      "fold:20 | ep:004 | mean_r 0.1006 | med_r 0.0799 | stop 0\n"
     ]
    },
    {
     "name": "stderr",
     "output_type": "stream",
     "text": [
      "100%|██████████| 8/8 [58:22<00:00, 437.80s/it]"
     ]
    },
    {
     "name": "stdout",
     "output_type": "stream",
     "text": [
      "fold:20 | ep:005 | mean_r 0.1055 | med_r 0.0827 | stop 0\n",
      "time: 433.50653076171875\n"
     ]
    },
    {
     "name": "stderr",
     "output_type": "stream",
     "text": [
      "\n"
     ]
    }
   ],
   "source": [
    "early_stop = False\n",
    "\n",
    "if train_nn:\n",
    "    tb_callback = TensorBoard(log_dir=results_path / 'tensorboard',\n",
    "                              histogram_freq=1,\n",
    "                              write_graph=True,\n",
    "                              write_images=True)\n",
    "    ic = []\n",
    "    scaler = StandardScaler()\n",
    "    for params in tqdm(param_grid):\n",
    "        dense_layers, activation, dropout, reg_L1, reg_L2 = params\n",
    "        for batch_size in [4096*2]:\n",
    "            print(dense_layers, activation, dropout, batch_size, reg_L1, reg_L2)\n",
    "            checkpoint_dir = checkpoint_path / str(dense_layers) / activation / str(dropout) / str(batch_size) / str(reg_L1) / str(reg_L2)\n",
    "            if not checkpoint_dir.exists():\n",
    "                checkpoint_dir.mkdir(parents=True, exist_ok=True)\n",
    "            start = time()\n",
    "\n",
    "            for fold, (train_idx, test_idx) in enumerate(cv.split(X_cv)):\n",
    "                # get train & validation data\n",
    "                x_train, y_train, x_val, y_val = get_train_valid_data(X_cv, y_cv, train_idx, test_idx)\n",
    "\n",
    "                # scale features\n",
    "                x_train = scaler.fit_transform(x_train)\n",
    "                x_val = scaler.transform(x_val)\n",
    "\n",
    "                # set up dataframes to log results\n",
    "                preds = y_val.to_frame('actual')\n",
    "                r = pd.DataFrame(index=y_val.groupby(level='date').size().index)\n",
    "\n",
    "                # create model based on validation parameters\n",
    "                # TODO make a more elaborate way to count len(y)\n",
    "                model = make_model(dense_layers, activation, dropout,\n",
    "                                   reg_L1, reg_L2)\n",
    "                best_ic = -np.inf\n",
    "                stop = 0\n",
    "\n",
    "                # cross-validate for x epochs\n",
    "                for epoch in range(5):\n",
    "\n",
    "                    model.fit(x_train,\n",
    "                              y_train,\n",
    "                              batch_size=batch_size,\n",
    "                              epochs=1,\n",
    "                              verbose=0,\n",
    "                              shuffle=True,\n",
    "                              validation_data=(x_val, y_val)\n",
    "                              )\n",
    "\n",
    "                    model.save_weights((checkpoint_dir / f'ckpt_{fold}_{epoch}').as_posix())\n",
    "                    preds[epoch] = model.predict(x_val).squeeze()\n",
    "                    r[epoch] = preds.groupby(level='date').apply(lambda x: spearmanr(x.actual, x[epoch])[0]).to_frame(epoch)\n",
    "                    # print(\"fold {}\".format(fold))\n",
    "                    ic_approx = float(r[epoch].mean()) + float(r[epoch].median())\n",
    "                    if ic_approx > best_ic:\n",
    "                        best_ic = ic_approx*0.95\n",
    "                        stop = 0\n",
    "                    else:\n",
    "                        stop += 1\n",
    "                    print(f'fold:{fold + 1:02d} | ep:{epoch + 1:03d} | mean_r{r[epoch].mean():7.4f} | med_r{r[epoch].median():7.4f} | stop {stop}')\n",
    "                    if stop == 3 and early_stop:\n",
    "                        break\n",
    "                print(\"time: {}\".format(time()-start))\n",
    "                ic.append(r.assign(dense_layers=str(dense_layers),\n",
    "                                   activation=activation,\n",
    "                                   dropout=dropout,\n",
    "                                   batch_size=batch_size,\n",
    "                                   reg_L1=reg_L1,\n",
    "                                   reg_L2=reg_L2,\n",
    "                                   fold=fold))\n",
    "\n",
    "            t = time()-start\n",
    "            pd.concat(ic).to_hdf(results_path / 'val_scores.h5', 'ic_by_day')\n",
    "\n"
   ]
  },
  {
   "cell_type": "markdown",
   "metadata": {},
   "source": [
    "### Evaluate predictive performance"
   ]
  },
  {
   "cell_type": "code",
   "execution_count": 85,
   "metadata": {
    "ExecuteTime": {
     "end_time": "2021-02-23T05:52:12.399489Z",
     "start_time": "2021-02-23T05:45:38.349Z"
    }
   },
   "outputs": [],
   "source": [
    "params = ['dense_layers', 'dropout', 'batch_size', 'activation',\n",
    "          'reg_L1', 'reg_L2']"
   ]
  },
  {
   "cell_type": "code",
   "execution_count": 86,
   "metadata": {
    "ExecuteTime": {
     "end_time": "2021-02-23T05:52:12.400398Z",
     "start_time": "2021-02-23T05:45:38.351Z"
    }
   },
   "outputs": [
    {
     "name": "stdout",
     "output_type": "stream",
     "text": [
      "<class 'pandas.core.frame.DataFrame'>\n",
      "DatetimeIndex: 11040 entries, 2021-04-13 to 2017-11-17\n",
      "Data columns (total 12 columns):\n",
      " #   Column        Non-Null Count  Dtype   \n",
      "---  ------        --------------  -----   \n",
      " 0   0             11040 non-null  float32 \n",
      " 1   1             11040 non-null  float32 \n",
      " 2   2             11040 non-null  float32 \n",
      " 3   3             11040 non-null  float32 \n",
      " 4   4             11040 non-null  float32 \n",
      " 5   dense_layers  11040 non-null  category\n",
      " 6   activation    11040 non-null  category\n",
      " 7   dropout       11040 non-null  float32 \n",
      " 8   batch_size    11040 non-null  int16   \n",
      " 9   reg_L1        11040 non-null  int16   \n",
      " 10  reg_L2        11040 non-null  int16   \n",
      " 11  fold          11040 non-null  int16   \n",
      "dtypes: category(2), float32(6), int16(4)\n",
      "memory usage: 453.1 KB\n"
     ]
    }
   ],
   "source": [
    "ic = pd.read_hdf(results_path / 'val_scores.h5', 'ic_by_day')\n",
    "ic = reduce_footprint(ic)\n",
    "\n",
    "ic.info()"
   ]
  },
  {
   "cell_type": "code",
   "execution_count": 87,
   "metadata": {
    "ExecuteTime": {
     "end_time": "2021-02-23T05:52:12.401296Z",
     "start_time": "2021-02-23T05:45:38.353Z"
    }
   },
   "outputs": [
    {
     "data": {
      "text/plain": "dense_layers  dropout  batch_size  activation  reg_L1  reg_L2\n(128, 64)     0.25     8192        relu        0       0         1380\n              0.50     8192        relu        0       0         1380\n(256, 128)    0.25     8192        relu        0       0         1380\n              0.50     8192        relu        0       0         1380\n(32, 16)      0.25     8192        relu        0       0         1380\n              0.50     8192        relu        0       0         1380\n(64, 32)      0.25     8192        relu        0       0         1380\n              0.50     8192        relu        0       0         1380\ndtype: int64"
     },
     "execution_count": 87,
     "metadata": {},
     "output_type": "execute_result"
    }
   ],
   "source": [
    "ic.groupby(params).size()"
   ]
  },
  {
   "cell_type": "code",
   "execution_count": 88,
   "metadata": {
    "ExecuteTime": {
     "end_time": "2021-02-23T05:52:12.402062Z",
     "start_time": "2021-02-23T05:45:38.355Z"
    }
   },
   "outputs": [
    {
     "name": "stdout",
     "output_type": "stream",
     "text": [
      "<class 'pandas.core.frame.DataFrame'>\n",
      "RangeIndex: 55200 entries, 0 to 55199\n",
      "Data columns (total 9 columns):\n",
      " #   Column        Non-Null Count  Dtype   \n",
      "---  ------        --------------  -----   \n",
      " 0   dense_layers  55200 non-null  category\n",
      " 1   dropout       55200 non-null  float32 \n",
      " 2   batch_size    55200 non-null  int16   \n",
      " 3   activation    55200 non-null  category\n",
      " 4   reg_L1        55200 non-null  int16   \n",
      " 5   reg_L2        55200 non-null  int16   \n",
      " 6   fold          55200 non-null  int16   \n",
      " 7   epoch         55200 non-null  category\n",
      " 8   ic            55200 non-null  float32 \n",
      "dtypes: category(3), float32(2), int16(4)\n",
      "memory usage: 1.0 MB\n"
     ]
    }
   ],
   "source": [
    "ic_long = pd.melt(ic, id_vars=params + ['fold'], var_name='epoch', value_name='ic')\n",
    "ic_long = reduce_footprint(ic_long)\n",
    "ic_long.info()"
   ]
  },
  {
   "cell_type": "code",
   "execution_count": 89,
   "metadata": {
    "ExecuteTime": {
     "end_time": "2021-02-23T05:52:12.402928Z",
     "start_time": "2021-02-23T05:45:38.357Z"
    }
   },
   "outputs": [],
   "source": [
    "#ic_long = ic_long.groupby(params+ ['epoch']).ic.mean().to_frame('ic').reset_index()\n",
    "ic_long = ic_long.groupby(params+ ['epoch', 'fold']).ic.mean().to_frame('ic').reset_index()\n"
   ]
  },
  {
   "cell_type": "code",
   "execution_count": 90,
   "outputs": [
    {
     "data": {
      "text/plain": "<Figure size 504x432 with 1 Axes>",
      "image/png": "[encoded data removed]"
     },
     "metadata": {},
     "output_type": "display_data"
    }
   ],
   "source": [
    "f, ax = plt.subplots(figsize=(7, 6))\n",
    "sns.boxplot(x=\"ic\", y=\"epoch\", data=ic_long,\n",
    "            whis=[0, 100], width=.6, palette=\"vlag\")\n",
    "sns.stripplot(x=\"ic\", y=\"epoch\", data=ic_long,\n",
    "              size=4, color=\".3\", linewidth=0)\n",
    "ax.xaxis.grid(True)\n",
    "ax.set(ylabel=\"\")\n",
    "sns.despine(trim=True, left=True)\n",
    "f.savefig(results_path / 'ic_boxplot_epoch.svg', dpi=300)\n"
   ],
   "metadata": {
    "collapsed": false,
    "pycharm": {
     "name": "#%%\n"
    }
   }
  },
  {
   "cell_type": "code",
   "execution_count": 91,
   "outputs": [
    {
     "data": {
      "text/plain": "<Figure size 504x432 with 1 Axes>",
      "image/png": "[encoded data removed]"
     },
     "metadata": {},
     "output_type": "display_data"
    }
   ],
   "source": [
    "f, ax = plt.subplots(figsize=(7, 6))\n",
    "sns.boxplot(x=\"ic\", y=\"activation\", data=ic_long,\n",
    "            whis=[0, 100], width=.6, palette=\"vlag\")\n",
    "sns.stripplot(x=\"ic\", y=\"activation\", data=ic_long,\n",
    "              size=4, color=\".3\", linewidth=0)\n",
    "ax.xaxis.grid(True)\n",
    "ax.set(ylabel=\"\")\n",
    "sns.despine(trim=True, left=True)\n",
    "f.savefig(results_path / 'ic_boxplot_activation.svg', dpi=300)\n"
   ],
   "metadata": {
    "collapsed": false,
    "pycharm": {
     "name": "#%%\n"
    }
   }
  },
  {
   "cell_type": "code",
   "execution_count": 92,
   "metadata": {
    "ExecuteTime": {
     "end_time": "2021-02-23T05:52:12.403975Z",
     "start_time": "2021-02-23T05:45:38.360Z"
    }
   },
   "outputs": [
    {
     "data": {
      "text/plain": "PosixPath('results_D_144_ncut_1yrs/ic_lineplot_dense_layers_dropout.svg')"
     },
     "execution_count": 92,
     "metadata": {},
     "output_type": "execute_result"
    },
    {
     "data": {
      "text/plain": "<Figure size 1508.5x720 with 8 Axes>",
      "image/png": "[encoded data removed]"
     },
     "metadata": {},
     "output_type": "display_data"
    }
   ],
   "source": [
    "g = sns.relplot(x='epoch', y='ic', col='dense_layers', row='dropout',\n",
    "                hue='fold', style='batch_size',\n",
    "                #data=ic_long[ic_long.dropout>0], kind='line')\n",
    "                data=ic_long, kind='scatter', legend=True)\n",
    "g.map(plt.axhline, y=0, ls='--', c='k', lw=1)\n",
    "g.savefig(results_path / 'ic_lineplot_dense_layers_dropout.svg', dpi=300);\n",
    "\n",
    "results_path / 'ic_lineplot_dense_layers_dropout.svg'\n",
    "\n"
   ]
  },
  {
   "cell_type": "code",
   "execution_count": 93,
   "metadata": {
    "ExecuteTime": {
     "end_time": "2021-02-23T05:52:12.404731Z",
     "start_time": "2021-02-23T05:45:38.362Z"
    }
   },
   "outputs": [
    {
     "name": "stdout",
     "output_type": "stream",
     "text": [
      "1\n",
      "                            OLS Regression Results                            \n",
      "==============================================================================\n",
      "Dep. Variable:                     ic   R-squared:                       0.010\n",
      "Model:                            OLS   Adj. R-squared:                  0.010\n",
      "Method:                 Least Squares   F-statistic:                     67.85\n",
      "Date:                Fri, 02 Jul 2021   Prob (F-statistic):          1.70e-111\n",
      "Time:                        19:43:26   Log-Likelihood:                 12795.\n",
      "No. Observations:               55200   AIC:                        -2.557e+04\n",
      "Df Residuals:                   55191   BIC:                        -2.549e+04\n",
      "Df Model:                           8                                         \n",
      "Covariance Type:            nonrobust                                         \n",
      "==============================================================================\n",
      "                 coef    std err          t      P>|t|      [0.025      0.975]\n",
      "------------------------------------------------------------------------------\n",
      "const          0.1426      0.002     58.179      0.000       0.138       0.147\n",
      "256-128       -0.0136      0.002     -5.866      0.000      -0.018      -0.009\n",
      "32-16         -0.0380      0.002    -16.443      0.000      -0.043      -0.033\n",
      "64-32          0.0020      0.002      0.877      0.381      -0.003       0.007\n",
      "0.5            0.0092      0.002      5.632      0.000       0.006       0.012\n",
      "01             0.0191      0.003      7.386      0.000       0.014       0.024\n",
      "02             0.0239      0.003      9.270      0.000       0.019       0.029\n",
      "03             0.0241      0.003      9.321      0.000       0.019       0.029\n",
      "04             0.0239      0.003      9.266      0.000       0.019       0.029\n",
      "==============================================================================\n",
      "Omnibus:                      242.237   Durbin-Watson:                   1.722\n",
      "Prob(Omnibus):                  0.000   Jarque-Bera (JB):              245.951\n",
      "Skew:                           0.159   Prob(JB):                     3.91e-54\n",
      "Kurtosis:                       3.078   Cond. No.                         7.10\n",
      "==============================================================================\n",
      "\n",
      "Notes:\n",
      "[1] Standard Errors assume that the covariance matrix of the errors is correctly specified.\n"
     ]
    }
   ],
   "source": [
    "if ols:\n",
    "    print(\"1\")\n",
    "    def run_ols(ic):\n",
    "        ic.dense_layers = ic.dense_layers.str.replace(', ', '-').str.replace('(', '').str.replace(')', '')\n",
    "        data = pd.melt(ic, id_vars=params, var_name='epoch', value_name='ic')\n",
    "        data.epoch = data.epoch.astype(int).astype(str).apply(lambda x: f'{int(x):02.0f}')\n",
    "        model_data = pd.get_dummies(data.sort_values(params + ['epoch']), columns=['epoch'] + params, drop_first=True).sort_index(1)\n",
    "        model_data.columns = [s.split('_')[-1] for s in model_data.columns]\n",
    "        model = sm.OLS(endog=model_data.ic, exog=sm.add_constant(model_data.drop('ic', axis=1)), missing='drop')\n",
    "        return model.fit()\n",
    "\n",
    "    model = run_ols(ic.drop('fold', axis=1))\n",
    "\n",
    "    print(model.summary())"
   ]
  },
  {
   "cell_type": "code",
   "execution_count": 94,
   "metadata": {
    "ExecuteTime": {
     "end_time": "2021-02-23T05:52:12.407080Z",
     "start_time": "2021-02-23T05:45:38.367Z"
    }
   },
   "outputs": [
    {
     "data": {
      "text/plain": "<Figure size 1008x288 with 1 Axes>",
      "image/png": "[encoded data removed]"
     },
     "metadata": {},
     "output_type": "display_data"
    }
   ],
   "source": [
    "if ols:\n",
    "    fig, ax = plt.subplots(figsize=(14, 4))\n",
    "\n",
    "    ci = model.conf_int()\n",
    "    errors = ci[1].sub(ci[0]).div(2)\n",
    "\n",
    "    coefs = (model.params.to_frame('coef').assign(error=errors)\n",
    "             .reset_index().rename(columns={'index': 'variable'}))\n",
    "    coefs = coefs[~coefs['variable'].str.startswith('date') & (coefs.variable != 'const')]\n",
    "\n",
    "    coefs.plot(x='variable', y='coef', kind='bar',\n",
    "               ax=ax, color='none', capsize=3,\n",
    "               yerr='error', legend=False, rot=0, title='Impact of Architecture and Training Parameters on Out-of-Sample Performance')\n",
    "    ax.set_ylabel('IC')\n",
    "    ax.set_xlabel('')\n",
    "    ax.scatter(x=pd.np.arange(len(coefs)), marker='_', s=120, y=coefs['coef'], color='black')\n",
    "    ax.axhline(y=0, linestyle='--', color='black', linewidth=1)\n",
    "    ax.xaxis.set_ticks_position('none')\n",
    "\n",
    "    ax.annotate('Batch Size', xy=(.02, -0.1), xytext=(.02, -0.2),\n",
    "                xycoords='axes fraction',\n",
    "                textcoords='axes fraction',\n",
    "                fontsize=11, ha='center', va='bottom',\n",
    "                bbox=dict(boxstyle='square', fc='white', ec='black'),\n",
    "                arrowprops=dict(arrowstyle='-[, widthB=1.3, lengthB=0.8', lw=1.0, color='black'))\n",
    "\n",
    "    ax.annotate('Layers', xy=(.1, -0.1), xytext=(.1, -0.2),\n",
    "                xycoords='axes fraction',\n",
    "                textcoords='axes fraction',\n",
    "                fontsize=11, ha='center', va='bottom',\n",
    "                bbox=dict(boxstyle='square', fc='white', ec='black'),\n",
    "                arrowprops=dict(arrowstyle='-[, widthB=4.8, lengthB=0.8', lw=1.0, color='black'))\n",
    "\n",
    "    ax.annotate('Dropout', xy=(.2, -0.1), xytext=(.2, -0.2),\n",
    "                xycoords='axes fraction',\n",
    "                textcoords='axes fraction',\n",
    "                fontsize=11, ha='center', va='bottom',\n",
    "                bbox=dict(boxstyle='square', fc='white', ec='black'),\n",
    "                arrowprops=dict(arrowstyle='-[, widthB=2.8, lengthB=0.8', lw=1.0, color='black'))\n",
    "\n",
    "    ax.annotate('Epochs', xy=(.62, -0.1), xytext=(.62, -0.2),\n",
    "                xycoords='axes fraction',\n",
    "                textcoords='axes fraction',\n",
    "                fontsize=11, ha='center', va='bottom',\n",
    "                bbox=dict(boxstyle='square', fc='white', ec='black'),\n",
    "                arrowprops=dict(arrowstyle='-[, widthB=30.5, lengthB=1.0', lw=1.0, color='black'))\n",
    "\n",
    "    sns.despine()\n",
    "    fig.tight_layout()\n",
    "    fig.savefig(results_path / 'ols_coef', dpi=300)"
   ]
  },
  {
   "cell_type": "markdown",
   "metadata": {},
   "source": [
    "## Make Predictions\n",
    "\n"
   ]
  },
  {
   "cell_type": "code",
   "execution_count": 95,
   "metadata": {
    "ExecuteTime": {
     "end_time": "2021-02-23T05:52:12.408720Z",
     "start_time": "2021-02-23T05:45:38.373Z"
    }
   },
   "outputs": [],
   "source": [
    "\n",
    "def generate_predictions(dense_layers, activation, dropout, batch_size, reg_L1, reg_L2, epoch):\n",
    "    # data = pd.read_hdf(data_path, 'model_data').dropna().sort_index()\n",
    "    # outcomes = data.filter(like='fwd').columns.tolist()\n",
    "    # X_cv = data.loc[idx[:, :'2021-05'], :].drop(outcomes, axis=1)\n",
    "    # X_cv = data.drop(outcomes, axis=1)\n",
    "    # input_dim = X_cv.shape[1]\n",
    "    # y_cv = data.loc[idx[:, :'2017'], 'r01_fwd']\n",
    "\n",
    "    scaler = StandardScaler()\n",
    "    predictions = []\n",
    "    \n",
    "    do = '0' if str(dropout) == '0.0' else str(dropout)\n",
    "\n",
    "    checkpoint_dir = checkpoint_path / str(dense_layers) / activation / str(do) / str(batch_size) / str(reg_L1) / str(reg_L2)\n",
    "        \n",
    "    for fold, (train_idx, test_idx) in enumerate(cv.split(X_cv)):\n",
    "        x_train, y_train, x_val, y_val = get_train_valid_data(X_cv, y_cv, train_idx, test_idx)\n",
    "        x_val = scaler.fit(x_train).transform(x_val)\n",
    "        \"\"\"\n",
    "        print(\"split {} {}\".format(y_val.index.get_level_values('date').min(),\n",
    "                                   y_val.index.get_level_values('date').max()))\n",
    "        print(\"split {} {}\".format(dates[fold]['val_date_min'],\n",
    "                                   dates[fold]['val_date_max']))\n",
    "        \"\"\"\n",
    "        model = make_model(make_tuple(dense_layers), activation, dropout, reg_L1, reg_L2)\n",
    "        status = model.load_weights((checkpoint_dir / f'ckpt_{fold}_{epoch}').as_posix())\n",
    "        status.expect_partial()\n",
    "        predictions.append(pd.Series(model.predict(x_val).squeeze(), index=y_val.index))\n",
    "    return pd.concat(predictions)        "
   ]
  },
  {
   "cell_type": "code",
   "execution_count": 96,
   "metadata": {
    "ExecuteTime": {
     "end_time": "2021-02-23T05:52:12.409529Z",
     "start_time": "2021-02-23T05:45:38.375Z"
    }
   },
   "outputs": [
    {
     "name": "stdout",
     "output_type": "stream",
     "text": [
      "['dense_layers', 'dropout', 'batch_size', 'activation', 'reg_L1', 'reg_L2']\n"
     ]
    }
   ],
   "source": [
    "print(params)"
   ]
  },
  {
   "cell_type": "code",
   "execution_count": 97,
   "outputs": [],
   "source": [
    "def get_best_params(n=5, ic_given=None):\n",
    "    \"\"\"Get the best parameters across all folds by daily median IC\"\"\"\n",
    "    params = ['dense_layers', 'activation', 'dropout', 'batch_size',\n",
    "              'reg_L1', 'reg_L2']\n",
    "    if ic_given==None:\n",
    "        ic = pd.read_hdf(results_path / 'val_scores.h5', 'ic_by_day').drop('fold', axis=1)\n",
    "    else:\n",
    "        ic = ic_given\n",
    "    dates = sorted(ic.index.unique())\n",
    "    # train_period = 12 * 30 * 24\n",
    "    train_dates = dates# [:train_period]\n",
    "    ic = ic.loc[train_dates]\n",
    "    return (ic.groupby(params)\n",
    "            .median()\n",
    "            .stack()\n",
    "            .to_frame('ic')\n",
    "            .reset_index()\n",
    "            .rename(columns={'level_6': 'epoch'})\n",
    "            .nlargest(n=n, columns='ic')\n",
    "            .drop('ic', axis=1)\n",
    "            .to_dict('records'))\n"
   ],
   "metadata": {
    "collapsed": false,
    "pycharm": {
     "name": "#%%\n"
    }
   }
  },
  {
   "cell_type": "code",
   "execution_count": 98,
   "outputs": [
    {
     "name": "stdout",
     "output_type": "stream",
     "text": [
      "{'dense_layers': '(64, 32)', 'activation': 'relu', 'dropout': 0.5, 'batch_size': 8192, 'reg_L1': 0, 'reg_L2': 0, 'epoch': 4}\n",
      "{'dense_layers': '(128, 64)', 'activation': 'relu', 'dropout': 0.5, 'batch_size': 8192, 'reg_L1': 0, 'reg_L2': 0, 'epoch': 2}\n",
      "{'dense_layers': '(64, 32)', 'activation': 'relu', 'dropout': 0.5, 'batch_size': 8192, 'reg_L1': 0, 'reg_L2': 0, 'epoch': 3}\n",
      "{'dense_layers': '(64, 32)', 'activation': 'relu', 'dropout': 0.5, 'batch_size': 8192, 'reg_L1': 0, 'reg_L2': 0, 'epoch': 2}\n",
      "{'dense_layers': '(256, 128)', 'activation': 'relu', 'dropout': 0.5, 'batch_size': 8192, 'reg_L1': 0, 'reg_L2': 0, 'epoch': 0}\n",
      "<class 'pandas.core.frame.DataFrame'>\n",
      "MultiIndex: 9893186 entries, (Timestamp('2017-09-10 00:00:00'), 'btc-usd', 0) to (Timestamp('2021-06-20 00:00:00'), 'zec-usd', 855)\n",
      "Data columns (total 5 columns):\n",
      " #   Column  Dtype  \n",
      "---  ------  -----  \n",
      " 0   # 0     float32\n",
      " 1   # 1     float32\n",
      " 2   # 2     float32\n",
      " 3   # 3     float32\n",
      " 4   # 4     float32\n",
      "dtypes: float32(5)\n",
      "memory usage: 245.4 MB\n",
      "None\n"
     ]
    }
   ],
   "source": [
    "best_params = get_best_params()\n",
    "for param in best_params:\n",
    "    print(param)\n",
    "predictions = []\n",
    "for i, params in enumerate(best_params):\n",
    "    predictions.append(generate_predictions(**params).to_frame(f'#{i:2}'))\n",
    "\n",
    "predictions = pd.concat(predictions, axis=1)\n",
    "predictions.sort_index(inplace=True)\n",
    "print(predictions.info())"
   ],
   "metadata": {
    "collapsed": false,
    "pycharm": {
     "name": "#%%\n"
    }
   }
  },
  {
   "cell_type": "code",
   "execution_count": 99,
   "outputs": [],
   "source": [
    "predictions.reset_index().to_feather(results_path / 'test_preds.ftr')\n"
   ],
   "metadata": {
    "collapsed": false,
    "pycharm": {
     "name": "#%%\n"
    }
   }
  },
  {
   "cell_type": "code",
   "execution_count": 100,
   "outputs": [],
   "source": [
    "targets = y_cv.to_frame('target')\n",
    "targets.sort_index()\n",
    "results = predictions.join(targets)\n",
    "results.reset_index().to_feather(results_path / 'results.ftr')\n",
    "results\n"
   ],
   "metadata": {
    "collapsed": false,
    "pycharm": {
     "name": "#%%\n"
    }
   }
  },
  {
   "cell_type": "code",
   "execution_count": 101,
   "outputs": [
    {
     "name": "stderr",
     "output_type": "stream",
     "text": [
      "5it [10:29, 125.92s/it]\n"
     ]
    },
    {
     "data": {
      "text/plain": "                                # 0       # 1       # 2       # 3       # 4  \\\ndate       ticker  offset                                                     \n2017-09-10 btc-usd 0       0.011433  0.009906  0.011401  0.010061  0.000118   \n                   5       0.013861  0.013701  0.014362  0.014069 -0.001805   \n                   10      0.012026  0.010265  0.011952  0.010609  0.000202   \n                   15      0.013674  0.018978  0.014521  0.014166  0.002145   \n                   20      0.014484  0.018333  0.015262  0.014897  0.000671   \n...                             ...       ...       ...       ...       ...   \n2021-06-20 zec-usd 835     0.011973  0.012262  0.010922  0.007412 -0.009930   \n                   840     0.011633  0.012304  0.010759  0.007464 -0.008326   \n                   845     0.011354  0.012382  0.010806  0.007662 -0.007042   \n                   850     0.034669  0.017381  0.028578  0.022296  0.017287   \n                   855     0.011457  0.012174  0.010581  0.007626 -0.008188   \n\n                             target  ic_# 0  ic_# 1  ic_# 2  ic_# 3  ic_# 4  \ndate       ticker  offset                                                    \n2017-09-10 btc-usd 0      -0.009750     NaN     NaN     NaN     NaN     NaN  \n                   5      -0.007795     NaN     NaN     NaN     NaN     NaN  \n                   10     -0.007320     NaN     NaN     NaN     NaN     NaN  \n                   15     -0.007360     NaN     NaN     NaN     NaN     NaN  \n                   20     -0.007249     NaN     NaN     NaN     NaN     NaN  \n...                             ...     ...     ...     ...     ...     ...  \n2021-06-20 zec-usd 835    -0.206348     NaN     NaN     NaN     NaN     NaN  \n                   840    -0.218336     NaN     NaN     NaN     NaN     NaN  \n                   845    -0.204219     NaN     NaN     NaN     NaN     NaN  \n                   850    -0.202903     NaN     NaN     NaN     NaN     NaN  \n                   855    -0.198513     NaN     NaN     NaN     NaN     NaN  \n\n[9893186 rows x 11 columns]",
      "text/html": "<div>\n<style scoped>\n    .dataframe tbody tr th:only-of-type {\n        vertical-align: middle;\n    }\n\n    .dataframe tbody tr th {\n        vertical-align: top;\n    }\n\n    .dataframe thead th {\n        text-align: right;\n    }\n</style>\n<table border=\"1\" class=\"dataframe\">\n  <thead>\n    <tr style=\"text-align: right;\">\n      <th></th>\n      <th></th>\n      <th></th>\n      <th># 0</th>\n      <th># 1</th>\n      <th># 2</th>\n      <th># 3</th>\n      <th># 4</th>\n      <th>target</th>\n      <th>ic_# 0</th>\n      <th>ic_# 1</th>\n      <th>ic_# 2</th>\n      <th>ic_# 3</th>\n      <th>ic_# 4</th>\n    </tr>\n    <tr>\n      <th>date</th>\n      <th>ticker</th>\n      <th>offset</th>\n      <th></th>\n      <th></th>\n      <th></th>\n      <th></th>\n      <th></th>\n      <th></th>\n      <th></th>\n      <th></th>\n      <th></th>\n      <th></th>\n      <th></th>\n    </tr>\n  </thead>\n  <tbody>\n    <tr>\n      <th rowspan=\"5\" valign=\"top\">2017-09-10</th>\n      <th rowspan=\"5\" valign=\"top\">btc-usd</th>\n      <th>0</th>\n      <td>0.011433</td>\n      <td>0.009906</td>\n      <td>0.011401</td>\n      <td>0.010061</td>\n      <td>0.000118</td>\n      <td>-0.009750</td>\n      <td>NaN</td>\n      <td>NaN</td>\n      <td>NaN</td>\n      <td>NaN</td>\n      <td>NaN</td>\n    </tr>\n    <tr>\n      <th>5</th>\n      <td>0.013861</td>\n      <td>0.013701</td>\n      <td>0.014362</td>\n      <td>0.014069</td>\n      <td>-0.001805</td>\n      <td>-0.007795</td>\n      <td>NaN</td>\n      <td>NaN</td>\n      <td>NaN</td>\n      <td>NaN</td>\n      <td>NaN</td>\n    </tr>\n    <tr>\n      <th>10</th>\n      <td>0.012026</td>\n      <td>0.010265</td>\n      <td>0.011952</td>\n      <td>0.010609</td>\n      <td>0.000202</td>\n      <td>-0.007320</td>\n      <td>NaN</td>\n      <td>NaN</td>\n      <td>NaN</td>\n      <td>NaN</td>\n      <td>NaN</td>\n    </tr>\n    <tr>\n      <th>15</th>\n      <td>0.013674</td>\n      <td>0.018978</td>\n      <td>0.014521</td>\n      <td>0.014166</td>\n      <td>0.002145</td>\n      <td>-0.007360</td>\n      <td>NaN</td>\n      <td>NaN</td>\n      <td>NaN</td>\n      <td>NaN</td>\n      <td>NaN</td>\n    </tr>\n    <tr>\n      <th>20</th>\n      <td>0.014484</td>\n      <td>0.018333</td>\n      <td>0.015262</td>\n      <td>0.014897</td>\n      <td>0.000671</td>\n      <td>-0.007249</td>\n      <td>NaN</td>\n      <td>NaN</td>\n      <td>NaN</td>\n      <td>NaN</td>\n      <td>NaN</td>\n    </tr>\n    <tr>\n      <th>...</th>\n      <th>...</th>\n      <th>...</th>\n      <td>...</td>\n      <td>...</td>\n      <td>...</td>\n      <td>...</td>\n      <td>...</td>\n      <td>...</td>\n      <td>...</td>\n      <td>...</td>\n      <td>...</td>\n      <td>...</td>\n      <td>...</td>\n    </tr>\n    <tr>\n      <th rowspan=\"5\" valign=\"top\">2021-06-20</th>\n      <th rowspan=\"5\" valign=\"top\">zec-usd</th>\n      <th>835</th>\n      <td>0.011973</td>\n      <td>0.012262</td>\n      <td>0.010922</td>\n      <td>0.007412</td>\n      <td>-0.009930</td>\n      <td>-0.206348</td>\n      <td>NaN</td>\n      <td>NaN</td>\n      <td>NaN</td>\n      <td>NaN</td>\n      <td>NaN</td>\n    </tr>\n    <tr>\n      <th>840</th>\n      <td>0.011633</td>\n      <td>0.012304</td>\n      <td>0.010759</td>\n      <td>0.007464</td>\n      <td>-0.008326</td>\n      <td>-0.218336</td>\n      <td>NaN</td>\n      <td>NaN</td>\n      <td>NaN</td>\n      <td>NaN</td>\n      <td>NaN</td>\n    </tr>\n    <tr>\n      <th>845</th>\n      <td>0.011354</td>\n      <td>0.012382</td>\n      <td>0.010806</td>\n      <td>0.007662</td>\n      <td>-0.007042</td>\n      <td>-0.204219</td>\n      <td>NaN</td>\n      <td>NaN</td>\n      <td>NaN</td>\n      <td>NaN</td>\n      <td>NaN</td>\n    </tr>\n    <tr>\n      <th>850</th>\n      <td>0.034669</td>\n      <td>0.017381</td>\n      <td>0.028578</td>\n      <td>0.022296</td>\n      <td>0.017287</td>\n      <td>-0.202903</td>\n      <td>NaN</td>\n      <td>NaN</td>\n      <td>NaN</td>\n      <td>NaN</td>\n      <td>NaN</td>\n    </tr>\n    <tr>\n      <th>855</th>\n      <td>0.011457</td>\n      <td>0.012174</td>\n      <td>0.010581</td>\n      <td>0.007626</td>\n      <td>-0.008188</td>\n      <td>-0.198513</td>\n      <td>NaN</td>\n      <td>NaN</td>\n      <td>NaN</td>\n      <td>NaN</td>\n      <td>NaN</td>\n    </tr>\n  </tbody>\n</table>\n<p>9893186 rows × 11 columns</p>\n</div>"
     },
     "execution_count": 101,
     "metadata": {},
     "output_type": "execute_result"
    }
   ],
   "source": [
    "for i, params in tqdm(enumerate(best_params)):\n",
    "    results[f'ic #{i:2}'] = results.apply(lambda x: spearmanr(x['target'], x[f'#{i:2}'])[0], axis=1)\n",
    "\n",
    "results"
   ],
   "metadata": {
    "collapsed": false,
    "pycharm": {
     "name": "#%%\n"
    }
   }
  },
  {
   "cell_type": "code",
   "execution_count": 102,
   "outputs": [],
   "source": [
    "results.reset_index().to_feather(results_path / 'results_IC.ftr')\n",
    "\n"
   ],
   "metadata": {
    "collapsed": false,
    "pycharm": {
     "name": "#%%\n"
    }
   }
  },
  {
   "cell_type": "markdown",
   "metadata": {},
   "source": [
    "### How to further improve the results\n",
    "\n",
    "The relatively simple architecture yields some promising results. To further improve performance, you can\n",
    "- First and foremost, add new features and more data to the model\n",
    "- Expand the set of architectures to explore, including more or wider layers\n",
    "- Inspect the training progress and train for more epochs if the validation error continued to improve at 50 epochs\n",
    "\n",
    "Finally, you can use more sophisticated architectures, including Recurrent Neural Networks (RNN) and Convolutional Neural Networks that are well suited to sequential data, whereas vanilla feedforward NNs are not designed to capture the ordered nature of the features.\n"
   ]
  }
 ],
 "metadata": {
  "kernelspec": {
   "display_name": "Python 3",
   "language": "python",
   "name": "python3"
  },
  "language_info": {
   "codemirror_mode": {
    "name": "ipython",
    "version": 3
   },
   "file_extension": ".py",
   "mimetype": "text/x-python",
   "name": "python",
   "nbconvert_exporter": "python",
   "pygments_lexer": "ipython3",
   "version": "3.8.8"
  },
  "toc": {
   "base_numbering": 1,
   "nav_menu": {},
   "number_sections": true,
   "sideBar": true,
   "skip_h1_title": true,
   "title_cell": "Table of Contents",
   "title_sidebar": "Contents",
   "toc_cell": false,
   "toc_position": {
    "height": "calc(100% - 180px)",
    "left": "10px",
    "top": "150px",
    "width": "282.222px"
   },
   "toc_section_display": true,
   "toc_window_display": true
  }
 },
 "nbformat": 4,
 "nbformat_minor": 2
}