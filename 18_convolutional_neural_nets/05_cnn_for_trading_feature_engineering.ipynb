{
 "cells": [
  {
   "cell_type": "markdown",
   "metadata": {},
   "source": [
    "# CNN for Trading - Part 1: Feature Engineering"
   ]
  },
  {
   "cell_type": "markdown",
   "metadata": {},
   "source": [
    "To exploit the grid-like structure of time-series data, we can use CNN architectures for univariate and multivariate time series. In the latter case, we consider different time series as channels, similar to the different color signals.\n",
    "\n",
    "An alternative approach converts a time series of alpha factors into a two-dimensional format to leverage the ability of CNNs to detect local patterns. [Sezer and Ozbayoglu (2018)](https://www.researchgate.net/publication/324802031_Algorithmic_Financial_Trading_with_Deep_Convolutional_Neural_Networks_Time_Series_to_Image_Conversion_Approach) propose CNN-TA, which computes 15 technical indicators for different intervals and uses hierarchical clustering (see Chapter 13, Data-Driven Risk Factors and Asset Allocation with Unsupervised Learning) to locate indicators that behave similarly close to each other in a two-dimensional grid.\n",
    "\n",
    "The authors train a CNN similar to the CIFAR-10 example we used earlier to predict whether to buy, hold, or sell an asset on a given day. They compare the CNN performance to \"buy-and-hold\" and other models and find that it outperforms all alternatives using daily price series for Dow 30 stocks and the nine most-traded ETFs over the 2007-2017 time period.\n",
    "\n",
    "The section on *CNN for Trading* consists of three notebooks that experiment with this approach using daily US equity price data. They demonstrate \n",
    "1. How to compute relevant financial features\n",
    "2. How to convert a similar set of indicators into image format and cluster them by similarity\n",
    "3. How to train a CNN to predict daily returns and evaluate a simple long-short strategy based on the resulting signals."
   ]
  },
  {
   "cell_type": "markdown",
   "metadata": {},
   "source": [
    "## Creating technical indicators at different intervals\n",
    "We first select a universe of the 500 most-traded US stocks from the Quandl Wiki dataset by dollar volume for rolling five-year periods for 2007-2017. \n",
    "\n",
    "- Our features consist of 15 technical indicators and risk factors that we compute for 15 different intervals and then arrange them in a 15x15 grid.\n",
    "- For each indicator, we vary the time period from 6 to 20 to obtain 15 distinct measurements. "
   ]
  },
  {
   "cell_type": "markdown",
   "metadata": {},
   "source": [
    "## Imports & Settings"
   ]
  },
  {
   "cell_type": "markdown",
   "metadata": {},
   "source": [
    "To install `talib` with Python 3.7 follow [these](https://medium.com/@joelzhang/install-ta-lib-in-python-3-7-51219acacafb) instructions."
   ]
  },
  {
   "cell_type": "code",
   "execution_count": 1,
   "metadata": {
    "ExecuteTime": {
     "end_time": "2021-02-23T16:34:48.739909Z",
     "start_time": "2021-02-23T16:34:48.738054Z"
    }
   },
   "outputs": [],
   "source": [
    "import warnings\n",
    "\n",
    "from tqdm import tqdm\n",
    "\n",
    "from data.data_loader import data_loader\n",
    "\n",
    "warnings.filterwarnings('ignore')"
   ]
  },
  {
   "cell_type": "code",
   "execution_count": 2,
   "metadata": {
    "ExecuteTime": {
     "end_time": "2021-02-23T16:34:49.433046Z",
     "start_time": "2021-02-23T16:34:48.744360Z"
    }
   },
   "outputs": [],
   "source": [
    "from talib import (RSI, BBANDS, MACD,\n",
    "                   NATR, WILLR, WMA,\n",
    "                   EMA, SMA, CCI, CMO,\n",
    "                   MACD, PPO, ROC,\n",
    "                   ADOSC, ADX, MOM)\n",
    "import seaborn as sns\n",
    "import matplotlib.pyplot as plt\n",
    "from statsmodels.regression.rolling import RollingOLS\n",
    "import statsmodels.api as sm\n",
    "import pandas_datareader.data as web\n",
    "import pandas as pd\n",
    "import numpy as np\n",
    "from pathlib import Path\n",
    "%matplotlib inline"
   ]
  },
  {
   "cell_type": "code",
   "execution_count": 3,
   "metadata": {
    "ExecuteTime": {
     "end_time": "2021-02-23T16:34:49.435390Z",
     "start_time": "2021-02-23T16:34:49.433913Z"
    }
   },
   "outputs": [],
   "source": [
    "DATA_STORE = '../data/assets.h5'"
   ]
  },
  {
   "cell_type": "code",
   "execution_count": 4,
   "metadata": {
    "ExecuteTime": {
     "end_time": "2021-02-23T16:34:49.442890Z",
     "start_time": "2021-02-23T16:34:49.436319Z"
    }
   },
   "outputs": [],
   "source": [
    "MONTH = 21\n",
    "YEAR = 12 * MONTH"
   ]
  },
  {
   "cell_type": "code",
   "execution_count": 5,
   "metadata": {
    "ExecuteTime": {
     "end_time": "2021-02-23T16:34:49.450476Z",
     "start_time": "2021-02-23T16:34:49.443903Z"
    }
   },
   "outputs": [],
   "source": [
    "START = '2000-01-01'\n",
    "END = '2021-05-28'"
   ]
  },
  {
   "cell_type": "code",
   "execution_count": 6,
   "metadata": {
    "ExecuteTime": {
     "end_time": "2021-02-23T16:34:49.463187Z",
     "start_time": "2021-02-23T16:34:49.451269Z"
    }
   },
   "outputs": [],
   "source": [
    "sns.set_style('whitegrid')\n",
    "idx = pd.IndexSlice"
   ]
  },
  {
   "cell_type": "code",
   "execution_count": 7,
   "metadata": {
    "ExecuteTime": {
     "end_time": "2021-02-23T16:34:49.470587Z",
     "start_time": "2021-02-23T16:34:49.463928Z"
    }
   },
   "outputs": [],
   "source": [
    "T = [1, 5, 10, 21, 42, 63]\n",
    "percentiles = [0, 0.001, 0.01, 0.2, 0.4, 0.6, 0.8, 0.99, 0.999]"
   ]
  },
  {
   "cell_type": "code",
   "execution_count": 8,
   "metadata": {
    "ExecuteTime": {
     "end_time": "2021-02-23T16:34:49.478180Z",
     "start_time": "2021-02-23T16:34:49.471318Z"
    }
   },
   "outputs": [],
   "source": [
    "results_path = Path('results', 'cnn_for_trading')\n",
    "if not results_path.exists():\n",
    "    results_path.mkdir(parents=True)"
   ]
  },
  {
   "cell_type": "markdown",
   "metadata": {},
   "source": [
    "## Loading Quandl Wiki Stock Prices & Meta Data"
   ]
  },
  {
   "cell_type": "code",
   "execution_count": 9,
   "metadata": {
    "ExecuteTime": {
     "end_time": "2021-02-23T16:34:49.485541Z",
     "start_time": "2021-02-23T16:34:49.479542Z"
    }
   },
   "outputs": [],
   "source": [
    "adj_ohlcv = ['adj_open', 'adj_close', 'adj_low', 'adj_high', 'adj_volume']"
   ]
  },
  {
   "cell_type": "code",
   "execution_count": 10,
   "metadata": {
    "ExecuteTime": {
     "end_time": "2021-02-23T16:34:57.775897Z",
     "start_time": "2021-02-23T16:34:49.486697Z"
    }
   },
   "outputs": [
    {
     "data": {
      "text/plain": "\"\\nwith pd.HDFStore(DATA_STORE) as store:\\n    prices = (store['quandl/wiki/prices']\\n              .loc[idx[START:END, :], adj_ohlcv]\\n              .rename(columns=lambda x: x.replace('adj_', ''))\\n              .swaplevel()\\n              .sort_index()\\n             .dropna())\\n    metadata = (store['us_equities/stocks'].loc[:, ['marketcap', 'sector']])\\nohlcv = prices.columns.tolist()\\n\""
     },
     "execution_count": 10,
     "metadata": {},
     "output_type": "execute_result"
    }
   ],
   "source": [
    "\"\"\"\n",
    "with pd.HDFStore(DATA_STORE) as store:\n",
    "    prices = (store['quandl/wiki/prices']\n",
    "              .loc[idx[START:END, :], adj_ohlcv]\n",
    "              .rename(columns=lambda x: x.replace('adj_', ''))\n",
    "              .swaplevel()\n",
    "              .sort_index()\n",
    "             .dropna())\n",
    "    metadata = (store['us_equities/stocks'].loc[:, ['marketcap', 'sector']])\n",
    "ohlcv = prices.columns.tolist()\n",
    "\"\"\""
   ]
  },
  {
   "cell_type": "code",
   "execution_count": 11,
   "metadata": {
    "ExecuteTime": {
     "end_time": "2021-02-23T16:34:57.847372Z",
     "start_time": "2021-02-23T16:34:57.776838Z"
    }
   },
   "outputs": [
    {
     "data": {
      "text/plain": "\"\\nprices.volume /= 1e3\\nprices.index.names = ['symbol', 'date']\\nmetadata.index.name = 'symbol'\\n\""
     },
     "execution_count": 11,
     "metadata": {},
     "output_type": "execute_result"
    }
   ],
   "source": [
    "\"\"\"\n",
    "prices.volume /= 1e3\n",
    "prices.index.names = ['symbol', 'date']\n",
    "metadata.index.name = 'symbol'\n",
    "\"\"\"\n",
    "\n",
    "\n",
    "## Loading Crypto Prices & Meta Data\n"
   ]
  },
  {
   "cell_type": "code",
   "execution_count": 12,
   "outputs": [
    {
     "name": "stdout",
     "output_type": "stream",
     "text": [
      "\n",
      "reducing footprint\n",
      "\n",
      "['open', 'high', 'low', 'close', 'volume']\n",
      "prices dates 2013-04-01 01:00:00:2021-05-28 23:00:00\n"
     ]
    }
   ],
   "source": [
    "\n",
    "downsampleshift = False\n",
    "minutes_per_base_frequency = 60\n",
    "prices, metadata, categories = data_loader(timeframe='H',\n",
    "                                           minutes_per_base_frequency=minutes_per_base_frequency,  # 5 Minutes sampled input data in data path\n",
    "                                            prices_path='../data/crypto/prices_H.ftr',\n",
    "                                            min_observation_years=1,\n",
    "                                            drop_level=True,\n",
    "                                            exclude_stablecoins=True,\n",
    "                                            cut=False,\n",
    "                                            n_min_tickers=0,\n",
    "                                            reduce_size=True,\n",
    "                                            downsampleshift=downsampleshift,\n",
    "                                            d_shift=60,\n",
    "                                            join_sector=False,\n",
    "                                            join_sectors=False)\n",
    "prices = (prices.loc[idx[START:END, :], :]\n",
    "                .swaplevel()\n",
    "              .sort_index())\n",
    "ohlcv = prices.columns.tolist()\n",
    "print(ohlcv)\n",
    "print('prices dates {}:{}'.format(prices.index.get_level_values('date').min(),\n",
    "                                 prices.index.get_level_values('date').max()))"
   ],
   "metadata": {
    "collapsed": false,
    "pycharm": {
     "name": "#%%\n"
    }
   }
  },
  {
   "cell_type": "code",
   "execution_count": 13,
   "outputs": [],
   "source": [
    "if downsampleshift:\n",
    "    glevel= ['ticker', 'offset'] # no downsampleshift\n",
    "else:\n",
    "    glevel= 'ticker' # no downsampleshift\n",
    "\n"
   ],
   "metadata": {
    "collapsed": false,
    "pycharm": {
     "name": "#%%\n"
    }
   }
  },
  {
   "cell_type": "code",
   "execution_count": 14,
   "outputs": [
    {
     "data": {
      "text/plain": "<AxesSubplot:xlabel='date'>"
     },
     "execution_count": 14,
     "metadata": {},
     "output_type": "execute_result"
    },
    {
     "data": {
      "text/plain": "<Figure size 432x288 with 1 Axes>",
      "image/png": "[encoded data removed]"
     },
     "metadata": {},
     "output_type": "display_data"
    }
   ],
   "source": [
    "cols=['close']\n",
    "prices[cols].groupby('date').count().plot()"
   ],
   "metadata": {
    "collapsed": false,
    "pycharm": {
     "name": "#%%\n"
    }
   }
  },
  {
   "cell_type": "markdown",
   "metadata": {},
   "source": [
    "## Rolling universe: pick 500 most-traded stocks"
   ]
  },
  {
   "cell_type": "code",
   "execution_count": 15,
   "metadata": {
    "ExecuteTime": {
     "end_time": "2021-02-23T16:35:00.884579Z",
     "start_time": "2021-02-23T16:34:57.848254Z"
    }
   },
   "outputs": [],
   "source": [
    "#dollar_vol = prices.volume.unstack(glevel).sort_index()"
   ]
  },
  {
   "cell_type": "code",
   "execution_count": 16,
   "metadata": {
    "ExecuteTime": {
     "end_time": "2021-02-23T16:35:01.061217Z",
     "start_time": "2021-02-23T16:35:00.885466Z"
    }
   },
   "outputs": [
    {
     "data": {
      "text/plain": "[2013, 2014, 2015, 2016, 2017, 2018, 2019, 2020, 2021]"
     },
     "execution_count": 16,
     "metadata": {},
     "output_type": "execute_result"
    }
   ],
   "source": [
    "years = sorted(np.unique([d.year for d in prices.index.get_level_values('date').unique()]))\n",
    "years"
   ]
  },
  {
   "cell_type": "code",
   "execution_count": 17,
   "metadata": {
    "ExecuteTime": {
     "end_time": "2021-02-23T16:35:01.063974Z",
     "start_time": "2021-02-23T16:35:01.062285Z"
    }
   },
   "outputs": [
    {
     "name": "stdout",
     "output_type": "stream",
     "text": [
      "<class 'pandas.core.frame.DataFrame'>\n",
      "MultiIndex: 949852 entries, ('algo-usd', Timestamp('2019-06-21 10:00:00', freq='H')) to ('zec-usd', Timestamp('2021-05-28 23:00:00', freq='H'))\n",
      "Data columns (total 5 columns):\n",
      " #   Column  Non-Null Count   Dtype  \n",
      "---  ------  --------------   -----  \n",
      " 0   open    949852 non-null  float32\n",
      " 1   high    949852 non-null  float32\n",
      " 2   low     949852 non-null  float32\n",
      " 3   close   949852 non-null  float32\n",
      " 4   volume  949852 non-null  float64\n",
      "dtypes: float32(4), float64(1)\n",
      "memory usage: 28.8 MB\n"
     ]
    }
   ],
   "source": [
    "prices.info(null_counts=True)\n",
    "\n",
    "\"\"\"\n",
    "train_window = 2 # years\n",
    "universe_size = 25\n",
    "\n",
    "\n",
    "universe = []\n",
    "for i, year in enumerate(years[5:], 5):\n",
    "    start = str(years[i-5])\n",
    "    end = str(years[i])\n",
    "    most_traded = (dollar_vol.loc[start:end, :]\n",
    "                   .dropna(thresh=1000, axis=1)\n",
    "                   .median()\n",
    "                   .nlargest(universe_size)\n",
    "                   .index)\n",
    "    universe.append(prices.loc[idx[most_traded, start:end], :])\n",
    "universe = pd.concat(universe)\n",
    "\"\"\"\n",
    "universe = prices"
   ]
  },
  {
   "cell_type": "code",
   "execution_count": 18,
   "metadata": {
    "ExecuteTime": {
     "end_time": "2021-02-23T16:41:52.882364Z",
     "start_time": "2021-02-23T16:41:52.520947Z"
    }
   },
   "outputs": [],
   "source": [
    "universe = universe.loc[~universe.index.duplicated()]"
   ]
  },
  {
   "cell_type": "code",
   "execution_count": 19,
   "metadata": {
    "ExecuteTime": {
     "end_time": "2021-02-23T16:41:52.930410Z",
     "start_time": "2021-02-23T16:41:52.883262Z"
    }
   },
   "outputs": [
    {
     "name": "stdout",
     "output_type": "stream",
     "text": [
      "<class 'pandas.core.frame.DataFrame'>\n",
      "MultiIndex: 949852 entries, ('algo-usd', Timestamp('2019-06-21 10:00:00', freq='H')) to ('zec-usd', Timestamp('2021-05-28 23:00:00', freq='H'))\n",
      "Data columns (total 5 columns):\n",
      " #   Column  Non-Null Count   Dtype  \n",
      "---  ------  --------------   -----  \n",
      " 0   open    949852 non-null  float32\n",
      " 1   high    949852 non-null  float32\n",
      " 2   low     949852 non-null  float32\n",
      " 3   close   949852 non-null  float32\n",
      " 4   volume  949852 non-null  float64\n",
      "dtypes: float32(4), float64(1)\n",
      "memory usage: 28.8 MB\n"
     ]
    }
   ],
   "source": [
    "universe.info(null_counts=True)"
   ]
  },
  {
   "cell_type": "code",
   "execution_count": 20,
   "metadata": {
    "ExecuteTime": {
     "end_time": "2021-02-23T16:41:52.985780Z",
     "start_time": "2021-02-23T16:41:52.931259Z"
    }
   },
   "outputs": [
    {
     "data": {
      "text/plain": "count       32.000000\nmean     29682.875000\nstd      13852.927481\nmin      13452.000000\n25%      19517.500000\n50%      26854.000000\n75%      34853.250000\nmax      71519.000000\ndtype: float64"
     },
     "execution_count": 20,
     "metadata": {},
     "output_type": "execute_result"
    }
   ],
   "source": [
    "glevel\n",
    "universe.groupby(glevel).size().describe()"
   ]
  },
  {
   "cell_type": "code",
   "execution_count": 21,
   "metadata": {
    "ExecuteTime": {
     "end_time": "2021-02-23T16:41:53.060861Z",
     "start_time": "2021-02-23T16:41:52.986614Z"
    }
   },
   "outputs": [],
   "source": [
    "universe.reset_index().to_feather('universe.ftr')\n",
    "universe_index = ['date', 'ticker']"
   ]
  },
  {
   "cell_type": "markdown",
   "metadata": {},
   "source": [
    "## Generate Technical Indicators Factors"
   ]
  },
  {
   "cell_type": "code",
   "execution_count": 22,
   "metadata": {
    "ExecuteTime": {
     "end_time": "2021-02-23T16:41:53.063455Z",
     "start_time": "2021-02-23T16:41:53.061684Z"
    }
   },
   "outputs": [],
   "source": [
    "T = list(range(6, 21))"
   ]
  },
  {
   "cell_type": "markdown",
   "metadata": {},
   "source": [
    "### Relative Strength Index"
   ]
  },
  {
   "cell_type": "code",
   "execution_count": 23,
   "metadata": {
    "ExecuteTime": {
     "end_time": "2021-02-23T16:44:03.645054Z",
     "start_time": "2021-02-23T16:41:53.064605Z"
    }
   },
   "outputs": [
    {
     "name": "stderr",
     "output_type": "stream",
     "text": [
      "100%|██████████| 15/15 [00:02<00:00,  5.40it/s]\n"
     ]
    },
    {
     "name": "stdout",
     "output_type": "stream",
     "text": [
      "<class 'pandas.core.frame.DataFrame'>\n",
      "MultiIndex: 949852 entries, ('algo-usd', Timestamp('2019-06-21 10:00:00', freq='H')) to ('zec-usd', Timestamp('2021-05-28 23:00:00', freq='H'))\n",
      "Data columns (total 20 columns):\n",
      " #   Column  Non-Null Count   Dtype  \n",
      "---  ------  --------------   -----  \n",
      " 0   open    949852 non-null  float32\n",
      " 1   high    949852 non-null  float32\n",
      " 2   low     949852 non-null  float32\n",
      " 3   close   949852 non-null  float32\n",
      " 4   volume  949852 non-null  float64\n",
      " 5   06_RSI  949660 non-null  float64\n",
      " 6   07_RSI  949628 non-null  float64\n",
      " 7   08_RSI  949596 non-null  float64\n",
      " 8   09_RSI  949564 non-null  float64\n",
      " 9   10_RSI  949532 non-null  float64\n",
      " 10  11_RSI  949500 non-null  float64\n",
      " 11  12_RSI  949468 non-null  float64\n",
      " 12  13_RSI  949436 non-null  float64\n",
      " 13  14_RSI  949404 non-null  float64\n",
      " 14  15_RSI  949372 non-null  float64\n",
      " 15  16_RSI  949340 non-null  float64\n",
      " 16  17_RSI  949308 non-null  float64\n",
      " 17  18_RSI  949276 non-null  float64\n",
      " 18  19_RSI  949244 non-null  float64\n",
      " 19  20_RSI  949212 non-null  float64\n",
      "dtypes: float32(4), float64(16)\n",
      "memory usage: 137.5 MB\n"
     ]
    }
   ],
   "source": [
    "for t in tqdm(T):\n",
    "    universe[f'{t:02}_RSI'] = universe.groupby(glevel).close.apply(RSI, timeperiod=t)\n",
    "\n",
    "universe.info()"
   ]
  },
  {
   "cell_type": "markdown",
   "metadata": {},
   "source": [
    "### Williams %R"
   ]
  },
  {
   "cell_type": "code",
   "execution_count": 24,
   "metadata": {
    "ExecuteTime": {
     "end_time": "2021-02-23T16:44:51.356647Z",
     "start_time": "2021-02-23T16:44:03.645883Z"
    }
   },
   "outputs": [
    {
     "name": "stderr",
     "output_type": "stream",
     "text": [
      "100%|██████████| 15/15 [00:02<00:00,  5.71it/s]\n"
     ]
    }
   ],
   "source": [
    "for t in tqdm(T):\n",
    "    universe[f'{t:02}_WILLR'] = (universe.groupby(glevel, group_keys=False)\n",
    "     .apply(lambda x: WILLR(x.high, x.low, x.close, timeperiod=t)))"
   ]
  },
  {
   "cell_type": "markdown",
   "metadata": {},
   "source": [
    "### Compute Bollinger Bands"
   ]
  },
  {
   "cell_type": "code",
   "execution_count": 25,
   "metadata": {
    "ExecuteTime": {
     "end_time": "2021-02-23T16:44:51.359531Z",
     "start_time": "2021-02-23T16:44:51.357628Z"
    }
   },
   "outputs": [],
   "source": [
    "def compute_bb(close, timeperiod):\n",
    "    high, mid, low = BBANDS(close, timeperiod=timeperiod)\n",
    "    return pd.DataFrame({f'{timeperiod:02}_BBH': high, f'{timeperiod:02}_BBL': low}, index=close.index)"
   ]
  },
  {
   "cell_type": "code",
   "execution_count": 26,
   "metadata": {
    "ExecuteTime": {
     "end_time": "2021-02-23T16:47:38.075231Z",
     "start_time": "2021-02-23T16:44:51.361691Z"
    }
   },
   "outputs": [
    {
     "name": "stderr",
     "output_type": "stream",
     "text": [
      "100%|██████████| 15/15 [00:04<00:00,  3.67it/s]\n"
     ]
    }
   ],
   "source": [
    "for t in tqdm(T):\n",
    "    bbh, bbl = f'{t:02}_BBH', f'{t:02}_BBL'\n",
    "    universe = (universe.join(\n",
    "        universe.groupby(glevel).close.apply(compute_bb,\n",
    "                                                     timeperiod=t)))\n",
    "    universe[bbh] = universe[bbh].sub(universe.close).div(universe[bbh]).apply(np.log1p)\n",
    "    universe[bbl] = universe.close.sub(universe[bbl]).div(universe.close).apply(np.log1p)"
   ]
  },
  {
   "cell_type": "markdown",
   "metadata": {},
   "source": [
    "### Normalized Average True Range"
   ]
  },
  {
   "cell_type": "code",
   "execution_count": 27,
   "metadata": {
    "ExecuteTime": {
     "end_time": "2021-02-23T16:48:36.081047Z",
     "start_time": "2021-02-23T16:47:38.076757Z"
    }
   },
   "outputs": [
    {
     "name": "stderr",
     "output_type": "stream",
     "text": [
      "100%|██████████| 15/15 [00:04<00:00,  3.02it/s]\n"
     ]
    }
   ],
   "source": [
    "for t in tqdm(T):\n",
    "    universe[f'{t:02}_NATR'] = universe.groupby(glevel,\n",
    "                                group_keys=False).apply(lambda x: \n",
    "                                                        NATR(x.high, x.low, x.close, timeperiod=t))"
   ]
  },
  {
   "cell_type": "markdown",
   "metadata": {},
   "source": [
    "### Percentage Price Oscillator"
   ]
  },
  {
   "cell_type": "code",
   "execution_count": 28,
   "metadata": {
    "ExecuteTime": {
     "end_time": "2021-02-23T16:51:07.164873Z",
     "start_time": "2021-02-23T16:48:36.081894Z"
    }
   },
   "outputs": [
    {
     "name": "stderr",
     "output_type": "stream",
     "text": [
      "100%|██████████| 15/15 [00:02<00:00,  5.33it/s]\n"
     ]
    }
   ],
   "source": [
    "for t in tqdm(T):\n",
    "    universe[f'{t:02}_PPO'] = universe.groupby(glevel).close.apply(PPO, fastperiod=t, matype=1)"
   ]
  },
  {
   "cell_type": "markdown",
   "metadata": {},
   "source": [
    "### Moving Average Convergence/Divergence"
   ]
  },
  {
   "cell_type": "code",
   "execution_count": 29,
   "metadata": {
    "ExecuteTime": {
     "end_time": "2021-02-23T16:51:07.168458Z",
     "start_time": "2021-02-23T16:51:07.166104Z"
    }
   },
   "outputs": [],
   "source": [
    "def compute_macd(close, signalperiod):\n",
    "    macd = MACD(close, signalperiod=signalperiod)[0]\n",
    "    return (macd - np.mean(macd))/np.std(macd)"
   ]
  },
  {
   "cell_type": "code",
   "execution_count": 30,
   "metadata": {
    "ExecuteTime": {
     "end_time": "2021-02-23T16:53:45.147391Z",
     "start_time": "2021-02-23T16:51:07.169518Z"
    }
   },
   "outputs": [
    {
     "name": "stderr",
     "output_type": "stream",
     "text": [
      "100%|██████████| 15/15 [00:03<00:00,  4.82it/s]\n"
     ]
    }
   ],
   "source": [
    "for t in tqdm(T):\n",
    "    universe[f'{t:02}_MACD'] = (universe\n",
    "                  .groupby(glevel, group_keys=False)\n",
    "                  .close\n",
    "                  .apply(compute_macd, signalperiod=t))"
   ]
  },
  {
   "cell_type": "markdown",
   "metadata": {},
   "source": [
    "### Momentum"
   ]
  },
  {
   "cell_type": "code",
   "execution_count": 31,
   "metadata": {
    "ExecuteTime": {
     "end_time": "2021-02-23T16:56:17.798498Z",
     "start_time": "2021-02-23T16:53:45.148305Z"
    }
   },
   "outputs": [
    {
     "name": "stderr",
     "output_type": "stream",
     "text": [
      "100%|██████████| 15/15 [00:02<00:00,  5.51it/s]\n"
     ]
    }
   ],
   "source": [
    "for t in tqdm(T):\n",
    "    universe[f'{t:02}_MOM'] = universe.groupby(glevel).close.apply(MOM, timeperiod=t)"
   ]
  },
  {
   "cell_type": "markdown",
   "metadata": {},
   "source": [
    "### Weighted Moving Average"
   ]
  },
  {
   "cell_type": "code",
   "execution_count": 32,
   "metadata": {
    "ExecuteTime": {
     "end_time": "2021-02-23T16:58:49.984209Z",
     "start_time": "2021-02-23T16:56:17.799393Z"
    }
   },
   "outputs": [
    {
     "name": "stderr",
     "output_type": "stream",
     "text": [
      "100%|██████████| 15/15 [00:02<00:00,  5.38it/s]\n"
     ]
    }
   ],
   "source": [
    "for t in tqdm(T):\n",
    "    universe[f'{t:02}_WMA'] = universe.groupby(glevel).close.apply(WMA, timeperiod=t)"
   ]
  },
  {
   "cell_type": "markdown",
   "metadata": {},
   "source": [
    "### Exponential Moving Average"
   ]
  },
  {
   "cell_type": "code",
   "execution_count": 33,
   "metadata": {
    "ExecuteTime": {
     "end_time": "2021-02-23T17:01:21.951204Z",
     "start_time": "2021-02-23T16:58:49.985306Z"
    }
   },
   "outputs": [
    {
     "name": "stderr",
     "output_type": "stream",
     "text": [
      "100%|██████████| 15/15 [00:02<00:00,  5.48it/s]\n"
     ]
    }
   ],
   "source": [
    "for t in tqdm(T):\n",
    "    universe[f'{t:02}_EMA'] = universe.groupby(glevel).close.apply(EMA, timeperiod=t)"
   ]
  },
  {
   "cell_type": "markdown",
   "metadata": {},
   "source": [
    "### Commodity Channel Index"
   ]
  },
  {
   "cell_type": "code",
   "execution_count": 34,
   "metadata": {
    "ExecuteTime": {
     "end_time": "2021-02-23T17:02:43.373600Z",
     "start_time": "2021-02-23T17:01:21.952111Z"
    }
   },
   "outputs": [
    {
     "name": "stderr",
     "output_type": "stream",
     "text": [
      "100%|██████████| 15/15 [00:10<00:00,  1.49it/s]\n"
     ]
    }
   ],
   "source": [
    "for t in tqdm(T):\n",
    "    universe[f'{t:02}_CCI'] = (universe.groupby(glevel, group_keys=False)\n",
    "     .apply(lambda x: CCI(x.high, x.low, x.close, timeperiod=t)))"
   ]
  },
  {
   "cell_type": "markdown",
   "metadata": {},
   "source": [
    "### Chande Momentum Oscillator"
   ]
  },
  {
   "cell_type": "code",
   "execution_count": 35,
   "metadata": {
    "ExecuteTime": {
     "end_time": "2021-02-23T17:05:18.290515Z",
     "start_time": "2021-02-23T17:02:43.374726Z"
    }
   },
   "outputs": [
    {
     "name": "stderr",
     "output_type": "stream",
     "text": [
      "100%|██████████| 15/15 [00:02<00:00,  5.46it/s]\n"
     ]
    }
   ],
   "source": [
    "for t in tqdm(T):\n",
    "    universe[f'{t:02}_CMO'] = universe.groupby(glevel).close.apply(CMO, timeperiod=t)"
   ]
  },
  {
   "cell_type": "markdown",
   "metadata": {
    "ExecuteTime": {
     "end_time": "2020-03-20T02:28:43.696896Z",
     "start_time": "2020-03-20T02:28:43.694227Z"
    }
   },
   "source": [
    "### Rate of Change"
   ]
  },
  {
   "cell_type": "markdown",
   "metadata": {},
   "source": [
    "Rate of change is a technical indicator that illustrates the speed of price change over a period of time."
   ]
  },
  {
   "cell_type": "code",
   "execution_count": 36,
   "metadata": {
    "ExecuteTime": {
     "end_time": "2021-02-23T17:07:35.840629Z",
     "start_time": "2021-02-23T17:05:18.291413Z"
    }
   },
   "outputs": [
    {
     "name": "stderr",
     "output_type": "stream",
     "text": [
      "100%|██████████| 15/15 [00:02<00:00,  5.62it/s]\n"
     ]
    }
   ],
   "source": [
    "for t in tqdm(T):\n",
    "    universe[f'{t:02}_ROC'] = universe.groupby(glevel).close.apply(ROC, timeperiod=t)"
   ]
  },
  {
   "cell_type": "markdown",
   "metadata": {},
   "source": [
    "### Chaikin A/D Oscillator"
   ]
  },
  {
   "cell_type": "code",
   "execution_count": 37,
   "metadata": {
    "ExecuteTime": {
     "end_time": "2021-02-23T17:08:58.366782Z",
     "start_time": "2021-02-23T17:07:35.841517Z"
    }
   },
   "outputs": [
    {
     "name": "stderr",
     "output_type": "stream",
     "text": [
      "100%|██████████| 15/15 [00:12<00:00,  1.23it/s]\n"
     ]
    }
   ],
   "source": [
    "for t in tqdm(T):\n",
    "    universe[f'{t:02}_ADOSC'] = (universe.groupby(glevel, group_keys=False)\n",
    "     .apply(lambda x: ADOSC(x.high, x.low, x.close, x.volume, fastperiod=t-3, slowperiod=4+t)))"
   ]
  },
  {
   "cell_type": "markdown",
   "metadata": {},
   "source": [
    "### Average Directional Movement Index"
   ]
  },
  {
   "cell_type": "code",
   "execution_count": 38,
   "metadata": {
    "ExecuteTime": {
     "end_time": "2021-02-23T17:10:24.337030Z",
     "start_time": "2021-02-23T17:08:58.367644Z"
    }
   },
   "outputs": [
    {
     "name": "stderr",
     "output_type": "stream",
     "text": [
      "100%|██████████| 15/15 [00:13<00:00,  1.15it/s]\n"
     ]
    }
   ],
   "source": [
    "for t in tqdm(T):\n",
    "    universe[f'{t:02}_ADX'] = universe.groupby(glevel,\n",
    "                                group_keys=False).apply(lambda x: \n",
    "                                                        ADX(x.high, x.low, x.close, timeperiod=t))"
   ]
  },
  {
   "cell_type": "code",
   "execution_count": 39,
   "metadata": {
    "ExecuteTime": {
     "end_time": "2021-02-23T17:10:29.716720Z",
     "start_time": "2021-02-23T17:10:24.337907Z"
    },
    "scrolled": false
   },
   "outputs": [],
   "source": [
    "temp = universe.drop(ohlcv, axis=1)\n",
    "temp.reset_index().to_feather('features.ftr')\n",
    "temp = None"
   ]
  },
  {
   "cell_type": "markdown",
   "metadata": {},
   "source": [
    "## Compute Historical Returns"
   ]
  },
  {
   "cell_type": "markdown",
   "metadata": {},
   "source": [
    "### Historical Returns"
   ]
  },
  {
   "cell_type": "code",
   "execution_count": 40,
   "metadata": {
    "ExecuteTime": {
     "end_time": "2021-02-23T17:10:30.028914Z",
     "start_time": "2021-02-23T17:10:29.717589Z"
    }
   },
   "outputs": [
    {
     "name": "stderr",
     "output_type": "stream",
     "text": [
      "100%|██████████| 2/2 [00:00<00:00, 89.51it/s]\n"
     ]
    }
   ],
   "source": [
    "by_sym = universe.groupby(glevel).close\n",
    "for t in tqdm([12, 24]):\n",
    "    universe[f'r{t:02}'] = by_sym.pct_change(t)"
   ]
  },
  {
   "cell_type": "markdown",
   "metadata": {},
   "source": [
    "### Remove outliers"
   ]
  },
  {
   "cell_type": "code",
   "execution_count": 41,
   "metadata": {
    "ExecuteTime": {
     "end_time": "2021-02-23T17:10:31.555073Z",
     "start_time": "2021-02-23T17:10:30.029775Z"
    }
   },
   "outputs": [
    {
     "data": {
      "text/plain": "                 r12            r24\ncount  949468.000000  949084.000000\nmean        0.002155       0.004157\nstd         0.107367       0.120874\nmin        -0.988839      -0.988828\n0%         -0.988839      -0.988828\n0.1%       -0.296299      -0.365902\n1%         -0.137591      -0.185911\n20%        -0.022882      -0.034496\n40%        -0.003602      -0.006192\n50%         0.000000       0.000000\n60%         0.004068       0.007378\n80%         0.024550       0.037745\n99%         0.167132       0.247251\n99.9%       0.460273       0.660776\nmax        83.435562      85.000000",
      "text/html": "<div>\n<style scoped>\n    .dataframe tbody tr th:only-of-type {\n        vertical-align: middle;\n    }\n\n    .dataframe tbody tr th {\n        vertical-align: top;\n    }\n\n    .dataframe thead th {\n        text-align: right;\n    }\n</style>\n<table border=\"1\" class=\"dataframe\">\n  <thead>\n    <tr style=\"text-align: right;\">\n      <th></th>\n      <th>r12</th>\n      <th>r24</th>\n    </tr>\n  </thead>\n  <tbody>\n    <tr>\n      <th>count</th>\n      <td>949468.000000</td>\n      <td>949084.000000</td>\n    </tr>\n    <tr>\n      <th>mean</th>\n      <td>0.002155</td>\n      <td>0.004157</td>\n    </tr>\n    <tr>\n      <th>std</th>\n      <td>0.107367</td>\n      <td>0.120874</td>\n    </tr>\n    <tr>\n      <th>min</th>\n      <td>-0.988839</td>\n      <td>-0.988828</td>\n    </tr>\n    <tr>\n      <th>0%</th>\n      <td>-0.988839</td>\n      <td>-0.988828</td>\n    </tr>\n    <tr>\n      <th>0.1%</th>\n      <td>-0.296299</td>\n      <td>-0.365902</td>\n    </tr>\n    <tr>\n      <th>1%</th>\n      <td>-0.137591</td>\n      <td>-0.185911</td>\n    </tr>\n    <tr>\n      <th>20%</th>\n      <td>-0.022882</td>\n      <td>-0.034496</td>\n    </tr>\n    <tr>\n      <th>40%</th>\n      <td>-0.003602</td>\n      <td>-0.006192</td>\n    </tr>\n    <tr>\n      <th>50%</th>\n      <td>0.000000</td>\n      <td>0.000000</td>\n    </tr>\n    <tr>\n      <th>60%</th>\n      <td>0.004068</td>\n      <td>0.007378</td>\n    </tr>\n    <tr>\n      <th>80%</th>\n      <td>0.024550</td>\n      <td>0.037745</td>\n    </tr>\n    <tr>\n      <th>99%</th>\n      <td>0.167132</td>\n      <td>0.247251</td>\n    </tr>\n    <tr>\n      <th>99.9%</th>\n      <td>0.460273</td>\n      <td>0.660776</td>\n    </tr>\n    <tr>\n      <th>max</th>\n      <td>83.435562</td>\n      <td>85.000000</td>\n    </tr>\n  </tbody>\n</table>\n</div>"
     },
     "execution_count": 41,
     "metadata": {},
     "output_type": "execute_result"
    }
   ],
   "source": [
    "universe[[f'r{t:02}' for t in [12, 24]]].describe(percentiles=percentiles)"
   ]
  },
  {
   "cell_type": "code",
   "execution_count": 42,
   "metadata": {
    "ExecuteTime": {
     "end_time": "2021-02-23T17:10:31.561487Z",
     "start_time": "2021-02-23T17:10:31.555915Z"
    }
   },
   "outputs": [],
   "source": [
    "#outliers = universe[universe.r01>1].index.get_level_values('ticker').unique()\n",
    "#len(outliers)"
   ]
  },
  {
   "cell_type": "code",
   "execution_count": 43,
   "metadata": {
    "ExecuteTime": {
     "end_time": "2021-02-23T17:10:39.622170Z",
     "start_time": "2021-02-23T17:10:31.562450Z"
    }
   },
   "outputs": [],
   "source": [
    "#universe = universe.drop(outliers, 'ticker')"
   ]
  },
  {
   "cell_type": "markdown",
   "metadata": {},
   "source": [
    "### Historical return quantiles"
   ]
  },
  {
   "cell_type": "code",
   "execution_count": 44,
   "metadata": {
    "ExecuteTime": {
     "end_time": "2021-02-23T17:11:04.012013Z",
     "start_time": "2021-02-23T17:10:39.623047Z"
    }
   },
   "outputs": [
    {
     "name": "stderr",
     "output_type": "stream",
     "text": [
      "100%|██████████| 2/2 [01:48<00:00, 54.42s/it]\n"
     ]
    }
   ],
   "source": [
    "for t in tqdm([12, 24]):\n",
    "    universe[f'r{t:02}dec'] = (universe[f'r{t:02}'].groupby(level='date')\n",
    "             .apply(lambda x: pd.qcut(x, q=3, labels=False, duplicates='drop')))"
   ]
  },
  {
   "cell_type": "markdown",
   "metadata": {},
   "source": [
    "## Rolling Factor Betas"
   ]
  },
  {
   "cell_type": "markdown",
   "metadata": {},
   "source": [
    "We also use five Fama-French risk factors (Fama and French, 2015; see Chapter 4, Financial Feature Engineering – How to Research Alpha Factors). They reflect the sensitivity of a stock's returns to factors consistently demonstrated to impact equity returns. \n",
    "\n",
    "We capture these factors by computing the coefficients of a rolling OLS regression of a stock's daily returns on the returns of portfolios designed to reflect the underlying drivers:\n",
    "- **Equity risk premium**: Value-weighted returns of US stocks minus the 1-month US\n",
    "- **Treasury bill rate**\n",
    "- **Size (SMB)**: Returns of stocks categorized as Small (by market cap) Minus those of Big equities\n",
    "- **Value (HML)**: Returns of stocks with High book-to-market value Minus those with a Low value\n",
    "- **Investment (CMA)**: Returns differences for companies with Conservative investment expenditures Minus those with Aggressive spending\n",
    "- **Profitability (RMW)**: Similarly, return differences for stocks with Robust profitability Minus that with a Weak metric.\n",
    "\n"
   ]
  },
  {
   "cell_type": "code",
   "execution_count": 45,
   "metadata": {
    "ExecuteTime": {
     "end_time": "2021-02-23T17:11:05.424170Z",
     "start_time": "2021-02-23T17:11:04.012880Z"
    }
   },
   "outputs": [],
   "source": [
    "factor_data = (web.DataReader('F-F_Research_Data_5_Factors_2x3_daily', 'famafrench', \n",
    "                              start=START)[0].rename(columns={'Mkt-RF': 'Market'}))\n",
    "factor_data.index.names = ['date']"
   ]
  },
  {
   "cell_type": "code",
   "execution_count": 46,
   "metadata": {
    "ExecuteTime": {
     "end_time": "2021-02-23T17:11:05.432840Z",
     "start_time": "2021-02-23T17:11:05.425132Z"
    }
   },
   "outputs": [
    {
     "name": "stdout",
     "output_type": "stream",
     "text": [
      "<class 'pandas.core.frame.DataFrame'>\n",
      "DatetimeIndex: 5386 entries, 2000-01-03 to 2021-05-28\n",
      "Data columns (total 6 columns):\n",
      " #   Column  Non-Null Count  Dtype  \n",
      "---  ------  --------------  -----  \n",
      " 0   Market  5386 non-null   float64\n",
      " 1   SMB     5386 non-null   float64\n",
      " 2   HML     5386 non-null   float64\n",
      " 3   RMW     5386 non-null   float64\n",
      " 4   CMA     5386 non-null   float64\n",
      " 5   RF      5386 non-null   float64\n",
      "dtypes: float64(6)\n",
      "memory usage: 294.5 KB\n"
     ]
    }
   ],
   "source": [
    "factor_data.info()"
   ]
  },
  {
   "cell_type": "code",
   "execution_count": 47,
   "metadata": {
    "ExecuteTime": {
     "end_time": "2021-02-23T17:11:05.453552Z",
     "start_time": "2021-02-23T17:11:05.433756Z"
    }
   },
   "outputs": [
    {
     "data": {
      "text/plain": "15"
     },
     "execution_count": 47,
     "metadata": {},
     "output_type": "execute_result"
    }
   ],
   "source": [
    "windows = list(range(15, 90, 5))\n",
    "len(windows)"
   ]
  },
  {
   "cell_type": "markdown",
   "metadata": {},
   "source": [
    "Next, we apply `statsmodels`' `RollingOLS()` to run regressions over windowed periods of different lengths, ranging from 15 to 90 days. We set the `params_only` parameter on the `.fit()` method to speed up computation and capture the coefficients using the `.params` attribute of the fitted factor_model:\n",
    "\n",
    "TODO: Check POINT IN TIME for fama-french data: lookahead bias??"
   ]
  },
  {
   "cell_type": "code",
   "execution_count": 48,
   "metadata": {
    "ExecuteTime": {
     "end_time": "2021-02-23T17:29:30.598816Z",
     "start_time": "2021-02-23T17:11:05.456787Z"
    },
    "scrolled": false
   },
   "outputs": [
    {
     "name": "stdout",
     "output_type": "stream",
     "text": [
      "15\n",
      "20\n",
      "25\n",
      "30\n",
      "35\n",
      "40\n",
      "45\n",
      "50\n",
      "55\n",
      "60\n",
      "65\n",
      "70\n",
      "75\n",
      "80\n",
      "85\n"
     ]
    }
   ],
   "source": [
    "t = 24\n",
    "ret = f'r{t:02}'\n",
    "factors = ['Market', 'SMB', 'HML', 'RMW', 'CMA']\n",
    "windows = list(range(15, 90, 5))\n",
    "for window in windows:\n",
    "    print(window)\n",
    "    betas = []\n",
    "    for ticker, data in universe.groupby(glevel):\n",
    "        model_data = data[[ret]].merge(factor_data, on='date', how='left').ffill()\n",
    "        model_data[ret] -= model_data.RF\n",
    "\n",
    "        rolling_ols = RollingOLS(endog=model_data[ret], \n",
    "                                 exog=sm.add_constant(model_data[factors]), window=window)\n",
    "        factor_model = rolling_ols.fit(params_only=True).params.drop('const', axis=1)\n",
    "        result = factor_model.assign(ticker=ticker).set_index('ticker', append=True)\n",
    "        betas.append(result)\n",
    "    betas = pd.concat(betas).rename(columns=lambda x: f'{window:02}_{x}')\n",
    "    universe = universe.join(betas)"
   ]
  },
  {
   "cell_type": "markdown",
   "metadata": {},
   "source": [
    "## Compute Forward Returns"
   ]
  },
  {
   "cell_type": "code",
   "execution_count": 49,
   "metadata": {
    "ExecuteTime": {
     "end_time": "2021-02-23T17:29:31.294116Z",
     "start_time": "2021-02-23T17:29:30.599863Z"
    }
   },
   "outputs": [
    {
     "name": "stderr",
     "output_type": "stream",
     "text": [
      "100%|██████████| 2/2 [00:00<00:00, 48.61it/s]\n"
     ]
    }
   ],
   "source": [
    "for t in tqdm([12, 24]):\n",
    "    universe[f'r{t:02}_fwd'] = universe.groupby(glevel)[f'r{t:02}'].shift(-t)\n",
    "    universe[f'r{t:02}dec_fwd'] = universe.groupby(glevel)[f'r{t:02}dec'].shift(-t)"
   ]
  },
  {
   "cell_type": "markdown",
   "metadata": {},
   "source": [
    "## Store Model Data"
   ]
  },
  {
   "cell_type": "code",
   "execution_count": 50,
   "metadata": {
    "ExecuteTime": {
     "end_time": "2021-02-23T17:29:36.009200Z",
     "start_time": "2021-02-23T17:29:31.295092Z"
    }
   },
   "outputs": [],
   "source": [
    "universe = universe.drop(ohlcv, axis=1)"
   ]
  },
  {
   "cell_type": "code",
   "execution_count": 51,
   "metadata": {
    "ExecuteTime": {
     "end_time": "2021-02-23T17:29:36.058817Z",
     "start_time": "2021-02-23T17:29:36.010258Z"
    },
    "scrolled": false
   },
   "outputs": [
    {
     "name": "stdout",
     "output_type": "stream",
     "text": [
      "<class 'pandas.core.frame.DataFrame'>\n",
      "MultiIndex: 949852 entries, ('algo-usd', Timestamp('2019-06-21 10:00:00')) to ('zec-usd', Timestamp('2021-05-28 23:00:00'))\n",
      "Columns: 308 entries, 06_RSI to r24dec_fwd\n",
      "dtypes: float32(4), float64(304)\n",
      "memory usage: 2.2 GB\n"
     ]
    }
   ],
   "source": [
    "universe.info(null_counts=True)"
   ]
  },
  {
   "cell_type": "code",
   "execution_count": 52,
   "metadata": {
    "ExecuteTime": {
     "end_time": "2021-02-23T17:29:36.062384Z",
     "start_time": "2021-02-23T17:29:36.060100Z"
    }
   },
   "outputs": [],
   "source": [
    "drop_cols = ['r12', 'r12dec', 'r24',  'r24dec']"
   ]
  },
  {
   "cell_type": "code",
   "execution_count": 53,
   "metadata": {
    "ExecuteTime": {
     "end_time": "2021-02-23T17:29:36.088119Z",
     "start_time": "2021-02-23T17:29:36.063595Z"
    }
   },
   "outputs": [],
   "source": [
    "outcomes = universe.filter(like='_fwd').columns"
   ]
  },
  {
   "cell_type": "code",
   "execution_count": 54,
   "metadata": {
    "ExecuteTime": {
     "end_time": "2021-02-23T17:29:54.934584Z",
     "start_time": "2021-02-23T17:29:36.089191Z"
    }
   },
   "outputs": [],
   "source": [
    "universe = universe.sort_index()\n",
    "universe.drop(drop_cols, axis=1).drop(outcomes, axis=1).loc[idx[:, '2001':], :].reset_index().to_feather('features.ftr')\n",
    "universe[outcomes].reset_index().to_feather('targets.ftr')"
   ]
  }
 ],
 "metadata": {
  "kernelspec": {
   "display_name": "Python 3",
   "language": "python",
   "name": "python3"
  },
  "language_info": {
   "codemirror_mode": {
    "name": "ipython",
    "version": 3
   },
   "file_extension": ".py",
   "mimetype": "text/x-python",
   "name": "python",
   "nbconvert_exporter": "python",
   "pygments_lexer": "ipython3",
   "version": "3.8.5"
  },
  "toc": {
   "base_numbering": 1,
   "nav_menu": {},
   "number_sections": true,
   "sideBar": true,
   "skip_h1_title": true,
   "title_cell": "Table of Contents",
   "title_sidebar": "Contents",
   "toc_cell": false,
   "toc_position": {
    "height": "calc(100% - 180px)",
    "left": "10px",
    "top": "150px",
    "width": "341.391px"
   },
   "toc_section_display": true,
   "toc_window_display": true
  }
 },
 "nbformat": 4,
 "nbformat_minor": 2
}