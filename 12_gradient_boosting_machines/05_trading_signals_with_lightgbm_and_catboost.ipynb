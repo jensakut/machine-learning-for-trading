{
 "cells": [
  {
   "cell_type": "markdown",
   "metadata": {},
   "source": [
    "# Long-Short Strategy, Part 2: Trading signals with LightGBM and CatBoost"
   ]
  },
  {
   "cell_type": "markdown",
   "metadata": {},
   "source": [
    "In this section, we'll start designing, implementing, and evaluating a trading strategy for US equities driven by daily return forecasts produced by gradient boosting models.\n",
    "\n",
    "As in the previous examples, we'll lay out a framework and build a specific example that you can adapt to run your own experiments. There are numerous aspects that you can vary, from the asset class and investment universe to more granular aspects like the features, holding period, or trading rules. See, for example, the **Alpha Factor Library** in the [Appendix](../24_alpha_factor_library) for numerous additional features.\n",
    "\n",
    "We'll keep the trading strategy simple and only use a single ML signal; a real-life application will likely use multiple signals from different sources, such as complementary ML models trained on different datasets or with different lookahead or lookback periods. It would also use sophisticated risk management, from simple stop-loss to value-at-risk analysis.\n",
    "\n",
    "**Six notebooks** cover our workflow sequence:\n",
    "\n",
    "1. [preparing_the_model_data](04_preparing_the_model_data.ipyny): we engineer a few simple features from the Quandl Wiki data \n",
    "2. `trading_signals_with_lightgbm_and_catboost`  (this noteboook): we tune hyperparameters for LightGBM and CatBoost to select a model, using 2015/16 as our validation period. \n",
    "3. [evaluate_trading_signals](06_evaluate_trading_signals.ipynb): we compare the cross-validation performance using various metrics to select the best model. \n",
    "4. [model_interpretation](07_model_interpretation.ipynb): we take a closer look at the drivers behind the best model's predictions.\n",
    "5. [making_out_of_sample_predictions](08_making_out_of_sample_predictions.ipynb): we generate predictions for our out-of-sample test period 2017.\n",
    "6. [backtesting_with_zipline](09_backtesting_with_zipline.ipynb): evaluate the historical performance of a long-short strategy based on our predictive signals using Zipline."
   ]
  },
  {
   "cell_type": "markdown",
   "metadata": {},
   "source": [
    "We'll subset the dataset created in the preceding notebook through the end of 2016 to cross-validate several model configurations for various lookback and lookahead windows, as well as different roll-forward periods and hyperparameters. \n",
    "\n",
    "Our approach to model selection will be similar to the one we used in the previous chapter and uses the custom `MultipleTimeSeriesCV` introduced in [Chapter 7, Linear Models – From Risk Factors to Return Forecasts](../07_linear_models)."
   ]
  },
  {
   "cell_type": "markdown",
   "metadata": {},
   "source": [
    "## Imports & Settings"
   ]
  },
  {
   "cell_type": "code",
   "execution_count": 1,
   "metadata": {
    "ExecuteTime": {
     "end_time": "2020-06-21T03:15:53.361121Z",
     "start_time": "2020-06-21T03:15:53.359422Z"
    }
   },
   "outputs": [],
   "source": [
    "import warnings\n",
    "import datetime\n",
    "\n",
    "from timeseriescv.cross_validation import CombPurgedKFoldCV\n",
    "\n",
    "warnings.filterwarnings('ignore')"
   ]
  },
  {
   "cell_type": "code",
   "execution_count": 2,
   "metadata": {
    "ExecuteTime": {
     "end_time": "2020-06-21T03:15:54.473652Z",
     "start_time": "2020-06-21T03:15:53.619170Z"
    },
    "scrolled": true
   },
   "outputs": [],
   "source": [
    "%matplotlib inline\n",
    "\n",
    "from pathlib import Path\n",
    "import sys, os\n",
    "from time import time\n",
    "from tqdm import tqdm\n",
    "\n",
    "from collections import defaultdict\n",
    "from itertools import product\n",
    "\n",
    "import numpy as np\n",
    "import pandas as pd\n",
    "\n",
    "import lightgbm as lgb\n",
    "from catboost import Pool, CatBoostRegressor\n",
    "\n",
    "from sklearn.linear_model import LinearRegression\n",
    "from scipy.stats import spearmanr\n",
    "\n",
    "from alphalens.tears import (create_summary_tear_sheet,\n",
    "                             create_full_tear_sheet)\n",
    "\n",
    "from alphalens.utils import get_clean_factor_and_forward_returns\n",
    "\n",
    "import matplotlib.pyplot as plt\n",
    "import seaborn as sns"
   ]
  },
  {
   "cell_type": "code",
   "execution_count": 3,
   "metadata": {
    "ExecuteTime": {
     "end_time": "2020-06-21T03:15:54.477216Z",
     "start_time": "2020-06-21T03:15:54.474618Z"
    },
    "scrolled": true
   },
   "outputs": [],
   "source": [
    "sys.path.insert(1, os.path.join(sys.path[0], '..'))\n",
    "from utils import MultipleTimeSeriesCV, format_time"
   ]
  },
  {
   "cell_type": "code",
   "execution_count": 4,
   "metadata": {
    "ExecuteTime": {
     "end_time": "2020-06-21T03:15:54.489618Z",
     "start_time": "2020-06-21T03:15:54.478409Z"
    },
    "scrolled": true
   },
   "outputs": [],
   "source": [
    "sns.set_style('whitegrid')"
   ]
  },
  {
   "cell_type": "code",
   "execution_count": 5,
   "metadata": {
    "ExecuteTime": {
     "end_time": "2020-06-21T03:15:54.626839Z",
     "start_time": "2020-06-21T03:15:54.624975Z"
    },
    "scrolled": true
   },
   "outputs": [],
   "source": [
    "YEAR = 365*24\n",
    "idx = pd.IndexSlice"
   ]
  },
  {
   "cell_type": "markdown",
   "metadata": {},
   "source": [
    "## Get Data"
   ]
  },
  {
   "cell_type": "markdown",
   "metadata": {},
   "source": [
    "We select the train and validation sets, and identify labels and features:"
   ]
  },
  {
   "cell_type": "code",
   "execution_count": 6,
   "metadata": {
    "ExecuteTime": {
     "end_time": "2020-06-21T03:15:58.610627Z",
     "start_time": "2020-06-21T03:15:56.699840Z"
    },
    "scrolled": false
   },
   "outputs": [
    {
     "name": "stdout",
     "output_type": "stream",
     "text": [
      "<class 'pandas.core.frame.DataFrame'>\n",
      "MultiIndex: 349545 entries, (Timestamp('2019-05-03 18:00:00'), 'atom-usd') to (Timestamp('2021-03-27 06:00:00'), 'xtz-usd')\n",
      "Data columns (total 32 columns):\n",
      " #   Column       Non-Null Count   Dtype  \n",
      "---  ------       --------------   -----  \n",
      " 0   rsi          349251 non-null  float64\n",
      " 1   bb_high      349146 non-null  float64\n",
      " 2   bb_low       349146 non-null  float64\n",
      " 3   NATR         349251 non-null  float64\n",
      " 4   ATR          349251 non-null  float64\n",
      " 5   PPO          349020 non-null  float64\n",
      " 6   MACD         348852 non-null  float64\n",
      " 7   sector       349545 non-null  int64  \n",
      " 8   r01          349524 non-null  float64\n",
      " 9   r05          349440 non-null  float64\n",
      " 10  r10          349335 non-null  float64\n",
      " 11  r21          349104 non-null  float64\n",
      " 12  r42          348663 non-null  float64\n",
      " 13  r63          348222 non-null  float64\n",
      " 14  r01dec       349419 non-null  float64\n",
      " 15  r05dec       349440 non-null  float64\n",
      " 16  r10dec       349335 non-null  float64\n",
      " 17  r21dec       349104 non-null  float64\n",
      " 18  r42dec       348663 non-null  float64\n",
      " 19  r63dec       348222 non-null  float64\n",
      " 20  r01q_sector  349235 non-null  float64\n",
      " 21  r05q_sector  349418 non-null  float64\n",
      " 22  r10q_sector  349335 non-null  float64\n",
      " 23  r21q_sector  349104 non-null  float64\n",
      " 24  r42q_sector  348663 non-null  float64\n",
      " 25  r63q_sector  348222 non-null  float64\n",
      " 26  r01_fwd      349524 non-null  float64\n",
      " 27  r05_fwd      349440 non-null  float64\n",
      " 28  r21_fwd      349104 non-null  float64\n",
      " 29  year         349545 non-null  int64  \n",
      " 30  month        349545 non-null  int64  \n",
      " 31  weekday      349545 non-null  int64  \n",
      "dtypes: float64(28), int64(4)\n",
      "memory usage: 87.0+ MB\n"
     ]
    }
   ],
   "source": [
    "data = (pd.read_hdf('data.h5', 'model_data')\n",
    "            .sort_index())\n",
    "            #.loc[idx[:, :'2016'], :]) # train & validation period\n",
    "data.info(null_counts=True)"
   ]
  },
  {
   "cell_type": "code",
   "execution_count": 7,
   "metadata": {
    "ExecuteTime": {
     "end_time": "2020-06-21T03:15:58.627071Z",
     "start_time": "2020-06-21T03:15:58.611792Z"
    }
   },
   "outputs": [],
   "source": [
    "labels = sorted(data.filter(like='_fwd').columns)\n",
    "features = data.columns.difference(labels).tolist() # features are columns not containing '_fwd'"
   ]
  },
  {
   "cell_type": "markdown",
   "metadata": {},
   "source": [
    "## Model Selection: Lookback, lookahead and roll-forward periods"
   ]
  },
  {
   "cell_type": "code",
   "execution_count": 8,
   "metadata": {
    "ExecuteTime": {
     "end_time": "2020-06-21T03:15:58.713463Z",
     "start_time": "2020-06-21T03:15:58.628189Z"
    },
    "scrolled": true
   },
   "outputs": [],
   "source": [
    "tickers = data.index.get_level_values('ticker').unique()"
   ]
  },
  {
   "cell_type": "markdown",
   "metadata": {},
   "source": [
    "We may want to predict 1, 5 or 21-day returns:"
   ]
  },
  {
   "cell_type": "code",
   "execution_count": 9,
   "metadata": {
    "ExecuteTime": {
     "end_time": "2020-06-21T03:15:58.716838Z",
     "start_time": "2020-06-21T03:15:58.714860Z"
    },
    "scrolled": true
   },
   "outputs": [],
   "source": [
    "lookaheads = [1, 5, 21]"
   ]
  },
  {
   "cell_type": "code",
   "execution_count": 10,
   "metadata": {
    "ExecuteTime": {
     "end_time": "2020-06-21T03:15:58.726739Z",
     "start_time": "2020-06-21T03:15:58.718248Z"
    }
   },
   "outputs": [],
   "source": [
    "categoricals = ['year', 'month', 'sector', 'weekday']"
   ]
  },
  {
   "cell_type": "markdown",
   "metadata": {},
   "source": [
    "We select 4.5 and one years as the length of our training periods; test periods are one and three months long. Since we are using two years (2015/16) for validation, a one-month test period implies 24 folds."
   ]
  },
  {
   "cell_type": "code",
   "execution_count": 11,
   "metadata": {
    "ExecuteTime": {
     "end_time": "2020-06-21T03:15:58.735386Z",
     "start_time": "2020-06-21T03:15:58.728023Z"
    },
    "scrolled": true
   },
   "outputs": [],
   "source": [
    "rows = data.unstack('ticker').shape[0]"
   ]
  },
  {
   "cell_type": "code",
   "execution_count": 12,
   "outputs": [],
   "source": [
    "#train_length=int(0.8*rows)\n",
    "#test_length=int(0.2*rows)\n",
    "#train_lengths = [train_length, train_length/8]\n",
    "#test_lengths = [test_length, test_length/3]\n",
    "n_splits = [5, 10]"
   ],
   "metadata": {
    "collapsed": false,
    "pycharm": {
     "name": "#%%\n"
    }
   }
  },
  {
   "cell_type": "code",
   "execution_count": 13,
   "metadata": {
    "ExecuteTime": {
     "end_time": "2020-06-21T03:15:58.743174Z",
     "start_time": "2020-06-21T03:15:58.737182Z"
    },
    "scrolled": true
   },
   "outputs": [],
   "source": [
    "test_params = list(product(lookaheads, n_splits))"
   ]
  },
  {
   "cell_type": "code",
   "execution_count": 14,
   "metadata": {
    "ExecuteTime": {
     "end_time": "2020-06-21T03:15:58.751241Z",
     "start_time": "2020-06-21T03:15:58.744605Z"
    }
   },
   "outputs": [],
   "source": [
    "results_path = Path('results', 'cryptos')\n",
    "if not results_path.exists():\n",
    "    results_path.mkdir(parents=True)"
   ]
  },
  {
   "cell_type": "markdown",
   "metadata": {},
   "source": [
    "## Baseline: Linear Regression"
   ]
  },
  {
   "cell_type": "markdown",
   "metadata": {},
   "source": [
    "We always want to know how much our (gradient boosting) is improving over a simpler baseline (if at all..)."
   ]
  },
  {
   "cell_type": "code",
   "execution_count": 15,
   "metadata": {
    "ExecuteTime": {
     "end_time": "2020-06-21T03:16:05.129548Z",
     "start_time": "2020-06-21T03:16:05.127693Z"
    },
    "scrolled": true
   },
   "outputs": [],
   "source": [
    "lr = LinearRegression()"
   ]
  },
  {
   "cell_type": "code",
   "execution_count": 16,
   "outputs": [
    {
     "name": "stdout",
     "output_type": "stream",
     "text": [
      "label\n"
     ]
    },
    {
     "data": {
      "text/plain": "((349545, 32), (347912, 30))"
     },
     "execution_count": 16,
     "metadata": {},
     "output_type": "execute_result"
    }
   ],
   "source": [
    "lookahead=1\n",
    "label = f'r{lookahead:02}_fwd'\n",
    "print('label')\n",
    "data.shape, data.loc[:, features + [label]].dropna().shape"
   ],
   "metadata": {
    "collapsed": false,
    "pycharm": {
     "name": "#%%\n"
    }
   }
  },
  {
   "cell_type": "code",
   "execution_count": 17,
   "outputs": [
    {
     "data": {
      "text/plain": "DatetimeIndex(['2019-05-04 02:00:00', '2019-05-04 03:00:00',\n               '2019-05-04 04:00:00', '2019-05-04 05:00:00',\n               '2019-05-04 06:00:00', '2019-05-04 07:00:00',\n               '2019-05-04 08:00:00', '2019-05-04 09:00:00',\n               '2019-05-04 10:00:00', '2019-05-04 11:00:00',\n               ...\n               '2021-03-27 05:00:00', '2021-03-27 06:00:00',\n               '2021-03-27 07:00:00', '2021-03-27 08:00:00',\n               '2021-03-27 09:00:00', '2021-03-27 10:00:00',\n               '2021-03-27 11:00:00', '2021-03-27 12:00:00',\n               '2021-03-27 13:00:00', '2021-03-27 14:00:00'],\n              dtype='datetime64[ns]', name='date', length=16645, freq=None)"
     },
     "execution_count": 17,
     "metadata": {},
     "output_type": "execute_result"
    }
   ],
   "source": [
    "data.unstack('ticker').index + datetime.timedelta(hours=8)"
   ],
   "metadata": {
    "collapsed": false,
    "pycharm": {
     "name": "#%%\n"
    }
   }
  },
  {
   "cell_type": "code",
   "execution_count": 18,
   "outputs": [
    {
     "data": {
      "text/plain": "date\n2019-05-03 18:00:00   2019-05-03 19:00:00\n2019-05-03 19:00:00   2019-05-03 20:00:00\n2019-05-03 20:00:00   2019-05-03 21:00:00\n2019-05-03 21:00:00   2019-05-03 22:00:00\n2019-05-03 22:00:00   2019-05-03 23:00:00\n                              ...        \n2021-03-27 02:00:00   2021-03-27 03:00:00\n2021-03-27 03:00:00   2021-03-27 04:00:00\n2021-03-27 04:00:00   2021-03-27 05:00:00\n2021-03-27 05:00:00   2021-03-27 06:00:00\n2021-03-27 06:00:00   2021-03-27 07:00:00\nName: date, Length: 16645, dtype: datetime64[ns]"
     },
     "execution_count": 18,
     "metadata": {},
     "output_type": "execute_result"
    }
   ],
   "source": [
    "pred_times = pd.Series(index=data.unstack('ticker').index,\n",
    "                       data=data.unstack('ticker').index + datetime.timedelta(hours=lookahead))\n",
    "pred_times"
   ],
   "metadata": {
    "collapsed": false,
    "pycharm": {
     "name": "#%%\n"
    }
   }
  },
  {
   "cell_type": "code",
   "execution_count": 19,
   "metadata": {
    "ExecuteTime": {
     "end_time": "2020-06-21T03:19:37.679350Z",
     "start_time": "2020-06-21T03:16:05.270137Z"
    },
    "scrolled": false
   },
   "outputs": [
    {
     "name": "stderr",
     "output_type": "stream",
     "text": [
      "100%|██████████| 6/6 [00:47<00:00,  7.98s/it]\n"
     ]
    }
   ],
   "source": [
    "lr_metrics = []\n",
    "\n",
    "# iterate over our three CV configuration parameters\n",
    "for lookahead, n_splits in tqdm(test_params):\n",
    "    label = f'r{lookahead:02}_fwd'\n",
    "    df = pd.get_dummies(data.loc[:, features + [label]].dropna(), \n",
    "                        columns=categoricals, \n",
    "                        drop_first=True)\n",
    "    X, y = df.drop(label, axis=1), df[label]\n",
    "\n",
    "    #n_splits = int(2 * YEAR / test_length)\n",
    "    #n_splits = 10\n",
    "    #cv = MultipleTimeSeriesCV(n_splits=n_splits,\n",
    "    #                          test_period_length=test_length,\n",
    "    #                          lookahead=lookahead,\n",
    "    #                          train_period_length=train_length)\n",
    "    cv = CombPurgedKFoldCV(n_splits=n_splits)\n",
    "    # compute lookahead\n",
    "    pred_times = pd.Series(index=X.index,\n",
    "                       data=X.index.get_level_values('date') + datetime.timedelta(hours=lookahead))\n",
    "    eval_times = pd.Series(index=X.index,\n",
    "                       data=X.index.get_level_values('date') + datetime.timedelta(hours=lookahead))\n",
    "\n",
    "    ic, preds = [], []\n",
    "    for i, (train_idx, test_idx) in enumerate(cv.split(X=X, pred_times=pred_times, eval_times=eval_times)):\n",
    "        X_train, y_train = X.iloc[train_idx], y.iloc[train_idx]\n",
    "        X_test, y_test = X.iloc[test_idx], y.iloc[test_idx]\n",
    "        lr.fit(X_train, y_train)\n",
    "        y_pred = lr.predict(X_test)\n",
    "        preds.append(y_test.to_frame('y_true').assign(y_pred=y_pred))\n",
    "        ic.append(spearmanr(y_test, y_pred)[0])\n",
    "    preds = pd.concat(preds)\n",
    "    lr_metrics.append([lookahead, \n",
    "                       n_splits,\n",
    "                       np.mean(ic),\n",
    "                       spearmanr(preds.y_true, preds.y_pred)[0]\n",
    "                      ])\n",
    "\n",
    "columns = ['lookahead', 'n_splits', 'ic_by_day', 'ic']\n",
    "lr_metrics = pd.DataFrame(lr_metrics, columns=columns)"
   ]
  },
  {
   "cell_type": "code",
   "execution_count": 20,
   "outputs": [
    {
     "data": {
      "text/plain": "   lookahead  n_splits  ic_by_day        ic\n0          1         5   0.071809  0.066099\n1          1        10   0.079138  0.076523\n2          5         5   0.072420  0.064129\n3          5        10   0.072696  0.063726\n4         21         5   0.041376  0.021779\n5         21        10   0.059206  0.042315",
      "text/html": "<div>\n<style scoped>\n    .dataframe tbody tr th:only-of-type {\n        vertical-align: middle;\n    }\n\n    .dataframe tbody tr th {\n        vertical-align: top;\n    }\n\n    .dataframe thead th {\n        text-align: right;\n    }\n</style>\n<table border=\"1\" class=\"dataframe\">\n  <thead>\n    <tr style=\"text-align: right;\">\n      <th></th>\n      <th>lookahead</th>\n      <th>n_splits</th>\n      <th>ic_by_day</th>\n      <th>ic</th>\n    </tr>\n  </thead>\n  <tbody>\n    <tr>\n      <th>0</th>\n      <td>1</td>\n      <td>5</td>\n      <td>0.071809</td>\n      <td>0.066099</td>\n    </tr>\n    <tr>\n      <th>1</th>\n      <td>1</td>\n      <td>10</td>\n      <td>0.079138</td>\n      <td>0.076523</td>\n    </tr>\n    <tr>\n      <th>2</th>\n      <td>5</td>\n      <td>5</td>\n      <td>0.072420</td>\n      <td>0.064129</td>\n    </tr>\n    <tr>\n      <th>3</th>\n      <td>5</td>\n      <td>10</td>\n      <td>0.072696</td>\n      <td>0.063726</td>\n    </tr>\n    <tr>\n      <th>4</th>\n      <td>21</td>\n      <td>5</td>\n      <td>0.041376</td>\n      <td>0.021779</td>\n    </tr>\n    <tr>\n      <th>5</th>\n      <td>21</td>\n      <td>10</td>\n      <td>0.059206</td>\n      <td>0.042315</td>\n    </tr>\n  </tbody>\n</table>\n</div>"
     },
     "execution_count": 20,
     "metadata": {},
     "output_type": "execute_result"
    }
   ],
   "source": [
    "lr_metrics"
   ],
   "metadata": {
    "collapsed": false,
    "pycharm": {
     "name": "#%%\n"
    }
   }
  },
  {
   "cell_type": "markdown",
   "metadata": {},
   "source": [
    "### Information Coefficient - Distribution by Lookahead"
   ]
  },
  {
   "cell_type": "code",
   "execution_count": 21,
   "metadata": {
    "ExecuteTime": {
     "end_time": "2020-06-21T03:19:37.897475Z",
     "start_time": "2020-06-21T03:19:37.680445Z"
    }
   },
   "outputs": [
    {
     "data": {
      "text/plain": "<Figure size 1008x360 with 2 Axes>",
      "image/png": "[encoded data removed]"
     },
     "metadata": {},
     "output_type": "display_data"
    }
   ],
   "source": [
    "fig, axes = plt.subplots(ncols=2, figsize=(14,5), sharey=True)\n",
    "\n",
    "# plot average of daily IC values\n",
    "sns.boxplot(x='lookahead', y='ic_by_day',data=lr_metrics, ax=axes[0])\n",
    "axes[0].set_title('IC by Day')\n",
    "\n",
    "# plot IC across all predictions\n",
    "sns.boxplot(x='lookahead', y='ic',data=lr_metrics, ax=axes[1])\n",
    "axes[1].set_title('IC Overall')\n",
    "axes[0].set_ylabel('Information Coefficient')\n",
    "axes[1].set_ylabel('')\n",
    "fig.tight_layout()"
   ]
  },
  {
   "cell_type": "markdown",
   "metadata": {},
   "source": [
    "### Best Train/Test Period Lengths"
   ]
  },
  {
   "cell_type": "markdown",
   "metadata": {},
   "source": [
    "For one- and five-day return forecasts, shorter train- and test-length yield better results in terms of daily avg IC:"
   ]
  },
  {
   "cell_type": "code",
   "execution_count": 22,
   "metadata": {
    "ExecuteTime": {
     "end_time": "2020-06-21T03:19:37.911949Z",
     "start_time": "2020-06-21T03:19:37.898655Z"
    },
    "scrolled": true
   },
   "outputs": [
    {
     "data": {
      "text/plain": "   lookahead  n_splits  ic_by_day        ic\n1          1        10   0.079138  0.076523\n0          1         5   0.071809  0.066099\n3          5        10   0.072696  0.063726\n2          5         5   0.072420  0.064129\n5         21        10   0.059206  0.042315\n4         21         5   0.041376  0.021779",
      "text/html": "<div>\n<style scoped>\n    .dataframe tbody tr th:only-of-type {\n        vertical-align: middle;\n    }\n\n    .dataframe tbody tr th {\n        vertical-align: top;\n    }\n\n    .dataframe thead th {\n        text-align: right;\n    }\n</style>\n<table border=\"1\" class=\"dataframe\">\n  <thead>\n    <tr style=\"text-align: right;\">\n      <th></th>\n      <th>lookahead</th>\n      <th>n_splits</th>\n      <th>ic_by_day</th>\n      <th>ic</th>\n    </tr>\n  </thead>\n  <tbody>\n    <tr>\n      <th>1</th>\n      <td>1</td>\n      <td>10</td>\n      <td>0.079138</td>\n      <td>0.076523</td>\n    </tr>\n    <tr>\n      <th>0</th>\n      <td>1</td>\n      <td>5</td>\n      <td>0.071809</td>\n      <td>0.066099</td>\n    </tr>\n    <tr>\n      <th>3</th>\n      <td>5</td>\n      <td>10</td>\n      <td>0.072696</td>\n      <td>0.063726</td>\n    </tr>\n    <tr>\n      <th>2</th>\n      <td>5</td>\n      <td>5</td>\n      <td>0.072420</td>\n      <td>0.064129</td>\n    </tr>\n    <tr>\n      <th>5</th>\n      <td>21</td>\n      <td>10</td>\n      <td>0.059206</td>\n      <td>0.042315</td>\n    </tr>\n    <tr>\n      <th>4</th>\n      <td>21</td>\n      <td>5</td>\n      <td>0.041376</td>\n      <td>0.021779</td>\n    </tr>\n  </tbody>\n</table>\n</div>"
     },
     "execution_count": 22,
     "metadata": {},
     "output_type": "execute_result"
    }
   ],
   "source": [
    "(lr_metrics.groupby('lookahead', group_keys=False)\n",
    " .apply(lambda x: x.nlargest(3, 'ic_by_day')))"
   ]
  },
  {
   "cell_type": "code",
   "execution_count": 23,
   "metadata": {
    "ExecuteTime": {
     "end_time": "2020-06-21T03:19:37.920850Z",
     "start_time": "2020-06-21T03:19:37.913179Z"
    }
   },
   "outputs": [
    {
     "data": {
      "text/plain": "   lookahead  n_splits  ic_by_day        ic\n0          1         5   0.071809  0.066099\n1          1        10   0.079138  0.076523\n2          5         5   0.072420  0.064129\n3          5        10   0.072696  0.063726\n4         21         5   0.041376  0.021779\n5         21        10   0.059206  0.042315",
      "text/html": "<div>\n<style scoped>\n    .dataframe tbody tr th:only-of-type {\n        vertical-align: middle;\n    }\n\n    .dataframe tbody tr th {\n        vertical-align: top;\n    }\n\n    .dataframe thead th {\n        text-align: right;\n    }\n</style>\n<table border=\"1\" class=\"dataframe\">\n  <thead>\n    <tr style=\"text-align: right;\">\n      <th></th>\n      <th>lookahead</th>\n      <th>n_splits</th>\n      <th>ic_by_day</th>\n      <th>ic</th>\n    </tr>\n  </thead>\n  <tbody>\n    <tr>\n      <th>0</th>\n      <td>1</td>\n      <td>5</td>\n      <td>0.071809</td>\n      <td>0.066099</td>\n    </tr>\n    <tr>\n      <th>1</th>\n      <td>1</td>\n      <td>10</td>\n      <td>0.079138</td>\n      <td>0.076523</td>\n    </tr>\n    <tr>\n      <th>2</th>\n      <td>5</td>\n      <td>5</td>\n      <td>0.072420</td>\n      <td>0.064129</td>\n    </tr>\n    <tr>\n      <th>3</th>\n      <td>5</td>\n      <td>10</td>\n      <td>0.072696</td>\n      <td>0.063726</td>\n    </tr>\n    <tr>\n      <th>4</th>\n      <td>21</td>\n      <td>5</td>\n      <td>0.041376</td>\n      <td>0.021779</td>\n    </tr>\n    <tr>\n      <th>5</th>\n      <td>21</td>\n      <td>10</td>\n      <td>0.059206</td>\n      <td>0.042315</td>\n    </tr>\n  </tbody>\n</table>\n</div>"
     },
     "execution_count": 23,
     "metadata": {},
     "output_type": "execute_result"
    }
   ],
   "source": [
    "lr_metrics.to_csv(results_path / 'lin_reg_metrics.csv', index=False)\n",
    "lr_metrics"
   ]
  },
  {
   "cell_type": "markdown",
   "metadata": {},
   "source": [
    "## LightGBM Model Tuning"
   ]
  },
  {
   "cell_type": "markdown",
   "metadata": {},
   "source": [
    "The notebook example iterates over many configurations, optionally using random samples to speed up model selection using a diverse subset. The goal is to identify the most impactful parameters without trying every possible combination."
   ]
  },
  {
   "cell_type": "code",
   "execution_count": 24,
   "metadata": {
    "ExecuteTime": {
     "end_time": "2020-06-21T03:19:37.935808Z",
     "start_time": "2020-06-21T03:19:37.921761Z"
    }
   },
   "outputs": [],
   "source": [
    "def get_fi(model):\n",
    "    \"\"\"Return normalized feature importance as pd.Series\"\"\"\n",
    "    fi = model.feature_importance(importance_type='gain')\n",
    "    return (pd.Series(fi / fi.sum(),\n",
    "                      index=model.feature_name()))"
   ]
  },
  {
   "cell_type": "markdown",
   "metadata": {},
   "source": [
    "### Hyperparameter Options"
   ]
  },
  {
   "cell_type": "markdown",
   "metadata": {},
   "source": [
    "The `base_params` are not affected by cross-validation:"
   ]
  },
  {
   "cell_type": "code",
   "execution_count": 25,
   "metadata": {
    "ExecuteTime": {
     "end_time": "2020-06-21T03:19:37.943601Z",
     "start_time": "2020-06-21T03:19:37.936926Z"
    },
    "scrolled": true
   },
   "outputs": [],
   "source": [
    "base_params = dict(boosting='gbdt',\n",
    "                   objective='regression',\n",
    "                   verbose=-1)"
   ]
  },
  {
   "cell_type": "markdown",
   "metadata": {},
   "source": [
    "We choose the following parameters and values to select our best model (see book chapter for detail):"
   ]
  },
  {
   "cell_type": "code",
   "execution_count": 26,
   "metadata": {
    "ExecuteTime": {
     "end_time": "2020-06-21T03:19:37.952308Z",
     "start_time": "2020-06-21T03:19:37.944671Z"
    },
    "scrolled": true
   },
   "outputs": [],
   "source": [
    "# constraints on structure (depth) of each tree\n",
    "max_depths = [2, 3, 5, 7]\n",
    "num_leaves_opts = [2 ** i for i in max_depths]\n",
    "min_data_in_leaf_opts = [250, 500, 1000]\n",
    "\n",
    "# weight of each new tree in the ensemble\n",
    "learning_rate_ops = [.01, .1, .3]\n",
    "\n",
    "# random feature selection\n",
    "feature_fraction_opts = [.3, .6, .95]"
   ]
  },
  {
   "cell_type": "code",
   "execution_count": 27,
   "metadata": {
    "ExecuteTime": {
     "end_time": "2020-06-21T03:19:37.960258Z",
     "start_time": "2020-06-21T03:19:37.953744Z"
    }
   },
   "outputs": [],
   "source": [
    "param_names = ['learning_rate', 'num_leaves',\n",
    "               'feature_fraction', 'min_data_in_leaf']"
   ]
  },
  {
   "cell_type": "code",
   "execution_count": 28,
   "metadata": {
    "ExecuteTime": {
     "end_time": "2020-06-21T03:19:37.969006Z",
     "start_time": "2020-06-21T03:19:37.961383Z"
    },
    "scrolled": true
   },
   "outputs": [
    {
     "name": "stdout",
     "output_type": "stream",
     "text": [
      "# Parameters: 108\n"
     ]
    }
   ],
   "source": [
    "cv_params = list(product(learning_rate_ops,\n",
    "                         num_leaves_opts,\n",
    "                         feature_fraction_opts,\n",
    "                         min_data_in_leaf_opts))\n",
    "n_params = len(cv_params)\n",
    "print(f'# Parameters: {n_params}')"
   ]
  },
  {
   "cell_type": "markdown",
   "metadata": {},
   "source": [
    "### Train/Test Period Lengths"
   ]
  },
  {
   "cell_type": "code",
   "execution_count": 29,
   "metadata": {
    "ExecuteTime": {
     "end_time": "2020-06-21T03:19:37.977749Z",
     "start_time": "2020-06-21T03:19:37.969903Z"
    }
   },
   "outputs": [],
   "source": [
    "lookaheads = [1, 5, 21]\n",
    "label_dict = dict(zip(lookaheads, labels))"
   ]
  },
  {
   "cell_type": "markdown",
   "metadata": {},
   "source": [
    "We only use test periods of 63 days length to save some model training and evaluation time."
   ]
  },
  {
   "cell_type": "code",
   "execution_count": 30,
   "metadata": {
    "ExecuteTime": {
     "end_time": "2020-06-21T03:19:37.986465Z",
     "start_time": "2020-06-21T03:19:37.978744Z"
    },
    "scrolled": true
   },
   "outputs": [],
   "source": [
    "train_lengths = [int(4.5 * 252), 252]\n",
    "test_lengths = [63]\n",
    "n_splits = [5, 10]"
   ]
  },
  {
   "cell_type": "code",
   "execution_count": 31,
   "metadata": {
    "ExecuteTime": {
     "end_time": "2020-06-21T03:19:37.995277Z",
     "start_time": "2020-06-21T03:19:37.987379Z"
    },
    "scrolled": true
   },
   "outputs": [
    {
     "name": "stdout",
     "output_type": "stream",
     "text": [
      "(1, 5)\n",
      "(1, 10)\n",
      "(5, 5)\n",
      "(5, 10)\n",
      "(21, 5)\n",
      "(21, 10)\n",
      "Train configs: 6\n",
      "(1, 5)\n",
      "(1, 10)\n",
      "(21, 10)\n",
      "(5, 5)\n",
      "(21, 5)\n",
      "(5, 10)\n"
     ]
    }
   ],
   "source": [
    "test_params = list(product(lookaheads, n_splits))\n",
    "for test_param in test_params:\n",
    "    print(test_param)\n",
    "n = len(test_params)\n",
    "test_param_sample = np.random.choice(list(range(n)), size=int(n), replace=False)\n",
    "test_params = [test_params[i] for i in test_param_sample]\n",
    "print('Train configs:', len(test_params))\n",
    "for test_param in test_params:\n",
    "    print(test_param)"
   ]
  },
  {
   "cell_type": "markdown",
   "metadata": {},
   "source": [
    "### Categorical Variables"
   ]
  },
  {
   "cell_type": "markdown",
   "metadata": {},
   "source": [
    "We integer-encode categorical variables with values starting at zero, as expected by LightGBM (not necessary\n",
    "as long as the category codes have values less than $2^{32}$, but avoids a warning)"
   ]
  },
  {
   "cell_type": "code",
   "execution_count": 32,
   "metadata": {
    "ExecuteTime": {
     "end_time": "2020-06-21T03:19:38.043537Z",
     "start_time": "2020-06-21T03:19:37.996178Z"
    },
    "scrolled": true
   },
   "outputs": [],
   "source": [
    "categoricals = ['year', 'weekday', 'month']\n",
    "for feature in categoricals:\n",
    "    data[feature] = pd.factorize(data[feature], sort=True)[0]"
   ]
  },
  {
   "cell_type": "markdown",
   "metadata": {},
   "source": [
    "### Custom Loss Function: Information Coefficient"
   ]
  },
  {
   "cell_type": "code",
   "execution_count": 33,
   "metadata": {
    "ExecuteTime": {
     "end_time": "2020-06-21T03:19:38.046578Z",
     "start_time": "2020-06-21T03:19:38.044405Z"
    }
   },
   "outputs": [],
   "source": [
    "def ic_lgbm(preds, train_data):\n",
    "    \"\"\"Custom IC eval metric for lightgbm\"\"\"\n",
    "    is_higher_better = True\n",
    "    return 'ic', spearmanr(preds, train_data.get_label())[0], is_higher_better"
   ]
  },
  {
   "cell_type": "markdown",
   "metadata": {},
   "source": [
    "### Run Cross-Validation"
   ]
  },
  {
   "cell_type": "markdown",
   "metadata": {},
   "source": [
    "To explore the hyperparameter space, we specify values for key parameters that we would like to test in combination.\n",
    "The sklearn library supports `RandomizedSearchCV` to cross-validate a subset of parameter combinations that are sampled\n",
    " randomly from specified distributions. We will implement a custom version that allows us to monitor performance so\n",
    "  we can abort the search process once we're satisfied with the result, rather than specifying a set number of\n",
    "   iterations beforehand."
   ]
  },
  {
   "cell_type": "code",
   "execution_count": 34,
   "metadata": {
    "ExecuteTime": {
     "end_time": "2020-06-21T03:19:38.054547Z",
     "start_time": "2020-06-21T03:19:38.047670Z"
    },
    "scrolled": true
   },
   "outputs": [],
   "source": [
    "lgb_store = Path(results_path / 'tuning_lgb.h5')"
   ]
  },
  {
   "cell_type": "code",
   "execution_count": 35,
   "metadata": {
    "ExecuteTime": {
     "end_time": "2020-06-21T03:19:38.070171Z",
     "start_time": "2020-06-21T03:19:38.055637Z"
    },
    "scrolled": true
   },
   "outputs": [
    {
     "data": {
      "text/plain": "['ATR',\n 'MACD',\n 'NATR',\n 'PPO',\n 'bb_high',\n 'bb_low',\n 'month',\n 'r01',\n 'r01dec',\n 'r01q_sector',\n 'r05',\n 'r05dec',\n 'r05q_sector',\n 'r10',\n 'r10dec',\n 'r10q_sector',\n 'r21',\n 'r21dec',\n 'r21q_sector',\n 'r42',\n 'r42dec',\n 'r42q_sector',\n 'r63',\n 'r63dec',\n 'r63q_sector',\n 'rsi',\n 'sector',\n 'weekday',\n 'year']"
     },
     "execution_count": 35,
     "metadata": {},
     "output_type": "execute_result"
    }
   ],
   "source": [
    "labels = sorted(data.filter(like='fwd').columns)\n",
    "features = data.columns.difference(labels).tolist()\n",
    "features"
   ]
  },
  {
   "cell_type": "code",
   "execution_count": 36,
   "metadata": {
    "ExecuteTime": {
     "end_time": "2020-06-21T03:19:38.078077Z",
     "start_time": "2020-06-21T03:19:38.071079Z"
    },
    "scrolled": true
   },
   "outputs": [],
   "source": [
    "label_dict = dict(zip(lookaheads, labels))"
   ]
  },
  {
   "cell_type": "code",
   "execution_count": 37,
   "metadata": {
    "ExecuteTime": {
     "end_time": "2020-06-21T03:19:38.086476Z",
     "start_time": "2020-06-21T03:19:38.078921Z"
    },
    "scrolled": true
   },
   "outputs": [],
   "source": [
    "num_iterations = [10, 25, 50, 75] + list(range(100, 501, 50))\n",
    "num_boost_round = num_iterations[-1]"
   ]
  },
  {
   "cell_type": "code",
   "execution_count": 38,
   "metadata": {
    "ExecuteTime": {
     "end_time": "2020-06-21T03:19:38.094204Z",
     "start_time": "2020-06-21T03:19:38.087354Z"
    },
    "scrolled": true
   },
   "outputs": [],
   "source": [
    "metric_cols = (param_names + ['t', 'daily_ic_mean', 'daily_ic_mean_n',\n",
    "                              'daily_ic_median', 'daily_ic_median_n'] +\n",
    "               [str(n) for n in num_iterations])"
   ]
  },
  {
   "cell_type": "markdown",
   "metadata": {},
   "source": [
    "We iterate over our six CV configurations and collect the resulting metrics:"
   ]
  },
  {
   "cell_type": "code",
   "execution_count": 39,
   "metadata": {
    "ExecuteTime": {
     "end_time": "2020-06-21T11:56:42.000694Z",
     "start_time": "2020-06-21T03:19:38.095078Z"
    },
    "scrolled": false
   },
   "outputs": [
    {
     "name": "stdout",
     "output_type": "stream",
     "text": [
      "iterations 1\n",
      "inner_iterations 1\n",
      "metrics: \n",
      "learning_rate           0.300000\n",
      "num_leaves              4.000000\n",
      "feature_fraction        0.950000\n",
      "min_data_in_leaf     1000.000000\n",
      "t                     113.154237\n",
      "daily_ic_mean           0.111893\n",
      "daily_ic_mean_n        10.000000\n",
      "daily_ic_median         0.121735\n",
      "daily_ic_median_n      10.000000\n",
      "10                      0.085563\n",
      "25                      0.080149\n",
      "50                      0.075069\n",
      "75                      0.073170\n",
      "100                     0.071495\n",
      "150                     0.068272\n",
      "200                     0.066249\n",
      "250                     0.064647\n",
      "300                     0.063366\n",
      "350                     0.062148\n",
      "400                     0.062186\n",
      "450                     0.061692\n",
      "500                     0.061214\n",
      "dtype: float64\n",
      "\t  0 | 00:01:53 (113) |  0.30 |   4 | 95% | 1000 |   8.56% |  11.19% |   10 |  12.17% |   10\n",
      "inner_iterations 2\n",
      "metrics: \n",
      "learning_rate          0.010000\n",
      "num_leaves             4.000000\n",
      "feature_fraction       0.600000\n",
      "min_data_in_leaf     500.000000\n",
      "t                    112.611488\n",
      "daily_ic_mean          0.116922\n",
      "daily_ic_mean_n      350.000000\n",
      "daily_ic_median        0.126252\n",
      "daily_ic_median_n    300.000000\n",
      "10                     0.040826\n",
      "25                     0.057594\n",
      "50                     0.070390\n",
      "75                     0.077248\n",
      "100                    0.080888\n",
      "150                    0.086047\n",
      "200                    0.088295\n",
      "250                    0.089247\n",
      "300                    0.089589\n",
      "350                    0.089474\n",
      "400                    0.088987\n",
      "450                    0.088437\n",
      "500                    0.087788\n",
      "dtype: float64\n",
      "\t  1 | 00:03:46 (113) |  0.01 |   4 | 60% |  500 |   8.96% |  11.69% |  350 |  12.63% |  300\n",
      "inner_iterations 3\n",
      "metrics: \n",
      "learning_rate          0.100000\n",
      "num_leaves             4.000000\n",
      "feature_fraction       0.600000\n",
      "min_data_in_leaf     500.000000\n",
      "t                    107.659897\n",
      "daily_ic_mean          0.115953\n",
      "daily_ic_mean_n       50.000000\n",
      "daily_ic_median        0.125504\n",
      "daily_ic_median_n     50.000000\n",
      "10                     0.079459\n",
      "25                     0.088669\n",
      "50                     0.088029\n",
      "75                     0.085641\n",
      "100                    0.084089\n",
      "150                    0.081288\n",
      "200                    0.079348\n",
      "250                    0.077414\n",
      "300                    0.076359\n",
      "350                    0.075219\n",
      "400                    0.074351\n",
      "450                    0.073451\n",
      "500                    0.072702\n",
      "dtype: float64\n",
      "\t  2 | 00:05:33 (108) |  0.10 |   4 | 60% |  500 |   8.87% |  11.60% |   50 |  12.55% |   50\n",
      "inner_iterations 4\n",
      "break inner loop\n",
      "iterations 2\n",
      "inner_iterations 1\n",
      "metrics: \n",
      "learning_rate          0.010000\n",
      "num_leaves             8.000000\n",
      "feature_fraction       0.950000\n",
      "min_data_in_leaf     250.000000\n",
      "t                    173.088561\n",
      "daily_ic_mean          0.117186\n",
      "daily_ic_mean_n      200.000000\n",
      "daily_ic_median        0.128130\n",
      "daily_ic_median_n    200.000000\n",
      "10                     0.050928\n",
      "25                     0.073169\n",
      "50                     0.083680\n",
      "75                     0.086938\n",
      "100                    0.088575\n",
      "150                    0.090256\n",
      "200                    0.090565\n",
      "250                    0.090238\n",
      "300                    0.089593\n",
      "350                    0.088895\n",
      "400                    0.088328\n",
      "450                    0.087878\n",
      "500                    0.087535\n",
      "dtype: float64\n",
      "\t  0 | 00:02:53 (173) |  0.01 |   8 | 95% |  250 |   9.06% |  11.72% |  200 |  12.81% |  200\n",
      "inner_iterations 2\n",
      "metrics: \n",
      "learning_rate          0.010000\n",
      "num_leaves             8.000000\n",
      "feature_fraction       0.300000\n",
      "min_data_in_leaf     250.000000\n",
      "t                    168.717039\n",
      "daily_ic_mean          0.118427\n",
      "daily_ic_mean_n      400.000000\n",
      "daily_ic_median        0.128883\n",
      "daily_ic_median_n    400.000000\n",
      "10                     0.059161\n",
      "25                     0.078221\n",
      "50                     0.086052\n",
      "75                     0.088631\n",
      "100                    0.089041\n",
      "150                    0.090157\n",
      "200                    0.090446\n",
      "250                    0.090700\n",
      "300                    0.090689\n",
      "350                    0.090806\n",
      "400                    0.090519\n",
      "450                    0.089958\n",
      "500                    0.089466\n",
      "dtype: float64\n",
      "\t  1 | 00:05:42 (169) |  0.01 |   8 | 30% |  250 |   9.08% |  11.84% |  400 |  12.89% |  400\n",
      "inner_iterations 3\n",
      "metrics: \n",
      "learning_rate          0.300000\n",
      "num_leaves           128.000000\n",
      "feature_fraction       0.300000\n",
      "min_data_in_leaf     500.000000\n",
      "t                    386.390633\n",
      "daily_ic_mean          0.092461\n",
      "daily_ic_mean_n       10.000000\n",
      "daily_ic_median        0.094971\n",
      "daily_ic_median_n     10.000000\n",
      "10                     0.075579\n",
      "25                     0.068105\n",
      "50                     0.064859\n",
      "75                     0.062112\n",
      "100                    0.059761\n",
      "150                    0.056720\n",
      "200                    0.054355\n",
      "250                    0.052591\n",
      "300                    0.051302\n",
      "350                    0.049978\n",
      "400                    0.048977\n",
      "450                    0.047997\n",
      "500                    0.047331\n",
      "dtype: float64\n",
      "\t  2 | 00:12:08 (386) |  0.30 | 128 | 30% |  500 |   7.56% |  9.25% |   10 |  9.50% |   10\n",
      "inner_iterations 4\n",
      "break inner loop\n",
      "iterations 3\n",
      "inner_iterations 1\n",
      "metrics: \n",
      "learning_rate          0.300000\n",
      "num_leaves           128.000000\n",
      "feature_fraction       0.300000\n",
      "min_data_in_leaf     500.000000\n",
      "t                    502.808229\n",
      "daily_ic_mean          0.057401\n",
      "daily_ic_mean_n       50.000000\n",
      "daily_ic_median        0.053235\n",
      "daily_ic_median_n     50.000000\n",
      "10                     0.052772\n",
      "25                     0.060992\n",
      "50                     0.060554\n",
      "75                     0.059046\n",
      "100                    0.054741\n",
      "150                    0.051380\n",
      "200                    0.050500\n",
      "250                    0.049169\n",
      "300                    0.048619\n",
      "350                    0.047676\n",
      "400                    0.046877\n",
      "450                    0.046184\n",
      "500                    0.045623\n",
      "dtype: float64\n",
      "\t  0 | 00:08:23 (503) |  0.30 | 128 | 30% |  500 |   6.10% |  5.74% |   50 |  5.32% |   50\n",
      "inner_iterations 2\n",
      "metrics: \n",
      "learning_rate           0.010000\n",
      "num_leaves            128.000000\n",
      "feature_fraction        0.300000\n",
      "min_data_in_leaf      250.000000\n",
      "t                    1499.844578\n",
      "daily_ic_mean           0.069386\n",
      "daily_ic_mean_n       500.000000\n",
      "daily_ic_median         0.065623\n",
      "daily_ic_median_n     500.000000\n",
      "10                      0.006545\n",
      "25                      0.036346\n",
      "50                      0.055785\n",
      "75                      0.062943\n",
      "100                     0.061855\n",
      "150                     0.065605\n",
      "200                     0.065500\n",
      "250                     0.065292\n",
      "300                     0.067147\n",
      "350                     0.066908\n",
      "400                     0.066294\n",
      "450                     0.065632\n",
      "500                     0.066052\n",
      "dtype: float64\n",
      "\t  1 | 00:33:23 (1500) |  0.01 | 128 | 30% |  250 |   6.71% |  6.94% |  500 |  6.56% |  500\n",
      "inner_iterations 3\n",
      "metrics: \n",
      "learning_rate          0.010000\n",
      "num_leaves           128.000000\n",
      "feature_fraction       0.950000\n",
      "min_data_in_leaf     250.000000\n",
      "t                    371.462250\n",
      "daily_ic_mean          0.051773\n",
      "daily_ic_mean_n      500.000000\n",
      "daily_ic_median        0.048506\n",
      "daily_ic_median_n    500.000000\n",
      "10                    -0.007233\n",
      "25                     0.006305\n",
      "50                     0.014433\n",
      "75                     0.017964\n",
      "100                    0.022264\n",
      "150                    0.027278\n",
      "200                    0.031254\n",
      "250                    0.034326\n",
      "300                    0.036950\n",
      "350                    0.039199\n",
      "400                    0.040778\n",
      "450                    0.042168\n",
      "500                    0.042998\n",
      "dtype: float64\n",
      "\t  2 | 00:39:34 (371) |  0.01 | 128 | 95% |  250 |   4.30% |  5.18% |  500 |  4.85% |  500\n",
      "inner_iterations 4\n",
      "break inner loop\n",
      "iterations 4\n",
      "break outer loop\n"
     ]
    }
   ],
   "source": [
    "iterations = 0\n",
    "# used to include train_length and test_length\n",
    "for lookahead, n_splits in test_params:\n",
    "    iterations += 1\n",
    "    print('iterations {}'.format(iterations))\n",
    "    if iterations > 3:\n",
    "        print('break outer loop')\n",
    "        break\n",
    "    # randomized grid search\n",
    "    cvp = np.random.choice(list(range(n_params)),\n",
    "                           size=int(n_params / 2),\n",
    "                           replace=False)\n",
    "    cv_params_ = [cv_params[i] for i in cvp]\n",
    "\n",
    "    # set up cross-validation\n",
    "    print(f'Lookahead: {lookahead:2.0f} | '\n",
    "          f'Train: {train_length:3.0f} | '\n",
    "          f'Test: {test_length:2.0f} | '\n",
    "          f'Params: {len(cv_params_):3.0f} | '\n",
    "          f'Train configs: {len(test_params)}')\n",
    "\n",
    "    # time-series cross-validation\n",
    "    cv = MultipleTimeSeriesCV(n_splits=n_splits,\n",
    "                              lookahead=lookahead,\n",
    "                              test_period_length=test_length,\n",
    "                              train_period_length=train_length)\n",
    "\n",
    "    label = label_dict[lookahead]\n",
    "    outcome_data = data.loc[:, features + [label]].dropna()\n",
    "    \n",
    "    # binary dataset\n",
    "    lgb_data = lgb.Dataset(data=outcome_data.drop(label, axis=1),\n",
    "                           label=outcome_data[label],\n",
    "                           categorical_feature=categoricals,\n",
    "                           free_raw_data=False)\n",
    "    T = 0\n",
    "    predictions, metrics, feature_importance, daily_ic = [], [], [], []\n",
    "    inner_iterations = 0\n",
    "    # iterate over (shuffled) hyperparameter combinations\n",
    "    for p, param_vals in enumerate(cv_params_):\n",
    "        inner_iterations += 1\n",
    "        print('inner_iterations {}'.format(inner_iterations))\n",
    "        if inner_iterations > 3:\n",
    "            print('break inner loop')\n",
    "            break\n",
    "        key = f'{lookahead}/{n_splits}/' + '/'.join([str(p) for p in param_vals])\n",
    "        params = dict(zip(param_names, param_vals))\n",
    "        params.update(base_params)\n",
    "\n",
    "        start = time()\n",
    "        cv_preds, nrounds = [], []\n",
    "        ic_cv = defaultdict(list)\n",
    "\n",
    "        cv = CombPurgedKFoldCV(n_splits=n_splits)\n",
    "        # compute lookahead\n",
    "        pred_times = pd.Series(index=outcome_data.index,\n",
    "                           data=outcome_data.index.get_level_values('date') + datetime.timedelta(hours=lookahead))\n",
    "        eval_times = pd.Series(index=outcome_data.index,\n",
    "                           data=outcome_data.index.get_level_values('date') + datetime.timedelta(hours=lookahead))\n",
    "\n",
    "\n",
    "        # iterate over folds\n",
    "        for i, (train_idx, test_idx) in enumerate(cv.split(X=outcome_data, pred_times=pred_times, eval_times=eval_times)):\n",
    "            \n",
    "            # select train subset\n",
    "            lgb_train = lgb_data.subset(used_indices=train_idx.tolist(),\n",
    "                                       params=params).construct()\n",
    "            \n",
    "            # train model for num_boost_round\n",
    "            model = lgb.train(params=params,\n",
    "                              train_set=lgb_train,\n",
    "                              num_boost_round=num_boost_round,\n",
    "                              verbose_eval=False)\n",
    "            # log feature importance\n",
    "            if i == 0:\n",
    "                fi = get_fi(model).to_frame()\n",
    "            else:\n",
    "                fi[i] = get_fi(model)\n",
    "\n",
    "            # capture predictions\n",
    "            test_set = outcome_data.iloc[test_idx, :]\n",
    "            X_test = test_set.loc[:, model.feature_name()]\n",
    "            y_test = test_set.loc[:, label]\n",
    "            y_pred = {str(n): model.predict(X_test, num_iteration=n) for n in num_iterations}\n",
    "            \n",
    "            # record predictions for each fold\n",
    "            cv_preds.append(y_test.to_frame('y_test').assign(**y_pred).assign(i=i))\n",
    "        \n",
    "        # combine fold results\n",
    "        cv_preds = pd.concat(cv_preds).assign(**params)\n",
    "        predictions.append(cv_preds)\n",
    "        \n",
    "        # compute IC per day\n",
    "        by_day = cv_preds.groupby(level='date')\n",
    "        ic_by_day = pd.concat([by_day.apply(lambda x: spearmanr(x.y_test, x[str(n)])[0]).to_frame(n)\n",
    "                               for n in num_iterations], axis=1)\n",
    "        daily_ic_mean = ic_by_day.mean()\n",
    "        daily_ic_mean_n = daily_ic_mean.idxmax()\n",
    "        daily_ic_median = ic_by_day.median()\n",
    "        daily_ic_median_n = daily_ic_median.idxmax()\n",
    "        \n",
    "        # compute IC across all predictions\n",
    "        ic = [spearmanr(cv_preds.y_test, cv_preds[str(n)])[0] for n in num_iterations]\n",
    "        t = time() - start\n",
    "        T += t\n",
    "        \n",
    "        # collect metrics\n",
    "        metrics = pd.Series(list(param_vals) +\n",
    "                            [t, daily_ic_mean.max(), daily_ic_mean_n, daily_ic_median.max(), daily_ic_median_n] + ic,\n",
    "                            index=metric_cols)\n",
    "        print('metrics: \\n{}'.format(metrics))\n",
    "        msg = f'\\t{p:3.0f} | {format_time(T)} ({t:3.0f}) | {params[\"learning_rate\"]:5.2f} | '\n",
    "        msg += f'{params[\"num_leaves\"]:3.0f} | {params[\"feature_fraction\"]:3.0%} | {params[\"min_data_in_leaf\"]:4.0f} | '\n",
    "        msg += f' {max(ic):6.2%} | {ic_by_day.mean().max(): 6.2%} | {daily_ic_mean_n: 4.0f} | {ic_by_day.median().max(): 6.2%} | {daily_ic_median_n: 4.0f}'\n",
    "        print(msg)\n",
    "\n",
    "        # persist results for given CV run and hyperparameter combination\n",
    "        metrics.to_hdf(lgb_store, 'metrics/' + key)\n",
    "        ic_by_day.assign(**params).to_hdf(lgb_store, 'daily_ic/' + key)\n",
    "        fi.T.describe().T.assign(**params).to_hdf(lgb_store, 'fi/' + key)\n",
    "        cv_preds.to_hdf(lgb_store, 'predictions/' + key)"
   ]
  },
  {
   "cell_type": "markdown",
   "metadata": {},
   "source": [
    "## CatBoost Model Tuning"
   ]
  },
  {
   "cell_type": "markdown",
   "metadata": {},
   "source": [
    "We repeat a similar process for CatBoost - see book and CatBoost [docs](https://catboost.ai/docs/concepts/about.html) for detail."
   ]
  },
  {
   "cell_type": "markdown",
   "metadata": {},
   "source": [
    "### Hyperparameter Options"
   ]
  },
  {
   "cell_type": "code",
   "execution_count": 40,
   "metadata": {
    "ExecuteTime": {
     "end_time": "2020-06-21T11:56:42.002366Z",
     "start_time": "2020-06-21T03:17:13.861Z"
    }
   },
   "outputs": [],
   "source": [
    "param_names = ['max_depth', 'min_child_samples']\n",
    "\n",
    "max_depth_opts = [3, 5, 7, 9]\n",
    "min_child_samples_opts = [20, 250, 500]"
   ]
  },
  {
   "cell_type": "code",
   "execution_count": 41,
   "metadata": {
    "ExecuteTime": {
     "end_time": "2020-06-21T11:56:42.002915Z",
     "start_time": "2020-06-21T03:17:14.083Z"
    }
   },
   "outputs": [],
   "source": [
    "cv_params = list(product(max_depth_opts,\n",
    "                         min_child_samples_opts))\n",
    "n_params = len(cv_params)"
   ]
  },
  {
   "cell_type": "markdown",
   "metadata": {},
   "source": [
    "### Train/Test Period Lengths"
   ]
  },
  {
   "cell_type": "code",
   "execution_count": 42,
   "metadata": {
    "ExecuteTime": {
     "end_time": "2020-06-21T11:56:42.003547Z",
     "start_time": "2020-06-21T03:17:14.456Z"
    }
   },
   "outputs": [],
   "source": [
    "lookaheads = [1, 5, 21]\n",
    "label_dict = dict(zip(lookaheads, labels))"
   ]
  },
  {
   "cell_type": "code",
   "execution_count": 43,
   "metadata": {
    "ExecuteTime": {
     "end_time": "2020-06-21T11:56:42.004201Z",
     "start_time": "2020-06-21T03:17:16.556Z"
    }
   },
   "outputs": [],
   "source": [
    "#train_lengths = [int(4.5 * 252), 252]\n",
    "#test_lengths = [63]"
   ]
  },
  {
   "cell_type": "code",
   "execution_count": 44,
   "metadata": {
    "ExecuteTime": {
     "end_time": "2020-06-21T11:56:42.004875Z",
     "start_time": "2020-06-21T03:17:17.116Z"
    }
   },
   "outputs": [],
   "source": [
    "n_splits = [5, 10]\n",
    "\n",
    "test_params = list(product(lookaheads,\n",
    "                           n_splits,))"
   ]
  },
  {
   "cell_type": "markdown",
   "metadata": {},
   "source": [
    "### Custom Loss Function"
   ]
  },
  {
   "cell_type": "code",
   "execution_count": 45,
   "metadata": {
    "ExecuteTime": {
     "end_time": "2020-06-21T11:56:42.005692Z",
     "start_time": "2020-06-21T03:17:18.773Z"
    }
   },
   "outputs": [],
   "source": [
    "class CatBoostIC(object):\n",
    "    \"\"\"Custom IC eval metric for CatBoost\"\"\"\n",
    "\n",
    "    def is_max_optimal(self):\n",
    "        # Returns whether great values of metric are better\n",
    "        return True\n",
    "\n",
    "    def evaluate(self, approxes, target, weight):\n",
    "        target = np.array(target)\n",
    "        approxes = np.array(approxes).reshape(-1)\n",
    "        rho = spearmanr(approxes, target)[0]\n",
    "        return rho, 1\n",
    "\n",
    "    def get_final_error(self, error, weight):\n",
    "        # Returns final value of metric based on error and weight\n",
    "        return error"
   ]
  },
  {
   "cell_type": "markdown",
   "metadata": {},
   "source": [
    "### Run Cross-Validation"
   ]
  },
  {
   "cell_type": "code",
   "execution_count": 46,
   "metadata": {
    "ExecuteTime": {
     "end_time": "2020-06-21T11:56:42.006427Z",
     "start_time": "2020-06-21T03:17:29.495Z"
    }
   },
   "outputs": [],
   "source": [
    "cb_store = Path(results_path / 'tuning_catboost.h5')"
   ]
  },
  {
   "cell_type": "code",
   "execution_count": 47,
   "metadata": {
    "ExecuteTime": {
     "end_time": "2020-06-21T11:56:42.007167Z",
     "start_time": "2020-06-21T03:17:29.677Z"
    }
   },
   "outputs": [],
   "source": [
    "num_iterations = [10, 25, 50, 75] + list(range(100, 1001, 100))\n",
    "num_boost_round = num_iterations[-1]"
   ]
  },
  {
   "cell_type": "code",
   "execution_count": 48,
   "metadata": {
    "ExecuteTime": {
     "end_time": "2020-06-21T11:56:42.007861Z",
     "start_time": "2020-06-21T03:17:29.812Z"
    }
   },
   "outputs": [],
   "source": [
    "metric_cols = (param_names + ['t', 'daily_ic_mean', 'daily_ic_mean_n',\n",
    "                              'daily_ic_median', 'daily_ic_median_n'] +\n",
    "               [str(n) for n in num_iterations])"
   ]
  },
  {
   "cell_type": "code",
   "execution_count": null,
   "metadata": {
    "ExecuteTime": {
     "end_time": "2020-06-21T11:56:42.008624Z",
     "start_time": "2020-06-21T03:17:30.033Z"
    },
    "pycharm": {
     "is_executing": true
    }
   },
   "outputs": [
    {
     "name": "stdout",
     "output_type": "stream",
     "text": [
      "iteration 1\n",
      "Lookahead:  1 | n_splits:   5 | Params:  12 | Train configs: 6\n",
      "iteration 1\n"
     ]
    },
    {
     "name": "stderr",
     "output_type": "stream",
     "text": [
      "Warning: less than 75% gpu memory available for training. Free: 7378.75 Total: 10015.0625\n",
      "Warning: less than 75% gpu memory available for training. Free: 7402.625 Total: 10015.0625\n",
      "Warning: less than 75% gpu memory available for training. Free: 7410.6875 Total: 10015.0625\n",
      "Warning: less than 75% gpu memory available for training. Free: 7413.5 Total: 10015.0625\n",
      "Warning: less than 75% gpu memory available for training. Free: 7410.625 Total: 10015.0625\n",
      "Warning: less than 75% gpu memory available for training. Free: 7406.625 Total: 10015.0625\n"
     ]
    },
    {
     "name": "stdout",
     "output_type": "stream",
     "text": [
      "metrics: \n",
      "max_depth              3.000000\n",
      "min_child_samples    500.000000\n",
      "t                    155.384712\n",
      "daily_ic_mean          0.006346\n",
      "daily_ic_mean_n       75.000000\n",
      "daily_ic_median        0.000000\n",
      "daily_ic_median_n     10.000000\n",
      "10                    -0.000618\n",
      "25                     0.002054\n",
      "50                     0.003844\n",
      "75                     0.003893\n",
      "100                    0.003886\n",
      "200                    0.003364\n",
      "300                    0.003143\n",
      "400                    0.003126\n",
      "500                    0.003133\n",
      "600                    0.003132\n",
      "700                    0.003151\n",
      "800                    0.003139\n",
      "900                    0.003138\n",
      "1000                   0.003147\n",
      "dtype: float64\n",
      "  0 | 00:02:35 (155) |   3 |  500 |   0.39% |  0.63% |   75 |  0.00% |   10\n",
      "iteration 2\n",
      "metrics: \n",
      "max_depth              9.000000\n",
      "min_child_samples     20.000000\n",
      "t                    246.072882\n",
      "daily_ic_mean          0.005613\n",
      "daily_ic_mean_n      200.000000\n",
      "daily_ic_median        0.003099\n",
      "daily_ic_median_n    400.000000\n",
      "10                    -0.000016\n",
      "25                     0.001997\n",
      "50                     0.002658\n",
      "75                     0.002746\n",
      "100                    0.003394\n",
      "200                    0.005873\n",
      "300                    0.004015\n",
      "400                    0.004637\n",
      "500                    0.004653\n",
      "600                    0.004667\n",
      "700                    0.004724\n",
      "800                    0.004620\n",
      "900                    0.004627\n",
      "1000                   0.004626\n",
      "dtype: float64\n",
      "  1 | 00:06:41 (246) |   9 |   20 |   0.59% |  0.56% |  200 |  0.31% |  400\n",
      "iteration 3\n"
     ]
    },
    {
     "name": "stderr",
     "output_type": "stream",
     "text": [
      "Warning: less than 75% gpu memory available for training. Free: 7336.0625 Total: 10015.0625\n",
      "Warning: less than 75% gpu memory available for training. Free: 7328.3125 Total: 10015.0625\n",
      "Warning: less than 75% gpu memory available for training. Free: 7326.3125 Total: 10015.0625\n",
      "Warning: less than 75% gpu memory available for training. Free: 7339.25 Total: 10015.0625\n",
      "Warning: less than 75% gpu memory available for training. Free: 7340.3125 Total: 10015.0625\n",
      "Warning: less than 75% gpu memory available for training. Free: 7340.3125 Total: 10015.0625\n",
      "Warning: less than 75% gpu memory available for training. Free: 7321.8125 Total: 10015.0625\n",
      "Warning: less than 75% gpu memory available for training. Free: 7326.625 Total: 10015.0625\n"
     ]
    },
    {
     "name": "stdout",
     "output_type": "stream",
     "text": [
      "metrics: \n",
      "max_depth              7.000000\n",
      "min_child_samples    250.000000\n",
      "t                    205.621407\n",
      "daily_ic_mean          0.008298\n",
      "daily_ic_mean_n       50.000000\n",
      "daily_ic_median        0.003567\n",
      "daily_ic_median_n     50.000000\n",
      "10                     0.000727\n",
      "25                     0.003931\n",
      "50                     0.004406\n",
      "75                     0.004116\n",
      "100                    0.005480\n",
      "200                    0.005807\n",
      "300                    0.005750\n",
      "400                    0.005904\n",
      "500                    0.005898\n",
      "600                    0.005886\n",
      "700                    0.006096\n",
      "800                    0.005826\n",
      "900                    0.005876\n",
      "1000                   0.005937\n",
      "dtype: float64\n",
      "  2 | 00:10:07 (206) |   7 |  250 |   0.61% |  0.83% |   50 |  0.36% |   50\n",
      "iteration 4\n",
      "break loop\n",
      "iteration 2\n",
      "Lookahead:  1 | n_splits:  10 | Params:  12 | Train configs: 6\n",
      "iteration 1\n"
     ]
    },
    {
     "name": "stderr",
     "output_type": "stream",
     "text": [
      "Warning: less than 75% gpu memory available for training. Free: 7495.0625 Total: 10015.0625\n",
      "Warning: less than 75% gpu memory available for training. Free: 7494.75 Total: 10015.0625\n",
      "Warning: less than 75% gpu memory available for training. Free: 7449.25 Total: 10015.0625\n",
      "Warning: less than 75% gpu memory available for training. Free: 7501 Total: 10015.0625\n"
     ]
    },
    {
     "name": "stdout",
     "output_type": "stream",
     "text": [
      "metrics: \n",
      "max_depth               9.000000\n",
      "min_child_samples      20.000000\n",
      "t                     815.868315\n",
      "daily_ic_mean           0.006080\n",
      "daily_ic_mean_n      1000.000000\n",
      "daily_ic_median         0.002959\n",
      "daily_ic_median_n    1000.000000\n",
      "10                      0.002741\n",
      "25                      0.003509\n",
      "50                      0.003972\n",
      "75                      0.003853\n",
      "100                     0.004414\n",
      "200                     0.004472\n",
      "300                     0.004625\n",
      "400                     0.004622\n",
      "500                     0.004720\n",
      "600                     0.004724\n",
      "700                     0.004739\n",
      "800                     0.004767\n",
      "900                     0.004777\n",
      "1000                    0.004811\n",
      "dtype: float64\n",
      "  0 | 00:13:36 (816) |   9 |   20 |   0.48% |  0.61% |  1000 |  0.30% |  1000\n",
      "iteration 2\n"
     ]
    },
    {
     "name": "stderr",
     "output_type": "stream",
     "text": [
      "Warning: less than 75% gpu memory available for training. Free: 7457.125 Total: 10015.0625\n",
      "Warning: less than 75% gpu memory available for training. Free: 7458.75 Total: 10015.0625\n",
      "Warning: less than 75% gpu memory available for training. Free: 7454.75 Total: 10015.0625\n",
      "Warning: less than 75% gpu memory available for training. Free: 7485.125 Total: 10015.0625\n",
      "Warning: less than 75% gpu memory available for training. Free: 7434.25 Total: 10015.0625\n",
      "Warning: less than 75% gpu memory available for training. Free: 7454.25 Total: 10015.0625\n",
      "Warning: less than 75% gpu memory available for training. Free: 7460.375 Total: 10015.0625\n",
      "Warning: less than 75% gpu memory available for training. Free: 7458.25 Total: 10015.0625\n",
      "Warning: less than 75% gpu memory available for training. Free: 7459.75 Total: 10015.0625\n",
      "Warning: less than 75% gpu memory available for training. Free: 7394.8125 Total: 10015.0625\n",
      "Warning: less than 75% gpu memory available for training. Free: 7429.1875 Total: 10015.0625\n",
      "Warning: less than 75% gpu memory available for training. Free: 7429.1875 Total: 10015.0625\n",
      "Warning: less than 75% gpu memory available for training. Free: 7429.1875 Total: 10015.0625\n",
      "Warning: less than 75% gpu memory available for training. Free: 7429.1875 Total: 10015.0625\n",
      "Warning: less than 75% gpu memory available for training. Free: 7429.1875 Total: 10015.0625\n",
      "Warning: less than 75% gpu memory available for training. Free: 7429.1875 Total: 10015.0625\n",
      "Warning: less than 75% gpu memory available for training. Free: 7429.1875 Total: 10015.0625\n",
      "Warning: less than 75% gpu memory available for training. Free: 7429.1875 Total: 10015.0625\n",
      "Warning: less than 75% gpu memory available for training. Free: 7429.1875 Total: 10015.0625\n",
      "Warning: less than 75% gpu memory available for training. Free: 7429.1875 Total: 10015.0625\n",
      "Warning: less than 75% gpu memory available for training. Free: 7429.4375 Total: 10015.0625\n",
      "Warning: less than 75% gpu memory available for training. Free: 7498.125 Total: 10015.0625\n",
      "Warning: less than 75% gpu memory available for training. Free: 7498.125 Total: 10015.0625\n"
     ]
    }
   ],
   "source": [
    "iteration = 0\n",
    "for lookahead, n_splits in test_params:\n",
    "    iteration += 1\n",
    "    print('iteration {}'.format(iteration))\n",
    "    if iteration > 3:\n",
    "        print('break loop')\n",
    "        break\n",
    "    cvp = np.random.choice(list(range(n_params)),\n",
    "                           size=int(n_params / 1),\n",
    "                           replace=False)\n",
    "    cv_params_ = [cv_params[i] for i in cvp]\n",
    "\n",
    "    #n_splits = int(2 * YEAR / test_length)\n",
    "    print(f'Lookahead: {lookahead:2.0f} | n_splits: {n_splits:3.0f} | '\n",
    "          f'Params: {len(cv_params_):3.0f} | Train configs: {len(test_params)}')\n",
    "\n",
    "    #cv = MultipleTimeSeriesCV(n_splits=n_splits,\n",
    "    #                          lookahead=lookahead,\n",
    "    #                          test_period_length=test_length,\n",
    "    #                          train_period_length=train_length)\n",
    "\n",
    "    label = label_dict[lookahead]\n",
    "    outcome_data = data.loc[:, features + [label]].dropna()\n",
    "    cat_cols_idx = [outcome_data.columns.get_loc(c) for c in categoricals]\n",
    "    catboost_data = Pool(label=outcome_data[label],\n",
    "                         data=outcome_data.drop(label, axis=1),\n",
    "                         cat_features=cat_cols_idx)\n",
    "    predictions, metrics, feature_importance, daily_ic = [], [], [], []\n",
    "    key = f'{lookahead}/{n_splits}'\n",
    "    T = 0\n",
    "\n",
    "    inner_iteration = 0\n",
    "    for p, param_vals in enumerate(cv_params_):\n",
    "        inner_iteration += 1\n",
    "        print('iteration {}'.format(inner_iteration))\n",
    "        if inner_iteration > 3:\n",
    "            print('break loop')\n",
    "            break\n",
    "        params = dict(zip(param_names, param_vals))\n",
    "        # uncomment if running with GPU\n",
    "        params['task_type'] = 'GPU'\n",
    "\n",
    "        start = time()\n",
    "        cv_preds, nrounds = [], []\n",
    "        ic_cv = defaultdict(list)\n",
    "\n",
    "        cv = CombPurgedKFoldCV(n_splits=n_splits)\n",
    "        # compute lookahead\n",
    "        pred_times = pd.Series(index=outcome_data.index,\n",
    "                           data=outcome_data.index.get_level_values('date') + datetime.timedelta(hours=lookahead))\n",
    "        eval_times = pd.Series(index=outcome_data.index,\n",
    "                           data=outcome_data.index.get_level_values('date') + datetime.timedelta(hours=lookahead))\n",
    "\n",
    "\n",
    "        for i, (train_idx, test_idx) in enumerate(cv.split(X=outcome_data, pred_times=pred_times, eval_times=eval_times)):\n",
    "            train_set = catboost_data.slice(train_idx.tolist())\n",
    "\n",
    "            model = CatBoostRegressor(**params)\n",
    "            model.fit(X=train_set,\n",
    "                      verbose_eval=False)\n",
    "\n",
    "            test_set = outcome_data.iloc[test_idx, :]\n",
    "            X_test = test_set.loc[:, model.feature_names_]\n",
    "            y_test = test_set.loc[:, label]\n",
    "            y_pred = {str(n): model.predict(X_test, ntree_end=n)\n",
    "                      for n in num_iterations}\n",
    "            cv_preds.append(y_test.to_frame(\n",
    "                'y_test').assign(**y_pred).assign(i=i))\n",
    "\n",
    "        cv_preds = pd.concat(cv_preds).assign(**params)\n",
    "        predictions.append(cv_preds)\n",
    "        by_day = cv_preds.groupby(level='date')\n",
    "        ic_by_day = pd.concat([by_day.apply(lambda x: spearmanr(x.y_test, x[str(n)])[0]).to_frame(n)\n",
    "                               for n in num_iterations], axis=1)\n",
    "        daily_ic_mean = ic_by_day.mean()\n",
    "        daily_ic_mean_n = daily_ic_mean.idxmax()\n",
    "        daily_ic_median = ic_by_day.median()\n",
    "        daily_ic_median_n = daily_ic_median.idxmax()\n",
    "\n",
    "        ic = [spearmanr(cv_preds.y_test, cv_preds[str(n)])[0]\n",
    "              for n in num_iterations]\n",
    "        t = time() - start\n",
    "        T += t\n",
    "        metrics = pd.Series(list(param_vals) +\n",
    "                            [t, daily_ic_mean.max(), daily_ic_mean_n,\n",
    "                             daily_ic_median.max(), daily_ic_median_n] + ic,\n",
    "                            index=metric_cols)\n",
    "        print('metrics: \\n{}'.format(metrics))\n",
    "\n",
    "        msg = f'{p:3.0f} | {format_time(T)} ({t:3.0f}) | {params[\"max_depth\"]:3.0f} | {params[\"min_child_samples\"]:4.0f} | '\n",
    "        msg += f' {max(ic):6.2%} | {ic_by_day.mean().max(): 6.2%} | {daily_ic_mean_n: 4.0f} | {ic_by_day.median().max(): 6.2%} | {daily_ic_median_n: 4.0f}'\n",
    "        print(msg)\n",
    "        metrics.to_hdf(cb_store, 'metrics/' + key)\n",
    "        ic_by_day.assign(**params).to_hdf(cb_store, 'daily_ic/' + key)\n",
    "        cv_preds.to_hdf(cb_store, 'predictions/' + key)"
   ]
  }
 ],
 "metadata": {
  "kernelspec": {
   "display_name": "Python 3",
   "language": "python",
   "name": "python3"
  },
  "language_info": {
   "codemirror_mode": {
    "name": "ipython",
    "version": 3
   },
   "file_extension": ".py",
   "mimetype": "text/x-python",
   "name": "python",
   "nbconvert_exporter": "python",
   "pygments_lexer": "ipython3",
   "version": "3.8.8"
  },
  "toc": {
   "base_numbering": 1,
   "nav_menu": {},
   "number_sections": true,
   "sideBar": true,
   "skip_h1_title": true,
   "title_cell": "Table of Contents",
   "title_sidebar": "Contents",
   "toc_cell": false,
   "toc_position": {
    "height": "calc(100% - 180px)",
    "left": "10px",
    "top": "150px",
    "width": "292.031px"
   },
   "toc_section_display": true,
   "toc_window_display": true
  }
 },
 "nbformat": 4,
 "nbformat_minor": 2
}