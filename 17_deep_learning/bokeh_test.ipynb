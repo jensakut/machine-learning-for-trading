{
 "cells": [
  {
   "cell_type": "code",
   "execution_count": null,
   "outputs": [],
   "source": [],
   "metadata": {
    "collapsed": false,
    "pycharm": {
     "name": "#%%\n"
    }
   }
  },
  {
   "cell_type": "code",
   "execution_count": null,
   "outputs": [],
   "source": [],
   "metadata": {
    "collapsed": false,
    "pycharm": {
     "name": "#%%\n"
    }
   }
  },
  {
   "cell_type": "markdown",
   "source": [
    "# Backtesting an ML strategy with Backtrader"
   ],
   "metadata": {
    "collapsed": false
   }
  },
  {
   "cell_type": "markdown",
   "source": [
    "## Imports & Settings"
   ],
   "metadata": {
    "collapsed": false
   }
  },
  {
   "cell_type": "code",
   "execution_count": 1,
   "outputs": [
    {
     "data": {
      "text/html": "\n    <div class=\"bk-root\">\n        <a href=\"https://bokeh.org\" target=\"_blank\" class=\"bk-logo bk-logo-small bk-logo-notebook\"></a>\n        <span id=\"1002\">Loading BokehJS ...</span>\n    </div>"
     },
     "metadata": {},
     "output_type": "display_data"
    },
    {
     "data": {
      "application/javascript": "\n(function(root) {\n  function now() {\n    return new Date();\n  }\n\n  var force = true;\n\n  if (typeof root._bokeh_onload_callbacks === \"undefined\" || force === true) {\n    root._bokeh_onload_callbacks = [];\n    root._bokeh_is_loading = undefined;\n  }\n\n  var JS_MIME_TYPE = 'application/javascript';\n  var HTML_MIME_TYPE = 'text/html';\n  var EXEC_MIME_TYPE = 'application/vnd.bokehjs_exec.v0+json';\n  var CLASS_NAME = 'output_bokeh rendered_html';\n\n  /**\n   * Render data to the DOM node\n   */\n  function render(props, node) {\n    var script = document.createElement(\"script\");\n    node.appendChild(script);\n  }\n\n  /**\n   * Handle when an output is cleared or removed\n   */\n  function handleClearOutput(event, handle) {\n    var cell = handle.cell;\n\n    var id = cell.output_area._bokeh_element_id;\n    var server_id = cell.output_area._bokeh_server_id;\n    // Clean up Bokeh references\n    if (id != null && id in Bokeh.index) {\n      Bokeh.index[id].model.document.clear();\n      delete Bokeh.index[id];\n    }\n\n    if (server_id !== undefined) {\n      // Clean up Bokeh references\n      var cmd = \"from bokeh.io.state import curstate; print(curstate().uuid_to_server['\" + server_id + \"'].get_sessions()[0].document.roots[0]._id)\";\n      cell.notebook.kernel.execute(cmd, {\n        iopub: {\n          output: function(msg) {\n            var id = msg.content.text.trim();\n            if (id in Bokeh.index) {\n              Bokeh.index[id].model.document.clear();\n              delete Bokeh.index[id];\n            }\n          }\n        }\n      });\n      // Destroy server and session\n      var cmd = \"import bokeh.io.notebook as ion; ion.destroy_server('\" + server_id + \"')\";\n      cell.notebook.kernel.execute(cmd);\n    }\n  }\n\n  /**\n   * Handle when a new output is added\n   */\n  function handleAddOutput(event, handle) {\n    var output_area = handle.output_area;\n    var output = handle.output;\n\n    // limit handleAddOutput to display_data with EXEC_MIME_TYPE content only\n    if ((output.output_type != \"display_data\") || (!Object.prototype.hasOwnProperty.call(output.data, EXEC_MIME_TYPE))) {\n      return\n    }\n\n    var toinsert = output_area.element.find(\".\" + CLASS_NAME.split(' ')[0]);\n\n    if (output.metadata[EXEC_MIME_TYPE][\"id\"] !== undefined) {\n      toinsert[toinsert.length - 1].firstChild.textContent = output.data[JS_MIME_TYPE];\n      // store reference to embed id on output_area\n      output_area._bokeh_element_id = output.metadata[EXEC_MIME_TYPE][\"id\"];\n    }\n    if (output.metadata[EXEC_MIME_TYPE][\"server_id\"] !== undefined) {\n      var bk_div = document.createElement(\"div\");\n      bk_div.innerHTML = output.data[HTML_MIME_TYPE];\n      var script_attrs = bk_div.children[0].attributes;\n      for (var i = 0; i < script_attrs.length; i++) {\n        toinsert[toinsert.length - 1].firstChild.setAttribute(script_attrs[i].name, script_attrs[i].value);\n        toinsert[toinsert.length - 1].firstChild.textContent = bk_div.children[0].textContent\n      }\n      // store reference to server id on output_area\n      output_area._bokeh_server_id = output.metadata[EXEC_MIME_TYPE][\"server_id\"];\n    }\n  }\n\n  function register_renderer(events, OutputArea) {\n\n    function append_mime(data, metadata, element) {\n      // create a DOM node to render to\n      var toinsert = this.create_output_subarea(\n        metadata,\n        CLASS_NAME,\n        EXEC_MIME_TYPE\n      );\n      this.keyboard_manager.register_events(toinsert);\n      // Render to node\n      var props = {data: data, metadata: metadata[EXEC_MIME_TYPE]};\n      render(props, toinsert[toinsert.length - 1]);\n      element.append(toinsert);\n      return toinsert\n    }\n\n    /* Handle when an output is cleared or removed */\n    events.on('clear_output.CodeCell', handleClearOutput);\n    events.on('delete.Cell', handleClearOutput);\n\n    /* Handle when a new output is added */\n    events.on('output_added.OutputArea', handleAddOutput);\n\n    /**\n     * Register the mime type and append_mime function with output_area\n     */\n    OutputArea.prototype.register_mime_type(EXEC_MIME_TYPE, append_mime, {\n      /* Is output safe? */\n      safe: true,\n      /* Index of renderer in `output_area.display_order` */\n      index: 0\n    });\n  }\n\n  // register the mime type if in Jupyter Notebook environment and previously unregistered\n  if (root.Jupyter !== undefined) {\n    var events = require('base/js/events');\n    var OutputArea = require('notebook/js/outputarea').OutputArea;\n\n    if (OutputArea.prototype.mime_types().indexOf(EXEC_MIME_TYPE) == -1) {\n      register_renderer(events, OutputArea);\n    }\n  }\n\n  \n  if (typeof (root._bokeh_timeout) === \"undefined\" || force === true) {\n    root._bokeh_timeout = Date.now() + 5000;\n    root._bokeh_failed_load = false;\n  }\n\n  var NB_LOAD_WARNING = {'data': {'text/html':\n     \"<div style='background-color: #fdd'>\\n\"+\n     \"<p>\\n\"+\n     \"BokehJS does not appear to have successfully loaded. If loading BokehJS from CDN, this \\n\"+\n     \"may be due to a slow or bad network connection. Possible fixes:\\n\"+\n     \"</p>\\n\"+\n     \"<ul>\\n\"+\n     \"<li>re-rerun `output_notebook()` to attempt to load from CDN again, or</li>\\n\"+\n     \"<li>use INLINE resources instead, as so:</li>\\n\"+\n     \"</ul>\\n\"+\n     \"<code>\\n\"+\n     \"from bokeh.resources import INLINE\\n\"+\n     \"output_notebook(resources=INLINE)\\n\"+\n     \"</code>\\n\"+\n     \"</div>\"}};\n\n  function display_loaded() {\n    var el = document.getElementById(\"1002\");\n    if (el != null) {\n      el.textContent = \"BokehJS is loading...\";\n    }\n    if (root.Bokeh !== undefined) {\n      if (el != null) {\n        el.textContent = \"BokehJS \" + root.Bokeh.version + \" successfully loaded.\";\n      }\n    } else if (Date.now() < root._bokeh_timeout) {\n      setTimeout(display_loaded, 100)\n    }\n  }\n\n\n  function run_callbacks() {\n    try {\n      root._bokeh_onload_callbacks.forEach(function(callback) {\n        if (callback != null)\n          callback();\n      });\n    } finally {\n      delete root._bokeh_onload_callbacks\n    }\n    console.debug(\"Bokeh: all callbacks have finished\");\n  }\n\n  function load_libs(css_urls, js_urls, callback) {\n    if (css_urls == null) css_urls = [];\n    if (js_urls == null) js_urls = [];\n\n    root._bokeh_onload_callbacks.push(callback);\n    if (root._bokeh_is_loading > 0) {\n      console.debug(\"Bokeh: BokehJS is being loaded, scheduling callback at\", now());\n      return null;\n    }\n    if (js_urls == null || js_urls.length === 0) {\n      run_callbacks();\n      return null;\n    }\n    console.debug(\"Bokeh: BokehJS not loaded, scheduling load and callback at\", now());\n    root._bokeh_is_loading = css_urls.length + js_urls.length;\n\n    function on_load() {\n      root._bokeh_is_loading--;\n      if (root._bokeh_is_loading === 0) {\n        console.debug(\"Bokeh: all BokehJS libraries/stylesheets loaded\");\n        run_callbacks()\n      }\n    }\n\n    function on_error(url) {\n      console.error(\"failed to load \" + url);\n    }\n\n    for (let i = 0; i < css_urls.length; i++) {\n      const url = css_urls[i];\n      const element = document.createElement(\"link\");\n      element.onload = on_load;\n      element.onerror = on_error.bind(null, url);\n      element.rel = \"stylesheet\";\n      element.type = \"text/css\";\n      element.href = url;\n      console.debug(\"Bokeh: injecting link tag for BokehJS stylesheet: \", url);\n      document.body.appendChild(element);\n    }\n\n    const hashes = {\"https://cdn.bokeh.org/bokeh/release/bokeh-2.3.1.min.js\": \"YF85VygJKMVnHE+lLv2AM93Vbstr0yo2TbIu5v8se5Rq3UQAUmcuh4aaJwNlpKwa\", \"https://cdn.bokeh.org/bokeh/release/bokeh-widgets-2.3.1.min.js\": \"KKuas3gevv3PvrlkyCMzffFeaMq5we/a2QsP5AUoS3mJ0jmaCL7jirFJN3GoE/lM\", \"https://cdn.bokeh.org/bokeh/release/bokeh-tables-2.3.1.min.js\": \"MK/uFc3YT18pkvvXRl66tTHjP0/dxoSH2e/eiNMFIguKlun2+WVqaPTWmUy/zvh4\"};\n\n    for (let i = 0; i < js_urls.length; i++) {\n      const url = js_urls[i];\n      const element = document.createElement('script');\n      element.onload = on_load;\n      element.onerror = on_error.bind(null, url);\n      element.async = false;\n      element.src = url;\n      if (url in hashes) {\n        element.crossOrigin = \"anonymous\";\n        element.integrity = \"sha384-\" + hashes[url];\n      }\n      console.debug(\"Bokeh: injecting script tag for BokehJS library: \", url);\n      document.head.appendChild(element);\n    }\n  };\n\n  function inject_raw_css(css) {\n    const element = document.createElement(\"style\");\n    element.appendChild(document.createTextNode(css));\n    document.body.appendChild(element);\n  }\n\n  \n  var js_urls = [\"https://cdn.bokeh.org/bokeh/release/bokeh-2.3.1.min.js\", \"https://cdn.bokeh.org/bokeh/release/bokeh-widgets-2.3.1.min.js\", \"https://cdn.bokeh.org/bokeh/release/bokeh-tables-2.3.1.min.js\"];\n  var css_urls = [];\n  \n\n  var inline_js = [\n    function(Bokeh) {\n      Bokeh.set_log_level(\"info\");\n    },\n    function(Bokeh) {\n    \n    \n    }\n  ];\n\n  function run_inline_js() {\n    \n    if (root.Bokeh !== undefined || force === true) {\n      \n    for (var i = 0; i < inline_js.length; i++) {\n      inline_js[i].call(root, root.Bokeh);\n    }\n    if (force === true) {\n        display_loaded();\n      }} else if (Date.now() < root._bokeh_timeout) {\n      setTimeout(run_inline_js, 100);\n    } else if (!root._bokeh_failed_load) {\n      console.log(\"Bokeh: BokehJS failed to load within specified timeout.\");\n      root._bokeh_failed_load = true;\n    } else if (force !== true) {\n      var cell = $(document.getElementById(\"1002\")).parents('.cell').data().cell;\n      cell.output_area.append_execute_result(NB_LOAD_WARNING)\n    }\n\n  }\n\n  if (root._bokeh_is_loading === 0) {\n    console.debug(\"Bokeh: BokehJS loaded, going straight to plotting\");\n    run_inline_js();\n  } else {\n    load_libs(css_urls, js_urls, function() {\n      console.debug(\"Bokeh: BokehJS plotting callback run at\", now());\n      run_inline_js();\n    });\n  }\n}(window));",
      "application/vnd.bokehjs_load.v0+json": "\n(function(root) {\n  function now() {\n    return new Date();\n  }\n\n  var force = true;\n\n  if (typeof root._bokeh_onload_callbacks === \"undefined\" || force === true) {\n    root._bokeh_onload_callbacks = [];\n    root._bokeh_is_loading = undefined;\n  }\n\n  \n\n  \n  if (typeof (root._bokeh_timeout) === \"undefined\" || force === true) {\n    root._bokeh_timeout = Date.now() + 5000;\n    root._bokeh_failed_load = false;\n  }\n\n  var NB_LOAD_WARNING = {'data': {'text/html':\n     \"<div style='background-color: #fdd'>\\n\"+\n     \"<p>\\n\"+\n     \"BokehJS does not appear to have successfully loaded. If loading BokehJS from CDN, this \\n\"+\n     \"may be due to a slow or bad network connection. Possible fixes:\\n\"+\n     \"</p>\\n\"+\n     \"<ul>\\n\"+\n     \"<li>re-rerun `output_notebook()` to attempt to load from CDN again, or</li>\\n\"+\n     \"<li>use INLINE resources instead, as so:</li>\\n\"+\n     \"</ul>\\n\"+\n     \"<code>\\n\"+\n     \"from bokeh.resources import INLINE\\n\"+\n     \"output_notebook(resources=INLINE)\\n\"+\n     \"</code>\\n\"+\n     \"</div>\"}};\n\n  function display_loaded() {\n    var el = document.getElementById(\"1002\");\n    if (el != null) {\n      el.textContent = \"BokehJS is loading...\";\n    }\n    if (root.Bokeh !== undefined) {\n      if (el != null) {\n        el.textContent = \"BokehJS \" + root.Bokeh.version + \" successfully loaded.\";\n      }\n    } else if (Date.now() < root._bokeh_timeout) {\n      setTimeout(display_loaded, 100)\n    }\n  }\n\n\n  function run_callbacks() {\n    try {\n      root._bokeh_onload_callbacks.forEach(function(callback) {\n        if (callback != null)\n          callback();\n      });\n    } finally {\n      delete root._bokeh_onload_callbacks\n    }\n    console.debug(\"Bokeh: all callbacks have finished\");\n  }\n\n  function load_libs(css_urls, js_urls, callback) {\n    if (css_urls == null) css_urls = [];\n    if (js_urls == null) js_urls = [];\n\n    root._bokeh_onload_callbacks.push(callback);\n    if (root._bokeh_is_loading > 0) {\n      console.debug(\"Bokeh: BokehJS is being loaded, scheduling callback at\", now());\n      return null;\n    }\n    if (js_urls == null || js_urls.length === 0) {\n      run_callbacks();\n      return null;\n    }\n    console.debug(\"Bokeh: BokehJS not loaded, scheduling load and callback at\", now());\n    root._bokeh_is_loading = css_urls.length + js_urls.length;\n\n    function on_load() {\n      root._bokeh_is_loading--;\n      if (root._bokeh_is_loading === 0) {\n        console.debug(\"Bokeh: all BokehJS libraries/stylesheets loaded\");\n        run_callbacks()\n      }\n    }\n\n    function on_error(url) {\n      console.error(\"failed to load \" + url);\n    }\n\n    for (let i = 0; i < css_urls.length; i++) {\n      const url = css_urls[i];\n      const element = document.createElement(\"link\");\n      element.onload = on_load;\n      element.onerror = on_error.bind(null, url);\n      element.rel = \"stylesheet\";\n      element.type = \"text/css\";\n      element.href = url;\n      console.debug(\"Bokeh: injecting link tag for BokehJS stylesheet: \", url);\n      document.body.appendChild(element);\n    }\n\n    const hashes = {\"https://cdn.bokeh.org/bokeh/release/bokeh-2.3.1.min.js\": \"YF85VygJKMVnHE+lLv2AM93Vbstr0yo2TbIu5v8se5Rq3UQAUmcuh4aaJwNlpKwa\", \"https://cdn.bokeh.org/bokeh/release/bokeh-widgets-2.3.1.min.js\": \"KKuas3gevv3PvrlkyCMzffFeaMq5we/a2QsP5AUoS3mJ0jmaCL7jirFJN3GoE/lM\", \"https://cdn.bokeh.org/bokeh/release/bokeh-tables-2.3.1.min.js\": \"MK/uFc3YT18pkvvXRl66tTHjP0/dxoSH2e/eiNMFIguKlun2+WVqaPTWmUy/zvh4\"};\n\n    for (let i = 0; i < js_urls.length; i++) {\n      const url = js_urls[i];\n      const element = document.createElement('script');\n      element.onload = on_load;\n      element.onerror = on_error.bind(null, url);\n      element.async = false;\n      element.src = url;\n      if (url in hashes) {\n        element.crossOrigin = \"anonymous\";\n        element.integrity = \"sha384-\" + hashes[url];\n      }\n      console.debug(\"Bokeh: injecting script tag for BokehJS library: \", url);\n      document.head.appendChild(element);\n    }\n  };\n\n  function inject_raw_css(css) {\n    const element = document.createElement(\"style\");\n    element.appendChild(document.createTextNode(css));\n    document.body.appendChild(element);\n  }\n\n  \n  var js_urls = [\"https://cdn.bokeh.org/bokeh/release/bokeh-2.3.1.min.js\", \"https://cdn.bokeh.org/bokeh/release/bokeh-widgets-2.3.1.min.js\", \"https://cdn.bokeh.org/bokeh/release/bokeh-tables-2.3.1.min.js\"];\n  var css_urls = [];\n  \n\n  var inline_js = [\n    function(Bokeh) {\n      Bokeh.set_log_level(\"info\");\n    },\n    function(Bokeh) {\n    \n    \n    }\n  ];\n\n  function run_inline_js() {\n    \n    if (root.Bokeh !== undefined || force === true) {\n      \n    for (var i = 0; i < inline_js.length; i++) {\n      inline_js[i].call(root, root.Bokeh);\n    }\n    if (force === true) {\n        display_loaded();\n      }} else if (Date.now() < root._bokeh_timeout) {\n      setTimeout(run_inline_js, 100);\n    } else if (!root._bokeh_failed_load) {\n      console.log(\"Bokeh: BokehJS failed to load within specified timeout.\");\n      root._bokeh_failed_load = true;\n    } else if (force !== true) {\n      var cell = $(document.getElementById(\"1002\")).parents('.cell').data().cell;\n      cell.output_area.append_execute_result(NB_LOAD_WARNING)\n    }\n\n  }\n\n  if (root._bokeh_is_loading === 0) {\n    console.debug(\"Bokeh: BokehJS loaded, going straight to plotting\");\n    run_inline_js();\n  } else {\n    load_libs(css_urls, js_urls, function() {\n      console.debug(\"Bokeh: BokehJS plotting callback run at\", now());\n      run_inline_js();\n    });\n  }\n}(window));"
     },
     "metadata": {},
     "output_type": "display_data"
    }
   ],
   "source": [
    "import warnings\n",
    "import datetime\n",
    "\n",
    "from backtrader_plotting import Bokeh, OptBrowser\n",
    "from tqdm import tqdm\n",
    "\n",
    "warnings.filterwarnings('ignore')"
   ],
   "metadata": {
    "collapsed": false,
    "pycharm": {
     "name": "#%%\n"
    }
   }
  },
  {
   "cell_type": "code",
   "execution_count": 2,
   "outputs": [],
   "source": [
    "# %matplotlib inline\n",
    "\n",
    "from pathlib import Path\n",
    "import csv\n",
    "from time import time\n",
    "import numpy as np\n",
    "import pandas as pd\n",
    "import pandas_datareader.data as web\n",
    "import matplotlib.pyplot as plt\n",
    "import seaborn as sns\n",
    "\n",
    "import backtrader as bt\n",
    "from backtrader.feeds import PandasData\n",
    "\n",
    "import pyfolio as pf\n"
   ],
   "metadata": {
    "collapsed": false,
    "pycharm": {
     "name": "#%%\n"
    }
   }
  },
  {
   "cell_type": "code",
   "execution_count": 3,
   "outputs": [],
   "source": [
    "pd.set_option('display.expand_frame_repr', False)\n",
    "np.random.seed(42)\n",
    "sns.set_style('darkgrid')"
   ],
   "metadata": {
    "collapsed": false,
    "pycharm": {
     "name": "#%%\n"
    }
   }
  },
  {
   "cell_type": "code",
   "execution_count": 4,
   "outputs": [],
   "source": [
    "def format_time(t):\n",
    "    m_, s = divmod(t, 60)\n",
    "    h, m = divmod(m_, 60)\n",
    "    return f'{h:>02.0f}:{m:>02.0f}:{s:>02.0f}'"
   ],
   "metadata": {
    "collapsed": false,
    "pycharm": {
     "name": "#%%\n"
    }
   }
  },
  {
   "cell_type": "markdown",
   "source": [
    "## Backtrader Setup"
   ],
   "metadata": {
    "collapsed": false
   }
  },
  {
   "cell_type": "markdown",
   "source": [
    "### Custom Commission Scheme"
   ],
   "metadata": {
    "collapsed": false
   }
  },
  {
   "cell_type": "code",
   "execution_count": 5,
   "outputs": [],
   "source": [
    "# https://www.backtrader.com/blog/posts/2019-08-29-fractional-sizes/fractional-sizes/\n",
    "# https://medium.com/@gk_/crypto-quant-programmatic-trading-of-btc-using-binance-and-backtrader-part-2-of-3-d8af44c93e2b\n",
    "class CommInfoFractional(bt.CommissionInfo):\n",
    "    params = dict(stocklike=True,\n",
    "                  commission=.0075,\n",
    "                  commtype = bt.CommInfoBase.COMM_PERC)# No margin, no multiplier\n",
    "    def getsize(self, price, cash):\n",
    "        '''Returns fractional size for cash operation @price'''\n",
    "        return self.p.leverage * (cash / price)\n"
   ],
   "metadata": {
    "collapsed": false,
    "pycharm": {
     "name": "#%%\n"
    }
   }
  },
  {
   "cell_type": "markdown",
   "source": [
    "### DataFrame Loader\n",
    "\n",
    "\n",
    "class SignalData(PandasData):\n",
    "    \"\"\"\n",
    "    Define pandas DataFrame structure\n",
    "    \"\"\"\n",
    "    OHLCV = ['open', 'high', 'low', 'close', 'volume']\n",
    "    cols = OHLCV + ['predicted']\n",
    "\n",
    "    # create linesReceives a timer notification where timer is the timer which was returned by add_timer, and when is the calling time. args and kwargs are any additional arguments passed to add_timer\n",
    "    lines = tuple(cols)\n",
    "\n",
    "    # define parameters\n",
    "    params = {c: -1 for c in cols}\n",
    "    params.update({'datetime': None})\n",
    "    params = tuple(params.items())"
   ],
   "metadata": {
    "collapsed": false
   }
  },
  {
   "cell_type": "markdown",
   "source": [
    "### Create and Configure Cerebro Instance"
   ],
   "metadata": {
    "collapsed": false
   }
  },
  {
   "cell_type": "code",
   "execution_count": 5,
   "outputs": [],
   "source": [],
   "metadata": {
    "collapsed": false,
    "pycharm": {
     "name": "#%%\n"
    }
   }
  },
  {
   "cell_type": "markdown",
   "source": [
    "### Add input data\n"
   ],
   "metadata": {
    "collapsed": false
   }
  },
  {
   "cell_type": "code",
   "execution_count": 6,
   "outputs": [],
   "source": [
    "def get_eval_data(results_path = 'results_D_144_ncut_1yrs/', offset=0):\n",
    "    factors = (pd.read_feather(results_path +'test_preds.ftr').set_index(['date', 'offset', 'ticker'])\n",
    "                   .loc[:, :'# 3']\n",
    "                   .mean(1)\n",
    "                   .to_frame('predicted')\n",
    "                    .sort_index())\n",
    "\n",
    "    idx = pd.IndexSlice\n",
    "    factors = (factors.loc[idx[:, offset, :], :].reset_index('offset', drop=True))\n",
    "\n",
    "    tickers = factors.index.get_level_values('ticker').unique()\n",
    "    start_date = factors.index.get_level_values('date').min()\n",
    "    end_date = factors.index.get_level_values('date').max()\n",
    "    print(f'from {start_date} to {end_date}')\n",
    "    factors = (factors\n",
    "          .dropna(how='all')\n",
    "          .sort_index().tz_localize('UTC', level='date'))\n",
    "\n",
    "\n",
    "    prices = pd.read_feather(results_path + 'prices.ftr').set_index(['date', 'offset', 'ticker'])\n",
    "    prices = (prices.reorder_levels(['ticker', 'offset', 'date']).sort_index())\n",
    "\n",
    "    idx = pd.IndexSlice\n",
    "    prices = (prices.loc[idx[tickers, offset, start_date:end_date], :])\n",
    "\n",
    "    prices.reset_index('offset', drop=True, inplace=True)\n",
    "    prices = (prices.sort_index().tz_localize('UTC', level='date'))\n",
    "    return prices, factors\n",
    "\n",
    "\n"
   ],
   "metadata": {
    "collapsed": false,
    "pycharm": {
     "name": "#%%\n"
    }
   }
  },
  {
   "cell_type": "code",
   "execution_count": 7,
   "outputs": [
    {
     "data": {
      "text/plain": "'\\ndef get_backtest_data():\\n    \" \"\"Combine neural network predictions\\n        with adjusted OHLCV Quandl Wiki data\" \"\"\\n    print(\"loading prices...\")\\n    prices, _, _ = data_cacher(timeframe=\\'5Min\\',\\n                                        data_store=\\'../data/crypto.h5\\',\\n                                        min_observation_years=2,\\n                                        drop_level=True,\\n                                        exclude_stablecoins=True,\\n                                        cut=True,\\n                                        downsampleshift=False,\\n                                        d_shift=5)\\n    print(prices.info())\\n    print(\"loading predictions...\")\\n    predictions = (pd.read_hdf(\\'results_5min_2yrs_nocut_v3/test_preds.h5\\', \\'predictions\\')\\n                   .iloc[:, :3]\\n                   .mean(1)\\n                   .to_frame(\\'predicted\\'))\\n    print(\\'prediction dates {}:{}\\'.format(predictions.index.get_level_values(\\'date\\').min(),\\n                                     predictions.index.get_level_values(\\'date\\').max()))\\n    #\\n    start = predictions.index.get_level_values(\\'date\\').min().strftime(\\'%Y-%m-%d\\')\\n    stop = (predictions.index.get_level_values(\\'date\\').max() + pd.DateOffset(1)).strftime(\\'%Y-%m-%d\\')\\n    print(f\\'predictions start {start} and stop {stop}\\')\\n    data = predictions.join(prices, how=\\'inner\\')\\n    data.sort_index(inplace=True)\\n    data.dropna(inplace=True)\\n    #tickers = predictions.index.get_level_values(\\'ticker\\').unique()\\n    #idx = pd.IndexSlice\\n    #start2 = predictions.index.get_level_values(\\'date\\').min()\\n    #stop2 = predictions.index.get_level_values(\\'date\\').max()\\n    #prices = prices.loc[idx[start2:stop2, tickers], :]\\n    #data = predictions.join(prices)\\n    #data.sort_index(inplace=True)\\n    return data, prices\\n\\ndata, prices = get_backtest_data()\\n'"
     },
     "execution_count": 7,
     "metadata": {},
     "output_type": "execute_result"
    }
   ],
   "source": [
    "\"\"\"\n",
    "def get_backtest_data():\n",
    "    \" \"\"Combine neural network predictions\n",
    "        with adjusted OHLCV Quandl Wiki data\" \"\"\n",
    "    print(\"loading prices...\")\n",
    "    prices, _, _ = data_cacher(timeframe='5Min',\n",
    "                                        data_store='../data/crypto.h5',\n",
    "                                        min_observation_years=2,\n",
    "                                        drop_level=True,\n",
    "                                        exclude_stablecoins=True,\n",
    "                                        cut=True,\n",
    "                                        downsampleshift=False,\n",
    "                                        d_shift=5)\n",
    "    print(prices.info())\n",
    "    print(\"loading predictions...\")\n",
    "    predictions = (pd.read_hdf('results_5min_2yrs_nocut_v3/test_preds.h5', 'predictions')\n",
    "                   .iloc[:, :3]\n",
    "                   .mean(1)\n",
    "                   .to_frame('predicted'))\n",
    "    print('prediction dates {}:{}'.format(predictions.index.get_level_values('date').min(),\n",
    "                                     predictions.index.get_level_values('date').max()))\n",
    "    #\n",
    "    start = predictions.index.get_level_values('date').min().strftime('%Y-%m-%d')\n",
    "    stop = (predictions.index.get_level_values('date').max() + pd.DateOffset(1)).strftime('%Y-%m-%d')\n",
    "    print(f'predictions start {start} and stop {stop}')\n",
    "    data = predictions.join(prices, how='inner')\n",
    "    data.sort_index(inplace=True)\n",
    "    data.dropna(inplace=True)\n",
    "    #tickers = predictions.index.get_level_values('ticker').unique()\n",
    "    #idx = pd.IndexSlice\n",
    "    #start2 = predictions.index.get_level_values('date').min()\n",
    "    #stop2 = predictions.index.get_level_values('date').max()\n",
    "    #prices = prices.loc[idx[start2:stop2, tickers], :]\n",
    "    #data = predictions.join(prices)\n",
    "    #data.sort_index(inplace=True)\n",
    "    return data, prices\n",
    "\n",
    "data, prices = get_backtest_data()\n",
    "\"\"\"\n"
   ],
   "metadata": {
    "collapsed": false,
    "pycharm": {
     "name": "#%%\n"
    }
   }
  },
  {
   "cell_type": "code",
   "execution_count": 7,
   "outputs": [],
   "source": [
    "\n",
    "\n"
   ],
   "metadata": {
    "collapsed": false,
    "pycharm": {
     "name": "#%%\n"
    }
   }
  },
  {
   "cell_type": "code",
   "execution_count": 8,
   "outputs": [],
   "source": [
    "\n",
    "def bt_adddata(bt_cerebro, data):\n",
    "    print(\"loading data into cerebro \")\n",
    "\n",
    "    idx = pd.IndexSlice\n",
    "    tickers = data.index.get_level_values('ticker').unique()\n",
    "    benchmark_btc = None\n",
    "\n",
    "    for ticker in tqdm(tickers):\n",
    "        df = data.loc[idx[ticker, :], :].droplevel('ticker', axis=0)\n",
    "        df.index.name = 'datetime'\n",
    "        bt_data = SignalData(dataname=df)\n",
    "        bt_cerebro.adddata(bt_data, name=ticker)\n",
    "        if ticker == 'btc-usd':\n",
    "            benchmark_btc = df\n",
    "    return benchmark_btc\n",
    "\n",
    "\n",
    "\n",
    "\n",
    "\n"
   ],
   "metadata": {
    "collapsed": false,
    "pycharm": {
     "name": "#%%\n"
    }
   }
  },
  {
   "cell_type": "code",
   "execution_count": 8,
   "outputs": [],
   "source": [],
   "metadata": {
    "collapsed": false,
    "pycharm": {
     "name": "#%%\n"
    }
   }
  },
  {
   "cell_type": "markdown",
   "source": [
    "### Strategy"
   ],
   "metadata": {
    "collapsed": false
   }
  },
  {
   "cell_type": "markdown",
   "source": [
    "# Includes an option to only trade on certain weekdays in lines 39/40."
   ],
   "metadata": {
    "collapsed": false
   }
  },
  {
   "cell_type": "code",
   "execution_count": 9,
   "outputs": [],
   "source": [
    "class MLStrategy(bt.Strategy):\n",
    "    params = (('n_positions', 10),\n",
    "              ('min_positions', 5),\n",
    "              ('verbose', False),\n",
    "              ('log_file', 'backtest.csv'))\n",
    "\n",
    "    def log(self, txt, dt=None):\n",
    "        \"\"\" Logger for the strategy\"\"\"\n",
    "        dt = dt or self.datas[0].datetime.datetime(0)\n",
    "        with Path(self.p.log_file).open('a') as f:\n",
    "            log_writer = csv.writer(f)\n",
    "            log_writer.writerow([dt.isoformat()] + txt.split(','))\n",
    "\n",
    "    def notify_order(self, order):\n",
    "        if order.status in [order.Submitted, order.Accepted]:\n",
    "            return\n",
    "\n",
    "        # Check if an order has been completed\n",
    "        # broker could reject order if not enough cash\n",
    "        if self.p.verbose:\n",
    "            if order.status in [order.Completed]:\n",
    "                p = order.executed.price\n",
    "                if order.isbuy():\n",
    "                    self.log(f'{order.data._name},BUY executed,{p:.2f}')\n",
    "                elif order.issell():\n",
    "                    self.log(f'{order.data._name},SELL executed,{p:.2f}')\n",
    "\n",
    "            elif order.status in [order.Canceled, order.Margin, order.Rejected]:\n",
    "                self.log(f'{order.data._name},Order Canceled/Margin/Rejected')\n",
    "\n",
    "    # bt calls prenext instead of next unless\n",
    "    # all datafeeds have current values\n",
    "    # => call next to avoid duplicating logic\n",
    "    #def prenext(self):\n",
    "    #    self.next()\n",
    "\n",
    "    def next(self):\n",
    "        today = self.datas[0].datetime.date()\n",
    "#         if today.weekday() not in [0, 3]: # only trade on Mondays;\n",
    "#             return\n",
    "        positions = [d._name for d, pos in self.getpositions().items() if pos]\n",
    "        up, down = {}, {}\n",
    "        missing = not_missing = 0\n",
    "        for data in self.datas:\n",
    "            if data.datetime.date() == today:\n",
    "                if data.predicted[0] > 0:\n",
    "                    up[data._name] = data.predicted[0]\n",
    "                elif data.predicted[0] < 0:\n",
    "                    down[data._name] = data.predicted[0]\n",
    "\n",
    "        # sort dictionaries ascending/descending by value\n",
    "        # returns list of tuples\n",
    "        shorts = sorted(down, key=down.get)[:self.p.n_positions]\n",
    "        longs = sorted(up, key=up.get, reverse=True)[:self.p.n_positions]\n",
    "        n_shorts, n_longs = len(shorts), len(longs)\n",
    "\n",
    "        # only take positions if at least min_n longs and shorts\n",
    "        if n_shorts < self.p.min_positions or n_longs < self.p.min_positions:\n",
    "            longs, shorts = [], []\n",
    "        for ticker in positions:\n",
    "            if ticker not in longs + shorts:\n",
    "                self.order_target_percent(data=ticker, target=0)\n",
    "                self.log(f'{ticker},CLOSING ORDER CREATED')\n",
    "        short_target = -0.99 / max(self.p.n_positions, n_shorts)\n",
    "        long_target = 0.99 / max(self.p.n_positions, n_longs)\n",
    "        for ticker in shorts:\n",
    "            self.order_target_percent(data=ticker, target=short_target)\n",
    "            self.log('{ticker},SHORT ORDER CREATED')\n",
    "        for ticker in longs:\n",
    "            self.order_target_percent(data=ticker, target=long_target)\n",
    "            self.log('{ticker},LONG ORDER CREATED')\n"
   ],
   "metadata": {
    "collapsed": false,
    "pycharm": {
     "name": "#%%\n"
    }
   }
  },
  {
   "cell_type": "code",
   "execution_count": 10,
   "outputs": [],
   "source": [
    "class MLStrategy_relative(bt.Strategy):\n",
    "    params = (('n_positions', 0.2),\n",
    "              ('min_positions', 0.1),\n",
    "              ('verbose', False),\n",
    "              ('log_file', 'MLStrategy_relative.csv'))\n",
    "\n",
    "    def log(self, txt, dt=None):\n",
    "        \"\"\" Logger for the strategy\"\"\"\n",
    "        dt = dt or self.datas[0].datetime.datetime(0)\n",
    "        with Path(self.p.log_file).open('a') as f:\n",
    "            log_writer = csv.writer(f)\n",
    "            log_writer.writerow([dt.isoformat()] + txt.split(','))\n",
    "\n",
    "    def notify_order(self, order):\n",
    "        if order.status in [order.Submitted, order.Accepted]:\n",
    "            return\n",
    "\n",
    "        # Check if an order has been completed\n",
    "        # broker could reject order if not enough cash\n",
    "        if self.p.verbose:\n",
    "            if order.status in [order.Completed]:\n",
    "                p = order.executed.price\n",
    "                if order.isbuy():\n",
    "                    self.log(f'{order.data._name},BUY executed,{p:.2f}')\n",
    "                elif order.issell():\n",
    "                    self.log(f'{order.data._name},SELL executed,{p:.2f}')\n",
    "\n",
    "            elif order.status in [order.Canceled, order.Margin, order.Rejected]:\n",
    "                self.log(f'{order.data._name},Order Canceled/Margin/Rejected')\n",
    "\n",
    "    # bt calls prenext instead of next unless\n",
    "    # all datafeeds have current values\n",
    "    # => call next to avoid duplicating logic\n",
    "    def prenext(self):\n",
    "        self.next()\n",
    "\n",
    "    def next(self):\n",
    "        today = self.datas[0].datetime.date()\n",
    "#         if today.weekday() not in [0, 3]: # only trade on Mondays;\n",
    "#             return\n",
    "        positions = [d._name for d, pos in self.getpositions().items() if pos]\n",
    "        up, down = {}, {}\n",
    "        missing = not_missing = 0\n",
    "        for data in self.datas:\n",
    "            if data.datetime.date() == today:\n",
    "                if data.predicted[0] > 0:\n",
    "                    up[data._name] = data.predicted[0]\n",
    "                elif data.predicted[0] < 0:\n",
    "                    down[data._name] = data.predicted[0]\n",
    "\n",
    "        # get number of available tickers\n",
    "        n_available_tickers = len(self.datas)\n",
    "        self.log(f'{n_available_tickers} available on {today}')\n",
    "\n",
    "        # sort dictionaries ascending/descending by value\n",
    "        # returns list of tuples\n",
    "        shorts = sorted(down, key=down.get)[:self.p.n_positions]\n",
    "        longs = sorted(up, key=up.get, reverse=True)[:self.p.n_positions]\n",
    "        n_shorts, n_longs = len(shorts), len(longs)\n",
    "\n",
    "        # only take positions if at least min_n longs and shorts\n",
    "        if n_shorts < self.p.min_positions or n_longs < self.p.min_positions:\n",
    "            longs, shorts = [], []\n",
    "        for ticker in positions:\n",
    "            if ticker not in longs + shorts:\n",
    "                self.order_target_percent(data=ticker, target=0)\n",
    "                self.log(f'{ticker},CLOSING ORDER CREATED')\n",
    "        short_target = -0.999 / max(self.p.n_positions, n_shorts)\n",
    "        long_target = 0.999 / max(self.p.n_positions, n_longs)\n",
    "        for ticker in shorts:\n",
    "            self.order_target_percent(data=ticker, target=short_target)\n",
    "            self.log('{ticker},SHORT ORDER CREATED')\n",
    "        for ticker in longs:\n",
    "            self.order_target_percent(data=ticker, target=long_target)\n",
    "            self.log('{ticker},LONG ORDER CREATED')\n",
    "\n"
   ],
   "metadata": {
    "collapsed": false,
    "pycharm": {
     "name": "#%%\n"
    }
   }
  },
  {
   "cell_type": "code",
   "execution_count": 11,
   "outputs": [
    {
     "name": "stdout",
     "output_type": "stream",
     "text": [
      "from 2017-09-10 00:00:00 to 2021-06-20 00:00:00\n"
     ]
    },
    {
     "data": {
      "text/plain": "<Figure size 432x288 with 1 Axes>",
      "image/png": "[encoded data removed]"
     },
     "metadata": {},
     "output_type": "display_data"
    },
    {
     "data": {
      "text/plain": "<Figure size 432x288 with 1 Axes>",
      "image/png": "[encoded data removed]"
     },
     "metadata": {},
     "output_type": "display_data"
    },
    {
     "name": "stderr",
     "output_type": "stream",
     "text": [
      "  0%|          | 0/32 [00:00<?, ?it/s]"
     ]
    },
    {
     "name": "stdout",
     "output_type": "stream",
     "text": [
      "loading data into cerebro \n"
     ]
    },
    {
     "name": "stderr",
     "output_type": "stream",
     "text": [
      "\n"
     ]
    },
    {
     "ename": "NameError",
     "evalue": "name 'SignalData' is not defined",
     "output_type": "error",
     "traceback": [
      "\u001B[0;31m---------------------------------------------------------------------------\u001B[0m",
      "\u001B[0;31mNameError\u001B[0m                                 Traceback (most recent call last)",
      "\u001B[0;32m<ipython-input-11-02b611ce07dc>\u001B[0m in \u001B[0;36m<module>\u001B[0;34m\u001B[0m\n\u001B[1;32m    155\u001B[0m \u001B[0;34m\u001B[0m\u001B[0m\n\u001B[1;32m    156\u001B[0m \u001B[0;32mif\u001B[0m \u001B[0m__name__\u001B[0m \u001B[0;34m==\u001B[0m \u001B[0;34m\"__main__\"\u001B[0m\u001B[0;34m:\u001B[0m\u001B[0;34m\u001B[0m\u001B[0;34m\u001B[0m\u001B[0m\n\u001B[0;32m--> 157\u001B[0;31m     \u001B[0mmain\u001B[0m\u001B[0;34m(\u001B[0m\u001B[0;34m)\u001B[0m\u001B[0;34m\u001B[0m\u001B[0;34m\u001B[0m\u001B[0m\n\u001B[0m\u001B[1;32m    158\u001B[0m \u001B[0;34m\u001B[0m\u001B[0m\n\u001B[1;32m    159\u001B[0m \u001B[0;34m\u001B[0m\u001B[0m\n",
      "\u001B[0;32m<ipython-input-11-02b611ce07dc>\u001B[0m in \u001B[0;36mmain\u001B[0;34m()\u001B[0m\n\u001B[1;32m     18\u001B[0m     \u001B[0mplt\u001B[0m\u001B[0;34m.\u001B[0m\u001B[0mshow\u001B[0m\u001B[0;34m(\u001B[0m\u001B[0;34m)\u001B[0m\u001B[0;34m\u001B[0m\u001B[0;34m\u001B[0m\u001B[0m\n\u001B[1;32m     19\u001B[0m     \u001B[0;31m# load data into cerebro\u001B[0m\u001B[0;34m\u001B[0m\u001B[0;34m\u001B[0m\u001B[0;34m\u001B[0m\u001B[0m\n\u001B[0;32m---> 20\u001B[0;31m     \u001B[0mbenchmark_btc\u001B[0m \u001B[0;34m=\u001B[0m \u001B[0mbt_adddata\u001B[0m\u001B[0;34m(\u001B[0m\u001B[0mbt_cerebro\u001B[0m\u001B[0;34m=\u001B[0m\u001B[0mcerebro\u001B[0m\u001B[0;34m,\u001B[0m \u001B[0mdata\u001B[0m\u001B[0;34m=\u001B[0m\u001B[0mdata\u001B[0m\u001B[0;34m.\u001B[0m\u001B[0mswaplevel\u001B[0m\u001B[0;34m(\u001B[0m\u001B[0;34m)\u001B[0m\u001B[0;34m)\u001B[0m\u001B[0;34m\u001B[0m\u001B[0;34m\u001B[0m\u001B[0m\n\u001B[0m\u001B[1;32m     21\u001B[0m \u001B[0;34m\u001B[0m\u001B[0m\n\u001B[1;32m     22\u001B[0m     \u001B[0msave_memory\u001B[0m \u001B[0;34m=\u001B[0m \u001B[0;32mTrue\u001B[0m\u001B[0;34m\u001B[0m\u001B[0;34m\u001B[0m\u001B[0m\n",
      "\u001B[0;32m<ipython-input-8-a56ec2ae75d0>\u001B[0m in \u001B[0;36mbt_adddata\u001B[0;34m(bt_cerebro, data)\u001B[0m\n\u001B[1;32m      9\u001B[0m         \u001B[0mdf\u001B[0m \u001B[0;34m=\u001B[0m \u001B[0mdata\u001B[0m\u001B[0;34m.\u001B[0m\u001B[0mloc\u001B[0m\u001B[0;34m[\u001B[0m\u001B[0midx\u001B[0m\u001B[0;34m[\u001B[0m\u001B[0mticker\u001B[0m\u001B[0;34m,\u001B[0m \u001B[0;34m:\u001B[0m\u001B[0;34m]\u001B[0m\u001B[0;34m,\u001B[0m \u001B[0;34m:\u001B[0m\u001B[0;34m]\u001B[0m\u001B[0;34m.\u001B[0m\u001B[0mdroplevel\u001B[0m\u001B[0;34m(\u001B[0m\u001B[0;34m'ticker'\u001B[0m\u001B[0;34m,\u001B[0m \u001B[0maxis\u001B[0m\u001B[0;34m=\u001B[0m\u001B[0;36m0\u001B[0m\u001B[0;34m)\u001B[0m\u001B[0;34m\u001B[0m\u001B[0;34m\u001B[0m\u001B[0m\n\u001B[1;32m     10\u001B[0m         \u001B[0mdf\u001B[0m\u001B[0;34m.\u001B[0m\u001B[0mindex\u001B[0m\u001B[0;34m.\u001B[0m\u001B[0mname\u001B[0m \u001B[0;34m=\u001B[0m \u001B[0;34m'datetime'\u001B[0m\u001B[0;34m\u001B[0m\u001B[0;34m\u001B[0m\u001B[0m\n\u001B[0;32m---> 11\u001B[0;31m         \u001B[0mbt_data\u001B[0m \u001B[0;34m=\u001B[0m \u001B[0mSignalData\u001B[0m\u001B[0;34m(\u001B[0m\u001B[0mdataname\u001B[0m\u001B[0;34m=\u001B[0m\u001B[0mdf\u001B[0m\u001B[0;34m)\u001B[0m\u001B[0;34m\u001B[0m\u001B[0;34m\u001B[0m\u001B[0m\n\u001B[0m\u001B[1;32m     12\u001B[0m         \u001B[0mbt_cerebro\u001B[0m\u001B[0;34m.\u001B[0m\u001B[0madddata\u001B[0m\u001B[0;34m(\u001B[0m\u001B[0mbt_data\u001B[0m\u001B[0;34m,\u001B[0m \u001B[0mname\u001B[0m\u001B[0;34m=\u001B[0m\u001B[0mticker\u001B[0m\u001B[0;34m)\u001B[0m\u001B[0;34m\u001B[0m\u001B[0;34m\u001B[0m\u001B[0m\n\u001B[1;32m     13\u001B[0m         \u001B[0;32mif\u001B[0m \u001B[0mticker\u001B[0m \u001B[0;34m==\u001B[0m \u001B[0;34m'btc-usd'\u001B[0m\u001B[0;34m:\u001B[0m\u001B[0;34m\u001B[0m\u001B[0;34m\u001B[0m\u001B[0m\n",
      "\u001B[0;31mNameError\u001B[0m: name 'SignalData' is not defined"
     ]
    }
   ],
   "source": [
    "def main():\n",
    "\n",
    "    cerebro = bt.Cerebro()  # create a \"Cerebro\" instance\n",
    "    cash = 10000\n",
    "\n",
    "    cerebro.broker.addcommissioninfo(CommInfoFractional())\n",
    "    cerebro.broker.setcash(cash)\n",
    "\n",
    "    ## get data from disk\n",
    "    prices, factors = get_eval_data()\n",
    "    data = factors.join(prices)\n",
    "\n",
    "    # data.head()\n",
    "    counts_df = data.groupby('date').count()\n",
    "    counts_df.plot()\n",
    "    plt.show()\n",
    "    data.groupby('ticker').count().plot()\n",
    "    plt.show()\n",
    "    # load data into cerebro\n",
    "    benchmark_btc = bt_adddata(bt_cerebro=cerebro, data=data.swaplevel())\n",
    "\n",
    "    save_memory = True\n",
    "    if save_memory:\n",
    "        data = None\n",
    "        prices = None\n",
    "        factors = None\n",
    "\n",
    "    ### Configure Strategy Backtest\n",
    "\n",
    "    cerebro.addanalyzer(bt.analyzers.PyFolio, _name='pyfolio')\n",
    "    cerebro.addanalyzer(bt.analyzers.SQN, _name='sqn')\n",
    "    #cerebro.addanalyzer(bt.analyzers.Transactions, _name='transactions')\n",
    "\n",
    "    n_positions = [30, 32]\n",
    "    min_positions = [1,]\n",
    "\n",
    "    print(\"start backtest\")\n",
    "\n",
    "    cerebro.optstrategy(MLStrategy_relative, verbose=True,\n",
    "                        min_positions=min_positions,\n",
    "                        n_positions=n_positions)\n",
    "\n",
    "    start = time()\n",
    "\n",
    "    results = cerebro.run(stdstats=False, optreturn=False)\n",
    "    # ending_value = cerebro.broker.getvalue()\n",
    "    print(f'Duration: {format_time(time() - start)}')\n",
    "\n",
    "    #figure = cerebro.plot(iplot=True, volume=False)[0][0]\n",
    "\n",
    "    # plotting cerebro requires\n",
    "    # pip uninstall backtrader\n",
    "    # pip install git+https://github.com/mementum/backtrader.git@0fa63ef4a35dc53cc7320813f8b15480c8f85517#egg=backtrader\n",
    "    # https://stackoverflow.com/questions/63471764/importerror-cannot-import-name-warnings-from-matplotlib-dates\n",
    "    #plot = True\n",
    "    #if plot:\n",
    "        #cerebro.plot()  # plot the results\n",
    "        #figure = cerebro.plot(start=datetime.date(2018, 1, 1),\n",
    "        #                      end=datetime.date(2019, 1, 1), iplot=False)\n",
    "        #figure.savefig(f'backtrader2.svg')\n",
    "        #figure.show()\n",
    "\n",
    "        #cerebro.plot()  # plot the results\n",
    "        #figure = cerebro.plot(start=datetime.date(2017, 9, 10),\n",
    "        #                        end=datetime.date(2019, 1, 1))[0][0]\n",
    "        #figure.savefig(f'cerebro_plot.svg')\n",
    "\n",
    "\n",
    "\n",
    "    results_kpis = []\n",
    "    for result in results:\n",
    "        sqn_dict = result[0].analyzers.getbyname('sqn').get_analysis()\n",
    "        assert sqn_dict['trades'] > 30\n",
    "        results_kpis.append(\n",
    "                    [sqn_dict['sqn'],\n",
    "                    round(result[0].broker.getvalue()),\n",
    "                    result[0].p.min_positions,\n",
    "                    result[0].p.n_positions,\n",
    "                    result[0]])\n",
    "\n",
    "    results_kpis.sort(reverse=True)\n",
    "\n",
    "    best_strategy = results_kpis[0][4]\n",
    "\n",
    "    results_kpis_df = pd.DataFrame(data=[sublist[:4] for sublist in results_kpis],\n",
    "                                   columns=['sqn','value','par min_positions','par n_positions'])\n",
    "    results_kpis_df.head(10)\n",
    "\n",
    "    fig, ax = plt.subplots(ncols=1, figsize=(6, 6))\n",
    "\n",
    "    sns.scatterplot(x=\"par min_positions\", y=\"par n_positions\",\n",
    "                    size=\"value\", hue=\"sqn\", linewidth=0,\n",
    "                    data=results_kpis_df, ax=ax)\n",
    "\n",
    "    # prepare pyfolio data from analyzer\n",
    "    pyfolio_analyzer = best_strategy.analyzers.getbyname('pyfolio')\n",
    "    returns, positions, transactions, gross_lev = pyfolio_analyzer.get_pf_items()\n",
    "\n",
    "    # results[0][0].analyzers.getbyname('tradeanalyzer').print()\n",
    "\n",
    "\n",
    "    transactions.head(10)\n",
    "\n",
    "    \"\"\"\n",
    "    benchmark = web.DataReader('SP500', 'fred', '2017', '2022').squeeze()\n",
    "    benchmark = benchmark.resample('D')\n",
    "    benchmark = benchmark.ffill()\n",
    "    benchmark = benchmark.dropna()\n",
    "    benchmark = benchmark.pct_change().tz_localize('UTC')\n",
    "    benchmark\n",
    "    \"\"\"\n",
    "\n",
    "    benchmark_btc2 = benchmark_btc['close'].pct_change().rename('btc/usd-benchmark')\n",
    "\n",
    "    fig, axes = plt.subplots(ncols=2, figsize=(15, 5))\n",
    "    log_axs=1\n",
    "    if log_axs:\n",
    "        axes[0].set_yscale('log')\n",
    "        axes[1].set_yscale('log')\n",
    "        benchmark_btc2.add(1).cumprod().plot(ax=axes[0], title='Cumulative Return', label=\"benchmark btc-usd\")\n",
    "        returns.add(1).cumprod().plot(ax=axes[0], title='Cumulative Return', label='strategy')\n",
    "    else:\n",
    "        benchmark_btc2.add(1).cumprod().sub(1).plot(ax=axes[0], title='Cumulative Return', label=\"benchmark btc-usd\")\n",
    "        returns.add(1).cumprod().sub(1).plot(ax=axes[0], title='Cumulative Return', label='strategy')\n",
    "    axes[0].legend()\n",
    "    daily_tx = transactions.groupby(level=0)\n",
    "    longs = daily_tx.value.apply(lambda x: x.where(x>0).sum())\n",
    "    shorts = daily_tx.value.apply(lambda x: x.where(x<0).sum())\n",
    "    longs.plot(label='Long', ax=axes[1], title='Positions')\n",
    "    shorts.plot(ax=axes[1], label='Short')\n",
    "    positions.cash.plot(ax=axes[1], label='PF Value')\n",
    "    axes[1].legend()\n",
    "    sns.despine()\n",
    "    fig.tight_layout()\n",
    "\n",
    "    # prepare pyfolio inputs\n",
    "\n",
    "    returns.to_hdf('backtrader.h5', 'returns')\n",
    "    positions.to_hdf('backtrader.h5', 'positions')\n",
    "    transactions.to_hdf('backtrader.h5', 'transactions/')\n",
    "    gross_lev.to_hdf('backtrader.h5', 'gross_lev')\n",
    "\n",
    "    returns = pd.read_hdf('backtrader.h5', 'returns')\n",
    "    positions = pd.read_hdf('backtrader.h5', 'positions')\n",
    "    transactions = pd.read_hdf('backtrader.h5', 'transactions/')\n",
    "    gross_lev = pd.read_hdf('backtrader.h5', 'gross_lev')\n",
    "\n",
    "    pyfolio = pf.create_full_tear_sheet(returns,\n",
    "                              transactions=transactions,\n",
    "                              positions=positions,\n",
    "                              benchmark_rets=benchmark_btc2)\n",
    "\n",
    "\n",
    "if __name__ == \"__main__\":\n",
    "    main()\n",
    "\n",
    "\n"
   ],
   "metadata": {
    "collapsed": false,
    "pycharm": {
     "name": "#%%\n"
    }
   }
  }
 ],
 "metadata": {
  "kernelspec": {
   "display_name": "Python 3",
   "language": "python",
   "name": "python3"
  },
  "language_info": {
   "codemirror_mode": {
    "name": "ipython",
    "version": 2
   },
   "file_extension": ".py",
   "mimetype": "text/x-python",
   "name": "python",
   "nbconvert_exporter": "python",
   "pygments_lexer": "ipython2",
   "version": "2.7.6"
  }
 },
 "nbformat": 4,
 "nbformat_minor": 0
}