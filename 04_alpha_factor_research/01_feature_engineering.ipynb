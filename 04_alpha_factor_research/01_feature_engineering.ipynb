{
 "cells": [
  {
   "cell_type": "markdown",
   "metadata": {},
   "source": [
    " # How to transform data into factors"
   ]
  },
  {
   "cell_type": "markdown",
   "metadata": {},
   "source": [
    "Based on a conceptual understanding of key factor categories, their rationale and popular metrics, a key task is to identify new factors that may better capture the risks embodied by the return drivers laid out previously, or to find new ones. \n",
    "\n",
    "In either case, it will be important to compare the performance of innovative factors to that of known factors to identify incremental signal gains."
   ]
  },
  {
   "cell_type": "markdown",
   "metadata": {},
   "source": [
    "We create the dataset here and store it in our [data](../data) folder to facilitate reuse in later chapters."
   ]
  },
  {
   "cell_type": "markdown",
   "metadata": {},
   "source": [
    "## Imports & Settings"
   ]
  },
  {
   "cell_type": "code",
   "execution_count": 1,
   "metadata": {
    "ExecuteTime": {
     "end_time": "2021-02-23T05:19:07.717690Z",
     "start_time": "2021-02-23T05:19:07.715460Z"
    }
   },
   "outputs": [],
   "source": [
    "import warnings\n",
    "\n",
    "warnings.filterwarnings('ignore')"
   ]
  },
  {
   "cell_type": "code",
   "execution_count": 2,
   "metadata": {
    "ExecuteTime": {
     "end_time": "2021-02-23T05:19:10.632105Z",
     "start_time": "2021-02-23T05:19:07.719416Z"
    }
   },
   "outputs": [],
   "source": [
    "!conda list | grep pandas_datareader"
   ]
  },
  {
   "cell_type": "code",
   "execution_count": 3,
   "metadata": {
    "ExecuteTime": {
     "end_time": "2021-02-23T05:19:11.313696Z",
     "start_time": "2021-02-23T05:19:10.633460Z"
    }
   },
   "outputs": [],
   "source": [
    "%matplotlib inline\n",
    "\n",
    "from datetime import datetime\n",
    "import pandas as pd\n",
    "import pandas_datareader.data as web\n",
    "\n",
    "# replaces yfinance.ols.PandasRollingOLS (no longer maintained)\n",
    "from statsmodels.regression.rolling import RollingOLS\n",
    "import statsmodels.api as sm\n",
    "\n",
    "import matplotlib.pyplot as plt\n",
    "import seaborn as sns"
   ]
  },
  {
   "cell_type": "code",
   "execution_count": 4,
   "metadata": {
    "ExecuteTime": {
     "end_time": "2021-02-23T05:19:11.331578Z",
     "start_time": "2021-02-23T05:19:11.318804Z"
    }
   },
   "outputs": [],
   "source": [
    "sns.set_style('whitegrid')\n",
    "idx = pd.IndexSlice"
   ]
  },
  {
   "cell_type": "markdown",
   "metadata": {},
   "source": [
    "## Get Data"
   ]
  },
  {
   "cell_type": "markdown",
   "metadata": {},
   "source": [
    "The `crypto.h5` store can be generated using the crypto notebooks in data folder."
   ]
  },
  {
   "cell_type": "markdown",
   "metadata": {},
   "source": [
    "We load crypto minute data which is upsampled (probably hourly)."
   ]
  },
  {
   "cell_type": "markdown",
   "metadata": {},
   "source": [
    "Set data store location:"
   ]
  },
  {
   "cell_type": "code",
   "execution_count": 5,
   "metadata": {
    "ExecuteTime": {
     "end_time": "2021-02-23T05:19:11.339512Z",
     "start_time": "2021-02-23T05:19:11.332799Z"
    }
   },
   "outputs": [],
   "source": [
    "DATA_STORE = '../data/crypto.h5'"
   ]
  },
  {
   "cell_type": "code",
   "execution_count": 6,
   "metadata": {
    "ExecuteTime": {
     "end_time": "2021-02-23T05:19:11.351664Z",
     "start_time": "2021-02-23T05:19:11.340581Z"
    }
   },
   "outputs": [],
   "source": [
    "START = 2000\n",
    "END = 2021"
   ]
  },
  {
   "cell_type": "code",
   "execution_count": 7,
   "metadata": {
    "ExecuteTime": {
     "end_time": "2021-02-23T05:19:16.300036Z",
     "start_time": "2021-02-23T05:19:11.352534Z"
    }
   },
   "outputs": [
    {
     "name": "stdout",
     "output_type": "stream",
     "text": [
      "<class 'pandas.core.frame.DataFrame'>\n",
      "MultiIndex: 48918134 entries, (Timestamp('2013-04-01 00:07:00'), 'btc', 'usd') to (Timestamp('2021-05-18 07:04:00'), 'luna', 'usd')\n",
      "Data columns (total 5 columns):\n",
      " #   Column  Dtype  \n",
      "---  ------  -----  \n",
      " 0   open    float64\n",
      " 1   high    float64\n",
      " 2   low     float64\n",
      " 3   close   float64\n",
      " 4   volume  float64\n",
      "dtypes: float64(5)\n",
      "memory usage: 2.3+ GB\n"
     ]
    }
   ],
   "source": [
    "with pd.HDFStore(DATA_STORE) as store:\n",
    "    prices = (store['crypto/caggle/prices']).sort_index()\n",
    "              # .loc[idx[START:END, :], ohlcv]\n",
    "              #.rename(columns=lambda x: x.replace('adj_', ''))\n",
    "              #.assign(volume=lambda x: x.volume.div(1000))\n",
    "              #.swaplevel()\n",
    "    cryptos = (store['coingecko/top100/market'])\n",
    "    categories = store['coingecko/top100/cats']\n",
    "prices.info()\n"
   ]
  },
  {
   "cell_type": "code",
   "execution_count": 8,
   "metadata": {
    "ExecuteTime": {
     "end_time": "2021-02-23T05:19:16.419368Z",
     "start_time": "2021-02-23T05:19:16.300972Z"
    }
   },
   "outputs": [
    {
     "name": "stdout",
     "output_type": "stream",
     "text": [
      "<class 'pandas.core.frame.DataFrame'>\n",
      "MultiIndex: 48918134 entries, (Timestamp('2013-04-01 00:07:00'), 'btc', 'usd') to (Timestamp('2021-05-18 07:04:00'), 'luna', 'usd')\n",
      "Data columns (total 5 columns):\n",
      " #   Column  Dtype  \n",
      "---  ------  -----  \n",
      " 0   open    float64\n",
      " 1   high    float64\n",
      " 2   low     float64\n",
      " 3   close   float64\n",
      " 4   volume  float64\n",
      "dtypes: float64(5)\n",
      "memory usage: 2.3+ GB\n"
     ]
    }
   ],
   "source": [
    "prices.info()"
   ]
  },
  {
   "cell_type": "code",
   "execution_count": 9,
   "outputs": [
    {
     "data": {
      "text/plain": "                                    open     high      low    close  \\\ndate                symbol base                                       \n2013-04-01 00:07:00 btc    usd    93.250   93.300   93.250   93.250   \n2013-04-01 00:08:00 btc    usd   100.000  100.000  100.000  100.000   \n2013-04-01 00:09:00 btc    usd    93.300   93.300   93.300   93.300   \n2013-04-01 00:10:00 btc    usd    93.300   93.300   93.300   93.300   \n2013-04-01 00:11:00 btc    usd    93.350   93.470   93.350   93.350   \n...                                  ...      ...      ...      ...   \n2021-05-18 07:01:00 luna   usd    15.376   15.406   15.376   15.376   \n                    sol    usd    50.304   50.304   50.301   50.304   \n2021-05-18 07:02:00 luna   usd    15.420   15.425   15.420   15.420   \n2021-05-18 07:03:00 luna   usd    15.438   15.438   15.438   15.438   \n2021-05-18 07:04:00 luna   usd    15.448   15.448   15.448   15.448   \n\n                                      volume  \ndate                symbol base               \n2013-04-01 00:07:00 btc    usd     93.300000  \n2013-04-01 00:08:00 btc    usd     93.300000  \n2013-04-01 00:09:00 btc    usd     33.676862  \n2013-04-01 00:10:00 btc    usd      0.000000  \n2013-04-01 00:11:00 btc    usd     20.000000  \n...                                      ...  \n2021-05-18 07:01:00 luna   usd    579.298200  \n                    sol    usd     36.807817  \n2021-05-18 07:02:00 luna   usd   1198.383100  \n2021-05-18 07:03:00 luna   usd     17.528177  \n2021-05-18 07:04:00 luna   usd     34.593475  \n\n[48918134 rows x 5 columns]",
      "text/html": "<div>\n<style scoped>\n    .dataframe tbody tr th:only-of-type {\n        vertical-align: middle;\n    }\n\n    .dataframe tbody tr th {\n        vertical-align: top;\n    }\n\n    .dataframe thead th {\n        text-align: right;\n    }\n</style>\n<table border=\"1\" class=\"dataframe\">\n  <thead>\n    <tr style=\"text-align: right;\">\n      <th></th>\n      <th></th>\n      <th></th>\n      <th>open</th>\n      <th>high</th>\n      <th>low</th>\n      <th>close</th>\n      <th>volume</th>\n    </tr>\n    <tr>\n      <th>date</th>\n      <th>symbol</th>\n      <th>base</th>\n      <th></th>\n      <th></th>\n      <th></th>\n      <th></th>\n      <th></th>\n    </tr>\n  </thead>\n  <tbody>\n    <tr>\n      <th>2013-04-01 00:07:00</th>\n      <th>btc</th>\n      <th>usd</th>\n      <td>93.250</td>\n      <td>93.300</td>\n      <td>93.250</td>\n      <td>93.250</td>\n      <td>93.300000</td>\n    </tr>\n    <tr>\n      <th>2013-04-01 00:08:00</th>\n      <th>btc</th>\n      <th>usd</th>\n      <td>100.000</td>\n      <td>100.000</td>\n      <td>100.000</td>\n      <td>100.000</td>\n      <td>93.300000</td>\n    </tr>\n    <tr>\n      <th>2013-04-01 00:09:00</th>\n      <th>btc</th>\n      <th>usd</th>\n      <td>93.300</td>\n      <td>93.300</td>\n      <td>93.300</td>\n      <td>93.300</td>\n      <td>33.676862</td>\n    </tr>\n    <tr>\n      <th>2013-04-01 00:10:00</th>\n      <th>btc</th>\n      <th>usd</th>\n      <td>93.300</td>\n      <td>93.300</td>\n      <td>93.300</td>\n      <td>93.300</td>\n      <td>0.000000</td>\n    </tr>\n    <tr>\n      <th>2013-04-01 00:11:00</th>\n      <th>btc</th>\n      <th>usd</th>\n      <td>93.350</td>\n      <td>93.470</td>\n      <td>93.350</td>\n      <td>93.350</td>\n      <td>20.000000</td>\n    </tr>\n    <tr>\n      <th>...</th>\n      <th>...</th>\n      <th>...</th>\n      <td>...</td>\n      <td>...</td>\n      <td>...</td>\n      <td>...</td>\n      <td>...</td>\n    </tr>\n    <tr>\n      <th rowspan=\"2\" valign=\"top\">2021-05-18 07:01:00</th>\n      <th>luna</th>\n      <th>usd</th>\n      <td>15.376</td>\n      <td>15.406</td>\n      <td>15.376</td>\n      <td>15.376</td>\n      <td>579.298200</td>\n    </tr>\n    <tr>\n      <th>sol</th>\n      <th>usd</th>\n      <td>50.304</td>\n      <td>50.304</td>\n      <td>50.301</td>\n      <td>50.304</td>\n      <td>36.807817</td>\n    </tr>\n    <tr>\n      <th>2021-05-18 07:02:00</th>\n      <th>luna</th>\n      <th>usd</th>\n      <td>15.420</td>\n      <td>15.425</td>\n      <td>15.420</td>\n      <td>15.420</td>\n      <td>1198.383100</td>\n    </tr>\n    <tr>\n      <th>2021-05-18 07:03:00</th>\n      <th>luna</th>\n      <th>usd</th>\n      <td>15.438</td>\n      <td>15.438</td>\n      <td>15.438</td>\n      <td>15.438</td>\n      <td>17.528177</td>\n    </tr>\n    <tr>\n      <th>2021-05-18 07:04:00</th>\n      <th>luna</th>\n      <th>usd</th>\n      <td>15.448</td>\n      <td>15.448</td>\n      <td>15.448</td>\n      <td>15.448</td>\n      <td>34.593475</td>\n    </tr>\n  </tbody>\n</table>\n<p>48918134 rows × 5 columns</p>\n</div>"
     },
     "execution_count": 9,
     "metadata": {},
     "output_type": "execute_result"
    }
   ],
   "source": [
    "prices"
   ],
   "metadata": {
    "collapsed": false,
    "pycharm": {
     "name": "#%%\n"
    }
   }
  },
  {
   "cell_type": "code",
   "execution_count": 10,
   "metadata": {
    "ExecuteTime": {
     "end_time": "2021-02-23T05:19:16.427418Z",
     "start_time": "2021-02-23T05:19:16.420337Z"
    }
   },
   "outputs": [
    {
     "name": "stdout",
     "output_type": "stream",
     "text": [
      "<class 'pandas.core.frame.DataFrame'>\n",
      "MultiIndex: 100 entries, ('btc', 'usd') to ('tusd', 'usd')\n",
      "Data columns (total 12 columns):\n",
      " #   Column                 Non-Null Count  Dtype         \n",
      "---  ------                 --------------  -----         \n",
      " 0   id                     100 non-null    object        \n",
      " 1   market_cap             100 non-null    int64         \n",
      " 2   name                   100 non-null    object        \n",
      " 3   genesis_date           37 non-null     datetime64[ns]\n",
      " 4   market_cap_rank        100 non-null    int64         \n",
      " 5   hashing_algorithm      100 non-null    object        \n",
      " 6   coingecko_rank         100 non-null    int64         \n",
      " 7   coingecko_score        100 non-null    float64       \n",
      " 8   developer_score        100 non-null    float64       \n",
      " 9   community_score        100 non-null    float64       \n",
      " 10  liquidity_score        100 non-null    float64       \n",
      " 11  public_interest_score  100 non-null    float64       \n",
      "dtypes: datetime64[ns](1), float64(5), int64(3), object(3)\n",
      "memory usage: 14.6+ KB\n"
     ]
    }
   ],
   "source": [
    "cryptos.info()"
   ]
  },
  {
   "cell_type": "code",
   "execution_count": 11,
   "outputs": [
    {
     "data": {
      "text/plain": "                         id    market_cap               name genesis_date  \\\nsymbol base                                                                 \nbtc    usd          bitcoin  851165633926            Bitcoin   2009-01-03   \neth    usd         ethereum  408663307732           Ethereum   2015-07-30   \nbnb    usd      binancecoin   81684939616       Binance Coin   2017-07-08   \nxrp    usd           ripple   77810326837                XRP          NaT   \nada    usd          cardano   67995769831            Cardano          NaT   \n...                     ...           ...                ...          ...   \nicx    usd             icon    1263863907               ICON   2017-09-19   \narrr   usd     pirate-chain    1234724958       Pirate Chain   2018-08-29   \npax    usd   paxos-standard    1232338318     Paxos Standard          NaT   \nsteth  usd     staked-ether    1228398282  Lido Staked Ether          NaT   \ntusd   usd         true-usd    1198425385            TrueUSD   2018-03-05   \n\n             market_cap_rank hashing_algorithm  coingecko_rank  \\\nsymbol base                                                      \nbtc    usd                 1           SHA-256               2   \neth    usd                 2            Ethash               3   \nbnb    usd                 3              None               5   \nxrp    usd                 4              None               9   \nada    usd                 5              None               6   \n...                      ...               ...             ...   \nicx    usd                96              None              66   \narrr   usd                97          Equihash             133   \npax    usd                98              None             168   \nsteth  usd                99              None             573   \ntusd   usd               100              None             110   \n\n             coingecko_score  developer_score  community_score  \\\nsymbol base                                                      \nbtc    usd            81.149           98.874           74.606   \neth    usd            78.085           97.194           65.231   \nbnb    usd            67.430           73.243           66.596   \nxrp    usd            65.219           71.122           54.329   \nada    usd            66.641           70.441           61.873   \n...                      ...              ...              ...   \nicx    usd            50.558           57.689           43.226   \narrr   usd            43.566           55.799           36.531   \npax    usd            40.076           47.966            8.260   \nsteth  usd            26.947            0.000           26.400   \ntusd   usd            45.559           65.722            8.667   \n\n             liquidity_score  public_interest_score  \nsymbol base                                          \nbtc    usd           100.084                    0.0  \neth    usd            99.843                    0.0  \nbnb    usd            80.872                    0.0  \nxrp    usd            86.490                    0.0  \nada    usd            86.307                    0.0  \n...                      ...                    ...  \nicx    usd            56.885                    0.0  \narrr   usd            31.661                    0.0  \npax    usd            55.094                    0.0  \nsteth  usd            29.507                    0.0  \ntusd   usd            60.013                    0.0  \n\n[100 rows x 12 columns]",
      "text/html": "<div>\n<style scoped>\n    .dataframe tbody tr th:only-of-type {\n        vertical-align: middle;\n    }\n\n    .dataframe tbody tr th {\n        vertical-align: top;\n    }\n\n    .dataframe thead th {\n        text-align: right;\n    }\n</style>\n<table border=\"1\" class=\"dataframe\">\n  <thead>\n    <tr style=\"text-align: right;\">\n      <th></th>\n      <th></th>\n      <th>id</th>\n      <th>market_cap</th>\n      <th>name</th>\n      <th>genesis_date</th>\n      <th>market_cap_rank</th>\n      <th>hashing_algorithm</th>\n      <th>coingecko_rank</th>\n      <th>coingecko_score</th>\n      <th>developer_score</th>\n      <th>community_score</th>\n      <th>liquidity_score</th>\n      <th>public_interest_score</th>\n    </tr>\n    <tr>\n      <th>symbol</th>\n      <th>base</th>\n      <th></th>\n      <th></th>\n      <th></th>\n      <th></th>\n      <th></th>\n      <th></th>\n      <th></th>\n      <th></th>\n      <th></th>\n      <th></th>\n      <th></th>\n      <th></th>\n    </tr>\n  </thead>\n  <tbody>\n    <tr>\n      <th>btc</th>\n      <th>usd</th>\n      <td>bitcoin</td>\n      <td>851165633926</td>\n      <td>Bitcoin</td>\n      <td>2009-01-03</td>\n      <td>1</td>\n      <td>SHA-256</td>\n      <td>2</td>\n      <td>81.149</td>\n      <td>98.874</td>\n      <td>74.606</td>\n      <td>100.084</td>\n      <td>0.0</td>\n    </tr>\n    <tr>\n      <th>eth</th>\n      <th>usd</th>\n      <td>ethereum</td>\n      <td>408663307732</td>\n      <td>Ethereum</td>\n      <td>2015-07-30</td>\n      <td>2</td>\n      <td>Ethash</td>\n      <td>3</td>\n      <td>78.085</td>\n      <td>97.194</td>\n      <td>65.231</td>\n      <td>99.843</td>\n      <td>0.0</td>\n    </tr>\n    <tr>\n      <th>bnb</th>\n      <th>usd</th>\n      <td>binancecoin</td>\n      <td>81684939616</td>\n      <td>Binance Coin</td>\n      <td>2017-07-08</td>\n      <td>3</td>\n      <td>None</td>\n      <td>5</td>\n      <td>67.430</td>\n      <td>73.243</td>\n      <td>66.596</td>\n      <td>80.872</td>\n      <td>0.0</td>\n    </tr>\n    <tr>\n      <th>xrp</th>\n      <th>usd</th>\n      <td>ripple</td>\n      <td>77810326837</td>\n      <td>XRP</td>\n      <td>NaT</td>\n      <td>4</td>\n      <td>None</td>\n      <td>9</td>\n      <td>65.219</td>\n      <td>71.122</td>\n      <td>54.329</td>\n      <td>86.490</td>\n      <td>0.0</td>\n    </tr>\n    <tr>\n      <th>ada</th>\n      <th>usd</th>\n      <td>cardano</td>\n      <td>67995769831</td>\n      <td>Cardano</td>\n      <td>NaT</td>\n      <td>5</td>\n      <td>None</td>\n      <td>6</td>\n      <td>66.641</td>\n      <td>70.441</td>\n      <td>61.873</td>\n      <td>86.307</td>\n      <td>0.0</td>\n    </tr>\n    <tr>\n      <th>...</th>\n      <th>...</th>\n      <td>...</td>\n      <td>...</td>\n      <td>...</td>\n      <td>...</td>\n      <td>...</td>\n      <td>...</td>\n      <td>...</td>\n      <td>...</td>\n      <td>...</td>\n      <td>...</td>\n      <td>...</td>\n      <td>...</td>\n    </tr>\n    <tr>\n      <th>icx</th>\n      <th>usd</th>\n      <td>icon</td>\n      <td>1263863907</td>\n      <td>ICON</td>\n      <td>2017-09-19</td>\n      <td>96</td>\n      <td>None</td>\n      <td>66</td>\n      <td>50.558</td>\n      <td>57.689</td>\n      <td>43.226</td>\n      <td>56.885</td>\n      <td>0.0</td>\n    </tr>\n    <tr>\n      <th>arrr</th>\n      <th>usd</th>\n      <td>pirate-chain</td>\n      <td>1234724958</td>\n      <td>Pirate Chain</td>\n      <td>2018-08-29</td>\n      <td>97</td>\n      <td>Equihash</td>\n      <td>133</td>\n      <td>43.566</td>\n      <td>55.799</td>\n      <td>36.531</td>\n      <td>31.661</td>\n      <td>0.0</td>\n    </tr>\n    <tr>\n      <th>pax</th>\n      <th>usd</th>\n      <td>paxos-standard</td>\n      <td>1232338318</td>\n      <td>Paxos Standard</td>\n      <td>NaT</td>\n      <td>98</td>\n      <td>None</td>\n      <td>168</td>\n      <td>40.076</td>\n      <td>47.966</td>\n      <td>8.260</td>\n      <td>55.094</td>\n      <td>0.0</td>\n    </tr>\n    <tr>\n      <th>steth</th>\n      <th>usd</th>\n      <td>staked-ether</td>\n      <td>1228398282</td>\n      <td>Lido Staked Ether</td>\n      <td>NaT</td>\n      <td>99</td>\n      <td>None</td>\n      <td>573</td>\n      <td>26.947</td>\n      <td>0.000</td>\n      <td>26.400</td>\n      <td>29.507</td>\n      <td>0.0</td>\n    </tr>\n    <tr>\n      <th>tusd</th>\n      <th>usd</th>\n      <td>true-usd</td>\n      <td>1198425385</td>\n      <td>TrueUSD</td>\n      <td>2018-03-05</td>\n      <td>100</td>\n      <td>None</td>\n      <td>110</td>\n      <td>45.559</td>\n      <td>65.722</td>\n      <td>8.667</td>\n      <td>60.013</td>\n      <td>0.0</td>\n    </tr>\n  </tbody>\n</table>\n<p>100 rows × 12 columns</p>\n</div>"
     },
     "execution_count": 11,
     "metadata": {},
     "output_type": "execute_result"
    }
   ],
   "source": [
    "cryptos"
   ],
   "metadata": {
    "collapsed": false,
    "pycharm": {
     "name": "#%%\n"
    }
   }
  },
  {
   "cell_type": "code",
   "execution_count": 12,
   "outputs": [
    {
     "name": "stdout",
     "output_type": "stream",
     "text": [
      "<class 'pandas.core.frame.DataFrame'>\n",
      "MultiIndex: 100 entries, ('btc', 'usd') to ('tusd', 'usd')\n",
      "Data columns (total 49 columns):\n",
      " #   Column                              Non-Null Count  Dtype\n",
      "---  ------                              --------------  -----\n",
      " 0   Analytics                           100 non-null    int64\n",
      " 1   Artificial Intelligence             100 non-null    int64\n",
      " 2   Asset-backed Tokens                 100 non-null    int64\n",
      " 3   Automated Market Maker (AMM)        100 non-null    int64\n",
      " 4   Avalanche Ecosystem                 100 non-null    int64\n",
      " 5   Binance Smart Chain Ecosystem       100 non-null    int64\n",
      " 6   Business Platform                   100 non-null    int64\n",
      " 7   Business Services                   100 non-null    int64\n",
      " 8   Centralized Exchange Token (CEX)    100 non-null    int64\n",
      " 9   Communication                       100 non-null    int64\n",
      " 10  Compound Tokens                     100 non-null    int64\n",
      " 11  Cosmos Ecosystem                    100 non-null    int64\n",
      " 12  Cryptocurrency                      100 non-null    int64\n",
      " 13  Decentralized Exchange Token (DEX)  100 non-null    int64\n",
      " 14  Decentralized Finance (DeFi)        100 non-null    int64\n",
      " 15  Derivatives                         100 non-null    int64\n",
      " 16  Entertainment                       100 non-null    int64\n",
      " 17  Eth 2.0 Staking                     100 non-null    int64\n",
      " 18  Exchange-based Tokens               100 non-null    int64\n",
      " 19  Finance / Banking                   100 non-null    int64\n",
      " 20  Gaming                              100 non-null    int64\n",
      " 21  Governance                          100 non-null    int64\n",
      " 22  Infrastructure                      100 non-null    int64\n",
      " 23  Internet of Things (IOT)            100 non-null    int64\n",
      " 24  Lending/Borrowing                   100 non-null    int64\n",
      " 25  Masternodes                         100 non-null    int64\n",
      " 26  Meme Tokens                         100 non-null    int64\n",
      " 27  Metaverse                           100 non-null    int64\n",
      " 28  Near Protocol Ecosystem             100 non-null    int64\n",
      " 29  Non-Fungible Tokens (NFT)           100 non-null    int64\n",
      " 30  Oracle                              100 non-null    int64\n",
      " 31  Polkadot Ecosystem                  100 non-null    int64\n",
      " 32  Polygon Ecosystem                   100 non-null    int64\n",
      " 33  Privacy Coins                       100 non-null    int64\n",
      " 34  Protocol                            100 non-null    int64\n",
      " 35  Seigniorage                         100 non-null    int64\n",
      " 36  Smart Contract Platform             100 non-null    int64\n",
      " 37  Solana Ecosystem                    100 non-null    int64\n",
      " 38  Sports                              100 non-null    int64\n",
      " 39  Stablecoins                         100 non-null    int64\n",
      " 40  Storage                             100 non-null    int64\n",
      " 41  Synthetic Issuer                    100 non-null    int64\n",
      " 42  Terra Ecosystem                     100 non-null    int64\n",
      " 43  Tokenized BTC                       100 non-null    int64\n",
      " 44  USD Stablecoin                      100 non-null    int64\n",
      " 45  Wrapped-Tokens                      100 non-null    int64\n",
      " 46  Yearn Ecosystem                     100 non-null    int64\n",
      " 47  Yield Aggregator                    100 non-null    int64\n",
      " 48  Yield Farming                       100 non-null    int64\n",
      "dtypes: int64(49)\n",
      "memory usage: 43.5+ KB\n"
     ]
    }
   ],
   "source": [
    "categories.info()"
   ],
   "metadata": {
    "collapsed": false,
    "pycharm": {
     "name": "#%%\n"
    }
   }
  },
  {
   "cell_type": "code",
   "execution_count": 13,
   "outputs": [
    {
     "data": {
      "text/plain": "             Analytics  Artificial Intelligence  Asset-backed Tokens  \\\nsymbol base                                                            \nbtc    usd           0                        0                    0   \neth    usd           0                        0                    0   \nbnb    usd           0                        0                    0   \nxrp    usd           0                        0                    0   \nada    usd           0                        0                    0   \n...                ...                      ...                  ...   \nicx    usd           0                        0                    0   \narrr   usd           0                        0                    0   \npax    usd           0                        0                    0   \nsteth  usd           0                        0                    0   \ntusd   usd           0                        0                    0   \n\n             Automated Market Maker (AMM)  Avalanche Ecosystem  \\\nsymbol base                                                      \nbtc    usd                              0                    0   \neth    usd                              0                    0   \nbnb    usd                              0                    0   \nxrp    usd                              0                    0   \nada    usd                              0                    0   \n...                                   ...                  ...   \nicx    usd                              0                    0   \narrr   usd                              0                    0   \npax    usd                              0                    0   \nsteth  usd                              0                    0   \ntusd   usd                              0                    1   \n\n             Binance Smart Chain Ecosystem  Business Platform  \\\nsymbol base                                                     \nbtc    usd                               0                  0   \neth    usd                               0                  0   \nbnb    usd                               1                  0   \nxrp    usd                               0                  0   \nada    usd                               0                  0   \n...                                    ...                ...   \nicx    usd                               0                  0   \narrr   usd                               0                  0   \npax    usd                               0                  0   \nsteth  usd                               0                  0   \ntusd   usd                               0                  0   \n\n             Business Services  Centralized Exchange Token (CEX)  \\\nsymbol base                                                        \nbtc    usd                   0                                 0   \neth    usd                   0                                 0   \nbnb    usd                   0                                 1   \nxrp    usd                   0                                 0   \nada    usd                   0                                 0   \n...                        ...                               ...   \nicx    usd                   0                                 0   \narrr   usd                   0                                 0   \npax    usd                   0                                 0   \nsteth  usd                   0                                 0   \ntusd   usd                   0                                 0   \n\n             Communication  ...  Stablecoins  Storage  Synthetic Issuer  \\\nsymbol base                 ...                                           \nbtc    usd               0  ...            0        0                 0   \neth    usd               0  ...            0        0                 0   \nbnb    usd               0  ...            0        0                 0   \nxrp    usd               0  ...            0        0                 0   \nada    usd               0  ...            0        0                 0   \n...                    ...  ...          ...      ...               ...   \nicx    usd               0  ...            0        0                 0   \narrr   usd               0  ...            0        0                 0   \npax    usd               0  ...            1        0                 0   \nsteth  usd               0  ...            0        0                 0   \ntusd   usd               0  ...            1        0                 0   \n\n             Terra Ecosystem  Tokenized BTC  USD Stablecoin  Wrapped-Tokens  \\\nsymbol base                                                                   \nbtc    usd                 0              0               0               0   \neth    usd                 0              0               0               0   \nbnb    usd                 0              0               0               0   \nxrp    usd                 0              0               0               0   \nada    usd                 0              0               0               0   \n...                      ...            ...             ...             ...   \nicx    usd                 0              0               0               0   \narrr   usd                 0              0               0               0   \npax    usd                 0              0               1               0   \nsteth  usd                 0              0               0               0   \ntusd   usd                 0              0               1               0   \n\n             Yearn Ecosystem  Yield Aggregator  Yield Farming  \nsymbol base                                                    \nbtc    usd                 0                 0              0  \neth    usd                 0                 0              0  \nbnb    usd                 0                 0              0  \nxrp    usd                 0                 0              0  \nada    usd                 0                 0              0  \n...                      ...               ...            ...  \nicx    usd                 0                 0              0  \narrr   usd                 0                 0              0  \npax    usd                 0                 0              0  \nsteth  usd                 0                 0              0  \ntusd   usd                 0                 0              0  \n\n[100 rows x 49 columns]",
      "text/html": "<div>\n<style scoped>\n    .dataframe tbody tr th:only-of-type {\n        vertical-align: middle;\n    }\n\n    .dataframe tbody tr th {\n        vertical-align: top;\n    }\n\n    .dataframe thead th {\n        text-align: right;\n    }\n</style>\n<table border=\"1\" class=\"dataframe\">\n  <thead>\n    <tr style=\"text-align: right;\">\n      <th></th>\n      <th></th>\n      <th>Analytics</th>\n      <th>Artificial Intelligence</th>\n      <th>Asset-backed Tokens</th>\n      <th>Automated Market Maker (AMM)</th>\n      <th>Avalanche Ecosystem</th>\n      <th>Binance Smart Chain Ecosystem</th>\n      <th>Business Platform</th>\n      <th>Business Services</th>\n      <th>Centralized Exchange Token (CEX)</th>\n      <th>Communication</th>\n      <th>...</th>\n      <th>Stablecoins</th>\n      <th>Storage</th>\n      <th>Synthetic Issuer</th>\n      <th>Terra Ecosystem</th>\n      <th>Tokenized BTC</th>\n      <th>USD Stablecoin</th>\n      <th>Wrapped-Tokens</th>\n      <th>Yearn Ecosystem</th>\n      <th>Yield Aggregator</th>\n      <th>Yield Farming</th>\n    </tr>\n    <tr>\n      <th>symbol</th>\n      <th>base</th>\n      <th></th>\n      <th></th>\n      <th></th>\n      <th></th>\n      <th></th>\n      <th></th>\n      <th></th>\n      <th></th>\n      <th></th>\n      <th></th>\n      <th></th>\n      <th></th>\n      <th></th>\n      <th></th>\n      <th></th>\n      <th></th>\n      <th></th>\n      <th></th>\n      <th></th>\n      <th></th>\n      <th></th>\n    </tr>\n  </thead>\n  <tbody>\n    <tr>\n      <th>btc</th>\n      <th>usd</th>\n      <td>0</td>\n      <td>0</td>\n      <td>0</td>\n      <td>0</td>\n      <td>0</td>\n      <td>0</td>\n      <td>0</td>\n      <td>0</td>\n      <td>0</td>\n      <td>0</td>\n      <td>...</td>\n      <td>0</td>\n      <td>0</td>\n      <td>0</td>\n      <td>0</td>\n      <td>0</td>\n      <td>0</td>\n      <td>0</td>\n      <td>0</td>\n      <td>0</td>\n      <td>0</td>\n    </tr>\n    <tr>\n      <th>eth</th>\n      <th>usd</th>\n      <td>0</td>\n      <td>0</td>\n      <td>0</td>\n      <td>0</td>\n      <td>0</td>\n      <td>0</td>\n      <td>0</td>\n      <td>0</td>\n      <td>0</td>\n      <td>0</td>\n      <td>...</td>\n      <td>0</td>\n      <td>0</td>\n      <td>0</td>\n      <td>0</td>\n      <td>0</td>\n      <td>0</td>\n      <td>0</td>\n      <td>0</td>\n      <td>0</td>\n      <td>0</td>\n    </tr>\n    <tr>\n      <th>bnb</th>\n      <th>usd</th>\n      <td>0</td>\n      <td>0</td>\n      <td>0</td>\n      <td>0</td>\n      <td>0</td>\n      <td>1</td>\n      <td>0</td>\n      <td>0</td>\n      <td>1</td>\n      <td>0</td>\n      <td>...</td>\n      <td>0</td>\n      <td>0</td>\n      <td>0</td>\n      <td>0</td>\n      <td>0</td>\n      <td>0</td>\n      <td>0</td>\n      <td>0</td>\n      <td>0</td>\n      <td>0</td>\n    </tr>\n    <tr>\n      <th>xrp</th>\n      <th>usd</th>\n      <td>0</td>\n      <td>0</td>\n      <td>0</td>\n      <td>0</td>\n      <td>0</td>\n      <td>0</td>\n      <td>0</td>\n      <td>0</td>\n      <td>0</td>\n      <td>0</td>\n      <td>...</td>\n      <td>0</td>\n      <td>0</td>\n      <td>0</td>\n      <td>0</td>\n      <td>0</td>\n      <td>0</td>\n      <td>0</td>\n      <td>0</td>\n      <td>0</td>\n      <td>0</td>\n    </tr>\n    <tr>\n      <th>ada</th>\n      <th>usd</th>\n      <td>0</td>\n      <td>0</td>\n      <td>0</td>\n      <td>0</td>\n      <td>0</td>\n      <td>0</td>\n      <td>0</td>\n      <td>0</td>\n      <td>0</td>\n      <td>0</td>\n      <td>...</td>\n      <td>0</td>\n      <td>0</td>\n      <td>0</td>\n      <td>0</td>\n      <td>0</td>\n      <td>0</td>\n      <td>0</td>\n      <td>0</td>\n      <td>0</td>\n      <td>0</td>\n    </tr>\n    <tr>\n      <th>...</th>\n      <th>...</th>\n      <td>...</td>\n      <td>...</td>\n      <td>...</td>\n      <td>...</td>\n      <td>...</td>\n      <td>...</td>\n      <td>...</td>\n      <td>...</td>\n      <td>...</td>\n      <td>...</td>\n      <td>...</td>\n      <td>...</td>\n      <td>...</td>\n      <td>...</td>\n      <td>...</td>\n      <td>...</td>\n      <td>...</td>\n      <td>...</td>\n      <td>...</td>\n      <td>...</td>\n      <td>...</td>\n    </tr>\n    <tr>\n      <th>icx</th>\n      <th>usd</th>\n      <td>0</td>\n      <td>0</td>\n      <td>0</td>\n      <td>0</td>\n      <td>0</td>\n      <td>0</td>\n      <td>0</td>\n      <td>0</td>\n      <td>0</td>\n      <td>0</td>\n      <td>...</td>\n      <td>0</td>\n      <td>0</td>\n      <td>0</td>\n      <td>0</td>\n      <td>0</td>\n      <td>0</td>\n      <td>0</td>\n      <td>0</td>\n      <td>0</td>\n      <td>0</td>\n    </tr>\n    <tr>\n      <th>arrr</th>\n      <th>usd</th>\n      <td>0</td>\n      <td>0</td>\n      <td>0</td>\n      <td>0</td>\n      <td>0</td>\n      <td>0</td>\n      <td>0</td>\n      <td>0</td>\n      <td>0</td>\n      <td>0</td>\n      <td>...</td>\n      <td>0</td>\n      <td>0</td>\n      <td>0</td>\n      <td>0</td>\n      <td>0</td>\n      <td>0</td>\n      <td>0</td>\n      <td>0</td>\n      <td>0</td>\n      <td>0</td>\n    </tr>\n    <tr>\n      <th>pax</th>\n      <th>usd</th>\n      <td>0</td>\n      <td>0</td>\n      <td>0</td>\n      <td>0</td>\n      <td>0</td>\n      <td>0</td>\n      <td>0</td>\n      <td>0</td>\n      <td>0</td>\n      <td>0</td>\n      <td>...</td>\n      <td>1</td>\n      <td>0</td>\n      <td>0</td>\n      <td>0</td>\n      <td>0</td>\n      <td>1</td>\n      <td>0</td>\n      <td>0</td>\n      <td>0</td>\n      <td>0</td>\n    </tr>\n    <tr>\n      <th>steth</th>\n      <th>usd</th>\n      <td>0</td>\n      <td>0</td>\n      <td>0</td>\n      <td>0</td>\n      <td>0</td>\n      <td>0</td>\n      <td>0</td>\n      <td>0</td>\n      <td>0</td>\n      <td>0</td>\n      <td>...</td>\n      <td>0</td>\n      <td>0</td>\n      <td>0</td>\n      <td>0</td>\n      <td>0</td>\n      <td>0</td>\n      <td>0</td>\n      <td>0</td>\n      <td>0</td>\n      <td>0</td>\n    </tr>\n    <tr>\n      <th>tusd</th>\n      <th>usd</th>\n      <td>0</td>\n      <td>0</td>\n      <td>0</td>\n      <td>0</td>\n      <td>1</td>\n      <td>0</td>\n      <td>0</td>\n      <td>0</td>\n      <td>0</td>\n      <td>0</td>\n      <td>...</td>\n      <td>1</td>\n      <td>0</td>\n      <td>0</td>\n      <td>0</td>\n      <td>0</td>\n      <td>1</td>\n      <td>0</td>\n      <td>0</td>\n      <td>0</td>\n      <td>0</td>\n    </tr>\n  </tbody>\n</table>\n<p>100 rows × 49 columns</p>\n</div>"
     },
     "execution_count": 13,
     "metadata": {},
     "output_type": "execute_result"
    }
   ],
   "source": [
    "categories"
   ],
   "metadata": {
    "collapsed": false,
    "pycharm": {
     "name": "#%%\n"
    }
   }
  },
  {
   "cell_type": "markdown",
   "metadata": {},
   "source": [
    "### Keep data with stock info"
   ]
  },
  {
   "cell_type": "markdown",
   "metadata": {},
   "source": [
    "Remove `stocks` duplicates and align index names for later joining.\n"
   ]
  },
  {
   "cell_type": "markdown",
   "metadata": {},
   "source": [
    "Get tickers with both price information and metdata\n"
   ]
  },
  {
   "cell_type": "code",
   "execution_count": 14,
   "metadata": {
    "ExecuteTime": {
     "end_time": "2021-02-23T05:19:16.445552Z",
     "start_time": "2021-02-23T05:19:16.437464Z"
    }
   },
   "outputs": [
    {
     "data": {
      "text/plain": "(35,\n Index(['btc', 'ltc', 'eth', 'etc', 'xmr', 'xrp', 'miota', 'eos', 'neo', 'trx',\n        'dai', 'xlm', 'mkr', 'vet', 'xtz', 'bsv', 'usdt', 'usdc', 'btt', 'atom',\n        'wbtc', 'okb', 'algo', 'ftt', 'doge', 'ada', 'dot', 'ksm', 'uni', 'fil',\n        'sol', 'aave', 'link', 'luna', 'bch'],\n       dtype='object', name='symbol'))"
     },
     "execution_count": 14,
     "metadata": {},
     "output_type": "execute_result"
    }
   ],
   "source": [
    "shared = prices.index.get_level_values('symbol').intersection(cryptos.index.get_level_values('symbol'))\\\n",
    "    .intersection(categories.index.get_level_values('symbol'))\n",
    "len(shared), shared"
   ]
  },
  {
   "cell_type": "code",
   "execution_count": 15,
   "metadata": {
    "ExecuteTime": {
     "end_time": "2021-02-23T05:19:16.459277Z",
     "start_time": "2021-02-23T05:19:16.446442Z"
    }
   },
   "outputs": [
    {
     "name": "stdout",
     "output_type": "stream",
     "text": [
      "<class 'pandas.core.frame.DataFrame'>\n",
      "MultiIndex: 35 entries, ('btc', 'usd') to ('bch', 'usd')\n",
      "Data columns (total 12 columns):\n",
      " #   Column                 Non-Null Count  Dtype         \n",
      "---  ------                 --------------  -----         \n",
      " 0   id                     35 non-null     object        \n",
      " 1   market_cap             35 non-null     int64         \n",
      " 2   name                   35 non-null     object        \n",
      " 3   genesis_date           12 non-null     datetime64[ns]\n",
      " 4   market_cap_rank        35 non-null     int64         \n",
      " 5   hashing_algorithm      35 non-null     object        \n",
      " 6   coingecko_rank         35 non-null     int64         \n",
      " 7   coingecko_score        35 non-null     float64       \n",
      " 8   developer_score        35 non-null     float64       \n",
      " 9   community_score        35 non-null     float64       \n",
      " 10  liquidity_score        35 non-null     float64       \n",
      " 11  public_interest_score  35 non-null     float64       \n",
      "dtypes: datetime64[ns](1), float64(5), int64(3), object(3)\n",
      "memory usage: 8.4+ KB\n"
     ]
    }
   ],
   "source": [
    "cryptos = cryptos.loc[shared, :]\n",
    "cryptos.info()"
   ]
  },
  {
   "cell_type": "code",
   "execution_count": 16,
   "outputs": [
    {
     "name": "stdout",
     "output_type": "stream",
     "text": [
      "<class 'pandas.core.frame.DataFrame'>\n",
      "MultiIndex: 35 entries, ('btc', 'usd') to ('bch', 'usd')\n",
      "Data columns (total 49 columns):\n",
      " #   Column                              Non-Null Count  Dtype\n",
      "---  ------                              --------------  -----\n",
      " 0   Analytics                           35 non-null     int64\n",
      " 1   Artificial Intelligence             35 non-null     int64\n",
      " 2   Asset-backed Tokens                 35 non-null     int64\n",
      " 3   Automated Market Maker (AMM)        35 non-null     int64\n",
      " 4   Avalanche Ecosystem                 35 non-null     int64\n",
      " 5   Binance Smart Chain Ecosystem       35 non-null     int64\n",
      " 6   Business Platform                   35 non-null     int64\n",
      " 7   Business Services                   35 non-null     int64\n",
      " 8   Centralized Exchange Token (CEX)    35 non-null     int64\n",
      " 9   Communication                       35 non-null     int64\n",
      " 10  Compound Tokens                     35 non-null     int64\n",
      " 11  Cosmos Ecosystem                    35 non-null     int64\n",
      " 12  Cryptocurrency                      35 non-null     int64\n",
      " 13  Decentralized Exchange Token (DEX)  35 non-null     int64\n",
      " 14  Decentralized Finance (DeFi)        35 non-null     int64\n",
      " 15  Derivatives                         35 non-null     int64\n",
      " 16  Entertainment                       35 non-null     int64\n",
      " 17  Eth 2.0 Staking                     35 non-null     int64\n",
      " 18  Exchange-based Tokens               35 non-null     int64\n",
      " 19  Finance / Banking                   35 non-null     int64\n",
      " 20  Gaming                              35 non-null     int64\n",
      " 21  Governance                          35 non-null     int64\n",
      " 22  Infrastructure                      35 non-null     int64\n",
      " 23  Internet of Things (IOT)            35 non-null     int64\n",
      " 24  Lending/Borrowing                   35 non-null     int64\n",
      " 25  Masternodes                         35 non-null     int64\n",
      " 26  Meme Tokens                         35 non-null     int64\n",
      " 27  Metaverse                           35 non-null     int64\n",
      " 28  Near Protocol Ecosystem             35 non-null     int64\n",
      " 29  Non-Fungible Tokens (NFT)           35 non-null     int64\n",
      " 30  Oracle                              35 non-null     int64\n",
      " 31  Polkadot Ecosystem                  35 non-null     int64\n",
      " 32  Polygon Ecosystem                   35 non-null     int64\n",
      " 33  Privacy Coins                       35 non-null     int64\n",
      " 34  Protocol                            35 non-null     int64\n",
      " 35  Seigniorage                         35 non-null     int64\n",
      " 36  Smart Contract Platform             35 non-null     int64\n",
      " 37  Solana Ecosystem                    35 non-null     int64\n",
      " 38  Sports                              35 non-null     int64\n",
      " 39  Stablecoins                         35 non-null     int64\n",
      " 40  Storage                             35 non-null     int64\n",
      " 41  Synthetic Issuer                    35 non-null     int64\n",
      " 42  Terra Ecosystem                     35 non-null     int64\n",
      " 43  Tokenized BTC                       35 non-null     int64\n",
      " 44  USD Stablecoin                      35 non-null     int64\n",
      " 45  Wrapped-Tokens                      35 non-null     int64\n",
      " 46  Yearn Ecosystem                     35 non-null     int64\n",
      " 47  Yield Aggregator                    35 non-null     int64\n",
      " 48  Yield Farming                       35 non-null     int64\n",
      "dtypes: int64(49)\n",
      "memory usage: 18.5+ KB\n"
     ]
    }
   ],
   "source": [
    "categories = categories.loc[shared, :]\n",
    "categories.info()"
   ],
   "metadata": {
    "collapsed": false,
    "pycharm": {
     "name": "#%%\n"
    }
   }
  },
  {
   "cell_type": "code",
   "execution_count": 17,
   "outputs": [
    {
     "name": "stdout",
     "output_type": "stream",
     "text": [
      "<class 'pandas.core.frame.DataFrame'>\n",
      "MultiIndex: 45994035 entries, (Timestamp('2013-04-01 00:07:00'), 'btc', 'usd') to (Timestamp('2021-05-18 06:55:00'), 'bch', 'usd')\n",
      "Data columns (total 5 columns):\n",
      " #   Column  Dtype  \n",
      "---  ------  -----  \n",
      " 0   open    float64\n",
      " 1   high    float64\n",
      " 2   low     float64\n",
      " 3   close   float64\n",
      " 4   volume  float64\n",
      "dtypes: float64(5)\n",
      "memory usage: 2.1+ GB\n"
     ]
    }
   ],
   "source": [
    "# https://pandas.pydata.org/pandas-docs/stable/reference/api/pandas.IndexSlice.html#prices.index.get_level_values('symbol').isin(shared)\n",
    "prices = prices.loc[(slice(None), shared), :]\n",
    "prices.info()\n"
   ],
   "metadata": {
    "collapsed": false,
    "pycharm": {
     "name": "#%%\n"
    }
   }
  },
  {
   "cell_type": "code",
   "execution_count": 18,
   "metadata": {
    "ExecuteTime": {
     "end_time": "2021-02-23T05:19:16.548425Z",
     "start_time": "2021-02-23T05:19:16.546610Z"
    }
   },
   "outputs": [],
   "source": [
    "assert categories.shape[0] == cryptos.shape[0]\n",
    "assert len(prices.index.get_level_values('symbol').unique()) == categories.shape[0]"
   ]
  },
  {
   "cell_type": "code",
   "execution_count": 19,
   "outputs": [
    {
     "data": {
      "text/plain": "((45994035, 5), (35, 12), (35, 49))"
     },
     "execution_count": 19,
     "metadata": {},
     "output_type": "execute_result"
    }
   ],
   "source": [
    "prices.shape, cryptos.shape, categories.shape"
   ],
   "metadata": {
    "collapsed": false,
    "pycharm": {
     "name": "#%%\n"
    }
   }
  },
  {
   "cell_type": "code",
   "execution_count": 20,
   "outputs": [],
   "source": [
    "#prices.index.get_level_values('symbol').unique(), len(prices.index.get_level_values('symbol').unique())"
   ],
   "metadata": {
    "collapsed": false,
    "pycharm": {
     "name": "#%%\n"
    }
   }
  },
  {
   "cell_type": "code",
   "execution_count": 21,
   "outputs": [],
   "source": [
    "#categories.index.unique(), len(categories.index.unique())"
   ],
   "metadata": {
    "collapsed": false,
    "pycharm": {
     "name": "#%%\n"
    }
   }
  },
  {
   "cell_type": "markdown",
   "metadata": {},
   "source": [
    "## Create monthly return series"
   ]
  },
  {
   "cell_type": "markdown",
   "metadata": {},
   "source": [
    "To reduce training time and experiment with strategies for longer time horizons, we convert the business-daily data to month-end frequency using the available adjusted close price:"
   ]
  },
  {
   "cell_type": "code",
   "execution_count": 22,
   "outputs": [],
   "source": [
    "#prices_unstacked = prices.unstack(level=['symbol', 'base'])\n",
    "\n",
    "#prices_unstacked"
   ],
   "metadata": {
    "collapsed": false,
    "pycharm": {
     "name": "#%%\n"
    }
   }
  },
  {
   "cell_type": "code",
   "execution_count": 23,
   "outputs": [],
   "source": [
    "#level_values = prices.index.get_level_values\n",
    "#prices_grouped2 = prices.groupby([level_values(i) for i in [1, 2]])\n",
    "#level_values, prices_grouped2"
   ],
   "metadata": {
    "collapsed": false,
    "pycharm": {
     "name": "#%%\n"
    }
   }
  },
  {
   "cell_type": "code",
   "execution_count": 24,
   "outputs": [],
   "source": [
    "#prices_grouped = prices.groupby(level=['symbol', 'base'])\n",
    "#prices_grouped"
   ],
   "metadata": {
    "collapsed": false,
    "pycharm": {
     "name": "#%%\n"
    }
   }
  },
  {
   "cell_type": "markdown",
   "source": [
    "# TODO create open_prices ,... and use different rules, then put back together"
   ],
   "metadata": {
    "collapsed": false,
    "pycharm": {
     "name": "#%% md\n"
    }
   }
  },
  {
   "cell_type": "code",
   "execution_count": 25,
   "outputs": [],
   "source": [
    "# daily_prices = (prices.unstack(level=[1,2]).resample('D').last().stack(level=[2,1]).swaplevel(1,2))\n",
    "# daily_prices"
   ],
   "metadata": {
    "collapsed": false,
    "pycharm": {
     "name": "#%%\n"
    }
   }
  },
  {
   "cell_type": "code",
   "execution_count": 26,
   "outputs": [],
   "source": [
    "timeframe = 'M'\n",
    "#close_prices_weekly = prices['close'].unstack(level=[1,2]).resample(timeframe).last().stack(level=[0, 1], dropna=True)\n",
    "#close_prices_weekly\n"
   ],
   "metadata": {
    "collapsed": false,
    "pycharm": {
     "name": "#%%\n"
    }
   }
  },
  {
   "cell_type": "code",
   "execution_count": 27,
   "outputs": [
    {
     "data": {
      "text/plain": "                              close        high          low         open  \\\ndate       symbol base                                                      \n2013-04-30 btc    usd     139.88000    290.0000      0.01000     93.25000   \n2013-05-31 btc    usd     127.95000    140.6800     80.00000    139.88000   \n           ltc    usd       2.75010      3.3000      2.72000      3.14910   \n2013-06-30 btc    usd      89.55000    132.8700     86.15000    127.95000   \n           ltc    usd       2.61400     20.0000      0.01000      2.75010   \n...                             ...         ...          ...          ...   \n2021-05-31 wbtc   usd   45016.00000  59531.0000  42134.00000  57426.00000   \n           xlm    usd       0.67117      0.7990      0.49511      0.52941   \n           xmr    usd     356.10000    518.7600    332.33000    421.04000   \n           xrp    usd       1.54150      1.7658      1.20040      1.59760   \n           xtz    usd       5.53800      8.4040      5.03660      5.60340   \n\n                              volume  \ndate       symbol base                \n2013-04-30 btc    usd   3.980673e+05  \n2013-05-31 btc    usd   2.439513e+05  \n           ltc    usd   3.452391e+03  \n2013-06-30 btc    usd   1.271055e+05  \n           ltc    usd   4.254523e+04  \n...                              ...  \n2021-05-31 wbtc   usd   1.541878e+00  \n           xlm    usd   1.407441e+08  \n           xmr    usd   1.530007e+05  \n           xrp    usd   1.071139e+09  \n           xtz    usd   1.483455e+07  \n\n[1081 rows x 5 columns]",
      "text/html": "<div>\n<style scoped>\n    .dataframe tbody tr th:only-of-type {\n        vertical-align: middle;\n    }\n\n    .dataframe tbody tr th {\n        vertical-align: top;\n    }\n\n    .dataframe thead th {\n        text-align: right;\n    }\n</style>\n<table border=\"1\" class=\"dataframe\">\n  <thead>\n    <tr style=\"text-align: right;\">\n      <th></th>\n      <th></th>\n      <th></th>\n      <th>close</th>\n      <th>high</th>\n      <th>low</th>\n      <th>open</th>\n      <th>volume</th>\n    </tr>\n    <tr>\n      <th>date</th>\n      <th>symbol</th>\n      <th>base</th>\n      <th></th>\n      <th></th>\n      <th></th>\n      <th></th>\n      <th></th>\n    </tr>\n  </thead>\n  <tbody>\n    <tr>\n      <th>2013-04-30</th>\n      <th>btc</th>\n      <th>usd</th>\n      <td>139.88000</td>\n      <td>290.0000</td>\n      <td>0.01000</td>\n      <td>93.25000</td>\n      <td>3.980673e+05</td>\n    </tr>\n    <tr>\n      <th rowspan=\"2\" valign=\"top\">2013-05-31</th>\n      <th>btc</th>\n      <th>usd</th>\n      <td>127.95000</td>\n      <td>140.6800</td>\n      <td>80.00000</td>\n      <td>139.88000</td>\n      <td>2.439513e+05</td>\n    </tr>\n    <tr>\n      <th>ltc</th>\n      <th>usd</th>\n      <td>2.75010</td>\n      <td>3.3000</td>\n      <td>2.72000</td>\n      <td>3.14910</td>\n      <td>3.452391e+03</td>\n    </tr>\n    <tr>\n      <th rowspan=\"2\" valign=\"top\">2013-06-30</th>\n      <th>btc</th>\n      <th>usd</th>\n      <td>89.55000</td>\n      <td>132.8700</td>\n      <td>86.15000</td>\n      <td>127.95000</td>\n      <td>1.271055e+05</td>\n    </tr>\n    <tr>\n      <th>ltc</th>\n      <th>usd</th>\n      <td>2.61400</td>\n      <td>20.0000</td>\n      <td>0.01000</td>\n      <td>2.75010</td>\n      <td>4.254523e+04</td>\n    </tr>\n    <tr>\n      <th>...</th>\n      <th>...</th>\n      <th>...</th>\n      <td>...</td>\n      <td>...</td>\n      <td>...</td>\n      <td>...</td>\n      <td>...</td>\n    </tr>\n    <tr>\n      <th rowspan=\"5\" valign=\"top\">2021-05-31</th>\n      <th>wbtc</th>\n      <th>usd</th>\n      <td>45016.00000</td>\n      <td>59531.0000</td>\n      <td>42134.00000</td>\n      <td>57426.00000</td>\n      <td>1.541878e+00</td>\n    </tr>\n    <tr>\n      <th>xlm</th>\n      <th>usd</th>\n      <td>0.67117</td>\n      <td>0.7990</td>\n      <td>0.49511</td>\n      <td>0.52941</td>\n      <td>1.407441e+08</td>\n    </tr>\n    <tr>\n      <th>xmr</th>\n      <th>usd</th>\n      <td>356.10000</td>\n      <td>518.7600</td>\n      <td>332.33000</td>\n      <td>421.04000</td>\n      <td>1.530007e+05</td>\n    </tr>\n    <tr>\n      <th>xrp</th>\n      <th>usd</th>\n      <td>1.54150</td>\n      <td>1.7658</td>\n      <td>1.20040</td>\n      <td>1.59760</td>\n      <td>1.071139e+09</td>\n    </tr>\n    <tr>\n      <th>xtz</th>\n      <th>usd</th>\n      <td>5.53800</td>\n      <td>8.4040</td>\n      <td>5.03660</td>\n      <td>5.60340</td>\n      <td>1.483455e+07</td>\n    </tr>\n  </tbody>\n</table>\n<p>1081 rows × 5 columns</p>\n</div>"
     },
     "execution_count": 27,
     "metadata": {},
     "output_type": "execute_result"
    }
   ],
   "source": [
    "# TODO resample every other value with default mean()?\n",
    "\n",
    "prices = pd.concat([prices['open'].unstack(level=[1, 2]).resample(timeframe).first(),\n",
    "                    prices['high'].unstack(level=[1,2]).resample(timeframe).max(),\n",
    "                    prices['low'].unstack(level=[1,2]).resample(timeframe).min(),\n",
    "                    prices['close'].unstack(level=[1,2]).resample(timeframe).last(),\n",
    "                    prices['volume'].unstack(level=[1,2]).resample(timeframe).sum(), ],\n",
    "                   keys=['open', 'high', 'low', 'close', 'volume'], axis=1).stack(level=[1, 2], dropna=True)\n",
    "prices.dropna(inplace=True)\n",
    "prices\n"
   ],
   "metadata": {
    "collapsed": false,
    "pycharm": {
     "name": "#%%\n"
    }
   }
  },
  {
   "cell_type": "markdown",
   "metadata": {},
   "source": [
    "To capture time series dynamics that reflect, for example, momentum patterns, we compute historical returns using the method `.pct_change(n_periods)`, that is, returns over various monthly periods as identified by lags.\n",
    "\n",
    "We then convert the wide result back to long format with the `.stack()` method, use `.pipe()` to apply the `.clip()` method to the resulting `DataFrame`, and winsorize returns at the [1%, 99%] levels; that is, we cap outliers at these percentiles.\n",
    "\n",
    "Finally, we normalize returns using the geometric average. After using `.swaplevel()` to change the order of the `MultiIndex` levels, we obtain compounded monthly returns for six periods ranging from 1 to 12 months:"
   ]
  },
  {
   "cell_type": "code",
   "execution_count": 28,
   "metadata": {
    "ExecuteTime": {
     "end_time": "2021-02-23T05:19:21.532507Z",
     "start_time": "2021-02-23T05:19:16.683603Z"
    }
   },
   "outputs": [
    {
     "name": "stdout",
     "output_type": "stream",
     "text": [
      "<class 'pandas.core.frame.DataFrame'>\n",
      "MultiIndex: 1081 entries, (Timestamp('2013-04-30 00:00:00', freq='M'), 'btc', 'usd') to (Timestamp('2021-05-31 00:00:00', freq='M'), 'xtz', 'usd')\n",
      "Data columns (total 6 columns):\n",
      " #   Column      Non-Null Count  Dtype  \n",
      "---  ------      --------------  -----  \n",
      " 0   return_1M   1046 non-null   float64\n",
      " 1   return_2M   1015 non-null   float64\n",
      " 2   return_3M   984 non-null    float64\n",
      " 3   return_6M   893 non-null    float64\n",
      " 4   return_9M   804 non-null    float64\n",
      " 5   return_12M  728 non-null    float64\n",
      "dtypes: float64(6)\n",
      "memory usage: 58.3+ KB\n"
     ]
    },
    {
     "data": {
      "text/plain": "(None,\n                         return_1M  return_2M  return_3M  return_6M  return_9M  \\\n date       symbol base                                                          \n 2013-04-30 btc    usd         NaN        NaN        NaN        NaN        NaN   \n 2013-05-31 btc    usd   -0.085287        NaN        NaN        NaN        NaN   \n            ltc    usd         NaN        NaN        NaN        NaN        NaN   \n 2013-06-30 btc    usd   -0.300117  -0.199880        NaN        NaN        NaN   \n            ltc    usd   -0.049489        NaN        NaN        NaN        NaN   \n ...                           ...        ...        ...        ...        ...   \n 2021-05-31 wbtc   usd   -0.216104  -0.121757  -0.001145   0.203549   0.157683   \n            xlm    usd    0.269136   0.288727   0.182655   0.220481   0.238735   \n            xmr    usd   -0.156501   0.200927   0.175361   0.182873   0.160369   \n            xrp    usd   -0.031052   0.644603   0.547860   0.150571   0.207915   \n            xtz    usd   -0.011671   0.071053   0.173742   0.142637   0.060730   \n \n                         return_12M  \n date       symbol base              \n 2013-04-30 btc    usd          NaN  \n 2013-05-31 btc    usd          NaN  \n            ltc    usd          NaN  \n 2013-06-30 btc    usd          NaN  \n            ltc    usd          NaN  \n ...                            ...  \n 2021-05-31 wbtc   usd     0.138413  \n            xlm    usd     0.206246  \n            xmr    usd     0.152244  \n            xrp    usd     0.184305  \n            xtz    usd     0.058487  \n \n [1081 rows x 6 columns])"
     },
     "execution_count": 28,
     "metadata": {},
     "output_type": "execute_result"
    }
   ],
   "source": [
    "outlier_cutoff = 0.01\n",
    "data = pd.DataFrame()\n",
    "lags = [1, 2, 3, 6, 9, 12]\n",
    "for lag in lags:\n",
    "    data[f'return_{lag}{timeframe}'] = (prices['close'].groupby(level=['symbol', 'base'])\n",
    "                           .pct_change(lag)\n",
    "                           #.stack()\n",
    "                           .pipe(lambda x: x.clip(lower=x.quantile(outlier_cutoff),\n",
    "                                                  upper=x.quantile(1-outlier_cutoff)))\n",
    "                           .add(1)\n",
    "                           .pow(1/lag)\n",
    "                           .sub(1)\n",
    "                           )\n",
    "#data = data.swaplevel().dropna()\n",
    "data.info(), data\n",
    "\n"
   ]
  },
  {
   "cell_type": "markdown",
   "metadata": {},
   "source": [
    "## Drop stocks with less than 24 months of returns"
   ]
  },
  {
   "cell_type": "code",
   "execution_count": 29,
   "metadata": {
    "ExecuteTime": {
     "end_time": "2021-02-23T05:19:26.897775Z",
     "start_time": "2021-02-23T05:19:21.533628Z"
    }
   },
   "outputs": [
    {
     "name": "stdout",
     "output_type": "stream",
     "text": [
      "nobs \n",
      "symbol\n",
      "aave      1\n",
      "ada      10\n",
      "algo     24\n",
      "atom     26\n",
      "bch       1\n",
      "bsv      30\n",
      "btc      98\n",
      "btt      28\n",
      "dai      38\n",
      "doge     11\n",
      "dot      10\n",
      "eos      47\n",
      "etc      59\n",
      "eth      63\n",
      "fil       8\n",
      "ftt      22\n",
      "ksm       9\n",
      "link      1\n",
      "ltc      97\n",
      "luna      1\n",
      "miota    48\n",
      "mkr      37\n",
      "neo      45\n",
      "okb      22\n",
      "sol       4\n",
      "trx      40\n",
      "uni       9\n",
      "usdc     30\n",
      "usdt     30\n",
      "vet      34\n",
      "wbtc     25\n",
      "xlm      37\n",
      "xmr      55\n",
      "xrp      49\n",
      "xtz      32\n",
      "dtype: int64\n",
      "nobs>min_obs \n",
      "symbol\n",
      "aave     False\n",
      "ada      False\n",
      "algo     False\n",
      "atom      True\n",
      "bch      False\n",
      "bsv       True\n",
      "btc       True\n",
      "btt       True\n",
      "dai       True\n",
      "doge     False\n",
      "dot      False\n",
      "eos       True\n",
      "etc       True\n",
      "eth       True\n",
      "fil      False\n",
      "ftt      False\n",
      "ksm      False\n",
      "link     False\n",
      "ltc       True\n",
      "luna     False\n",
      "miota     True\n",
      "mkr       True\n",
      "neo       True\n",
      "okb      False\n",
      "sol      False\n",
      "trx       True\n",
      "uni      False\n",
      "usdc      True\n",
      "usdt      True\n",
      "vet       True\n",
      "wbtc      True\n",
      "xlm       True\n",
      "xmr       True\n",
      "xrp       True\n",
      "xtz       True\n",
      "dtype: bool\n",
      "keep \n",
      "Index(['atom', 'bsv', 'btc', 'btt', 'dai', 'eos', 'etc', 'eth', 'ltc', 'miota',\n",
      "       'mkr', 'neo', 'trx', 'usdc', 'usdt', 'vet', 'wbtc', 'xlm', 'xmr', 'xrp',\n",
      "       'xtz'],\n",
      "      dtype='object', name='symbol')\n"
     ]
    }
   ],
   "source": [
    "min_obs = 24\n",
    "nobs = data.groupby(level='symbol').size()\n",
    "print(\"nobs \\n{}\".format(nobs))\n",
    "print(\"nobs>min_obs \\n{}\".format(nobs>min_obs))\n",
    "\n",
    "keep = nobs[nobs>min_obs].index\n",
    "print(\"keep \\n{}\".format(keep))\n",
    "\n",
    "\n",
    "# data.loc[(keep), :]\n",
    "data = data.loc[pd.IndexSlice[:, keep], :]\n",
    "\n",
    "prices_resampled = prices.loc[pd.IndexSlice[:, keep], :]"
   ]
  },
  {
   "cell_type": "code",
   "execution_count": 30,
   "metadata": {
    "ExecuteTime": {
     "end_time": "2021-02-23T05:19:26.970069Z",
     "start_time": "2021-02-23T05:19:26.898735Z"
    }
   },
   "outputs": [
    {
     "data": {
      "text/plain": "        return_1M   return_2M   return_3M   return_6M   return_9M  return_12M\ncount  927.000000  906.000000  885.000000  822.000000  759.000000  696.000000\nmean     0.111308    0.086210    0.071913    0.052325    0.039563    0.033525\nstd      0.449754    0.317772    0.242640    0.158179    0.120876    0.104650\nmin     -0.471383   -0.360514   -0.293887   -0.214816   -0.196478   -0.164511\n25%     -0.140644   -0.096222   -0.063155   -0.042312   -0.030676   -0.031842\n50%      0.000000    0.003644    0.004975    0.007733    0.011138    0.006585\n75%      0.233236    0.175596    0.157120    0.123889    0.090893    0.082414\nmax      2.439051    1.894662    1.195635    0.651778    0.413700    0.356977",
      "text/html": "<div>\n<style scoped>\n    .dataframe tbody tr th:only-of-type {\n        vertical-align: middle;\n    }\n\n    .dataframe tbody tr th {\n        vertical-align: top;\n    }\n\n    .dataframe thead th {\n        text-align: right;\n    }\n</style>\n<table border=\"1\" class=\"dataframe\">\n  <thead>\n    <tr style=\"text-align: right;\">\n      <th></th>\n      <th>return_1M</th>\n      <th>return_2M</th>\n      <th>return_3M</th>\n      <th>return_6M</th>\n      <th>return_9M</th>\n      <th>return_12M</th>\n    </tr>\n  </thead>\n  <tbody>\n    <tr>\n      <th>count</th>\n      <td>927.000000</td>\n      <td>906.000000</td>\n      <td>885.000000</td>\n      <td>822.000000</td>\n      <td>759.000000</td>\n      <td>696.000000</td>\n    </tr>\n    <tr>\n      <th>mean</th>\n      <td>0.111308</td>\n      <td>0.086210</td>\n      <td>0.071913</td>\n      <td>0.052325</td>\n      <td>0.039563</td>\n      <td>0.033525</td>\n    </tr>\n    <tr>\n      <th>std</th>\n      <td>0.449754</td>\n      <td>0.317772</td>\n      <td>0.242640</td>\n      <td>0.158179</td>\n      <td>0.120876</td>\n      <td>0.104650</td>\n    </tr>\n    <tr>\n      <th>min</th>\n      <td>-0.471383</td>\n      <td>-0.360514</td>\n      <td>-0.293887</td>\n      <td>-0.214816</td>\n      <td>-0.196478</td>\n      <td>-0.164511</td>\n    </tr>\n    <tr>\n      <th>25%</th>\n      <td>-0.140644</td>\n      <td>-0.096222</td>\n      <td>-0.063155</td>\n      <td>-0.042312</td>\n      <td>-0.030676</td>\n      <td>-0.031842</td>\n    </tr>\n    <tr>\n      <th>50%</th>\n      <td>0.000000</td>\n      <td>0.003644</td>\n      <td>0.004975</td>\n      <td>0.007733</td>\n      <td>0.011138</td>\n      <td>0.006585</td>\n    </tr>\n    <tr>\n      <th>75%</th>\n      <td>0.233236</td>\n      <td>0.175596</td>\n      <td>0.157120</td>\n      <td>0.123889</td>\n      <td>0.090893</td>\n      <td>0.082414</td>\n    </tr>\n    <tr>\n      <th>max</th>\n      <td>2.439051</td>\n      <td>1.894662</td>\n      <td>1.195635</td>\n      <td>0.651778</td>\n      <td>0.413700</td>\n      <td>0.356977</td>\n    </tr>\n  </tbody>\n</table>\n</div>"
     },
     "execution_count": 30,
     "metadata": {},
     "output_type": "execute_result"
    }
   ],
   "source": [
    "data.describe()"
   ]
  },
  {
   "cell_type": "code",
   "execution_count": 31,
   "metadata": {
    "ExecuteTime": {
     "end_time": "2021-02-23T05:19:27.590983Z",
     "start_time": "2021-02-23T05:19:26.970957Z"
    }
   },
   "outputs": [
    {
     "data": {
      "text/plain": "<Figure size 720x720 with 4 Axes>",
      "image/png": "[encoded data removed]"
     },
     "metadata": {},
     "output_type": "display_data"
    }
   ],
   "source": [
    "# cmap = sns.diverging_palette(10, 220, as_cmap=True)\n",
    "sns.clustermap(data.corr('spearman'), annot=True, center=0, cmap='Blues');"
   ]
  },
  {
   "cell_type": "markdown",
   "metadata": {},
   "source": [
    "We are left with 1,670 tickers."
   ]
  },
  {
   "cell_type": "code",
   "execution_count": 32,
   "metadata": {
    "ExecuteTime": {
     "end_time": "2021-02-23T05:19:27.626233Z",
     "start_time": "2021-02-23T05:19:27.592050Z"
    }
   },
   "outputs": [
    {
     "data": {
      "text/plain": "(Index(['btc', 'ltc', 'eth', 'etc', 'xmr', 'xrp', 'miota', 'eos', 'neo', 'trx',\n        'dai', 'mkr', 'xlm', 'vet', 'xtz', 'bsv', 'usdc', 'usdt', 'btt', 'atom',\n        'wbtc'],\n       dtype='object', name='symbol'),\n 21,\n 1)"
     },
     "execution_count": 32,
     "metadata": {},
     "output_type": "execute_result"
    }
   ],
   "source": [
    "# data.index.get_level_values(['symbol', 'base']).nunique()\n",
    "data.index.get_level_values('symbol').unique(), data.index.get_level_values('symbol').nunique(), data.index.get_level_values('base').nunique()"
   ]
  },
  {
   "cell_type": "markdown",
   "metadata": {},
   "source": [
    "## Rolling Factor Betas"
   ]
  },
  {
   "cell_type": "markdown",
   "metadata": {},
   "source": [
    "We will introduce the Fama—French data to estimate the exposure of assets to common risk factors using linear regression in [Chapter 9, Time Series Models](../09_time_series_models)."
   ]
  },
  {
   "cell_type": "markdown",
   "metadata": {},
   "source": [
    "The five Fama—French factors, namely market risk, size, value, operating profitability, and investment have been shown empirically to explain asset returns and are commonly used to assess the risk/return profile of portfolios. Hence, it is natural to include past factor exposures as financial features in models that aim to predict future returns."
   ]
  },
  {
   "cell_type": "markdown",
   "metadata": {},
   "source": [
    "We can access the historical factor returns using the `pandas-datareader` and estimate historical exposures using the `RollingOLS` rolling linear regression functionality in the `statsmodels` library as follows:"
   ]
  },
  {
   "cell_type": "markdown",
   "metadata": {},
   "source": [
    "Use Fama-French research factors to estimate the factor exposures of the stock in the dataset to the 5 factors market risk, size, value, operating profitability and investment."
   ]
  },
  {
   "cell_type": "code",
   "execution_count": 33,
   "metadata": {
    "ExecuteTime": {
     "end_time": "2021-02-23T05:19:27.990299Z",
     "start_time": "2021-02-23T05:19:27.627350Z"
    },
    "scrolled": false
   },
   "outputs": [
    {
     "name": "stdout",
     "output_type": "stream",
     "text": [
      "<class 'pandas.core.frame.DataFrame'>\n",
      "DatetimeIndex: 255 entries, 2000-01-31 to 2021-03-31\n",
      "Freq: M\n",
      "Data columns (total 5 columns):\n",
      " #   Column  Non-Null Count  Dtype  \n",
      "---  ------  --------------  -----  \n",
      " 0   Mkt-RF  255 non-null    float64\n",
      " 1   SMB     255 non-null    float64\n",
      " 2   HML     255 non-null    float64\n",
      " 3   RMW     255 non-null    float64\n",
      " 4   CMA     255 non-null    float64\n",
      "dtypes: float64(5)\n",
      "memory usage: 12.0 KB\n"
     ]
    }
   ],
   "source": [
    "factors = ['Mkt-RF', 'SMB', 'HML', 'RMW', 'CMA']\n",
    "factor_data = web.DataReader('F-F_Research_Data_5_Factors_2x3', 'famafrench', start='2000')[0].drop('RF', axis=1)\n",
    "factor_data.index = factor_data.index.to_timestamp()\n",
    "factor_data = factor_data.resample(timeframe).last().div(100)\n",
    "factor_data.index.name = 'date'\n",
    "factor_data.info()"
   ]
  },
  {
   "cell_type": "code",
   "execution_count": 34,
   "metadata": {
    "ExecuteTime": {
     "end_time": "2021-02-23T05:19:28.044094Z",
     "start_time": "2021-02-23T05:19:27.991591Z"
    },
    "scrolled": true
   },
   "outputs": [
    {
     "name": "stdout",
     "output_type": "stream",
     "text": [
      "<class 'pandas.core.frame.DataFrame'>\n",
      "MultiIndex: 906 entries, (Timestamp('2013-04-30 00:00:00', freq='M'), 'btc', 'usd') to (Timestamp('2021-03-31 00:00:00', freq='M'), 'xtz', 'usd')\n",
      "Data columns (total 6 columns):\n",
      " #   Column     Non-Null Count  Dtype  \n",
      "---  ------     --------------  -----  \n",
      " 0   Mkt-RF     906 non-null    float64\n",
      " 1   SMB        906 non-null    float64\n",
      " 2   HML        906 non-null    float64\n",
      " 3   RMW        906 non-null    float64\n",
      " 4   CMA        906 non-null    float64\n",
      " 5   return_1M  885 non-null    float64\n",
      "dtypes: float64(6)\n",
      "memory usage: 57.7+ KB\n"
     ]
    }
   ],
   "source": [
    "factor_data = factor_data.join(data[f'return_1{timeframe}']).sort_index()\n",
    "factor_data.info()"
   ]
  },
  {
   "cell_type": "code",
   "execution_count": 35,
   "outputs": [
    {
     "data": {
      "text/plain": "           Mkt-RF         SMB         HML         RMW         CMA   return_1M\ncount  906.000000  906.000000  906.000000  906.000000  906.000000  885.000000\nmean     0.014054    0.001840   -0.007215    0.001011   -0.001674    0.102546\nstd      0.051435    0.031457    0.037824    0.018071    0.018063    0.445101\nmin     -0.133800   -0.083800   -0.139600   -0.039300   -0.033500   -0.471383\n25%     -0.001100   -0.019100   -0.025100   -0.011500   -0.014400   -0.146294\n50%      0.019400    0.002000   -0.013600    0.000900   -0.003800   -0.000299\n75%      0.038700    0.019400    0.014500    0.008600    0.010500    0.226130\nmax      0.136500    0.068800    0.082200    0.064300    0.046800    2.439051",
      "text/html": "<div>\n<style scoped>\n    .dataframe tbody tr th:only-of-type {\n        vertical-align: middle;\n    }\n\n    .dataframe tbody tr th {\n        vertical-align: top;\n    }\n\n    .dataframe thead th {\n        text-align: right;\n    }\n</style>\n<table border=\"1\" class=\"dataframe\">\n  <thead>\n    <tr style=\"text-align: right;\">\n      <th></th>\n      <th>Mkt-RF</th>\n      <th>SMB</th>\n      <th>HML</th>\n      <th>RMW</th>\n      <th>CMA</th>\n      <th>return_1M</th>\n    </tr>\n  </thead>\n  <tbody>\n    <tr>\n      <th>count</th>\n      <td>906.000000</td>\n      <td>906.000000</td>\n      <td>906.000000</td>\n      <td>906.000000</td>\n      <td>906.000000</td>\n      <td>885.000000</td>\n    </tr>\n    <tr>\n      <th>mean</th>\n      <td>0.014054</td>\n      <td>0.001840</td>\n      <td>-0.007215</td>\n      <td>0.001011</td>\n      <td>-0.001674</td>\n      <td>0.102546</td>\n    </tr>\n    <tr>\n      <th>std</th>\n      <td>0.051435</td>\n      <td>0.031457</td>\n      <td>0.037824</td>\n      <td>0.018071</td>\n      <td>0.018063</td>\n      <td>0.445101</td>\n    </tr>\n    <tr>\n      <th>min</th>\n      <td>-0.133800</td>\n      <td>-0.083800</td>\n      <td>-0.139600</td>\n      <td>-0.039300</td>\n      <td>-0.033500</td>\n      <td>-0.471383</td>\n    </tr>\n    <tr>\n      <th>25%</th>\n      <td>-0.001100</td>\n      <td>-0.019100</td>\n      <td>-0.025100</td>\n      <td>-0.011500</td>\n      <td>-0.014400</td>\n      <td>-0.146294</td>\n    </tr>\n    <tr>\n      <th>50%</th>\n      <td>0.019400</td>\n      <td>0.002000</td>\n      <td>-0.013600</td>\n      <td>0.000900</td>\n      <td>-0.003800</td>\n      <td>-0.000299</td>\n    </tr>\n    <tr>\n      <th>75%</th>\n      <td>0.038700</td>\n      <td>0.019400</td>\n      <td>0.014500</td>\n      <td>0.008600</td>\n      <td>0.010500</td>\n      <td>0.226130</td>\n    </tr>\n    <tr>\n      <th>max</th>\n      <td>0.136500</td>\n      <td>0.068800</td>\n      <td>0.082200</td>\n      <td>0.064300</td>\n      <td>0.046800</td>\n      <td>2.439051</td>\n    </tr>\n  </tbody>\n</table>\n</div>"
     },
     "execution_count": 35,
     "metadata": {},
     "output_type": "execute_result"
    }
   ],
   "source": [
    "factor_data.describe()"
   ],
   "metadata": {
    "collapsed": false,
    "pycharm": {
     "name": "#%%\n"
    }
   }
  },
  {
   "cell_type": "code",
   "execution_count": 36,
   "outputs": [
    {
     "data": {
      "text/plain": "                        Mkt-RF     SMB     HML     RMW     CMA  return_1M\ndate       symbol base                                                   \n2013-04-30 btc    usd   0.0155 -0.0228  0.0053  0.0013  0.0048        NaN\n2013-05-31 btc    usd   0.0280  0.0200  0.0261 -0.0201 -0.0074  -0.085287\n           ltc    usd   0.0280  0.0200  0.0261 -0.0201 -0.0074        NaN\n2013-06-30 btc    usd  -0.0120  0.0135 -0.0009 -0.0035 -0.0002  -0.300117\n           ltc    usd  -0.0120  0.0135 -0.0009 -0.0035 -0.0002  -0.049489\n2013-07-31 btc    usd   0.0565  0.0181  0.0056 -0.0133  0.0055   0.096371\n           ltc    usd   0.0565  0.0181  0.0056 -0.0133  0.0055  -0.013007\n2013-08-31 btc    usd  -0.0271 -0.0003 -0.0266  0.0059 -0.0218   0.301691\n           ltc    usd  -0.0271 -0.0003 -0.0266  0.0059 -0.0218  -0.065891\n2013-09-30 btc    usd   0.0377  0.0265 -0.0115 -0.0060 -0.0126  -0.014476",
      "text/html": "<div>\n<style scoped>\n    .dataframe tbody tr th:only-of-type {\n        vertical-align: middle;\n    }\n\n    .dataframe tbody tr th {\n        vertical-align: top;\n    }\n\n    .dataframe thead th {\n        text-align: right;\n    }\n</style>\n<table border=\"1\" class=\"dataframe\">\n  <thead>\n    <tr style=\"text-align: right;\">\n      <th></th>\n      <th></th>\n      <th></th>\n      <th>Mkt-RF</th>\n      <th>SMB</th>\n      <th>HML</th>\n      <th>RMW</th>\n      <th>CMA</th>\n      <th>return_1M</th>\n    </tr>\n    <tr>\n      <th>date</th>\n      <th>symbol</th>\n      <th>base</th>\n      <th></th>\n      <th></th>\n      <th></th>\n      <th></th>\n      <th></th>\n      <th></th>\n    </tr>\n  </thead>\n  <tbody>\n    <tr>\n      <th>2013-04-30</th>\n      <th>btc</th>\n      <th>usd</th>\n      <td>0.0155</td>\n      <td>-0.0228</td>\n      <td>0.0053</td>\n      <td>0.0013</td>\n      <td>0.0048</td>\n      <td>NaN</td>\n    </tr>\n    <tr>\n      <th rowspan=\"2\" valign=\"top\">2013-05-31</th>\n      <th>btc</th>\n      <th>usd</th>\n      <td>0.0280</td>\n      <td>0.0200</td>\n      <td>0.0261</td>\n      <td>-0.0201</td>\n      <td>-0.0074</td>\n      <td>-0.085287</td>\n    </tr>\n    <tr>\n      <th>ltc</th>\n      <th>usd</th>\n      <td>0.0280</td>\n      <td>0.0200</td>\n      <td>0.0261</td>\n      <td>-0.0201</td>\n      <td>-0.0074</td>\n      <td>NaN</td>\n    </tr>\n    <tr>\n      <th rowspan=\"2\" valign=\"top\">2013-06-30</th>\n      <th>btc</th>\n      <th>usd</th>\n      <td>-0.0120</td>\n      <td>0.0135</td>\n      <td>-0.0009</td>\n      <td>-0.0035</td>\n      <td>-0.0002</td>\n      <td>-0.300117</td>\n    </tr>\n    <tr>\n      <th>ltc</th>\n      <th>usd</th>\n      <td>-0.0120</td>\n      <td>0.0135</td>\n      <td>-0.0009</td>\n      <td>-0.0035</td>\n      <td>-0.0002</td>\n      <td>-0.049489</td>\n    </tr>\n    <tr>\n      <th rowspan=\"2\" valign=\"top\">2013-07-31</th>\n      <th>btc</th>\n      <th>usd</th>\n      <td>0.0565</td>\n      <td>0.0181</td>\n      <td>0.0056</td>\n      <td>-0.0133</td>\n      <td>0.0055</td>\n      <td>0.096371</td>\n    </tr>\n    <tr>\n      <th>ltc</th>\n      <th>usd</th>\n      <td>0.0565</td>\n      <td>0.0181</td>\n      <td>0.0056</td>\n      <td>-0.0133</td>\n      <td>0.0055</td>\n      <td>-0.013007</td>\n    </tr>\n    <tr>\n      <th rowspan=\"2\" valign=\"top\">2013-08-31</th>\n      <th>btc</th>\n      <th>usd</th>\n      <td>-0.0271</td>\n      <td>-0.0003</td>\n      <td>-0.0266</td>\n      <td>0.0059</td>\n      <td>-0.0218</td>\n      <td>0.301691</td>\n    </tr>\n    <tr>\n      <th>ltc</th>\n      <th>usd</th>\n      <td>-0.0271</td>\n      <td>-0.0003</td>\n      <td>-0.0266</td>\n      <td>0.0059</td>\n      <td>-0.0218</td>\n      <td>-0.065891</td>\n    </tr>\n    <tr>\n      <th>2013-09-30</th>\n      <th>btc</th>\n      <th>usd</th>\n      <td>0.0377</td>\n      <td>0.0265</td>\n      <td>-0.0115</td>\n      <td>-0.0060</td>\n      <td>-0.0126</td>\n      <td>-0.014476</td>\n    </tr>\n  </tbody>\n</table>\n</div>"
     },
     "execution_count": 36,
     "metadata": {},
     "output_type": "execute_result"
    }
   ],
   "source": [
    "factor_data.head(10)"
   ],
   "metadata": {
    "collapsed": false,
    "pycharm": {
     "name": "#%%\n"
    }
   }
  },
  {
   "cell_type": "code",
   "execution_count": 37,
   "metadata": {
    "ExecuteTime": {
     "end_time": "2021-02-23T05:20:14.838012Z",
     "start_time": "2021-02-23T05:20:00.361713Z"
    }
   },
   "outputs": [],
   "source": [
    "T = 24\n",
    "betas = (factor_data.groupby(level='symbol',\n",
    "                             group_keys=False)\n",
    "         .apply(lambda x: RollingOLS(endog=x[f'return_1{timeframe}'],\n",
    "                                     exog=sm.add_constant(x.drop(f'return_1{timeframe}', axis=1)),\n",
    "                                     window=min(T, x.shape[0]-1))\n",
    "                .fit(params_only=True)\n",
    "                .params\n",
    "                .drop('const', axis=1)))"
   ]
  },
  {
   "cell_type": "code",
   "execution_count": 38,
   "metadata": {
    "ExecuteTime": {
     "end_time": "2021-02-23T05:20:14.956459Z",
     "start_time": "2021-02-23T05:20:14.839027Z"
    }
   },
   "outputs": [
    {
     "data": {
      "text/plain": "           Mkt-RF         SMB         HML         RMW         CMA       total\ncount  426.000000  426.000000  426.000000  426.000000  426.000000  906.000000\nmean     0.819256   -0.742253   -1.035056    2.878040    0.326473    1.056282\nstd      1.768994    3.508994    3.372013    8.665479    6.162487    7.259653\nmin     -8.357970  -10.671231  -14.521548  -27.119256  -19.285862  -27.418097\n25%      0.038374   -2.838090   -2.218172   -1.737595   -3.561567    0.000000\n50%      0.820761   -0.722384   -0.424688    3.064818   -0.417532    0.000000\n75%      1.745097    1.403280    0.759190    7.660606    3.199323    1.495646\nmax      4.798577    9.569106    6.331182   28.013475   23.309071   47.474588",
      "text/html": "<div>\n<style scoped>\n    .dataframe tbody tr th:only-of-type {\n        vertical-align: middle;\n    }\n\n    .dataframe tbody tr th {\n        vertical-align: top;\n    }\n\n    .dataframe thead th {\n        text-align: right;\n    }\n</style>\n<table border=\"1\" class=\"dataframe\">\n  <thead>\n    <tr style=\"text-align: right;\">\n      <th></th>\n      <th>Mkt-RF</th>\n      <th>SMB</th>\n      <th>HML</th>\n      <th>RMW</th>\n      <th>CMA</th>\n      <th>total</th>\n    </tr>\n  </thead>\n  <tbody>\n    <tr>\n      <th>count</th>\n      <td>426.000000</td>\n      <td>426.000000</td>\n      <td>426.000000</td>\n      <td>426.000000</td>\n      <td>426.000000</td>\n      <td>906.000000</td>\n    </tr>\n    <tr>\n      <th>mean</th>\n      <td>0.819256</td>\n      <td>-0.742253</td>\n      <td>-1.035056</td>\n      <td>2.878040</td>\n      <td>0.326473</td>\n      <td>1.056282</td>\n    </tr>\n    <tr>\n      <th>std</th>\n      <td>1.768994</td>\n      <td>3.508994</td>\n      <td>3.372013</td>\n      <td>8.665479</td>\n      <td>6.162487</td>\n      <td>7.259653</td>\n    </tr>\n    <tr>\n      <th>min</th>\n      <td>-8.357970</td>\n      <td>-10.671231</td>\n      <td>-14.521548</td>\n      <td>-27.119256</td>\n      <td>-19.285862</td>\n      <td>-27.418097</td>\n    </tr>\n    <tr>\n      <th>25%</th>\n      <td>0.038374</td>\n      <td>-2.838090</td>\n      <td>-2.218172</td>\n      <td>-1.737595</td>\n      <td>-3.561567</td>\n      <td>0.000000</td>\n    </tr>\n    <tr>\n      <th>50%</th>\n      <td>0.820761</td>\n      <td>-0.722384</td>\n      <td>-0.424688</td>\n      <td>3.064818</td>\n      <td>-0.417532</td>\n      <td>0.000000</td>\n    </tr>\n    <tr>\n      <th>75%</th>\n      <td>1.745097</td>\n      <td>1.403280</td>\n      <td>0.759190</td>\n      <td>7.660606</td>\n      <td>3.199323</td>\n      <td>1.495646</td>\n    </tr>\n    <tr>\n      <th>max</th>\n      <td>4.798577</td>\n      <td>9.569106</td>\n      <td>6.331182</td>\n      <td>28.013475</td>\n      <td>23.309071</td>\n      <td>47.474588</td>\n    </tr>\n  </tbody>\n</table>\n</div>"
     },
     "execution_count": 38,
     "metadata": {},
     "output_type": "execute_result"
    }
   ],
   "source": [
    "betas.describe().join(betas.sum(1).describe().to_frame('total'))"
   ]
  },
  {
   "cell_type": "code",
   "execution_count": 39,
   "metadata": {
    "ExecuteTime": {
     "end_time": "2021-02-23T05:20:15.371589Z",
     "start_time": "2021-02-23T05:20:14.957639Z"
    }
   },
   "outputs": [
    {
     "data": {
      "text/plain": "<Figure size 720x720 with 4 Axes>",
      "image/png": "[encoded data removed]"
     },
     "metadata": {},
     "output_type": "display_data"
    }
   ],
   "source": [
    "cmap = sns.diverging_palette(10, 220, as_cmap=True)\n",
    "sns.clustermap(betas.corr(), annot=True, cmap=cmap, center=0);"
   ]
  },
  {
   "cell_type": "code",
   "execution_count": 40,
   "metadata": {
    "ExecuteTime": {
     "end_time": "2021-02-23T05:20:15.484907Z",
     "start_time": "2021-02-23T05:20:15.373158Z"
    },
    "scrolled": true
   },
   "outputs": [
    {
     "name": "stdout",
     "output_type": "stream",
     "text": [
      "<class 'pandas.core.frame.DataFrame'>\n",
      "MultiIndex: 948 entries, (Timestamp('2013-04-30 00:00:00', freq='M'), 'btc', 'usd') to (Timestamp('2021-05-31 00:00:00', freq='M'), 'xtz', 'usd')\n",
      "Data columns (total 11 columns):\n",
      " #   Column      Non-Null Count  Dtype  \n",
      "---  ------      --------------  -----  \n",
      " 0   return_1M   927 non-null    float64\n",
      " 1   return_2M   906 non-null    float64\n",
      " 2   return_3M   885 non-null    float64\n",
      " 3   return_6M   822 non-null    float64\n",
      " 4   return_9M   759 non-null    float64\n",
      " 5   return_12M  696 non-null    float64\n",
      " 6   Mkt-RF      405 non-null    float64\n",
      " 7   SMB         405 non-null    float64\n",
      " 8   HML         405 non-null    float64\n",
      " 9   RMW         405 non-null    float64\n",
      " 10  CMA         405 non-null    float64\n",
      "dtypes: float64(11)\n",
      "memory usage: 121.0+ KB\n"
     ]
    }
   ],
   "source": [
    "data = (data\n",
    "        .join(betas\n",
    "              .groupby(level='symbol')\n",
    "              .shift()))\n",
    "data.info()"
   ]
  },
  {
   "cell_type": "markdown",
   "metadata": {},
   "source": [
    "### Impute mean for missing factor betas"
   ]
  },
  {
   "cell_type": "code",
   "execution_count": 41,
   "metadata": {
    "ExecuteTime": {
     "end_time": "2021-02-23T05:20:17.844522Z",
     "start_time": "2021-02-23T05:20:15.486168Z"
    }
   },
   "outputs": [
    {
     "name": "stdout",
     "output_type": "stream",
     "text": [
      "<class 'pandas.core.frame.DataFrame'>\n",
      "MultiIndex: 948 entries, (Timestamp('2013-04-30 00:00:00', freq='M'), 'btc', 'usd') to (Timestamp('2021-05-31 00:00:00', freq='M'), 'xtz', 'usd')\n",
      "Data columns (total 11 columns):\n",
      " #   Column      Non-Null Count  Dtype  \n",
      "---  ------      --------------  -----  \n",
      " 0   return_1M   927 non-null    float64\n",
      " 1   return_2M   906 non-null    float64\n",
      " 2   return_3M   885 non-null    float64\n",
      " 3   return_6M   822 non-null    float64\n",
      " 4   return_9M   759 non-null    float64\n",
      " 5   return_12M  696 non-null    float64\n",
      " 6   Mkt-RF      948 non-null    float64\n",
      " 7   SMB         948 non-null    float64\n",
      " 8   HML         948 non-null    float64\n",
      " 9   RMW         948 non-null    float64\n",
      " 10  CMA         948 non-null    float64\n",
      "dtypes: float64(11)\n",
      "memory usage: 121.0+ KB\n"
     ]
    }
   ],
   "source": [
    "data.loc[:, factors] = data.groupby('symbol')[factors].apply(lambda x: x.fillna(x.mean()))\n",
    "data.info()"
   ]
  },
  {
   "cell_type": "markdown",
   "metadata": {},
   "source": [
    "## Momentum factors"
   ]
  },
  {
   "cell_type": "markdown",
   "metadata": {},
   "source": [
    "We can use these results to compute momentum factors based on the difference between returns over longer periods and the most recent monthly return, as well as for the difference between 3 and 12 month returns as follows:"
   ]
  },
  {
   "cell_type": "code",
   "execution_count": 42,
   "metadata": {
    "ExecuteTime": {
     "end_time": "2021-02-23T05:20:17.855707Z",
     "start_time": "2021-02-23T05:20:17.845556Z"
    }
   },
   "outputs": [],
   "source": [
    "for lag in [2,3,6,9,12]:\n",
    "    data[f'momentum_{lag}'] = data[f'return_{lag}{timeframe}'].sub(data[f'return_1{timeframe}'])\n",
    "data[f'momentum_3_12'] = data[f'return_12{timeframe}'].sub(data[f'return_3{timeframe}'])"
   ]
  },
  {
   "cell_type": "markdown",
   "metadata": {},
   "source": [
    "## Date Indicators"
   ]
  },
  {
   "cell_type": "code",
   "execution_count": 43,
   "metadata": {
    "ExecuteTime": {
     "end_time": "2021-02-23T05:20:17.904053Z",
     "start_time": "2021-02-23T05:20:17.857056Z"
    }
   },
   "outputs": [],
   "source": [
    "dates = data.index.get_level_values('date')\n",
    "data['year'] = dates.year\n",
    "data['month'] = dates.month"
   ]
  },
  {
   "cell_type": "markdown",
   "metadata": {},
   "source": [
    "## Lagged returns"
   ]
  },
  {
   "cell_type": "markdown",
   "metadata": {},
   "source": [
    "To use lagged values as input variables or features associated with the current observations, we use the .shift() method to move historical returns up to the current period:"
   ]
  },
  {
   "cell_type": "code",
   "execution_count": 44,
   "metadata": {
    "ExecuteTime": {
     "end_time": "2021-02-23T05:20:18.064961Z",
     "start_time": "2021-02-23T05:20:17.906033Z"
    }
   },
   "outputs": [
    {
     "name": "stdout",
     "output_type": "stream",
     "text": [
      "<class 'pandas.core.frame.DataFrame'>\n",
      "MultiIndex: 948 entries, (Timestamp('2013-04-30 00:00:00', freq='M'), 'btc', 'usd') to (Timestamp('2021-05-31 00:00:00', freq='M'), 'xtz', 'usd')\n",
      "Data columns (total 25 columns):\n",
      " #   Column         Non-Null Count  Dtype  \n",
      "---  ------         --------------  -----  \n",
      " 0   return_1M      927 non-null    float64\n",
      " 1   return_2M      906 non-null    float64\n",
      " 2   return_3M      885 non-null    float64\n",
      " 3   return_6M      822 non-null    float64\n",
      " 4   return_9M      759 non-null    float64\n",
      " 5   return_12M     696 non-null    float64\n",
      " 6   Mkt-RF         948 non-null    float64\n",
      " 7   SMB            948 non-null    float64\n",
      " 8   HML            948 non-null    float64\n",
      " 9   RMW            948 non-null    float64\n",
      " 10  CMA            948 non-null    float64\n",
      " 11  momentum_2     906 non-null    float64\n",
      " 12  momentum_3     885 non-null    float64\n",
      " 13  momentum_6     822 non-null    float64\n",
      " 14  momentum_9     759 non-null    float64\n",
      " 15  momentum_12    696 non-null    float64\n",
      " 16  momentum_3_12  696 non-null    float64\n",
      " 17  year           948 non-null    int64  \n",
      " 18  month          948 non-null    int64  \n",
      " 19  return_1M_t-1  906 non-null    float64\n",
      " 20  return_1M_t-2  885 non-null    float64\n",
      " 21  return_1M_t-3  864 non-null    float64\n",
      " 22  return_1M_t-4  843 non-null    float64\n",
      " 23  return_1M_t-5  822 non-null    float64\n",
      " 24  return_1M_t-6  801 non-null    float64\n",
      "dtypes: float64(23), int64(2)\n",
      "memory usage: 224.7+ KB\n"
     ]
    }
   ],
   "source": [
    "for t in range(1, 7):\n",
    "    data[f'return_1{timeframe}_t-{t}'] = data.groupby(level='symbol')[f'return_1{timeframe}'].shift(t)\n",
    "data.info()"
   ]
  },
  {
   "cell_type": "markdown",
   "metadata": {},
   "source": [
    "## Target: Holding Period Returns"
   ]
  },
  {
   "cell_type": "markdown",
   "metadata": {},
   "source": [
    "Similarly, to compute returns for various holding periods, we use the normalized period returns computed previously and shift them back to align them with the current financial features"
   ]
  },
  {
   "cell_type": "code",
   "execution_count": 45,
   "metadata": {
    "ExecuteTime": {
     "end_time": "2021-02-23T05:20:18.219242Z",
     "start_time": "2021-02-23T05:20:18.066139Z"
    }
   },
   "outputs": [],
   "source": [
    "for t in [1,2,3,6,12]:\n",
    "    data[f'target_{t}{timeframe}'] = data.groupby(level='symbol')[f'return_{t}{timeframe}'].shift(-t)"
   ]
  },
  {
   "cell_type": "code",
   "execution_count": 46,
   "metadata": {
    "ExecuteTime": {
     "end_time": "2021-02-23T05:20:18.309814Z",
     "start_time": "2021-02-23T05:20:18.220171Z"
    }
   },
   "outputs": [
    {
     "data": {
      "text/plain": "(['return_1M',\n  'return_2M',\n  'return_3M',\n  'return_6M',\n  'return_9M',\n  'return_12M',\n  'Mkt-RF',\n  'SMB',\n  'HML',\n  'RMW',\n  'CMA',\n  'momentum_2',\n  'momentum_3',\n  'momentum_6',\n  'momentum_9',\n  'momentum_12',\n  'momentum_3_12',\n  'year',\n  'month',\n  'return_1M_t-1',\n  'return_1M_t-2',\n  'return_1M_t-3',\n  'return_1M_t-4',\n  'return_1M_t-5',\n  'return_1M_t-6',\n  'target_1M',\n  'target_2M',\n  'target_3M',\n  'target_6M',\n  'target_12M'],\n 'M')"
     },
     "execution_count": 46,
     "metadata": {},
     "output_type": "execute_result"
    }
   ],
   "source": [
    "data.columns.values.tolist(), timeframe"
   ]
  },
  {
   "cell_type": "code",
   "execution_count": 47,
   "outputs": [
    {
     "data": {
      "text/plain": "                        target_1M  target_2M  target_3M  return_1M  return_2M  \\\ndate       symbol base                                                          \n2013-08-31 btc    usd   -0.014476   0.258834   1.061103   0.301691   0.194628   \n2013-09-30 btc    usd    0.607940   1.894662   0.796275  -0.014476   0.132629   \n           ltc    usd    0.015556   1.894662   1.195122  -0.066390  -0.066141   \n2013-10-31 btc    usd    2.439051   0.898561   0.583091   0.607940   0.258834   \n           ltc    usd    2.439051   1.894662   1.096641   0.015556  -0.026279   \n2013-11-30 btc    usd   -0.347641  -0.152621  -0.209442   2.439051   1.894662   \n           ltc    usd   -0.397494  -0.269819  -0.293887   2.439051   1.894662   \n2013-12-31 btc    usd    0.100700  -0.129724  -0.144852  -0.347641   0.898561   \n           ltc    usd   -0.115089  -0.246840  -0.187187  -0.397494   1.894662   \n2014-01-31 btc    usd   -0.311910  -0.246250  -0.176317   0.100700  -0.152621   \n\n                        return_3M  return_1M_t-1  return_1M_t-2  return_1M_t-3  \ndate       symbol base                                                          \n2013-08-31 btc    usd   -0.000391       0.096371      -0.300117      -0.085287  \n2013-09-30 btc    usd    0.120411       0.301691       0.096371      -0.300117  \n           ltc    usd   -0.048755      -0.065891      -0.013007      -0.049489  \n2013-10-31 btc    usd    0.272961      -0.014476       0.301691       0.096371  \n           ltc    usd   -0.039666      -0.066390      -0.065891      -0.013007  \n2013-11-30 btc    usd    1.061103       0.607940      -0.014476       0.301691  \n           ltc    usd    1.195635       0.015556      -0.066390      -0.065891  \n2013-12-31 btc    usd    0.796275       2.439051       0.607940      -0.014476  \n           ltc    usd    1.195122       2.439051       0.015556      -0.066390  \n2014-01-31 btc    usd    0.583091      -0.347641       2.439051       0.607940  ",
      "text/html": "<div>\n<style scoped>\n    .dataframe tbody tr th:only-of-type {\n        vertical-align: middle;\n    }\n\n    .dataframe tbody tr th {\n        vertical-align: top;\n    }\n\n    .dataframe thead th {\n        text-align: right;\n    }\n</style>\n<table border=\"1\" class=\"dataframe\">\n  <thead>\n    <tr style=\"text-align: right;\">\n      <th></th>\n      <th></th>\n      <th></th>\n      <th>target_1M</th>\n      <th>target_2M</th>\n      <th>target_3M</th>\n      <th>return_1M</th>\n      <th>return_2M</th>\n      <th>return_3M</th>\n      <th>return_1M_t-1</th>\n      <th>return_1M_t-2</th>\n      <th>return_1M_t-3</th>\n    </tr>\n    <tr>\n      <th>date</th>\n      <th>symbol</th>\n      <th>base</th>\n      <th></th>\n      <th></th>\n      <th></th>\n      <th></th>\n      <th></th>\n      <th></th>\n      <th></th>\n      <th></th>\n      <th></th>\n    </tr>\n  </thead>\n  <tbody>\n    <tr>\n      <th>2013-08-31</th>\n      <th>btc</th>\n      <th>usd</th>\n      <td>-0.014476</td>\n      <td>0.258834</td>\n      <td>1.061103</td>\n      <td>0.301691</td>\n      <td>0.194628</td>\n      <td>-0.000391</td>\n      <td>0.096371</td>\n      <td>-0.300117</td>\n      <td>-0.085287</td>\n    </tr>\n    <tr>\n      <th rowspan=\"2\" valign=\"top\">2013-09-30</th>\n      <th>btc</th>\n      <th>usd</th>\n      <td>0.607940</td>\n      <td>1.894662</td>\n      <td>0.796275</td>\n      <td>-0.014476</td>\n      <td>0.132629</td>\n      <td>0.120411</td>\n      <td>0.301691</td>\n      <td>0.096371</td>\n      <td>-0.300117</td>\n    </tr>\n    <tr>\n      <th>ltc</th>\n      <th>usd</th>\n      <td>0.015556</td>\n      <td>1.894662</td>\n      <td>1.195122</td>\n      <td>-0.066390</td>\n      <td>-0.066141</td>\n      <td>-0.048755</td>\n      <td>-0.065891</td>\n      <td>-0.013007</td>\n      <td>-0.049489</td>\n    </tr>\n    <tr>\n      <th rowspan=\"2\" valign=\"top\">2013-10-31</th>\n      <th>btc</th>\n      <th>usd</th>\n      <td>2.439051</td>\n      <td>0.898561</td>\n      <td>0.583091</td>\n      <td>0.607940</td>\n      <td>0.258834</td>\n      <td>0.272961</td>\n      <td>-0.014476</td>\n      <td>0.301691</td>\n      <td>0.096371</td>\n    </tr>\n    <tr>\n      <th>ltc</th>\n      <th>usd</th>\n      <td>2.439051</td>\n      <td>1.894662</td>\n      <td>1.096641</td>\n      <td>0.015556</td>\n      <td>-0.026279</td>\n      <td>-0.039666</td>\n      <td>-0.066390</td>\n      <td>-0.065891</td>\n      <td>-0.013007</td>\n    </tr>\n    <tr>\n      <th rowspan=\"2\" valign=\"top\">2013-11-30</th>\n      <th>btc</th>\n      <th>usd</th>\n      <td>-0.347641</td>\n      <td>-0.152621</td>\n      <td>-0.209442</td>\n      <td>2.439051</td>\n      <td>1.894662</td>\n      <td>1.061103</td>\n      <td>0.607940</td>\n      <td>-0.014476</td>\n      <td>0.301691</td>\n    </tr>\n    <tr>\n      <th>ltc</th>\n      <th>usd</th>\n      <td>-0.397494</td>\n      <td>-0.269819</td>\n      <td>-0.293887</td>\n      <td>2.439051</td>\n      <td>1.894662</td>\n      <td>1.195635</td>\n      <td>0.015556</td>\n      <td>-0.066390</td>\n      <td>-0.065891</td>\n    </tr>\n    <tr>\n      <th rowspan=\"2\" valign=\"top\">2013-12-31</th>\n      <th>btc</th>\n      <th>usd</th>\n      <td>0.100700</td>\n      <td>-0.129724</td>\n      <td>-0.144852</td>\n      <td>-0.347641</td>\n      <td>0.898561</td>\n      <td>0.796275</td>\n      <td>2.439051</td>\n      <td>0.607940</td>\n      <td>-0.014476</td>\n    </tr>\n    <tr>\n      <th>ltc</th>\n      <th>usd</th>\n      <td>-0.115089</td>\n      <td>-0.246840</td>\n      <td>-0.187187</td>\n      <td>-0.397494</td>\n      <td>1.894662</td>\n      <td>1.195122</td>\n      <td>2.439051</td>\n      <td>0.015556</td>\n      <td>-0.066390</td>\n    </tr>\n    <tr>\n      <th>2014-01-31</th>\n      <th>btc</th>\n      <th>usd</th>\n      <td>-0.311910</td>\n      <td>-0.246250</td>\n      <td>-0.176317</td>\n      <td>0.100700</td>\n      <td>-0.152621</td>\n      <td>0.583091</td>\n      <td>-0.347641</td>\n      <td>2.439051</td>\n      <td>0.607940</td>\n    </tr>\n  </tbody>\n</table>\n</div>"
     },
     "execution_count": 47,
     "metadata": {},
     "output_type": "execute_result"
    }
   ],
   "source": [
    "cols = [f'target_1{timeframe}',\n",
    "        f'target_2{timeframe}',\n",
    "        f'target_3{timeframe}',\n",
    "        f'return_1{timeframe}',\n",
    "        f'return_2{timeframe}',\n",
    "        f'return_3{timeframe}',\n",
    "        f'return_1{timeframe}_t-1',\n",
    "        f'return_1{timeframe}_t-2',\n",
    "        f'return_1{timeframe}_t-3']\n",
    "\n",
    "data[cols].dropna().sort_index().head(10)"
   ],
   "metadata": {
    "collapsed": false,
    "pycharm": {
     "name": "#%%\n"
    }
   }
  },
  {
   "cell_type": "code",
   "execution_count": 48,
   "metadata": {
    "ExecuteTime": {
     "end_time": "2021-02-23T05:20:18.333511Z",
     "start_time": "2021-02-23T05:20:18.310845Z"
    }
   },
   "outputs": [
    {
     "name": "stdout",
     "output_type": "stream",
     "text": [
      "<class 'pandas.core.frame.DataFrame'>\n",
      "MultiIndex: 948 entries, (Timestamp('2013-04-30 00:00:00', freq='M'), 'btc', 'usd') to (Timestamp('2021-05-31 00:00:00', freq='M'), 'xtz', 'usd')\n",
      "Data columns (total 30 columns):\n",
      " #   Column         Non-Null Count  Dtype  \n",
      "---  ------         --------------  -----  \n",
      " 0   return_1M      927 non-null    float64\n",
      " 1   return_2M      906 non-null    float64\n",
      " 2   return_3M      885 non-null    float64\n",
      " 3   return_6M      822 non-null    float64\n",
      " 4   return_9M      759 non-null    float64\n",
      " 5   return_12M     696 non-null    float64\n",
      " 6   Mkt-RF         948 non-null    float64\n",
      " 7   SMB            948 non-null    float64\n",
      " 8   HML            948 non-null    float64\n",
      " 9   RMW            948 non-null    float64\n",
      " 10  CMA            948 non-null    float64\n",
      " 11  momentum_2     906 non-null    float64\n",
      " 12  momentum_3     885 non-null    float64\n",
      " 13  momentum_6     822 non-null    float64\n",
      " 14  momentum_9     759 non-null    float64\n",
      " 15  momentum_12    696 non-null    float64\n",
      " 16  momentum_3_12  696 non-null    float64\n",
      " 17  year           948 non-null    int64  \n",
      " 18  month          948 non-null    int64  \n",
      " 19  return_1M_t-1  906 non-null    float64\n",
      " 20  return_1M_t-2  885 non-null    float64\n",
      " 21  return_1M_t-3  864 non-null    float64\n",
      " 22  return_1M_t-4  843 non-null    float64\n",
      " 23  return_1M_t-5  822 non-null    float64\n",
      " 24  return_1M_t-6  801 non-null    float64\n",
      " 25  target_1M      927 non-null    float64\n",
      " 26  target_2M      906 non-null    float64\n",
      " 27  target_3M      885 non-null    float64\n",
      " 28  target_6M      822 non-null    float64\n",
      " 29  target_12M     696 non-null    float64\n",
      "dtypes: float64(28), int64(2)\n",
      "memory usage: 261.7+ KB\n"
     ]
    }
   ],
   "source": [
    "data.info()"
   ]
  },
  {
   "cell_type": "markdown",
   "metadata": {},
   "source": [
    "## Create age proxy"
   ]
  },
  {
   "cell_type": "markdown",
   "metadata": {},
   "source": [
    "We use quintiles of IPO year as a proxy for company age."
   ]
  },
  {
   "cell_type": "code",
   "execution_count": 49,
   "metadata": {
    "ExecuteTime": {
     "end_time": "2021-02-23T05:20:18.360318Z",
     "start_time": "2021-02-23T05:20:18.334419Z"
    }
   },
   "outputs": [
    {
     "data": {
      "text/plain": "             age\nsymbol base     \nbtc    usd     1\nltc    usd     1\neth    usd     2\netc    usd     2\nxmr    usd     2\nxrp    usd     0\nmiota  usd     0\neos    usd     4\nneo    usd     3\ntrx    usd     5\ndai    usd     0\nxlm    usd     0\nmkr    usd     5\nvet    usd     4\nxtz    usd     0\nbsv    usd     0\nusdt   usd     0\nusdc   usd     0\nbtt    usd     0\natom   usd     0\nwbtc   usd     0\nokb    usd     0\nalgo   usd     0\nftt    usd     0\ndoge   usd     1\nada    usd     0\ndot    usd     0\nksm    usd     0\nuni    usd     0\nfil    usd     0\nsol    usd     0\naave   usd     0\nlink   usd     5\nluna   usd     0\nbch    usd     0",
      "text/html": "<div>\n<style scoped>\n    .dataframe tbody tr th:only-of-type {\n        vertical-align: middle;\n    }\n\n    .dataframe tbody tr th {\n        vertical-align: top;\n    }\n\n    .dataframe thead th {\n        text-align: right;\n    }\n</style>\n<table border=\"1\" class=\"dataframe\">\n  <thead>\n    <tr style=\"text-align: right;\">\n      <th></th>\n      <th></th>\n      <th>age</th>\n    </tr>\n    <tr>\n      <th>symbol</th>\n      <th>base</th>\n      <th></th>\n    </tr>\n  </thead>\n  <tbody>\n    <tr>\n      <th>btc</th>\n      <th>usd</th>\n      <td>1</td>\n    </tr>\n    <tr>\n      <th>ltc</th>\n      <th>usd</th>\n      <td>1</td>\n    </tr>\n    <tr>\n      <th>eth</th>\n      <th>usd</th>\n      <td>2</td>\n    </tr>\n    <tr>\n      <th>etc</th>\n      <th>usd</th>\n      <td>2</td>\n    </tr>\n    <tr>\n      <th>xmr</th>\n      <th>usd</th>\n      <td>2</td>\n    </tr>\n    <tr>\n      <th>xrp</th>\n      <th>usd</th>\n      <td>0</td>\n    </tr>\n    <tr>\n      <th>miota</th>\n      <th>usd</th>\n      <td>0</td>\n    </tr>\n    <tr>\n      <th>eos</th>\n      <th>usd</th>\n      <td>4</td>\n    </tr>\n    <tr>\n      <th>neo</th>\n      <th>usd</th>\n      <td>3</td>\n    </tr>\n    <tr>\n      <th>trx</th>\n      <th>usd</th>\n      <td>5</td>\n    </tr>\n    <tr>\n      <th>dai</th>\n      <th>usd</th>\n      <td>0</td>\n    </tr>\n    <tr>\n      <th>xlm</th>\n      <th>usd</th>\n      <td>0</td>\n    </tr>\n    <tr>\n      <th>mkr</th>\n      <th>usd</th>\n      <td>5</td>\n    </tr>\n    <tr>\n      <th>vet</th>\n      <th>usd</th>\n      <td>4</td>\n    </tr>\n    <tr>\n      <th>xtz</th>\n      <th>usd</th>\n      <td>0</td>\n    </tr>\n    <tr>\n      <th>bsv</th>\n      <th>usd</th>\n      <td>0</td>\n    </tr>\n    <tr>\n      <th>usdt</th>\n      <th>usd</th>\n      <td>0</td>\n    </tr>\n    <tr>\n      <th>usdc</th>\n      <th>usd</th>\n      <td>0</td>\n    </tr>\n    <tr>\n      <th>btt</th>\n      <th>usd</th>\n      <td>0</td>\n    </tr>\n    <tr>\n      <th>atom</th>\n      <th>usd</th>\n      <td>0</td>\n    </tr>\n    <tr>\n      <th>wbtc</th>\n      <th>usd</th>\n      <td>0</td>\n    </tr>\n    <tr>\n      <th>okb</th>\n      <th>usd</th>\n      <td>0</td>\n    </tr>\n    <tr>\n      <th>algo</th>\n      <th>usd</th>\n      <td>0</td>\n    </tr>\n    <tr>\n      <th>ftt</th>\n      <th>usd</th>\n      <td>0</td>\n    </tr>\n    <tr>\n      <th>doge</th>\n      <th>usd</th>\n      <td>1</td>\n    </tr>\n    <tr>\n      <th>ada</th>\n      <th>usd</th>\n      <td>0</td>\n    </tr>\n    <tr>\n      <th>dot</th>\n      <th>usd</th>\n      <td>0</td>\n    </tr>\n    <tr>\n      <th>ksm</th>\n      <th>usd</th>\n      <td>0</td>\n    </tr>\n    <tr>\n      <th>uni</th>\n      <th>usd</th>\n      <td>0</td>\n    </tr>\n    <tr>\n      <th>fil</th>\n      <th>usd</th>\n      <td>0</td>\n    </tr>\n    <tr>\n      <th>sol</th>\n      <th>usd</th>\n      <td>0</td>\n    </tr>\n    <tr>\n      <th>aave</th>\n      <th>usd</th>\n      <td>0</td>\n    </tr>\n    <tr>\n      <th>link</th>\n      <th>usd</th>\n      <td>5</td>\n    </tr>\n    <tr>\n      <th>luna</th>\n      <th>usd</th>\n      <td>0</td>\n    </tr>\n    <tr>\n      <th>bch</th>\n      <th>usd</th>\n      <td>0</td>\n    </tr>\n  </tbody>\n</table>\n</div>"
     },
     "execution_count": 49,
     "metadata": {},
     "output_type": "execute_result"
    }
   ],
   "source": [
    "age_quintiles = pd.qcut(cryptos['genesis_date'], q=5, labels=list(range(1, 6))).astype(float).fillna(0).astype(int).to_frame('age')\n",
    "age_quintiles"
   ]
  },
  {
   "cell_type": "code",
   "execution_count": 50,
   "outputs": [],
   "source": [
    "data = data.join(age_quintiles)\n",
    "# data.age = data.age.fillna(-1)"
   ],
   "metadata": {
    "collapsed": false,
    "pycharm": {
     "name": "#%%\n"
    }
   }
  },
  {
   "cell_type": "code",
   "execution_count": 51,
   "outputs": [
    {
     "data": {
      "text/plain": "symbol  base  date      \natom    usd   2019-04-30    0\n              2019-05-31    0\n              2019-06-30    0\n              2019-07-31    0\n              2019-08-31    0\n                           ..\nxtz     usd   2021-01-31    0\n              2021-02-28    0\n              2021-03-31    0\n              2021-04-30    0\n              2021-05-31    0\nName: age, Length: 948, dtype: int64"
     },
     "execution_count": 51,
     "metadata": {},
     "output_type": "execute_result"
    }
   ],
   "source": [
    "data['age']"
   ],
   "metadata": {
    "collapsed": false,
    "pycharm": {
     "name": "#%%\n"
    }
   }
  },
  {
   "cell_type": "markdown",
   "metadata": {},
   "source": [
    "## Create dynamic size proxy"
   ]
  },
  {
   "cell_type": "markdown",
   "metadata": {},
   "source": [
    "We use the marketcap information from the NASDAQ ticker info to create a size proxy."
   ]
  },
  {
   "cell_type": "code",
   "execution_count": 52,
   "metadata": {
    "ExecuteTime": {
     "end_time": "2021-02-23T05:20:18.368300Z",
     "start_time": "2021-02-23T05:20:18.361319Z"
    }
   },
   "outputs": [
    {
     "name": "stdout",
     "output_type": "stream",
     "text": [
      "<class 'pandas.core.frame.DataFrame'>\n",
      "MultiIndex: 35 entries, ('btc', 'usd') to ('bch', 'usd')\n",
      "Data columns (total 12 columns):\n",
      " #   Column                 Non-Null Count  Dtype         \n",
      "---  ------                 --------------  -----         \n",
      " 0   id                     35 non-null     object        \n",
      " 1   market_cap             35 non-null     int64         \n",
      " 2   name                   35 non-null     object        \n",
      " 3   genesis_date           12 non-null     datetime64[ns]\n",
      " 4   market_cap_rank        35 non-null     int64         \n",
      " 5   hashing_algorithm      35 non-null     object        \n",
      " 6   coingecko_rank         35 non-null     int64         \n",
      " 7   coingecko_score        35 non-null     float64       \n",
      " 8   developer_score        35 non-null     float64       \n",
      " 9   community_score        35 non-null     float64       \n",
      " 10  liquidity_score        35 non-null     float64       \n",
      " 11  public_interest_score  35 non-null     float64       \n",
      "dtypes: datetime64[ns](1), float64(5), int64(3), object(3)\n",
      "memory usage: 9.5+ KB\n"
     ]
    }
   ],
   "source": [
    "cryptos.info()\n",
    "\n"
   ]
  },
  {
   "cell_type": "markdown",
   "metadata": {},
   "source": [
    "Market cap information is tied to currrent prices. We create an adjustment factor to have the values reflect lower historical prices for each individual stock:"
   ]
  },
  {
   "cell_type": "code",
   "execution_count": 53,
   "outputs": [
    {
     "data": {
      "text/plain": "symbol              btc     ltc     eth     etc     xmr     xrp   miota  \\\nbase                usd     usd     usd     usd     usd     usd     usd   \ndate                                                                      \n2021-04-30  57649.15327  270.84  2768.7  36.304  422.17  1.5909  2.1313   \n2021-05-31  45745.00000  307.63  3546.0  93.828  356.10  1.5415  1.9899   \n\nsymbol         eos     neo      trx  ...     mkr      xlm      vet     xtz  \\\nbase           usd     usd      usd  ...     usd      usd      usd     usd   \ndate                                 ...                                     \n2021-04-30  6.4324  97.063  0.13213  ...  4345.6  0.52884  0.20070  5.6034   \n2021-05-31  9.6933  90.822  0.11777  ...  4852.3  0.67117  0.17048  5.5380   \n\nsymbol         bsv     usdc     usdt       btt    atom     wbtc  \nbase           usd      usd      usd       usd     usd      usd  \ndate                                                             \n2021-04-30  323.21  0.99840  0.99953  0.007235  22.688  57426.0  \n2021-05-31  293.13  0.99921  0.99949  0.005635  22.764  45016.0  \n\n[2 rows x 21 columns]",
      "text/html": "<div>\n<style scoped>\n    .dataframe tbody tr th:only-of-type {\n        vertical-align: middle;\n    }\n\n    .dataframe tbody tr th {\n        vertical-align: top;\n    }\n\n    .dataframe thead tr th {\n        text-align: left;\n    }\n\n    .dataframe thead tr:last-of-type th {\n        text-align: right;\n    }\n</style>\n<table border=\"1\" class=\"dataframe\">\n  <thead>\n    <tr>\n      <th>symbol</th>\n      <th>btc</th>\n      <th>ltc</th>\n      <th>eth</th>\n      <th>etc</th>\n      <th>xmr</th>\n      <th>xrp</th>\n      <th>miota</th>\n      <th>eos</th>\n      <th>neo</th>\n      <th>trx</th>\n      <th>...</th>\n      <th>mkr</th>\n      <th>xlm</th>\n      <th>vet</th>\n      <th>xtz</th>\n      <th>bsv</th>\n      <th>usdc</th>\n      <th>usdt</th>\n      <th>btt</th>\n      <th>atom</th>\n      <th>wbtc</th>\n    </tr>\n    <tr>\n      <th>base</th>\n      <th>usd</th>\n      <th>usd</th>\n      <th>usd</th>\n      <th>usd</th>\n      <th>usd</th>\n      <th>usd</th>\n      <th>usd</th>\n      <th>usd</th>\n      <th>usd</th>\n      <th>usd</th>\n      <th>...</th>\n      <th>usd</th>\n      <th>usd</th>\n      <th>usd</th>\n      <th>usd</th>\n      <th>usd</th>\n      <th>usd</th>\n      <th>usd</th>\n      <th>usd</th>\n      <th>usd</th>\n      <th>usd</th>\n    </tr>\n    <tr>\n      <th>date</th>\n      <th></th>\n      <th></th>\n      <th></th>\n      <th></th>\n      <th></th>\n      <th></th>\n      <th></th>\n      <th></th>\n      <th></th>\n      <th></th>\n      <th></th>\n      <th></th>\n      <th></th>\n      <th></th>\n      <th></th>\n      <th></th>\n      <th></th>\n      <th></th>\n      <th></th>\n      <th></th>\n      <th></th>\n    </tr>\n  </thead>\n  <tbody>\n    <tr>\n      <th>2021-04-30</th>\n      <td>57649.15327</td>\n      <td>270.84</td>\n      <td>2768.7</td>\n      <td>36.304</td>\n      <td>422.17</td>\n      <td>1.5909</td>\n      <td>2.1313</td>\n      <td>6.4324</td>\n      <td>97.063</td>\n      <td>0.13213</td>\n      <td>...</td>\n      <td>4345.6</td>\n      <td>0.52884</td>\n      <td>0.20070</td>\n      <td>5.6034</td>\n      <td>323.21</td>\n      <td>0.99840</td>\n      <td>0.99953</td>\n      <td>0.007235</td>\n      <td>22.688</td>\n      <td>57426.0</td>\n    </tr>\n    <tr>\n      <th>2021-05-31</th>\n      <td>45745.00000</td>\n      <td>307.63</td>\n      <td>3546.0</td>\n      <td>93.828</td>\n      <td>356.10</td>\n      <td>1.5415</td>\n      <td>1.9899</td>\n      <td>9.6933</td>\n      <td>90.822</td>\n      <td>0.11777</td>\n      <td>...</td>\n      <td>4852.3</td>\n      <td>0.67117</td>\n      <td>0.17048</td>\n      <td>5.5380</td>\n      <td>293.13</td>\n      <td>0.99921</td>\n      <td>0.99949</td>\n      <td>0.005635</td>\n      <td>22.764</td>\n      <td>45016.0</td>\n    </tr>\n  </tbody>\n</table>\n<p>2 rows × 21 columns</p>\n</div>"
     },
     "execution_count": 53,
     "metadata": {},
     "output_type": "execute_result"
    }
   ],
   "source": [
    "prices_resampled.close.unstack(level=[1, 2]).tail(2)"
   ],
   "metadata": {
    "collapsed": false,
    "pycharm": {
     "name": "#%%\n"
    }
   }
  },
  {
   "cell_type": "code",
   "execution_count": 54,
   "metadata": {
    "ExecuteTime": {
     "end_time": "2021-02-23T05:20:18.517585Z",
     "start_time": "2021-02-23T05:20:18.369362Z"
    }
   },
   "outputs": [],
   "source": [
    "prices_unstacked = prices_resampled.close.unstack(level=[1, 2])"
   ]
  },
  {
   "cell_type": "code",
   "execution_count": 55,
   "outputs": [
    {
     "data": {
      "text/plain": "symbol  base\nbtc     usd     45745.000000\nltc     usd       307.630000\neth     usd      3546.000000\netc     usd        93.828000\nxmr     usd       356.100000\nxrp     usd         1.541500\nmiota   usd         1.989900\neos     usd         9.693300\nneo     usd        90.822000\ntrx     usd         0.117770\ndai     usd         0.999400\nmkr     usd      4852.300000\nxlm     usd         0.671170\nvet     usd         0.170480\nxtz     usd         5.538000\nbsv     usd       293.130000\nusdc    usd         0.999210\nusdt    usd         0.999490\nbtt     usd         0.005635\natom    usd        22.764000\nwbtc    usd     45016.000000\nName: 2021-05-31 00:00:00, dtype: float64"
     },
     "execution_count": 55,
     "metadata": {},
     "output_type": "execute_result"
    }
   ],
   "source": [
    "prices_unstacked.iloc[-1]\n"
   ],
   "metadata": {
    "collapsed": false,
    "pycharm": {
     "name": "#%%\n"
    }
   }
  },
  {
   "cell_type": "code",
   "execution_count": 56,
   "outputs": [
    {
     "data": {
      "text/plain": "symbol     aave ada algo          atom bch           bsv           btc  \\\nbase        usd usd  usd           usd usd           usd           usd   \ndate                                                                     \n2013-04-30  NaN NaN  NaN           NaN NaN           NaN  2.602712e+09   \n2013-05-31  NaN NaN  NaN           NaN NaN           NaN  2.380733e+09   \n2013-06-30  NaN NaN  NaN           NaN NaN           NaN  1.666234e+09   \n2013-07-31  NaN NaN  NaN           NaN NaN           NaN  1.826810e+09   \n2013-08-31  NaN NaN  NaN           NaN NaN           NaN  2.377942e+09   \n...         ...  ..  ...           ...  ..           ...           ...   \n2021-01-31  NaN NaN  NaN  1.965151e+09 NaN  3.334395e+09  6.163857e+11   \n2021-02-28  NaN NaN  NaN  4.259253e+09 NaN  3.400128e+09  8.413041e+11   \n2021-03-31  NaN NaN  NaN  4.590132e+09 NaN  4.169000e+09  1.092811e+12   \n2021-04-30  NaN NaN  NaN  5.467576e+09 NaN  6.194090e+09  1.072663e+12   \n2021-05-31  NaN NaN  NaN  5.485891e+09 NaN  5.617628e+09  8.511656e+11   \n\nsymbol               btt           dai doge  ...           trx uni  \\\nbase                 usd           usd  usd  ...           usd usd   \ndate                                         ...                     \n2013-04-30           NaN           NaN  NaN  ...           NaN NaN   \n2013-05-31           NaN           NaN  NaN  ...           NaN NaN   \n2013-06-30           NaN           NaN  NaN  ...           NaN NaN   \n2013-07-31           NaN           NaN  NaN  ...           NaN NaN   \n2013-08-31           NaN           NaN  NaN  ...           NaN NaN   \n...                  ...           ...  ...  ...           ...  ..   \n2021-01-31  2.542186e+08  4.786430e+09  NaN  ...  2.300637e+09 NaN   \n2021-02-28  7.769966e+08  4.803657e+09  NaN  ...  3.322713e+09 NaN   \n2021-03-31  3.382146e+09  4.784994e+09  NaN  ...  6.750319e+09 NaN   \n2021-04-30  4.846383e+09  4.781166e+09  NaN  ...  9.611203e+09 NaN   \n2021-05-31  3.774596e+09  4.782601e+09  NaN  ...  8.566649e+09 NaN   \n\nsymbol              usdc          usdt           vet          wbtc  \\\nbase                 usd           usd           usd           usd   \ndate                                                                 \n2013-04-30           NaN           NaN           NaN           NaN   \n2013-05-31           NaN           NaN           NaN           NaN   \n2013-06-30           NaN           NaN           NaN           NaN   \n2013-07-31           NaN           NaN           NaN           NaN   \n2013-08-31           NaN           NaN           NaN           NaN   \n...                  ...           ...           ...           ...   \n2021-01-31  1.688932e+10  5.849447e+10  1.662936e+09  5.744766e+09   \n2021-02-28  1.689946e+10  5.860551e+10  2.636834e+09  8.179053e+09   \n2021-03-31  1.689101e+10  5.844772e+10  5.700433e+09  1.056771e+10   \n2021-04-30  1.686230e+10  5.841440e+10  1.310062e+10  1.039805e+10   \n2021-05-31  1.687598e+10  5.841207e+10  1.112802e+10  8.150988e+09   \n\nsymbol               xlm           xmr           xrp           xtz  \nbase                 usd           usd           usd           usd  \ndate                                                                \n2013-04-30           NaN           NaN           NaN           NaN  \n2013-05-31           NaN           NaN           NaN           NaN  \n2013-06-30           NaN           NaN           NaN           NaN  \n2013-07-31           NaN           NaN           NaN           NaN  \n2013-08-31           NaN           NaN           NaN           NaN  \n...                  ...           ...           ...           ...  \n2021-01-31  7.360505e+09  2.467164e+09  2.505528e+10  2.482026e+09  \n2021-02-28  9.724926e+09  3.926229e+09  2.098178e+10  2.989640e+09  \n2021-03-31  9.685858e+09  4.420342e+09  2.876837e+10  4.214198e+09  \n2021-04-30  1.267512e+10  7.557960e+09  8.030389e+10  4.891424e+09  \n2021-05-31  1.608645e+10  6.375132e+09  7.781033e+10  4.834334e+09  \n\n[98 rows x 35 columns]",
      "text/html": "<div>\n<style scoped>\n    .dataframe tbody tr th:only-of-type {\n        vertical-align: middle;\n    }\n\n    .dataframe tbody tr th {\n        vertical-align: top;\n    }\n\n    .dataframe thead tr th {\n        text-align: left;\n    }\n\n    .dataframe thead tr:last-of-type th {\n        text-align: right;\n    }\n</style>\n<table border=\"1\" class=\"dataframe\">\n  <thead>\n    <tr>\n      <th>symbol</th>\n      <th>aave</th>\n      <th>ada</th>\n      <th>algo</th>\n      <th>atom</th>\n      <th>bch</th>\n      <th>bsv</th>\n      <th>btc</th>\n      <th>btt</th>\n      <th>dai</th>\n      <th>doge</th>\n      <th>...</th>\n      <th>trx</th>\n      <th>uni</th>\n      <th>usdc</th>\n      <th>usdt</th>\n      <th>vet</th>\n      <th>wbtc</th>\n      <th>xlm</th>\n      <th>xmr</th>\n      <th>xrp</th>\n      <th>xtz</th>\n    </tr>\n    <tr>\n      <th>base</th>\n      <th>usd</th>\n      <th>usd</th>\n      <th>usd</th>\n      <th>usd</th>\n      <th>usd</th>\n      <th>usd</th>\n      <th>usd</th>\n      <th>usd</th>\n      <th>usd</th>\n      <th>usd</th>\n      <th>...</th>\n      <th>usd</th>\n      <th>usd</th>\n      <th>usd</th>\n      <th>usd</th>\n      <th>usd</th>\n      <th>usd</th>\n      <th>usd</th>\n      <th>usd</th>\n      <th>usd</th>\n      <th>usd</th>\n    </tr>\n    <tr>\n      <th>date</th>\n      <th></th>\n      <th></th>\n      <th></th>\n      <th></th>\n      <th></th>\n      <th></th>\n      <th></th>\n      <th></th>\n      <th></th>\n      <th></th>\n      <th></th>\n      <th></th>\n      <th></th>\n      <th></th>\n      <th></th>\n      <th></th>\n      <th></th>\n      <th></th>\n      <th></th>\n      <th></th>\n      <th></th>\n    </tr>\n  </thead>\n  <tbody>\n    <tr>\n      <th>2013-04-30</th>\n      <td>NaN</td>\n      <td>NaN</td>\n      <td>NaN</td>\n      <td>NaN</td>\n      <td>NaN</td>\n      <td>NaN</td>\n      <td>2.602712e+09</td>\n      <td>NaN</td>\n      <td>NaN</td>\n      <td>NaN</td>\n      <td>...</td>\n      <td>NaN</td>\n      <td>NaN</td>\n      <td>NaN</td>\n      <td>NaN</td>\n      <td>NaN</td>\n      <td>NaN</td>\n      <td>NaN</td>\n      <td>NaN</td>\n      <td>NaN</td>\n      <td>NaN</td>\n    </tr>\n    <tr>\n      <th>2013-05-31</th>\n      <td>NaN</td>\n      <td>NaN</td>\n      <td>NaN</td>\n      <td>NaN</td>\n      <td>NaN</td>\n      <td>NaN</td>\n      <td>2.380733e+09</td>\n      <td>NaN</td>\n      <td>NaN</td>\n      <td>NaN</td>\n      <td>...</td>\n      <td>NaN</td>\n      <td>NaN</td>\n      <td>NaN</td>\n      <td>NaN</td>\n      <td>NaN</td>\n      <td>NaN</td>\n      <td>NaN</td>\n      <td>NaN</td>\n      <td>NaN</td>\n      <td>NaN</td>\n    </tr>\n    <tr>\n      <th>2013-06-30</th>\n      <td>NaN</td>\n      <td>NaN</td>\n      <td>NaN</td>\n      <td>NaN</td>\n      <td>NaN</td>\n      <td>NaN</td>\n      <td>1.666234e+09</td>\n      <td>NaN</td>\n      <td>NaN</td>\n      <td>NaN</td>\n      <td>...</td>\n      <td>NaN</td>\n      <td>NaN</td>\n      <td>NaN</td>\n      <td>NaN</td>\n      <td>NaN</td>\n      <td>NaN</td>\n      <td>NaN</td>\n      <td>NaN</td>\n      <td>NaN</td>\n      <td>NaN</td>\n    </tr>\n    <tr>\n      <th>2013-07-31</th>\n      <td>NaN</td>\n      <td>NaN</td>\n      <td>NaN</td>\n      <td>NaN</td>\n      <td>NaN</td>\n      <td>NaN</td>\n      <td>1.826810e+09</td>\n      <td>NaN</td>\n      <td>NaN</td>\n      <td>NaN</td>\n      <td>...</td>\n      <td>NaN</td>\n      <td>NaN</td>\n      <td>NaN</td>\n      <td>NaN</td>\n      <td>NaN</td>\n      <td>NaN</td>\n      <td>NaN</td>\n      <td>NaN</td>\n      <td>NaN</td>\n      <td>NaN</td>\n    </tr>\n    <tr>\n      <th>2013-08-31</th>\n      <td>NaN</td>\n      <td>NaN</td>\n      <td>NaN</td>\n      <td>NaN</td>\n      <td>NaN</td>\n      <td>NaN</td>\n      <td>2.377942e+09</td>\n      <td>NaN</td>\n      <td>NaN</td>\n      <td>NaN</td>\n      <td>...</td>\n      <td>NaN</td>\n      <td>NaN</td>\n      <td>NaN</td>\n      <td>NaN</td>\n      <td>NaN</td>\n      <td>NaN</td>\n      <td>NaN</td>\n      <td>NaN</td>\n      <td>NaN</td>\n      <td>NaN</td>\n    </tr>\n    <tr>\n      <th>...</th>\n      <td>...</td>\n      <td>...</td>\n      <td>...</td>\n      <td>...</td>\n      <td>...</td>\n      <td>...</td>\n      <td>...</td>\n      <td>...</td>\n      <td>...</td>\n      <td>...</td>\n      <td>...</td>\n      <td>...</td>\n      <td>...</td>\n      <td>...</td>\n      <td>...</td>\n      <td>...</td>\n      <td>...</td>\n      <td>...</td>\n      <td>...</td>\n      <td>...</td>\n      <td>...</td>\n    </tr>\n    <tr>\n      <th>2021-01-31</th>\n      <td>NaN</td>\n      <td>NaN</td>\n      <td>NaN</td>\n      <td>1.965151e+09</td>\n      <td>NaN</td>\n      <td>3.334395e+09</td>\n      <td>6.163857e+11</td>\n      <td>2.542186e+08</td>\n      <td>4.786430e+09</td>\n      <td>NaN</td>\n      <td>...</td>\n      <td>2.300637e+09</td>\n      <td>NaN</td>\n      <td>1.688932e+10</td>\n      <td>5.849447e+10</td>\n      <td>1.662936e+09</td>\n      <td>5.744766e+09</td>\n      <td>7.360505e+09</td>\n      <td>2.467164e+09</td>\n      <td>2.505528e+10</td>\n      <td>2.482026e+09</td>\n    </tr>\n    <tr>\n      <th>2021-02-28</th>\n      <td>NaN</td>\n      <td>NaN</td>\n      <td>NaN</td>\n      <td>4.259253e+09</td>\n      <td>NaN</td>\n      <td>3.400128e+09</td>\n      <td>8.413041e+11</td>\n      <td>7.769966e+08</td>\n      <td>4.803657e+09</td>\n      <td>NaN</td>\n      <td>...</td>\n      <td>3.322713e+09</td>\n      <td>NaN</td>\n      <td>1.689946e+10</td>\n      <td>5.860551e+10</td>\n      <td>2.636834e+09</td>\n      <td>8.179053e+09</td>\n      <td>9.724926e+09</td>\n      <td>3.926229e+09</td>\n      <td>2.098178e+10</td>\n      <td>2.989640e+09</td>\n    </tr>\n    <tr>\n      <th>2021-03-31</th>\n      <td>NaN</td>\n      <td>NaN</td>\n      <td>NaN</td>\n      <td>4.590132e+09</td>\n      <td>NaN</td>\n      <td>4.169000e+09</td>\n      <td>1.092811e+12</td>\n      <td>3.382146e+09</td>\n      <td>4.784994e+09</td>\n      <td>NaN</td>\n      <td>...</td>\n      <td>6.750319e+09</td>\n      <td>NaN</td>\n      <td>1.689101e+10</td>\n      <td>5.844772e+10</td>\n      <td>5.700433e+09</td>\n      <td>1.056771e+10</td>\n      <td>9.685858e+09</td>\n      <td>4.420342e+09</td>\n      <td>2.876837e+10</td>\n      <td>4.214198e+09</td>\n    </tr>\n    <tr>\n      <th>2021-04-30</th>\n      <td>NaN</td>\n      <td>NaN</td>\n      <td>NaN</td>\n      <td>5.467576e+09</td>\n      <td>NaN</td>\n      <td>6.194090e+09</td>\n      <td>1.072663e+12</td>\n      <td>4.846383e+09</td>\n      <td>4.781166e+09</td>\n      <td>NaN</td>\n      <td>...</td>\n      <td>9.611203e+09</td>\n      <td>NaN</td>\n      <td>1.686230e+10</td>\n      <td>5.841440e+10</td>\n      <td>1.310062e+10</td>\n      <td>1.039805e+10</td>\n      <td>1.267512e+10</td>\n      <td>7.557960e+09</td>\n      <td>8.030389e+10</td>\n      <td>4.891424e+09</td>\n    </tr>\n    <tr>\n      <th>2021-05-31</th>\n      <td>NaN</td>\n      <td>NaN</td>\n      <td>NaN</td>\n      <td>5.485891e+09</td>\n      <td>NaN</td>\n      <td>5.617628e+09</td>\n      <td>8.511656e+11</td>\n      <td>3.774596e+09</td>\n      <td>4.782601e+09</td>\n      <td>NaN</td>\n      <td>...</td>\n      <td>8.566649e+09</td>\n      <td>NaN</td>\n      <td>1.687598e+10</td>\n      <td>5.841207e+10</td>\n      <td>1.112802e+10</td>\n      <td>8.150988e+09</td>\n      <td>1.608645e+10</td>\n      <td>6.375132e+09</td>\n      <td>7.781033e+10</td>\n      <td>4.834334e+09</td>\n    </tr>\n  </tbody>\n</table>\n<p>98 rows × 35 columns</p>\n</div>"
     },
     "execution_count": 56,
     "metadata": {},
     "output_type": "execute_result"
    }
   ],
   "source": [
    "market_cap = prices_unstacked/prices_unstacked.iloc[-1]*cryptos['market_cap']\n",
    "# market_cap = market_cap.stack([0,1])\n",
    "market_cap"
   ],
   "metadata": {
    "collapsed": false,
    "pycharm": {
     "name": "#%%\n"
    }
   }
  },
  {
   "cell_type": "markdown",
   "metadata": {},
   "source": [
    "### Create Size indicator as deciles per period"
   ]
  },
  {
   "cell_type": "markdown",
   "metadata": {},
   "source": [
    "Compute size deciles per month:"
   ]
  },
  {
   "cell_type": "code",
   "execution_count": 57,
   "metadata": {
    "ExecuteTime": {
     "end_time": "2021-02-23T05:20:20.476400Z",
     "start_time": "2021-02-23T05:20:18.529742Z"
    }
   },
   "outputs": [
    {
     "data": {
      "text/plain": "date        symbol  base\n2013-05-31  btc     usd     5\n            ltc     usd     1\n2013-06-30  btc     usd     5\n            ltc     usd     1\n2013-07-31  btc     usd     5\n                           ..\n2021-05-31  wbtc    usd     3\n            xlm     usd     4\n            xmr     usd     2\n            xrp     usd     5\n            xtz     usd     1\nName: msize, Length: 947, dtype: category\nCategories (5, int64): [1 < 2 < 3 < 4 < 5]"
     },
     "execution_count": 57,
     "metadata": {},
     "output_type": "execute_result"
    }
   ],
   "source": [
    "market_cap_deciles = market_cap.dropna(axis=0, thresh=2).apply(lambda x: pd.qcut(x, q=5, labels=list(range(1, 6))), axis=1, )\n",
    "market_cap_deciles = market_cap_deciles.stack([0, 1])\n",
    "market_cap_deciles.index.set_names(['date', 'symbol', 'base'], inplace=True)\n",
    "market_cap_deciles.rename('msize', inplace=True)\n",
    "market_cap_deciles"
   ]
  },
  {
   "cell_type": "code",
   "execution_count": 58,
   "outputs": [],
   "source": [
    "data = data.join(market_cap_deciles)"
   ],
   "metadata": {
    "collapsed": false,
    "pycharm": {
     "name": "#%%\n"
    }
   }
  },
  {
   "cell_type": "code",
   "execution_count": 59,
   "outputs": [
    {
     "name": "stdout",
     "output_type": "stream",
     "text": [
      "<class 'pandas.core.frame.DataFrame'>\n",
      "MultiIndex: 948 entries, ('atom', 'usd', Timestamp('2019-04-30 00:00:00', freq='M')) to ('xtz', 'usd', Timestamp('2021-05-31 00:00:00', freq='M'))\n",
      "Data columns (total 32 columns):\n",
      " #   Column         Non-Null Count  Dtype   \n",
      "---  ------         --------------  -----   \n",
      " 0   return_1M      927 non-null    float64 \n",
      " 1   return_2M      906 non-null    float64 \n",
      " 2   return_3M      885 non-null    float64 \n",
      " 3   return_6M      822 non-null    float64 \n",
      " 4   return_9M      759 non-null    float64 \n",
      " 5   return_12M     696 non-null    float64 \n",
      " 6   Mkt-RF         948 non-null    float64 \n",
      " 7   SMB            948 non-null    float64 \n",
      " 8   HML            948 non-null    float64 \n",
      " 9   RMW            948 non-null    float64 \n",
      " 10  CMA            948 non-null    float64 \n",
      " 11  momentum_2     906 non-null    float64 \n",
      " 12  momentum_3     885 non-null    float64 \n",
      " 13  momentum_6     822 non-null    float64 \n",
      " 14  momentum_9     759 non-null    float64 \n",
      " 15  momentum_12    696 non-null    float64 \n",
      " 16  momentum_3_12  696 non-null    float64 \n",
      " 17  year           948 non-null    int64   \n",
      " 18  month          948 non-null    int64   \n",
      " 19  return_1M_t-1  906 non-null    float64 \n",
      " 20  return_1M_t-2  885 non-null    float64 \n",
      " 21  return_1M_t-3  864 non-null    float64 \n",
      " 22  return_1M_t-4  843 non-null    float64 \n",
      " 23  return_1M_t-5  822 non-null    float64 \n",
      " 24  return_1M_t-6  801 non-null    float64 \n",
      " 25  target_1M      927 non-null    float64 \n",
      " 26  target_2M      906 non-null    float64 \n",
      " 27  target_3M      885 non-null    float64 \n",
      " 28  target_6M      822 non-null    float64 \n",
      " 29  target_12M     696 non-null    float64 \n",
      " 30  age            948 non-null    int64   \n",
      " 31  msize          947 non-null    category\n",
      "dtypes: category(1), float64(28), int64(3)\n",
      "memory usage: 237.3+ KB\n"
     ]
    }
   ],
   "source": [
    "data.info()"
   ],
   "metadata": {
    "collapsed": false,
    "pycharm": {
     "name": "#%%\n"
    }
   }
  },
  {
   "cell_type": "code",
   "execution_count": 60,
   "outputs": [
    {
     "data": {
      "text/plain": "                        return_1M  return_2M  return_3M  return_6M  return_9M  \\\nsymbol base date                                                                \nxtz    usd  2021-01-31   0.413311   0.068956   0.128085   0.001041   0.003507   \n            2021-02-28   0.204516   0.304744   0.112357   0.008372   0.022641   \n            2021-03-31   0.409601   0.303030   0.338799   0.139939   0.082361   \n            2021-04-30   0.160701   0.279111   0.253746   0.189257   0.079041   \n            2021-05-31  -0.011671   0.071053   0.173742   0.142637   0.060730   \n\n                        return_12M    Mkt-RF       SMB       HML       RMW  \\\nsymbol base date                                                             \nxtz    usd  2021-01-31    0.046035  2.265159 -6.397271  2.872858 -3.113144   \n            2021-02-28    0.017914  2.250871 -3.743156  1.834846 -4.960936   \n            2021-03-31    0.095618  2.256593 -3.605989  1.678074 -4.834858   \n            2021-04-30    0.060945  1.889347 -5.137280  2.214039 -1.882954   \n            2021-05-31    0.058487  1.889347 -5.137280  2.214039 -1.882954   \n\n                        ...  return_1M_t-4  return_1M_t-5  return_1M_t-6  \\\nsymbol base date        ...                                                \nxtz    usd  2021-01-31  ...      -0.324646       0.152923       0.193243   \n            2021-02-28  ...      -0.099768      -0.324646       0.152923   \n            2021-03-31  ...       0.256336      -0.099768      -0.324646   \n            2021-04-30  ...      -0.191496       0.256336      -0.099768   \n            2021-05-31  ...       0.413311      -0.191496       0.256336   \n\n                        target_1M  target_2M  target_3M  target_6M  \\\nsymbol base date                                                     \nxtz    usd  2021-01-31   0.204516   0.303030   0.253746        NaN   \n            2021-02-28   0.409601   0.279111   0.173742        NaN   \n            2021-03-31   0.160701   0.071053        NaN        NaN   \n            2021-04-30  -0.011671        NaN        NaN        NaN   \n            2021-05-31        NaN        NaN        NaN        NaN   \n\n                        target_12M  age  msize  \nsymbol base date                                \nxtz    usd  2021-01-31         NaN    0      3  \n            2021-02-28         NaN    0      2  \n            2021-03-31         NaN    0      2  \n            2021-04-30         NaN    0      1  \n            2021-05-31         NaN    0      1  \n\n[5 rows x 32 columns]",
      "text/html": "<div>\n<style scoped>\n    .dataframe tbody tr th:only-of-type {\n        vertical-align: middle;\n    }\n\n    .dataframe tbody tr th {\n        vertical-align: top;\n    }\n\n    .dataframe thead th {\n        text-align: right;\n    }\n</style>\n<table border=\"1\" class=\"dataframe\">\n  <thead>\n    <tr style=\"text-align: right;\">\n      <th></th>\n      <th></th>\n      <th></th>\n      <th>return_1M</th>\n      <th>return_2M</th>\n      <th>return_3M</th>\n      <th>return_6M</th>\n      <th>return_9M</th>\n      <th>return_12M</th>\n      <th>Mkt-RF</th>\n      <th>SMB</th>\n      <th>HML</th>\n      <th>RMW</th>\n      <th>...</th>\n      <th>return_1M_t-4</th>\n      <th>return_1M_t-5</th>\n      <th>return_1M_t-6</th>\n      <th>target_1M</th>\n      <th>target_2M</th>\n      <th>target_3M</th>\n      <th>target_6M</th>\n      <th>target_12M</th>\n      <th>age</th>\n      <th>msize</th>\n    </tr>\n    <tr>\n      <th>symbol</th>\n      <th>base</th>\n      <th>date</th>\n      <th></th>\n      <th></th>\n      <th></th>\n      <th></th>\n      <th></th>\n      <th></th>\n      <th></th>\n      <th></th>\n      <th></th>\n      <th></th>\n      <th></th>\n      <th></th>\n      <th></th>\n      <th></th>\n      <th></th>\n      <th></th>\n      <th></th>\n      <th></th>\n      <th></th>\n      <th></th>\n      <th></th>\n    </tr>\n  </thead>\n  <tbody>\n    <tr>\n      <th rowspan=\"5\" valign=\"top\">xtz</th>\n      <th rowspan=\"5\" valign=\"top\">usd</th>\n      <th>2021-01-31</th>\n      <td>0.413311</td>\n      <td>0.068956</td>\n      <td>0.128085</td>\n      <td>0.001041</td>\n      <td>0.003507</td>\n      <td>0.046035</td>\n      <td>2.265159</td>\n      <td>-6.397271</td>\n      <td>2.872858</td>\n      <td>-3.113144</td>\n      <td>...</td>\n      <td>-0.324646</td>\n      <td>0.152923</td>\n      <td>0.193243</td>\n      <td>0.204516</td>\n      <td>0.303030</td>\n      <td>0.253746</td>\n      <td>NaN</td>\n      <td>NaN</td>\n      <td>0</td>\n      <td>3</td>\n    </tr>\n    <tr>\n      <th>2021-02-28</th>\n      <td>0.204516</td>\n      <td>0.304744</td>\n      <td>0.112357</td>\n      <td>0.008372</td>\n      <td>0.022641</td>\n      <td>0.017914</td>\n      <td>2.250871</td>\n      <td>-3.743156</td>\n      <td>1.834846</td>\n      <td>-4.960936</td>\n      <td>...</td>\n      <td>-0.099768</td>\n      <td>-0.324646</td>\n      <td>0.152923</td>\n      <td>0.409601</td>\n      <td>0.279111</td>\n      <td>0.173742</td>\n      <td>NaN</td>\n      <td>NaN</td>\n      <td>0</td>\n      <td>2</td>\n    </tr>\n    <tr>\n      <th>2021-03-31</th>\n      <td>0.409601</td>\n      <td>0.303030</td>\n      <td>0.338799</td>\n      <td>0.139939</td>\n      <td>0.082361</td>\n      <td>0.095618</td>\n      <td>2.256593</td>\n      <td>-3.605989</td>\n      <td>1.678074</td>\n      <td>-4.834858</td>\n      <td>...</td>\n      <td>0.256336</td>\n      <td>-0.099768</td>\n      <td>-0.324646</td>\n      <td>0.160701</td>\n      <td>0.071053</td>\n      <td>NaN</td>\n      <td>NaN</td>\n      <td>NaN</td>\n      <td>0</td>\n      <td>2</td>\n    </tr>\n    <tr>\n      <th>2021-04-30</th>\n      <td>0.160701</td>\n      <td>0.279111</td>\n      <td>0.253746</td>\n      <td>0.189257</td>\n      <td>0.079041</td>\n      <td>0.060945</td>\n      <td>1.889347</td>\n      <td>-5.137280</td>\n      <td>2.214039</td>\n      <td>-1.882954</td>\n      <td>...</td>\n      <td>-0.191496</td>\n      <td>0.256336</td>\n      <td>-0.099768</td>\n      <td>-0.011671</td>\n      <td>NaN</td>\n      <td>NaN</td>\n      <td>NaN</td>\n      <td>NaN</td>\n      <td>0</td>\n      <td>1</td>\n    </tr>\n    <tr>\n      <th>2021-05-31</th>\n      <td>-0.011671</td>\n      <td>0.071053</td>\n      <td>0.173742</td>\n      <td>0.142637</td>\n      <td>0.060730</td>\n      <td>0.058487</td>\n      <td>1.889347</td>\n      <td>-5.137280</td>\n      <td>2.214039</td>\n      <td>-1.882954</td>\n      <td>...</td>\n      <td>0.413311</td>\n      <td>-0.191496</td>\n      <td>0.256336</td>\n      <td>NaN</td>\n      <td>NaN</td>\n      <td>NaN</td>\n      <td>NaN</td>\n      <td>NaN</td>\n      <td>0</td>\n      <td>1</td>\n    </tr>\n  </tbody>\n</table>\n<p>5 rows × 32 columns</p>\n</div>"
     },
     "execution_count": 60,
     "metadata": {},
     "output_type": "execute_result"
    }
   ],
   "source": [
    "data.tail()"
   ],
   "metadata": {
    "collapsed": false,
    "pycharm": {
     "name": "#%%\n"
    }
   }
  },
  {
   "cell_type": "markdown",
   "metadata": {},
   "source": [
    "## Store data"
   ]
  },
  {
   "cell_type": "markdown",
   "metadata": {},
   "source": [
    "We will use the data again in several later chapters, starting in [Chapter 7 on Linear Models](../07_linear_models)."
   ]
  },
  {
   "cell_type": "code",
   "execution_count": 64,
   "metadata": {
    "ExecuteTime": {
     "end_time": "2021-02-23T05:20:20.864419Z",
     "start_time": "2021-02-23T05:20:20.544330Z"
    },
    "scrolled": false,
    "pycharm": {
     "name": "#%%\n"
    }
   },
   "outputs": [
    {
     "name": "stdout",
     "output_type": "stream",
     "text": [
      "<class 'pandas.io.pytables.HDFStore'>\n",
      "File path: ../data/crypto.h5\n",
      "/coingecko/top100/cats                                   frame        (shape->[100,49])                                                                    \n",
      "/coingecko/top100/market                                 frame        (shape->[100,12])                                                                    \n",
      "/crypto/caggle/prices                                    frame        (shape->[48918134,5])                                                                \n",
      "/engineered_features                                     frame_table  (typ->appendable_multi,nrows->948,ncols->35,indexers->[index],dc->[date,base,symbol])\n",
      "/engineered_features/meta/values_block_2/meta            series_table (typ->appendable,nrows->5,ncols->1,indexers->[index],dc->[values])                   \n"
     ]
    }
   ],
   "source": [
    "with pd.HDFStore(DATA_STORE) as store:\n",
    "    store.put('engineered_features', data.sort_index(), format='t')\n",
    "    print(store.info())\n",
    "\n",
    "\n"
   ]
  }
 ],
 "metadata": {
  "kernelspec": {
   "display_name": "Python 3",
   "language": "python",
   "name": "python3"
  },
  "language_info": {
   "codemirror_mode": {
    "name": "ipython",
    "version": 3
   },
   "file_extension": ".py",
   "mimetype": "text/x-python",
   "name": "python",
   "nbconvert_exporter": "python",
   "pygments_lexer": "ipython3",
   "version": "3.8.5"
  },
  "toc": {
   "base_numbering": 1,
   "nav_menu": {},
   "number_sections": true,
   "sideBar": true,
   "skip_h1_title": true,
   "title_cell": "Table of Contents",
   "title_sidebar": "Contents",
   "toc_cell": false,
   "toc_position": {
    "height": "calc(100% - 180px)",
    "left": "10px",
    "top": "150px",
    "width": "230.355px"
   },
   "toc_section_display": true,
   "toc_window_display": true
  }
 },
 "nbformat": 4,
 "nbformat_minor": 2
}