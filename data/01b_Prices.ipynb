{
 "cells": [
  {
   "cell_type": "markdown",
   "id": "narrow-blowing",
   "metadata": {},
   "source": [
    "# Digest minute crypto data (prices) and coinmarketcap (market)\n",
    "\n",
    "- https://www.bitfinex.com/\n",
    "- https://medium.com/coinmonks/how-to-get-historical-crypto-currency-data-954062d40d2d\n",
    "- https://www.kaggle.com/tencars/392-crypto-currency-pairs-at-minute-resolution\n"
   ]
  },
  {
   "cell_type": "code",
   "execution_count": 1,
   "id": "guided-theory",
   "metadata": {},
   "outputs": [],
   "source": [
    "%matplotlib inline\n",
    "\n",
    "from pathlib import Path\n",
    "import pandas as pd\n",
    "\n",
    "idx = pd.IndexSlice"
   ]
  },
  {
   "cell_type": "markdown",
   "source": [],
   "metadata": {
    "collapsed": false,
    "pycharm": {
     "name": "#%% md\n"
    }
   }
  },
  {
   "cell_type": "code",
   "execution_count": 2,
   "id": "supposed-chase",
   "metadata": {},
   "outputs": [],
   "source": [
    "\n",
    "# https://stackoverflow.com/questions/16466670/fill-nan-in-candlestick-ohlcv-data\n",
    "# https://pandas.pydata.org/pandas-docs/stable/reference/api/pandas.DataFrame.resample.html\n",
    "def nans_to_prev_close_method1(df):\n",
    "    df['volume'] = df['volume'].fillna(0.0)  # volume should always be 0 (if there were no trades in this interval)\n",
    "    df['close'] = df.fillna(method='pad')  # ie pull the last close into this close\n",
    "    # now copy the close that was pulled down from the last timestep into this row, across into o/h/l\n",
    "    df['open'] = df['open'].fillna(df['close']) \n",
    "    df['low'] = df['low'].fillna(df['close'])\n",
    "    df['high'] = df['high'].fillna(df['close'])\n",
    "    # print(df.head(10))\n",
    "    return df\n",
    "\n",
    "# \n",
    "def resample_df_ohlcv(df, timeframe='15Min'):\n",
    "    # Created a dictionary to tell Pandas how to re-sample, if this isn't in place it will re-sample each column separately\n",
    "    ohlcv_dict = {'open':'first', 'high':'max', 'low':'min', 'close': 'last', 'volume': 'sum'}\n",
    "\n",
    "    # Resample to 15Min (this format is needed) as per ohlc_dict, then remove any line with a NaN\n",
    "    df = df.resample(timeframe).agg(ohlcv_dict)\n",
    "    df = nans_to_prev_close_method1(df)\n",
    "    # Resample mixes the columns so lets re-arrange them\n",
    "    cols=['open', 'high', 'low', 'close', 'volume']  \n",
    "    df = df[cols]\n",
    "    return df\n",
    "\n",
    "\n"
   ]
  },
  {
   "cell_type": "code",
   "execution_count": 3,
   "id": "angry-financing",
   "metadata": {},
   "outputs": [],
   "source": [
    "data_path ='../data/crypto_1min/'\n",
    "\n",
    "cryptos = {\n",
    "            'btcusd':  {'symbol': 'btc', 'base': 'usd', },\n",
    "            'ethusd':  {'symbol': 'eth', 'base': 'usd', },\n",
    "            # Binance Coin\n",
    "            'xrpusd':  {'symbol': 'xrp', 'base': 'usd', },\n",
    "            'ustusd':  {'symbol': 'usdt', 'base': 'usd', },\n",
    "            'adausd':  {'symbol': 'ada', 'base': 'usd', }, # Cardano\n",
    "            'dogusd':  {'symbol': 'doge', 'base': 'usd',},\n",
    "            'dotusd':  {'symbol': 'dot', 'base': 'usd', }, # Polkadot\n",
    "            'uniusd':  {'symbol': 'uni', 'base': 'usd', },\n",
    "            'ltcusd':  {'symbol': 'ltc', 'base': 'usd', },\n",
    "            'bchnusd':  {'symbol': 'bch', 'base': 'usd', }, # Bitcoin Cash ? bch = bchn? \n",
    "            'linkusd':  {'symbol': 'link', 'base': 'usd', }, # Chainlink\n",
    "            'udcusd':  {'symbol': 'usdc', 'base': 'usd', },   # USDC\n",
    "            'vetusd':  {'symbol': 'vet', 'base': 'usd', }, # VeChain\n",
    "            'solusd':  {'symbol': 'sol', 'base': 'usd',}, # Solana\n",
    "            'xlmusd':  {'symbol': 'xlm', 'base': 'usd',}, # Stellar\n",
    "            # 'theta', \n",
    "            'filusd':  {'symbol': 'fil', 'base': 'usd',}, # filecoin\n",
    "            'okbusd': {'symbol': 'okb', 'base': 'usd'},\n",
    "            'wbtusd': {'symbol': 'wbtc', 'base': 'usd'},\n",
    "\n",
    "            'trxusd':  {'symbol': 'trx', 'base': 'usd',}, # Tron\n",
    "            # Binance USD busd\n",
    "            \n",
    "            'bsvusd': {'symbol': 'bsv', 'base': 'usd'},\n",
    "\n",
    "            'xmrusd':  {'symbol': 'xmr', 'base': 'usd',}, # Monero\n",
    "            'lunausd':  {'symbol': 'luna', 'base': 'usd',}, # Luna\n",
    "            'neousd':  {'symbol': 'neo', 'base': 'usd',}, # \n",
    "            # Klay\n",
    "            'iotusd':  {'symbol': 'miota', 'base': 'usd',}, # iota \n",
    "            'eosusd':  {'symbol': 'eos', 'base': 'usd',}, # iota \n",
    "            'atousd':  {'symbol': 'atom', 'base': 'usd',}, # cosmos \n",
    "            # 'cakusd':  {'symbol': 'cake', 'base': 'usd',}, # pancake \n",
    "            'aaveusd':  {'symbol': 'aave', 'base': 'usd',}, # aave\n",
    "            'eosusd': {'symbol': 'eos', 'base': 'usd'},\n",
    "            'etcusd': {'symbol': 'etc', 'base': 'usd'},\n",
    "            'atousd': {'symbol': 'atom', 'base': 'usd'},\n",
    "            # 'maticusd': {'symbol': '...', 'base': 'usd'},\n",
    "            # ht\n",
    "            'fttusd': {'symbol': 'ftt', 'base': 'usd'},\n",
    "            # cro\n",
    "            'bttusd': {'symbol': 'btt', 'base': 'usd'},\n",
    "            # cusd\n",
    "            'mkrusd': {'symbol': 'mkr', 'base': 'usd'},\n",
    "            # 'mkreth': {'symbol': 'mkr', 'base': 'eth'},\n",
    "            # 'mkrbtc': {'symbol': 'mkr', 'base': 'btc'},\n",
    "            'xtzusd': {'symbol': 'xtz', 'base': 'usd'},\n",
    "            # 'xtzbtc': {'symbol': 'xtz', 'base': 'btc'},\n",
    "            # ceth\n",
    "            'algusd': {'symbol': 'algo', 'base': 'usd'},\n",
    "            'avaxusd': {'symbol': 'avax', 'base': 'usd'},\n",
    "            'ksmusd': {'symbol': 'ksm', 'base': 'usd'},\n",
    "            'daiusd': {'symbol': 'dai', 'base': 'usd'},\n",
    "            # cdai\n",
    "            # dash\n",
    "            # '...usd': {'symbol': '...', 'base': 'usd'},\n",
    "            # '...usd': {'symbol': '...', 'base': 'usd'},\n",
    "            # '...usd': {'symbol': '...', 'base': 'usd'},\n",
    "            # '...usd': {'symbol': '...', 'base': 'usd'},\n",
    "            # '...usd': {'symbol': '...', 'base': 'usd'},\n",
    "            # '...usd': {'symbol': '...', 'base': 'usd'},\n",
    "            # '...usd': {'symbol': '...', 'base': 'usd'},\n",
    "            # '...usd': {'symbol': '...', 'base': 'usd'},\n",
    "            # '...usd': {'symbol': '...', 'base': 'usd'},\n",
    "            # '...usd': {'symbol': '...', 'base': 'usd'},\n",
    "            'mtnusd': {'symbol': 'mtn', 'base': 'usd'},\n",
    "            'manusd': {'symbol': 'man', 'base': 'usd'},\n",
    "\n",
    "            }\n"
   ]
  },
  {
   "cell_type": "markdown",
   "id": "initial-coral",
   "metadata": {},
   "source": [
    "<bound method IndexOpsMixin.tolist of Index(['btc', 'eth', 'bnb', 'xrp', 'usdt', 'doge', 'ada', 'dot', 'uni', 'bch',\n",
    "       'ltc', 'link', 'usdc', 'vet', 'sol', 'xlm', 'theta', 'fil', 'okb','wbtc', 'trx', 'busd',\n",
    "       'xmr', 'neo', 'luna', 'cake', 'bsv', 'aave', 'eos', 'klay', 'miota', 'etc', 'atom', \n",
    "       \n",
    "       'matic', 'ht', 'ftt', 'cro',\n",
    "       'btt', 'cusdc', 'mkr', 'comp', 'xtz', 'ceth', 'algo', 'AVAX', 'ksm',\n",
    "       'dai',\n",
    "       'cdai', 'rune', 'dash', 'xem', 'egld', 'chz', 'hot', 'zec',\n",
    "       'hbar', 'dcr', 'snx', 'enj', 'zil', 'waves', 'cel', 'leo', 'dgb',\n",
    "       'sushi', 'stx', 'amp', 'nexo', 'sc', 'ftm', 'grt', 'ust', 'near',\n",
    "       'mana', 'bat', 'yfi', 'rvn', 'btg', 'icx', 'qtum', 'hbtc', 'uma', 'hnt',\n",
    "       'zrx', 'lusd', 'nano', 'ont', 'iost', 'one', 'zen', 'bnt', 'chsb',\n",
    "       'arrr', 'ankr', 'ar', 'xvs', 'pax', 'flow', 'bake', 'kcs'],\n",
    "      dtype='object', name='symbol')>\n",
    "\n"
   ]
  },
  {
   "cell_type": "markdown",
   "id": "circular-express",
   "metadata": {},
   "source": [
    "Load minute data "
   ]
  },
  {
   "cell_type": "code",
   "execution_count": 4,
   "id": "executed-masters",
   "metadata": {},
   "outputs": [
    {
     "name": "stdout",
     "output_type": "stream",
     "text": [
      "found 38 symbol(s):\n",
      " Index(['btc', 'ltc', 'eth', 'etc', 'xmr', 'xrp', 'miota', 'eos', 'neo', 'trx',\n",
      "       'dai', 'mtn', 'xlm', 'mkr', 'man', 'vet', 'xtz', 'bsv', 'usdt', 'usdc',\n",
      "       'btt', 'atom', 'wbtc', 'okb', 'algo', 'ftt', 'doge', 'ada', 'dot',\n",
      "       'ksm', 'uni', 'fil', 'sol', 'aave', 'avax', 'bch', 'link', 'luna'],\n",
      "      dtype='object', name='symbol')\n",
      "found 1 base(s):\n",
      " Index(['usd'], dtype='object', name='base')\n",
      "\n",
      "\n",
      "\n",
      "RESULTING DF: \n",
      "<class 'pandas.core.frame.DataFrame'>\n",
      "MultiIndex: 811703 entries, (Timestamp('2013-04-01 00:00:00'), 'btc', 'usd') to (Timestamp('2021-05-13 06:00:00'), 'xtz', 'usd')\n",
      "Data columns (total 5 columns):\n",
      " #   Column  Non-Null Count   Dtype  \n",
      "---  ------  --------------   -----  \n",
      " 0   open    811703 non-null  float64\n",
      " 1   high    811703 non-null  float64\n",
      " 2   low     811703 non-null  float64\n",
      " 3   close   811703 non-null  float64\n",
      " 4   volume  811703 non-null  float64\n",
      "dtypes: float64(5)\n",
      "memory usage: 38.2+ MB\n",
      "None\n",
      "Index(['btc', 'ltc', 'eth', 'etc', 'xmr', 'xrp', 'miota', 'eos', 'neo', 'trx',\n",
      "       'dai', 'mtn', 'xlm', 'mkr', 'man', 'vet', 'xtz', 'bsv', 'usdt', 'usdc',\n",
      "       'btt', 'atom', 'wbtc', 'okb', 'algo', 'ftt', 'doge', 'ada', 'dot',\n",
      "       'ksm', 'uni', 'fil', 'sol', 'aave', 'avax', 'bch', 'link', 'luna'],\n",
      "      dtype='object', name='symbol')\n"
     ]
    }
   ],
   "source": [
    "def three_spaces():\n",
    "    print(\"\")\n",
    "    print(\"\")\n",
    "    print(\"\")\n",
    "\n",
    "def data_from_folder(csv_path, cryptos):\n",
    "    \n",
    "    prices = []\n",
    "    for symbol_key, symbol_dict in cryptos.items():\n",
    "        file_path = data_path + symbol_key + \".csv\"\n",
    "        file_path = Path(file_path)\n",
    "        df = pd.read_csv(file_path) # read the csv \n",
    "        df['date'] = df['time'].values.astype(dtype='datetime64[ms]') # for msec format   \n",
    "        df.drop(df.filter(regex=\"time\"),axis=1, inplace=True) # otherwise time row is left behind as \"time\"\n",
    "        df.set_index(['date'], inplace=True)\n",
    "\n",
    "        # resample to desired frequency\n",
    "        df = resample_df_ohlcv(df, '60Min')\n",
    "        df['symbol'] = symbol_dict['symbol'] # get a symbol column\n",
    "        df['base'] = symbol_dict['base'] # get a base column\n",
    "        df.set_index(['symbol', 'base'], inplace=True, append=True)\n",
    "\n",
    "        df.sort_index(inplace=True)\n",
    "        df.drop(df.filter(regex=\"Unname\"),axis=1, inplace=True) # otherwise index row is left behind as \"unnamed\"\n",
    "        prices.append(df)\n",
    "    prices = pd.concat(prices)\n",
    "    \n",
    "    prices.sort_index(inplace=True)\n",
    "    print(\"found {} symbol(s):\\n {}\".format(len(prices.index.get_level_values('symbol').unique()),\n",
    "                                          prices.index.get_level_values('symbol').unique()))\n",
    "    print(\"found {} base(s):\\n {}\".format(len(prices.index.get_level_values('base').unique()),\n",
    "                                       prices.index.get_level_values('base').unique()))\n",
    "    return prices\n",
    "\n",
    "\n",
    "prices = data_from_folder(data_path, cryptos)\n",
    "three_spaces()\n",
    "print('RESULTING DF: ')\n",
    "print(prices.info())\n",
    "\n",
    "print(prices.index.get_level_values('symbol').unique())"
   ]
  },
  {
   "cell_type": "code",
   "execution_count": 5,
   "id": "functional-decimal",
   "metadata": {},
   "outputs": [
    {
     "data": {
      "text/plain": "                                     open       high       low     close  \\\ndate                symbol base                                            \n2013-04-01 00:00:00 btc    usd   93.25000  100.00000  93.03000  93.25000   \n2013-04-01 01:00:00 btc    usd   93.37999   93.48797  93.10000  93.37999   \n2013-04-01 02:00:00 btc    usd   93.17000   94.00000  93.10999  93.17000   \n2013-04-01 03:00:00 btc    usd   93.80000   93.80000  92.49999  93.80000   \n2013-04-01 04:00:00 btc    usd   93.15501   93.15503  93.15501  93.15501   \n2013-04-01 05:00:00 btc    usd   93.70000   93.79000  93.70000  93.70000   \n2013-04-01 06:00:00 btc    usd   94.06751   94.48000  94.00000  94.06751   \n2013-04-01 07:00:00 btc    usd   94.06751   94.06751  94.06751  94.06751   \n2013-04-01 08:00:00 btc    usd   93.55000   94.00000  93.55000  93.55000   \n2013-04-01 09:00:00 btc    usd   94.22999   94.23000  94.22999  94.22999   \n\n                                     volume  \ndate                symbol base              \n2013-04-01 00:00:00 btc    usd   345.583889  \n2013-04-01 01:00:00 btc    usd    45.243335  \n2013-04-01 02:00:00 btc    usd   466.311420  \n2013-04-01 03:00:00 btc    usd    96.316180  \n2013-04-01 04:00:00 btc    usd     5.000000  \n2013-04-01 05:00:00 btc    usd    22.090000  \n2013-04-01 06:00:00 btc    usd    84.000000  \n2013-04-01 07:00:00 btc    usd     0.000000  \n2013-04-01 08:00:00 btc    usd     3.807371  \n2013-04-01 09:00:00 btc    usd     1.970000  ",
      "text/html": "<div>\n<style scoped>\n    .dataframe tbody tr th:only-of-type {\n        vertical-align: middle;\n    }\n\n    .dataframe tbody tr th {\n        vertical-align: top;\n    }\n\n    .dataframe thead th {\n        text-align: right;\n    }\n</style>\n<table border=\"1\" class=\"dataframe\">\n  <thead>\n    <tr style=\"text-align: right;\">\n      <th></th>\n      <th></th>\n      <th></th>\n      <th>open</th>\n      <th>high</th>\n      <th>low</th>\n      <th>close</th>\n      <th>volume</th>\n    </tr>\n    <tr>\n      <th>date</th>\n      <th>symbol</th>\n      <th>base</th>\n      <th></th>\n      <th></th>\n      <th></th>\n      <th></th>\n      <th></th>\n    </tr>\n  </thead>\n  <tbody>\n    <tr>\n      <th>2013-04-01 00:00:00</th>\n      <th>btc</th>\n      <th>usd</th>\n      <td>93.25000</td>\n      <td>100.00000</td>\n      <td>93.03000</td>\n      <td>93.25000</td>\n      <td>345.583889</td>\n    </tr>\n    <tr>\n      <th>2013-04-01 01:00:00</th>\n      <th>btc</th>\n      <th>usd</th>\n      <td>93.37999</td>\n      <td>93.48797</td>\n      <td>93.10000</td>\n      <td>93.37999</td>\n      <td>45.243335</td>\n    </tr>\n    <tr>\n      <th>2013-04-01 02:00:00</th>\n      <th>btc</th>\n      <th>usd</th>\n      <td>93.17000</td>\n      <td>94.00000</td>\n      <td>93.10999</td>\n      <td>93.17000</td>\n      <td>466.311420</td>\n    </tr>\n    <tr>\n      <th>2013-04-01 03:00:00</th>\n      <th>btc</th>\n      <th>usd</th>\n      <td>93.80000</td>\n      <td>93.80000</td>\n      <td>92.49999</td>\n      <td>93.80000</td>\n      <td>96.316180</td>\n    </tr>\n    <tr>\n      <th>2013-04-01 04:00:00</th>\n      <th>btc</th>\n      <th>usd</th>\n      <td>93.15501</td>\n      <td>93.15503</td>\n      <td>93.15501</td>\n      <td>93.15501</td>\n      <td>5.000000</td>\n    </tr>\n    <tr>\n      <th>2013-04-01 05:00:00</th>\n      <th>btc</th>\n      <th>usd</th>\n      <td>93.70000</td>\n      <td>93.79000</td>\n      <td>93.70000</td>\n      <td>93.70000</td>\n      <td>22.090000</td>\n    </tr>\n    <tr>\n      <th>2013-04-01 06:00:00</th>\n      <th>btc</th>\n      <th>usd</th>\n      <td>94.06751</td>\n      <td>94.48000</td>\n      <td>94.00000</td>\n      <td>94.06751</td>\n      <td>84.000000</td>\n    </tr>\n    <tr>\n      <th>2013-04-01 07:00:00</th>\n      <th>btc</th>\n      <th>usd</th>\n      <td>94.06751</td>\n      <td>94.06751</td>\n      <td>94.06751</td>\n      <td>94.06751</td>\n      <td>0.000000</td>\n    </tr>\n    <tr>\n      <th>2013-04-01 08:00:00</th>\n      <th>btc</th>\n      <th>usd</th>\n      <td>93.55000</td>\n      <td>94.00000</td>\n      <td>93.55000</td>\n      <td>93.55000</td>\n      <td>3.807371</td>\n    </tr>\n    <tr>\n      <th>2013-04-01 09:00:00</th>\n      <th>btc</th>\n      <th>usd</th>\n      <td>94.22999</td>\n      <td>94.23000</td>\n      <td>94.22999</td>\n      <td>94.22999</td>\n      <td>1.970000</td>\n    </tr>\n  </tbody>\n</table>\n</div>"
     },
     "execution_count": 5,
     "metadata": {},
     "output_type": "execute_result"
    }
   ],
   "source": [
    "prices.head(10)"
   ]
  },
  {
   "cell_type": "code",
   "execution_count": 6,
   "id": "young-extra",
   "metadata": {},
   "outputs": [
    {
     "data": {
      "text/plain": "                                        open         high          low  \\\ndate                symbol base                                          \n2021-05-13 06:00:00 trx    usd       0.12517      0.12623      0.12517   \n                    uni    usd      39.65200     39.93300     39.60200   \n                    usdc   usd       0.99990      1.00040      0.99960   \n                    usdt   usd       1.00060      1.00070      1.00010   \n                    vet    usd       0.18527      0.18921      0.18499   \n                    wbtc   usd   50912.00000  51320.00000  50912.00000   \n                    xlm    usd       0.62706      0.63696      0.62446   \n                    xmr    usd     417.02000    419.45000    417.02000   \n                    xrp    usd       1.38470      1.38770      1.37720   \n                    xtz    usd       6.30770      6.38470      6.30290   \n\n                                       close        volume  \ndate                symbol base                             \n2021-05-13 06:00:00 trx    usd       0.12517  3.188056e+05  \n                    uni    usd      39.65200  8.903556e+03  \n                    usdc   usd       0.99990  1.501171e+04  \n                    usdt   usd       1.00060  4.270349e+06  \n                    vet    usd       0.18527  1.801627e+06  \n                    wbtc   usd   50912.00000  1.189760e-03  \n                    xlm    usd       0.62706  3.017349e+05  \n                    xmr    usd     417.02000  6.087661e+01  \n                    xrp    usd       1.38470  3.860833e+05  \n                    xtz    usd       6.30770  4.503583e+04  ",
      "text/html": "<div>\n<style scoped>\n    .dataframe tbody tr th:only-of-type {\n        vertical-align: middle;\n    }\n\n    .dataframe tbody tr th {\n        vertical-align: top;\n    }\n\n    .dataframe thead th {\n        text-align: right;\n    }\n</style>\n<table border=\"1\" class=\"dataframe\">\n  <thead>\n    <tr style=\"text-align: right;\">\n      <th></th>\n      <th></th>\n      <th></th>\n      <th>open</th>\n      <th>high</th>\n      <th>low</th>\n      <th>close</th>\n      <th>volume</th>\n    </tr>\n    <tr>\n      <th>date</th>\n      <th>symbol</th>\n      <th>base</th>\n      <th></th>\n      <th></th>\n      <th></th>\n      <th></th>\n      <th></th>\n    </tr>\n  </thead>\n  <tbody>\n    <tr>\n      <th rowspan=\"10\" valign=\"top\">2021-05-13 06:00:00</th>\n      <th>trx</th>\n      <th>usd</th>\n      <td>0.12517</td>\n      <td>0.12623</td>\n      <td>0.12517</td>\n      <td>0.12517</td>\n      <td>3.188056e+05</td>\n    </tr>\n    <tr>\n      <th>uni</th>\n      <th>usd</th>\n      <td>39.65200</td>\n      <td>39.93300</td>\n      <td>39.60200</td>\n      <td>39.65200</td>\n      <td>8.903556e+03</td>\n    </tr>\n    <tr>\n      <th>usdc</th>\n      <th>usd</th>\n      <td>0.99990</td>\n      <td>1.00040</td>\n      <td>0.99960</td>\n      <td>0.99990</td>\n      <td>1.501171e+04</td>\n    </tr>\n    <tr>\n      <th>usdt</th>\n      <th>usd</th>\n      <td>1.00060</td>\n      <td>1.00070</td>\n      <td>1.00010</td>\n      <td>1.00060</td>\n      <td>4.270349e+06</td>\n    </tr>\n    <tr>\n      <th>vet</th>\n      <th>usd</th>\n      <td>0.18527</td>\n      <td>0.18921</td>\n      <td>0.18499</td>\n      <td>0.18527</td>\n      <td>1.801627e+06</td>\n    </tr>\n    <tr>\n      <th>wbtc</th>\n      <th>usd</th>\n      <td>50912.00000</td>\n      <td>51320.00000</td>\n      <td>50912.00000</td>\n      <td>50912.00000</td>\n      <td>1.189760e-03</td>\n    </tr>\n    <tr>\n      <th>xlm</th>\n      <th>usd</th>\n      <td>0.62706</td>\n      <td>0.63696</td>\n      <td>0.62446</td>\n      <td>0.62706</td>\n      <td>3.017349e+05</td>\n    </tr>\n    <tr>\n      <th>xmr</th>\n      <th>usd</th>\n      <td>417.02000</td>\n      <td>419.45000</td>\n      <td>417.02000</td>\n      <td>417.02000</td>\n      <td>6.087661e+01</td>\n    </tr>\n    <tr>\n      <th>xrp</th>\n      <th>usd</th>\n      <td>1.38470</td>\n      <td>1.38770</td>\n      <td>1.37720</td>\n      <td>1.38470</td>\n      <td>3.860833e+05</td>\n    </tr>\n    <tr>\n      <th>xtz</th>\n      <th>usd</th>\n      <td>6.30770</td>\n      <td>6.38470</td>\n      <td>6.30290</td>\n      <td>6.30770</td>\n      <td>4.503583e+04</td>\n    </tr>\n  </tbody>\n</table>\n</div>"
     },
     "execution_count": 6,
     "metadata": {},
     "output_type": "execute_result"
    }
   ],
   "source": [
    "prices.tail(10)"
   ]
  },
  {
   "cell_type": "code",
   "execution_count": 7,
   "id": "induced-scott",
   "metadata": {},
   "outputs": [
    {
     "name": "stdout",
     "output_type": "stream",
     "text": [
      "done\n"
     ]
    }
   ],
   "source": [
    "DATA_STORE = '../data/crypto.h5'\n",
    "with pd.HDFStore(DATA_STORE) as store:\n",
    "    store.put('crypto/caggle/prices', prices)\n",
    "print(\"done\")\n"
   ]
  },
  {
   "cell_type": "markdown",
   "id": "friendly-wireless",
   "metadata": {},
   "source": [
    "https://zaxrosenberg.com/pandas-multiindex-tutorial/\n"
   ]
  },
  {
   "cell_type": "code",
   "execution_count": 8,
   "id": "attractive-upgrade",
   "metadata": {},
   "outputs": [
    {
     "data": {
      "text/plain": "Index(['btc', 'ltc', 'eth', 'etc', 'xmr', 'xrp', 'miota', 'eos', 'neo', 'trx',\n       'dai', 'mtn', 'xlm', 'mkr', 'man', 'vet', 'xtz', 'bsv', 'usdt', 'usdc',\n       'btt', 'atom', 'wbtc', 'okb', 'algo', 'ftt', 'doge', 'ada', 'dot',\n       'ksm', 'uni', 'fil', 'sol', 'aave', 'avax', 'bch', 'link', 'luna'],\n      dtype='object', name='symbol')"
     },
     "execution_count": 8,
     "metadata": {},
     "output_type": "execute_result"
    }
   ],
   "source": [
    "prices.index.get_level_values('symbol').unique()"
   ]
  },
  {
   "cell_type": "code",
   "execution_count": 9,
   "id": "accomplished-father",
   "metadata": {},
   "outputs": [
    {
     "data": {
      "text/plain": "                                        open          high          low  \\\ndate                symbol base                                           \n2021-01-01 00:00:00 ada    usd       0.18110      0.181100      0.17850   \n                    algo   usd       0.33618      0.346470      0.33147   \n                    atom   usd       6.44000      6.440000      6.27230   \n                    bsv    usd     163.28000    163.350000    161.94000   \n                    btc    usd   28939.00000  29038.426155  28716.00000   \n...                                      ...           ...          ...   \n2021-05-13 06:00:00 wbtc   usd   50912.00000  51320.000000  50912.00000   \n                    xlm    usd       0.62706      0.636960      0.62446   \n                    xmr    usd     417.02000    419.450000    417.02000   \n                    xrp    usd       1.38470      1.387700      1.37720   \n                    xtz    usd       6.30770      6.384700      6.30290   \n\n                                       close         volume  \ndate                symbol base                              \n2021-01-01 00:00:00 ada    usd       0.18110   76856.980277  \n                    algo   usd       0.33618   65817.281904  \n                    atom   usd       6.44000   10823.682004  \n                    bsv    usd     163.28000      30.913340  \n                    btc    usd   28939.00000     316.524709  \n...                                      ...            ...  \n2021-05-13 06:00:00 wbtc   usd   50912.00000       0.001190  \n                    xlm    usd       0.62706  301734.858587  \n                    xmr    usd     417.02000      60.876606  \n                    xrp    usd       1.38470  386083.274679  \n                    xtz    usd       6.30770   45035.830311  \n\n[100127 rows x 5 columns]",
      "text/html": "<div>\n<style scoped>\n    .dataframe tbody tr th:only-of-type {\n        vertical-align: middle;\n    }\n\n    .dataframe tbody tr th {\n        vertical-align: top;\n    }\n\n    .dataframe thead th {\n        text-align: right;\n    }\n</style>\n<table border=\"1\" class=\"dataframe\">\n  <thead>\n    <tr style=\"text-align: right;\">\n      <th></th>\n      <th></th>\n      <th></th>\n      <th>open</th>\n      <th>high</th>\n      <th>low</th>\n      <th>close</th>\n      <th>volume</th>\n    </tr>\n    <tr>\n      <th>date</th>\n      <th>symbol</th>\n      <th>base</th>\n      <th></th>\n      <th></th>\n      <th></th>\n      <th></th>\n      <th></th>\n    </tr>\n  </thead>\n  <tbody>\n    <tr>\n      <th rowspan=\"5\" valign=\"top\">2021-01-01 00:00:00</th>\n      <th>ada</th>\n      <th>usd</th>\n      <td>0.18110</td>\n      <td>0.181100</td>\n      <td>0.17850</td>\n      <td>0.18110</td>\n      <td>76856.980277</td>\n    </tr>\n    <tr>\n      <th>algo</th>\n      <th>usd</th>\n      <td>0.33618</td>\n      <td>0.346470</td>\n      <td>0.33147</td>\n      <td>0.33618</td>\n      <td>65817.281904</td>\n    </tr>\n    <tr>\n      <th>atom</th>\n      <th>usd</th>\n      <td>6.44000</td>\n      <td>6.440000</td>\n      <td>6.27230</td>\n      <td>6.44000</td>\n      <td>10823.682004</td>\n    </tr>\n    <tr>\n      <th>bsv</th>\n      <th>usd</th>\n      <td>163.28000</td>\n      <td>163.350000</td>\n      <td>161.94000</td>\n      <td>163.28000</td>\n      <td>30.913340</td>\n    </tr>\n    <tr>\n      <th>btc</th>\n      <th>usd</th>\n      <td>28939.00000</td>\n      <td>29038.426155</td>\n      <td>28716.00000</td>\n      <td>28939.00000</td>\n      <td>316.524709</td>\n    </tr>\n    <tr>\n      <th>...</th>\n      <th>...</th>\n      <th>...</th>\n      <td>...</td>\n      <td>...</td>\n      <td>...</td>\n      <td>...</td>\n      <td>...</td>\n    </tr>\n    <tr>\n      <th rowspan=\"5\" valign=\"top\">2021-05-13 06:00:00</th>\n      <th>wbtc</th>\n      <th>usd</th>\n      <td>50912.00000</td>\n      <td>51320.000000</td>\n      <td>50912.00000</td>\n      <td>50912.00000</td>\n      <td>0.001190</td>\n    </tr>\n    <tr>\n      <th>xlm</th>\n      <th>usd</th>\n      <td>0.62706</td>\n      <td>0.636960</td>\n      <td>0.62446</td>\n      <td>0.62706</td>\n      <td>301734.858587</td>\n    </tr>\n    <tr>\n      <th>xmr</th>\n      <th>usd</th>\n      <td>417.02000</td>\n      <td>419.450000</td>\n      <td>417.02000</td>\n      <td>417.02000</td>\n      <td>60.876606</td>\n    </tr>\n    <tr>\n      <th>xrp</th>\n      <th>usd</th>\n      <td>1.38470</td>\n      <td>1.387700</td>\n      <td>1.37720</td>\n      <td>1.38470</td>\n      <td>386083.274679</td>\n    </tr>\n    <tr>\n      <th>xtz</th>\n      <th>usd</th>\n      <td>6.30770</td>\n      <td>6.384700</td>\n      <td>6.30290</td>\n      <td>6.30770</td>\n      <td>45035.830311</td>\n    </tr>\n  </tbody>\n</table>\n<p>100127 rows × 5 columns</p>\n</div>"
     },
     "execution_count": 9,
     "metadata": {},
     "output_type": "execute_result"
    }
   ],
   "source": [
    "# inplace\n",
    "idx = pd.IndexSlice\n",
    "prices.loc[idx['2021']]"
   ]
  },
  {
   "cell_type": "code",
   "execution_count": 10,
   "id": "expected-newsletter",
   "metadata": {},
   "outputs": [
    {
     "data": {
      "text/plain": "                              open       high       low     close      volume\ndate                base                                                     \n2013-04-01 00:00:00 usd   93.25000  100.00000  93.03000  93.25000  345.583889\n2013-04-01 01:00:00 usd   93.37999   93.48797  93.10000  93.37999   45.243335\n2013-04-01 02:00:00 usd   93.17000   94.00000  93.10999  93.17000  466.311420\n2013-04-01 03:00:00 usd   93.80000   93.80000  92.49999  93.80000   96.316180\n2013-04-01 04:00:00 usd   93.15501   93.15503  93.15501  93.15501    5.000000\n2013-04-01 05:00:00 usd   93.70000   93.79000  93.70000  93.70000   22.090000\n2013-04-01 06:00:00 usd   94.06751   94.48000  94.00000  94.06751   84.000000\n2013-04-01 07:00:00 usd   94.06751   94.06751  94.06751  94.06751    0.000000\n2013-04-01 08:00:00 usd   93.55000   94.00000  93.55000  93.55000    3.807371\n2013-04-01 09:00:00 usd   94.22999   94.23000  94.22999  94.22999    1.970000",
      "text/html": "<div>\n<style scoped>\n    .dataframe tbody tr th:only-of-type {\n        vertical-align: middle;\n    }\n\n    .dataframe tbody tr th {\n        vertical-align: top;\n    }\n\n    .dataframe thead th {\n        text-align: right;\n    }\n</style>\n<table border=\"1\" class=\"dataframe\">\n  <thead>\n    <tr style=\"text-align: right;\">\n      <th></th>\n      <th></th>\n      <th>open</th>\n      <th>high</th>\n      <th>low</th>\n      <th>close</th>\n      <th>volume</th>\n    </tr>\n    <tr>\n      <th>date</th>\n      <th>base</th>\n      <th></th>\n      <th></th>\n      <th></th>\n      <th></th>\n      <th></th>\n    </tr>\n  </thead>\n  <tbody>\n    <tr>\n      <th>2013-04-01 00:00:00</th>\n      <th>usd</th>\n      <td>93.25000</td>\n      <td>100.00000</td>\n      <td>93.03000</td>\n      <td>93.25000</td>\n      <td>345.583889</td>\n    </tr>\n    <tr>\n      <th>2013-04-01 01:00:00</th>\n      <th>usd</th>\n      <td>93.37999</td>\n      <td>93.48797</td>\n      <td>93.10000</td>\n      <td>93.37999</td>\n      <td>45.243335</td>\n    </tr>\n    <tr>\n      <th>2013-04-01 02:00:00</th>\n      <th>usd</th>\n      <td>93.17000</td>\n      <td>94.00000</td>\n      <td>93.10999</td>\n      <td>93.17000</td>\n      <td>466.311420</td>\n    </tr>\n    <tr>\n      <th>2013-04-01 03:00:00</th>\n      <th>usd</th>\n      <td>93.80000</td>\n      <td>93.80000</td>\n      <td>92.49999</td>\n      <td>93.80000</td>\n      <td>96.316180</td>\n    </tr>\n    <tr>\n      <th>2013-04-01 04:00:00</th>\n      <th>usd</th>\n      <td>93.15501</td>\n      <td>93.15503</td>\n      <td>93.15501</td>\n      <td>93.15501</td>\n      <td>5.000000</td>\n    </tr>\n    <tr>\n      <th>2013-04-01 05:00:00</th>\n      <th>usd</th>\n      <td>93.70000</td>\n      <td>93.79000</td>\n      <td>93.70000</td>\n      <td>93.70000</td>\n      <td>22.090000</td>\n    </tr>\n    <tr>\n      <th>2013-04-01 06:00:00</th>\n      <th>usd</th>\n      <td>94.06751</td>\n      <td>94.48000</td>\n      <td>94.00000</td>\n      <td>94.06751</td>\n      <td>84.000000</td>\n    </tr>\n    <tr>\n      <th>2013-04-01 07:00:00</th>\n      <th>usd</th>\n      <td>94.06751</td>\n      <td>94.06751</td>\n      <td>94.06751</td>\n      <td>94.06751</td>\n      <td>0.000000</td>\n    </tr>\n    <tr>\n      <th>2013-04-01 08:00:00</th>\n      <th>usd</th>\n      <td>93.55000</td>\n      <td>94.00000</td>\n      <td>93.55000</td>\n      <td>93.55000</td>\n      <td>3.807371</td>\n    </tr>\n    <tr>\n      <th>2013-04-01 09:00:00</th>\n      <th>usd</th>\n      <td>94.22999</td>\n      <td>94.23000</td>\n      <td>94.22999</td>\n      <td>94.22999</td>\n      <td>1.970000</td>\n    </tr>\n  </tbody>\n</table>\n</div>"
     },
     "execution_count": 10,
     "metadata": {},
     "output_type": "execute_result"
    }
   ],
   "source": [
    "# copies.. \n",
    "prices.xs('btc', level='symbol').head(10)"
   ]
  },
  {
   "cell_type": "code",
   "execution_count": 11,
   "id": "essential-forth",
   "metadata": {},
   "outputs": [
    {
     "data": {
      "text/plain": "                                   open    high     low   close       volume\ndate                symbol base                                             \n2015-12-09 20:00:00 btc    usd   414.11  414.56  412.56  414.11   436.156913\n2015-12-09 21:00:00 btc    usd   414.51  417.25  413.68  414.51  1172.483208\n2015-12-09 22:00:00 btc    usd   417.17  418.45  417.00  417.17   709.583719\n2015-12-09 23:00:00 btc    usd   417.75  419.45  416.50  417.75  1081.349244\n2015-12-10 00:00:00 btc    usd   418.86  421.00  414.90  418.86  1963.019398\n2015-12-10 01:00:00 btc    usd   416.00  418.71  415.97  416.00   713.827955\n2015-12-10 02:00:00 btc    usd   417.19  417.77  413.78  417.19   705.689091\n2015-12-10 03:00:00 btc    usd   417.74  417.98  413.33  417.74  1031.438780\n2015-12-10 04:00:00 btc    usd   415.69  416.17  414.30  415.69   543.623548\n2015-12-10 05:00:00 btc    usd   415.54  415.70  411.45  415.54  1368.660803\n2015-12-10 06:00:00 btc    usd   412.99  413.50  411.46  412.99   925.972157\n2015-12-10 07:00:00 btc    usd   412.70  414.84  411.09  412.70   818.970469",
      "text/html": "<div>\n<style scoped>\n    .dataframe tbody tr th:only-of-type {\n        vertical-align: middle;\n    }\n\n    .dataframe tbody tr th {\n        vertical-align: top;\n    }\n\n    .dataframe thead th {\n        text-align: right;\n    }\n</style>\n<table border=\"1\" class=\"dataframe\">\n  <thead>\n    <tr style=\"text-align: right;\">\n      <th></th>\n      <th></th>\n      <th></th>\n      <th>open</th>\n      <th>high</th>\n      <th>low</th>\n      <th>close</th>\n      <th>volume</th>\n    </tr>\n    <tr>\n      <th>date</th>\n      <th>symbol</th>\n      <th>base</th>\n      <th></th>\n      <th></th>\n      <th></th>\n      <th></th>\n      <th></th>\n    </tr>\n  </thead>\n  <tbody>\n    <tr>\n      <th>2015-12-09 20:00:00</th>\n      <th>btc</th>\n      <th>usd</th>\n      <td>414.11</td>\n      <td>414.56</td>\n      <td>412.56</td>\n      <td>414.11</td>\n      <td>436.156913</td>\n    </tr>\n    <tr>\n      <th>2015-12-09 21:00:00</th>\n      <th>btc</th>\n      <th>usd</th>\n      <td>414.51</td>\n      <td>417.25</td>\n      <td>413.68</td>\n      <td>414.51</td>\n      <td>1172.483208</td>\n    </tr>\n    <tr>\n      <th>2015-12-09 22:00:00</th>\n      <th>btc</th>\n      <th>usd</th>\n      <td>417.17</td>\n      <td>418.45</td>\n      <td>417.00</td>\n      <td>417.17</td>\n      <td>709.583719</td>\n    </tr>\n    <tr>\n      <th>2015-12-09 23:00:00</th>\n      <th>btc</th>\n      <th>usd</th>\n      <td>417.75</td>\n      <td>419.45</td>\n      <td>416.50</td>\n      <td>417.75</td>\n      <td>1081.349244</td>\n    </tr>\n    <tr>\n      <th>2015-12-10 00:00:00</th>\n      <th>btc</th>\n      <th>usd</th>\n      <td>418.86</td>\n      <td>421.00</td>\n      <td>414.90</td>\n      <td>418.86</td>\n      <td>1963.019398</td>\n    </tr>\n    <tr>\n      <th>2015-12-10 01:00:00</th>\n      <th>btc</th>\n      <th>usd</th>\n      <td>416.00</td>\n      <td>418.71</td>\n      <td>415.97</td>\n      <td>416.00</td>\n      <td>713.827955</td>\n    </tr>\n    <tr>\n      <th>2015-12-10 02:00:00</th>\n      <th>btc</th>\n      <th>usd</th>\n      <td>417.19</td>\n      <td>417.77</td>\n      <td>413.78</td>\n      <td>417.19</td>\n      <td>705.689091</td>\n    </tr>\n    <tr>\n      <th>2015-12-10 03:00:00</th>\n      <th>btc</th>\n      <th>usd</th>\n      <td>417.74</td>\n      <td>417.98</td>\n      <td>413.33</td>\n      <td>417.74</td>\n      <td>1031.438780</td>\n    </tr>\n    <tr>\n      <th>2015-12-10 04:00:00</th>\n      <th>btc</th>\n      <th>usd</th>\n      <td>415.69</td>\n      <td>416.17</td>\n      <td>414.30</td>\n      <td>415.69</td>\n      <td>543.623548</td>\n    </tr>\n    <tr>\n      <th>2015-12-10 05:00:00</th>\n      <th>btc</th>\n      <th>usd</th>\n      <td>415.54</td>\n      <td>415.70</td>\n      <td>411.45</td>\n      <td>415.54</td>\n      <td>1368.660803</td>\n    </tr>\n    <tr>\n      <th>2015-12-10 06:00:00</th>\n      <th>btc</th>\n      <th>usd</th>\n      <td>412.99</td>\n      <td>413.50</td>\n      <td>411.46</td>\n      <td>412.99</td>\n      <td>925.972157</td>\n    </tr>\n    <tr>\n      <th>2015-12-10 07:00:00</th>\n      <th>btc</th>\n      <th>usd</th>\n      <td>412.70</td>\n      <td>414.84</td>\n      <td>411.09</td>\n      <td>412.70</td>\n      <td>818.970469</td>\n    </tr>\n  </tbody>\n</table>\n</div>"
     },
     "execution_count": 11,
     "metadata": {},
     "output_type": "execute_result"
    }
   ],
   "source": [
    "# buggy date\n",
    "prices.xs(('2018-07-01', 'btc', 'usd'), level=['date', 'symbol', 'base'])\n"
   ]
  },
  {
   "cell_type": "code",
   "execution_count": 12,
   "id": "classical-scottish",
   "metadata": {},
   "outputs": [
    {
     "data": {
      "text/plain": "                             open         high           low         close  \\\ndate                                                                         \n2013-04-01 00:00:00     93.250000    100.00000     93.030000     93.250000   \n2013-04-01 01:00:00     93.379990     93.48797     93.100000     93.379990   \n2013-04-01 02:00:00     93.170000     94.00000     93.109990     93.170000   \n2013-04-01 03:00:00     93.800000     93.80000     92.499990     93.800000   \n2013-04-01 04:00:00     93.155010     93.15503     93.155010     93.155010   \n...                           ...          ...           ...           ...   \n2021-05-13 02:00:00  50517.003812  50879.00000  50066.000000  50517.003812   \n2021-05-13 03:00:00  50312.000000  50501.00000  49585.409306  50312.000000   \n2021-05-13 04:00:00  50481.000000  51008.00000  50315.000000  50481.000000   \n2021-05-13 05:00:00  50505.945475  51103.00000  50499.000000  50505.945475   \n2021-05-13 06:00:00  50937.595993  51255.00000  50855.652932  50937.595993   \n\n                          volume  \ndate                              \n2013-04-01 00:00:00   345.583889  \n2013-04-01 01:00:00    45.243335  \n2013-04-01 02:00:00   466.311420  \n2013-04-01 03:00:00    96.316180  \n2013-04-01 04:00:00     5.000000  \n...                          ...  \n2021-05-13 02:00:00  1093.080290  \n2021-05-13 03:00:00   909.961647  \n2021-05-13 04:00:00   781.345590  \n2021-05-13 05:00:00   564.692856  \n2021-05-13 06:00:00   241.155936  \n\n[71143 rows x 5 columns]",
      "text/html": "<div>\n<style scoped>\n    .dataframe tbody tr th:only-of-type {\n        vertical-align: middle;\n    }\n\n    .dataframe tbody tr th {\n        vertical-align: top;\n    }\n\n    .dataframe thead th {\n        text-align: right;\n    }\n</style>\n<table border=\"1\" class=\"dataframe\">\n  <thead>\n    <tr style=\"text-align: right;\">\n      <th></th>\n      <th>open</th>\n      <th>high</th>\n      <th>low</th>\n      <th>close</th>\n      <th>volume</th>\n    </tr>\n    <tr>\n      <th>date</th>\n      <th></th>\n      <th></th>\n      <th></th>\n      <th></th>\n      <th></th>\n    </tr>\n  </thead>\n  <tbody>\n    <tr>\n      <th>2013-04-01 00:00:00</th>\n      <td>93.250000</td>\n      <td>100.00000</td>\n      <td>93.030000</td>\n      <td>93.250000</td>\n      <td>345.583889</td>\n    </tr>\n    <tr>\n      <th>2013-04-01 01:00:00</th>\n      <td>93.379990</td>\n      <td>93.48797</td>\n      <td>93.100000</td>\n      <td>93.379990</td>\n      <td>45.243335</td>\n    </tr>\n    <tr>\n      <th>2013-04-01 02:00:00</th>\n      <td>93.170000</td>\n      <td>94.00000</td>\n      <td>93.109990</td>\n      <td>93.170000</td>\n      <td>466.311420</td>\n    </tr>\n    <tr>\n      <th>2013-04-01 03:00:00</th>\n      <td>93.800000</td>\n      <td>93.80000</td>\n      <td>92.499990</td>\n      <td>93.800000</td>\n      <td>96.316180</td>\n    </tr>\n    <tr>\n      <th>2013-04-01 04:00:00</th>\n      <td>93.155010</td>\n      <td>93.15503</td>\n      <td>93.155010</td>\n      <td>93.155010</td>\n      <td>5.000000</td>\n    </tr>\n    <tr>\n      <th>...</th>\n      <td>...</td>\n      <td>...</td>\n      <td>...</td>\n      <td>...</td>\n      <td>...</td>\n    </tr>\n    <tr>\n      <th>2021-05-13 02:00:00</th>\n      <td>50517.003812</td>\n      <td>50879.00000</td>\n      <td>50066.000000</td>\n      <td>50517.003812</td>\n      <td>1093.080290</td>\n    </tr>\n    <tr>\n      <th>2021-05-13 03:00:00</th>\n      <td>50312.000000</td>\n      <td>50501.00000</td>\n      <td>49585.409306</td>\n      <td>50312.000000</td>\n      <td>909.961647</td>\n    </tr>\n    <tr>\n      <th>2021-05-13 04:00:00</th>\n      <td>50481.000000</td>\n      <td>51008.00000</td>\n      <td>50315.000000</td>\n      <td>50481.000000</td>\n      <td>781.345590</td>\n    </tr>\n    <tr>\n      <th>2021-05-13 05:00:00</th>\n      <td>50505.945475</td>\n      <td>51103.00000</td>\n      <td>50499.000000</td>\n      <td>50505.945475</td>\n      <td>564.692856</td>\n    </tr>\n    <tr>\n      <th>2021-05-13 06:00:00</th>\n      <td>50937.595993</td>\n      <td>51255.00000</td>\n      <td>50855.652932</td>\n      <td>50937.595993</td>\n      <td>241.155936</td>\n    </tr>\n  </tbody>\n</table>\n<p>71143 rows × 5 columns</p>\n</div>"
     },
     "execution_count": 12,
     "metadata": {},
     "output_type": "execute_result"
    }
   ],
   "source": [
    "prices.xs(('btc', 'usd'), level=['symbol', 'base'])"
   ]
  },
  {
   "cell_type": "code",
   "execution_count": 13,
   "id": "foster-lodging",
   "metadata": {},
   "outputs": [
    {
     "ename": "SyntaxError",
     "evalue": "invalid syntax (<unknown>, line 1)",
     "output_type": "error",
     "traceback": [
      "Traceback \u001B[0;36m(most recent call last)\u001B[0m:\n",
      "  File \u001B[1;32m\"/home/jak/miniconda3/envs/ml4t_gpu/lib/python3.8/site-packages/IPython/core/interactiveshell.py\"\u001B[0m, line \u001B[1;32m3437\u001B[0m, in \u001B[1;35mrun_code\u001B[0m\n    exec(code_obj, self.user_global_ns, self.user_ns)\n",
      "  File \u001B[1;32m\"<ipython-input-13-5333936a42fd>\"\u001B[0m, line \u001B[1;32m2\u001B[0m, in \u001B[1;35m<module>\u001B[0m\n    result = prices.query(\"'symbol =='btc'\")\n",
      "  File \u001B[1;32m\"/home/jak/miniconda3/envs/ml4t_gpu/lib/python3.8/site-packages/pandas/core/frame.py\"\u001B[0m, line \u001B[1;32m3469\u001B[0m, in \u001B[1;35mquery\u001B[0m\n    res = self.eval(expr, **kwargs)\n",
      "  File \u001B[1;32m\"/home/jak/miniconda3/envs/ml4t_gpu/lib/python3.8/site-packages/pandas/core/frame.py\"\u001B[0m, line \u001B[1;32m3599\u001B[0m, in \u001B[1;35meval\u001B[0m\n    return _eval(expr, inplace=inplace, **kwargs)\n",
      "  File \u001B[1;32m\"/home/jak/miniconda3/envs/ml4t_gpu/lib/python3.8/site-packages/pandas/core/computation/eval.py\"\u001B[0m, line \u001B[1;32m342\u001B[0m, in \u001B[1;35meval\u001B[0m\n    parsed_expr = Expr(expr, engine=engine, parser=parser, env=env)\n",
      "  File \u001B[1;32m\"/home/jak/miniconda3/envs/ml4t_gpu/lib/python3.8/site-packages/pandas/core/computation/expr.py\"\u001B[0m, line \u001B[1;32m798\u001B[0m, in \u001B[1;35m__init__\u001B[0m\n    self.terms = self.parse()\n",
      "  File \u001B[1;32m\"/home/jak/miniconda3/envs/ml4t_gpu/lib/python3.8/site-packages/pandas/core/computation/expr.py\"\u001B[0m, line \u001B[1;32m817\u001B[0m, in \u001B[1;35mparse\u001B[0m\n    return self._visitor.visit(self.expr)\n",
      "  File \u001B[1;32m\"/home/jak/miniconda3/envs/ml4t_gpu/lib/python3.8/site-packages/pandas/core/computation/expr.py\"\u001B[0m, line \u001B[1;32m397\u001B[0m, in \u001B[1;35mvisit\u001B[0m\n    raise e\n",
      "  File \u001B[1;32m\"/home/jak/miniconda3/envs/ml4t_gpu/lib/python3.8/site-packages/pandas/core/computation/expr.py\"\u001B[0m, line \u001B[1;32m393\u001B[0m, in \u001B[1;35mvisit\u001B[0m\n    node = ast.fix_missing_locations(ast.parse(clean))\n",
      "\u001B[0;36m  File \u001B[0;32m\"/home/jak/miniconda3/envs/ml4t_gpu/lib/python3.8/ast.py\"\u001B[0;36m, line \u001B[0;32m47\u001B[0;36m, in \u001B[0;35mparse\u001B[0;36m\u001B[0m\n\u001B[0;31m    return compile(source, filename, mode, flags,\u001B[0m\n",
      "\u001B[0;36m  File \u001B[0;32m\"<unknown>\"\u001B[0;36m, line \u001B[0;32m1\u001B[0m\n\u001B[0;31m    'symbol =='btc '\u001B[0m\n\u001B[0m               ^\u001B[0m\n\u001B[0;31mSyntaxError\u001B[0m\u001B[0;31m:\u001B[0m invalid syntax\n"
     ]
    }
   ],
   "source": [
    "\n",
    "# seems only the first result\n",
    "result = prices.query(\"'symbol =='btc'\")\n",
    "print(result)"
   ]
  },
  {
   "cell_type": "code",
   "execution_count": null,
   "id": "fatal-eleven",
   "metadata": {},
   "outputs": [],
   "source": [
    "'btc' in prices.index.get_level_values('symbol') and 'usd' in prices.index.get_level_values('base')"
   ]
  },
  {
   "cell_type": "code",
   "execution_count": null,
   "outputs": [],
   "source": [
    "'btc' in prices.index.get_level_values('symbol') and 'xxxn' in prices.index.get_level_values('base')"
   ],
   "metadata": {
    "collapsed": false,
    "pycharm": {
     "name": "#%%\n"
    }
   }
  }
 ],
 "metadata": {
  "kernelspec": {
   "name": "python3",
   "language": "python",
   "display_name": "Python 3"
  },
  "language_info": {
   "codemirror_mode": {
    "name": "ipython",
    "version": 3
   },
   "file_extension": ".py",
   "mimetype": "text/x-python",
   "name": "python",
   "nbconvert_exporter": "python",
   "pygments_lexer": "ipython3",
   "version": "3.8.8"
  }
 },
 "nbformat": 4,
 "nbformat_minor": 5
}