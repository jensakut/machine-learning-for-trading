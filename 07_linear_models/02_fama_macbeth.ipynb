{
 "cells": [
  {
   "cell_type": "markdown",
   "metadata": {},
   "source": [
    "# How to build a linear factor model"
   ]
  },
  {
   "cell_type": "markdown",
   "metadata": {},
   "source": [
    "Algorithmic trading strategies use linear factor models to quantify the relationship between the return of an asset and the sources of risk that represent the main drivers of these returns. Each factor risk carries a premium, and the total asset return can be expected to correspond to a weighted average of these risk premia."
   ]
  },
  {
   "cell_type": "markdown",
   "metadata": {},
   "source": [
    "There are several practical applications of factor models across the portfolio management process from construction and asset selection to risk management and performance evaluation. The importance of factor models continues to grow as common risk factors are now tradeable:\n",
    "\n",
    "- A summary of the returns of many assets by a much smaller number of factors reduces the amount of data required to estimate the covariance matrix when optimizing a portfolio\n",
    "- An estimate of the exposure of an asset or a portfolio to these factors allows for the management of the resultant risk, for instance by entering suitable hedges when risk factors are themselves traded\n",
    "- A factor model also permits the assessment of the incremental signal content of new alpha factors\n",
    "- A factor model can also help assess whether a manager's performance relative to a benchmark is indeed due to skill in selecting assets and timing the market, or if instead, the performance can be explained by portfolio tilts towards known return drivers that can today be replicated as low-cost, passively managed funds without incurring active management fees"
   ]
  },
  {
   "cell_type": "markdown",
   "metadata": {},
   "source": [
    "## Imports & Settings"
   ]
  },
  {
   "cell_type": "code",
   "execution_count": 1,
   "metadata": {
    "ExecuteTime": {
     "end_time": "2021-02-23T05:31:21.068247Z",
     "start_time": "2021-02-23T05:31:21.065335Z"
    }
   },
   "outputs": [],
   "source": [
    "import warnings\n",
    "warnings.filterwarnings('ignore')"
   ]
  },
  {
   "cell_type": "code",
   "execution_count": 2,
   "metadata": {
    "ExecuteTime": {
     "end_time": "2021-02-23T05:31:22.013457Z",
     "start_time": "2021-02-23T05:31:21.072681Z"
    }
   },
   "outputs": [],
   "source": [
    "import pandas as pd\n",
    "import numpy as np\n",
    "\n",
    "from statsmodels.api import OLS, add_constant\n",
    "import pandas_datareader.data as web\n",
    "\n",
    "from linearmodels.asset_pricing import LinearFactorModel\n",
    "\n",
    "import matplotlib.pyplot as plt\n",
    "import seaborn as sns"
   ]
  },
  {
   "cell_type": "code",
   "execution_count": 3,
   "metadata": {
    "ExecuteTime": {
     "end_time": "2021-02-23T05:31:22.016582Z",
     "start_time": "2021-02-23T05:31:22.014604Z"
    }
   },
   "outputs": [],
   "source": [
    "sns.set_style('whitegrid')"
   ]
  },
  {
   "cell_type": "markdown",
   "metadata": {},
   "source": [
    "## Get Data"
   ]
  },
  {
   "cell_type": "markdown",
   "metadata": {},
   "source": [
    "Fama and French make updated risk factor and research portfolio data available through their [website](http://mba.tuck.dartmouth.edu/pages/faculty/ken.french/data_library.html), and you can use the `pandas_datareader` package to obtain the data."
   ]
  },
  {
   "cell_type": "markdown",
   "metadata": {},
   "source": [
    "### Risk Factors"
   ]
  },
  {
   "cell_type": "markdown",
   "metadata": {},
   "source": [
    "In particular, we will be using the five Fama—French factors that result from sorting stocks first into three size groups and then into two for each of the remaining three firm-specific factors. \n",
    "\n",
    "Hence, the factors involve three sets of value-weighted portfolios formed as 3 x 2 sorts on size and book-to-market, size and operating profitability, and size and investment. The risk factor values computed as the average returns of the portfolios (PF) as outlined in the following table:"
   ]
  },
  {
   "cell_type": "markdown",
   "metadata": {},
   "source": [
    "| Label | Name                          | Description                                                                                                                                                                               |\n",
    "|-------|-------------------------------|-------------------------------------------------------------------------------------------------------------------------------------------------------------------------------------------|\n",
    "| SMB   | Small Minus Big               | Average return on the nine small stock portfolios minus the average return on the nine big stock portfolios                                                                               |\n",
    "| HML   | High Minus Low                | Average return on the two value portfolios minus the average return on the two growth portfolios                                                                                          |\n",
    "| RMW   | Robust minus Weak             | Average return on the two robust operating profitability portfolios minus the average return on the two weak operating profitability portfolios                                           |\n",
    "| CMA   | Conservative Minus Aggressive | Average return on the two conservative investment portfolios minus the average return on the two aggressive investment portfolios                                                         |\n",
    "| Rm-Rf | Excess return on the market   | Value-weight return of all firms incorporated in the US and listed on the NYSE, AMEX, or NASDAQ at the beginning of month t with 'good' data for t minus the one-month Treasury bill rate |"
   ]
  },
  {
   "cell_type": "markdown",
   "metadata": {},
   "source": [
    "The Fama-French 5 factors are based on the 6 value-weight portfolios formed on size and book-to-market, the 6 value-weight portfolios formed on size and operating profitability, and the 6 value-weight portfolios formed on size and investment."
   ]
  },
  {
   "cell_type": "markdown",
   "metadata": {},
   "source": [
    "We will use returns at a monthly frequency that we obtain for the period 2010 – 2017 as follows:"
   ]
  },
  {
   "cell_type": "code",
   "execution_count": 4,
   "metadata": {
    "ExecuteTime": {
     "end_time": "2021-02-23T05:31:22.388278Z",
     "start_time": "2021-02-23T05:31:22.018153Z"
    }
   },
   "outputs": [
    {
     "name": "stdout",
     "output_type": "stream",
     "text": [
      "<class 'pandas.core.frame.DataFrame'>\n",
      "PeriodIndex: 64 entries, 2015-01 to 2020-04\n",
      "Freq: M\n",
      "Data columns (total 6 columns):\n",
      " #   Column  Non-Null Count  Dtype  \n",
      "---  ------  --------------  -----  \n",
      " 0   Mkt-RF  64 non-null     float64\n",
      " 1   SMB     64 non-null     float64\n",
      " 2   HML     64 non-null     float64\n",
      " 3   RMW     64 non-null     float64\n",
      " 4   CMA     64 non-null     float64\n",
      " 5   RF      64 non-null     float64\n",
      "dtypes: float64(6)\n",
      "memory usage: 3.5 KB\n"
     ]
    }
   ],
   "source": [
    "ff_factor = 'F-F_Research_Data_5_Factors_2x3'\n",
    "ff_factor_data = web.DataReader(ff_factor, 'famafrench', start='2015', end='2020-04')[0]\n",
    "ff_factor_data.info()"
   ]
  },
  {
   "cell_type": "code",
   "execution_count": 5,
   "metadata": {
    "ExecuteTime": {
     "end_time": "2021-02-23T05:31:22.409581Z",
     "start_time": "2021-02-23T05:31:22.389691Z"
    }
   },
   "outputs": [
    {
     "data": {
      "text/plain": "          Mkt-RF        SMB        HML        RMW        CMA         RF\ncount  64.000000  64.000000  64.000000  64.000000  64.000000  64.000000\nmean    0.709062  -0.326719  -0.721875   0.120469  -0.272344   0.082656\nstd     4.379687   2.681763   3.156461   1.417702   1.621281   0.072336\nmin   -13.380000  -8.380000 -13.960000  -2.890000  -3.350000   0.000000\n25%    -0.362500  -2.180000  -2.212500  -0.782500  -1.447500   0.010000\n50%     1.075000   0.215000  -0.900000   0.195000  -0.415000   0.075000\n75%     2.857500   1.002500   0.517500   0.915000   0.402500   0.142500\nmax    13.650000   6.800000   8.220000   3.330000   3.780000   0.210000",
      "text/html": "<div>\n<style scoped>\n    .dataframe tbody tr th:only-of-type {\n        vertical-align: middle;\n    }\n\n    .dataframe tbody tr th {\n        vertical-align: top;\n    }\n\n    .dataframe thead th {\n        text-align: right;\n    }\n</style>\n<table border=\"1\" class=\"dataframe\">\n  <thead>\n    <tr style=\"text-align: right;\">\n      <th></th>\n      <th>Mkt-RF</th>\n      <th>SMB</th>\n      <th>HML</th>\n      <th>RMW</th>\n      <th>CMA</th>\n      <th>RF</th>\n    </tr>\n  </thead>\n  <tbody>\n    <tr>\n      <th>count</th>\n      <td>64.000000</td>\n      <td>64.000000</td>\n      <td>64.000000</td>\n      <td>64.000000</td>\n      <td>64.000000</td>\n      <td>64.000000</td>\n    </tr>\n    <tr>\n      <th>mean</th>\n      <td>0.709062</td>\n      <td>-0.326719</td>\n      <td>-0.721875</td>\n      <td>0.120469</td>\n      <td>-0.272344</td>\n      <td>0.082656</td>\n    </tr>\n    <tr>\n      <th>std</th>\n      <td>4.379687</td>\n      <td>2.681763</td>\n      <td>3.156461</td>\n      <td>1.417702</td>\n      <td>1.621281</td>\n      <td>0.072336</td>\n    </tr>\n    <tr>\n      <th>min</th>\n      <td>-13.380000</td>\n      <td>-8.380000</td>\n      <td>-13.960000</td>\n      <td>-2.890000</td>\n      <td>-3.350000</td>\n      <td>0.000000</td>\n    </tr>\n    <tr>\n      <th>25%</th>\n      <td>-0.362500</td>\n      <td>-2.180000</td>\n      <td>-2.212500</td>\n      <td>-0.782500</td>\n      <td>-1.447500</td>\n      <td>0.010000</td>\n    </tr>\n    <tr>\n      <th>50%</th>\n      <td>1.075000</td>\n      <td>0.215000</td>\n      <td>-0.900000</td>\n      <td>0.195000</td>\n      <td>-0.415000</td>\n      <td>0.075000</td>\n    </tr>\n    <tr>\n      <th>75%</th>\n      <td>2.857500</td>\n      <td>1.002500</td>\n      <td>0.517500</td>\n      <td>0.915000</td>\n      <td>0.402500</td>\n      <td>0.142500</td>\n    </tr>\n    <tr>\n      <th>max</th>\n      <td>13.650000</td>\n      <td>6.800000</td>\n      <td>8.220000</td>\n      <td>3.330000</td>\n      <td>3.780000</td>\n      <td>0.210000</td>\n    </tr>\n  </tbody>\n</table>\n</div>"
     },
     "execution_count": 5,
     "metadata": {},
     "output_type": "execute_result"
    }
   ],
   "source": [
    "ff_factor_data.describe()"
   ]
  },
  {
   "cell_type": "markdown",
   "metadata": {},
   "source": [
    "### Portfolios"
   ]
  },
  {
   "cell_type": "markdown",
   "metadata": {},
   "source": [
    "Fama and French also make available numerous portfolios that we can illustrate the estimation of the factor exposures, as well as the value of the risk premia available in the market for a given time period. We will use a panel of the 17 industry portfolios at a monthly frequency. \n",
    "\n",
    "We will subtract the risk-free rate from the returns because the factor model works with excess returns:"
   ]
  },
  {
   "cell_type": "code",
   "execution_count": 6,
   "metadata": {
    "ExecuteTime": {
     "end_time": "2021-02-23T05:31:22.943312Z",
     "start_time": "2021-02-23T05:31:22.410629Z"
    }
   },
   "outputs": [
    {
     "name": "stdout",
     "output_type": "stream",
     "text": [
      "<class 'pandas.core.frame.DataFrame'>\n",
      "PeriodIndex: 124 entries, 2010-01 to 2020-04\n",
      "Freq: M\n",
      "Data columns (total 17 columns):\n",
      " #   Column  Non-Null Count  Dtype  \n",
      "---  ------  --------------  -----  \n",
      " 0   Food    36 non-null     float64\n",
      " 1   Mines   36 non-null     float64\n",
      " 2   Oil     36 non-null     float64\n",
      " 3   Clths   36 non-null     float64\n",
      " 4   Durbl   36 non-null     float64\n",
      " 5   Chems   36 non-null     float64\n",
      " 6   Cnsum   36 non-null     float64\n",
      " 7   Cnstr   36 non-null     float64\n",
      " 8   Steel   36 non-null     float64\n",
      " 9   FabPr   36 non-null     float64\n",
      " 10  Machn   36 non-null     float64\n",
      " 11  Cars    36 non-null     float64\n",
      " 12  Trans   36 non-null     float64\n",
      " 13  Utils   36 non-null     float64\n",
      " 14  Rtail   36 non-null     float64\n",
      " 15  Finan   36 non-null     float64\n",
      " 16  Other   36 non-null     float64\n",
      "dtypes: float64(17)\n",
      "memory usage: 17.4 KB\n"
     ]
    }
   ],
   "source": [
    "ff_portfolio = '17_Industry_Portfolios'\n",
    "ff_portfolio_data = web.DataReader(ff_portfolio, 'famafrench', start='2010', end='2017-12')[0]\n",
    "ff_portfolio_data = ff_portfolio_data.sub(ff_factor_data.RF, axis=0)\n",
    "ff_portfolio_data.info()"
   ]
  },
  {
   "cell_type": "code",
   "execution_count": 7,
   "metadata": {
    "ExecuteTime": {
     "end_time": "2021-02-23T05:31:22.980492Z",
     "start_time": "2021-02-23T05:31:22.944237Z"
    }
   },
   "outputs": [
    {
     "data": {
      "text/plain": "           Food       Mines      Oil        Clths      Durbl      Chems  \\\ncount  36.000000  36.000000  36.000000  36.000000  36.000000  36.000000   \nmean    0.742222   1.076667   0.171667   0.521389   0.377778   1.137500   \nstd     2.502402   8.007610   5.634105   3.541006   4.154644   5.295894   \nmin    -4.200000 -13.740000  -9.900000  -6.660000  -6.970000 -12.650000   \n25%    -0.777500  -5.577500  -3.817500  -1.865000  -1.837500  -1.630000   \n50%     0.440000  -0.860000  -1.160000   0.805000  -0.260000   1.465000   \n75%     2.037500   7.707500   2.837500   2.385000   3.065000   3.610000   \nmax     6.350000  15.670000  12.450000   8.720000   9.480000  16.060000   \n\n           Cnsum      Cnstr      Steel      FabPr      Machn      Cars   \\\ncount  36.000000  36.000000  36.000000  36.000000  36.000000  36.000000   \nmean    0.565556   1.445000   0.852778   0.988889   1.286389   0.508889   \nstd     3.227620   4.356979   7.737562   3.790673   4.160907   4.053228   \nmin    -7.300000  -6.350000 -10.590000  -7.540000  -7.260000  -9.610000   \n25%    -1.155000  -2.105000  -4.472500  -1.585000  -1.957500  -1.177500   \n50%     0.215000   1.605000  -0.415000   0.885000   1.645000   0.095000   \n75%     2.275000   3.930000   3.840000   2.162500   3.657500   2.527500   \nmax     8.290000  10.650000  21.350000   9.730000   8.590000   9.780000   \n\n           Trans      Utils      Rtail      Finan      Other  \ncount  36.000000  36.000000  36.000000  36.000000  36.000000  \nmean    1.052222   0.424167   0.937500   1.233889   0.998611  \nstd     3.825094   3.198576   2.922586   4.507929   3.223412  \nmin    -8.560000  -5.370000  -6.400000  -9.640000  -6.640000  \n25%    -1.382500  -1.967500  -0.880000  -1.355000  -0.595000  \n50%     0.885000   0.305000   0.760000   1.615000   0.955000  \n75%     3.240000   2.355000   2.770000   3.955000   2.487500  \nmax    11.140000   7.900000   8.720000  12.790000   9.080000  ",
      "text/html": "<div>\n<style scoped>\n    .dataframe tbody tr th:only-of-type {\n        vertical-align: middle;\n    }\n\n    .dataframe tbody tr th {\n        vertical-align: top;\n    }\n\n    .dataframe thead th {\n        text-align: right;\n    }\n</style>\n<table border=\"1\" class=\"dataframe\">\n  <thead>\n    <tr style=\"text-align: right;\">\n      <th></th>\n      <th>Food</th>\n      <th>Mines</th>\n      <th>Oil</th>\n      <th>Clths</th>\n      <th>Durbl</th>\n      <th>Chems</th>\n      <th>Cnsum</th>\n      <th>Cnstr</th>\n      <th>Steel</th>\n      <th>FabPr</th>\n      <th>Machn</th>\n      <th>Cars</th>\n      <th>Trans</th>\n      <th>Utils</th>\n      <th>Rtail</th>\n      <th>Finan</th>\n      <th>Other</th>\n    </tr>\n  </thead>\n  <tbody>\n    <tr>\n      <th>count</th>\n      <td>36.000000</td>\n      <td>36.000000</td>\n      <td>36.000000</td>\n      <td>36.000000</td>\n      <td>36.000000</td>\n      <td>36.000000</td>\n      <td>36.000000</td>\n      <td>36.000000</td>\n      <td>36.000000</td>\n      <td>36.000000</td>\n      <td>36.000000</td>\n      <td>36.000000</td>\n      <td>36.000000</td>\n      <td>36.000000</td>\n      <td>36.000000</td>\n      <td>36.000000</td>\n      <td>36.000000</td>\n    </tr>\n    <tr>\n      <th>mean</th>\n      <td>0.742222</td>\n      <td>1.076667</td>\n      <td>0.171667</td>\n      <td>0.521389</td>\n      <td>0.377778</td>\n      <td>1.137500</td>\n      <td>0.565556</td>\n      <td>1.445000</td>\n      <td>0.852778</td>\n      <td>0.988889</td>\n      <td>1.286389</td>\n      <td>0.508889</td>\n      <td>1.052222</td>\n      <td>0.424167</td>\n      <td>0.937500</td>\n      <td>1.233889</td>\n      <td>0.998611</td>\n    </tr>\n    <tr>\n      <th>std</th>\n      <td>2.502402</td>\n      <td>8.007610</td>\n      <td>5.634105</td>\n      <td>3.541006</td>\n      <td>4.154644</td>\n      <td>5.295894</td>\n      <td>3.227620</td>\n      <td>4.356979</td>\n      <td>7.737562</td>\n      <td>3.790673</td>\n      <td>4.160907</td>\n      <td>4.053228</td>\n      <td>3.825094</td>\n      <td>3.198576</td>\n      <td>2.922586</td>\n      <td>4.507929</td>\n      <td>3.223412</td>\n    </tr>\n    <tr>\n      <th>min</th>\n      <td>-4.200000</td>\n      <td>-13.740000</td>\n      <td>-9.900000</td>\n      <td>-6.660000</td>\n      <td>-6.970000</td>\n      <td>-12.650000</td>\n      <td>-7.300000</td>\n      <td>-6.350000</td>\n      <td>-10.590000</td>\n      <td>-7.540000</td>\n      <td>-7.260000</td>\n      <td>-9.610000</td>\n      <td>-8.560000</td>\n      <td>-5.370000</td>\n      <td>-6.400000</td>\n      <td>-9.640000</td>\n      <td>-6.640000</td>\n    </tr>\n    <tr>\n      <th>25%</th>\n      <td>-0.777500</td>\n      <td>-5.577500</td>\n      <td>-3.817500</td>\n      <td>-1.865000</td>\n      <td>-1.837500</td>\n      <td>-1.630000</td>\n      <td>-1.155000</td>\n      <td>-2.105000</td>\n      <td>-4.472500</td>\n      <td>-1.585000</td>\n      <td>-1.957500</td>\n      <td>-1.177500</td>\n      <td>-1.382500</td>\n      <td>-1.967500</td>\n      <td>-0.880000</td>\n      <td>-1.355000</td>\n      <td>-0.595000</td>\n    </tr>\n    <tr>\n      <th>50%</th>\n      <td>0.440000</td>\n      <td>-0.860000</td>\n      <td>-1.160000</td>\n      <td>0.805000</td>\n      <td>-0.260000</td>\n      <td>1.465000</td>\n      <td>0.215000</td>\n      <td>1.605000</td>\n      <td>-0.415000</td>\n      <td>0.885000</td>\n      <td>1.645000</td>\n      <td>0.095000</td>\n      <td>0.885000</td>\n      <td>0.305000</td>\n      <td>0.760000</td>\n      <td>1.615000</td>\n      <td>0.955000</td>\n    </tr>\n    <tr>\n      <th>75%</th>\n      <td>2.037500</td>\n      <td>7.707500</td>\n      <td>2.837500</td>\n      <td>2.385000</td>\n      <td>3.065000</td>\n      <td>3.610000</td>\n      <td>2.275000</td>\n      <td>3.930000</td>\n      <td>3.840000</td>\n      <td>2.162500</td>\n      <td>3.657500</td>\n      <td>2.527500</td>\n      <td>3.240000</td>\n      <td>2.355000</td>\n      <td>2.770000</td>\n      <td>3.955000</td>\n      <td>2.487500</td>\n    </tr>\n    <tr>\n      <th>max</th>\n      <td>6.350000</td>\n      <td>15.670000</td>\n      <td>12.450000</td>\n      <td>8.720000</td>\n      <td>9.480000</td>\n      <td>16.060000</td>\n      <td>8.290000</td>\n      <td>10.650000</td>\n      <td>21.350000</td>\n      <td>9.730000</td>\n      <td>8.590000</td>\n      <td>9.780000</td>\n      <td>11.140000</td>\n      <td>7.900000</td>\n      <td>8.720000</td>\n      <td>12.790000</td>\n      <td>9.080000</td>\n    </tr>\n  </tbody>\n</table>\n</div>"
     },
     "execution_count": 7,
     "metadata": {},
     "output_type": "execute_result"
    }
   ],
   "source": [
    "ff_portfolio_data.describe()"
   ]
  },
  {
   "cell_type": "markdown",
   "metadata": {},
   "source": [
    "### Equity Data"
   ]
  },
  {
   "cell_type": "code",
   "execution_count": 8,
   "metadata": {
    "ExecuteTime": {
     "end_time": "2021-02-23T05:31:27.478404Z",
     "start_time": "2021-02-23T05:31:22.981413Z"
    }
   },
   "outputs": [
    {
     "name": "stdout",
     "output_type": "stream",
     "text": [
      "<class 'pandas.io.pytables.HDFStore'>\n",
      "File path: ../data/crypto.h5\n",
      "/coingecko/top100/cats                                   frame        (shape->[100,49])                                                                    \n",
      "/coingecko/top100/market                                 frame        (shape->[100,12])                                                                    \n",
      "/crypto/caggle/prices                                    frame        (shape->[48918134,5])                                                                \n",
      "/engineered_features                                     frame_table  (typ->appendable_multi,nrows->948,ncols->35,indexers->[index],dc->[date,base,symbol])\n",
      "/engineered_features/meta/values_block_2/meta            series_table (typ->appendable,nrows->5,ncols->1,indexers->[index],dc->[values])                   \n"
     ]
    },
    {
     "data": {
      "text/plain": "ticker               aave  ada  algo  atom  avax  bch  bsv  btc  btt  dai  \\\ndate                                                                        \n2021-05-18 07:02:00   NaN  NaN   NaN   NaN   NaN  NaN  NaN  NaN  NaN  NaN   \n2021-05-18 07:03:00   NaN  NaN   NaN   NaN   NaN  NaN  NaN  NaN  NaN  NaN   \n2021-05-18 07:04:00   NaN  NaN   NaN   NaN   NaN  NaN  NaN  NaN  NaN  NaN   \n\nticker               ...  trx  uni  usdc  usdt  vet  wbtc  xlm  xmr  xrp  xtz  \ndate                 ...                                                       \n2021-05-18 07:02:00  ...  NaN  NaN   NaN   NaN  NaN   NaN  NaN  NaN  NaN  NaN  \n2021-05-18 07:03:00  ...  NaN  NaN   NaN   NaN  NaN   NaN  NaN  NaN  NaN  NaN  \n2021-05-18 07:04:00  ...  NaN  NaN   NaN   NaN  NaN   NaN  NaN  NaN  NaN  NaN  \n\n[3 rows x 38 columns]",
      "text/html": "<div>\n<style scoped>\n    .dataframe tbody tr th:only-of-type {\n        vertical-align: middle;\n    }\n\n    .dataframe tbody tr th {\n        vertical-align: top;\n    }\n\n    .dataframe thead th {\n        text-align: right;\n    }\n</style>\n<table border=\"1\" class=\"dataframe\">\n  <thead>\n    <tr style=\"text-align: right;\">\n      <th>ticker</th>\n      <th>aave</th>\n      <th>ada</th>\n      <th>algo</th>\n      <th>atom</th>\n      <th>avax</th>\n      <th>bch</th>\n      <th>bsv</th>\n      <th>btc</th>\n      <th>btt</th>\n      <th>dai</th>\n      <th>...</th>\n      <th>trx</th>\n      <th>uni</th>\n      <th>usdc</th>\n      <th>usdt</th>\n      <th>vet</th>\n      <th>wbtc</th>\n      <th>xlm</th>\n      <th>xmr</th>\n      <th>xrp</th>\n      <th>xtz</th>\n    </tr>\n    <tr>\n      <th>date</th>\n      <th></th>\n      <th></th>\n      <th></th>\n      <th></th>\n      <th></th>\n      <th></th>\n      <th></th>\n      <th></th>\n      <th></th>\n      <th></th>\n      <th></th>\n      <th></th>\n      <th></th>\n      <th></th>\n      <th></th>\n      <th></th>\n      <th></th>\n      <th></th>\n      <th></th>\n      <th></th>\n      <th></th>\n    </tr>\n  </thead>\n  <tbody>\n    <tr>\n      <th>2021-05-18 07:02:00</th>\n      <td>NaN</td>\n      <td>NaN</td>\n      <td>NaN</td>\n      <td>NaN</td>\n      <td>NaN</td>\n      <td>NaN</td>\n      <td>NaN</td>\n      <td>NaN</td>\n      <td>NaN</td>\n      <td>NaN</td>\n      <td>...</td>\n      <td>NaN</td>\n      <td>NaN</td>\n      <td>NaN</td>\n      <td>NaN</td>\n      <td>NaN</td>\n      <td>NaN</td>\n      <td>NaN</td>\n      <td>NaN</td>\n      <td>NaN</td>\n      <td>NaN</td>\n    </tr>\n    <tr>\n      <th>2021-05-18 07:03:00</th>\n      <td>NaN</td>\n      <td>NaN</td>\n      <td>NaN</td>\n      <td>NaN</td>\n      <td>NaN</td>\n      <td>NaN</td>\n      <td>NaN</td>\n      <td>NaN</td>\n      <td>NaN</td>\n      <td>NaN</td>\n      <td>...</td>\n      <td>NaN</td>\n      <td>NaN</td>\n      <td>NaN</td>\n      <td>NaN</td>\n      <td>NaN</td>\n      <td>NaN</td>\n      <td>NaN</td>\n      <td>NaN</td>\n      <td>NaN</td>\n      <td>NaN</td>\n    </tr>\n    <tr>\n      <th>2021-05-18 07:04:00</th>\n      <td>NaN</td>\n      <td>NaN</td>\n      <td>NaN</td>\n      <td>NaN</td>\n      <td>NaN</td>\n      <td>NaN</td>\n      <td>NaN</td>\n      <td>NaN</td>\n      <td>NaN</td>\n      <td>NaN</td>\n      <td>...</td>\n      <td>NaN</td>\n      <td>NaN</td>\n      <td>NaN</td>\n      <td>NaN</td>\n      <td>NaN</td>\n      <td>NaN</td>\n      <td>NaN</td>\n      <td>NaN</td>\n      <td>NaN</td>\n      <td>NaN</td>\n    </tr>\n  </tbody>\n</table>\n<p>3 rows × 38 columns</p>\n</div>"
     },
     "execution_count": 8,
     "metadata": {},
     "output_type": "execute_result"
    }
   ],
   "source": [
    "with pd.HDFStore('../data/crypto.h5') as store:\n",
    "    print(store.info())\n",
    "    prices = store['/crypto/caggle/prices'].close\n",
    "    market = store['/coingecko/top100/market'].drop_duplicates()\n",
    "    cats = store['/coingecko/top100/cats'].drop_duplicates()\n",
    "\n",
    "prices.index.rename(['date', 'ticker', 'base'], inplace=True)\n",
    "prices = prices.droplevel('base')\n",
    "prices = prices.unstack('ticker')\n",
    "prices.tail(3)"
   ]
  },
  {
   "cell_type": "code",
   "execution_count": 9,
   "outputs": [
    {
     "data": {
      "text/plain": "                    id    market_cap               name genesis_date  \\\nticker                                                                 \nbtc            bitcoin  851165633926            Bitcoin   2009-01-03   \neth           ethereum  408663307732           Ethereum   2015-07-30   \nbnb        binancecoin   81684939616       Binance Coin   2017-07-08   \nxrp             ripple   77810326837                XRP          NaT   \nada            cardano   67995769831            Cardano          NaT   \n...                ...           ...                ...          ...   \nicx               icon    1263863907               ICON   2017-09-19   \narrr      pirate-chain    1234724958       Pirate Chain   2018-08-29   \npax     paxos-standard    1232338318     Paxos Standard          NaT   \nsteth     staked-ether    1228398282  Lido Staked Ether          NaT   \ntusd          true-usd    1198425385            TrueUSD   2018-03-05   \n\n        market_cap_rank hashing_algorithm  coingecko_rank  coingecko_score  \\\nticker                                                                       \nbtc                   1           SHA-256               2           81.149   \neth                   2            Ethash               3           78.085   \nbnb                   3              None               5           67.430   \nxrp                   4              None               9           65.219   \nada                   5              None               6           66.641   \n...                 ...               ...             ...              ...   \nicx                  96              None              66           50.558   \narrr                 97          Equihash             133           43.566   \npax                  98              None             168           40.076   \nsteth                99              None             573           26.947   \ntusd                100              None             110           45.559   \n\n        developer_score  community_score  liquidity_score  \\\nticker                                                      \nbtc              98.874           74.606          100.084   \neth              97.194           65.231           99.843   \nbnb              73.243           66.596           80.872   \nxrp              71.122           54.329           86.490   \nada              70.441           61.873           86.307   \n...                 ...              ...              ...   \nicx              57.689           43.226           56.885   \narrr             55.799           36.531           31.661   \npax              47.966            8.260           55.094   \nsteth             0.000           26.400           29.507   \ntusd             65.722            8.667           60.013   \n\n        public_interest_score  \nticker                         \nbtc                       0.0  \neth                       0.0  \nbnb                       0.0  \nxrp                       0.0  \nada                       0.0  \n...                       ...  \nicx                       0.0  \narrr                      0.0  \npax                       0.0  \nsteth                     0.0  \ntusd                      0.0  \n\n[100 rows x 12 columns]",
      "text/html": "<div>\n<style scoped>\n    .dataframe tbody tr th:only-of-type {\n        vertical-align: middle;\n    }\n\n    .dataframe tbody tr th {\n        vertical-align: top;\n    }\n\n    .dataframe thead th {\n        text-align: right;\n    }\n</style>\n<table border=\"1\" class=\"dataframe\">\n  <thead>\n    <tr style=\"text-align: right;\">\n      <th></th>\n      <th>id</th>\n      <th>market_cap</th>\n      <th>name</th>\n      <th>genesis_date</th>\n      <th>market_cap_rank</th>\n      <th>hashing_algorithm</th>\n      <th>coingecko_rank</th>\n      <th>coingecko_score</th>\n      <th>developer_score</th>\n      <th>community_score</th>\n      <th>liquidity_score</th>\n      <th>public_interest_score</th>\n    </tr>\n    <tr>\n      <th>ticker</th>\n      <th></th>\n      <th></th>\n      <th></th>\n      <th></th>\n      <th></th>\n      <th></th>\n      <th></th>\n      <th></th>\n      <th></th>\n      <th></th>\n      <th></th>\n      <th></th>\n    </tr>\n  </thead>\n  <tbody>\n    <tr>\n      <th>btc</th>\n      <td>bitcoin</td>\n      <td>851165633926</td>\n      <td>Bitcoin</td>\n      <td>2009-01-03</td>\n      <td>1</td>\n      <td>SHA-256</td>\n      <td>2</td>\n      <td>81.149</td>\n      <td>98.874</td>\n      <td>74.606</td>\n      <td>100.084</td>\n      <td>0.0</td>\n    </tr>\n    <tr>\n      <th>eth</th>\n      <td>ethereum</td>\n      <td>408663307732</td>\n      <td>Ethereum</td>\n      <td>2015-07-30</td>\n      <td>2</td>\n      <td>Ethash</td>\n      <td>3</td>\n      <td>78.085</td>\n      <td>97.194</td>\n      <td>65.231</td>\n      <td>99.843</td>\n      <td>0.0</td>\n    </tr>\n    <tr>\n      <th>bnb</th>\n      <td>binancecoin</td>\n      <td>81684939616</td>\n      <td>Binance Coin</td>\n      <td>2017-07-08</td>\n      <td>3</td>\n      <td>None</td>\n      <td>5</td>\n      <td>67.430</td>\n      <td>73.243</td>\n      <td>66.596</td>\n      <td>80.872</td>\n      <td>0.0</td>\n    </tr>\n    <tr>\n      <th>xrp</th>\n      <td>ripple</td>\n      <td>77810326837</td>\n      <td>XRP</td>\n      <td>NaT</td>\n      <td>4</td>\n      <td>None</td>\n      <td>9</td>\n      <td>65.219</td>\n      <td>71.122</td>\n      <td>54.329</td>\n      <td>86.490</td>\n      <td>0.0</td>\n    </tr>\n    <tr>\n      <th>ada</th>\n      <td>cardano</td>\n      <td>67995769831</td>\n      <td>Cardano</td>\n      <td>NaT</td>\n      <td>5</td>\n      <td>None</td>\n      <td>6</td>\n      <td>66.641</td>\n      <td>70.441</td>\n      <td>61.873</td>\n      <td>86.307</td>\n      <td>0.0</td>\n    </tr>\n    <tr>\n      <th>...</th>\n      <td>...</td>\n      <td>...</td>\n      <td>...</td>\n      <td>...</td>\n      <td>...</td>\n      <td>...</td>\n      <td>...</td>\n      <td>...</td>\n      <td>...</td>\n      <td>...</td>\n      <td>...</td>\n      <td>...</td>\n    </tr>\n    <tr>\n      <th>icx</th>\n      <td>icon</td>\n      <td>1263863907</td>\n      <td>ICON</td>\n      <td>2017-09-19</td>\n      <td>96</td>\n      <td>None</td>\n      <td>66</td>\n      <td>50.558</td>\n      <td>57.689</td>\n      <td>43.226</td>\n      <td>56.885</td>\n      <td>0.0</td>\n    </tr>\n    <tr>\n      <th>arrr</th>\n      <td>pirate-chain</td>\n      <td>1234724958</td>\n      <td>Pirate Chain</td>\n      <td>2018-08-29</td>\n      <td>97</td>\n      <td>Equihash</td>\n      <td>133</td>\n      <td>43.566</td>\n      <td>55.799</td>\n      <td>36.531</td>\n      <td>31.661</td>\n      <td>0.0</td>\n    </tr>\n    <tr>\n      <th>pax</th>\n      <td>paxos-standard</td>\n      <td>1232338318</td>\n      <td>Paxos Standard</td>\n      <td>NaT</td>\n      <td>98</td>\n      <td>None</td>\n      <td>168</td>\n      <td>40.076</td>\n      <td>47.966</td>\n      <td>8.260</td>\n      <td>55.094</td>\n      <td>0.0</td>\n    </tr>\n    <tr>\n      <th>steth</th>\n      <td>staked-ether</td>\n      <td>1228398282</td>\n      <td>Lido Staked Ether</td>\n      <td>NaT</td>\n      <td>99</td>\n      <td>None</td>\n      <td>573</td>\n      <td>26.947</td>\n      <td>0.000</td>\n      <td>26.400</td>\n      <td>29.507</td>\n      <td>0.0</td>\n    </tr>\n    <tr>\n      <th>tusd</th>\n      <td>true-usd</td>\n      <td>1198425385</td>\n      <td>TrueUSD</td>\n      <td>2018-03-05</td>\n      <td>100</td>\n      <td>None</td>\n      <td>110</td>\n      <td>45.559</td>\n      <td>65.722</td>\n      <td>8.667</td>\n      <td>60.013</td>\n      <td>0.0</td>\n    </tr>\n  </tbody>\n</table>\n<p>100 rows × 12 columns</p>\n</div>"
     },
     "execution_count": 9,
     "metadata": {},
     "output_type": "execute_result"
    }
   ],
   "source": [
    "market.index.rename(['ticker', 'base'], inplace=True)\n",
    "market = market.droplevel('base')\n",
    "market"
   ],
   "metadata": {
    "collapsed": false,
    "pycharm": {
     "name": "#%%\n"
    }
   }
  },
  {
   "cell_type": "code",
   "execution_count": 10,
   "outputs": [
    {
     "data": {
      "text/plain": "        Analytics  Artificial Intelligence  Asset-backed Tokens  \\\nticker                                                            \nbtc             0                        0                    0   \neth             0                        0                    0   \nbnb             0                        0                    0   \ndoge            0                        0                    0   \nusdt            0                        0                    0   \n...           ...                      ...                  ...   \nzen             0                        0                    0   \ncrv             0                        0                    0   \nhnt             0                        0                    0   \nsteth           0                        0                    0   \ntusd            0                        0                    0   \n\n        Automated Market Maker (AMM)  Avalanche Ecosystem  \\\nticker                                                      \nbtc                                0                    0   \neth                                0                    0   \nbnb                                0                    0   \ndoge                               0                    0   \nusdt                               0                    0   \n...                              ...                  ...   \nzen                                0                    0   \ncrv                                1                    0   \nhnt                                0                    0   \nsteth                              0                    0   \ntusd                               0                    1   \n\n        Binance Smart Chain Ecosystem  Business Platform  Business Services  \\\nticker                                                                        \nbtc                                 0                  0                  0   \neth                                 0                  0                  0   \nbnb                                 1                  0                  0   \ndoge                                0                  0                  0   \nusdt                                0                  0                  0   \n...                               ...                ...                ...   \nzen                                 0                  0                  0   \ncrv                                 0                  0                  0   \nhnt                                 0                  0                  0   \nsteth                               0                  0                  0   \ntusd                                0                  0                  0   \n\n        Centralized Exchange Token (CEX)  Communication  ...  Stablecoins  \\\nticker                                                   ...                \nbtc                                    0              0  ...            0   \neth                                    0              0  ...            0   \nbnb                                    1              0  ...            0   \ndoge                                   0              0  ...            0   \nusdt                                   0              0  ...            1   \n...                                  ...            ...  ...          ...   \nzen                                    0              0  ...            0   \ncrv                                    0              0  ...            0   \nhnt                                    0              1  ...            0   \nsteth                                  0              0  ...            0   \ntusd                                   0              0  ...            1   \n\n        Storage  Synthetic Issuer  Terra Ecosystem  Tokenized BTC  \\\nticker                                                              \nbtc           0                 0                0              0   \neth           0                 0                0              0   \nbnb           0                 0                0              0   \ndoge          0                 0                0              0   \nusdt          0                 0                0              0   \n...         ...               ...              ...            ...   \nzen           0                 0                0              0   \ncrv           0                 0                0              0   \nhnt           0                 0                0              0   \nsteth         0                 0                0              0   \ntusd          0                 0                0              0   \n\n        USD Stablecoin  Wrapped-Tokens  Yearn Ecosystem  Yield Aggregator  \\\nticker                                                                      \nbtc                  0               0                0                 0   \neth                  0               0                0                 0   \nbnb                  0               0                0                 0   \ndoge                 0               0                0                 0   \nusdt                 1               0                0                 0   \n...                ...             ...              ...               ...   \nzen                  0               0                0                 0   \ncrv                  0               0                0                 0   \nhnt                  0               0                0                 0   \nsteth                0               0                0                 0   \ntusd                 1               0                0                 0   \n\n        Yield Farming  \nticker                 \nbtc                 0  \neth                 0  \nbnb                 0  \ndoge                0  \nusdt                0  \n...               ...  \nzen                 0  \ncrv                 1  \nhnt                 0  \nsteth               0  \ntusd                0  \n\n[64 rows x 49 columns]",
      "text/html": "<div>\n<style scoped>\n    .dataframe tbody tr th:only-of-type {\n        vertical-align: middle;\n    }\n\n    .dataframe tbody tr th {\n        vertical-align: top;\n    }\n\n    .dataframe thead th {\n        text-align: right;\n    }\n</style>\n<table border=\"1\" class=\"dataframe\">\n  <thead>\n    <tr style=\"text-align: right;\">\n      <th></th>\n      <th>Analytics</th>\n      <th>Artificial Intelligence</th>\n      <th>Asset-backed Tokens</th>\n      <th>Automated Market Maker (AMM)</th>\n      <th>Avalanche Ecosystem</th>\n      <th>Binance Smart Chain Ecosystem</th>\n      <th>Business Platform</th>\n      <th>Business Services</th>\n      <th>Centralized Exchange Token (CEX)</th>\n      <th>Communication</th>\n      <th>...</th>\n      <th>Stablecoins</th>\n      <th>Storage</th>\n      <th>Synthetic Issuer</th>\n      <th>Terra Ecosystem</th>\n      <th>Tokenized BTC</th>\n      <th>USD Stablecoin</th>\n      <th>Wrapped-Tokens</th>\n      <th>Yearn Ecosystem</th>\n      <th>Yield Aggregator</th>\n      <th>Yield Farming</th>\n    </tr>\n    <tr>\n      <th>ticker</th>\n      <th></th>\n      <th></th>\n      <th></th>\n      <th></th>\n      <th></th>\n      <th></th>\n      <th></th>\n      <th></th>\n      <th></th>\n      <th></th>\n      <th></th>\n      <th></th>\n      <th></th>\n      <th></th>\n      <th></th>\n      <th></th>\n      <th></th>\n      <th></th>\n      <th></th>\n      <th></th>\n      <th></th>\n    </tr>\n  </thead>\n  <tbody>\n    <tr>\n      <th>btc</th>\n      <td>0</td>\n      <td>0</td>\n      <td>0</td>\n      <td>0</td>\n      <td>0</td>\n      <td>0</td>\n      <td>0</td>\n      <td>0</td>\n      <td>0</td>\n      <td>0</td>\n      <td>...</td>\n      <td>0</td>\n      <td>0</td>\n      <td>0</td>\n      <td>0</td>\n      <td>0</td>\n      <td>0</td>\n      <td>0</td>\n      <td>0</td>\n      <td>0</td>\n      <td>0</td>\n    </tr>\n    <tr>\n      <th>eth</th>\n      <td>0</td>\n      <td>0</td>\n      <td>0</td>\n      <td>0</td>\n      <td>0</td>\n      <td>0</td>\n      <td>0</td>\n      <td>0</td>\n      <td>0</td>\n      <td>0</td>\n      <td>...</td>\n      <td>0</td>\n      <td>0</td>\n      <td>0</td>\n      <td>0</td>\n      <td>0</td>\n      <td>0</td>\n      <td>0</td>\n      <td>0</td>\n      <td>0</td>\n      <td>0</td>\n    </tr>\n    <tr>\n      <th>bnb</th>\n      <td>0</td>\n      <td>0</td>\n      <td>0</td>\n      <td>0</td>\n      <td>0</td>\n      <td>1</td>\n      <td>0</td>\n      <td>0</td>\n      <td>1</td>\n      <td>0</td>\n      <td>...</td>\n      <td>0</td>\n      <td>0</td>\n      <td>0</td>\n      <td>0</td>\n      <td>0</td>\n      <td>0</td>\n      <td>0</td>\n      <td>0</td>\n      <td>0</td>\n      <td>0</td>\n    </tr>\n    <tr>\n      <th>doge</th>\n      <td>0</td>\n      <td>0</td>\n      <td>0</td>\n      <td>0</td>\n      <td>0</td>\n      <td>0</td>\n      <td>0</td>\n      <td>0</td>\n      <td>0</td>\n      <td>0</td>\n      <td>...</td>\n      <td>0</td>\n      <td>0</td>\n      <td>0</td>\n      <td>0</td>\n      <td>0</td>\n      <td>0</td>\n      <td>0</td>\n      <td>0</td>\n      <td>0</td>\n      <td>0</td>\n    </tr>\n    <tr>\n      <th>usdt</th>\n      <td>0</td>\n      <td>0</td>\n      <td>0</td>\n      <td>0</td>\n      <td>0</td>\n      <td>0</td>\n      <td>0</td>\n      <td>0</td>\n      <td>0</td>\n      <td>0</td>\n      <td>...</td>\n      <td>1</td>\n      <td>0</td>\n      <td>0</td>\n      <td>0</td>\n      <td>0</td>\n      <td>1</td>\n      <td>0</td>\n      <td>0</td>\n      <td>0</td>\n      <td>0</td>\n    </tr>\n    <tr>\n      <th>...</th>\n      <td>...</td>\n      <td>...</td>\n      <td>...</td>\n      <td>...</td>\n      <td>...</td>\n      <td>...</td>\n      <td>...</td>\n      <td>...</td>\n      <td>...</td>\n      <td>...</td>\n      <td>...</td>\n      <td>...</td>\n      <td>...</td>\n      <td>...</td>\n      <td>...</td>\n      <td>...</td>\n      <td>...</td>\n      <td>...</td>\n      <td>...</td>\n      <td>...</td>\n      <td>...</td>\n    </tr>\n    <tr>\n      <th>zen</th>\n      <td>0</td>\n      <td>0</td>\n      <td>0</td>\n      <td>0</td>\n      <td>0</td>\n      <td>0</td>\n      <td>0</td>\n      <td>0</td>\n      <td>0</td>\n      <td>0</td>\n      <td>...</td>\n      <td>0</td>\n      <td>0</td>\n      <td>0</td>\n      <td>0</td>\n      <td>0</td>\n      <td>0</td>\n      <td>0</td>\n      <td>0</td>\n      <td>0</td>\n      <td>0</td>\n    </tr>\n    <tr>\n      <th>crv</th>\n      <td>0</td>\n      <td>0</td>\n      <td>0</td>\n      <td>1</td>\n      <td>0</td>\n      <td>0</td>\n      <td>0</td>\n      <td>0</td>\n      <td>0</td>\n      <td>0</td>\n      <td>...</td>\n      <td>0</td>\n      <td>0</td>\n      <td>0</td>\n      <td>0</td>\n      <td>0</td>\n      <td>0</td>\n      <td>0</td>\n      <td>0</td>\n      <td>0</td>\n      <td>1</td>\n    </tr>\n    <tr>\n      <th>hnt</th>\n      <td>0</td>\n      <td>0</td>\n      <td>0</td>\n      <td>0</td>\n      <td>0</td>\n      <td>0</td>\n      <td>0</td>\n      <td>0</td>\n      <td>0</td>\n      <td>1</td>\n      <td>...</td>\n      <td>0</td>\n      <td>0</td>\n      <td>0</td>\n      <td>0</td>\n      <td>0</td>\n      <td>0</td>\n      <td>0</td>\n      <td>0</td>\n      <td>0</td>\n      <td>0</td>\n    </tr>\n    <tr>\n      <th>steth</th>\n      <td>0</td>\n      <td>0</td>\n      <td>0</td>\n      <td>0</td>\n      <td>0</td>\n      <td>0</td>\n      <td>0</td>\n      <td>0</td>\n      <td>0</td>\n      <td>0</td>\n      <td>...</td>\n      <td>0</td>\n      <td>0</td>\n      <td>0</td>\n      <td>0</td>\n      <td>0</td>\n      <td>0</td>\n      <td>0</td>\n      <td>0</td>\n      <td>0</td>\n      <td>0</td>\n    </tr>\n    <tr>\n      <th>tusd</th>\n      <td>0</td>\n      <td>0</td>\n      <td>0</td>\n      <td>0</td>\n      <td>1</td>\n      <td>0</td>\n      <td>0</td>\n      <td>0</td>\n      <td>0</td>\n      <td>0</td>\n      <td>...</td>\n      <td>1</td>\n      <td>0</td>\n      <td>0</td>\n      <td>0</td>\n      <td>0</td>\n      <td>1</td>\n      <td>0</td>\n      <td>0</td>\n      <td>0</td>\n      <td>0</td>\n    </tr>\n  </tbody>\n</table>\n<p>64 rows × 49 columns</p>\n</div>"
     },
     "execution_count": 10,
     "metadata": {},
     "output_type": "execute_result"
    }
   ],
   "source": [
    "cats.index.rename(['ticker', 'base'], inplace=True)\n",
    "cats = cats.droplevel('base')\n",
    "cats"
   ],
   "metadata": {
    "collapsed": false,
    "pycharm": {
     "name": "#%%\n"
    }
   }
  },
  {
   "cell_type": "code",
   "execution_count": 11,
   "outputs": [
    {
     "data": {
      "text/plain": "ticker        aave      ada     algo     atom    avax     bch     bsv  \\\ndate                                                                    \n2021-01-31     NaN  0.34585  0.65084   8.1545     NaN     NaN  173.99   \n2021-02-28     NaN  1.30990  1.01790  17.6740     NaN     NaN  177.42   \n2021-03-31     NaN  1.19220  1.37100  19.0470     NaN     NaN  217.54   \n2021-04-30     NaN  1.35160  1.40100  22.6880     NaN     NaN  323.21   \n2021-05-31  647.82  2.11680  1.34530  22.7640  36.718  1115.5  293.13   \n\nticker              btc       btt     dai  ...       trx     uni     usdc  \\\ndate                                       ...                              \n2021-01-31  33127.00000  0.000380  1.0002  ...  0.031628  17.708  1.00000   \n2021-02-28  45215.00000  0.001160  1.0038  ...  0.045679  22.239  1.00060   \n2021-03-31  58732.00000  0.005049  0.9999  ...  0.092800  28.028  1.00010   \n2021-04-30  57649.15327  0.007235  0.9991  ...  0.132130  40.651  0.99840   \n2021-05-31  45745.00000  0.005635  0.9994  ...  0.117770  36.000  0.99921   \n\nticker         usdt       vet     wbtc      xlm     xmr      xrp     xtz  \ndate                                                                      \n2021-01-31  1.00090  0.025476  31727.0  0.30710  137.81  0.49637  2.8433  \n2021-02-28  1.00280  0.040396  45171.0  0.40575  219.31  0.41567  3.4248  \n2021-03-31  1.00010  0.087330  58363.0  0.40412  246.91  0.56993  4.8276  \n2021-04-30  0.99953  0.200700  57426.0  0.52884  422.17  1.59090  5.6034  \n2021-05-31  0.99949  0.170480  45016.0  0.67117  356.10  1.54150  5.5380  \n\n[5 rows x 38 columns]",
      "text/html": "<div>\n<style scoped>\n    .dataframe tbody tr th:only-of-type {\n        vertical-align: middle;\n    }\n\n    .dataframe tbody tr th {\n        vertical-align: top;\n    }\n\n    .dataframe thead th {\n        text-align: right;\n    }\n</style>\n<table border=\"1\" class=\"dataframe\">\n  <thead>\n    <tr style=\"text-align: right;\">\n      <th>ticker</th>\n      <th>aave</th>\n      <th>ada</th>\n      <th>algo</th>\n      <th>atom</th>\n      <th>avax</th>\n      <th>bch</th>\n      <th>bsv</th>\n      <th>btc</th>\n      <th>btt</th>\n      <th>dai</th>\n      <th>...</th>\n      <th>trx</th>\n      <th>uni</th>\n      <th>usdc</th>\n      <th>usdt</th>\n      <th>vet</th>\n      <th>wbtc</th>\n      <th>xlm</th>\n      <th>xmr</th>\n      <th>xrp</th>\n      <th>xtz</th>\n    </tr>\n    <tr>\n      <th>date</th>\n      <th></th>\n      <th></th>\n      <th></th>\n      <th></th>\n      <th></th>\n      <th></th>\n      <th></th>\n      <th></th>\n      <th></th>\n      <th></th>\n      <th></th>\n      <th></th>\n      <th></th>\n      <th></th>\n      <th></th>\n      <th></th>\n      <th></th>\n      <th></th>\n      <th></th>\n      <th></th>\n      <th></th>\n    </tr>\n  </thead>\n  <tbody>\n    <tr>\n      <th>2021-01-31</th>\n      <td>NaN</td>\n      <td>0.34585</td>\n      <td>0.65084</td>\n      <td>8.1545</td>\n      <td>NaN</td>\n      <td>NaN</td>\n      <td>173.99</td>\n      <td>33127.00000</td>\n      <td>0.000380</td>\n      <td>1.0002</td>\n      <td>...</td>\n      <td>0.031628</td>\n      <td>17.708</td>\n      <td>1.00000</td>\n      <td>1.00090</td>\n      <td>0.025476</td>\n      <td>31727.0</td>\n      <td>0.30710</td>\n      <td>137.81</td>\n      <td>0.49637</td>\n      <td>2.8433</td>\n    </tr>\n    <tr>\n      <th>2021-02-28</th>\n      <td>NaN</td>\n      <td>1.30990</td>\n      <td>1.01790</td>\n      <td>17.6740</td>\n      <td>NaN</td>\n      <td>NaN</td>\n      <td>177.42</td>\n      <td>45215.00000</td>\n      <td>0.001160</td>\n      <td>1.0038</td>\n      <td>...</td>\n      <td>0.045679</td>\n      <td>22.239</td>\n      <td>1.00060</td>\n      <td>1.00280</td>\n      <td>0.040396</td>\n      <td>45171.0</td>\n      <td>0.40575</td>\n      <td>219.31</td>\n      <td>0.41567</td>\n      <td>3.4248</td>\n    </tr>\n    <tr>\n      <th>2021-03-31</th>\n      <td>NaN</td>\n      <td>1.19220</td>\n      <td>1.37100</td>\n      <td>19.0470</td>\n      <td>NaN</td>\n      <td>NaN</td>\n      <td>217.54</td>\n      <td>58732.00000</td>\n      <td>0.005049</td>\n      <td>0.9999</td>\n      <td>...</td>\n      <td>0.092800</td>\n      <td>28.028</td>\n      <td>1.00010</td>\n      <td>1.00010</td>\n      <td>0.087330</td>\n      <td>58363.0</td>\n      <td>0.40412</td>\n      <td>246.91</td>\n      <td>0.56993</td>\n      <td>4.8276</td>\n    </tr>\n    <tr>\n      <th>2021-04-30</th>\n      <td>NaN</td>\n      <td>1.35160</td>\n      <td>1.40100</td>\n      <td>22.6880</td>\n      <td>NaN</td>\n      <td>NaN</td>\n      <td>323.21</td>\n      <td>57649.15327</td>\n      <td>0.007235</td>\n      <td>0.9991</td>\n      <td>...</td>\n      <td>0.132130</td>\n      <td>40.651</td>\n      <td>0.99840</td>\n      <td>0.99953</td>\n      <td>0.200700</td>\n      <td>57426.0</td>\n      <td>0.52884</td>\n      <td>422.17</td>\n      <td>1.59090</td>\n      <td>5.6034</td>\n    </tr>\n    <tr>\n      <th>2021-05-31</th>\n      <td>647.82</td>\n      <td>2.11680</td>\n      <td>1.34530</td>\n      <td>22.7640</td>\n      <td>36.718</td>\n      <td>1115.5</td>\n      <td>293.13</td>\n      <td>45745.00000</td>\n      <td>0.005635</td>\n      <td>0.9994</td>\n      <td>...</td>\n      <td>0.117770</td>\n      <td>36.000</td>\n      <td>0.99921</td>\n      <td>0.99949</td>\n      <td>0.170480</td>\n      <td>45016.0</td>\n      <td>0.67117</td>\n      <td>356.10</td>\n      <td>1.54150</td>\n      <td>5.5380</td>\n    </tr>\n  </tbody>\n</table>\n<p>5 rows × 38 columns</p>\n</div>"
     },
     "execution_count": 11,
     "metadata": {},
     "output_type": "execute_result"
    }
   ],
   "source": [
    "prices = prices.resample('M').last()\n",
    "prices.tail()\n"
   ],
   "metadata": {
    "collapsed": false,
    "pycharm": {
     "name": "#%%\n"
    }
   }
  },
  {
   "cell_type": "code",
   "execution_count": 12,
   "outputs": [
    {
     "data": {
      "text/plain": "(22,\n Index(['btc', 'eth', 'xmr', 'miota', 'dai', 'mkr', 'xlm', 'vet', 'bsv', 'usdt',\n        'btt', 'atom', 'wbtc', 'okb', 'doge', 'dot', 'uni', 'fil', 'sol',\n        'aave', 'link', 'luna'],\n       dtype='object', name='ticker'))"
     },
     "execution_count": 12,
     "metadata": {},
     "output_type": "execute_result"
    }
   ],
   "source": [
    "prices=prices.stack(['ticker'])\n",
    "shared = prices.index.get_level_values('ticker').intersection(market.index.get_level_values('ticker'))\\\n",
    "    .intersection(cats.index.get_level_values('ticker'))\n",
    "len(shared), shared"
   ],
   "metadata": {
    "collapsed": false,
    "pycharm": {
     "name": "#%%\n"
    }
   }
  },
  {
   "cell_type": "code",
   "execution_count": 13,
   "outputs": [
    {
     "name": "stdout",
     "output_type": "stream",
     "text": [
      "<class 'pandas.core.frame.DataFrame'>\n",
      "Index: 22 entries, btc to luna\n",
      "Data columns (total 12 columns):\n",
      " #   Column                 Non-Null Count  Dtype         \n",
      "---  ------                 --------------  -----         \n",
      " 0   id                     22 non-null     object        \n",
      " 1   market_cap             22 non-null     int64         \n",
      " 2   name                   22 non-null     object        \n",
      " 3   genesis_date           7 non-null      datetime64[ns]\n",
      " 4   market_cap_rank        22 non-null     int64         \n",
      " 5   hashing_algorithm      22 non-null     object        \n",
      " 6   coingecko_rank         22 non-null     int64         \n",
      " 7   coingecko_score        22 non-null     float64       \n",
      " 8   developer_score        22 non-null     float64       \n",
      " 9   community_score        22 non-null     float64       \n",
      " 10  liquidity_score        22 non-null     float64       \n",
      " 11  public_interest_score  22 non-null     float64       \n",
      "dtypes: datetime64[ns](1), float64(5), int64(3), object(3)\n",
      "memory usage: 2.2+ KB\n"
     ]
    }
   ],
   "source": [
    "cryptos = market.loc[shared, :]\n",
    "cryptos.info()"
   ],
   "metadata": {
    "collapsed": false,
    "pycharm": {
     "name": "#%%\n"
    }
   }
  },
  {
   "cell_type": "code",
   "execution_count": 14,
   "outputs": [
    {
     "name": "stdout",
     "output_type": "stream",
     "text": [
      "<class 'pandas.core.frame.DataFrame'>\n",
      "Index: 22 entries, btc to luna\n",
      "Data columns (total 49 columns):\n",
      " #   Column                              Non-Null Count  Dtype\n",
      "---  ------                              --------------  -----\n",
      " 0   Analytics                           22 non-null     int64\n",
      " 1   Artificial Intelligence             22 non-null     int64\n",
      " 2   Asset-backed Tokens                 22 non-null     int64\n",
      " 3   Automated Market Maker (AMM)        22 non-null     int64\n",
      " 4   Avalanche Ecosystem                 22 non-null     int64\n",
      " 5   Binance Smart Chain Ecosystem       22 non-null     int64\n",
      " 6   Business Platform                   22 non-null     int64\n",
      " 7   Business Services                   22 non-null     int64\n",
      " 8   Centralized Exchange Token (CEX)    22 non-null     int64\n",
      " 9   Communication                       22 non-null     int64\n",
      " 10  Compound Tokens                     22 non-null     int64\n",
      " 11  Cosmos Ecosystem                    22 non-null     int64\n",
      " 12  Cryptocurrency                      22 non-null     int64\n",
      " 13  Decentralized Exchange Token (DEX)  22 non-null     int64\n",
      " 14  Decentralized Finance (DeFi)        22 non-null     int64\n",
      " 15  Derivatives                         22 non-null     int64\n",
      " 16  Entertainment                       22 non-null     int64\n",
      " 17  Eth 2.0 Staking                     22 non-null     int64\n",
      " 18  Exchange-based Tokens               22 non-null     int64\n",
      " 19  Finance / Banking                   22 non-null     int64\n",
      " 20  Gaming                              22 non-null     int64\n",
      " 21  Governance                          22 non-null     int64\n",
      " 22  Infrastructure                      22 non-null     int64\n",
      " 23  Internet of Things (IOT)            22 non-null     int64\n",
      " 24  Lending/Borrowing                   22 non-null     int64\n",
      " 25  Masternodes                         22 non-null     int64\n",
      " 26  Meme Tokens                         22 non-null     int64\n",
      " 27  Metaverse                           22 non-null     int64\n",
      " 28  Near Protocol Ecosystem             22 non-null     int64\n",
      " 29  Non-Fungible Tokens (NFT)           22 non-null     int64\n",
      " 30  Oracle                              22 non-null     int64\n",
      " 31  Polkadot Ecosystem                  22 non-null     int64\n",
      " 32  Polygon Ecosystem                   22 non-null     int64\n",
      " 33  Privacy Coins                       22 non-null     int64\n",
      " 34  Protocol                            22 non-null     int64\n",
      " 35  Seigniorage                         22 non-null     int64\n",
      " 36  Smart Contract Platform             22 non-null     int64\n",
      " 37  Solana Ecosystem                    22 non-null     int64\n",
      " 38  Sports                              22 non-null     int64\n",
      " 39  Stablecoins                         22 non-null     int64\n",
      " 40  Storage                             22 non-null     int64\n",
      " 41  Synthetic Issuer                    22 non-null     int64\n",
      " 42  Terra Ecosystem                     22 non-null     int64\n",
      " 43  Tokenized BTC                       22 non-null     int64\n",
      " 44  USD Stablecoin                      22 non-null     int64\n",
      " 45  Wrapped-Tokens                      22 non-null     int64\n",
      " 46  Yearn Ecosystem                     22 non-null     int64\n",
      " 47  Yield Aggregator                    22 non-null     int64\n",
      " 48  Yield Farming                       22 non-null     int64\n",
      "dtypes: int64(49)\n",
      "memory usage: 8.6+ KB\n"
     ]
    }
   ],
   "source": [
    "categories = cats.loc[shared, :]\n",
    "categories.info()"
   ],
   "metadata": {
    "collapsed": false,
    "pycharm": {
     "name": "#%%\n"
    }
   }
  },
  {
   "cell_type": "code",
   "execution_count": 18,
   "outputs": [
    {
     "ename": "AttributeError",
     "evalue": "'Series' object has no attribute 'info'",
     "output_type": "error",
     "traceback": [
      "\u001B[0;31m---------------------------------------------------------------------------\u001B[0m",
      "\u001B[0;31mAttributeError\u001B[0m                            Traceback (most recent call last)",
      "\u001B[0;32m<ipython-input-18-603141f7a923>\u001B[0m in \u001B[0;36m<module>\u001B[0;34m\u001B[0m\n\u001B[1;32m      1\u001B[0m \u001B[0;31m# https://pandas.pydata.org/pandas-docs/stable/reference/api/pandas.IndexSlice.html#prices.index.get_level_values('symbol').isin(shared)\u001B[0m\u001B[0;34m\u001B[0m\u001B[0;34m\u001B[0m\u001B[0;34m\u001B[0m\u001B[0m\n\u001B[1;32m      2\u001B[0m \u001B[0mprices\u001B[0m \u001B[0;34m=\u001B[0m \u001B[0mprices\u001B[0m\u001B[0;34m.\u001B[0m\u001B[0mloc\u001B[0m\u001B[0;34m[\u001B[0m\u001B[0;34m(\u001B[0m\u001B[0mslice\u001B[0m\u001B[0;34m(\u001B[0m\u001B[0;32mNone\u001B[0m\u001B[0;34m)\u001B[0m\u001B[0;34m,\u001B[0m \u001B[0mshared\u001B[0m\u001B[0;34m)\u001B[0m\u001B[0;34m]\u001B[0m\u001B[0;34m\u001B[0m\u001B[0;34m\u001B[0m\u001B[0m\n\u001B[0;32m----> 3\u001B[0;31m \u001B[0mprices\u001B[0m\u001B[0;34m.\u001B[0m\u001B[0minfo\u001B[0m\u001B[0;34m(\u001B[0m\u001B[0;34m)\u001B[0m\u001B[0;34m\u001B[0m\u001B[0;34m\u001B[0m\u001B[0m\n\u001B[0m\u001B[1;32m      4\u001B[0m \u001B[0;34m\u001B[0m\u001B[0m\n\u001B[1;32m      5\u001B[0m \u001B[0;34m\u001B[0m\u001B[0m\n",
      "\u001B[0;32m~/miniconda3/envs/ml4t/lib/python3.8/site-packages/pandas/core/generic.py\u001B[0m in \u001B[0;36m__getattr__\u001B[0;34m(self, name)\u001B[0m\n\u001B[1;32m   5463\u001B[0m             \u001B[0;32mif\u001B[0m \u001B[0mself\u001B[0m\u001B[0;34m.\u001B[0m\u001B[0m_info_axis\u001B[0m\u001B[0;34m.\u001B[0m\u001B[0m_can_hold_identifiers_and_holds_name\u001B[0m\u001B[0;34m(\u001B[0m\u001B[0mname\u001B[0m\u001B[0;34m)\u001B[0m\u001B[0;34m:\u001B[0m\u001B[0;34m\u001B[0m\u001B[0;34m\u001B[0m\u001B[0m\n\u001B[1;32m   5464\u001B[0m                 \u001B[0;32mreturn\u001B[0m \u001B[0mself\u001B[0m\u001B[0;34m[\u001B[0m\u001B[0mname\u001B[0m\u001B[0;34m]\u001B[0m\u001B[0;34m\u001B[0m\u001B[0;34m\u001B[0m\u001B[0m\n\u001B[0;32m-> 5465\u001B[0;31m             \u001B[0;32mreturn\u001B[0m \u001B[0mobject\u001B[0m\u001B[0;34m.\u001B[0m\u001B[0m__getattribute__\u001B[0m\u001B[0;34m(\u001B[0m\u001B[0mself\u001B[0m\u001B[0;34m,\u001B[0m \u001B[0mname\u001B[0m\u001B[0;34m)\u001B[0m\u001B[0;34m\u001B[0m\u001B[0;34m\u001B[0m\u001B[0m\n\u001B[0m\u001B[1;32m   5466\u001B[0m \u001B[0;34m\u001B[0m\u001B[0m\n\u001B[1;32m   5467\u001B[0m     \u001B[0;32mdef\u001B[0m \u001B[0m__setattr__\u001B[0m\u001B[0;34m(\u001B[0m\u001B[0mself\u001B[0m\u001B[0;34m,\u001B[0m \u001B[0mname\u001B[0m\u001B[0;34m:\u001B[0m \u001B[0mstr\u001B[0m\u001B[0;34m,\u001B[0m \u001B[0mvalue\u001B[0m\u001B[0;34m)\u001B[0m \u001B[0;34m->\u001B[0m \u001B[0;32mNone\u001B[0m\u001B[0;34m:\u001B[0m\u001B[0;34m\u001B[0m\u001B[0;34m\u001B[0m\u001B[0m\n",
      "\u001B[0;31mAttributeError\u001B[0m: 'Series' object has no attribute 'info'"
     ]
    }
   ],
   "source": [
    "# https://pandas.pydata.org/pandas-docs/stable/reference/api/pandas.IndexSlice.html#prices.index.get_level_values('symbol').isin(shared)\n",
    "prices = prices.loc[(slice(None), shared)]\n",
    "prices.info()\n"
   ],
   "metadata": {
    "collapsed": false,
    "pycharm": {
     "name": "#%%\n"
    }
   }
  },
  {
   "cell_type": "code",
   "execution_count": null,
   "metadata": {
    "ExecuteTime": {
     "end_time": "2021-02-23T05:31:27.507172Z",
     "start_time": "2021-02-23T05:31:27.479889Z"
    }
   },
   "outputs": [],
   "source": [
    "sectors = cats.filter(prices.columns, axis=0).to_dict()\n",
    "sectors"
   ]
  },
  {
   "cell_type": "code",
   "execution_count": null,
   "outputs": [],
   "source": [
    "prices = prices.filter(sectors.keys()).dropna(how='all', axis=1)\n",
    "prices.info()"
   ],
   "metadata": {
    "collapsed": false,
    "pycharm": {
     "name": "#%%\n"
    }
   }
  },
  {
   "cell_type": "code",
   "execution_count": null,
   "metadata": {
    "ExecuteTime": {
     "end_time": "2021-02-23T05:31:27.581929Z",
     "start_time": "2021-02-23T05:31:27.508261Z"
    }
   },
   "outputs": [],
   "source": [
    "returns = prices.pct_change().mul(100).to_period('M')\n",
    "returns = returns.dropna(how='all').dropna(axis=1)\n",
    "returns.info()"
   ]
  },
  {
   "cell_type": "markdown",
   "metadata": {},
   "source": [
    "### Align data"
   ]
  },
  {
   "cell_type": "code",
   "execution_count": null,
   "metadata": {
    "ExecuteTime": {
     "end_time": "2021-02-23T05:31:27.585260Z",
     "start_time": "2021-02-23T05:31:27.582845Z"
    }
   },
   "outputs": [],
   "source": [
    "ff_factor_data = ff_factor_data.loc[returns.index]\n",
    "ff_portfolio_data = ff_portfolio_data.loc[returns.index]"
   ]
  },
  {
   "cell_type": "code",
   "execution_count": null,
   "metadata": {
    "ExecuteTime": {
     "end_time": "2021-02-23T05:31:27.607815Z",
     "start_time": "2021-02-23T05:31:27.586268Z"
    }
   },
   "outputs": [],
   "source": [
    "ff_factor_data.describe()"
   ]
  },
  {
   "cell_type": "markdown",
   "metadata": {},
   "source": [
    "### Compute excess Returns"
   ]
  },
  {
   "cell_type": "code",
   "execution_count": null,
   "metadata": {
    "ExecuteTime": {
     "end_time": "2021-02-23T05:31:27.742949Z",
     "start_time": "2021-02-23T05:31:27.608731Z"
    }
   },
   "outputs": [],
   "source": [
    "excess_returns = returns.sub(ff_factor_data.RF, axis=0)\n",
    "excess_returns.info()"
   ]
  },
  {
   "cell_type": "code",
   "execution_count": null,
   "metadata": {
    "ExecuteTime": {
     "end_time": "2021-02-23T05:31:27.754636Z",
     "start_time": "2021-02-23T05:31:27.743923Z"
    }
   },
   "outputs": [],
   "source": [
    "excess_returns = excess_returns.clip(lower=np.percentile(excess_returns, 1),\n",
    "                                     upper=np.percentile(excess_returns, 99))"
   ]
  },
  {
   "cell_type": "markdown",
   "metadata": {},
   "source": [
    "## Fama-Macbeth Regression"
   ]
  },
  {
   "cell_type": "markdown",
   "metadata": {},
   "source": [
    "Given data on risk factors and portfolio returns, it is useful to estimate the portfolio's exposure, that is, how much the risk factors drive portfolio returns, as well as how much the exposure to a given factor is worth, that is, the what market's risk factor premium is. The risk premium then permits to estimate the return for any portfolio provided the factor exposure is known or can be assumed."
   ]
  },
  {
   "cell_type": "code",
   "execution_count": null,
   "metadata": {
    "ExecuteTime": {
     "end_time": "2021-02-23T05:31:27.762399Z",
     "start_time": "2021-02-23T05:31:27.755552Z"
    }
   },
   "outputs": [],
   "source": [
    "ff_portfolio_data.info()"
   ]
  },
  {
   "cell_type": "code",
   "execution_count": null,
   "metadata": {
    "ExecuteTime": {
     "end_time": "2021-02-23T05:31:27.777990Z",
     "start_time": "2021-02-23T05:31:27.763361Z"
    }
   },
   "outputs": [],
   "source": [
    "ff_factor_data = ff_factor_data.drop('RF', axis=1)\n",
    "ff_factor_data.info()"
   ]
  },
  {
   "cell_type": "markdown",
   "metadata": {},
   "source": [
    "To address the inference problem caused by the correlation of the residuals, Fama and MacBeth proposed a two-step methodology for a cross-sectional regression of returns on factors. The two-stage Fama—Macbeth regression is designed to estimate the premium rewarded for the exposure to a particular risk factor by the market. The two stages consist of:\n",
    "\n",
    "- First stage: N time-series regression, one for each asset or portfolio, of its excess returns on the factors to estimate the factor loadings.\n",
    "\n",
    "- Second stage: T cross-sectional regression, one for each time period, to estimate the risk premium.\n",
    "\n",
    "See corresponding section in Chapter 7 of [Machine Learning for Trading](https://www.amazon.com/Hands-Machine-Learning-Algorithmic-Trading-ebook/dp/B07JLFH7C5/ref=sr_1_2?ie=UTF8&qid=1548455634&sr=8-2&keywords=machine+learning+algorithmic+trading) for details."
   ]
  },
  {
   "cell_type": "markdown",
   "metadata": {},
   "source": [
    "Now we can compute the factor risk premia as the time average and get t-statistic to assess their individual significance, using the assumption that the risk premia estimates are independent over time.\n",
    "\n",
    "If we had a very large and representative data sample on traded risk factors we could use the sample mean as a risk premium estimate. However, we typically do not have a sufficiently long history to and the margin of error around the sample mean could be quite large. \n",
    "\n",
    "The Fama—Macbeth methodology leverages the covariance of the factors with other assets to determine the factor premia. The second moment of asset returns is easier to estimate than the first moment, and obtaining more granular data improves estimation considerably, which is not true of mean estimation."
   ]
  },
  {
   "cell_type": "markdown",
   "metadata": {},
   "source": [
    "### Step 1: Factor Exposures"
   ]
  },
  {
   "cell_type": "markdown",
   "metadata": {},
   "source": [
    "We can implement the first stage to obtain the 17 factor loading estimates as follows:"
   ]
  },
  {
   "cell_type": "code",
   "execution_count": null,
   "metadata": {
    "ExecuteTime": {
     "end_time": "2021-02-23T05:31:27.826075Z",
     "start_time": "2021-02-23T05:31:27.778819Z"
    }
   },
   "outputs": [],
   "source": [
    "betas = []\n",
    "for industry in ff_portfolio_data:\n",
    "    step1 = OLS(endog=ff_portfolio_data.loc[ff_factor_data.index, industry], \n",
    "                exog=add_constant(ff_factor_data)).fit()\n",
    "    betas.append(step1.params.drop('const'))"
   ]
  },
  {
   "cell_type": "code",
   "execution_count": null,
   "metadata": {
    "ExecuteTime": {
     "end_time": "2021-02-23T05:31:27.835306Z",
     "start_time": "2021-02-23T05:31:27.827037Z"
    }
   },
   "outputs": [],
   "source": [
    "betas = pd.DataFrame(betas, \n",
    "                     columns=ff_factor_data.columns, \n",
    "                     index=ff_portfolio_data.columns)\n",
    "betas.info()"
   ]
  },
  {
   "cell_type": "markdown",
   "metadata": {},
   "source": [
    "### Step 2: Risk Premia"
   ]
  },
  {
   "cell_type": "markdown",
   "metadata": {},
   "source": [
    "For the second stage, we run 96 regressions of the period returns for the cross section of portfolios on the factor loadings"
   ]
  },
  {
   "cell_type": "code",
   "execution_count": null,
   "metadata": {
    "ExecuteTime": {
     "end_time": "2021-02-23T05:31:27.911536Z",
     "start_time": "2021-02-23T05:31:27.836359Z"
    }
   },
   "outputs": [],
   "source": [
    "lambdas = []\n",
    "for period in ff_portfolio_data.index:\n",
    "    step2 = OLS(endog=ff_portfolio_data.loc[period, betas.index], \n",
    "                exog=betas).fit()\n",
    "    lambdas.append(step2.params)"
   ]
  },
  {
   "cell_type": "code",
   "execution_count": null,
   "metadata": {
    "ExecuteTime": {
     "end_time": "2021-02-23T05:31:27.939925Z",
     "start_time": "2021-02-23T05:31:27.912386Z"
    }
   },
   "outputs": [],
   "source": [
    "lambdas = pd.DataFrame(lambdas, \n",
    "                       index=ff_portfolio_data.index,\n",
    "                       columns=betas.columns.tolist())\n",
    "lambdas.info()"
   ]
  },
  {
   "cell_type": "code",
   "execution_count": null,
   "metadata": {
    "ExecuteTime": {
     "end_time": "2021-02-23T05:31:28.074536Z",
     "start_time": "2021-02-23T05:31:27.940842Z"
    }
   },
   "outputs": [],
   "source": [
    "lambdas.mean().sort_values().plot.barh(figsize=(12, 4))\n",
    "sns.despine()\n",
    "plt.tight_layout();"
   ]
  },
  {
   "cell_type": "code",
   "execution_count": null,
   "metadata": {
    "ExecuteTime": {
     "end_time": "2021-02-23T05:31:28.079647Z",
     "start_time": "2021-02-23T05:31:28.075603Z"
    }
   },
   "outputs": [],
   "source": [
    "t = lambdas.mean().div(lambdas.std())\n",
    "t"
   ]
  },
  {
   "cell_type": "markdown",
   "metadata": {},
   "source": [
    "#### Results"
   ]
  },
  {
   "cell_type": "code",
   "execution_count": null,
   "metadata": {
    "ExecuteTime": {
     "end_time": "2021-02-23T05:31:28.429270Z",
     "start_time": "2021-02-23T05:31:28.080566Z"
    },
    "scrolled": false
   },
   "outputs": [],
   "source": [
    "window = 24  # months\n",
    "ax1 = plt.subplot2grid((1, 3), (0, 0))\n",
    "ax2 = plt.subplot2grid((1, 3), (0, 1), colspan=2)\n",
    "lambdas.mean().sort_values().plot.barh(ax=ax1)\n",
    "lambdas.rolling(window).mean().dropna().plot(lw=1,\n",
    "                                             figsize=(14, 5),\n",
    "                                             sharey=True,\n",
    "                                             ax=ax2)\n",
    "sns.despine()\n",
    "plt.tight_layout()"
   ]
  },
  {
   "cell_type": "code",
   "execution_count": null,
   "metadata": {
    "ExecuteTime": {
     "end_time": "2021-02-23T05:31:28.993774Z",
     "start_time": "2021-02-23T05:31:28.431750Z"
    }
   },
   "outputs": [],
   "source": [
    "window = 24  # months\n",
    "lambdas.rolling(window).mean().dropna().plot(lw=2,\n",
    "                                             figsize=(14, 7),\n",
    "                                             subplots=True,\n",
    "                                             sharey=True)\n",
    "sns.despine()\n",
    "plt.tight_layout()"
   ]
  },
  {
   "cell_type": "markdown",
   "metadata": {},
   "source": [
    "## Fama-Macbeth with the LinearModels library"
   ]
  },
  {
   "cell_type": "markdown",
   "metadata": {},
   "source": [
    "The linear_models library extends statsmodels with various models for panel data and also implements the two-stage Fama—MacBeth procedure:"
   ]
  },
  {
   "cell_type": "code",
   "execution_count": null,
   "metadata": {
    "ExecuteTime": {
     "end_time": "2021-02-23T05:31:29.048505Z",
     "start_time": "2021-02-23T05:31:28.994815Z"
    }
   },
   "outputs": [],
   "source": [
    "mod = LinearFactorModel(portfolios=ff_portfolio_data, \n",
    "                        factors=ff_factor_data)\n",
    "res = mod.fit()\n",
    "print(res)"
   ]
  },
  {
   "cell_type": "code",
   "execution_count": null,
   "metadata": {
    "ExecuteTime": {
     "end_time": "2021-02-23T05:31:29.129566Z",
     "start_time": "2021-02-23T05:31:29.050365Z"
    },
    "scrolled": false
   },
   "outputs": [],
   "source": [
    "print(res.full_summary)"
   ]
  },
  {
   "cell_type": "markdown",
   "metadata": {},
   "source": [
    "This provides us with the same result:"
   ]
  },
  {
   "cell_type": "code",
   "execution_count": null,
   "metadata": {
    "ExecuteTime": {
     "end_time": "2021-02-23T05:31:29.135366Z",
     "start_time": "2021-02-23T05:31:29.130502Z"
    }
   },
   "outputs": [],
   "source": [
    "lambdas.mean()"
   ]
  }
 ],
 "metadata": {
  "kernelspec": {
   "display_name": "Python 3",
   "language": "python",
   "name": "python3"
  },
  "language_info": {
   "codemirror_mode": {
    "name": "ipython",
    "version": 3
   },
   "file_extension": ".py",
   "mimetype": "text/x-python",
   "name": "python",
   "nbconvert_exporter": "python",
   "pygments_lexer": "ipython3",
   "version": "3.8.5"
  },
  "toc": {
   "base_numbering": 1,
   "nav_menu": {},
   "number_sections": true,
   "sideBar": true,
   "skip_h1_title": true,
   "title_cell": "Table of Contents",
   "title_sidebar": "Contents",
   "toc_cell": false,
   "toc_position": {},
   "toc_section_display": true,
   "toc_window_display": true
  }
 },
 "nbformat": 4,
 "nbformat_minor": 2
}