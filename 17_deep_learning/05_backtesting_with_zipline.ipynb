{
 "cells": [
  {
   "cell_type": "markdown",
   "metadata": {},
   "source": [
    "# Backtesting with zipline - Pipeline API with Custom Data"
   ]
  },
  {
   "cell_type": "markdown",
   "source": [
    "> This notebook requires the `conda` environment `backtest`. Please see the [installation instructions](../installation/README.md) for running the latest Docker image or alternative ways to set up your environment."
   ],
   "metadata": {
    "collapsed": false
   }
  },
  {
   "cell_type": "markdown",
   "source": [
    "## Imports & Settings"
   ],
   "metadata": {
    "collapsed": false
   }
  },
  {
   "cell_type": "code",
   "execution_count": 8,
   "metadata": {
    "ExecuteTime": {
     "end_time": "2020-06-22T14:58:07.921445Z",
     "start_time": "2020-06-22T14:58:07.919059Z"
    }
   },
   "outputs": [],
   "source": [
    "import warnings\n",
    "\n",
    "from data.data_loader import data_loader\n",
    "\n",
    "warnings.filterwarnings('ignore')"
   ]
  },
  {
   "cell_type": "code",
   "execution_count": 9,
   "metadata": {
    "ExecuteTime": {
     "end_time": "2020-06-22T14:58:09.394177Z",
     "start_time": "2020-06-22T14:58:07.923205Z"
    }
   },
   "outputs": [],
   "source": [
    "from pathlib import Path\n",
    "from time import time\n",
    "\n",
    "import numpy as np\n",
    "import pandas as pd\n",
    "import pandas_datareader.data as web\n",
    "from logbook import Logger, StderrHandler, INFO, WARNING\n",
    "\n",
    "from zipline import run_algorithm\n",
    "from zipline.api import (attach_pipeline, pipeline_output,\n",
    "                         date_rules, time_rules, record,\n",
    "                         schedule_function, commission, slippage,\n",
    "                         set_slippage, set_commission, set_max_leverage,\n",
    "                         order_target, order_target_percent,\n",
    "                         get_open_orders, cancel_order)\n",
    "from zipline.data import bundles\n",
    "from zipline.utils.run_algo import load_extensions\n",
    "from zipline.pipeline import Pipeline, CustomFactor\n",
    "from zipline.pipeline.data import Column, DataSet\n",
    "from zipline.pipeline.domain import US_EQUITIES\n",
    "from zipline.pipeline.filters import StaticAssets\n",
    "from zipline.pipeline.loaders import USEquityPricingLoader\n",
    "from zipline.pipeline.loaders.frame import DataFrameLoader\n",
    "from trading_calendars import get_calendar\n",
    "\n",
    "import pyfolio as pf\n",
    "from pyfolio.plotting import plot_rolling_returns, plot_rolling_sharpe\n",
    "from pyfolio.timeseries import forecast_cone_bootstrap\n",
    "\n",
    "from alphalens.tears import (create_returns_tear_sheet,\n",
    "                             create_summary_tear_sheet,\n",
    "                             create_full_tear_sheet)\n",
    "\n",
    "from alphalens.performance import mean_return_by_quantile\n",
    "from alphalens.plotting import plot_quantile_returns_bar\n",
    "from alphalens.utils import get_clean_factor_and_forward_returns, rate_of_return\n",
    "\n",
    "import matplotlib.pyplot as plt\n",
    "import seaborn as sns"
   ]
  },
  {
   "cell_type": "code",
   "execution_count": 10,
   "metadata": {
    "ExecuteTime": {
     "end_time": "2020-06-22T14:58:09.402046Z",
     "start_time": "2020-06-22T14:58:09.398007Z"
    }
   },
   "outputs": [],
   "source": [
    "sns.set_style('whitegrid')\n",
    "\n",
    "np.random.seed(42)\n",
    "idx = pd.IndexSlice"
   ]
  },
  {
   "cell_type": "code",
   "execution_count": 11,
   "metadata": {
    "ExecuteTime": {
     "end_time": "2020-06-22T14:58:09.409995Z",
     "start_time": "2020-06-22T14:58:09.405012Z"
    }
   },
   "outputs": [],
   "source": [
    "results_path = Path('results_5min_2yrs_nocut_v3')"
   ]
  },
  {
   "cell_type": "markdown",
   "metadata": {},
   "source": [
    "## Alphalens Analysis"
   ]
  },
  {
   "cell_type": "code",
   "execution_count": 12,
   "metadata": {
    "ExecuteTime": {
     "end_time": "2020-06-22T14:58:09.418231Z",
     "start_time": "2020-06-22T14:58:09.411942Z"
    }
   },
   "outputs": [],
   "source": [
    "DATA_STORE = Path('..', 'data', 'crypto.h5')"
   ]
  },
  {
   "cell_type": "code",
   "execution_count": 13,
   "metadata": {
    "ExecuteTime": {
     "end_time": "2020-06-22T14:58:09.426746Z",
     "start_time": "2020-06-22T14:58:09.420138Z"
    }
   },
   "outputs": [],
   "source": [
    "\"\"\"\n",
    "def get_trade_prices(tickers):\n",
    "    prices = (pd.read_hdf(DATA_STORE, 'quandl/wiki/prices').swaplevel().sort_index())\n",
    "    prices.index.names = ['symbol', 'date']\n",
    "    prices = prices.loc[idx[tickers, '2015':'2018'], 'adj_open']\n",
    "    return (prices\n",
    "            .unstack('symbol')\n",
    "            .sort_index()\n",
    "            .shift(-1)\n",
    "            .tz_localize('UTC'))\n",
    "\"\"\"\n",
    "def get_trade_prices(tickers):\n",
    "    prices, metadata, categories = data_loader(timeframe='5Min')\n",
    "    prices = prices.swaplevel().sort_index()\n",
    "    prices = prices.loc[idx[tickers, :], 'open']\n",
    "    prices = prices.unstack('ticker').sort_index().shift(-1).tz_localize('UTC')\n",
    "    print(prices)\n",
    "    return prices"
   ]
  },
  {
   "cell_type": "code",
   "execution_count": 14,
   "metadata": {
    "ExecuteTime": {
     "end_time": "2020-06-22T14:58:09.463816Z",
     "start_time": "2020-06-22T14:58:09.427920Z"
    }
   },
   "outputs": [
    {
     "name": "stdout",
     "output_type": "stream",
     "text": [
      "<class 'pandas.core.frame.DataFrame'>\n",
      "MultiIndex: 9220542 entries, ('atom-usd', Timestamp('2019-04-25 18:15:00')) to ('zec-usd', Timestamp('2021-06-17 04:55:00'))\n",
      "Data columns (total 10 columns):\n",
      " #   Column  Dtype  \n",
      "---  ------  -----  \n",
      " 0   0       float32\n",
      " 1   1       float32\n",
      " 2   2       float32\n",
      " 3   3       float32\n",
      " 4   4       float32\n",
      " 5   5       float32\n",
      " 6   6       float32\n",
      " 7   7       float32\n",
      " 8   8       float32\n",
      " 9   9       float32\n",
      "dtypes: float32(10)\n",
      "memory usage: 406.7+ MB\n"
     ]
    }
   ],
   "source": [
    "original_predictions = pd.read_hdf(results_path / 'test_preds.h5', 'predictions')\n",
    "original_predictions.info()"
   ]
  },
  {
   "cell_type": "code",
   "execution_count": 15,
   "outputs": [],
   "source": [
    "predictions = (original_predictions\n",
    "               .iloc[:, :3]\n",
    "               .mean(1)\n",
    "               .to_frame('prediction'))"
   ],
   "metadata": {
    "collapsed": false,
    "pycharm": {
     "name": "#%%\n"
    }
   }
  },
  {
   "cell_type": "code",
   "execution_count": 16,
   "metadata": {
    "ExecuteTime": {
     "end_time": "2020-06-22T14:58:10.568429Z",
     "start_time": "2020-06-22T14:58:09.465410Z"
    }
   },
   "outputs": [],
   "source": [
    "factor = (predictions\n",
    "          .unstack('ticker')\n",
    "          .asfreq('60Min')\n",
    "          .dropna(how='all')\n",
    "          .stack()\n",
    "          .tz_localize('UTC', level='date')\n",
    "          .sort_index())\n",
    "tickers = factor.index.get_level_values('ticker').unique()"
   ]
  },
  {
   "cell_type": "code",
   "execution_count": 17,
   "metadata": {
    "ExecuteTime": {
     "end_time": "2020-06-22T14:58:57.414469Z",
     "start_time": "2020-06-22T14:58:10.569691Z"
    }
   },
   "outputs": [
    {
     "name": "stdout",
     "output_type": "stream",
     "text": [
      "28\n",
      "Index(['atom-usd', 'bat-usd', 'bnt-usd', 'bsv-usd', 'btc-usd', 'btg-usd',\n",
      "       'btt-usd', 'dash-usd', 'dgb-usd', 'enj-usd', 'eos-usd', 'etc-usd',\n",
      "       'eth-usd', 'leo-usd', 'ltc-usd', 'miota-usd', 'mkr-usd', 'neo-usd',\n",
      "       'omg-usd', 'qtum-usd', 'trx-usd', 'vet-usd', 'wbtc-usd', 'xlm-usd',\n",
      "       'xmr-usd', 'xrp-usd', 'xtz-usd', 'zec-usd'],\n",
      "      dtype='object', name='ticker')\n",
      "Number tickers 28\n",
      "Index(['atom-usd', 'bat-usd', 'bnt-usd', 'bsv-usd', 'btc-usd', 'btg-usd',\n",
      "       'btt-usd', 'dash-usd', 'dgb-usd', 'enj-usd', 'eos-usd', 'etc-usd',\n",
      "       'eth-usd', 'leo-usd', 'ltc-usd', 'miota-usd', 'mkr-usd', 'neo-usd',\n",
      "       'omg-usd', 'qtum-usd', 'trx-usd', 'vet-usd', 'wbtc-usd', 'xlm-usd',\n",
      "       'xmr-usd', 'xrp-usd', 'xtz-usd', 'zec-usd'],\n",
      "      dtype='object', name='ticker')\n",
      "<class 'pandas.core.frame.DataFrame'>\n",
      "MultiIndex: 437388 entries, (Timestamp('2019-06-14 12:00:00', freq='60T'), 'atom-usd') to (Timestamp('2021-03-26 08:00:00', freq='60T'), 'zec-usd')\n",
      "Data columns (total 5 columns):\n",
      " #   Column  Non-Null Count   Dtype  \n",
      "---  ------  --------------   -----  \n",
      " 0   open    437388 non-null  float64\n",
      " 1   high    437388 non-null  float64\n",
      " 2   low     437388 non-null  float64\n",
      " 3   close   437388 non-null  float64\n",
      " 4   volume  437388 non-null  float64\n",
      "dtypes: float64(5)\n",
      "memory usage: 18.6+ MB\n",
      "<class 'pandas.core.frame.DataFrame'>\n",
      "MultiIndex: 437388 entries, (Timestamp('2019-06-14 12:00:00', freq='60T'), 'atom-usd') to (Timestamp('2021-03-26 08:00:00', freq='60T'), 'zec-usd')\n",
      "Data columns (total 5 columns):\n",
      " #   Column  Non-Null Count   Dtype  \n",
      "---  ------  --------------   -----  \n",
      " 0   open    437388 non-null  float64\n",
      " 1   high    437388 non-null  float64\n",
      " 2   low     437388 non-null  float64\n",
      " 3   close   437388 non-null  float64\n",
      " 4   volume  437388 non-null  float64\n",
      "dtypes: float64(5)\n",
      "memory usage: 18.6+ MB\n",
      "<class 'pandas.core.frame.DataFrame'>\n",
      "Index: 28 entries, atom-usd to zec-usd\n",
      "Data columns (total 13 columns):\n",
      " #   Column                 Non-Null Count  Dtype         \n",
      "---  ------                 --------------  -----         \n",
      " 0   id                     28 non-null     object        \n",
      " 1   market_cap             28 non-null     int64         \n",
      " 2   name                   28 non-null     object        \n",
      " 3   sector                 28 non-null     object        \n",
      " 4   genesis_date           18 non-null     datetime64[ns]\n",
      " 5   market_cap_rank        28 non-null     int64         \n",
      " 6   hashing_algorithm      28 non-null     object        \n",
      " 7   coingecko_rank         28 non-null     int64         \n",
      " 8   coingecko_score        28 non-null     float64       \n",
      " 9   developer_score        28 non-null     float64       \n",
      " 10  community_score        28 non-null     float64       \n",
      " 11  liquidity_score        28 non-null     float64       \n",
      " 12  public_interest_score  28 non-null     float64       \n",
      "dtypes: datetime64[ns](1), float64(5), int64(3), object(4)\n",
      "memory usage: 3.1+ KB\n",
      "<class 'pandas.core.frame.DataFrame'>\n",
      "Index: 28 entries, atom-usd to zec-usd\n",
      "Data columns (total 50 columns):\n",
      " #   Column                              Non-Null Count  Dtype\n",
      "---  ------                              --------------  -----\n",
      " 0   Analytics                           28 non-null     int64\n",
      " 1   Artificial Intelligence             28 non-null     int64\n",
      " 2   Asset-backed Tokens                 28 non-null     int64\n",
      " 3   Automated Market Maker (AMM)        28 non-null     int64\n",
      " 4   Avalanche Ecosystem                 28 non-null     int64\n",
      " 5   Binance Smart Chain Ecosystem       28 non-null     int64\n",
      " 6   Business Platform                   28 non-null     int64\n",
      " 7   Business Services                   28 non-null     int64\n",
      " 8   Centralized Exchange Token (CEX)    28 non-null     int64\n",
      " 9   Communication                       28 non-null     int64\n",
      " 10  Compound Tokens                     28 non-null     int64\n",
      " 11  Cosmos Ecosystem                    28 non-null     int64\n",
      " 12  Cryptocurrency                      28 non-null     int64\n",
      " 13  Decentralized Exchange Token (DEX)  28 non-null     int64\n",
      " 14  Decentralized Finance (DeFi)        28 non-null     int64\n",
      " 15  Derivatives                         28 non-null     int64\n",
      " 16  Entertainment                       28 non-null     int64\n",
      " 17  Eth 2.0 Staking                     28 non-null     int64\n",
      " 18  Exchange-based Tokens               28 non-null     int64\n",
      " 19  Finance / Banking                   28 non-null     int64\n",
      " 20  Gaming                              28 non-null     int64\n",
      " 21  Governance                          28 non-null     int64\n",
      " 22  Infrastructure                      28 non-null     int64\n",
      " 23  Internet of Things (IOT)            28 non-null     int64\n",
      " 24  Lending/Borrowing                   28 non-null     int64\n",
      " 25  Masternodes                         28 non-null     int64\n",
      " 26  Meme Tokens                         28 non-null     int64\n",
      " 27  Metaverse                           28 non-null     int64\n",
      " 28  Near Protocol Ecosystem             28 non-null     int64\n",
      " 29  Non-Fungible Tokens (NFT)           28 non-null     int64\n",
      " 30  Oracle                              28 non-null     int64\n",
      " 31  Polkadot Ecosystem                  28 non-null     int64\n",
      " 32  Polygon Ecosystem                   28 non-null     int64\n",
      " 33  Privacy Coins                       28 non-null     int64\n",
      " 34  Protocol                            28 non-null     int64\n",
      " 35  Seigniorage                         28 non-null     int64\n",
      " 36  Smart Contract Platform             28 non-null     int64\n",
      " 37  Solana Ecosystem                    28 non-null     int64\n",
      " 38  Sports                              28 non-null     int64\n",
      " 39  Stablecoins                         28 non-null     int64\n",
      " 40  Storage                             28 non-null     int64\n",
      " 41  Synthetic Issuer                    28 non-null     int64\n",
      " 42  Terra Ecosystem                     28 non-null     int64\n",
      " 43  Tokenized BTC                       28 non-null     int64\n",
      " 44  USD Stablecoin                      28 non-null     int64\n",
      " 45  Wrapped-Tokens                      28 non-null     int64\n",
      " 46  Yearn Ecosystem                     28 non-null     int64\n",
      " 47  Yield Aggregator                    28 non-null     int64\n",
      " 48  Yield Farming                       28 non-null     int64\n",
      " 49  xDAI Ecosystem                      28 non-null     int64\n",
      "dtypes: int64(50)\n",
      "memory usage: 11.2+ KB\n",
      "\n",
      "reducing footprint\n",
      "\n",
      "ticker                      atom-usd  bat-usd  bnt-usd     bsv-usd  \\\n",
      "date                                                                 \n",
      "2019-06-14 12:00:00+00:00   6.000000  0.31965   0.8890  210.029999   \n",
      "2019-06-14 13:00:00+00:00   6.035600  0.31401   0.8890  208.029999   \n",
      "2019-06-14 14:00:00+00:00   6.007000  0.32027   0.8890  207.929993   \n",
      "2019-06-14 15:00:00+00:00   6.005400  0.31302   0.8890  210.220001   \n",
      "2019-06-14 16:00:00+00:00   5.912000  0.31301   0.8890  208.639999   \n",
      "...                              ...      ...      ...         ...   \n",
      "2021-03-26 04:00:00+00:00  17.399000  1.00570   6.8372  194.190002   \n",
      "2021-03-26 05:00:00+00:00  17.691999  1.00570   6.8372  194.179993   \n",
      "2021-03-26 06:00:00+00:00  17.752001  1.00000   6.8372  193.869995   \n",
      "2021-03-26 07:00:00+00:00  17.895000  1.00000   6.8372  194.139999   \n",
      "2021-03-26 08:00:00+00:00        NaN      NaN      NaN         NaN   \n",
      "\n",
      "ticker                          btc-usd    btg-usd   btt-usd    dash-usd  \\\n",
      "date                                                                       \n",
      "2019-06-14 12:00:00+00:00   8365.900391  26.323999  0.001299  151.929993   \n",
      "2019-06-14 13:00:00+00:00   8392.900391  26.802000  0.001247  150.750000   \n",
      "2019-06-14 14:00:00+00:00   8386.799805  26.552999  0.001246  150.839996   \n",
      "2019-06-14 15:00:00+00:00   8402.900391  26.631001  0.001238  149.850006   \n",
      "2019-06-14 16:00:00+00:00   8362.400391  26.320999  0.001218  150.550003   \n",
      "...                                 ...        ...       ...         ...   \n",
      "2021-03-26 04:00:00+00:00  52741.000000  30.500000  0.003184  191.479996   \n",
      "2021-03-26 05:00:00+00:00  52862.343750  30.500000  0.003192  193.289993   \n",
      "2021-03-26 06:00:00+00:00  52646.460938  30.813999  0.003183  193.289993   \n",
      "2021-03-26 07:00:00+00:00  53560.000000  31.290001  0.003220  194.770004   \n",
      "2021-03-26 08:00:00+00:00           NaN        NaN       NaN         NaN   \n",
      "\n",
      "ticker                      dgb-usd  enj-usd  ...  omg-usd  qtum-usd  \\\n",
      "date                                          ...                      \n",
      "2019-06-14 12:00:00+00:00  0.014298   0.1500  ...   2.0907    3.4243   \n",
      "2019-06-14 13:00:00+00:00  0.014298   0.1500  ...   2.0483    3.4134   \n",
      "2019-06-14 14:00:00+00:00  0.014298   0.1500  ...   2.0797    3.4131   \n",
      "2019-06-14 15:00:00+00:00  0.014298   0.1620  ...   2.0825    3.3550   \n",
      "2019-06-14 16:00:00+00:00  0.014298   0.1620  ...   2.0497    3.2626   \n",
      "...                             ...      ...  ...      ...       ...   \n",
      "2021-03-26 04:00:00+00:00  0.061509   2.2575  ...   5.1313    9.1798   \n",
      "2021-03-26 05:00:00+00:00  0.060977   2.2575  ...   5.1730    9.2426   \n",
      "2021-03-26 06:00:00+00:00  0.060977   2.3299  ...   5.1456    9.0590   \n",
      "2021-03-26 07:00:00+00:00  0.064302   2.3299  ...   5.2030    9.1304   \n",
      "2021-03-26 08:00:00+00:00       NaN      NaN  ...      NaN       NaN   \n",
      "\n",
      "ticker                      trx-usd   vet-usd  wbtc-usd  xlm-usd     xmr-usd  \\\n",
      "date                                                                           \n",
      "2019-06-14 12:00:00+00:00  0.031569  0.007500    8100.0  0.12235   89.294998   \n",
      "2019-06-14 13:00:00+00:00  0.031476  0.007291    8100.0  0.12240   88.828003   \n",
      "2019-06-14 14:00:00+00:00  0.031356  0.007605    8100.0  0.12203   89.115997   \n",
      "2019-06-14 15:00:00+00:00  0.031400  0.007292    8100.0  0.12120   88.741997   \n",
      "2019-06-14 16:00:00+00:00  0.030862  0.007107    8100.0  0.12143   87.639000   \n",
      "...                             ...       ...       ...      ...         ...   \n",
      "2021-03-26 04:00:00+00:00  0.057909  0.084339   52219.0  0.36761  221.320007   \n",
      "2021-03-26 05:00:00+00:00  0.058771  0.085043   53171.0  0.36984  221.309998   \n",
      "2021-03-26 06:00:00+00:00  0.058108  0.083934   53117.0  0.36739  221.759995   \n",
      "2021-03-26 07:00:00+00:00  0.058757  0.085107   52948.0  0.37273  223.119995   \n",
      "2021-03-26 08:00:00+00:00       NaN       NaN       NaN      NaN         NaN   \n",
      "\n",
      "ticker                     xrp-usd  xtz-usd     zec-usd  \n",
      "date                                                     \n",
      "2019-06-14 12:00:00+00:00  0.39768   1.2301   91.550003  \n",
      "2019-06-14 13:00:00+00:00  0.39622   1.2439   89.528000  \n",
      "2019-06-14 14:00:00+00:00  0.39741   1.2425   89.184998  \n",
      "2019-06-14 15:00:00+00:00  0.39516   1.2447   88.775002  \n",
      "2019-06-14 16:00:00+00:00  0.39250   1.2322   87.542999  \n",
      "...                            ...      ...         ...  \n",
      "2021-03-26 04:00:00+00:00  0.53385   4.0756  126.500000  \n",
      "2021-03-26 05:00:00+00:00  0.53097   4.0750  126.540001  \n",
      "2021-03-26 06:00:00+00:00  0.53270   4.0613  126.209999  \n",
      "2021-03-26 07:00:00+00:00  0.53889   4.1021  127.089996  \n",
      "2021-03-26 08:00:00+00:00      NaN      NaN         NaN  \n",
      "\n",
      "[15621 rows x 28 columns]\n"
     ]
    },
    {
     "data": {
      "text/plain": "                                    prediction\ndate                      ticker              \n2017-11-06 17:40:00+00:00 btc-usd     0.002092\n                          btg-usd     0.006738\n                          dash-usd   -0.000272\n                          eos-usd     0.001442\n                          etc-usd     0.001525\n...                                        ...\n2021-06-17 04:40:00+00:00 xlm-usd     0.000039\n                          xmr-usd     0.000102\n                          xrp-usd     0.000250\n                          xtz-usd    -0.000014\n                          zec-usd     0.000090\n\n[767731 rows x 1 columns]",
      "text/html": "<div>\n<style scoped>\n    .dataframe tbody tr th:only-of-type {\n        vertical-align: middle;\n    }\n\n    .dataframe tbody tr th {\n        vertical-align: top;\n    }\n\n    .dataframe thead th {\n        text-align: right;\n    }\n</style>\n<table border=\"1\" class=\"dataframe\">\n  <thead>\n    <tr style=\"text-align: right;\">\n      <th></th>\n      <th></th>\n      <th>prediction</th>\n    </tr>\n    <tr>\n      <th>date</th>\n      <th>ticker</th>\n      <th></th>\n    </tr>\n  </thead>\n  <tbody>\n    <tr>\n      <th rowspan=\"5\" valign=\"top\">2017-11-06 17:40:00+00:00</th>\n      <th>btc-usd</th>\n      <td>0.002092</td>\n    </tr>\n    <tr>\n      <th>btg-usd</th>\n      <td>0.006738</td>\n    </tr>\n    <tr>\n      <th>dash-usd</th>\n      <td>-0.000272</td>\n    </tr>\n    <tr>\n      <th>eos-usd</th>\n      <td>0.001442</td>\n    </tr>\n    <tr>\n      <th>etc-usd</th>\n      <td>0.001525</td>\n    </tr>\n    <tr>\n      <th>...</th>\n      <th>...</th>\n      <td>...</td>\n    </tr>\n    <tr>\n      <th rowspan=\"5\" valign=\"top\">2021-06-17 04:40:00+00:00</th>\n      <th>xlm-usd</th>\n      <td>0.000039</td>\n    </tr>\n    <tr>\n      <th>xmr-usd</th>\n      <td>0.000102</td>\n    </tr>\n    <tr>\n      <th>xrp-usd</th>\n      <td>0.000250</td>\n    </tr>\n    <tr>\n      <th>xtz-usd</th>\n      <td>-0.000014</td>\n    </tr>\n    <tr>\n      <th>zec-usd</th>\n      <td>0.000090</td>\n    </tr>\n  </tbody>\n</table>\n<p>767731 rows × 1 columns</p>\n</div>"
     },
     "execution_count": 17,
     "metadata": {},
     "output_type": "execute_result"
    }
   ],
   "source": [
    "trade_prices = get_trade_prices(tickers)\n",
    "\n",
    "factor"
   ]
  },
  {
   "cell_type": "code",
   "execution_count": 18,
   "outputs": [
    {
     "name": "stdout",
     "output_type": "stream",
     "text": [
      "2\n"
     ]
    },
    {
     "ename": "ValueError",
     "evalue": "Factor and prices indices don't match: make sure they have the same convention in terms of datetimes and symbol-names",
     "output_type": "error",
     "traceback": [
      "\u001B[0;31m---------------------------------------------------------------------------\u001B[0m",
      "\u001B[0;31mValueError\u001B[0m                                Traceback (most recent call last)",
      "\u001B[0;32m<ipython-input-18-eb544da1a2f8>\u001B[0m in \u001B[0;36m<module>\u001B[0;34m\u001B[0m\n\u001B[1;32m      1\u001B[0m \u001B[0mprint\u001B[0m\u001B[0;34m(\u001B[0m\u001B[0;36m2\u001B[0m\u001B[0;34m)\u001B[0m\u001B[0;34m\u001B[0m\u001B[0;34m\u001B[0m\u001B[0m\n\u001B[0;32m----> 2\u001B[0;31m factor_data = get_clean_factor_and_forward_returns(factor=factor,\n\u001B[0m\u001B[1;32m      3\u001B[0m                                                    \u001B[0mprices\u001B[0m\u001B[0;34m=\u001B[0m\u001B[0mtrade_prices\u001B[0m\u001B[0;34m,\u001B[0m\u001B[0;34m\u001B[0m\u001B[0;34m\u001B[0m\u001B[0m\n\u001B[1;32m      4\u001B[0m                                                    \u001B[0mquantiles\u001B[0m\u001B[0;34m=\u001B[0m\u001B[0;36m5\u001B[0m\u001B[0;34m,\u001B[0m\u001B[0;34m\u001B[0m\u001B[0;34m\u001B[0m\u001B[0m\n\u001B[1;32m      5\u001B[0m                                                    \u001B[0mmax_loss\u001B[0m\u001B[0;34m=\u001B[0m\u001B[0;36m0.3\u001B[0m\u001B[0;34m,\u001B[0m\u001B[0;34m\u001B[0m\u001B[0;34m\u001B[0m\u001B[0m\n",
      "\u001B[0;32m~/miniconda3/envs/ml4t/lib/python3.8/site-packages/alphalens/utils.py\u001B[0m in \u001B[0;36mget_clean_factor_and_forward_returns\u001B[0;34m(factor, prices, groupby, binning_by_group, quantiles, bins, periods, filter_zscore, groupby_labels, max_loss, zero_aware, cumulative_returns)\u001B[0m\n\u001B[1;32m    859\u001B[0m     \"\"\"\n\u001B[1;32m    860\u001B[0m \u001B[0;34m\u001B[0m\u001B[0m\n\u001B[0;32m--> 861\u001B[0;31m     forward_returns = compute_forward_returns(\n\u001B[0m\u001B[1;32m    862\u001B[0m         \u001B[0mfactor\u001B[0m\u001B[0;34m,\u001B[0m \u001B[0mprices\u001B[0m\u001B[0;34m,\u001B[0m \u001B[0mperiods\u001B[0m\u001B[0;34m,\u001B[0m \u001B[0mfilter_zscore\u001B[0m\u001B[0;34m,\u001B[0m \u001B[0mcumulative_returns\u001B[0m\u001B[0;34m\u001B[0m\u001B[0;34m\u001B[0m\u001B[0m\n\u001B[1;32m    863\u001B[0m     )\n",
      "\u001B[0;32m~/miniconda3/envs/ml4t/lib/python3.8/site-packages/alphalens/utils.py\u001B[0m in \u001B[0;36mcompute_forward_returns\u001B[0;34m(factor, prices, periods, filter_zscore, cumulative_returns)\u001B[0m\n\u001B[1;32m    293\u001B[0m \u001B[0;34m\u001B[0m\u001B[0m\n\u001B[1;32m    294\u001B[0m     \u001B[0;32mif\u001B[0m \u001B[0mlen\u001B[0m\u001B[0;34m(\u001B[0m\u001B[0mfactor_dateindex\u001B[0m\u001B[0;34m)\u001B[0m \u001B[0;34m==\u001B[0m \u001B[0;36m0\u001B[0m\u001B[0;34m:\u001B[0m\u001B[0;34m\u001B[0m\u001B[0;34m\u001B[0m\u001B[0m\n\u001B[0;32m--> 295\u001B[0;31m         raise ValueError(\n\u001B[0m\u001B[1;32m    296\u001B[0m             \u001B[0;34m\"Factor and prices indices don't match: make sure \"\u001B[0m\u001B[0;34m\u001B[0m\u001B[0;34m\u001B[0m\u001B[0m\n\u001B[1;32m    297\u001B[0m             \u001B[0;34m\"they have the same convention in terms of datetimes \"\u001B[0m\u001B[0;34m\u001B[0m\u001B[0;34m\u001B[0m\u001B[0m\n",
      "\u001B[0;31mValueError\u001B[0m: Factor and prices indices don't match: make sure they have the same convention in terms of datetimes and symbol-names"
     ]
    }
   ],
   "source": [
    "print(2)\n",
    "factor_data = get_clean_factor_and_forward_returns(factor=factor,\n",
    "                                                   prices=trade_prices,\n",
    "                                                   quantiles=5,\n",
    "                                                   max_loss=0.3,\n",
    "                                                   periods=(1, 5, 10, 21),\n",
    "                                                   cumulative_returns = False).sort_index()\n",
    "factor_data.info()"
   ],
   "metadata": {
    "collapsed": false,
    "pycharm": {
     "name": "#%%\n"
    }
   }
  },
  {
   "cell_type": "code",
   "execution_count": null,
   "metadata": {
    "ExecuteTime": {
     "end_time": "2020-06-22T14:59:11.168561Z",
     "start_time": "2020-06-22T14:58:59.745628Z"
    },
    "scrolled": false
   },
   "outputs": [],
   "source": [
    "create_summary_tear_sheet(factor_data)"
   ]
  },
  {
   "cell_type": "code",
   "execution_count": null,
   "outputs": [],
   "source": [
    "create_returns_tear_sheet(factor_data)"
   ],
   "metadata": {
    "collapsed": false,
    "pycharm": {
     "name": "#%%\n"
    }
   }
  },
  {
   "cell_type": "markdown",
   "metadata": {},
   "source": [
    "### Load zipline extensions"
   ]
  },
  {
   "cell_type": "markdown",
   "metadata": {},
   "source": [
    "Only need this in notebook to find bundle."
   ]
  },
  {
   "cell_type": "code",
   "execution_count": null,
   "metadata": {
    "ExecuteTime": {
     "end_time": "2020-06-22T14:59:11.173929Z",
     "start_time": "2020-06-22T14:59:11.169996Z"
    }
   },
   "outputs": [],
   "source": [
    "load_extensions(default=True,\n",
    "                extensions=[],\n",
    "                strict=True,\n",
    "                environ=None)"
   ]
  },
  {
   "cell_type": "code",
   "execution_count": null,
   "metadata": {
    "ExecuteTime": {
     "end_time": "2020-06-22T14:59:11.188139Z",
     "start_time": "2020-06-22T14:59:11.177144Z"
    }
   },
   "outputs": [],
   "source": [
    "log_handler = StderrHandler(format_string='[{record.time:%Y-%m-%d %H:%M:%S.%f}]: ' +\n",
    "                            '{record.level_name}: {record.func_name}: {record.message}',\n",
    "                            level=WARNING)\n",
    "log_handler.push_application()\n",
    "log = Logger('Algorithm')"
   ]
  },
  {
   "cell_type": "markdown",
   "metadata": {},
   "source": [
    "## Algo Params"
   ]
  },
  {
   "cell_type": "code",
   "execution_count": null,
   "metadata": {
    "ExecuteTime": {
     "end_time": "2020-06-22T14:59:11.200638Z",
     "start_time": "2020-06-22T14:59:11.190024Z"
    }
   },
   "outputs": [],
   "source": [
    "N_LONGS = 25\n",
    "N_SHORTS = 25\n",
    "MIN_POSITIONS = 10"
   ]
  },
  {
   "cell_type": "markdown",
   "metadata": {},
   "source": [
    "## Load Data"
   ]
  },
  {
   "cell_type": "markdown",
   "metadata": {},
   "source": [
    "### Quandl Wiki Bundel"
   ]
  },
  {
   "cell_type": "code",
   "execution_count": null,
   "metadata": {
    "ExecuteTime": {
     "end_time": "2020-06-22T14:59:11.481489Z",
     "start_time": "2020-06-22T14:59:11.202146Z"
    }
   },
   "outputs": [],
   "source": [
    "bundle_data = bundles.load('quandl')"
   ]
  },
  {
   "cell_type": "markdown",
   "metadata": {},
   "source": [
    "### ML Predictions"
   ]
  },
  {
   "cell_type": "code",
   "execution_count": null,
   "metadata": {
    "ExecuteTime": {
     "end_time": "2020-06-22T14:59:11.487895Z",
     "start_time": "2020-06-22T14:59:11.482787Z"
    }
   },
   "outputs": [],
   "source": [
    "def load_predictions(bundle):\n",
    "    predictions = (pd.read_hdf(results_path / 'test_preds.h5', 'predictions')\n",
    "                   .iloc[:, :3]\n",
    "                   .mean(1)\n",
    "                   .to_frame('prediction'))\n",
    "    tickers = predictions.index.get_level_values('ticker').unique().tolist()\n",
    "\n",
    "    assets = bundle.asset_finder.lookup_symbols(tickers, as_of_date=None)\n",
    "    predicted_sids = pd.Int64Index([asset.sid for asset in assets])\n",
    "    ticker_map = dict(zip(tickers, predicted_sids))\n",
    "\n",
    "    return (predictions\n",
    "            .unstack('ticker')\n",
    "            .rename(columns=ticker_map)\n",
    "            .prediction\n",
    "            .tz_localize('UTC')), assets"
   ]
  },
  {
   "cell_type": "code",
   "execution_count": null,
   "metadata": {
    "ExecuteTime": {
     "end_time": "2020-06-22T14:59:13.709763Z",
     "start_time": "2020-06-22T14:59:11.492512Z"
    }
   },
   "outputs": [],
   "source": [
    "predictions, assets = load_predictions(bundle_data)"
   ]
  },
  {
   "cell_type": "code",
   "execution_count": null,
   "metadata": {
    "ExecuteTime": {
     "end_time": "2020-06-22T14:59:13.810729Z",
     "start_time": "2020-06-22T14:59:13.711612Z"
    }
   },
   "outputs": [],
   "source": [
    "predictions.info()"
   ]
  },
  {
   "cell_type": "markdown",
   "metadata": {},
   "source": [
    "### Define Custom Dataset"
   ]
  },
  {
   "cell_type": "code",
   "execution_count": null,
   "metadata": {
    "ExecuteTime": {
     "end_time": "2020-06-22T14:59:13.814860Z",
     "start_time": "2020-06-22T14:59:13.812457Z"
    }
   },
   "outputs": [],
   "source": [
    "class SignalData(DataSet):\n",
    "    predictions = Column(dtype=float)\n",
    "    domain = US_EQUITIES"
   ]
  },
  {
   "cell_type": "markdown",
   "metadata": {},
   "source": [
    "### Define Pipeline Loaders"
   ]
  },
  {
   "cell_type": "code",
   "execution_count": null,
   "metadata": {
    "ExecuteTime": {
     "end_time": "2020-06-22T14:59:13.824804Z",
     "start_time": "2020-06-22T14:59:13.816236Z"
    }
   },
   "outputs": [],
   "source": [
    "signal_loader = {SignalData.predictions:\n",
    "                     DataFrameLoader(SignalData.predictions, predictions)}"
   ]
  },
  {
   "cell_type": "markdown",
   "metadata": {},
   "source": [
    "## Pipeline Setup"
   ]
  },
  {
   "cell_type": "markdown",
   "metadata": {},
   "source": [
    "### Custom ML Factor"
   ]
  },
  {
   "cell_type": "code",
   "execution_count": null,
   "metadata": {
    "ExecuteTime": {
     "end_time": "2020-06-22T14:59:13.830370Z",
     "start_time": "2020-06-22T14:59:13.826117Z"
    }
   },
   "outputs": [],
   "source": [
    "class MLSignal(CustomFactor):\n",
    "    \"\"\"Converting signals to Factor\n",
    "        so we can rank and filter in Pipeline\"\"\"\n",
    "    inputs = [SignalData.predictions]\n",
    "    window_length = 1\n",
    "\n",
    "    def compute(self, today, assets, out, predictions):\n",
    "        out[:] = predictions"
   ]
  },
  {
   "cell_type": "markdown",
   "metadata": {},
   "source": [
    "### Create Pipeline"
   ]
  },
  {
   "cell_type": "code",
   "execution_count": null,
   "metadata": {
    "ExecuteTime": {
     "end_time": "2020-06-22T14:59:13.838195Z",
     "start_time": "2020-06-22T14:59:13.831729Z"
    }
   },
   "outputs": [],
   "source": [
    "def compute_signals():\n",
    "    signals = MLSignal()\n",
    "    return Pipeline(columns={\n",
    "        'longs' : signals.top(N_LONGS, mask=signals > 0),\n",
    "        'shorts': signals.bottom(N_SHORTS, mask=signals < 0)},\n",
    "            screen=StaticAssets(assets))"
   ]
  },
  {
   "cell_type": "markdown",
   "metadata": {},
   "source": [
    "## Initialize Algorithm"
   ]
  },
  {
   "cell_type": "code",
   "execution_count": null,
   "metadata": {
    "ExecuteTime": {
     "end_time": "2020-06-22T14:59:13.847990Z",
     "start_time": "2020-06-22T14:59:13.839407Z"
    }
   },
   "outputs": [],
   "source": [
    "def initialize(context):\n",
    "    \"\"\"\n",
    "    Called once at the start of the algorithm.\n",
    "    \"\"\"\n",
    "    context.longs = context.shorts = None\n",
    "    set_slippage(slippage.FixedSlippage(spread=0.00))\n",
    "#     set_commission(commission.PerShare(cost=0.001, min_trade_cost=0))\n",
    "\n",
    "    schedule_function(rebalance,\n",
    "                      date_rules.every_day(),\n",
    "                      time_rules.market_open(hours=1, minutes=30))\n",
    "\n",
    "    schedule_function(record_vars,\n",
    "                      date_rules.every_day(),\n",
    "                      time_rules.market_close())\n",
    "\n",
    "    pipeline = compute_signals()\n",
    "    attach_pipeline(pipeline, 'signals')"
   ]
  },
  {
   "cell_type": "markdown",
   "metadata": {},
   "source": [
    "### Get daily Pipeline results"
   ]
  },
  {
   "cell_type": "code",
   "execution_count": null,
   "metadata": {
    "ExecuteTime": {
     "end_time": "2020-06-22T14:59:13.859609Z",
     "start_time": "2020-06-22T14:59:13.850488Z"
    }
   },
   "outputs": [],
   "source": [
    "def before_trading_start(context, data):\n",
    "    \"\"\"\n",
    "    Called every day before market open.\n",
    "    \"\"\"\n",
    "    output = pipeline_output('signals')\n",
    "    longs = pipeline_output('signals').longs.astype(int)\n",
    "    shorts = pipeline_output('signals').shorts.astype(int)\n",
    "    holdings = context.portfolio.positions.keys()\n",
    "    \n",
    "    if longs.sum() > MIN_POSITIONS and shorts.sum() > MIN_POSITIONS:\n",
    "        context.longs = longs[longs!=0].index\n",
    "        context.shorts = shorts[shorts!=0].index\n",
    "        context.divest = holdings - set(context.longs) - set(context.shorts)\n",
    "    else:\n",
    "        context.longs = context.shorts = pd.Index([])\n",
    "        context.divest = set(holdings)"
   ]
  },
  {
   "cell_type": "markdown",
   "metadata": {},
   "source": [
    "## Define Rebalancing Logic"
   ]
  },
  {
   "cell_type": "code",
   "execution_count": null,
   "metadata": {
    "ExecuteTime": {
     "end_time": "2020-06-22T14:59:13.867810Z",
     "start_time": "2020-06-22T14:59:13.861695Z"
    }
   },
   "outputs": [],
   "source": [
    "def rebalance(context, data):\n",
    "    \"\"\"\n",
    "    Execute orders according to schedule_function() date & time rules.\n",
    "    \"\"\"\n",
    "    \n",
    "    for symbol, open_orders in get_open_orders().items():\n",
    "        for open_order in open_orders:\n",
    "            cancel_order(open_order)\n",
    "          \n",
    "    for stock in context.divest:\n",
    "        order_target(stock, target=0)\n",
    "    \n",
    "#     log.warning('{} {:,.0f}'.format(len(context.portfolio.positions), context.portfolio.portfolio_value))\n",
    "    if not (context.longs.empty and context.shorts.empty):\n",
    "        for stock in context.shorts:\n",
    "            order_target_percent(stock, -1 / len(context.shorts))\n",
    "        for stock in context.longs:\n",
    "            order_target_percent(stock, 1 / len(context.longs))"
   ]
  },
  {
   "cell_type": "markdown",
   "metadata": {},
   "source": [
    "## Record Data Points"
   ]
  },
  {
   "cell_type": "code",
   "execution_count": null,
   "metadata": {
    "ExecuteTime": {
     "end_time": "2020-06-22T14:59:13.875845Z",
     "start_time": "2020-06-22T14:59:13.869325Z"
    }
   },
   "outputs": [],
   "source": [
    "def record_vars(context, data):\n",
    "    \"\"\"\n",
    "    Plot variables at the end of each day.\n",
    "    \"\"\"\n",
    "    record(leverage=context.account.leverage,\n",
    "           longs=context.longs,\n",
    "           shorts=context.shorts)"
   ]
  },
  {
   "cell_type": "markdown",
   "metadata": {},
   "source": [
    "## Run Algorithm"
   ]
  },
  {
   "cell_type": "code",
   "execution_count": null,
   "metadata": {
    "ExecuteTime": {
     "end_time": "2020-06-22T14:59:13.886522Z",
     "start_time": "2020-06-22T14:59:13.877333Z"
    }
   },
   "outputs": [],
   "source": [
    "dates = predictions.index.get_level_values('date')\n",
    "start_date, end_date = dates.min(), dates.max()"
   ]
  },
  {
   "cell_type": "code",
   "execution_count": null,
   "metadata": {
    "ExecuteTime": {
     "end_time": "2020-06-22T14:59:13.896731Z",
     "start_time": "2020-06-22T14:59:13.888298Z"
    }
   },
   "outputs": [],
   "source": [
    "print('Start: {}\\nEnd:   {}'.format(start_date.date(), end_date.date()))"
   ]
  },
  {
   "cell_type": "code",
   "execution_count": null,
   "metadata": {
    "ExecuteTime": {
     "end_time": "2020-06-22T15:00:02.039477Z",
     "start_time": "2020-06-22T14:59:13.897766Z"
    },
    "scrolled": false
   },
   "outputs": [],
   "source": [
    "start = time()\n",
    "results = run_algorithm(start=start_date,\n",
    "                        end=end_date,\n",
    "                        initialize=initialize,\n",
    "                        before_trading_start=before_trading_start,\n",
    "                        capital_base=1e5,\n",
    "                        data_frequency='daily',\n",
    "                        bundle='quandl',\n",
    "                        custom_loader=signal_loader)  # need to modify zipline\n",
    "\n",
    "print('Duration: {:.2f}s'.format(time() - start))"
   ]
  },
  {
   "cell_type": "markdown",
   "metadata": {},
   "source": [
    "## PyFolio Analysis"
   ]
  },
  {
   "cell_type": "code",
   "execution_count": null,
   "metadata": {
    "ExecuteTime": {
     "end_time": "2020-06-22T15:00:03.949612Z",
     "start_time": "2020-06-22T15:00:02.041609Z"
    }
   },
   "outputs": [],
   "source": [
    "returns, positions, transactions = pf.utils.extract_rets_pos_txn_from_zipline(results)"
   ]
  },
  {
   "cell_type": "code",
   "execution_count": null,
   "metadata": {
    "ExecuteTime": {
     "end_time": "2020-06-22T15:00:04.502907Z",
     "start_time": "2020-06-22T15:00:03.953262Z"
    }
   },
   "outputs": [],
   "source": [
    "benchmark = web.DataReader('SP500', 'fred', '2014', '2018').squeeze()\n",
    "benchmark = benchmark.pct_change().tz_localize('UTC')"
   ]
  },
  {
   "cell_type": "markdown",
   "metadata": {},
   "source": [
    "### Custom Plots"
   ]
  },
  {
   "cell_type": "code",
   "execution_count": null,
   "metadata": {
    "ExecuteTime": {
     "end_time": "2020-06-22T15:00:04.509346Z",
     "start_time": "2020-06-22T15:00:04.504365Z"
    }
   },
   "outputs": [],
   "source": [
    "LIVE_DATE = '2016-11-30'"
   ]
  },
  {
   "cell_type": "code",
   "execution_count": null,
   "metadata": {
    "ExecuteTime": {
     "end_time": "2020-06-22T15:04:54.625532Z",
     "start_time": "2020-06-22T15:04:53.578057Z"
    }
   },
   "outputs": [],
   "source": [
    "fig, axes = plt.subplots(ncols=2, figsize=(16, 5))\n",
    "plot_rolling_returns(returns,\n",
    "                     factor_returns=benchmark,\n",
    "                     live_start_date=LIVE_DATE,\n",
    "                     logy=False,\n",
    "                     cone_std=2,\n",
    "                     legend_loc='best',\n",
    "                     volatility_match=False,\n",
    "                     cone_function=forecast_cone_bootstrap,\n",
    "                     ax=axes[0])\n",
    "plot_rolling_sharpe(returns, ax=axes[1], rolling_window=63)\n",
    "axes[0].set_title('Cumulative Returns - In and Out-of-Sample')\n",
    "axes[1].set_title('Rolling Sharpe Ratio (3 Months)')\n",
    "sns.despine()\n",
    "fig.tight_layout()\n",
    "fig.savefig((results_path / 'pyfolio_out_of_sample').as_posix(), dpi=300)"
   ]
  },
  {
   "cell_type": "markdown",
   "metadata": {},
   "source": [
    "### Tear Sheets"
   ]
  },
  {
   "cell_type": "code",
   "execution_count": null,
   "metadata": {
    "ExecuteTime": {
     "end_time": "2020-06-22T15:06:13.576534Z",
     "start_time": "2020-06-22T15:04:57.713817Z"
    },
    "scrolled": false
   },
   "outputs": [],
   "source": [
    "pf.create_full_tear_sheet(returns, \n",
    "                          positions=positions, \n",
    "                          transactions=transactions,\n",
    "                          benchmark_rets=benchmark,\n",
    "                          live_start_date=LIVE_DATE, \n",
    "                          round_trips=True)"
   ]
  },
  {
   "cell_type": "code",
   "execution_count": null,
   "metadata": {},
   "outputs": [],
   "source": []
  }
 ],
 "metadata": {
  "kernelspec": {
   "display_name": "Python 3",
   "language": "python",
   "name": "python3"
  },
  "language_info": {
   "codemirror_mode": {
    "name": "ipython",
    "version": 3
   },
   "file_extension": ".py",
   "mimetype": "text/x-python",
   "name": "python",
   "nbconvert_exporter": "python",
   "pygments_lexer": "ipython3",
   "version": "3.8.5"
  },
  "toc": {
   "base_numbering": 1,
   "nav_menu": {},
   "number_sections": true,
   "sideBar": true,
   "skip_h1_title": true,
   "title_cell": "Table of Contents",
   "title_sidebar": "Contents",
   "toc_cell": false,
   "toc_position": {},
   "toc_section_display": true,
   "toc_window_display": true
  }
 },
 "nbformat": 4,
 "nbformat_minor": 2
}