{
 "cells": [
  {
   "cell_type": "markdown",
   "id": "narrow-blowing",
   "metadata": {},
   "source": [
    "# Digest minute crypto data (prices) and coinmarketcap (market)\n",
    "\n",
    "- https://www.bitfinex.com/\n",
    "- https://medium.com/coinmonks/how-to-get-historical-crypto-currency-data-954062d40d2d\n",
    "- https://www.kaggle.com/tencars/392-crypto-currency-pairs-at-minute-resolution\n"
   ]
  },
  {
   "cell_type": "code",
   "execution_count": 1,
   "id": "guided-theory",
   "metadata": {},
   "outputs": [],
   "source": [
    "%matplotlib inline\n",
    "\n",
    "from pathlib import Path\n",
    "import pandas as pd\n",
    "\n",
    "idx = pd.IndexSlice"
   ]
  },
  {
   "cell_type": "markdown",
   "source": [],
   "metadata": {
    "collapsed": false,
    "pycharm": {
     "name": "#%% md\n"
    }
   }
  },
  {
   "cell_type": "code",
   "execution_count": 2,
   "id": "supposed-chase",
   "metadata": {},
   "outputs": [],
   "source": [
    "\n",
    "# https://stackoverflow.com/questions/16466670/fill-nan-in-candlestick-ohlcv-data\n",
    "# https://pandas.pydata.org/pandas-docs/stable/reference/api/pandas.DataFrame.resample.html\n",
    "def nans_to_prev_close_method1(df):\n",
    "    df['volume'] = df['volume'].fillna(0.0)  # volume should always be 0 (if there were no trades in this interval)\n",
    "    df['close'] = df.fillna(method='pad')  # ie pull the last close into this close\n",
    "    # now copy the close that was pulled down from the last timestep into this row, across into o/h/l\n",
    "    df['open'] = df['open'].fillna(df['close']) \n",
    "    df['low'] = df['low'].fillna(df['close'])\n",
    "    df['high'] = df['high'].fillna(df['close'])\n",
    "    # print(df.head(10))\n",
    "    return df\n",
    "\n",
    "# \n",
    "def resample_df_ohlcv(df, timeframe='15Min'):\n",
    "    # Created a dictionary to tell Pandas how to re-sample, if this isn't in place it will re-sample each column separately\n",
    "    ohlcv_dict = {'open':'first', 'high':'max', 'low':'min', 'close': 'last', 'volume': 'sum'}\n",
    "\n",
    "    # Resample to 15Min (this format is needed) as per ohlc_dict, then remove any line with a NaN\n",
    "    df = df.resample(timeframe).agg(ohlcv_dict)\n",
    "    df = nans_to_prev_close_method1(df)\n",
    "    # Resample mixes the columns so lets re-arrange them\n",
    "    cols=['open', 'high', 'low', 'close', 'volume']  \n",
    "    df = df[cols]\n",
    "    return df\n",
    "\n",
    "\n"
   ]
  },
  {
   "cell_type": "code",
   "execution_count": 3,
   "id": "angry-financing",
   "metadata": {},
   "outputs": [],
   "source": [
    "data_path ='../data/crypto_1min/'\n",
    "\n",
    "cryptos = {\n",
    "            'btcusd':  {'symbol': 'btc', 'base': 'usd', },\n",
    "            'ethusd':  {'symbol': 'eth', 'base': 'usd', },\n",
    "            # Binance Coin\n",
    "            'xrpusd':  {'symbol': 'xrp', 'base': 'usd', },\n",
    "            'ustusd':  {'symbol': 'usdt', 'base': 'usd', },\n",
    "            'adausd':  {'symbol': 'ada', 'base': 'usd', }, # Cardano\n",
    "            'dogusd':  {'symbol': 'doge', 'base': 'usd',},\n",
    "            'dotusd':  {'symbol': 'dot', 'base': 'usd', }, # Polkadot\n",
    "            'uniusd':  {'symbol': 'uni', 'base': 'usd', },\n",
    "            'ltcusd':  {'symbol': 'ltc', 'base': 'usd', },\n",
    "            'bchnusd':  {'symbol': 'bch', 'base': 'usd', }, # Bitcoin Cash ? bch = bchn? \n",
    "            'linkusd':  {'symbol': 'link', 'base': 'usd', }, # Chainlink\n",
    "            'udcusd':  {'symbol': 'usdc', 'base': 'usd', },   # USDC\n",
    "            'vetusd':  {'symbol': 'vet', 'base': 'usd', }, # VeChain\n",
    "            'solusd':  {'symbol': 'sol', 'base': 'usd',}, # Solana\n",
    "            'xlmusd':  {'symbol': 'xlm', 'base': 'usd',}, # Stellar\n",
    "            # 'theta', \n",
    "            'filusd':  {'symbol': 'fil', 'base': 'usd',}, # filecoin\n",
    "            'okbusd': {'symbol': 'okb', 'base': 'usd'},\n",
    "            'wbtusd': {'symbol': 'wbtc', 'base': 'usd'},\n",
    "\n",
    "            'trxusd':  {'symbol': 'trx', 'base': 'usd',}, # Tron\n",
    "            # Binance USD busd\n",
    "            \n",
    "            'bsvusd': {'symbol': 'bsv', 'base': 'usd'},\n",
    "\n",
    "            'xmrusd':  {'symbol': 'xmr', 'base': 'usd',}, # Monero\n",
    "            'lunausd':  {'symbol': 'luna', 'base': 'usd',}, # Luna\n",
    "            'neousd':  {'symbol': 'neo', 'base': 'usd',}, # \n",
    "            # Klay\n",
    "            'iotusd':  {'symbol': 'miota', 'base': 'usd',}, # iota \n",
    "            'eosusd':  {'symbol': 'eos', 'base': 'usd',}, # iota \n",
    "            'atousd':  {'symbol': 'atom', 'base': 'usd',}, # cosmos \n",
    "            # 'cakusd':  {'symbol': 'cake', 'base': 'usd',}, # pancake \n",
    "            'aaveusd':  {'symbol': 'aave', 'base': 'usd',}, # aave\n",
    "            'eosusd': {'symbol': 'eos', 'base': 'usd'},\n",
    "            'etcusd': {'symbol': 'etc', 'base': 'usd'},\n",
    "            'atousd': {'symbol': 'atom', 'base': 'usd'},\n",
    "            # 'maticusd': {'symbol': '...', 'base': 'usd'},\n",
    "            # ht\n",
    "            'fttusd': {'symbol': 'ftt', 'base': 'usd'},\n",
    "            # cro\n",
    "            'bttusd': {'symbol': 'btt', 'base': 'usd'},\n",
    "            # cusd\n",
    "            'mkrusd': {'symbol': 'mkr', 'base': 'usd'},\n",
    "            # 'mkreth': {'symbol': 'mkr', 'base': 'eth'},\n",
    "            # 'mkrbtc': {'symbol': 'mkr', 'base': 'btc'},\n",
    "            'xtzusd': {'symbol': 'xtz', 'base': 'usd'},\n",
    "            # 'xtzbtc': {'symbol': 'xtz', 'base': 'btc'},\n",
    "            # ceth\n",
    "            'algusd': {'symbol': 'algo', 'base': 'usd'},\n",
    "            'avaxusd': {'symbol': 'avax', 'base': 'usd'},\n",
    "            'ksmusd': {'symbol': 'ksm', 'base': 'usd'},\n",
    "            'daiusd': {'symbol': 'dai', 'base': 'usd'},\n",
    "            # cdai\n",
    "            # dash\n",
    "            # '...usd': {'symbol': '...', 'base': 'usd'},\n",
    "            # '...usd': {'symbol': '...', 'base': 'usd'},\n",
    "            # '...usd': {'symbol': '...', 'base': 'usd'},\n",
    "            # '...usd': {'symbol': '...', 'base': 'usd'},\n",
    "            # '...usd': {'symbol': '...', 'base': 'usd'},\n",
    "            # '...usd': {'symbol': '...', 'base': 'usd'},\n",
    "            # '...usd': {'symbol': '...', 'base': 'usd'},\n",
    "            # '...usd': {'symbol': '...', 'base': 'usd'},\n",
    "            # '...usd': {'symbol': '...', 'base': 'usd'},\n",
    "            # '...usd': {'symbol': '...', 'base': 'usd'},\n",
    "            'mtnusd': {'symbol': 'mtn', 'base': 'usd'},\n",
    "            'manusd': {'symbol': 'man', 'base': 'usd'},\n",
    "\n",
    "            }\n"
   ]
  },
  {
   "cell_type": "markdown",
   "id": "initial-coral",
   "metadata": {},
   "source": [
    "<bound method IndexOpsMixin.tolist of Index(['btc', 'eth', 'bnb', 'xrp', 'usdt', 'doge', 'ada', 'dot', 'uni', 'bch',\n",
    "       'ltc', 'link', 'usdc', 'vet', 'sol', 'xlm', 'theta', 'fil', 'okb','wbtc', 'trx', 'busd',\n",
    "       'xmr', 'neo', 'luna', 'cake', 'bsv', 'aave', 'eos', 'klay', 'miota', 'etc', 'atom', \n",
    "       \n",
    "       'matic', 'ht', 'ftt', 'cro',\n",
    "       'btt', 'cusdc', 'mkr', 'comp', 'xtz', 'ceth', 'algo', 'AVAX', 'ksm',\n",
    "       'dai',\n",
    "       'cdai', 'rune', 'dash', 'xem', 'egld', 'chz', 'hot', 'zec',\n",
    "       'hbar', 'dcr', 'snx', 'enj', 'zil', 'waves', 'cel', 'leo', 'dgb',\n",
    "       'sushi', 'stx', 'amp', 'nexo', 'sc', 'ftm', 'grt', 'ust', 'near',\n",
    "       'mana', 'bat', 'yfi', 'rvn', 'btg', 'icx', 'qtum', 'hbtc', 'uma', 'hnt',\n",
    "       'zrx', 'lusd', 'nano', 'ont', 'iost', 'one', 'zen', 'bnt', 'chsb',\n",
    "       'arrr', 'ankr', 'ar', 'xvs', 'pax', 'flow', 'bake', 'kcs'],\n",
    "      dtype='object', name='symbol')>\n",
    "\n"
   ]
  },
  {
   "cell_type": "markdown",
   "id": "circular-express",
   "metadata": {},
   "source": [
    "Load minute data "
   ]
  },
  {
   "cell_type": "code",
   "execution_count": 4,
   "id": "executed-masters",
   "metadata": {},
   "outputs": [
    {
     "name": "stdout",
     "output_type": "stream",
     "text": [
      "found 38 symbol(s):\n",
      " Index(['btc', 'ltc', 'eth', 'etc', 'xmr', 'xrp', 'miota', 'eos', 'neo', 'trx',\n",
      "       'dai', 'mtn', 'xlm', 'mkr', 'man', 'vet', 'xtz', 'bsv', 'usdt', 'usdc',\n",
      "       'btt', 'atom', 'wbtc', 'okb', 'algo', 'ftt', 'doge', 'ada', 'dot',\n",
      "       'ksm', 'uni', 'fil', 'sol', 'aave', 'avax', 'bch', 'link', 'luna'],\n",
      "      dtype='object', name='symbol')\n",
      "found 1 base(s):\n",
      " Index(['usd'], dtype='object', name='base')\n",
      "\n",
      "\n",
      "\n",
      "RESULTING DF: \n",
      "<class 'pandas.core.frame.DataFrame'>\n",
      "MultiIndex: 3261244 entries, (Timestamp('2013-04-01 00:00:00'), 'btc-usd', 'btc', 'usd') to (Timestamp('2021-05-18 07:00:00'), 'sol-usd', 'sol', 'usd')\n",
      "Data columns (total 5 columns):\n",
      " #   Column  Dtype  \n",
      "---  ------  -----  \n",
      " 0   open    float64\n",
      " 1   high    float64\n",
      " 2   low     float64\n",
      " 3   close   float64\n",
      " 4   volume  float64\n",
      "dtypes: float64(5)\n",
      "memory usage: 156.4+ MB\n",
      "None\n",
      "Index(['btc', 'ltc', 'eth', 'etc', 'xmr', 'xrp', 'miota', 'eos', 'neo', 'trx',\n",
      "       'dai', 'mtn', 'xlm', 'mkr', 'man', 'vet', 'xtz', 'bsv', 'usdt', 'usdc',\n",
      "       'btt', 'atom', 'wbtc', 'okb', 'algo', 'ftt', 'doge', 'ada', 'dot',\n",
      "       'ksm', 'uni', 'fil', 'sol', 'aave', 'avax', 'bch', 'link', 'luna'],\n",
      "      dtype='object', name='symbol')\n"
     ]
    }
   ],
   "source": [
    "def three_spaces():\n",
    "    print(\"\")\n",
    "    print(\"\")\n",
    "    print(\"\")\n",
    "\n",
    "def data_from_folder(csv_path, cryptos):\n",
    "    \n",
    "    prices = []\n",
    "    for symbol_key, symbol_dict in cryptos.items():\n",
    "        file_path = data_path + symbol_key + \".csv\"\n",
    "        file_path = Path(file_path)\n",
    "        df = pd.read_csv(file_path) # read the csv \n",
    "        df['date'] = df['time'].values.astype(dtype='datetime64[ms]') # for msec format   \n",
    "        df.drop(df.filter(regex=\"time\"),axis=1, inplace=True) # otherwise time row is left behind as \"time\"\n",
    "        df.set_index(['date'], inplace=True)\n",
    "\n",
    "        # resample to desired frequency\n",
    "        df = resample_df_ohlcv(df, '15Min')\n",
    "        df['ticker'] = symbol_dict['symbol'] + '-' + symbol_dict['base']\n",
    "        df['symbol'] = symbol_dict['symbol'] # get a symbol column\n",
    "        df['base'] = symbol_dict['base'] # get a base column\n",
    "        df.set_index(['ticker', 'symbol', 'base'], inplace=True, append=True)\n",
    "\n",
    "        df.sort_index(inplace=True)\n",
    "        df.drop(df.filter(regex=\"Unname\"),axis=1, inplace=True) # otherwise index row is left behind as \"unnamed\"\n",
    "        prices.append(df)\n",
    "    prices = pd.concat(prices)\n",
    "    \n",
    "    prices.sort_index(inplace=True)\n",
    "    print(\"found {} symbol(s):\\n {}\".format(len(prices.index.get_level_values('symbol').unique()),\n",
    "                                          prices.index.get_level_values('symbol').unique()))\n",
    "    print(\"found {} base(s):\\n {}\".format(len(prices.index.get_level_values('base').unique()),\n",
    "                                       prices.index.get_level_values('base').unique()))\n",
    "    return prices\n",
    "\n",
    "\n",
    "prices = data_from_folder(data_path, cryptos)\n",
    "three_spaces()\n",
    "print('RESULTING DF: ')\n",
    "print(prices.info())\n",
    "\n",
    "print(prices.index.get_level_values('symbol').unique())"
   ]
  },
  {
   "cell_type": "code",
   "execution_count": 5,
   "id": "functional-decimal",
   "metadata": {},
   "outputs": [
    {
     "data": {
      "text/plain": "                                             open       high       low  \\\ndate                ticker  symbol base                                  \n2013-04-01 00:00:00 btc-usd btc    usd   93.25000  100.00000  93.03000   \n2013-04-01 00:15:00 btc-usd btc    usd   93.04399   93.35000  93.04399   \n2013-04-01 00:30:00 btc-usd btc    usd   93.19999   93.35000  93.19999   \n2013-04-01 00:45:00 btc-usd btc    usd   93.25000   93.30000  93.10000   \n2013-04-01 01:00:00 btc-usd btc    usd   93.37999   93.48797  93.20000   \n2013-04-01 01:15:00 btc-usd btc    usd   93.48470   93.48470  93.40001   \n2013-04-01 01:30:00 btc-usd btc    usd   93.10001   93.10001  93.10000   \n2013-04-01 01:45:00 btc-usd btc    usd   93.10001   93.10001  93.10001   \n2013-04-01 02:00:00 btc-usd btc    usd   93.17000   93.29000  93.16999   \n2013-04-01 02:15:00 btc-usd btc    usd   93.10999   93.10999  93.10999   \n\n                                            close      volume  \ndate                ticker  symbol base                        \n2013-04-01 00:00:00 btc-usd btc    usd   93.25000  247.283889  \n2013-04-01 00:15:00 btc-usd btc    usd   93.04399   17.689501  \n2013-04-01 00:30:00 btc-usd btc    usd   93.19999   40.000000  \n2013-04-01 00:45:00 btc-usd btc    usd   93.25000   40.610499  \n2013-04-01 01:00:00 btc-usd btc    usd   93.37999   23.510608  \n2013-04-01 01:15:00 btc-usd btc    usd   93.48470   19.460000  \n2013-04-01 01:30:00 btc-usd btc    usd   93.10001    2.272727  \n2013-04-01 01:45:00 btc-usd btc    usd   93.10001    0.000000  \n2013-04-01 02:00:00 btc-usd btc    usd   93.17000   10.627600  \n2013-04-01 02:15:00 btc-usd btc    usd   93.10999    0.433820  ",
      "text/html": "<div>\n<style scoped>\n    .dataframe tbody tr th:only-of-type {\n        vertical-align: middle;\n    }\n\n    .dataframe tbody tr th {\n        vertical-align: top;\n    }\n\n    .dataframe thead th {\n        text-align: right;\n    }\n</style>\n<table border=\"1\" class=\"dataframe\">\n  <thead>\n    <tr style=\"text-align: right;\">\n      <th></th>\n      <th></th>\n      <th></th>\n      <th></th>\n      <th>open</th>\n      <th>high</th>\n      <th>low</th>\n      <th>close</th>\n      <th>volume</th>\n    </tr>\n    <tr>\n      <th>date</th>\n      <th>ticker</th>\n      <th>symbol</th>\n      <th>base</th>\n      <th></th>\n      <th></th>\n      <th></th>\n      <th></th>\n      <th></th>\n    </tr>\n  </thead>\n  <tbody>\n    <tr>\n      <th>2013-04-01 00:00:00</th>\n      <th>btc-usd</th>\n      <th>btc</th>\n      <th>usd</th>\n      <td>93.25000</td>\n      <td>100.00000</td>\n      <td>93.03000</td>\n      <td>93.25000</td>\n      <td>247.283889</td>\n    </tr>\n    <tr>\n      <th>2013-04-01 00:15:00</th>\n      <th>btc-usd</th>\n      <th>btc</th>\n      <th>usd</th>\n      <td>93.04399</td>\n      <td>93.35000</td>\n      <td>93.04399</td>\n      <td>93.04399</td>\n      <td>17.689501</td>\n    </tr>\n    <tr>\n      <th>2013-04-01 00:30:00</th>\n      <th>btc-usd</th>\n      <th>btc</th>\n      <th>usd</th>\n      <td>93.19999</td>\n      <td>93.35000</td>\n      <td>93.19999</td>\n      <td>93.19999</td>\n      <td>40.000000</td>\n    </tr>\n    <tr>\n      <th>2013-04-01 00:45:00</th>\n      <th>btc-usd</th>\n      <th>btc</th>\n      <th>usd</th>\n      <td>93.25000</td>\n      <td>93.30000</td>\n      <td>93.10000</td>\n      <td>93.25000</td>\n      <td>40.610499</td>\n    </tr>\n    <tr>\n      <th>2013-04-01 01:00:00</th>\n      <th>btc-usd</th>\n      <th>btc</th>\n      <th>usd</th>\n      <td>93.37999</td>\n      <td>93.48797</td>\n      <td>93.20000</td>\n      <td>93.37999</td>\n      <td>23.510608</td>\n    </tr>\n    <tr>\n      <th>2013-04-01 01:15:00</th>\n      <th>btc-usd</th>\n      <th>btc</th>\n      <th>usd</th>\n      <td>93.48470</td>\n      <td>93.48470</td>\n      <td>93.40001</td>\n      <td>93.48470</td>\n      <td>19.460000</td>\n    </tr>\n    <tr>\n      <th>2013-04-01 01:30:00</th>\n      <th>btc-usd</th>\n      <th>btc</th>\n      <th>usd</th>\n      <td>93.10001</td>\n      <td>93.10001</td>\n      <td>93.10000</td>\n      <td>93.10001</td>\n      <td>2.272727</td>\n    </tr>\n    <tr>\n      <th>2013-04-01 01:45:00</th>\n      <th>btc-usd</th>\n      <th>btc</th>\n      <th>usd</th>\n      <td>93.10001</td>\n      <td>93.10001</td>\n      <td>93.10001</td>\n      <td>93.10001</td>\n      <td>0.000000</td>\n    </tr>\n    <tr>\n      <th>2013-04-01 02:00:00</th>\n      <th>btc-usd</th>\n      <th>btc</th>\n      <th>usd</th>\n      <td>93.17000</td>\n      <td>93.29000</td>\n      <td>93.16999</td>\n      <td>93.17000</td>\n      <td>10.627600</td>\n    </tr>\n    <tr>\n      <th>2013-04-01 02:15:00</th>\n      <th>btc-usd</th>\n      <th>btc</th>\n      <th>usd</th>\n      <td>93.10999</td>\n      <td>93.10999</td>\n      <td>93.10999</td>\n      <td>93.10999</td>\n      <td>0.433820</td>\n    </tr>\n  </tbody>\n</table>\n</div>"
     },
     "execution_count": 5,
     "metadata": {},
     "output_type": "execute_result"
    }
   ],
   "source": [
    "prices.head(10)"
   ]
  },
  {
   "cell_type": "code",
   "execution_count": 6,
   "id": "young-extra",
   "metadata": {},
   "outputs": [
    {
     "data": {
      "text/plain": "                                             open     high      low    close  \\\ndate                ticker   symbol base                                       \n2021-05-18 06:45:00 dot-usd  dot    usd    40.913   40.957   40.913   40.913   \n                    fil-usd  fil    usd   104.680  104.680  103.570  104.680   \n                    ksm-usd  ksm    usd   606.210  606.210  606.210  606.210   \n                    link-usd link   usd    39.995   40.155   39.995   39.995   \n                    luna-usd luna   usd    15.434   15.480   15.337   15.434   \n                    sol-usd  sol    usd    50.506   50.661   50.163   50.506   \n                    uni-usd  uni    usd    36.099   36.099   36.000   36.099   \n2021-05-18 07:00:00 aave-usd aave   usd   647.820  647.820  647.820  647.820   \n                    luna-usd luna   usd    15.376   15.448   15.376   15.376   \n                    sol-usd  sol    usd    50.304   50.304   50.301   50.304   \n\n                                               volume  \ndate                ticker   symbol base               \n2021-05-18 06:45:00 dot-usd  dot    usd    169.377490  \n                    fil-usd  fil    usd     18.480281  \n                    ksm-usd  ksm    usd      0.040000  \n                    link-usd link   usd    327.238809  \n                    luna-usd luna   usd   1607.956385  \n                    sol-usd  sol    usd   1442.344018  \n                    uni-usd  uni    usd      1.333727  \n2021-05-18 07:00:00 aave-usd aave   usd      0.013275  \n                    luna-usd luna   usd   1829.802952  \n                    sol-usd  sol    usd     36.807817  ",
      "text/html": "<div>\n<style scoped>\n    .dataframe tbody tr th:only-of-type {\n        vertical-align: middle;\n    }\n\n    .dataframe tbody tr th {\n        vertical-align: top;\n    }\n\n    .dataframe thead th {\n        text-align: right;\n    }\n</style>\n<table border=\"1\" class=\"dataframe\">\n  <thead>\n    <tr style=\"text-align: right;\">\n      <th></th>\n      <th></th>\n      <th></th>\n      <th></th>\n      <th>open</th>\n      <th>high</th>\n      <th>low</th>\n      <th>close</th>\n      <th>volume</th>\n    </tr>\n    <tr>\n      <th>date</th>\n      <th>ticker</th>\n      <th>symbol</th>\n      <th>base</th>\n      <th></th>\n      <th></th>\n      <th></th>\n      <th></th>\n      <th></th>\n    </tr>\n  </thead>\n  <tbody>\n    <tr>\n      <th rowspan=\"7\" valign=\"top\">2021-05-18 06:45:00</th>\n      <th>dot-usd</th>\n      <th>dot</th>\n      <th>usd</th>\n      <td>40.913</td>\n      <td>40.957</td>\n      <td>40.913</td>\n      <td>40.913</td>\n      <td>169.377490</td>\n    </tr>\n    <tr>\n      <th>fil-usd</th>\n      <th>fil</th>\n      <th>usd</th>\n      <td>104.680</td>\n      <td>104.680</td>\n      <td>103.570</td>\n      <td>104.680</td>\n      <td>18.480281</td>\n    </tr>\n    <tr>\n      <th>ksm-usd</th>\n      <th>ksm</th>\n      <th>usd</th>\n      <td>606.210</td>\n      <td>606.210</td>\n      <td>606.210</td>\n      <td>606.210</td>\n      <td>0.040000</td>\n    </tr>\n    <tr>\n      <th>link-usd</th>\n      <th>link</th>\n      <th>usd</th>\n      <td>39.995</td>\n      <td>40.155</td>\n      <td>39.995</td>\n      <td>39.995</td>\n      <td>327.238809</td>\n    </tr>\n    <tr>\n      <th>luna-usd</th>\n      <th>luna</th>\n      <th>usd</th>\n      <td>15.434</td>\n      <td>15.480</td>\n      <td>15.337</td>\n      <td>15.434</td>\n      <td>1607.956385</td>\n    </tr>\n    <tr>\n      <th>sol-usd</th>\n      <th>sol</th>\n      <th>usd</th>\n      <td>50.506</td>\n      <td>50.661</td>\n      <td>50.163</td>\n      <td>50.506</td>\n      <td>1442.344018</td>\n    </tr>\n    <tr>\n      <th>uni-usd</th>\n      <th>uni</th>\n      <th>usd</th>\n      <td>36.099</td>\n      <td>36.099</td>\n      <td>36.000</td>\n      <td>36.099</td>\n      <td>1.333727</td>\n    </tr>\n    <tr>\n      <th rowspan=\"3\" valign=\"top\">2021-05-18 07:00:00</th>\n      <th>aave-usd</th>\n      <th>aave</th>\n      <th>usd</th>\n      <td>647.820</td>\n      <td>647.820</td>\n      <td>647.820</td>\n      <td>647.820</td>\n      <td>0.013275</td>\n    </tr>\n    <tr>\n      <th>luna-usd</th>\n      <th>luna</th>\n      <th>usd</th>\n      <td>15.376</td>\n      <td>15.448</td>\n      <td>15.376</td>\n      <td>15.376</td>\n      <td>1829.802952</td>\n    </tr>\n    <tr>\n      <th>sol-usd</th>\n      <th>sol</th>\n      <th>usd</th>\n      <td>50.304</td>\n      <td>50.304</td>\n      <td>50.301</td>\n      <td>50.304</td>\n      <td>36.807817</td>\n    </tr>\n  </tbody>\n</table>\n</div>"
     },
     "execution_count": 6,
     "metadata": {},
     "output_type": "execute_result"
    }
   ],
   "source": [
    "prices.tail(10)"
   ]
  },
  {
   "cell_type": "code",
   "execution_count": 7,
   "id": "induced-scott",
   "metadata": {},
   "outputs": [
    {
     "name": "stdout",
     "output_type": "stream",
     "text": [
      "done\n"
     ]
    }
   ],
   "source": [
    "DATA_STORE = '../data/crypto.h5'\n",
    "with pd.HDFStore(DATA_STORE) as store:\n",
    "    store.put('crypto/caggle/prices', prices)\n",
    "print(\"done\")\n"
   ]
  },
  {
   "cell_type": "markdown",
   "id": "friendly-wireless",
   "metadata": {},
   "source": [
    "https://zaxrosenberg.com/pandas-multiindex-tutorial/\n"
   ]
  },
  {
   "cell_type": "code",
   "execution_count": 8,
   "id": "attractive-upgrade",
   "metadata": {},
   "outputs": [
    {
     "data": {
      "text/plain": "Index(['btc', 'ltc', 'eth', 'etc', 'xmr', 'xrp', 'miota', 'eos', 'neo', 'trx',\n       'dai', 'mtn', 'xlm', 'mkr', 'man', 'vet', 'xtz', 'bsv', 'usdt', 'usdc',\n       'btt', 'atom', 'wbtc', 'okb', 'algo', 'ftt', 'doge', 'ada', 'dot',\n       'ksm', 'uni', 'fil', 'sol', 'aave', 'avax', 'bch', 'link', 'luna'],\n      dtype='object', name='symbol')"
     },
     "execution_count": 8,
     "metadata": {},
     "output_type": "execute_result"
    }
   ],
   "source": [
    "prices.index.get_level_values('symbol').unique()"
   ]
  },
  {
   "cell_type": "code",
   "execution_count": 9,
   "id": "accomplished-father",
   "metadata": {},
   "outputs": [
    {
     "data": {
      "text/plain": "                                                 open         high  \\\ndate                ticker   symbol base                             \n2021-01-01 00:00:00 ada-usd  ada    usd       0.18110      0.18110   \n                    algo-usd algo   usd       0.33618      0.33803   \n                    atom-usd atom   usd       6.44000      6.44000   \n                    bsv-usd  bsv    usd     163.28000    163.28000   \n                    btc-usd  btc    usd   28939.00000  29033.00000   \n...                                               ...          ...   \n2021-05-18 06:45:00 sol-usd  sol    usd      50.50600     50.66100   \n                    uni-usd  uni    usd      36.09900     36.09900   \n2021-05-18 07:00:00 aave-usd aave   usd     647.82000    647.82000   \n                    luna-usd luna   usd      15.37600     15.44800   \n                    sol-usd  sol    usd      50.30400     50.30400   \n\n                                                  low        close  \\\ndate                ticker   symbol base                             \n2021-01-01 00:00:00 ada-usd  ada    usd       0.17850      0.18110   \n                    algo-usd algo   usd       0.33304      0.33618   \n                    atom-usd atom   usd       6.29790      6.44000   \n                    bsv-usd  bsv    usd     162.21000    163.28000   \n                    btc-usd  btc    usd   28716.00000  28939.00000   \n...                                               ...          ...   \n2021-05-18 06:45:00 sol-usd  sol    usd      50.16300     50.50600   \n                    uni-usd  uni    usd      36.00000     36.09900   \n2021-05-18 07:00:00 aave-usd aave   usd     647.82000    647.82000   \n                    luna-usd luna   usd      15.37600     15.37600   \n                    sol-usd  sol    usd      50.30100     50.30400   \n\n                                                volume  \ndate                ticker   symbol base                \n2021-01-01 00:00:00 ada-usd  ada    usd   30101.807514  \n                    algo-usd algo   usd    1783.782902  \n                    atom-usd atom   usd    2028.048830  \n                    bsv-usd  bsv    usd       1.099935  \n                    btc-usd  btc    usd     150.194677  \n...                                                ...  \n2021-05-18 06:45:00 sol-usd  sol    usd    1442.344018  \n                    uni-usd  uni    usd       1.333727  \n2021-05-18 07:00:00 aave-usd aave   usd       0.013275  \n                    luna-usd luna   usd    1829.802952  \n                    sol-usd  sol    usd      36.807817  \n\n[414978 rows x 5 columns]",
      "text/html": "<div>\n<style scoped>\n    .dataframe tbody tr th:only-of-type {\n        vertical-align: middle;\n    }\n\n    .dataframe tbody tr th {\n        vertical-align: top;\n    }\n\n    .dataframe thead th {\n        text-align: right;\n    }\n</style>\n<table border=\"1\" class=\"dataframe\">\n  <thead>\n    <tr style=\"text-align: right;\">\n      <th></th>\n      <th></th>\n      <th></th>\n      <th></th>\n      <th>open</th>\n      <th>high</th>\n      <th>low</th>\n      <th>close</th>\n      <th>volume</th>\n    </tr>\n    <tr>\n      <th>date</th>\n      <th>ticker</th>\n      <th>symbol</th>\n      <th>base</th>\n      <th></th>\n      <th></th>\n      <th></th>\n      <th></th>\n      <th></th>\n    </tr>\n  </thead>\n  <tbody>\n    <tr>\n      <th rowspan=\"5\" valign=\"top\">2021-01-01 00:00:00</th>\n      <th>ada-usd</th>\n      <th>ada</th>\n      <th>usd</th>\n      <td>0.18110</td>\n      <td>0.18110</td>\n      <td>0.17850</td>\n      <td>0.18110</td>\n      <td>30101.807514</td>\n    </tr>\n    <tr>\n      <th>algo-usd</th>\n      <th>algo</th>\n      <th>usd</th>\n      <td>0.33618</td>\n      <td>0.33803</td>\n      <td>0.33304</td>\n      <td>0.33618</td>\n      <td>1783.782902</td>\n    </tr>\n    <tr>\n      <th>atom-usd</th>\n      <th>atom</th>\n      <th>usd</th>\n      <td>6.44000</td>\n      <td>6.44000</td>\n      <td>6.29790</td>\n      <td>6.44000</td>\n      <td>2028.048830</td>\n    </tr>\n    <tr>\n      <th>bsv-usd</th>\n      <th>bsv</th>\n      <th>usd</th>\n      <td>163.28000</td>\n      <td>163.28000</td>\n      <td>162.21000</td>\n      <td>163.28000</td>\n      <td>1.099935</td>\n    </tr>\n    <tr>\n      <th>btc-usd</th>\n      <th>btc</th>\n      <th>usd</th>\n      <td>28939.00000</td>\n      <td>29033.00000</td>\n      <td>28716.00000</td>\n      <td>28939.00000</td>\n      <td>150.194677</td>\n    </tr>\n    <tr>\n      <th>...</th>\n      <th>...</th>\n      <th>...</th>\n      <th>...</th>\n      <td>...</td>\n      <td>...</td>\n      <td>...</td>\n      <td>...</td>\n      <td>...</td>\n    </tr>\n    <tr>\n      <th rowspan=\"2\" valign=\"top\">2021-05-18 06:45:00</th>\n      <th>sol-usd</th>\n      <th>sol</th>\n      <th>usd</th>\n      <td>50.50600</td>\n      <td>50.66100</td>\n      <td>50.16300</td>\n      <td>50.50600</td>\n      <td>1442.344018</td>\n    </tr>\n    <tr>\n      <th>uni-usd</th>\n      <th>uni</th>\n      <th>usd</th>\n      <td>36.09900</td>\n      <td>36.09900</td>\n      <td>36.00000</td>\n      <td>36.09900</td>\n      <td>1.333727</td>\n    </tr>\n    <tr>\n      <th rowspan=\"3\" valign=\"top\">2021-05-18 07:00:00</th>\n      <th>aave-usd</th>\n      <th>aave</th>\n      <th>usd</th>\n      <td>647.82000</td>\n      <td>647.82000</td>\n      <td>647.82000</td>\n      <td>647.82000</td>\n      <td>0.013275</td>\n    </tr>\n    <tr>\n      <th>luna-usd</th>\n      <th>luna</th>\n      <th>usd</th>\n      <td>15.37600</td>\n      <td>15.44800</td>\n      <td>15.37600</td>\n      <td>15.37600</td>\n      <td>1829.802952</td>\n    </tr>\n    <tr>\n      <th>sol-usd</th>\n      <th>sol</th>\n      <th>usd</th>\n      <td>50.30400</td>\n      <td>50.30400</td>\n      <td>50.30100</td>\n      <td>50.30400</td>\n      <td>36.807817</td>\n    </tr>\n  </tbody>\n</table>\n<p>414978 rows × 5 columns</p>\n</div>"
     },
     "execution_count": 9,
     "metadata": {},
     "output_type": "execute_result"
    }
   ],
   "source": [
    "# inplace\n",
    "idx = pd.IndexSlice\n",
    "prices.loc[idx['2021']]"
   ]
  },
  {
   "cell_type": "code",
   "execution_count": 10,
   "id": "expected-newsletter",
   "metadata": {},
   "outputs": [
    {
     "data": {
      "text/plain": "                                      open       high       low     close  \\\ndate                ticker  base                                            \n2013-04-01 00:00:00 btc-usd usd   93.25000  100.00000  93.03000  93.25000   \n2013-04-01 00:15:00 btc-usd usd   93.04399   93.35000  93.04399  93.04399   \n2013-04-01 00:30:00 btc-usd usd   93.19999   93.35000  93.19999  93.19999   \n2013-04-01 00:45:00 btc-usd usd   93.25000   93.30000  93.10000  93.25000   \n2013-04-01 01:00:00 btc-usd usd   93.37999   93.48797  93.20000  93.37999   \n2013-04-01 01:15:00 btc-usd usd   93.48470   93.48470  93.40001  93.48470   \n2013-04-01 01:30:00 btc-usd usd   93.10001   93.10001  93.10000  93.10001   \n2013-04-01 01:45:00 btc-usd usd   93.10001   93.10001  93.10001  93.10001   \n2013-04-01 02:00:00 btc-usd usd   93.17000   93.29000  93.16999  93.17000   \n2013-04-01 02:15:00 btc-usd usd   93.10999   93.10999  93.10999  93.10999   \n\n                                      volume  \ndate                ticker  base              \n2013-04-01 00:00:00 btc-usd usd   247.283889  \n2013-04-01 00:15:00 btc-usd usd    17.689501  \n2013-04-01 00:30:00 btc-usd usd    40.000000  \n2013-04-01 00:45:00 btc-usd usd    40.610499  \n2013-04-01 01:00:00 btc-usd usd    23.510608  \n2013-04-01 01:15:00 btc-usd usd    19.460000  \n2013-04-01 01:30:00 btc-usd usd     2.272727  \n2013-04-01 01:45:00 btc-usd usd     0.000000  \n2013-04-01 02:00:00 btc-usd usd    10.627600  \n2013-04-01 02:15:00 btc-usd usd     0.433820  ",
      "text/html": "<div>\n<style scoped>\n    .dataframe tbody tr th:only-of-type {\n        vertical-align: middle;\n    }\n\n    .dataframe tbody tr th {\n        vertical-align: top;\n    }\n\n    .dataframe thead th {\n        text-align: right;\n    }\n</style>\n<table border=\"1\" class=\"dataframe\">\n  <thead>\n    <tr style=\"text-align: right;\">\n      <th></th>\n      <th></th>\n      <th></th>\n      <th>open</th>\n      <th>high</th>\n      <th>low</th>\n      <th>close</th>\n      <th>volume</th>\n    </tr>\n    <tr>\n      <th>date</th>\n      <th>ticker</th>\n      <th>base</th>\n      <th></th>\n      <th></th>\n      <th></th>\n      <th></th>\n      <th></th>\n    </tr>\n  </thead>\n  <tbody>\n    <tr>\n      <th>2013-04-01 00:00:00</th>\n      <th>btc-usd</th>\n      <th>usd</th>\n      <td>93.25000</td>\n      <td>100.00000</td>\n      <td>93.03000</td>\n      <td>93.25000</td>\n      <td>247.283889</td>\n    </tr>\n    <tr>\n      <th>2013-04-01 00:15:00</th>\n      <th>btc-usd</th>\n      <th>usd</th>\n      <td>93.04399</td>\n      <td>93.35000</td>\n      <td>93.04399</td>\n      <td>93.04399</td>\n      <td>17.689501</td>\n    </tr>\n    <tr>\n      <th>2013-04-01 00:30:00</th>\n      <th>btc-usd</th>\n      <th>usd</th>\n      <td>93.19999</td>\n      <td>93.35000</td>\n      <td>93.19999</td>\n      <td>93.19999</td>\n      <td>40.000000</td>\n    </tr>\n    <tr>\n      <th>2013-04-01 00:45:00</th>\n      <th>btc-usd</th>\n      <th>usd</th>\n      <td>93.25000</td>\n      <td>93.30000</td>\n      <td>93.10000</td>\n      <td>93.25000</td>\n      <td>40.610499</td>\n    </tr>\n    <tr>\n      <th>2013-04-01 01:00:00</th>\n      <th>btc-usd</th>\n      <th>usd</th>\n      <td>93.37999</td>\n      <td>93.48797</td>\n      <td>93.20000</td>\n      <td>93.37999</td>\n      <td>23.510608</td>\n    </tr>\n    <tr>\n      <th>2013-04-01 01:15:00</th>\n      <th>btc-usd</th>\n      <th>usd</th>\n      <td>93.48470</td>\n      <td>93.48470</td>\n      <td>93.40001</td>\n      <td>93.48470</td>\n      <td>19.460000</td>\n    </tr>\n    <tr>\n      <th>2013-04-01 01:30:00</th>\n      <th>btc-usd</th>\n      <th>usd</th>\n      <td>93.10001</td>\n      <td>93.10001</td>\n      <td>93.10000</td>\n      <td>93.10001</td>\n      <td>2.272727</td>\n    </tr>\n    <tr>\n      <th>2013-04-01 01:45:00</th>\n      <th>btc-usd</th>\n      <th>usd</th>\n      <td>93.10001</td>\n      <td>93.10001</td>\n      <td>93.10001</td>\n      <td>93.10001</td>\n      <td>0.000000</td>\n    </tr>\n    <tr>\n      <th>2013-04-01 02:00:00</th>\n      <th>btc-usd</th>\n      <th>usd</th>\n      <td>93.17000</td>\n      <td>93.29000</td>\n      <td>93.16999</td>\n      <td>93.17000</td>\n      <td>10.627600</td>\n    </tr>\n    <tr>\n      <th>2013-04-01 02:15:00</th>\n      <th>btc-usd</th>\n      <th>usd</th>\n      <td>93.10999</td>\n      <td>93.10999</td>\n      <td>93.10999</td>\n      <td>93.10999</td>\n      <td>0.433820</td>\n    </tr>\n  </tbody>\n</table>\n</div>"
     },
     "execution_count": 10,
     "metadata": {},
     "output_type": "execute_result"
    }
   ],
   "source": [
    "# copies.. \n",
    "prices.xs('btc', level='symbol').head(10)"
   ]
  },
  {
   "cell_type": "code",
   "execution_count": 11,
   "id": "essential-forth",
   "metadata": {},
   "outputs": [
    {
     "data": {
      "text/plain": "           open    high     low   close      volume\nticker                                             \nbtc-usd  415.63  415.68  413.65  415.63  430.090239\nbtc-usd  414.11  414.56  414.11  414.11   53.036204\nbtc-usd  414.51  414.51  412.56  414.51  186.233079\nbtc-usd  413.00  414.00  412.92  413.00   57.181922\nbtc-usd  413.85  414.51  413.85  413.85  139.705708\nbtc-usd  414.51  414.51  413.68  414.51   75.307261\nbtc-usd  414.39  415.63  414.37  414.39  139.019006\nbtc-usd  414.52  416.79  414.51  414.52  475.344517\nbtc-usd  416.58  417.25  416.03  416.58  482.812425\nbtc-usd  417.17  417.79  417.00  417.17  174.598849\nbtc-usd  417.13  418.00  417.00  417.13  184.989685\nbtc-usd  417.44  418.39  417.25  417.44  107.799754\nbtc-usd  418.34  418.45  417.00  418.34  242.195430\nbtc-usd  417.75  419.45  417.74  417.75  595.534673\nbtc-usd  418.16  418.16  417.18  418.16  132.758543\nbtc-usd  417.98  418.65  416.50  417.98  119.813807\nbtc-usd  418.30  419.37  418.30  418.30  233.242221\nbtc-usd  418.86  420.83  418.85  418.86  559.660322\nbtc-usd  420.67  421.00  420.55  420.67  261.992254\nbtc-usd  420.97  421.00  418.26  420.97  497.616475\nbtc-usd  419.00  419.00  414.90  419.00  643.750347\nbtc-usd  416.00  418.00  416.00  416.00  294.458050\nbtc-usd  417.60  418.71  417.26  417.60  134.464509\nbtc-usd  417.45  417.80  415.97  417.45  195.200021\nbtc-usd  416.71  417.44  416.71  416.71   89.705375\nbtc-usd  417.19  417.23  413.78  417.19  469.534331\nbtc-usd  416.10  416.49  414.88  416.10  139.352606\nbtc-usd  416.39  417.27  416.39  416.39   43.564230\nbtc-usd  417.15  417.77  417.15  417.15   53.237924\nbtc-usd  417.74  417.98  417.17  417.74  112.782221\nbtc-usd  417.45  417.90  416.67  417.45  171.022529\nbtc-usd  417.26  417.26  413.33  417.26  375.600523\nbtc-usd  415.00  416.50  414.77  415.00  372.033508\nbtc-usd  415.69  416.17  414.77  415.69  122.125614\nbtc-usd  415.19  415.19  414.30  415.19  216.693031\nbtc-usd  415.08  415.30  414.97  415.08  143.339093\nbtc-usd  415.29  415.54  415.29  415.29   61.465811\nbtc-usd  415.54  415.60  415.00  415.54   45.124807\nbtc-usd  415.53  415.70  415.22  415.53   30.478355\nbtc-usd  415.70  415.70  411.67  415.70  548.279255\nbtc-usd  411.82  413.42  411.45  411.82  744.778386\nbtc-usd  412.99  413.50  411.46  412.99  497.226523\nbtc-usd  413.35  413.49  412.67  413.35  116.355825\nbtc-usd  413.48  413.50  413.03  413.48  106.359790\nbtc-usd  413.21  413.49  411.74  413.21  206.030019\nbtc-usd  412.70  413.37  411.09  412.70  238.491859\nbtc-usd  411.20  412.53  411.20  411.20  134.579229\nbtc-usd  411.80  413.50  411.77  411.80  139.580592",
      "text/html": "<div>\n<style scoped>\n    .dataframe tbody tr th:only-of-type {\n        vertical-align: middle;\n    }\n\n    .dataframe tbody tr th {\n        vertical-align: top;\n    }\n\n    .dataframe thead th {\n        text-align: right;\n    }\n</style>\n<table border=\"1\" class=\"dataframe\">\n  <thead>\n    <tr style=\"text-align: right;\">\n      <th></th>\n      <th>open</th>\n      <th>high</th>\n      <th>low</th>\n      <th>close</th>\n      <th>volume</th>\n    </tr>\n    <tr>\n      <th>ticker</th>\n      <th></th>\n      <th></th>\n      <th></th>\n      <th></th>\n      <th></th>\n    </tr>\n  </thead>\n  <tbody>\n    <tr>\n      <th>btc-usd</th>\n      <td>415.63</td>\n      <td>415.68</td>\n      <td>413.65</td>\n      <td>415.63</td>\n      <td>430.090239</td>\n    </tr>\n    <tr>\n      <th>btc-usd</th>\n      <td>414.11</td>\n      <td>414.56</td>\n      <td>414.11</td>\n      <td>414.11</td>\n      <td>53.036204</td>\n    </tr>\n    <tr>\n      <th>btc-usd</th>\n      <td>414.51</td>\n      <td>414.51</td>\n      <td>412.56</td>\n      <td>414.51</td>\n      <td>186.233079</td>\n    </tr>\n    <tr>\n      <th>btc-usd</th>\n      <td>413.00</td>\n      <td>414.00</td>\n      <td>412.92</td>\n      <td>413.00</td>\n      <td>57.181922</td>\n    </tr>\n    <tr>\n      <th>btc-usd</th>\n      <td>413.85</td>\n      <td>414.51</td>\n      <td>413.85</td>\n      <td>413.85</td>\n      <td>139.705708</td>\n    </tr>\n    <tr>\n      <th>btc-usd</th>\n      <td>414.51</td>\n      <td>414.51</td>\n      <td>413.68</td>\n      <td>414.51</td>\n      <td>75.307261</td>\n    </tr>\n    <tr>\n      <th>btc-usd</th>\n      <td>414.39</td>\n      <td>415.63</td>\n      <td>414.37</td>\n      <td>414.39</td>\n      <td>139.019006</td>\n    </tr>\n    <tr>\n      <th>btc-usd</th>\n      <td>414.52</td>\n      <td>416.79</td>\n      <td>414.51</td>\n      <td>414.52</td>\n      <td>475.344517</td>\n    </tr>\n    <tr>\n      <th>btc-usd</th>\n      <td>416.58</td>\n      <td>417.25</td>\n      <td>416.03</td>\n      <td>416.58</td>\n      <td>482.812425</td>\n    </tr>\n    <tr>\n      <th>btc-usd</th>\n      <td>417.17</td>\n      <td>417.79</td>\n      <td>417.00</td>\n      <td>417.17</td>\n      <td>174.598849</td>\n    </tr>\n    <tr>\n      <th>btc-usd</th>\n      <td>417.13</td>\n      <td>418.00</td>\n      <td>417.00</td>\n      <td>417.13</td>\n      <td>184.989685</td>\n    </tr>\n    <tr>\n      <th>btc-usd</th>\n      <td>417.44</td>\n      <td>418.39</td>\n      <td>417.25</td>\n      <td>417.44</td>\n      <td>107.799754</td>\n    </tr>\n    <tr>\n      <th>btc-usd</th>\n      <td>418.34</td>\n      <td>418.45</td>\n      <td>417.00</td>\n      <td>418.34</td>\n      <td>242.195430</td>\n    </tr>\n    <tr>\n      <th>btc-usd</th>\n      <td>417.75</td>\n      <td>419.45</td>\n      <td>417.74</td>\n      <td>417.75</td>\n      <td>595.534673</td>\n    </tr>\n    <tr>\n      <th>btc-usd</th>\n      <td>418.16</td>\n      <td>418.16</td>\n      <td>417.18</td>\n      <td>418.16</td>\n      <td>132.758543</td>\n    </tr>\n    <tr>\n      <th>btc-usd</th>\n      <td>417.98</td>\n      <td>418.65</td>\n      <td>416.50</td>\n      <td>417.98</td>\n      <td>119.813807</td>\n    </tr>\n    <tr>\n      <th>btc-usd</th>\n      <td>418.30</td>\n      <td>419.37</td>\n      <td>418.30</td>\n      <td>418.30</td>\n      <td>233.242221</td>\n    </tr>\n    <tr>\n      <th>btc-usd</th>\n      <td>418.86</td>\n      <td>420.83</td>\n      <td>418.85</td>\n      <td>418.86</td>\n      <td>559.660322</td>\n    </tr>\n    <tr>\n      <th>btc-usd</th>\n      <td>420.67</td>\n      <td>421.00</td>\n      <td>420.55</td>\n      <td>420.67</td>\n      <td>261.992254</td>\n    </tr>\n    <tr>\n      <th>btc-usd</th>\n      <td>420.97</td>\n      <td>421.00</td>\n      <td>418.26</td>\n      <td>420.97</td>\n      <td>497.616475</td>\n    </tr>\n    <tr>\n      <th>btc-usd</th>\n      <td>419.00</td>\n      <td>419.00</td>\n      <td>414.90</td>\n      <td>419.00</td>\n      <td>643.750347</td>\n    </tr>\n    <tr>\n      <th>btc-usd</th>\n      <td>416.00</td>\n      <td>418.00</td>\n      <td>416.00</td>\n      <td>416.00</td>\n      <td>294.458050</td>\n    </tr>\n    <tr>\n      <th>btc-usd</th>\n      <td>417.60</td>\n      <td>418.71</td>\n      <td>417.26</td>\n      <td>417.60</td>\n      <td>134.464509</td>\n    </tr>\n    <tr>\n      <th>btc-usd</th>\n      <td>417.45</td>\n      <td>417.80</td>\n      <td>415.97</td>\n      <td>417.45</td>\n      <td>195.200021</td>\n    </tr>\n    <tr>\n      <th>btc-usd</th>\n      <td>416.71</td>\n      <td>417.44</td>\n      <td>416.71</td>\n      <td>416.71</td>\n      <td>89.705375</td>\n    </tr>\n    <tr>\n      <th>btc-usd</th>\n      <td>417.19</td>\n      <td>417.23</td>\n      <td>413.78</td>\n      <td>417.19</td>\n      <td>469.534331</td>\n    </tr>\n    <tr>\n      <th>btc-usd</th>\n      <td>416.10</td>\n      <td>416.49</td>\n      <td>414.88</td>\n      <td>416.10</td>\n      <td>139.352606</td>\n    </tr>\n    <tr>\n      <th>btc-usd</th>\n      <td>416.39</td>\n      <td>417.27</td>\n      <td>416.39</td>\n      <td>416.39</td>\n      <td>43.564230</td>\n    </tr>\n    <tr>\n      <th>btc-usd</th>\n      <td>417.15</td>\n      <td>417.77</td>\n      <td>417.15</td>\n      <td>417.15</td>\n      <td>53.237924</td>\n    </tr>\n    <tr>\n      <th>btc-usd</th>\n      <td>417.74</td>\n      <td>417.98</td>\n      <td>417.17</td>\n      <td>417.74</td>\n      <td>112.782221</td>\n    </tr>\n    <tr>\n      <th>btc-usd</th>\n      <td>417.45</td>\n      <td>417.90</td>\n      <td>416.67</td>\n      <td>417.45</td>\n      <td>171.022529</td>\n    </tr>\n    <tr>\n      <th>btc-usd</th>\n      <td>417.26</td>\n      <td>417.26</td>\n      <td>413.33</td>\n      <td>417.26</td>\n      <td>375.600523</td>\n    </tr>\n    <tr>\n      <th>btc-usd</th>\n      <td>415.00</td>\n      <td>416.50</td>\n      <td>414.77</td>\n      <td>415.00</td>\n      <td>372.033508</td>\n    </tr>\n    <tr>\n      <th>btc-usd</th>\n      <td>415.69</td>\n      <td>416.17</td>\n      <td>414.77</td>\n      <td>415.69</td>\n      <td>122.125614</td>\n    </tr>\n    <tr>\n      <th>btc-usd</th>\n      <td>415.19</td>\n      <td>415.19</td>\n      <td>414.30</td>\n      <td>415.19</td>\n      <td>216.693031</td>\n    </tr>\n    <tr>\n      <th>btc-usd</th>\n      <td>415.08</td>\n      <td>415.30</td>\n      <td>414.97</td>\n      <td>415.08</td>\n      <td>143.339093</td>\n    </tr>\n    <tr>\n      <th>btc-usd</th>\n      <td>415.29</td>\n      <td>415.54</td>\n      <td>415.29</td>\n      <td>415.29</td>\n      <td>61.465811</td>\n    </tr>\n    <tr>\n      <th>btc-usd</th>\n      <td>415.54</td>\n      <td>415.60</td>\n      <td>415.00</td>\n      <td>415.54</td>\n      <td>45.124807</td>\n    </tr>\n    <tr>\n      <th>btc-usd</th>\n      <td>415.53</td>\n      <td>415.70</td>\n      <td>415.22</td>\n      <td>415.53</td>\n      <td>30.478355</td>\n    </tr>\n    <tr>\n      <th>btc-usd</th>\n      <td>415.70</td>\n      <td>415.70</td>\n      <td>411.67</td>\n      <td>415.70</td>\n      <td>548.279255</td>\n    </tr>\n    <tr>\n      <th>btc-usd</th>\n      <td>411.82</td>\n      <td>413.42</td>\n      <td>411.45</td>\n      <td>411.82</td>\n      <td>744.778386</td>\n    </tr>\n    <tr>\n      <th>btc-usd</th>\n      <td>412.99</td>\n      <td>413.50</td>\n      <td>411.46</td>\n      <td>412.99</td>\n      <td>497.226523</td>\n    </tr>\n    <tr>\n      <th>btc-usd</th>\n      <td>413.35</td>\n      <td>413.49</td>\n      <td>412.67</td>\n      <td>413.35</td>\n      <td>116.355825</td>\n    </tr>\n    <tr>\n      <th>btc-usd</th>\n      <td>413.48</td>\n      <td>413.50</td>\n      <td>413.03</td>\n      <td>413.48</td>\n      <td>106.359790</td>\n    </tr>\n    <tr>\n      <th>btc-usd</th>\n      <td>413.21</td>\n      <td>413.49</td>\n      <td>411.74</td>\n      <td>413.21</td>\n      <td>206.030019</td>\n    </tr>\n    <tr>\n      <th>btc-usd</th>\n      <td>412.70</td>\n      <td>413.37</td>\n      <td>411.09</td>\n      <td>412.70</td>\n      <td>238.491859</td>\n    </tr>\n    <tr>\n      <th>btc-usd</th>\n      <td>411.20</td>\n      <td>412.53</td>\n      <td>411.20</td>\n      <td>411.20</td>\n      <td>134.579229</td>\n    </tr>\n    <tr>\n      <th>btc-usd</th>\n      <td>411.80</td>\n      <td>413.50</td>\n      <td>411.77</td>\n      <td>411.80</td>\n      <td>139.580592</td>\n    </tr>\n  </tbody>\n</table>\n</div>"
     },
     "execution_count": 11,
     "metadata": {},
     "output_type": "execute_result"
    }
   ],
   "source": [
    "# buggy date\n",
    "prices.xs(('2018-07-01', 'btc', 'usd'), level=['date', 'symbol', 'base'])\n"
   ]
  },
  {
   "cell_type": "code",
   "execution_count": 12,
   "id": "classical-scottish",
   "metadata": {},
   "outputs": [
    {
     "data": {
      "text/plain": "                                     open          high           low  \\\ndate                ticker                                              \n2013-04-01 00:00:00 btc-usd     93.250000    100.000000     93.030000   \n2013-04-01 00:15:00 btc-usd     93.043990     93.350000     93.043990   \n2013-04-01 00:30:00 btc-usd     93.199990     93.350000     93.199990   \n2013-04-01 00:45:00 btc-usd     93.250000     93.300000     93.100000   \n2013-04-01 01:00:00 btc-usd     93.379990     93.487970     93.200000   \n...                                   ...           ...           ...   \n2021-05-18 05:00:00 btc-usd  45334.000000  45522.625989  45250.000000   \n2021-05-18 05:15:00 btc-usd  45400.633418  45460.000000  45223.000000   \n2021-05-18 05:30:00 btc-usd  45286.449570  45451.840095  45100.000000   \n2021-05-18 05:45:00 btc-usd  45448.000000  45452.000000  45147.000000   \n2021-05-18 06:00:00 btc-usd  45367.000000  45763.000000  45312.189819   \n\n                                    close      volume  \ndate                ticker                             \n2013-04-01 00:00:00 btc-usd     93.250000  247.283889  \n2013-04-01 00:15:00 btc-usd     93.043990   17.689501  \n2013-04-01 00:30:00 btc-usd     93.199990   40.000000  \n2013-04-01 00:45:00 btc-usd     93.250000   40.610499  \n2013-04-01 01:00:00 btc-usd     93.379990   23.510608  \n...                                   ...         ...  \n2021-05-18 05:00:00 btc-usd  45334.000000   74.981653  \n2021-05-18 05:15:00 btc-usd  45400.633418   45.373709  \n2021-05-18 05:30:00 btc-usd  45286.449570   70.526798  \n2021-05-18 05:45:00 btc-usd  45448.000000   64.627406  \n2021-05-18 06:00:00 btc-usd  45367.000000   59.256744  \n\n[285049 rows x 5 columns]",
      "text/html": "<div>\n<style scoped>\n    .dataframe tbody tr th:only-of-type {\n        vertical-align: middle;\n    }\n\n    .dataframe tbody tr th {\n        vertical-align: top;\n    }\n\n    .dataframe thead th {\n        text-align: right;\n    }\n</style>\n<table border=\"1\" class=\"dataframe\">\n  <thead>\n    <tr style=\"text-align: right;\">\n      <th></th>\n      <th></th>\n      <th>open</th>\n      <th>high</th>\n      <th>low</th>\n      <th>close</th>\n      <th>volume</th>\n    </tr>\n    <tr>\n      <th>date</th>\n      <th>ticker</th>\n      <th></th>\n      <th></th>\n      <th></th>\n      <th></th>\n      <th></th>\n    </tr>\n  </thead>\n  <tbody>\n    <tr>\n      <th>2013-04-01 00:00:00</th>\n      <th>btc-usd</th>\n      <td>93.250000</td>\n      <td>100.000000</td>\n      <td>93.030000</td>\n      <td>93.250000</td>\n      <td>247.283889</td>\n    </tr>\n    <tr>\n      <th>2013-04-01 00:15:00</th>\n      <th>btc-usd</th>\n      <td>93.043990</td>\n      <td>93.350000</td>\n      <td>93.043990</td>\n      <td>93.043990</td>\n      <td>17.689501</td>\n    </tr>\n    <tr>\n      <th>2013-04-01 00:30:00</th>\n      <th>btc-usd</th>\n      <td>93.199990</td>\n      <td>93.350000</td>\n      <td>93.199990</td>\n      <td>93.199990</td>\n      <td>40.000000</td>\n    </tr>\n    <tr>\n      <th>2013-04-01 00:45:00</th>\n      <th>btc-usd</th>\n      <td>93.250000</td>\n      <td>93.300000</td>\n      <td>93.100000</td>\n      <td>93.250000</td>\n      <td>40.610499</td>\n    </tr>\n    <tr>\n      <th>2013-04-01 01:00:00</th>\n      <th>btc-usd</th>\n      <td>93.379990</td>\n      <td>93.487970</td>\n      <td>93.200000</td>\n      <td>93.379990</td>\n      <td>23.510608</td>\n    </tr>\n    <tr>\n      <th>...</th>\n      <th>...</th>\n      <td>...</td>\n      <td>...</td>\n      <td>...</td>\n      <td>...</td>\n      <td>...</td>\n    </tr>\n    <tr>\n      <th>2021-05-18 05:00:00</th>\n      <th>btc-usd</th>\n      <td>45334.000000</td>\n      <td>45522.625989</td>\n      <td>45250.000000</td>\n      <td>45334.000000</td>\n      <td>74.981653</td>\n    </tr>\n    <tr>\n      <th>2021-05-18 05:15:00</th>\n      <th>btc-usd</th>\n      <td>45400.633418</td>\n      <td>45460.000000</td>\n      <td>45223.000000</td>\n      <td>45400.633418</td>\n      <td>45.373709</td>\n    </tr>\n    <tr>\n      <th>2021-05-18 05:30:00</th>\n      <th>btc-usd</th>\n      <td>45286.449570</td>\n      <td>45451.840095</td>\n      <td>45100.000000</td>\n      <td>45286.449570</td>\n      <td>70.526798</td>\n    </tr>\n    <tr>\n      <th>2021-05-18 05:45:00</th>\n      <th>btc-usd</th>\n      <td>45448.000000</td>\n      <td>45452.000000</td>\n      <td>45147.000000</td>\n      <td>45448.000000</td>\n      <td>64.627406</td>\n    </tr>\n    <tr>\n      <th>2021-05-18 06:00:00</th>\n      <th>btc-usd</th>\n      <td>45367.000000</td>\n      <td>45763.000000</td>\n      <td>45312.189819</td>\n      <td>45367.000000</td>\n      <td>59.256744</td>\n    </tr>\n  </tbody>\n</table>\n<p>285049 rows × 5 columns</p>\n</div>"
     },
     "execution_count": 12,
     "metadata": {},
     "output_type": "execute_result"
    }
   ],
   "source": [
    "prices.xs(('btc', 'usd'), level=['symbol', 'base'])"
   ]
  },
  {
   "cell_type": "code",
   "execution_count": 13,
   "id": "foster-lodging",
   "metadata": {},
   "outputs": [
    {
     "ename": "SyntaxError",
     "evalue": "invalid syntax (<unknown>, line 1)",
     "output_type": "error",
     "traceback": [
      "Traceback \u001B[0;36m(most recent call last)\u001B[0m:\n",
      "  File \u001B[1;32m\"/home/jens/miniconda3/envs/ml4t/lib/python3.8/site-packages/IPython/core/interactiveshell.py\"\u001B[0m, line \u001B[1;32m3441\u001B[0m, in \u001B[1;35mrun_code\u001B[0m\n    exec(code_obj, self.user_global_ns, self.user_ns)\n",
      "  File \u001B[1;32m\"<ipython-input-13-5333936a42fd>\"\u001B[0m, line \u001B[1;32m2\u001B[0m, in \u001B[1;35m<module>\u001B[0m\n    result = prices.query(\"'symbol =='btc'\")\n",
      "  File \u001B[1;32m\"/home/jens/miniconda3/envs/ml4t/lib/python3.8/site-packages/pandas/core/frame.py\"\u001B[0m, line \u001B[1;32m3469\u001B[0m, in \u001B[1;35mquery\u001B[0m\n    res = self.eval(expr, **kwargs)\n",
      "  File \u001B[1;32m\"/home/jens/miniconda3/envs/ml4t/lib/python3.8/site-packages/pandas/core/frame.py\"\u001B[0m, line \u001B[1;32m3599\u001B[0m, in \u001B[1;35meval\u001B[0m\n    return _eval(expr, inplace=inplace, **kwargs)\n",
      "  File \u001B[1;32m\"/home/jens/miniconda3/envs/ml4t/lib/python3.8/site-packages/pandas/core/computation/eval.py\"\u001B[0m, line \u001B[1;32m342\u001B[0m, in \u001B[1;35meval\u001B[0m\n    parsed_expr = Expr(expr, engine=engine, parser=parser, env=env)\n",
      "  File \u001B[1;32m\"/home/jens/miniconda3/envs/ml4t/lib/python3.8/site-packages/pandas/core/computation/expr.py\"\u001B[0m, line \u001B[1;32m798\u001B[0m, in \u001B[1;35m__init__\u001B[0m\n    self.terms = self.parse()\n",
      "  File \u001B[1;32m\"/home/jens/miniconda3/envs/ml4t/lib/python3.8/site-packages/pandas/core/computation/expr.py\"\u001B[0m, line \u001B[1;32m817\u001B[0m, in \u001B[1;35mparse\u001B[0m\n    return self._visitor.visit(self.expr)\n",
      "  File \u001B[1;32m\"/home/jens/miniconda3/envs/ml4t/lib/python3.8/site-packages/pandas/core/computation/expr.py\"\u001B[0m, line \u001B[1;32m397\u001B[0m, in \u001B[1;35mvisit\u001B[0m\n    raise e\n",
      "  File \u001B[1;32m\"/home/jens/miniconda3/envs/ml4t/lib/python3.8/site-packages/pandas/core/computation/expr.py\"\u001B[0m, line \u001B[1;32m393\u001B[0m, in \u001B[1;35mvisit\u001B[0m\n    node = ast.fix_missing_locations(ast.parse(clean))\n",
      "\u001B[0;36m  File \u001B[0;32m\"/home/jens/miniconda3/envs/ml4t/lib/python3.8/ast.py\"\u001B[0;36m, line \u001B[0;32m47\u001B[0;36m, in \u001B[0;35mparse\u001B[0;36m\u001B[0m\n\u001B[0;31m    return compile(source, filename, mode, flags,\u001B[0m\n",
      "\u001B[0;36m  File \u001B[0;32m\"<unknown>\"\u001B[0;36m, line \u001B[0;32m1\u001B[0m\n\u001B[0;31m    'symbol =='btc '\u001B[0m\n\u001B[0m               ^\u001B[0m\n\u001B[0;31mSyntaxError\u001B[0m\u001B[0;31m:\u001B[0m invalid syntax\n"
     ]
    }
   ],
   "source": [
    "\n",
    "# seems only the first result\n",
    "result = prices.query(\"'symbol =='btc'\")\n",
    "print(result)"
   ]
  },
  {
   "cell_type": "code",
   "execution_count": null,
   "id": "fatal-eleven",
   "metadata": {},
   "outputs": [],
   "source": [
    "'btc' in prices.index.get_level_values('symbol') and 'usd' in prices.index.get_level_values('base')"
   ]
  },
  {
   "cell_type": "code",
   "execution_count": null,
   "outputs": [],
   "source": [
    "'btc' in prices.index.get_level_values('symbol') and 'xxxn' in prices.index.get_level_values('base')"
   ],
   "metadata": {
    "collapsed": false,
    "pycharm": {
     "name": "#%%\n"
    }
   }
  }
 ],
 "metadata": {
  "kernelspec": {
   "name": "python3",
   "language": "python",
   "display_name": "Python 3"
  },
  "language_info": {
   "codemirror_mode": {
    "name": "ipython",
    "version": 3
   },
   "file_extension": ".py",
   "mimetype": "text/x-python",
   "name": "python",
   "nbconvert_exporter": "python",
   "pygments_lexer": "ipython3",
   "version": "3.8.8"
  }
 },
 "nbformat": 4,
 "nbformat_minor": 5
}