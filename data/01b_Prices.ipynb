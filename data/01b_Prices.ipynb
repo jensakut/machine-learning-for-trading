{
 "cells": [
  {
   "cell_type": "markdown",
   "id": "narrow-blowing",
   "metadata": {},
   "source": [
    "# Digest minute crypto data (prices) and coinmarketcap (market)\n",
    "\n",
    "- https://www.bitfinex.com/\n",
    "- https://medium.com/coinmonks/how-to-get-historical-crypto-currency-data-954062d40d2d\n",
    "- https://www.kaggle.com/tencars/392-crypto-currency-pairs-at-minute-resolution\n"
   ]
  },
  {
   "cell_type": "code",
   "execution_count": 1,
   "id": "guided-theory",
   "metadata": {},
   "outputs": [],
   "source": [
    "%matplotlib inline\n",
    "\n",
    "from pathlib import Path\n",
    "import pandas as pd\n",
    "\n",
    "idx = pd.IndexSlice"
   ]
  },
  {
   "cell_type": "markdown",
   "source": [],
   "metadata": {
    "collapsed": false,
    "pycharm": {
     "name": "#%% md\n"
    }
   }
  },
  {
   "cell_type": "code",
   "execution_count": 2,
   "id": "supposed-chase",
   "metadata": {},
   "outputs": [],
   "source": [
    "\n",
    "# https://stackoverflow.com/questions/16466670/fill-nan-in-candlestick-ohlcv-data\n",
    "# https://pandas.pydata.org/pandas-docs/stable/reference/api/pandas.DataFrame.resample.html\n",
    "def nans_to_prev_close_method1(df):\n",
    "    df['volume'] = df['volume'].fillna(0.0)  # volume should always be 0 (if there were no trades in this interval)\n",
    "    df['close'] = df.fillna(method='pad')  # ie pull the last close into this close\n",
    "    # now copy the close that was pulled down from the last timestep into this row, across into o/h/l\n",
    "    df['open'] = df['open'].fillna(df['close']) \n",
    "    df['low'] = df['low'].fillna(df['close'])\n",
    "    df['high'] = df['high'].fillna(df['close'])\n",
    "    # print(df.head(10))\n",
    "    return df\n",
    "\n",
    "# \n",
    "def resample_df_ohlcv(df, timeframe='15Min'):\n",
    "    # Created a dictionary to tell Pandas how to re-sample, if this isn't in place it will re-sample each column separately\n",
    "    ohlcv_dict = {'open':'first', 'high':'max', 'low':'min', 'close': 'last', 'volume': 'sum'}\n",
    "\n",
    "    # Resample to 15Min (this format is needed) as per ohlc_dict, then remove any line with a NaN\n",
    "    df = df.resample(timeframe).agg(ohlcv_dict)\n",
    "    df = nans_to_prev_close_method1(df)\n",
    "    # Resample mixes the columns so lets re-arrange them\n",
    "    cols=['open', 'high', 'low', 'close', 'volume']  \n",
    "    df = df[cols]\n",
    "    return df\n",
    "\n",
    "\n"
   ]
  },
  {
   "cell_type": "code",
   "execution_count": 3,
   "id": "angry-financing",
   "metadata": {},
   "outputs": [],
   "source": [
    "data_path ='../data/crypto_1min/'\n",
    "\n",
    "cryptos = {\n",
    "            'btcusd':  {'symbol': 'btc', 'base': 'usd', },\n",
    "            'ethusd':  {'symbol': 'eth', 'base': 'usd', },\n",
    "            # Binance Coin\n",
    "            'xrpusd':  {'symbol': 'xrp', 'base': 'usd', },\n",
    "            'ustusd':  {'symbol': 'usdt', 'base': 'usd', },\n",
    "            'adausd':  {'symbol': 'ada', 'base': 'usd', }, # Cardano\n",
    "            'dogusd':  {'symbol': 'doge', 'base': 'usd',},\n",
    "            'dotusd':  {'symbol': 'dot', 'base': 'usd', }, # Polkadot\n",
    "            'uniusd':  {'symbol': 'uni', 'base': 'usd', },\n",
    "            'ltcusd':  {'symbol': 'ltc', 'base': 'usd', },\n",
    "            'bchnusd':  {'symbol': 'bch', 'base': 'usd', }, # Bitcoin Cash ? bch = bchn? \n",
    "            'linkusd':  {'symbol': 'link', 'base': 'usd', }, # Chainlink\n",
    "            'udcusd':  {'symbol': 'usdc', 'base': 'usd', },   # USDC\n",
    "            'vetusd':  {'symbol': 'vet', 'base': 'usd', }, # VeChain\n",
    "            'solusd':  {'symbol': 'sol', 'base': 'usd',}, # Solana\n",
    "            'xlmusd':  {'symbol': 'xlm', 'base': 'usd',}, # Stellar\n",
    "            # 'theta', \n",
    "            'filusd':  {'symbol': 'fil', 'base': 'usd',}, # filecoin\n",
    "            'okbusd': {'symbol': 'okb', 'base': 'usd'},\n",
    "            'wbtusd': {'symbol': 'wbtc', 'base': 'usd'},\n",
    "\n",
    "            'trxusd':  {'symbol': 'trx', 'base': 'usd',}, # Tron\n",
    "            # Binance USD busd\n",
    "            \n",
    "            'bsvusd': {'symbol': 'bsv', 'base': 'usd'},\n",
    "\n",
    "            'xmrusd':  {'symbol': 'xmr', 'base': 'usd',}, # Monero\n",
    "            'lunausd':  {'symbol': 'luna', 'base': 'usd',}, # Luna\n",
    "            'neousd':  {'symbol': 'neo', 'base': 'usd',}, # \n",
    "            # Klay\n",
    "            'iotusd':  {'symbol': 'miota', 'base': 'usd',}, # iota \n",
    "            'eosusd':  {'symbol': 'eos', 'base': 'usd',}, # iota \n",
    "            'atousd':  {'symbol': 'atom', 'base': 'usd',}, # cosmos \n",
    "            # 'cakusd':  {'symbol': 'cake', 'base': 'usd',}, # pancake \n",
    "            'aaveusd':  {'symbol': 'aave', 'base': 'usd',}, # aave\n",
    "            'eosusd': {'symbol': 'eos', 'base': 'usd'},\n",
    "            'etcusd': {'symbol': 'etc', 'base': 'usd'},\n",
    "            'atousd': {'symbol': 'atom', 'base': 'usd'},\n",
    "            # 'maticusd': {'symbol': '...', 'base': 'usd'},\n",
    "            # ht\n",
    "            'fttusd': {'symbol': 'ftt', 'base': 'usd'},\n",
    "            # cro\n",
    "            'bttusd': {'symbol': 'btt', 'base': 'usd'},\n",
    "            # cusd\n",
    "            'mkrusd': {'symbol': 'mkr', 'base': 'usd'},\n",
    "            # 'mkreth': {'symbol': 'mkr', 'base': 'eth'},\n",
    "            # 'mkrbtc': {'symbol': 'mkr', 'base': 'btc'},\n",
    "            'xtzusd': {'symbol': 'xtz', 'base': 'usd'},\n",
    "            # 'xtzbtc': {'symbol': 'xtz', 'base': 'btc'},\n",
    "            # ceth\n",
    "            'algusd': {'symbol': 'algo', 'base': 'usd'},\n",
    "            'avaxusd': {'symbol': 'avax', 'base': 'usd'},\n",
    "            'ksmusd': {'symbol': 'ksm', 'base': 'usd'},\n",
    "            'daiusd': {'symbol': 'dai', 'base': 'usd'},\n",
    "            # cdai\n",
    "            # dash\n",
    "            # '...usd': {'symbol': '...', 'base': 'usd'},\n",
    "            # '...usd': {'symbol': '...', 'base': 'usd'},\n",
    "            # '...usd': {'symbol': '...', 'base': 'usd'},\n",
    "            # '...usd': {'symbol': '...', 'base': 'usd'},\n",
    "            # '...usd': {'symbol': '...', 'base': 'usd'},\n",
    "            # '...usd': {'symbol': '...', 'base': 'usd'},\n",
    "            # '...usd': {'symbol': '...', 'base': 'usd'},\n",
    "            # '...usd': {'symbol': '...', 'base': 'usd'},\n",
    "            # '...usd': {'symbol': '...', 'base': 'usd'},\n",
    "            # '...usd': {'symbol': '...', 'base': 'usd'},\n",
    "            'mtnusd': {'symbol': 'mtn', 'base': 'usd'},\n",
    "            'manusd': {'symbol': 'man', 'base': 'usd'},\n",
    "\n",
    "            }\n"
   ]
  },
  {
   "cell_type": "markdown",
   "id": "initial-coral",
   "metadata": {},
   "source": [
    "<bound method IndexOpsMixin.tolist of Index(['btc', 'eth', 'bnb', 'xrp', 'usdt', 'doge', 'ada', 'dot', 'uni', 'bch',\n",
    "       'ltc', 'link', 'usdc', 'vet', 'sol', 'xlm', 'theta', 'fil', 'okb','wbtc', 'trx', 'busd',\n",
    "       'xmr', 'neo', 'luna', 'cake', 'bsv', 'aave', 'eos', 'klay', 'miota', 'etc', 'atom', \n",
    "       \n",
    "       'matic', 'ht', 'ftt', 'cro',\n",
    "       'btt', 'cusdc', 'mkr', 'comp', 'xtz', 'ceth', 'algo', 'AVAX', 'ksm',\n",
    "       'dai',\n",
    "       'cdai', 'rune', 'dash', 'xem', 'egld', 'chz', 'hot', 'zec',\n",
    "       'hbar', 'dcr', 'snx', 'enj', 'zil', 'waves', 'cel', 'leo', 'dgb',\n",
    "       'sushi', 'stx', 'amp', 'nexo', 'sc', 'ftm', 'grt', 'ust', 'near',\n",
    "       'mana', 'bat', 'yfi', 'rvn', 'btg', 'icx', 'qtum', 'hbtc', 'uma', 'hnt',\n",
    "       'zrx', 'lusd', 'nano', 'ont', 'iost', 'one', 'zen', 'bnt', 'chsb',\n",
    "       'arrr', 'ankr', 'ar', 'xvs', 'pax', 'flow', 'bake', 'kcs'],\n",
    "      dtype='object', name='symbol')>\n",
    "\n"
   ]
  },
  {
   "cell_type": "markdown",
   "id": "circular-express",
   "metadata": {},
   "source": [
    "Load minute data "
   ]
  },
  {
   "cell_type": "code",
   "execution_count": 4,
   "id": "executed-masters",
   "metadata": {},
   "outputs": [
    {
     "name": "stdout",
     "output_type": "stream",
     "text": [
      "found 38 symbol(s):\n",
      " Index(['btc', 'ltc', 'eth', 'etc', 'xmr', 'xrp', 'miota', 'eos', 'neo', 'trx',\n",
      "       'dai', 'mtn', 'xlm', 'mkr', 'man', 'vet', 'xtz', 'bsv', 'usdt', 'usdc',\n",
      "       'btt', 'atom', 'wbtc', 'okb', 'algo', 'ftt', 'doge', 'ada', 'dot',\n",
      "       'ksm', 'uni', 'fil', 'sol', 'aave', 'avax', 'link', 'luna', 'bch'],\n",
      "      dtype='object', name='symbol')\n",
      "found 1 base(s):\n",
      " Index(['usd'], dtype='object', name='base')\n",
      "\n",
      "\n",
      "\n",
      "RESULTING DF: \n",
      "<class 'pandas.core.frame.DataFrame'>\n",
      "MultiIndex: 48918134 entries, (Timestamp('2013-04-01 00:07:00'), 'btc', 'usd') to (Timestamp('2021-05-18 07:04:00'), 'luna', 'usd')\n",
      "Data columns (total 5 columns):\n",
      " #   Column  Dtype  \n",
      "---  ------  -----  \n",
      " 0   open    float64\n",
      " 1   high    float64\n",
      " 2   low     float64\n",
      " 3   close   float64\n",
      " 4   volume  float64\n",
      "dtypes: float64(5)\n",
      "memory usage: 2.3+ GB\n",
      "None\n",
      "Index(['btc', 'ltc', 'eth', 'etc', 'xmr', 'xrp', 'miota', 'eos', 'neo', 'trx',\n",
      "       'dai', 'mtn', 'xlm', 'mkr', 'man', 'vet', 'xtz', 'bsv', 'usdt', 'usdc',\n",
      "       'btt', 'atom', 'wbtc', 'okb', 'algo', 'ftt', 'doge', 'ada', 'dot',\n",
      "       'ksm', 'uni', 'fil', 'sol', 'aave', 'avax', 'link', 'luna', 'bch'],\n",
      "      dtype='object', name='symbol')\n"
     ]
    }
   ],
   "source": [
    "def three_spaces():\n",
    "    print(\"\")\n",
    "    print(\"\")\n",
    "    print(\"\")\n",
    "\n",
    "def data_from_folder(csv_path, cryptos):\n",
    "    \n",
    "    prices = []\n",
    "    for symbol_key, symbol_dict in cryptos.items():\n",
    "        file_path = data_path + symbol_key + \".csv\"\n",
    "        file_path = Path(file_path)\n",
    "        df = pd.read_csv(file_path) # read the csv \n",
    "        df['date'] = df['time'].values.astype(dtype='datetime64[ms]') # for msec format   \n",
    "        df.drop(df.filter(regex=\"time\"),axis=1, inplace=True) # otherwise time row is left behind as \"time\"\n",
    "        df.set_index(['date'], inplace=True)\n",
    "\n",
    "        # resample to desired frequency\n",
    "        df = resample_df_ohlcv(df, '1Min')\n",
    "        df['symbol'] = symbol_dict['symbol'] # get a symbol column\n",
    "        df['base'] = symbol_dict['base'] # get a base column\n",
    "        df.set_index(['symbol', 'base'], inplace=True, append=True)\n",
    "\n",
    "        df.sort_index(inplace=True)\n",
    "        df.drop(df.filter(regex=\"Unname\"),axis=1, inplace=True) # otherwise index row is left behind as \"unnamed\"\n",
    "        prices.append(df)\n",
    "    prices = pd.concat(prices)\n",
    "    \n",
    "    prices.sort_index(inplace=True)\n",
    "    print(\"found {} symbol(s):\\n {}\".format(len(prices.index.get_level_values('symbol').unique()),\n",
    "                                          prices.index.get_level_values('symbol').unique()))\n",
    "    print(\"found {} base(s):\\n {}\".format(len(prices.index.get_level_values('base').unique()),\n",
    "                                       prices.index.get_level_values('base').unique()))\n",
    "    return prices\n",
    "\n",
    "\n",
    "prices = data_from_folder(data_path, cryptos)\n",
    "three_spaces()\n",
    "print('RESULTING DF: ')\n",
    "print(prices.info())\n",
    "\n",
    "print(prices.index.get_level_values('symbol').unique())"
   ]
  },
  {
   "cell_type": "code",
   "execution_count": 5,
   "id": "functional-decimal",
   "metadata": {},
   "outputs": [
    {
     "data": {
      "text/plain": "                                      open       high        low      close  \\\ndate                symbol base                                               \n2013-04-01 00:07:00 btc    usd    93.25000   93.30000   93.25000   93.25000   \n2013-04-01 00:08:00 btc    usd   100.00000  100.00000  100.00000  100.00000   \n2013-04-01 00:09:00 btc    usd    93.30000   93.30000   93.30000   93.30000   \n2013-04-01 00:10:00 btc    usd    93.30000   93.30000   93.30000   93.30000   \n2013-04-01 00:11:00 btc    usd    93.35000   93.47000   93.35000   93.35000   \n2013-04-01 00:12:00 btc    usd    93.47000   93.47000   93.47000   93.47000   \n2013-04-01 00:13:00 btc    usd    93.03001   93.03001   93.03000   93.03001   \n2013-04-01 00:14:00 btc    usd    93.03001   93.03001   93.03001   93.03001   \n2013-04-01 00:15:00 btc    usd    93.03001   93.03001   93.03001   93.03001   \n2013-04-01 00:16:00 btc    usd    93.03001   93.03001   93.03001   93.03001   \n\n                                    volume  \ndate                symbol base             \n2013-04-01 00:07:00 btc    usd   93.300000  \n2013-04-01 00:08:00 btc    usd   93.300000  \n2013-04-01 00:09:00 btc    usd   33.676862  \n2013-04-01 00:10:00 btc    usd    0.000000  \n2013-04-01 00:11:00 btc    usd   20.000000  \n2013-04-01 00:12:00 btc    usd    2.021627  \n2013-04-01 00:13:00 btc    usd    4.985400  \n2013-04-01 00:14:00 btc    usd    0.000000  \n2013-04-01 00:15:00 btc    usd    0.000000  \n2013-04-01 00:16:00 btc    usd    0.000000  ",
      "text/html": "<div>\n<style scoped>\n    .dataframe tbody tr th:only-of-type {\n        vertical-align: middle;\n    }\n\n    .dataframe tbody tr th {\n        vertical-align: top;\n    }\n\n    .dataframe thead th {\n        text-align: right;\n    }\n</style>\n<table border=\"1\" class=\"dataframe\">\n  <thead>\n    <tr style=\"text-align: right;\">\n      <th></th>\n      <th></th>\n      <th></th>\n      <th>open</th>\n      <th>high</th>\n      <th>low</th>\n      <th>close</th>\n      <th>volume</th>\n    </tr>\n    <tr>\n      <th>date</th>\n      <th>symbol</th>\n      <th>base</th>\n      <th></th>\n      <th></th>\n      <th></th>\n      <th></th>\n      <th></th>\n    </tr>\n  </thead>\n  <tbody>\n    <tr>\n      <th>2013-04-01 00:07:00</th>\n      <th>btc</th>\n      <th>usd</th>\n      <td>93.25000</td>\n      <td>93.30000</td>\n      <td>93.25000</td>\n      <td>93.25000</td>\n      <td>93.300000</td>\n    </tr>\n    <tr>\n      <th>2013-04-01 00:08:00</th>\n      <th>btc</th>\n      <th>usd</th>\n      <td>100.00000</td>\n      <td>100.00000</td>\n      <td>100.00000</td>\n      <td>100.00000</td>\n      <td>93.300000</td>\n    </tr>\n    <tr>\n      <th>2013-04-01 00:09:00</th>\n      <th>btc</th>\n      <th>usd</th>\n      <td>93.30000</td>\n      <td>93.30000</td>\n      <td>93.30000</td>\n      <td>93.30000</td>\n      <td>33.676862</td>\n    </tr>\n    <tr>\n      <th>2013-04-01 00:10:00</th>\n      <th>btc</th>\n      <th>usd</th>\n      <td>93.30000</td>\n      <td>93.30000</td>\n      <td>93.30000</td>\n      <td>93.30000</td>\n      <td>0.000000</td>\n    </tr>\n    <tr>\n      <th>2013-04-01 00:11:00</th>\n      <th>btc</th>\n      <th>usd</th>\n      <td>93.35000</td>\n      <td>93.47000</td>\n      <td>93.35000</td>\n      <td>93.35000</td>\n      <td>20.000000</td>\n    </tr>\n    <tr>\n      <th>2013-04-01 00:12:00</th>\n      <th>btc</th>\n      <th>usd</th>\n      <td>93.47000</td>\n      <td>93.47000</td>\n      <td>93.47000</td>\n      <td>93.47000</td>\n      <td>2.021627</td>\n    </tr>\n    <tr>\n      <th>2013-04-01 00:13:00</th>\n      <th>btc</th>\n      <th>usd</th>\n      <td>93.03001</td>\n      <td>93.03001</td>\n      <td>93.03000</td>\n      <td>93.03001</td>\n      <td>4.985400</td>\n    </tr>\n    <tr>\n      <th>2013-04-01 00:14:00</th>\n      <th>btc</th>\n      <th>usd</th>\n      <td>93.03001</td>\n      <td>93.03001</td>\n      <td>93.03001</td>\n      <td>93.03001</td>\n      <td>0.000000</td>\n    </tr>\n    <tr>\n      <th>2013-04-01 00:15:00</th>\n      <th>btc</th>\n      <th>usd</th>\n      <td>93.03001</td>\n      <td>93.03001</td>\n      <td>93.03001</td>\n      <td>93.03001</td>\n      <td>0.000000</td>\n    </tr>\n    <tr>\n      <th>2013-04-01 00:16:00</th>\n      <th>btc</th>\n      <th>usd</th>\n      <td>93.03001</td>\n      <td>93.03001</td>\n      <td>93.03001</td>\n      <td>93.03001</td>\n      <td>0.000000</td>\n    </tr>\n  </tbody>\n</table>\n</div>"
     },
     "execution_count": 5,
     "metadata": {},
     "output_type": "execute_result"
    }
   ],
   "source": [
    "prices.head(10)"
   ]
  },
  {
   "cell_type": "code",
   "execution_count": 6,
   "id": "young-extra",
   "metadata": {},
   "outputs": [
    {
     "data": {
      "text/plain": "                                    open     high      low    close  \\\ndate                symbol base                                       \n2021-05-18 06:59:00 luna   usd    15.388   15.388   15.388   15.388   \n                    sol    usd    50.163   50.163   50.163   50.163   \n2021-05-18 07:00:00 aave   usd   647.820  647.820  647.820  647.820   \n                    luna   usd    15.388   15.388   15.388   15.388   \n                    sol    usd    50.163   50.163   50.163   50.163   \n2021-05-18 07:01:00 luna   usd    15.376   15.406   15.376   15.376   \n                    sol    usd    50.304   50.304   50.301   50.304   \n2021-05-18 07:02:00 luna   usd    15.420   15.425   15.420   15.420   \n2021-05-18 07:03:00 luna   usd    15.438   15.438   15.438   15.438   \n2021-05-18 07:04:00 luna   usd    15.448   15.448   15.448   15.448   \n\n                                      volume  \ndate                symbol base               \n2021-05-18 06:59:00 luna   usd      0.000000  \n                    sol    usd      0.000000  \n2021-05-18 07:00:00 aave   usd      0.013275  \n                    luna   usd      0.000000  \n                    sol    usd      0.000000  \n2021-05-18 07:01:00 luna   usd    579.298200  \n                    sol    usd     36.807817  \n2021-05-18 07:02:00 luna   usd   1198.383100  \n2021-05-18 07:03:00 luna   usd     17.528177  \n2021-05-18 07:04:00 luna   usd     34.593475  ",
      "text/html": "<div>\n<style scoped>\n    .dataframe tbody tr th:only-of-type {\n        vertical-align: middle;\n    }\n\n    .dataframe tbody tr th {\n        vertical-align: top;\n    }\n\n    .dataframe thead th {\n        text-align: right;\n    }\n</style>\n<table border=\"1\" class=\"dataframe\">\n  <thead>\n    <tr style=\"text-align: right;\">\n      <th></th>\n      <th></th>\n      <th></th>\n      <th>open</th>\n      <th>high</th>\n      <th>low</th>\n      <th>close</th>\n      <th>volume</th>\n    </tr>\n    <tr>\n      <th>date</th>\n      <th>symbol</th>\n      <th>base</th>\n      <th></th>\n      <th></th>\n      <th></th>\n      <th></th>\n      <th></th>\n    </tr>\n  </thead>\n  <tbody>\n    <tr>\n      <th rowspan=\"2\" valign=\"top\">2021-05-18 06:59:00</th>\n      <th>luna</th>\n      <th>usd</th>\n      <td>15.388</td>\n      <td>15.388</td>\n      <td>15.388</td>\n      <td>15.388</td>\n      <td>0.000000</td>\n    </tr>\n    <tr>\n      <th>sol</th>\n      <th>usd</th>\n      <td>50.163</td>\n      <td>50.163</td>\n      <td>50.163</td>\n      <td>50.163</td>\n      <td>0.000000</td>\n    </tr>\n    <tr>\n      <th rowspan=\"3\" valign=\"top\">2021-05-18 07:00:00</th>\n      <th>aave</th>\n      <th>usd</th>\n      <td>647.820</td>\n      <td>647.820</td>\n      <td>647.820</td>\n      <td>647.820</td>\n      <td>0.013275</td>\n    </tr>\n    <tr>\n      <th>luna</th>\n      <th>usd</th>\n      <td>15.388</td>\n      <td>15.388</td>\n      <td>15.388</td>\n      <td>15.388</td>\n      <td>0.000000</td>\n    </tr>\n    <tr>\n      <th>sol</th>\n      <th>usd</th>\n      <td>50.163</td>\n      <td>50.163</td>\n      <td>50.163</td>\n      <td>50.163</td>\n      <td>0.000000</td>\n    </tr>\n    <tr>\n      <th rowspan=\"2\" valign=\"top\">2021-05-18 07:01:00</th>\n      <th>luna</th>\n      <th>usd</th>\n      <td>15.376</td>\n      <td>15.406</td>\n      <td>15.376</td>\n      <td>15.376</td>\n      <td>579.298200</td>\n    </tr>\n    <tr>\n      <th>sol</th>\n      <th>usd</th>\n      <td>50.304</td>\n      <td>50.304</td>\n      <td>50.301</td>\n      <td>50.304</td>\n      <td>36.807817</td>\n    </tr>\n    <tr>\n      <th>2021-05-18 07:02:00</th>\n      <th>luna</th>\n      <th>usd</th>\n      <td>15.420</td>\n      <td>15.425</td>\n      <td>15.420</td>\n      <td>15.420</td>\n      <td>1198.383100</td>\n    </tr>\n    <tr>\n      <th>2021-05-18 07:03:00</th>\n      <th>luna</th>\n      <th>usd</th>\n      <td>15.438</td>\n      <td>15.438</td>\n      <td>15.438</td>\n      <td>15.438</td>\n      <td>17.528177</td>\n    </tr>\n    <tr>\n      <th>2021-05-18 07:04:00</th>\n      <th>luna</th>\n      <th>usd</th>\n      <td>15.448</td>\n      <td>15.448</td>\n      <td>15.448</td>\n      <td>15.448</td>\n      <td>34.593475</td>\n    </tr>\n  </tbody>\n</table>\n</div>"
     },
     "execution_count": 6,
     "metadata": {},
     "output_type": "execute_result"
    }
   ],
   "source": [
    "prices.tail(10)"
   ]
  },
  {
   "cell_type": "code",
   "execution_count": 7,
   "id": "induced-scott",
   "metadata": {},
   "outputs": [
    {
     "name": "stdout",
     "output_type": "stream",
     "text": [
      "done\n"
     ]
    }
   ],
   "source": [
    "DATA_STORE = '../data/crypto.h5'\n",
    "with pd.HDFStore(DATA_STORE) as store:\n",
    "    store.put('crypto/caggle/prices', prices)\n",
    "print(\"done\")\n"
   ]
  },
  {
   "cell_type": "markdown",
   "id": "friendly-wireless",
   "metadata": {},
   "source": [
    "https://zaxrosenberg.com/pandas-multiindex-tutorial/\n"
   ]
  },
  {
   "cell_type": "code",
   "execution_count": 8,
   "id": "attractive-upgrade",
   "metadata": {},
   "outputs": [
    {
     "data": {
      "text/plain": "Index(['btc', 'ltc', 'eth', 'etc', 'xmr', 'xrp', 'miota', 'eos', 'neo', 'trx',\n       'dai', 'mtn', 'xlm', 'mkr', 'man', 'vet', 'xtz', 'bsv', 'usdt', 'usdc',\n       'btt', 'atom', 'wbtc', 'okb', 'algo', 'ftt', 'doge', 'ada', 'dot',\n       'ksm', 'uni', 'fil', 'sol', 'aave', 'avax', 'link', 'luna', 'bch'],\n      dtype='object', name='symbol')"
     },
     "execution_count": 8,
     "metadata": {},
     "output_type": "execute_result"
    }
   ],
   "source": [
    "prices.index.get_level_values('symbol').unique()"
   ]
  },
  {
   "cell_type": "code",
   "execution_count": 9,
   "id": "accomplished-father",
   "metadata": {},
   "outputs": [
    {
     "data": {
      "text/plain": "                                        open         high          low  \\\ndate                symbol base                                          \n2021-01-01 00:00:00 ada    usd       0.18148      0.18148      0.18148   \n                    algo   usd       0.33618      0.33631      0.33618   \n                    atom   usd       6.46280      6.46280      6.46280   \n                    bsv    usd     163.20000    163.20000    163.20000   \n                    btc    usd   28939.00000  28968.00000  28927.00000   \n...                                      ...          ...          ...   \n2021-05-18 07:01:00 luna   usd      15.37600     15.40600     15.37600   \n                    sol    usd      50.30400     50.30400     50.30100   \n2021-05-18 07:02:00 luna   usd      15.42000     15.42500     15.42000   \n2021-05-18 07:03:00 luna   usd      15.43800     15.43800     15.43800   \n2021-05-18 07:04:00 luna   usd      15.44800     15.44800     15.44800   \n\n                                       close       volume  \ndate                symbol base                            \n2021-01-01 00:00:00 ada    usd       0.18148     0.000000  \n                    algo   usd       0.33618   498.968034  \n                    atom   usd       6.46280     0.000000  \n                    bsv    usd     163.20000     0.000000  \n                    btc    usd   28939.00000     8.170374  \n...                                      ...          ...  \n2021-05-18 07:01:00 luna   usd      15.37600   579.298200  \n                    sol    usd      50.30400    36.807817  \n2021-05-18 07:02:00 luna   usd      15.42000  1198.383100  \n2021-05-18 07:03:00 luna   usd      15.43800    17.528177  \n2021-05-18 07:04:00 luna   usd      15.44800    34.593475  \n\n[6224322 rows x 5 columns]",
      "text/html": "<div>\n<style scoped>\n    .dataframe tbody tr th:only-of-type {\n        vertical-align: middle;\n    }\n\n    .dataframe tbody tr th {\n        vertical-align: top;\n    }\n\n    .dataframe thead th {\n        text-align: right;\n    }\n</style>\n<table border=\"1\" class=\"dataframe\">\n  <thead>\n    <tr style=\"text-align: right;\">\n      <th></th>\n      <th></th>\n      <th></th>\n      <th>open</th>\n      <th>high</th>\n      <th>low</th>\n      <th>close</th>\n      <th>volume</th>\n    </tr>\n    <tr>\n      <th>date</th>\n      <th>symbol</th>\n      <th>base</th>\n      <th></th>\n      <th></th>\n      <th></th>\n      <th></th>\n      <th></th>\n    </tr>\n  </thead>\n  <tbody>\n    <tr>\n      <th rowspan=\"5\" valign=\"top\">2021-01-01 00:00:00</th>\n      <th>ada</th>\n      <th>usd</th>\n      <td>0.18148</td>\n      <td>0.18148</td>\n      <td>0.18148</td>\n      <td>0.18148</td>\n      <td>0.000000</td>\n    </tr>\n    <tr>\n      <th>algo</th>\n      <th>usd</th>\n      <td>0.33618</td>\n      <td>0.33631</td>\n      <td>0.33618</td>\n      <td>0.33618</td>\n      <td>498.968034</td>\n    </tr>\n    <tr>\n      <th>atom</th>\n      <th>usd</th>\n      <td>6.46280</td>\n      <td>6.46280</td>\n      <td>6.46280</td>\n      <td>6.46280</td>\n      <td>0.000000</td>\n    </tr>\n    <tr>\n      <th>bsv</th>\n      <th>usd</th>\n      <td>163.20000</td>\n      <td>163.20000</td>\n      <td>163.20000</td>\n      <td>163.20000</td>\n      <td>0.000000</td>\n    </tr>\n    <tr>\n      <th>btc</th>\n      <th>usd</th>\n      <td>28939.00000</td>\n      <td>28968.00000</td>\n      <td>28927.00000</td>\n      <td>28939.00000</td>\n      <td>8.170374</td>\n    </tr>\n    <tr>\n      <th>...</th>\n      <th>...</th>\n      <th>...</th>\n      <td>...</td>\n      <td>...</td>\n      <td>...</td>\n      <td>...</td>\n      <td>...</td>\n    </tr>\n    <tr>\n      <th rowspan=\"2\" valign=\"top\">2021-05-18 07:01:00</th>\n      <th>luna</th>\n      <th>usd</th>\n      <td>15.37600</td>\n      <td>15.40600</td>\n      <td>15.37600</td>\n      <td>15.37600</td>\n      <td>579.298200</td>\n    </tr>\n    <tr>\n      <th>sol</th>\n      <th>usd</th>\n      <td>50.30400</td>\n      <td>50.30400</td>\n      <td>50.30100</td>\n      <td>50.30400</td>\n      <td>36.807817</td>\n    </tr>\n    <tr>\n      <th>2021-05-18 07:02:00</th>\n      <th>luna</th>\n      <th>usd</th>\n      <td>15.42000</td>\n      <td>15.42500</td>\n      <td>15.42000</td>\n      <td>15.42000</td>\n      <td>1198.383100</td>\n    </tr>\n    <tr>\n      <th>2021-05-18 07:03:00</th>\n      <th>luna</th>\n      <th>usd</th>\n      <td>15.43800</td>\n      <td>15.43800</td>\n      <td>15.43800</td>\n      <td>15.43800</td>\n      <td>17.528177</td>\n    </tr>\n    <tr>\n      <th>2021-05-18 07:04:00</th>\n      <th>luna</th>\n      <th>usd</th>\n      <td>15.44800</td>\n      <td>15.44800</td>\n      <td>15.44800</td>\n      <td>15.44800</td>\n      <td>34.593475</td>\n    </tr>\n  </tbody>\n</table>\n<p>6224322 rows × 5 columns</p>\n</div>"
     },
     "execution_count": 9,
     "metadata": {},
     "output_type": "execute_result"
    }
   ],
   "source": [
    "# inplace\n",
    "idx = pd.IndexSlice\n",
    "prices.loc[idx['2021']]"
   ]
  },
  {
   "cell_type": "code",
   "execution_count": 10,
   "id": "expected-newsletter",
   "metadata": {},
   "outputs": [
    {
     "data": {
      "text/plain": "                               open       high        low      close  \\\ndate                base                                               \n2013-04-01 00:07:00 usd    93.25000   93.30000   93.25000   93.25000   \n2013-04-01 00:08:00 usd   100.00000  100.00000  100.00000  100.00000   \n2013-04-01 00:09:00 usd    93.30000   93.30000   93.30000   93.30000   \n2013-04-01 00:10:00 usd    93.30000   93.30000   93.30000   93.30000   \n2013-04-01 00:11:00 usd    93.35000   93.47000   93.35000   93.35000   \n2013-04-01 00:12:00 usd    93.47000   93.47000   93.47000   93.47000   \n2013-04-01 00:13:00 usd    93.03001   93.03001   93.03000   93.03001   \n2013-04-01 00:14:00 usd    93.03001   93.03001   93.03001   93.03001   \n2013-04-01 00:15:00 usd    93.03001   93.03001   93.03001   93.03001   \n2013-04-01 00:16:00 usd    93.03001   93.03001   93.03001   93.03001   \n\n                             volume  \ndate                base             \n2013-04-01 00:07:00 usd   93.300000  \n2013-04-01 00:08:00 usd   93.300000  \n2013-04-01 00:09:00 usd   33.676862  \n2013-04-01 00:10:00 usd    0.000000  \n2013-04-01 00:11:00 usd   20.000000  \n2013-04-01 00:12:00 usd    2.021627  \n2013-04-01 00:13:00 usd    4.985400  \n2013-04-01 00:14:00 usd    0.000000  \n2013-04-01 00:15:00 usd    0.000000  \n2013-04-01 00:16:00 usd    0.000000  ",
      "text/html": "<div>\n<style scoped>\n    .dataframe tbody tr th:only-of-type {\n        vertical-align: middle;\n    }\n\n    .dataframe tbody tr th {\n        vertical-align: top;\n    }\n\n    .dataframe thead th {\n        text-align: right;\n    }\n</style>\n<table border=\"1\" class=\"dataframe\">\n  <thead>\n    <tr style=\"text-align: right;\">\n      <th></th>\n      <th></th>\n      <th>open</th>\n      <th>high</th>\n      <th>low</th>\n      <th>close</th>\n      <th>volume</th>\n    </tr>\n    <tr>\n      <th>date</th>\n      <th>base</th>\n      <th></th>\n      <th></th>\n      <th></th>\n      <th></th>\n      <th></th>\n    </tr>\n  </thead>\n  <tbody>\n    <tr>\n      <th>2013-04-01 00:07:00</th>\n      <th>usd</th>\n      <td>93.25000</td>\n      <td>93.30000</td>\n      <td>93.25000</td>\n      <td>93.25000</td>\n      <td>93.300000</td>\n    </tr>\n    <tr>\n      <th>2013-04-01 00:08:00</th>\n      <th>usd</th>\n      <td>100.00000</td>\n      <td>100.00000</td>\n      <td>100.00000</td>\n      <td>100.00000</td>\n      <td>93.300000</td>\n    </tr>\n    <tr>\n      <th>2013-04-01 00:09:00</th>\n      <th>usd</th>\n      <td>93.30000</td>\n      <td>93.30000</td>\n      <td>93.30000</td>\n      <td>93.30000</td>\n      <td>33.676862</td>\n    </tr>\n    <tr>\n      <th>2013-04-01 00:10:00</th>\n      <th>usd</th>\n      <td>93.30000</td>\n      <td>93.30000</td>\n      <td>93.30000</td>\n      <td>93.30000</td>\n      <td>0.000000</td>\n    </tr>\n    <tr>\n      <th>2013-04-01 00:11:00</th>\n      <th>usd</th>\n      <td>93.35000</td>\n      <td>93.47000</td>\n      <td>93.35000</td>\n      <td>93.35000</td>\n      <td>20.000000</td>\n    </tr>\n    <tr>\n      <th>2013-04-01 00:12:00</th>\n      <th>usd</th>\n      <td>93.47000</td>\n      <td>93.47000</td>\n      <td>93.47000</td>\n      <td>93.47000</td>\n      <td>2.021627</td>\n    </tr>\n    <tr>\n      <th>2013-04-01 00:13:00</th>\n      <th>usd</th>\n      <td>93.03001</td>\n      <td>93.03001</td>\n      <td>93.03000</td>\n      <td>93.03001</td>\n      <td>4.985400</td>\n    </tr>\n    <tr>\n      <th>2013-04-01 00:14:00</th>\n      <th>usd</th>\n      <td>93.03001</td>\n      <td>93.03001</td>\n      <td>93.03001</td>\n      <td>93.03001</td>\n      <td>0.000000</td>\n    </tr>\n    <tr>\n      <th>2013-04-01 00:15:00</th>\n      <th>usd</th>\n      <td>93.03001</td>\n      <td>93.03001</td>\n      <td>93.03001</td>\n      <td>93.03001</td>\n      <td>0.000000</td>\n    </tr>\n    <tr>\n      <th>2013-04-01 00:16:00</th>\n      <th>usd</th>\n      <td>93.03001</td>\n      <td>93.03001</td>\n      <td>93.03001</td>\n      <td>93.03001</td>\n      <td>0.000000</td>\n    </tr>\n  </tbody>\n</table>\n</div>"
     },
     "execution_count": 10,
     "metadata": {},
     "output_type": "execute_result"
    }
   ],
   "source": [
    "# copies.. \n",
    "prices.xs('btc', level='symbol').head(10)"
   ]
  },
  {
   "cell_type": "code",
   "execution_count": 11,
   "id": "essential-forth",
   "metadata": {},
   "outputs": [
    {
     "data": {
      "text/plain": "                                   open    high     low   close     volume\ndate                symbol base                                           \n2015-12-09 19:42:00 btc    usd   415.73  415.73  415.73  415.73   0.030000\n2015-12-09 19:43:00 btc    usd   415.73  415.73  415.73  415.73   8.024132\n2015-12-09 19:44:00 btc    usd   415.72  415.72  415.68  415.72   3.773917\n2015-12-09 19:45:00 btc    usd   415.63  415.68  415.00  415.63  52.890743\n2015-12-09 19:46:00 btc    usd   415.01  415.01  414.74  415.01  70.141385\n...                                 ...     ...     ...     ...        ...\n2015-12-10 07:37:00 btc    usd   412.69  413.49  412.66  412.69  38.824753\n2015-12-10 07:38:00 btc    usd   413.50  413.50  412.79  413.50   1.347561\n2015-12-10 07:39:00 btc    usd   413.50  413.50  413.50  413.50   0.000000\n2015-12-10 07:40:00 btc    usd   413.46  413.46  413.46  413.46   0.023000\n2015-12-10 07:41:00 btc    usd   413.24  413.24  413.24  413.24   3.000000\n\n[720 rows x 5 columns]",
      "text/html": "<div>\n<style scoped>\n    .dataframe tbody tr th:only-of-type {\n        vertical-align: middle;\n    }\n\n    .dataframe tbody tr th {\n        vertical-align: top;\n    }\n\n    .dataframe thead th {\n        text-align: right;\n    }\n</style>\n<table border=\"1\" class=\"dataframe\">\n  <thead>\n    <tr style=\"text-align: right;\">\n      <th></th>\n      <th></th>\n      <th></th>\n      <th>open</th>\n      <th>high</th>\n      <th>low</th>\n      <th>close</th>\n      <th>volume</th>\n    </tr>\n    <tr>\n      <th>date</th>\n      <th>symbol</th>\n      <th>base</th>\n      <th></th>\n      <th></th>\n      <th></th>\n      <th></th>\n      <th></th>\n    </tr>\n  </thead>\n  <tbody>\n    <tr>\n      <th>2015-12-09 19:42:00</th>\n      <th>btc</th>\n      <th>usd</th>\n      <td>415.73</td>\n      <td>415.73</td>\n      <td>415.73</td>\n      <td>415.73</td>\n      <td>0.030000</td>\n    </tr>\n    <tr>\n      <th>2015-12-09 19:43:00</th>\n      <th>btc</th>\n      <th>usd</th>\n      <td>415.73</td>\n      <td>415.73</td>\n      <td>415.73</td>\n      <td>415.73</td>\n      <td>8.024132</td>\n    </tr>\n    <tr>\n      <th>2015-12-09 19:44:00</th>\n      <th>btc</th>\n      <th>usd</th>\n      <td>415.72</td>\n      <td>415.72</td>\n      <td>415.68</td>\n      <td>415.72</td>\n      <td>3.773917</td>\n    </tr>\n    <tr>\n      <th>2015-12-09 19:45:00</th>\n      <th>btc</th>\n      <th>usd</th>\n      <td>415.63</td>\n      <td>415.68</td>\n      <td>415.00</td>\n      <td>415.63</td>\n      <td>52.890743</td>\n    </tr>\n    <tr>\n      <th>2015-12-09 19:46:00</th>\n      <th>btc</th>\n      <th>usd</th>\n      <td>415.01</td>\n      <td>415.01</td>\n      <td>414.74</td>\n      <td>415.01</td>\n      <td>70.141385</td>\n    </tr>\n    <tr>\n      <th>...</th>\n      <th>...</th>\n      <th>...</th>\n      <td>...</td>\n      <td>...</td>\n      <td>...</td>\n      <td>...</td>\n      <td>...</td>\n    </tr>\n    <tr>\n      <th>2015-12-10 07:37:00</th>\n      <th>btc</th>\n      <th>usd</th>\n      <td>412.69</td>\n      <td>413.49</td>\n      <td>412.66</td>\n      <td>412.69</td>\n      <td>38.824753</td>\n    </tr>\n    <tr>\n      <th>2015-12-10 07:38:00</th>\n      <th>btc</th>\n      <th>usd</th>\n      <td>413.50</td>\n      <td>413.50</td>\n      <td>412.79</td>\n      <td>413.50</td>\n      <td>1.347561</td>\n    </tr>\n    <tr>\n      <th>2015-12-10 07:39:00</th>\n      <th>btc</th>\n      <th>usd</th>\n      <td>413.50</td>\n      <td>413.50</td>\n      <td>413.50</td>\n      <td>413.50</td>\n      <td>0.000000</td>\n    </tr>\n    <tr>\n      <th>2015-12-10 07:40:00</th>\n      <th>btc</th>\n      <th>usd</th>\n      <td>413.46</td>\n      <td>413.46</td>\n      <td>413.46</td>\n      <td>413.46</td>\n      <td>0.023000</td>\n    </tr>\n    <tr>\n      <th>2015-12-10 07:41:00</th>\n      <th>btc</th>\n      <th>usd</th>\n      <td>413.24</td>\n      <td>413.24</td>\n      <td>413.24</td>\n      <td>413.24</td>\n      <td>3.000000</td>\n    </tr>\n  </tbody>\n</table>\n<p>720 rows × 5 columns</p>\n</div>"
     },
     "execution_count": 11,
     "metadata": {},
     "output_type": "execute_result"
    }
   ],
   "source": [
    "# buggy date\n",
    "prices.xs(('2018-07-01', 'btc', 'usd'), level=['date', 'symbol', 'base'])\n"
   ]
  },
  {
   "cell_type": "code",
   "execution_count": 12,
   "id": "classical-scottish",
   "metadata": {},
   "outputs": [
    {
     "data": {
      "text/plain": "                         open          high           low     close     volume\ndate                                                                          \n2013-04-01 00:07:00     93.25     93.300000     93.250000     93.25  93.300000\n2013-04-01 00:08:00    100.00    100.000000    100.000000    100.00  93.300000\n2013-04-01 00:09:00     93.30     93.300000     93.300000     93.30  33.676862\n2013-04-01 00:10:00     93.30     93.300000     93.300000     93.30   0.000000\n2013-04-01 00:11:00     93.35     93.470000     93.350000     93.35  20.000000\n...                       ...           ...           ...       ...        ...\n2021-05-18 06:08:00  45541.00  45554.000000  45511.000000  45541.00   7.038603\n2021-05-18 06:09:00  45518.00  45657.000000  45515.000000  45518.00  10.710958\n2021-05-18 06:10:00  45657.00  45665.000000  45569.000000  45657.00   5.758582\n2021-05-18 06:11:00  45605.00  45746.162878  45604.000000  45605.00  12.267985\n2021-05-18 06:12:00  45745.00  45763.000000  45724.262536  45745.00   0.113206\n\n[4275726 rows x 5 columns]",
      "text/html": "<div>\n<style scoped>\n    .dataframe tbody tr th:only-of-type {\n        vertical-align: middle;\n    }\n\n    .dataframe tbody tr th {\n        vertical-align: top;\n    }\n\n    .dataframe thead th {\n        text-align: right;\n    }\n</style>\n<table border=\"1\" class=\"dataframe\">\n  <thead>\n    <tr style=\"text-align: right;\">\n      <th></th>\n      <th>open</th>\n      <th>high</th>\n      <th>low</th>\n      <th>close</th>\n      <th>volume</th>\n    </tr>\n    <tr>\n      <th>date</th>\n      <th></th>\n      <th></th>\n      <th></th>\n      <th></th>\n      <th></th>\n    </tr>\n  </thead>\n  <tbody>\n    <tr>\n      <th>2013-04-01 00:07:00</th>\n      <td>93.25</td>\n      <td>93.300000</td>\n      <td>93.250000</td>\n      <td>93.25</td>\n      <td>93.300000</td>\n    </tr>\n    <tr>\n      <th>2013-04-01 00:08:00</th>\n      <td>100.00</td>\n      <td>100.000000</td>\n      <td>100.000000</td>\n      <td>100.00</td>\n      <td>93.300000</td>\n    </tr>\n    <tr>\n      <th>2013-04-01 00:09:00</th>\n      <td>93.30</td>\n      <td>93.300000</td>\n      <td>93.300000</td>\n      <td>93.30</td>\n      <td>33.676862</td>\n    </tr>\n    <tr>\n      <th>2013-04-01 00:10:00</th>\n      <td>93.30</td>\n      <td>93.300000</td>\n      <td>93.300000</td>\n      <td>93.30</td>\n      <td>0.000000</td>\n    </tr>\n    <tr>\n      <th>2013-04-01 00:11:00</th>\n      <td>93.35</td>\n      <td>93.470000</td>\n      <td>93.350000</td>\n      <td>93.35</td>\n      <td>20.000000</td>\n    </tr>\n    <tr>\n      <th>...</th>\n      <td>...</td>\n      <td>...</td>\n      <td>...</td>\n      <td>...</td>\n      <td>...</td>\n    </tr>\n    <tr>\n      <th>2021-05-18 06:08:00</th>\n      <td>45541.00</td>\n      <td>45554.000000</td>\n      <td>45511.000000</td>\n      <td>45541.00</td>\n      <td>7.038603</td>\n    </tr>\n    <tr>\n      <th>2021-05-18 06:09:00</th>\n      <td>45518.00</td>\n      <td>45657.000000</td>\n      <td>45515.000000</td>\n      <td>45518.00</td>\n      <td>10.710958</td>\n    </tr>\n    <tr>\n      <th>2021-05-18 06:10:00</th>\n      <td>45657.00</td>\n      <td>45665.000000</td>\n      <td>45569.000000</td>\n      <td>45657.00</td>\n      <td>5.758582</td>\n    </tr>\n    <tr>\n      <th>2021-05-18 06:11:00</th>\n      <td>45605.00</td>\n      <td>45746.162878</td>\n      <td>45604.000000</td>\n      <td>45605.00</td>\n      <td>12.267985</td>\n    </tr>\n    <tr>\n      <th>2021-05-18 06:12:00</th>\n      <td>45745.00</td>\n      <td>45763.000000</td>\n      <td>45724.262536</td>\n      <td>45745.00</td>\n      <td>0.113206</td>\n    </tr>\n  </tbody>\n</table>\n<p>4275726 rows × 5 columns</p>\n</div>"
     },
     "execution_count": 12,
     "metadata": {},
     "output_type": "execute_result"
    }
   ],
   "source": [
    "prices.xs(('btc', 'usd'), level=['symbol', 'base'])"
   ]
  },
  {
   "cell_type": "code",
   "execution_count": 13,
   "id": "foster-lodging",
   "metadata": {},
   "outputs": [
    {
     "ename": "SyntaxError",
     "evalue": "invalid syntax (<unknown>, line 1)",
     "output_type": "error",
     "traceback": [
      "Traceback \u001B[0;36m(most recent call last)\u001B[0m:\n",
      "  File \u001B[1;32m\"/home/jens/miniconda3/envs/ml4t/lib/python3.8/site-packages/IPython/core/interactiveshell.py\"\u001B[0m, line \u001B[1;32m3441\u001B[0m, in \u001B[1;35mrun_code\u001B[0m\n    exec(code_obj, self.user_global_ns, self.user_ns)\n",
      "  File \u001B[1;32m\"<ipython-input-13-5333936a42fd>\"\u001B[0m, line \u001B[1;32m2\u001B[0m, in \u001B[1;35m<module>\u001B[0m\n    result = prices.query(\"'symbol =='btc'\")\n",
      "  File \u001B[1;32m\"/home/jens/miniconda3/envs/ml4t/lib/python3.8/site-packages/pandas/core/frame.py\"\u001B[0m, line \u001B[1;32m3469\u001B[0m, in \u001B[1;35mquery\u001B[0m\n    res = self.eval(expr, **kwargs)\n",
      "  File \u001B[1;32m\"/home/jens/miniconda3/envs/ml4t/lib/python3.8/site-packages/pandas/core/frame.py\"\u001B[0m, line \u001B[1;32m3599\u001B[0m, in \u001B[1;35meval\u001B[0m\n    return _eval(expr, inplace=inplace, **kwargs)\n",
      "  File \u001B[1;32m\"/home/jens/miniconda3/envs/ml4t/lib/python3.8/site-packages/pandas/core/computation/eval.py\"\u001B[0m, line \u001B[1;32m342\u001B[0m, in \u001B[1;35meval\u001B[0m\n    parsed_expr = Expr(expr, engine=engine, parser=parser, env=env)\n",
      "  File \u001B[1;32m\"/home/jens/miniconda3/envs/ml4t/lib/python3.8/site-packages/pandas/core/computation/expr.py\"\u001B[0m, line \u001B[1;32m798\u001B[0m, in \u001B[1;35m__init__\u001B[0m\n    self.terms = self.parse()\n",
      "  File \u001B[1;32m\"/home/jens/miniconda3/envs/ml4t/lib/python3.8/site-packages/pandas/core/computation/expr.py\"\u001B[0m, line \u001B[1;32m817\u001B[0m, in \u001B[1;35mparse\u001B[0m\n    return self._visitor.visit(self.expr)\n",
      "  File \u001B[1;32m\"/home/jens/miniconda3/envs/ml4t/lib/python3.8/site-packages/pandas/core/computation/expr.py\"\u001B[0m, line \u001B[1;32m397\u001B[0m, in \u001B[1;35mvisit\u001B[0m\n    raise e\n",
      "  File \u001B[1;32m\"/home/jens/miniconda3/envs/ml4t/lib/python3.8/site-packages/pandas/core/computation/expr.py\"\u001B[0m, line \u001B[1;32m393\u001B[0m, in \u001B[1;35mvisit\u001B[0m\n    node = ast.fix_missing_locations(ast.parse(clean))\n",
      "\u001B[0;36m  File \u001B[0;32m\"/home/jens/miniconda3/envs/ml4t/lib/python3.8/ast.py\"\u001B[0;36m, line \u001B[0;32m47\u001B[0;36m, in \u001B[0;35mparse\u001B[0;36m\u001B[0m\n\u001B[0;31m    return compile(source, filename, mode, flags,\u001B[0m\n",
      "\u001B[0;36m  File \u001B[0;32m\"<unknown>\"\u001B[0;36m, line \u001B[0;32m1\u001B[0m\n\u001B[0;31m    'symbol =='btc '\u001B[0m\n\u001B[0m               ^\u001B[0m\n\u001B[0;31mSyntaxError\u001B[0m\u001B[0;31m:\u001B[0m invalid syntax\n"
     ]
    }
   ],
   "source": [
    "\n",
    "# seems only the first result\n",
    "result = prices.query(\"'symbol =='btc'\")\n",
    "print(result)"
   ]
  },
  {
   "cell_type": "code",
   "execution_count": null,
   "id": "fatal-eleven",
   "metadata": {},
   "outputs": [],
   "source": [
    "'btc' in prices.index.get_level_values('symbol') and 'usd' in prices.index.get_level_values('base')"
   ]
  },
  {
   "cell_type": "code",
   "execution_count": null,
   "outputs": [],
   "source": [
    "'btc' in prices.index.get_level_values('symbol') and 'xxxn' in prices.index.get_level_values('base')"
   ],
   "metadata": {
    "collapsed": false,
    "pycharm": {
     "name": "#%%\n"
    }
   }
  }
 ],
 "metadata": {
  "kernelspec": {
   "name": "python3",
   "language": "python",
   "display_name": "Python 3"
  },
  "language_info": {
   "codemirror_mode": {
    "name": "ipython",
    "version": 3
   },
   "file_extension": ".py",
   "mimetype": "text/x-python",
   "name": "python",
   "nbconvert_exporter": "python",
   "pygments_lexer": "ipython3",
   "version": "3.8.8"
  }
 },
 "nbformat": 4,
 "nbformat_minor": 5
}