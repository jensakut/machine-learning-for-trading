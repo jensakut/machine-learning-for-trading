{
 "cells": [
  {
   "cell_type": "markdown",
   "id": "musical-globe",
   "metadata": {},
   "source": [
    "# Market Cap\n",
    "\n",
    "- load coinmarketcap data \n",
    "- create an crypto equivalent of \"stocks\" with marketcap, IPO, sector \n",
    "\n"
   ]
  },
  {
   "cell_type": "code",
   "execution_count": 9,
   "id": "dietary-lindsay",
   "metadata": {},
   "outputs": [],
   "source": [
    "import time\n",
    "import random\n",
    "import pandas as pd\n",
    "from tqdm import tqdm\n",
    "from pycoingecko import CoinGeckoAPI\n",
    "cg = CoinGeckoAPI()\n",
    "import numpy as np"
   ]
  },
  {
   "cell_type": "code",
   "execution_count": 10,
   "id": "unavailable-louisiana",
   "metadata": {},
   "outputs": [
    {
     "data": {
      "text/plain": "                  market_cap\nid                          \nbitcoin         913336682042\nethereum        441749942266\nbinancecoin      89476751960\ncardano          73996510073\nripple           69520974761\n...                      ...\nravencoin         1250059905\nhelium            1231845711\npaxos-standard    1219919268\ntrue-usd          1203363771\narweave           1200311400\n\n[100 rows x 1 columns]",
      "text/html": "<div>\n<style scoped>\n    .dataframe tbody tr th:only-of-type {\n        vertical-align: middle;\n    }\n\n    .dataframe tbody tr th {\n        vertical-align: top;\n    }\n\n    .dataframe thead th {\n        text-align: right;\n    }\n</style>\n<table border=\"1\" class=\"dataframe\">\n  <thead>\n    <tr style=\"text-align: right;\">\n      <th></th>\n      <th>market_cap</th>\n    </tr>\n    <tr>\n      <th>id</th>\n      <th></th>\n    </tr>\n  </thead>\n  <tbody>\n    <tr>\n      <th>bitcoin</th>\n      <td>913336682042</td>\n    </tr>\n    <tr>\n      <th>ethereum</th>\n      <td>441749942266</td>\n    </tr>\n    <tr>\n      <th>binancecoin</th>\n      <td>89476751960</td>\n    </tr>\n    <tr>\n      <th>cardano</th>\n      <td>73996510073</td>\n    </tr>\n    <tr>\n      <th>ripple</th>\n      <td>69520974761</td>\n    </tr>\n    <tr>\n      <th>...</th>\n      <td>...</td>\n    </tr>\n    <tr>\n      <th>ravencoin</th>\n      <td>1250059905</td>\n    </tr>\n    <tr>\n      <th>helium</th>\n      <td>1231845711</td>\n    </tr>\n    <tr>\n      <th>paxos-standard</th>\n      <td>1219919268</td>\n    </tr>\n    <tr>\n      <th>true-usd</th>\n      <td>1203363771</td>\n    </tr>\n    <tr>\n      <th>arweave</th>\n      <td>1200311400</td>\n    </tr>\n  </tbody>\n</table>\n<p>100 rows × 1 columns</p>\n</div>"
     },
     "execution_count": 2,
     "metadata": {},
     "output_type": "execute_result"
    },
    {
     "data": {
      "text/plain": "                   market_cap\nid                           \nbitcoin          905892418127\nethereum         439285595495\nbinancecoin       89668064146\ncardano           73453078781\nripple            69154084723\n...                       ...\nravencoin          1243857894\nhelium             1218321110\npaxos-standard     1216071384\ntrue-usd           1199587802\ncurve-dao-token    1176637922\n\n[100 rows x 1 columns]",
      "text/html": "<div>\n<style scoped>\n    .dataframe tbody tr th:only-of-type {\n        vertical-align: middle;\n    }\n\n    .dataframe tbody tr th {\n        vertical-align: top;\n    }\n\n    .dataframe thead th {\n        text-align: right;\n    }\n</style>\n<table border=\"1\" class=\"dataframe\">\n  <thead>\n    <tr style=\"text-align: right;\">\n      <th></th>\n      <th>market_cap</th>\n    </tr>\n    <tr>\n      <th>id</th>\n      <th></th>\n    </tr>\n  </thead>\n  <tbody>\n    <tr>\n      <th>bitcoin</th>\n      <td>905892418127</td>\n    </tr>\n    <tr>\n      <th>ethereum</th>\n      <td>439285595495</td>\n    </tr>\n    <tr>\n      <th>binancecoin</th>\n      <td>89668064146</td>\n    </tr>\n    <tr>\n      <th>cardano</th>\n      <td>73453078781</td>\n    </tr>\n    <tr>\n      <th>ripple</th>\n      <td>69154084723</td>\n    </tr>\n    <tr>\n      <th>...</th>\n      <td>...</td>\n    </tr>\n    <tr>\n      <th>ravencoin</th>\n      <td>1243857894</td>\n    </tr>\n    <tr>\n      <th>helium</th>\n      <td>1218321110</td>\n    </tr>\n    <tr>\n      <th>paxos-standard</th>\n      <td>1216071384</td>\n    </tr>\n    <tr>\n      <th>true-usd</th>\n      <td>1199587802</td>\n    </tr>\n    <tr>\n      <th>curve-dao-token</th>\n      <td>1176637922</td>\n    </tr>\n  </tbody>\n</table>\n<p>100 rows × 1 columns</p>\n</div>"
     },
     "execution_count": 10,
     "metadata": {},
     "output_type": "execute_result"
    }
   ],
   "source": [
    "# get top 100 coins from coingecko \n",
    "\n",
    "top_100_coins = cg.get_coins_markets(vs_currency='usd')\n",
    "\n",
    "top_100_coins_df = pd.DataFrame(top_100_coins)\n",
    "top_100_coins_df.set_index('id',inplace=True)\n",
    "col_list = ['market_cap', ]\n",
    "top_100_coins_df = top_100_coins_df.loc[:, col_list]\n",
    "\n",
    "top_100_coins_list = top_100_coins_df.index.tolist()\n",
    "\n",
    "\n",
    "top_100_coins_df"
   ]
  },
  {
   "cell_type": "code",
   "execution_count": 11,
   "id": "biological-freight",
   "metadata": {},
   "outputs": [
    {
     "name": "stderr",
     "output_type": "stream",
     "text": [
      "100%|██████████| 100/100 [05:40<00:00,  3.40s/it]\n",
      "100%|██████████| 100/100 [05:21<00:00,  3.22s/it]\n"
     ]
    }
   ],
   "source": [
    "# for each coin id get detailed information and store it into a market_df\n",
    "\n",
    "market = []\n",
    "raw_data = []\n",
    "for idx in tqdm(top_100_coins_list):\n",
    "    coin = cg.get_coin_by_id(id=idx, localization=False, vs_currencies='usd',include_market_cap=False,\n",
    "                             include_24hr_vol=False,include_24hr_change=False,include_last_updated_at=False)\n",
    "    raw_data.append(coin)\n",
    "    coin_info = [idx]\n",
    "    coin_info.append(coin['symbol'])\n",
    "    coin_info.append(coin['name'])\n",
    "    coin_info.append(coin['genesis_date'])\n",
    "    coin_info.append(coin['market_cap_rank'])\n",
    "    coin_info.append(coin['hashing_algorithm'])\n",
    "    coin_info.append(coin['coingecko_rank'])\n",
    "    coin_info.append(coin['coingecko_score'])\n",
    "    coin_info.append(coin['developer_score'])\n",
    "    coin_info.append(coin['community_score'])\n",
    "    coin_info.append(coin['liquidity_score'])\n",
    "    coin_info.append(coin['public_interest_score'])\n",
    "    market.append(coin_info)\n",
    "    time.sleep(random.randint(0, 5))\n",
    "    \n",
    "market_df = pd.DataFrame(market, columns = ['id', 'symbol', 'name', 'genesis_date',\n",
    "                                            'market_cap_rank', 'hashing_algorithm', \n",
    "                                            'coingecko_rank', 'coingecko_score', 'developer_score', 'community_score', \n",
    "                                            'liquidity_score', 'public_interest_score'])\n",
    "    \n",
    "market_df['genesis_date'] = pd.to_datetime(market_df['genesis_date'])\n",
    "market_df['base'] = 'usd'"
   ]
  },
  {
   "cell_type": "code",
   "execution_count": 12,
   "id": "ongoing-elimination",
   "metadata": {},
   "outputs": [],
   "source": [
    "# combine the information into the market\n",
    "\n",
    "market = top_100_coins_df.merge(market_df, on='id')\n",
    "\n",
    "market.set_index(['symbol', 'base'], inplace=True)"
   ]
  },
  {
   "cell_type": "code",
   "execution_count": 17,
   "outputs": [
    {
     "name": "stdout",
     "output_type": "stream",
     "text": [
      "<class 'pandas.core.frame.DataFrame'>\n",
      "MultiIndex: 100 entries, ('btc', 'usd') to ('crv', 'usd')\n",
      "Data columns (total 12 columns):\n",
      " #   Column                 Non-Null Count  Dtype         \n",
      "---  ------                 --------------  -----         \n",
      " 0   id                     100 non-null    object        \n",
      " 1   market_cap             100 non-null    int64         \n",
      " 2   name                   100 non-null    object        \n",
      " 3   genesis_date           38 non-null     datetime64[ns]\n",
      " 4   market_cap_rank        100 non-null    int64         \n",
      " 5   hashing_algorithm      29 non-null     object        \n",
      " 6   coingecko_rank         100 non-null    int64         \n",
      " 7   coingecko_score        100 non-null    float64       \n",
      " 8   developer_score        100 non-null    float64       \n",
      " 9   community_score        100 non-null    float64       \n",
      " 10  liquidity_score        100 non-null    float64       \n",
      " 11  public_interest_score  100 non-null    float64       \n",
      "dtypes: datetime64[ns](1), float64(5), int64(3), object(3)\n",
      "memory usage: 14.6+ KB\n",
      "<class 'pandas.core.frame.DataFrame'>\n",
      "MultiIndex: 100 entries, ('btc', 'usd') to ('crv', 'usd')\n",
      "Data columns (total 12 columns):\n",
      " #   Column                 Non-Null Count  Dtype         \n",
      "---  ------                 --------------  -----         \n",
      " 0   id                     100 non-null    object        \n",
      " 1   market_cap             100 non-null    int64         \n",
      " 2   name                   100 non-null    object        \n",
      " 3   genesis_date           38 non-null     datetime64[ns]\n",
      " 4   market_cap_rank        100 non-null    int64         \n",
      " 5   hashing_algorithm      100 non-null    object        \n",
      " 6   coingecko_rank         100 non-null    int64         \n",
      " 7   coingecko_score        100 non-null    float64       \n",
      " 8   developer_score        100 non-null    float64       \n",
      " 9   community_score        100 non-null    float64       \n",
      " 10  liquidity_score        100 non-null    float64       \n",
      " 11  public_interest_score  100 non-null    float64       \n",
      "dtypes: datetime64[ns](1), float64(5), int64(3), object(3)\n",
      "memory usage: 14.6+ KB\n"
     ]
    }
   ],
   "source": [
    "# todo figure out why name and hasing algorithm are object and not string\n",
    "market.info()\n",
    "market['name'] = market['name'].astype(str)\n",
    "market['hashing_algorithm'] = market['hashing_algorithm'].astype(str)\n",
    "market.info()"
   ],
   "metadata": {
    "collapsed": false,
    "pycharm": {
     "name": "#%%\n"
    }
   }
  },
  {
   "cell_type": "code",
   "execution_count": 13,
   "id": "complex-behavior",
   "metadata": {},
   "outputs": [
    {
     "data": {
      "text/plain": "                       id    market_cap          name genesis_date  \\\nsymbol base                                                          \nbtc    usd        bitcoin  913336682042       Bitcoin   2009-01-03   \neth    usd       ethereum  441749942266      Ethereum   2015-07-30   \nbnb    usd    binancecoin   89476751960  Binance Coin   2017-07-08   \nada    usd        cardano   73996510073       Cardano          NaT   \nxrp    usd         ripple   69520974761           XRP          NaT   \ndoge   usd       dogecoin   67852149883      Dogecoin   2013-12-08   \nusdt   usd         tether   58853033625        Tether          NaT   \ndot    usd       polkadot   45945737762      Polkadot          NaT   \nbch    usd   bitcoin-cash   22807523955  Bitcoin Cash          NaT   \nltc    usd       litecoin   20723723753      Litecoin   2011-10-08   \n\n             market_cap_rank hashing_algorithm  coingecko_rank  \\\nsymbol base                                                      \nbtc    usd                 1           SHA-256               2   \neth    usd                 2            Ethash               3   \nbnb    usd                 3              None               5   \nada    usd                 4              None              11   \nxrp    usd                 5              None               9   \ndoge   usd                 6            Scrypt               4   \nusdt   usd                 7              None             151   \ndot    usd                 8              None             141   \nbch    usd                 9           SHA-256             117   \nltc    usd                10            Scrypt              10   \n\n             coingecko_score  developer_score  community_score  \\\nsymbol base                                                      \nbtc    usd            79.223           98.887           65.771   \neth    usd            77.163           97.176           62.612   \nbnb    usd            67.775           73.253           66.032   \nada    usd            64.704           70.448           58.225   \nxrp    usd            65.306           71.120           54.187   \ndoge   usd            74.216           72.860           88.175   \nusdt   usd            41.650            0.000           10.676   \ndot    usd            42.397            0.000           42.866   \nbch    usd            45.292            0.000           46.998   \nltc    usd            64.889           73.374           53.250   \n\n             liquidity_score  public_interest_score  \nsymbol base                                          \nbtc    usd           100.158                    0.0  \neth    usd            98.968                    0.0  \nbnb    usd            83.296                    0.0  \nada    usd            82.204                    0.0  \nxrp    usd            87.663                    0.0  \ndoge   usd            92.287                    0.0  \nusdt   usd           107.153                    0.0  \ndot    usd            76.642                    0.0  \nbch    usd            88.084                    0.0  \nltc    usd            87.720                    0.0  ",
      "text/html": "<div>\n<style scoped>\n    .dataframe tbody tr th:only-of-type {\n        vertical-align: middle;\n    }\n\n    .dataframe tbody tr th {\n        vertical-align: top;\n    }\n\n    .dataframe thead th {\n        text-align: right;\n    }\n</style>\n<table border=\"1\" class=\"dataframe\">\n  <thead>\n    <tr style=\"text-align: right;\">\n      <th></th>\n      <th></th>\n      <th>id</th>\n      <th>market_cap</th>\n      <th>name</th>\n      <th>genesis_date</th>\n      <th>market_cap_rank</th>\n      <th>hashing_algorithm</th>\n      <th>coingecko_rank</th>\n      <th>coingecko_score</th>\n      <th>developer_score</th>\n      <th>community_score</th>\n      <th>liquidity_score</th>\n      <th>public_interest_score</th>\n    </tr>\n    <tr>\n      <th>symbol</th>\n      <th>base</th>\n      <th></th>\n      <th></th>\n      <th></th>\n      <th></th>\n      <th></th>\n      <th></th>\n      <th></th>\n      <th></th>\n      <th></th>\n      <th></th>\n      <th></th>\n      <th></th>\n    </tr>\n  </thead>\n  <tbody>\n    <tr>\n      <th>btc</th>\n      <th>usd</th>\n      <td>bitcoin</td>\n      <td>913336682042</td>\n      <td>Bitcoin</td>\n      <td>2009-01-03</td>\n      <td>1</td>\n      <td>SHA-256</td>\n      <td>2</td>\n      <td>79.223</td>\n      <td>98.887</td>\n      <td>65.771</td>\n      <td>100.158</td>\n      <td>0.0</td>\n    </tr>\n    <tr>\n      <th>eth</th>\n      <th>usd</th>\n      <td>ethereum</td>\n      <td>441749942266</td>\n      <td>Ethereum</td>\n      <td>2015-07-30</td>\n      <td>2</td>\n      <td>Ethash</td>\n      <td>3</td>\n      <td>77.163</td>\n      <td>97.176</td>\n      <td>62.612</td>\n      <td>98.968</td>\n      <td>0.0</td>\n    </tr>\n    <tr>\n      <th>bnb</th>\n      <th>usd</th>\n      <td>binancecoin</td>\n      <td>89476751960</td>\n      <td>Binance Coin</td>\n      <td>2017-07-08</td>\n      <td>3</td>\n      <td>None</td>\n      <td>5</td>\n      <td>67.775</td>\n      <td>73.253</td>\n      <td>66.032</td>\n      <td>83.296</td>\n      <td>0.0</td>\n    </tr>\n    <tr>\n      <th>ada</th>\n      <th>usd</th>\n      <td>cardano</td>\n      <td>73996510073</td>\n      <td>Cardano</td>\n      <td>NaT</td>\n      <td>4</td>\n      <td>None</td>\n      <td>11</td>\n      <td>64.704</td>\n      <td>70.448</td>\n      <td>58.225</td>\n      <td>82.204</td>\n      <td>0.0</td>\n    </tr>\n    <tr>\n      <th>xrp</th>\n      <th>usd</th>\n      <td>ripple</td>\n      <td>69520974761</td>\n      <td>XRP</td>\n      <td>NaT</td>\n      <td>5</td>\n      <td>None</td>\n      <td>9</td>\n      <td>65.306</td>\n      <td>71.120</td>\n      <td>54.187</td>\n      <td>87.663</td>\n      <td>0.0</td>\n    </tr>\n    <tr>\n      <th>doge</th>\n      <th>usd</th>\n      <td>dogecoin</td>\n      <td>67852149883</td>\n      <td>Dogecoin</td>\n      <td>2013-12-08</td>\n      <td>6</td>\n      <td>Scrypt</td>\n      <td>4</td>\n      <td>74.216</td>\n      <td>72.860</td>\n      <td>88.175</td>\n      <td>92.287</td>\n      <td>0.0</td>\n    </tr>\n    <tr>\n      <th>usdt</th>\n      <th>usd</th>\n      <td>tether</td>\n      <td>58853033625</td>\n      <td>Tether</td>\n      <td>NaT</td>\n      <td>7</td>\n      <td>None</td>\n      <td>151</td>\n      <td>41.650</td>\n      <td>0.000</td>\n      <td>10.676</td>\n      <td>107.153</td>\n      <td>0.0</td>\n    </tr>\n    <tr>\n      <th>dot</th>\n      <th>usd</th>\n      <td>polkadot</td>\n      <td>45945737762</td>\n      <td>Polkadot</td>\n      <td>NaT</td>\n      <td>8</td>\n      <td>None</td>\n      <td>141</td>\n      <td>42.397</td>\n      <td>0.000</td>\n      <td>42.866</td>\n      <td>76.642</td>\n      <td>0.0</td>\n    </tr>\n    <tr>\n      <th>bch</th>\n      <th>usd</th>\n      <td>bitcoin-cash</td>\n      <td>22807523955</td>\n      <td>Bitcoin Cash</td>\n      <td>NaT</td>\n      <td>9</td>\n      <td>SHA-256</td>\n      <td>117</td>\n      <td>45.292</td>\n      <td>0.000</td>\n      <td>46.998</td>\n      <td>88.084</td>\n      <td>0.0</td>\n    </tr>\n    <tr>\n      <th>ltc</th>\n      <th>usd</th>\n      <td>litecoin</td>\n      <td>20723723753</td>\n      <td>Litecoin</td>\n      <td>2011-10-08</td>\n      <td>10</td>\n      <td>Scrypt</td>\n      <td>10</td>\n      <td>64.889</td>\n      <td>73.374</td>\n      <td>53.250</td>\n      <td>87.720</td>\n      <td>0.0</td>\n    </tr>\n  </tbody>\n</table>\n</div>"
     },
     "execution_count": 5,
     "metadata": {},
     "output_type": "execute_result"
    },
    {
     "data": {
      "text/plain": "                       id    market_cap          name genesis_date  \\\nsymbol base                                                          \nbtc    usd        bitcoin  905892418127       Bitcoin   2009-01-03   \neth    usd       ethereum  439285595495      Ethereum   2015-07-30   \nbnb    usd    binancecoin   89668064146  Binance Coin   2017-07-08   \nada    usd        cardano   73453078781       Cardano          NaT   \nxrp    usd         ripple   69154084723           XRP          NaT   \ndoge   usd       dogecoin   66795558192      Dogecoin   2013-12-08   \nusdt   usd         tether   58853033625        Tether          NaT   \ndot    usd       polkadot   45735460833      Polkadot          NaT   \nbch    usd   bitcoin-cash   22647343364  Bitcoin Cash          NaT   \nltc    usd       litecoin   20588862247      Litecoin   2011-10-08   \n\n             market_cap_rank hashing_algorithm  coingecko_rank  \\\nsymbol base                                                      \nbtc    usd                 1           SHA-256               2   \neth    usd                 2            Ethash               3   \nbnb    usd                 3              None               5   \nada    usd                 4              None              11   \nxrp    usd                 5              None               9   \ndoge   usd                 6            Scrypt               4   \nusdt   usd                 7              None             151   \ndot    usd                 8              None             141   \nbch    usd                 9           SHA-256             117   \nltc    usd                10            Scrypt              10   \n\n             coingecko_score  developer_score  community_score  \\\nsymbol base                                                      \nbtc    usd            79.223           98.887           65.771   \neth    usd            77.163           97.176           62.612   \nbnb    usd            67.775           73.253           66.032   \nada    usd            64.704           70.448           58.225   \nxrp    usd            65.306           71.120           54.187   \ndoge   usd            74.216           72.860           88.175   \nusdt   usd            41.650            0.000           10.676   \ndot    usd            42.397            0.000           42.866   \nbch    usd            45.292            0.000           46.998   \nltc    usd            64.889           73.374           53.250   \n\n             liquidity_score  public_interest_score  \nsymbol base                                          \nbtc    usd           100.158                    0.0  \neth    usd            98.968                    0.0  \nbnb    usd            83.296                    0.0  \nada    usd            82.204                    0.0  \nxrp    usd            87.663                    0.0  \ndoge   usd            92.287                    0.0  \nusdt   usd           107.153                    0.0  \ndot    usd            76.642                    0.0  \nbch    usd            88.084                    0.0  \nltc    usd            87.720                    0.0  ",
      "text/html": "<div>\n<style scoped>\n    .dataframe tbody tr th:only-of-type {\n        vertical-align: middle;\n    }\n\n    .dataframe tbody tr th {\n        vertical-align: top;\n    }\n\n    .dataframe thead th {\n        text-align: right;\n    }\n</style>\n<table border=\"1\" class=\"dataframe\">\n  <thead>\n    <tr style=\"text-align: right;\">\n      <th></th>\n      <th></th>\n      <th>id</th>\n      <th>market_cap</th>\n      <th>name</th>\n      <th>genesis_date</th>\n      <th>market_cap_rank</th>\n      <th>hashing_algorithm</th>\n      <th>coingecko_rank</th>\n      <th>coingecko_score</th>\n      <th>developer_score</th>\n      <th>community_score</th>\n      <th>liquidity_score</th>\n      <th>public_interest_score</th>\n    </tr>\n    <tr>\n      <th>symbol</th>\n      <th>base</th>\n      <th></th>\n      <th></th>\n      <th></th>\n      <th></th>\n      <th></th>\n      <th></th>\n      <th></th>\n      <th></th>\n      <th></th>\n      <th></th>\n      <th></th>\n      <th></th>\n    </tr>\n  </thead>\n  <tbody>\n    <tr>\n      <th>btc</th>\n      <th>usd</th>\n      <td>bitcoin</td>\n      <td>905892418127</td>\n      <td>Bitcoin</td>\n      <td>2009-01-03</td>\n      <td>1</td>\n      <td>SHA-256</td>\n      <td>2</td>\n      <td>79.223</td>\n      <td>98.887</td>\n      <td>65.771</td>\n      <td>100.158</td>\n      <td>0.0</td>\n    </tr>\n    <tr>\n      <th>eth</th>\n      <th>usd</th>\n      <td>ethereum</td>\n      <td>439285595495</td>\n      <td>Ethereum</td>\n      <td>2015-07-30</td>\n      <td>2</td>\n      <td>Ethash</td>\n      <td>3</td>\n      <td>77.163</td>\n      <td>97.176</td>\n      <td>62.612</td>\n      <td>98.968</td>\n      <td>0.0</td>\n    </tr>\n    <tr>\n      <th>bnb</th>\n      <th>usd</th>\n      <td>binancecoin</td>\n      <td>89668064146</td>\n      <td>Binance Coin</td>\n      <td>2017-07-08</td>\n      <td>3</td>\n      <td>None</td>\n      <td>5</td>\n      <td>67.775</td>\n      <td>73.253</td>\n      <td>66.032</td>\n      <td>83.296</td>\n      <td>0.0</td>\n    </tr>\n    <tr>\n      <th>ada</th>\n      <th>usd</th>\n      <td>cardano</td>\n      <td>73453078781</td>\n      <td>Cardano</td>\n      <td>NaT</td>\n      <td>4</td>\n      <td>None</td>\n      <td>11</td>\n      <td>64.704</td>\n      <td>70.448</td>\n      <td>58.225</td>\n      <td>82.204</td>\n      <td>0.0</td>\n    </tr>\n    <tr>\n      <th>xrp</th>\n      <th>usd</th>\n      <td>ripple</td>\n      <td>69154084723</td>\n      <td>XRP</td>\n      <td>NaT</td>\n      <td>5</td>\n      <td>None</td>\n      <td>9</td>\n      <td>65.306</td>\n      <td>71.120</td>\n      <td>54.187</td>\n      <td>87.663</td>\n      <td>0.0</td>\n    </tr>\n    <tr>\n      <th>doge</th>\n      <th>usd</th>\n      <td>dogecoin</td>\n      <td>66795558192</td>\n      <td>Dogecoin</td>\n      <td>2013-12-08</td>\n      <td>6</td>\n      <td>Scrypt</td>\n      <td>4</td>\n      <td>74.216</td>\n      <td>72.860</td>\n      <td>88.175</td>\n      <td>92.287</td>\n      <td>0.0</td>\n    </tr>\n    <tr>\n      <th>usdt</th>\n      <th>usd</th>\n      <td>tether</td>\n      <td>58853033625</td>\n      <td>Tether</td>\n      <td>NaT</td>\n      <td>7</td>\n      <td>None</td>\n      <td>151</td>\n      <td>41.650</td>\n      <td>0.000</td>\n      <td>10.676</td>\n      <td>107.153</td>\n      <td>0.0</td>\n    </tr>\n    <tr>\n      <th>dot</th>\n      <th>usd</th>\n      <td>polkadot</td>\n      <td>45735460833</td>\n      <td>Polkadot</td>\n      <td>NaT</td>\n      <td>8</td>\n      <td>None</td>\n      <td>141</td>\n      <td>42.397</td>\n      <td>0.000</td>\n      <td>42.866</td>\n      <td>76.642</td>\n      <td>0.0</td>\n    </tr>\n    <tr>\n      <th>bch</th>\n      <th>usd</th>\n      <td>bitcoin-cash</td>\n      <td>22647343364</td>\n      <td>Bitcoin Cash</td>\n      <td>NaT</td>\n      <td>9</td>\n      <td>SHA-256</td>\n      <td>117</td>\n      <td>45.292</td>\n      <td>0.000</td>\n      <td>46.998</td>\n      <td>88.084</td>\n      <td>0.0</td>\n    </tr>\n    <tr>\n      <th>ltc</th>\n      <th>usd</th>\n      <td>litecoin</td>\n      <td>20588862247</td>\n      <td>Litecoin</td>\n      <td>2011-10-08</td>\n      <td>10</td>\n      <td>Scrypt</td>\n      <td>10</td>\n      <td>64.889</td>\n      <td>73.374</td>\n      <td>53.250</td>\n      <td>87.720</td>\n      <td>0.0</td>\n    </tr>\n  </tbody>\n</table>\n</div>"
     },
     "execution_count": 13,
     "metadata": {},
     "output_type": "execute_result"
    }
   ],
   "source": [
    "market.head(10)"
   ]
  },
  {
   "cell_type": "code",
   "execution_count": 14,
   "id": "killing-jones",
   "metadata": {},
   "outputs": [
    {
     "data": {
      "text/plain": "<bound method IndexOpsMixin.tolist of MultiIndex([(     'btc', 'usd'),\n            (     'eth', 'usd'),\n            (     'bnb', 'usd'),\n            (     'ada', 'usd'),\n            (     'xrp', 'usd'),\n            (    'doge', 'usd'),\n            (    'usdt', 'usd'),\n            (     'dot', 'usd'),\n            (     'bch', 'usd'),\n            (     'ltc', 'usd'),\n            (     'uni', 'usd'),\n            (    'link', 'usd'),\n            (    'usdc', 'usd'),\n            (     'xlm', 'usd'),\n            (     'etc', 'usd'),\n            (     'vet', 'usd'),\n            (     'sol', 'usd'),\n            (   'matic', 'usd'),\n            (     'eos', 'usd'),\n            (   'theta', 'usd'),\n            (     'trx', 'usd'),\n            (     'okb', 'usd'),\n            (    'shib', 'usd'),\n            (    'wbtc', 'usd'),\n            (     'fil', 'usd'),\n            (    'busd', 'usd'),\n            (     'xmr', 'usd'),\n            (    'aave', 'usd'),\n            (     'neo', 'usd'),\n            (    'klay', 'usd'),\n            (    'atom', 'usd'),\n            (    'luna', 'usd'),\n            (     'bsv', 'usd'),\n            (    'ceth', 'usd'),\n            (      'ht', 'usd'),\n            (   'miota', 'usd'),\n            ('safemoon', 'usd'),\n            (     'ksm', 'usd'),\n            (     'xtz', 'usd'),\n            (    'cake', 'usd'),\n            (     'ftt', 'usd'),\n            (    'AVAX', 'usd'),\n            (     'dai', 'usd'),\n            (    'rune', 'usd'),\n            (    'algo', 'usd'),\n            (    'cdai', 'usd'),\n            (     'mkr', 'usd'),\n            (     'cro', 'usd'),\n            (   'cusdc', 'usd'),\n            (     'btt', 'usd'),\n            (    'comp', 'usd'),\n            (    'dash', 'usd'),\n            (     'leo', 'usd'),\n            (   'waves', 'usd'),\n            (     'zec', 'usd'),\n            (     'snx', 'usd'),\n            (   'sushi', 'usd'),\n            (    'egld', 'usd'),\n            (     'xem', 'usd'),\n            (     'cel', 'usd'),\n            (    'hbar', 'usd'),\n            (     'yfi', 'usd'),\n            (     'dcr', 'usd'),\n            (     'chz', 'usd'),\n            (    'near', 'usd'),\n            (     'zil', 'usd'),\n            (     'amp', 'usd'),\n            (     'ust', 'usd'),\n            (    'qtum', 'usd'),\n            (     'tel', 'usd'),\n            (     'hot', 'usd'),\n            (    'nexo', 'usd'),\n            (     'enj', 'usd'),\n            (     'bat', 'usd'),\n            (     'btg', 'usd'),\n            (     'ont', 'usd'),\n            (     'stx', 'usd'),\n            (     'grt', 'usd'),\n            (    'mana', 'usd'),\n            (     'ftm', 'usd'),\n            (     'dgb', 'usd'),\n            (    'lusd', 'usd'),\n            (    'hbtc', 'usd'),\n            (    'nano', 'usd'),\n            (     'uma', 'usd'),\n            (     'zen', 'usd'),\n            (      'sc', 'usd'),\n            (      'gt', 'usd'),\n            (     'bnt', 'usd'),\n            (    'arrr', 'usd'),\n            (     'one', 'usd'),\n            (     'omg', 'usd'),\n            (     'zrx', 'usd'),\n            (   'steth', 'usd'),\n            (     'icx', 'usd'),\n            (     'rvn', 'usd'),\n            (     'hnt', 'usd'),\n            (     'pax', 'usd'),\n            (    'tusd', 'usd'),\n            (      'ar', 'usd')],\n           names=['symbol', 'base'])>"
     },
     "execution_count": 6,
     "metadata": {},
     "output_type": "execute_result"
    },
    {
     "data": {
      "text/plain": "<bound method IndexOpsMixin.tolist of MultiIndex([(     'btc', 'usd'),\n            (     'eth', 'usd'),\n            (     'bnb', 'usd'),\n            (     'ada', 'usd'),\n            (     'xrp', 'usd'),\n            (    'doge', 'usd'),\n            (    'usdt', 'usd'),\n            (     'dot', 'usd'),\n            (     'bch', 'usd'),\n            (     'ltc', 'usd'),\n            (     'uni', 'usd'),\n            (    'link', 'usd'),\n            (    'usdc', 'usd'),\n            (     'xlm', 'usd'),\n            (     'etc', 'usd'),\n            (     'vet', 'usd'),\n            (     'sol', 'usd'),\n            (   'matic', 'usd'),\n            (     'eos', 'usd'),\n            (   'theta', 'usd'),\n            (     'trx', 'usd'),\n            (     'okb', 'usd'),\n            (    'wbtc', 'usd'),\n            (    'shib', 'usd'),\n            (     'fil', 'usd'),\n            (    'busd', 'usd'),\n            (     'xmr', 'usd'),\n            (    'aave', 'usd'),\n            (     'neo', 'usd'),\n            (    'klay', 'usd'),\n            (    'atom', 'usd'),\n            (    'luna', 'usd'),\n            (     'bsv', 'usd'),\n            (    'ceth', 'usd'),\n            (      'ht', 'usd'),\n            (   'miota', 'usd'),\n            ('safemoon', 'usd'),\n            (     'ksm', 'usd'),\n            (     'xtz', 'usd'),\n            (    'cake', 'usd'),\n            (     'ftt', 'usd'),\n            (    'AVAX', 'usd'),\n            (     'dai', 'usd'),\n            (    'rune', 'usd'),\n            (    'algo', 'usd'),\n            (    'cdai', 'usd'),\n            (     'mkr', 'usd'),\n            (   'cusdc', 'usd'),\n            (     'cro', 'usd'),\n            (     'btt', 'usd'),\n            (    'comp', 'usd'),\n            (    'dash', 'usd'),\n            (     'leo', 'usd'),\n            (   'waves', 'usd'),\n            (     'zec', 'usd'),\n            (     'snx', 'usd'),\n            (   'sushi', 'usd'),\n            (    'egld', 'usd'),\n            (     'xem', 'usd'),\n            (     'cel', 'usd'),\n            (    'hbar', 'usd'),\n            (     'yfi', 'usd'),\n            (     'dcr', 'usd'),\n            (     'chz', 'usd'),\n            (    'near', 'usd'),\n            (     'zil', 'usd'),\n            (     'amp', 'usd'),\n            (     'ust', 'usd'),\n            (    'qtum', 'usd'),\n            (     'tel', 'usd'),\n            (     'hot', 'usd'),\n            (    'nexo', 'usd'),\n            (     'enj', 'usd'),\n            (     'bat', 'usd'),\n            (     'btg', 'usd'),\n            (     'ont', 'usd'),\n            (     'stx', 'usd'),\n            (     'grt', 'usd'),\n            (    'mana', 'usd'),\n            (     'ftm', 'usd'),\n            (     'dgb', 'usd'),\n            (    'lusd', 'usd'),\n            (    'hbtc', 'usd'),\n            (    'nano', 'usd'),\n            (     'uma', 'usd'),\n            (     'zen', 'usd'),\n            (      'sc', 'usd'),\n            (      'gt', 'usd'),\n            (     'bnt', 'usd'),\n            (    'arrr', 'usd'),\n            (     'one', 'usd'),\n            (     'omg', 'usd'),\n            (     'zrx', 'usd'),\n            (   'steth', 'usd'),\n            (     'icx', 'usd'),\n            (     'rvn', 'usd'),\n            (     'hnt', 'usd'),\n            (     'pax', 'usd'),\n            (    'tusd', 'usd'),\n            (     'crv', 'usd')],\n           names=['symbol', 'base'])>"
     },
     "execution_count": 14,
     "metadata": {},
     "output_type": "execute_result"
    }
   ],
   "source": [
    "market.index.tolist"
   ]
  },
  {
   "cell_type": "markdown",
   "id": "lightweight-herald",
   "metadata": {},
   "source": [
    "## Create categorical data from raw data and store in seperate data frame"
   ]
  },
  {
   "cell_type": "code",
   "execution_count": 18,
   "id": "actual-messenger",
   "metadata": {},
   "outputs": [
    {
     "name": "stdout",
     "output_type": "stream",
     "text": [
      "['Analytics' 'Artificial Intelligence' 'Asset-backed Tokens'\n",
      " 'Automated Market Maker (AMM)' 'Avalanche Ecosystem'\n",
      " 'Binance Smart Chain Ecosystem' 'Business Platform' 'Business Services'\n",
      " 'Centralized Exchange Token (CEX)' 'Communication' 'Compound Tokens'\n",
      " 'Cosmos Ecosystem' 'Cryptocurrency' 'Decentralized Exchange Token (DEX)'\n",
      " 'Decentralized Finance (DeFi)' 'Derivatives' 'Entertainment'\n",
      " 'Eth 2.0 Staking' 'Exchange-based Tokens' 'Finance / Banking' 'Gaming'\n",
      " 'Governance' 'Infrastructure' 'Internet of Things (IOT)'\n",
      " 'Lending/Borrowing' 'Masternodes' 'Meme Tokens' 'Metaverse'\n",
      " 'Near Protocol Ecosystem' 'Non-Fungible Tokens (NFT)' 'Oracle'\n",
      " 'Polkadot Ecosystem' 'Polygon Ecosystem' 'Privacy Coins' 'Protocol'\n",
      " 'Seigniorage' 'Smart Contract Platform' 'Solana Ecosystem' 'Sports'\n",
      " 'Stablecoins' 'Storage' 'Synthetic Issuer' 'Terra Ecosystem'\n",
      " 'Tokenized BTC' 'USD Stablecoin' 'Wrapped-Tokens' 'Yearn Ecosystem'\n",
      " 'Yield Aggregator' 'Yield Farming']\n",
      "{'btc': ['Cryptocurrency'], 'eth': ['Smart Contract Platform'], 'bnb': ['Centralized Exchange Token (CEX)', 'Binance Smart Chain Ecosystem', 'Exchange-based Tokens'], 'ada': ['Smart Contract Platform'], 'xrp': ['Cryptocurrency'], 'doge': ['Meme Tokens', 'Cryptocurrency'], 'usdt': ['USD Stablecoin', 'Stablecoins'], 'dot': ['Polkadot Ecosystem'], 'bch': ['Cryptocurrency'], 'ltc': ['Cryptocurrency'], 'uni': ['Decentralized Exchange Token (DEX)', 'Automated Market Maker (AMM)', 'Yield Farming', 'Decentralized Finance (DeFi)', 'Governance', 'Exchange-based Tokens'], 'link': ['Solana Ecosystem', 'Near Protocol Ecosystem', 'Polygon Ecosystem', 'Business Services', 'Infrastructure', 'Smart Contract Platform', 'Polkadot Ecosystem', 'Decentralized Finance (DeFi)', 'Oracle'], 'usdc': ['USD Stablecoin', 'Stablecoins'], 'xlm': ['Cryptocurrency', 'Smart Contract Platform'], 'etc': ['Smart Contract Platform'], 'vet': ['Internet of Things (IOT)', 'Artificial Intelligence', 'Business Platform'], 'sol': ['Solana Ecosystem', 'Smart Contract Platform'], 'matic': ['Polygon Ecosystem'], 'eos': ['Smart Contract Platform'], 'theta': ['Entertainment', 'Non-Fungible Tokens (NFT)'], 'trx': ['Smart Contract Platform'], 'okb': ['Centralized Exchange Token (CEX)', 'Exchange-based Tokens'], 'wbtc': ['Wrapped-Tokens', 'Tokenized BTC'], 'shib': ['Meme Tokens'], 'fil': ['Infrastructure', 'Storage'], 'busd': ['USD Stablecoin', 'Binance Smart Chain Ecosystem', 'Stablecoins'], 'xmr': ['Privacy Coins'], 'aave': ['Lending/Borrowing', 'Near Protocol Ecosystem', 'Polygon Ecosystem', 'Yield Farming', 'Decentralized Finance (DeFi)', 'Governance'], 'neo': ['Smart Contract Platform'], 'klay': [], 'atom': ['Cosmos Ecosystem', 'Cryptocurrency'], 'luna': ['Cosmos Ecosystem', 'Terra Ecosystem', 'Decentralized Finance (DeFi)'], 'bsv': [], 'ceth': ['Finance / Banking', 'Decentralized Finance (DeFi)', 'Compound Tokens', 'Asset-backed Tokens'], 'ht': ['Centralized Exchange Token (CEX)', 'Exchange-based Tokens'], 'miota': ['Internet of Things (IOT)', 'Smart Contract Platform'], 'safemoon': [], 'ksm': ['Polkadot Ecosystem'], 'xtz': ['Smart Contract Platform'], 'cake': ['Decentralized Exchange Token (DEX)', 'Automated Market Maker (AMM)', 'Yield Farming', 'Binance Smart Chain Ecosystem', 'Decentralized Finance (DeFi)', 'Governance', 'Exchange-based Tokens'], 'ftt': ['Centralized Exchange Token (CEX)', 'Exchange-based Tokens'], 'AVAX': ['Avalanche Ecosystem', 'Smart Contract Platform'], 'dai': ['USD Stablecoin', 'Decentralized Finance (DeFi)', 'Stablecoins'], 'rune': ['Cosmos Ecosystem', 'Decentralized Exchange Token (DEX)', 'Infrastructure', 'Decentralized Finance (DeFi)', 'Exchange-based Tokens'], 'algo': ['Cryptocurrency', 'Smart Contract Platform'], 'cdai': ['Decentralized Finance (DeFi)', 'Compound Tokens', 'Asset-backed Tokens'], 'mkr': ['Lending/Borrowing', 'Near Protocol Ecosystem', 'Decentralized Finance (DeFi)', 'Governance'], 'cusdc': ['Finance / Banking', 'Decentralized Finance (DeFi)', 'Compound Tokens', 'Asset-backed Tokens'], 'cro': ['Cosmos Ecosystem', 'Centralized Exchange Token (CEX)', 'Exchange-based Tokens'], 'btt': ['Protocol', 'Storage'], 'comp': ['Lending/Borrowing', 'Yield Farming', 'Decentralized Finance (DeFi)', 'Governance'], 'dash': ['Cryptocurrency', 'Masternodes', 'Privacy Coins'], 'leo': ['Centralized Exchange Token (CEX)', 'Exchange-based Tokens'], 'waves': ['Solana Ecosystem', 'Smart Contract Platform'], 'zec': ['Privacy Coins'], 'snx': ['Derivatives', 'Decentralized Exchange Token (DEX)', 'Synthetic Issuer', 'Yield Farming', 'Decentralized Finance (DeFi)', 'Governance', 'Exchange-based Tokens'], 'sushi': ['Yearn Ecosystem', 'Decentralized Exchange Token (DEX)', 'Polygon Ecosystem', 'Automated Market Maker (AMM)', 'Yield Farming', 'Decentralized Finance (DeFi)', 'Governance', 'Exchange-based Tokens'], 'egld': ['Protocol', 'Smart Contract Platform'], 'xem': ['Smart Contract Platform'], 'cel': ['Business Services'], 'hbar': ['Protocol'], 'yfi': ['Yearn Ecosystem', 'Yield Aggregator', 'Yield Farming', 'Decentralized Finance (DeFi)', 'Governance'], 'dcr': ['Cryptocurrency', 'Governance', 'Privacy Coins'], 'chz': ['Non-Fungible Tokens (NFT)', 'Sports'], 'near': ['Smart Contract Platform'], 'zil': ['Smart Contract Platform'], 'amp': [], 'ust': ['Seigniorage', 'Terra Ecosystem', 'USD Stablecoin', 'Stablecoins'], 'qtum': ['Smart Contract Platform'], 'tel': [], 'hot': ['Smart Contract Platform', 'Storage'], 'nexo': ['Finance / Banking'], 'enj': ['Entertainment', 'Non-Fungible Tokens (NFT)', 'Gaming'], 'bat': [], 'btg': ['Cryptocurrency'], 'ont': ['Near Protocol Ecosystem', 'Smart Contract Platform', 'Binance Smart Chain Ecosystem', 'Polkadot Ecosystem'], 'stx': ['Infrastructure'], 'grt': ['Solana Ecosystem', 'Near Protocol Ecosystem', 'Polygon Ecosystem', 'Business Services', 'Infrastructure', 'Binance Smart Chain Ecosystem', 'Decentralized Finance (DeFi)', 'Analytics'], 'mana': ['Metaverse', 'Polygon Ecosystem', 'Entertainment', 'Non-Fungible Tokens (NFT)'], 'ftm': ['Infrastructure', 'Smart Contract Platform'], 'dgb': ['Internet of Things (IOT)', 'Artificial Intelligence', 'Cryptocurrency', 'Smart Contract Platform', 'Privacy Coins'], 'lusd': ['USD Stablecoin', 'Decentralized Finance (DeFi)', 'Stablecoins'], 'hbtc': ['Tokenized BTC'], 'nano': ['Cryptocurrency'], 'uma': ['Derivatives', 'Finance / Banking', 'Synthetic Issuer', 'Polygon Ecosystem', 'Business Services', 'Decentralized Finance (DeFi)', 'Governance'], 'zen': ['Masternodes', 'Privacy Coins'], 'sc': ['Near Protocol Ecosystem', 'Storage'], 'gt': ['Centralized Exchange Token (CEX)', 'Exchange-based Tokens'], 'bnt': ['Decentralized Exchange Token (DEX)', 'Automated Market Maker (AMM)', 'Decentralized Finance (DeFi)', 'Exchange-based Tokens'], 'arrr': ['Privacy Coins'], 'one': ['Protocol', 'Smart Contract Platform'], 'omg': ['Smart Contract Platform'], 'zrx': ['Decentralized Exchange Token (DEX)', 'Protocol', 'Polkadot Ecosystem', 'Decentralized Finance (DeFi)', 'Governance'], 'steth': ['Eth 2.0 Staking', 'Decentralized Finance (DeFi)'], 'icx': ['Smart Contract Platform'], 'rvn': ['Cryptocurrency'], 'hnt': ['Communication'], 'pax': ['USD Stablecoin', 'Stablecoins'], 'tusd': ['Avalanche Ecosystem', 'USD Stablecoin', 'Stablecoins'], 'crv': ['Decentralized Exchange Token (DEX)', 'Polygon Ecosystem', 'Automated Market Maker (AMM)', 'Yield Farming', 'Decentralized Finance (DeFi)', 'Governance', 'Exchange-based Tokens']}\n"
     ]
    },
    {
     "data": {
      "text/plain": "             Analytics  Artificial Intelligence  Asset-backed Tokens  \\\nsymbol base                                                            \nbtc    usd           0                        0                    0   \neth    usd           0                        0                    0   \nbnb    usd           0                        0                    0   \nada    usd           0                        0                    0   \nxrp    usd           0                        0                    0   \n...                ...                      ...                  ...   \nrvn    usd           0                        0                    0   \nhnt    usd           0                        0                    0   \npax    usd           0                        0                    0   \ntusd   usd           0                        0                    0   \ncrv    usd           0                        0                    0   \n\n             Automated Market Maker (AMM)  Avalanche Ecosystem  \\\nsymbol base                                                      \nbtc    usd                              0                    0   \neth    usd                              0                    0   \nbnb    usd                              0                    0   \nada    usd                              0                    0   \nxrp    usd                              0                    0   \n...                                   ...                  ...   \nrvn    usd                              0                    0   \nhnt    usd                              0                    0   \npax    usd                              0                    0   \ntusd   usd                              0                    1   \ncrv    usd                              1                    0   \n\n             Binance Smart Chain Ecosystem  Business Platform  \\\nsymbol base                                                     \nbtc    usd                               0                  0   \neth    usd                               0                  0   \nbnb    usd                               1                  0   \nada    usd                               0                  0   \nxrp    usd                               0                  0   \n...                                    ...                ...   \nrvn    usd                               0                  0   \nhnt    usd                               0                  0   \npax    usd                               0                  0   \ntusd   usd                               0                  0   \ncrv    usd                               0                  0   \n\n             Business Services  Centralized Exchange Token (CEX)  \\\nsymbol base                                                        \nbtc    usd                   0                                 0   \neth    usd                   0                                 0   \nbnb    usd                   0                                 1   \nada    usd                   0                                 0   \nxrp    usd                   0                                 0   \n...                        ...                               ...   \nrvn    usd                   0                                 0   \nhnt    usd                   0                                 0   \npax    usd                   0                                 0   \ntusd   usd                   0                                 0   \ncrv    usd                   0                                 0   \n\n             Communication  ...  Stablecoins  Storage  Synthetic Issuer  \\\nsymbol base                 ...                                           \nbtc    usd               0  ...            0        0                 0   \neth    usd               0  ...            0        0                 0   \nbnb    usd               0  ...            0        0                 0   \nada    usd               0  ...            0        0                 0   \nxrp    usd               0  ...            0        0                 0   \n...                    ...  ...          ...      ...               ...   \nrvn    usd               0  ...            0        0                 0   \nhnt    usd               1  ...            0        0                 0   \npax    usd               0  ...            1        0                 0   \ntusd   usd               0  ...            1        0                 0   \ncrv    usd               0  ...            0        0                 0   \n\n             Terra Ecosystem  Tokenized BTC  USD Stablecoin  Wrapped-Tokens  \\\nsymbol base                                                                   \nbtc    usd                 0              0               0               0   \neth    usd                 0              0               0               0   \nbnb    usd                 0              0               0               0   \nada    usd                 0              0               0               0   \nxrp    usd                 0              0               0               0   \n...                      ...            ...             ...             ...   \nrvn    usd                 0              0               0               0   \nhnt    usd                 0              0               0               0   \npax    usd                 0              0               1               0   \ntusd   usd                 0              0               1               0   \ncrv    usd                 0              0               0               0   \n\n             Yearn Ecosystem  Yield Aggregator  Yield Farming  \nsymbol base                                                    \nbtc    usd                 0                 0              0  \neth    usd                 0                 0              0  \nbnb    usd                 0                 0              0  \nada    usd                 0                 0              0  \nxrp    usd                 0                 0              0  \n...                      ...               ...            ...  \nrvn    usd                 0                 0              0  \nhnt    usd                 0                 0              0  \npax    usd                 0                 0              0  \ntusd   usd                 0                 0              0  \ncrv    usd                 0                 0              1  \n\n[100 rows x 49 columns]",
      "text/html": "<div>\n<style scoped>\n    .dataframe tbody tr th:only-of-type {\n        vertical-align: middle;\n    }\n\n    .dataframe tbody tr th {\n        vertical-align: top;\n    }\n\n    .dataframe thead th {\n        text-align: right;\n    }\n</style>\n<table border=\"1\" class=\"dataframe\">\n  <thead>\n    <tr style=\"text-align: right;\">\n      <th></th>\n      <th></th>\n      <th>Analytics</th>\n      <th>Artificial Intelligence</th>\n      <th>Asset-backed Tokens</th>\n      <th>Automated Market Maker (AMM)</th>\n      <th>Avalanche Ecosystem</th>\n      <th>Binance Smart Chain Ecosystem</th>\n      <th>Business Platform</th>\n      <th>Business Services</th>\n      <th>Centralized Exchange Token (CEX)</th>\n      <th>Communication</th>\n      <th>...</th>\n      <th>Stablecoins</th>\n      <th>Storage</th>\n      <th>Synthetic Issuer</th>\n      <th>Terra Ecosystem</th>\n      <th>Tokenized BTC</th>\n      <th>USD Stablecoin</th>\n      <th>Wrapped-Tokens</th>\n      <th>Yearn Ecosystem</th>\n      <th>Yield Aggregator</th>\n      <th>Yield Farming</th>\n    </tr>\n    <tr>\n      <th>symbol</th>\n      <th>base</th>\n      <th></th>\n      <th></th>\n      <th></th>\n      <th></th>\n      <th></th>\n      <th></th>\n      <th></th>\n      <th></th>\n      <th></th>\n      <th></th>\n      <th></th>\n      <th></th>\n      <th></th>\n      <th></th>\n      <th></th>\n      <th></th>\n      <th></th>\n      <th></th>\n      <th></th>\n      <th></th>\n      <th></th>\n    </tr>\n  </thead>\n  <tbody>\n    <tr>\n      <th>btc</th>\n      <th>usd</th>\n      <td>0</td>\n      <td>0</td>\n      <td>0</td>\n      <td>0</td>\n      <td>0</td>\n      <td>0</td>\n      <td>0</td>\n      <td>0</td>\n      <td>0</td>\n      <td>0</td>\n      <td>...</td>\n      <td>0</td>\n      <td>0</td>\n      <td>0</td>\n      <td>0</td>\n      <td>0</td>\n      <td>0</td>\n      <td>0</td>\n      <td>0</td>\n      <td>0</td>\n      <td>0</td>\n    </tr>\n    <tr>\n      <th>eth</th>\n      <th>usd</th>\n      <td>0</td>\n      <td>0</td>\n      <td>0</td>\n      <td>0</td>\n      <td>0</td>\n      <td>0</td>\n      <td>0</td>\n      <td>0</td>\n      <td>0</td>\n      <td>0</td>\n      <td>...</td>\n      <td>0</td>\n      <td>0</td>\n      <td>0</td>\n      <td>0</td>\n      <td>0</td>\n      <td>0</td>\n      <td>0</td>\n      <td>0</td>\n      <td>0</td>\n      <td>0</td>\n    </tr>\n    <tr>\n      <th>bnb</th>\n      <th>usd</th>\n      <td>0</td>\n      <td>0</td>\n      <td>0</td>\n      <td>0</td>\n      <td>0</td>\n      <td>1</td>\n      <td>0</td>\n      <td>0</td>\n      <td>1</td>\n      <td>0</td>\n      <td>...</td>\n      <td>0</td>\n      <td>0</td>\n      <td>0</td>\n      <td>0</td>\n      <td>0</td>\n      <td>0</td>\n      <td>0</td>\n      <td>0</td>\n      <td>0</td>\n      <td>0</td>\n    </tr>\n    <tr>\n      <th>ada</th>\n      <th>usd</th>\n      <td>0</td>\n      <td>0</td>\n      <td>0</td>\n      <td>0</td>\n      <td>0</td>\n      <td>0</td>\n      <td>0</td>\n      <td>0</td>\n      <td>0</td>\n      <td>0</td>\n      <td>...</td>\n      <td>0</td>\n      <td>0</td>\n      <td>0</td>\n      <td>0</td>\n      <td>0</td>\n      <td>0</td>\n      <td>0</td>\n      <td>0</td>\n      <td>0</td>\n      <td>0</td>\n    </tr>\n    <tr>\n      <th>xrp</th>\n      <th>usd</th>\n      <td>0</td>\n      <td>0</td>\n      <td>0</td>\n      <td>0</td>\n      <td>0</td>\n      <td>0</td>\n      <td>0</td>\n      <td>0</td>\n      <td>0</td>\n      <td>0</td>\n      <td>...</td>\n      <td>0</td>\n      <td>0</td>\n      <td>0</td>\n      <td>0</td>\n      <td>0</td>\n      <td>0</td>\n      <td>0</td>\n      <td>0</td>\n      <td>0</td>\n      <td>0</td>\n    </tr>\n    <tr>\n      <th>...</th>\n      <th>...</th>\n      <td>...</td>\n      <td>...</td>\n      <td>...</td>\n      <td>...</td>\n      <td>...</td>\n      <td>...</td>\n      <td>...</td>\n      <td>...</td>\n      <td>...</td>\n      <td>...</td>\n      <td>...</td>\n      <td>...</td>\n      <td>...</td>\n      <td>...</td>\n      <td>...</td>\n      <td>...</td>\n      <td>...</td>\n      <td>...</td>\n      <td>...</td>\n      <td>...</td>\n      <td>...</td>\n    </tr>\n    <tr>\n      <th>rvn</th>\n      <th>usd</th>\n      <td>0</td>\n      <td>0</td>\n      <td>0</td>\n      <td>0</td>\n      <td>0</td>\n      <td>0</td>\n      <td>0</td>\n      <td>0</td>\n      <td>0</td>\n      <td>0</td>\n      <td>...</td>\n      <td>0</td>\n      <td>0</td>\n      <td>0</td>\n      <td>0</td>\n      <td>0</td>\n      <td>0</td>\n      <td>0</td>\n      <td>0</td>\n      <td>0</td>\n      <td>0</td>\n    </tr>\n    <tr>\n      <th>hnt</th>\n      <th>usd</th>\n      <td>0</td>\n      <td>0</td>\n      <td>0</td>\n      <td>0</td>\n      <td>0</td>\n      <td>0</td>\n      <td>0</td>\n      <td>0</td>\n      <td>0</td>\n      <td>1</td>\n      <td>...</td>\n      <td>0</td>\n      <td>0</td>\n      <td>0</td>\n      <td>0</td>\n      <td>0</td>\n      <td>0</td>\n      <td>0</td>\n      <td>0</td>\n      <td>0</td>\n      <td>0</td>\n    </tr>\n    <tr>\n      <th>pax</th>\n      <th>usd</th>\n      <td>0</td>\n      <td>0</td>\n      <td>0</td>\n      <td>0</td>\n      <td>0</td>\n      <td>0</td>\n      <td>0</td>\n      <td>0</td>\n      <td>0</td>\n      <td>0</td>\n      <td>...</td>\n      <td>1</td>\n      <td>0</td>\n      <td>0</td>\n      <td>0</td>\n      <td>0</td>\n      <td>1</td>\n      <td>0</td>\n      <td>0</td>\n      <td>0</td>\n      <td>0</td>\n    </tr>\n    <tr>\n      <th>tusd</th>\n      <th>usd</th>\n      <td>0</td>\n      <td>0</td>\n      <td>0</td>\n      <td>0</td>\n      <td>1</td>\n      <td>0</td>\n      <td>0</td>\n      <td>0</td>\n      <td>0</td>\n      <td>0</td>\n      <td>...</td>\n      <td>1</td>\n      <td>0</td>\n      <td>0</td>\n      <td>0</td>\n      <td>0</td>\n      <td>1</td>\n      <td>0</td>\n      <td>0</td>\n      <td>0</td>\n      <td>0</td>\n    </tr>\n    <tr>\n      <th>crv</th>\n      <th>usd</th>\n      <td>0</td>\n      <td>0</td>\n      <td>0</td>\n      <td>1</td>\n      <td>0</td>\n      <td>0</td>\n      <td>0</td>\n      <td>0</td>\n      <td>0</td>\n      <td>0</td>\n      <td>...</td>\n      <td>0</td>\n      <td>0</td>\n      <td>0</td>\n      <td>0</td>\n      <td>0</td>\n      <td>0</td>\n      <td>0</td>\n      <td>0</td>\n      <td>0</td>\n      <td>1</td>\n    </tr>\n  </tbody>\n</table>\n<p>100 rows × 49 columns</p>\n</div>"
     },
     "execution_count": 18,
     "metadata": {},
     "output_type": "execute_result"
    }
   ],
   "source": [
    "def categorical_dict_to_np(cat_dict, unique_cats):\n",
    "    # create array of symbols and categoricals \n",
    "    cat_np = np.zeros((len(cat_dict), len(unique_cats)), dtype=int)\n",
    "    for ii, [key, values] in enumerate(cat_dict.items()): \n",
    "        for value in values: \n",
    "            idx = np.where(unique_cats == value)\n",
    "            # print(\"{} is on idx {}\".format(value, idx))\n",
    "            cat_np[ii][idx] = 1\n",
    "        assert(np.sum(cat_np[ii]) == len(values))\n",
    "    return cat_np\n",
    "\n",
    "\n",
    "def create_cat_dict(raw_data): \n",
    "    cat_dict = {}\n",
    "    cat_list = []\n",
    "    symbols = []\n",
    "    max_len_cat = 0\n",
    "    for coin in raw_data:\n",
    "        categories = coin['categories']\n",
    "        symbol = coin['symbol']\n",
    "        cat_dict[symbol] = coin['categories']\n",
    "        cat_list.extend(categories)\n",
    "        symbols.append(symbol)\n",
    "        max_len_cat = max(max_len_cat, len(coin['categories']))\n",
    "    \n",
    "    unique_cats = np.unique(cat_list)\n",
    "\n",
    "    return cat_dict, unique_cats, symbols\n",
    "\n",
    "def categoricals_from_raw_coingecko(raw_data): \n",
    "    cat_dict, unique_cats, symbols = create_cat_dict(raw_data)\n",
    "    \n",
    "    cat_np = categorical_dict_to_np(cat_dict, unique_cats)\n",
    "    \n",
    "    cat_df = pd.DataFrame(cat_np, columns=unique_cats)\n",
    "    cat_df['symbol'] = symbols\n",
    "    cat_df['base'] = 'usd'\n",
    "\n",
    "    cat_df.set_index(['symbol', 'base'], inplace=True)\n",
    "    print(unique_cats)\n",
    "    print(cat_dict)\n",
    "    return cat_df\n",
    "    \n",
    "cat_df = categoricals_from_raw_coingecko(raw_data)\n",
    "cat_df"
   ]
  },
  {
   "cell_type": "code",
   "execution_count": 19,
   "id": "attractive-likelihood",
   "metadata": {},
   "outputs": [
    {
     "name": "stdout",
     "output_type": "stream",
     "text": [
      "done\n"
     ]
    }
   ],
   "source": [
    "DATA_STORE = '../data/crypto.h5'\n",
    "with pd.HDFStore(DATA_STORE) as store:\n",
    "    store.put('coingecko/top100/market', market)\n",
    "    store.put('coingecko/top100/cats', cat_df)\n",
    "print(\"done\")"
   ]
  },
  {
   "cell_type": "code",
   "execution_count": 16,
   "id": "unknown-wagner",
   "metadata": {},
   "outputs": [],
   "source": []
  },
  {
   "cell_type": "code",
   "execution_count": 16,
   "id": "ancient-vegetable",
   "metadata": {},
   "outputs": [],
   "source": []
  },
  {
   "cell_type": "code",
   "execution_count": 16,
   "id": "hairy-undergraduate",
   "metadata": {},
   "outputs": [],
   "source": []
  }
 ],
 "metadata": {
  "kernelspec": {
   "name": "python3",
   "language": "python",
   "display_name": "Python 3"
  },
  "language_info": {
   "codemirror_mode": {
    "name": "ipython",
    "version": 3
   },
   "file_extension": ".py",
   "mimetype": "text/x-python",
   "name": "python",
   "nbconvert_exporter": "python",
   "pygments_lexer": "ipython3",
   "version": "3.8.8"
  }
 },
 "nbformat": 4,
 "nbformat_minor": 5
}