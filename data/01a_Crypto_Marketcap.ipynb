{
 "cells": [
  {
   "cell_type": "markdown",
   "id": "musical-globe",
   "metadata": {},
   "source": [
    "# Market Cap\n",
    "\n",
    "- load coinmarketcap data \n",
    "- create an crypto equivalent of \"stocks\" with marketcap, IPO, sector \n",
    "\n"
   ]
  },
  {
   "cell_type": "code",
   "execution_count": 1,
   "id": "dietary-lindsay",
   "metadata": {},
   "outputs": [],
   "source": [
    "import time\n",
    "import random\n",
    "import pandas as pd\n",
    "from tqdm import tqdm\n",
    "from pycoingecko import CoinGeckoAPI\n",
    "\n",
    "from utils import reduce_footprint\n",
    "\n",
    "cg = CoinGeckoAPI()\n",
    "import numpy as np"
   ]
  },
  {
   "cell_type": "code",
   "execution_count": 2,
   "id": "unavailable-louisiana",
   "metadata": {},
   "outputs": [
    {
     "data": {
      "text/plain": "                      market_cap\nid                              \nbitcoin             650002292205\nethereum            247594738948\ntether               62391302640\nbinancecoin          45205438269\ncardano              42653622607\n...                          ...\nbitcoin-cash-abc-2     630498881\ncompound-usdt          619453162\nontology               610967251\ncurve-dao-token        594484815\n0x                     589320352\n\n[100 rows x 1 columns]",
      "text/html": "<div>\n<style scoped>\n    .dataframe tbody tr th:only-of-type {\n        vertical-align: middle;\n    }\n\n    .dataframe tbody tr th {\n        vertical-align: top;\n    }\n\n    .dataframe thead th {\n        text-align: right;\n    }\n</style>\n<table border=\"1\" class=\"dataframe\">\n  <thead>\n    <tr style=\"text-align: right;\">\n      <th></th>\n      <th>market_cap</th>\n    </tr>\n    <tr>\n      <th>id</th>\n      <th></th>\n    </tr>\n  </thead>\n  <tbody>\n    <tr>\n      <th>bitcoin</th>\n      <td>650002292205</td>\n    </tr>\n    <tr>\n      <th>ethereum</th>\n      <td>247594738948</td>\n    </tr>\n    <tr>\n      <th>tether</th>\n      <td>62391302640</td>\n    </tr>\n    <tr>\n      <th>binancecoin</th>\n      <td>45205438269</td>\n    </tr>\n    <tr>\n      <th>cardano</th>\n      <td>42653622607</td>\n    </tr>\n    <tr>\n      <th>...</th>\n      <td>...</td>\n    </tr>\n    <tr>\n      <th>bitcoin-cash-abc-2</th>\n      <td>630498881</td>\n    </tr>\n    <tr>\n      <th>compound-usdt</th>\n      <td>619453162</td>\n    </tr>\n    <tr>\n      <th>ontology</th>\n      <td>610967251</td>\n    </tr>\n    <tr>\n      <th>curve-dao-token</th>\n      <td>594484815</td>\n    </tr>\n    <tr>\n      <th>0x</th>\n      <td>589320352</td>\n    </tr>\n  </tbody>\n</table>\n<p>100 rows × 1 columns</p>\n</div>"
     },
     "execution_count": 2,
     "metadata": {},
     "output_type": "execute_result"
    }
   ],
   "source": [
    "# get top 100 coins from coingecko \n",
    "\n",
    "top_100_coins = cg.get_coins_markets(vs_currency='usd')\n",
    "\n",
    "top_100_coins_df = pd.DataFrame(top_100_coins)\n",
    "top_100_coins_df.set_index('id',inplace=True)\n",
    "col_list = ['market_cap', ]\n",
    "top_100_coins_df = top_100_coins_df.loc[:, col_list]\n",
    "\n",
    "top_100_coins_list = top_100_coins_df.index.tolist()\n",
    "\n",
    "\n",
    "top_100_coins_df"
   ]
  },
  {
   "cell_type": "code",
   "execution_count": 3,
   "id": "biological-freight",
   "metadata": {},
   "outputs": [
    {
     "name": "stderr",
     "output_type": "stream",
     "text": [
      "100%|██████████| 100/100 [04:36<00:00,  2.76s/it]\n"
     ]
    }
   ],
   "source": [
    "# for each coin id get detailed information and store it into a market_df\n",
    "\n",
    "market = []\n",
    "raw_data = []\n",
    "for idx in tqdm(top_100_coins_list):\n",
    "    coin = cg.get_coin_by_id(id=idx, localization=False, vs_currencies='usd',include_market_cap=False,\n",
    "                             include_24hr_vol=False,include_24hr_change=False,include_last_updated_at=False)\n",
    "    raw_data.append(coin)\n",
    "    coin_info = [idx]\n",
    "    coin_info.append(coin['symbol'])\n",
    "    coin_info.append(str(coin['name']))\n",
    "    symbol = coin['symbol']\n",
    "    categories = coin['categories']\n",
    "    #todo: take most popular sector to achieve biggest groups\n",
    "    if type(categories) is list:\n",
    "        if len(categories) > 0:\n",
    "            sector = categories[0]\n",
    "        else:\n",
    "            sector = 'None'\n",
    "    else:\n",
    "        raise NotImplementedError\n",
    "    coin_info.append(sector)\n",
    "\n",
    "    coin_info.append(coin['genesis_date'])\n",
    "    coin_info.append(coin['market_cap_rank'])\n",
    "    coin_info.append(str(coin['hashing_algorithm']))\n",
    "    coin_info.append(coin['coingecko_rank'])\n",
    "    coin_info.append(coin['coingecko_score'])\n",
    "    coin_info.append(coin['developer_score'])\n",
    "    coin_info.append(coin['community_score'])\n",
    "    coin_info.append(coin['liquidity_score'])\n",
    "    coin_info.append(coin['public_interest_score'])\n",
    "    market.append(coin_info)\n",
    "    time.sleep(random.randint(0, 5))\n",
    "    \n",
    "market_df = pd.DataFrame(market, columns = ['id', 'symbol', 'name', 'sector', 'genesis_date',\n",
    "                                            'market_cap_rank', 'hashing_algorithm', \n",
    "                                            'coingecko_rank', 'coingecko_score', 'developer_score', 'community_score', \n",
    "                                            'liquidity_score', 'public_interest_score'])\n",
    "    \n",
    "market_df['genesis_date'] = pd.to_datetime(market_df['genesis_date'])\n",
    "market_df['base'] = 'usd'"
   ]
  },
  {
   "cell_type": "code",
   "execution_count": 4,
   "outputs": [],
   "source": [
    "market_df['ticker'] = market_df['symbol'] + '-' + market_df['base']"
   ],
   "metadata": {
    "collapsed": false,
    "pycharm": {
     "name": "#%%\n"
    }
   }
  },
  {
   "cell_type": "code",
   "execution_count": 5,
   "id": "ongoing-elimination",
   "metadata": {},
   "outputs": [],
   "source": [
    "# combine the information into the market\n",
    "\n",
    "market = top_100_coins_df.merge(market_df, on='id')\n",
    "\n",
    "market.set_index(['ticker', 'symbol', 'base'], inplace=True)"
   ]
  },
  {
   "cell_type": "code",
   "execution_count": 6,
   "outputs": [
    {
     "data": {
      "text/plain": "                                       id  market_cap              name  \\\nticker    symbol base                                                     \nbtc-usd   btc    usd              bitcoin       -8723           Bitcoin   \neth-usd   eth    usd             ethereum       -6908          Ethereum   \nusdt-usd  usdt   usd               tether      -17936            Tether   \nbnb-usd   bnb    usd          binancecoin       16189      Binance Coin   \nada-usd   ada    usd              cardano      -24241           Cardano   \n...                                   ...         ...               ...   \nbcha-usd  bcha   usd   bitcoin-cash-abc-2      -22975  Bitcoin Cash ABC   \ncusdt-usd cusdt  usd        compound-usdt        6890             cUSDT   \nont-usd   ont    usd             ontology      -24877          Ontology   \ncrv-usd   crv    usd      curve-dao-token        7759   Curve DAO Token   \nzrx-usd   zrx    usd                   0x       20640                0x   \n\n                                                   sector genesis_date  \\\nticker    symbol base                                                    \nbtc-usd   btc    usd                       Cryptocurrency   2009-01-03   \neth-usd   eth    usd              Smart Contract Platform   2015-07-30   \nusdt-usd  usdt   usd                       USD Stablecoin          NaT   \nbnb-usd   bnb    usd     Centralized Exchange Token (CEX)   2017-07-08   \nada-usd   ada    usd              Smart Contract Platform          NaT   \n...                                                   ...          ...   \nbcha-usd  bcha   usd                       Cryptocurrency          NaT   \ncusdt-usd cusdt  usd                    Finance / Banking          NaT   \nont-usd   ont    usd              Near Protocol Ecosystem   2018-02-26   \ncrv-usd   crv    usd   Decentralized Exchange Token (DEX)          NaT   \nzrx-usd   zrx    usd   Decentralized Exchange Token (DEX)   2017-08-11   \n\n                       market_cap_rank hashing_algorithm  coingecko_rank  \\\nticker    symbol base                                                      \nbtc-usd   btc    usd                 1           SHA-256               1   \neth-usd   eth    usd                 2            Ethash               2   \nusdt-usd  usdt   usd                 3              None             149   \nbnb-usd   bnb    usd                 4              None               5   \nada-usd   ada    usd                 5              None               6   \n...                                ...               ...             ...   \nbcha-usd  bcha   usd                96              None             867   \ncusdt-usd cusdt  usd                97              None             380   \nont-usd   ont    usd                98              None              25   \ncrv-usd   crv    usd                99              None              99   \nzrx-usd   zrx    usd               100              None              43   \n\n                       coingecko_score  developer_score  community_score  \\\nticker    symbol base                                                      \nbtc-usd   btc    usd         81.994003       104.080002        72.552002   \neth-usd   eth    usd         77.875999       101.994003        61.507000   \nusdt-usd  usdt   usd         41.532001         0.000000        10.866000   \nbnb-usd   bnb    usd         67.561996        77.110001        63.431999   \nada-usd   ada    usd         65.686996        73.917000        58.050999   \n...                                ...              ...              ...   \nbcha-usd  bcha   usd         22.743000         0.000000         0.000000   \ncusdt-usd cusdt  usd         30.802000         0.000000        38.096001   \nont-usd   ont    usd         57.389999        84.526001        41.320999   \ncrv-usd   crv    usd         46.368999        68.565002        10.923000   \nzrx-usd   zrx    usd         53.647999        72.850998        41.521000   \n\n                       liquidity_score  public_interest_score  \nticker    symbol base                                          \nbtc-usd   btc    usd         99.973999                  0.365  \neth-usd   eth    usd         97.810997                  0.507  \nusdt-usd  usdt   usd        104.026001                  0.069  \nbnb-usd   bnb    usd         77.880997                 14.394  \nada-usd   ada    usd         82.440002                  0.290  \n...                                ...                    ...  \nbcha-usd  bcha   usd         41.719002                  0.005  \ncusdt-usd cusdt  usd         37.498001                  0.086  \nont-usd   ont    usd         61.799000                  0.014  \ncrv-usd   crv    usd         60.393002                  0.104  \nzrx-usd   zrx    usd         57.639000                  0.033  \n\n[100 rows x 13 columns]",
      "text/html": "<div>\n<style scoped>\n    .dataframe tbody tr th:only-of-type {\n        vertical-align: middle;\n    }\n\n    .dataframe tbody tr th {\n        vertical-align: top;\n    }\n\n    .dataframe thead th {\n        text-align: right;\n    }\n</style>\n<table border=\"1\" class=\"dataframe\">\n  <thead>\n    <tr style=\"text-align: right;\">\n      <th></th>\n      <th></th>\n      <th></th>\n      <th>id</th>\n      <th>market_cap</th>\n      <th>name</th>\n      <th>sector</th>\n      <th>genesis_date</th>\n      <th>market_cap_rank</th>\n      <th>hashing_algorithm</th>\n      <th>coingecko_rank</th>\n      <th>coingecko_score</th>\n      <th>developer_score</th>\n      <th>community_score</th>\n      <th>liquidity_score</th>\n      <th>public_interest_score</th>\n    </tr>\n    <tr>\n      <th>ticker</th>\n      <th>symbol</th>\n      <th>base</th>\n      <th></th>\n      <th></th>\n      <th></th>\n      <th></th>\n      <th></th>\n      <th></th>\n      <th></th>\n      <th></th>\n      <th></th>\n      <th></th>\n      <th></th>\n      <th></th>\n      <th></th>\n    </tr>\n  </thead>\n  <tbody>\n    <tr>\n      <th>btc-usd</th>\n      <th>btc</th>\n      <th>usd</th>\n      <td>bitcoin</td>\n      <td>-8723</td>\n      <td>Bitcoin</td>\n      <td>Cryptocurrency</td>\n      <td>2009-01-03</td>\n      <td>1</td>\n      <td>SHA-256</td>\n      <td>1</td>\n      <td>81.994003</td>\n      <td>104.080002</td>\n      <td>72.552002</td>\n      <td>99.973999</td>\n      <td>0.365</td>\n    </tr>\n    <tr>\n      <th>eth-usd</th>\n      <th>eth</th>\n      <th>usd</th>\n      <td>ethereum</td>\n      <td>-6908</td>\n      <td>Ethereum</td>\n      <td>Smart Contract Platform</td>\n      <td>2015-07-30</td>\n      <td>2</td>\n      <td>Ethash</td>\n      <td>2</td>\n      <td>77.875999</td>\n      <td>101.994003</td>\n      <td>61.507000</td>\n      <td>97.810997</td>\n      <td>0.507</td>\n    </tr>\n    <tr>\n      <th>usdt-usd</th>\n      <th>usdt</th>\n      <th>usd</th>\n      <td>tether</td>\n      <td>-17936</td>\n      <td>Tether</td>\n      <td>USD Stablecoin</td>\n      <td>NaT</td>\n      <td>3</td>\n      <td>None</td>\n      <td>149</td>\n      <td>41.532001</td>\n      <td>0.000000</td>\n      <td>10.866000</td>\n      <td>104.026001</td>\n      <td>0.069</td>\n    </tr>\n    <tr>\n      <th>bnb-usd</th>\n      <th>bnb</th>\n      <th>usd</th>\n      <td>binancecoin</td>\n      <td>16189</td>\n      <td>Binance Coin</td>\n      <td>Centralized Exchange Token (CEX)</td>\n      <td>2017-07-08</td>\n      <td>4</td>\n      <td>None</td>\n      <td>5</td>\n      <td>67.561996</td>\n      <td>77.110001</td>\n      <td>63.431999</td>\n      <td>77.880997</td>\n      <td>14.394</td>\n    </tr>\n    <tr>\n      <th>ada-usd</th>\n      <th>ada</th>\n      <th>usd</th>\n      <td>cardano</td>\n      <td>-24241</td>\n      <td>Cardano</td>\n      <td>Smart Contract Platform</td>\n      <td>NaT</td>\n      <td>5</td>\n      <td>None</td>\n      <td>6</td>\n      <td>65.686996</td>\n      <td>73.917000</td>\n      <td>58.050999</td>\n      <td>82.440002</td>\n      <td>0.290</td>\n    </tr>\n    <tr>\n      <th>...</th>\n      <th>...</th>\n      <th>...</th>\n      <td>...</td>\n      <td>...</td>\n      <td>...</td>\n      <td>...</td>\n      <td>...</td>\n      <td>...</td>\n      <td>...</td>\n      <td>...</td>\n      <td>...</td>\n      <td>...</td>\n      <td>...</td>\n      <td>...</td>\n      <td>...</td>\n    </tr>\n    <tr>\n      <th>bcha-usd</th>\n      <th>bcha</th>\n      <th>usd</th>\n      <td>bitcoin-cash-abc-2</td>\n      <td>-22975</td>\n      <td>Bitcoin Cash ABC</td>\n      <td>Cryptocurrency</td>\n      <td>NaT</td>\n      <td>96</td>\n      <td>None</td>\n      <td>867</td>\n      <td>22.743000</td>\n      <td>0.000000</td>\n      <td>0.000000</td>\n      <td>41.719002</td>\n      <td>0.005</td>\n    </tr>\n    <tr>\n      <th>cusdt-usd</th>\n      <th>cusdt</th>\n      <th>usd</th>\n      <td>compound-usdt</td>\n      <td>6890</td>\n      <td>cUSDT</td>\n      <td>Finance / Banking</td>\n      <td>NaT</td>\n      <td>97</td>\n      <td>None</td>\n      <td>380</td>\n      <td>30.802000</td>\n      <td>0.000000</td>\n      <td>38.096001</td>\n      <td>37.498001</td>\n      <td>0.086</td>\n    </tr>\n    <tr>\n      <th>ont-usd</th>\n      <th>ont</th>\n      <th>usd</th>\n      <td>ontology</td>\n      <td>-24877</td>\n      <td>Ontology</td>\n      <td>Near Protocol Ecosystem</td>\n      <td>2018-02-26</td>\n      <td>98</td>\n      <td>None</td>\n      <td>25</td>\n      <td>57.389999</td>\n      <td>84.526001</td>\n      <td>41.320999</td>\n      <td>61.799000</td>\n      <td>0.014</td>\n    </tr>\n    <tr>\n      <th>crv-usd</th>\n      <th>crv</th>\n      <th>usd</th>\n      <td>curve-dao-token</td>\n      <td>7759</td>\n      <td>Curve DAO Token</td>\n      <td>Decentralized Exchange Token (DEX)</td>\n      <td>NaT</td>\n      <td>99</td>\n      <td>None</td>\n      <td>99</td>\n      <td>46.368999</td>\n      <td>68.565002</td>\n      <td>10.923000</td>\n      <td>60.393002</td>\n      <td>0.104</td>\n    </tr>\n    <tr>\n      <th>zrx-usd</th>\n      <th>zrx</th>\n      <th>usd</th>\n      <td>0x</td>\n      <td>20640</td>\n      <td>0x</td>\n      <td>Decentralized Exchange Token (DEX)</td>\n      <td>2017-08-11</td>\n      <td>100</td>\n      <td>None</td>\n      <td>43</td>\n      <td>53.647999</td>\n      <td>72.850998</td>\n      <td>41.521000</td>\n      <td>57.639000</td>\n      <td>0.033</td>\n    </tr>\n  </tbody>\n</table>\n<p>100 rows × 13 columns</p>\n</div>"
     },
     "execution_count": 6,
     "metadata": {},
     "output_type": "execute_result"
    }
   ],
   "source": [
    "market = reduce_footprint(market, float_type='float32')\n",
    "\n",
    "market"
   ],
   "metadata": {
    "collapsed": false,
    "pycharm": {
     "name": "#%%\n"
    }
   }
  },
  {
   "cell_type": "code",
   "execution_count": 7,
   "id": "complex-behavior",
   "metadata": {},
   "outputs": [
    {
     "data": {
      "text/plain": "                               id  market_cap          name  \\\nticker   symbol base                                          \nbtc-usd  btc    usd       bitcoin       -8723       Bitcoin   \neth-usd  eth    usd      ethereum       -6908      Ethereum   \nusdt-usd usdt   usd        tether      -17936        Tether   \nbnb-usd  bnb    usd   binancecoin       16189  Binance Coin   \nada-usd  ada    usd       cardano      -24241       Cardano   \ndoge-usd doge   usd      dogecoin      -26110      Dogecoin   \nxrp-usd  xrp    usd        ripple      -20166           XRP   \nusdc-usd usdc   usd      usd-coin        1162      USD Coin   \ndot-usd  dot    usd      polkadot       12227      Polkadot   \nbusd-usd busd   usd   binance-usd       26391   Binance USD   \n\n                                                sector genesis_date  \\\nticker   symbol base                                                  \nbtc-usd  btc    usd                     Cryptocurrency   2009-01-03   \neth-usd  eth    usd            Smart Contract Platform   2015-07-30   \nusdt-usd usdt   usd                     USD Stablecoin          NaT   \nbnb-usd  bnb    usd   Centralized Exchange Token (CEX)   2017-07-08   \nada-usd  ada    usd            Smart Contract Platform          NaT   \ndoge-usd doge   usd                        Meme Tokens   2013-12-08   \nxrp-usd  xrp    usd                     Cryptocurrency          NaT   \nusdc-usd usdc   usd                     USD Stablecoin          NaT   \ndot-usd  dot    usd                 Polkadot Ecosystem          NaT   \nbusd-usd busd   usd                     USD Stablecoin          NaT   \n\n                      market_cap_rank hashing_algorithm  coingecko_rank  \\\nticker   symbol base                                                      \nbtc-usd  btc    usd                 1           SHA-256               1   \neth-usd  eth    usd                 2            Ethash               2   \nusdt-usd usdt   usd                 3              None             149   \nbnb-usd  bnb    usd                 4              None               5   \nada-usd  ada    usd                 5              None               6   \ndoge-usd doge   usd                 6            Scrypt               3   \nxrp-usd  xrp    usd                 7              None               4   \nusdc-usd usdc   usd                 8              None              45   \ndot-usd  dot    usd                 9              None             143   \nbusd-usd busd   usd                10              None             233   \n\n                      coingecko_score  developer_score  community_score  \\\nticker   symbol base                                                      \nbtc-usd  btc    usd         81.994003       104.080002        72.552002   \neth-usd  eth    usd         77.875999       101.994003        61.507000   \nusdt-usd usdt   usd         41.532001         0.000000        10.866000   \nbnb-usd  bnb    usd         67.561996        77.110001        63.431999   \nada-usd  ada    usd         65.686996        73.917000        58.050999   \ndoge-usd doge   usd         70.210999        78.168999        75.267998   \nxrp-usd  xrp    usd         68.098999        89.317001        52.574001   \nusdc-usd usdc   usd         53.308998        77.436996         0.000000   \ndot-usd  dot    usd         41.915001         0.000000        44.015999   \nbusd-usd busd   usd         35.965000         0.000000         9.263000   \n\n                      liquidity_score  public_interest_score  \nticker   symbol base                                          \nbtc-usd  btc    usd         99.973999                  0.365  \neth-usd  eth    usd         97.810997                  0.507  \nusdt-usd usdt   usd        104.026001                  0.069  \nbnb-usd  bnb    usd         77.880997                 14.394  \nada-usd  ada    usd         82.440002                  0.290  \ndoge-usd doge   usd         82.249001                  0.213  \nxrp-usd  xrp    usd         82.374001                  0.168  \nusdc-usd usdc   usd         81.487000                  0.052  \ndot-usd  dot    usd         74.639999                  0.101  \nbusd-usd busd   usd         84.891998                  0.047  ",
      "text/html": "<div>\n<style scoped>\n    .dataframe tbody tr th:only-of-type {\n        vertical-align: middle;\n    }\n\n    .dataframe tbody tr th {\n        vertical-align: top;\n    }\n\n    .dataframe thead th {\n        text-align: right;\n    }\n</style>\n<table border=\"1\" class=\"dataframe\">\n  <thead>\n    <tr style=\"text-align: right;\">\n      <th></th>\n      <th></th>\n      <th></th>\n      <th>id</th>\n      <th>market_cap</th>\n      <th>name</th>\n      <th>sector</th>\n      <th>genesis_date</th>\n      <th>market_cap_rank</th>\n      <th>hashing_algorithm</th>\n      <th>coingecko_rank</th>\n      <th>coingecko_score</th>\n      <th>developer_score</th>\n      <th>community_score</th>\n      <th>liquidity_score</th>\n      <th>public_interest_score</th>\n    </tr>\n    <tr>\n      <th>ticker</th>\n      <th>symbol</th>\n      <th>base</th>\n      <th></th>\n      <th></th>\n      <th></th>\n      <th></th>\n      <th></th>\n      <th></th>\n      <th></th>\n      <th></th>\n      <th></th>\n      <th></th>\n      <th></th>\n      <th></th>\n      <th></th>\n    </tr>\n  </thead>\n  <tbody>\n    <tr>\n      <th>btc-usd</th>\n      <th>btc</th>\n      <th>usd</th>\n      <td>bitcoin</td>\n      <td>-8723</td>\n      <td>Bitcoin</td>\n      <td>Cryptocurrency</td>\n      <td>2009-01-03</td>\n      <td>1</td>\n      <td>SHA-256</td>\n      <td>1</td>\n      <td>81.994003</td>\n      <td>104.080002</td>\n      <td>72.552002</td>\n      <td>99.973999</td>\n      <td>0.365</td>\n    </tr>\n    <tr>\n      <th>eth-usd</th>\n      <th>eth</th>\n      <th>usd</th>\n      <td>ethereum</td>\n      <td>-6908</td>\n      <td>Ethereum</td>\n      <td>Smart Contract Platform</td>\n      <td>2015-07-30</td>\n      <td>2</td>\n      <td>Ethash</td>\n      <td>2</td>\n      <td>77.875999</td>\n      <td>101.994003</td>\n      <td>61.507000</td>\n      <td>97.810997</td>\n      <td>0.507</td>\n    </tr>\n    <tr>\n      <th>usdt-usd</th>\n      <th>usdt</th>\n      <th>usd</th>\n      <td>tether</td>\n      <td>-17936</td>\n      <td>Tether</td>\n      <td>USD Stablecoin</td>\n      <td>NaT</td>\n      <td>3</td>\n      <td>None</td>\n      <td>149</td>\n      <td>41.532001</td>\n      <td>0.000000</td>\n      <td>10.866000</td>\n      <td>104.026001</td>\n      <td>0.069</td>\n    </tr>\n    <tr>\n      <th>bnb-usd</th>\n      <th>bnb</th>\n      <th>usd</th>\n      <td>binancecoin</td>\n      <td>16189</td>\n      <td>Binance Coin</td>\n      <td>Centralized Exchange Token (CEX)</td>\n      <td>2017-07-08</td>\n      <td>4</td>\n      <td>None</td>\n      <td>5</td>\n      <td>67.561996</td>\n      <td>77.110001</td>\n      <td>63.431999</td>\n      <td>77.880997</td>\n      <td>14.394</td>\n    </tr>\n    <tr>\n      <th>ada-usd</th>\n      <th>ada</th>\n      <th>usd</th>\n      <td>cardano</td>\n      <td>-24241</td>\n      <td>Cardano</td>\n      <td>Smart Contract Platform</td>\n      <td>NaT</td>\n      <td>5</td>\n      <td>None</td>\n      <td>6</td>\n      <td>65.686996</td>\n      <td>73.917000</td>\n      <td>58.050999</td>\n      <td>82.440002</td>\n      <td>0.290</td>\n    </tr>\n    <tr>\n      <th>doge-usd</th>\n      <th>doge</th>\n      <th>usd</th>\n      <td>dogecoin</td>\n      <td>-26110</td>\n      <td>Dogecoin</td>\n      <td>Meme Tokens</td>\n      <td>2013-12-08</td>\n      <td>6</td>\n      <td>Scrypt</td>\n      <td>3</td>\n      <td>70.210999</td>\n      <td>78.168999</td>\n      <td>75.267998</td>\n      <td>82.249001</td>\n      <td>0.213</td>\n    </tr>\n    <tr>\n      <th>xrp-usd</th>\n      <th>xrp</th>\n      <th>usd</th>\n      <td>ripple</td>\n      <td>-20166</td>\n      <td>XRP</td>\n      <td>Cryptocurrency</td>\n      <td>NaT</td>\n      <td>7</td>\n      <td>None</td>\n      <td>4</td>\n      <td>68.098999</td>\n      <td>89.317001</td>\n      <td>52.574001</td>\n      <td>82.374001</td>\n      <td>0.168</td>\n    </tr>\n    <tr>\n      <th>usdc-usd</th>\n      <th>usdc</th>\n      <th>usd</th>\n      <td>usd-coin</td>\n      <td>1162</td>\n      <td>USD Coin</td>\n      <td>USD Stablecoin</td>\n      <td>NaT</td>\n      <td>8</td>\n      <td>None</td>\n      <td>45</td>\n      <td>53.308998</td>\n      <td>77.436996</td>\n      <td>0.000000</td>\n      <td>81.487000</td>\n      <td>0.052</td>\n    </tr>\n    <tr>\n      <th>dot-usd</th>\n      <th>dot</th>\n      <th>usd</th>\n      <td>polkadot</td>\n      <td>12227</td>\n      <td>Polkadot</td>\n      <td>Polkadot Ecosystem</td>\n      <td>NaT</td>\n      <td>9</td>\n      <td>None</td>\n      <td>143</td>\n      <td>41.915001</td>\n      <td>0.000000</td>\n      <td>44.015999</td>\n      <td>74.639999</td>\n      <td>0.101</td>\n    </tr>\n    <tr>\n      <th>busd-usd</th>\n      <th>busd</th>\n      <th>usd</th>\n      <td>binance-usd</td>\n      <td>26391</td>\n      <td>Binance USD</td>\n      <td>USD Stablecoin</td>\n      <td>NaT</td>\n      <td>10</td>\n      <td>None</td>\n      <td>233</td>\n      <td>35.965000</td>\n      <td>0.000000</td>\n      <td>9.263000</td>\n      <td>84.891998</td>\n      <td>0.047</td>\n    </tr>\n  </tbody>\n</table>\n</div>"
     },
     "execution_count": 7,
     "metadata": {},
     "output_type": "execute_result"
    }
   ],
   "source": [
    "market.head(10)"
   ]
  },
  {
   "cell_type": "code",
   "execution_count": 8,
   "id": "killing-jones",
   "metadata": {},
   "outputs": [
    {
     "data": {
      "text/plain": "<bound method IndexOpsMixin.tolist of MultiIndex([(     'btc-usd',      'btc', 'usd'),\n            (     'eth-usd',      'eth', 'usd'),\n            (    'usdt-usd',     'usdt', 'usd'),\n            (     'bnb-usd',      'bnb', 'usd'),\n            (     'ada-usd',      'ada', 'usd'),\n            (    'doge-usd',     'doge', 'usd'),\n            (     'xrp-usd',      'xrp', 'usd'),\n            (    'usdc-usd',     'usdc', 'usd'),\n            (     'dot-usd',      'dot', 'usd'),\n            (    'busd-usd',     'busd', 'usd'),\n            (     'bch-usd',      'bch', 'usd'),\n            (     'ltc-usd',      'ltc', 'usd'),\n            (     'uni-usd',      'uni', 'usd'),\n            (     'sol-usd',      'sol', 'usd'),\n            (    'link-usd',     'link', 'usd'),\n            (     'etc-usd',      'etc', 'usd'),\n            (   'matic-usd',    'matic', 'usd'),\n            (    'wbtc-usd',     'wbtc', 'usd'),\n            (   'theta-usd',    'theta', 'usd'),\n            (     'icp-usd',      'icp', 'usd'),\n            (     'xlm-usd',      'xlm', 'usd'),\n            (     'vet-usd',      'vet', 'usd'),\n            (     'fil-usd',      'fil', 'usd'),\n            (     'dai-usd',      'dai', 'usd'),\n            (     'trx-usd',      'trx', 'usd'),\n            (    'shib-usd',     'shib', 'usd'),\n            (     'xmr-usd',      'xmr', 'usd'),\n            (     'eos-usd',      'eos', 'usd'),\n            (    'atom-usd',     'atom', 'usd'),\n            (    'aave-usd',     'aave', 'usd'),\n            (     'cro-usd',      'cro', 'usd'),\n            (     'okb-usd',      'okb', 'usd'),\n            (     'bsv-usd',      'bsv', 'usd'),\n            (     'amp-usd',      'amp', 'usd'),\n            (    'algo-usd',     'algo', 'usd'),\n            (     'cel-usd',      'cel', 'usd'),\n            (    'luna-usd',     'luna', 'usd'),\n            (    'cake-usd',     'cake', 'usd'),\n            (     'neo-usd',      'neo', 'usd'),\n            (    'ceth-usd',     'ceth', 'usd'),\n            (    'klay-usd',     'klay', 'usd'),\n            (     'xtz-usd',      'xtz', 'usd'),\n            (   'cusdc-usd',    'cusdc', 'usd'),\n            (     'leo-usd',      'leo', 'usd'),\n            (     'ftt-usd',      'ftt', 'usd'),\n            (   'miota-usd',    'miota', 'usd'),\n            (   'tfuel-usd',    'tfuel', 'usd'),\n            (     'mkr-usd',      'mkr', 'usd'),\n            (    'AVAX-usd',     'AVAX', 'usd'),\n            (    'cdai-usd',     'cdai', 'usd'),\n            ('safemoon-usd', 'safemoon', 'usd'),\n            (     'ust-usd',      'ust', 'usd'),\n            (     'dcr-usd',      'dcr', 'usd'),\n            (     'ksm-usd',      'ksm', 'usd'),\n            (      'ht-usd',       'ht', 'usd'),\n            (    'rune-usd',     'rune', 'usd'),\n            (     'btt-usd',      'btt', 'usd'),\n            (   'waves-usd',    'waves', 'usd'),\n            (     'grt-usd',      'grt', 'usd'),\n            (    'hbar-usd',     'hbar', 'usd'),\n            (    'comp-usd',     'comp', 'usd'),\n            (    'egld-usd',     'egld', 'usd'),\n            (    'tusd-usd',     'tusd', 'usd'),\n            (   'sushi-usd',    'sushi', 'usd'),\n            (     'tel-usd',      'tel', 'usd'),\n            (    'dash-usd',     'dash', 'usd'),\n            (    'hbtc-usd',     'hbtc', 'usd'),\n            (     'zec-usd',      'zec', 'usd'),\n            (     'chz-usd',      'chz', 'usd'),\n            (   'steth-usd',    'steth', 'usd'),\n            (     'yfi-usd',      'yfi', 'usd'),\n            (     'xem-usd',      'xem', 'usd'),\n            (     'hnt-usd',      'hnt', 'usd'),\n            (     'snx-usd',      'snx', 'usd'),\n            (     'hot-usd',      'hot', 'usd'),\n            (     'zil-usd',      'zil', 'usd'),\n            (     'enj-usd',      'enj', 'usd'),\n            (     'qnt-usd',      'qnt', 'usd'),\n            (     'btg-usd',      'btg', 'usd'),\n            (     'xdc-usd',      'xdc', 'usd'),\n            (     'bat-usd',      'bat', 'usd'),\n            (     'pax-usd',      'pax', 'usd'),\n            (     'mdx-usd',      'mdx', 'usd'),\n            (    'near-usd',     'near', 'usd'),\n            (    'nexo-usd',     'nexo', 'usd'),\n            (     'stx-usd',      'stx', 'usd'),\n            (    'qtum-usd',     'qtum', 'usd'),\n            (    'lusd-usd',     'lusd', 'usd'),\n            (     'zen-usd',      'zen', 'usd'),\n            (     'bnt-usd',      'bnt', 'usd'),\n            (    'mana-usd',     'mana', 'usd'),\n            (    'nano-usd',     'nano', 'usd'),\n            (     'dgb-usd',      'dgb', 'usd'),\n            (     'one-usd',      'one', 'usd'),\n            (     'uma-usd',      'uma', 'usd'),\n            (    'bcha-usd',     'bcha', 'usd'),\n            (   'cusdt-usd',    'cusdt', 'usd'),\n            (     'ont-usd',      'ont', 'usd'),\n            (     'crv-usd',      'crv', 'usd'),\n            (     'zrx-usd',      'zrx', 'usd')],\n           names=['ticker', 'symbol', 'base'])>"
     },
     "execution_count": 8,
     "metadata": {},
     "output_type": "execute_result"
    }
   ],
   "source": [
    "market.index.tolist"
   ]
  },
  {
   "cell_type": "markdown",
   "id": "lightweight-herald",
   "metadata": {},
   "source": [
    "## Create categorical data from raw data and store in seperate data frame"
   ]
  },
  {
   "cell_type": "code",
   "execution_count": 9,
   "id": "actual-messenger",
   "metadata": {},
   "outputs": [
    {
     "name": "stdout",
     "output_type": "stream",
     "text": [
      "['Analytics' 'Artificial Intelligence' 'Asset-backed Tokens'\n",
      " 'Automated Market Maker (AMM)' 'Avalanche Ecosystem'\n",
      " 'Binance Smart Chain Ecosystem' 'Business Platform' 'Business Services'\n",
      " 'Centralized Exchange Token (CEX)' 'Communication' 'Compound Tokens'\n",
      " 'Cosmos Ecosystem' 'Cryptocurrency' 'Decentralized Exchange Token (DEX)'\n",
      " 'Decentralized Finance (DeFi)' 'Derivatives' 'Entertainment'\n",
      " 'Eth 2.0 Staking' 'Exchange-based Tokens' 'Finance / Banking' 'Gaming'\n",
      " 'Governance' 'HECO Chain Ecosystem' 'Infrastructure'\n",
      " 'Internet of Things (IOT)' 'Lending/Borrowing' 'Masternodes'\n",
      " 'Meme Tokens' 'Metaverse' 'Near Protocol Ecosystem'\n",
      " 'Non-Fungible Tokens (NFT)' 'Oracle' 'Polkadot Ecosystem'\n",
      " 'Polygon Ecosystem' 'Privacy Coins' 'Protocol' 'Seigniorage'\n",
      " 'Smart Contract Platform' 'Solana Ecosystem' 'Sports' 'Stablecoins'\n",
      " 'Storage' 'Synthetic Issuer' 'Terra Ecosystem' 'Tokenized BTC'\n",
      " 'USD Stablecoin' 'Wrapped-Tokens' 'Yearn Ecosystem' 'Yield Aggregator'\n",
      " 'Yield Farming' 'xDAI Ecosystem']\n",
      "{'btc': ['Cryptocurrency'], 'eth': ['Smart Contract Platform'], 'usdt': ['USD Stablecoin', 'Stablecoins'], 'bnb': ['Centralized Exchange Token (CEX)', 'Binance Smart Chain Ecosystem', 'Exchange-based Tokens'], 'ada': ['Smart Contract Platform'], 'doge': ['Meme Tokens', 'Cryptocurrency'], 'xrp': ['Cryptocurrency'], 'usdc': ['USD Stablecoin', 'Stablecoins'], 'dot': ['Polkadot Ecosystem'], 'busd': ['USD Stablecoin', 'Binance Smart Chain Ecosystem', 'Stablecoins'], 'bch': ['Cryptocurrency'], 'ltc': ['Cryptocurrency'], 'uni': ['Decentralized Exchange Token (DEX)', 'Automated Market Maker (AMM)', 'Yield Farming', 'Decentralized Finance (DeFi)', 'Governance', 'Exchange-based Tokens'], 'sol': ['Solana Ecosystem', 'Smart Contract Platform'], 'link': ['Solana Ecosystem', 'Near Protocol Ecosystem', 'Polygon Ecosystem', 'xDAI Ecosystem', 'Business Services', 'Infrastructure', 'Smart Contract Platform', 'Polkadot Ecosystem', 'Decentralized Finance (DeFi)', 'Oracle'], 'etc': ['Smart Contract Platform'], 'matic': ['Polygon Ecosystem'], 'wbtc': ['Wrapped-Tokens', 'Tokenized BTC'], 'theta': ['Entertainment', 'Non-Fungible Tokens (NFT)'], 'icp': ['Smart Contract Platform'], 'xlm': ['Cryptocurrency', 'Smart Contract Platform'], 'vet': ['Internet of Things (IOT)', 'Artificial Intelligence', 'Business Platform'], 'fil': ['Infrastructure', 'Storage'], 'dai': ['USD Stablecoin', 'Decentralized Finance (DeFi)', 'Stablecoins'], 'trx': ['Smart Contract Platform'], 'shib': ['Meme Tokens'], 'xmr': ['Privacy Coins'], 'eos': ['Smart Contract Platform'], 'atom': ['Cosmos Ecosystem', 'Cryptocurrency'], 'aave': ['Lending/Borrowing', 'Near Protocol Ecosystem', 'Polygon Ecosystem', 'Yield Farming', 'Decentralized Finance (DeFi)', 'Governance'], 'cro': ['Cosmos Ecosystem', 'Centralized Exchange Token (CEX)', 'Exchange-based Tokens'], 'okb': ['Centralized Exchange Token (CEX)', 'Exchange-based Tokens'], 'bsv': [], 'amp': [], 'algo': ['Cryptocurrency', 'Smart Contract Platform'], 'cel': ['Business Services'], 'luna': ['Cosmos Ecosystem', 'Terra Ecosystem', 'Decentralized Finance (DeFi)'], 'cake': ['Decentralized Exchange Token (DEX)', 'Automated Market Maker (AMM)', 'Yield Farming', 'Binance Smart Chain Ecosystem', 'Decentralized Finance (DeFi)', 'Governance', 'Exchange-based Tokens'], 'neo': ['Smart Contract Platform'], 'ceth': ['Finance / Banking', 'Decentralized Finance (DeFi)', 'Compound Tokens', 'Asset-backed Tokens'], 'klay': [], 'xtz': ['Smart Contract Platform', 'Non-Fungible Tokens (NFT)'], 'cusdc': ['Finance / Banking', 'Decentralized Finance (DeFi)', 'Compound Tokens', 'Asset-backed Tokens'], 'leo': ['Centralized Exchange Token (CEX)', 'Exchange-based Tokens'], 'ftt': ['Centralized Exchange Token (CEX)', 'Exchange-based Tokens'], 'miota': ['Internet of Things (IOT)', 'Smart Contract Platform'], 'tfuel': [], 'mkr': ['Lending/Borrowing', 'Near Protocol Ecosystem', 'Decentralized Finance (DeFi)', 'Governance'], 'AVAX': ['Avalanche Ecosystem', 'Smart Contract Platform'], 'cdai': ['Decentralized Finance (DeFi)', 'Compound Tokens', 'Asset-backed Tokens'], 'safemoon': [], 'ust': ['Seigniorage', 'Terra Ecosystem', 'USD Stablecoin', 'Stablecoins'], 'dcr': ['Cryptocurrency', 'Governance', 'Privacy Coins'], 'ksm': ['Polkadot Ecosystem'], 'ht': ['Centralized Exchange Token (CEX)', 'Exchange-based Tokens'], 'rune': ['Cosmos Ecosystem', 'Decentralized Exchange Token (DEX)', 'Infrastructure', 'Decentralized Finance (DeFi)', 'Exchange-based Tokens'], 'btt': ['Protocol', 'Storage'], 'waves': ['Solana Ecosystem', 'Smart Contract Platform'], 'grt': ['Solana Ecosystem', 'Near Protocol Ecosystem', 'Polygon Ecosystem', 'xDAI Ecosystem', 'Business Services', 'Infrastructure', 'Binance Smart Chain Ecosystem', 'Decentralized Finance (DeFi)', 'Analytics'], 'hbar': ['Protocol'], 'comp': ['Lending/Borrowing', 'Yield Farming', 'Decentralized Finance (DeFi)', 'Governance'], 'egld': ['Protocol', 'Smart Contract Platform'], 'tusd': ['Avalanche Ecosystem', 'USD Stablecoin', 'Stablecoins'], 'sushi': ['Yearn Ecosystem', 'Decentralized Exchange Token (DEX)', 'Polygon Ecosystem', 'xDAI Ecosystem', 'Automated Market Maker (AMM)', 'Yield Farming', 'Decentralized Finance (DeFi)', 'Governance', 'Exchange-based Tokens'], 'tel': [], 'dash': ['Cryptocurrency', 'Masternodes', 'Privacy Coins'], 'hbtc': ['Tokenized BTC'], 'zec': ['Privacy Coins'], 'chz': ['Non-Fungible Tokens (NFT)', 'Sports'], 'steth': ['Eth 2.0 Staking', 'Decentralized Finance (DeFi)'], 'yfi': ['Yearn Ecosystem', 'Yield Aggregator', 'Yield Farming', 'Decentralized Finance (DeFi)', 'Governance'], 'xem': ['Smart Contract Platform'], 'hnt': ['Communication'], 'snx': ['Derivatives', 'Decentralized Exchange Token (DEX)', 'Synthetic Issuer', 'Yield Farming', 'Decentralized Finance (DeFi)', 'Governance', 'Exchange-based Tokens'], 'hot': ['Smart Contract Platform', 'Storage'], 'zil': ['Smart Contract Platform'], 'enj': ['Entertainment', 'Non-Fungible Tokens (NFT)', 'Gaming'], 'qnt': ['Protocol'], 'btg': ['Cryptocurrency'], 'xdc': ['Finance / Banking', 'Smart Contract Platform'], 'bat': [], 'pax': ['USD Stablecoin', 'Stablecoins'], 'mdx': ['HECO Chain Ecosystem'], 'near': ['Smart Contract Platform'], 'nexo': ['Finance / Banking'], 'stx': ['Infrastructure'], 'qtum': ['Smart Contract Platform'], 'lusd': ['USD Stablecoin', 'Decentralized Finance (DeFi)', 'Stablecoins'], 'zen': ['Masternodes', 'Privacy Coins'], 'bnt': ['Decentralized Exchange Token (DEX)', 'Automated Market Maker (AMM)', 'Decentralized Finance (DeFi)', 'Exchange-based Tokens'], 'mana': ['Metaverse', 'Polygon Ecosystem', 'Entertainment', 'Non-Fungible Tokens (NFT)'], 'nano': ['Cryptocurrency'], 'dgb': ['Internet of Things (IOT)', 'Artificial Intelligence', 'Cryptocurrency', 'Smart Contract Platform', 'Privacy Coins'], 'one': ['Protocol', 'Smart Contract Platform'], 'uma': ['Derivatives', 'Finance / Banking', 'Synthetic Issuer', 'Polygon Ecosystem', 'Business Services', 'Decentralized Finance (DeFi)', 'Governance'], 'bcha': ['Cryptocurrency'], 'cusdt': ['Finance / Banking', 'Compound Tokens', 'Asset-backed Tokens'], 'ont': ['Near Protocol Ecosystem', 'Smart Contract Platform', 'Binance Smart Chain Ecosystem', 'Polkadot Ecosystem'], 'crv': ['Decentralized Exchange Token (DEX)', 'Polygon Ecosystem', 'Automated Market Maker (AMM)', 'Yield Farming', 'Decentralized Finance (DeFi)', 'Governance', 'Exchange-based Tokens'], 'zrx': ['Decentralized Exchange Token (DEX)', 'Polygon Ecosystem', 'Protocol', 'Polkadot Ecosystem', 'Decentralized Finance (DeFi)', 'Governance']}\n"
     ]
    },
    {
     "data": {
      "text/plain": "                       Analytics  Artificial Intelligence  \\\nticker    symbol base                                       \nbtc-usd   btc    usd           0                        0   \neth-usd   eth    usd           0                        0   \nusdt-usd  usdt   usd           0                        0   \nbnb-usd   bnb    usd           0                        0   \nada-usd   ada    usd           0                        0   \n...                          ...                      ...   \nbcha-usd  bcha   usd           0                        0   \ncusdt-usd cusdt  usd           0                        0   \nont-usd   ont    usd           0                        0   \ncrv-usd   crv    usd           0                        0   \nzrx-usd   zrx    usd           0                        0   \n\n                       Asset-backed Tokens  Automated Market Maker (AMM)  \\\nticker    symbol base                                                      \nbtc-usd   btc    usd                     0                             0   \neth-usd   eth    usd                     0                             0   \nusdt-usd  usdt   usd                     0                             0   \nbnb-usd   bnb    usd                     0                             0   \nada-usd   ada    usd                     0                             0   \n...                                    ...                           ...   \nbcha-usd  bcha   usd                     0                             0   \ncusdt-usd cusdt  usd                     1                             0   \nont-usd   ont    usd                     0                             0   \ncrv-usd   crv    usd                     0                             1   \nzrx-usd   zrx    usd                     0                             0   \n\n                       Avalanche Ecosystem  Binance Smart Chain Ecosystem  \\\nticker    symbol base                                                       \nbtc-usd   btc    usd                     0                              0   \neth-usd   eth    usd                     0                              0   \nusdt-usd  usdt   usd                     0                              0   \nbnb-usd   bnb    usd                     0                              1   \nada-usd   ada    usd                     0                              0   \n...                                    ...                            ...   \nbcha-usd  bcha   usd                     0                              0   \ncusdt-usd cusdt  usd                     0                              0   \nont-usd   ont    usd                     0                              1   \ncrv-usd   crv    usd                     0                              0   \nzrx-usd   zrx    usd                     0                              0   \n\n                       Business Platform  Business Services  \\\nticker    symbol base                                         \nbtc-usd   btc    usd                   0                  0   \neth-usd   eth    usd                   0                  0   \nusdt-usd  usdt   usd                   0                  0   \nbnb-usd   bnb    usd                   0                  0   \nada-usd   ada    usd                   0                  0   \n...                                  ...                ...   \nbcha-usd  bcha   usd                   0                  0   \ncusdt-usd cusdt  usd                   0                  0   \nont-usd   ont    usd                   0                  0   \ncrv-usd   crv    usd                   0                  0   \nzrx-usd   zrx    usd                   0                  0   \n\n                       Centralized Exchange Token (CEX)  Communication  ...  \\\nticker    symbol base                                                   ...   \nbtc-usd   btc    usd                                  0              0  ...   \neth-usd   eth    usd                                  0              0  ...   \nusdt-usd  usdt   usd                                  0              0  ...   \nbnb-usd   bnb    usd                                  1              0  ...   \nada-usd   ada    usd                                  0              0  ...   \n...                                                 ...            ...  ...   \nbcha-usd  bcha   usd                                  0              0  ...   \ncusdt-usd cusdt  usd                                  0              0  ...   \nont-usd   ont    usd                                  0              0  ...   \ncrv-usd   crv    usd                                  0              0  ...   \nzrx-usd   zrx    usd                                  0              0  ...   \n\n                       Storage  Synthetic Issuer  Terra Ecosystem  \\\nticker    symbol base                                               \nbtc-usd   btc    usd         0                 0                0   \neth-usd   eth    usd         0                 0                0   \nusdt-usd  usdt   usd         0                 0                0   \nbnb-usd   bnb    usd         0                 0                0   \nada-usd   ada    usd         0                 0                0   \n...                        ...               ...              ...   \nbcha-usd  bcha   usd         0                 0                0   \ncusdt-usd cusdt  usd         0                 0                0   \nont-usd   ont    usd         0                 0                0   \ncrv-usd   crv    usd         0                 0                0   \nzrx-usd   zrx    usd         0                 0                0   \n\n                       Tokenized BTC  USD Stablecoin  Wrapped-Tokens  \\\nticker    symbol base                                                  \nbtc-usd   btc    usd               0               0               0   \neth-usd   eth    usd               0               0               0   \nusdt-usd  usdt   usd               0               1               0   \nbnb-usd   bnb    usd               0               0               0   \nada-usd   ada    usd               0               0               0   \n...                              ...             ...             ...   \nbcha-usd  bcha   usd               0               0               0   \ncusdt-usd cusdt  usd               0               0               0   \nont-usd   ont    usd               0               0               0   \ncrv-usd   crv    usd               0               0               0   \nzrx-usd   zrx    usd               0               0               0   \n\n                       Yearn Ecosystem  Yield Aggregator  Yield Farming  \\\nticker    symbol base                                                     \nbtc-usd   btc    usd                 0                 0              0   \neth-usd   eth    usd                 0                 0              0   \nusdt-usd  usdt   usd                 0                 0              0   \nbnb-usd   bnb    usd                 0                 0              0   \nada-usd   ada    usd                 0                 0              0   \n...                                ...               ...            ...   \nbcha-usd  bcha   usd                 0                 0              0   \ncusdt-usd cusdt  usd                 0                 0              0   \nont-usd   ont    usd                 0                 0              0   \ncrv-usd   crv    usd                 0                 0              1   \nzrx-usd   zrx    usd                 0                 0              0   \n\n                       xDAI Ecosystem  \nticker    symbol base                  \nbtc-usd   btc    usd                0  \neth-usd   eth    usd                0  \nusdt-usd  usdt   usd                0  \nbnb-usd   bnb    usd                0  \nada-usd   ada    usd                0  \n...                               ...  \nbcha-usd  bcha   usd                0  \ncusdt-usd cusdt  usd                0  \nont-usd   ont    usd                0  \ncrv-usd   crv    usd                0  \nzrx-usd   zrx    usd                0  \n\n[100 rows x 51 columns]",
      "text/html": "<div>\n<style scoped>\n    .dataframe tbody tr th:only-of-type {\n        vertical-align: middle;\n    }\n\n    .dataframe tbody tr th {\n        vertical-align: top;\n    }\n\n    .dataframe thead th {\n        text-align: right;\n    }\n</style>\n<table border=\"1\" class=\"dataframe\">\n  <thead>\n    <tr style=\"text-align: right;\">\n      <th></th>\n      <th></th>\n      <th></th>\n      <th>Analytics</th>\n      <th>Artificial Intelligence</th>\n      <th>Asset-backed Tokens</th>\n      <th>Automated Market Maker (AMM)</th>\n      <th>Avalanche Ecosystem</th>\n      <th>Binance Smart Chain Ecosystem</th>\n      <th>Business Platform</th>\n      <th>Business Services</th>\n      <th>Centralized Exchange Token (CEX)</th>\n      <th>Communication</th>\n      <th>...</th>\n      <th>Storage</th>\n      <th>Synthetic Issuer</th>\n      <th>Terra Ecosystem</th>\n      <th>Tokenized BTC</th>\n      <th>USD Stablecoin</th>\n      <th>Wrapped-Tokens</th>\n      <th>Yearn Ecosystem</th>\n      <th>Yield Aggregator</th>\n      <th>Yield Farming</th>\n      <th>xDAI Ecosystem</th>\n    </tr>\n    <tr>\n      <th>ticker</th>\n      <th>symbol</th>\n      <th>base</th>\n      <th></th>\n      <th></th>\n      <th></th>\n      <th></th>\n      <th></th>\n      <th></th>\n      <th></th>\n      <th></th>\n      <th></th>\n      <th></th>\n      <th></th>\n      <th></th>\n      <th></th>\n      <th></th>\n      <th></th>\n      <th></th>\n      <th></th>\n      <th></th>\n      <th></th>\n      <th></th>\n      <th></th>\n    </tr>\n  </thead>\n  <tbody>\n    <tr>\n      <th>btc-usd</th>\n      <th>btc</th>\n      <th>usd</th>\n      <td>0</td>\n      <td>0</td>\n      <td>0</td>\n      <td>0</td>\n      <td>0</td>\n      <td>0</td>\n      <td>0</td>\n      <td>0</td>\n      <td>0</td>\n      <td>0</td>\n      <td>...</td>\n      <td>0</td>\n      <td>0</td>\n      <td>0</td>\n      <td>0</td>\n      <td>0</td>\n      <td>0</td>\n      <td>0</td>\n      <td>0</td>\n      <td>0</td>\n      <td>0</td>\n    </tr>\n    <tr>\n      <th>eth-usd</th>\n      <th>eth</th>\n      <th>usd</th>\n      <td>0</td>\n      <td>0</td>\n      <td>0</td>\n      <td>0</td>\n      <td>0</td>\n      <td>0</td>\n      <td>0</td>\n      <td>0</td>\n      <td>0</td>\n      <td>0</td>\n      <td>...</td>\n      <td>0</td>\n      <td>0</td>\n      <td>0</td>\n      <td>0</td>\n      <td>0</td>\n      <td>0</td>\n      <td>0</td>\n      <td>0</td>\n      <td>0</td>\n      <td>0</td>\n    </tr>\n    <tr>\n      <th>usdt-usd</th>\n      <th>usdt</th>\n      <th>usd</th>\n      <td>0</td>\n      <td>0</td>\n      <td>0</td>\n      <td>0</td>\n      <td>0</td>\n      <td>0</td>\n      <td>0</td>\n      <td>0</td>\n      <td>0</td>\n      <td>0</td>\n      <td>...</td>\n      <td>0</td>\n      <td>0</td>\n      <td>0</td>\n      <td>0</td>\n      <td>1</td>\n      <td>0</td>\n      <td>0</td>\n      <td>0</td>\n      <td>0</td>\n      <td>0</td>\n    </tr>\n    <tr>\n      <th>bnb-usd</th>\n      <th>bnb</th>\n      <th>usd</th>\n      <td>0</td>\n      <td>0</td>\n      <td>0</td>\n      <td>0</td>\n      <td>0</td>\n      <td>1</td>\n      <td>0</td>\n      <td>0</td>\n      <td>1</td>\n      <td>0</td>\n      <td>...</td>\n      <td>0</td>\n      <td>0</td>\n      <td>0</td>\n      <td>0</td>\n      <td>0</td>\n      <td>0</td>\n      <td>0</td>\n      <td>0</td>\n      <td>0</td>\n      <td>0</td>\n    </tr>\n    <tr>\n      <th>ada-usd</th>\n      <th>ada</th>\n      <th>usd</th>\n      <td>0</td>\n      <td>0</td>\n      <td>0</td>\n      <td>0</td>\n      <td>0</td>\n      <td>0</td>\n      <td>0</td>\n      <td>0</td>\n      <td>0</td>\n      <td>0</td>\n      <td>...</td>\n      <td>0</td>\n      <td>0</td>\n      <td>0</td>\n      <td>0</td>\n      <td>0</td>\n      <td>0</td>\n      <td>0</td>\n      <td>0</td>\n      <td>0</td>\n      <td>0</td>\n    </tr>\n    <tr>\n      <th>...</th>\n      <th>...</th>\n      <th>...</th>\n      <td>...</td>\n      <td>...</td>\n      <td>...</td>\n      <td>...</td>\n      <td>...</td>\n      <td>...</td>\n      <td>...</td>\n      <td>...</td>\n      <td>...</td>\n      <td>...</td>\n      <td>...</td>\n      <td>...</td>\n      <td>...</td>\n      <td>...</td>\n      <td>...</td>\n      <td>...</td>\n      <td>...</td>\n      <td>...</td>\n      <td>...</td>\n      <td>...</td>\n      <td>...</td>\n    </tr>\n    <tr>\n      <th>bcha-usd</th>\n      <th>bcha</th>\n      <th>usd</th>\n      <td>0</td>\n      <td>0</td>\n      <td>0</td>\n      <td>0</td>\n      <td>0</td>\n      <td>0</td>\n      <td>0</td>\n      <td>0</td>\n      <td>0</td>\n      <td>0</td>\n      <td>...</td>\n      <td>0</td>\n      <td>0</td>\n      <td>0</td>\n      <td>0</td>\n      <td>0</td>\n      <td>0</td>\n      <td>0</td>\n      <td>0</td>\n      <td>0</td>\n      <td>0</td>\n    </tr>\n    <tr>\n      <th>cusdt-usd</th>\n      <th>cusdt</th>\n      <th>usd</th>\n      <td>0</td>\n      <td>0</td>\n      <td>1</td>\n      <td>0</td>\n      <td>0</td>\n      <td>0</td>\n      <td>0</td>\n      <td>0</td>\n      <td>0</td>\n      <td>0</td>\n      <td>...</td>\n      <td>0</td>\n      <td>0</td>\n      <td>0</td>\n      <td>0</td>\n      <td>0</td>\n      <td>0</td>\n      <td>0</td>\n      <td>0</td>\n      <td>0</td>\n      <td>0</td>\n    </tr>\n    <tr>\n      <th>ont-usd</th>\n      <th>ont</th>\n      <th>usd</th>\n      <td>0</td>\n      <td>0</td>\n      <td>0</td>\n      <td>0</td>\n      <td>0</td>\n      <td>1</td>\n      <td>0</td>\n      <td>0</td>\n      <td>0</td>\n      <td>0</td>\n      <td>...</td>\n      <td>0</td>\n      <td>0</td>\n      <td>0</td>\n      <td>0</td>\n      <td>0</td>\n      <td>0</td>\n      <td>0</td>\n      <td>0</td>\n      <td>0</td>\n      <td>0</td>\n    </tr>\n    <tr>\n      <th>crv-usd</th>\n      <th>crv</th>\n      <th>usd</th>\n      <td>0</td>\n      <td>0</td>\n      <td>0</td>\n      <td>1</td>\n      <td>0</td>\n      <td>0</td>\n      <td>0</td>\n      <td>0</td>\n      <td>0</td>\n      <td>0</td>\n      <td>...</td>\n      <td>0</td>\n      <td>0</td>\n      <td>0</td>\n      <td>0</td>\n      <td>0</td>\n      <td>0</td>\n      <td>0</td>\n      <td>0</td>\n      <td>1</td>\n      <td>0</td>\n    </tr>\n    <tr>\n      <th>zrx-usd</th>\n      <th>zrx</th>\n      <th>usd</th>\n      <td>0</td>\n      <td>0</td>\n      <td>0</td>\n      <td>0</td>\n      <td>0</td>\n      <td>0</td>\n      <td>0</td>\n      <td>0</td>\n      <td>0</td>\n      <td>0</td>\n      <td>...</td>\n      <td>0</td>\n      <td>0</td>\n      <td>0</td>\n      <td>0</td>\n      <td>0</td>\n      <td>0</td>\n      <td>0</td>\n      <td>0</td>\n      <td>0</td>\n      <td>0</td>\n    </tr>\n  </tbody>\n</table>\n<p>100 rows × 51 columns</p>\n</div>"
     },
     "execution_count": 9,
     "metadata": {},
     "output_type": "execute_result"
    }
   ],
   "source": [
    "def categorical_dict_to_np(cat_dict, unique_cats):\n",
    "    # create array of symbols and categoricals \n",
    "    cat_np = np.zeros((len(cat_dict), len(unique_cats)), dtype=int)\n",
    "    for ii, [key, values] in enumerate(cat_dict.items()): \n",
    "        for value in values: \n",
    "            idx = np.where(unique_cats == value)\n",
    "            # print(\"{} is on idx {}\".format(value, idx))\n",
    "            cat_np[ii][idx] = 1\n",
    "        assert(np.sum(cat_np[ii]) == len(values))\n",
    "    return cat_np\n",
    "\n",
    "\n",
    "def create_cat_dict(raw_data): \n",
    "    cat_dict = {}\n",
    "    cat_list = []\n",
    "    symbols = []\n",
    "    max_len_cat = 0\n",
    "    for coin in raw_data:\n",
    "        categories = coin['categories']\n",
    "        symbol = coin['symbol']\n",
    "        cat_dict[symbol] = categories\n",
    "        cat_list.extend(categories)\n",
    "        symbols.append(symbol)\n",
    "        max_len_cat = max(max_len_cat, len(coin['categories']))\n",
    "    \n",
    "    unique_cats = np.unique(cat_list)\n",
    "\n",
    "    return cat_dict, unique_cats, symbols,\n",
    "\n",
    "def categoricals_from_raw_coingecko(raw_data): \n",
    "    cat_dict, unique_cats, symbols = create_cat_dict(raw_data)\n",
    "\n",
    "    cat_np = categorical_dict_to_np(cat_dict, unique_cats)\n",
    "    \n",
    "    cat_df = pd.DataFrame(cat_np, columns=unique_cats)\n",
    "    cat_df['symbol'] = symbols\n",
    "    cat_df['base'] = 'usd'\n",
    "    cat_df['ticker'] = cat_df['symbol'] + '-' + cat_df['base']\n",
    "\n",
    "    cat_df.set_index(['ticker', 'symbol', 'base'], inplace=True)\n",
    "    print(unique_cats)\n",
    "    print(cat_dict)\n",
    "    return cat_df\n",
    "\n",
    "\n",
    "cat_df = categoricals_from_raw_coingecko(raw_data)\n",
    "\n",
    "cat_df = reduce_footprint(cat_df, int_type='uint16')\n",
    "cat_df"
   ]
  },
  {
   "cell_type": "code",
   "execution_count": 10,
   "id": "attractive-likelihood",
   "metadata": {},
   "outputs": [
    {
     "data": {
      "text/plain": "'\\nDATA_STORE = \\'../data/crypto.h5\\'\\nwith pd.HDFStore(DATA_STORE) as store:\\n    store.put(\\'coingecko/top100/market\\', market)\\n    store.put(\\'coingecko/top100/cats\\', cat_df)\\nprint(\"done\")\\n'"
     },
     "execution_count": 10,
     "metadata": {},
     "output_type": "execute_result"
    }
   ],
   "source": [
    "\"\"\"\n",
    "DATA_STORE = '../data/crypto.h5'\n",
    "with pd.HDFStore(DATA_STORE) as store:\n",
    "    store.put('coingecko/top100/market', market)\n",
    "    store.put('coingecko/top100/cats', cat_df)\n",
    "print(\"done\")\n",
    "\"\"\""
   ]
  },
  {
   "cell_type": "code",
   "execution_count": 14,
   "outputs": [
    {
     "name": "stdout",
     "output_type": "stream",
     "text": [
      "saved\n"
     ]
    }
   ],
   "source": [
    "market.reset_index().to_feather('../data/crypto/crypto_marketcap.ftr')\n",
    "cat_df.reset_index().to_feather('../data/crypto/cat_df.ftr')\n",
    "print(\"saved\")\n",
    "\n",
    "\n"
   ],
   "metadata": {
    "collapsed": false,
    "pycharm": {
     "name": "#%%\n"
    }
   }
  }
 ],
 "metadata": {
  "kernelspec": {
   "name": "python3",
   "language": "python",
   "display_name": "Python 3"
  },
  "language_info": {
   "codemirror_mode": {
    "name": "ipython",
    "version": 3
   },
   "file_extension": ".py",
   "mimetype": "text/x-python",
   "name": "python",
   "nbconvert_exporter": "python",
   "pygments_lexer": "ipython3",
   "version": "3.8.8"
  }
 },
 "nbformat": 4,
 "nbformat_minor": 5
}