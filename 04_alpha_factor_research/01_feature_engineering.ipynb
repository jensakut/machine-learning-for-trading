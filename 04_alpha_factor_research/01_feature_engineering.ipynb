{
 "cells": [
  {
   "cell_type": "markdown",
   "metadata": {},
   "source": [
    " # How to transform data into factors"
   ]
  },
  {
   "cell_type": "markdown",
   "metadata": {},
   "source": [
    "Based on a conceptual understanding of key factor categories, their rationale and popular metrics, a key task is to identify new factors that may better capture the risks embodied by the return drivers laid out previously, or to find new ones. \n",
    "\n",
    "In either case, it will be important to compare the performance of innovative factors to that of known factors to identify incremental signal gains."
   ]
  },
  {
   "cell_type": "markdown",
   "metadata": {},
   "source": [
    "\n",
    "\n",
    "\n",
    "We create the dataset here and store it in our [data](../data) folder to facilitate reuse in later chapters."
   ]
  },
  {
   "cell_type": "markdown",
   "metadata": {},
   "source": [
    "## Imports & Settings"
   ]
  },
  {
   "cell_type": "code",
   "execution_count": 1,
   "metadata": {
    "ExecuteTime": {
     "end_time": "2021-02-23T05:19:07.717690Z",
     "start_time": "2021-02-23T05:19:07.715460Z"
    }
   },
   "outputs": [],
   "source": [
    "import warnings\n",
    "from pprint import pprint\n",
    "\n",
    "warnings.filterwarnings('ignore')"
   ]
  },
  {
   "cell_type": "code",
   "execution_count": 2,
   "metadata": {
    "ExecuteTime": {
     "end_time": "2021-02-23T05:19:10.632105Z",
     "start_time": "2021-02-23T05:19:07.719416Z"
    }
   },
   "outputs": [],
   "source": [
    "!conda list | grep pandas_datareader"
   ]
  },
  {
   "cell_type": "code",
   "execution_count": 3,
   "metadata": {
    "ExecuteTime": {
     "end_time": "2021-02-23T05:19:11.313696Z",
     "start_time": "2021-02-23T05:19:10.633460Z"
    }
   },
   "outputs": [],
   "source": [
    "%matplotlib inline\n",
    "\n",
    "from datetime import datetime\n",
    "import pandas as pd\n",
    "import pandas_datareader.data as web\n",
    "\n",
    "# replaces yfinance.ols.PandasRollingOLS (no longer maintained)\n",
    "from statsmodels.regression.rolling import RollingOLS\n",
    "import statsmodels.api as sm\n",
    "\n",
    "import matplotlib.pyplot as plt\n",
    "import seaborn as sns"
   ]
  },
  {
   "cell_type": "code",
   "execution_count": 4,
   "metadata": {
    "ExecuteTime": {
     "end_time": "2021-02-23T05:19:11.331578Z",
     "start_time": "2021-02-23T05:19:11.318804Z"
    }
   },
   "outputs": [],
   "source": [
    "sns.set_style('whitegrid')\n",
    "idx = pd.IndexSlice"
   ]
  },
  {
   "cell_type": "markdown",
   "metadata": {},
   "source": [
    "## Get Data"
   ]
  },
  {
   "cell_type": "markdown",
   "metadata": {},
   "source": [
    "The `crypto.h5` store can be generated using the crypto notebooks in data folder."
   ]
  },
  {
   "cell_type": "markdown",
   "metadata": {},
   "source": [
    "We load crypto minute data which is upsampled (probably hourly)."
   ]
  },
  {
   "cell_type": "code",
   "execution_count": 4,
   "metadata": {
    "ExecuteTime": {
     "end_time": "2021-02-23T05:19:11.339512Z",
     "start_time": "2021-02-23T05:19:11.332799Z"
    }
   },
   "outputs": [],
   "source": []
  },
  {
   "cell_type": "code",
   "execution_count": 5,
   "metadata": {
    "ExecuteTime": {
     "end_time": "2021-02-23T05:19:11.351664Z",
     "start_time": "2021-02-23T05:19:11.340581Z"
    }
   },
   "outputs": [],
   "source": [
    "START = 2015\n",
    "END = 2021"
   ]
  },
  {
   "cell_type": "code",
   "execution_count": 6,
   "metadata": {
    "ExecuteTime": {
     "end_time": "2021-02-23T05:19:16.300036Z",
     "start_time": "2021-02-23T05:19:11.352534Z"
    }
   },
   "outputs": [
    {
     "name": "stdout",
     "output_type": "stream",
     "text": [
      "<class 'pandas.core.frame.DataFrame'>\n",
      "MultiIndex: 3261244 entries, (Timestamp('2013-04-01 00:00:00'), 'btc-usd', 'btc', 'usd') to (Timestamp('2021-05-18 07:00:00'), 'sol-usd', 'sol', 'usd')\n",
      "Data columns (total 5 columns):\n",
      " #   Column  Dtype  \n",
      "---  ------  -----  \n",
      " 0   open    float64\n",
      " 1   high    float64\n",
      " 2   low     float64\n",
      " 3   close   float64\n",
      " 4   volume  float64\n",
      "dtypes: float64(5)\n",
      "memory usage: 156.4+ MB\n"
     ]
    }
   ],
   "source": [
    "# load data from store\n",
    "DATA_STORE = '../data/crypto.h5'\n",
    "with pd.HDFStore(DATA_STORE) as store:\n",
    "    prices = (store['crypto/caggle/prices']).sort_index()\n",
    "    cryptos = (store['coingecko/top100/market'])\n",
    "    categories = store['coingecko/top100/cats']\n",
    "prices.info()"
   ]
  },
  {
   "cell_type": "code",
   "execution_count": 7,
   "outputs": [
    {
     "data": {
      "text/plain": "                                   open       high        low      close  \\\ndate                ticker                                                 \n2013-04-01 00:00:00 btc-usd    93.25000  100.00000   93.03000   93.25000   \n2013-04-01 00:15:00 btc-usd    93.04399   93.35000   93.04399   93.04399   \n2013-04-01 00:30:00 btc-usd    93.19999   93.35000   93.19999   93.19999   \n2013-04-01 00:45:00 btc-usd    93.25000   93.30000   93.10000   93.25000   \n2013-04-01 01:00:00 btc-usd    93.37999   93.48797   93.20000   93.37999   \n...                                 ...        ...        ...        ...   \n2021-05-18 06:45:00 sol-usd    50.50600   50.66100   50.16300   50.50600   \n                    uni-usd    36.09900   36.09900   36.00000   36.09900   \n2021-05-18 07:00:00 aave-usd  647.82000  647.82000  647.82000  647.82000   \n                    luna-usd   15.37600   15.44800   15.37600   15.37600   \n                    sol-usd    50.30400   50.30400   50.30100   50.30400   \n\n                                   volume  \ndate                ticker                 \n2013-04-01 00:00:00 btc-usd    247.283889  \n2013-04-01 00:15:00 btc-usd     17.689501  \n2013-04-01 00:30:00 btc-usd     40.000000  \n2013-04-01 00:45:00 btc-usd     40.610499  \n2013-04-01 01:00:00 btc-usd     23.510608  \n...                                   ...  \n2021-05-18 06:45:00 sol-usd   1442.344018  \n                    uni-usd      1.333727  \n2021-05-18 07:00:00 aave-usd     0.013275  \n                    luna-usd  1829.802952  \n                    sol-usd     36.807817  \n\n[3261244 rows x 5 columns]",
      "text/html": "<div>\n<style scoped>\n    .dataframe tbody tr th:only-of-type {\n        vertical-align: middle;\n    }\n\n    .dataframe tbody tr th {\n        vertical-align: top;\n    }\n\n    .dataframe thead th {\n        text-align: right;\n    }\n</style>\n<table border=\"1\" class=\"dataframe\">\n  <thead>\n    <tr style=\"text-align: right;\">\n      <th></th>\n      <th></th>\n      <th>open</th>\n      <th>high</th>\n      <th>low</th>\n      <th>close</th>\n      <th>volume</th>\n    </tr>\n    <tr>\n      <th>date</th>\n      <th>ticker</th>\n      <th></th>\n      <th></th>\n      <th></th>\n      <th></th>\n      <th></th>\n    </tr>\n  </thead>\n  <tbody>\n    <tr>\n      <th>2013-04-01 00:00:00</th>\n      <th>btc-usd</th>\n      <td>93.25000</td>\n      <td>100.00000</td>\n      <td>93.03000</td>\n      <td>93.25000</td>\n      <td>247.283889</td>\n    </tr>\n    <tr>\n      <th>2013-04-01 00:15:00</th>\n      <th>btc-usd</th>\n      <td>93.04399</td>\n      <td>93.35000</td>\n      <td>93.04399</td>\n      <td>93.04399</td>\n      <td>17.689501</td>\n    </tr>\n    <tr>\n      <th>2013-04-01 00:30:00</th>\n      <th>btc-usd</th>\n      <td>93.19999</td>\n      <td>93.35000</td>\n      <td>93.19999</td>\n      <td>93.19999</td>\n      <td>40.000000</td>\n    </tr>\n    <tr>\n      <th>2013-04-01 00:45:00</th>\n      <th>btc-usd</th>\n      <td>93.25000</td>\n      <td>93.30000</td>\n      <td>93.10000</td>\n      <td>93.25000</td>\n      <td>40.610499</td>\n    </tr>\n    <tr>\n      <th>2013-04-01 01:00:00</th>\n      <th>btc-usd</th>\n      <td>93.37999</td>\n      <td>93.48797</td>\n      <td>93.20000</td>\n      <td>93.37999</td>\n      <td>23.510608</td>\n    </tr>\n    <tr>\n      <th>...</th>\n      <th>...</th>\n      <td>...</td>\n      <td>...</td>\n      <td>...</td>\n      <td>...</td>\n      <td>...</td>\n    </tr>\n    <tr>\n      <th rowspan=\"2\" valign=\"top\">2021-05-18 06:45:00</th>\n      <th>sol-usd</th>\n      <td>50.50600</td>\n      <td>50.66100</td>\n      <td>50.16300</td>\n      <td>50.50600</td>\n      <td>1442.344018</td>\n    </tr>\n    <tr>\n      <th>uni-usd</th>\n      <td>36.09900</td>\n      <td>36.09900</td>\n      <td>36.00000</td>\n      <td>36.09900</td>\n      <td>1.333727</td>\n    </tr>\n    <tr>\n      <th rowspan=\"3\" valign=\"top\">2021-05-18 07:00:00</th>\n      <th>aave-usd</th>\n      <td>647.82000</td>\n      <td>647.82000</td>\n      <td>647.82000</td>\n      <td>647.82000</td>\n      <td>0.013275</td>\n    </tr>\n    <tr>\n      <th>luna-usd</th>\n      <td>15.37600</td>\n      <td>15.44800</td>\n      <td>15.37600</td>\n      <td>15.37600</td>\n      <td>1829.802952</td>\n    </tr>\n    <tr>\n      <th>sol-usd</th>\n      <td>50.30400</td>\n      <td>50.30400</td>\n      <td>50.30100</td>\n      <td>50.30400</td>\n      <td>36.807817</td>\n    </tr>\n  </tbody>\n</table>\n<p>3261244 rows × 5 columns</p>\n</div>"
     },
     "execution_count": 7,
     "metadata": {},
     "output_type": "execute_result"
    }
   ],
   "source": [
    "# remove levels which are not needed\n",
    "def clean_df(df):\n",
    "    df = df.droplevel(['symbol', 'base'])\n",
    "    return df\n",
    "prices = clean_df(prices)\n",
    "cryptos = clean_df(cryptos)\n",
    "categories = clean_df(categories)\n",
    "prices\n"
   ],
   "metadata": {
    "collapsed": false,
    "pycharm": {
     "name": "#%%\n"
    }
   }
  },
  {
   "cell_type": "code",
   "execution_count": 8,
   "outputs": [
    {
     "name": "stdout",
     "output_type": "stream",
     "text": [
      "<class 'pandas.core.frame.DataFrame'>\n",
      "MultiIndex: 1150 entries, (Timestamp('2013-04-30 00:00:00', freq='M'), 'btc-usd') to (Timestamp('2021-05-31 00:00:00', freq='M'), 'xtz-usd')\n",
      "Data columns (total 5 columns):\n",
      " #   Column  Non-Null Count  Dtype  \n",
      "---  ------  --------------  -----  \n",
      " 0   open    1150 non-null   float64\n",
      " 1   high    1150 non-null   float64\n",
      " 2   low     1150 non-null   float64\n",
      " 3   close   1150 non-null   float64\n",
      " 4   volume  1150 non-null   float64\n",
      "dtypes: float64(5)\n",
      "memory usage: 50.4+ KB\n"
     ]
    }
   ],
   "source": [
    "def downsample(prices, timeframe, level='ticker'):\n",
    "    prices = pd.concat([prices['open'].unstack(level=level).resample(timeframe).first(),\n",
    "                        prices['high'].unstack(level=level).resample(timeframe).max(),\n",
    "                        prices['low'].unstack(level=level).resample(timeframe).min(),\n",
    "                        prices['close'].unstack(level=level).resample(timeframe).last(),\n",
    "                        prices['volume'].unstack(level=level).resample(timeframe).sum(), ],\n",
    "                        keys=['open', 'high', 'low', 'close', 'volume'], axis=1).stack(level=[level], dropna=True)\n",
    "    prices.dropna(inplace=True)\n",
    "    return prices\n",
    "timeframe='M'\n",
    "prices = downsample(prices, timeframe)\n",
    "prices.info()"
   ],
   "metadata": {
    "collapsed": false,
    "pycharm": {
     "name": "#%%\n"
    }
   }
  },
  {
   "cell_type": "code",
   "execution_count": 9,
   "outputs": [
    {
     "name": "stdout",
     "output_type": "stream",
     "text": [
      "Index(['btc-usd', 'dai-usd', 'eos-usd', 'etc-usd', 'eth-usd', 'ltc-usd',\n",
      "       'miota-usd', 'mkr-usd', 'neo-usd', 'trx-usd', 'xlm-usd', 'xmr-usd',\n",
      "       'xrp-usd'],\n",
      "      dtype='object', name='ticker')\n",
      "<class 'pandas.core.frame.DataFrame'>\n",
      "MultiIndex: 1150 entries, (Timestamp('2013-04-30 00:00:00', freq='M'), 'btc-usd') to (Timestamp('2021-05-31 00:00:00', freq='M'), 'xtz-usd')\n",
      "Data columns (total 5 columns):\n",
      " #   Column  Non-Null Count  Dtype  \n",
      "---  ------  --------------  -----  \n",
      " 0   open    1150 non-null   float64\n",
      " 1   high    1150 non-null   float64\n",
      " 2   low     1150 non-null   float64\n",
      " 3   close   1150 non-null   float64\n",
      " 4   volume  1150 non-null   float64\n",
      "dtypes: float64(5)\n",
      "memory usage: 50.4+ KB\n",
      "None\n",
      "<class 'pandas.core.frame.DataFrame'>\n",
      "MultiIndex: 713 entries, (Timestamp('2013-04-30 00:00:00', freq='M'), 'btc-usd') to (Timestamp('2021-05-31 00:00:00', freq='M'), 'xrp-usd')\n",
      "Data columns (total 5 columns):\n",
      " #   Column  Non-Null Count  Dtype  \n",
      "---  ------  --------------  -----  \n",
      " 0   open    713 non-null    float64\n",
      " 1   high    713 non-null    float64\n",
      " 2   low     713 non-null    float64\n",
      " 3   close   713 non-null    float64\n",
      " 4   volume  713 non-null    float64\n",
      "dtypes: float64(5)\n",
      "memory usage: 33.5+ KB\n",
      "None\n"
     ]
    },
    {
     "data": {
      "text/plain": "Index(['btc-usd', 'ltc-usd', 'eth-usd', 'etc-usd', 'xmr-usd', 'xrp-usd',\n       'miota-usd', 'eos-usd', 'neo-usd', 'trx-usd', 'dai-usd', 'mkr-usd',\n       'xlm-usd'],\n      dtype='object', name='ticker')"
     },
     "execution_count": 9,
     "metadata": {},
     "output_type": "execute_result"
    }
   ],
   "source": [
    "n_years = 3\n",
    "min_obs = 12 * n_years\n",
    "nobs = prices.groupby(level='ticker').size()\n",
    "keep = nobs[nobs > min_obs].index\n",
    "print(keep)\n",
    "print(prices.info())\n",
    "prices = prices.loc[(slice(None), keep), :]\n",
    "print(prices.info())\n",
    "\n",
    "prices.index.get_level_values('ticker').unique()"
   ],
   "metadata": {
    "collapsed": false,
    "pycharm": {
     "name": "#%%\n"
    }
   }
  },
  {
   "cell_type": "code",
   "execution_count": 10,
   "outputs": [
    {
     "data": {
      "text/plain": "               open                                                     \\\nticker      btc-usd  ltc-usd eth-usd etc-usd xmr-usd xrp-usd miota-usd   \ndate                                                                     \n2013-04-30    93.25      NaN     NaN     NaN     NaN     NaN       NaN   \n2013-05-31   139.87   3.1491     NaN     NaN     NaN     NaN       NaN   \n2013-06-30   127.73   2.7200     NaN     NaN     NaN     NaN       NaN   \n2013-07-31    89.57   2.6300     NaN     NaN     NaN     NaN       NaN   \n2013-08-31    97.74   2.5800     NaN     NaN     NaN     NaN       NaN   \n2013-09-30   128.21   2.4100     NaN     NaN     NaN     NaN       NaN   \n2013-10-31   125.95   2.2500     NaN     NaN     NaN     NaN       NaN   \n2013-11-30   203.79   2.2850     NaN     NaN     NaN     NaN       NaN   \n2013-12-31  1119.80  39.0110     NaN     NaN     NaN     NaN       NaN   \n2014-01-31   730.24  23.7990     NaN     NaN     NaN     NaN       NaN   \n\n                                    ...  volume                            \\\nticker     eos-usd neo-usd trx-usd  ... etc-usd xmr-usd xrp-usd miota-usd   \ndate                                ...                                     \n2013-04-30     NaN     NaN     NaN  ...     NaN     NaN     NaN       NaN   \n2013-05-31     NaN     NaN     NaN  ...     NaN     NaN     NaN       NaN   \n2013-06-30     NaN     NaN     NaN  ...     NaN     NaN     NaN       NaN   \n2013-07-31     NaN     NaN     NaN  ...     NaN     NaN     NaN       NaN   \n2013-08-31     NaN     NaN     NaN  ...     NaN     NaN     NaN       NaN   \n2013-09-30     NaN     NaN     NaN  ...     NaN     NaN     NaN       NaN   \n2013-10-31     NaN     NaN     NaN  ...     NaN     NaN     NaN       NaN   \n2013-11-30     NaN     NaN     NaN  ...     NaN     NaN     NaN       NaN   \n2013-12-31     NaN     NaN     NaN  ...     NaN     NaN     NaN       NaN   \n2014-01-31     NaN     NaN     NaN  ...     NaN     NaN     NaN       NaN   \n\n                                                            \nticker     eos-usd neo-usd trx-usd dai-usd mkr-usd xlm-usd  \ndate                                                        \n2013-04-30     NaN     NaN     NaN     NaN     NaN     NaN  \n2013-05-31     NaN     NaN     NaN     NaN     NaN     NaN  \n2013-06-30     NaN     NaN     NaN     NaN     NaN     NaN  \n2013-07-31     NaN     NaN     NaN     NaN     NaN     NaN  \n2013-08-31     NaN     NaN     NaN     NaN     NaN     NaN  \n2013-09-30     NaN     NaN     NaN     NaN     NaN     NaN  \n2013-10-31     NaN     NaN     NaN     NaN     NaN     NaN  \n2013-11-30     NaN     NaN     NaN     NaN     NaN     NaN  \n2013-12-31     NaN     NaN     NaN     NaN     NaN     NaN  \n2014-01-31     NaN     NaN     NaN     NaN     NaN     NaN  \n\n[10 rows x 65 columns]",
      "text/html": "<div>\n<style scoped>\n    .dataframe tbody tr th:only-of-type {\n        vertical-align: middle;\n    }\n\n    .dataframe tbody tr th {\n        vertical-align: top;\n    }\n\n    .dataframe thead tr th {\n        text-align: left;\n    }\n\n    .dataframe thead tr:last-of-type th {\n        text-align: right;\n    }\n</style>\n<table border=\"1\" class=\"dataframe\">\n  <thead>\n    <tr>\n      <th></th>\n      <th colspan=\"10\" halign=\"left\">open</th>\n      <th>...</th>\n      <th colspan=\"10\" halign=\"left\">volume</th>\n    </tr>\n    <tr>\n      <th>ticker</th>\n      <th>btc-usd</th>\n      <th>ltc-usd</th>\n      <th>eth-usd</th>\n      <th>etc-usd</th>\n      <th>xmr-usd</th>\n      <th>xrp-usd</th>\n      <th>miota-usd</th>\n      <th>eos-usd</th>\n      <th>neo-usd</th>\n      <th>trx-usd</th>\n      <th>...</th>\n      <th>etc-usd</th>\n      <th>xmr-usd</th>\n      <th>xrp-usd</th>\n      <th>miota-usd</th>\n      <th>eos-usd</th>\n      <th>neo-usd</th>\n      <th>trx-usd</th>\n      <th>dai-usd</th>\n      <th>mkr-usd</th>\n      <th>xlm-usd</th>\n    </tr>\n    <tr>\n      <th>date</th>\n      <th></th>\n      <th></th>\n      <th></th>\n      <th></th>\n      <th></th>\n      <th></th>\n      <th></th>\n      <th></th>\n      <th></th>\n      <th></th>\n      <th></th>\n      <th></th>\n      <th></th>\n      <th></th>\n      <th></th>\n      <th></th>\n      <th></th>\n      <th></th>\n      <th></th>\n      <th></th>\n      <th></th>\n    </tr>\n  </thead>\n  <tbody>\n    <tr>\n      <th>2013-04-30</th>\n      <td>93.25</td>\n      <td>NaN</td>\n      <td>NaN</td>\n      <td>NaN</td>\n      <td>NaN</td>\n      <td>NaN</td>\n      <td>NaN</td>\n      <td>NaN</td>\n      <td>NaN</td>\n      <td>NaN</td>\n      <td>...</td>\n      <td>NaN</td>\n      <td>NaN</td>\n      <td>NaN</td>\n      <td>NaN</td>\n      <td>NaN</td>\n      <td>NaN</td>\n      <td>NaN</td>\n      <td>NaN</td>\n      <td>NaN</td>\n      <td>NaN</td>\n    </tr>\n    <tr>\n      <th>2013-05-31</th>\n      <td>139.87</td>\n      <td>3.1491</td>\n      <td>NaN</td>\n      <td>NaN</td>\n      <td>NaN</td>\n      <td>NaN</td>\n      <td>NaN</td>\n      <td>NaN</td>\n      <td>NaN</td>\n      <td>NaN</td>\n      <td>...</td>\n      <td>NaN</td>\n      <td>NaN</td>\n      <td>NaN</td>\n      <td>NaN</td>\n      <td>NaN</td>\n      <td>NaN</td>\n      <td>NaN</td>\n      <td>NaN</td>\n      <td>NaN</td>\n      <td>NaN</td>\n    </tr>\n    <tr>\n      <th>2013-06-30</th>\n      <td>127.73</td>\n      <td>2.7200</td>\n      <td>NaN</td>\n      <td>NaN</td>\n      <td>NaN</td>\n      <td>NaN</td>\n      <td>NaN</td>\n      <td>NaN</td>\n      <td>NaN</td>\n      <td>NaN</td>\n      <td>...</td>\n      <td>NaN</td>\n      <td>NaN</td>\n      <td>NaN</td>\n      <td>NaN</td>\n      <td>NaN</td>\n      <td>NaN</td>\n      <td>NaN</td>\n      <td>NaN</td>\n      <td>NaN</td>\n      <td>NaN</td>\n    </tr>\n    <tr>\n      <th>2013-07-31</th>\n      <td>89.57</td>\n      <td>2.6300</td>\n      <td>NaN</td>\n      <td>NaN</td>\n      <td>NaN</td>\n      <td>NaN</td>\n      <td>NaN</td>\n      <td>NaN</td>\n      <td>NaN</td>\n      <td>NaN</td>\n      <td>...</td>\n      <td>NaN</td>\n      <td>NaN</td>\n      <td>NaN</td>\n      <td>NaN</td>\n      <td>NaN</td>\n      <td>NaN</td>\n      <td>NaN</td>\n      <td>NaN</td>\n      <td>NaN</td>\n      <td>NaN</td>\n    </tr>\n    <tr>\n      <th>2013-08-31</th>\n      <td>97.74</td>\n      <td>2.5800</td>\n      <td>NaN</td>\n      <td>NaN</td>\n      <td>NaN</td>\n      <td>NaN</td>\n      <td>NaN</td>\n      <td>NaN</td>\n      <td>NaN</td>\n      <td>NaN</td>\n      <td>...</td>\n      <td>NaN</td>\n      <td>NaN</td>\n      <td>NaN</td>\n      <td>NaN</td>\n      <td>NaN</td>\n      <td>NaN</td>\n      <td>NaN</td>\n      <td>NaN</td>\n      <td>NaN</td>\n      <td>NaN</td>\n    </tr>\n    <tr>\n      <th>2013-09-30</th>\n      <td>128.21</td>\n      <td>2.4100</td>\n      <td>NaN</td>\n      <td>NaN</td>\n      <td>NaN</td>\n      <td>NaN</td>\n      <td>NaN</td>\n      <td>NaN</td>\n      <td>NaN</td>\n      <td>NaN</td>\n      <td>...</td>\n      <td>NaN</td>\n      <td>NaN</td>\n      <td>NaN</td>\n      <td>NaN</td>\n      <td>NaN</td>\n      <td>NaN</td>\n      <td>NaN</td>\n      <td>NaN</td>\n      <td>NaN</td>\n      <td>NaN</td>\n    </tr>\n    <tr>\n      <th>2013-10-31</th>\n      <td>125.95</td>\n      <td>2.2500</td>\n      <td>NaN</td>\n      <td>NaN</td>\n      <td>NaN</td>\n      <td>NaN</td>\n      <td>NaN</td>\n      <td>NaN</td>\n      <td>NaN</td>\n      <td>NaN</td>\n      <td>...</td>\n      <td>NaN</td>\n      <td>NaN</td>\n      <td>NaN</td>\n      <td>NaN</td>\n      <td>NaN</td>\n      <td>NaN</td>\n      <td>NaN</td>\n      <td>NaN</td>\n      <td>NaN</td>\n      <td>NaN</td>\n    </tr>\n    <tr>\n      <th>2013-11-30</th>\n      <td>203.79</td>\n      <td>2.2850</td>\n      <td>NaN</td>\n      <td>NaN</td>\n      <td>NaN</td>\n      <td>NaN</td>\n      <td>NaN</td>\n      <td>NaN</td>\n      <td>NaN</td>\n      <td>NaN</td>\n      <td>...</td>\n      <td>NaN</td>\n      <td>NaN</td>\n      <td>NaN</td>\n      <td>NaN</td>\n      <td>NaN</td>\n      <td>NaN</td>\n      <td>NaN</td>\n      <td>NaN</td>\n      <td>NaN</td>\n      <td>NaN</td>\n    </tr>\n    <tr>\n      <th>2013-12-31</th>\n      <td>1119.80</td>\n      <td>39.0110</td>\n      <td>NaN</td>\n      <td>NaN</td>\n      <td>NaN</td>\n      <td>NaN</td>\n      <td>NaN</td>\n      <td>NaN</td>\n      <td>NaN</td>\n      <td>NaN</td>\n      <td>...</td>\n      <td>NaN</td>\n      <td>NaN</td>\n      <td>NaN</td>\n      <td>NaN</td>\n      <td>NaN</td>\n      <td>NaN</td>\n      <td>NaN</td>\n      <td>NaN</td>\n      <td>NaN</td>\n      <td>NaN</td>\n    </tr>\n    <tr>\n      <th>2014-01-31</th>\n      <td>730.24</td>\n      <td>23.7990</td>\n      <td>NaN</td>\n      <td>NaN</td>\n      <td>NaN</td>\n      <td>NaN</td>\n      <td>NaN</td>\n      <td>NaN</td>\n      <td>NaN</td>\n      <td>NaN</td>\n      <td>...</td>\n      <td>NaN</td>\n      <td>NaN</td>\n      <td>NaN</td>\n      <td>NaN</td>\n      <td>NaN</td>\n      <td>NaN</td>\n      <td>NaN</td>\n      <td>NaN</td>\n      <td>NaN</td>\n      <td>NaN</td>\n    </tr>\n  </tbody>\n</table>\n<p>10 rows × 65 columns</p>\n</div>"
     },
     "execution_count": 10,
     "metadata": {},
     "output_type": "execute_result"
    }
   ],
   "source": [
    "prices.unstack('ticker').head(10)"
   ],
   "metadata": {
    "collapsed": false,
    "pycharm": {
     "name": "#%%\n"
    }
   }
  },
  {
   "cell_type": "code",
   "execution_count": 11,
   "outputs": [
    {
     "name": "stdout",
     "output_type": "stream",
     "text": [
      "ticker      btc-usd  eos-usd  etc-usd  eth-usd  ltc-usd  miota-usd  neo-usd  \\\n",
      "date                                                                          \n",
      "2018-02-28  10339.0   8.2074   33.200   851.67   202.68     1.8390  130.830   \n",
      "2018-03-31   6928.3   5.9242   14.291   393.74   116.14     1.0716   49.915   \n",
      "2018-04-30   9241.4  17.4000   21.487   668.05   148.24     1.9480   83.825   \n",
      "\n",
      "ticker       trx-usd  xmr-usd  xrp-usd  dai-usd  mkr-usd  xlm-usd  \n",
      "date                                                               \n",
      "2018-02-28  0.043290   284.63  0.88264      NaN      NaN      NaN  \n",
      "2018-03-31  0.033990   178.84  0.50020      NaN      NaN      NaN  \n",
      "2018-04-30  0.093189   241.06  0.82831    1.002      NaN      NaN  \n",
      "ticker      btc-usd   eos-usd  etc-usd  eth-usd  ltc-usd  miota-usd  neo-usd  \\\n",
      "date                                                                           \n",
      "2021-03-31  58813.0  4.792600   14.136   1917.4   197.12     1.5303   50.865   \n",
      "2021-04-30  57729.0  6.443056   36.374   2766.3   271.11     2.1190   97.146   \n",
      "2021-05-31  45367.0  9.693300   92.560   3521.9   305.55     1.9726   90.940   \n",
      "\n",
      "ticker       trx-usd  xmr-usd  xrp-usd  dai-usd  mkr-usd  xlm-usd  \n",
      "date                                                               \n",
      "2021-03-31  0.091495   246.70  0.56883  0.99995   2122.7  0.40381  \n",
      "2021-04-30  0.132480   420.53  1.59310  0.99910   4348.0  0.52887  \n",
      "2021-05-31  0.118510   355.45  1.54150  1.00000   4863.4  0.67204  \n"
     ]
    }
   ],
   "source": [
    "min_number_tickers = 10\n",
    "prices = prices.unstack('ticker').dropna(thresh=min_number_tickers*5).stack('ticker')\n",
    "print(prices['close'].unstack('ticker').head(3))\n",
    "print(prices['close'].unstack('ticker').tail(3))"
   ],
   "metadata": {
    "collapsed": false,
    "pycharm": {
     "name": "#%%\n"
    }
   }
  },
  {
   "cell_type": "code",
   "execution_count": 12,
   "outputs": [
    {
     "data": {
      "text/plain": "(13,\n Index(['btc-usd', 'eos-usd', 'etc-usd', 'eth-usd', 'ltc-usd', 'miota-usd',\n        'neo-usd', 'trx-usd', 'xmr-usd', 'xrp-usd', 'dai-usd', 'mkr-usd',\n        'xlm-usd'],\n       dtype='object', name='ticker'))"
     },
     "execution_count": 12,
     "metadata": {},
     "output_type": "execute_result"
    }
   ],
   "source": [
    "# get only shared data\n",
    "shared = prices.index.get_level_values('ticker').intersection(cryptos.index.get_level_values('ticker'))\\\n",
    "    .intersection(categories.index.get_level_values('ticker'))\n",
    "len(shared), shared\n",
    "\n",
    "cryptos = cryptos.loc[shared, :]\n",
    "categories = categories.loc[shared, :]\n",
    "prices = prices.loc[(slice(None), shared), :]\n",
    "\n",
    "assert categories.shape[0] == cryptos.shape[0]\n",
    "assert prices.index.get_level_values('ticker').nunique() == categories.shape[0]\n",
    "assert prices.unstack('date').shape[0] == cryptos.shape[0], categories.shape[0]\n",
    "assert cryptos.shape[0] == categories.shape[0]\n",
    "\n",
    "prices.index.get_level_values('ticker').nunique(), prices.index.get_level_values('ticker').unique()"
   ],
   "metadata": {
    "collapsed": false,
    "pycharm": {
     "name": "#%%\n"
    }
   }
  },
  {
   "cell_type": "code",
   "execution_count": 13,
   "metadata": {
    "ExecuteTime": {
     "end_time": "2021-02-23T05:19:16.419368Z",
     "start_time": "2021-02-23T05:19:16.300972Z"
    }
   },
   "outputs": [
    {
     "name": "stdout",
     "output_type": "stream",
     "text": [
      "<class 'pandas.core.frame.DataFrame'>\n",
      "MultiIndex: 512 entries, (Timestamp('2018-02-28 00:00:00', freq='M'), 'btc-usd') to (Timestamp('2021-05-31 00:00:00', freq='M'), 'xlm-usd')\n",
      "Data columns (total 5 columns):\n",
      " #   Column  Non-Null Count  Dtype  \n",
      "---  ------  --------------  -----  \n",
      " 0   close   512 non-null    float64\n",
      " 1   high    512 non-null    float64\n",
      " 2   low     512 non-null    float64\n",
      " 3   open    512 non-null    float64\n",
      " 4   volume  512 non-null    float64\n",
      "dtypes: float64(5)\n",
      "memory usage: 23.8+ KB\n"
     ]
    }
   ],
   "source": [
    "prices.info()"
   ]
  },
  {
   "cell_type": "code",
   "execution_count": 14,
   "outputs": [
    {
     "data": {
      "text/plain": "                          close         high         low         open  \\\ndate       ticker                                                       \n2018-02-28 btc-usd  10339.00000  11788.00000  6000.00000  10268.00000   \n2018-03-31 btc-usd   6928.30000  11700.00000  6533.00000  10314.00000   \n2018-04-30 btc-usd   9241.40000   9767.40000  6425.10000   6925.30000   \n2018-05-31 btc-usd   7466.40000   9990.00000  7040.00000   9240.60000   \n2018-06-30 btc-usd   6385.70000   7779.00000  5755.00000   7485.90000   \n...                         ...          ...         ...          ...   \n2021-01-31 xlm-usd      0.30664      0.42000     0.12301      0.12768   \n2021-02-28 xlm-usd      0.40671      0.60683     0.29261      0.30754   \n2021-03-31 xlm-usd      0.40381      0.43876     0.34087      0.40714   \n2021-04-30 xlm-usd      0.52887      0.69000     0.36133      0.40599   \n2021-05-31 xlm-usd      0.67204      0.79900     0.49511      0.52941   \n\n                          volume  \ndate       ticker                 \n2018-02-28 btc-usd  1.930205e+06  \n2018-03-31 btc-usd  1.782415e+06  \n2018-04-30 btc-usd  1.278732e+06  \n2018-05-31 btc-usd  8.201350e+05  \n2018-06-30 btc-usd  7.044565e+05  \n...                          ...  \n2021-01-31 xlm-usd  5.648138e+08  \n2021-02-28 xlm-usd  3.201373e+08  \n2021-03-31 xlm-usd  8.138656e+07  \n2021-04-30 xlm-usd  2.272722e+08  \n2021-05-31 xlm-usd  1.407441e+08  \n\n[512 rows x 5 columns]",
      "text/html": "<div>\n<style scoped>\n    .dataframe tbody tr th:only-of-type {\n        vertical-align: middle;\n    }\n\n    .dataframe tbody tr th {\n        vertical-align: top;\n    }\n\n    .dataframe thead th {\n        text-align: right;\n    }\n</style>\n<table border=\"1\" class=\"dataframe\">\n  <thead>\n    <tr style=\"text-align: right;\">\n      <th></th>\n      <th></th>\n      <th>close</th>\n      <th>high</th>\n      <th>low</th>\n      <th>open</th>\n      <th>volume</th>\n    </tr>\n    <tr>\n      <th>date</th>\n      <th>ticker</th>\n      <th></th>\n      <th></th>\n      <th></th>\n      <th></th>\n      <th></th>\n    </tr>\n  </thead>\n  <tbody>\n    <tr>\n      <th>2018-02-28</th>\n      <th>btc-usd</th>\n      <td>10339.00000</td>\n      <td>11788.00000</td>\n      <td>6000.00000</td>\n      <td>10268.00000</td>\n      <td>1.930205e+06</td>\n    </tr>\n    <tr>\n      <th>2018-03-31</th>\n      <th>btc-usd</th>\n      <td>6928.30000</td>\n      <td>11700.00000</td>\n      <td>6533.00000</td>\n      <td>10314.00000</td>\n      <td>1.782415e+06</td>\n    </tr>\n    <tr>\n      <th>2018-04-30</th>\n      <th>btc-usd</th>\n      <td>9241.40000</td>\n      <td>9767.40000</td>\n      <td>6425.10000</td>\n      <td>6925.30000</td>\n      <td>1.278732e+06</td>\n    </tr>\n    <tr>\n      <th>2018-05-31</th>\n      <th>btc-usd</th>\n      <td>7466.40000</td>\n      <td>9990.00000</td>\n      <td>7040.00000</td>\n      <td>9240.60000</td>\n      <td>8.201350e+05</td>\n    </tr>\n    <tr>\n      <th>2018-06-30</th>\n      <th>btc-usd</th>\n      <td>6385.70000</td>\n      <td>7779.00000</td>\n      <td>5755.00000</td>\n      <td>7485.90000</td>\n      <td>7.044565e+05</td>\n    </tr>\n    <tr>\n      <th>...</th>\n      <th>...</th>\n      <td>...</td>\n      <td>...</td>\n      <td>...</td>\n      <td>...</td>\n      <td>...</td>\n    </tr>\n    <tr>\n      <th>2021-01-31</th>\n      <th>xlm-usd</th>\n      <td>0.30664</td>\n      <td>0.42000</td>\n      <td>0.12301</td>\n      <td>0.12768</td>\n      <td>5.648138e+08</td>\n    </tr>\n    <tr>\n      <th>2021-02-28</th>\n      <th>xlm-usd</th>\n      <td>0.40671</td>\n      <td>0.60683</td>\n      <td>0.29261</td>\n      <td>0.30754</td>\n      <td>3.201373e+08</td>\n    </tr>\n    <tr>\n      <th>2021-03-31</th>\n      <th>xlm-usd</th>\n      <td>0.40381</td>\n      <td>0.43876</td>\n      <td>0.34087</td>\n      <td>0.40714</td>\n      <td>8.138656e+07</td>\n    </tr>\n    <tr>\n      <th>2021-04-30</th>\n      <th>xlm-usd</th>\n      <td>0.52887</td>\n      <td>0.69000</td>\n      <td>0.36133</td>\n      <td>0.40599</td>\n      <td>2.272722e+08</td>\n    </tr>\n    <tr>\n      <th>2021-05-31</th>\n      <th>xlm-usd</th>\n      <td>0.67204</td>\n      <td>0.79900</td>\n      <td>0.49511</td>\n      <td>0.52941</td>\n      <td>1.407441e+08</td>\n    </tr>\n  </tbody>\n</table>\n<p>512 rows × 5 columns</p>\n</div>"
     },
     "execution_count": 14,
     "metadata": {},
     "output_type": "execute_result"
    }
   ],
   "source": [
    "prices"
   ],
   "metadata": {
    "collapsed": false,
    "pycharm": {
     "name": "#%%\n"
    }
   }
  },
  {
   "cell_type": "code",
   "execution_count": 15,
   "metadata": {
    "ExecuteTime": {
     "end_time": "2021-02-23T05:19:16.427418Z",
     "start_time": "2021-02-23T05:19:16.420337Z"
    }
   },
   "outputs": [
    {
     "name": "stdout",
     "output_type": "stream",
     "text": [
      "<class 'pandas.core.frame.DataFrame'>\n",
      "Index: 13 entries, btc-usd to xlm-usd\n",
      "Data columns (total 13 columns):\n",
      " #   Column                 Non-Null Count  Dtype         \n",
      "---  ------                 --------------  -----         \n",
      " 0   id                     13 non-null     object        \n",
      " 1   market_cap             13 non-null     int64         \n",
      " 2   name                   13 non-null     object        \n",
      " 3   sector                 13 non-null     object        \n",
      " 4   genesis_date           9 non-null      datetime64[ns]\n",
      " 5   market_cap_rank        13 non-null     int64         \n",
      " 6   hashing_algorithm      13 non-null     object        \n",
      " 7   coingecko_rank         13 non-null     int64         \n",
      " 8   coingecko_score        13 non-null     float64       \n",
      " 9   developer_score        13 non-null     float64       \n",
      " 10  community_score        13 non-null     float64       \n",
      " 11  liquidity_score        13 non-null     float64       \n",
      " 12  public_interest_score  13 non-null     float64       \n",
      "dtypes: datetime64[ns](1), float64(5), int64(3), object(4)\n",
      "memory usage: 1.4+ KB\n"
     ]
    }
   ],
   "source": [
    "cryptos.info()"
   ]
  },
  {
   "cell_type": "code",
   "execution_count": 16,
   "outputs": [
    {
     "data": {
      "text/plain": "                         id    market_cap              name  \\\nticker                                                        \nbtc-usd             bitcoin  682679851722           Bitcoin   \neos-usd                 eos    6013160638               EOS   \netc-usd    ethereum-classic    8534793723  Ethereum Classic   \neth-usd            ethereum  300095281756          Ethereum   \nltc-usd            litecoin   12049051475          Litecoin   \nmiota-usd              iota    3101008354              IOTA   \nneo-usd                 neo    3793825431               NEO   \ntrx-usd                tron    5410745259              TRON   \nxmr-usd              monero    4689844019            Monero   \nxrp-usd              ripple   46561225148               XRP   \ndai-usd                 dai    4431307740               Dai   \nmkr-usd               maker    3237856307             Maker   \nxlm-usd             stellar    9905160480           Stellar   \n\n                             sector genesis_date  market_cap_rank  \\\nticker                                                              \nbtc-usd              Cryptocurrency   2009-01-03                1   \neos-usd     Smart Contract Platform   2017-07-01               23   \netc-usd     Smart Contract Platform   2015-07-30               19   \neth-usd     Smart Contract Platform   2015-07-30                2   \nltc-usd              Cryptocurrency   2011-10-08               14   \nmiota-usd  Internet of Things (IOT)          NaT               42   \nneo-usd     Smart Contract Platform   2016-10-17               30   \ntrx-usd     Smart Contract Platform   2017-08-28               24   \nxmr-usd               Privacy Coins   2014-04-18               27   \nxrp-usd              Cryptocurrency          NaT                6   \ndai-usd              USD Stablecoin          NaT               28   \nmkr-usd           Lending/Borrowing   2017-11-25               37   \nxlm-usd              Cryptocurrency          NaT               16   \n\n                      hashing_algorithm  coingecko_rank  coingecko_score  \\\nticker                                                                     \nbtc-usd                         SHA-256               1           80.951   \neos-usd        Delegated Proof-of-Stake               5           68.501   \netc-usd                          Ethash             126           44.287   \neth-usd                          Ethash               2           78.586   \nltc-usd                          Scrypt              11           64.768   \nmiota-usd  Directed Acyclic Graph (DAG)             204           38.059   \nneo-usd                            None              17           61.174   \ntrx-usd        Delegated Proof-of-Stake               9           65.211   \nxmr-usd                         RandomX              13           63.795   \nxrp-usd                            None               7           65.797   \ndai-usd                            None             179           39.758   \nmkr-usd                            None              30           57.249   \nxlm-usd                            None               8           65.728   \n\n           developer_score  community_score  liquidity_score  \\\nticker                                                         \nbtc-usd            104.120           68.179           99.515   \neos-usd             98.399           47.890           84.134   \netc-usd              0.000           46.200           86.650   \neth-usd            101.988           61.187          100.976   \nltc-usd             77.357           51.966           84.775   \nmiota-usd            0.000           49.143           56.050   \nneo-usd             80.991           48.138           70.696   \ntrx-usd             88.231           49.498           79.045   \nxmr-usd             91.163           52.901           65.079   \nxrp-usd             74.866           53.628           86.136   \ndai-usd              0.000           42.911           70.110   \nmkr-usd             75.645           43.187           63.839   \nxlm-usd             91.148           50.274           75.190   \n\n           public_interest_score  \nticker                            \nbtc-usd                    0.383  \neos-usd                    0.038  \netc-usd                    0.020  \neth-usd                    0.472  \nltc-usd                    0.022  \nmiota-usd                  0.042  \nneo-usd                    0.021  \ntrx-usd                    0.100  \nxmr-usd                    0.060  \nxrp-usd                    0.175  \ndai-usd                    0.063  \nmkr-usd                    0.063  \nxlm-usd                    0.087  ",
      "text/html": "<div>\n<style scoped>\n    .dataframe tbody tr th:only-of-type {\n        vertical-align: middle;\n    }\n\n    .dataframe tbody tr th {\n        vertical-align: top;\n    }\n\n    .dataframe thead th {\n        text-align: right;\n    }\n</style>\n<table border=\"1\" class=\"dataframe\">\n  <thead>\n    <tr style=\"text-align: right;\">\n      <th></th>\n      <th>id</th>\n      <th>market_cap</th>\n      <th>name</th>\n      <th>sector</th>\n      <th>genesis_date</th>\n      <th>market_cap_rank</th>\n      <th>hashing_algorithm</th>\n      <th>coingecko_rank</th>\n      <th>coingecko_score</th>\n      <th>developer_score</th>\n      <th>community_score</th>\n      <th>liquidity_score</th>\n      <th>public_interest_score</th>\n    </tr>\n    <tr>\n      <th>ticker</th>\n      <th></th>\n      <th></th>\n      <th></th>\n      <th></th>\n      <th></th>\n      <th></th>\n      <th></th>\n      <th></th>\n      <th></th>\n      <th></th>\n      <th></th>\n      <th></th>\n      <th></th>\n    </tr>\n  </thead>\n  <tbody>\n    <tr>\n      <th>btc-usd</th>\n      <td>bitcoin</td>\n      <td>682679851722</td>\n      <td>Bitcoin</td>\n      <td>Cryptocurrency</td>\n      <td>2009-01-03</td>\n      <td>1</td>\n      <td>SHA-256</td>\n      <td>1</td>\n      <td>80.951</td>\n      <td>104.120</td>\n      <td>68.179</td>\n      <td>99.515</td>\n      <td>0.383</td>\n    </tr>\n    <tr>\n      <th>eos-usd</th>\n      <td>eos</td>\n      <td>6013160638</td>\n      <td>EOS</td>\n      <td>Smart Contract Platform</td>\n      <td>2017-07-01</td>\n      <td>23</td>\n      <td>Delegated Proof-of-Stake</td>\n      <td>5</td>\n      <td>68.501</td>\n      <td>98.399</td>\n      <td>47.890</td>\n      <td>84.134</td>\n      <td>0.038</td>\n    </tr>\n    <tr>\n      <th>etc-usd</th>\n      <td>ethereum-classic</td>\n      <td>8534793723</td>\n      <td>Ethereum Classic</td>\n      <td>Smart Contract Platform</td>\n      <td>2015-07-30</td>\n      <td>19</td>\n      <td>Ethash</td>\n      <td>126</td>\n      <td>44.287</td>\n      <td>0.000</td>\n      <td>46.200</td>\n      <td>86.650</td>\n      <td>0.020</td>\n    </tr>\n    <tr>\n      <th>eth-usd</th>\n      <td>ethereum</td>\n      <td>300095281756</td>\n      <td>Ethereum</td>\n      <td>Smart Contract Platform</td>\n      <td>2015-07-30</td>\n      <td>2</td>\n      <td>Ethash</td>\n      <td>2</td>\n      <td>78.586</td>\n      <td>101.988</td>\n      <td>61.187</td>\n      <td>100.976</td>\n      <td>0.472</td>\n    </tr>\n    <tr>\n      <th>ltc-usd</th>\n      <td>litecoin</td>\n      <td>12049051475</td>\n      <td>Litecoin</td>\n      <td>Cryptocurrency</td>\n      <td>2011-10-08</td>\n      <td>14</td>\n      <td>Scrypt</td>\n      <td>11</td>\n      <td>64.768</td>\n      <td>77.357</td>\n      <td>51.966</td>\n      <td>84.775</td>\n      <td>0.022</td>\n    </tr>\n    <tr>\n      <th>miota-usd</th>\n      <td>iota</td>\n      <td>3101008354</td>\n      <td>IOTA</td>\n      <td>Internet of Things (IOT)</td>\n      <td>NaT</td>\n      <td>42</td>\n      <td>Directed Acyclic Graph (DAG)</td>\n      <td>204</td>\n      <td>38.059</td>\n      <td>0.000</td>\n      <td>49.143</td>\n      <td>56.050</td>\n      <td>0.042</td>\n    </tr>\n    <tr>\n      <th>neo-usd</th>\n      <td>neo</td>\n      <td>3793825431</td>\n      <td>NEO</td>\n      <td>Smart Contract Platform</td>\n      <td>2016-10-17</td>\n      <td>30</td>\n      <td>None</td>\n      <td>17</td>\n      <td>61.174</td>\n      <td>80.991</td>\n      <td>48.138</td>\n      <td>70.696</td>\n      <td>0.021</td>\n    </tr>\n    <tr>\n      <th>trx-usd</th>\n      <td>tron</td>\n      <td>5410745259</td>\n      <td>TRON</td>\n      <td>Smart Contract Platform</td>\n      <td>2017-08-28</td>\n      <td>24</td>\n      <td>Delegated Proof-of-Stake</td>\n      <td>9</td>\n      <td>65.211</td>\n      <td>88.231</td>\n      <td>49.498</td>\n      <td>79.045</td>\n      <td>0.100</td>\n    </tr>\n    <tr>\n      <th>xmr-usd</th>\n      <td>monero</td>\n      <td>4689844019</td>\n      <td>Monero</td>\n      <td>Privacy Coins</td>\n      <td>2014-04-18</td>\n      <td>27</td>\n      <td>RandomX</td>\n      <td>13</td>\n      <td>63.795</td>\n      <td>91.163</td>\n      <td>52.901</td>\n      <td>65.079</td>\n      <td>0.060</td>\n    </tr>\n    <tr>\n      <th>xrp-usd</th>\n      <td>ripple</td>\n      <td>46561225148</td>\n      <td>XRP</td>\n      <td>Cryptocurrency</td>\n      <td>NaT</td>\n      <td>6</td>\n      <td>None</td>\n      <td>7</td>\n      <td>65.797</td>\n      <td>74.866</td>\n      <td>53.628</td>\n      <td>86.136</td>\n      <td>0.175</td>\n    </tr>\n    <tr>\n      <th>dai-usd</th>\n      <td>dai</td>\n      <td>4431307740</td>\n      <td>Dai</td>\n      <td>USD Stablecoin</td>\n      <td>NaT</td>\n      <td>28</td>\n      <td>None</td>\n      <td>179</td>\n      <td>39.758</td>\n      <td>0.000</td>\n      <td>42.911</td>\n      <td>70.110</td>\n      <td>0.063</td>\n    </tr>\n    <tr>\n      <th>mkr-usd</th>\n      <td>maker</td>\n      <td>3237856307</td>\n      <td>Maker</td>\n      <td>Lending/Borrowing</td>\n      <td>2017-11-25</td>\n      <td>37</td>\n      <td>None</td>\n      <td>30</td>\n      <td>57.249</td>\n      <td>75.645</td>\n      <td>43.187</td>\n      <td>63.839</td>\n      <td>0.063</td>\n    </tr>\n    <tr>\n      <th>xlm-usd</th>\n      <td>stellar</td>\n      <td>9905160480</td>\n      <td>Stellar</td>\n      <td>Cryptocurrency</td>\n      <td>NaT</td>\n      <td>16</td>\n      <td>None</td>\n      <td>8</td>\n      <td>65.728</td>\n      <td>91.148</td>\n      <td>50.274</td>\n      <td>75.190</td>\n      <td>0.087</td>\n    </tr>\n  </tbody>\n</table>\n</div>"
     },
     "execution_count": 16,
     "metadata": {},
     "output_type": "execute_result"
    }
   ],
   "source": [
    "cryptos"
   ],
   "metadata": {
    "collapsed": false,
    "pycharm": {
     "name": "#%%\n"
    }
   }
  },
  {
   "cell_type": "code",
   "execution_count": 17,
   "outputs": [
    {
     "name": "stdout",
     "output_type": "stream",
     "text": [
      "<class 'pandas.core.frame.DataFrame'>\n",
      "Index: 13 entries, btc-usd to xlm-usd\n",
      "Data columns (total 50 columns):\n",
      " #   Column                              Non-Null Count  Dtype\n",
      "---  ------                              --------------  -----\n",
      " 0   Analytics                           13 non-null     int64\n",
      " 1   Artificial Intelligence             13 non-null     int64\n",
      " 2   Asset-backed Tokens                 13 non-null     int64\n",
      " 3   Automated Market Maker (AMM)        13 non-null     int64\n",
      " 4   Avalanche Ecosystem                 13 non-null     int64\n",
      " 5   Binance Smart Chain Ecosystem       13 non-null     int64\n",
      " 6   Business Platform                   13 non-null     int64\n",
      " 7   Business Services                   13 non-null     int64\n",
      " 8   Centralized Exchange Token (CEX)    13 non-null     int64\n",
      " 9   Communication                       13 non-null     int64\n",
      " 10  Compound Tokens                     13 non-null     int64\n",
      " 11  Cosmos Ecosystem                    13 non-null     int64\n",
      " 12  Cryptocurrency                      13 non-null     int64\n",
      " 13  Decentralized Exchange Token (DEX)  13 non-null     int64\n",
      " 14  Decentralized Finance (DeFi)        13 non-null     int64\n",
      " 15  Derivatives                         13 non-null     int64\n",
      " 16  Entertainment                       13 non-null     int64\n",
      " 17  Eth 2.0 Staking                     13 non-null     int64\n",
      " 18  Exchange-based Tokens               13 non-null     int64\n",
      " 19  Finance / Banking                   13 non-null     int64\n",
      " 20  Gaming                              13 non-null     int64\n",
      " 21  Governance                          13 non-null     int64\n",
      " 22  Infrastructure                      13 non-null     int64\n",
      " 23  Internet of Things (IOT)            13 non-null     int64\n",
      " 24  Lending/Borrowing                   13 non-null     int64\n",
      " 25  Masternodes                         13 non-null     int64\n",
      " 26  Meme Tokens                         13 non-null     int64\n",
      " 27  Metaverse                           13 non-null     int64\n",
      " 28  Near Protocol Ecosystem             13 non-null     int64\n",
      " 29  Non-Fungible Tokens (NFT)           13 non-null     int64\n",
      " 30  Oracle                              13 non-null     int64\n",
      " 31  Polkadot Ecosystem                  13 non-null     int64\n",
      " 32  Polygon Ecosystem                   13 non-null     int64\n",
      " 33  Privacy Coins                       13 non-null     int64\n",
      " 34  Protocol                            13 non-null     int64\n",
      " 35  Seigniorage                         13 non-null     int64\n",
      " 36  Smart Contract Platform             13 non-null     int64\n",
      " 37  Solana Ecosystem                    13 non-null     int64\n",
      " 38  Sports                              13 non-null     int64\n",
      " 39  Stablecoins                         13 non-null     int64\n",
      " 40  Storage                             13 non-null     int64\n",
      " 41  Synthetic Issuer                    13 non-null     int64\n",
      " 42  Terra Ecosystem                     13 non-null     int64\n",
      " 43  Tokenized BTC                       13 non-null     int64\n",
      " 44  USD Stablecoin                      13 non-null     int64\n",
      " 45  Wrapped-Tokens                      13 non-null     int64\n",
      " 46  Yearn Ecosystem                     13 non-null     int64\n",
      " 47  Yield Aggregator                    13 non-null     int64\n",
      " 48  Yield Farming                       13 non-null     int64\n",
      " 49  xDAI Ecosystem                      13 non-null     int64\n",
      "dtypes: int64(50)\n",
      "memory usage: 5.2+ KB\n"
     ]
    }
   ],
   "source": [
    "categories.info()"
   ],
   "metadata": {
    "collapsed": false,
    "pycharm": {
     "name": "#%%\n"
    }
   }
  },
  {
   "cell_type": "code",
   "execution_count": 18,
   "outputs": [
    {
     "data": {
      "text/plain": "           Analytics  Artificial Intelligence  Asset-backed Tokens  \\\nticker                                                               \nbtc-usd            0                        0                    0   \neos-usd            0                        0                    0   \netc-usd            0                        0                    0   \neth-usd            0                        0                    0   \nltc-usd            0                        0                    0   \nmiota-usd          0                        0                    0   \nneo-usd            0                        0                    0   \ntrx-usd            0                        0                    0   \nxmr-usd            0                        0                    0   \nxrp-usd            0                        0                    0   \ndai-usd            0                        0                    0   \nmkr-usd            0                        0                    0   \nxlm-usd            0                        0                    0   \n\n           Automated Market Maker (AMM)  Avalanche Ecosystem  \\\nticker                                                         \nbtc-usd                               0                    0   \neos-usd                               0                    0   \netc-usd                               0                    0   \neth-usd                               0                    0   \nltc-usd                               0                    0   \nmiota-usd                             0                    0   \nneo-usd                               0                    0   \ntrx-usd                               0                    0   \nxmr-usd                               0                    0   \nxrp-usd                               0                    0   \ndai-usd                               0                    0   \nmkr-usd                               0                    0   \nxlm-usd                               0                    0   \n\n           Binance Smart Chain Ecosystem  Business Platform  \\\nticker                                                        \nbtc-usd                                0                  0   \neos-usd                                0                  0   \netc-usd                                0                  0   \neth-usd                                0                  0   \nltc-usd                                0                  0   \nmiota-usd                              0                  0   \nneo-usd                                0                  0   \ntrx-usd                                0                  0   \nxmr-usd                                0                  0   \nxrp-usd                                0                  0   \ndai-usd                                0                  0   \nmkr-usd                                0                  0   \nxlm-usd                                0                  0   \n\n           Business Services  Centralized Exchange Token (CEX)  Communication  \\\nticker                                                                          \nbtc-usd                    0                                 0              0   \neos-usd                    0                                 0              0   \netc-usd                    0                                 0              0   \neth-usd                    0                                 0              0   \nltc-usd                    0                                 0              0   \nmiota-usd                  0                                 0              0   \nneo-usd                    0                                 0              0   \ntrx-usd                    0                                 0              0   \nxmr-usd                    0                                 0              0   \nxrp-usd                    0                                 0              0   \ndai-usd                    0                                 0              0   \nmkr-usd                    0                                 0              0   \nxlm-usd                    0                                 0              0   \n\n           ...  Storage  Synthetic Issuer  Terra Ecosystem  Tokenized BTC  \\\nticker     ...                                                              \nbtc-usd    ...        0                 0                0              0   \neos-usd    ...        0                 0                0              0   \netc-usd    ...        0                 0                0              0   \neth-usd    ...        0                 0                0              0   \nltc-usd    ...        0                 0                0              0   \nmiota-usd  ...        0                 0                0              0   \nneo-usd    ...        0                 0                0              0   \ntrx-usd    ...        0                 0                0              0   \nxmr-usd    ...        0                 0                0              0   \nxrp-usd    ...        0                 0                0              0   \ndai-usd    ...        0                 0                0              0   \nmkr-usd    ...        0                 0                0              0   \nxlm-usd    ...        0                 0                0              0   \n\n           USD Stablecoin  Wrapped-Tokens  Yearn Ecosystem  Yield Aggregator  \\\nticker                                                                         \nbtc-usd                 0               0                0                 0   \neos-usd                 0               0                0                 0   \netc-usd                 0               0                0                 0   \neth-usd                 0               0                0                 0   \nltc-usd                 0               0                0                 0   \nmiota-usd               0               0                0                 0   \nneo-usd                 0               0                0                 0   \ntrx-usd                 0               0                0                 0   \nxmr-usd                 0               0                0                 0   \nxrp-usd                 0               0                0                 0   \ndai-usd                 1               0                0                 0   \nmkr-usd                 0               0                0                 0   \nxlm-usd                 0               0                0                 0   \n\n           Yield Farming  xDAI Ecosystem  \nticker                                    \nbtc-usd                0               0  \neos-usd                0               0  \netc-usd                0               0  \neth-usd                0               0  \nltc-usd                0               0  \nmiota-usd              0               0  \nneo-usd                0               0  \ntrx-usd                0               0  \nxmr-usd                0               0  \nxrp-usd                0               0  \ndai-usd                0               0  \nmkr-usd                0               0  \nxlm-usd                0               0  \n\n[13 rows x 50 columns]",
      "text/html": "<div>\n<style scoped>\n    .dataframe tbody tr th:only-of-type {\n        vertical-align: middle;\n    }\n\n    .dataframe tbody tr th {\n        vertical-align: top;\n    }\n\n    .dataframe thead th {\n        text-align: right;\n    }\n</style>\n<table border=\"1\" class=\"dataframe\">\n  <thead>\n    <tr style=\"text-align: right;\">\n      <th></th>\n      <th>Analytics</th>\n      <th>Artificial Intelligence</th>\n      <th>Asset-backed Tokens</th>\n      <th>Automated Market Maker (AMM)</th>\n      <th>Avalanche Ecosystem</th>\n      <th>Binance Smart Chain Ecosystem</th>\n      <th>Business Platform</th>\n      <th>Business Services</th>\n      <th>Centralized Exchange Token (CEX)</th>\n      <th>Communication</th>\n      <th>...</th>\n      <th>Storage</th>\n      <th>Synthetic Issuer</th>\n      <th>Terra Ecosystem</th>\n      <th>Tokenized BTC</th>\n      <th>USD Stablecoin</th>\n      <th>Wrapped-Tokens</th>\n      <th>Yearn Ecosystem</th>\n      <th>Yield Aggregator</th>\n      <th>Yield Farming</th>\n      <th>xDAI Ecosystem</th>\n    </tr>\n    <tr>\n      <th>ticker</th>\n      <th></th>\n      <th></th>\n      <th></th>\n      <th></th>\n      <th></th>\n      <th></th>\n      <th></th>\n      <th></th>\n      <th></th>\n      <th></th>\n      <th></th>\n      <th></th>\n      <th></th>\n      <th></th>\n      <th></th>\n      <th></th>\n      <th></th>\n      <th></th>\n      <th></th>\n      <th></th>\n      <th></th>\n    </tr>\n  </thead>\n  <tbody>\n    <tr>\n      <th>btc-usd</th>\n      <td>0</td>\n      <td>0</td>\n      <td>0</td>\n      <td>0</td>\n      <td>0</td>\n      <td>0</td>\n      <td>0</td>\n      <td>0</td>\n      <td>0</td>\n      <td>0</td>\n      <td>...</td>\n      <td>0</td>\n      <td>0</td>\n      <td>0</td>\n      <td>0</td>\n      <td>0</td>\n      <td>0</td>\n      <td>0</td>\n      <td>0</td>\n      <td>0</td>\n      <td>0</td>\n    </tr>\n    <tr>\n      <th>eos-usd</th>\n      <td>0</td>\n      <td>0</td>\n      <td>0</td>\n      <td>0</td>\n      <td>0</td>\n      <td>0</td>\n      <td>0</td>\n      <td>0</td>\n      <td>0</td>\n      <td>0</td>\n      <td>...</td>\n      <td>0</td>\n      <td>0</td>\n      <td>0</td>\n      <td>0</td>\n      <td>0</td>\n      <td>0</td>\n      <td>0</td>\n      <td>0</td>\n      <td>0</td>\n      <td>0</td>\n    </tr>\n    <tr>\n      <th>etc-usd</th>\n      <td>0</td>\n      <td>0</td>\n      <td>0</td>\n      <td>0</td>\n      <td>0</td>\n      <td>0</td>\n      <td>0</td>\n      <td>0</td>\n      <td>0</td>\n      <td>0</td>\n      <td>...</td>\n      <td>0</td>\n      <td>0</td>\n      <td>0</td>\n      <td>0</td>\n      <td>0</td>\n      <td>0</td>\n      <td>0</td>\n      <td>0</td>\n      <td>0</td>\n      <td>0</td>\n    </tr>\n    <tr>\n      <th>eth-usd</th>\n      <td>0</td>\n      <td>0</td>\n      <td>0</td>\n      <td>0</td>\n      <td>0</td>\n      <td>0</td>\n      <td>0</td>\n      <td>0</td>\n      <td>0</td>\n      <td>0</td>\n      <td>...</td>\n      <td>0</td>\n      <td>0</td>\n      <td>0</td>\n      <td>0</td>\n      <td>0</td>\n      <td>0</td>\n      <td>0</td>\n      <td>0</td>\n      <td>0</td>\n      <td>0</td>\n    </tr>\n    <tr>\n      <th>ltc-usd</th>\n      <td>0</td>\n      <td>0</td>\n      <td>0</td>\n      <td>0</td>\n      <td>0</td>\n      <td>0</td>\n      <td>0</td>\n      <td>0</td>\n      <td>0</td>\n      <td>0</td>\n      <td>...</td>\n      <td>0</td>\n      <td>0</td>\n      <td>0</td>\n      <td>0</td>\n      <td>0</td>\n      <td>0</td>\n      <td>0</td>\n      <td>0</td>\n      <td>0</td>\n      <td>0</td>\n    </tr>\n    <tr>\n      <th>miota-usd</th>\n      <td>0</td>\n      <td>0</td>\n      <td>0</td>\n      <td>0</td>\n      <td>0</td>\n      <td>0</td>\n      <td>0</td>\n      <td>0</td>\n      <td>0</td>\n      <td>0</td>\n      <td>...</td>\n      <td>0</td>\n      <td>0</td>\n      <td>0</td>\n      <td>0</td>\n      <td>0</td>\n      <td>0</td>\n      <td>0</td>\n      <td>0</td>\n      <td>0</td>\n      <td>0</td>\n    </tr>\n    <tr>\n      <th>neo-usd</th>\n      <td>0</td>\n      <td>0</td>\n      <td>0</td>\n      <td>0</td>\n      <td>0</td>\n      <td>0</td>\n      <td>0</td>\n      <td>0</td>\n      <td>0</td>\n      <td>0</td>\n      <td>...</td>\n      <td>0</td>\n      <td>0</td>\n      <td>0</td>\n      <td>0</td>\n      <td>0</td>\n      <td>0</td>\n      <td>0</td>\n      <td>0</td>\n      <td>0</td>\n      <td>0</td>\n    </tr>\n    <tr>\n      <th>trx-usd</th>\n      <td>0</td>\n      <td>0</td>\n      <td>0</td>\n      <td>0</td>\n      <td>0</td>\n      <td>0</td>\n      <td>0</td>\n      <td>0</td>\n      <td>0</td>\n      <td>0</td>\n      <td>...</td>\n      <td>0</td>\n      <td>0</td>\n      <td>0</td>\n      <td>0</td>\n      <td>0</td>\n      <td>0</td>\n      <td>0</td>\n      <td>0</td>\n      <td>0</td>\n      <td>0</td>\n    </tr>\n    <tr>\n      <th>xmr-usd</th>\n      <td>0</td>\n      <td>0</td>\n      <td>0</td>\n      <td>0</td>\n      <td>0</td>\n      <td>0</td>\n      <td>0</td>\n      <td>0</td>\n      <td>0</td>\n      <td>0</td>\n      <td>...</td>\n      <td>0</td>\n      <td>0</td>\n      <td>0</td>\n      <td>0</td>\n      <td>0</td>\n      <td>0</td>\n      <td>0</td>\n      <td>0</td>\n      <td>0</td>\n      <td>0</td>\n    </tr>\n    <tr>\n      <th>xrp-usd</th>\n      <td>0</td>\n      <td>0</td>\n      <td>0</td>\n      <td>0</td>\n      <td>0</td>\n      <td>0</td>\n      <td>0</td>\n      <td>0</td>\n      <td>0</td>\n      <td>0</td>\n      <td>...</td>\n      <td>0</td>\n      <td>0</td>\n      <td>0</td>\n      <td>0</td>\n      <td>0</td>\n      <td>0</td>\n      <td>0</td>\n      <td>0</td>\n      <td>0</td>\n      <td>0</td>\n    </tr>\n    <tr>\n      <th>dai-usd</th>\n      <td>0</td>\n      <td>0</td>\n      <td>0</td>\n      <td>0</td>\n      <td>0</td>\n      <td>0</td>\n      <td>0</td>\n      <td>0</td>\n      <td>0</td>\n      <td>0</td>\n      <td>...</td>\n      <td>0</td>\n      <td>0</td>\n      <td>0</td>\n      <td>0</td>\n      <td>1</td>\n      <td>0</td>\n      <td>0</td>\n      <td>0</td>\n      <td>0</td>\n      <td>0</td>\n    </tr>\n    <tr>\n      <th>mkr-usd</th>\n      <td>0</td>\n      <td>0</td>\n      <td>0</td>\n      <td>0</td>\n      <td>0</td>\n      <td>0</td>\n      <td>0</td>\n      <td>0</td>\n      <td>0</td>\n      <td>0</td>\n      <td>...</td>\n      <td>0</td>\n      <td>0</td>\n      <td>0</td>\n      <td>0</td>\n      <td>0</td>\n      <td>0</td>\n      <td>0</td>\n      <td>0</td>\n      <td>0</td>\n      <td>0</td>\n    </tr>\n    <tr>\n      <th>xlm-usd</th>\n      <td>0</td>\n      <td>0</td>\n      <td>0</td>\n      <td>0</td>\n      <td>0</td>\n      <td>0</td>\n      <td>0</td>\n      <td>0</td>\n      <td>0</td>\n      <td>0</td>\n      <td>...</td>\n      <td>0</td>\n      <td>0</td>\n      <td>0</td>\n      <td>0</td>\n      <td>0</td>\n      <td>0</td>\n      <td>0</td>\n      <td>0</td>\n      <td>0</td>\n      <td>0</td>\n    </tr>\n  </tbody>\n</table>\n<p>13 rows × 50 columns</p>\n</div>"
     },
     "execution_count": 18,
     "metadata": {},
     "output_type": "execute_result"
    }
   ],
   "source": [
    "categories\n"
   ],
   "metadata": {
    "collapsed": false,
    "pycharm": {
     "name": "#%%\n"
    }
   }
  },
  {
   "cell_type": "code",
   "execution_count": 19,
   "metadata": {
    "ExecuteTime": {
     "end_time": "2021-02-23T05:19:16.459277Z",
     "start_time": "2021-02-23T05:19:16.446442Z"
    }
   },
   "outputs": [
    {
     "name": "stdout",
     "output_type": "stream",
     "text": [
      "<class 'pandas.core.frame.DataFrame'>\n",
      "Index: 13 entries, btc-usd to xlm-usd\n",
      "Data columns (total 13 columns):\n",
      " #   Column                 Non-Null Count  Dtype         \n",
      "---  ------                 --------------  -----         \n",
      " 0   id                     13 non-null     object        \n",
      " 1   market_cap             13 non-null     int64         \n",
      " 2   name                   13 non-null     object        \n",
      " 3   sector                 13 non-null     object        \n",
      " 4   genesis_date           9 non-null      datetime64[ns]\n",
      " 5   market_cap_rank        13 non-null     int64         \n",
      " 6   hashing_algorithm      13 non-null     object        \n",
      " 7   coingecko_rank         13 non-null     int64         \n",
      " 8   coingecko_score        13 non-null     float64       \n",
      " 9   developer_score        13 non-null     float64       \n",
      " 10  community_score        13 non-null     float64       \n",
      " 11  liquidity_score        13 non-null     float64       \n",
      " 12  public_interest_score  13 non-null     float64       \n",
      "dtypes: datetime64[ns](1), float64(5), int64(3), object(4)\n",
      "memory usage: 1.4+ KB\n"
     ]
    }
   ],
   "source": [
    "cryptos.info()"
   ]
  },
  {
   "cell_type": "code",
   "execution_count": 20,
   "outputs": [
    {
     "name": "stdout",
     "output_type": "stream",
     "text": [
      "<class 'pandas.core.frame.DataFrame'>\n",
      "Index: 13 entries, btc-usd to xlm-usd\n",
      "Data columns (total 50 columns):\n",
      " #   Column                              Non-Null Count  Dtype\n",
      "---  ------                              --------------  -----\n",
      " 0   Analytics                           13 non-null     int64\n",
      " 1   Artificial Intelligence             13 non-null     int64\n",
      " 2   Asset-backed Tokens                 13 non-null     int64\n",
      " 3   Automated Market Maker (AMM)        13 non-null     int64\n",
      " 4   Avalanche Ecosystem                 13 non-null     int64\n",
      " 5   Binance Smart Chain Ecosystem       13 non-null     int64\n",
      " 6   Business Platform                   13 non-null     int64\n",
      " 7   Business Services                   13 non-null     int64\n",
      " 8   Centralized Exchange Token (CEX)    13 non-null     int64\n",
      " 9   Communication                       13 non-null     int64\n",
      " 10  Compound Tokens                     13 non-null     int64\n",
      " 11  Cosmos Ecosystem                    13 non-null     int64\n",
      " 12  Cryptocurrency                      13 non-null     int64\n",
      " 13  Decentralized Exchange Token (DEX)  13 non-null     int64\n",
      " 14  Decentralized Finance (DeFi)        13 non-null     int64\n",
      " 15  Derivatives                         13 non-null     int64\n",
      " 16  Entertainment                       13 non-null     int64\n",
      " 17  Eth 2.0 Staking                     13 non-null     int64\n",
      " 18  Exchange-based Tokens               13 non-null     int64\n",
      " 19  Finance / Banking                   13 non-null     int64\n",
      " 20  Gaming                              13 non-null     int64\n",
      " 21  Governance                          13 non-null     int64\n",
      " 22  Infrastructure                      13 non-null     int64\n",
      " 23  Internet of Things (IOT)            13 non-null     int64\n",
      " 24  Lending/Borrowing                   13 non-null     int64\n",
      " 25  Masternodes                         13 non-null     int64\n",
      " 26  Meme Tokens                         13 non-null     int64\n",
      " 27  Metaverse                           13 non-null     int64\n",
      " 28  Near Protocol Ecosystem             13 non-null     int64\n",
      " 29  Non-Fungible Tokens (NFT)           13 non-null     int64\n",
      " 30  Oracle                              13 non-null     int64\n",
      " 31  Polkadot Ecosystem                  13 non-null     int64\n",
      " 32  Polygon Ecosystem                   13 non-null     int64\n",
      " 33  Privacy Coins                       13 non-null     int64\n",
      " 34  Protocol                            13 non-null     int64\n",
      " 35  Seigniorage                         13 non-null     int64\n",
      " 36  Smart Contract Platform             13 non-null     int64\n",
      " 37  Solana Ecosystem                    13 non-null     int64\n",
      " 38  Sports                              13 non-null     int64\n",
      " 39  Stablecoins                         13 non-null     int64\n",
      " 40  Storage                             13 non-null     int64\n",
      " 41  Synthetic Issuer                    13 non-null     int64\n",
      " 42  Terra Ecosystem                     13 non-null     int64\n",
      " 43  Tokenized BTC                       13 non-null     int64\n",
      " 44  USD Stablecoin                      13 non-null     int64\n",
      " 45  Wrapped-Tokens                      13 non-null     int64\n",
      " 46  Yearn Ecosystem                     13 non-null     int64\n",
      " 47  Yield Aggregator                    13 non-null     int64\n",
      " 48  Yield Farming                       13 non-null     int64\n",
      " 49  xDAI Ecosystem                      13 non-null     int64\n",
      "dtypes: int64(50)\n",
      "memory usage: 5.2+ KB\n"
     ]
    }
   ],
   "source": [
    "categories.info()"
   ],
   "metadata": {
    "collapsed": false,
    "pycharm": {
     "name": "#%%\n"
    }
   }
  },
  {
   "cell_type": "code",
   "execution_count": 21,
   "outputs": [
    {
     "name": "stdout",
     "output_type": "stream",
     "text": [
      "<class 'pandas.core.frame.DataFrame'>\n",
      "MultiIndex: 512 entries, (Timestamp('2018-02-28 00:00:00', freq='M'), 'btc-usd') to (Timestamp('2021-05-31 00:00:00', freq='M'), 'xlm-usd')\n",
      "Data columns (total 5 columns):\n",
      " #   Column  Non-Null Count  Dtype  \n",
      "---  ------  --------------  -----  \n",
      " 0   close   512 non-null    float64\n",
      " 1   high    512 non-null    float64\n",
      " 2   low     512 non-null    float64\n",
      " 3   open    512 non-null    float64\n",
      " 4   volume  512 non-null    float64\n",
      "dtypes: float64(5)\n",
      "memory usage: 23.8+ KB\n"
     ]
    }
   ],
   "source": [
    "# https://pandas.pydata.org/pandas-docs/stable/reference/api/pandas.IndexSlice.html#prices.index.get_level_values('symbol').isin(shared)\n",
    "prices.info()\n",
    "\n"
   ],
   "metadata": {
    "collapsed": false,
    "pycharm": {
     "name": "#%%\n"
    }
   }
  },
  {
   "cell_type": "code",
   "execution_count": 22,
   "outputs": [],
   "source": [
    "#prices.index.get_level_values('symbol').unique(), len(prices.index.get_level_values('symbol').unique())"
   ],
   "metadata": {
    "collapsed": false,
    "pycharm": {
     "name": "#%%\n"
    }
   }
  },
  {
   "cell_type": "code",
   "execution_count": 23,
   "outputs": [],
   "source": [
    "#categories.index.unique(), len(categories.index.unique())"
   ],
   "metadata": {
    "collapsed": false,
    "pycharm": {
     "name": "#%%\n"
    }
   }
  },
  {
   "cell_type": "markdown",
   "metadata": {},
   "source": [
    "## Create monthly return series"
   ]
  },
  {
   "cell_type": "markdown",
   "metadata": {},
   "source": [
    "To reduce training time and experiment with strategies for longer time horizons, we convert the business-daily data to month-end frequency using the available adjusted close price:\n"
   ]
  },
  {
   "cell_type": "markdown",
   "source": [
    "# TODO create open_prices ,... and use different rules, then put back together\n",
    "\n"
   ],
   "metadata": {
    "collapsed": false,
    "pycharm": {
     "name": "#%% md\n"
    }
   }
  },
  {
   "cell_type": "code",
   "execution_count": 24,
   "outputs": [],
   "source": [
    "# TODO resample every other value with default mean()?\n",
    "\n"
   ],
   "metadata": {
    "collapsed": false,
    "pycharm": {
     "name": "#%%\n"
    }
   }
  },
  {
   "cell_type": "markdown",
   "metadata": {},
   "source": [
    "To capture time series dynamics that reflect, for example, momentum patterns, we compute historical returns using the method `.pct_change(n_periods)`, that is, returns over various monthly periods as identified by lags.\n",
    "\n",
    "We then convert the wide result back to long format with the `.stack()` method, use `.pipe()` to apply the `.clip()` method to the resulting `DataFrame`, and winsorize returns at the [1%, 99%] levels; that is, we cap outliers at these percentiles.\n",
    "\n",
    "Finally, we normalize returns using the geometric average. After using `.swaplevel()` to change the order of the `MultiIndex` levels, we obtain compounded monthly returns for six periods ranging from 1 to 12 months:"
   ]
  },
  {
   "cell_type": "code",
   "execution_count": 25,
   "metadata": {
    "ExecuteTime": {
     "end_time": "2021-02-23T05:19:21.532507Z",
     "start_time": "2021-02-23T05:19:16.683603Z"
    }
   },
   "outputs": [
    {
     "name": "stdout",
     "output_type": "stream",
     "text": [
      "<class 'pandas.core.frame.DataFrame'>\n",
      "MultiIndex: 512 entries, (Timestamp('2018-02-28 00:00:00', freq='M'), 'btc-usd') to (Timestamp('2021-05-31 00:00:00', freq='M'), 'xlm-usd')\n",
      "Data columns (total 6 columns):\n",
      " #   Column      Non-Null Count  Dtype  \n",
      "---  ------      --------------  -----  \n",
      " 0   return_1M   499 non-null    float64\n",
      " 1   return_2M   486 non-null    float64\n",
      " 2   return_3M   473 non-null    float64\n",
      " 3   return_6M   434 non-null    float64\n",
      " 4   return_9M   395 non-null    float64\n",
      " 5   return_12M  356 non-null    float64\n",
      "dtypes: float64(6)\n",
      "memory usage: 27.8+ KB\n"
     ]
    }
   ],
   "source": [
    "outlier_cutoff = 0.01\n",
    "data = pd.DataFrame()\n",
    "lags = [1, 2, 3, 6, 9, 12]\n",
    "for lag in lags:\n",
    "    data[f'return_{lag}{timeframe}'] = (prices['close'].groupby(level=['ticker'])\n",
    "                           .pct_change(lag)\n",
    "                           #.stack()\n",
    "                           .pipe(lambda x: x.clip(lower=x.quantile(outlier_cutoff),\n",
    "                                                  upper=x.quantile(1-outlier_cutoff)))\n",
    "                           .add(1)\n",
    "                           .pow(1/lag)\n",
    "                           .sub(1)\n",
    "                           )\n",
    "#data = data.swaplevel().dropna()\n",
    "data.info()\n"
   ]
  },
  {
   "cell_type": "code",
   "execution_count": 26,
   "metadata": {
    "ExecuteTime": {
     "end_time": "2021-02-23T05:19:26.970069Z",
     "start_time": "2021-02-23T05:19:26.898735Z"
    }
   },
   "outputs": [
    {
     "data": {
      "text/plain": "        return_1M   return_2M   return_3M   return_6M   return_9M  return_12M\ncount  499.000000  486.000000  473.000000  434.000000  395.000000  356.000000\nmean     0.068558    0.045089    0.031271    0.017341    0.011587    0.011391\nstd      0.360035    0.224603    0.179529    0.126884    0.097299    0.080112\nmin     -0.490099   -0.329983   -0.273537   -0.228868   -0.199511   -0.141791\n25%     -0.161549   -0.108694   -0.082935   -0.062020   -0.042659   -0.040286\n50%     -0.003803    0.004781    0.001566    0.000440    0.000199   -0.000365\n75%      0.239190    0.160653    0.120209    0.087145    0.058881    0.043963\nmax      1.613364    0.859101    0.616693    0.385269    0.259168    0.238765",
      "text/html": "<div>\n<style scoped>\n    .dataframe tbody tr th:only-of-type {\n        vertical-align: middle;\n    }\n\n    .dataframe tbody tr th {\n        vertical-align: top;\n    }\n\n    .dataframe thead th {\n        text-align: right;\n    }\n</style>\n<table border=\"1\" class=\"dataframe\">\n  <thead>\n    <tr style=\"text-align: right;\">\n      <th></th>\n      <th>return_1M</th>\n      <th>return_2M</th>\n      <th>return_3M</th>\n      <th>return_6M</th>\n      <th>return_9M</th>\n      <th>return_12M</th>\n    </tr>\n  </thead>\n  <tbody>\n    <tr>\n      <th>count</th>\n      <td>499.000000</td>\n      <td>486.000000</td>\n      <td>473.000000</td>\n      <td>434.000000</td>\n      <td>395.000000</td>\n      <td>356.000000</td>\n    </tr>\n    <tr>\n      <th>mean</th>\n      <td>0.068558</td>\n      <td>0.045089</td>\n      <td>0.031271</td>\n      <td>0.017341</td>\n      <td>0.011587</td>\n      <td>0.011391</td>\n    </tr>\n    <tr>\n      <th>std</th>\n      <td>0.360035</td>\n      <td>0.224603</td>\n      <td>0.179529</td>\n      <td>0.126884</td>\n      <td>0.097299</td>\n      <td>0.080112</td>\n    </tr>\n    <tr>\n      <th>min</th>\n      <td>-0.490099</td>\n      <td>-0.329983</td>\n      <td>-0.273537</td>\n      <td>-0.228868</td>\n      <td>-0.199511</td>\n      <td>-0.141791</td>\n    </tr>\n    <tr>\n      <th>25%</th>\n      <td>-0.161549</td>\n      <td>-0.108694</td>\n      <td>-0.082935</td>\n      <td>-0.062020</td>\n      <td>-0.042659</td>\n      <td>-0.040286</td>\n    </tr>\n    <tr>\n      <th>50%</th>\n      <td>-0.003803</td>\n      <td>0.004781</td>\n      <td>0.001566</td>\n      <td>0.000440</td>\n      <td>0.000199</td>\n      <td>-0.000365</td>\n    </tr>\n    <tr>\n      <th>75%</th>\n      <td>0.239190</td>\n      <td>0.160653</td>\n      <td>0.120209</td>\n      <td>0.087145</td>\n      <td>0.058881</td>\n      <td>0.043963</td>\n    </tr>\n    <tr>\n      <th>max</th>\n      <td>1.613364</td>\n      <td>0.859101</td>\n      <td>0.616693</td>\n      <td>0.385269</td>\n      <td>0.259168</td>\n      <td>0.238765</td>\n    </tr>\n  </tbody>\n</table>\n</div>"
     },
     "execution_count": 26,
     "metadata": {},
     "output_type": "execute_result"
    }
   ],
   "source": [
    "data.describe()"
   ]
  },
  {
   "cell_type": "code",
   "execution_count": 27,
   "metadata": {
    "ExecuteTime": {
     "end_time": "2021-02-23T05:19:27.590983Z",
     "start_time": "2021-02-23T05:19:26.970957Z"
    }
   },
   "outputs": [
    {
     "data": {
      "text/plain": "<Figure size 720x720 with 4 Axes>",
      "image/png": "[encoded data removed]"
     },
     "metadata": {},
     "output_type": "display_data"
    }
   ],
   "source": [
    "# cmap = sns.diverging_palette(10, 220, as_cmap=True)\n",
    "sns.clustermap(data.corr('spearman'), annot=True, center=0, cmap='Blues');"
   ]
  },
  {
   "cell_type": "markdown",
   "metadata": {},
   "source": [
    "We are left with 1,670 tickers."
   ]
  },
  {
   "cell_type": "code",
   "execution_count": 28,
   "metadata": {
    "ExecuteTime": {
     "end_time": "2021-02-23T05:19:27.626233Z",
     "start_time": "2021-02-23T05:19:27.592050Z"
    }
   },
   "outputs": [
    {
     "data": {
      "text/plain": "(Index(['btc-usd', 'eos-usd', 'etc-usd', 'eth-usd', 'ltc-usd', 'miota-usd',\n        'neo-usd', 'trx-usd', 'xmr-usd', 'xrp-usd', 'dai-usd', 'mkr-usd',\n        'xlm-usd'],\n       dtype='object', name='ticker'),\n 13,\n 13)"
     },
     "execution_count": 28,
     "metadata": {},
     "output_type": "execute_result"
    }
   ],
   "source": [
    "# data.index.get_level_values(['symbol', 'base']).nunique()\n",
    "data.index.get_level_values('ticker').unique(), data.index.get_level_values('ticker').nunique(), data.index.get_level_values('ticker').nunique()"
   ]
  },
  {
   "cell_type": "markdown",
   "metadata": {},
   "source": [
    "## Rolling Factor Betas"
   ]
  },
  {
   "cell_type": "markdown",
   "metadata": {},
   "source": [
    "We will introduce the Fama—French data to estimate the exposure of assets to common risk factors using linear regression in [Chapter 9, Time Series Models](../09_time_series_models)."
   ]
  },
  {
   "cell_type": "markdown",
   "metadata": {},
   "source": [
    "The five Fama—French factors, namely market risk, size, value, operating profitability, and investment have been shown empirically to explain asset returns and are commonly used to assess the risk/return profile of portfolios. Hence, it is natural to include past factor exposures as financial features in models that aim to predict future returns."
   ]
  },
  {
   "cell_type": "markdown",
   "metadata": {},
   "source": [
    "We can access the historical factor returns using the `pandas-datareader` and estimate historical exposures using the `RollingOLS` rolling linear regression functionality in the `statsmodels` library as follows:"
   ]
  },
  {
   "cell_type": "markdown",
   "metadata": {},
   "source": [
    "Use Fama-French research factors to estimate the factor exposures of the stock in the dataset to the 5 factors market risk, size, value, operating profitability and investment."
   ]
  },
  {
   "cell_type": "code",
   "execution_count": 29,
   "metadata": {
    "ExecuteTime": {
     "end_time": "2021-02-23T05:19:27.990299Z",
     "start_time": "2021-02-23T05:19:27.627350Z"
    },
    "scrolled": false
   },
   "outputs": [
    {
     "name": "stdout",
     "output_type": "stream",
     "text": [
      "<class 'pandas.core.frame.DataFrame'>\n",
      "DatetimeIndex: 76 entries, 2015-01-31 to 2021-04-30\n",
      "Freq: M\n",
      "Data columns (total 5 columns):\n",
      " #   Column  Non-Null Count  Dtype  \n",
      "---  ------  --------------  -----  \n",
      " 0   Mkt-RF  76 non-null     float64\n",
      " 1   SMB     76 non-null     float64\n",
      " 2   HML     76 non-null     float64\n",
      " 3   RMW     76 non-null     float64\n",
      " 4   CMA     76 non-null     float64\n",
      "dtypes: float64(5)\n",
      "memory usage: 3.6 KB\n"
     ]
    }
   ],
   "source": [
    "factors = ['Mkt-RF', 'SMB', 'HML', 'RMW', 'CMA']\n",
    "factor_data = web.DataReader('F-F_Research_Data_5_Factors_2x3', 'famafrench', start=START)[0].drop('RF', axis=1)\n",
    "factor_data.index = factor_data.index.to_timestamp()\n",
    "factor_data = factor_data.resample(timeframe).last().div(100)\n",
    "factor_data.index.name = 'date'\n",
    "factor_data.info()"
   ]
  },
  {
   "cell_type": "code",
   "execution_count": 30,
   "metadata": {
    "ExecuteTime": {
     "end_time": "2021-02-23T05:19:28.044094Z",
     "start_time": "2021-02-23T05:19:27.991591Z"
    },
    "scrolled": true
   },
   "outputs": [
    {
     "name": "stdout",
     "output_type": "stream",
     "text": [
      "<class 'pandas.core.frame.DataFrame'>\n",
      "MultiIndex: 499 entries, (Timestamp('2018-02-28 00:00:00', freq='M'), 'btc-usd') to (Timestamp('2021-04-30 00:00:00', freq='M'), 'xrp-usd')\n",
      "Data columns (total 6 columns):\n",
      " #   Column     Non-Null Count  Dtype  \n",
      "---  ------     --------------  -----  \n",
      " 0   Mkt-RF     499 non-null    float64\n",
      " 1   SMB        499 non-null    float64\n",
      " 2   HML        499 non-null    float64\n",
      " 3   RMW        499 non-null    float64\n",
      " 4   CMA        499 non-null    float64\n",
      " 5   return_1M  486 non-null    float64\n",
      "dtypes: float64(6)\n",
      "memory usage: 28.5+ KB\n"
     ]
    }
   ],
   "source": [
    "factor_data = factor_data.join(data[f'return_1{timeframe}']).sort_index()\n",
    "factor_data.info()"
   ]
  },
  {
   "cell_type": "code",
   "execution_count": 31,
   "outputs": [
    {
     "data": {
      "text/plain": "           Mkt-RF         SMB         HML         RMW         CMA   return_1M\ncount  499.000000  499.000000  499.000000  499.000000  499.000000  486.000000\nmean     0.013318    0.001705   -0.009266    0.001302   -0.001852    0.065866\nstd      0.054968    0.032346    0.038530    0.018291    0.018702    0.357197\nmin     -0.133800   -0.083800   -0.139600   -0.033300   -0.032800   -0.490099\n25%     -0.001100   -0.019500   -0.027100   -0.011500   -0.014700   -0.163924\n50%      0.020600    0.002400   -0.013900    0.000900   -0.003800   -0.003836\n75%      0.039600    0.019400    0.005700    0.008600    0.010600    0.237346\nmax      0.136500    0.068800    0.074000    0.064300    0.046800    1.613364",
      "text/html": "<div>\n<style scoped>\n    .dataframe tbody tr th:only-of-type {\n        vertical-align: middle;\n    }\n\n    .dataframe tbody tr th {\n        vertical-align: top;\n    }\n\n    .dataframe thead th {\n        text-align: right;\n    }\n</style>\n<table border=\"1\" class=\"dataframe\">\n  <thead>\n    <tr style=\"text-align: right;\">\n      <th></th>\n      <th>Mkt-RF</th>\n      <th>SMB</th>\n      <th>HML</th>\n      <th>RMW</th>\n      <th>CMA</th>\n      <th>return_1M</th>\n    </tr>\n  </thead>\n  <tbody>\n    <tr>\n      <th>count</th>\n      <td>499.000000</td>\n      <td>499.000000</td>\n      <td>499.000000</td>\n      <td>499.000000</td>\n      <td>499.000000</td>\n      <td>486.000000</td>\n    </tr>\n    <tr>\n      <th>mean</th>\n      <td>0.013318</td>\n      <td>0.001705</td>\n      <td>-0.009266</td>\n      <td>0.001302</td>\n      <td>-0.001852</td>\n      <td>0.065866</td>\n    </tr>\n    <tr>\n      <th>std</th>\n      <td>0.054968</td>\n      <td>0.032346</td>\n      <td>0.038530</td>\n      <td>0.018291</td>\n      <td>0.018702</td>\n      <td>0.357197</td>\n    </tr>\n    <tr>\n      <th>min</th>\n      <td>-0.133800</td>\n      <td>-0.083800</td>\n      <td>-0.139600</td>\n      <td>-0.033300</td>\n      <td>-0.032800</td>\n      <td>-0.490099</td>\n    </tr>\n    <tr>\n      <th>25%</th>\n      <td>-0.001100</td>\n      <td>-0.019500</td>\n      <td>-0.027100</td>\n      <td>-0.011500</td>\n      <td>-0.014700</td>\n      <td>-0.163924</td>\n    </tr>\n    <tr>\n      <th>50%</th>\n      <td>0.020600</td>\n      <td>0.002400</td>\n      <td>-0.013900</td>\n      <td>0.000900</td>\n      <td>-0.003800</td>\n      <td>-0.003836</td>\n    </tr>\n    <tr>\n      <th>75%</th>\n      <td>0.039600</td>\n      <td>0.019400</td>\n      <td>0.005700</td>\n      <td>0.008600</td>\n      <td>0.010600</td>\n      <td>0.237346</td>\n    </tr>\n    <tr>\n      <th>max</th>\n      <td>0.136500</td>\n      <td>0.068800</td>\n      <td>0.074000</td>\n      <td>0.064300</td>\n      <td>0.046800</td>\n      <td>1.613364</td>\n    </tr>\n  </tbody>\n</table>\n</div>"
     },
     "execution_count": 31,
     "metadata": {},
     "output_type": "execute_result"
    }
   ],
   "source": [
    "factor_data.describe()"
   ],
   "metadata": {
    "collapsed": false,
    "pycharm": {
     "name": "#%%\n"
    }
   }
  },
  {
   "cell_type": "code",
   "execution_count": 32,
   "outputs": [
    {
     "data": {
      "text/plain": "                      Mkt-RF     SMB     HML     RMW     CMA  return_1M\ndate       ticker                                                      \n2018-02-28 btc-usd   -0.0365  0.0037 -0.0101  0.0058 -0.0223        NaN\n           eos-usd   -0.0365  0.0037 -0.0101  0.0058 -0.0223        NaN\n           etc-usd   -0.0365  0.0037 -0.0101  0.0058 -0.0223        NaN\n           eth-usd   -0.0365  0.0037 -0.0101  0.0058 -0.0223        NaN\n           ltc-usd   -0.0365  0.0037 -0.0101  0.0058 -0.0223        NaN\n           miota-usd -0.0365  0.0037 -0.0101  0.0058 -0.0223        NaN\n           neo-usd   -0.0365  0.0037 -0.0101  0.0058 -0.0223        NaN\n           trx-usd   -0.0365  0.0037 -0.0101  0.0058 -0.0223        NaN\n           xmr-usd   -0.0365  0.0037 -0.0101  0.0058 -0.0223        NaN\n           xrp-usd   -0.0365  0.0037 -0.0101  0.0058 -0.0223        NaN",
      "text/html": "<div>\n<style scoped>\n    .dataframe tbody tr th:only-of-type {\n        vertical-align: middle;\n    }\n\n    .dataframe tbody tr th {\n        vertical-align: top;\n    }\n\n    .dataframe thead th {\n        text-align: right;\n    }\n</style>\n<table border=\"1\" class=\"dataframe\">\n  <thead>\n    <tr style=\"text-align: right;\">\n      <th></th>\n      <th></th>\n      <th>Mkt-RF</th>\n      <th>SMB</th>\n      <th>HML</th>\n      <th>RMW</th>\n      <th>CMA</th>\n      <th>return_1M</th>\n    </tr>\n    <tr>\n      <th>date</th>\n      <th>ticker</th>\n      <th></th>\n      <th></th>\n      <th></th>\n      <th></th>\n      <th></th>\n      <th></th>\n    </tr>\n  </thead>\n  <tbody>\n    <tr>\n      <th rowspan=\"10\" valign=\"top\">2018-02-28</th>\n      <th>btc-usd</th>\n      <td>-0.0365</td>\n      <td>0.0037</td>\n      <td>-0.0101</td>\n      <td>0.0058</td>\n      <td>-0.0223</td>\n      <td>NaN</td>\n    </tr>\n    <tr>\n      <th>eos-usd</th>\n      <td>-0.0365</td>\n      <td>0.0037</td>\n      <td>-0.0101</td>\n      <td>0.0058</td>\n      <td>-0.0223</td>\n      <td>NaN</td>\n    </tr>\n    <tr>\n      <th>etc-usd</th>\n      <td>-0.0365</td>\n      <td>0.0037</td>\n      <td>-0.0101</td>\n      <td>0.0058</td>\n      <td>-0.0223</td>\n      <td>NaN</td>\n    </tr>\n    <tr>\n      <th>eth-usd</th>\n      <td>-0.0365</td>\n      <td>0.0037</td>\n      <td>-0.0101</td>\n      <td>0.0058</td>\n      <td>-0.0223</td>\n      <td>NaN</td>\n    </tr>\n    <tr>\n      <th>ltc-usd</th>\n      <td>-0.0365</td>\n      <td>0.0037</td>\n      <td>-0.0101</td>\n      <td>0.0058</td>\n      <td>-0.0223</td>\n      <td>NaN</td>\n    </tr>\n    <tr>\n      <th>miota-usd</th>\n      <td>-0.0365</td>\n      <td>0.0037</td>\n      <td>-0.0101</td>\n      <td>0.0058</td>\n      <td>-0.0223</td>\n      <td>NaN</td>\n    </tr>\n    <tr>\n      <th>neo-usd</th>\n      <td>-0.0365</td>\n      <td>0.0037</td>\n      <td>-0.0101</td>\n      <td>0.0058</td>\n      <td>-0.0223</td>\n      <td>NaN</td>\n    </tr>\n    <tr>\n      <th>trx-usd</th>\n      <td>-0.0365</td>\n      <td>0.0037</td>\n      <td>-0.0101</td>\n      <td>0.0058</td>\n      <td>-0.0223</td>\n      <td>NaN</td>\n    </tr>\n    <tr>\n      <th>xmr-usd</th>\n      <td>-0.0365</td>\n      <td>0.0037</td>\n      <td>-0.0101</td>\n      <td>0.0058</td>\n      <td>-0.0223</td>\n      <td>NaN</td>\n    </tr>\n    <tr>\n      <th>xrp-usd</th>\n      <td>-0.0365</td>\n      <td>0.0037</td>\n      <td>-0.0101</td>\n      <td>0.0058</td>\n      <td>-0.0223</td>\n      <td>NaN</td>\n    </tr>\n  </tbody>\n</table>\n</div>"
     },
     "execution_count": 32,
     "metadata": {},
     "output_type": "execute_result"
    }
   ],
   "source": [
    "factor_data.head(10)"
   ],
   "metadata": {
    "collapsed": false,
    "pycharm": {
     "name": "#%%\n"
    }
   }
  },
  {
   "cell_type": "code",
   "execution_count": 33,
   "metadata": {
    "ExecuteTime": {
     "end_time": "2021-02-23T05:20:14.838012Z",
     "start_time": "2021-02-23T05:20:00.361713Z"
    }
   },
   "outputs": [],
   "source": [
    "# average over T months\n",
    "T = 12\n",
    "betas = (factor_data.groupby(level='ticker',\n",
    "                             group_keys=False)\n",
    "         .apply(lambda x: RollingOLS(endog=x[f'return_1{timeframe}'],\n",
    "                                     exog=sm.add_constant(x.drop(f'return_1{timeframe}', axis=1)),\n",
    "                                     window=min(T, x.shape[0]-1))\n",
    "                .fit(params_only=True)\n",
    "                .params\n",
    "                .drop('const', axis=1)))"
   ]
  },
  {
   "cell_type": "code",
   "execution_count": 34,
   "metadata": {
    "ExecuteTime": {
     "end_time": "2021-02-23T05:20:14.956459Z",
     "start_time": "2021-02-23T05:20:14.839027Z"
    }
   },
   "outputs": [
    {
     "data": {
      "text/plain": "           Mkt-RF         SMB         HML         RMW         CMA       total\ncount  356.000000  356.000000  356.000000  356.000000  356.000000  499.000000\nmean     0.254190   -0.505509   -0.080164    2.707070   -1.422111    0.680235\nstd      3.588520    8.227540    4.118402   13.837630    7.211482   14.970709\nmin    -10.825841  -23.378213  -16.211101  -42.087921  -21.367681  -43.381762\n25%     -2.401794   -6.285718   -2.800964   -4.350751   -6.532094   -5.878560\n50%      0.490303   -1.406738    0.135605    0.808008   -1.545636    0.000000\n75%      2.716340    4.247967    2.942195    9.755063    2.478973    3.812290\nmax      9.049488   23.769153   11.729915   45.888405   28.839642   65.698705",
      "text/html": "<div>\n<style scoped>\n    .dataframe tbody tr th:only-of-type {\n        vertical-align: middle;\n    }\n\n    .dataframe tbody tr th {\n        vertical-align: top;\n    }\n\n    .dataframe thead th {\n        text-align: right;\n    }\n</style>\n<table border=\"1\" class=\"dataframe\">\n  <thead>\n    <tr style=\"text-align: right;\">\n      <th></th>\n      <th>Mkt-RF</th>\n      <th>SMB</th>\n      <th>HML</th>\n      <th>RMW</th>\n      <th>CMA</th>\n      <th>total</th>\n    </tr>\n  </thead>\n  <tbody>\n    <tr>\n      <th>count</th>\n      <td>356.000000</td>\n      <td>356.000000</td>\n      <td>356.000000</td>\n      <td>356.000000</td>\n      <td>356.000000</td>\n      <td>499.000000</td>\n    </tr>\n    <tr>\n      <th>mean</th>\n      <td>0.254190</td>\n      <td>-0.505509</td>\n      <td>-0.080164</td>\n      <td>2.707070</td>\n      <td>-1.422111</td>\n      <td>0.680235</td>\n    </tr>\n    <tr>\n      <th>std</th>\n      <td>3.588520</td>\n      <td>8.227540</td>\n      <td>4.118402</td>\n      <td>13.837630</td>\n      <td>7.211482</td>\n      <td>14.970709</td>\n    </tr>\n    <tr>\n      <th>min</th>\n      <td>-10.825841</td>\n      <td>-23.378213</td>\n      <td>-16.211101</td>\n      <td>-42.087921</td>\n      <td>-21.367681</td>\n      <td>-43.381762</td>\n    </tr>\n    <tr>\n      <th>25%</th>\n      <td>-2.401794</td>\n      <td>-6.285718</td>\n      <td>-2.800964</td>\n      <td>-4.350751</td>\n      <td>-6.532094</td>\n      <td>-5.878560</td>\n    </tr>\n    <tr>\n      <th>50%</th>\n      <td>0.490303</td>\n      <td>-1.406738</td>\n      <td>0.135605</td>\n      <td>0.808008</td>\n      <td>-1.545636</td>\n      <td>0.000000</td>\n    </tr>\n    <tr>\n      <th>75%</th>\n      <td>2.716340</td>\n      <td>4.247967</td>\n      <td>2.942195</td>\n      <td>9.755063</td>\n      <td>2.478973</td>\n      <td>3.812290</td>\n    </tr>\n    <tr>\n      <th>max</th>\n      <td>9.049488</td>\n      <td>23.769153</td>\n      <td>11.729915</td>\n      <td>45.888405</td>\n      <td>28.839642</td>\n      <td>65.698705</td>\n    </tr>\n  </tbody>\n</table>\n</div>"
     },
     "execution_count": 34,
     "metadata": {},
     "output_type": "execute_result"
    }
   ],
   "source": [
    "betas.describe().join(betas.sum(1).describe().to_frame('total'))"
   ]
  },
  {
   "cell_type": "code",
   "execution_count": 35,
   "outputs": [
    {
     "data": {
      "text/plain": "              Mkt-RF                                                     \\\nticker       btc-usd    eos-usd   etc-usd   eth-usd   ltc-usd miota-usd   \ndate                                                                      \n2018-02-28       NaN        NaN       NaN       NaN       NaN       NaN   \n2018-03-31       NaN        NaN       NaN       NaN       NaN       NaN   \n2018-04-30       NaN        NaN       NaN       NaN       NaN       NaN   \n2018-05-31       NaN        NaN       NaN       NaN       NaN       NaN   \n2018-06-30       NaN        NaN       NaN       NaN       NaN       NaN   \n2018-07-31       NaN        NaN       NaN       NaN       NaN       NaN   \n2018-08-31       NaN        NaN       NaN       NaN       NaN       NaN   \n2018-09-30       NaN        NaN       NaN       NaN       NaN       NaN   \n2018-10-31       NaN        NaN       NaN       NaN       NaN       NaN   \n2018-11-30       NaN        NaN       NaN       NaN       NaN       NaN   \n2018-12-31       NaN        NaN       NaN       NaN       NaN       NaN   \n2019-01-31  1.996324   3.792453  1.658748  1.109007  2.395148  0.359449   \n2019-02-28  1.987970   3.763267  1.648953  1.089940  2.374032  0.344821   \n2019-03-31  1.324622   4.740080  0.481155 -0.456845  2.220473 -0.111282   \n2019-04-30 -0.893936  -0.900756 -3.218200 -3.768138  0.259895 -3.101374   \n2019-05-31 -2.244974  -2.929149 -4.309853 -5.081407 -1.192073 -4.338849   \n2019-06-30 -4.066958  -6.587685 -5.390192 -7.071584 -3.882074 -6.683045   \n2019-07-31 -3.236538  -5.868443 -4.805774 -6.279376 -3.284676 -6.338968   \n2019-08-31 -3.413413  -6.246148 -5.132238 -6.789134 -3.847035 -6.744052   \n2019-09-30 -2.440600  -5.805727 -4.879155 -6.112617 -3.392349 -6.507568   \n2019-10-31 -2.422563  -5.798201 -4.787646 -5.902038 -3.226563 -6.368157   \n2019-11-30 -1.807737  -5.109708 -3.870582 -5.002074 -2.888860 -5.633700   \n2019-12-31 -4.787444 -10.825841 -6.141168 -6.816665 -5.244183 -8.059729   \n2020-01-31 -3.809982  -8.787124 -2.440781 -4.730808 -3.232148 -5.575034   \n2020-02-29 -0.376062  -1.256458  3.231000 -2.602516  0.579663 -0.252037   \n2020-03-31 -0.073300  -1.088854  3.843501 -2.394762  0.653146  0.146422   \n2020-04-30  0.410011   0.466520  4.511598 -1.405284  1.550914  0.914630   \n2020-05-31  2.044893   2.461683  6.449055  0.438420  3.174807  2.486134   \n2020-06-30  1.797008   3.224874  7.211573  0.499451  3.207679  3.248583   \n2020-07-31  2.306913   3.830785  6.335069  2.527676  4.222557  3.723973   \n2020-08-31  2.692300   3.650923  6.821811  2.395540  3.773583  3.712527   \n2020-09-30  2.654917   3.940622  7.651038  2.927896  4.208411  5.253297   \n2020-10-31  1.256584   2.933683  5.672044  2.098512  2.255442  3.682354   \n2020-11-30  2.655376   4.398183  7.421201  4.457890  4.663550  5.838162   \n2020-12-31  2.553537   4.228245  7.482934  4.172963  4.473938  5.590541   \n2021-01-31  2.252791   2.291093  2.554579  2.357227  3.625125  2.489310   \n2021-02-28  2.120710   2.556509  2.290743  3.325771  3.686416  1.568116   \n2021-03-31  2.366919   2.963620  2.716017  3.518614  3.998869  3.762398   \n2021-04-30  2.025434   2.946777  3.963909  3.679461  4.591228  4.035214   \n\n                                                    ...        CMA             \\\nticker       neo-usd   trx-usd   xmr-usd   xrp-usd  ...    eth-usd    ltc-usd   \ndate                                                ...                         \n2018-02-28       NaN       NaN       NaN       NaN  ...        NaN        NaN   \n2018-03-31       NaN       NaN       NaN       NaN  ...        NaN        NaN   \n2018-04-30       NaN       NaN       NaN       NaN  ...        NaN        NaN   \n2018-05-31       NaN       NaN       NaN       NaN  ...        NaN        NaN   \n2018-06-30       NaN       NaN       NaN       NaN  ...        NaN        NaN   \n2018-07-31       NaN       NaN       NaN       NaN  ...        NaN        NaN   \n2018-08-31       NaN       NaN       NaN       NaN  ...        NaN        NaN   \n2018-09-30       NaN       NaN       NaN       NaN  ...        NaN        NaN   \n2018-10-31       NaN       NaN       NaN       NaN  ...        NaN        NaN   \n2018-11-30       NaN       NaN       NaN       NaN  ...        NaN        NaN   \n2018-12-31       NaN       NaN       NaN       NaN  ...        NaN        NaN   \n2019-01-31  2.750047  2.052918  2.727255  5.863496  ...   9.367385   3.563133   \n2019-02-28  2.729295  2.043616  2.717308  5.855332  ...   6.839746   0.763818   \n2019-03-31  2.656365  2.619238  2.926874  5.854252  ...   5.100896   0.313201   \n2019-04-30 -0.184458 -1.387463  0.432035  2.465054  ...  -9.421896  -8.530278   \n2019-05-31 -1.390842 -2.799622 -0.996898  1.693284  ...  -5.607467  -4.705660   \n2019-06-30 -3.834457 -4.224412 -2.852720 -0.301697  ...   3.581098   3.191390   \n2019-07-31 -3.162864 -4.742956 -1.976200 -0.338792  ...   3.563454   4.101363   \n2019-08-31 -3.621737 -5.107749 -2.129595 -0.625590  ...   0.919224   2.564134   \n2019-09-30 -2.877199 -4.868955 -1.748571 -2.869274  ...  -1.255274  -2.614672   \n2019-10-31 -3.293952 -5.283807 -1.769386 -2.985322  ...  -0.598936  -2.762109   \n2019-11-30 -2.394871 -5.030070 -0.711554 -2.987930  ...  -0.686671  -2.413290   \n2019-12-31 -3.086882 -3.759040 -4.426564 -5.165264  ...  -4.505524  -6.938017   \n2020-01-31 -0.979164 -3.093714 -3.173527 -4.074166  ...  -5.306871  -7.955481   \n2020-02-29  0.615378 -0.171070  0.255098 -1.488396  ...  -0.960263  -0.169682   \n2020-03-31  0.760883  0.040392  0.444321 -1.315716  ...  -6.320335  -5.618380   \n2020-04-30  0.377603  0.302391  1.347991 -0.873636  ...  -4.477648  -1.977761   \n2020-05-31  1.617283  1.679965  2.903524  0.352538  ... -10.907440 -10.111587   \n2020-06-30  1.365038  1.905751  3.253436  0.567894  ...  -9.720236  -7.143189   \n2020-07-31  2.323057  2.560097  3.800869  2.295356  ...  -9.564676  -7.556217   \n2020-08-31  1.369477  1.752954  3.644923  2.252061  ...  -9.643846  -9.241440   \n2020-09-30  0.918778  1.561337  3.407664  2.126377  ...  -8.627632  -8.411380   \n2020-10-31  1.382625  1.089253  2.034847  1.476010  ...  -8.575380  -7.877792   \n2020-11-30  3.692661  3.196722  2.802874  6.567999  ...  -6.634328  -6.062556   \n2020-12-31  3.576784  2.972016  2.628710  5.927504  ...  -4.393611  -3.214298   \n2021-01-31  0.881058  1.159219  1.518967  4.521483  ...   5.444474  -0.821027   \n2021-02-28  1.079543  1.223543  1.211739  5.505330  ...  10.824813  -0.442440   \n2021-03-31  1.939411  1.630973  1.475090  6.110674  ...   8.819069  -0.451765   \n2021-04-30  3.239287  2.232070  1.208744  9.049488  ...   7.201387  -1.077496   \n\n                                                                            \\\nticker      miota-usd    neo-usd   trx-usd    xmr-usd    xrp-usd   dai-usd   \ndate                                                                         \n2018-02-28        NaN        NaN       NaN        NaN        NaN       NaN   \n2018-03-31        NaN        NaN       NaN        NaN        NaN       NaN   \n2018-04-30        NaN        NaN       NaN        NaN        NaN       NaN   \n2018-05-31        NaN        NaN       NaN        NaN        NaN       NaN   \n2018-06-30        NaN        NaN       NaN        NaN        NaN       NaN   \n2018-07-31        NaN        NaN       NaN        NaN        NaN       NaN   \n2018-08-31        NaN        NaN       NaN        NaN        NaN       NaN   \n2018-09-30        NaN        NaN       NaN        NaN        NaN       NaN   \n2018-10-31        NaN        NaN       NaN        NaN        NaN       NaN   \n2018-11-30        NaN        NaN       NaN        NaN        NaN       NaN   \n2018-12-31        NaN        NaN       NaN        NaN        NaN       NaN   \n2019-01-31   3.502100   8.005064  4.973443   8.687841  28.839642       NaN   \n2019-02-28   1.562786   5.254018  3.740231   7.369161  27.757385       NaN   \n2019-03-31   0.938592   4.991454  4.144590   7.448103  28.298068 -0.588438   \n2019-04-30 -10.716835  -5.005258 -8.502670  -3.947531   5.214619 -1.208998   \n2019-05-31  -6.772574  -2.118267 -6.507953  -0.341296   7.311030 -1.417258   \n2019-06-30   0.705867   9.288111  0.087977   3.933885  10.885965 -1.412271   \n2019-07-31  -0.318500  10.002941  1.165732   4.217010  12.461689 -1.391386   \n2019-08-31  -1.838438   7.954556 -0.396679   4.571830  12.142927 -1.425824   \n2019-09-30   0.134401   3.262322 -4.262806   0.608952   0.166557 -1.731473   \n2019-10-31   1.323665   1.874967 -5.662441   0.267968   0.581178 -1.736283   \n2019-11-30   1.317274   1.829612 -4.839575   0.591945   0.749034 -1.754845   \n2019-12-31  -3.715082   0.395592 -3.389694  -6.408370  -3.467865 -1.250146   \n2020-01-31  -5.019316  -0.213468 -4.446201  -7.127857  -4.093809 -1.236782   \n2020-02-29   5.849425   3.040403  1.516741  -0.127717   1.184048 -1.351396   \n2020-03-31  -3.404951  -1.683082 -2.615069  -5.868520  -2.703871 -0.772481   \n2020-04-30  -4.397297  -3.206183 -2.391333  -4.079249  -2.248402 -0.560111   \n2020-05-31 -16.495451  -8.308538 -7.590942 -11.428518  -6.788875 -0.047490   \n2020-06-30 -10.090770  -8.491465 -5.107672  -7.846564  -6.049385  0.026314   \n2020-07-31 -11.287514  -9.020388 -5.861674  -8.198657  -5.768245  0.063541   \n2020-08-31 -10.791555 -13.446649 -9.459461  -8.596905  -5.525697  0.100555   \n2020-09-30 -11.290931 -12.162046 -8.670989  -9.806107  -4.876463  0.161711   \n2020-10-31 -10.882902 -11.918274 -8.158592  -9.529682  -4.526010  0.169140   \n2020-11-30 -10.194700  -8.057852 -5.627371 -10.489593   3.253629  0.230572   \n2020-12-31  -9.319059  -8.031773 -4.643414  -7.783140   2.591029  0.270725   \n2021-01-31   5.046589   6.435875  3.667428  -3.385432  11.412323  0.132488   \n2021-02-28  -3.271423   6.190878  3.288885  -5.350207  17.160025  0.092281   \n2021-03-31  -9.352946   1.866458  2.692421  -6.691158  15.691103 -0.012011   \n2021-04-30  -8.703248  -1.097763  1.920825  -7.507148   7.995296  0.013456   \n\n                                  \nticker        mkr-usd    xlm-usd  \ndate                              \n2018-02-28        NaN        NaN  \n2018-03-31        NaN        NaN  \n2018-04-30        NaN        NaN  \n2018-05-31        NaN        NaN  \n2018-06-30        NaN        NaN  \n2018-07-31        NaN        NaN  \n2018-08-31        NaN        NaN  \n2018-09-30        NaN        NaN  \n2018-10-31        NaN        NaN  \n2018-11-30        NaN        NaN  \n2018-12-31        NaN        NaN  \n2019-01-31        NaN        NaN  \n2019-02-28        NaN        NaN  \n2019-03-31        NaN        NaN  \n2019-04-30   2.971391   4.030766  \n2019-05-31   3.364438   7.232322  \n2019-06-30  12.243393  10.135283  \n2019-07-31  10.457034   7.541430  \n2019-08-31   9.461525   8.113417  \n2019-09-30   2.622860   5.343885  \n2019-10-31  -0.178695   5.298146  \n2019-11-30  -0.176487   5.039558  \n2019-12-31  -3.219237  -1.544666  \n2020-01-31  -3.619876  -2.044938  \n2020-02-29   4.170040   1.329429  \n2020-03-31  -1.475087  -3.171562  \n2020-04-30  -3.956547  -1.681268  \n2020-05-31 -10.801141  -5.730027  \n2020-06-30  -9.266609  -5.024603  \n2020-07-31  -8.771339  -5.121916  \n2020-08-31 -10.162975  -3.158383  \n2020-09-30  -9.369665  -3.205864  \n2020-10-31  -9.183635  -2.831495  \n2020-11-30  -9.040492   2.203369  \n2020-12-31  -8.235154   1.844553  \n2021-01-31  14.400798  13.419754  \n2021-02-28  15.418245  16.367358  \n2021-03-31  10.724253  10.365304  \n2021-04-30   5.005928   8.367370  \n\n[39 rows x 65 columns]",
      "text/html": "<div>\n<style scoped>\n    .dataframe tbody tr th:only-of-type {\n        vertical-align: middle;\n    }\n\n    .dataframe tbody tr th {\n        vertical-align: top;\n    }\n\n    .dataframe thead tr th {\n        text-align: left;\n    }\n\n    .dataframe thead tr:last-of-type th {\n        text-align: right;\n    }\n</style>\n<table border=\"1\" class=\"dataframe\">\n  <thead>\n    <tr>\n      <th></th>\n      <th colspan=\"10\" halign=\"left\">Mkt-RF</th>\n      <th>...</th>\n      <th colspan=\"10\" halign=\"left\">CMA</th>\n    </tr>\n    <tr>\n      <th>ticker</th>\n      <th>btc-usd</th>\n      <th>eos-usd</th>\n      <th>etc-usd</th>\n      <th>eth-usd</th>\n      <th>ltc-usd</th>\n      <th>miota-usd</th>\n      <th>neo-usd</th>\n      <th>trx-usd</th>\n      <th>xmr-usd</th>\n      <th>xrp-usd</th>\n      <th>...</th>\n      <th>eth-usd</th>\n      <th>ltc-usd</th>\n      <th>miota-usd</th>\n      <th>neo-usd</th>\n      <th>trx-usd</th>\n      <th>xmr-usd</th>\n      <th>xrp-usd</th>\n      <th>dai-usd</th>\n      <th>mkr-usd</th>\n      <th>xlm-usd</th>\n    </tr>\n    <tr>\n      <th>date</th>\n      <th></th>\n      <th></th>\n      <th></th>\n      <th></th>\n      <th></th>\n      <th></th>\n      <th></th>\n      <th></th>\n      <th></th>\n      <th></th>\n      <th></th>\n      <th></th>\n      <th></th>\n      <th></th>\n      <th></th>\n      <th></th>\n      <th></th>\n      <th></th>\n      <th></th>\n      <th></th>\n      <th></th>\n    </tr>\n  </thead>\n  <tbody>\n    <tr>\n      <th>2018-02-28</th>\n      <td>NaN</td>\n      <td>NaN</td>\n      <td>NaN</td>\n      <td>NaN</td>\n      <td>NaN</td>\n      <td>NaN</td>\n      <td>NaN</td>\n      <td>NaN</td>\n      <td>NaN</td>\n      <td>NaN</td>\n      <td>...</td>\n      <td>NaN</td>\n      <td>NaN</td>\n      <td>NaN</td>\n      <td>NaN</td>\n      <td>NaN</td>\n      <td>NaN</td>\n      <td>NaN</td>\n      <td>NaN</td>\n      <td>NaN</td>\n      <td>NaN</td>\n    </tr>\n    <tr>\n      <th>2018-03-31</th>\n      <td>NaN</td>\n      <td>NaN</td>\n      <td>NaN</td>\n      <td>NaN</td>\n      <td>NaN</td>\n      <td>NaN</td>\n      <td>NaN</td>\n      <td>NaN</td>\n      <td>NaN</td>\n      <td>NaN</td>\n      <td>...</td>\n      <td>NaN</td>\n      <td>NaN</td>\n      <td>NaN</td>\n      <td>NaN</td>\n      <td>NaN</td>\n      <td>NaN</td>\n      <td>NaN</td>\n      <td>NaN</td>\n      <td>NaN</td>\n      <td>NaN</td>\n    </tr>\n    <tr>\n      <th>2018-04-30</th>\n      <td>NaN</td>\n      <td>NaN</td>\n      <td>NaN</td>\n      <td>NaN</td>\n      <td>NaN</td>\n      <td>NaN</td>\n      <td>NaN</td>\n      <td>NaN</td>\n      <td>NaN</td>\n      <td>NaN</td>\n      <td>...</td>\n      <td>NaN</td>\n      <td>NaN</td>\n      <td>NaN</td>\n      <td>NaN</td>\n      <td>NaN</td>\n      <td>NaN</td>\n      <td>NaN</td>\n      <td>NaN</td>\n      <td>NaN</td>\n      <td>NaN</td>\n    </tr>\n    <tr>\n      <th>2018-05-31</th>\n      <td>NaN</td>\n      <td>NaN</td>\n      <td>NaN</td>\n      <td>NaN</td>\n      <td>NaN</td>\n      <td>NaN</td>\n      <td>NaN</td>\n      <td>NaN</td>\n      <td>NaN</td>\n      <td>NaN</td>\n      <td>...</td>\n      <td>NaN</td>\n      <td>NaN</td>\n      <td>NaN</td>\n      <td>NaN</td>\n      <td>NaN</td>\n      <td>NaN</td>\n      <td>NaN</td>\n      <td>NaN</td>\n      <td>NaN</td>\n      <td>NaN</td>\n    </tr>\n    <tr>\n      <th>2018-06-30</th>\n      <td>NaN</td>\n      <td>NaN</td>\n      <td>NaN</td>\n      <td>NaN</td>\n      <td>NaN</td>\n      <td>NaN</td>\n      <td>NaN</td>\n      <td>NaN</td>\n      <td>NaN</td>\n      <td>NaN</td>\n      <td>...</td>\n      <td>NaN</td>\n      <td>NaN</td>\n      <td>NaN</td>\n      <td>NaN</td>\n      <td>NaN</td>\n      <td>NaN</td>\n      <td>NaN</td>\n      <td>NaN</td>\n      <td>NaN</td>\n      <td>NaN</td>\n    </tr>\n    <tr>\n      <th>2018-07-31</th>\n      <td>NaN</td>\n      <td>NaN</td>\n      <td>NaN</td>\n      <td>NaN</td>\n      <td>NaN</td>\n      <td>NaN</td>\n      <td>NaN</td>\n      <td>NaN</td>\n      <td>NaN</td>\n      <td>NaN</td>\n      <td>...</td>\n      <td>NaN</td>\n      <td>NaN</td>\n      <td>NaN</td>\n      <td>NaN</td>\n      <td>NaN</td>\n      <td>NaN</td>\n      <td>NaN</td>\n      <td>NaN</td>\n      <td>NaN</td>\n      <td>NaN</td>\n    </tr>\n    <tr>\n      <th>2018-08-31</th>\n      <td>NaN</td>\n      <td>NaN</td>\n      <td>NaN</td>\n      <td>NaN</td>\n      <td>NaN</td>\n      <td>NaN</td>\n      <td>NaN</td>\n      <td>NaN</td>\n      <td>NaN</td>\n      <td>NaN</td>\n      <td>...</td>\n      <td>NaN</td>\n      <td>NaN</td>\n      <td>NaN</td>\n      <td>NaN</td>\n      <td>NaN</td>\n      <td>NaN</td>\n      <td>NaN</td>\n      <td>NaN</td>\n      <td>NaN</td>\n      <td>NaN</td>\n    </tr>\n    <tr>\n      <th>2018-09-30</th>\n      <td>NaN</td>\n      <td>NaN</td>\n      <td>NaN</td>\n      <td>NaN</td>\n      <td>NaN</td>\n      <td>NaN</td>\n      <td>NaN</td>\n      <td>NaN</td>\n      <td>NaN</td>\n      <td>NaN</td>\n      <td>...</td>\n      <td>NaN</td>\n      <td>NaN</td>\n      <td>NaN</td>\n      <td>NaN</td>\n      <td>NaN</td>\n      <td>NaN</td>\n      <td>NaN</td>\n      <td>NaN</td>\n      <td>NaN</td>\n      <td>NaN</td>\n    </tr>\n    <tr>\n      <th>2018-10-31</th>\n      <td>NaN</td>\n      <td>NaN</td>\n      <td>NaN</td>\n      <td>NaN</td>\n      <td>NaN</td>\n      <td>NaN</td>\n      <td>NaN</td>\n      <td>NaN</td>\n      <td>NaN</td>\n      <td>NaN</td>\n      <td>...</td>\n      <td>NaN</td>\n      <td>NaN</td>\n      <td>NaN</td>\n      <td>NaN</td>\n      <td>NaN</td>\n      <td>NaN</td>\n      <td>NaN</td>\n      <td>NaN</td>\n      <td>NaN</td>\n      <td>NaN</td>\n    </tr>\n    <tr>\n      <th>2018-11-30</th>\n      <td>NaN</td>\n      <td>NaN</td>\n      <td>NaN</td>\n      <td>NaN</td>\n      <td>NaN</td>\n      <td>NaN</td>\n      <td>NaN</td>\n      <td>NaN</td>\n      <td>NaN</td>\n      <td>NaN</td>\n      <td>...</td>\n      <td>NaN</td>\n      <td>NaN</td>\n      <td>NaN</td>\n      <td>NaN</td>\n      <td>NaN</td>\n      <td>NaN</td>\n      <td>NaN</td>\n      <td>NaN</td>\n      <td>NaN</td>\n      <td>NaN</td>\n    </tr>\n    <tr>\n      <th>2018-12-31</th>\n      <td>NaN</td>\n      <td>NaN</td>\n      <td>NaN</td>\n      <td>NaN</td>\n      <td>NaN</td>\n      <td>NaN</td>\n      <td>NaN</td>\n      <td>NaN</td>\n      <td>NaN</td>\n      <td>NaN</td>\n      <td>...</td>\n      <td>NaN</td>\n      <td>NaN</td>\n      <td>NaN</td>\n      <td>NaN</td>\n      <td>NaN</td>\n      <td>NaN</td>\n      <td>NaN</td>\n      <td>NaN</td>\n      <td>NaN</td>\n      <td>NaN</td>\n    </tr>\n    <tr>\n      <th>2019-01-31</th>\n      <td>1.996324</td>\n      <td>3.792453</td>\n      <td>1.658748</td>\n      <td>1.109007</td>\n      <td>2.395148</td>\n      <td>0.359449</td>\n      <td>2.750047</td>\n      <td>2.052918</td>\n      <td>2.727255</td>\n      <td>5.863496</td>\n      <td>...</td>\n      <td>9.367385</td>\n      <td>3.563133</td>\n      <td>3.502100</td>\n      <td>8.005064</td>\n      <td>4.973443</td>\n      <td>8.687841</td>\n      <td>28.839642</td>\n      <td>NaN</td>\n      <td>NaN</td>\n      <td>NaN</td>\n    </tr>\n    <tr>\n      <th>2019-02-28</th>\n      <td>1.987970</td>\n      <td>3.763267</td>\n      <td>1.648953</td>\n      <td>1.089940</td>\n      <td>2.374032</td>\n      <td>0.344821</td>\n      <td>2.729295</td>\n      <td>2.043616</td>\n      <td>2.717308</td>\n      <td>5.855332</td>\n      <td>...</td>\n      <td>6.839746</td>\n      <td>0.763818</td>\n      <td>1.562786</td>\n      <td>5.254018</td>\n      <td>3.740231</td>\n      <td>7.369161</td>\n      <td>27.757385</td>\n      <td>NaN</td>\n      <td>NaN</td>\n      <td>NaN</td>\n    </tr>\n    <tr>\n      <th>2019-03-31</th>\n      <td>1.324622</td>\n      <td>4.740080</td>\n      <td>0.481155</td>\n      <td>-0.456845</td>\n      <td>2.220473</td>\n      <td>-0.111282</td>\n      <td>2.656365</td>\n      <td>2.619238</td>\n      <td>2.926874</td>\n      <td>5.854252</td>\n      <td>...</td>\n      <td>5.100896</td>\n      <td>0.313201</td>\n      <td>0.938592</td>\n      <td>4.991454</td>\n      <td>4.144590</td>\n      <td>7.448103</td>\n      <td>28.298068</td>\n      <td>-0.588438</td>\n      <td>NaN</td>\n      <td>NaN</td>\n    </tr>\n    <tr>\n      <th>2019-04-30</th>\n      <td>-0.893936</td>\n      <td>-0.900756</td>\n      <td>-3.218200</td>\n      <td>-3.768138</td>\n      <td>0.259895</td>\n      <td>-3.101374</td>\n      <td>-0.184458</td>\n      <td>-1.387463</td>\n      <td>0.432035</td>\n      <td>2.465054</td>\n      <td>...</td>\n      <td>-9.421896</td>\n      <td>-8.530278</td>\n      <td>-10.716835</td>\n      <td>-5.005258</td>\n      <td>-8.502670</td>\n      <td>-3.947531</td>\n      <td>5.214619</td>\n      <td>-1.208998</td>\n      <td>2.971391</td>\n      <td>4.030766</td>\n    </tr>\n    <tr>\n      <th>2019-05-31</th>\n      <td>-2.244974</td>\n      <td>-2.929149</td>\n      <td>-4.309853</td>\n      <td>-5.081407</td>\n      <td>-1.192073</td>\n      <td>-4.338849</td>\n      <td>-1.390842</td>\n      <td>-2.799622</td>\n      <td>-0.996898</td>\n      <td>1.693284</td>\n      <td>...</td>\n      <td>-5.607467</td>\n      <td>-4.705660</td>\n      <td>-6.772574</td>\n      <td>-2.118267</td>\n      <td>-6.507953</td>\n      <td>-0.341296</td>\n      <td>7.311030</td>\n      <td>-1.417258</td>\n      <td>3.364438</td>\n      <td>7.232322</td>\n    </tr>\n    <tr>\n      <th>2019-06-30</th>\n      <td>-4.066958</td>\n      <td>-6.587685</td>\n      <td>-5.390192</td>\n      <td>-7.071584</td>\n      <td>-3.882074</td>\n      <td>-6.683045</td>\n      <td>-3.834457</td>\n      <td>-4.224412</td>\n      <td>-2.852720</td>\n      <td>-0.301697</td>\n      <td>...</td>\n      <td>3.581098</td>\n      <td>3.191390</td>\n      <td>0.705867</td>\n      <td>9.288111</td>\n      <td>0.087977</td>\n      <td>3.933885</td>\n      <td>10.885965</td>\n      <td>-1.412271</td>\n      <td>12.243393</td>\n      <td>10.135283</td>\n    </tr>\n    <tr>\n      <th>2019-07-31</th>\n      <td>-3.236538</td>\n      <td>-5.868443</td>\n      <td>-4.805774</td>\n      <td>-6.279376</td>\n      <td>-3.284676</td>\n      <td>-6.338968</td>\n      <td>-3.162864</td>\n      <td>-4.742956</td>\n      <td>-1.976200</td>\n      <td>-0.338792</td>\n      <td>...</td>\n      <td>3.563454</td>\n      <td>4.101363</td>\n      <td>-0.318500</td>\n      <td>10.002941</td>\n      <td>1.165732</td>\n      <td>4.217010</td>\n      <td>12.461689</td>\n      <td>-1.391386</td>\n      <td>10.457034</td>\n      <td>7.541430</td>\n    </tr>\n    <tr>\n      <th>2019-08-31</th>\n      <td>-3.413413</td>\n      <td>-6.246148</td>\n      <td>-5.132238</td>\n      <td>-6.789134</td>\n      <td>-3.847035</td>\n      <td>-6.744052</td>\n      <td>-3.621737</td>\n      <td>-5.107749</td>\n      <td>-2.129595</td>\n      <td>-0.625590</td>\n      <td>...</td>\n      <td>0.919224</td>\n      <td>2.564134</td>\n      <td>-1.838438</td>\n      <td>7.954556</td>\n      <td>-0.396679</td>\n      <td>4.571830</td>\n      <td>12.142927</td>\n      <td>-1.425824</td>\n      <td>9.461525</td>\n      <td>8.113417</td>\n    </tr>\n    <tr>\n      <th>2019-09-30</th>\n      <td>-2.440600</td>\n      <td>-5.805727</td>\n      <td>-4.879155</td>\n      <td>-6.112617</td>\n      <td>-3.392349</td>\n      <td>-6.507568</td>\n      <td>-2.877199</td>\n      <td>-4.868955</td>\n      <td>-1.748571</td>\n      <td>-2.869274</td>\n      <td>...</td>\n      <td>-1.255274</td>\n      <td>-2.614672</td>\n      <td>0.134401</td>\n      <td>3.262322</td>\n      <td>-4.262806</td>\n      <td>0.608952</td>\n      <td>0.166557</td>\n      <td>-1.731473</td>\n      <td>2.622860</td>\n      <td>5.343885</td>\n    </tr>\n    <tr>\n      <th>2019-10-31</th>\n      <td>-2.422563</td>\n      <td>-5.798201</td>\n      <td>-4.787646</td>\n      <td>-5.902038</td>\n      <td>-3.226563</td>\n      <td>-6.368157</td>\n      <td>-3.293952</td>\n      <td>-5.283807</td>\n      <td>-1.769386</td>\n      <td>-2.985322</td>\n      <td>...</td>\n      <td>-0.598936</td>\n      <td>-2.762109</td>\n      <td>1.323665</td>\n      <td>1.874967</td>\n      <td>-5.662441</td>\n      <td>0.267968</td>\n      <td>0.581178</td>\n      <td>-1.736283</td>\n      <td>-0.178695</td>\n      <td>5.298146</td>\n    </tr>\n    <tr>\n      <th>2019-11-30</th>\n      <td>-1.807737</td>\n      <td>-5.109708</td>\n      <td>-3.870582</td>\n      <td>-5.002074</td>\n      <td>-2.888860</td>\n      <td>-5.633700</td>\n      <td>-2.394871</td>\n      <td>-5.030070</td>\n      <td>-0.711554</td>\n      <td>-2.987930</td>\n      <td>...</td>\n      <td>-0.686671</td>\n      <td>-2.413290</td>\n      <td>1.317274</td>\n      <td>1.829612</td>\n      <td>-4.839575</td>\n      <td>0.591945</td>\n      <td>0.749034</td>\n      <td>-1.754845</td>\n      <td>-0.176487</td>\n      <td>5.039558</td>\n    </tr>\n    <tr>\n      <th>2019-12-31</th>\n      <td>-4.787444</td>\n      <td>-10.825841</td>\n      <td>-6.141168</td>\n      <td>-6.816665</td>\n      <td>-5.244183</td>\n      <td>-8.059729</td>\n      <td>-3.086882</td>\n      <td>-3.759040</td>\n      <td>-4.426564</td>\n      <td>-5.165264</td>\n      <td>...</td>\n      <td>-4.505524</td>\n      <td>-6.938017</td>\n      <td>-3.715082</td>\n      <td>0.395592</td>\n      <td>-3.389694</td>\n      <td>-6.408370</td>\n      <td>-3.467865</td>\n      <td>-1.250146</td>\n      <td>-3.219237</td>\n      <td>-1.544666</td>\n    </tr>\n    <tr>\n      <th>2020-01-31</th>\n      <td>-3.809982</td>\n      <td>-8.787124</td>\n      <td>-2.440781</td>\n      <td>-4.730808</td>\n      <td>-3.232148</td>\n      <td>-5.575034</td>\n      <td>-0.979164</td>\n      <td>-3.093714</td>\n      <td>-3.173527</td>\n      <td>-4.074166</td>\n      <td>...</td>\n      <td>-5.306871</td>\n      <td>-7.955481</td>\n      <td>-5.019316</td>\n      <td>-0.213468</td>\n      <td>-4.446201</td>\n      <td>-7.127857</td>\n      <td>-4.093809</td>\n      <td>-1.236782</td>\n      <td>-3.619876</td>\n      <td>-2.044938</td>\n    </tr>\n    <tr>\n      <th>2020-02-29</th>\n      <td>-0.376062</td>\n      <td>-1.256458</td>\n      <td>3.231000</td>\n      <td>-2.602516</td>\n      <td>0.579663</td>\n      <td>-0.252037</td>\n      <td>0.615378</td>\n      <td>-0.171070</td>\n      <td>0.255098</td>\n      <td>-1.488396</td>\n      <td>...</td>\n      <td>-0.960263</td>\n      <td>-0.169682</td>\n      <td>5.849425</td>\n      <td>3.040403</td>\n      <td>1.516741</td>\n      <td>-0.127717</td>\n      <td>1.184048</td>\n      <td>-1.351396</td>\n      <td>4.170040</td>\n      <td>1.329429</td>\n    </tr>\n    <tr>\n      <th>2020-03-31</th>\n      <td>-0.073300</td>\n      <td>-1.088854</td>\n      <td>3.843501</td>\n      <td>-2.394762</td>\n      <td>0.653146</td>\n      <td>0.146422</td>\n      <td>0.760883</td>\n      <td>0.040392</td>\n      <td>0.444321</td>\n      <td>-1.315716</td>\n      <td>...</td>\n      <td>-6.320335</td>\n      <td>-5.618380</td>\n      <td>-3.404951</td>\n      <td>-1.683082</td>\n      <td>-2.615069</td>\n      <td>-5.868520</td>\n      <td>-2.703871</td>\n      <td>-0.772481</td>\n      <td>-1.475087</td>\n      <td>-3.171562</td>\n    </tr>\n    <tr>\n      <th>2020-04-30</th>\n      <td>0.410011</td>\n      <td>0.466520</td>\n      <td>4.511598</td>\n      <td>-1.405284</td>\n      <td>1.550914</td>\n      <td>0.914630</td>\n      <td>0.377603</td>\n      <td>0.302391</td>\n      <td>1.347991</td>\n      <td>-0.873636</td>\n      <td>...</td>\n      <td>-4.477648</td>\n      <td>-1.977761</td>\n      <td>-4.397297</td>\n      <td>-3.206183</td>\n      <td>-2.391333</td>\n      <td>-4.079249</td>\n      <td>-2.248402</td>\n      <td>-0.560111</td>\n      <td>-3.956547</td>\n      <td>-1.681268</td>\n    </tr>\n    <tr>\n      <th>2020-05-31</th>\n      <td>2.044893</td>\n      <td>2.461683</td>\n      <td>6.449055</td>\n      <td>0.438420</td>\n      <td>3.174807</td>\n      <td>2.486134</td>\n      <td>1.617283</td>\n      <td>1.679965</td>\n      <td>2.903524</td>\n      <td>0.352538</td>\n      <td>...</td>\n      <td>-10.907440</td>\n      <td>-10.111587</td>\n      <td>-16.495451</td>\n      <td>-8.308538</td>\n      <td>-7.590942</td>\n      <td>-11.428518</td>\n      <td>-6.788875</td>\n      <td>-0.047490</td>\n      <td>-10.801141</td>\n      <td>-5.730027</td>\n    </tr>\n    <tr>\n      <th>2020-06-30</th>\n      <td>1.797008</td>\n      <td>3.224874</td>\n      <td>7.211573</td>\n      <td>0.499451</td>\n      <td>3.207679</td>\n      <td>3.248583</td>\n      <td>1.365038</td>\n      <td>1.905751</td>\n      <td>3.253436</td>\n      <td>0.567894</td>\n      <td>...</td>\n      <td>-9.720236</td>\n      <td>-7.143189</td>\n      <td>-10.090770</td>\n      <td>-8.491465</td>\n      <td>-5.107672</td>\n      <td>-7.846564</td>\n      <td>-6.049385</td>\n      <td>0.026314</td>\n      <td>-9.266609</td>\n      <td>-5.024603</td>\n    </tr>\n    <tr>\n      <th>2020-07-31</th>\n      <td>2.306913</td>\n      <td>3.830785</td>\n      <td>6.335069</td>\n      <td>2.527676</td>\n      <td>4.222557</td>\n      <td>3.723973</td>\n      <td>2.323057</td>\n      <td>2.560097</td>\n      <td>3.800869</td>\n      <td>2.295356</td>\n      <td>...</td>\n      <td>-9.564676</td>\n      <td>-7.556217</td>\n      <td>-11.287514</td>\n      <td>-9.020388</td>\n      <td>-5.861674</td>\n      <td>-8.198657</td>\n      <td>-5.768245</td>\n      <td>0.063541</td>\n      <td>-8.771339</td>\n      <td>-5.121916</td>\n    </tr>\n    <tr>\n      <th>2020-08-31</th>\n      <td>2.692300</td>\n      <td>3.650923</td>\n      <td>6.821811</td>\n      <td>2.395540</td>\n      <td>3.773583</td>\n      <td>3.712527</td>\n      <td>1.369477</td>\n      <td>1.752954</td>\n      <td>3.644923</td>\n      <td>2.252061</td>\n      <td>...</td>\n      <td>-9.643846</td>\n      <td>-9.241440</td>\n      <td>-10.791555</td>\n      <td>-13.446649</td>\n      <td>-9.459461</td>\n      <td>-8.596905</td>\n      <td>-5.525697</td>\n      <td>0.100555</td>\n      <td>-10.162975</td>\n      <td>-3.158383</td>\n    </tr>\n    <tr>\n      <th>2020-09-30</th>\n      <td>2.654917</td>\n      <td>3.940622</td>\n      <td>7.651038</td>\n      <td>2.927896</td>\n      <td>4.208411</td>\n      <td>5.253297</td>\n      <td>0.918778</td>\n      <td>1.561337</td>\n      <td>3.407664</td>\n      <td>2.126377</td>\n      <td>...</td>\n      <td>-8.627632</td>\n      <td>-8.411380</td>\n      <td>-11.290931</td>\n      <td>-12.162046</td>\n      <td>-8.670989</td>\n      <td>-9.806107</td>\n      <td>-4.876463</td>\n      <td>0.161711</td>\n      <td>-9.369665</td>\n      <td>-3.205864</td>\n    </tr>\n    <tr>\n      <th>2020-10-31</th>\n      <td>1.256584</td>\n      <td>2.933683</td>\n      <td>5.672044</td>\n      <td>2.098512</td>\n      <td>2.255442</td>\n      <td>3.682354</td>\n      <td>1.382625</td>\n      <td>1.089253</td>\n      <td>2.034847</td>\n      <td>1.476010</td>\n      <td>...</td>\n      <td>-8.575380</td>\n      <td>-7.877792</td>\n      <td>-10.882902</td>\n      <td>-11.918274</td>\n      <td>-8.158592</td>\n      <td>-9.529682</td>\n      <td>-4.526010</td>\n      <td>0.169140</td>\n      <td>-9.183635</td>\n      <td>-2.831495</td>\n    </tr>\n    <tr>\n      <th>2020-11-30</th>\n      <td>2.655376</td>\n      <td>4.398183</td>\n      <td>7.421201</td>\n      <td>4.457890</td>\n      <td>4.663550</td>\n      <td>5.838162</td>\n      <td>3.692661</td>\n      <td>3.196722</td>\n      <td>2.802874</td>\n      <td>6.567999</td>\n      <td>...</td>\n      <td>-6.634328</td>\n      <td>-6.062556</td>\n      <td>-10.194700</td>\n      <td>-8.057852</td>\n      <td>-5.627371</td>\n      <td>-10.489593</td>\n      <td>3.253629</td>\n      <td>0.230572</td>\n      <td>-9.040492</td>\n      <td>2.203369</td>\n    </tr>\n    <tr>\n      <th>2020-12-31</th>\n      <td>2.553537</td>\n      <td>4.228245</td>\n      <td>7.482934</td>\n      <td>4.172963</td>\n      <td>4.473938</td>\n      <td>5.590541</td>\n      <td>3.576784</td>\n      <td>2.972016</td>\n      <td>2.628710</td>\n      <td>5.927504</td>\n      <td>...</td>\n      <td>-4.393611</td>\n      <td>-3.214298</td>\n      <td>-9.319059</td>\n      <td>-8.031773</td>\n      <td>-4.643414</td>\n      <td>-7.783140</td>\n      <td>2.591029</td>\n      <td>0.270725</td>\n      <td>-8.235154</td>\n      <td>1.844553</td>\n    </tr>\n    <tr>\n      <th>2021-01-31</th>\n      <td>2.252791</td>\n      <td>2.291093</td>\n      <td>2.554579</td>\n      <td>2.357227</td>\n      <td>3.625125</td>\n      <td>2.489310</td>\n      <td>0.881058</td>\n      <td>1.159219</td>\n      <td>1.518967</td>\n      <td>4.521483</td>\n      <td>...</td>\n      <td>5.444474</td>\n      <td>-0.821027</td>\n      <td>5.046589</td>\n      <td>6.435875</td>\n      <td>3.667428</td>\n      <td>-3.385432</td>\n      <td>11.412323</td>\n      <td>0.132488</td>\n      <td>14.400798</td>\n      <td>13.419754</td>\n    </tr>\n    <tr>\n      <th>2021-02-28</th>\n      <td>2.120710</td>\n      <td>2.556509</td>\n      <td>2.290743</td>\n      <td>3.325771</td>\n      <td>3.686416</td>\n      <td>1.568116</td>\n      <td>1.079543</td>\n      <td>1.223543</td>\n      <td>1.211739</td>\n      <td>5.505330</td>\n      <td>...</td>\n      <td>10.824813</td>\n      <td>-0.442440</td>\n      <td>-3.271423</td>\n      <td>6.190878</td>\n      <td>3.288885</td>\n      <td>-5.350207</td>\n      <td>17.160025</td>\n      <td>0.092281</td>\n      <td>15.418245</td>\n      <td>16.367358</td>\n    </tr>\n    <tr>\n      <th>2021-03-31</th>\n      <td>2.366919</td>\n      <td>2.963620</td>\n      <td>2.716017</td>\n      <td>3.518614</td>\n      <td>3.998869</td>\n      <td>3.762398</td>\n      <td>1.939411</td>\n      <td>1.630973</td>\n      <td>1.475090</td>\n      <td>6.110674</td>\n      <td>...</td>\n      <td>8.819069</td>\n      <td>-0.451765</td>\n      <td>-9.352946</td>\n      <td>1.866458</td>\n      <td>2.692421</td>\n      <td>-6.691158</td>\n      <td>15.691103</td>\n      <td>-0.012011</td>\n      <td>10.724253</td>\n      <td>10.365304</td>\n    </tr>\n    <tr>\n      <th>2021-04-30</th>\n      <td>2.025434</td>\n      <td>2.946777</td>\n      <td>3.963909</td>\n      <td>3.679461</td>\n      <td>4.591228</td>\n      <td>4.035214</td>\n      <td>3.239287</td>\n      <td>2.232070</td>\n      <td>1.208744</td>\n      <td>9.049488</td>\n      <td>...</td>\n      <td>7.201387</td>\n      <td>-1.077496</td>\n      <td>-8.703248</td>\n      <td>-1.097763</td>\n      <td>1.920825</td>\n      <td>-7.507148</td>\n      <td>7.995296</td>\n      <td>0.013456</td>\n      <td>5.005928</td>\n      <td>8.367370</td>\n    </tr>\n  </tbody>\n</table>\n<p>39 rows × 65 columns</p>\n</div>"
     },
     "execution_count": 35,
     "metadata": {},
     "output_type": "execute_result"
    }
   ],
   "source": [
    "betas.unstack('ticker')"
   ],
   "metadata": {
    "collapsed": false,
    "pycharm": {
     "name": "#%%\n"
    }
   }
  },
  {
   "cell_type": "code",
   "execution_count": 36,
   "metadata": {
    "ExecuteTime": {
     "end_time": "2021-02-23T05:20:15.371589Z",
     "start_time": "2021-02-23T05:20:14.957639Z"
    }
   },
   "outputs": [
    {
     "data": {
      "text/plain": "<Figure size 720x720 with 4 Axes>",
      "image/png": "[encoded data removed]"
     },
     "metadata": {},
     "output_type": "display_data"
    }
   ],
   "source": [
    "cmap = sns.diverging_palette(10, 220, as_cmap=True)\n",
    "sns.clustermap(betas.corr(), annot=True, cmap=cmap, center=0);"
   ]
  },
  {
   "cell_type": "code",
   "execution_count": 37,
   "metadata": {
    "ExecuteTime": {
     "end_time": "2021-02-23T05:20:15.484907Z",
     "start_time": "2021-02-23T05:20:15.373158Z"
    },
    "scrolled": true
   },
   "outputs": [
    {
     "name": "stdout",
     "output_type": "stream",
     "text": [
      "<class 'pandas.core.frame.DataFrame'>\n",
      "MultiIndex: 512 entries, (Timestamp('2018-02-28 00:00:00', freq='M'), 'btc-usd') to (Timestamp('2021-05-31 00:00:00', freq='M'), 'xlm-usd')\n",
      "Data columns (total 11 columns):\n",
      " #   Column      Non-Null Count  Dtype  \n",
      "---  ------      --------------  -----  \n",
      " 0   return_1M   499 non-null    float64\n",
      " 1   return_2M   486 non-null    float64\n",
      " 2   return_3M   473 non-null    float64\n",
      " 3   return_6M   434 non-null    float64\n",
      " 4   return_9M   395 non-null    float64\n",
      " 5   return_12M  356 non-null    float64\n",
      " 6   Mkt-RF      343 non-null    float64\n",
      " 7   SMB         343 non-null    float64\n",
      " 8   HML         343 non-null    float64\n",
      " 9   RMW         343 non-null    float64\n",
      " 10  CMA         343 non-null    float64\n",
      "dtypes: float64(11)\n",
      "memory usage: 64.0+ KB\n"
     ]
    }
   ],
   "source": [
    "data = (data\n",
    "        .join(betas\n",
    "              .groupby(level='ticker')\n",
    "              .shift()))\n",
    "data.info()"
   ]
  },
  {
   "cell_type": "markdown",
   "metadata": {},
   "source": [
    "### Impute mean for missing factor betas"
   ]
  },
  {
   "cell_type": "code",
   "execution_count": 38,
   "metadata": {
    "ExecuteTime": {
     "end_time": "2021-02-23T05:20:17.844522Z",
     "start_time": "2021-02-23T05:20:15.486168Z"
    }
   },
   "outputs": [
    {
     "name": "stdout",
     "output_type": "stream",
     "text": [
      "<class 'pandas.core.frame.DataFrame'>\n",
      "MultiIndex: 512 entries, (Timestamp('2018-02-28 00:00:00', freq='M'), 'btc-usd') to (Timestamp('2021-05-31 00:00:00', freq='M'), 'xlm-usd')\n",
      "Data columns (total 11 columns):\n",
      " #   Column      Non-Null Count  Dtype  \n",
      "---  ------      --------------  -----  \n",
      " 0   return_1M   499 non-null    float64\n",
      " 1   return_2M   486 non-null    float64\n",
      " 2   return_3M   473 non-null    float64\n",
      " 3   return_6M   434 non-null    float64\n",
      " 4   return_9M   395 non-null    float64\n",
      " 5   return_12M  356 non-null    float64\n",
      " 6   Mkt-RF      512 non-null    float64\n",
      " 7   SMB         512 non-null    float64\n",
      " 8   HML         512 non-null    float64\n",
      " 9   RMW         512 non-null    float64\n",
      " 10  CMA         512 non-null    float64\n",
      "dtypes: float64(11)\n",
      "memory usage: 64.0+ KB\n"
     ]
    }
   ],
   "source": [
    "data.loc[:, factors] = data.groupby('ticker')[factors].apply(lambda x: x.fillna(x.mean()))\n",
    "data.info()"
   ]
  },
  {
   "cell_type": "markdown",
   "metadata": {},
   "source": [
    "## Momentum factors"
   ]
  },
  {
   "cell_type": "markdown",
   "metadata": {},
   "source": [
    "We can use these results to compute momentum factors based on the difference between returns over longer periods and the most recent monthly return, as well as for the difference between 3 and 12 month returns as follows:"
   ]
  },
  {
   "cell_type": "code",
   "execution_count": 39,
   "metadata": {
    "ExecuteTime": {
     "end_time": "2021-02-23T05:20:17.855707Z",
     "start_time": "2021-02-23T05:20:17.845556Z"
    }
   },
   "outputs": [],
   "source": [
    "for lag in [2,3,6,9,12]:\n",
    "    data[f'momentum_{lag}'] = data[f'return_{lag}{timeframe}'].sub(data[f'return_1{timeframe}'])\n",
    "data[f'momentum_3_12'] = data[f'return_12{timeframe}'].sub(data[f'return_3{timeframe}'])"
   ]
  },
  {
   "cell_type": "markdown",
   "metadata": {},
   "source": [
    "## Date Indicators"
   ]
  },
  {
   "cell_type": "code",
   "execution_count": 40,
   "metadata": {
    "ExecuteTime": {
     "end_time": "2021-02-23T05:20:17.904053Z",
     "start_time": "2021-02-23T05:20:17.857056Z"
    }
   },
   "outputs": [],
   "source": [
    "dates = data.index.get_level_values('date')\n",
    "data['year'] = dates.year\n",
    "data['month'] = dates.month"
   ]
  },
  {
   "cell_type": "markdown",
   "metadata": {},
   "source": [
    "## Lagged returns"
   ]
  },
  {
   "cell_type": "markdown",
   "metadata": {},
   "source": [
    "To use lagged values as input variables or features associated with the current observations, we use the .shift() method to move historical returns up to the current period:"
   ]
  },
  {
   "cell_type": "code",
   "execution_count": 41,
   "metadata": {
    "ExecuteTime": {
     "end_time": "2021-02-23T05:20:18.064961Z",
     "start_time": "2021-02-23T05:20:17.906033Z"
    }
   },
   "outputs": [
    {
     "name": "stdout",
     "output_type": "stream",
     "text": [
      "<class 'pandas.core.frame.DataFrame'>\n",
      "MultiIndex: 512 entries, (Timestamp('2018-02-28 00:00:00', freq='M'), 'btc-usd') to (Timestamp('2021-05-31 00:00:00', freq='M'), 'xlm-usd')\n",
      "Data columns (total 25 columns):\n",
      " #   Column         Non-Null Count  Dtype  \n",
      "---  ------         --------------  -----  \n",
      " 0   return_1M      499 non-null    float64\n",
      " 1   return_2M      486 non-null    float64\n",
      " 2   return_3M      473 non-null    float64\n",
      " 3   return_6M      434 non-null    float64\n",
      " 4   return_9M      395 non-null    float64\n",
      " 5   return_12M     356 non-null    float64\n",
      " 6   Mkt-RF         512 non-null    float64\n",
      " 7   SMB            512 non-null    float64\n",
      " 8   HML            512 non-null    float64\n",
      " 9   RMW            512 non-null    float64\n",
      " 10  CMA            512 non-null    float64\n",
      " 11  momentum_2     486 non-null    float64\n",
      " 12  momentum_3     473 non-null    float64\n",
      " 13  momentum_6     434 non-null    float64\n",
      " 14  momentum_9     395 non-null    float64\n",
      " 15  momentum_12    356 non-null    float64\n",
      " 16  momentum_3_12  356 non-null    float64\n",
      " 17  year           512 non-null    int64  \n",
      " 18  month          512 non-null    int64  \n",
      " 19  return_1M_t-1  486 non-null    float64\n",
      " 20  return_1M_t-2  473 non-null    float64\n",
      " 21  return_1M_t-3  460 non-null    float64\n",
      " 22  return_1M_t-4  447 non-null    float64\n",
      " 23  return_1M_t-5  434 non-null    float64\n",
      " 24  return_1M_t-6  421 non-null    float64\n",
      "dtypes: float64(23), int64(2)\n",
      "memory usage: 120.0+ KB\n"
     ]
    }
   ],
   "source": [
    "for t in range(1, 7):\n",
    "    data[f'return_1{timeframe}_t-{t}'] = data.groupby(level='ticker')[f'return_1{timeframe}'].shift(t)\n",
    "data.info()"
   ]
  },
  {
   "cell_type": "markdown",
   "metadata": {},
   "source": [
    "## Target: Holding Period Returns"
   ]
  },
  {
   "cell_type": "markdown",
   "metadata": {},
   "source": [
    "Similarly, to compute returns for various holding periods, we use the normalized period returns computed previously and shift them back to align them with the current financial features"
   ]
  },
  {
   "cell_type": "code",
   "execution_count": 42,
   "metadata": {
    "ExecuteTime": {
     "end_time": "2021-02-23T05:20:18.219242Z",
     "start_time": "2021-02-23T05:20:18.066139Z"
    }
   },
   "outputs": [],
   "source": [
    "for t in [1,2,3,6,12]:\n",
    "    data[f'target_{t}{timeframe}'] = data.groupby(level='ticker')[f'return_{t}{timeframe}'].shift(-t)"
   ]
  },
  {
   "cell_type": "code",
   "execution_count": 43,
   "metadata": {
    "ExecuteTime": {
     "end_time": "2021-02-23T05:20:18.309814Z",
     "start_time": "2021-02-23T05:20:18.220171Z"
    }
   },
   "outputs": [
    {
     "data": {
      "text/plain": "(['return_1M',\n  'return_2M',\n  'return_3M',\n  'return_6M',\n  'return_9M',\n  'return_12M',\n  'Mkt-RF',\n  'SMB',\n  'HML',\n  'RMW',\n  'CMA',\n  'momentum_2',\n  'momentum_3',\n  'momentum_6',\n  'momentum_9',\n  'momentum_12',\n  'momentum_3_12',\n  'year',\n  'month',\n  'return_1M_t-1',\n  'return_1M_t-2',\n  'return_1M_t-3',\n  'return_1M_t-4',\n  'return_1M_t-5',\n  'return_1M_t-6',\n  'target_1M',\n  'target_2M',\n  'target_3M',\n  'target_6M',\n  'target_12M'],\n 'M')"
     },
     "execution_count": 43,
     "metadata": {},
     "output_type": "execute_result"
    }
   ],
   "source": [
    "data.columns.values.tolist(), timeframe"
   ]
  },
  {
   "cell_type": "code",
   "execution_count": 44,
   "outputs": [
    {
     "data": {
      "text/plain": "                      target_1M  target_2M  target_3M  return_1M  return_2M  \\\ndate       ticker                                                             \n2018-06-30 btc-usd     0.214839   0.047990   0.012094  -0.144742  -0.168743   \n           eos-usd    -0.092619  -0.110367  -0.110029  -0.335248  -0.317628   \n           etc-usd     0.000000  -0.113383  -0.111942   0.061517  -0.131620   \n           eth-usd    -0.043006  -0.211099  -0.198874  -0.212125  -0.176991   \n           ltc-usd    -0.025458  -0.126290  -0.089751  -0.311688  -0.260110   \n           miota-usd  -0.060959  -0.162761  -0.174367  -0.419366  -0.279588   \n           neo-usd    -0.030319  -0.191981  -0.149283  -0.419781  -0.329983   \n           trx-usd    -0.115707  -0.185075  -0.165495  -0.364478  -0.329983   \n           xmr-usd    -0.062977  -0.060169  -0.040415  -0.158746  -0.262821   \n           xrp-usd    -0.065921  -0.152106   0.077108  -0.235940  -0.250173   \n\n                      return_3M  return_1M_t-1  return_1M_t-2  return_1M_t-3  \ndate       ticker                                                             \n2018-06-30 btc-usd    -0.026818      -0.192070       0.333863      -0.329887  \n           eos-usd     0.109995      -0.299540       1.613364      -0.278188  \n           etc-usd     0.042744      -0.289617       0.503534      -0.490099  \n           eth-usd     0.047457      -0.140289       0.696678      -0.490099  \n           ltc-usd    -0.112628      -0.204668       0.276391      -0.426978  \n           miota-usd  -0.019217      -0.106160       0.817842      -0.417292  \n           neo-usd    -0.149206      -0.367969       0.679355      -0.490099  \n           trx-usd     0.039926      -0.354548       1.613364      -0.214830  \n           xmr-usd    -0.098563      -0.354020       0.347909      -0.371676  \n           xrp-usd    -0.023534      -0.264140       0.655958      -0.433291  ",
      "text/html": "<div>\n<style scoped>\n    .dataframe tbody tr th:only-of-type {\n        vertical-align: middle;\n    }\n\n    .dataframe tbody tr th {\n        vertical-align: top;\n    }\n\n    .dataframe thead th {\n        text-align: right;\n    }\n</style>\n<table border=\"1\" class=\"dataframe\">\n  <thead>\n    <tr style=\"text-align: right;\">\n      <th></th>\n      <th></th>\n      <th>target_1M</th>\n      <th>target_2M</th>\n      <th>target_3M</th>\n      <th>return_1M</th>\n      <th>return_2M</th>\n      <th>return_3M</th>\n      <th>return_1M_t-1</th>\n      <th>return_1M_t-2</th>\n      <th>return_1M_t-3</th>\n    </tr>\n    <tr>\n      <th>date</th>\n      <th>ticker</th>\n      <th></th>\n      <th></th>\n      <th></th>\n      <th></th>\n      <th></th>\n      <th></th>\n      <th></th>\n      <th></th>\n      <th></th>\n    </tr>\n  </thead>\n  <tbody>\n    <tr>\n      <th rowspan=\"10\" valign=\"top\">2018-06-30</th>\n      <th>btc-usd</th>\n      <td>0.214839</td>\n      <td>0.047990</td>\n      <td>0.012094</td>\n      <td>-0.144742</td>\n      <td>-0.168743</td>\n      <td>-0.026818</td>\n      <td>-0.192070</td>\n      <td>0.333863</td>\n      <td>-0.329887</td>\n    </tr>\n    <tr>\n      <th>eos-usd</th>\n      <td>-0.092619</td>\n      <td>-0.110367</td>\n      <td>-0.110029</td>\n      <td>-0.335248</td>\n      <td>-0.317628</td>\n      <td>0.109995</td>\n      <td>-0.299540</td>\n      <td>1.613364</td>\n      <td>-0.278188</td>\n    </tr>\n    <tr>\n      <th>etc-usd</th>\n      <td>0.000000</td>\n      <td>-0.113383</td>\n      <td>-0.111942</td>\n      <td>0.061517</td>\n      <td>-0.131620</td>\n      <td>0.042744</td>\n      <td>-0.289617</td>\n      <td>0.503534</td>\n      <td>-0.490099</td>\n    </tr>\n    <tr>\n      <th>eth-usd</th>\n      <td>-0.043006</td>\n      <td>-0.211099</td>\n      <td>-0.198874</td>\n      <td>-0.212125</td>\n      <td>-0.176991</td>\n      <td>0.047457</td>\n      <td>-0.140289</td>\n      <td>0.696678</td>\n      <td>-0.490099</td>\n    </tr>\n    <tr>\n      <th>ltc-usd</th>\n      <td>-0.025458</td>\n      <td>-0.126290</td>\n      <td>-0.089751</td>\n      <td>-0.311688</td>\n      <td>-0.260110</td>\n      <td>-0.112628</td>\n      <td>-0.204668</td>\n      <td>0.276391</td>\n      <td>-0.426978</td>\n    </tr>\n    <tr>\n      <th>miota-usd</th>\n      <td>-0.060959</td>\n      <td>-0.162761</td>\n      <td>-0.174367</td>\n      <td>-0.419366</td>\n      <td>-0.279588</td>\n      <td>-0.019217</td>\n      <td>-0.106160</td>\n      <td>0.817842</td>\n      <td>-0.417292</td>\n    </tr>\n    <tr>\n      <th>neo-usd</th>\n      <td>-0.030319</td>\n      <td>-0.191981</td>\n      <td>-0.149283</td>\n      <td>-0.419781</td>\n      <td>-0.329983</td>\n      <td>-0.149206</td>\n      <td>-0.367969</td>\n      <td>0.679355</td>\n      <td>-0.490099</td>\n    </tr>\n    <tr>\n      <th>trx-usd</th>\n      <td>-0.115707</td>\n      <td>-0.185075</td>\n      <td>-0.165495</td>\n      <td>-0.364478</td>\n      <td>-0.329983</td>\n      <td>0.039926</td>\n      <td>-0.354548</td>\n      <td>1.613364</td>\n      <td>-0.214830</td>\n    </tr>\n    <tr>\n      <th>xmr-usd</th>\n      <td>-0.062977</td>\n      <td>-0.060169</td>\n      <td>-0.040415</td>\n      <td>-0.158746</td>\n      <td>-0.262821</td>\n      <td>-0.098563</td>\n      <td>-0.354020</td>\n      <td>0.347909</td>\n      <td>-0.371676</td>\n    </tr>\n    <tr>\n      <th>xrp-usd</th>\n      <td>-0.065921</td>\n      <td>-0.152106</td>\n      <td>0.077108</td>\n      <td>-0.235940</td>\n      <td>-0.250173</td>\n      <td>-0.023534</td>\n      <td>-0.264140</td>\n      <td>0.655958</td>\n      <td>-0.433291</td>\n    </tr>\n  </tbody>\n</table>\n</div>"
     },
     "execution_count": 44,
     "metadata": {},
     "output_type": "execute_result"
    }
   ],
   "source": [
    "cols = [f'target_1{timeframe}',\n",
    "        f'target_2{timeframe}',\n",
    "        f'target_3{timeframe}',\n",
    "        f'return_1{timeframe}',\n",
    "        f'return_2{timeframe}',\n",
    "        f'return_3{timeframe}',\n",
    "        f'return_1{timeframe}_t-1',\n",
    "        f'return_1{timeframe}_t-2',\n",
    "        f'return_1{timeframe}_t-3']\n",
    "\n",
    "data[cols].dropna().sort_index().head(10)"
   ],
   "metadata": {
    "collapsed": false,
    "pycharm": {
     "name": "#%%\n"
    }
   }
  },
  {
   "cell_type": "code",
   "execution_count": 45,
   "metadata": {
    "ExecuteTime": {
     "end_time": "2021-02-23T05:20:18.333511Z",
     "start_time": "2021-02-23T05:20:18.310845Z"
    }
   },
   "outputs": [
    {
     "name": "stdout",
     "output_type": "stream",
     "text": [
      "<class 'pandas.core.frame.DataFrame'>\n",
      "MultiIndex: 512 entries, (Timestamp('2018-02-28 00:00:00', freq='M'), 'btc-usd') to (Timestamp('2021-05-31 00:00:00', freq='M'), 'xlm-usd')\n",
      "Data columns (total 30 columns):\n",
      " #   Column         Non-Null Count  Dtype  \n",
      "---  ------         --------------  -----  \n",
      " 0   return_1M      499 non-null    float64\n",
      " 1   return_2M      486 non-null    float64\n",
      " 2   return_3M      473 non-null    float64\n",
      " 3   return_6M      434 non-null    float64\n",
      " 4   return_9M      395 non-null    float64\n",
      " 5   return_12M     356 non-null    float64\n",
      " 6   Mkt-RF         512 non-null    float64\n",
      " 7   SMB            512 non-null    float64\n",
      " 8   HML            512 non-null    float64\n",
      " 9   RMW            512 non-null    float64\n",
      " 10  CMA            512 non-null    float64\n",
      " 11  momentum_2     486 non-null    float64\n",
      " 12  momentum_3     473 non-null    float64\n",
      " 13  momentum_6     434 non-null    float64\n",
      " 14  momentum_9     395 non-null    float64\n",
      " 15  momentum_12    356 non-null    float64\n",
      " 16  momentum_3_12  356 non-null    float64\n",
      " 17  year           512 non-null    int64  \n",
      " 18  month          512 non-null    int64  \n",
      " 19  return_1M_t-1  486 non-null    float64\n",
      " 20  return_1M_t-2  473 non-null    float64\n",
      " 21  return_1M_t-3  460 non-null    float64\n",
      " 22  return_1M_t-4  447 non-null    float64\n",
      " 23  return_1M_t-5  434 non-null    float64\n",
      " 24  return_1M_t-6  421 non-null    float64\n",
      " 25  target_1M      499 non-null    float64\n",
      " 26  target_2M      486 non-null    float64\n",
      " 27  target_3M      473 non-null    float64\n",
      " 28  target_6M      434 non-null    float64\n",
      " 29  target_12M     356 non-null    float64\n",
      "dtypes: float64(28), int64(2)\n",
      "memory usage: 140.0+ KB\n"
     ]
    }
   ],
   "source": [
    "data.info()"
   ]
  },
  {
   "cell_type": "markdown",
   "metadata": {},
   "source": [
    "## Create age proxy"
   ]
  },
  {
   "cell_type": "markdown",
   "metadata": {},
   "source": [
    "We use quintiles of IPO year as a proxy for company age."
   ]
  },
  {
   "cell_type": "code",
   "execution_count": 46,
   "metadata": {
    "ExecuteTime": {
     "end_time": "2021-02-23T05:20:18.360318Z",
     "start_time": "2021-02-23T05:20:18.334419Z"
    }
   },
   "outputs": [
    {
     "data": {
      "text/plain": "           age\nticker        \nbtc-usd      1\neos-usd      4\netc-usd      2\neth-usd      2\nltc-usd      1\nmiota-usd    0\nneo-usd      4\ntrx-usd      5\nxmr-usd      2\nxrp-usd      0\ndai-usd      0\nmkr-usd      5\nxlm-usd      0",
      "text/html": "<div>\n<style scoped>\n    .dataframe tbody tr th:only-of-type {\n        vertical-align: middle;\n    }\n\n    .dataframe tbody tr th {\n        vertical-align: top;\n    }\n\n    .dataframe thead th {\n        text-align: right;\n    }\n</style>\n<table border=\"1\" class=\"dataframe\">\n  <thead>\n    <tr style=\"text-align: right;\">\n      <th></th>\n      <th>age</th>\n    </tr>\n    <tr>\n      <th>ticker</th>\n      <th></th>\n    </tr>\n  </thead>\n  <tbody>\n    <tr>\n      <th>btc-usd</th>\n      <td>1</td>\n    </tr>\n    <tr>\n      <th>eos-usd</th>\n      <td>4</td>\n    </tr>\n    <tr>\n      <th>etc-usd</th>\n      <td>2</td>\n    </tr>\n    <tr>\n      <th>eth-usd</th>\n      <td>2</td>\n    </tr>\n    <tr>\n      <th>ltc-usd</th>\n      <td>1</td>\n    </tr>\n    <tr>\n      <th>miota-usd</th>\n      <td>0</td>\n    </tr>\n    <tr>\n      <th>neo-usd</th>\n      <td>4</td>\n    </tr>\n    <tr>\n      <th>trx-usd</th>\n      <td>5</td>\n    </tr>\n    <tr>\n      <th>xmr-usd</th>\n      <td>2</td>\n    </tr>\n    <tr>\n      <th>xrp-usd</th>\n      <td>0</td>\n    </tr>\n    <tr>\n      <th>dai-usd</th>\n      <td>0</td>\n    </tr>\n    <tr>\n      <th>mkr-usd</th>\n      <td>5</td>\n    </tr>\n    <tr>\n      <th>xlm-usd</th>\n      <td>0</td>\n    </tr>\n  </tbody>\n</table>\n</div>"
     },
     "execution_count": 46,
     "metadata": {},
     "output_type": "execute_result"
    }
   ],
   "source": [
    "age_quintiles = pd.qcut(cryptos['genesis_date'], q=5, labels=list(range(1, 6))).astype(float).fillna(0).astype(int).to_frame('age')\n",
    "age_quintiles"
   ]
  },
  {
   "cell_type": "code",
   "execution_count": 47,
   "outputs": [],
   "source": [
    "data = data.join(age_quintiles)\n",
    "# data.age = data.age.fillna(-1)"
   ],
   "metadata": {
    "collapsed": false,
    "pycharm": {
     "name": "#%%\n"
    }
   }
  },
  {
   "cell_type": "code",
   "execution_count": 48,
   "outputs": [
    {
     "data": {
      "text/plain": "ticker      btc-usd  eos-usd  etc-usd  eth-usd  ltc-usd  miota-usd  neo-usd  \\\ndate                                                                          \n2018-02-28      1.0      4.0      2.0      2.0      1.0        0.0      4.0   \n2018-03-31      1.0      4.0      2.0      2.0      1.0        0.0      4.0   \n2018-04-30      1.0      4.0      2.0      2.0      1.0        0.0      4.0   \n2018-05-31      1.0      4.0      2.0      2.0      1.0        0.0      4.0   \n2018-06-30      1.0      4.0      2.0      2.0      1.0        0.0      4.0   \n2018-07-31      1.0      4.0      2.0      2.0      1.0        0.0      4.0   \n2018-08-31      1.0      4.0      2.0      2.0      1.0        0.0      4.0   \n2018-09-30      1.0      4.0      2.0      2.0      1.0        0.0      4.0   \n2018-10-31      1.0      4.0      2.0      2.0      1.0        0.0      4.0   \n2018-11-30      1.0      4.0      2.0      2.0      1.0        0.0      4.0   \n2018-12-31      1.0      4.0      2.0      2.0      1.0        0.0      4.0   \n2019-01-31      1.0      4.0      2.0      2.0      1.0        0.0      4.0   \n2019-02-28      1.0      4.0      2.0      2.0      1.0        0.0      4.0   \n2019-03-31      1.0      4.0      2.0      2.0      1.0        0.0      4.0   \n2019-04-30      1.0      4.0      2.0      2.0      1.0        0.0      4.0   \n2019-05-31      1.0      4.0      2.0      2.0      1.0        0.0      4.0   \n2019-06-30      1.0      4.0      2.0      2.0      1.0        0.0      4.0   \n2019-07-31      1.0      4.0      2.0      2.0      1.0        0.0      4.0   \n2019-08-31      1.0      4.0      2.0      2.0      1.0        0.0      4.0   \n2019-09-30      1.0      4.0      2.0      2.0      1.0        0.0      4.0   \n2019-10-31      1.0      4.0      2.0      2.0      1.0        0.0      4.0   \n2019-11-30      1.0      4.0      2.0      2.0      1.0        0.0      4.0   \n2019-12-31      1.0      4.0      2.0      2.0      1.0        0.0      4.0   \n2020-01-31      1.0      4.0      2.0      2.0      1.0        0.0      4.0   \n2020-02-29      1.0      4.0      2.0      2.0      1.0        0.0      4.0   \n2020-03-31      1.0      4.0      2.0      2.0      1.0        0.0      4.0   \n2020-04-30      1.0      4.0      2.0      2.0      1.0        0.0      4.0   \n2020-05-31      1.0      4.0      2.0      2.0      1.0        0.0      4.0   \n2020-06-30      1.0      4.0      2.0      2.0      1.0        0.0      4.0   \n2020-07-31      1.0      4.0      2.0      2.0      1.0        0.0      4.0   \n2020-08-31      1.0      4.0      2.0      2.0      1.0        0.0      4.0   \n2020-09-30      1.0      4.0      2.0      2.0      1.0        0.0      4.0   \n2020-10-31      1.0      4.0      2.0      2.0      1.0        0.0      4.0   \n2020-11-30      1.0      4.0      2.0      2.0      1.0        0.0      4.0   \n2020-12-31      1.0      4.0      2.0      2.0      1.0        0.0      4.0   \n2021-01-31      1.0      4.0      2.0      2.0      1.0        0.0      4.0   \n2021-02-28      1.0      4.0      2.0      2.0      1.0        0.0      4.0   \n2021-03-31      1.0      4.0      2.0      2.0      1.0        0.0      4.0   \n2021-04-30      1.0      4.0      2.0      2.0      1.0        0.0      4.0   \n2021-05-31      1.0      4.0      2.0      2.0      1.0        0.0      4.0   \n\nticker      trx-usd  xmr-usd  xrp-usd  dai-usd  mkr-usd  xlm-usd  \ndate                                                              \n2018-02-28      5.0      2.0      0.0      NaN      NaN      NaN  \n2018-03-31      5.0      2.0      0.0      NaN      NaN      NaN  \n2018-04-30      5.0      2.0      0.0      0.0      NaN      NaN  \n2018-05-31      5.0      2.0      0.0      0.0      5.0      0.0  \n2018-06-30      5.0      2.0      0.0      0.0      5.0      0.0  \n2018-07-31      5.0      2.0      0.0      0.0      5.0      0.0  \n2018-08-31      5.0      2.0      0.0      0.0      5.0      0.0  \n2018-09-30      5.0      2.0      0.0      0.0      5.0      0.0  \n2018-10-31      5.0      2.0      0.0      0.0      5.0      0.0  \n2018-11-30      5.0      2.0      0.0      0.0      5.0      0.0  \n2018-12-31      5.0      2.0      0.0      0.0      5.0      0.0  \n2019-01-31      5.0      2.0      0.0      0.0      5.0      0.0  \n2019-02-28      5.0      2.0      0.0      0.0      5.0      0.0  \n2019-03-31      5.0      2.0      0.0      0.0      5.0      0.0  \n2019-04-30      5.0      2.0      0.0      0.0      5.0      0.0  \n2019-05-31      5.0      2.0      0.0      0.0      5.0      0.0  \n2019-06-30      5.0      2.0      0.0      0.0      5.0      0.0  \n2019-07-31      5.0      2.0      0.0      0.0      5.0      0.0  \n2019-08-31      5.0      2.0      0.0      0.0      5.0      0.0  \n2019-09-30      5.0      2.0      0.0      0.0      5.0      0.0  \n2019-10-31      5.0      2.0      0.0      0.0      5.0      0.0  \n2019-11-30      5.0      2.0      0.0      0.0      5.0      0.0  \n2019-12-31      5.0      2.0      0.0      0.0      5.0      0.0  \n2020-01-31      5.0      2.0      0.0      0.0      5.0      0.0  \n2020-02-29      5.0      2.0      0.0      0.0      5.0      0.0  \n2020-03-31      5.0      2.0      0.0      0.0      5.0      0.0  \n2020-04-30      5.0      2.0      0.0      0.0      5.0      0.0  \n2020-05-31      5.0      2.0      0.0      0.0      5.0      0.0  \n2020-06-30      5.0      2.0      0.0      0.0      5.0      0.0  \n2020-07-31      5.0      2.0      0.0      0.0      5.0      0.0  \n2020-08-31      5.0      2.0      0.0      0.0      5.0      0.0  \n2020-09-30      5.0      2.0      0.0      0.0      5.0      0.0  \n2020-10-31      5.0      2.0      0.0      0.0      5.0      0.0  \n2020-11-30      5.0      2.0      0.0      0.0      5.0      0.0  \n2020-12-31      5.0      2.0      0.0      0.0      5.0      0.0  \n2021-01-31      5.0      2.0      0.0      0.0      5.0      0.0  \n2021-02-28      5.0      2.0      0.0      0.0      5.0      0.0  \n2021-03-31      5.0      2.0      0.0      0.0      5.0      0.0  \n2021-04-30      5.0      2.0      0.0      0.0      5.0      0.0  \n2021-05-31      5.0      2.0      0.0      0.0      5.0      0.0  ",
      "text/html": "<div>\n<style scoped>\n    .dataframe tbody tr th:only-of-type {\n        vertical-align: middle;\n    }\n\n    .dataframe tbody tr th {\n        vertical-align: top;\n    }\n\n    .dataframe thead th {\n        text-align: right;\n    }\n</style>\n<table border=\"1\" class=\"dataframe\">\n  <thead>\n    <tr style=\"text-align: right;\">\n      <th>ticker</th>\n      <th>btc-usd</th>\n      <th>eos-usd</th>\n      <th>etc-usd</th>\n      <th>eth-usd</th>\n      <th>ltc-usd</th>\n      <th>miota-usd</th>\n      <th>neo-usd</th>\n      <th>trx-usd</th>\n      <th>xmr-usd</th>\n      <th>xrp-usd</th>\n      <th>dai-usd</th>\n      <th>mkr-usd</th>\n      <th>xlm-usd</th>\n    </tr>\n    <tr>\n      <th>date</th>\n      <th></th>\n      <th></th>\n      <th></th>\n      <th></th>\n      <th></th>\n      <th></th>\n      <th></th>\n      <th></th>\n      <th></th>\n      <th></th>\n      <th></th>\n      <th></th>\n      <th></th>\n    </tr>\n  </thead>\n  <tbody>\n    <tr>\n      <th>2018-02-28</th>\n      <td>1.0</td>\n      <td>4.0</td>\n      <td>2.0</td>\n      <td>2.0</td>\n      <td>1.0</td>\n      <td>0.0</td>\n      <td>4.0</td>\n      <td>5.0</td>\n      <td>2.0</td>\n      <td>0.0</td>\n      <td>NaN</td>\n      <td>NaN</td>\n      <td>NaN</td>\n    </tr>\n    <tr>\n      <th>2018-03-31</th>\n      <td>1.0</td>\n      <td>4.0</td>\n      <td>2.0</td>\n      <td>2.0</td>\n      <td>1.0</td>\n      <td>0.0</td>\n      <td>4.0</td>\n      <td>5.0</td>\n      <td>2.0</td>\n      <td>0.0</td>\n      <td>NaN</td>\n      <td>NaN</td>\n      <td>NaN</td>\n    </tr>\n    <tr>\n      <th>2018-04-30</th>\n      <td>1.0</td>\n      <td>4.0</td>\n      <td>2.0</td>\n      <td>2.0</td>\n      <td>1.0</td>\n      <td>0.0</td>\n      <td>4.0</td>\n      <td>5.0</td>\n      <td>2.0</td>\n      <td>0.0</td>\n      <td>0.0</td>\n      <td>NaN</td>\n      <td>NaN</td>\n    </tr>\n    <tr>\n      <th>2018-05-31</th>\n      <td>1.0</td>\n      <td>4.0</td>\n      <td>2.0</td>\n      <td>2.0</td>\n      <td>1.0</td>\n      <td>0.0</td>\n      <td>4.0</td>\n      <td>5.0</td>\n      <td>2.0</td>\n      <td>0.0</td>\n      <td>0.0</td>\n      <td>5.0</td>\n      <td>0.0</td>\n    </tr>\n    <tr>\n      <th>2018-06-30</th>\n      <td>1.0</td>\n      <td>4.0</td>\n      <td>2.0</td>\n      <td>2.0</td>\n      <td>1.0</td>\n      <td>0.0</td>\n      <td>4.0</td>\n      <td>5.0</td>\n      <td>2.0</td>\n      <td>0.0</td>\n      <td>0.0</td>\n      <td>5.0</td>\n      <td>0.0</td>\n    </tr>\n    <tr>\n      <th>2018-07-31</th>\n      <td>1.0</td>\n      <td>4.0</td>\n      <td>2.0</td>\n      <td>2.0</td>\n      <td>1.0</td>\n      <td>0.0</td>\n      <td>4.0</td>\n      <td>5.0</td>\n      <td>2.0</td>\n      <td>0.0</td>\n      <td>0.0</td>\n      <td>5.0</td>\n      <td>0.0</td>\n    </tr>\n    <tr>\n      <th>2018-08-31</th>\n      <td>1.0</td>\n      <td>4.0</td>\n      <td>2.0</td>\n      <td>2.0</td>\n      <td>1.0</td>\n      <td>0.0</td>\n      <td>4.0</td>\n      <td>5.0</td>\n      <td>2.0</td>\n      <td>0.0</td>\n      <td>0.0</td>\n      <td>5.0</td>\n      <td>0.0</td>\n    </tr>\n    <tr>\n      <th>2018-09-30</th>\n      <td>1.0</td>\n      <td>4.0</td>\n      <td>2.0</td>\n      <td>2.0</td>\n      <td>1.0</td>\n      <td>0.0</td>\n      <td>4.0</td>\n      <td>5.0</td>\n      <td>2.0</td>\n      <td>0.0</td>\n      <td>0.0</td>\n      <td>5.0</td>\n      <td>0.0</td>\n    </tr>\n    <tr>\n      <th>2018-10-31</th>\n      <td>1.0</td>\n      <td>4.0</td>\n      <td>2.0</td>\n      <td>2.0</td>\n      <td>1.0</td>\n      <td>0.0</td>\n      <td>4.0</td>\n      <td>5.0</td>\n      <td>2.0</td>\n      <td>0.0</td>\n      <td>0.0</td>\n      <td>5.0</td>\n      <td>0.0</td>\n    </tr>\n    <tr>\n      <th>2018-11-30</th>\n      <td>1.0</td>\n      <td>4.0</td>\n      <td>2.0</td>\n      <td>2.0</td>\n      <td>1.0</td>\n      <td>0.0</td>\n      <td>4.0</td>\n      <td>5.0</td>\n      <td>2.0</td>\n      <td>0.0</td>\n      <td>0.0</td>\n      <td>5.0</td>\n      <td>0.0</td>\n    </tr>\n    <tr>\n      <th>2018-12-31</th>\n      <td>1.0</td>\n      <td>4.0</td>\n      <td>2.0</td>\n      <td>2.0</td>\n      <td>1.0</td>\n      <td>0.0</td>\n      <td>4.0</td>\n      <td>5.0</td>\n      <td>2.0</td>\n      <td>0.0</td>\n      <td>0.0</td>\n      <td>5.0</td>\n      <td>0.0</td>\n    </tr>\n    <tr>\n      <th>2019-01-31</th>\n      <td>1.0</td>\n      <td>4.0</td>\n      <td>2.0</td>\n      <td>2.0</td>\n      <td>1.0</td>\n      <td>0.0</td>\n      <td>4.0</td>\n      <td>5.0</td>\n      <td>2.0</td>\n      <td>0.0</td>\n      <td>0.0</td>\n      <td>5.0</td>\n      <td>0.0</td>\n    </tr>\n    <tr>\n      <th>2019-02-28</th>\n      <td>1.0</td>\n      <td>4.0</td>\n      <td>2.0</td>\n      <td>2.0</td>\n      <td>1.0</td>\n      <td>0.0</td>\n      <td>4.0</td>\n      <td>5.0</td>\n      <td>2.0</td>\n      <td>0.0</td>\n      <td>0.0</td>\n      <td>5.0</td>\n      <td>0.0</td>\n    </tr>\n    <tr>\n      <th>2019-03-31</th>\n      <td>1.0</td>\n      <td>4.0</td>\n      <td>2.0</td>\n      <td>2.0</td>\n      <td>1.0</td>\n      <td>0.0</td>\n      <td>4.0</td>\n      <td>5.0</td>\n      <td>2.0</td>\n      <td>0.0</td>\n      <td>0.0</td>\n      <td>5.0</td>\n      <td>0.0</td>\n    </tr>\n    <tr>\n      <th>2019-04-30</th>\n      <td>1.0</td>\n      <td>4.0</td>\n      <td>2.0</td>\n      <td>2.0</td>\n      <td>1.0</td>\n      <td>0.0</td>\n      <td>4.0</td>\n      <td>5.0</td>\n      <td>2.0</td>\n      <td>0.0</td>\n      <td>0.0</td>\n      <td>5.0</td>\n      <td>0.0</td>\n    </tr>\n    <tr>\n      <th>2019-05-31</th>\n      <td>1.0</td>\n      <td>4.0</td>\n      <td>2.0</td>\n      <td>2.0</td>\n      <td>1.0</td>\n      <td>0.0</td>\n      <td>4.0</td>\n      <td>5.0</td>\n      <td>2.0</td>\n      <td>0.0</td>\n      <td>0.0</td>\n      <td>5.0</td>\n      <td>0.0</td>\n    </tr>\n    <tr>\n      <th>2019-06-30</th>\n      <td>1.0</td>\n      <td>4.0</td>\n      <td>2.0</td>\n      <td>2.0</td>\n      <td>1.0</td>\n      <td>0.0</td>\n      <td>4.0</td>\n      <td>5.0</td>\n      <td>2.0</td>\n      <td>0.0</td>\n      <td>0.0</td>\n      <td>5.0</td>\n      <td>0.0</td>\n    </tr>\n    <tr>\n      <th>2019-07-31</th>\n      <td>1.0</td>\n      <td>4.0</td>\n      <td>2.0</td>\n      <td>2.0</td>\n      <td>1.0</td>\n      <td>0.0</td>\n      <td>4.0</td>\n      <td>5.0</td>\n      <td>2.0</td>\n      <td>0.0</td>\n      <td>0.0</td>\n      <td>5.0</td>\n      <td>0.0</td>\n    </tr>\n    <tr>\n      <th>2019-08-31</th>\n      <td>1.0</td>\n      <td>4.0</td>\n      <td>2.0</td>\n      <td>2.0</td>\n      <td>1.0</td>\n      <td>0.0</td>\n      <td>4.0</td>\n      <td>5.0</td>\n      <td>2.0</td>\n      <td>0.0</td>\n      <td>0.0</td>\n      <td>5.0</td>\n      <td>0.0</td>\n    </tr>\n    <tr>\n      <th>2019-09-30</th>\n      <td>1.0</td>\n      <td>4.0</td>\n      <td>2.0</td>\n      <td>2.0</td>\n      <td>1.0</td>\n      <td>0.0</td>\n      <td>4.0</td>\n      <td>5.0</td>\n      <td>2.0</td>\n      <td>0.0</td>\n      <td>0.0</td>\n      <td>5.0</td>\n      <td>0.0</td>\n    </tr>\n    <tr>\n      <th>2019-10-31</th>\n      <td>1.0</td>\n      <td>4.0</td>\n      <td>2.0</td>\n      <td>2.0</td>\n      <td>1.0</td>\n      <td>0.0</td>\n      <td>4.0</td>\n      <td>5.0</td>\n      <td>2.0</td>\n      <td>0.0</td>\n      <td>0.0</td>\n      <td>5.0</td>\n      <td>0.0</td>\n    </tr>\n    <tr>\n      <th>2019-11-30</th>\n      <td>1.0</td>\n      <td>4.0</td>\n      <td>2.0</td>\n      <td>2.0</td>\n      <td>1.0</td>\n      <td>0.0</td>\n      <td>4.0</td>\n      <td>5.0</td>\n      <td>2.0</td>\n      <td>0.0</td>\n      <td>0.0</td>\n      <td>5.0</td>\n      <td>0.0</td>\n    </tr>\n    <tr>\n      <th>2019-12-31</th>\n      <td>1.0</td>\n      <td>4.0</td>\n      <td>2.0</td>\n      <td>2.0</td>\n      <td>1.0</td>\n      <td>0.0</td>\n      <td>4.0</td>\n      <td>5.0</td>\n      <td>2.0</td>\n      <td>0.0</td>\n      <td>0.0</td>\n      <td>5.0</td>\n      <td>0.0</td>\n    </tr>\n    <tr>\n      <th>2020-01-31</th>\n      <td>1.0</td>\n      <td>4.0</td>\n      <td>2.0</td>\n      <td>2.0</td>\n      <td>1.0</td>\n      <td>0.0</td>\n      <td>4.0</td>\n      <td>5.0</td>\n      <td>2.0</td>\n      <td>0.0</td>\n      <td>0.0</td>\n      <td>5.0</td>\n      <td>0.0</td>\n    </tr>\n    <tr>\n      <th>2020-02-29</th>\n      <td>1.0</td>\n      <td>4.0</td>\n      <td>2.0</td>\n      <td>2.0</td>\n      <td>1.0</td>\n      <td>0.0</td>\n      <td>4.0</td>\n      <td>5.0</td>\n      <td>2.0</td>\n      <td>0.0</td>\n      <td>0.0</td>\n      <td>5.0</td>\n      <td>0.0</td>\n    </tr>\n    <tr>\n      <th>2020-03-31</th>\n      <td>1.0</td>\n      <td>4.0</td>\n      <td>2.0</td>\n      <td>2.0</td>\n      <td>1.0</td>\n      <td>0.0</td>\n      <td>4.0</td>\n      <td>5.0</td>\n      <td>2.0</td>\n      <td>0.0</td>\n      <td>0.0</td>\n      <td>5.0</td>\n      <td>0.0</td>\n    </tr>\n    <tr>\n      <th>2020-04-30</th>\n      <td>1.0</td>\n      <td>4.0</td>\n      <td>2.0</td>\n      <td>2.0</td>\n      <td>1.0</td>\n      <td>0.0</td>\n      <td>4.0</td>\n      <td>5.0</td>\n      <td>2.0</td>\n      <td>0.0</td>\n      <td>0.0</td>\n      <td>5.0</td>\n      <td>0.0</td>\n    </tr>\n    <tr>\n      <th>2020-05-31</th>\n      <td>1.0</td>\n      <td>4.0</td>\n      <td>2.0</td>\n      <td>2.0</td>\n      <td>1.0</td>\n      <td>0.0</td>\n      <td>4.0</td>\n      <td>5.0</td>\n      <td>2.0</td>\n      <td>0.0</td>\n      <td>0.0</td>\n      <td>5.0</td>\n      <td>0.0</td>\n    </tr>\n    <tr>\n      <th>2020-06-30</th>\n      <td>1.0</td>\n      <td>4.0</td>\n      <td>2.0</td>\n      <td>2.0</td>\n      <td>1.0</td>\n      <td>0.0</td>\n      <td>4.0</td>\n      <td>5.0</td>\n      <td>2.0</td>\n      <td>0.0</td>\n      <td>0.0</td>\n      <td>5.0</td>\n      <td>0.0</td>\n    </tr>\n    <tr>\n      <th>2020-07-31</th>\n      <td>1.0</td>\n      <td>4.0</td>\n      <td>2.0</td>\n      <td>2.0</td>\n      <td>1.0</td>\n      <td>0.0</td>\n      <td>4.0</td>\n      <td>5.0</td>\n      <td>2.0</td>\n      <td>0.0</td>\n      <td>0.0</td>\n      <td>5.0</td>\n      <td>0.0</td>\n    </tr>\n    <tr>\n      <th>2020-08-31</th>\n      <td>1.0</td>\n      <td>4.0</td>\n      <td>2.0</td>\n      <td>2.0</td>\n      <td>1.0</td>\n      <td>0.0</td>\n      <td>4.0</td>\n      <td>5.0</td>\n      <td>2.0</td>\n      <td>0.0</td>\n      <td>0.0</td>\n      <td>5.0</td>\n      <td>0.0</td>\n    </tr>\n    <tr>\n      <th>2020-09-30</th>\n      <td>1.0</td>\n      <td>4.0</td>\n      <td>2.0</td>\n      <td>2.0</td>\n      <td>1.0</td>\n      <td>0.0</td>\n      <td>4.0</td>\n      <td>5.0</td>\n      <td>2.0</td>\n      <td>0.0</td>\n      <td>0.0</td>\n      <td>5.0</td>\n      <td>0.0</td>\n    </tr>\n    <tr>\n      <th>2020-10-31</th>\n      <td>1.0</td>\n      <td>4.0</td>\n      <td>2.0</td>\n      <td>2.0</td>\n      <td>1.0</td>\n      <td>0.0</td>\n      <td>4.0</td>\n      <td>5.0</td>\n      <td>2.0</td>\n      <td>0.0</td>\n      <td>0.0</td>\n      <td>5.0</td>\n      <td>0.0</td>\n    </tr>\n    <tr>\n      <th>2020-11-30</th>\n      <td>1.0</td>\n      <td>4.0</td>\n      <td>2.0</td>\n      <td>2.0</td>\n      <td>1.0</td>\n      <td>0.0</td>\n      <td>4.0</td>\n      <td>5.0</td>\n      <td>2.0</td>\n      <td>0.0</td>\n      <td>0.0</td>\n      <td>5.0</td>\n      <td>0.0</td>\n    </tr>\n    <tr>\n      <th>2020-12-31</th>\n      <td>1.0</td>\n      <td>4.0</td>\n      <td>2.0</td>\n      <td>2.0</td>\n      <td>1.0</td>\n      <td>0.0</td>\n      <td>4.0</td>\n      <td>5.0</td>\n      <td>2.0</td>\n      <td>0.0</td>\n      <td>0.0</td>\n      <td>5.0</td>\n      <td>0.0</td>\n    </tr>\n    <tr>\n      <th>2021-01-31</th>\n      <td>1.0</td>\n      <td>4.0</td>\n      <td>2.0</td>\n      <td>2.0</td>\n      <td>1.0</td>\n      <td>0.0</td>\n      <td>4.0</td>\n      <td>5.0</td>\n      <td>2.0</td>\n      <td>0.0</td>\n      <td>0.0</td>\n      <td>5.0</td>\n      <td>0.0</td>\n    </tr>\n    <tr>\n      <th>2021-02-28</th>\n      <td>1.0</td>\n      <td>4.0</td>\n      <td>2.0</td>\n      <td>2.0</td>\n      <td>1.0</td>\n      <td>0.0</td>\n      <td>4.0</td>\n      <td>5.0</td>\n      <td>2.0</td>\n      <td>0.0</td>\n      <td>0.0</td>\n      <td>5.0</td>\n      <td>0.0</td>\n    </tr>\n    <tr>\n      <th>2021-03-31</th>\n      <td>1.0</td>\n      <td>4.0</td>\n      <td>2.0</td>\n      <td>2.0</td>\n      <td>1.0</td>\n      <td>0.0</td>\n      <td>4.0</td>\n      <td>5.0</td>\n      <td>2.0</td>\n      <td>0.0</td>\n      <td>0.0</td>\n      <td>5.0</td>\n      <td>0.0</td>\n    </tr>\n    <tr>\n      <th>2021-04-30</th>\n      <td>1.0</td>\n      <td>4.0</td>\n      <td>2.0</td>\n      <td>2.0</td>\n      <td>1.0</td>\n      <td>0.0</td>\n      <td>4.0</td>\n      <td>5.0</td>\n      <td>2.0</td>\n      <td>0.0</td>\n      <td>0.0</td>\n      <td>5.0</td>\n      <td>0.0</td>\n    </tr>\n    <tr>\n      <th>2021-05-31</th>\n      <td>1.0</td>\n      <td>4.0</td>\n      <td>2.0</td>\n      <td>2.0</td>\n      <td>1.0</td>\n      <td>0.0</td>\n      <td>4.0</td>\n      <td>5.0</td>\n      <td>2.0</td>\n      <td>0.0</td>\n      <td>0.0</td>\n      <td>5.0</td>\n      <td>0.0</td>\n    </tr>\n  </tbody>\n</table>\n</div>"
     },
     "execution_count": 48,
     "metadata": {},
     "output_type": "execute_result"
    }
   ],
   "source": [
    "data['age'].unstack('ticker')"
   ],
   "metadata": {
    "collapsed": false,
    "pycharm": {
     "name": "#%%\n"
    }
   }
  },
  {
   "cell_type": "markdown",
   "metadata": {},
   "source": [
    "## Create dynamic size proxy"
   ]
  },
  {
   "cell_type": "markdown",
   "metadata": {},
   "source": [
    "We use the marketcap information from the NASDAQ ticker info to create a size proxy."
   ]
  },
  {
   "cell_type": "code",
   "execution_count": 49,
   "metadata": {
    "ExecuteTime": {
     "end_time": "2021-02-23T05:20:18.368300Z",
     "start_time": "2021-02-23T05:20:18.361319Z"
    }
   },
   "outputs": [
    {
     "name": "stdout",
     "output_type": "stream",
     "text": [
      "<class 'pandas.core.frame.DataFrame'>\n",
      "Index: 13 entries, btc-usd to xlm-usd\n",
      "Data columns (total 13 columns):\n",
      " #   Column                 Non-Null Count  Dtype         \n",
      "---  ------                 --------------  -----         \n",
      " 0   id                     13 non-null     object        \n",
      " 1   market_cap             13 non-null     int64         \n",
      " 2   name                   13 non-null     object        \n",
      " 3   sector                 13 non-null     object        \n",
      " 4   genesis_date           9 non-null      datetime64[ns]\n",
      " 5   market_cap_rank        13 non-null     int64         \n",
      " 6   hashing_algorithm      13 non-null     object        \n",
      " 7   coingecko_rank         13 non-null     int64         \n",
      " 8   coingecko_score        13 non-null     float64       \n",
      " 9   developer_score        13 non-null     float64       \n",
      " 10  community_score        13 non-null     float64       \n",
      " 11  liquidity_score        13 non-null     float64       \n",
      " 12  public_interest_score  13 non-null     float64       \n",
      "dtypes: datetime64[ns](1), float64(5), int64(3), object(4)\n",
      "memory usage: 2.0+ KB\n"
     ]
    }
   ],
   "source": [
    "cryptos.info()\n",
    "\n"
   ]
  },
  {
   "cell_type": "markdown",
   "metadata": {},
   "source": [
    "Market cap information is tied to currrent prices. We create an adjustment factor to have the values reflect lower historical prices for each individual stock:"
   ]
  },
  {
   "cell_type": "code",
   "execution_count": 50,
   "outputs": [
    {
     "data": {
      "text/plain": "ticker      btc-usd   eos-usd  etc-usd  eth-usd  ltc-usd  miota-usd  neo-usd  \\\ndate                                                                           \n2021-04-30  57729.0  6.443056   36.374   2766.3   271.11     2.1190   97.146   \n2021-05-31  45367.0  9.693300   92.560   3521.9   305.55     1.9726   90.940   \n\nticker      trx-usd  xmr-usd  xrp-usd  dai-usd  mkr-usd  xlm-usd  \ndate                                                              \n2021-04-30  0.13248   420.53   1.5931   0.9991   4348.0  0.52887  \n2021-05-31  0.11851   355.45   1.5415   1.0000   4863.4  0.67204  ",
      "text/html": "<div>\n<style scoped>\n    .dataframe tbody tr th:only-of-type {\n        vertical-align: middle;\n    }\n\n    .dataframe tbody tr th {\n        vertical-align: top;\n    }\n\n    .dataframe thead th {\n        text-align: right;\n    }\n</style>\n<table border=\"1\" class=\"dataframe\">\n  <thead>\n    <tr style=\"text-align: right;\">\n      <th>ticker</th>\n      <th>btc-usd</th>\n      <th>eos-usd</th>\n      <th>etc-usd</th>\n      <th>eth-usd</th>\n      <th>ltc-usd</th>\n      <th>miota-usd</th>\n      <th>neo-usd</th>\n      <th>trx-usd</th>\n      <th>xmr-usd</th>\n      <th>xrp-usd</th>\n      <th>dai-usd</th>\n      <th>mkr-usd</th>\n      <th>xlm-usd</th>\n    </tr>\n    <tr>\n      <th>date</th>\n      <th></th>\n      <th></th>\n      <th></th>\n      <th></th>\n      <th></th>\n      <th></th>\n      <th></th>\n      <th></th>\n      <th></th>\n      <th></th>\n      <th></th>\n      <th></th>\n      <th></th>\n    </tr>\n  </thead>\n  <tbody>\n    <tr>\n      <th>2021-04-30</th>\n      <td>57729.0</td>\n      <td>6.443056</td>\n      <td>36.374</td>\n      <td>2766.3</td>\n      <td>271.11</td>\n      <td>2.1190</td>\n      <td>97.146</td>\n      <td>0.13248</td>\n      <td>420.53</td>\n      <td>1.5931</td>\n      <td>0.9991</td>\n      <td>4348.0</td>\n      <td>0.52887</td>\n    </tr>\n    <tr>\n      <th>2021-05-31</th>\n      <td>45367.0</td>\n      <td>9.693300</td>\n      <td>92.560</td>\n      <td>3521.9</td>\n      <td>305.55</td>\n      <td>1.9726</td>\n      <td>90.940</td>\n      <td>0.11851</td>\n      <td>355.45</td>\n      <td>1.5415</td>\n      <td>1.0000</td>\n      <td>4863.4</td>\n      <td>0.67204</td>\n    </tr>\n  </tbody>\n</table>\n</div>"
     },
     "execution_count": 50,
     "metadata": {},
     "output_type": "execute_result"
    }
   ],
   "source": [
    "prices.close.unstack(level='ticker').tail(2)"
   ],
   "metadata": {
    "collapsed": false,
    "pycharm": {
     "name": "#%%\n"
    }
   }
  },
  {
   "cell_type": "code",
   "execution_count": 51,
   "metadata": {
    "ExecuteTime": {
     "end_time": "2021-02-23T05:20:18.517585Z",
     "start_time": "2021-02-23T05:20:18.369362Z"
    }
   },
   "outputs": [],
   "source": [
    "prices_unstacked = prices.close.unstack(level='ticker')"
   ]
  },
  {
   "cell_type": "code",
   "execution_count": 52,
   "outputs": [
    {
     "data": {
      "text/plain": "ticker\nbtc-usd      45367.00000\neos-usd          9.69330\netc-usd         92.56000\neth-usd       3521.90000\nltc-usd        305.55000\nmiota-usd        1.97260\nneo-usd         90.94000\ntrx-usd          0.11851\nxmr-usd        355.45000\nxrp-usd          1.54150\ndai-usd          1.00000\nmkr-usd       4863.40000\nxlm-usd          0.67204\nName: 2021-05-31 00:00:00, dtype: float64"
     },
     "execution_count": 52,
     "metadata": {},
     "output_type": "execute_result"
    }
   ],
   "source": [
    "prices_unstacked.iloc[-1]\n"
   ],
   "metadata": {
    "collapsed": false,
    "pycharm": {
     "name": "#%%\n"
    }
   }
  },
  {
   "cell_type": "code",
   "execution_count": 53,
   "outputs": [
    {
     "data": {
      "text/plain": "ticker           btc-usd       eos-usd       etc-usd       eth-usd  \\\ndate                                                                 \n2018-02-28  1.555806e+11  5.091395e+09  3.061313e+09  7.256939e+10   \n2018-03-31  1.042566e+11  3.675030e+09  1.317748e+09  3.354994e+10   \n2018-04-30  1.390640e+11  1.079395e+10  1.981278e+09  5.692344e+10   \n2018-05-31  1.123539e+11  7.560728e+09  1.407466e+09  4.893771e+10   \n2018-06-30  9.609162e+10  5.026010e+09  1.494050e+09  3.855678e+10   \n2018-07-31  1.167359e+11  4.560506e+09  1.494050e+09  3.689862e+10   \n2018-08-31  1.055357e+11  3.977819e+09  1.174456e+09  2.399638e+10   \n2018-09-30  9.962037e+10  3.542835e+09  1.046379e+09  1.982457e+10   \n2018-10-31  9.586991e+10  3.257416e+09  8.360428e+08  1.694794e+10   \n2018-11-30  6.083430e+10  1.797627e+09  4.264631e+08  9.704379e+09   \n2018-12-31  5.756589e+10  1.619899e+09  4.740886e+08  1.159771e+10   \n2019-01-31  5.266450e+10  1.457581e+09  3.687315e+08  9.241747e+09   \n2019-02-28  5.858163e+10  2.220824e+09  3.969564e+08  1.180647e+10   \n2019-03-31  6.271229e+10  2.641788e+09  4.519955e+08  1.225126e+10   \n2019-04-30  8.435122e+10  3.146995e+09  5.700589e+08  1.450161e+10   \n2019-05-31  1.284372e+11  5.285748e+09  7.952130e+08  2.273529e+10   \n2019-06-30  1.651812e+11  3.579373e+09  7.205981e+08  2.510494e+10   \n2019-07-31  1.511265e+11  2.735708e+09  5.569008e+08  1.856349e+10   \n2019-08-31  1.448184e+11  2.069895e+09  5.794918e+08  1.468140e+10   \n2019-09-30  1.254125e+11  1.846386e+09  4.353612e+08  1.538352e+10   \n2019-10-31  1.381837e+11  2.030379e+09  4.455041e+08  1.559057e+10   \n2019-11-30  1.144245e+11  1.720034e+09  3.659468e+08  1.304986e+10   \n2019-12-31  1.084279e+11  1.606934e+09  4.154903e+08  1.102971e+10   \n2020-01-31  1.415635e+11  2.569704e+09  1.052280e+09  1.544146e+10   \n2020-02-29  1.294484e+11  2.197499e+09  6.826544e+08  1.873646e+10   \n2020-03-31  9.696140e+10  1.380881e+09  4.571223e+08  1.140684e+10   \n2020-04-30  1.306163e+11  1.764698e+09  5.983576e+08  1.767560e+10   \n2020-05-31  1.417681e+11  1.657119e+09  6.334890e+08  1.968824e+10   \n2020-06-30  1.378482e+11  1.472754e+09  5.291369e+08  1.926902e+10   \n2020-07-31  1.707204e+11  1.919896e+09  6.817415e+08  2.953662e+10   \n2020-08-31  1.761963e+11  2.007799e+09  6.106674e+08  3.727269e+10   \n2020-09-30  1.625328e+11  1.602467e+09  5.316265e+08  3.071335e+10   \n2020-10-31  2.076685e+11  1.568411e+09  4.879567e+08  3.291343e+10   \n2020-11-30  2.961585e+11  2.015385e+09  6.177029e+08  5.216199e+10   \n2020-12-31  4.337869e+11  1.601103e+09  5.199991e+08  6.264603e+10   \n2021-01-31  4.988091e+11  1.809392e+09  6.859278e+08  1.123046e+11   \n2021-02-28  6.835225e+11  2.159472e+09  9.573980e+08  1.215071e+11   \n2021-03-31  8.850144e+11  2.973051e+09  1.303456e+09  1.633785e+11   \n2021-04-30  8.687025e+11  3.996898e+09  3.353982e+09  2.357119e+11   \n2021-05-31  6.826799e+11  6.013161e+09  8.534794e+09  3.000953e+11   \n\nticker           ltc-usd     miota-usd       neo-usd       trx-usd  \\\ndate                                                                 \n2018-02-28  7.992478e+09  2.890984e+09  5.457952e+09  1.976467e+09   \n2018-03-31  4.579862e+09  1.684599e+09  2.082349e+09  1.551863e+09   \n2018-04-30  5.845693e+09  3.062336e+09  3.497003e+09  4.254678e+09   \n2018-05-31  4.649266e+09  2.737238e+09  2.210214e+09  2.746189e+09   \n2018-06-30  3.200146e+09  1.589334e+09  1.282408e+09  1.745263e+09   \n2018-07-31  3.118675e+09  1.492449e+09  1.243527e+09  1.543325e+09   \n2018-08-31  2.442895e+09  1.114074e+09  8.372782e+08  1.159035e+09   \n2018-09-30  2.413517e+09  8.944914e+08  7.895529e+08  1.014258e+09   \n2018-10-31  1.969412e+09  7.385449e+08  6.446249e+08  1.022248e+09   \n2018-11-30  1.269064e+09  4.514745e+08  3.224918e+08  6.592791e+08   \n2018-12-31  1.221113e+09  5.664379e+08  3.193046e+08  8.832239e+08   \n2019-01-31  1.262715e+09  4.086678e+08  2.916881e+08  1.182502e+09   \n2019-02-28  1.841212e+09  4.537225e+08  3.754152e+08  1.103562e+09   \n2019-03-31  2.424637e+09  4.914358e+08  4.279422e+08  1.088176e+09   \n2019-04-30  3.073918e+09  4.955702e+08  4.266072e+08  1.127669e+09   \n2019-05-31  4.502177e+09  7.989742e+08  5.603548e+08  1.502097e+09   \n2019-06-30  4.842098e+09  6.214121e+08  7.047821e+08  1.483834e+09   \n2019-07-31  3.890162e+09  4.579199e+08  4.877239e+08  1.022704e+09   \n2019-08-31  2.539548e+09  3.890645e+08  3.679977e+08  7.115557e+08   \n2019-09-30  2.218437e+09  4.163079e+08  3.191216e+08  6.622924e+08   \n2019-10-31  2.309254e+09  4.279253e+08  4.428355e+08  8.992037e+08   \n2019-11-30  1.880725e+09  3.317663e+08  3.927573e+08  7.105512e+08   \n2019-12-31  1.631147e+09  2.512026e+08  3.621864e+08  6.086461e+08   \n2020-01-31  2.691960e+09  4.617085e+08  4.803816e+08  8.582955e+08   \n2020-02-29  2.307952e+09  3.381775e+08  4.673239e+08  7.595863e+08   \n2020-03-31  1.551727e+09  2.267942e+08  2.848889e+08  5.315780e+08   \n2020-04-30  1.834271e+09  2.777105e+08  3.727911e+08  6.971739e+08   \n2020-05-31  1.792629e+09  3.426892e+08  4.533067e+08  7.242938e+08   \n2020-06-30  1.627874e+09  3.537721e+08  4.197237e+08  7.502125e+08   \n2020-07-31  2.297700e+09  4.721154e+08  5.094172e+08  8.973363e+08   \n2020-08-31  2.416317e+09  5.691261e+08  8.558843e+08  1.338830e+09   \n2020-09-30  1.825793e+09  4.456469e+08  7.964781e+08  1.197522e+09   \n2020-10-31  2.201481e+09  3.995500e+08  6.137954e+08  1.175927e+09   \n2020-11-30  3.458991e+09  5.549620e+08  7.746179e+08  1.477534e+09   \n2020-12-31  4.887447e+09  4.643024e+08  5.944800e+08  1.223136e+09   \n2021-01-31  5.135487e+09  6.387046e+08  9.346060e+08  1.446168e+09   \n2021-02-28  6.562208e+09  1.778450e+09  1.482404e+09  2.094489e+09   \n2021-03-31  7.773225e+09  2.405695e+09  2.121981e+09  4.177336e+09   \n2021-04-30  1.069095e+10  3.331155e+09  4.052727e+09  6.048566e+09   \n2021-05-31  1.204905e+10  3.101008e+09  3.793825e+09  5.410745e+09   \n\nticker           xmr-usd       xrp-usd       dai-usd       mkr-usd  \\\ndate                                                                 \n2018-02-28  3.755438e+09  2.666027e+10           NaN           NaN   \n2018-03-31  2.359633e+09  1.510861e+10           NaN           NaN   \n2018-04-30  3.180571e+09  2.501922e+10  4.440170e+09           NaN   \n2018-05-31  2.054586e+09  1.841064e+10  4.404720e+09  4.879553e+08   \n2018-06-30  1.728428e+09  1.406684e+10  4.387970e+09  3.569937e+08   \n2018-07-31  1.619576e+09  1.313954e+10  4.417571e+09  3.994559e+08   \n2018-08-31  1.526690e+09  1.011298e+10  4.426921e+09  2.995919e+08   \n2018-09-30  1.527217e+09  1.757818e+10  4.439727e+09  3.082268e+08   \n2018-10-31  1.382346e+09  1.370921e+10  4.462327e+09  4.379035e+08   \n2018-11-30  7.699947e+08  1.101914e+10  4.424661e+09  2.451195e+08   \n2018-12-31  6.241075e+08  1.089892e+10  4.566463e+09  3.019221e+08   \n2019-01-31  5.841821e+08  9.536669e+09  4.479609e+09  2.478158e+08   \n2019-02-28  6.430410e+08  9.683466e+09  4.440170e+09  4.560122e+08   \n2019-03-31  7.485543e+08  9.478675e+09  4.404498e+09  4.759584e+08   \n2019-04-30  8.687393e+08  9.804287e+09  4.611662e+09  3.769266e+08   \n2019-05-31  1.229624e+09  1.321445e+10  4.388546e+09  4.993199e+08   \n2019-06-30  1.171386e+09  1.203071e+10  4.418014e+09  4.127977e+08   \n2019-07-31  1.063814e+09  9.649334e+09  4.433080e+09  4.094889e+08   \n2019-08-31  8.892298e+08  7.805311e+09  4.492903e+09  3.128073e+08   \n2019-09-30  7.527896e+08  7.775105e+09  4.471190e+09  3.018355e+08   \n2019-10-31  7.793229e+08  8.926525e+09  4.476064e+09  3.561882e+08   \n2019-11-30  7.269951e+08  6.865629e+09  4.443715e+09  3.575729e+08   \n2019-12-31  5.909903e+08  5.846809e+09  4.433080e+09  2.967491e+08   \n2020-01-31  9.566648e+08  7.249536e+09  4.441057e+09  3.602293e+08   \n2020-02-29  8.754683e+08  6.993094e+09  4.453907e+09  3.703023e+08   \n2020-03-31  6.346232e+08  5.292847e+09  4.550510e+09  1.934432e+08   \n2020-04-30  8.219003e+08  6.417988e+09  4.480052e+09  2.256127e+08   \n2020-05-31  8.550966e+08  6.096002e+09  4.453907e+09  3.029207e+08   \n2020-06-30  8.402269e+08  5.303419e+09  4.456123e+09  3.029940e+08   \n2020-07-31  1.115746e+09  7.853337e+09  4.511514e+09  3.694568e+08   \n2020-08-31  1.233134e+09  8.538087e+09  4.513730e+09  4.514051e+08   \n2020-09-30  1.426151e+09  7.292125e+09  4.488028e+09  3.811408e+08   \n2020-10-31  1.665887e+09  7.241078e+09  4.481825e+09  3.464081e+08   \n2020-11-30  1.712990e+09  2.012176e+10  4.461884e+09  3.836374e+08   \n2020-12-31  2.060391e+09  6.589856e+09  4.441500e+09  3.927983e+08   \n2021-01-31  1.825404e+09  1.502585e+10  4.431751e+09  9.897851e+08   \n2021-02-28  2.905078e+09  1.261971e+10  4.448590e+09  1.354355e+09   \n2021-03-31  3.254985e+09  1.718159e+10  4.431086e+09  1.413208e+09   \n2021-04-30  5.548516e+09  4.811981e+10  4.427320e+09  2.894724e+09   \n2021-05-31  4.689844e+09  4.656123e+10  4.431308e+09  3.237856e+09   \n\nticker           xlm-usd  \ndate                      \n2018-02-28           NaN  \n2018-03-31           NaN  \n2018-04-30           NaN  \n2018-05-31  4.333250e+09  \n2018-06-30  2.840195e+09  \n2018-07-31  4.126905e+09  \n2018-08-31  3.260255e+09  \n2018-09-30  3.837432e+09  \n2018-10-31  3.337781e+09  \n2018-11-30  2.342018e+09  \n2018-12-31  1.683630e+09  \n2019-01-31  1.222979e+09  \n2019-02-28  1.278972e+09  \n2019-03-31  1.607282e+09  \n2019-04-30  1.555990e+09  \n2019-05-31  1.960280e+09  \n2019-06-30  1.550390e+09  \n2019-07-31  1.241152e+09  \n2019-08-31  9.132250e+08  \n2019-09-30  9.135788e+08  \n2019-10-31  9.572502e+08  \n2019-11-30  8.504961e+08  \n2019-12-31  6.652865e+08  \n2020-01-31  8.988840e+08  \n2020-02-29  8.419917e+08  \n2020-03-31  6.029997e+08  \n2020-04-30  1.011755e+09  \n2020-05-31  1.042486e+09  \n2020-06-30  9.874549e+08  \n2020-07-31  1.428749e+09  \n2020-08-31  1.440437e+09  \n2020-09-30  1.101117e+09  \n2020-10-31  1.144229e+09  \n2020-11-30  2.987289e+09  \n2020-12-31  1.883048e+09  \n2021-01-31  4.519550e+09  \n2021-02-28  5.994476e+09  \n2021-03-31  5.951733e+09  \n2021-04-30  7.794986e+09  \n2021-05-31  9.905160e+09  ",
      "text/html": "<div>\n<style scoped>\n    .dataframe tbody tr th:only-of-type {\n        vertical-align: middle;\n    }\n\n    .dataframe tbody tr th {\n        vertical-align: top;\n    }\n\n    .dataframe thead th {\n        text-align: right;\n    }\n</style>\n<table border=\"1\" class=\"dataframe\">\n  <thead>\n    <tr style=\"text-align: right;\">\n      <th>ticker</th>\n      <th>btc-usd</th>\n      <th>eos-usd</th>\n      <th>etc-usd</th>\n      <th>eth-usd</th>\n      <th>ltc-usd</th>\n      <th>miota-usd</th>\n      <th>neo-usd</th>\n      <th>trx-usd</th>\n      <th>xmr-usd</th>\n      <th>xrp-usd</th>\n      <th>dai-usd</th>\n      <th>mkr-usd</th>\n      <th>xlm-usd</th>\n    </tr>\n    <tr>\n      <th>date</th>\n      <th></th>\n      <th></th>\n      <th></th>\n      <th></th>\n      <th></th>\n      <th></th>\n      <th></th>\n      <th></th>\n      <th></th>\n      <th></th>\n      <th></th>\n      <th></th>\n      <th></th>\n    </tr>\n  </thead>\n  <tbody>\n    <tr>\n      <th>2018-02-28</th>\n      <td>1.555806e+11</td>\n      <td>5.091395e+09</td>\n      <td>3.061313e+09</td>\n      <td>7.256939e+10</td>\n      <td>7.992478e+09</td>\n      <td>2.890984e+09</td>\n      <td>5.457952e+09</td>\n      <td>1.976467e+09</td>\n      <td>3.755438e+09</td>\n      <td>2.666027e+10</td>\n      <td>NaN</td>\n      <td>NaN</td>\n      <td>NaN</td>\n    </tr>\n    <tr>\n      <th>2018-03-31</th>\n      <td>1.042566e+11</td>\n      <td>3.675030e+09</td>\n      <td>1.317748e+09</td>\n      <td>3.354994e+10</td>\n      <td>4.579862e+09</td>\n      <td>1.684599e+09</td>\n      <td>2.082349e+09</td>\n      <td>1.551863e+09</td>\n      <td>2.359633e+09</td>\n      <td>1.510861e+10</td>\n      <td>NaN</td>\n      <td>NaN</td>\n      <td>NaN</td>\n    </tr>\n    <tr>\n      <th>2018-04-30</th>\n      <td>1.390640e+11</td>\n      <td>1.079395e+10</td>\n      <td>1.981278e+09</td>\n      <td>5.692344e+10</td>\n      <td>5.845693e+09</td>\n      <td>3.062336e+09</td>\n      <td>3.497003e+09</td>\n      <td>4.254678e+09</td>\n      <td>3.180571e+09</td>\n      <td>2.501922e+10</td>\n      <td>4.440170e+09</td>\n      <td>NaN</td>\n      <td>NaN</td>\n    </tr>\n    <tr>\n      <th>2018-05-31</th>\n      <td>1.123539e+11</td>\n      <td>7.560728e+09</td>\n      <td>1.407466e+09</td>\n      <td>4.893771e+10</td>\n      <td>4.649266e+09</td>\n      <td>2.737238e+09</td>\n      <td>2.210214e+09</td>\n      <td>2.746189e+09</td>\n      <td>2.054586e+09</td>\n      <td>1.841064e+10</td>\n      <td>4.404720e+09</td>\n      <td>4.879553e+08</td>\n      <td>4.333250e+09</td>\n    </tr>\n    <tr>\n      <th>2018-06-30</th>\n      <td>9.609162e+10</td>\n      <td>5.026010e+09</td>\n      <td>1.494050e+09</td>\n      <td>3.855678e+10</td>\n      <td>3.200146e+09</td>\n      <td>1.589334e+09</td>\n      <td>1.282408e+09</td>\n      <td>1.745263e+09</td>\n      <td>1.728428e+09</td>\n      <td>1.406684e+10</td>\n      <td>4.387970e+09</td>\n      <td>3.569937e+08</td>\n      <td>2.840195e+09</td>\n    </tr>\n    <tr>\n      <th>2018-07-31</th>\n      <td>1.167359e+11</td>\n      <td>4.560506e+09</td>\n      <td>1.494050e+09</td>\n      <td>3.689862e+10</td>\n      <td>3.118675e+09</td>\n      <td>1.492449e+09</td>\n      <td>1.243527e+09</td>\n      <td>1.543325e+09</td>\n      <td>1.619576e+09</td>\n      <td>1.313954e+10</td>\n      <td>4.417571e+09</td>\n      <td>3.994559e+08</td>\n      <td>4.126905e+09</td>\n    </tr>\n    <tr>\n      <th>2018-08-31</th>\n      <td>1.055357e+11</td>\n      <td>3.977819e+09</td>\n      <td>1.174456e+09</td>\n      <td>2.399638e+10</td>\n      <td>2.442895e+09</td>\n      <td>1.114074e+09</td>\n      <td>8.372782e+08</td>\n      <td>1.159035e+09</td>\n      <td>1.526690e+09</td>\n      <td>1.011298e+10</td>\n      <td>4.426921e+09</td>\n      <td>2.995919e+08</td>\n      <td>3.260255e+09</td>\n    </tr>\n    <tr>\n      <th>2018-09-30</th>\n      <td>9.962037e+10</td>\n      <td>3.542835e+09</td>\n      <td>1.046379e+09</td>\n      <td>1.982457e+10</td>\n      <td>2.413517e+09</td>\n      <td>8.944914e+08</td>\n      <td>7.895529e+08</td>\n      <td>1.014258e+09</td>\n      <td>1.527217e+09</td>\n      <td>1.757818e+10</td>\n      <td>4.439727e+09</td>\n      <td>3.082268e+08</td>\n      <td>3.837432e+09</td>\n    </tr>\n    <tr>\n      <th>2018-10-31</th>\n      <td>9.586991e+10</td>\n      <td>3.257416e+09</td>\n      <td>8.360428e+08</td>\n      <td>1.694794e+10</td>\n      <td>1.969412e+09</td>\n      <td>7.385449e+08</td>\n      <td>6.446249e+08</td>\n      <td>1.022248e+09</td>\n      <td>1.382346e+09</td>\n      <td>1.370921e+10</td>\n      <td>4.462327e+09</td>\n      <td>4.379035e+08</td>\n      <td>3.337781e+09</td>\n    </tr>\n    <tr>\n      <th>2018-11-30</th>\n      <td>6.083430e+10</td>\n      <td>1.797627e+09</td>\n      <td>4.264631e+08</td>\n      <td>9.704379e+09</td>\n      <td>1.269064e+09</td>\n      <td>4.514745e+08</td>\n      <td>3.224918e+08</td>\n      <td>6.592791e+08</td>\n      <td>7.699947e+08</td>\n      <td>1.101914e+10</td>\n      <td>4.424661e+09</td>\n      <td>2.451195e+08</td>\n      <td>2.342018e+09</td>\n    </tr>\n    <tr>\n      <th>2018-12-31</th>\n      <td>5.756589e+10</td>\n      <td>1.619899e+09</td>\n      <td>4.740886e+08</td>\n      <td>1.159771e+10</td>\n      <td>1.221113e+09</td>\n      <td>5.664379e+08</td>\n      <td>3.193046e+08</td>\n      <td>8.832239e+08</td>\n      <td>6.241075e+08</td>\n      <td>1.089892e+10</td>\n      <td>4.566463e+09</td>\n      <td>3.019221e+08</td>\n      <td>1.683630e+09</td>\n    </tr>\n    <tr>\n      <th>2019-01-31</th>\n      <td>5.266450e+10</td>\n      <td>1.457581e+09</td>\n      <td>3.687315e+08</td>\n      <td>9.241747e+09</td>\n      <td>1.262715e+09</td>\n      <td>4.086678e+08</td>\n      <td>2.916881e+08</td>\n      <td>1.182502e+09</td>\n      <td>5.841821e+08</td>\n      <td>9.536669e+09</td>\n      <td>4.479609e+09</td>\n      <td>2.478158e+08</td>\n      <td>1.222979e+09</td>\n    </tr>\n    <tr>\n      <th>2019-02-28</th>\n      <td>5.858163e+10</td>\n      <td>2.220824e+09</td>\n      <td>3.969564e+08</td>\n      <td>1.180647e+10</td>\n      <td>1.841212e+09</td>\n      <td>4.537225e+08</td>\n      <td>3.754152e+08</td>\n      <td>1.103562e+09</td>\n      <td>6.430410e+08</td>\n      <td>9.683466e+09</td>\n      <td>4.440170e+09</td>\n      <td>4.560122e+08</td>\n      <td>1.278972e+09</td>\n    </tr>\n    <tr>\n      <th>2019-03-31</th>\n      <td>6.271229e+10</td>\n      <td>2.641788e+09</td>\n      <td>4.519955e+08</td>\n      <td>1.225126e+10</td>\n      <td>2.424637e+09</td>\n      <td>4.914358e+08</td>\n      <td>4.279422e+08</td>\n      <td>1.088176e+09</td>\n      <td>7.485543e+08</td>\n      <td>9.478675e+09</td>\n      <td>4.404498e+09</td>\n      <td>4.759584e+08</td>\n      <td>1.607282e+09</td>\n    </tr>\n    <tr>\n      <th>2019-04-30</th>\n      <td>8.435122e+10</td>\n      <td>3.146995e+09</td>\n      <td>5.700589e+08</td>\n      <td>1.450161e+10</td>\n      <td>3.073918e+09</td>\n      <td>4.955702e+08</td>\n      <td>4.266072e+08</td>\n      <td>1.127669e+09</td>\n      <td>8.687393e+08</td>\n      <td>9.804287e+09</td>\n      <td>4.611662e+09</td>\n      <td>3.769266e+08</td>\n      <td>1.555990e+09</td>\n    </tr>\n    <tr>\n      <th>2019-05-31</th>\n      <td>1.284372e+11</td>\n      <td>5.285748e+09</td>\n      <td>7.952130e+08</td>\n      <td>2.273529e+10</td>\n      <td>4.502177e+09</td>\n      <td>7.989742e+08</td>\n      <td>5.603548e+08</td>\n      <td>1.502097e+09</td>\n      <td>1.229624e+09</td>\n      <td>1.321445e+10</td>\n      <td>4.388546e+09</td>\n      <td>4.993199e+08</td>\n      <td>1.960280e+09</td>\n    </tr>\n    <tr>\n      <th>2019-06-30</th>\n      <td>1.651812e+11</td>\n      <td>3.579373e+09</td>\n      <td>7.205981e+08</td>\n      <td>2.510494e+10</td>\n      <td>4.842098e+09</td>\n      <td>6.214121e+08</td>\n      <td>7.047821e+08</td>\n      <td>1.483834e+09</td>\n      <td>1.171386e+09</td>\n      <td>1.203071e+10</td>\n      <td>4.418014e+09</td>\n      <td>4.127977e+08</td>\n      <td>1.550390e+09</td>\n    </tr>\n    <tr>\n      <th>2019-07-31</th>\n      <td>1.511265e+11</td>\n      <td>2.735708e+09</td>\n      <td>5.569008e+08</td>\n      <td>1.856349e+10</td>\n      <td>3.890162e+09</td>\n      <td>4.579199e+08</td>\n      <td>4.877239e+08</td>\n      <td>1.022704e+09</td>\n      <td>1.063814e+09</td>\n      <td>9.649334e+09</td>\n      <td>4.433080e+09</td>\n      <td>4.094889e+08</td>\n      <td>1.241152e+09</td>\n    </tr>\n    <tr>\n      <th>2019-08-31</th>\n      <td>1.448184e+11</td>\n      <td>2.069895e+09</td>\n      <td>5.794918e+08</td>\n      <td>1.468140e+10</td>\n      <td>2.539548e+09</td>\n      <td>3.890645e+08</td>\n      <td>3.679977e+08</td>\n      <td>7.115557e+08</td>\n      <td>8.892298e+08</td>\n      <td>7.805311e+09</td>\n      <td>4.492903e+09</td>\n      <td>3.128073e+08</td>\n      <td>9.132250e+08</td>\n    </tr>\n    <tr>\n      <th>2019-09-30</th>\n      <td>1.254125e+11</td>\n      <td>1.846386e+09</td>\n      <td>4.353612e+08</td>\n      <td>1.538352e+10</td>\n      <td>2.218437e+09</td>\n      <td>4.163079e+08</td>\n      <td>3.191216e+08</td>\n      <td>6.622924e+08</td>\n      <td>7.527896e+08</td>\n      <td>7.775105e+09</td>\n      <td>4.471190e+09</td>\n      <td>3.018355e+08</td>\n      <td>9.135788e+08</td>\n    </tr>\n    <tr>\n      <th>2019-10-31</th>\n      <td>1.381837e+11</td>\n      <td>2.030379e+09</td>\n      <td>4.455041e+08</td>\n      <td>1.559057e+10</td>\n      <td>2.309254e+09</td>\n      <td>4.279253e+08</td>\n      <td>4.428355e+08</td>\n      <td>8.992037e+08</td>\n      <td>7.793229e+08</td>\n      <td>8.926525e+09</td>\n      <td>4.476064e+09</td>\n      <td>3.561882e+08</td>\n      <td>9.572502e+08</td>\n    </tr>\n    <tr>\n      <th>2019-11-30</th>\n      <td>1.144245e+11</td>\n      <td>1.720034e+09</td>\n      <td>3.659468e+08</td>\n      <td>1.304986e+10</td>\n      <td>1.880725e+09</td>\n      <td>3.317663e+08</td>\n      <td>3.927573e+08</td>\n      <td>7.105512e+08</td>\n      <td>7.269951e+08</td>\n      <td>6.865629e+09</td>\n      <td>4.443715e+09</td>\n      <td>3.575729e+08</td>\n      <td>8.504961e+08</td>\n    </tr>\n    <tr>\n      <th>2019-12-31</th>\n      <td>1.084279e+11</td>\n      <td>1.606934e+09</td>\n      <td>4.154903e+08</td>\n      <td>1.102971e+10</td>\n      <td>1.631147e+09</td>\n      <td>2.512026e+08</td>\n      <td>3.621864e+08</td>\n      <td>6.086461e+08</td>\n      <td>5.909903e+08</td>\n      <td>5.846809e+09</td>\n      <td>4.433080e+09</td>\n      <td>2.967491e+08</td>\n      <td>6.652865e+08</td>\n    </tr>\n    <tr>\n      <th>2020-01-31</th>\n      <td>1.415635e+11</td>\n      <td>2.569704e+09</td>\n      <td>1.052280e+09</td>\n      <td>1.544146e+10</td>\n      <td>2.691960e+09</td>\n      <td>4.617085e+08</td>\n      <td>4.803816e+08</td>\n      <td>8.582955e+08</td>\n      <td>9.566648e+08</td>\n      <td>7.249536e+09</td>\n      <td>4.441057e+09</td>\n      <td>3.602293e+08</td>\n      <td>8.988840e+08</td>\n    </tr>\n    <tr>\n      <th>2020-02-29</th>\n      <td>1.294484e+11</td>\n      <td>2.197499e+09</td>\n      <td>6.826544e+08</td>\n      <td>1.873646e+10</td>\n      <td>2.307952e+09</td>\n      <td>3.381775e+08</td>\n      <td>4.673239e+08</td>\n      <td>7.595863e+08</td>\n      <td>8.754683e+08</td>\n      <td>6.993094e+09</td>\n      <td>4.453907e+09</td>\n      <td>3.703023e+08</td>\n      <td>8.419917e+08</td>\n    </tr>\n    <tr>\n      <th>2020-03-31</th>\n      <td>9.696140e+10</td>\n      <td>1.380881e+09</td>\n      <td>4.571223e+08</td>\n      <td>1.140684e+10</td>\n      <td>1.551727e+09</td>\n      <td>2.267942e+08</td>\n      <td>2.848889e+08</td>\n      <td>5.315780e+08</td>\n      <td>6.346232e+08</td>\n      <td>5.292847e+09</td>\n      <td>4.550510e+09</td>\n      <td>1.934432e+08</td>\n      <td>6.029997e+08</td>\n    </tr>\n    <tr>\n      <th>2020-04-30</th>\n      <td>1.306163e+11</td>\n      <td>1.764698e+09</td>\n      <td>5.983576e+08</td>\n      <td>1.767560e+10</td>\n      <td>1.834271e+09</td>\n      <td>2.777105e+08</td>\n      <td>3.727911e+08</td>\n      <td>6.971739e+08</td>\n      <td>8.219003e+08</td>\n      <td>6.417988e+09</td>\n      <td>4.480052e+09</td>\n      <td>2.256127e+08</td>\n      <td>1.011755e+09</td>\n    </tr>\n    <tr>\n      <th>2020-05-31</th>\n      <td>1.417681e+11</td>\n      <td>1.657119e+09</td>\n      <td>6.334890e+08</td>\n      <td>1.968824e+10</td>\n      <td>1.792629e+09</td>\n      <td>3.426892e+08</td>\n      <td>4.533067e+08</td>\n      <td>7.242938e+08</td>\n      <td>8.550966e+08</td>\n      <td>6.096002e+09</td>\n      <td>4.453907e+09</td>\n      <td>3.029207e+08</td>\n      <td>1.042486e+09</td>\n    </tr>\n    <tr>\n      <th>2020-06-30</th>\n      <td>1.378482e+11</td>\n      <td>1.472754e+09</td>\n      <td>5.291369e+08</td>\n      <td>1.926902e+10</td>\n      <td>1.627874e+09</td>\n      <td>3.537721e+08</td>\n      <td>4.197237e+08</td>\n      <td>7.502125e+08</td>\n      <td>8.402269e+08</td>\n      <td>5.303419e+09</td>\n      <td>4.456123e+09</td>\n      <td>3.029940e+08</td>\n      <td>9.874549e+08</td>\n    </tr>\n    <tr>\n      <th>2020-07-31</th>\n      <td>1.707204e+11</td>\n      <td>1.919896e+09</td>\n      <td>6.817415e+08</td>\n      <td>2.953662e+10</td>\n      <td>2.297700e+09</td>\n      <td>4.721154e+08</td>\n      <td>5.094172e+08</td>\n      <td>8.973363e+08</td>\n      <td>1.115746e+09</td>\n      <td>7.853337e+09</td>\n      <td>4.511514e+09</td>\n      <td>3.694568e+08</td>\n      <td>1.428749e+09</td>\n    </tr>\n    <tr>\n      <th>2020-08-31</th>\n      <td>1.761963e+11</td>\n      <td>2.007799e+09</td>\n      <td>6.106674e+08</td>\n      <td>3.727269e+10</td>\n      <td>2.416317e+09</td>\n      <td>5.691261e+08</td>\n      <td>8.558843e+08</td>\n      <td>1.338830e+09</td>\n      <td>1.233134e+09</td>\n      <td>8.538087e+09</td>\n      <td>4.513730e+09</td>\n      <td>4.514051e+08</td>\n      <td>1.440437e+09</td>\n    </tr>\n    <tr>\n      <th>2020-09-30</th>\n      <td>1.625328e+11</td>\n      <td>1.602467e+09</td>\n      <td>5.316265e+08</td>\n      <td>3.071335e+10</td>\n      <td>1.825793e+09</td>\n      <td>4.456469e+08</td>\n      <td>7.964781e+08</td>\n      <td>1.197522e+09</td>\n      <td>1.426151e+09</td>\n      <td>7.292125e+09</td>\n      <td>4.488028e+09</td>\n      <td>3.811408e+08</td>\n      <td>1.101117e+09</td>\n    </tr>\n    <tr>\n      <th>2020-10-31</th>\n      <td>2.076685e+11</td>\n      <td>1.568411e+09</td>\n      <td>4.879567e+08</td>\n      <td>3.291343e+10</td>\n      <td>2.201481e+09</td>\n      <td>3.995500e+08</td>\n      <td>6.137954e+08</td>\n      <td>1.175927e+09</td>\n      <td>1.665887e+09</td>\n      <td>7.241078e+09</td>\n      <td>4.481825e+09</td>\n      <td>3.464081e+08</td>\n      <td>1.144229e+09</td>\n    </tr>\n    <tr>\n      <th>2020-11-30</th>\n      <td>2.961585e+11</td>\n      <td>2.015385e+09</td>\n      <td>6.177029e+08</td>\n      <td>5.216199e+10</td>\n      <td>3.458991e+09</td>\n      <td>5.549620e+08</td>\n      <td>7.746179e+08</td>\n      <td>1.477534e+09</td>\n      <td>1.712990e+09</td>\n      <td>2.012176e+10</td>\n      <td>4.461884e+09</td>\n      <td>3.836374e+08</td>\n      <td>2.987289e+09</td>\n    </tr>\n    <tr>\n      <th>2020-12-31</th>\n      <td>4.337869e+11</td>\n      <td>1.601103e+09</td>\n      <td>5.199991e+08</td>\n      <td>6.264603e+10</td>\n      <td>4.887447e+09</td>\n      <td>4.643024e+08</td>\n      <td>5.944800e+08</td>\n      <td>1.223136e+09</td>\n      <td>2.060391e+09</td>\n      <td>6.589856e+09</td>\n      <td>4.441500e+09</td>\n      <td>3.927983e+08</td>\n      <td>1.883048e+09</td>\n    </tr>\n    <tr>\n      <th>2021-01-31</th>\n      <td>4.988091e+11</td>\n      <td>1.809392e+09</td>\n      <td>6.859278e+08</td>\n      <td>1.123046e+11</td>\n      <td>5.135487e+09</td>\n      <td>6.387046e+08</td>\n      <td>9.346060e+08</td>\n      <td>1.446168e+09</td>\n      <td>1.825404e+09</td>\n      <td>1.502585e+10</td>\n      <td>4.431751e+09</td>\n      <td>9.897851e+08</td>\n      <td>4.519550e+09</td>\n    </tr>\n    <tr>\n      <th>2021-02-28</th>\n      <td>6.835225e+11</td>\n      <td>2.159472e+09</td>\n      <td>9.573980e+08</td>\n      <td>1.215071e+11</td>\n      <td>6.562208e+09</td>\n      <td>1.778450e+09</td>\n      <td>1.482404e+09</td>\n      <td>2.094489e+09</td>\n      <td>2.905078e+09</td>\n      <td>1.261971e+10</td>\n      <td>4.448590e+09</td>\n      <td>1.354355e+09</td>\n      <td>5.994476e+09</td>\n    </tr>\n    <tr>\n      <th>2021-03-31</th>\n      <td>8.850144e+11</td>\n      <td>2.973051e+09</td>\n      <td>1.303456e+09</td>\n      <td>1.633785e+11</td>\n      <td>7.773225e+09</td>\n      <td>2.405695e+09</td>\n      <td>2.121981e+09</td>\n      <td>4.177336e+09</td>\n      <td>3.254985e+09</td>\n      <td>1.718159e+10</td>\n      <td>4.431086e+09</td>\n      <td>1.413208e+09</td>\n      <td>5.951733e+09</td>\n    </tr>\n    <tr>\n      <th>2021-04-30</th>\n      <td>8.687025e+11</td>\n      <td>3.996898e+09</td>\n      <td>3.353982e+09</td>\n      <td>2.357119e+11</td>\n      <td>1.069095e+10</td>\n      <td>3.331155e+09</td>\n      <td>4.052727e+09</td>\n      <td>6.048566e+09</td>\n      <td>5.548516e+09</td>\n      <td>4.811981e+10</td>\n      <td>4.427320e+09</td>\n      <td>2.894724e+09</td>\n      <td>7.794986e+09</td>\n    </tr>\n    <tr>\n      <th>2021-05-31</th>\n      <td>6.826799e+11</td>\n      <td>6.013161e+09</td>\n      <td>8.534794e+09</td>\n      <td>3.000953e+11</td>\n      <td>1.204905e+10</td>\n      <td>3.101008e+09</td>\n      <td>3.793825e+09</td>\n      <td>5.410745e+09</td>\n      <td>4.689844e+09</td>\n      <td>4.656123e+10</td>\n      <td>4.431308e+09</td>\n      <td>3.237856e+09</td>\n      <td>9.905160e+09</td>\n    </tr>\n  </tbody>\n</table>\n</div>"
     },
     "execution_count": 53,
     "metadata": {},
     "output_type": "execute_result"
    }
   ],
   "source": [
    "market_cap = prices_unstacked/prices_unstacked.iloc[-1]*cryptos['market_cap']\n",
    "# market_cap = market_cap.stack([0,1])\n",
    "market_cap"
   ],
   "metadata": {
    "collapsed": false,
    "pycharm": {
     "name": "#%%\n"
    }
   }
  },
  {
   "cell_type": "markdown",
   "metadata": {},
   "source": [
    "### Create Size indicator as deciles per period"
   ]
  },
  {
   "cell_type": "markdown",
   "metadata": {},
   "source": [
    "Compute size deciles per month:"
   ]
  },
  {
   "cell_type": "code",
   "execution_count": 54,
   "metadata": {
    "ExecuteTime": {
     "end_time": "2021-02-23T05:20:20.476400Z",
     "start_time": "2021-02-23T05:20:18.529742Z"
    }
   },
   "outputs": [
    {
     "data": {
      "text/plain": "           btc-usd eos-usd etc-usd eth-usd ltc-usd miota-usd neo-usd trx-usd  \\\ndate                                                                           \n2018-02-28       5       3       2       5       4         1       3       1   \n2018-03-31       5       3       1       5       4         2       2       1   \n2018-04-30       5       4       1       5       3         1       2       2   \n2018-05-31       5       4       1       5       4         2       2       3   \n2018-06-30       5       4       1       5       3         2       1       3   \n2018-07-31       5       4       2       5       3         1       1       2   \n2018-08-31       5       4       2       5       3         1       1       2   \n2018-09-30       5       3       2       5       3         1       1       2   \n2018-10-31       5       3       2       5       3         1       1       2   \n2018-11-30       5       3       1       5       3         2       1       2   \n2018-12-31       5       3       1       5       3         2       1       3   \n2019-01-31       5       4       1       5       3         2       1       3   \n2019-02-28       5       4       1       5       3         1       1       3   \n2019-03-31       5       4       1       5       3         2       1       3   \n2019-04-30       5       4       2       5       3         1       1       3   \n2019-05-31       5       4       1       5       4         2       1       3   \n2019-06-30       5       3       2       5       4         1       1       3   \n2019-07-31       5       3       2       5       4         1       1       2   \n2019-08-31       5       3       2       5       4         1       1       2   \n2019-09-30       5       3       2       5       4         1       1       2   \n2019-10-31       5       3       2       5       4         1       1       3   \n2019-11-30       5       3       1       5       4         1       2       2   \n2019-12-31       5       3       2       5       4         1       1       3   \n2020-01-31       5       3       3       5       4         1       1       2   \n2020-02-29       5       3       2       5       4         1       1       2   \n2020-03-31       5       3       2       5       4         1       1       2   \n2020-04-30       5       3       2       5       4         1       1       2   \n2020-05-31       5       3       2       5       4         1       1       2   \n2020-06-30       5       3       2       5       4         1       1       2   \n2020-07-31       5       3       2       5       4         1       1       2   \n2020-08-31       5       3       1       5       4         1       2       3   \n2020-09-30       5       3       1       5       4         1       2       3   \n2020-10-31       5       3       1       5       4         1       2       3   \n2020-11-30       5       3       1       5       4         1       2       2   \n2020-12-31       5       3       1       5       4         1       2       2   \n2021-01-31       5       3       1       5       4         1       1       2   \n2021-02-28       5       3       1       5       4         2       1       2   \n2021-03-31       5       2       1       5       4         2       1       3   \n2021-04-30       5       2       1       5       4         1       2       3   \n2021-05-31       5       3       3       5       4         1       1       3   \n\n           xmr-usd xrp-usd dai-usd mkr-usd xlm-usd  \ndate                                                \n2018-02-28       2       4     NaN     NaN     NaN  \n2018-03-31       3       4     NaN     NaN     NaN  \n2018-04-30       1       4       3     NaN     NaN  \n2018-05-31       1       5       3       1       3  \n2018-06-30       2       5       4       1       3  \n2018-07-31       3       5       4       1       3  \n2018-08-31       3       5       4       1       3  \n2018-09-30       3       5       4       1       4  \n2018-10-31       3       5       4       1       4  \n2018-11-30       3       5       4       1       4  \n2018-12-31       2       5       4       1       4  \n2019-01-31       2       5       4       1       3  \n2019-02-28       2       5       4       2       3  \n2019-03-31       2       5       4       1       3  \n2019-04-30       2       5       4       1       3  \n2019-05-31       2       5       3       1       3  \n2019-06-30       2       5       4       1       3  \n2019-07-31       3       5       4       1       3  \n2019-08-31       3       5       4       1       3  \n2019-09-30       3       5       4       1       3  \n2019-10-31       2       5       4       1       3  \n2019-11-30       3       5       4       1       3  \n2019-12-31       2       5       4       1       3  \n2020-01-31       3       5       4       1       2  \n2020-02-29       3       5       4       1       3  \n2020-03-31       3       5       4       1       3  \n2020-04-30       3       5       4       1       3  \n2020-05-31       3       5       4       1       3  \n2020-06-30       3       5       4       1       3  \n2020-07-31       3       5       4       1       3  \n2020-08-31       2       5       4       1       3  \n2020-09-30       3       5       4       1       2  \n2020-10-31       3       5       4       1       2  \n2020-11-30       3       5       4       1       3  \n2020-12-31       3       5       4       1       3  \n2021-01-31       3       5       3       2       4  \n2021-02-28       3       5       3       1       4  \n2021-03-31       3       5       3       1       4  \n2021-04-30       3       5       3       1       4  \n2021-05-31       2       5       2       1       4  ",
      "text/html": "<div>\n<style scoped>\n    .dataframe tbody tr th:only-of-type {\n        vertical-align: middle;\n    }\n\n    .dataframe tbody tr th {\n        vertical-align: top;\n    }\n\n    .dataframe thead th {\n        text-align: right;\n    }\n</style>\n<table border=\"1\" class=\"dataframe\">\n  <thead>\n    <tr style=\"text-align: right;\">\n      <th></th>\n      <th>btc-usd</th>\n      <th>eos-usd</th>\n      <th>etc-usd</th>\n      <th>eth-usd</th>\n      <th>ltc-usd</th>\n      <th>miota-usd</th>\n      <th>neo-usd</th>\n      <th>trx-usd</th>\n      <th>xmr-usd</th>\n      <th>xrp-usd</th>\n      <th>dai-usd</th>\n      <th>mkr-usd</th>\n      <th>xlm-usd</th>\n    </tr>\n    <tr>\n      <th>date</th>\n      <th></th>\n      <th></th>\n      <th></th>\n      <th></th>\n      <th></th>\n      <th></th>\n      <th></th>\n      <th></th>\n      <th></th>\n      <th></th>\n      <th></th>\n      <th></th>\n      <th></th>\n    </tr>\n  </thead>\n  <tbody>\n    <tr>\n      <th>2018-02-28</th>\n      <td>5</td>\n      <td>3</td>\n      <td>2</td>\n      <td>5</td>\n      <td>4</td>\n      <td>1</td>\n      <td>3</td>\n      <td>1</td>\n      <td>2</td>\n      <td>4</td>\n      <td>NaN</td>\n      <td>NaN</td>\n      <td>NaN</td>\n    </tr>\n    <tr>\n      <th>2018-03-31</th>\n      <td>5</td>\n      <td>3</td>\n      <td>1</td>\n      <td>5</td>\n      <td>4</td>\n      <td>2</td>\n      <td>2</td>\n      <td>1</td>\n      <td>3</td>\n      <td>4</td>\n      <td>NaN</td>\n      <td>NaN</td>\n      <td>NaN</td>\n    </tr>\n    <tr>\n      <th>2018-04-30</th>\n      <td>5</td>\n      <td>4</td>\n      <td>1</td>\n      <td>5</td>\n      <td>3</td>\n      <td>1</td>\n      <td>2</td>\n      <td>2</td>\n      <td>1</td>\n      <td>4</td>\n      <td>3</td>\n      <td>NaN</td>\n      <td>NaN</td>\n    </tr>\n    <tr>\n      <th>2018-05-31</th>\n      <td>5</td>\n      <td>4</td>\n      <td>1</td>\n      <td>5</td>\n      <td>4</td>\n      <td>2</td>\n      <td>2</td>\n      <td>3</td>\n      <td>1</td>\n      <td>5</td>\n      <td>3</td>\n      <td>1</td>\n      <td>3</td>\n    </tr>\n    <tr>\n      <th>2018-06-30</th>\n      <td>5</td>\n      <td>4</td>\n      <td>1</td>\n      <td>5</td>\n      <td>3</td>\n      <td>2</td>\n      <td>1</td>\n      <td>3</td>\n      <td>2</td>\n      <td>5</td>\n      <td>4</td>\n      <td>1</td>\n      <td>3</td>\n    </tr>\n    <tr>\n      <th>2018-07-31</th>\n      <td>5</td>\n      <td>4</td>\n      <td>2</td>\n      <td>5</td>\n      <td>3</td>\n      <td>1</td>\n      <td>1</td>\n      <td>2</td>\n      <td>3</td>\n      <td>5</td>\n      <td>4</td>\n      <td>1</td>\n      <td>3</td>\n    </tr>\n    <tr>\n      <th>2018-08-31</th>\n      <td>5</td>\n      <td>4</td>\n      <td>2</td>\n      <td>5</td>\n      <td>3</td>\n      <td>1</td>\n      <td>1</td>\n      <td>2</td>\n      <td>3</td>\n      <td>5</td>\n      <td>4</td>\n      <td>1</td>\n      <td>3</td>\n    </tr>\n    <tr>\n      <th>2018-09-30</th>\n      <td>5</td>\n      <td>3</td>\n      <td>2</td>\n      <td>5</td>\n      <td>3</td>\n      <td>1</td>\n      <td>1</td>\n      <td>2</td>\n      <td>3</td>\n      <td>5</td>\n      <td>4</td>\n      <td>1</td>\n      <td>4</td>\n    </tr>\n    <tr>\n      <th>2018-10-31</th>\n      <td>5</td>\n      <td>3</td>\n      <td>2</td>\n      <td>5</td>\n      <td>3</td>\n      <td>1</td>\n      <td>1</td>\n      <td>2</td>\n      <td>3</td>\n      <td>5</td>\n      <td>4</td>\n      <td>1</td>\n      <td>4</td>\n    </tr>\n    <tr>\n      <th>2018-11-30</th>\n      <td>5</td>\n      <td>3</td>\n      <td>1</td>\n      <td>5</td>\n      <td>3</td>\n      <td>2</td>\n      <td>1</td>\n      <td>2</td>\n      <td>3</td>\n      <td>5</td>\n      <td>4</td>\n      <td>1</td>\n      <td>4</td>\n    </tr>\n    <tr>\n      <th>2018-12-31</th>\n      <td>5</td>\n      <td>3</td>\n      <td>1</td>\n      <td>5</td>\n      <td>3</td>\n      <td>2</td>\n      <td>1</td>\n      <td>3</td>\n      <td>2</td>\n      <td>5</td>\n      <td>4</td>\n      <td>1</td>\n      <td>4</td>\n    </tr>\n    <tr>\n      <th>2019-01-31</th>\n      <td>5</td>\n      <td>4</td>\n      <td>1</td>\n      <td>5</td>\n      <td>3</td>\n      <td>2</td>\n      <td>1</td>\n      <td>3</td>\n      <td>2</td>\n      <td>5</td>\n      <td>4</td>\n      <td>1</td>\n      <td>3</td>\n    </tr>\n    <tr>\n      <th>2019-02-28</th>\n      <td>5</td>\n      <td>4</td>\n      <td>1</td>\n      <td>5</td>\n      <td>3</td>\n      <td>1</td>\n      <td>1</td>\n      <td>3</td>\n      <td>2</td>\n      <td>5</td>\n      <td>4</td>\n      <td>2</td>\n      <td>3</td>\n    </tr>\n    <tr>\n      <th>2019-03-31</th>\n      <td>5</td>\n      <td>4</td>\n      <td>1</td>\n      <td>5</td>\n      <td>3</td>\n      <td>2</td>\n      <td>1</td>\n      <td>3</td>\n      <td>2</td>\n      <td>5</td>\n      <td>4</td>\n      <td>1</td>\n      <td>3</td>\n    </tr>\n    <tr>\n      <th>2019-04-30</th>\n      <td>5</td>\n      <td>4</td>\n      <td>2</td>\n      <td>5</td>\n      <td>3</td>\n      <td>1</td>\n      <td>1</td>\n      <td>3</td>\n      <td>2</td>\n      <td>5</td>\n      <td>4</td>\n      <td>1</td>\n      <td>3</td>\n    </tr>\n    <tr>\n      <th>2019-05-31</th>\n      <td>5</td>\n      <td>4</td>\n      <td>1</td>\n      <td>5</td>\n      <td>4</td>\n      <td>2</td>\n      <td>1</td>\n      <td>3</td>\n      <td>2</td>\n      <td>5</td>\n      <td>3</td>\n      <td>1</td>\n      <td>3</td>\n    </tr>\n    <tr>\n      <th>2019-06-30</th>\n      <td>5</td>\n      <td>3</td>\n      <td>2</td>\n      <td>5</td>\n      <td>4</td>\n      <td>1</td>\n      <td>1</td>\n      <td>3</td>\n      <td>2</td>\n      <td>5</td>\n      <td>4</td>\n      <td>1</td>\n      <td>3</td>\n    </tr>\n    <tr>\n      <th>2019-07-31</th>\n      <td>5</td>\n      <td>3</td>\n      <td>2</td>\n      <td>5</td>\n      <td>4</td>\n      <td>1</td>\n      <td>1</td>\n      <td>2</td>\n      <td>3</td>\n      <td>5</td>\n      <td>4</td>\n      <td>1</td>\n      <td>3</td>\n    </tr>\n    <tr>\n      <th>2019-08-31</th>\n      <td>5</td>\n      <td>3</td>\n      <td>2</td>\n      <td>5</td>\n      <td>4</td>\n      <td>1</td>\n      <td>1</td>\n      <td>2</td>\n      <td>3</td>\n      <td>5</td>\n      <td>4</td>\n      <td>1</td>\n      <td>3</td>\n    </tr>\n    <tr>\n      <th>2019-09-30</th>\n      <td>5</td>\n      <td>3</td>\n      <td>2</td>\n      <td>5</td>\n      <td>4</td>\n      <td>1</td>\n      <td>1</td>\n      <td>2</td>\n      <td>3</td>\n      <td>5</td>\n      <td>4</td>\n      <td>1</td>\n      <td>3</td>\n    </tr>\n    <tr>\n      <th>2019-10-31</th>\n      <td>5</td>\n      <td>3</td>\n      <td>2</td>\n      <td>5</td>\n      <td>4</td>\n      <td>1</td>\n      <td>1</td>\n      <td>3</td>\n      <td>2</td>\n      <td>5</td>\n      <td>4</td>\n      <td>1</td>\n      <td>3</td>\n    </tr>\n    <tr>\n      <th>2019-11-30</th>\n      <td>5</td>\n      <td>3</td>\n      <td>1</td>\n      <td>5</td>\n      <td>4</td>\n      <td>1</td>\n      <td>2</td>\n      <td>2</td>\n      <td>3</td>\n      <td>5</td>\n      <td>4</td>\n      <td>1</td>\n      <td>3</td>\n    </tr>\n    <tr>\n      <th>2019-12-31</th>\n      <td>5</td>\n      <td>3</td>\n      <td>2</td>\n      <td>5</td>\n      <td>4</td>\n      <td>1</td>\n      <td>1</td>\n      <td>3</td>\n      <td>2</td>\n      <td>5</td>\n      <td>4</td>\n      <td>1</td>\n      <td>3</td>\n    </tr>\n    <tr>\n      <th>2020-01-31</th>\n      <td>5</td>\n      <td>3</td>\n      <td>3</td>\n      <td>5</td>\n      <td>4</td>\n      <td>1</td>\n      <td>1</td>\n      <td>2</td>\n      <td>3</td>\n      <td>5</td>\n      <td>4</td>\n      <td>1</td>\n      <td>2</td>\n    </tr>\n    <tr>\n      <th>2020-02-29</th>\n      <td>5</td>\n      <td>3</td>\n      <td>2</td>\n      <td>5</td>\n      <td>4</td>\n      <td>1</td>\n      <td>1</td>\n      <td>2</td>\n      <td>3</td>\n      <td>5</td>\n      <td>4</td>\n      <td>1</td>\n      <td>3</td>\n    </tr>\n    <tr>\n      <th>2020-03-31</th>\n      <td>5</td>\n      <td>3</td>\n      <td>2</td>\n      <td>5</td>\n      <td>4</td>\n      <td>1</td>\n      <td>1</td>\n      <td>2</td>\n      <td>3</td>\n      <td>5</td>\n      <td>4</td>\n      <td>1</td>\n      <td>3</td>\n    </tr>\n    <tr>\n      <th>2020-04-30</th>\n      <td>5</td>\n      <td>3</td>\n      <td>2</td>\n      <td>5</td>\n      <td>4</td>\n      <td>1</td>\n      <td>1</td>\n      <td>2</td>\n      <td>3</td>\n      <td>5</td>\n      <td>4</td>\n      <td>1</td>\n      <td>3</td>\n    </tr>\n    <tr>\n      <th>2020-05-31</th>\n      <td>5</td>\n      <td>3</td>\n      <td>2</td>\n      <td>5</td>\n      <td>4</td>\n      <td>1</td>\n      <td>1</td>\n      <td>2</td>\n      <td>3</td>\n      <td>5</td>\n      <td>4</td>\n      <td>1</td>\n      <td>3</td>\n    </tr>\n    <tr>\n      <th>2020-06-30</th>\n      <td>5</td>\n      <td>3</td>\n      <td>2</td>\n      <td>5</td>\n      <td>4</td>\n      <td>1</td>\n      <td>1</td>\n      <td>2</td>\n      <td>3</td>\n      <td>5</td>\n      <td>4</td>\n      <td>1</td>\n      <td>3</td>\n    </tr>\n    <tr>\n      <th>2020-07-31</th>\n      <td>5</td>\n      <td>3</td>\n      <td>2</td>\n      <td>5</td>\n      <td>4</td>\n      <td>1</td>\n      <td>1</td>\n      <td>2</td>\n      <td>3</td>\n      <td>5</td>\n      <td>4</td>\n      <td>1</td>\n      <td>3</td>\n    </tr>\n    <tr>\n      <th>2020-08-31</th>\n      <td>5</td>\n      <td>3</td>\n      <td>1</td>\n      <td>5</td>\n      <td>4</td>\n      <td>1</td>\n      <td>2</td>\n      <td>3</td>\n      <td>2</td>\n      <td>5</td>\n      <td>4</td>\n      <td>1</td>\n      <td>3</td>\n    </tr>\n    <tr>\n      <th>2020-09-30</th>\n      <td>5</td>\n      <td>3</td>\n      <td>1</td>\n      <td>5</td>\n      <td>4</td>\n      <td>1</td>\n      <td>2</td>\n      <td>3</td>\n      <td>3</td>\n      <td>5</td>\n      <td>4</td>\n      <td>1</td>\n      <td>2</td>\n    </tr>\n    <tr>\n      <th>2020-10-31</th>\n      <td>5</td>\n      <td>3</td>\n      <td>1</td>\n      <td>5</td>\n      <td>4</td>\n      <td>1</td>\n      <td>2</td>\n      <td>3</td>\n      <td>3</td>\n      <td>5</td>\n      <td>4</td>\n      <td>1</td>\n      <td>2</td>\n    </tr>\n    <tr>\n      <th>2020-11-30</th>\n      <td>5</td>\n      <td>3</td>\n      <td>1</td>\n      <td>5</td>\n      <td>4</td>\n      <td>1</td>\n      <td>2</td>\n      <td>2</td>\n      <td>3</td>\n      <td>5</td>\n      <td>4</td>\n      <td>1</td>\n      <td>3</td>\n    </tr>\n    <tr>\n      <th>2020-12-31</th>\n      <td>5</td>\n      <td>3</td>\n      <td>1</td>\n      <td>5</td>\n      <td>4</td>\n      <td>1</td>\n      <td>2</td>\n      <td>2</td>\n      <td>3</td>\n      <td>5</td>\n      <td>4</td>\n      <td>1</td>\n      <td>3</td>\n    </tr>\n    <tr>\n      <th>2021-01-31</th>\n      <td>5</td>\n      <td>3</td>\n      <td>1</td>\n      <td>5</td>\n      <td>4</td>\n      <td>1</td>\n      <td>1</td>\n      <td>2</td>\n      <td>3</td>\n      <td>5</td>\n      <td>3</td>\n      <td>2</td>\n      <td>4</td>\n    </tr>\n    <tr>\n      <th>2021-02-28</th>\n      <td>5</td>\n      <td>3</td>\n      <td>1</td>\n      <td>5</td>\n      <td>4</td>\n      <td>2</td>\n      <td>1</td>\n      <td>2</td>\n      <td>3</td>\n      <td>5</td>\n      <td>3</td>\n      <td>1</td>\n      <td>4</td>\n    </tr>\n    <tr>\n      <th>2021-03-31</th>\n      <td>5</td>\n      <td>2</td>\n      <td>1</td>\n      <td>5</td>\n      <td>4</td>\n      <td>2</td>\n      <td>1</td>\n      <td>3</td>\n      <td>3</td>\n      <td>5</td>\n      <td>3</td>\n      <td>1</td>\n      <td>4</td>\n    </tr>\n    <tr>\n      <th>2021-04-30</th>\n      <td>5</td>\n      <td>2</td>\n      <td>1</td>\n      <td>5</td>\n      <td>4</td>\n      <td>1</td>\n      <td>2</td>\n      <td>3</td>\n      <td>3</td>\n      <td>5</td>\n      <td>3</td>\n      <td>1</td>\n      <td>4</td>\n    </tr>\n    <tr>\n      <th>2021-05-31</th>\n      <td>5</td>\n      <td>3</td>\n      <td>3</td>\n      <td>5</td>\n      <td>4</td>\n      <td>1</td>\n      <td>1</td>\n      <td>3</td>\n      <td>2</td>\n      <td>5</td>\n      <td>2</td>\n      <td>1</td>\n      <td>4</td>\n    </tr>\n  </tbody>\n</table>\n</div>"
     },
     "execution_count": 54,
     "metadata": {},
     "output_type": "execute_result"
    }
   ],
   "source": [
    "market_cap_deciles = market_cap.dropna(axis=0, thresh=2).apply(lambda x: pd.qcut(x, q=5, labels=list(range(1, 6))), axis=1, )\n",
    "market_cap_deciles"
   ]
  },
  {
   "cell_type": "code",
   "execution_count": 55,
   "outputs": [
    {
     "data": {
      "text/plain": "date               \n2018-02-28  btc-usd    5\n            eos-usd    3\n            etc-usd    2\n            eth-usd    5\n            ltc-usd    4\n                      ..\n2021-05-31  xmr-usd    2\n            xrp-usd    5\n            dai-usd    2\n            mkr-usd    1\n            xlm-usd    4\nLength: 512, dtype: category\nCategories (5, int64): [1 < 2 < 3 < 4 < 5]"
     },
     "execution_count": 55,
     "metadata": {},
     "output_type": "execute_result"
    }
   ],
   "source": [
    "market_cap_deciles = market_cap_deciles.stack(0)\n",
    "market_cap_deciles"
   ],
   "metadata": {
    "collapsed": false,
    "pycharm": {
     "name": "#%%\n"
    }
   }
  },
  {
   "cell_type": "code",
   "execution_count": 56,
   "outputs": [
    {
     "data": {
      "text/plain": "date        ticker \n2018-02-28  btc-usd    5\n            eos-usd    3\n            etc-usd    2\n            eth-usd    5\n            ltc-usd    4\n                      ..\n2021-05-31  xmr-usd    2\n            xrp-usd    5\n            dai-usd    2\n            mkr-usd    1\n            xlm-usd    4\nName: msize, Length: 512, dtype: category\nCategories (5, int64): [1 < 2 < 3 < 4 < 5]"
     },
     "execution_count": 56,
     "metadata": {},
     "output_type": "execute_result"
    }
   ],
   "source": [
    "market_cap_deciles.index.set_names(['date', 'ticker'], inplace=True)\n",
    "market_cap_deciles.rename('msize', inplace=True)\n",
    "market_cap_deciles"
   ],
   "metadata": {
    "collapsed": false,
    "pycharm": {
     "name": "#%%\n"
    }
   }
  },
  {
   "cell_type": "code",
   "execution_count": 57,
   "outputs": [],
   "source": [
    "data = data.join(market_cap_deciles)"
   ],
   "metadata": {
    "collapsed": false,
    "pycharm": {
     "name": "#%%\n"
    }
   }
  },
  {
   "cell_type": "code",
   "execution_count": 58,
   "outputs": [
    {
     "name": "stdout",
     "output_type": "stream",
     "text": [
      "<class 'pandas.core.frame.DataFrame'>\n",
      "MultiIndex: 512 entries, (Timestamp('2018-02-28 00:00:00', freq='M'), 'btc-usd') to (Timestamp('2021-05-31 00:00:00', freq='M'), 'xlm-usd')\n",
      "Data columns (total 32 columns):\n",
      " #   Column         Non-Null Count  Dtype   \n",
      "---  ------         --------------  -----   \n",
      " 0   return_1M      499 non-null    float64 \n",
      " 1   return_2M      486 non-null    float64 \n",
      " 2   return_3M      473 non-null    float64 \n",
      " 3   return_6M      434 non-null    float64 \n",
      " 4   return_9M      395 non-null    float64 \n",
      " 5   return_12M     356 non-null    float64 \n",
      " 6   Mkt-RF         512 non-null    float64 \n",
      " 7   SMB            512 non-null    float64 \n",
      " 8   HML            512 non-null    float64 \n",
      " 9   RMW            512 non-null    float64 \n",
      " 10  CMA            512 non-null    float64 \n",
      " 11  momentum_2     486 non-null    float64 \n",
      " 12  momentum_3     473 non-null    float64 \n",
      " 13  momentum_6     434 non-null    float64 \n",
      " 14  momentum_9     395 non-null    float64 \n",
      " 15  momentum_12    356 non-null    float64 \n",
      " 16  momentum_3_12  356 non-null    float64 \n",
      " 17  year           512 non-null    int64   \n",
      " 18  month          512 non-null    int64   \n",
      " 19  return_1M_t-1  486 non-null    float64 \n",
      " 20  return_1M_t-2  473 non-null    float64 \n",
      " 21  return_1M_t-3  460 non-null    float64 \n",
      " 22  return_1M_t-4  447 non-null    float64 \n",
      " 23  return_1M_t-5  434 non-null    float64 \n",
      " 24  return_1M_t-6  421 non-null    float64 \n",
      " 25  target_1M      499 non-null    float64 \n",
      " 26  target_2M      486 non-null    float64 \n",
      " 27  target_3M      473 non-null    float64 \n",
      " 28  target_6M      434 non-null    float64 \n",
      " 29  target_12M     356 non-null    float64 \n",
      " 30  age            512 non-null    int64   \n",
      " 31  msize          512 non-null    category\n",
      "dtypes: category(1), float64(28), int64(3)\n",
      "memory usage: 144.7+ KB\n"
     ]
    }
   ],
   "source": [
    "data.info()"
   ],
   "metadata": {
    "collapsed": false,
    "pycharm": {
     "name": "#%%\n"
    }
   }
  },
  {
   "cell_type": "code",
   "execution_count": 59,
   "outputs": [
    {
     "data": {
      "text/plain": "                    return_1M  return_2M  return_3M  return_6M  return_9M  \\\ndate       ticker                                                           \n2021-01-31 xlm-usd   1.400125   0.230011   0.580741   0.211592   0.180931   \n2021-02-28 xlm-usd   0.326344   0.784206   0.261318   0.268263   0.214532   \n2021-03-31 xlm-usd  -0.007130   0.147557   0.467554   0.324753   0.220902   \n2021-04-30 xlm-usd   0.309700   0.140334   0.199242   0.376841   0.207461   \n2021-05-31 xlm-usd   0.270709   0.290057   0.182234   0.221136   0.238913   \n\n                    return_12M    Mkt-RF       SMB       HML        RMW  ...  \\\ndate       ticker                                                        ...   \n2021-01-31 xlm-usd    0.144061  6.853821 -6.910414  3.743477 -14.450628  ...   \n2021-02-28 xlm-usd    0.177706  4.759782 -0.696369  1.936344  -8.407229  ...   \n2021-03-31 xlm-usd    0.210209  5.452983 -1.684484  2.975545  -6.809810  ...   \n2021-04-30 xlm-usd    0.185482  7.425062  0.244599  3.898213 -11.145528  ...   \n2021-05-31 xlm-usd    0.206376  2.250989 -1.590903 -1.302554   2.893605  ...   \n\n                    return_1M_t-4  return_1M_t-5  return_1M_t-6  target_1M  \\\ndate       ticker                                                            \n2021-01-31 xlm-usd      -0.235567       0.008181       0.446901   0.326344   \n2021-02-28 xlm-usd       0.039152      -0.235567       0.008181  -0.007130   \n2021-03-31 xlm-usd       1.610745       0.039152      -0.235567   0.309700   \n2021-04-30 xlm-usd      -0.369647       1.610745       0.039152   0.270709   \n2021-05-31 xlm-usd       1.400125      -0.369647       1.610745        NaN   \n\n                    target_2M  target_3M  target_6M  target_12M  age  msize  \ndate       ticker                                                            \n2021-01-31 xlm-usd   0.147557   0.199242        NaN         NaN    0      4  \n2021-02-28 xlm-usd   0.140334   0.182234        NaN         NaN    0      4  \n2021-03-31 xlm-usd   0.290057        NaN        NaN         NaN    0      4  \n2021-04-30 xlm-usd        NaN        NaN        NaN         NaN    0      4  \n2021-05-31 xlm-usd        NaN        NaN        NaN         NaN    0      4  \n\n[5 rows x 32 columns]",
      "text/html": "<div>\n<style scoped>\n    .dataframe tbody tr th:only-of-type {\n        vertical-align: middle;\n    }\n\n    .dataframe tbody tr th {\n        vertical-align: top;\n    }\n\n    .dataframe thead th {\n        text-align: right;\n    }\n</style>\n<table border=\"1\" class=\"dataframe\">\n  <thead>\n    <tr style=\"text-align: right;\">\n      <th></th>\n      <th></th>\n      <th>return_1M</th>\n      <th>return_2M</th>\n      <th>return_3M</th>\n      <th>return_6M</th>\n      <th>return_9M</th>\n      <th>return_12M</th>\n      <th>Mkt-RF</th>\n      <th>SMB</th>\n      <th>HML</th>\n      <th>RMW</th>\n      <th>...</th>\n      <th>return_1M_t-4</th>\n      <th>return_1M_t-5</th>\n      <th>return_1M_t-6</th>\n      <th>target_1M</th>\n      <th>target_2M</th>\n      <th>target_3M</th>\n      <th>target_6M</th>\n      <th>target_12M</th>\n      <th>age</th>\n      <th>msize</th>\n    </tr>\n    <tr>\n      <th>date</th>\n      <th>ticker</th>\n      <th></th>\n      <th></th>\n      <th></th>\n      <th></th>\n      <th></th>\n      <th></th>\n      <th></th>\n      <th></th>\n      <th></th>\n      <th></th>\n      <th></th>\n      <th></th>\n      <th></th>\n      <th></th>\n      <th></th>\n      <th></th>\n      <th></th>\n      <th></th>\n      <th></th>\n      <th></th>\n      <th></th>\n    </tr>\n  </thead>\n  <tbody>\n    <tr>\n      <th>2021-01-31</th>\n      <th>xlm-usd</th>\n      <td>1.400125</td>\n      <td>0.230011</td>\n      <td>0.580741</td>\n      <td>0.211592</td>\n      <td>0.180931</td>\n      <td>0.144061</td>\n      <td>6.853821</td>\n      <td>-6.910414</td>\n      <td>3.743477</td>\n      <td>-14.450628</td>\n      <td>...</td>\n      <td>-0.235567</td>\n      <td>0.008181</td>\n      <td>0.446901</td>\n      <td>0.326344</td>\n      <td>0.147557</td>\n      <td>0.199242</td>\n      <td>NaN</td>\n      <td>NaN</td>\n      <td>0</td>\n      <td>4</td>\n    </tr>\n    <tr>\n      <th>2021-02-28</th>\n      <th>xlm-usd</th>\n      <td>0.326344</td>\n      <td>0.784206</td>\n      <td>0.261318</td>\n      <td>0.268263</td>\n      <td>0.214532</td>\n      <td>0.177706</td>\n      <td>4.759782</td>\n      <td>-0.696369</td>\n      <td>1.936344</td>\n      <td>-8.407229</td>\n      <td>...</td>\n      <td>0.039152</td>\n      <td>-0.235567</td>\n      <td>0.008181</td>\n      <td>-0.007130</td>\n      <td>0.140334</td>\n      <td>0.182234</td>\n      <td>NaN</td>\n      <td>NaN</td>\n      <td>0</td>\n      <td>4</td>\n    </tr>\n    <tr>\n      <th>2021-03-31</th>\n      <th>xlm-usd</th>\n      <td>-0.007130</td>\n      <td>0.147557</td>\n      <td>0.467554</td>\n      <td>0.324753</td>\n      <td>0.220902</td>\n      <td>0.210209</td>\n      <td>5.452983</td>\n      <td>-1.684484</td>\n      <td>2.975545</td>\n      <td>-6.809810</td>\n      <td>...</td>\n      <td>1.610745</td>\n      <td>0.039152</td>\n      <td>-0.235567</td>\n      <td>0.309700</td>\n      <td>0.290057</td>\n      <td>NaN</td>\n      <td>NaN</td>\n      <td>NaN</td>\n      <td>0</td>\n      <td>4</td>\n    </tr>\n    <tr>\n      <th>2021-04-30</th>\n      <th>xlm-usd</th>\n      <td>0.309700</td>\n      <td>0.140334</td>\n      <td>0.199242</td>\n      <td>0.376841</td>\n      <td>0.207461</td>\n      <td>0.185482</td>\n      <td>7.425062</td>\n      <td>0.244599</td>\n      <td>3.898213</td>\n      <td>-11.145528</td>\n      <td>...</td>\n      <td>-0.369647</td>\n      <td>1.610745</td>\n      <td>0.039152</td>\n      <td>0.270709</td>\n      <td>NaN</td>\n      <td>NaN</td>\n      <td>NaN</td>\n      <td>NaN</td>\n      <td>0</td>\n      <td>4</td>\n    </tr>\n    <tr>\n      <th>2021-05-31</th>\n      <th>xlm-usd</th>\n      <td>0.270709</td>\n      <td>0.290057</td>\n      <td>0.182234</td>\n      <td>0.221136</td>\n      <td>0.238913</td>\n      <td>0.206376</td>\n      <td>2.250989</td>\n      <td>-1.590903</td>\n      <td>-1.302554</td>\n      <td>2.893605</td>\n      <td>...</td>\n      <td>1.400125</td>\n      <td>-0.369647</td>\n      <td>1.610745</td>\n      <td>NaN</td>\n      <td>NaN</td>\n      <td>NaN</td>\n      <td>NaN</td>\n      <td>NaN</td>\n      <td>0</td>\n      <td>4</td>\n    </tr>\n  </tbody>\n</table>\n<p>5 rows × 32 columns</p>\n</div>"
     },
     "execution_count": 59,
     "metadata": {},
     "output_type": "execute_result"
    }
   ],
   "source": [
    "data.tail()"
   ],
   "metadata": {
    "collapsed": false,
    "pycharm": {
     "name": "#%%\n"
    }
   }
  },
  {
   "cell_type": "markdown",
   "metadata": {},
   "source": [
    "## Store data"
   ]
  },
  {
   "cell_type": "markdown",
   "metadata": {},
   "source": [
    "We will use the data again in several later chapters, starting in [Chapter 7 on Linear Models](../07_linear_models)."
   ]
  },
  {
   "cell_type": "code",
   "execution_count": 60,
   "metadata": {
    "ExecuteTime": {
     "end_time": "2021-02-23T05:20:20.864419Z",
     "start_time": "2021-02-23T05:20:20.544330Z"
    },
    "scrolled": false,
    "pycharm": {
     "name": "#%%\n"
    }
   },
   "outputs": [
    {
     "name": "stdout",
     "output_type": "stream",
     "text": [
      "<class 'pandas.io.pytables.HDFStore'>\n",
      "File path: ../data/crypto.h5\n",
      "/coingecko/top100/cats                                   frame        (shape->[100,50])                                                               \n",
      "/coingecko/top100/market                                 frame        (shape->[100,13])                                                               \n",
      "/crypto/caggle/prices                                    frame        (shape->[3261244,5])                                                            \n",
      "/engineered_features                                     frame_table  (typ->appendable_multi,nrows->512,ncols->34,indexers->[index],dc->[ticker,date])\n",
      "/engineered_features/meta/values_block_2/meta            series_table (typ->appendable,nrows->5,ncols->1,indexers->[index],dc->[values])              \n"
     ]
    }
   ],
   "source": [
    "with pd.HDFStore(DATA_STORE) as store:\n",
    "    store.put('engineered_features', data.sort_index(), format='t')\n",
    "    print(store.info())\n",
    "\n",
    "\n"
   ]
  }
 ],
 "metadata": {
  "kernelspec": {
   "display_name": "Python 3",
   "language": "python",
   "name": "python3"
  },
  "language_info": {
   "codemirror_mode": {
    "name": "ipython",
    "version": 3
   },
   "file_extension": ".py",
   "mimetype": "text/x-python",
   "name": "python",
   "nbconvert_exporter": "python",
   "pygments_lexer": "ipython3",
   "version": "3.8.5"
  },
  "toc": {
   "base_numbering": 1,
   "nav_menu": {},
   "number_sections": true,
   "sideBar": true,
   "skip_h1_title": true,
   "title_cell": "Table of Contents",
   "title_sidebar": "Contents",
   "toc_cell": false,
   "toc_position": {
    "height": "calc(100% - 180px)",
    "left": "10px",
    "top": "150px",
    "width": "230.355px"
   },
   "toc_section_display": true,
   "toc_window_display": true
  }
 },
 "nbformat": 4,
 "nbformat_minor": 2
}