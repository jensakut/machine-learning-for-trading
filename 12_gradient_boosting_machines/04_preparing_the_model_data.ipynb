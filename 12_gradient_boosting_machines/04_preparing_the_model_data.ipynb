{
 "cells": [
  {
   "cell_type": "markdown",
   "source": [
    "# Long-Short Strategy, Part 1: Preparing Alpha Factors and Features"
   ],
   "metadata": {
    "collapsed": false
   }
  },
  {
   "cell_type": "markdown",
   "source": [
    "In this section, we'll start designing, implementing, and evaluating a trading strategy for US equities driven by daily return forecasts produced by gradient boosting models.\n",
    "\n",
    "As in the previous examples, we'll lay out a framework and build a specific example that you can adapt to run your own experiments. There are numerous aspects that you can vary, from the asset class and investment universe to more granular aspects like the features, holding period, or trading rules. See, for example, the **Alpha Factor Library** in the [Appendix](../24_alpha_factor_library) for numerous additional features.\n",
    "\n",
    "We'll keep the trading strategy simple and only use a single ML signal; a real-life application will likely use multiple signals from different sources, such as complementary ML models trained on different datasets or with different lookahead or lookback periods. It would also use sophisticated risk management, from simple stop-loss to value-at-risk analysis.\n",
    "\n",
    "**Six notebooks** cover our workflow sequence:\n",
    "\n",
    "1. `preparing_the_model_data` (this noteboook): we'll engineer a few simple features from the Quandl Wiki data \n",
    "2. [trading_signals_with_lightgbm_and_catboost](05_trading_signals_with_lightgbm_and_catboost.ipynb): we tune hyperparameters for LightGBM and CatBoost to select a model, using 2015/16 as our validation period. \n",
    "3. [evaluate_trading_signals](06_evaluate_trading_signals.ipynb): we compare the cross-validation performance using various metrics to select the best model. \n",
    "4. [model_interpretation](07_model_interpretation.ipynb): we take a closer look at the drivers behind the best model's predictions.\n",
    "5. [making_out_of_sample_predictions](08_making_out_of_sample_predictions.ipynb): we generate predictions for our out-of-sample test period 2017.\n",
    "6. [backtesting_with_zipline](09_backtesting_with_zipline.ipynb): evaluate the historical performance of a long-short strategy based on our predictive signals using Zipline."
   ],
   "metadata": {
    "collapsed": false
   }
  },
  {
   "cell_type": "markdown",
   "source": [
    "## Imports & Settings"
   ],
   "metadata": {
    "collapsed": false
   }
  },
  {
   "cell_type": "code",
   "execution_count": 1,
   "outputs": [],
   "source": [
    "import warnings\n",
    "\n",
    "from data.data_loader import data_loader\n",
    "from utils import reduce_footprint\n",
    "\n",
    "warnings.filterwarnings('ignore')"
   ],
   "metadata": {
    "collapsed": false,
    "pycharm": {
     "name": "#%%\n"
    }
   }
  },
  {
   "cell_type": "code",
   "execution_count": 2,
   "outputs": [],
   "source": [
    "%matplotlib inline\n",
    "import numpy as np\n",
    "import pandas as pd\n",
    "import matplotlib.pyplot as plt\n",
    "import seaborn as sns\n",
    "import talib\n",
    "from talib import RSI, BBANDS, MACD, ATR"
   ],
   "metadata": {
    "collapsed": false,
    "pycharm": {
     "name": "#%%\n"
    }
   }
  },
  {
   "cell_type": "code",
   "execution_count": 3,
   "outputs": [],
   "source": [
    "MONTH = 21\n",
    "YEAR = 12 * MONTH"
   ],
   "metadata": {
    "collapsed": false,
    "pycharm": {
     "name": "#%%\n"
    }
   }
  },
  {
   "cell_type": "code",
   "execution_count": 4,
   "outputs": [],
   "source": [
    "#START = '2010-01-01'\n",
    "#END = '2021-05-01'"
   ],
   "metadata": {
    "collapsed": false,
    "pycharm": {
     "name": "#%%\n"
    }
   }
  },
  {
   "cell_type": "code",
   "execution_count": 5,
   "outputs": [],
   "source": [
    "sns.set_style('darkgrid')\n",
    "idx = pd.IndexSlice"
   ],
   "metadata": {
    "collapsed": false,
    "pycharm": {
     "name": "#%%\n"
    }
   }
  },
  {
   "cell_type": "code",
   "execution_count": 6,
   "outputs": [],
   "source": [
    "percentiles = [.001, .01, .02, .03, .04, .05]\n",
    "percentiles += [1-p for p in percentiles[::-1]]\n",
    "\n"
   ],
   "metadata": {
    "collapsed": false,
    "pycharm": {
     "name": "#%%\n"
    }
   }
  },
  {
   "cell_type": "markdown",
   "source": [
    "## Loading Crypto Prices & Meta Data\n"
   ],
   "metadata": {
    "collapsed": false
   }
  },
  {
   "cell_type": "code",
   "source": [
    "suffix = 'xxxxx456'\n",
    "\n",
    "print(\"w1\")\n",
    "downsampleshift = True\n",
    "prices, metadata, categories = data_loader(timeframe='D',\n",
    "                                           minutes_per_base_frequency=5,  # 5 Minutes sampled input data in data path\n",
    "                prices_path='../data/crypto/prices_5Min.feather',\n",
    "                min_observation_years=1,\n",
    "                drop_level=True,\n",
    "                exclude_stablecoins=True,\n",
    "                cut=False,\n",
    "                reduce_size=True,\n",
    "                downsampleshift=True,\n",
    "                d_shift=5,\n",
    "                load_f32=True,\n",
    "                join_sector=False,\n",
    "                join_sectors=False)\n",
    "\n",
    "print('prices dates {}:{}'.format(prices.index.get_level_values('date').min(),\n",
    "                                 prices.index.get_level_values('date').max()))"
   ],
   "metadata": {
    "collapsed": false,
    "pycharm": {
     "name": "#%%\n"
    }
   },
   "execution_count": 7,
   "outputs": [
    {
     "name": "stdout",
     "output_type": "stream",
     "text": [
      "w1\n",
      "offset 0Min\n",
      "offset 5Min\n",
      "offset 10Min\n",
      "offset 15Min\n",
      "offset 20Min\n",
      "offset 25Min\n",
      "offset 30Min\n",
      "offset 35Min\n",
      "offset 40Min\n",
      "offset 45Min\n",
      "offset 50Min\n",
      "offset 55Min\n",
      "offset 60Min\n",
      "offset 65Min\n",
      "offset 70Min\n",
      "offset 75Min\n",
      "offset 80Min\n",
      "offset 85Min\n",
      "offset 90Min\n",
      "offset 95Min\n",
      "offset 100Min\n",
      "offset 105Min\n",
      "offset 110Min\n",
      "offset 115Min\n",
      "offset 120Min\n",
      "offset 125Min\n",
      "offset 130Min\n",
      "offset 135Min\n",
      "offset 140Min\n",
      "offset 145Min\n",
      "offset 150Min\n",
      "offset 155Min\n",
      "offset 160Min\n",
      "offset 165Min\n",
      "offset 170Min\n",
      "offset 175Min\n",
      "offset 180Min\n",
      "offset 185Min\n",
      "offset 190Min\n",
      "offset 195Min\n",
      "offset 200Min\n",
      "offset 205Min\n",
      "offset 210Min\n",
      "offset 215Min\n",
      "offset 220Min\n",
      "offset 225Min\n",
      "offset 230Min\n",
      "offset 235Min\n",
      "offset 240Min\n",
      "offset 245Min\n",
      "offset 250Min\n",
      "offset 255Min\n",
      "offset 260Min\n",
      "offset 265Min\n",
      "offset 270Min\n",
      "offset 275Min\n",
      "offset 280Min\n",
      "offset 285Min\n",
      "offset 290Min\n",
      "offset 295Min\n",
      "offset 300Min\n",
      "offset 305Min\n",
      "offset 310Min\n",
      "offset 315Min\n",
      "offset 320Min\n",
      "offset 325Min\n",
      "offset 330Min\n",
      "offset 335Min\n",
      "offset 340Min\n",
      "offset 345Min\n",
      "offset 350Min\n",
      "offset 355Min\n",
      "offset 360Min\n",
      "offset 365Min\n",
      "offset 370Min\n",
      "offset 375Min\n",
      "offset 380Min\n",
      "offset 385Min\n",
      "offset 390Min\n",
      "offset 395Min\n",
      "offset 400Min\n",
      "offset 405Min\n",
      "offset 410Min\n",
      "offset 415Min\n",
      "offset 420Min\n",
      "offset 425Min\n",
      "offset 430Min\n",
      "offset 435Min\n",
      "offset 440Min\n",
      "offset 445Min\n",
      "offset 450Min\n",
      "offset 455Min\n",
      "offset 460Min\n",
      "offset 465Min\n",
      "offset 470Min\n",
      "offset 475Min\n",
      "offset 480Min\n",
      "offset 485Min\n",
      "offset 490Min\n",
      "offset 495Min\n",
      "offset 500Min\n",
      "offset 505Min\n",
      "offset 510Min\n",
      "offset 515Min\n",
      "offset 520Min\n",
      "offset 525Min\n",
      "offset 530Min\n",
      "offset 535Min\n",
      "offset 540Min\n",
      "offset 545Min\n",
      "offset 550Min\n",
      "offset 555Min\n",
      "offset 560Min\n",
      "offset 565Min\n",
      "offset 570Min\n",
      "offset 575Min\n",
      "offset 580Min\n",
      "offset 585Min\n",
      "offset 590Min\n",
      "offset 595Min\n",
      "offset 600Min\n",
      "offset 605Min\n",
      "offset 610Min\n",
      "offset 615Min\n",
      "offset 620Min\n",
      "offset 625Min\n",
      "offset 630Min\n",
      "offset 635Min\n",
      "offset 640Min\n",
      "offset 645Min\n",
      "offset 650Min\n",
      "offset 655Min\n",
      "offset 660Min\n",
      "offset 665Min\n",
      "offset 670Min\n",
      "offset 675Min\n",
      "offset 680Min\n",
      "offset 685Min\n",
      "offset 690Min\n",
      "offset 695Min\n",
      "offset 700Min\n",
      "offset 705Min\n",
      "offset 710Min\n",
      "offset 715Min\n",
      "offset 720Min\n",
      "offset 725Min\n",
      "offset 730Min\n",
      "offset 735Min\n",
      "offset 740Min\n",
      "offset 745Min\n",
      "offset 750Min\n",
      "offset 755Min\n",
      "offset 760Min\n",
      "offset 765Min\n",
      "offset 770Min\n",
      "offset 775Min\n",
      "offset 780Min\n",
      "offset 785Min\n",
      "offset 790Min\n",
      "offset 795Min\n",
      "offset 800Min\n",
      "offset 805Min\n",
      "offset 810Min\n",
      "offset 815Min\n",
      "offset 820Min\n",
      "offset 825Min\n",
      "offset 830Min\n",
      "offset 835Min\n",
      "offset 840Min\n",
      "offset 845Min\n",
      "offset 850Min\n",
      "offset 855Min\n",
      "offset 860Min\n",
      "offset 865Min\n",
      "offset 870Min\n",
      "offset 875Min\n",
      "offset 880Min\n",
      "offset 885Min\n",
      "offset 890Min\n",
      "offset 895Min\n",
      "offset 900Min\n",
      "offset 905Min\n",
      "offset 910Min\n",
      "offset 915Min\n",
      "offset 920Min\n",
      "offset 925Min\n",
      "offset 930Min\n",
      "offset 935Min\n",
      "offset 940Min\n",
      "offset 945Min\n",
      "offset 950Min\n",
      "offset 955Min\n",
      "offset 960Min\n",
      "offset 965Min\n",
      "offset 970Min\n",
      "offset 975Min\n",
      "offset 980Min\n",
      "offset 985Min\n",
      "offset 990Min\n",
      "offset 995Min\n",
      "offset 1000Min\n",
      "offset 1005Min\n",
      "offset 1010Min\n",
      "offset 1015Min\n",
      "offset 1020Min\n",
      "offset 1025Min\n",
      "offset 1030Min\n",
      "offset 1035Min\n",
      "offset 1040Min\n",
      "offset 1045Min\n",
      "offset 1050Min\n",
      "offset 1055Min\n",
      "offset 1060Min\n",
      "offset 1065Min\n",
      "offset 1070Min\n",
      "offset 1075Min\n",
      "offset 1080Min\n",
      "offset 1085Min\n",
      "offset 1090Min\n",
      "offset 1095Min\n",
      "offset 1100Min\n",
      "offset 1105Min\n",
      "offset 1110Min\n",
      "offset 1115Min\n",
      "offset 1120Min\n",
      "offset 1125Min\n",
      "offset 1130Min\n",
      "offset 1135Min\n",
      "offset 1140Min\n",
      "offset 1145Min\n",
      "offset 1150Min\n",
      "offset 1155Min\n",
      "offset 1160Min\n",
      "offset 1165Min\n",
      "offset 1170Min\n",
      "offset 1175Min\n",
      "offset 1180Min\n",
      "offset 1185Min\n",
      "offset 1190Min\n",
      "offset 1195Min\n",
      "offset 1200Min\n",
      "offset 1205Min\n",
      "offset 1210Min\n",
      "offset 1215Min\n",
      "offset 1220Min\n",
      "offset 1225Min\n",
      "offset 1230Min\n",
      "offset 1235Min\n",
      "offset 1240Min\n",
      "offset 1245Min\n",
      "offset 1250Min\n",
      "offset 1255Min\n",
      "offset 1260Min\n",
      "offset 1265Min\n",
      "offset 1270Min\n",
      "offset 1275Min\n",
      "offset 1280Min\n",
      "offset 1285Min\n",
      "offset 1290Min\n",
      "offset 1295Min\n",
      "offset 1300Min\n",
      "offset 1305Min\n",
      "offset 1310Min\n",
      "offset 1315Min\n",
      "offset 1320Min\n",
      "offset 1325Min\n",
      "offset 1330Min\n",
      "offset 1335Min\n",
      "offset 1340Min\n",
      "offset 1345Min\n",
      "offset 1350Min\n",
      "offset 1355Min\n",
      "offset 1360Min\n",
      "offset 1365Min\n",
      "offset 1370Min\n",
      "offset 1375Min\n",
      "offset 1380Min\n",
      "offset 1385Min\n",
      "offset 1390Min\n",
      "offset 1395Min\n",
      "offset 1400Min\n",
      "offset 1405Min\n",
      "offset 1410Min\n",
      "offset 1415Min\n",
      "offset 1420Min\n",
      "offset 1425Min\n",
      "offset 1430Min\n",
      "offset 1435Min\n",
      "\n",
      "reducing footprint\n",
      "\n",
      "prices dates 2013-03-31 00:00:00:2021-06-23 00:00:00\n"
     ]
    }
   ]
  },
  {
   "cell_type": "code",
   "execution_count": 8,
   "outputs": [],
   "source": [
    "if downsampleshift:\n",
    "    glevel= ['ticker', 'offset'] # no downsampleshift\n",
    "else:\n",
    "    glevel= 'ticker' # no downsampleshift\n",
    "\n",
    "time_coefficient = 5 # 5 minute frequency but everything\n",
    "# T = [1, 5, 10, 21, 42, 63]\n",
    "T = [1, 2, 3, ]\n",
    "T_minutes = T*time_coefficient\n",
    "factor_scaling = 1"
   ],
   "metadata": {
    "collapsed": false,
    "pycharm": {
     "name": "#%%\n"
    }
   }
  },
  {
   "cell_type": "code",
   "execution_count": 9,
   "outputs": [
    {
     "data": {
      "text/plain": "date\n2013-03-31     286\n2013-04-01     288\n2013-04-02     288\n2013-04-03     288\n2013-04-04     288\n              ... \n2021-06-19    8928\n2021-06-20    8928\n2021-06-21    8928\n2021-06-22    8928\n2021-06-23    5327\nName: close, Length: 3007, dtype: int64"
     },
     "execution_count": 9,
     "metadata": {},
     "output_type": "execute_result"
    }
   ],
   "source": [
    "prices.close.groupby(level=['date']).count()"
   ],
   "metadata": {
    "collapsed": false,
    "pycharm": {
     "name": "#%%\n"
    }
   }
  },
  {
   "cell_type": "code",
   "execution_count": 10,
   "outputs": [
    {
     "data": {
      "text/plain": "                  open                                                   \\\nticker         btc-usd ltc-usd eth-usd etc-usd zec-usd xmr-usd dash-usd   \noffset            0       0       0       0       0       0        0      \ndate                                                                      \n2013-03-31         NaN     NaN     NaN     NaN     NaN     NaN      NaN   \n2013-04-01   93.250000     NaN     NaN     NaN     NaN     NaN      NaN   \n2013-04-02  104.000000     NaN     NaN     NaN     NaN     NaN      NaN   \n2013-04-03  117.958260     NaN     NaN     NaN     NaN     NaN      NaN   \n2013-04-04  134.716553     NaN     NaN     NaN     NaN     NaN      NaN   \n\n                                      ...  volume                            \\\nticker     xrp-usd miota-usd eos-usd  ... bsv-usd btt-usd atom-usd wbtc-usd   \noffset        0         0       0     ...    1435    1435     1435     1435   \ndate                                  ...                                     \n2013-03-31     NaN       NaN     NaN  ...     NaN     NaN      NaN      NaN   \n2013-04-01     NaN       NaN     NaN  ...     NaN     NaN      NaN      NaN   \n2013-04-02     NaN       NaN     NaN  ...     NaN     NaN      NaN      NaN   \n2013-04-03     NaN       NaN     NaN  ...     NaN     NaN      NaN      NaN   \n2013-04-04     NaN       NaN     NaN  ...     NaN     NaN      NaN      NaN   \n\n                                                             \nticker     leo-usd okb-usd algo-usd amp-usd ftt-usd chz-usd  \noffset        1435    1435     1435    1435    1435    1435  \ndate                                                         \n2013-03-31     NaN     NaN      NaN     NaN     NaN     NaN  \n2013-04-01     NaN     NaN      NaN     NaN     NaN     NaN  \n2013-04-02     NaN     NaN      NaN     NaN     NaN     NaN  \n2013-04-03     NaN     NaN      NaN     NaN     NaN     NaN  \n2013-04-04     NaN     NaN      NaN     NaN     NaN     NaN  \n\n[5 rows x 46080 columns]",
      "text/html": "<div>\n<style scoped>\n    .dataframe tbody tr th:only-of-type {\n        vertical-align: middle;\n    }\n\n    .dataframe tbody tr th {\n        vertical-align: top;\n    }\n\n    .dataframe thead tr th {\n        text-align: left;\n    }\n\n    .dataframe thead tr:last-of-type th {\n        text-align: right;\n    }\n</style>\n<table border=\"1\" class=\"dataframe\">\n  <thead>\n    <tr>\n      <th></th>\n      <th colspan=\"10\" halign=\"left\">open</th>\n      <th>...</th>\n      <th colspan=\"10\" halign=\"left\">volume</th>\n    </tr>\n    <tr>\n      <th>ticker</th>\n      <th>btc-usd</th>\n      <th>ltc-usd</th>\n      <th>eth-usd</th>\n      <th>etc-usd</th>\n      <th>zec-usd</th>\n      <th>xmr-usd</th>\n      <th>dash-usd</th>\n      <th>xrp-usd</th>\n      <th>miota-usd</th>\n      <th>eos-usd</th>\n      <th>...</th>\n      <th>bsv-usd</th>\n      <th>btt-usd</th>\n      <th>atom-usd</th>\n      <th>wbtc-usd</th>\n      <th>leo-usd</th>\n      <th>okb-usd</th>\n      <th>algo-usd</th>\n      <th>amp-usd</th>\n      <th>ftt-usd</th>\n      <th>chz-usd</th>\n    </tr>\n    <tr>\n      <th>offset</th>\n      <th>0</th>\n      <th>0</th>\n      <th>0</th>\n      <th>0</th>\n      <th>0</th>\n      <th>0</th>\n      <th>0</th>\n      <th>0</th>\n      <th>0</th>\n      <th>0</th>\n      <th>...</th>\n      <th>1435</th>\n      <th>1435</th>\n      <th>1435</th>\n      <th>1435</th>\n      <th>1435</th>\n      <th>1435</th>\n      <th>1435</th>\n      <th>1435</th>\n      <th>1435</th>\n      <th>1435</th>\n    </tr>\n    <tr>\n      <th>date</th>\n      <th></th>\n      <th></th>\n      <th></th>\n      <th></th>\n      <th></th>\n      <th></th>\n      <th></th>\n      <th></th>\n      <th></th>\n      <th></th>\n      <th></th>\n      <th></th>\n      <th></th>\n      <th></th>\n      <th></th>\n      <th></th>\n      <th></th>\n      <th></th>\n      <th></th>\n      <th></th>\n      <th></th>\n    </tr>\n  </thead>\n  <tbody>\n    <tr>\n      <th>2013-03-31</th>\n      <td>NaN</td>\n      <td>NaN</td>\n      <td>NaN</td>\n      <td>NaN</td>\n      <td>NaN</td>\n      <td>NaN</td>\n      <td>NaN</td>\n      <td>NaN</td>\n      <td>NaN</td>\n      <td>NaN</td>\n      <td>...</td>\n      <td>NaN</td>\n      <td>NaN</td>\n      <td>NaN</td>\n      <td>NaN</td>\n      <td>NaN</td>\n      <td>NaN</td>\n      <td>NaN</td>\n      <td>NaN</td>\n      <td>NaN</td>\n      <td>NaN</td>\n    </tr>\n    <tr>\n      <th>2013-04-01</th>\n      <td>93.250000</td>\n      <td>NaN</td>\n      <td>NaN</td>\n      <td>NaN</td>\n      <td>NaN</td>\n      <td>NaN</td>\n      <td>NaN</td>\n      <td>NaN</td>\n      <td>NaN</td>\n      <td>NaN</td>\n      <td>...</td>\n      <td>NaN</td>\n      <td>NaN</td>\n      <td>NaN</td>\n      <td>NaN</td>\n      <td>NaN</td>\n      <td>NaN</td>\n      <td>NaN</td>\n      <td>NaN</td>\n      <td>NaN</td>\n      <td>NaN</td>\n    </tr>\n    <tr>\n      <th>2013-04-02</th>\n      <td>104.000000</td>\n      <td>NaN</td>\n      <td>NaN</td>\n      <td>NaN</td>\n      <td>NaN</td>\n      <td>NaN</td>\n      <td>NaN</td>\n      <td>NaN</td>\n      <td>NaN</td>\n      <td>NaN</td>\n      <td>...</td>\n      <td>NaN</td>\n      <td>NaN</td>\n      <td>NaN</td>\n      <td>NaN</td>\n      <td>NaN</td>\n      <td>NaN</td>\n      <td>NaN</td>\n      <td>NaN</td>\n      <td>NaN</td>\n      <td>NaN</td>\n    </tr>\n    <tr>\n      <th>2013-04-03</th>\n      <td>117.958260</td>\n      <td>NaN</td>\n      <td>NaN</td>\n      <td>NaN</td>\n      <td>NaN</td>\n      <td>NaN</td>\n      <td>NaN</td>\n      <td>NaN</td>\n      <td>NaN</td>\n      <td>NaN</td>\n      <td>...</td>\n      <td>NaN</td>\n      <td>NaN</td>\n      <td>NaN</td>\n      <td>NaN</td>\n      <td>NaN</td>\n      <td>NaN</td>\n      <td>NaN</td>\n      <td>NaN</td>\n      <td>NaN</td>\n      <td>NaN</td>\n    </tr>\n    <tr>\n      <th>2013-04-04</th>\n      <td>134.716553</td>\n      <td>NaN</td>\n      <td>NaN</td>\n      <td>NaN</td>\n      <td>NaN</td>\n      <td>NaN</td>\n      <td>NaN</td>\n      <td>NaN</td>\n      <td>NaN</td>\n      <td>NaN</td>\n      <td>...</td>\n      <td>NaN</td>\n      <td>NaN</td>\n      <td>NaN</td>\n      <td>NaN</td>\n      <td>NaN</td>\n      <td>NaN</td>\n      <td>NaN</td>\n      <td>NaN</td>\n      <td>NaN</td>\n      <td>NaN</td>\n    </tr>\n  </tbody>\n</table>\n<p>5 rows × 46080 columns</p>\n</div>"
     },
     "execution_count": 10,
     "metadata": {},
     "output_type": "execute_result"
    }
   ],
   "source": [
    "prices.unstack(glevel).head()"
   ],
   "metadata": {
    "collapsed": false,
    "pycharm": {
     "name": "#%%\n"
    }
   }
  },
  {
   "cell_type": "code",
   "execution_count": 11,
   "outputs": [],
   "source": [
    "sadtfagdf = prices.unstack(glevel)"
   ],
   "metadata": {
    "collapsed": false,
    "pycharm": {
     "name": "#%%\n"
    }
   }
  },
  {
   "cell_type": "code",
   "execution_count": 12,
   "outputs": [
    {
     "name": "stdout",
     "output_type": "stream",
     "text": [
      "unique tickers 32 \n",
      "CategoricalIndex(['btc-usd', 'ltc-usd', 'eth-usd', 'etc-usd', 'zec-usd',\n",
      "                  'xmr-usd', 'dash-usd', 'xrp-usd', 'miota-usd', 'eos-usd',\n",
      "                  'neo-usd', 'qtum-usd', 'btg-usd', 'bat-usd', 'trx-usd',\n",
      "                  'xlm-usd', 'mkr-usd', 'bnt-usd', 'vet-usd', 'xtz-usd',\n",
      "                  'dgb-usd', 'enj-usd', 'bsv-usd', 'btt-usd', 'atom-usd',\n",
      "                  'wbtc-usd', 'leo-usd', 'okb-usd', 'algo-usd', 'amp-usd',\n",
      "                  'ftt-usd', 'chz-usd'],\n",
      "                 categories=['btc-usd', 'ltc-usd', 'eth-usd', 'etc-usd', 'zec-usd', 'xmr-usd', 'dash-usd', 'xrp-usd', ...], ordered=False, name='ticker', dtype='category')\n"
     ]
    }
   ],
   "source": [
    "print('unique tickers {} \\n{}'.format(prices.index.get_level_values('ticker').nunique(),\n",
    "                                 prices.index.get_level_values('ticker').unique()))"
   ],
   "metadata": {
    "collapsed": false,
    "pycharm": {
     "name": "#%%\n"
    }
   }
  },
  {
   "cell_type": "code",
   "execution_count": 13,
   "outputs": [
    {
     "name": "stdout",
     "output_type": "stream",
     "text": [
      "<class 'pandas.core.frame.DataFrame'>\n",
      "MultiIndex: 11636124 entries, (Timestamp('2013-04-01 00:00:00'), 0, 'btc-usd') to (Timestamp('2021-06-22 00:00:00'), 1435, 'chz-usd')\n",
      "Data columns (total 5 columns):\n",
      " #   Column  Non-Null Count     Dtype  \n",
      "---  ------  --------------     -----  \n",
      " 0   open    11636124 non-null  float32\n",
      " 1   high    11636124 non-null  float32\n",
      " 2   low     11636124 non-null  float32\n",
      " 3   close   11636124 non-null  float32\n",
      " 4   volume  11636124 non-null  float64\n",
      "dtypes: float32(4), float64(1)\n",
      "memory usage: 333.0 MB\n"
     ]
    }
   ],
   "source": [
    "prices.info(show_counts=True)\n"
   ],
   "metadata": {
    "collapsed": false,
    "pycharm": {
     "name": "#%%\n"
    }
   }
  },
  {
   "cell_type": "markdown",
   "source": [
    "## Add some Basic Factors"
   ],
   "metadata": {
    "collapsed": false,
    "pycharm": {
     "name": "#%% md\n"
    }
   }
  },
  {
   "cell_type": "markdown",
   "source": [
    "See [appendix](../24_alpha_factor_library) for details on the below indicators."
   ],
   "metadata": {
    "collapsed": false
   }
  },
  {
   "cell_type": "markdown",
   "source": [
    "### Compute the Relative Strength Index"
   ],
   "metadata": {
    "collapsed": false
   }
  },
  {
   "cell_type": "code",
   "execution_count": 14,
   "outputs": [],
   "source": [
    "prices['rsi'] = prices.groupby(level=glevel).close.apply(RSI)\n",
    "\n",
    "print('prices dates {}:{}'.format(prices.dropna().index.get_level_values('date').min(),\n",
    "                                 prices.dropna().index.get_level_values('date').max()))"
   ],
   "metadata": {
    "collapsed": false,
    "pycharm": {
     "name": "#%%\n"
    }
   }
  },
  {
   "cell_type": "code",
   "execution_count": 15,
   "outputs": [
    {
     "data": {
      "text/plain": "date        offset  ticker  \n2013-04-01  0       btc-usd           NaN\n2013-04-02  0       btc-usd           NaN\n2013-04-03  0       btc-usd           NaN\n2013-04-04  0       btc-usd           NaN\n2013-04-05  0       btc-usd           NaN\n                                  ...    \n2021-06-22  1435    leo-usd     47.748464\n                    algo-usd    42.551112\n                    amp-usd     48.783588\n                    ftt-usd     37.919494\n                    chz-usd     42.392286\nName: rsi, Length: 11636124, dtype: float64"
     },
     "execution_count": 15,
     "metadata": {},
     "output_type": "execute_result"
    }
   ],
   "source": [
    "prices['rsi']"
   ],
   "metadata": {
    "collapsed": false,
    "pycharm": {
     "name": "#%%\n"
    }
   }
  },
  {
   "cell_type": "code",
   "execution_count": 16,
   "outputs": [
    {
     "data": {
      "text/plain": "<Figure size 432x288 with 1 Axes>",
      "image/png": "[encoded data removed]"
     },
     "metadata": {},
     "output_type": "display_data"
    }
   ],
   "source": [
    "ax = sns.distplot(prices.rsi.dropna())\n",
    "ax.axvline(30, ls='--', lw=1, c='k')\n",
    "ax.axvline(70, ls='--', lw=1, c='k')\n",
    "ax.set_title('RSI Distribution with Signal Threshold')\n",
    "sns.despine()\n",
    "plt.tight_layout();"
   ],
   "metadata": {
    "collapsed": false,
    "pycharm": {
     "name": "#%%\n"
    }
   }
  },
  {
   "cell_type": "markdown",
   "source": [
    "### Compute Bollinger Bands"
   ],
   "metadata": {
    "collapsed": false
   }
  },
  {
   "cell_type": "code",
   "execution_count": 17,
   "outputs": [],
   "source": [
    "def compute_bb(close):\n",
    "    high, mid, low = BBANDS(close, timeperiod=20*factor_scaling)\n",
    "    return pd.DataFrame({'bb_high': high, 'bb_low': low}, index=close.index)"
   ],
   "metadata": {
    "collapsed": false,
    "pycharm": {
     "name": "#%%\n"
    }
   }
  },
  {
   "cell_type": "code",
   "execution_count": 18,
   "outputs": [],
   "source": [
    "prices = (prices.join(prices\n",
    "                      .groupby(level=glevel)\n",
    "                      .close\n",
    "                      .apply(compute_bb)))\n"
   ],
   "metadata": {
    "collapsed": false,
    "pycharm": {
     "name": "#%%\n"
    }
   }
  },
  {
   "cell_type": "code",
   "execution_count": 19,
   "outputs": [],
   "source": [
    "prices['bb_high'] = prices.bb_high.sub(prices.close).div(prices.bb_high).apply(np.log1p)\n",
    "prices['bb_low'] = prices.close.sub(prices.bb_low).div(prices.close).apply(np.log1p)"
   ],
   "metadata": {
    "collapsed": false,
    "pycharm": {
     "name": "#%%\n"
    }
   }
  },
  {
   "cell_type": "code",
   "execution_count": 20,
   "outputs": [
    {
     "data": {
      "text/plain": "ticker       btc-usd ltc-usd eth-usd etc-usd zec-usd xmr-usd dash-usd xrp-usd  \\\noffset          0       0       0       0       0       0        0       0      \ndate                                                                            \n2013-03-31       NaN     NaN     NaN     NaN     NaN     NaN      NaN     NaN   \n2013-04-01       NaN     NaN     NaN     NaN     NaN     NaN      NaN     NaN   \n2013-04-02       NaN     NaN     NaN     NaN     NaN     NaN      NaN     NaN   \n2013-04-03       NaN     NaN     NaN     NaN     NaN     NaN      NaN     NaN   \n2013-04-04       NaN     NaN     NaN     NaN     NaN     NaN      NaN     NaN   \n2013-04-05       NaN     NaN     NaN     NaN     NaN     NaN      NaN     NaN   \n2013-04-06       NaN     NaN     NaN     NaN     NaN     NaN      NaN     NaN   \n2013-04-07       NaN     NaN     NaN     NaN     NaN     NaN      NaN     NaN   \n2013-04-08       NaN     NaN     NaN     NaN     NaN     NaN      NaN     NaN   \n2013-04-09       NaN     NaN     NaN     NaN     NaN     NaN      NaN     NaN   \n2013-04-10       NaN     NaN     NaN     NaN     NaN     NaN      NaN     NaN   \n2013-04-11       NaN     NaN     NaN     NaN     NaN     NaN      NaN     NaN   \n2013-04-12       NaN     NaN     NaN     NaN     NaN     NaN      NaN     NaN   \n2013-04-13       NaN     NaN     NaN     NaN     NaN     NaN      NaN     NaN   \n2013-04-14       NaN     NaN     NaN     NaN     NaN     NaN      NaN     NaN   \n2013-04-15       NaN     NaN     NaN     NaN     NaN     NaN      NaN     NaN   \n2013-04-16       NaN     NaN     NaN     NaN     NaN     NaN      NaN     NaN   \n2013-04-17       NaN     NaN     NaN     NaN     NaN     NaN      NaN     NaN   \n2013-04-18       NaN     NaN     NaN     NaN     NaN     NaN      NaN     NaN   \n2013-04-19       NaN     NaN     NaN     NaN     NaN     NaN      NaN     NaN   \n2013-04-20  0.467986     NaN     NaN     NaN     NaN     NaN      NaN     NaN   \n2013-04-21  0.440581     NaN     NaN     NaN     NaN     NaN      NaN     NaN   \n2013-04-22  0.457231     NaN     NaN     NaN     NaN     NaN      NaN     NaN   \n2013-04-23  0.486001     NaN     NaN     NaN     NaN     NaN      NaN     NaN   \n2013-04-24  0.503014     NaN     NaN     NaN     NaN     NaN      NaN     NaN   \n2013-04-25  0.484104     NaN     NaN     NaN     NaN     NaN      NaN     NaN   \n2013-04-26  0.476781     NaN     NaN     NaN     NaN     NaN      NaN     NaN   \n2013-04-27  0.460562     NaN     NaN     NaN     NaN     NaN      NaN     NaN   \n2013-04-28  0.461005     NaN     NaN     NaN     NaN     NaN      NaN     NaN   \n2013-04-29  0.405238     NaN     NaN     NaN     NaN     NaN      NaN     NaN   \n\nticker     miota-usd eos-usd  ... bsv-usd btt-usd atom-usd wbtc-usd leo-usd  \\\noffset          0       0     ...    1435    1435     1435     1435    1435   \ndate                          ...                                             \n2013-03-31       NaN     NaN  ...     NaN     NaN      NaN      NaN     NaN   \n2013-04-01       NaN     NaN  ...     NaN     NaN      NaN      NaN     NaN   \n2013-04-02       NaN     NaN  ...     NaN     NaN      NaN      NaN     NaN   \n2013-04-03       NaN     NaN  ...     NaN     NaN      NaN      NaN     NaN   \n2013-04-04       NaN     NaN  ...     NaN     NaN      NaN      NaN     NaN   \n2013-04-05       NaN     NaN  ...     NaN     NaN      NaN      NaN     NaN   \n2013-04-06       NaN     NaN  ...     NaN     NaN      NaN      NaN     NaN   \n2013-04-07       NaN     NaN  ...     NaN     NaN      NaN      NaN     NaN   \n2013-04-08       NaN     NaN  ...     NaN     NaN      NaN      NaN     NaN   \n2013-04-09       NaN     NaN  ...     NaN     NaN      NaN      NaN     NaN   \n2013-04-10       NaN     NaN  ...     NaN     NaN      NaN      NaN     NaN   \n2013-04-11       NaN     NaN  ...     NaN     NaN      NaN      NaN     NaN   \n2013-04-12       NaN     NaN  ...     NaN     NaN      NaN      NaN     NaN   \n2013-04-13       NaN     NaN  ...     NaN     NaN      NaN      NaN     NaN   \n2013-04-14       NaN     NaN  ...     NaN     NaN      NaN      NaN     NaN   \n2013-04-15       NaN     NaN  ...     NaN     NaN      NaN      NaN     NaN   \n2013-04-16       NaN     NaN  ...     NaN     NaN      NaN      NaN     NaN   \n2013-04-17       NaN     NaN  ...     NaN     NaN      NaN      NaN     NaN   \n2013-04-18       NaN     NaN  ...     NaN     NaN      NaN      NaN     NaN   \n2013-04-19       NaN     NaN  ...     NaN     NaN      NaN      NaN     NaN   \n2013-04-20       NaN     NaN  ...     NaN     NaN      NaN      NaN     NaN   \n2013-04-21       NaN     NaN  ...     NaN     NaN      NaN      NaN     NaN   \n2013-04-22       NaN     NaN  ...     NaN     NaN      NaN      NaN     NaN   \n2013-04-23       NaN     NaN  ...     NaN     NaN      NaN      NaN     NaN   \n2013-04-24       NaN     NaN  ...     NaN     NaN      NaN      NaN     NaN   \n2013-04-25       NaN     NaN  ...     NaN     NaN      NaN      NaN     NaN   \n2013-04-26       NaN     NaN  ...     NaN     NaN      NaN      NaN     NaN   \n2013-04-27       NaN     NaN  ...     NaN     NaN      NaN      NaN     NaN   \n2013-04-28       NaN     NaN  ...     NaN     NaN      NaN      NaN     NaN   \n2013-04-29       NaN     NaN  ...     NaN     NaN      NaN      NaN     NaN   \n\nticker     okb-usd algo-usd amp-usd ftt-usd chz-usd  \noffset        1435     1435    1435    1435    1435  \ndate                                                 \n2013-03-31     NaN      NaN     NaN     NaN     NaN  \n2013-04-01     NaN      NaN     NaN     NaN     NaN  \n2013-04-02     NaN      NaN     NaN     NaN     NaN  \n2013-04-03     NaN      NaN     NaN     NaN     NaN  \n2013-04-04     NaN      NaN     NaN     NaN     NaN  \n2013-04-05     NaN      NaN     NaN     NaN     NaN  \n2013-04-06     NaN      NaN     NaN     NaN     NaN  \n2013-04-07     NaN      NaN     NaN     NaN     NaN  \n2013-04-08     NaN      NaN     NaN     NaN     NaN  \n2013-04-09     NaN      NaN     NaN     NaN     NaN  \n2013-04-10     NaN      NaN     NaN     NaN     NaN  \n2013-04-11     NaN      NaN     NaN     NaN     NaN  \n2013-04-12     NaN      NaN     NaN     NaN     NaN  \n2013-04-13     NaN      NaN     NaN     NaN     NaN  \n2013-04-14     NaN      NaN     NaN     NaN     NaN  \n2013-04-15     NaN      NaN     NaN     NaN     NaN  \n2013-04-16     NaN      NaN     NaN     NaN     NaN  \n2013-04-17     NaN      NaN     NaN     NaN     NaN  \n2013-04-18     NaN      NaN     NaN     NaN     NaN  \n2013-04-19     NaN      NaN     NaN     NaN     NaN  \n2013-04-20     NaN      NaN     NaN     NaN     NaN  \n2013-04-21     NaN      NaN     NaN     NaN     NaN  \n2013-04-22     NaN      NaN     NaN     NaN     NaN  \n2013-04-23     NaN      NaN     NaN     NaN     NaN  \n2013-04-24     NaN      NaN     NaN     NaN     NaN  \n2013-04-25     NaN      NaN     NaN     NaN     NaN  \n2013-04-26     NaN      NaN     NaN     NaN     NaN  \n2013-04-27     NaN      NaN     NaN     NaN     NaN  \n2013-04-28     NaN      NaN     NaN     NaN     NaN  \n2013-04-29     NaN      NaN     NaN     NaN     NaN  \n\n[30 rows x 9216 columns]",
      "text/html": "<div>\n<style scoped>\n    .dataframe tbody tr th:only-of-type {\n        vertical-align: middle;\n    }\n\n    .dataframe tbody tr th {\n        vertical-align: top;\n    }\n\n    .dataframe thead tr th {\n        text-align: left;\n    }\n\n    .dataframe thead tr:last-of-type th {\n        text-align: right;\n    }\n</style>\n<table border=\"1\" class=\"dataframe\">\n  <thead>\n    <tr>\n      <th>ticker</th>\n      <th>btc-usd</th>\n      <th>ltc-usd</th>\n      <th>eth-usd</th>\n      <th>etc-usd</th>\n      <th>zec-usd</th>\n      <th>xmr-usd</th>\n      <th>dash-usd</th>\n      <th>xrp-usd</th>\n      <th>miota-usd</th>\n      <th>eos-usd</th>\n      <th>...</th>\n      <th>bsv-usd</th>\n      <th>btt-usd</th>\n      <th>atom-usd</th>\n      <th>wbtc-usd</th>\n      <th>leo-usd</th>\n      <th>okb-usd</th>\n      <th>algo-usd</th>\n      <th>amp-usd</th>\n      <th>ftt-usd</th>\n      <th>chz-usd</th>\n    </tr>\n    <tr>\n      <th>offset</th>\n      <th>0</th>\n      <th>0</th>\n      <th>0</th>\n      <th>0</th>\n      <th>0</th>\n      <th>0</th>\n      <th>0</th>\n      <th>0</th>\n      <th>0</th>\n      <th>0</th>\n      <th>...</th>\n      <th>1435</th>\n      <th>1435</th>\n      <th>1435</th>\n      <th>1435</th>\n      <th>1435</th>\n      <th>1435</th>\n      <th>1435</th>\n      <th>1435</th>\n      <th>1435</th>\n      <th>1435</th>\n    </tr>\n    <tr>\n      <th>date</th>\n      <th></th>\n      <th></th>\n      <th></th>\n      <th></th>\n      <th></th>\n      <th></th>\n      <th></th>\n      <th></th>\n      <th></th>\n      <th></th>\n      <th></th>\n      <th></th>\n      <th></th>\n      <th></th>\n      <th></th>\n      <th></th>\n      <th></th>\n      <th></th>\n      <th></th>\n      <th></th>\n      <th></th>\n    </tr>\n  </thead>\n  <tbody>\n    <tr>\n      <th>2013-03-31</th>\n      <td>NaN</td>\n      <td>NaN</td>\n      <td>NaN</td>\n      <td>NaN</td>\n      <td>NaN</td>\n      <td>NaN</td>\n      <td>NaN</td>\n      <td>NaN</td>\n      <td>NaN</td>\n      <td>NaN</td>\n      <td>...</td>\n      <td>NaN</td>\n      <td>NaN</td>\n      <td>NaN</td>\n      <td>NaN</td>\n      <td>NaN</td>\n      <td>NaN</td>\n      <td>NaN</td>\n      <td>NaN</td>\n      <td>NaN</td>\n      <td>NaN</td>\n    </tr>\n    <tr>\n      <th>2013-04-01</th>\n      <td>NaN</td>\n      <td>NaN</td>\n      <td>NaN</td>\n      <td>NaN</td>\n      <td>NaN</td>\n      <td>NaN</td>\n      <td>NaN</td>\n      <td>NaN</td>\n      <td>NaN</td>\n      <td>NaN</td>\n      <td>...</td>\n      <td>NaN</td>\n      <td>NaN</td>\n      <td>NaN</td>\n      <td>NaN</td>\n      <td>NaN</td>\n      <td>NaN</td>\n      <td>NaN</td>\n      <td>NaN</td>\n      <td>NaN</td>\n      <td>NaN</td>\n    </tr>\n    <tr>\n      <th>2013-04-02</th>\n      <td>NaN</td>\n      <td>NaN</td>\n      <td>NaN</td>\n      <td>NaN</td>\n      <td>NaN</td>\n      <td>NaN</td>\n      <td>NaN</td>\n      <td>NaN</td>\n      <td>NaN</td>\n      <td>NaN</td>\n      <td>...</td>\n      <td>NaN</td>\n      <td>NaN</td>\n      <td>NaN</td>\n      <td>NaN</td>\n      <td>NaN</td>\n      <td>NaN</td>\n      <td>NaN</td>\n      <td>NaN</td>\n      <td>NaN</td>\n      <td>NaN</td>\n    </tr>\n    <tr>\n      <th>2013-04-03</th>\n      <td>NaN</td>\n      <td>NaN</td>\n      <td>NaN</td>\n      <td>NaN</td>\n      <td>NaN</td>\n      <td>NaN</td>\n      <td>NaN</td>\n      <td>NaN</td>\n      <td>NaN</td>\n      <td>NaN</td>\n      <td>...</td>\n      <td>NaN</td>\n      <td>NaN</td>\n      <td>NaN</td>\n      <td>NaN</td>\n      <td>NaN</td>\n      <td>NaN</td>\n      <td>NaN</td>\n      <td>NaN</td>\n      <td>NaN</td>\n      <td>NaN</td>\n    </tr>\n    <tr>\n      <th>2013-04-04</th>\n      <td>NaN</td>\n      <td>NaN</td>\n      <td>NaN</td>\n      <td>NaN</td>\n      <td>NaN</td>\n      <td>NaN</td>\n      <td>NaN</td>\n      <td>NaN</td>\n      <td>NaN</td>\n      <td>NaN</td>\n      <td>...</td>\n      <td>NaN</td>\n      <td>NaN</td>\n      <td>NaN</td>\n      <td>NaN</td>\n      <td>NaN</td>\n      <td>NaN</td>\n      <td>NaN</td>\n      <td>NaN</td>\n      <td>NaN</td>\n      <td>NaN</td>\n    </tr>\n    <tr>\n      <th>2013-04-05</th>\n      <td>NaN</td>\n      <td>NaN</td>\n      <td>NaN</td>\n      <td>NaN</td>\n      <td>NaN</td>\n      <td>NaN</td>\n      <td>NaN</td>\n      <td>NaN</td>\n      <td>NaN</td>\n      <td>NaN</td>\n      <td>...</td>\n      <td>NaN</td>\n      <td>NaN</td>\n      <td>NaN</td>\n      <td>NaN</td>\n      <td>NaN</td>\n      <td>NaN</td>\n      <td>NaN</td>\n      <td>NaN</td>\n      <td>NaN</td>\n      <td>NaN</td>\n    </tr>\n    <tr>\n      <th>2013-04-06</th>\n      <td>NaN</td>\n      <td>NaN</td>\n      <td>NaN</td>\n      <td>NaN</td>\n      <td>NaN</td>\n      <td>NaN</td>\n      <td>NaN</td>\n      <td>NaN</td>\n      <td>NaN</td>\n      <td>NaN</td>\n      <td>...</td>\n      <td>NaN</td>\n      <td>NaN</td>\n      <td>NaN</td>\n      <td>NaN</td>\n      <td>NaN</td>\n      <td>NaN</td>\n      <td>NaN</td>\n      <td>NaN</td>\n      <td>NaN</td>\n      <td>NaN</td>\n    </tr>\n    <tr>\n      <th>2013-04-07</th>\n      <td>NaN</td>\n      <td>NaN</td>\n      <td>NaN</td>\n      <td>NaN</td>\n      <td>NaN</td>\n      <td>NaN</td>\n      <td>NaN</td>\n      <td>NaN</td>\n      <td>NaN</td>\n      <td>NaN</td>\n      <td>...</td>\n      <td>NaN</td>\n      <td>NaN</td>\n      <td>NaN</td>\n      <td>NaN</td>\n      <td>NaN</td>\n      <td>NaN</td>\n      <td>NaN</td>\n      <td>NaN</td>\n      <td>NaN</td>\n      <td>NaN</td>\n    </tr>\n    <tr>\n      <th>2013-04-08</th>\n      <td>NaN</td>\n      <td>NaN</td>\n      <td>NaN</td>\n      <td>NaN</td>\n      <td>NaN</td>\n      <td>NaN</td>\n      <td>NaN</td>\n      <td>NaN</td>\n      <td>NaN</td>\n      <td>NaN</td>\n      <td>...</td>\n      <td>NaN</td>\n      <td>NaN</td>\n      <td>NaN</td>\n      <td>NaN</td>\n      <td>NaN</td>\n      <td>NaN</td>\n      <td>NaN</td>\n      <td>NaN</td>\n      <td>NaN</td>\n      <td>NaN</td>\n    </tr>\n    <tr>\n      <th>2013-04-09</th>\n      <td>NaN</td>\n      <td>NaN</td>\n      <td>NaN</td>\n      <td>NaN</td>\n      <td>NaN</td>\n      <td>NaN</td>\n      <td>NaN</td>\n      <td>NaN</td>\n      <td>NaN</td>\n      <td>NaN</td>\n      <td>...</td>\n      <td>NaN</td>\n      <td>NaN</td>\n      <td>NaN</td>\n      <td>NaN</td>\n      <td>NaN</td>\n      <td>NaN</td>\n      <td>NaN</td>\n      <td>NaN</td>\n      <td>NaN</td>\n      <td>NaN</td>\n    </tr>\n    <tr>\n      <th>2013-04-10</th>\n      <td>NaN</td>\n      <td>NaN</td>\n      <td>NaN</td>\n      <td>NaN</td>\n      <td>NaN</td>\n      <td>NaN</td>\n      <td>NaN</td>\n      <td>NaN</td>\n      <td>NaN</td>\n      <td>NaN</td>\n      <td>...</td>\n      <td>NaN</td>\n      <td>NaN</td>\n      <td>NaN</td>\n      <td>NaN</td>\n      <td>NaN</td>\n      <td>NaN</td>\n      <td>NaN</td>\n      <td>NaN</td>\n      <td>NaN</td>\n      <td>NaN</td>\n    </tr>\n    <tr>\n      <th>2013-04-11</th>\n      <td>NaN</td>\n      <td>NaN</td>\n      <td>NaN</td>\n      <td>NaN</td>\n      <td>NaN</td>\n      <td>NaN</td>\n      <td>NaN</td>\n      <td>NaN</td>\n      <td>NaN</td>\n      <td>NaN</td>\n      <td>...</td>\n      <td>NaN</td>\n      <td>NaN</td>\n      <td>NaN</td>\n      <td>NaN</td>\n      <td>NaN</td>\n      <td>NaN</td>\n      <td>NaN</td>\n      <td>NaN</td>\n      <td>NaN</td>\n      <td>NaN</td>\n    </tr>\n    <tr>\n      <th>2013-04-12</th>\n      <td>NaN</td>\n      <td>NaN</td>\n      <td>NaN</td>\n      <td>NaN</td>\n      <td>NaN</td>\n      <td>NaN</td>\n      <td>NaN</td>\n      <td>NaN</td>\n      <td>NaN</td>\n      <td>NaN</td>\n      <td>...</td>\n      <td>NaN</td>\n      <td>NaN</td>\n      <td>NaN</td>\n      <td>NaN</td>\n      <td>NaN</td>\n      <td>NaN</td>\n      <td>NaN</td>\n      <td>NaN</td>\n      <td>NaN</td>\n      <td>NaN</td>\n    </tr>\n    <tr>\n      <th>2013-04-13</th>\n      <td>NaN</td>\n      <td>NaN</td>\n      <td>NaN</td>\n      <td>NaN</td>\n      <td>NaN</td>\n      <td>NaN</td>\n      <td>NaN</td>\n      <td>NaN</td>\n      <td>NaN</td>\n      <td>NaN</td>\n      <td>...</td>\n      <td>NaN</td>\n      <td>NaN</td>\n      <td>NaN</td>\n      <td>NaN</td>\n      <td>NaN</td>\n      <td>NaN</td>\n      <td>NaN</td>\n      <td>NaN</td>\n      <td>NaN</td>\n      <td>NaN</td>\n    </tr>\n    <tr>\n      <th>2013-04-14</th>\n      <td>NaN</td>\n      <td>NaN</td>\n      <td>NaN</td>\n      <td>NaN</td>\n      <td>NaN</td>\n      <td>NaN</td>\n      <td>NaN</td>\n      <td>NaN</td>\n      <td>NaN</td>\n      <td>NaN</td>\n      <td>...</td>\n      <td>NaN</td>\n      <td>NaN</td>\n      <td>NaN</td>\n      <td>NaN</td>\n      <td>NaN</td>\n      <td>NaN</td>\n      <td>NaN</td>\n      <td>NaN</td>\n      <td>NaN</td>\n      <td>NaN</td>\n    </tr>\n    <tr>\n      <th>2013-04-15</th>\n      <td>NaN</td>\n      <td>NaN</td>\n      <td>NaN</td>\n      <td>NaN</td>\n      <td>NaN</td>\n      <td>NaN</td>\n      <td>NaN</td>\n      <td>NaN</td>\n      <td>NaN</td>\n      <td>NaN</td>\n      <td>...</td>\n      <td>NaN</td>\n      <td>NaN</td>\n      <td>NaN</td>\n      <td>NaN</td>\n      <td>NaN</td>\n      <td>NaN</td>\n      <td>NaN</td>\n      <td>NaN</td>\n      <td>NaN</td>\n      <td>NaN</td>\n    </tr>\n    <tr>\n      <th>2013-04-16</th>\n      <td>NaN</td>\n      <td>NaN</td>\n      <td>NaN</td>\n      <td>NaN</td>\n      <td>NaN</td>\n      <td>NaN</td>\n      <td>NaN</td>\n      <td>NaN</td>\n      <td>NaN</td>\n      <td>NaN</td>\n      <td>...</td>\n      <td>NaN</td>\n      <td>NaN</td>\n      <td>NaN</td>\n      <td>NaN</td>\n      <td>NaN</td>\n      <td>NaN</td>\n      <td>NaN</td>\n      <td>NaN</td>\n      <td>NaN</td>\n      <td>NaN</td>\n    </tr>\n    <tr>\n      <th>2013-04-17</th>\n      <td>NaN</td>\n      <td>NaN</td>\n      <td>NaN</td>\n      <td>NaN</td>\n      <td>NaN</td>\n      <td>NaN</td>\n      <td>NaN</td>\n      <td>NaN</td>\n      <td>NaN</td>\n      <td>NaN</td>\n      <td>...</td>\n      <td>NaN</td>\n      <td>NaN</td>\n      <td>NaN</td>\n      <td>NaN</td>\n      <td>NaN</td>\n      <td>NaN</td>\n      <td>NaN</td>\n      <td>NaN</td>\n      <td>NaN</td>\n      <td>NaN</td>\n    </tr>\n    <tr>\n      <th>2013-04-18</th>\n      <td>NaN</td>\n      <td>NaN</td>\n      <td>NaN</td>\n      <td>NaN</td>\n      <td>NaN</td>\n      <td>NaN</td>\n      <td>NaN</td>\n      <td>NaN</td>\n      <td>NaN</td>\n      <td>NaN</td>\n      <td>...</td>\n      <td>NaN</td>\n      <td>NaN</td>\n      <td>NaN</td>\n      <td>NaN</td>\n      <td>NaN</td>\n      <td>NaN</td>\n      <td>NaN</td>\n      <td>NaN</td>\n      <td>NaN</td>\n      <td>NaN</td>\n    </tr>\n    <tr>\n      <th>2013-04-19</th>\n      <td>NaN</td>\n      <td>NaN</td>\n      <td>NaN</td>\n      <td>NaN</td>\n      <td>NaN</td>\n      <td>NaN</td>\n      <td>NaN</td>\n      <td>NaN</td>\n      <td>NaN</td>\n      <td>NaN</td>\n      <td>...</td>\n      <td>NaN</td>\n      <td>NaN</td>\n      <td>NaN</td>\n      <td>NaN</td>\n      <td>NaN</td>\n      <td>NaN</td>\n      <td>NaN</td>\n      <td>NaN</td>\n      <td>NaN</td>\n      <td>NaN</td>\n    </tr>\n    <tr>\n      <th>2013-04-20</th>\n      <td>0.467986</td>\n      <td>NaN</td>\n      <td>NaN</td>\n      <td>NaN</td>\n      <td>NaN</td>\n      <td>NaN</td>\n      <td>NaN</td>\n      <td>NaN</td>\n      <td>NaN</td>\n      <td>NaN</td>\n      <td>...</td>\n      <td>NaN</td>\n      <td>NaN</td>\n      <td>NaN</td>\n      <td>NaN</td>\n      <td>NaN</td>\n      <td>NaN</td>\n      <td>NaN</td>\n      <td>NaN</td>\n      <td>NaN</td>\n      <td>NaN</td>\n    </tr>\n    <tr>\n      <th>2013-04-21</th>\n      <td>0.440581</td>\n      <td>NaN</td>\n      <td>NaN</td>\n      <td>NaN</td>\n      <td>NaN</td>\n      <td>NaN</td>\n      <td>NaN</td>\n      <td>NaN</td>\n      <td>NaN</td>\n      <td>NaN</td>\n      <td>...</td>\n      <td>NaN</td>\n      <td>NaN</td>\n      <td>NaN</td>\n      <td>NaN</td>\n      <td>NaN</td>\n      <td>NaN</td>\n      <td>NaN</td>\n      <td>NaN</td>\n      <td>NaN</td>\n      <td>NaN</td>\n    </tr>\n    <tr>\n      <th>2013-04-22</th>\n      <td>0.457231</td>\n      <td>NaN</td>\n      <td>NaN</td>\n      <td>NaN</td>\n      <td>NaN</td>\n      <td>NaN</td>\n      <td>NaN</td>\n      <td>NaN</td>\n      <td>NaN</td>\n      <td>NaN</td>\n      <td>...</td>\n      <td>NaN</td>\n      <td>NaN</td>\n      <td>NaN</td>\n      <td>NaN</td>\n      <td>NaN</td>\n      <td>NaN</td>\n      <td>NaN</td>\n      <td>NaN</td>\n      <td>NaN</td>\n      <td>NaN</td>\n    </tr>\n    <tr>\n      <th>2013-04-23</th>\n      <td>0.486001</td>\n      <td>NaN</td>\n      <td>NaN</td>\n      <td>NaN</td>\n      <td>NaN</td>\n      <td>NaN</td>\n      <td>NaN</td>\n      <td>NaN</td>\n      <td>NaN</td>\n      <td>NaN</td>\n      <td>...</td>\n      <td>NaN</td>\n      <td>NaN</td>\n      <td>NaN</td>\n      <td>NaN</td>\n      <td>NaN</td>\n      <td>NaN</td>\n      <td>NaN</td>\n      <td>NaN</td>\n      <td>NaN</td>\n      <td>NaN</td>\n    </tr>\n    <tr>\n      <th>2013-04-24</th>\n      <td>0.503014</td>\n      <td>NaN</td>\n      <td>NaN</td>\n      <td>NaN</td>\n      <td>NaN</td>\n      <td>NaN</td>\n      <td>NaN</td>\n      <td>NaN</td>\n      <td>NaN</td>\n      <td>NaN</td>\n      <td>...</td>\n      <td>NaN</td>\n      <td>NaN</td>\n      <td>NaN</td>\n      <td>NaN</td>\n      <td>NaN</td>\n      <td>NaN</td>\n      <td>NaN</td>\n      <td>NaN</td>\n      <td>NaN</td>\n      <td>NaN</td>\n    </tr>\n    <tr>\n      <th>2013-04-25</th>\n      <td>0.484104</td>\n      <td>NaN</td>\n      <td>NaN</td>\n      <td>NaN</td>\n      <td>NaN</td>\n      <td>NaN</td>\n      <td>NaN</td>\n      <td>NaN</td>\n      <td>NaN</td>\n      <td>NaN</td>\n      <td>...</td>\n      <td>NaN</td>\n      <td>NaN</td>\n      <td>NaN</td>\n      <td>NaN</td>\n      <td>NaN</td>\n      <td>NaN</td>\n      <td>NaN</td>\n      <td>NaN</td>\n      <td>NaN</td>\n      <td>NaN</td>\n    </tr>\n    <tr>\n      <th>2013-04-26</th>\n      <td>0.476781</td>\n      <td>NaN</td>\n      <td>NaN</td>\n      <td>NaN</td>\n      <td>NaN</td>\n      <td>NaN</td>\n      <td>NaN</td>\n      <td>NaN</td>\n      <td>NaN</td>\n      <td>NaN</td>\n      <td>...</td>\n      <td>NaN</td>\n      <td>NaN</td>\n      <td>NaN</td>\n      <td>NaN</td>\n      <td>NaN</td>\n      <td>NaN</td>\n      <td>NaN</td>\n      <td>NaN</td>\n      <td>NaN</td>\n      <td>NaN</td>\n    </tr>\n    <tr>\n      <th>2013-04-27</th>\n      <td>0.460562</td>\n      <td>NaN</td>\n      <td>NaN</td>\n      <td>NaN</td>\n      <td>NaN</td>\n      <td>NaN</td>\n      <td>NaN</td>\n      <td>NaN</td>\n      <td>NaN</td>\n      <td>NaN</td>\n      <td>...</td>\n      <td>NaN</td>\n      <td>NaN</td>\n      <td>NaN</td>\n      <td>NaN</td>\n      <td>NaN</td>\n      <td>NaN</td>\n      <td>NaN</td>\n      <td>NaN</td>\n      <td>NaN</td>\n      <td>NaN</td>\n    </tr>\n    <tr>\n      <th>2013-04-28</th>\n      <td>0.461005</td>\n      <td>NaN</td>\n      <td>NaN</td>\n      <td>NaN</td>\n      <td>NaN</td>\n      <td>NaN</td>\n      <td>NaN</td>\n      <td>NaN</td>\n      <td>NaN</td>\n      <td>NaN</td>\n      <td>...</td>\n      <td>NaN</td>\n      <td>NaN</td>\n      <td>NaN</td>\n      <td>NaN</td>\n      <td>NaN</td>\n      <td>NaN</td>\n      <td>NaN</td>\n      <td>NaN</td>\n      <td>NaN</td>\n      <td>NaN</td>\n    </tr>\n    <tr>\n      <th>2013-04-29</th>\n      <td>0.405238</td>\n      <td>NaN</td>\n      <td>NaN</td>\n      <td>NaN</td>\n      <td>NaN</td>\n      <td>NaN</td>\n      <td>NaN</td>\n      <td>NaN</td>\n      <td>NaN</td>\n      <td>NaN</td>\n      <td>...</td>\n      <td>NaN</td>\n      <td>NaN</td>\n      <td>NaN</td>\n      <td>NaN</td>\n      <td>NaN</td>\n      <td>NaN</td>\n      <td>NaN</td>\n      <td>NaN</td>\n      <td>NaN</td>\n      <td>NaN</td>\n    </tr>\n  </tbody>\n</table>\n<p>30 rows × 9216 columns</p>\n</div>"
     },
     "execution_count": 20,
     "metadata": {},
     "output_type": "execute_result"
    }
   ],
   "source": [
    "prices['bb_low'].unstack(glevel).head(30)"
   ],
   "metadata": {
    "collapsed": false,
    "pycharm": {
     "name": "#%%\n"
    }
   }
  },
  {
   "cell_type": "code",
   "execution_count": 21,
   "outputs": [
    {
     "data": {
      "text/plain": "ticker       btc-usd ltc-usd eth-usd etc-usd zec-usd xmr-usd dash-usd xrp-usd  \\\noffset          0       0       0       0       0       0        0       0      \ndate                                                                            \n2013-03-31       NaN     NaN     NaN     NaN     NaN     NaN      NaN     NaN   \n2013-04-01       NaN     NaN     NaN     NaN     NaN     NaN      NaN     NaN   \n2013-04-02       NaN     NaN     NaN     NaN     NaN     NaN      NaN     NaN   \n2013-04-03       NaN     NaN     NaN     NaN     NaN     NaN      NaN     NaN   \n2013-04-04       NaN     NaN     NaN     NaN     NaN     NaN      NaN     NaN   \n2013-04-05       NaN     NaN     NaN     NaN     NaN     NaN      NaN     NaN   \n2013-04-06       NaN     NaN     NaN     NaN     NaN     NaN      NaN     NaN   \n2013-04-07       NaN     NaN     NaN     NaN     NaN     NaN      NaN     NaN   \n2013-04-08       NaN     NaN     NaN     NaN     NaN     NaN      NaN     NaN   \n2013-04-09       NaN     NaN     NaN     NaN     NaN     NaN      NaN     NaN   \n2013-04-10       NaN     NaN     NaN     NaN     NaN     NaN      NaN     NaN   \n2013-04-11       NaN     NaN     NaN     NaN     NaN     NaN      NaN     NaN   \n2013-04-12       NaN     NaN     NaN     NaN     NaN     NaN      NaN     NaN   \n2013-04-13       NaN     NaN     NaN     NaN     NaN     NaN      NaN     NaN   \n2013-04-14       NaN     NaN     NaN     NaN     NaN     NaN      NaN     NaN   \n2013-04-15       NaN     NaN     NaN     NaN     NaN     NaN      NaN     NaN   \n2013-04-16       NaN     NaN     NaN     NaN     NaN     NaN      NaN     NaN   \n2013-04-17       NaN     NaN     NaN     NaN     NaN     NaN      NaN     NaN   \n2013-04-18       NaN     NaN     NaN     NaN     NaN     NaN      NaN     NaN   \n2013-04-19       NaN     NaN     NaN     NaN     NaN     NaN      NaN     NaN   \n2013-04-20  0.313057     NaN     NaN     NaN     NaN     NaN      NaN     NaN   \n2013-04-21  0.346222     NaN     NaN     NaN     NaN     NaN      NaN     NaN   \n2013-04-22  0.315876     NaN     NaN     NaN     NaN     NaN      NaN     NaN   \n2013-04-23  0.257857     NaN     NaN     NaN     NaN     NaN      NaN     NaN   \n2013-04-24  0.216641     NaN     NaN     NaN     NaN     NaN      NaN     NaN   \n2013-04-25  0.265538     NaN     NaN     NaN     NaN     NaN      NaN     NaN   \n2013-04-26  0.281526     NaN     NaN     NaN     NaN     NaN      NaN     NaN   \n2013-04-27  0.304920     NaN     NaN     NaN     NaN     NaN      NaN     NaN   \n2013-04-28  0.259345     NaN     NaN     NaN     NaN     NaN      NaN     NaN   \n2013-04-29  0.129693     NaN     NaN     NaN     NaN     NaN      NaN     NaN   \n\nticker     miota-usd eos-usd  ... bsv-usd btt-usd atom-usd wbtc-usd leo-usd  \\\noffset          0       0     ...    1435    1435     1435     1435    1435   \ndate                          ...                                             \n2013-03-31       NaN     NaN  ...     NaN     NaN      NaN      NaN     NaN   \n2013-04-01       NaN     NaN  ...     NaN     NaN      NaN      NaN     NaN   \n2013-04-02       NaN     NaN  ...     NaN     NaN      NaN      NaN     NaN   \n2013-04-03       NaN     NaN  ...     NaN     NaN      NaN      NaN     NaN   \n2013-04-04       NaN     NaN  ...     NaN     NaN      NaN      NaN     NaN   \n2013-04-05       NaN     NaN  ...     NaN     NaN      NaN      NaN     NaN   \n2013-04-06       NaN     NaN  ...     NaN     NaN      NaN      NaN     NaN   \n2013-04-07       NaN     NaN  ...     NaN     NaN      NaN      NaN     NaN   \n2013-04-08       NaN     NaN  ...     NaN     NaN      NaN      NaN     NaN   \n2013-04-09       NaN     NaN  ...     NaN     NaN      NaN      NaN     NaN   \n2013-04-10       NaN     NaN  ...     NaN     NaN      NaN      NaN     NaN   \n2013-04-11       NaN     NaN  ...     NaN     NaN      NaN      NaN     NaN   \n2013-04-12       NaN     NaN  ...     NaN     NaN      NaN      NaN     NaN   \n2013-04-13       NaN     NaN  ...     NaN     NaN      NaN      NaN     NaN   \n2013-04-14       NaN     NaN  ...     NaN     NaN      NaN      NaN     NaN   \n2013-04-15       NaN     NaN  ...     NaN     NaN      NaN      NaN     NaN   \n2013-04-16       NaN     NaN  ...     NaN     NaN      NaN      NaN     NaN   \n2013-04-17       NaN     NaN  ...     NaN     NaN      NaN      NaN     NaN   \n2013-04-18       NaN     NaN  ...     NaN     NaN      NaN      NaN     NaN   \n2013-04-19       NaN     NaN  ...     NaN     NaN      NaN      NaN     NaN   \n2013-04-20       NaN     NaN  ...     NaN     NaN      NaN      NaN     NaN   \n2013-04-21       NaN     NaN  ...     NaN     NaN      NaN      NaN     NaN   \n2013-04-22       NaN     NaN  ...     NaN     NaN      NaN      NaN     NaN   \n2013-04-23       NaN     NaN  ...     NaN     NaN      NaN      NaN     NaN   \n2013-04-24       NaN     NaN  ...     NaN     NaN      NaN      NaN     NaN   \n2013-04-25       NaN     NaN  ...     NaN     NaN      NaN      NaN     NaN   \n2013-04-26       NaN     NaN  ...     NaN     NaN      NaN      NaN     NaN   \n2013-04-27       NaN     NaN  ...     NaN     NaN      NaN      NaN     NaN   \n2013-04-28       NaN     NaN  ...     NaN     NaN      NaN      NaN     NaN   \n2013-04-29       NaN     NaN  ...     NaN     NaN      NaN      NaN     NaN   \n\nticker     okb-usd algo-usd amp-usd ftt-usd chz-usd  \noffset        1435     1435    1435    1435    1435  \ndate                                                 \n2013-03-31     NaN      NaN     NaN     NaN     NaN  \n2013-04-01     NaN      NaN     NaN     NaN     NaN  \n2013-04-02     NaN      NaN     NaN     NaN     NaN  \n2013-04-03     NaN      NaN     NaN     NaN     NaN  \n2013-04-04     NaN      NaN     NaN     NaN     NaN  \n2013-04-05     NaN      NaN     NaN     NaN     NaN  \n2013-04-06     NaN      NaN     NaN     NaN     NaN  \n2013-04-07     NaN      NaN     NaN     NaN     NaN  \n2013-04-08     NaN      NaN     NaN     NaN     NaN  \n2013-04-09     NaN      NaN     NaN     NaN     NaN  \n2013-04-10     NaN      NaN     NaN     NaN     NaN  \n2013-04-11     NaN      NaN     NaN     NaN     NaN  \n2013-04-12     NaN      NaN     NaN     NaN     NaN  \n2013-04-13     NaN      NaN     NaN     NaN     NaN  \n2013-04-14     NaN      NaN     NaN     NaN     NaN  \n2013-04-15     NaN      NaN     NaN     NaN     NaN  \n2013-04-16     NaN      NaN     NaN     NaN     NaN  \n2013-04-17     NaN      NaN     NaN     NaN     NaN  \n2013-04-18     NaN      NaN     NaN     NaN     NaN  \n2013-04-19     NaN      NaN     NaN     NaN     NaN  \n2013-04-20     NaN      NaN     NaN     NaN     NaN  \n2013-04-21     NaN      NaN     NaN     NaN     NaN  \n2013-04-22     NaN      NaN     NaN     NaN     NaN  \n2013-04-23     NaN      NaN     NaN     NaN     NaN  \n2013-04-24     NaN      NaN     NaN     NaN     NaN  \n2013-04-25     NaN      NaN     NaN     NaN     NaN  \n2013-04-26     NaN      NaN     NaN     NaN     NaN  \n2013-04-27     NaN      NaN     NaN     NaN     NaN  \n2013-04-28     NaN      NaN     NaN     NaN     NaN  \n2013-04-29     NaN      NaN     NaN     NaN     NaN  \n\n[30 rows x 9216 columns]",
      "text/html": "<div>\n<style scoped>\n    .dataframe tbody tr th:only-of-type {\n        vertical-align: middle;\n    }\n\n    .dataframe tbody tr th {\n        vertical-align: top;\n    }\n\n    .dataframe thead tr th {\n        text-align: left;\n    }\n\n    .dataframe thead tr:last-of-type th {\n        text-align: right;\n    }\n</style>\n<table border=\"1\" class=\"dataframe\">\n  <thead>\n    <tr>\n      <th>ticker</th>\n      <th>btc-usd</th>\n      <th>ltc-usd</th>\n      <th>eth-usd</th>\n      <th>etc-usd</th>\n      <th>zec-usd</th>\n      <th>xmr-usd</th>\n      <th>dash-usd</th>\n      <th>xrp-usd</th>\n      <th>miota-usd</th>\n      <th>eos-usd</th>\n      <th>...</th>\n      <th>bsv-usd</th>\n      <th>btt-usd</th>\n      <th>atom-usd</th>\n      <th>wbtc-usd</th>\n      <th>leo-usd</th>\n      <th>okb-usd</th>\n      <th>algo-usd</th>\n      <th>amp-usd</th>\n      <th>ftt-usd</th>\n      <th>chz-usd</th>\n    </tr>\n    <tr>\n      <th>offset</th>\n      <th>0</th>\n      <th>0</th>\n      <th>0</th>\n      <th>0</th>\n      <th>0</th>\n      <th>0</th>\n      <th>0</th>\n      <th>0</th>\n      <th>0</th>\n      <th>0</th>\n      <th>...</th>\n      <th>1435</th>\n      <th>1435</th>\n      <th>1435</th>\n      <th>1435</th>\n      <th>1435</th>\n      <th>1435</th>\n      <th>1435</th>\n      <th>1435</th>\n      <th>1435</th>\n      <th>1435</th>\n    </tr>\n    <tr>\n      <th>date</th>\n      <th></th>\n      <th></th>\n      <th></th>\n      <th></th>\n      <th></th>\n      <th></th>\n      <th></th>\n      <th></th>\n      <th></th>\n      <th></th>\n      <th></th>\n      <th></th>\n      <th></th>\n      <th></th>\n      <th></th>\n      <th></th>\n      <th></th>\n      <th></th>\n      <th></th>\n      <th></th>\n      <th></th>\n    </tr>\n  </thead>\n  <tbody>\n    <tr>\n      <th>2013-03-31</th>\n      <td>NaN</td>\n      <td>NaN</td>\n      <td>NaN</td>\n      <td>NaN</td>\n      <td>NaN</td>\n      <td>NaN</td>\n      <td>NaN</td>\n      <td>NaN</td>\n      <td>NaN</td>\n      <td>NaN</td>\n      <td>...</td>\n      <td>NaN</td>\n      <td>NaN</td>\n      <td>NaN</td>\n      <td>NaN</td>\n      <td>NaN</td>\n      <td>NaN</td>\n      <td>NaN</td>\n      <td>NaN</td>\n      <td>NaN</td>\n      <td>NaN</td>\n    </tr>\n    <tr>\n      <th>2013-04-01</th>\n      <td>NaN</td>\n      <td>NaN</td>\n      <td>NaN</td>\n      <td>NaN</td>\n      <td>NaN</td>\n      <td>NaN</td>\n      <td>NaN</td>\n      <td>NaN</td>\n      <td>NaN</td>\n      <td>NaN</td>\n      <td>...</td>\n      <td>NaN</td>\n      <td>NaN</td>\n      <td>NaN</td>\n      <td>NaN</td>\n      <td>NaN</td>\n      <td>NaN</td>\n      <td>NaN</td>\n      <td>NaN</td>\n      <td>NaN</td>\n      <td>NaN</td>\n    </tr>\n    <tr>\n      <th>2013-04-02</th>\n      <td>NaN</td>\n      <td>NaN</td>\n      <td>NaN</td>\n      <td>NaN</td>\n      <td>NaN</td>\n      <td>NaN</td>\n      <td>NaN</td>\n      <td>NaN</td>\n      <td>NaN</td>\n      <td>NaN</td>\n      <td>...</td>\n      <td>NaN</td>\n      <td>NaN</td>\n      <td>NaN</td>\n      <td>NaN</td>\n      <td>NaN</td>\n      <td>NaN</td>\n      <td>NaN</td>\n      <td>NaN</td>\n      <td>NaN</td>\n      <td>NaN</td>\n    </tr>\n    <tr>\n      <th>2013-04-03</th>\n      <td>NaN</td>\n      <td>NaN</td>\n      <td>NaN</td>\n      <td>NaN</td>\n      <td>NaN</td>\n      <td>NaN</td>\n      <td>NaN</td>\n      <td>NaN</td>\n      <td>NaN</td>\n      <td>NaN</td>\n      <td>...</td>\n      <td>NaN</td>\n      <td>NaN</td>\n      <td>NaN</td>\n      <td>NaN</td>\n      <td>NaN</td>\n      <td>NaN</td>\n      <td>NaN</td>\n      <td>NaN</td>\n      <td>NaN</td>\n      <td>NaN</td>\n    </tr>\n    <tr>\n      <th>2013-04-04</th>\n      <td>NaN</td>\n      <td>NaN</td>\n      <td>NaN</td>\n      <td>NaN</td>\n      <td>NaN</td>\n      <td>NaN</td>\n      <td>NaN</td>\n      <td>NaN</td>\n      <td>NaN</td>\n      <td>NaN</td>\n      <td>...</td>\n      <td>NaN</td>\n      <td>NaN</td>\n      <td>NaN</td>\n      <td>NaN</td>\n      <td>NaN</td>\n      <td>NaN</td>\n      <td>NaN</td>\n      <td>NaN</td>\n      <td>NaN</td>\n      <td>NaN</td>\n    </tr>\n    <tr>\n      <th>2013-04-05</th>\n      <td>NaN</td>\n      <td>NaN</td>\n      <td>NaN</td>\n      <td>NaN</td>\n      <td>NaN</td>\n      <td>NaN</td>\n      <td>NaN</td>\n      <td>NaN</td>\n      <td>NaN</td>\n      <td>NaN</td>\n      <td>...</td>\n      <td>NaN</td>\n      <td>NaN</td>\n      <td>NaN</td>\n      <td>NaN</td>\n      <td>NaN</td>\n      <td>NaN</td>\n      <td>NaN</td>\n      <td>NaN</td>\n      <td>NaN</td>\n      <td>NaN</td>\n    </tr>\n    <tr>\n      <th>2013-04-06</th>\n      <td>NaN</td>\n      <td>NaN</td>\n      <td>NaN</td>\n      <td>NaN</td>\n      <td>NaN</td>\n      <td>NaN</td>\n      <td>NaN</td>\n      <td>NaN</td>\n      <td>NaN</td>\n      <td>NaN</td>\n      <td>...</td>\n      <td>NaN</td>\n      <td>NaN</td>\n      <td>NaN</td>\n      <td>NaN</td>\n      <td>NaN</td>\n      <td>NaN</td>\n      <td>NaN</td>\n      <td>NaN</td>\n      <td>NaN</td>\n      <td>NaN</td>\n    </tr>\n    <tr>\n      <th>2013-04-07</th>\n      <td>NaN</td>\n      <td>NaN</td>\n      <td>NaN</td>\n      <td>NaN</td>\n      <td>NaN</td>\n      <td>NaN</td>\n      <td>NaN</td>\n      <td>NaN</td>\n      <td>NaN</td>\n      <td>NaN</td>\n      <td>...</td>\n      <td>NaN</td>\n      <td>NaN</td>\n      <td>NaN</td>\n      <td>NaN</td>\n      <td>NaN</td>\n      <td>NaN</td>\n      <td>NaN</td>\n      <td>NaN</td>\n      <td>NaN</td>\n      <td>NaN</td>\n    </tr>\n    <tr>\n      <th>2013-04-08</th>\n      <td>NaN</td>\n      <td>NaN</td>\n      <td>NaN</td>\n      <td>NaN</td>\n      <td>NaN</td>\n      <td>NaN</td>\n      <td>NaN</td>\n      <td>NaN</td>\n      <td>NaN</td>\n      <td>NaN</td>\n      <td>...</td>\n      <td>NaN</td>\n      <td>NaN</td>\n      <td>NaN</td>\n      <td>NaN</td>\n      <td>NaN</td>\n      <td>NaN</td>\n      <td>NaN</td>\n      <td>NaN</td>\n      <td>NaN</td>\n      <td>NaN</td>\n    </tr>\n    <tr>\n      <th>2013-04-09</th>\n      <td>NaN</td>\n      <td>NaN</td>\n      <td>NaN</td>\n      <td>NaN</td>\n      <td>NaN</td>\n      <td>NaN</td>\n      <td>NaN</td>\n      <td>NaN</td>\n      <td>NaN</td>\n      <td>NaN</td>\n      <td>...</td>\n      <td>NaN</td>\n      <td>NaN</td>\n      <td>NaN</td>\n      <td>NaN</td>\n      <td>NaN</td>\n      <td>NaN</td>\n      <td>NaN</td>\n      <td>NaN</td>\n      <td>NaN</td>\n      <td>NaN</td>\n    </tr>\n    <tr>\n      <th>2013-04-10</th>\n      <td>NaN</td>\n      <td>NaN</td>\n      <td>NaN</td>\n      <td>NaN</td>\n      <td>NaN</td>\n      <td>NaN</td>\n      <td>NaN</td>\n      <td>NaN</td>\n      <td>NaN</td>\n      <td>NaN</td>\n      <td>...</td>\n      <td>NaN</td>\n      <td>NaN</td>\n      <td>NaN</td>\n      <td>NaN</td>\n      <td>NaN</td>\n      <td>NaN</td>\n      <td>NaN</td>\n      <td>NaN</td>\n      <td>NaN</td>\n      <td>NaN</td>\n    </tr>\n    <tr>\n      <th>2013-04-11</th>\n      <td>NaN</td>\n      <td>NaN</td>\n      <td>NaN</td>\n      <td>NaN</td>\n      <td>NaN</td>\n      <td>NaN</td>\n      <td>NaN</td>\n      <td>NaN</td>\n      <td>NaN</td>\n      <td>NaN</td>\n      <td>...</td>\n      <td>NaN</td>\n      <td>NaN</td>\n      <td>NaN</td>\n      <td>NaN</td>\n      <td>NaN</td>\n      <td>NaN</td>\n      <td>NaN</td>\n      <td>NaN</td>\n      <td>NaN</td>\n      <td>NaN</td>\n    </tr>\n    <tr>\n      <th>2013-04-12</th>\n      <td>NaN</td>\n      <td>NaN</td>\n      <td>NaN</td>\n      <td>NaN</td>\n      <td>NaN</td>\n      <td>NaN</td>\n      <td>NaN</td>\n      <td>NaN</td>\n      <td>NaN</td>\n      <td>NaN</td>\n      <td>...</td>\n      <td>NaN</td>\n      <td>NaN</td>\n      <td>NaN</td>\n      <td>NaN</td>\n      <td>NaN</td>\n      <td>NaN</td>\n      <td>NaN</td>\n      <td>NaN</td>\n      <td>NaN</td>\n      <td>NaN</td>\n    </tr>\n    <tr>\n      <th>2013-04-13</th>\n      <td>NaN</td>\n      <td>NaN</td>\n      <td>NaN</td>\n      <td>NaN</td>\n      <td>NaN</td>\n      <td>NaN</td>\n      <td>NaN</td>\n      <td>NaN</td>\n      <td>NaN</td>\n      <td>NaN</td>\n      <td>...</td>\n      <td>NaN</td>\n      <td>NaN</td>\n      <td>NaN</td>\n      <td>NaN</td>\n      <td>NaN</td>\n      <td>NaN</td>\n      <td>NaN</td>\n      <td>NaN</td>\n      <td>NaN</td>\n      <td>NaN</td>\n    </tr>\n    <tr>\n      <th>2013-04-14</th>\n      <td>NaN</td>\n      <td>NaN</td>\n      <td>NaN</td>\n      <td>NaN</td>\n      <td>NaN</td>\n      <td>NaN</td>\n      <td>NaN</td>\n      <td>NaN</td>\n      <td>NaN</td>\n      <td>NaN</td>\n      <td>...</td>\n      <td>NaN</td>\n      <td>NaN</td>\n      <td>NaN</td>\n      <td>NaN</td>\n      <td>NaN</td>\n      <td>NaN</td>\n      <td>NaN</td>\n      <td>NaN</td>\n      <td>NaN</td>\n      <td>NaN</td>\n    </tr>\n    <tr>\n      <th>2013-04-15</th>\n      <td>NaN</td>\n      <td>NaN</td>\n      <td>NaN</td>\n      <td>NaN</td>\n      <td>NaN</td>\n      <td>NaN</td>\n      <td>NaN</td>\n      <td>NaN</td>\n      <td>NaN</td>\n      <td>NaN</td>\n      <td>...</td>\n      <td>NaN</td>\n      <td>NaN</td>\n      <td>NaN</td>\n      <td>NaN</td>\n      <td>NaN</td>\n      <td>NaN</td>\n      <td>NaN</td>\n      <td>NaN</td>\n      <td>NaN</td>\n      <td>NaN</td>\n    </tr>\n    <tr>\n      <th>2013-04-16</th>\n      <td>NaN</td>\n      <td>NaN</td>\n      <td>NaN</td>\n      <td>NaN</td>\n      <td>NaN</td>\n      <td>NaN</td>\n      <td>NaN</td>\n      <td>NaN</td>\n      <td>NaN</td>\n      <td>NaN</td>\n      <td>...</td>\n      <td>NaN</td>\n      <td>NaN</td>\n      <td>NaN</td>\n      <td>NaN</td>\n      <td>NaN</td>\n      <td>NaN</td>\n      <td>NaN</td>\n      <td>NaN</td>\n      <td>NaN</td>\n      <td>NaN</td>\n    </tr>\n    <tr>\n      <th>2013-04-17</th>\n      <td>NaN</td>\n      <td>NaN</td>\n      <td>NaN</td>\n      <td>NaN</td>\n      <td>NaN</td>\n      <td>NaN</td>\n      <td>NaN</td>\n      <td>NaN</td>\n      <td>NaN</td>\n      <td>NaN</td>\n      <td>...</td>\n      <td>NaN</td>\n      <td>NaN</td>\n      <td>NaN</td>\n      <td>NaN</td>\n      <td>NaN</td>\n      <td>NaN</td>\n      <td>NaN</td>\n      <td>NaN</td>\n      <td>NaN</td>\n      <td>NaN</td>\n    </tr>\n    <tr>\n      <th>2013-04-18</th>\n      <td>NaN</td>\n      <td>NaN</td>\n      <td>NaN</td>\n      <td>NaN</td>\n      <td>NaN</td>\n      <td>NaN</td>\n      <td>NaN</td>\n      <td>NaN</td>\n      <td>NaN</td>\n      <td>NaN</td>\n      <td>...</td>\n      <td>NaN</td>\n      <td>NaN</td>\n      <td>NaN</td>\n      <td>NaN</td>\n      <td>NaN</td>\n      <td>NaN</td>\n      <td>NaN</td>\n      <td>NaN</td>\n      <td>NaN</td>\n      <td>NaN</td>\n    </tr>\n    <tr>\n      <th>2013-04-19</th>\n      <td>NaN</td>\n      <td>NaN</td>\n      <td>NaN</td>\n      <td>NaN</td>\n      <td>NaN</td>\n      <td>NaN</td>\n      <td>NaN</td>\n      <td>NaN</td>\n      <td>NaN</td>\n      <td>NaN</td>\n      <td>...</td>\n      <td>NaN</td>\n      <td>NaN</td>\n      <td>NaN</td>\n      <td>NaN</td>\n      <td>NaN</td>\n      <td>NaN</td>\n      <td>NaN</td>\n      <td>NaN</td>\n      <td>NaN</td>\n      <td>NaN</td>\n    </tr>\n    <tr>\n      <th>2013-04-20</th>\n      <td>0.313057</td>\n      <td>NaN</td>\n      <td>NaN</td>\n      <td>NaN</td>\n      <td>NaN</td>\n      <td>NaN</td>\n      <td>NaN</td>\n      <td>NaN</td>\n      <td>NaN</td>\n      <td>NaN</td>\n      <td>...</td>\n      <td>NaN</td>\n      <td>NaN</td>\n      <td>NaN</td>\n      <td>NaN</td>\n      <td>NaN</td>\n      <td>NaN</td>\n      <td>NaN</td>\n      <td>NaN</td>\n      <td>NaN</td>\n      <td>NaN</td>\n    </tr>\n    <tr>\n      <th>2013-04-21</th>\n      <td>0.346222</td>\n      <td>NaN</td>\n      <td>NaN</td>\n      <td>NaN</td>\n      <td>NaN</td>\n      <td>NaN</td>\n      <td>NaN</td>\n      <td>NaN</td>\n      <td>NaN</td>\n      <td>NaN</td>\n      <td>...</td>\n      <td>NaN</td>\n      <td>NaN</td>\n      <td>NaN</td>\n      <td>NaN</td>\n      <td>NaN</td>\n      <td>NaN</td>\n      <td>NaN</td>\n      <td>NaN</td>\n      <td>NaN</td>\n      <td>NaN</td>\n    </tr>\n    <tr>\n      <th>2013-04-22</th>\n      <td>0.315876</td>\n      <td>NaN</td>\n      <td>NaN</td>\n      <td>NaN</td>\n      <td>NaN</td>\n      <td>NaN</td>\n      <td>NaN</td>\n      <td>NaN</td>\n      <td>NaN</td>\n      <td>NaN</td>\n      <td>...</td>\n      <td>NaN</td>\n      <td>NaN</td>\n      <td>NaN</td>\n      <td>NaN</td>\n      <td>NaN</td>\n      <td>NaN</td>\n      <td>NaN</td>\n      <td>NaN</td>\n      <td>NaN</td>\n      <td>NaN</td>\n    </tr>\n    <tr>\n      <th>2013-04-23</th>\n      <td>0.257857</td>\n      <td>NaN</td>\n      <td>NaN</td>\n      <td>NaN</td>\n      <td>NaN</td>\n      <td>NaN</td>\n      <td>NaN</td>\n      <td>NaN</td>\n      <td>NaN</td>\n      <td>NaN</td>\n      <td>...</td>\n      <td>NaN</td>\n      <td>NaN</td>\n      <td>NaN</td>\n      <td>NaN</td>\n      <td>NaN</td>\n      <td>NaN</td>\n      <td>NaN</td>\n      <td>NaN</td>\n      <td>NaN</td>\n      <td>NaN</td>\n    </tr>\n    <tr>\n      <th>2013-04-24</th>\n      <td>0.216641</td>\n      <td>NaN</td>\n      <td>NaN</td>\n      <td>NaN</td>\n      <td>NaN</td>\n      <td>NaN</td>\n      <td>NaN</td>\n      <td>NaN</td>\n      <td>NaN</td>\n      <td>NaN</td>\n      <td>...</td>\n      <td>NaN</td>\n      <td>NaN</td>\n      <td>NaN</td>\n      <td>NaN</td>\n      <td>NaN</td>\n      <td>NaN</td>\n      <td>NaN</td>\n      <td>NaN</td>\n      <td>NaN</td>\n      <td>NaN</td>\n    </tr>\n    <tr>\n      <th>2013-04-25</th>\n      <td>0.265538</td>\n      <td>NaN</td>\n      <td>NaN</td>\n      <td>NaN</td>\n      <td>NaN</td>\n      <td>NaN</td>\n      <td>NaN</td>\n      <td>NaN</td>\n      <td>NaN</td>\n      <td>NaN</td>\n      <td>...</td>\n      <td>NaN</td>\n      <td>NaN</td>\n      <td>NaN</td>\n      <td>NaN</td>\n      <td>NaN</td>\n      <td>NaN</td>\n      <td>NaN</td>\n      <td>NaN</td>\n      <td>NaN</td>\n      <td>NaN</td>\n    </tr>\n    <tr>\n      <th>2013-04-26</th>\n      <td>0.281526</td>\n      <td>NaN</td>\n      <td>NaN</td>\n      <td>NaN</td>\n      <td>NaN</td>\n      <td>NaN</td>\n      <td>NaN</td>\n      <td>NaN</td>\n      <td>NaN</td>\n      <td>NaN</td>\n      <td>...</td>\n      <td>NaN</td>\n      <td>NaN</td>\n      <td>NaN</td>\n      <td>NaN</td>\n      <td>NaN</td>\n      <td>NaN</td>\n      <td>NaN</td>\n      <td>NaN</td>\n      <td>NaN</td>\n      <td>NaN</td>\n    </tr>\n    <tr>\n      <th>2013-04-27</th>\n      <td>0.304920</td>\n      <td>NaN</td>\n      <td>NaN</td>\n      <td>NaN</td>\n      <td>NaN</td>\n      <td>NaN</td>\n      <td>NaN</td>\n      <td>NaN</td>\n      <td>NaN</td>\n      <td>NaN</td>\n      <td>...</td>\n      <td>NaN</td>\n      <td>NaN</td>\n      <td>NaN</td>\n      <td>NaN</td>\n      <td>NaN</td>\n      <td>NaN</td>\n      <td>NaN</td>\n      <td>NaN</td>\n      <td>NaN</td>\n      <td>NaN</td>\n    </tr>\n    <tr>\n      <th>2013-04-28</th>\n      <td>0.259345</td>\n      <td>NaN</td>\n      <td>NaN</td>\n      <td>NaN</td>\n      <td>NaN</td>\n      <td>NaN</td>\n      <td>NaN</td>\n      <td>NaN</td>\n      <td>NaN</td>\n      <td>NaN</td>\n      <td>...</td>\n      <td>NaN</td>\n      <td>NaN</td>\n      <td>NaN</td>\n      <td>NaN</td>\n      <td>NaN</td>\n      <td>NaN</td>\n      <td>NaN</td>\n      <td>NaN</td>\n      <td>NaN</td>\n      <td>NaN</td>\n    </tr>\n    <tr>\n      <th>2013-04-29</th>\n      <td>0.129693</td>\n      <td>NaN</td>\n      <td>NaN</td>\n      <td>NaN</td>\n      <td>NaN</td>\n      <td>NaN</td>\n      <td>NaN</td>\n      <td>NaN</td>\n      <td>NaN</td>\n      <td>NaN</td>\n      <td>...</td>\n      <td>NaN</td>\n      <td>NaN</td>\n      <td>NaN</td>\n      <td>NaN</td>\n      <td>NaN</td>\n      <td>NaN</td>\n      <td>NaN</td>\n      <td>NaN</td>\n      <td>NaN</td>\n      <td>NaN</td>\n    </tr>\n  </tbody>\n</table>\n<p>30 rows × 9216 columns</p>\n</div>"
     },
     "execution_count": 21,
     "metadata": {},
     "output_type": "execute_result"
    }
   ],
   "source": [
    "prices['bb_high'].unstack(glevel).head(30)"
   ],
   "metadata": {
    "collapsed": false,
    "pycharm": {
     "name": "#%%\n"
    }
   }
  },
  {
   "cell_type": "code",
   "execution_count": null,
   "outputs": [],
   "source": [
    "print('prices dates {}:{}'.format(prices.dropna().index.get_level_values('date').min(),\n",
    "                                 prices.dropna().index.get_level_values('date').max()))"
   ],
   "metadata": {
    "collapsed": false,
    "pycharm": {
     "name": "#%%\n"
    }
   }
  },
  {
   "cell_type": "code",
   "execution_count": 22,
   "outputs": [
    {
     "data": {
      "text/plain": "<Figure size 1080x360 with 2 Axes>",
      "image/png": "[encoded data removed]"
     },
     "metadata": {},
     "output_type": "display_data"
    }
   ],
   "source": [
    "\"\"\"\n",
    "fig, axes = plt.subplots(ncols=2, figsize=(15, 5))\n",
    "sns.distplot(prices.loc[prices.dollar_vol_rank<100, 'bb_low'].dropna(), ax=axes[0])\n",
    "sns.distplot(prices.loc[prices.dollar_vol_rank<100, 'bb_high'].dropna(), ax=axes[1])\n",
    "sns.despine()\n",
    "plt.tight_layout();\n",
    "\"\"\"\n",
    "fig, axes = plt.subplots(ncols=2, figsize=(15, 5))\n",
    "sns.distplot(prices['bb_low'].dropna(), ax=axes[0])\n",
    "sns.distplot(prices['bb_high'].dropna(), ax=axes[1])\n",
    "sns.despine()\n",
    "plt.tight_layout();"
   ],
   "metadata": {
    "collapsed": false,
    "pycharm": {
     "name": "#%%\n"
    }
   }
  },
  {
   "cell_type": "markdown",
   "source": [
    "### Compute Average True Range"
   ],
   "metadata": {
    "collapsed": false
   }
  },
  {
   "cell_type": "code",
   "execution_count": 23,
   "outputs": [],
   "source": [
    "prices['NATR'] = prices.groupby(level=glevel,\n",
    "                                group_keys=False).apply(lambda x: \n",
    "                                                        talib.NATR(x.high, x.low, x.close))"
   ],
   "metadata": {
    "collapsed": false,
    "pycharm": {
     "name": "#%%\n"
    }
   }
  },
  {
   "cell_type": "code",
   "execution_count": null,
   "outputs": [],
   "source": [
    "print('prices dates {}:{}'.format(prices.dropna().index.get_level_values('date').min(),\n",
    "                                 prices.dropna().index.get_level_values('date').max()))"
   ],
   "metadata": {
    "collapsed": false,
    "pycharm": {
     "name": "#%%\n"
    }
   }
  },
  {
   "cell_type": "code",
   "execution_count": 24,
   "outputs": [
    {
     "data": {
      "text/plain": "ticker         btc-usd ltc-usd eth-usd etc-usd zec-usd xmr-usd dash-usd  \\\noffset            0       0       0       0       0       0        0      \ndate                                                                      \n2013-03-31         NaN     NaN     NaN     NaN     NaN     NaN      NaN   \n2013-04-01         NaN     NaN     NaN     NaN     NaN     NaN      NaN   \n2013-04-02         NaN     NaN     NaN     NaN     NaN     NaN      NaN   \n2013-04-03         NaN     NaN     NaN     NaN     NaN     NaN      NaN   \n2013-04-04         NaN     NaN     NaN     NaN     NaN     NaN      NaN   \n2013-04-05         NaN     NaN     NaN     NaN     NaN     NaN      NaN   \n2013-04-06         NaN     NaN     NaN     NaN     NaN     NaN      NaN   \n2013-04-07         NaN     NaN     NaN     NaN     NaN     NaN      NaN   \n2013-04-08         NaN     NaN     NaN     NaN     NaN     NaN      NaN   \n2013-04-09         NaN     NaN     NaN     NaN     NaN     NaN      NaN   \n2013-04-10         NaN     NaN     NaN     NaN     NaN     NaN      NaN   \n2013-04-11         NaN     NaN     NaN     NaN     NaN     NaN      NaN   \n2013-04-12         NaN     NaN     NaN     NaN     NaN     NaN      NaN   \n2013-04-13         NaN     NaN     NaN     NaN     NaN     NaN      NaN   \n2013-04-14         NaN     NaN     NaN     NaN     NaN     NaN      NaN   \n2013-04-15   83.333379     NaN     NaN     NaN     NaN     NaN      NaN   \n2013-04-16  104.223438     NaN     NaN     NaN     NaN     NaN      NaN   \n2013-04-17   73.406268     NaN     NaN     NaN     NaN     NaN      NaN   \n2013-04-18   58.742234     NaN     NaN     NaN     NaN     NaN      NaN   \n2013-04-19   53.624694     NaN     NaN     NaN     NaN     NaN      NaN   \n2013-04-20   47.305795     NaN     NaN     NaN     NaN     NaN      NaN   \n2013-04-21   48.570134     NaN     NaN     NaN     NaN     NaN      NaN   \n2013-04-22   42.535463     NaN     NaN     NaN     NaN     NaN      NaN   \n2013-04-23   36.045448     NaN     NaN     NaN     NaN     NaN      NaN   \n2013-04-24   32.056547     NaN     NaN     NaN     NaN     NaN      NaN   \n2013-04-25   34.902474     NaN     NaN     NaN     NaN     NaN      NaN   \n2013-04-26   40.309588     NaN     NaN     NaN     NaN     NaN      NaN   \n2013-04-27   41.377282     NaN     NaN     NaN     NaN     NaN      NaN   \n2013-04-28   37.023817     NaN     NaN     NaN     NaN     NaN      NaN   \n2013-04-29   34.016245     NaN     NaN     NaN     NaN     NaN      NaN   \n\nticker     xrp-usd miota-usd eos-usd  ... bsv-usd btt-usd atom-usd wbtc-usd  \\\noffset        0         0       0     ...    1435    1435     1435     1435   \ndate                                  ...                                     \n2013-03-31     NaN       NaN     NaN  ...     NaN     NaN      NaN      NaN   \n2013-04-01     NaN       NaN     NaN  ...     NaN     NaN      NaN      NaN   \n2013-04-02     NaN       NaN     NaN  ...     NaN     NaN      NaN      NaN   \n2013-04-03     NaN       NaN     NaN  ...     NaN     NaN      NaN      NaN   \n2013-04-04     NaN       NaN     NaN  ...     NaN     NaN      NaN      NaN   \n2013-04-05     NaN       NaN     NaN  ...     NaN     NaN      NaN      NaN   \n2013-04-06     NaN       NaN     NaN  ...     NaN     NaN      NaN      NaN   \n2013-04-07     NaN       NaN     NaN  ...     NaN     NaN      NaN      NaN   \n2013-04-08     NaN       NaN     NaN  ...     NaN     NaN      NaN      NaN   \n2013-04-09     NaN       NaN     NaN  ...     NaN     NaN      NaN      NaN   \n2013-04-10     NaN       NaN     NaN  ...     NaN     NaN      NaN      NaN   \n2013-04-11     NaN       NaN     NaN  ...     NaN     NaN      NaN      NaN   \n2013-04-12     NaN       NaN     NaN  ...     NaN     NaN      NaN      NaN   \n2013-04-13     NaN       NaN     NaN  ...     NaN     NaN      NaN      NaN   \n2013-04-14     NaN       NaN     NaN  ...     NaN     NaN      NaN      NaN   \n2013-04-15     NaN       NaN     NaN  ...     NaN     NaN      NaN      NaN   \n2013-04-16     NaN       NaN     NaN  ...     NaN     NaN      NaN      NaN   \n2013-04-17     NaN       NaN     NaN  ...     NaN     NaN      NaN      NaN   \n2013-04-18     NaN       NaN     NaN  ...     NaN     NaN      NaN      NaN   \n2013-04-19     NaN       NaN     NaN  ...     NaN     NaN      NaN      NaN   \n2013-04-20     NaN       NaN     NaN  ...     NaN     NaN      NaN      NaN   \n2013-04-21     NaN       NaN     NaN  ...     NaN     NaN      NaN      NaN   \n2013-04-22     NaN       NaN     NaN  ...     NaN     NaN      NaN      NaN   \n2013-04-23     NaN       NaN     NaN  ...     NaN     NaN      NaN      NaN   \n2013-04-24     NaN       NaN     NaN  ...     NaN     NaN      NaN      NaN   \n2013-04-25     NaN       NaN     NaN  ...     NaN     NaN      NaN      NaN   \n2013-04-26     NaN       NaN     NaN  ...     NaN     NaN      NaN      NaN   \n2013-04-27     NaN       NaN     NaN  ...     NaN     NaN      NaN      NaN   \n2013-04-28     NaN       NaN     NaN  ...     NaN     NaN      NaN      NaN   \n2013-04-29     NaN       NaN     NaN  ...     NaN     NaN      NaN      NaN   \n\nticker     leo-usd okb-usd algo-usd amp-usd ftt-usd chz-usd  \noffset        1435    1435     1435    1435    1435    1435  \ndate                                                         \n2013-03-31     NaN     NaN      NaN     NaN     NaN     NaN  \n2013-04-01     NaN     NaN      NaN     NaN     NaN     NaN  \n2013-04-02     NaN     NaN      NaN     NaN     NaN     NaN  \n2013-04-03     NaN     NaN      NaN     NaN     NaN     NaN  \n2013-04-04     NaN     NaN      NaN     NaN     NaN     NaN  \n2013-04-05     NaN     NaN      NaN     NaN     NaN     NaN  \n2013-04-06     NaN     NaN      NaN     NaN     NaN     NaN  \n2013-04-07     NaN     NaN      NaN     NaN     NaN     NaN  \n2013-04-08     NaN     NaN      NaN     NaN     NaN     NaN  \n2013-04-09     NaN     NaN      NaN     NaN     NaN     NaN  \n2013-04-10     NaN     NaN      NaN     NaN     NaN     NaN  \n2013-04-11     NaN     NaN      NaN     NaN     NaN     NaN  \n2013-04-12     NaN     NaN      NaN     NaN     NaN     NaN  \n2013-04-13     NaN     NaN      NaN     NaN     NaN     NaN  \n2013-04-14     NaN     NaN      NaN     NaN     NaN     NaN  \n2013-04-15     NaN     NaN      NaN     NaN     NaN     NaN  \n2013-04-16     NaN     NaN      NaN     NaN     NaN     NaN  \n2013-04-17     NaN     NaN      NaN     NaN     NaN     NaN  \n2013-04-18     NaN     NaN      NaN     NaN     NaN     NaN  \n2013-04-19     NaN     NaN      NaN     NaN     NaN     NaN  \n2013-04-20     NaN     NaN      NaN     NaN     NaN     NaN  \n2013-04-21     NaN     NaN      NaN     NaN     NaN     NaN  \n2013-04-22     NaN     NaN      NaN     NaN     NaN     NaN  \n2013-04-23     NaN     NaN      NaN     NaN     NaN     NaN  \n2013-04-24     NaN     NaN      NaN     NaN     NaN     NaN  \n2013-04-25     NaN     NaN      NaN     NaN     NaN     NaN  \n2013-04-26     NaN     NaN      NaN     NaN     NaN     NaN  \n2013-04-27     NaN     NaN      NaN     NaN     NaN     NaN  \n2013-04-28     NaN     NaN      NaN     NaN     NaN     NaN  \n2013-04-29     NaN     NaN      NaN     NaN     NaN     NaN  \n\n[30 rows x 9216 columns]",
      "text/html": "<div>\n<style scoped>\n    .dataframe tbody tr th:only-of-type {\n        vertical-align: middle;\n    }\n\n    .dataframe tbody tr th {\n        vertical-align: top;\n    }\n\n    .dataframe thead tr th {\n        text-align: left;\n    }\n\n    .dataframe thead tr:last-of-type th {\n        text-align: right;\n    }\n</style>\n<table border=\"1\" class=\"dataframe\">\n  <thead>\n    <tr>\n      <th>ticker</th>\n      <th>btc-usd</th>\n      <th>ltc-usd</th>\n      <th>eth-usd</th>\n      <th>etc-usd</th>\n      <th>zec-usd</th>\n      <th>xmr-usd</th>\n      <th>dash-usd</th>\n      <th>xrp-usd</th>\n      <th>miota-usd</th>\n      <th>eos-usd</th>\n      <th>...</th>\n      <th>bsv-usd</th>\n      <th>btt-usd</th>\n      <th>atom-usd</th>\n      <th>wbtc-usd</th>\n      <th>leo-usd</th>\n      <th>okb-usd</th>\n      <th>algo-usd</th>\n      <th>amp-usd</th>\n      <th>ftt-usd</th>\n      <th>chz-usd</th>\n    </tr>\n    <tr>\n      <th>offset</th>\n      <th>0</th>\n      <th>0</th>\n      <th>0</th>\n      <th>0</th>\n      <th>0</th>\n      <th>0</th>\n      <th>0</th>\n      <th>0</th>\n      <th>0</th>\n      <th>0</th>\n      <th>...</th>\n      <th>1435</th>\n      <th>1435</th>\n      <th>1435</th>\n      <th>1435</th>\n      <th>1435</th>\n      <th>1435</th>\n      <th>1435</th>\n      <th>1435</th>\n      <th>1435</th>\n      <th>1435</th>\n    </tr>\n    <tr>\n      <th>date</th>\n      <th></th>\n      <th></th>\n      <th></th>\n      <th></th>\n      <th></th>\n      <th></th>\n      <th></th>\n      <th></th>\n      <th></th>\n      <th></th>\n      <th></th>\n      <th></th>\n      <th></th>\n      <th></th>\n      <th></th>\n      <th></th>\n      <th></th>\n      <th></th>\n      <th></th>\n      <th></th>\n      <th></th>\n    </tr>\n  </thead>\n  <tbody>\n    <tr>\n      <th>2013-03-31</th>\n      <td>NaN</td>\n      <td>NaN</td>\n      <td>NaN</td>\n      <td>NaN</td>\n      <td>NaN</td>\n      <td>NaN</td>\n      <td>NaN</td>\n      <td>NaN</td>\n      <td>NaN</td>\n      <td>NaN</td>\n      <td>...</td>\n      <td>NaN</td>\n      <td>NaN</td>\n      <td>NaN</td>\n      <td>NaN</td>\n      <td>NaN</td>\n      <td>NaN</td>\n      <td>NaN</td>\n      <td>NaN</td>\n      <td>NaN</td>\n      <td>NaN</td>\n    </tr>\n    <tr>\n      <th>2013-04-01</th>\n      <td>NaN</td>\n      <td>NaN</td>\n      <td>NaN</td>\n      <td>NaN</td>\n      <td>NaN</td>\n      <td>NaN</td>\n      <td>NaN</td>\n      <td>NaN</td>\n      <td>NaN</td>\n      <td>NaN</td>\n      <td>...</td>\n      <td>NaN</td>\n      <td>NaN</td>\n      <td>NaN</td>\n      <td>NaN</td>\n      <td>NaN</td>\n      <td>NaN</td>\n      <td>NaN</td>\n      <td>NaN</td>\n      <td>NaN</td>\n      <td>NaN</td>\n    </tr>\n    <tr>\n      <th>2013-04-02</th>\n      <td>NaN</td>\n      <td>NaN</td>\n      <td>NaN</td>\n      <td>NaN</td>\n      <td>NaN</td>\n      <td>NaN</td>\n      <td>NaN</td>\n      <td>NaN</td>\n      <td>NaN</td>\n      <td>NaN</td>\n      <td>...</td>\n      <td>NaN</td>\n      <td>NaN</td>\n      <td>NaN</td>\n      <td>NaN</td>\n      <td>NaN</td>\n      <td>NaN</td>\n      <td>NaN</td>\n      <td>NaN</td>\n      <td>NaN</td>\n      <td>NaN</td>\n    </tr>\n    <tr>\n      <th>2013-04-03</th>\n      <td>NaN</td>\n      <td>NaN</td>\n      <td>NaN</td>\n      <td>NaN</td>\n      <td>NaN</td>\n      <td>NaN</td>\n      <td>NaN</td>\n      <td>NaN</td>\n      <td>NaN</td>\n      <td>NaN</td>\n      <td>...</td>\n      <td>NaN</td>\n      <td>NaN</td>\n      <td>NaN</td>\n      <td>NaN</td>\n      <td>NaN</td>\n      <td>NaN</td>\n      <td>NaN</td>\n      <td>NaN</td>\n      <td>NaN</td>\n      <td>NaN</td>\n    </tr>\n    <tr>\n      <th>2013-04-04</th>\n      <td>NaN</td>\n      <td>NaN</td>\n      <td>NaN</td>\n      <td>NaN</td>\n      <td>NaN</td>\n      <td>NaN</td>\n      <td>NaN</td>\n      <td>NaN</td>\n      <td>NaN</td>\n      <td>NaN</td>\n      <td>...</td>\n      <td>NaN</td>\n      <td>NaN</td>\n      <td>NaN</td>\n      <td>NaN</td>\n      <td>NaN</td>\n      <td>NaN</td>\n      <td>NaN</td>\n      <td>NaN</td>\n      <td>NaN</td>\n      <td>NaN</td>\n    </tr>\n    <tr>\n      <th>2013-04-05</th>\n      <td>NaN</td>\n      <td>NaN</td>\n      <td>NaN</td>\n      <td>NaN</td>\n      <td>NaN</td>\n      <td>NaN</td>\n      <td>NaN</td>\n      <td>NaN</td>\n      <td>NaN</td>\n      <td>NaN</td>\n      <td>...</td>\n      <td>NaN</td>\n      <td>NaN</td>\n      <td>NaN</td>\n      <td>NaN</td>\n      <td>NaN</td>\n      <td>NaN</td>\n      <td>NaN</td>\n      <td>NaN</td>\n      <td>NaN</td>\n      <td>NaN</td>\n    </tr>\n    <tr>\n      <th>2013-04-06</th>\n      <td>NaN</td>\n      <td>NaN</td>\n      <td>NaN</td>\n      <td>NaN</td>\n      <td>NaN</td>\n      <td>NaN</td>\n      <td>NaN</td>\n      <td>NaN</td>\n      <td>NaN</td>\n      <td>NaN</td>\n      <td>...</td>\n      <td>NaN</td>\n      <td>NaN</td>\n      <td>NaN</td>\n      <td>NaN</td>\n      <td>NaN</td>\n      <td>NaN</td>\n      <td>NaN</td>\n      <td>NaN</td>\n      <td>NaN</td>\n      <td>NaN</td>\n    </tr>\n    <tr>\n      <th>2013-04-07</th>\n      <td>NaN</td>\n      <td>NaN</td>\n      <td>NaN</td>\n      <td>NaN</td>\n      <td>NaN</td>\n      <td>NaN</td>\n      <td>NaN</td>\n      <td>NaN</td>\n      <td>NaN</td>\n      <td>NaN</td>\n      <td>...</td>\n      <td>NaN</td>\n      <td>NaN</td>\n      <td>NaN</td>\n      <td>NaN</td>\n      <td>NaN</td>\n      <td>NaN</td>\n      <td>NaN</td>\n      <td>NaN</td>\n      <td>NaN</td>\n      <td>NaN</td>\n    </tr>\n    <tr>\n      <th>2013-04-08</th>\n      <td>NaN</td>\n      <td>NaN</td>\n      <td>NaN</td>\n      <td>NaN</td>\n      <td>NaN</td>\n      <td>NaN</td>\n      <td>NaN</td>\n      <td>NaN</td>\n      <td>NaN</td>\n      <td>NaN</td>\n      <td>...</td>\n      <td>NaN</td>\n      <td>NaN</td>\n      <td>NaN</td>\n      <td>NaN</td>\n      <td>NaN</td>\n      <td>NaN</td>\n      <td>NaN</td>\n      <td>NaN</td>\n      <td>NaN</td>\n      <td>NaN</td>\n    </tr>\n    <tr>\n      <th>2013-04-09</th>\n      <td>NaN</td>\n      <td>NaN</td>\n      <td>NaN</td>\n      <td>NaN</td>\n      <td>NaN</td>\n      <td>NaN</td>\n      <td>NaN</td>\n      <td>NaN</td>\n      <td>NaN</td>\n      <td>NaN</td>\n      <td>...</td>\n      <td>NaN</td>\n      <td>NaN</td>\n      <td>NaN</td>\n      <td>NaN</td>\n      <td>NaN</td>\n      <td>NaN</td>\n      <td>NaN</td>\n      <td>NaN</td>\n      <td>NaN</td>\n      <td>NaN</td>\n    </tr>\n    <tr>\n      <th>2013-04-10</th>\n      <td>NaN</td>\n      <td>NaN</td>\n      <td>NaN</td>\n      <td>NaN</td>\n      <td>NaN</td>\n      <td>NaN</td>\n      <td>NaN</td>\n      <td>NaN</td>\n      <td>NaN</td>\n      <td>NaN</td>\n      <td>...</td>\n      <td>NaN</td>\n      <td>NaN</td>\n      <td>NaN</td>\n      <td>NaN</td>\n      <td>NaN</td>\n      <td>NaN</td>\n      <td>NaN</td>\n      <td>NaN</td>\n      <td>NaN</td>\n      <td>NaN</td>\n    </tr>\n    <tr>\n      <th>2013-04-11</th>\n      <td>NaN</td>\n      <td>NaN</td>\n      <td>NaN</td>\n      <td>NaN</td>\n      <td>NaN</td>\n      <td>NaN</td>\n      <td>NaN</td>\n      <td>NaN</td>\n      <td>NaN</td>\n      <td>NaN</td>\n      <td>...</td>\n      <td>NaN</td>\n      <td>NaN</td>\n      <td>NaN</td>\n      <td>NaN</td>\n      <td>NaN</td>\n      <td>NaN</td>\n      <td>NaN</td>\n      <td>NaN</td>\n      <td>NaN</td>\n      <td>NaN</td>\n    </tr>\n    <tr>\n      <th>2013-04-12</th>\n      <td>NaN</td>\n      <td>NaN</td>\n      <td>NaN</td>\n      <td>NaN</td>\n      <td>NaN</td>\n      <td>NaN</td>\n      <td>NaN</td>\n      <td>NaN</td>\n      <td>NaN</td>\n      <td>NaN</td>\n      <td>...</td>\n      <td>NaN</td>\n      <td>NaN</td>\n      <td>NaN</td>\n      <td>NaN</td>\n      <td>NaN</td>\n      <td>NaN</td>\n      <td>NaN</td>\n      <td>NaN</td>\n      <td>NaN</td>\n      <td>NaN</td>\n    </tr>\n    <tr>\n      <th>2013-04-13</th>\n      <td>NaN</td>\n      <td>NaN</td>\n      <td>NaN</td>\n      <td>NaN</td>\n      <td>NaN</td>\n      <td>NaN</td>\n      <td>NaN</td>\n      <td>NaN</td>\n      <td>NaN</td>\n      <td>NaN</td>\n      <td>...</td>\n      <td>NaN</td>\n      <td>NaN</td>\n      <td>NaN</td>\n      <td>NaN</td>\n      <td>NaN</td>\n      <td>NaN</td>\n      <td>NaN</td>\n      <td>NaN</td>\n      <td>NaN</td>\n      <td>NaN</td>\n    </tr>\n    <tr>\n      <th>2013-04-14</th>\n      <td>NaN</td>\n      <td>NaN</td>\n      <td>NaN</td>\n      <td>NaN</td>\n      <td>NaN</td>\n      <td>NaN</td>\n      <td>NaN</td>\n      <td>NaN</td>\n      <td>NaN</td>\n      <td>NaN</td>\n      <td>...</td>\n      <td>NaN</td>\n      <td>NaN</td>\n      <td>NaN</td>\n      <td>NaN</td>\n      <td>NaN</td>\n      <td>NaN</td>\n      <td>NaN</td>\n      <td>NaN</td>\n      <td>NaN</td>\n      <td>NaN</td>\n    </tr>\n    <tr>\n      <th>2013-04-15</th>\n      <td>83.333379</td>\n      <td>NaN</td>\n      <td>NaN</td>\n      <td>NaN</td>\n      <td>NaN</td>\n      <td>NaN</td>\n      <td>NaN</td>\n      <td>NaN</td>\n      <td>NaN</td>\n      <td>NaN</td>\n      <td>...</td>\n      <td>NaN</td>\n      <td>NaN</td>\n      <td>NaN</td>\n      <td>NaN</td>\n      <td>NaN</td>\n      <td>NaN</td>\n      <td>NaN</td>\n      <td>NaN</td>\n      <td>NaN</td>\n      <td>NaN</td>\n    </tr>\n    <tr>\n      <th>2013-04-16</th>\n      <td>104.223438</td>\n      <td>NaN</td>\n      <td>NaN</td>\n      <td>NaN</td>\n      <td>NaN</td>\n      <td>NaN</td>\n      <td>NaN</td>\n      <td>NaN</td>\n      <td>NaN</td>\n      <td>NaN</td>\n      <td>...</td>\n      <td>NaN</td>\n      <td>NaN</td>\n      <td>NaN</td>\n      <td>NaN</td>\n      <td>NaN</td>\n      <td>NaN</td>\n      <td>NaN</td>\n      <td>NaN</td>\n      <td>NaN</td>\n      <td>NaN</td>\n    </tr>\n    <tr>\n      <th>2013-04-17</th>\n      <td>73.406268</td>\n      <td>NaN</td>\n      <td>NaN</td>\n      <td>NaN</td>\n      <td>NaN</td>\n      <td>NaN</td>\n      <td>NaN</td>\n      <td>NaN</td>\n      <td>NaN</td>\n      <td>NaN</td>\n      <td>...</td>\n      <td>NaN</td>\n      <td>NaN</td>\n      <td>NaN</td>\n      <td>NaN</td>\n      <td>NaN</td>\n      <td>NaN</td>\n      <td>NaN</td>\n      <td>NaN</td>\n      <td>NaN</td>\n      <td>NaN</td>\n    </tr>\n    <tr>\n      <th>2013-04-18</th>\n      <td>58.742234</td>\n      <td>NaN</td>\n      <td>NaN</td>\n      <td>NaN</td>\n      <td>NaN</td>\n      <td>NaN</td>\n      <td>NaN</td>\n      <td>NaN</td>\n      <td>NaN</td>\n      <td>NaN</td>\n      <td>...</td>\n      <td>NaN</td>\n      <td>NaN</td>\n      <td>NaN</td>\n      <td>NaN</td>\n      <td>NaN</td>\n      <td>NaN</td>\n      <td>NaN</td>\n      <td>NaN</td>\n      <td>NaN</td>\n      <td>NaN</td>\n    </tr>\n    <tr>\n      <th>2013-04-19</th>\n      <td>53.624694</td>\n      <td>NaN</td>\n      <td>NaN</td>\n      <td>NaN</td>\n      <td>NaN</td>\n      <td>NaN</td>\n      <td>NaN</td>\n      <td>NaN</td>\n      <td>NaN</td>\n      <td>NaN</td>\n      <td>...</td>\n      <td>NaN</td>\n      <td>NaN</td>\n      <td>NaN</td>\n      <td>NaN</td>\n      <td>NaN</td>\n      <td>NaN</td>\n      <td>NaN</td>\n      <td>NaN</td>\n      <td>NaN</td>\n      <td>NaN</td>\n    </tr>\n    <tr>\n      <th>2013-04-20</th>\n      <td>47.305795</td>\n      <td>NaN</td>\n      <td>NaN</td>\n      <td>NaN</td>\n      <td>NaN</td>\n      <td>NaN</td>\n      <td>NaN</td>\n      <td>NaN</td>\n      <td>NaN</td>\n      <td>NaN</td>\n      <td>...</td>\n      <td>NaN</td>\n      <td>NaN</td>\n      <td>NaN</td>\n      <td>NaN</td>\n      <td>NaN</td>\n      <td>NaN</td>\n      <td>NaN</td>\n      <td>NaN</td>\n      <td>NaN</td>\n      <td>NaN</td>\n    </tr>\n    <tr>\n      <th>2013-04-21</th>\n      <td>48.570134</td>\n      <td>NaN</td>\n      <td>NaN</td>\n      <td>NaN</td>\n      <td>NaN</td>\n      <td>NaN</td>\n      <td>NaN</td>\n      <td>NaN</td>\n      <td>NaN</td>\n      <td>NaN</td>\n      <td>...</td>\n      <td>NaN</td>\n      <td>NaN</td>\n      <td>NaN</td>\n      <td>NaN</td>\n      <td>NaN</td>\n      <td>NaN</td>\n      <td>NaN</td>\n      <td>NaN</td>\n      <td>NaN</td>\n      <td>NaN</td>\n    </tr>\n    <tr>\n      <th>2013-04-22</th>\n      <td>42.535463</td>\n      <td>NaN</td>\n      <td>NaN</td>\n      <td>NaN</td>\n      <td>NaN</td>\n      <td>NaN</td>\n      <td>NaN</td>\n      <td>NaN</td>\n      <td>NaN</td>\n      <td>NaN</td>\n      <td>...</td>\n      <td>NaN</td>\n      <td>NaN</td>\n      <td>NaN</td>\n      <td>NaN</td>\n      <td>NaN</td>\n      <td>NaN</td>\n      <td>NaN</td>\n      <td>NaN</td>\n      <td>NaN</td>\n      <td>NaN</td>\n    </tr>\n    <tr>\n      <th>2013-04-23</th>\n      <td>36.045448</td>\n      <td>NaN</td>\n      <td>NaN</td>\n      <td>NaN</td>\n      <td>NaN</td>\n      <td>NaN</td>\n      <td>NaN</td>\n      <td>NaN</td>\n      <td>NaN</td>\n      <td>NaN</td>\n      <td>...</td>\n      <td>NaN</td>\n      <td>NaN</td>\n      <td>NaN</td>\n      <td>NaN</td>\n      <td>NaN</td>\n      <td>NaN</td>\n      <td>NaN</td>\n      <td>NaN</td>\n      <td>NaN</td>\n      <td>NaN</td>\n    </tr>\n    <tr>\n      <th>2013-04-24</th>\n      <td>32.056547</td>\n      <td>NaN</td>\n      <td>NaN</td>\n      <td>NaN</td>\n      <td>NaN</td>\n      <td>NaN</td>\n      <td>NaN</td>\n      <td>NaN</td>\n      <td>NaN</td>\n      <td>NaN</td>\n      <td>...</td>\n      <td>NaN</td>\n      <td>NaN</td>\n      <td>NaN</td>\n      <td>NaN</td>\n      <td>NaN</td>\n      <td>NaN</td>\n      <td>NaN</td>\n      <td>NaN</td>\n      <td>NaN</td>\n      <td>NaN</td>\n    </tr>\n    <tr>\n      <th>2013-04-25</th>\n      <td>34.902474</td>\n      <td>NaN</td>\n      <td>NaN</td>\n      <td>NaN</td>\n      <td>NaN</td>\n      <td>NaN</td>\n      <td>NaN</td>\n      <td>NaN</td>\n      <td>NaN</td>\n      <td>NaN</td>\n      <td>...</td>\n      <td>NaN</td>\n      <td>NaN</td>\n      <td>NaN</td>\n      <td>NaN</td>\n      <td>NaN</td>\n      <td>NaN</td>\n      <td>NaN</td>\n      <td>NaN</td>\n      <td>NaN</td>\n      <td>NaN</td>\n    </tr>\n    <tr>\n      <th>2013-04-26</th>\n      <td>40.309588</td>\n      <td>NaN</td>\n      <td>NaN</td>\n      <td>NaN</td>\n      <td>NaN</td>\n      <td>NaN</td>\n      <td>NaN</td>\n      <td>NaN</td>\n      <td>NaN</td>\n      <td>NaN</td>\n      <td>...</td>\n      <td>NaN</td>\n      <td>NaN</td>\n      <td>NaN</td>\n      <td>NaN</td>\n      <td>NaN</td>\n      <td>NaN</td>\n      <td>NaN</td>\n      <td>NaN</td>\n      <td>NaN</td>\n      <td>NaN</td>\n    </tr>\n    <tr>\n      <th>2013-04-27</th>\n      <td>41.377282</td>\n      <td>NaN</td>\n      <td>NaN</td>\n      <td>NaN</td>\n      <td>NaN</td>\n      <td>NaN</td>\n      <td>NaN</td>\n      <td>NaN</td>\n      <td>NaN</td>\n      <td>NaN</td>\n      <td>...</td>\n      <td>NaN</td>\n      <td>NaN</td>\n      <td>NaN</td>\n      <td>NaN</td>\n      <td>NaN</td>\n      <td>NaN</td>\n      <td>NaN</td>\n      <td>NaN</td>\n      <td>NaN</td>\n      <td>NaN</td>\n    </tr>\n    <tr>\n      <th>2013-04-28</th>\n      <td>37.023817</td>\n      <td>NaN</td>\n      <td>NaN</td>\n      <td>NaN</td>\n      <td>NaN</td>\n      <td>NaN</td>\n      <td>NaN</td>\n      <td>NaN</td>\n      <td>NaN</td>\n      <td>NaN</td>\n      <td>...</td>\n      <td>NaN</td>\n      <td>NaN</td>\n      <td>NaN</td>\n      <td>NaN</td>\n      <td>NaN</td>\n      <td>NaN</td>\n      <td>NaN</td>\n      <td>NaN</td>\n      <td>NaN</td>\n      <td>NaN</td>\n    </tr>\n    <tr>\n      <th>2013-04-29</th>\n      <td>34.016245</td>\n      <td>NaN</td>\n      <td>NaN</td>\n      <td>NaN</td>\n      <td>NaN</td>\n      <td>NaN</td>\n      <td>NaN</td>\n      <td>NaN</td>\n      <td>NaN</td>\n      <td>NaN</td>\n      <td>...</td>\n      <td>NaN</td>\n      <td>NaN</td>\n      <td>NaN</td>\n      <td>NaN</td>\n      <td>NaN</td>\n      <td>NaN</td>\n      <td>NaN</td>\n      <td>NaN</td>\n      <td>NaN</td>\n      <td>NaN</td>\n    </tr>\n  </tbody>\n</table>\n<p>30 rows × 9216 columns</p>\n</div>"
     },
     "execution_count": 24,
     "metadata": {},
     "output_type": "execute_result"
    }
   ],
   "source": [
    "prices['NATR'].unstack(glevel).head(30)"
   ],
   "metadata": {
    "collapsed": false,
    "pycharm": {
     "name": "#%%\n"
    }
   }
  },
  {
   "cell_type": "code",
   "execution_count": 25,
   "outputs": [],
   "source": [
    "def compute_atr(stock_data):\n",
    "    df = ATR(stock_data.high, stock_data.low, \n",
    "             stock_data.close, timeperiod=14*factor_scaling)\n",
    "    return df.sub(df.mean()).div(df.std())\n"
   ],
   "metadata": {
    "collapsed": false,
    "pycharm": {
     "name": "#%%\n"
    }
   }
  },
  {
   "cell_type": "code",
   "execution_count": 26,
   "outputs": [
    {
     "data": {
      "text/plain": "ticker       btc-usd ltc-usd eth-usd etc-usd zec-usd xmr-usd dash-usd xrp-usd  \\\noffset          0       0       0       0       0       0        0       0      \ndate                                                                            \n2013-03-31       NaN     NaN     NaN     NaN     NaN     NaN      NaN     NaN   \n2013-04-01       NaN     NaN     NaN     NaN     NaN     NaN      NaN     NaN   \n2013-04-02       NaN     NaN     NaN     NaN     NaN     NaN      NaN     NaN   \n2013-04-03       NaN     NaN     NaN     NaN     NaN     NaN      NaN     NaN   \n2013-04-04       NaN     NaN     NaN     NaN     NaN     NaN      NaN     NaN   \n2013-04-05       NaN     NaN     NaN     NaN     NaN     NaN      NaN     NaN   \n2013-04-06       NaN     NaN     NaN     NaN     NaN     NaN      NaN     NaN   \n2013-04-07       NaN     NaN     NaN     NaN     NaN     NaN      NaN     NaN   \n2013-04-08       NaN     NaN     NaN     NaN     NaN     NaN      NaN     NaN   \n2013-04-09       NaN     NaN     NaN     NaN     NaN     NaN      NaN     NaN   \n2013-04-10       NaN     NaN     NaN     NaN     NaN     NaN      NaN     NaN   \n2013-04-11       NaN     NaN     NaN     NaN     NaN     NaN      NaN     NaN   \n2013-04-12       NaN     NaN     NaN     NaN     NaN     NaN      NaN     NaN   \n2013-04-13       NaN     NaN     NaN     NaN     NaN     NaN      NaN     NaN   \n2013-04-14       NaN     NaN     NaN     NaN     NaN     NaN      NaN     NaN   \n2013-04-15 -0.429712     NaN     NaN     NaN     NaN     NaN      NaN     NaN   \n2013-04-16 -0.428479     NaN     NaN     NaN     NaN     NaN      NaN     NaN   \n2013-04-17 -0.431464     NaN     NaN     NaN     NaN     NaN      NaN     NaN   \n2013-04-18 -0.434944     NaN     NaN     NaN     NaN     NaN      NaN     NaN   \n2013-04-19 -0.437296     NaN     NaN     NaN     NaN     NaN      NaN     NaN   \n2013-04-20 -0.441192     NaN     NaN     NaN     NaN     NaN      NaN     NaN   \n2013-04-21 -0.444565     NaN     NaN     NaN     NaN     NaN      NaN     NaN   \n2013-04-22 -0.448582     NaN     NaN     NaN     NaN     NaN      NaN     NaN   \n2013-04-23 -0.451461     NaN     NaN     NaN     NaN     NaN      NaN     NaN   \n2013-04-24 -0.453588     NaN     NaN     NaN     NaN     NaN      NaN     NaN   \n2013-04-25 -0.453627     NaN     NaN     NaN     NaN     NaN      NaN     NaN   \n2013-04-26 -0.446770     NaN     NaN     NaN     NaN     NaN      NaN     NaN   \n2013-04-27 -0.449236     NaN     NaN     NaN     NaN     NaN      NaN     NaN   \n2013-04-28 -0.452964     NaN     NaN     NaN     NaN     NaN      NaN     NaN   \n2013-04-29 -0.454227     NaN     NaN     NaN     NaN     NaN      NaN     NaN   \n\nticker     miota-usd eos-usd  ... bsv-usd btt-usd atom-usd wbtc-usd leo-usd  \\\noffset          0       0     ...    1435    1435     1435     1435    1435   \ndate                          ...                                             \n2013-03-31       NaN     NaN  ...     NaN     NaN      NaN      NaN     NaN   \n2013-04-01       NaN     NaN  ...     NaN     NaN      NaN      NaN     NaN   \n2013-04-02       NaN     NaN  ...     NaN     NaN      NaN      NaN     NaN   \n2013-04-03       NaN     NaN  ...     NaN     NaN      NaN      NaN     NaN   \n2013-04-04       NaN     NaN  ...     NaN     NaN      NaN      NaN     NaN   \n2013-04-05       NaN     NaN  ...     NaN     NaN      NaN      NaN     NaN   \n2013-04-06       NaN     NaN  ...     NaN     NaN      NaN      NaN     NaN   \n2013-04-07       NaN     NaN  ...     NaN     NaN      NaN      NaN     NaN   \n2013-04-08       NaN     NaN  ...     NaN     NaN      NaN      NaN     NaN   \n2013-04-09       NaN     NaN  ...     NaN     NaN      NaN      NaN     NaN   \n2013-04-10       NaN     NaN  ...     NaN     NaN      NaN      NaN     NaN   \n2013-04-11       NaN     NaN  ...     NaN     NaN      NaN      NaN     NaN   \n2013-04-12       NaN     NaN  ...     NaN     NaN      NaN      NaN     NaN   \n2013-04-13       NaN     NaN  ...     NaN     NaN      NaN      NaN     NaN   \n2013-04-14       NaN     NaN  ...     NaN     NaN      NaN      NaN     NaN   \n2013-04-15       NaN     NaN  ...     NaN     NaN      NaN      NaN     NaN   \n2013-04-16       NaN     NaN  ...     NaN     NaN      NaN      NaN     NaN   \n2013-04-17       NaN     NaN  ...     NaN     NaN      NaN      NaN     NaN   \n2013-04-18       NaN     NaN  ...     NaN     NaN      NaN      NaN     NaN   \n2013-04-19       NaN     NaN  ...     NaN     NaN      NaN      NaN     NaN   \n2013-04-20       NaN     NaN  ...     NaN     NaN      NaN      NaN     NaN   \n2013-04-21       NaN     NaN  ...     NaN     NaN      NaN      NaN     NaN   \n2013-04-22       NaN     NaN  ...     NaN     NaN      NaN      NaN     NaN   \n2013-04-23       NaN     NaN  ...     NaN     NaN      NaN      NaN     NaN   \n2013-04-24       NaN     NaN  ...     NaN     NaN      NaN      NaN     NaN   \n2013-04-25       NaN     NaN  ...     NaN     NaN      NaN      NaN     NaN   \n2013-04-26       NaN     NaN  ...     NaN     NaN      NaN      NaN     NaN   \n2013-04-27       NaN     NaN  ...     NaN     NaN      NaN      NaN     NaN   \n2013-04-28       NaN     NaN  ...     NaN     NaN      NaN      NaN     NaN   \n2013-04-29       NaN     NaN  ...     NaN     NaN      NaN      NaN     NaN   \n\nticker     okb-usd algo-usd amp-usd ftt-usd chz-usd  \noffset        1435     1435    1435    1435    1435  \ndate                                                 \n2013-03-31     NaN      NaN     NaN     NaN     NaN  \n2013-04-01     NaN      NaN     NaN     NaN     NaN  \n2013-04-02     NaN      NaN     NaN     NaN     NaN  \n2013-04-03     NaN      NaN     NaN     NaN     NaN  \n2013-04-04     NaN      NaN     NaN     NaN     NaN  \n2013-04-05     NaN      NaN     NaN     NaN     NaN  \n2013-04-06     NaN      NaN     NaN     NaN     NaN  \n2013-04-07     NaN      NaN     NaN     NaN     NaN  \n2013-04-08     NaN      NaN     NaN     NaN     NaN  \n2013-04-09     NaN      NaN     NaN     NaN     NaN  \n2013-04-10     NaN      NaN     NaN     NaN     NaN  \n2013-04-11     NaN      NaN     NaN     NaN     NaN  \n2013-04-12     NaN      NaN     NaN     NaN     NaN  \n2013-04-13     NaN      NaN     NaN     NaN     NaN  \n2013-04-14     NaN      NaN     NaN     NaN     NaN  \n2013-04-15     NaN      NaN     NaN     NaN     NaN  \n2013-04-16     NaN      NaN     NaN     NaN     NaN  \n2013-04-17     NaN      NaN     NaN     NaN     NaN  \n2013-04-18     NaN      NaN     NaN     NaN     NaN  \n2013-04-19     NaN      NaN     NaN     NaN     NaN  \n2013-04-20     NaN      NaN     NaN     NaN     NaN  \n2013-04-21     NaN      NaN     NaN     NaN     NaN  \n2013-04-22     NaN      NaN     NaN     NaN     NaN  \n2013-04-23     NaN      NaN     NaN     NaN     NaN  \n2013-04-24     NaN      NaN     NaN     NaN     NaN  \n2013-04-25     NaN      NaN     NaN     NaN     NaN  \n2013-04-26     NaN      NaN     NaN     NaN     NaN  \n2013-04-27     NaN      NaN     NaN     NaN     NaN  \n2013-04-28     NaN      NaN     NaN     NaN     NaN  \n2013-04-29     NaN      NaN     NaN     NaN     NaN  \n\n[30 rows x 9216 columns]",
      "text/html": "<div>\n<style scoped>\n    .dataframe tbody tr th:only-of-type {\n        vertical-align: middle;\n    }\n\n    .dataframe tbody tr th {\n        vertical-align: top;\n    }\n\n    .dataframe thead tr th {\n        text-align: left;\n    }\n\n    .dataframe thead tr:last-of-type th {\n        text-align: right;\n    }\n</style>\n<table border=\"1\" class=\"dataframe\">\n  <thead>\n    <tr>\n      <th>ticker</th>\n      <th>btc-usd</th>\n      <th>ltc-usd</th>\n      <th>eth-usd</th>\n      <th>etc-usd</th>\n      <th>zec-usd</th>\n      <th>xmr-usd</th>\n      <th>dash-usd</th>\n      <th>xrp-usd</th>\n      <th>miota-usd</th>\n      <th>eos-usd</th>\n      <th>...</th>\n      <th>bsv-usd</th>\n      <th>btt-usd</th>\n      <th>atom-usd</th>\n      <th>wbtc-usd</th>\n      <th>leo-usd</th>\n      <th>okb-usd</th>\n      <th>algo-usd</th>\n      <th>amp-usd</th>\n      <th>ftt-usd</th>\n      <th>chz-usd</th>\n    </tr>\n    <tr>\n      <th>offset</th>\n      <th>0</th>\n      <th>0</th>\n      <th>0</th>\n      <th>0</th>\n      <th>0</th>\n      <th>0</th>\n      <th>0</th>\n      <th>0</th>\n      <th>0</th>\n      <th>0</th>\n      <th>...</th>\n      <th>1435</th>\n      <th>1435</th>\n      <th>1435</th>\n      <th>1435</th>\n      <th>1435</th>\n      <th>1435</th>\n      <th>1435</th>\n      <th>1435</th>\n      <th>1435</th>\n      <th>1435</th>\n    </tr>\n    <tr>\n      <th>date</th>\n      <th></th>\n      <th></th>\n      <th></th>\n      <th></th>\n      <th></th>\n      <th></th>\n      <th></th>\n      <th></th>\n      <th></th>\n      <th></th>\n      <th></th>\n      <th></th>\n      <th></th>\n      <th></th>\n      <th></th>\n      <th></th>\n      <th></th>\n      <th></th>\n      <th></th>\n      <th></th>\n      <th></th>\n    </tr>\n  </thead>\n  <tbody>\n    <tr>\n      <th>2013-03-31</th>\n      <td>NaN</td>\n      <td>NaN</td>\n      <td>NaN</td>\n      <td>NaN</td>\n      <td>NaN</td>\n      <td>NaN</td>\n      <td>NaN</td>\n      <td>NaN</td>\n      <td>NaN</td>\n      <td>NaN</td>\n      <td>...</td>\n      <td>NaN</td>\n      <td>NaN</td>\n      <td>NaN</td>\n      <td>NaN</td>\n      <td>NaN</td>\n      <td>NaN</td>\n      <td>NaN</td>\n      <td>NaN</td>\n      <td>NaN</td>\n      <td>NaN</td>\n    </tr>\n    <tr>\n      <th>2013-04-01</th>\n      <td>NaN</td>\n      <td>NaN</td>\n      <td>NaN</td>\n      <td>NaN</td>\n      <td>NaN</td>\n      <td>NaN</td>\n      <td>NaN</td>\n      <td>NaN</td>\n      <td>NaN</td>\n      <td>NaN</td>\n      <td>...</td>\n      <td>NaN</td>\n      <td>NaN</td>\n      <td>NaN</td>\n      <td>NaN</td>\n      <td>NaN</td>\n      <td>NaN</td>\n      <td>NaN</td>\n      <td>NaN</td>\n      <td>NaN</td>\n      <td>NaN</td>\n    </tr>\n    <tr>\n      <th>2013-04-02</th>\n      <td>NaN</td>\n      <td>NaN</td>\n      <td>NaN</td>\n      <td>NaN</td>\n      <td>NaN</td>\n      <td>NaN</td>\n      <td>NaN</td>\n      <td>NaN</td>\n      <td>NaN</td>\n      <td>NaN</td>\n      <td>...</td>\n      <td>NaN</td>\n      <td>NaN</td>\n      <td>NaN</td>\n      <td>NaN</td>\n      <td>NaN</td>\n      <td>NaN</td>\n      <td>NaN</td>\n      <td>NaN</td>\n      <td>NaN</td>\n      <td>NaN</td>\n    </tr>\n    <tr>\n      <th>2013-04-03</th>\n      <td>NaN</td>\n      <td>NaN</td>\n      <td>NaN</td>\n      <td>NaN</td>\n      <td>NaN</td>\n      <td>NaN</td>\n      <td>NaN</td>\n      <td>NaN</td>\n      <td>NaN</td>\n      <td>NaN</td>\n      <td>...</td>\n      <td>NaN</td>\n      <td>NaN</td>\n      <td>NaN</td>\n      <td>NaN</td>\n      <td>NaN</td>\n      <td>NaN</td>\n      <td>NaN</td>\n      <td>NaN</td>\n      <td>NaN</td>\n      <td>NaN</td>\n    </tr>\n    <tr>\n      <th>2013-04-04</th>\n      <td>NaN</td>\n      <td>NaN</td>\n      <td>NaN</td>\n      <td>NaN</td>\n      <td>NaN</td>\n      <td>NaN</td>\n      <td>NaN</td>\n      <td>NaN</td>\n      <td>NaN</td>\n      <td>NaN</td>\n      <td>...</td>\n      <td>NaN</td>\n      <td>NaN</td>\n      <td>NaN</td>\n      <td>NaN</td>\n      <td>NaN</td>\n      <td>NaN</td>\n      <td>NaN</td>\n      <td>NaN</td>\n      <td>NaN</td>\n      <td>NaN</td>\n    </tr>\n    <tr>\n      <th>2013-04-05</th>\n      <td>NaN</td>\n      <td>NaN</td>\n      <td>NaN</td>\n      <td>NaN</td>\n      <td>NaN</td>\n      <td>NaN</td>\n      <td>NaN</td>\n      <td>NaN</td>\n      <td>NaN</td>\n      <td>NaN</td>\n      <td>...</td>\n      <td>NaN</td>\n      <td>NaN</td>\n      <td>NaN</td>\n      <td>NaN</td>\n      <td>NaN</td>\n      <td>NaN</td>\n      <td>NaN</td>\n      <td>NaN</td>\n      <td>NaN</td>\n      <td>NaN</td>\n    </tr>\n    <tr>\n      <th>2013-04-06</th>\n      <td>NaN</td>\n      <td>NaN</td>\n      <td>NaN</td>\n      <td>NaN</td>\n      <td>NaN</td>\n      <td>NaN</td>\n      <td>NaN</td>\n      <td>NaN</td>\n      <td>NaN</td>\n      <td>NaN</td>\n      <td>...</td>\n      <td>NaN</td>\n      <td>NaN</td>\n      <td>NaN</td>\n      <td>NaN</td>\n      <td>NaN</td>\n      <td>NaN</td>\n      <td>NaN</td>\n      <td>NaN</td>\n      <td>NaN</td>\n      <td>NaN</td>\n    </tr>\n    <tr>\n      <th>2013-04-07</th>\n      <td>NaN</td>\n      <td>NaN</td>\n      <td>NaN</td>\n      <td>NaN</td>\n      <td>NaN</td>\n      <td>NaN</td>\n      <td>NaN</td>\n      <td>NaN</td>\n      <td>NaN</td>\n      <td>NaN</td>\n      <td>...</td>\n      <td>NaN</td>\n      <td>NaN</td>\n      <td>NaN</td>\n      <td>NaN</td>\n      <td>NaN</td>\n      <td>NaN</td>\n      <td>NaN</td>\n      <td>NaN</td>\n      <td>NaN</td>\n      <td>NaN</td>\n    </tr>\n    <tr>\n      <th>2013-04-08</th>\n      <td>NaN</td>\n      <td>NaN</td>\n      <td>NaN</td>\n      <td>NaN</td>\n      <td>NaN</td>\n      <td>NaN</td>\n      <td>NaN</td>\n      <td>NaN</td>\n      <td>NaN</td>\n      <td>NaN</td>\n      <td>...</td>\n      <td>NaN</td>\n      <td>NaN</td>\n      <td>NaN</td>\n      <td>NaN</td>\n      <td>NaN</td>\n      <td>NaN</td>\n      <td>NaN</td>\n      <td>NaN</td>\n      <td>NaN</td>\n      <td>NaN</td>\n    </tr>\n    <tr>\n      <th>2013-04-09</th>\n      <td>NaN</td>\n      <td>NaN</td>\n      <td>NaN</td>\n      <td>NaN</td>\n      <td>NaN</td>\n      <td>NaN</td>\n      <td>NaN</td>\n      <td>NaN</td>\n      <td>NaN</td>\n      <td>NaN</td>\n      <td>...</td>\n      <td>NaN</td>\n      <td>NaN</td>\n      <td>NaN</td>\n      <td>NaN</td>\n      <td>NaN</td>\n      <td>NaN</td>\n      <td>NaN</td>\n      <td>NaN</td>\n      <td>NaN</td>\n      <td>NaN</td>\n    </tr>\n    <tr>\n      <th>2013-04-10</th>\n      <td>NaN</td>\n      <td>NaN</td>\n      <td>NaN</td>\n      <td>NaN</td>\n      <td>NaN</td>\n      <td>NaN</td>\n      <td>NaN</td>\n      <td>NaN</td>\n      <td>NaN</td>\n      <td>NaN</td>\n      <td>...</td>\n      <td>NaN</td>\n      <td>NaN</td>\n      <td>NaN</td>\n      <td>NaN</td>\n      <td>NaN</td>\n      <td>NaN</td>\n      <td>NaN</td>\n      <td>NaN</td>\n      <td>NaN</td>\n      <td>NaN</td>\n    </tr>\n    <tr>\n      <th>2013-04-11</th>\n      <td>NaN</td>\n      <td>NaN</td>\n      <td>NaN</td>\n      <td>NaN</td>\n      <td>NaN</td>\n      <td>NaN</td>\n      <td>NaN</td>\n      <td>NaN</td>\n      <td>NaN</td>\n      <td>NaN</td>\n      <td>...</td>\n      <td>NaN</td>\n      <td>NaN</td>\n      <td>NaN</td>\n      <td>NaN</td>\n      <td>NaN</td>\n      <td>NaN</td>\n      <td>NaN</td>\n      <td>NaN</td>\n      <td>NaN</td>\n      <td>NaN</td>\n    </tr>\n    <tr>\n      <th>2013-04-12</th>\n      <td>NaN</td>\n      <td>NaN</td>\n      <td>NaN</td>\n      <td>NaN</td>\n      <td>NaN</td>\n      <td>NaN</td>\n      <td>NaN</td>\n      <td>NaN</td>\n      <td>NaN</td>\n      <td>NaN</td>\n      <td>...</td>\n      <td>NaN</td>\n      <td>NaN</td>\n      <td>NaN</td>\n      <td>NaN</td>\n      <td>NaN</td>\n      <td>NaN</td>\n      <td>NaN</td>\n      <td>NaN</td>\n      <td>NaN</td>\n      <td>NaN</td>\n    </tr>\n    <tr>\n      <th>2013-04-13</th>\n      <td>NaN</td>\n      <td>NaN</td>\n      <td>NaN</td>\n      <td>NaN</td>\n      <td>NaN</td>\n      <td>NaN</td>\n      <td>NaN</td>\n      <td>NaN</td>\n      <td>NaN</td>\n      <td>NaN</td>\n      <td>...</td>\n      <td>NaN</td>\n      <td>NaN</td>\n      <td>NaN</td>\n      <td>NaN</td>\n      <td>NaN</td>\n      <td>NaN</td>\n      <td>NaN</td>\n      <td>NaN</td>\n      <td>NaN</td>\n      <td>NaN</td>\n    </tr>\n    <tr>\n      <th>2013-04-14</th>\n      <td>NaN</td>\n      <td>NaN</td>\n      <td>NaN</td>\n      <td>NaN</td>\n      <td>NaN</td>\n      <td>NaN</td>\n      <td>NaN</td>\n      <td>NaN</td>\n      <td>NaN</td>\n      <td>NaN</td>\n      <td>...</td>\n      <td>NaN</td>\n      <td>NaN</td>\n      <td>NaN</td>\n      <td>NaN</td>\n      <td>NaN</td>\n      <td>NaN</td>\n      <td>NaN</td>\n      <td>NaN</td>\n      <td>NaN</td>\n      <td>NaN</td>\n    </tr>\n    <tr>\n      <th>2013-04-15</th>\n      <td>-0.429712</td>\n      <td>NaN</td>\n      <td>NaN</td>\n      <td>NaN</td>\n      <td>NaN</td>\n      <td>NaN</td>\n      <td>NaN</td>\n      <td>NaN</td>\n      <td>NaN</td>\n      <td>NaN</td>\n      <td>...</td>\n      <td>NaN</td>\n      <td>NaN</td>\n      <td>NaN</td>\n      <td>NaN</td>\n      <td>NaN</td>\n      <td>NaN</td>\n      <td>NaN</td>\n      <td>NaN</td>\n      <td>NaN</td>\n      <td>NaN</td>\n    </tr>\n    <tr>\n      <th>2013-04-16</th>\n      <td>-0.428479</td>\n      <td>NaN</td>\n      <td>NaN</td>\n      <td>NaN</td>\n      <td>NaN</td>\n      <td>NaN</td>\n      <td>NaN</td>\n      <td>NaN</td>\n      <td>NaN</td>\n      <td>NaN</td>\n      <td>...</td>\n      <td>NaN</td>\n      <td>NaN</td>\n      <td>NaN</td>\n      <td>NaN</td>\n      <td>NaN</td>\n      <td>NaN</td>\n      <td>NaN</td>\n      <td>NaN</td>\n      <td>NaN</td>\n      <td>NaN</td>\n    </tr>\n    <tr>\n      <th>2013-04-17</th>\n      <td>-0.431464</td>\n      <td>NaN</td>\n      <td>NaN</td>\n      <td>NaN</td>\n      <td>NaN</td>\n      <td>NaN</td>\n      <td>NaN</td>\n      <td>NaN</td>\n      <td>NaN</td>\n      <td>NaN</td>\n      <td>...</td>\n      <td>NaN</td>\n      <td>NaN</td>\n      <td>NaN</td>\n      <td>NaN</td>\n      <td>NaN</td>\n      <td>NaN</td>\n      <td>NaN</td>\n      <td>NaN</td>\n      <td>NaN</td>\n      <td>NaN</td>\n    </tr>\n    <tr>\n      <th>2013-04-18</th>\n      <td>-0.434944</td>\n      <td>NaN</td>\n      <td>NaN</td>\n      <td>NaN</td>\n      <td>NaN</td>\n      <td>NaN</td>\n      <td>NaN</td>\n      <td>NaN</td>\n      <td>NaN</td>\n      <td>NaN</td>\n      <td>...</td>\n      <td>NaN</td>\n      <td>NaN</td>\n      <td>NaN</td>\n      <td>NaN</td>\n      <td>NaN</td>\n      <td>NaN</td>\n      <td>NaN</td>\n      <td>NaN</td>\n      <td>NaN</td>\n      <td>NaN</td>\n    </tr>\n    <tr>\n      <th>2013-04-19</th>\n      <td>-0.437296</td>\n      <td>NaN</td>\n      <td>NaN</td>\n      <td>NaN</td>\n      <td>NaN</td>\n      <td>NaN</td>\n      <td>NaN</td>\n      <td>NaN</td>\n      <td>NaN</td>\n      <td>NaN</td>\n      <td>...</td>\n      <td>NaN</td>\n      <td>NaN</td>\n      <td>NaN</td>\n      <td>NaN</td>\n      <td>NaN</td>\n      <td>NaN</td>\n      <td>NaN</td>\n      <td>NaN</td>\n      <td>NaN</td>\n      <td>NaN</td>\n    </tr>\n    <tr>\n      <th>2013-04-20</th>\n      <td>-0.441192</td>\n      <td>NaN</td>\n      <td>NaN</td>\n      <td>NaN</td>\n      <td>NaN</td>\n      <td>NaN</td>\n      <td>NaN</td>\n      <td>NaN</td>\n      <td>NaN</td>\n      <td>NaN</td>\n      <td>...</td>\n      <td>NaN</td>\n      <td>NaN</td>\n      <td>NaN</td>\n      <td>NaN</td>\n      <td>NaN</td>\n      <td>NaN</td>\n      <td>NaN</td>\n      <td>NaN</td>\n      <td>NaN</td>\n      <td>NaN</td>\n    </tr>\n    <tr>\n      <th>2013-04-21</th>\n      <td>-0.444565</td>\n      <td>NaN</td>\n      <td>NaN</td>\n      <td>NaN</td>\n      <td>NaN</td>\n      <td>NaN</td>\n      <td>NaN</td>\n      <td>NaN</td>\n      <td>NaN</td>\n      <td>NaN</td>\n      <td>...</td>\n      <td>NaN</td>\n      <td>NaN</td>\n      <td>NaN</td>\n      <td>NaN</td>\n      <td>NaN</td>\n      <td>NaN</td>\n      <td>NaN</td>\n      <td>NaN</td>\n      <td>NaN</td>\n      <td>NaN</td>\n    </tr>\n    <tr>\n      <th>2013-04-22</th>\n      <td>-0.448582</td>\n      <td>NaN</td>\n      <td>NaN</td>\n      <td>NaN</td>\n      <td>NaN</td>\n      <td>NaN</td>\n      <td>NaN</td>\n      <td>NaN</td>\n      <td>NaN</td>\n      <td>NaN</td>\n      <td>...</td>\n      <td>NaN</td>\n      <td>NaN</td>\n      <td>NaN</td>\n      <td>NaN</td>\n      <td>NaN</td>\n      <td>NaN</td>\n      <td>NaN</td>\n      <td>NaN</td>\n      <td>NaN</td>\n      <td>NaN</td>\n    </tr>\n    <tr>\n      <th>2013-04-23</th>\n      <td>-0.451461</td>\n      <td>NaN</td>\n      <td>NaN</td>\n      <td>NaN</td>\n      <td>NaN</td>\n      <td>NaN</td>\n      <td>NaN</td>\n      <td>NaN</td>\n      <td>NaN</td>\n      <td>NaN</td>\n      <td>...</td>\n      <td>NaN</td>\n      <td>NaN</td>\n      <td>NaN</td>\n      <td>NaN</td>\n      <td>NaN</td>\n      <td>NaN</td>\n      <td>NaN</td>\n      <td>NaN</td>\n      <td>NaN</td>\n      <td>NaN</td>\n    </tr>\n    <tr>\n      <th>2013-04-24</th>\n      <td>-0.453588</td>\n      <td>NaN</td>\n      <td>NaN</td>\n      <td>NaN</td>\n      <td>NaN</td>\n      <td>NaN</td>\n      <td>NaN</td>\n      <td>NaN</td>\n      <td>NaN</td>\n      <td>NaN</td>\n      <td>...</td>\n      <td>NaN</td>\n      <td>NaN</td>\n      <td>NaN</td>\n      <td>NaN</td>\n      <td>NaN</td>\n      <td>NaN</td>\n      <td>NaN</td>\n      <td>NaN</td>\n      <td>NaN</td>\n      <td>NaN</td>\n    </tr>\n    <tr>\n      <th>2013-04-25</th>\n      <td>-0.453627</td>\n      <td>NaN</td>\n      <td>NaN</td>\n      <td>NaN</td>\n      <td>NaN</td>\n      <td>NaN</td>\n      <td>NaN</td>\n      <td>NaN</td>\n      <td>NaN</td>\n      <td>NaN</td>\n      <td>...</td>\n      <td>NaN</td>\n      <td>NaN</td>\n      <td>NaN</td>\n      <td>NaN</td>\n      <td>NaN</td>\n      <td>NaN</td>\n      <td>NaN</td>\n      <td>NaN</td>\n      <td>NaN</td>\n      <td>NaN</td>\n    </tr>\n    <tr>\n      <th>2013-04-26</th>\n      <td>-0.446770</td>\n      <td>NaN</td>\n      <td>NaN</td>\n      <td>NaN</td>\n      <td>NaN</td>\n      <td>NaN</td>\n      <td>NaN</td>\n      <td>NaN</td>\n      <td>NaN</td>\n      <td>NaN</td>\n      <td>...</td>\n      <td>NaN</td>\n      <td>NaN</td>\n      <td>NaN</td>\n      <td>NaN</td>\n      <td>NaN</td>\n      <td>NaN</td>\n      <td>NaN</td>\n      <td>NaN</td>\n      <td>NaN</td>\n      <td>NaN</td>\n    </tr>\n    <tr>\n      <th>2013-04-27</th>\n      <td>-0.449236</td>\n      <td>NaN</td>\n      <td>NaN</td>\n      <td>NaN</td>\n      <td>NaN</td>\n      <td>NaN</td>\n      <td>NaN</td>\n      <td>NaN</td>\n      <td>NaN</td>\n      <td>NaN</td>\n      <td>...</td>\n      <td>NaN</td>\n      <td>NaN</td>\n      <td>NaN</td>\n      <td>NaN</td>\n      <td>NaN</td>\n      <td>NaN</td>\n      <td>NaN</td>\n      <td>NaN</td>\n      <td>NaN</td>\n      <td>NaN</td>\n    </tr>\n    <tr>\n      <th>2013-04-28</th>\n      <td>-0.452964</td>\n      <td>NaN</td>\n      <td>NaN</td>\n      <td>NaN</td>\n      <td>NaN</td>\n      <td>NaN</td>\n      <td>NaN</td>\n      <td>NaN</td>\n      <td>NaN</td>\n      <td>NaN</td>\n      <td>...</td>\n      <td>NaN</td>\n      <td>NaN</td>\n      <td>NaN</td>\n      <td>NaN</td>\n      <td>NaN</td>\n      <td>NaN</td>\n      <td>NaN</td>\n      <td>NaN</td>\n      <td>NaN</td>\n      <td>NaN</td>\n    </tr>\n    <tr>\n      <th>2013-04-29</th>\n      <td>-0.454227</td>\n      <td>NaN</td>\n      <td>NaN</td>\n      <td>NaN</td>\n      <td>NaN</td>\n      <td>NaN</td>\n      <td>NaN</td>\n      <td>NaN</td>\n      <td>NaN</td>\n      <td>NaN</td>\n      <td>...</td>\n      <td>NaN</td>\n      <td>NaN</td>\n      <td>NaN</td>\n      <td>NaN</td>\n      <td>NaN</td>\n      <td>NaN</td>\n      <td>NaN</td>\n      <td>NaN</td>\n      <td>NaN</td>\n      <td>NaN</td>\n    </tr>\n  </tbody>\n</table>\n<p>30 rows × 9216 columns</p>\n</div>"
     },
     "execution_count": 26,
     "metadata": {},
     "output_type": "execute_result"
    }
   ],
   "source": [
    "prices['ATR'] = (prices.groupby(glevel, group_keys=False)\n",
    "                 .apply(compute_atr))\n",
    "prices['ATR'].unstack(glevel).head(30)"
   ],
   "metadata": {
    "collapsed": false,
    "pycharm": {
     "name": "#%%\n"
    }
   }
  },
  {
   "cell_type": "code",
   "execution_count": null,
   "outputs": [],
   "source": [
    "print('prices dates {}:{}'.format(prices.dropna().index.get_level_values('date').min(),\n",
    "                                 prices.dropna().index.get_level_values('date').max()))"
   ],
   "metadata": {
    "collapsed": false,
    "pycharm": {
     "name": "#%%\n"
    }
   }
  },
  {
   "cell_type": "markdown",
   "source": [
    "### Compute Moving Average Convergence/Divergence"
   ],
   "metadata": {
    "collapsed": false
   }
  },
  {
   "cell_type": "code",
   "execution_count": 27,
   "outputs": [
    {
     "data": {
      "text/plain": "ticker       btc-usd ltc-usd eth-usd etc-usd zec-usd xmr-usd dash-usd xrp-usd  \\\noffset          0       0       0       0       0       0        0       0      \ndate                                                                            \n2013-03-31       NaN     NaN     NaN     NaN     NaN     NaN      NaN     NaN   \n2013-04-01       NaN     NaN     NaN     NaN     NaN     NaN      NaN     NaN   \n2013-04-02       NaN     NaN     NaN     NaN     NaN     NaN      NaN     NaN   \n2013-04-03       NaN     NaN     NaN     NaN     NaN     NaN      NaN     NaN   \n2013-04-04       NaN     NaN     NaN     NaN     NaN     NaN      NaN     NaN   \n2013-04-05       NaN     NaN     NaN     NaN     NaN     NaN      NaN     NaN   \n2013-04-06       NaN     NaN     NaN     NaN     NaN     NaN      NaN     NaN   \n2013-04-07       NaN     NaN     NaN     NaN     NaN     NaN      NaN     NaN   \n2013-04-08       NaN     NaN     NaN     NaN     NaN     NaN      NaN     NaN   \n2013-04-09       NaN     NaN     NaN     NaN     NaN     NaN      NaN     NaN   \n2013-04-10       NaN     NaN     NaN     NaN     NaN     NaN      NaN     NaN   \n2013-04-11       NaN     NaN     NaN     NaN     NaN     NaN      NaN     NaN   \n2013-04-12       NaN     NaN     NaN     NaN     NaN     NaN      NaN     NaN   \n2013-04-13       NaN     NaN     NaN     NaN     NaN     NaN      NaN     NaN   \n2013-04-14       NaN     NaN     NaN     NaN     NaN     NaN      NaN     NaN   \n2013-04-15       NaN     NaN     NaN     NaN     NaN     NaN      NaN     NaN   \n2013-04-16       NaN     NaN     NaN     NaN     NaN     NaN      NaN     NaN   \n2013-04-17       NaN     NaN     NaN     NaN     NaN     NaN      NaN     NaN   \n2013-04-18       NaN     NaN     NaN     NaN     NaN     NaN      NaN     NaN   \n2013-04-19       NaN     NaN     NaN     NaN     NaN     NaN      NaN     NaN   \n2013-04-20       NaN     NaN     NaN     NaN     NaN     NaN      NaN     NaN   \n2013-04-21       NaN     NaN     NaN     NaN     NaN     NaN      NaN     NaN   \n2013-04-22       NaN     NaN     NaN     NaN     NaN     NaN      NaN     NaN   \n2013-04-23       NaN     NaN     NaN     NaN     NaN     NaN      NaN     NaN   \n2013-04-24       NaN     NaN     NaN     NaN     NaN     NaN      NaN     NaN   \n2013-04-25       NaN     NaN     NaN     NaN     NaN     NaN      NaN     NaN   \n2013-04-26 -7.782060     NaN     NaN     NaN     NaN     NaN      NaN     NaN   \n2013-04-27 -5.595288     NaN     NaN     NaN     NaN     NaN      NaN     NaN   \n2013-04-28 -1.788226     NaN     NaN     NaN     NaN     NaN      NaN     NaN   \n2013-04-29  1.196300     NaN     NaN     NaN     NaN     NaN      NaN     NaN   \n\nticker     miota-usd eos-usd  ... bsv-usd btt-usd atom-usd wbtc-usd leo-usd  \\\noffset          0       0     ...    1435    1435     1435     1435    1435   \ndate                          ...                                             \n2013-03-31       NaN     NaN  ...     NaN     NaN      NaN      NaN     NaN   \n2013-04-01       NaN     NaN  ...     NaN     NaN      NaN      NaN     NaN   \n2013-04-02       NaN     NaN  ...     NaN     NaN      NaN      NaN     NaN   \n2013-04-03       NaN     NaN  ...     NaN     NaN      NaN      NaN     NaN   \n2013-04-04       NaN     NaN  ...     NaN     NaN      NaN      NaN     NaN   \n2013-04-05       NaN     NaN  ...     NaN     NaN      NaN      NaN     NaN   \n2013-04-06       NaN     NaN  ...     NaN     NaN      NaN      NaN     NaN   \n2013-04-07       NaN     NaN  ...     NaN     NaN      NaN      NaN     NaN   \n2013-04-08       NaN     NaN  ...     NaN     NaN      NaN      NaN     NaN   \n2013-04-09       NaN     NaN  ...     NaN     NaN      NaN      NaN     NaN   \n2013-04-10       NaN     NaN  ...     NaN     NaN      NaN      NaN     NaN   \n2013-04-11       NaN     NaN  ...     NaN     NaN      NaN      NaN     NaN   \n2013-04-12       NaN     NaN  ...     NaN     NaN      NaN      NaN     NaN   \n2013-04-13       NaN     NaN  ...     NaN     NaN      NaN      NaN     NaN   \n2013-04-14       NaN     NaN  ...     NaN     NaN      NaN      NaN     NaN   \n2013-04-15       NaN     NaN  ...     NaN     NaN      NaN      NaN     NaN   \n2013-04-16       NaN     NaN  ...     NaN     NaN      NaN      NaN     NaN   \n2013-04-17       NaN     NaN  ...     NaN     NaN      NaN      NaN     NaN   \n2013-04-18       NaN     NaN  ...     NaN     NaN      NaN      NaN     NaN   \n2013-04-19       NaN     NaN  ...     NaN     NaN      NaN      NaN     NaN   \n2013-04-20       NaN     NaN  ...     NaN     NaN      NaN      NaN     NaN   \n2013-04-21       NaN     NaN  ...     NaN     NaN      NaN      NaN     NaN   \n2013-04-22       NaN     NaN  ...     NaN     NaN      NaN      NaN     NaN   \n2013-04-23       NaN     NaN  ...     NaN     NaN      NaN      NaN     NaN   \n2013-04-24       NaN     NaN  ...     NaN     NaN      NaN      NaN     NaN   \n2013-04-25       NaN     NaN  ...     NaN     NaN      NaN      NaN     NaN   \n2013-04-26       NaN     NaN  ...     NaN     NaN      NaN      NaN     NaN   \n2013-04-27       NaN     NaN  ...     NaN     NaN      NaN      NaN     NaN   \n2013-04-28       NaN     NaN  ...     NaN     NaN      NaN      NaN     NaN   \n2013-04-29       NaN     NaN  ...     NaN     NaN      NaN      NaN     NaN   \n\nticker     okb-usd algo-usd amp-usd ftt-usd chz-usd  \noffset        1435     1435    1435    1435    1435  \ndate                                                 \n2013-03-31     NaN      NaN     NaN     NaN     NaN  \n2013-04-01     NaN      NaN     NaN     NaN     NaN  \n2013-04-02     NaN      NaN     NaN     NaN     NaN  \n2013-04-03     NaN      NaN     NaN     NaN     NaN  \n2013-04-04     NaN      NaN     NaN     NaN     NaN  \n2013-04-05     NaN      NaN     NaN     NaN     NaN  \n2013-04-06     NaN      NaN     NaN     NaN     NaN  \n2013-04-07     NaN      NaN     NaN     NaN     NaN  \n2013-04-08     NaN      NaN     NaN     NaN     NaN  \n2013-04-09     NaN      NaN     NaN     NaN     NaN  \n2013-04-10     NaN      NaN     NaN     NaN     NaN  \n2013-04-11     NaN      NaN     NaN     NaN     NaN  \n2013-04-12     NaN      NaN     NaN     NaN     NaN  \n2013-04-13     NaN      NaN     NaN     NaN     NaN  \n2013-04-14     NaN      NaN     NaN     NaN     NaN  \n2013-04-15     NaN      NaN     NaN     NaN     NaN  \n2013-04-16     NaN      NaN     NaN     NaN     NaN  \n2013-04-17     NaN      NaN     NaN     NaN     NaN  \n2013-04-18     NaN      NaN     NaN     NaN     NaN  \n2013-04-19     NaN      NaN     NaN     NaN     NaN  \n2013-04-20     NaN      NaN     NaN     NaN     NaN  \n2013-04-21     NaN      NaN     NaN     NaN     NaN  \n2013-04-22     NaN      NaN     NaN     NaN     NaN  \n2013-04-23     NaN      NaN     NaN     NaN     NaN  \n2013-04-24     NaN      NaN     NaN     NaN     NaN  \n2013-04-25     NaN      NaN     NaN     NaN     NaN  \n2013-04-26     NaN      NaN     NaN     NaN     NaN  \n2013-04-27     NaN      NaN     NaN     NaN     NaN  \n2013-04-28     NaN      NaN     NaN     NaN     NaN  \n2013-04-29     NaN      NaN     NaN     NaN     NaN  \n\n[30 rows x 9216 columns]",
      "text/html": "<div>\n<style scoped>\n    .dataframe tbody tr th:only-of-type {\n        vertical-align: middle;\n    }\n\n    .dataframe tbody tr th {\n        vertical-align: top;\n    }\n\n    .dataframe thead tr th {\n        text-align: left;\n    }\n\n    .dataframe thead tr:last-of-type th {\n        text-align: right;\n    }\n</style>\n<table border=\"1\" class=\"dataframe\">\n  <thead>\n    <tr>\n      <th>ticker</th>\n      <th>btc-usd</th>\n      <th>ltc-usd</th>\n      <th>eth-usd</th>\n      <th>etc-usd</th>\n      <th>zec-usd</th>\n      <th>xmr-usd</th>\n      <th>dash-usd</th>\n      <th>xrp-usd</th>\n      <th>miota-usd</th>\n      <th>eos-usd</th>\n      <th>...</th>\n      <th>bsv-usd</th>\n      <th>btt-usd</th>\n      <th>atom-usd</th>\n      <th>wbtc-usd</th>\n      <th>leo-usd</th>\n      <th>okb-usd</th>\n      <th>algo-usd</th>\n      <th>amp-usd</th>\n      <th>ftt-usd</th>\n      <th>chz-usd</th>\n    </tr>\n    <tr>\n      <th>offset</th>\n      <th>0</th>\n      <th>0</th>\n      <th>0</th>\n      <th>0</th>\n      <th>0</th>\n      <th>0</th>\n      <th>0</th>\n      <th>0</th>\n      <th>0</th>\n      <th>0</th>\n      <th>...</th>\n      <th>1435</th>\n      <th>1435</th>\n      <th>1435</th>\n      <th>1435</th>\n      <th>1435</th>\n      <th>1435</th>\n      <th>1435</th>\n      <th>1435</th>\n      <th>1435</th>\n      <th>1435</th>\n    </tr>\n    <tr>\n      <th>date</th>\n      <th></th>\n      <th></th>\n      <th></th>\n      <th></th>\n      <th></th>\n      <th></th>\n      <th></th>\n      <th></th>\n      <th></th>\n      <th></th>\n      <th></th>\n      <th></th>\n      <th></th>\n      <th></th>\n      <th></th>\n      <th></th>\n      <th></th>\n      <th></th>\n      <th></th>\n      <th></th>\n      <th></th>\n    </tr>\n  </thead>\n  <tbody>\n    <tr>\n      <th>2013-03-31</th>\n      <td>NaN</td>\n      <td>NaN</td>\n      <td>NaN</td>\n      <td>NaN</td>\n      <td>NaN</td>\n      <td>NaN</td>\n      <td>NaN</td>\n      <td>NaN</td>\n      <td>NaN</td>\n      <td>NaN</td>\n      <td>...</td>\n      <td>NaN</td>\n      <td>NaN</td>\n      <td>NaN</td>\n      <td>NaN</td>\n      <td>NaN</td>\n      <td>NaN</td>\n      <td>NaN</td>\n      <td>NaN</td>\n      <td>NaN</td>\n      <td>NaN</td>\n    </tr>\n    <tr>\n      <th>2013-04-01</th>\n      <td>NaN</td>\n      <td>NaN</td>\n      <td>NaN</td>\n      <td>NaN</td>\n      <td>NaN</td>\n      <td>NaN</td>\n      <td>NaN</td>\n      <td>NaN</td>\n      <td>NaN</td>\n      <td>NaN</td>\n      <td>...</td>\n      <td>NaN</td>\n      <td>NaN</td>\n      <td>NaN</td>\n      <td>NaN</td>\n      <td>NaN</td>\n      <td>NaN</td>\n      <td>NaN</td>\n      <td>NaN</td>\n      <td>NaN</td>\n      <td>NaN</td>\n    </tr>\n    <tr>\n      <th>2013-04-02</th>\n      <td>NaN</td>\n      <td>NaN</td>\n      <td>NaN</td>\n      <td>NaN</td>\n      <td>NaN</td>\n      <td>NaN</td>\n      <td>NaN</td>\n      <td>NaN</td>\n      <td>NaN</td>\n      <td>NaN</td>\n      <td>...</td>\n      <td>NaN</td>\n      <td>NaN</td>\n      <td>NaN</td>\n      <td>NaN</td>\n      <td>NaN</td>\n      <td>NaN</td>\n      <td>NaN</td>\n      <td>NaN</td>\n      <td>NaN</td>\n      <td>NaN</td>\n    </tr>\n    <tr>\n      <th>2013-04-03</th>\n      <td>NaN</td>\n      <td>NaN</td>\n      <td>NaN</td>\n      <td>NaN</td>\n      <td>NaN</td>\n      <td>NaN</td>\n      <td>NaN</td>\n      <td>NaN</td>\n      <td>NaN</td>\n      <td>NaN</td>\n      <td>...</td>\n      <td>NaN</td>\n      <td>NaN</td>\n      <td>NaN</td>\n      <td>NaN</td>\n      <td>NaN</td>\n      <td>NaN</td>\n      <td>NaN</td>\n      <td>NaN</td>\n      <td>NaN</td>\n      <td>NaN</td>\n    </tr>\n    <tr>\n      <th>2013-04-04</th>\n      <td>NaN</td>\n      <td>NaN</td>\n      <td>NaN</td>\n      <td>NaN</td>\n      <td>NaN</td>\n      <td>NaN</td>\n      <td>NaN</td>\n      <td>NaN</td>\n      <td>NaN</td>\n      <td>NaN</td>\n      <td>...</td>\n      <td>NaN</td>\n      <td>NaN</td>\n      <td>NaN</td>\n      <td>NaN</td>\n      <td>NaN</td>\n      <td>NaN</td>\n      <td>NaN</td>\n      <td>NaN</td>\n      <td>NaN</td>\n      <td>NaN</td>\n    </tr>\n    <tr>\n      <th>2013-04-05</th>\n      <td>NaN</td>\n      <td>NaN</td>\n      <td>NaN</td>\n      <td>NaN</td>\n      <td>NaN</td>\n      <td>NaN</td>\n      <td>NaN</td>\n      <td>NaN</td>\n      <td>NaN</td>\n      <td>NaN</td>\n      <td>...</td>\n      <td>NaN</td>\n      <td>NaN</td>\n      <td>NaN</td>\n      <td>NaN</td>\n      <td>NaN</td>\n      <td>NaN</td>\n      <td>NaN</td>\n      <td>NaN</td>\n      <td>NaN</td>\n      <td>NaN</td>\n    </tr>\n    <tr>\n      <th>2013-04-06</th>\n      <td>NaN</td>\n      <td>NaN</td>\n      <td>NaN</td>\n      <td>NaN</td>\n      <td>NaN</td>\n      <td>NaN</td>\n      <td>NaN</td>\n      <td>NaN</td>\n      <td>NaN</td>\n      <td>NaN</td>\n      <td>...</td>\n      <td>NaN</td>\n      <td>NaN</td>\n      <td>NaN</td>\n      <td>NaN</td>\n      <td>NaN</td>\n      <td>NaN</td>\n      <td>NaN</td>\n      <td>NaN</td>\n      <td>NaN</td>\n      <td>NaN</td>\n    </tr>\n    <tr>\n      <th>2013-04-07</th>\n      <td>NaN</td>\n      <td>NaN</td>\n      <td>NaN</td>\n      <td>NaN</td>\n      <td>NaN</td>\n      <td>NaN</td>\n      <td>NaN</td>\n      <td>NaN</td>\n      <td>NaN</td>\n      <td>NaN</td>\n      <td>...</td>\n      <td>NaN</td>\n      <td>NaN</td>\n      <td>NaN</td>\n      <td>NaN</td>\n      <td>NaN</td>\n      <td>NaN</td>\n      <td>NaN</td>\n      <td>NaN</td>\n      <td>NaN</td>\n      <td>NaN</td>\n    </tr>\n    <tr>\n      <th>2013-04-08</th>\n      <td>NaN</td>\n      <td>NaN</td>\n      <td>NaN</td>\n      <td>NaN</td>\n      <td>NaN</td>\n      <td>NaN</td>\n      <td>NaN</td>\n      <td>NaN</td>\n      <td>NaN</td>\n      <td>NaN</td>\n      <td>...</td>\n      <td>NaN</td>\n      <td>NaN</td>\n      <td>NaN</td>\n      <td>NaN</td>\n      <td>NaN</td>\n      <td>NaN</td>\n      <td>NaN</td>\n      <td>NaN</td>\n      <td>NaN</td>\n      <td>NaN</td>\n    </tr>\n    <tr>\n      <th>2013-04-09</th>\n      <td>NaN</td>\n      <td>NaN</td>\n      <td>NaN</td>\n      <td>NaN</td>\n      <td>NaN</td>\n      <td>NaN</td>\n      <td>NaN</td>\n      <td>NaN</td>\n      <td>NaN</td>\n      <td>NaN</td>\n      <td>...</td>\n      <td>NaN</td>\n      <td>NaN</td>\n      <td>NaN</td>\n      <td>NaN</td>\n      <td>NaN</td>\n      <td>NaN</td>\n      <td>NaN</td>\n      <td>NaN</td>\n      <td>NaN</td>\n      <td>NaN</td>\n    </tr>\n    <tr>\n      <th>2013-04-10</th>\n      <td>NaN</td>\n      <td>NaN</td>\n      <td>NaN</td>\n      <td>NaN</td>\n      <td>NaN</td>\n      <td>NaN</td>\n      <td>NaN</td>\n      <td>NaN</td>\n      <td>NaN</td>\n      <td>NaN</td>\n      <td>...</td>\n      <td>NaN</td>\n      <td>NaN</td>\n      <td>NaN</td>\n      <td>NaN</td>\n      <td>NaN</td>\n      <td>NaN</td>\n      <td>NaN</td>\n      <td>NaN</td>\n      <td>NaN</td>\n      <td>NaN</td>\n    </tr>\n    <tr>\n      <th>2013-04-11</th>\n      <td>NaN</td>\n      <td>NaN</td>\n      <td>NaN</td>\n      <td>NaN</td>\n      <td>NaN</td>\n      <td>NaN</td>\n      <td>NaN</td>\n      <td>NaN</td>\n      <td>NaN</td>\n      <td>NaN</td>\n      <td>...</td>\n      <td>NaN</td>\n      <td>NaN</td>\n      <td>NaN</td>\n      <td>NaN</td>\n      <td>NaN</td>\n      <td>NaN</td>\n      <td>NaN</td>\n      <td>NaN</td>\n      <td>NaN</td>\n      <td>NaN</td>\n    </tr>\n    <tr>\n      <th>2013-04-12</th>\n      <td>NaN</td>\n      <td>NaN</td>\n      <td>NaN</td>\n      <td>NaN</td>\n      <td>NaN</td>\n      <td>NaN</td>\n      <td>NaN</td>\n      <td>NaN</td>\n      <td>NaN</td>\n      <td>NaN</td>\n      <td>...</td>\n      <td>NaN</td>\n      <td>NaN</td>\n      <td>NaN</td>\n      <td>NaN</td>\n      <td>NaN</td>\n      <td>NaN</td>\n      <td>NaN</td>\n      <td>NaN</td>\n      <td>NaN</td>\n      <td>NaN</td>\n    </tr>\n    <tr>\n      <th>2013-04-13</th>\n      <td>NaN</td>\n      <td>NaN</td>\n      <td>NaN</td>\n      <td>NaN</td>\n      <td>NaN</td>\n      <td>NaN</td>\n      <td>NaN</td>\n      <td>NaN</td>\n      <td>NaN</td>\n      <td>NaN</td>\n      <td>...</td>\n      <td>NaN</td>\n      <td>NaN</td>\n      <td>NaN</td>\n      <td>NaN</td>\n      <td>NaN</td>\n      <td>NaN</td>\n      <td>NaN</td>\n      <td>NaN</td>\n      <td>NaN</td>\n      <td>NaN</td>\n    </tr>\n    <tr>\n      <th>2013-04-14</th>\n      <td>NaN</td>\n      <td>NaN</td>\n      <td>NaN</td>\n      <td>NaN</td>\n      <td>NaN</td>\n      <td>NaN</td>\n      <td>NaN</td>\n      <td>NaN</td>\n      <td>NaN</td>\n      <td>NaN</td>\n      <td>...</td>\n      <td>NaN</td>\n      <td>NaN</td>\n      <td>NaN</td>\n      <td>NaN</td>\n      <td>NaN</td>\n      <td>NaN</td>\n      <td>NaN</td>\n      <td>NaN</td>\n      <td>NaN</td>\n      <td>NaN</td>\n    </tr>\n    <tr>\n      <th>2013-04-15</th>\n      <td>NaN</td>\n      <td>NaN</td>\n      <td>NaN</td>\n      <td>NaN</td>\n      <td>NaN</td>\n      <td>NaN</td>\n      <td>NaN</td>\n      <td>NaN</td>\n      <td>NaN</td>\n      <td>NaN</td>\n      <td>...</td>\n      <td>NaN</td>\n      <td>NaN</td>\n      <td>NaN</td>\n      <td>NaN</td>\n      <td>NaN</td>\n      <td>NaN</td>\n      <td>NaN</td>\n      <td>NaN</td>\n      <td>NaN</td>\n      <td>NaN</td>\n    </tr>\n    <tr>\n      <th>2013-04-16</th>\n      <td>NaN</td>\n      <td>NaN</td>\n      <td>NaN</td>\n      <td>NaN</td>\n      <td>NaN</td>\n      <td>NaN</td>\n      <td>NaN</td>\n      <td>NaN</td>\n      <td>NaN</td>\n      <td>NaN</td>\n      <td>...</td>\n      <td>NaN</td>\n      <td>NaN</td>\n      <td>NaN</td>\n      <td>NaN</td>\n      <td>NaN</td>\n      <td>NaN</td>\n      <td>NaN</td>\n      <td>NaN</td>\n      <td>NaN</td>\n      <td>NaN</td>\n    </tr>\n    <tr>\n      <th>2013-04-17</th>\n      <td>NaN</td>\n      <td>NaN</td>\n      <td>NaN</td>\n      <td>NaN</td>\n      <td>NaN</td>\n      <td>NaN</td>\n      <td>NaN</td>\n      <td>NaN</td>\n      <td>NaN</td>\n      <td>NaN</td>\n      <td>...</td>\n      <td>NaN</td>\n      <td>NaN</td>\n      <td>NaN</td>\n      <td>NaN</td>\n      <td>NaN</td>\n      <td>NaN</td>\n      <td>NaN</td>\n      <td>NaN</td>\n      <td>NaN</td>\n      <td>NaN</td>\n    </tr>\n    <tr>\n      <th>2013-04-18</th>\n      <td>NaN</td>\n      <td>NaN</td>\n      <td>NaN</td>\n      <td>NaN</td>\n      <td>NaN</td>\n      <td>NaN</td>\n      <td>NaN</td>\n      <td>NaN</td>\n      <td>NaN</td>\n      <td>NaN</td>\n      <td>...</td>\n      <td>NaN</td>\n      <td>NaN</td>\n      <td>NaN</td>\n      <td>NaN</td>\n      <td>NaN</td>\n      <td>NaN</td>\n      <td>NaN</td>\n      <td>NaN</td>\n      <td>NaN</td>\n      <td>NaN</td>\n    </tr>\n    <tr>\n      <th>2013-04-19</th>\n      <td>NaN</td>\n      <td>NaN</td>\n      <td>NaN</td>\n      <td>NaN</td>\n      <td>NaN</td>\n      <td>NaN</td>\n      <td>NaN</td>\n      <td>NaN</td>\n      <td>NaN</td>\n      <td>NaN</td>\n      <td>...</td>\n      <td>NaN</td>\n      <td>NaN</td>\n      <td>NaN</td>\n      <td>NaN</td>\n      <td>NaN</td>\n      <td>NaN</td>\n      <td>NaN</td>\n      <td>NaN</td>\n      <td>NaN</td>\n      <td>NaN</td>\n    </tr>\n    <tr>\n      <th>2013-04-20</th>\n      <td>NaN</td>\n      <td>NaN</td>\n      <td>NaN</td>\n      <td>NaN</td>\n      <td>NaN</td>\n      <td>NaN</td>\n      <td>NaN</td>\n      <td>NaN</td>\n      <td>NaN</td>\n      <td>NaN</td>\n      <td>...</td>\n      <td>NaN</td>\n      <td>NaN</td>\n      <td>NaN</td>\n      <td>NaN</td>\n      <td>NaN</td>\n      <td>NaN</td>\n      <td>NaN</td>\n      <td>NaN</td>\n      <td>NaN</td>\n      <td>NaN</td>\n    </tr>\n    <tr>\n      <th>2013-04-21</th>\n      <td>NaN</td>\n      <td>NaN</td>\n      <td>NaN</td>\n      <td>NaN</td>\n      <td>NaN</td>\n      <td>NaN</td>\n      <td>NaN</td>\n      <td>NaN</td>\n      <td>NaN</td>\n      <td>NaN</td>\n      <td>...</td>\n      <td>NaN</td>\n      <td>NaN</td>\n      <td>NaN</td>\n      <td>NaN</td>\n      <td>NaN</td>\n      <td>NaN</td>\n      <td>NaN</td>\n      <td>NaN</td>\n      <td>NaN</td>\n      <td>NaN</td>\n    </tr>\n    <tr>\n      <th>2013-04-22</th>\n      <td>NaN</td>\n      <td>NaN</td>\n      <td>NaN</td>\n      <td>NaN</td>\n      <td>NaN</td>\n      <td>NaN</td>\n      <td>NaN</td>\n      <td>NaN</td>\n      <td>NaN</td>\n      <td>NaN</td>\n      <td>...</td>\n      <td>NaN</td>\n      <td>NaN</td>\n      <td>NaN</td>\n      <td>NaN</td>\n      <td>NaN</td>\n      <td>NaN</td>\n      <td>NaN</td>\n      <td>NaN</td>\n      <td>NaN</td>\n      <td>NaN</td>\n    </tr>\n    <tr>\n      <th>2013-04-23</th>\n      <td>NaN</td>\n      <td>NaN</td>\n      <td>NaN</td>\n      <td>NaN</td>\n      <td>NaN</td>\n      <td>NaN</td>\n      <td>NaN</td>\n      <td>NaN</td>\n      <td>NaN</td>\n      <td>NaN</td>\n      <td>...</td>\n      <td>NaN</td>\n      <td>NaN</td>\n      <td>NaN</td>\n      <td>NaN</td>\n      <td>NaN</td>\n      <td>NaN</td>\n      <td>NaN</td>\n      <td>NaN</td>\n      <td>NaN</td>\n      <td>NaN</td>\n    </tr>\n    <tr>\n      <th>2013-04-24</th>\n      <td>NaN</td>\n      <td>NaN</td>\n      <td>NaN</td>\n      <td>NaN</td>\n      <td>NaN</td>\n      <td>NaN</td>\n      <td>NaN</td>\n      <td>NaN</td>\n      <td>NaN</td>\n      <td>NaN</td>\n      <td>...</td>\n      <td>NaN</td>\n      <td>NaN</td>\n      <td>NaN</td>\n      <td>NaN</td>\n      <td>NaN</td>\n      <td>NaN</td>\n      <td>NaN</td>\n      <td>NaN</td>\n      <td>NaN</td>\n      <td>NaN</td>\n    </tr>\n    <tr>\n      <th>2013-04-25</th>\n      <td>NaN</td>\n      <td>NaN</td>\n      <td>NaN</td>\n      <td>NaN</td>\n      <td>NaN</td>\n      <td>NaN</td>\n      <td>NaN</td>\n      <td>NaN</td>\n      <td>NaN</td>\n      <td>NaN</td>\n      <td>...</td>\n      <td>NaN</td>\n      <td>NaN</td>\n      <td>NaN</td>\n      <td>NaN</td>\n      <td>NaN</td>\n      <td>NaN</td>\n      <td>NaN</td>\n      <td>NaN</td>\n      <td>NaN</td>\n      <td>NaN</td>\n    </tr>\n    <tr>\n      <th>2013-04-26</th>\n      <td>-7.782060</td>\n      <td>NaN</td>\n      <td>NaN</td>\n      <td>NaN</td>\n      <td>NaN</td>\n      <td>NaN</td>\n      <td>NaN</td>\n      <td>NaN</td>\n      <td>NaN</td>\n      <td>NaN</td>\n      <td>...</td>\n      <td>NaN</td>\n      <td>NaN</td>\n      <td>NaN</td>\n      <td>NaN</td>\n      <td>NaN</td>\n      <td>NaN</td>\n      <td>NaN</td>\n      <td>NaN</td>\n      <td>NaN</td>\n      <td>NaN</td>\n    </tr>\n    <tr>\n      <th>2013-04-27</th>\n      <td>-5.595288</td>\n      <td>NaN</td>\n      <td>NaN</td>\n      <td>NaN</td>\n      <td>NaN</td>\n      <td>NaN</td>\n      <td>NaN</td>\n      <td>NaN</td>\n      <td>NaN</td>\n      <td>NaN</td>\n      <td>...</td>\n      <td>NaN</td>\n      <td>NaN</td>\n      <td>NaN</td>\n      <td>NaN</td>\n      <td>NaN</td>\n      <td>NaN</td>\n      <td>NaN</td>\n      <td>NaN</td>\n      <td>NaN</td>\n      <td>NaN</td>\n    </tr>\n    <tr>\n      <th>2013-04-28</th>\n      <td>-1.788226</td>\n      <td>NaN</td>\n      <td>NaN</td>\n      <td>NaN</td>\n      <td>NaN</td>\n      <td>NaN</td>\n      <td>NaN</td>\n      <td>NaN</td>\n      <td>NaN</td>\n      <td>NaN</td>\n      <td>...</td>\n      <td>NaN</td>\n      <td>NaN</td>\n      <td>NaN</td>\n      <td>NaN</td>\n      <td>NaN</td>\n      <td>NaN</td>\n      <td>NaN</td>\n      <td>NaN</td>\n      <td>NaN</td>\n      <td>NaN</td>\n    </tr>\n    <tr>\n      <th>2013-04-29</th>\n      <td>1.196300</td>\n      <td>NaN</td>\n      <td>NaN</td>\n      <td>NaN</td>\n      <td>NaN</td>\n      <td>NaN</td>\n      <td>NaN</td>\n      <td>NaN</td>\n      <td>NaN</td>\n      <td>NaN</td>\n      <td>...</td>\n      <td>NaN</td>\n      <td>NaN</td>\n      <td>NaN</td>\n      <td>NaN</td>\n      <td>NaN</td>\n      <td>NaN</td>\n      <td>NaN</td>\n      <td>NaN</td>\n      <td>NaN</td>\n      <td>NaN</td>\n    </tr>\n  </tbody>\n</table>\n<p>30 rows × 9216 columns</p>\n</div>"
     },
     "execution_count": 27,
     "metadata": {},
     "output_type": "execute_result"
    }
   ],
   "source": [
    "prices['PPO'] = prices.groupby(level=glevel).close.apply(talib.PPO)\n",
    "prices['PPO'].unstack(glevel).head(30)"
   ],
   "metadata": {
    "collapsed": false,
    "pycharm": {
     "name": "#%%\n"
    }
   }
  },
  {
   "cell_type": "code",
   "execution_count": null,
   "outputs": [],
   "source": [
    "print('prices dates {}:{}'.format(prices.dropna().index.get_level_values('date').min(),\n",
    "                                 prices.dropna().index.get_level_values('date').max()))"
   ],
   "metadata": {
    "collapsed": false,
    "pycharm": {
     "name": "#%%\n"
    }
   }
  },
  {
   "cell_type": "code",
   "execution_count": 28,
   "outputs": [],
   "source": [
    "def compute_macd(close):\n",
    "    macd = MACD(close)[0]\n",
    "    return (macd - np.mean(macd))/np.std(macd)\n"
   ],
   "metadata": {
    "collapsed": false,
    "pycharm": {
     "name": "#%%\n"
    }
   }
  },
  {
   "cell_type": "code",
   "execution_count": 29,
   "outputs": [],
   "source": [
    "prices['MACD'] = (prices\n",
    "                  .groupby(glevel, group_keys=False)\n",
    "                  .close\n",
    "                  .apply(compute_macd))"
   ],
   "metadata": {
    "collapsed": false,
    "pycharm": {
     "name": "#%%\n"
    }
   }
  },
  {
   "cell_type": "code",
   "execution_count": 30,
   "outputs": [
    {
     "data": {
      "text/plain": "date        offset  ticker  \n2013-04-01  0       btc-usd          NaN\n2013-04-02  0       btc-usd          NaN\n2013-04-03  0       btc-usd          NaN\n2013-04-04  0       btc-usd          NaN\n2013-04-05  0       btc-usd          NaN\n                                  ...   \n2021-06-22  1435    leo-usd    -0.520373\n                    algo-usd   -1.016905\n                    amp-usd    -0.025172\n                    ftt-usd    -2.087099\n                    chz-usd    -0.829525\nName: MACD, Length: 11636124, dtype: float64"
     },
     "execution_count": 30,
     "metadata": {},
     "output_type": "execute_result"
    }
   ],
   "source": [
    "prices['MACD']"
   ],
   "metadata": {
    "collapsed": false,
    "pycharm": {
     "name": "#%%\n"
    }
   }
  },
  {
   "cell_type": "markdown",
   "source": [
    "### Combine Price and Meta Data"
   ],
   "metadata": {
    "collapsed": false
   }
  },
  {
   "cell_type": "code",
   "execution_count": 31,
   "outputs": [],
   "source": [
    "metadata.sector = pd.factorize(metadata.sector)[0].astype(int)\n",
    "prices = prices.join(metadata[['sector']])"
   ],
   "metadata": {
    "collapsed": false,
    "pycharm": {
     "name": "#%%\n"
    }
   }
  },
  {
   "cell_type": "code",
   "execution_count": 32,
   "outputs": [
    {
     "data": {
      "text/plain": "ticker     btc-usd ltc-usd eth-usd etc-usd zec-usd xmr-usd dash-usd xrp-usd  \\\noffset        0       0       0       0       0       0        0       0      \ndate                                                                          \n2013-03-31     NaN     NaN     NaN     NaN     NaN     NaN      NaN     NaN   \n2013-04-01     0.0     NaN     NaN     NaN     NaN     NaN      NaN     NaN   \n2013-04-02     0.0     NaN     NaN     NaN     NaN     NaN      NaN     NaN   \n2013-04-03     0.0     NaN     NaN     NaN     NaN     NaN      NaN     NaN   \n2013-04-04     0.0     NaN     NaN     NaN     NaN     NaN      NaN     NaN   \n2013-04-05     0.0     NaN     NaN     NaN     NaN     NaN      NaN     NaN   \n2013-04-06     0.0     NaN     NaN     NaN     NaN     NaN      NaN     NaN   \n2013-04-07     0.0     NaN     NaN     NaN     NaN     NaN      NaN     NaN   \n2013-04-08     0.0     NaN     NaN     NaN     NaN     NaN      NaN     NaN   \n2013-04-09     0.0     NaN     NaN     NaN     NaN     NaN      NaN     NaN   \n2013-04-10     0.0     NaN     NaN     NaN     NaN     NaN      NaN     NaN   \n2013-04-11     0.0     NaN     NaN     NaN     NaN     NaN      NaN     NaN   \n2013-04-12     0.0     NaN     NaN     NaN     NaN     NaN      NaN     NaN   \n2013-04-13     0.0     NaN     NaN     NaN     NaN     NaN      NaN     NaN   \n2013-04-14     0.0     NaN     NaN     NaN     NaN     NaN      NaN     NaN   \n2013-04-15     0.0     NaN     NaN     NaN     NaN     NaN      NaN     NaN   \n2013-04-16     0.0     NaN     NaN     NaN     NaN     NaN      NaN     NaN   \n2013-04-17     0.0     NaN     NaN     NaN     NaN     NaN      NaN     NaN   \n2013-04-18     0.0     NaN     NaN     NaN     NaN     NaN      NaN     NaN   \n2013-04-19     0.0     NaN     NaN     NaN     NaN     NaN      NaN     NaN   \n2013-04-20     0.0     NaN     NaN     NaN     NaN     NaN      NaN     NaN   \n2013-04-21     0.0     NaN     NaN     NaN     NaN     NaN      NaN     NaN   \n2013-04-22     0.0     NaN     NaN     NaN     NaN     NaN      NaN     NaN   \n2013-04-23     0.0     NaN     NaN     NaN     NaN     NaN      NaN     NaN   \n2013-04-24     0.0     NaN     NaN     NaN     NaN     NaN      NaN     NaN   \n2013-04-25     0.0     NaN     NaN     NaN     NaN     NaN      NaN     NaN   \n2013-04-26     0.0     NaN     NaN     NaN     NaN     NaN      NaN     NaN   \n2013-04-27     0.0     NaN     NaN     NaN     NaN     NaN      NaN     NaN   \n2013-04-28     0.0     NaN     NaN     NaN     NaN     NaN      NaN     NaN   \n2013-04-29     0.0     NaN     NaN     NaN     NaN     NaN      NaN     NaN   \n\nticker     miota-usd eos-usd  ... bsv-usd btt-usd atom-usd wbtc-usd leo-usd  \\\noffset          0       0     ...    1435    1435     1435     1435    1435   \ndate                          ...                                             \n2013-03-31       NaN     NaN  ...     NaN     NaN      NaN      NaN     NaN   \n2013-04-01       NaN     NaN  ...     NaN     NaN      NaN      NaN     NaN   \n2013-04-02       NaN     NaN  ...     NaN     NaN      NaN      NaN     NaN   \n2013-04-03       NaN     NaN  ...     NaN     NaN      NaN      NaN     NaN   \n2013-04-04       NaN     NaN  ...     NaN     NaN      NaN      NaN     NaN   \n2013-04-05       NaN     NaN  ...     NaN     NaN      NaN      NaN     NaN   \n2013-04-06       NaN     NaN  ...     NaN     NaN      NaN      NaN     NaN   \n2013-04-07       NaN     NaN  ...     NaN     NaN      NaN      NaN     NaN   \n2013-04-08       NaN     NaN  ...     NaN     NaN      NaN      NaN     NaN   \n2013-04-09       NaN     NaN  ...     NaN     NaN      NaN      NaN     NaN   \n2013-04-10       NaN     NaN  ...     NaN     NaN      NaN      NaN     NaN   \n2013-04-11       NaN     NaN  ...     NaN     NaN      NaN      NaN     NaN   \n2013-04-12       NaN     NaN  ...     NaN     NaN      NaN      NaN     NaN   \n2013-04-13       NaN     NaN  ...     NaN     NaN      NaN      NaN     NaN   \n2013-04-14       NaN     NaN  ...     NaN     NaN      NaN      NaN     NaN   \n2013-04-15       NaN     NaN  ...     NaN     NaN      NaN      NaN     NaN   \n2013-04-16       NaN     NaN  ...     NaN     NaN      NaN      NaN     NaN   \n2013-04-17       NaN     NaN  ...     NaN     NaN      NaN      NaN     NaN   \n2013-04-18       NaN     NaN  ...     NaN     NaN      NaN      NaN     NaN   \n2013-04-19       NaN     NaN  ...     NaN     NaN      NaN      NaN     NaN   \n2013-04-20       NaN     NaN  ...     NaN     NaN      NaN      NaN     NaN   \n2013-04-21       NaN     NaN  ...     NaN     NaN      NaN      NaN     NaN   \n2013-04-22       NaN     NaN  ...     NaN     NaN      NaN      NaN     NaN   \n2013-04-23       NaN     NaN  ...     NaN     NaN      NaN      NaN     NaN   \n2013-04-24       NaN     NaN  ...     NaN     NaN      NaN      NaN     NaN   \n2013-04-25       NaN     NaN  ...     NaN     NaN      NaN      NaN     NaN   \n2013-04-26       NaN     NaN  ...     NaN     NaN      NaN      NaN     NaN   \n2013-04-27       NaN     NaN  ...     NaN     NaN      NaN      NaN     NaN   \n2013-04-28       NaN     NaN  ...     NaN     NaN      NaN      NaN     NaN   \n2013-04-29       NaN     NaN  ...     NaN     NaN      NaN      NaN     NaN   \n\nticker     okb-usd algo-usd amp-usd ftt-usd chz-usd  \noffset        1435     1435    1435    1435    1435  \ndate                                                 \n2013-03-31     NaN      NaN     NaN     NaN     NaN  \n2013-04-01     NaN      NaN     NaN     NaN     NaN  \n2013-04-02     NaN      NaN     NaN     NaN     NaN  \n2013-04-03     NaN      NaN     NaN     NaN     NaN  \n2013-04-04     NaN      NaN     NaN     NaN     NaN  \n2013-04-05     NaN      NaN     NaN     NaN     NaN  \n2013-04-06     NaN      NaN     NaN     NaN     NaN  \n2013-04-07     NaN      NaN     NaN     NaN     NaN  \n2013-04-08     NaN      NaN     NaN     NaN     NaN  \n2013-04-09     NaN      NaN     NaN     NaN     NaN  \n2013-04-10     NaN      NaN     NaN     NaN     NaN  \n2013-04-11     NaN      NaN     NaN     NaN     NaN  \n2013-04-12     NaN      NaN     NaN     NaN     NaN  \n2013-04-13     NaN      NaN     NaN     NaN     NaN  \n2013-04-14     NaN      NaN     NaN     NaN     NaN  \n2013-04-15     NaN      NaN     NaN     NaN     NaN  \n2013-04-16     NaN      NaN     NaN     NaN     NaN  \n2013-04-17     NaN      NaN     NaN     NaN     NaN  \n2013-04-18     NaN      NaN     NaN     NaN     NaN  \n2013-04-19     NaN      NaN     NaN     NaN     NaN  \n2013-04-20     NaN      NaN     NaN     NaN     NaN  \n2013-04-21     NaN      NaN     NaN     NaN     NaN  \n2013-04-22     NaN      NaN     NaN     NaN     NaN  \n2013-04-23     NaN      NaN     NaN     NaN     NaN  \n2013-04-24     NaN      NaN     NaN     NaN     NaN  \n2013-04-25     NaN      NaN     NaN     NaN     NaN  \n2013-04-26     NaN      NaN     NaN     NaN     NaN  \n2013-04-27     NaN      NaN     NaN     NaN     NaN  \n2013-04-28     NaN      NaN     NaN     NaN     NaN  \n2013-04-29     NaN      NaN     NaN     NaN     NaN  \n\n[30 rows x 9216 columns]",
      "text/html": "<div>\n<style scoped>\n    .dataframe tbody tr th:only-of-type {\n        vertical-align: middle;\n    }\n\n    .dataframe tbody tr th {\n        vertical-align: top;\n    }\n\n    .dataframe thead tr th {\n        text-align: left;\n    }\n\n    .dataframe thead tr:last-of-type th {\n        text-align: right;\n    }\n</style>\n<table border=\"1\" class=\"dataframe\">\n  <thead>\n    <tr>\n      <th>ticker</th>\n      <th>btc-usd</th>\n      <th>ltc-usd</th>\n      <th>eth-usd</th>\n      <th>etc-usd</th>\n      <th>zec-usd</th>\n      <th>xmr-usd</th>\n      <th>dash-usd</th>\n      <th>xrp-usd</th>\n      <th>miota-usd</th>\n      <th>eos-usd</th>\n      <th>...</th>\n      <th>bsv-usd</th>\n      <th>btt-usd</th>\n      <th>atom-usd</th>\n      <th>wbtc-usd</th>\n      <th>leo-usd</th>\n      <th>okb-usd</th>\n      <th>algo-usd</th>\n      <th>amp-usd</th>\n      <th>ftt-usd</th>\n      <th>chz-usd</th>\n    </tr>\n    <tr>\n      <th>offset</th>\n      <th>0</th>\n      <th>0</th>\n      <th>0</th>\n      <th>0</th>\n      <th>0</th>\n      <th>0</th>\n      <th>0</th>\n      <th>0</th>\n      <th>0</th>\n      <th>0</th>\n      <th>...</th>\n      <th>1435</th>\n      <th>1435</th>\n      <th>1435</th>\n      <th>1435</th>\n      <th>1435</th>\n      <th>1435</th>\n      <th>1435</th>\n      <th>1435</th>\n      <th>1435</th>\n      <th>1435</th>\n    </tr>\n    <tr>\n      <th>date</th>\n      <th></th>\n      <th></th>\n      <th></th>\n      <th></th>\n      <th></th>\n      <th></th>\n      <th></th>\n      <th></th>\n      <th></th>\n      <th></th>\n      <th></th>\n      <th></th>\n      <th></th>\n      <th></th>\n      <th></th>\n      <th></th>\n      <th></th>\n      <th></th>\n      <th></th>\n      <th></th>\n      <th></th>\n    </tr>\n  </thead>\n  <tbody>\n    <tr>\n      <th>2013-03-31</th>\n      <td>NaN</td>\n      <td>NaN</td>\n      <td>NaN</td>\n      <td>NaN</td>\n      <td>NaN</td>\n      <td>NaN</td>\n      <td>NaN</td>\n      <td>NaN</td>\n      <td>NaN</td>\n      <td>NaN</td>\n      <td>...</td>\n      <td>NaN</td>\n      <td>NaN</td>\n      <td>NaN</td>\n      <td>NaN</td>\n      <td>NaN</td>\n      <td>NaN</td>\n      <td>NaN</td>\n      <td>NaN</td>\n      <td>NaN</td>\n      <td>NaN</td>\n    </tr>\n    <tr>\n      <th>2013-04-01</th>\n      <td>0.0</td>\n      <td>NaN</td>\n      <td>NaN</td>\n      <td>NaN</td>\n      <td>NaN</td>\n      <td>NaN</td>\n      <td>NaN</td>\n      <td>NaN</td>\n      <td>NaN</td>\n      <td>NaN</td>\n      <td>...</td>\n      <td>NaN</td>\n      <td>NaN</td>\n      <td>NaN</td>\n      <td>NaN</td>\n      <td>NaN</td>\n      <td>NaN</td>\n      <td>NaN</td>\n      <td>NaN</td>\n      <td>NaN</td>\n      <td>NaN</td>\n    </tr>\n    <tr>\n      <th>2013-04-02</th>\n      <td>0.0</td>\n      <td>NaN</td>\n      <td>NaN</td>\n      <td>NaN</td>\n      <td>NaN</td>\n      <td>NaN</td>\n      <td>NaN</td>\n      <td>NaN</td>\n      <td>NaN</td>\n      <td>NaN</td>\n      <td>...</td>\n      <td>NaN</td>\n      <td>NaN</td>\n      <td>NaN</td>\n      <td>NaN</td>\n      <td>NaN</td>\n      <td>NaN</td>\n      <td>NaN</td>\n      <td>NaN</td>\n      <td>NaN</td>\n      <td>NaN</td>\n    </tr>\n    <tr>\n      <th>2013-04-03</th>\n      <td>0.0</td>\n      <td>NaN</td>\n      <td>NaN</td>\n      <td>NaN</td>\n      <td>NaN</td>\n      <td>NaN</td>\n      <td>NaN</td>\n      <td>NaN</td>\n      <td>NaN</td>\n      <td>NaN</td>\n      <td>...</td>\n      <td>NaN</td>\n      <td>NaN</td>\n      <td>NaN</td>\n      <td>NaN</td>\n      <td>NaN</td>\n      <td>NaN</td>\n      <td>NaN</td>\n      <td>NaN</td>\n      <td>NaN</td>\n      <td>NaN</td>\n    </tr>\n    <tr>\n      <th>2013-04-04</th>\n      <td>0.0</td>\n      <td>NaN</td>\n      <td>NaN</td>\n      <td>NaN</td>\n      <td>NaN</td>\n      <td>NaN</td>\n      <td>NaN</td>\n      <td>NaN</td>\n      <td>NaN</td>\n      <td>NaN</td>\n      <td>...</td>\n      <td>NaN</td>\n      <td>NaN</td>\n      <td>NaN</td>\n      <td>NaN</td>\n      <td>NaN</td>\n      <td>NaN</td>\n      <td>NaN</td>\n      <td>NaN</td>\n      <td>NaN</td>\n      <td>NaN</td>\n    </tr>\n    <tr>\n      <th>2013-04-05</th>\n      <td>0.0</td>\n      <td>NaN</td>\n      <td>NaN</td>\n      <td>NaN</td>\n      <td>NaN</td>\n      <td>NaN</td>\n      <td>NaN</td>\n      <td>NaN</td>\n      <td>NaN</td>\n      <td>NaN</td>\n      <td>...</td>\n      <td>NaN</td>\n      <td>NaN</td>\n      <td>NaN</td>\n      <td>NaN</td>\n      <td>NaN</td>\n      <td>NaN</td>\n      <td>NaN</td>\n      <td>NaN</td>\n      <td>NaN</td>\n      <td>NaN</td>\n    </tr>\n    <tr>\n      <th>2013-04-06</th>\n      <td>0.0</td>\n      <td>NaN</td>\n      <td>NaN</td>\n      <td>NaN</td>\n      <td>NaN</td>\n      <td>NaN</td>\n      <td>NaN</td>\n      <td>NaN</td>\n      <td>NaN</td>\n      <td>NaN</td>\n      <td>...</td>\n      <td>NaN</td>\n      <td>NaN</td>\n      <td>NaN</td>\n      <td>NaN</td>\n      <td>NaN</td>\n      <td>NaN</td>\n      <td>NaN</td>\n      <td>NaN</td>\n      <td>NaN</td>\n      <td>NaN</td>\n    </tr>\n    <tr>\n      <th>2013-04-07</th>\n      <td>0.0</td>\n      <td>NaN</td>\n      <td>NaN</td>\n      <td>NaN</td>\n      <td>NaN</td>\n      <td>NaN</td>\n      <td>NaN</td>\n      <td>NaN</td>\n      <td>NaN</td>\n      <td>NaN</td>\n      <td>...</td>\n      <td>NaN</td>\n      <td>NaN</td>\n      <td>NaN</td>\n      <td>NaN</td>\n      <td>NaN</td>\n      <td>NaN</td>\n      <td>NaN</td>\n      <td>NaN</td>\n      <td>NaN</td>\n      <td>NaN</td>\n    </tr>\n    <tr>\n      <th>2013-04-08</th>\n      <td>0.0</td>\n      <td>NaN</td>\n      <td>NaN</td>\n      <td>NaN</td>\n      <td>NaN</td>\n      <td>NaN</td>\n      <td>NaN</td>\n      <td>NaN</td>\n      <td>NaN</td>\n      <td>NaN</td>\n      <td>...</td>\n      <td>NaN</td>\n      <td>NaN</td>\n      <td>NaN</td>\n      <td>NaN</td>\n      <td>NaN</td>\n      <td>NaN</td>\n      <td>NaN</td>\n      <td>NaN</td>\n      <td>NaN</td>\n      <td>NaN</td>\n    </tr>\n    <tr>\n      <th>2013-04-09</th>\n      <td>0.0</td>\n      <td>NaN</td>\n      <td>NaN</td>\n      <td>NaN</td>\n      <td>NaN</td>\n      <td>NaN</td>\n      <td>NaN</td>\n      <td>NaN</td>\n      <td>NaN</td>\n      <td>NaN</td>\n      <td>...</td>\n      <td>NaN</td>\n      <td>NaN</td>\n      <td>NaN</td>\n      <td>NaN</td>\n      <td>NaN</td>\n      <td>NaN</td>\n      <td>NaN</td>\n      <td>NaN</td>\n      <td>NaN</td>\n      <td>NaN</td>\n    </tr>\n    <tr>\n      <th>2013-04-10</th>\n      <td>0.0</td>\n      <td>NaN</td>\n      <td>NaN</td>\n      <td>NaN</td>\n      <td>NaN</td>\n      <td>NaN</td>\n      <td>NaN</td>\n      <td>NaN</td>\n      <td>NaN</td>\n      <td>NaN</td>\n      <td>...</td>\n      <td>NaN</td>\n      <td>NaN</td>\n      <td>NaN</td>\n      <td>NaN</td>\n      <td>NaN</td>\n      <td>NaN</td>\n      <td>NaN</td>\n      <td>NaN</td>\n      <td>NaN</td>\n      <td>NaN</td>\n    </tr>\n    <tr>\n      <th>2013-04-11</th>\n      <td>0.0</td>\n      <td>NaN</td>\n      <td>NaN</td>\n      <td>NaN</td>\n      <td>NaN</td>\n      <td>NaN</td>\n      <td>NaN</td>\n      <td>NaN</td>\n      <td>NaN</td>\n      <td>NaN</td>\n      <td>...</td>\n      <td>NaN</td>\n      <td>NaN</td>\n      <td>NaN</td>\n      <td>NaN</td>\n      <td>NaN</td>\n      <td>NaN</td>\n      <td>NaN</td>\n      <td>NaN</td>\n      <td>NaN</td>\n      <td>NaN</td>\n    </tr>\n    <tr>\n      <th>2013-04-12</th>\n      <td>0.0</td>\n      <td>NaN</td>\n      <td>NaN</td>\n      <td>NaN</td>\n      <td>NaN</td>\n      <td>NaN</td>\n      <td>NaN</td>\n      <td>NaN</td>\n      <td>NaN</td>\n      <td>NaN</td>\n      <td>...</td>\n      <td>NaN</td>\n      <td>NaN</td>\n      <td>NaN</td>\n      <td>NaN</td>\n      <td>NaN</td>\n      <td>NaN</td>\n      <td>NaN</td>\n      <td>NaN</td>\n      <td>NaN</td>\n      <td>NaN</td>\n    </tr>\n    <tr>\n      <th>2013-04-13</th>\n      <td>0.0</td>\n      <td>NaN</td>\n      <td>NaN</td>\n      <td>NaN</td>\n      <td>NaN</td>\n      <td>NaN</td>\n      <td>NaN</td>\n      <td>NaN</td>\n      <td>NaN</td>\n      <td>NaN</td>\n      <td>...</td>\n      <td>NaN</td>\n      <td>NaN</td>\n      <td>NaN</td>\n      <td>NaN</td>\n      <td>NaN</td>\n      <td>NaN</td>\n      <td>NaN</td>\n      <td>NaN</td>\n      <td>NaN</td>\n      <td>NaN</td>\n    </tr>\n    <tr>\n      <th>2013-04-14</th>\n      <td>0.0</td>\n      <td>NaN</td>\n      <td>NaN</td>\n      <td>NaN</td>\n      <td>NaN</td>\n      <td>NaN</td>\n      <td>NaN</td>\n      <td>NaN</td>\n      <td>NaN</td>\n      <td>NaN</td>\n      <td>...</td>\n      <td>NaN</td>\n      <td>NaN</td>\n      <td>NaN</td>\n      <td>NaN</td>\n      <td>NaN</td>\n      <td>NaN</td>\n      <td>NaN</td>\n      <td>NaN</td>\n      <td>NaN</td>\n      <td>NaN</td>\n    </tr>\n    <tr>\n      <th>2013-04-15</th>\n      <td>0.0</td>\n      <td>NaN</td>\n      <td>NaN</td>\n      <td>NaN</td>\n      <td>NaN</td>\n      <td>NaN</td>\n      <td>NaN</td>\n      <td>NaN</td>\n      <td>NaN</td>\n      <td>NaN</td>\n      <td>...</td>\n      <td>NaN</td>\n      <td>NaN</td>\n      <td>NaN</td>\n      <td>NaN</td>\n      <td>NaN</td>\n      <td>NaN</td>\n      <td>NaN</td>\n      <td>NaN</td>\n      <td>NaN</td>\n      <td>NaN</td>\n    </tr>\n    <tr>\n      <th>2013-04-16</th>\n      <td>0.0</td>\n      <td>NaN</td>\n      <td>NaN</td>\n      <td>NaN</td>\n      <td>NaN</td>\n      <td>NaN</td>\n      <td>NaN</td>\n      <td>NaN</td>\n      <td>NaN</td>\n      <td>NaN</td>\n      <td>...</td>\n      <td>NaN</td>\n      <td>NaN</td>\n      <td>NaN</td>\n      <td>NaN</td>\n      <td>NaN</td>\n      <td>NaN</td>\n      <td>NaN</td>\n      <td>NaN</td>\n      <td>NaN</td>\n      <td>NaN</td>\n    </tr>\n    <tr>\n      <th>2013-04-17</th>\n      <td>0.0</td>\n      <td>NaN</td>\n      <td>NaN</td>\n      <td>NaN</td>\n      <td>NaN</td>\n      <td>NaN</td>\n      <td>NaN</td>\n      <td>NaN</td>\n      <td>NaN</td>\n      <td>NaN</td>\n      <td>...</td>\n      <td>NaN</td>\n      <td>NaN</td>\n      <td>NaN</td>\n      <td>NaN</td>\n      <td>NaN</td>\n      <td>NaN</td>\n      <td>NaN</td>\n      <td>NaN</td>\n      <td>NaN</td>\n      <td>NaN</td>\n    </tr>\n    <tr>\n      <th>2013-04-18</th>\n      <td>0.0</td>\n      <td>NaN</td>\n      <td>NaN</td>\n      <td>NaN</td>\n      <td>NaN</td>\n      <td>NaN</td>\n      <td>NaN</td>\n      <td>NaN</td>\n      <td>NaN</td>\n      <td>NaN</td>\n      <td>...</td>\n      <td>NaN</td>\n      <td>NaN</td>\n      <td>NaN</td>\n      <td>NaN</td>\n      <td>NaN</td>\n      <td>NaN</td>\n      <td>NaN</td>\n      <td>NaN</td>\n      <td>NaN</td>\n      <td>NaN</td>\n    </tr>\n    <tr>\n      <th>2013-04-19</th>\n      <td>0.0</td>\n      <td>NaN</td>\n      <td>NaN</td>\n      <td>NaN</td>\n      <td>NaN</td>\n      <td>NaN</td>\n      <td>NaN</td>\n      <td>NaN</td>\n      <td>NaN</td>\n      <td>NaN</td>\n      <td>...</td>\n      <td>NaN</td>\n      <td>NaN</td>\n      <td>NaN</td>\n      <td>NaN</td>\n      <td>NaN</td>\n      <td>NaN</td>\n      <td>NaN</td>\n      <td>NaN</td>\n      <td>NaN</td>\n      <td>NaN</td>\n    </tr>\n    <tr>\n      <th>2013-04-20</th>\n      <td>0.0</td>\n      <td>NaN</td>\n      <td>NaN</td>\n      <td>NaN</td>\n      <td>NaN</td>\n      <td>NaN</td>\n      <td>NaN</td>\n      <td>NaN</td>\n      <td>NaN</td>\n      <td>NaN</td>\n      <td>...</td>\n      <td>NaN</td>\n      <td>NaN</td>\n      <td>NaN</td>\n      <td>NaN</td>\n      <td>NaN</td>\n      <td>NaN</td>\n      <td>NaN</td>\n      <td>NaN</td>\n      <td>NaN</td>\n      <td>NaN</td>\n    </tr>\n    <tr>\n      <th>2013-04-21</th>\n      <td>0.0</td>\n      <td>NaN</td>\n      <td>NaN</td>\n      <td>NaN</td>\n      <td>NaN</td>\n      <td>NaN</td>\n      <td>NaN</td>\n      <td>NaN</td>\n      <td>NaN</td>\n      <td>NaN</td>\n      <td>...</td>\n      <td>NaN</td>\n      <td>NaN</td>\n      <td>NaN</td>\n      <td>NaN</td>\n      <td>NaN</td>\n      <td>NaN</td>\n      <td>NaN</td>\n      <td>NaN</td>\n      <td>NaN</td>\n      <td>NaN</td>\n    </tr>\n    <tr>\n      <th>2013-04-22</th>\n      <td>0.0</td>\n      <td>NaN</td>\n      <td>NaN</td>\n      <td>NaN</td>\n      <td>NaN</td>\n      <td>NaN</td>\n      <td>NaN</td>\n      <td>NaN</td>\n      <td>NaN</td>\n      <td>NaN</td>\n      <td>...</td>\n      <td>NaN</td>\n      <td>NaN</td>\n      <td>NaN</td>\n      <td>NaN</td>\n      <td>NaN</td>\n      <td>NaN</td>\n      <td>NaN</td>\n      <td>NaN</td>\n      <td>NaN</td>\n      <td>NaN</td>\n    </tr>\n    <tr>\n      <th>2013-04-23</th>\n      <td>0.0</td>\n      <td>NaN</td>\n      <td>NaN</td>\n      <td>NaN</td>\n      <td>NaN</td>\n      <td>NaN</td>\n      <td>NaN</td>\n      <td>NaN</td>\n      <td>NaN</td>\n      <td>NaN</td>\n      <td>...</td>\n      <td>NaN</td>\n      <td>NaN</td>\n      <td>NaN</td>\n      <td>NaN</td>\n      <td>NaN</td>\n      <td>NaN</td>\n      <td>NaN</td>\n      <td>NaN</td>\n      <td>NaN</td>\n      <td>NaN</td>\n    </tr>\n    <tr>\n      <th>2013-04-24</th>\n      <td>0.0</td>\n      <td>NaN</td>\n      <td>NaN</td>\n      <td>NaN</td>\n      <td>NaN</td>\n      <td>NaN</td>\n      <td>NaN</td>\n      <td>NaN</td>\n      <td>NaN</td>\n      <td>NaN</td>\n      <td>...</td>\n      <td>NaN</td>\n      <td>NaN</td>\n      <td>NaN</td>\n      <td>NaN</td>\n      <td>NaN</td>\n      <td>NaN</td>\n      <td>NaN</td>\n      <td>NaN</td>\n      <td>NaN</td>\n      <td>NaN</td>\n    </tr>\n    <tr>\n      <th>2013-04-25</th>\n      <td>0.0</td>\n      <td>NaN</td>\n      <td>NaN</td>\n      <td>NaN</td>\n      <td>NaN</td>\n      <td>NaN</td>\n      <td>NaN</td>\n      <td>NaN</td>\n      <td>NaN</td>\n      <td>NaN</td>\n      <td>...</td>\n      <td>NaN</td>\n      <td>NaN</td>\n      <td>NaN</td>\n      <td>NaN</td>\n      <td>NaN</td>\n      <td>NaN</td>\n      <td>NaN</td>\n      <td>NaN</td>\n      <td>NaN</td>\n      <td>NaN</td>\n    </tr>\n    <tr>\n      <th>2013-04-26</th>\n      <td>0.0</td>\n      <td>NaN</td>\n      <td>NaN</td>\n      <td>NaN</td>\n      <td>NaN</td>\n      <td>NaN</td>\n      <td>NaN</td>\n      <td>NaN</td>\n      <td>NaN</td>\n      <td>NaN</td>\n      <td>...</td>\n      <td>NaN</td>\n      <td>NaN</td>\n      <td>NaN</td>\n      <td>NaN</td>\n      <td>NaN</td>\n      <td>NaN</td>\n      <td>NaN</td>\n      <td>NaN</td>\n      <td>NaN</td>\n      <td>NaN</td>\n    </tr>\n    <tr>\n      <th>2013-04-27</th>\n      <td>0.0</td>\n      <td>NaN</td>\n      <td>NaN</td>\n      <td>NaN</td>\n      <td>NaN</td>\n      <td>NaN</td>\n      <td>NaN</td>\n      <td>NaN</td>\n      <td>NaN</td>\n      <td>NaN</td>\n      <td>...</td>\n      <td>NaN</td>\n      <td>NaN</td>\n      <td>NaN</td>\n      <td>NaN</td>\n      <td>NaN</td>\n      <td>NaN</td>\n      <td>NaN</td>\n      <td>NaN</td>\n      <td>NaN</td>\n      <td>NaN</td>\n    </tr>\n    <tr>\n      <th>2013-04-28</th>\n      <td>0.0</td>\n      <td>NaN</td>\n      <td>NaN</td>\n      <td>NaN</td>\n      <td>NaN</td>\n      <td>NaN</td>\n      <td>NaN</td>\n      <td>NaN</td>\n      <td>NaN</td>\n      <td>NaN</td>\n      <td>...</td>\n      <td>NaN</td>\n      <td>NaN</td>\n      <td>NaN</td>\n      <td>NaN</td>\n      <td>NaN</td>\n      <td>NaN</td>\n      <td>NaN</td>\n      <td>NaN</td>\n      <td>NaN</td>\n      <td>NaN</td>\n    </tr>\n    <tr>\n      <th>2013-04-29</th>\n      <td>0.0</td>\n      <td>NaN</td>\n      <td>NaN</td>\n      <td>NaN</td>\n      <td>NaN</td>\n      <td>NaN</td>\n      <td>NaN</td>\n      <td>NaN</td>\n      <td>NaN</td>\n      <td>NaN</td>\n      <td>...</td>\n      <td>NaN</td>\n      <td>NaN</td>\n      <td>NaN</td>\n      <td>NaN</td>\n      <td>NaN</td>\n      <td>NaN</td>\n      <td>NaN</td>\n      <td>NaN</td>\n      <td>NaN</td>\n      <td>NaN</td>\n    </tr>\n  </tbody>\n</table>\n<p>30 rows × 9216 columns</p>\n</div>"
     },
     "execution_count": 32,
     "metadata": {},
     "output_type": "execute_result"
    }
   ],
   "source": [
    "prices['sector'].unstack(glevel).head(30)"
   ],
   "metadata": {
    "collapsed": false,
    "pycharm": {
     "name": "#%%\n"
    }
   }
  },
  {
   "cell_type": "markdown",
   "source": [
    "## Compute Returns"
   ],
   "metadata": {
    "collapsed": false
   }
  },
  {
   "cell_type": "markdown",
   "source": [
    "### Historical Returns"
   ],
   "metadata": {
    "collapsed": false
   }
  },
  {
   "cell_type": "code",
   "execution_count": 33,
   "outputs": [
    {
     "data": {
      "text/plain": "ticker       btc-usd ltc-usd eth-usd etc-usd zec-usd xmr-usd dash-usd xrp-usd  \\\noffset          0       0       0       0       0       0        0       0      \ndate                                                                            \n2013-03-31       NaN     NaN     NaN     NaN     NaN     NaN      NaN     NaN   \n2013-04-01       NaN     NaN     NaN     NaN     NaN     NaN      NaN     NaN   \n2013-04-02  0.139125     NaN     NaN     NaN     NaN     NaN      NaN     NaN   \n2013-04-03  0.148044     NaN     NaN     NaN     NaN     NaN      NaN     NaN   \n2013-04-04 -0.020045     NaN     NaN     NaN     NaN     NaN      NaN     NaN   \n2013-04-05  0.076108     NaN     NaN     NaN     NaN     NaN      NaN     NaN   \n2013-04-06  0.007067     NaN     NaN     NaN     NaN     NaN      NaN     NaN   \n2013-04-07  0.141489     NaN     NaN     NaN     NaN     NaN      NaN     NaN   \n2013-04-08  0.145110     NaN     NaN     NaN     NaN     NaN      NaN     NaN   \n2013-04-09  0.246036     NaN     NaN     NaN     NaN     NaN      NaN     NaN   \n2013-04-10 -0.326108     NaN     NaN     NaN     NaN     NaN      NaN     NaN   \n2013-04-11 -0.299408     NaN     NaN     NaN     NaN     NaN      NaN     NaN   \n2013-04-12  0.005709     NaN     NaN     NaN     NaN     NaN      NaN     NaN   \n2013-04-13 -0.135653     NaN     NaN     NaN     NaN     NaN      NaN     NaN   \n2013-04-14 -0.055636     NaN     NaN     NaN     NaN     NaN      NaN     NaN   \n2013-04-15 -0.072181     NaN     NaN     NaN     NaN     NaN      NaN     NaN   \n2013-04-16 -0.188451     NaN     NaN     NaN     NaN     NaN      NaN     NaN   \n2013-04-17  0.369062     NaN     NaN     NaN     NaN     NaN      NaN     NaN   \n2013-04-18  0.195643     NaN     NaN     NaN     NaN     NaN      NaN     NaN   \n2013-04-19  0.061995     NaN     NaN     NaN     NaN     NaN      NaN     NaN   \n2013-04-20  0.074450     NaN     NaN     NaN     NaN     NaN      NaN     NaN   \n2013-04-21 -0.072441     NaN     NaN     NaN     NaN     NaN      NaN     NaN   \n2013-04-22  0.073854     NaN     NaN     NaN     NaN     NaN      NaN     NaN   \n2013-04-23  0.126482     NaN     NaN     NaN     NaN     NaN      NaN     NaN   \n2013-04-24  0.084912     NaN     NaN     NaN     NaN     NaN      NaN     NaN   \n2013-04-25 -0.082148     NaN     NaN     NaN     NaN     NaN      NaN     NaN   \n2013-04-26 -0.032417     NaN     NaN     NaN     NaN     NaN      NaN     NaN   \n2013-04-27 -0.062637     NaN     NaN     NaN     NaN     NaN      NaN     NaN   \n2013-04-28  0.051204     NaN     NaN     NaN     NaN     NaN      NaN     NaN   \n2013-04-29  0.065120     NaN     NaN     NaN     NaN     NaN      NaN     NaN   \n\nticker     miota-usd eos-usd  ... bsv-usd btt-usd atom-usd wbtc-usd leo-usd  \\\noffset          0       0     ...    1435    1435     1435     1435    1435   \ndate                          ...                                             \n2013-03-31       NaN     NaN  ...     NaN     NaN      NaN      NaN     NaN   \n2013-04-01       NaN     NaN  ...     NaN     NaN      NaN      NaN     NaN   \n2013-04-02       NaN     NaN  ...     NaN     NaN      NaN      NaN     NaN   \n2013-04-03       NaN     NaN  ...     NaN     NaN      NaN      NaN     NaN   \n2013-04-04       NaN     NaN  ...     NaN     NaN      NaN      NaN     NaN   \n2013-04-05       NaN     NaN  ...     NaN     NaN      NaN      NaN     NaN   \n2013-04-06       NaN     NaN  ...     NaN     NaN      NaN      NaN     NaN   \n2013-04-07       NaN     NaN  ...     NaN     NaN      NaN      NaN     NaN   \n2013-04-08       NaN     NaN  ...     NaN     NaN      NaN      NaN     NaN   \n2013-04-09       NaN     NaN  ...     NaN     NaN      NaN      NaN     NaN   \n2013-04-10       NaN     NaN  ...     NaN     NaN      NaN      NaN     NaN   \n2013-04-11       NaN     NaN  ...     NaN     NaN      NaN      NaN     NaN   \n2013-04-12       NaN     NaN  ...     NaN     NaN      NaN      NaN     NaN   \n2013-04-13       NaN     NaN  ...     NaN     NaN      NaN      NaN     NaN   \n2013-04-14       NaN     NaN  ...     NaN     NaN      NaN      NaN     NaN   \n2013-04-15       NaN     NaN  ...     NaN     NaN      NaN      NaN     NaN   \n2013-04-16       NaN     NaN  ...     NaN     NaN      NaN      NaN     NaN   \n2013-04-17       NaN     NaN  ...     NaN     NaN      NaN      NaN     NaN   \n2013-04-18       NaN     NaN  ...     NaN     NaN      NaN      NaN     NaN   \n2013-04-19       NaN     NaN  ...     NaN     NaN      NaN      NaN     NaN   \n2013-04-20       NaN     NaN  ...     NaN     NaN      NaN      NaN     NaN   \n2013-04-21       NaN     NaN  ...     NaN     NaN      NaN      NaN     NaN   \n2013-04-22       NaN     NaN  ...     NaN     NaN      NaN      NaN     NaN   \n2013-04-23       NaN     NaN  ...     NaN     NaN      NaN      NaN     NaN   \n2013-04-24       NaN     NaN  ...     NaN     NaN      NaN      NaN     NaN   \n2013-04-25       NaN     NaN  ...     NaN     NaN      NaN      NaN     NaN   \n2013-04-26       NaN     NaN  ...     NaN     NaN      NaN      NaN     NaN   \n2013-04-27       NaN     NaN  ...     NaN     NaN      NaN      NaN     NaN   \n2013-04-28       NaN     NaN  ...     NaN     NaN      NaN      NaN     NaN   \n2013-04-29       NaN     NaN  ...     NaN     NaN      NaN      NaN     NaN   \n\nticker     okb-usd algo-usd amp-usd ftt-usd chz-usd  \noffset        1435     1435    1435    1435    1435  \ndate                                                 \n2013-03-31     NaN      NaN     NaN     NaN     NaN  \n2013-04-01     NaN      NaN     NaN     NaN     NaN  \n2013-04-02     NaN      NaN     NaN     NaN     NaN  \n2013-04-03     NaN      NaN     NaN     NaN     NaN  \n2013-04-04     NaN      NaN     NaN     NaN     NaN  \n2013-04-05     NaN      NaN     NaN     NaN     NaN  \n2013-04-06     NaN      NaN     NaN     NaN     NaN  \n2013-04-07     NaN      NaN     NaN     NaN     NaN  \n2013-04-08     NaN      NaN     NaN     NaN     NaN  \n2013-04-09     NaN      NaN     NaN     NaN     NaN  \n2013-04-10     NaN      NaN     NaN     NaN     NaN  \n2013-04-11     NaN      NaN     NaN     NaN     NaN  \n2013-04-12     NaN      NaN     NaN     NaN     NaN  \n2013-04-13     NaN      NaN     NaN     NaN     NaN  \n2013-04-14     NaN      NaN     NaN     NaN     NaN  \n2013-04-15     NaN      NaN     NaN     NaN     NaN  \n2013-04-16     NaN      NaN     NaN     NaN     NaN  \n2013-04-17     NaN      NaN     NaN     NaN     NaN  \n2013-04-18     NaN      NaN     NaN     NaN     NaN  \n2013-04-19     NaN      NaN     NaN     NaN     NaN  \n2013-04-20     NaN      NaN     NaN     NaN     NaN  \n2013-04-21     NaN      NaN     NaN     NaN     NaN  \n2013-04-22     NaN      NaN     NaN     NaN     NaN  \n2013-04-23     NaN      NaN     NaN     NaN     NaN  \n2013-04-24     NaN      NaN     NaN     NaN     NaN  \n2013-04-25     NaN      NaN     NaN     NaN     NaN  \n2013-04-26     NaN      NaN     NaN     NaN     NaN  \n2013-04-27     NaN      NaN     NaN     NaN     NaN  \n2013-04-28     NaN      NaN     NaN     NaN     NaN  \n2013-04-29     NaN      NaN     NaN     NaN     NaN  \n\n[30 rows x 9216 columns]",
      "text/html": "<div>\n<style scoped>\n    .dataframe tbody tr th:only-of-type {\n        vertical-align: middle;\n    }\n\n    .dataframe tbody tr th {\n        vertical-align: top;\n    }\n\n    .dataframe thead tr th {\n        text-align: left;\n    }\n\n    .dataframe thead tr:last-of-type th {\n        text-align: right;\n    }\n</style>\n<table border=\"1\" class=\"dataframe\">\n  <thead>\n    <tr>\n      <th>ticker</th>\n      <th>btc-usd</th>\n      <th>ltc-usd</th>\n      <th>eth-usd</th>\n      <th>etc-usd</th>\n      <th>zec-usd</th>\n      <th>xmr-usd</th>\n      <th>dash-usd</th>\n      <th>xrp-usd</th>\n      <th>miota-usd</th>\n      <th>eos-usd</th>\n      <th>...</th>\n      <th>bsv-usd</th>\n      <th>btt-usd</th>\n      <th>atom-usd</th>\n      <th>wbtc-usd</th>\n      <th>leo-usd</th>\n      <th>okb-usd</th>\n      <th>algo-usd</th>\n      <th>amp-usd</th>\n      <th>ftt-usd</th>\n      <th>chz-usd</th>\n    </tr>\n    <tr>\n      <th>offset</th>\n      <th>0</th>\n      <th>0</th>\n      <th>0</th>\n      <th>0</th>\n      <th>0</th>\n      <th>0</th>\n      <th>0</th>\n      <th>0</th>\n      <th>0</th>\n      <th>0</th>\n      <th>...</th>\n      <th>1435</th>\n      <th>1435</th>\n      <th>1435</th>\n      <th>1435</th>\n      <th>1435</th>\n      <th>1435</th>\n      <th>1435</th>\n      <th>1435</th>\n      <th>1435</th>\n      <th>1435</th>\n    </tr>\n    <tr>\n      <th>date</th>\n      <th></th>\n      <th></th>\n      <th></th>\n      <th></th>\n      <th></th>\n      <th></th>\n      <th></th>\n      <th></th>\n      <th></th>\n      <th></th>\n      <th></th>\n      <th></th>\n      <th></th>\n      <th></th>\n      <th></th>\n      <th></th>\n      <th></th>\n      <th></th>\n      <th></th>\n      <th></th>\n      <th></th>\n    </tr>\n  </thead>\n  <tbody>\n    <tr>\n      <th>2013-03-31</th>\n      <td>NaN</td>\n      <td>NaN</td>\n      <td>NaN</td>\n      <td>NaN</td>\n      <td>NaN</td>\n      <td>NaN</td>\n      <td>NaN</td>\n      <td>NaN</td>\n      <td>NaN</td>\n      <td>NaN</td>\n      <td>...</td>\n      <td>NaN</td>\n      <td>NaN</td>\n      <td>NaN</td>\n      <td>NaN</td>\n      <td>NaN</td>\n      <td>NaN</td>\n      <td>NaN</td>\n      <td>NaN</td>\n      <td>NaN</td>\n      <td>NaN</td>\n    </tr>\n    <tr>\n      <th>2013-04-01</th>\n      <td>NaN</td>\n      <td>NaN</td>\n      <td>NaN</td>\n      <td>NaN</td>\n      <td>NaN</td>\n      <td>NaN</td>\n      <td>NaN</td>\n      <td>NaN</td>\n      <td>NaN</td>\n      <td>NaN</td>\n      <td>...</td>\n      <td>NaN</td>\n      <td>NaN</td>\n      <td>NaN</td>\n      <td>NaN</td>\n      <td>NaN</td>\n      <td>NaN</td>\n      <td>NaN</td>\n      <td>NaN</td>\n      <td>NaN</td>\n      <td>NaN</td>\n    </tr>\n    <tr>\n      <th>2013-04-02</th>\n      <td>0.139125</td>\n      <td>NaN</td>\n      <td>NaN</td>\n      <td>NaN</td>\n      <td>NaN</td>\n      <td>NaN</td>\n      <td>NaN</td>\n      <td>NaN</td>\n      <td>NaN</td>\n      <td>NaN</td>\n      <td>...</td>\n      <td>NaN</td>\n      <td>NaN</td>\n      <td>NaN</td>\n      <td>NaN</td>\n      <td>NaN</td>\n      <td>NaN</td>\n      <td>NaN</td>\n      <td>NaN</td>\n      <td>NaN</td>\n      <td>NaN</td>\n    </tr>\n    <tr>\n      <th>2013-04-03</th>\n      <td>0.148044</td>\n      <td>NaN</td>\n      <td>NaN</td>\n      <td>NaN</td>\n      <td>NaN</td>\n      <td>NaN</td>\n      <td>NaN</td>\n      <td>NaN</td>\n      <td>NaN</td>\n      <td>NaN</td>\n      <td>...</td>\n      <td>NaN</td>\n      <td>NaN</td>\n      <td>NaN</td>\n      <td>NaN</td>\n      <td>NaN</td>\n      <td>NaN</td>\n      <td>NaN</td>\n      <td>NaN</td>\n      <td>NaN</td>\n      <td>NaN</td>\n    </tr>\n    <tr>\n      <th>2013-04-04</th>\n      <td>-0.020045</td>\n      <td>NaN</td>\n      <td>NaN</td>\n      <td>NaN</td>\n      <td>NaN</td>\n      <td>NaN</td>\n      <td>NaN</td>\n      <td>NaN</td>\n      <td>NaN</td>\n      <td>NaN</td>\n      <td>...</td>\n      <td>NaN</td>\n      <td>NaN</td>\n      <td>NaN</td>\n      <td>NaN</td>\n      <td>NaN</td>\n      <td>NaN</td>\n      <td>NaN</td>\n      <td>NaN</td>\n      <td>NaN</td>\n      <td>NaN</td>\n    </tr>\n    <tr>\n      <th>2013-04-05</th>\n      <td>0.076108</td>\n      <td>NaN</td>\n      <td>NaN</td>\n      <td>NaN</td>\n      <td>NaN</td>\n      <td>NaN</td>\n      <td>NaN</td>\n      <td>NaN</td>\n      <td>NaN</td>\n      <td>NaN</td>\n      <td>...</td>\n      <td>NaN</td>\n      <td>NaN</td>\n      <td>NaN</td>\n      <td>NaN</td>\n      <td>NaN</td>\n      <td>NaN</td>\n      <td>NaN</td>\n      <td>NaN</td>\n      <td>NaN</td>\n      <td>NaN</td>\n    </tr>\n    <tr>\n      <th>2013-04-06</th>\n      <td>0.007067</td>\n      <td>NaN</td>\n      <td>NaN</td>\n      <td>NaN</td>\n      <td>NaN</td>\n      <td>NaN</td>\n      <td>NaN</td>\n      <td>NaN</td>\n      <td>NaN</td>\n      <td>NaN</td>\n      <td>...</td>\n      <td>NaN</td>\n      <td>NaN</td>\n      <td>NaN</td>\n      <td>NaN</td>\n      <td>NaN</td>\n      <td>NaN</td>\n      <td>NaN</td>\n      <td>NaN</td>\n      <td>NaN</td>\n      <td>NaN</td>\n    </tr>\n    <tr>\n      <th>2013-04-07</th>\n      <td>0.141489</td>\n      <td>NaN</td>\n      <td>NaN</td>\n      <td>NaN</td>\n      <td>NaN</td>\n      <td>NaN</td>\n      <td>NaN</td>\n      <td>NaN</td>\n      <td>NaN</td>\n      <td>NaN</td>\n      <td>...</td>\n      <td>NaN</td>\n      <td>NaN</td>\n      <td>NaN</td>\n      <td>NaN</td>\n      <td>NaN</td>\n      <td>NaN</td>\n      <td>NaN</td>\n      <td>NaN</td>\n      <td>NaN</td>\n      <td>NaN</td>\n    </tr>\n    <tr>\n      <th>2013-04-08</th>\n      <td>0.145110</td>\n      <td>NaN</td>\n      <td>NaN</td>\n      <td>NaN</td>\n      <td>NaN</td>\n      <td>NaN</td>\n      <td>NaN</td>\n      <td>NaN</td>\n      <td>NaN</td>\n      <td>NaN</td>\n      <td>...</td>\n      <td>NaN</td>\n      <td>NaN</td>\n      <td>NaN</td>\n      <td>NaN</td>\n      <td>NaN</td>\n      <td>NaN</td>\n      <td>NaN</td>\n      <td>NaN</td>\n      <td>NaN</td>\n      <td>NaN</td>\n    </tr>\n    <tr>\n      <th>2013-04-09</th>\n      <td>0.246036</td>\n      <td>NaN</td>\n      <td>NaN</td>\n      <td>NaN</td>\n      <td>NaN</td>\n      <td>NaN</td>\n      <td>NaN</td>\n      <td>NaN</td>\n      <td>NaN</td>\n      <td>NaN</td>\n      <td>...</td>\n      <td>NaN</td>\n      <td>NaN</td>\n      <td>NaN</td>\n      <td>NaN</td>\n      <td>NaN</td>\n      <td>NaN</td>\n      <td>NaN</td>\n      <td>NaN</td>\n      <td>NaN</td>\n      <td>NaN</td>\n    </tr>\n    <tr>\n      <th>2013-04-10</th>\n      <td>-0.326108</td>\n      <td>NaN</td>\n      <td>NaN</td>\n      <td>NaN</td>\n      <td>NaN</td>\n      <td>NaN</td>\n      <td>NaN</td>\n      <td>NaN</td>\n      <td>NaN</td>\n      <td>NaN</td>\n      <td>...</td>\n      <td>NaN</td>\n      <td>NaN</td>\n      <td>NaN</td>\n      <td>NaN</td>\n      <td>NaN</td>\n      <td>NaN</td>\n      <td>NaN</td>\n      <td>NaN</td>\n      <td>NaN</td>\n      <td>NaN</td>\n    </tr>\n    <tr>\n      <th>2013-04-11</th>\n      <td>-0.299408</td>\n      <td>NaN</td>\n      <td>NaN</td>\n      <td>NaN</td>\n      <td>NaN</td>\n      <td>NaN</td>\n      <td>NaN</td>\n      <td>NaN</td>\n      <td>NaN</td>\n      <td>NaN</td>\n      <td>...</td>\n      <td>NaN</td>\n      <td>NaN</td>\n      <td>NaN</td>\n      <td>NaN</td>\n      <td>NaN</td>\n      <td>NaN</td>\n      <td>NaN</td>\n      <td>NaN</td>\n      <td>NaN</td>\n      <td>NaN</td>\n    </tr>\n    <tr>\n      <th>2013-04-12</th>\n      <td>0.005709</td>\n      <td>NaN</td>\n      <td>NaN</td>\n      <td>NaN</td>\n      <td>NaN</td>\n      <td>NaN</td>\n      <td>NaN</td>\n      <td>NaN</td>\n      <td>NaN</td>\n      <td>NaN</td>\n      <td>...</td>\n      <td>NaN</td>\n      <td>NaN</td>\n      <td>NaN</td>\n      <td>NaN</td>\n      <td>NaN</td>\n      <td>NaN</td>\n      <td>NaN</td>\n      <td>NaN</td>\n      <td>NaN</td>\n      <td>NaN</td>\n    </tr>\n    <tr>\n      <th>2013-04-13</th>\n      <td>-0.135653</td>\n      <td>NaN</td>\n      <td>NaN</td>\n      <td>NaN</td>\n      <td>NaN</td>\n      <td>NaN</td>\n      <td>NaN</td>\n      <td>NaN</td>\n      <td>NaN</td>\n      <td>NaN</td>\n      <td>...</td>\n      <td>NaN</td>\n      <td>NaN</td>\n      <td>NaN</td>\n      <td>NaN</td>\n      <td>NaN</td>\n      <td>NaN</td>\n      <td>NaN</td>\n      <td>NaN</td>\n      <td>NaN</td>\n      <td>NaN</td>\n    </tr>\n    <tr>\n      <th>2013-04-14</th>\n      <td>-0.055636</td>\n      <td>NaN</td>\n      <td>NaN</td>\n      <td>NaN</td>\n      <td>NaN</td>\n      <td>NaN</td>\n      <td>NaN</td>\n      <td>NaN</td>\n      <td>NaN</td>\n      <td>NaN</td>\n      <td>...</td>\n      <td>NaN</td>\n      <td>NaN</td>\n      <td>NaN</td>\n      <td>NaN</td>\n      <td>NaN</td>\n      <td>NaN</td>\n      <td>NaN</td>\n      <td>NaN</td>\n      <td>NaN</td>\n      <td>NaN</td>\n    </tr>\n    <tr>\n      <th>2013-04-15</th>\n      <td>-0.072181</td>\n      <td>NaN</td>\n      <td>NaN</td>\n      <td>NaN</td>\n      <td>NaN</td>\n      <td>NaN</td>\n      <td>NaN</td>\n      <td>NaN</td>\n      <td>NaN</td>\n      <td>NaN</td>\n      <td>...</td>\n      <td>NaN</td>\n      <td>NaN</td>\n      <td>NaN</td>\n      <td>NaN</td>\n      <td>NaN</td>\n      <td>NaN</td>\n      <td>NaN</td>\n      <td>NaN</td>\n      <td>NaN</td>\n      <td>NaN</td>\n    </tr>\n    <tr>\n      <th>2013-04-16</th>\n      <td>-0.188451</td>\n      <td>NaN</td>\n      <td>NaN</td>\n      <td>NaN</td>\n      <td>NaN</td>\n      <td>NaN</td>\n      <td>NaN</td>\n      <td>NaN</td>\n      <td>NaN</td>\n      <td>NaN</td>\n      <td>...</td>\n      <td>NaN</td>\n      <td>NaN</td>\n      <td>NaN</td>\n      <td>NaN</td>\n      <td>NaN</td>\n      <td>NaN</td>\n      <td>NaN</td>\n      <td>NaN</td>\n      <td>NaN</td>\n      <td>NaN</td>\n    </tr>\n    <tr>\n      <th>2013-04-17</th>\n      <td>0.369062</td>\n      <td>NaN</td>\n      <td>NaN</td>\n      <td>NaN</td>\n      <td>NaN</td>\n      <td>NaN</td>\n      <td>NaN</td>\n      <td>NaN</td>\n      <td>NaN</td>\n      <td>NaN</td>\n      <td>...</td>\n      <td>NaN</td>\n      <td>NaN</td>\n      <td>NaN</td>\n      <td>NaN</td>\n      <td>NaN</td>\n      <td>NaN</td>\n      <td>NaN</td>\n      <td>NaN</td>\n      <td>NaN</td>\n      <td>NaN</td>\n    </tr>\n    <tr>\n      <th>2013-04-18</th>\n      <td>0.195643</td>\n      <td>NaN</td>\n      <td>NaN</td>\n      <td>NaN</td>\n      <td>NaN</td>\n      <td>NaN</td>\n      <td>NaN</td>\n      <td>NaN</td>\n      <td>NaN</td>\n      <td>NaN</td>\n      <td>...</td>\n      <td>NaN</td>\n      <td>NaN</td>\n      <td>NaN</td>\n      <td>NaN</td>\n      <td>NaN</td>\n      <td>NaN</td>\n      <td>NaN</td>\n      <td>NaN</td>\n      <td>NaN</td>\n      <td>NaN</td>\n    </tr>\n    <tr>\n      <th>2013-04-19</th>\n      <td>0.061995</td>\n      <td>NaN</td>\n      <td>NaN</td>\n      <td>NaN</td>\n      <td>NaN</td>\n      <td>NaN</td>\n      <td>NaN</td>\n      <td>NaN</td>\n      <td>NaN</td>\n      <td>NaN</td>\n      <td>...</td>\n      <td>NaN</td>\n      <td>NaN</td>\n      <td>NaN</td>\n      <td>NaN</td>\n      <td>NaN</td>\n      <td>NaN</td>\n      <td>NaN</td>\n      <td>NaN</td>\n      <td>NaN</td>\n      <td>NaN</td>\n    </tr>\n    <tr>\n      <th>2013-04-20</th>\n      <td>0.074450</td>\n      <td>NaN</td>\n      <td>NaN</td>\n      <td>NaN</td>\n      <td>NaN</td>\n      <td>NaN</td>\n      <td>NaN</td>\n      <td>NaN</td>\n      <td>NaN</td>\n      <td>NaN</td>\n      <td>...</td>\n      <td>NaN</td>\n      <td>NaN</td>\n      <td>NaN</td>\n      <td>NaN</td>\n      <td>NaN</td>\n      <td>NaN</td>\n      <td>NaN</td>\n      <td>NaN</td>\n      <td>NaN</td>\n      <td>NaN</td>\n    </tr>\n    <tr>\n      <th>2013-04-21</th>\n      <td>-0.072441</td>\n      <td>NaN</td>\n      <td>NaN</td>\n      <td>NaN</td>\n      <td>NaN</td>\n      <td>NaN</td>\n      <td>NaN</td>\n      <td>NaN</td>\n      <td>NaN</td>\n      <td>NaN</td>\n      <td>...</td>\n      <td>NaN</td>\n      <td>NaN</td>\n      <td>NaN</td>\n      <td>NaN</td>\n      <td>NaN</td>\n      <td>NaN</td>\n      <td>NaN</td>\n      <td>NaN</td>\n      <td>NaN</td>\n      <td>NaN</td>\n    </tr>\n    <tr>\n      <th>2013-04-22</th>\n      <td>0.073854</td>\n      <td>NaN</td>\n      <td>NaN</td>\n      <td>NaN</td>\n      <td>NaN</td>\n      <td>NaN</td>\n      <td>NaN</td>\n      <td>NaN</td>\n      <td>NaN</td>\n      <td>NaN</td>\n      <td>...</td>\n      <td>NaN</td>\n      <td>NaN</td>\n      <td>NaN</td>\n      <td>NaN</td>\n      <td>NaN</td>\n      <td>NaN</td>\n      <td>NaN</td>\n      <td>NaN</td>\n      <td>NaN</td>\n      <td>NaN</td>\n    </tr>\n    <tr>\n      <th>2013-04-23</th>\n      <td>0.126482</td>\n      <td>NaN</td>\n      <td>NaN</td>\n      <td>NaN</td>\n      <td>NaN</td>\n      <td>NaN</td>\n      <td>NaN</td>\n      <td>NaN</td>\n      <td>NaN</td>\n      <td>NaN</td>\n      <td>...</td>\n      <td>NaN</td>\n      <td>NaN</td>\n      <td>NaN</td>\n      <td>NaN</td>\n      <td>NaN</td>\n      <td>NaN</td>\n      <td>NaN</td>\n      <td>NaN</td>\n      <td>NaN</td>\n      <td>NaN</td>\n    </tr>\n    <tr>\n      <th>2013-04-24</th>\n      <td>0.084912</td>\n      <td>NaN</td>\n      <td>NaN</td>\n      <td>NaN</td>\n      <td>NaN</td>\n      <td>NaN</td>\n      <td>NaN</td>\n      <td>NaN</td>\n      <td>NaN</td>\n      <td>NaN</td>\n      <td>...</td>\n      <td>NaN</td>\n      <td>NaN</td>\n      <td>NaN</td>\n      <td>NaN</td>\n      <td>NaN</td>\n      <td>NaN</td>\n      <td>NaN</td>\n      <td>NaN</td>\n      <td>NaN</td>\n      <td>NaN</td>\n    </tr>\n    <tr>\n      <th>2013-04-25</th>\n      <td>-0.082148</td>\n      <td>NaN</td>\n      <td>NaN</td>\n      <td>NaN</td>\n      <td>NaN</td>\n      <td>NaN</td>\n      <td>NaN</td>\n      <td>NaN</td>\n      <td>NaN</td>\n      <td>NaN</td>\n      <td>...</td>\n      <td>NaN</td>\n      <td>NaN</td>\n      <td>NaN</td>\n      <td>NaN</td>\n      <td>NaN</td>\n      <td>NaN</td>\n      <td>NaN</td>\n      <td>NaN</td>\n      <td>NaN</td>\n      <td>NaN</td>\n    </tr>\n    <tr>\n      <th>2013-04-26</th>\n      <td>-0.032417</td>\n      <td>NaN</td>\n      <td>NaN</td>\n      <td>NaN</td>\n      <td>NaN</td>\n      <td>NaN</td>\n      <td>NaN</td>\n      <td>NaN</td>\n      <td>NaN</td>\n      <td>NaN</td>\n      <td>...</td>\n      <td>NaN</td>\n      <td>NaN</td>\n      <td>NaN</td>\n      <td>NaN</td>\n      <td>NaN</td>\n      <td>NaN</td>\n      <td>NaN</td>\n      <td>NaN</td>\n      <td>NaN</td>\n      <td>NaN</td>\n    </tr>\n    <tr>\n      <th>2013-04-27</th>\n      <td>-0.062637</td>\n      <td>NaN</td>\n      <td>NaN</td>\n      <td>NaN</td>\n      <td>NaN</td>\n      <td>NaN</td>\n      <td>NaN</td>\n      <td>NaN</td>\n      <td>NaN</td>\n      <td>NaN</td>\n      <td>...</td>\n      <td>NaN</td>\n      <td>NaN</td>\n      <td>NaN</td>\n      <td>NaN</td>\n      <td>NaN</td>\n      <td>NaN</td>\n      <td>NaN</td>\n      <td>NaN</td>\n      <td>NaN</td>\n      <td>NaN</td>\n    </tr>\n    <tr>\n      <th>2013-04-28</th>\n      <td>0.051204</td>\n      <td>NaN</td>\n      <td>NaN</td>\n      <td>NaN</td>\n      <td>NaN</td>\n      <td>NaN</td>\n      <td>NaN</td>\n      <td>NaN</td>\n      <td>NaN</td>\n      <td>NaN</td>\n      <td>...</td>\n      <td>NaN</td>\n      <td>NaN</td>\n      <td>NaN</td>\n      <td>NaN</td>\n      <td>NaN</td>\n      <td>NaN</td>\n      <td>NaN</td>\n      <td>NaN</td>\n      <td>NaN</td>\n      <td>NaN</td>\n    </tr>\n    <tr>\n      <th>2013-04-29</th>\n      <td>0.065120</td>\n      <td>NaN</td>\n      <td>NaN</td>\n      <td>NaN</td>\n      <td>NaN</td>\n      <td>NaN</td>\n      <td>NaN</td>\n      <td>NaN</td>\n      <td>NaN</td>\n      <td>NaN</td>\n      <td>...</td>\n      <td>NaN</td>\n      <td>NaN</td>\n      <td>NaN</td>\n      <td>NaN</td>\n      <td>NaN</td>\n      <td>NaN</td>\n      <td>NaN</td>\n      <td>NaN</td>\n      <td>NaN</td>\n      <td>NaN</td>\n    </tr>\n  </tbody>\n</table>\n<p>30 rows × 9216 columns</p>\n</div>"
     },
     "execution_count": 33,
     "metadata": {},
     "output_type": "execute_result"
    }
   ],
   "source": [
    "by_sym = prices.groupby(level=glevel).close\n",
    "for t in T:\n",
    "    prices[f'r{t:02}'] = by_sym.pct_change(t)\n",
    "\n",
    "t=1\n",
    "prices[f'r{t:02}'].unstack(glevel).head(30)"
   ],
   "metadata": {
    "collapsed": false,
    "pycharm": {
     "name": "#%%\n"
    }
   }
  },
  {
   "cell_type": "markdown",
   "source": [
    "### Daily historical return deciles"
   ],
   "metadata": {
    "collapsed": false
   }
  },
  {
   "cell_type": "code",
   "execution_count": 34,
   "outputs": [
    {
     "data": {
      "text/plain": "ticker     btc-usd ltc-usd eth-usd etc-usd zec-usd xmr-usd dash-usd xrp-usd  \\\noffset        0       0       0       0       0       0        0       0      \ndate                                                                          \n2013-03-31     NaN     NaN     NaN     NaN     NaN     NaN      NaN     NaN   \n2013-04-01     NaN     NaN     NaN     NaN     NaN     NaN      NaN     NaN   \n2013-04-02     NaN     NaN     NaN     NaN     NaN     NaN      NaN     NaN   \n2013-04-03     NaN     NaN     NaN     NaN     NaN     NaN      NaN     NaN   \n2013-04-04     1.0     NaN     NaN     NaN     NaN     NaN      NaN     NaN   \n...            ...     ...     ...     ...     ...     ...      ...     ...   \n2021-06-19     2.0     2.0     2.0     2.0     2.0     2.0      2.0     2.0   \n2021-06-20     2.0     2.0     2.0     2.0     2.0     2.0      2.0     2.0   \n2021-06-21     2.0     1.0     2.0     1.0     1.0     1.0      1.0     1.0   \n2021-06-22     2.0     0.0     1.0     0.0     0.0     0.0      0.0     0.0   \n2021-06-23     1.0     0.0     0.0     0.0     0.0     0.0      0.0     0.0   \n\nticker     miota-usd eos-usd  ... bsv-usd btt-usd atom-usd wbtc-usd leo-usd  \\\noffset          0       0     ...    1435    1435     1435     1435    1435   \ndate                          ...                                             \n2013-03-31       NaN     NaN  ...     NaN     NaN      NaN      NaN     NaN   \n2013-04-01       NaN     NaN  ...     NaN     NaN      NaN      NaN     NaN   \n2013-04-02       NaN     NaN  ...     NaN     NaN      NaN      NaN     NaN   \n2013-04-03       NaN     NaN  ...     NaN     NaN      NaN      NaN     NaN   \n2013-04-04       NaN     NaN  ...     NaN     NaN      NaN      NaN     NaN   \n...              ...     ...  ...     ...     ...      ...      ...     ...   \n2021-06-19       2.0     2.0  ...     2.0     0.0      1.0      2.0     2.0   \n2021-06-20       2.0     2.0  ...     0.0     0.0      0.0      2.0     2.0   \n2021-06-21       0.0     1.0  ...     1.0     0.0      1.0      2.0     2.0   \n2021-06-22       0.0     0.0  ...     0.0     0.0      1.0      2.0     2.0   \n2021-06-23       0.0     0.0  ...     NaN     NaN      NaN      NaN     NaN   \n\nticker     okb-usd algo-usd amp-usd ftt-usd chz-usd  \noffset        1435     1435    1435    1435    1435  \ndate                                                 \n2013-03-31     NaN      NaN     NaN     NaN     NaN  \n2013-04-01     NaN      NaN     NaN     NaN     NaN  \n2013-04-02     NaN      NaN     NaN     NaN     NaN  \n2013-04-03     NaN      NaN     NaN     NaN     NaN  \n2013-04-04     NaN      NaN     NaN     NaN     NaN  \n...            ...      ...     ...     ...     ...  \n2021-06-19     NaN      1.0     2.0     2.0     2.0  \n2021-06-20     NaN      0.0     2.0     1.0     0.0  \n2021-06-21     NaN      1.0     2.0     2.0     1.0  \n2021-06-22     NaN      2.0     2.0     2.0     1.0  \n2021-06-23     NaN      NaN     NaN     NaN     NaN  \n\n[3007 rows x 9216 columns]",
      "text/html": "<div>\n<style scoped>\n    .dataframe tbody tr th:only-of-type {\n        vertical-align: middle;\n    }\n\n    .dataframe tbody tr th {\n        vertical-align: top;\n    }\n\n    .dataframe thead tr th {\n        text-align: left;\n    }\n\n    .dataframe thead tr:last-of-type th {\n        text-align: right;\n    }\n</style>\n<table border=\"1\" class=\"dataframe\">\n  <thead>\n    <tr>\n      <th>ticker</th>\n      <th>btc-usd</th>\n      <th>ltc-usd</th>\n      <th>eth-usd</th>\n      <th>etc-usd</th>\n      <th>zec-usd</th>\n      <th>xmr-usd</th>\n      <th>dash-usd</th>\n      <th>xrp-usd</th>\n      <th>miota-usd</th>\n      <th>eos-usd</th>\n      <th>...</th>\n      <th>bsv-usd</th>\n      <th>btt-usd</th>\n      <th>atom-usd</th>\n      <th>wbtc-usd</th>\n      <th>leo-usd</th>\n      <th>okb-usd</th>\n      <th>algo-usd</th>\n      <th>amp-usd</th>\n      <th>ftt-usd</th>\n      <th>chz-usd</th>\n    </tr>\n    <tr>\n      <th>offset</th>\n      <th>0</th>\n      <th>0</th>\n      <th>0</th>\n      <th>0</th>\n      <th>0</th>\n      <th>0</th>\n      <th>0</th>\n      <th>0</th>\n      <th>0</th>\n      <th>0</th>\n      <th>...</th>\n      <th>1435</th>\n      <th>1435</th>\n      <th>1435</th>\n      <th>1435</th>\n      <th>1435</th>\n      <th>1435</th>\n      <th>1435</th>\n      <th>1435</th>\n      <th>1435</th>\n      <th>1435</th>\n    </tr>\n    <tr>\n      <th>date</th>\n      <th></th>\n      <th></th>\n      <th></th>\n      <th></th>\n      <th></th>\n      <th></th>\n      <th></th>\n      <th></th>\n      <th></th>\n      <th></th>\n      <th></th>\n      <th></th>\n      <th></th>\n      <th></th>\n      <th></th>\n      <th></th>\n      <th></th>\n      <th></th>\n      <th></th>\n      <th></th>\n      <th></th>\n    </tr>\n  </thead>\n  <tbody>\n    <tr>\n      <th>2013-03-31</th>\n      <td>NaN</td>\n      <td>NaN</td>\n      <td>NaN</td>\n      <td>NaN</td>\n      <td>NaN</td>\n      <td>NaN</td>\n      <td>NaN</td>\n      <td>NaN</td>\n      <td>NaN</td>\n      <td>NaN</td>\n      <td>...</td>\n      <td>NaN</td>\n      <td>NaN</td>\n      <td>NaN</td>\n      <td>NaN</td>\n      <td>NaN</td>\n      <td>NaN</td>\n      <td>NaN</td>\n      <td>NaN</td>\n      <td>NaN</td>\n      <td>NaN</td>\n    </tr>\n    <tr>\n      <th>2013-04-01</th>\n      <td>NaN</td>\n      <td>NaN</td>\n      <td>NaN</td>\n      <td>NaN</td>\n      <td>NaN</td>\n      <td>NaN</td>\n      <td>NaN</td>\n      <td>NaN</td>\n      <td>NaN</td>\n      <td>NaN</td>\n      <td>...</td>\n      <td>NaN</td>\n      <td>NaN</td>\n      <td>NaN</td>\n      <td>NaN</td>\n      <td>NaN</td>\n      <td>NaN</td>\n      <td>NaN</td>\n      <td>NaN</td>\n      <td>NaN</td>\n      <td>NaN</td>\n    </tr>\n    <tr>\n      <th>2013-04-02</th>\n      <td>NaN</td>\n      <td>NaN</td>\n      <td>NaN</td>\n      <td>NaN</td>\n      <td>NaN</td>\n      <td>NaN</td>\n      <td>NaN</td>\n      <td>NaN</td>\n      <td>NaN</td>\n      <td>NaN</td>\n      <td>...</td>\n      <td>NaN</td>\n      <td>NaN</td>\n      <td>NaN</td>\n      <td>NaN</td>\n      <td>NaN</td>\n      <td>NaN</td>\n      <td>NaN</td>\n      <td>NaN</td>\n      <td>NaN</td>\n      <td>NaN</td>\n    </tr>\n    <tr>\n      <th>2013-04-03</th>\n      <td>NaN</td>\n      <td>NaN</td>\n      <td>NaN</td>\n      <td>NaN</td>\n      <td>NaN</td>\n      <td>NaN</td>\n      <td>NaN</td>\n      <td>NaN</td>\n      <td>NaN</td>\n      <td>NaN</td>\n      <td>...</td>\n      <td>NaN</td>\n      <td>NaN</td>\n      <td>NaN</td>\n      <td>NaN</td>\n      <td>NaN</td>\n      <td>NaN</td>\n      <td>NaN</td>\n      <td>NaN</td>\n      <td>NaN</td>\n      <td>NaN</td>\n    </tr>\n    <tr>\n      <th>2013-04-04</th>\n      <td>1.0</td>\n      <td>NaN</td>\n      <td>NaN</td>\n      <td>NaN</td>\n      <td>NaN</td>\n      <td>NaN</td>\n      <td>NaN</td>\n      <td>NaN</td>\n      <td>NaN</td>\n      <td>NaN</td>\n      <td>...</td>\n      <td>NaN</td>\n      <td>NaN</td>\n      <td>NaN</td>\n      <td>NaN</td>\n      <td>NaN</td>\n      <td>NaN</td>\n      <td>NaN</td>\n      <td>NaN</td>\n      <td>NaN</td>\n      <td>NaN</td>\n    </tr>\n    <tr>\n      <th>...</th>\n      <td>...</td>\n      <td>...</td>\n      <td>...</td>\n      <td>...</td>\n      <td>...</td>\n      <td>...</td>\n      <td>...</td>\n      <td>...</td>\n      <td>...</td>\n      <td>...</td>\n      <td>...</td>\n      <td>...</td>\n      <td>...</td>\n      <td>...</td>\n      <td>...</td>\n      <td>...</td>\n      <td>...</td>\n      <td>...</td>\n      <td>...</td>\n      <td>...</td>\n      <td>...</td>\n    </tr>\n    <tr>\n      <th>2021-06-19</th>\n      <td>2.0</td>\n      <td>2.0</td>\n      <td>2.0</td>\n      <td>2.0</td>\n      <td>2.0</td>\n      <td>2.0</td>\n      <td>2.0</td>\n      <td>2.0</td>\n      <td>2.0</td>\n      <td>2.0</td>\n      <td>...</td>\n      <td>2.0</td>\n      <td>0.0</td>\n      <td>1.0</td>\n      <td>2.0</td>\n      <td>2.0</td>\n      <td>NaN</td>\n      <td>1.0</td>\n      <td>2.0</td>\n      <td>2.0</td>\n      <td>2.0</td>\n    </tr>\n    <tr>\n      <th>2021-06-20</th>\n      <td>2.0</td>\n      <td>2.0</td>\n      <td>2.0</td>\n      <td>2.0</td>\n      <td>2.0</td>\n      <td>2.0</td>\n      <td>2.0</td>\n      <td>2.0</td>\n      <td>2.0</td>\n      <td>2.0</td>\n      <td>...</td>\n      <td>0.0</td>\n      <td>0.0</td>\n      <td>0.0</td>\n      <td>2.0</td>\n      <td>2.0</td>\n      <td>NaN</td>\n      <td>0.0</td>\n      <td>2.0</td>\n      <td>1.0</td>\n      <td>0.0</td>\n    </tr>\n    <tr>\n      <th>2021-06-21</th>\n      <td>2.0</td>\n      <td>1.0</td>\n      <td>2.0</td>\n      <td>1.0</td>\n      <td>1.0</td>\n      <td>1.0</td>\n      <td>1.0</td>\n      <td>1.0</td>\n      <td>0.0</td>\n      <td>1.0</td>\n      <td>...</td>\n      <td>1.0</td>\n      <td>0.0</td>\n      <td>1.0</td>\n      <td>2.0</td>\n      <td>2.0</td>\n      <td>NaN</td>\n      <td>1.0</td>\n      <td>2.0</td>\n      <td>2.0</td>\n      <td>1.0</td>\n    </tr>\n    <tr>\n      <th>2021-06-22</th>\n      <td>2.0</td>\n      <td>0.0</td>\n      <td>1.0</td>\n      <td>0.0</td>\n      <td>0.0</td>\n      <td>0.0</td>\n      <td>0.0</td>\n      <td>0.0</td>\n      <td>0.0</td>\n      <td>0.0</td>\n      <td>...</td>\n      <td>0.0</td>\n      <td>0.0</td>\n      <td>1.0</td>\n      <td>2.0</td>\n      <td>2.0</td>\n      <td>NaN</td>\n      <td>2.0</td>\n      <td>2.0</td>\n      <td>2.0</td>\n      <td>1.0</td>\n    </tr>\n    <tr>\n      <th>2021-06-23</th>\n      <td>1.0</td>\n      <td>0.0</td>\n      <td>0.0</td>\n      <td>0.0</td>\n      <td>0.0</td>\n      <td>0.0</td>\n      <td>0.0</td>\n      <td>0.0</td>\n      <td>0.0</td>\n      <td>0.0</td>\n      <td>...</td>\n      <td>NaN</td>\n      <td>NaN</td>\n      <td>NaN</td>\n      <td>NaN</td>\n      <td>NaN</td>\n      <td>NaN</td>\n      <td>NaN</td>\n      <td>NaN</td>\n      <td>NaN</td>\n      <td>NaN</td>\n    </tr>\n  </tbody>\n</table>\n<p>3007 rows × 9216 columns</p>\n</div>"
     },
     "execution_count": 34,
     "metadata": {},
     "output_type": "execute_result"
    }
   ],
   "source": [
    "for t in T:\n",
    "    prices[f'r{t:02}dec'] = (prices[f'r{t:02}']\n",
    "                             .groupby(level='date')\n",
    "                             .apply(lambda x: pd.qcut(x, \n",
    "                                                      q=3,\n",
    "                                                      labels=False, \n",
    "                                                      duplicates='drop')))\n",
    "prices[f'r{t:02}dec'].unstack(glevel)"
   ],
   "metadata": {
    "collapsed": false,
    "pycharm": {
     "name": "#%%\n"
    }
   }
  },
  {
   "cell_type": "markdown",
   "source": [
    "### Daily sector return deciles"
   ],
   "metadata": {
    "collapsed": false
   }
  },
  {
   "cell_type": "code",
   "execution_count": 35,
   "outputs": [],
   "source": [
    "for t in T:\n",
    "    prices[f'r{t:02}q_sector'] = (prices\n",
    "                                  .groupby(['date', 'sector'])[f'r{t:02}']\n",
    "                                  .transform(lambda x: pd.qcut(x, \n",
    "                                                               q=3,\n",
    "                                                               labels=False, \n",
    "                                                               duplicates='drop')))"
   ],
   "metadata": {
    "collapsed": false,
    "pycharm": {
     "name": "#%%\n"
    }
   }
  },
  {
   "cell_type": "code",
   "execution_count": 36,
   "outputs": [
    {
     "data": {
      "text/plain": "ticker     btc-usd ltc-usd eth-usd etc-usd zec-usd xmr-usd dash-usd xrp-usd  \\\noffset        0       0       0       0       0       0        0       0      \ndate                                                                          \n2013-03-31     NaN     NaN     NaN     NaN     NaN     NaN      NaN     NaN   \n2013-04-01     NaN     NaN     NaN     NaN     NaN     NaN      NaN     NaN   \n2013-04-02     NaN     NaN     NaN     NaN     NaN     NaN      NaN     NaN   \n2013-04-03     NaN     NaN     NaN     NaN     NaN     NaN      NaN     NaN   \n2013-04-04     1.0     NaN     NaN     NaN     NaN     NaN      NaN     NaN   \n...            ...     ...     ...     ...     ...     ...      ...     ...   \n2021-06-19     2.0     2.0     2.0     2.0     2.0     2.0      2.0     2.0   \n2021-06-20     2.0     2.0     2.0     2.0     2.0     2.0      2.0     2.0   \n2021-06-21     2.0     1.0     2.0     1.0     1.0     1.0      1.0     1.0   \n2021-06-22     2.0     0.0     2.0     0.0     0.0     0.0      0.0     0.0   \n2021-06-23     1.0     0.0     1.0     0.0     0.0     0.0      0.0     0.0   \n\nticker     miota-usd eos-usd  ... bsv-usd btt-usd atom-usd wbtc-usd leo-usd  \\\noffset          0       0     ...    1435    1435     1435     1435    1435   \ndate                          ...                                             \n2013-03-31       NaN     NaN  ...     NaN     NaN      NaN      NaN     NaN   \n2013-04-01       NaN     NaN  ...     NaN     NaN      NaN      NaN     NaN   \n2013-04-02       NaN     NaN  ...     NaN     NaN      NaN      NaN     NaN   \n2013-04-03       NaN     NaN  ...     NaN     NaN      NaN      NaN     NaN   \n2013-04-04       NaN     NaN  ...     NaN     NaN      NaN      NaN     NaN   \n...              ...     ...  ...     ...     ...      ...      ...     ...   \n2021-06-19       2.0     2.0  ...     2.0     1.0      1.0      2.0     2.0   \n2021-06-20       1.0     2.0  ...     0.0     0.0      0.0      2.0     2.0   \n2021-06-21       0.0     1.0  ...     1.0     0.0      1.0      2.0     2.0   \n2021-06-22       0.0     0.0  ...     0.0     0.0      0.0      2.0     2.0   \n2021-06-23       0.0     0.0  ...     NaN     NaN      NaN      NaN     NaN   \n\nticker     okb-usd algo-usd amp-usd ftt-usd chz-usd  \noffset        1435     1435    1435    1435    1435  \ndate                                                 \n2013-03-31     NaN      NaN     NaN     NaN     NaN  \n2013-04-01     NaN      NaN     NaN     NaN     NaN  \n2013-04-02     NaN      NaN     NaN     NaN     NaN  \n2013-04-03     NaN      NaN     NaN     NaN     NaN  \n2013-04-04     NaN      NaN     NaN     NaN     NaN  \n...            ...      ...     ...     ...     ...  \n2021-06-19     NaN      1.0     2.0     2.0     1.0  \n2021-06-20     NaN      0.0     2.0     1.0     0.0  \n2021-06-21     NaN      1.0     2.0     2.0     1.0  \n2021-06-22     NaN      2.0     2.0     1.0     0.0  \n2021-06-23     NaN      NaN     NaN     NaN     NaN  \n\n[3007 rows x 9216 columns]",
      "text/html": "<div>\n<style scoped>\n    .dataframe tbody tr th:only-of-type {\n        vertical-align: middle;\n    }\n\n    .dataframe tbody tr th {\n        vertical-align: top;\n    }\n\n    .dataframe thead tr th {\n        text-align: left;\n    }\n\n    .dataframe thead tr:last-of-type th {\n        text-align: right;\n    }\n</style>\n<table border=\"1\" class=\"dataframe\">\n  <thead>\n    <tr>\n      <th>ticker</th>\n      <th>btc-usd</th>\n      <th>ltc-usd</th>\n      <th>eth-usd</th>\n      <th>etc-usd</th>\n      <th>zec-usd</th>\n      <th>xmr-usd</th>\n      <th>dash-usd</th>\n      <th>xrp-usd</th>\n      <th>miota-usd</th>\n      <th>eos-usd</th>\n      <th>...</th>\n      <th>bsv-usd</th>\n      <th>btt-usd</th>\n      <th>atom-usd</th>\n      <th>wbtc-usd</th>\n      <th>leo-usd</th>\n      <th>okb-usd</th>\n      <th>algo-usd</th>\n      <th>amp-usd</th>\n      <th>ftt-usd</th>\n      <th>chz-usd</th>\n    </tr>\n    <tr>\n      <th>offset</th>\n      <th>0</th>\n      <th>0</th>\n      <th>0</th>\n      <th>0</th>\n      <th>0</th>\n      <th>0</th>\n      <th>0</th>\n      <th>0</th>\n      <th>0</th>\n      <th>0</th>\n      <th>...</th>\n      <th>1435</th>\n      <th>1435</th>\n      <th>1435</th>\n      <th>1435</th>\n      <th>1435</th>\n      <th>1435</th>\n      <th>1435</th>\n      <th>1435</th>\n      <th>1435</th>\n      <th>1435</th>\n    </tr>\n    <tr>\n      <th>date</th>\n      <th></th>\n      <th></th>\n      <th></th>\n      <th></th>\n      <th></th>\n      <th></th>\n      <th></th>\n      <th></th>\n      <th></th>\n      <th></th>\n      <th></th>\n      <th></th>\n      <th></th>\n      <th></th>\n      <th></th>\n      <th></th>\n      <th></th>\n      <th></th>\n      <th></th>\n      <th></th>\n      <th></th>\n    </tr>\n  </thead>\n  <tbody>\n    <tr>\n      <th>2013-03-31</th>\n      <td>NaN</td>\n      <td>NaN</td>\n      <td>NaN</td>\n      <td>NaN</td>\n      <td>NaN</td>\n      <td>NaN</td>\n      <td>NaN</td>\n      <td>NaN</td>\n      <td>NaN</td>\n      <td>NaN</td>\n      <td>...</td>\n      <td>NaN</td>\n      <td>NaN</td>\n      <td>NaN</td>\n      <td>NaN</td>\n      <td>NaN</td>\n      <td>NaN</td>\n      <td>NaN</td>\n      <td>NaN</td>\n      <td>NaN</td>\n      <td>NaN</td>\n    </tr>\n    <tr>\n      <th>2013-04-01</th>\n      <td>NaN</td>\n      <td>NaN</td>\n      <td>NaN</td>\n      <td>NaN</td>\n      <td>NaN</td>\n      <td>NaN</td>\n      <td>NaN</td>\n      <td>NaN</td>\n      <td>NaN</td>\n      <td>NaN</td>\n      <td>...</td>\n      <td>NaN</td>\n      <td>NaN</td>\n      <td>NaN</td>\n      <td>NaN</td>\n      <td>NaN</td>\n      <td>NaN</td>\n      <td>NaN</td>\n      <td>NaN</td>\n      <td>NaN</td>\n      <td>NaN</td>\n    </tr>\n    <tr>\n      <th>2013-04-02</th>\n      <td>NaN</td>\n      <td>NaN</td>\n      <td>NaN</td>\n      <td>NaN</td>\n      <td>NaN</td>\n      <td>NaN</td>\n      <td>NaN</td>\n      <td>NaN</td>\n      <td>NaN</td>\n      <td>NaN</td>\n      <td>...</td>\n      <td>NaN</td>\n      <td>NaN</td>\n      <td>NaN</td>\n      <td>NaN</td>\n      <td>NaN</td>\n      <td>NaN</td>\n      <td>NaN</td>\n      <td>NaN</td>\n      <td>NaN</td>\n      <td>NaN</td>\n    </tr>\n    <tr>\n      <th>2013-04-03</th>\n      <td>NaN</td>\n      <td>NaN</td>\n      <td>NaN</td>\n      <td>NaN</td>\n      <td>NaN</td>\n      <td>NaN</td>\n      <td>NaN</td>\n      <td>NaN</td>\n      <td>NaN</td>\n      <td>NaN</td>\n      <td>...</td>\n      <td>NaN</td>\n      <td>NaN</td>\n      <td>NaN</td>\n      <td>NaN</td>\n      <td>NaN</td>\n      <td>NaN</td>\n      <td>NaN</td>\n      <td>NaN</td>\n      <td>NaN</td>\n      <td>NaN</td>\n    </tr>\n    <tr>\n      <th>2013-04-04</th>\n      <td>1.0</td>\n      <td>NaN</td>\n      <td>NaN</td>\n      <td>NaN</td>\n      <td>NaN</td>\n      <td>NaN</td>\n      <td>NaN</td>\n      <td>NaN</td>\n      <td>NaN</td>\n      <td>NaN</td>\n      <td>...</td>\n      <td>NaN</td>\n      <td>NaN</td>\n      <td>NaN</td>\n      <td>NaN</td>\n      <td>NaN</td>\n      <td>NaN</td>\n      <td>NaN</td>\n      <td>NaN</td>\n      <td>NaN</td>\n      <td>NaN</td>\n    </tr>\n    <tr>\n      <th>...</th>\n      <td>...</td>\n      <td>...</td>\n      <td>...</td>\n      <td>...</td>\n      <td>...</td>\n      <td>...</td>\n      <td>...</td>\n      <td>...</td>\n      <td>...</td>\n      <td>...</td>\n      <td>...</td>\n      <td>...</td>\n      <td>...</td>\n      <td>...</td>\n      <td>...</td>\n      <td>...</td>\n      <td>...</td>\n      <td>...</td>\n      <td>...</td>\n      <td>...</td>\n      <td>...</td>\n    </tr>\n    <tr>\n      <th>2021-06-19</th>\n      <td>2.0</td>\n      <td>2.0</td>\n      <td>2.0</td>\n      <td>2.0</td>\n      <td>2.0</td>\n      <td>2.0</td>\n      <td>2.0</td>\n      <td>2.0</td>\n      <td>2.0</td>\n      <td>2.0</td>\n      <td>...</td>\n      <td>2.0</td>\n      <td>1.0</td>\n      <td>1.0</td>\n      <td>2.0</td>\n      <td>2.0</td>\n      <td>NaN</td>\n      <td>1.0</td>\n      <td>2.0</td>\n      <td>2.0</td>\n      <td>1.0</td>\n    </tr>\n    <tr>\n      <th>2021-06-20</th>\n      <td>2.0</td>\n      <td>2.0</td>\n      <td>2.0</td>\n      <td>2.0</td>\n      <td>2.0</td>\n      <td>2.0</td>\n      <td>2.0</td>\n      <td>2.0</td>\n      <td>1.0</td>\n      <td>2.0</td>\n      <td>...</td>\n      <td>0.0</td>\n      <td>0.0</td>\n      <td>0.0</td>\n      <td>2.0</td>\n      <td>2.0</td>\n      <td>NaN</td>\n      <td>0.0</td>\n      <td>2.0</td>\n      <td>1.0</td>\n      <td>0.0</td>\n    </tr>\n    <tr>\n      <th>2021-06-21</th>\n      <td>2.0</td>\n      <td>1.0</td>\n      <td>2.0</td>\n      <td>1.0</td>\n      <td>1.0</td>\n      <td>1.0</td>\n      <td>1.0</td>\n      <td>1.0</td>\n      <td>0.0</td>\n      <td>1.0</td>\n      <td>...</td>\n      <td>1.0</td>\n      <td>0.0</td>\n      <td>1.0</td>\n      <td>2.0</td>\n      <td>2.0</td>\n      <td>NaN</td>\n      <td>1.0</td>\n      <td>2.0</td>\n      <td>2.0</td>\n      <td>1.0</td>\n    </tr>\n    <tr>\n      <th>2021-06-22</th>\n      <td>2.0</td>\n      <td>0.0</td>\n      <td>2.0</td>\n      <td>0.0</td>\n      <td>0.0</td>\n      <td>0.0</td>\n      <td>0.0</td>\n      <td>0.0</td>\n      <td>0.0</td>\n      <td>0.0</td>\n      <td>...</td>\n      <td>0.0</td>\n      <td>0.0</td>\n      <td>0.0</td>\n      <td>2.0</td>\n      <td>2.0</td>\n      <td>NaN</td>\n      <td>2.0</td>\n      <td>2.0</td>\n      <td>1.0</td>\n      <td>0.0</td>\n    </tr>\n    <tr>\n      <th>2021-06-23</th>\n      <td>1.0</td>\n      <td>0.0</td>\n      <td>1.0</td>\n      <td>0.0</td>\n      <td>0.0</td>\n      <td>0.0</td>\n      <td>0.0</td>\n      <td>0.0</td>\n      <td>0.0</td>\n      <td>0.0</td>\n      <td>...</td>\n      <td>NaN</td>\n      <td>NaN</td>\n      <td>NaN</td>\n      <td>NaN</td>\n      <td>NaN</td>\n      <td>NaN</td>\n      <td>NaN</td>\n      <td>NaN</td>\n      <td>NaN</td>\n      <td>NaN</td>\n    </tr>\n  </tbody>\n</table>\n<p>3007 rows × 9216 columns</p>\n</div>"
     },
     "execution_count": 36,
     "metadata": {},
     "output_type": "execute_result"
    }
   ],
   "source": [
    "prices[f'r{t:02}q_sector'].unstack(glevel)"
   ],
   "metadata": {
    "collapsed": false,
    "pycharm": {
     "name": "#%%\n"
    }
   }
  },
  {
   "cell_type": "markdown",
   "source": [
    "### Compute Forward Returns"
   ],
   "metadata": {
    "collapsed": false
   }
  },
  {
   "cell_type": "code",
   "execution_count": 37,
   "outputs": [
    {
     "data": {
      "text/plain": "date        offset  ticker  \n2013-04-01  0       btc-usd     0.281553\n2013-04-02  0       btc-usd     0.210655\n2013-04-03  0       btc-usd     0.061990\n2013-04-04  0       btc-usd     0.237045\n2013-04-05  0       btc-usd     0.316368\n                                  ...   \n2021-06-22  1435    leo-usd          NaN\n                    algo-usd         NaN\n                    amp-usd          NaN\n                    ftt-usd          NaN\n                    chz-usd          NaN\nName: r03_fwd, Length: 11636124, dtype: float32"
     },
     "execution_count": 37,
     "metadata": {},
     "output_type": "execute_result"
    }
   ],
   "source": [
    "for t in T:\n",
    "    prices[f'r{t:02}_fwd'] = prices.groupby(level=glevel)[f'r{t:02}'].shift(-t)\n",
    "\n",
    "prices[f'r{t:02}_fwd']"
   ],
   "metadata": {
    "collapsed": false,
    "pycharm": {
     "name": "#%%\n"
    }
   }
  },
  {
   "cell_type": "markdown",
   "source": [
    "## Remove outliers"
   ],
   "metadata": {
    "collapsed": false
   }
  },
  {
   "cell_type": "code",
   "execution_count": 38,
   "outputs": [
    {
     "data": {
      "text/plain": "                r01           r02           r03\ncount  1.162691e+07  1.161769e+07  1.160848e+07\nmean   3.780307e-03  7.005853e-03  1.027192e-02\nstd    7.969180e-02  1.077126e-01  1.315013e-01\nmin   -9.590698e-01 -9.748542e-01 -9.629861e-01\n0.1%  -3.607582e-01 -4.254912e-01 -4.761891e-01\n1%    -1.863466e-01 -2.390254e-01 -2.784992e-01\n2%    -1.472024e-01 -1.907653e-01 -2.229412e-01\n3%    -1.257785e-01 -1.651490e-01 -1.943493e-01\n4%    -1.106104e-01 -1.471698e-01 -1.749604e-01\n5%    -9.914416e-02 -1.336010e-01 -1.600878e-01\n50%    0.000000e+00  0.000000e+00  0.000000e+00\n95%    1.114198e-01  1.610538e-01  2.021208e-01\n96%    1.262875e-01  1.816668e-01  2.287523e-01\n97%    1.466000e-01  2.106433e-01  2.668989e-01\n98%    1.788687e-01  2.563082e-01  3.265013e-01\n99%    2.459127e-01  3.529412e-01  4.516743e-01\n99.9%  6.517819e-01  9.474436e-01  1.157778e+00\nmax    1.829467e+01  1.829467e+01  1.829467e+01",
      "text/html": "<div>\n<style scoped>\n    .dataframe tbody tr th:only-of-type {\n        vertical-align: middle;\n    }\n\n    .dataframe tbody tr th {\n        vertical-align: top;\n    }\n\n    .dataframe thead th {\n        text-align: right;\n    }\n</style>\n<table border=\"1\" class=\"dataframe\">\n  <thead>\n    <tr style=\"text-align: right;\">\n      <th></th>\n      <th>r01</th>\n      <th>r02</th>\n      <th>r03</th>\n    </tr>\n  </thead>\n  <tbody>\n    <tr>\n      <th>count</th>\n      <td>1.162691e+07</td>\n      <td>1.161769e+07</td>\n      <td>1.160848e+07</td>\n    </tr>\n    <tr>\n      <th>mean</th>\n      <td>3.780307e-03</td>\n      <td>7.005853e-03</td>\n      <td>1.027192e-02</td>\n    </tr>\n    <tr>\n      <th>std</th>\n      <td>7.969180e-02</td>\n      <td>1.077126e-01</td>\n      <td>1.315013e-01</td>\n    </tr>\n    <tr>\n      <th>min</th>\n      <td>-9.590698e-01</td>\n      <td>-9.748542e-01</td>\n      <td>-9.629861e-01</td>\n    </tr>\n    <tr>\n      <th>0.1%</th>\n      <td>-3.607582e-01</td>\n      <td>-4.254912e-01</td>\n      <td>-4.761891e-01</td>\n    </tr>\n    <tr>\n      <th>1%</th>\n      <td>-1.863466e-01</td>\n      <td>-2.390254e-01</td>\n      <td>-2.784992e-01</td>\n    </tr>\n    <tr>\n      <th>2%</th>\n      <td>-1.472024e-01</td>\n      <td>-1.907653e-01</td>\n      <td>-2.229412e-01</td>\n    </tr>\n    <tr>\n      <th>3%</th>\n      <td>-1.257785e-01</td>\n      <td>-1.651490e-01</td>\n      <td>-1.943493e-01</td>\n    </tr>\n    <tr>\n      <th>4%</th>\n      <td>-1.106104e-01</td>\n      <td>-1.471698e-01</td>\n      <td>-1.749604e-01</td>\n    </tr>\n    <tr>\n      <th>5%</th>\n      <td>-9.914416e-02</td>\n      <td>-1.336010e-01</td>\n      <td>-1.600878e-01</td>\n    </tr>\n    <tr>\n      <th>50%</th>\n      <td>0.000000e+00</td>\n      <td>0.000000e+00</td>\n      <td>0.000000e+00</td>\n    </tr>\n    <tr>\n      <th>95%</th>\n      <td>1.114198e-01</td>\n      <td>1.610538e-01</td>\n      <td>2.021208e-01</td>\n    </tr>\n    <tr>\n      <th>96%</th>\n      <td>1.262875e-01</td>\n      <td>1.816668e-01</td>\n      <td>2.287523e-01</td>\n    </tr>\n    <tr>\n      <th>97%</th>\n      <td>1.466000e-01</td>\n      <td>2.106433e-01</td>\n      <td>2.668989e-01</td>\n    </tr>\n    <tr>\n      <th>98%</th>\n      <td>1.788687e-01</td>\n      <td>2.563082e-01</td>\n      <td>3.265013e-01</td>\n    </tr>\n    <tr>\n      <th>99%</th>\n      <td>2.459127e-01</td>\n      <td>3.529412e-01</td>\n      <td>4.516743e-01</td>\n    </tr>\n    <tr>\n      <th>99.9%</th>\n      <td>6.517819e-01</td>\n      <td>9.474436e-01</td>\n      <td>1.157778e+00</td>\n    </tr>\n    <tr>\n      <th>max</th>\n      <td>1.829467e+01</td>\n      <td>1.829467e+01</td>\n      <td>1.829467e+01</td>\n    </tr>\n  </tbody>\n</table>\n</div>"
     },
     "execution_count": 38,
     "metadata": {},
     "output_type": "execute_result"
    }
   ],
   "source": [
    "prices[[f'r{t:02}' for t in T]].describe(percentiles=percentiles)"
   ],
   "metadata": {
    "collapsed": false,
    "pycharm": {
     "name": "#%%\n"
    }
   }
  },
  {
   "cell_type": "markdown",
   "source": [
    "We remove daily returns above 100 percent as these are more likely to represent data errors; we are using the 100 percent cutoff here in a somewhat ad-hoc fashion; you would want to apply more careful exploratory and historical analysis to decide which assets are truly not representative of the sample period."
   ],
   "metadata": {
    "collapsed": false
   }
  },
  {
   "cell_type": "code",
   "execution_count": 39,
   "outputs": [],
   "source": [
    "#outliers = prices[prices.r01 > 1].index.get_level_values(glevel).unique()"
   ],
   "metadata": {
    "collapsed": false,
    "pycharm": {
     "name": "#%%\n"
    }
   }
  },
  {
   "cell_type": "code",
   "execution_count": 40,
   "outputs": [],
   "source": [
    "#prices = prices.drop(outliers, level=glevel)"
   ],
   "metadata": {
    "collapsed": false,
    "pycharm": {
     "name": "#%%\n"
    }
   }
  },
  {
   "cell_type": "markdown",
   "source": [
    "## Create time and sector dummy variables"
   ],
   "metadata": {
    "collapsed": false
   }
  },
  {
   "cell_type": "code",
   "execution_count": 41,
   "outputs": [],
   "source": [
    "prices['year'] = prices.index.get_level_values('date').year.astype('int16')\n",
    "prices['month'] = prices.index.get_level_values('date').month.astype('int16')\n",
    "prices['weekday'] = prices.index.get_level_values('date').weekday.astype('int16')"
   ],
   "metadata": {
    "collapsed": false,
    "pycharm": {
     "name": "#%%\n"
    }
   }
  },
  {
   "cell_type": "markdown",
   "source": [
    "## Store Model Data"
   ],
   "metadata": {
    "collapsed": false
   }
  },
  {
   "cell_type": "code",
   "execution_count": 42,
   "outputs": [
    {
     "name": "stdout",
     "output_type": "stream",
     "text": [
      "<class 'pandas.core.frame.DataFrame'>\n",
      "MultiIndex: 11636124 entries, (Timestamp('2013-04-01 00:00:00'), 0, 'btc-usd') to (Timestamp('2021-06-22 00:00:00'), 1435, 'chz-usd')\n",
      "Data columns (total 28 columns):\n",
      " #   Column       Dtype  \n",
      "---  ------       -----  \n",
      " 0   open         float32\n",
      " 1   high         float32\n",
      " 2   low          float32\n",
      " 3   close        float32\n",
      " 4   volume       float64\n",
      " 5   rsi          float64\n",
      " 6   bb_high      float64\n",
      " 7   bb_low       float64\n",
      " 8   NATR         float64\n",
      " 9   ATR          float64\n",
      " 10  PPO          float64\n",
      " 11  MACD         float64\n",
      " 12  sector       int64  \n",
      " 13  r01          float32\n",
      " 14  r02          float32\n",
      " 15  r03          float32\n",
      " 16  r01dec       float64\n",
      " 17  r02dec       float64\n",
      " 18  r03dec       float64\n",
      " 19  r01q_sector  float32\n",
      " 20  r02q_sector  float32\n",
      " 21  r03q_sector  float32\n",
      " 22  r01_fwd      float32\n",
      " 23  r02_fwd      float32\n",
      " 24  r03_fwd      float32\n",
      " 25  year         int64  \n",
      " 26  month        int64  \n",
      " 27  weekday      int64  \n",
      "dtypes: float32(13), float64(11), int64(4)\n",
      "memory usage: 2.2 GB\n"
     ]
    }
   ],
   "source": [
    "prices.info()"
   ],
   "metadata": {
    "collapsed": false,
    "pycharm": {
     "name": "#%%\n"
    }
   }
  },
  {
   "cell_type": "code",
   "execution_count": 43,
   "outputs": [
    {
     "data": {
      "text/plain": "                       open                                                  \\\nticker              btc-usd     ltc-usd      eth-usd    etc-usd     zec-usd   \ndate       offset                                                             \n2013-03-31 10         93.25         NaN          NaN        NaN         NaN   \n           15         93.25         NaN          NaN        NaN         NaN   \n           20         93.25         NaN          NaN        NaN         NaN   \n           25         93.25         NaN          NaN        NaN         NaN   \n           30         93.25         NaN          NaN        NaN         NaN   \n...                     ...         ...          ...        ...         ...   \n2021-06-23 850     33980.00  128.539993  1987.300049  40.712002  112.300003   \n           855          NaN         NaN  1986.900024        NaN  112.099998   \n           860          NaN         NaN          NaN        NaN         NaN   \n           865          NaN         NaN          NaN        NaN         NaN   \n           870          NaN         NaN          NaN        NaN         NaN   \n\n                                                                      ...  \\\nticker                xmr-usd    dash-usd  xrp-usd miota-usd eos-usd  ...   \ndate       offset                                                     ...   \n2013-03-31 10             NaN         NaN      NaN       NaN     NaN  ...   \n           15             NaN         NaN      NaN       NaN     NaN  ...   \n           20             NaN         NaN      NaN       NaN     NaN  ...   \n           25             NaN         NaN      NaN       NaN     NaN  ...   \n           30             NaN         NaN      NaN       NaN     NaN  ...   \n...                       ...         ...      ...       ...     ...  ...   \n2021-06-23 850     214.880005  126.809998  0.63469   0.79357  3.6708  ...   \n           855     215.009995  126.860001  0.63562   0.79637  3.6737  ...   \n           860            NaN         NaN      NaN       NaN     NaN  ...   \n           865            NaN         NaN      NaN       NaN     NaN  ...   \n           870            NaN         NaN      NaN       NaN     NaN  ...   \n\n                  weekday                                                     \\\nticker            bsv-usd btt-usd atom-usd wbtc-usd leo-usd okb-usd algo-usd   \ndate       offset                                                              \n2013-03-31 10         NaN     NaN      NaN      NaN     NaN     NaN      NaN   \n           15         NaN     NaN      NaN      NaN     NaN     NaN      NaN   \n           20         NaN     NaN      NaN      NaN     NaN     NaN      NaN   \n           25         NaN     NaN      NaN      NaN     NaN     NaN      NaN   \n           30         NaN     NaN      NaN      NaN     NaN     NaN      NaN   \n...                   ...     ...      ...      ...     ...     ...      ...   \n2021-06-23 850        2.0     2.0      2.0      2.0     2.0     NaN      2.0   \n           855        2.0     2.0      2.0      2.0     2.0     NaN      2.0   \n           860        2.0     2.0      2.0      2.0     2.0     NaN      2.0   \n           865        2.0     2.0      2.0      2.0     2.0     NaN      2.0   \n           870        NaN     NaN      NaN      2.0     2.0     NaN      2.0   \n\n                                           \nticker            amp-usd ftt-usd chz-usd  \ndate       offset                          \n2013-03-31 10         NaN     NaN     NaN  \n           15         NaN     NaN     NaN  \n           20         NaN     NaN     NaN  \n           25         NaN     NaN     NaN  \n           30         NaN     NaN     NaN  \n...                   ...     ...     ...  \n2021-06-23 850        2.0     NaN     2.0  \n           855        2.0     NaN     2.0  \n           860        2.0     NaN     2.0  \n           865        2.0     NaN     2.0  \n           870        NaN     NaN     2.0  \n\n[865901 rows x 896 columns]",
      "text/html": "<div>\n<style scoped>\n    .dataframe tbody tr th:only-of-type {\n        vertical-align: middle;\n    }\n\n    .dataframe tbody tr th {\n        vertical-align: top;\n    }\n\n    .dataframe thead tr th {\n        text-align: left;\n    }\n\n    .dataframe thead tr:last-of-type th {\n        text-align: right;\n    }\n</style>\n<table border=\"1\" class=\"dataframe\">\n  <thead>\n    <tr>\n      <th></th>\n      <th></th>\n      <th colspan=\"10\" halign=\"left\">open</th>\n      <th>...</th>\n      <th colspan=\"10\" halign=\"left\">weekday</th>\n    </tr>\n    <tr>\n      <th></th>\n      <th>ticker</th>\n      <th>btc-usd</th>\n      <th>ltc-usd</th>\n      <th>eth-usd</th>\n      <th>etc-usd</th>\n      <th>zec-usd</th>\n      <th>xmr-usd</th>\n      <th>dash-usd</th>\n      <th>xrp-usd</th>\n      <th>miota-usd</th>\n      <th>eos-usd</th>\n      <th>...</th>\n      <th>bsv-usd</th>\n      <th>btt-usd</th>\n      <th>atom-usd</th>\n      <th>wbtc-usd</th>\n      <th>leo-usd</th>\n      <th>okb-usd</th>\n      <th>algo-usd</th>\n      <th>amp-usd</th>\n      <th>ftt-usd</th>\n      <th>chz-usd</th>\n    </tr>\n    <tr>\n      <th>date</th>\n      <th>offset</th>\n      <th></th>\n      <th></th>\n      <th></th>\n      <th></th>\n      <th></th>\n      <th></th>\n      <th></th>\n      <th></th>\n      <th></th>\n      <th></th>\n      <th></th>\n      <th></th>\n      <th></th>\n      <th></th>\n      <th></th>\n      <th></th>\n      <th></th>\n      <th></th>\n      <th></th>\n      <th></th>\n      <th></th>\n    </tr>\n  </thead>\n  <tbody>\n    <tr>\n      <th rowspan=\"5\" valign=\"top\">2013-03-31</th>\n      <th>10</th>\n      <td>93.25</td>\n      <td>NaN</td>\n      <td>NaN</td>\n      <td>NaN</td>\n      <td>NaN</td>\n      <td>NaN</td>\n      <td>NaN</td>\n      <td>NaN</td>\n      <td>NaN</td>\n      <td>NaN</td>\n      <td>...</td>\n      <td>NaN</td>\n      <td>NaN</td>\n      <td>NaN</td>\n      <td>NaN</td>\n      <td>NaN</td>\n      <td>NaN</td>\n      <td>NaN</td>\n      <td>NaN</td>\n      <td>NaN</td>\n      <td>NaN</td>\n    </tr>\n    <tr>\n      <th>15</th>\n      <td>93.25</td>\n      <td>NaN</td>\n      <td>NaN</td>\n      <td>NaN</td>\n      <td>NaN</td>\n      <td>NaN</td>\n      <td>NaN</td>\n      <td>NaN</td>\n      <td>NaN</td>\n      <td>NaN</td>\n      <td>...</td>\n      <td>NaN</td>\n      <td>NaN</td>\n      <td>NaN</td>\n      <td>NaN</td>\n      <td>NaN</td>\n      <td>NaN</td>\n      <td>NaN</td>\n      <td>NaN</td>\n      <td>NaN</td>\n      <td>NaN</td>\n    </tr>\n    <tr>\n      <th>20</th>\n      <td>93.25</td>\n      <td>NaN</td>\n      <td>NaN</td>\n      <td>NaN</td>\n      <td>NaN</td>\n      <td>NaN</td>\n      <td>NaN</td>\n      <td>NaN</td>\n      <td>NaN</td>\n      <td>NaN</td>\n      <td>...</td>\n      <td>NaN</td>\n      <td>NaN</td>\n      <td>NaN</td>\n      <td>NaN</td>\n      <td>NaN</td>\n      <td>NaN</td>\n      <td>NaN</td>\n      <td>NaN</td>\n      <td>NaN</td>\n      <td>NaN</td>\n    </tr>\n    <tr>\n      <th>25</th>\n      <td>93.25</td>\n      <td>NaN</td>\n      <td>NaN</td>\n      <td>NaN</td>\n      <td>NaN</td>\n      <td>NaN</td>\n      <td>NaN</td>\n      <td>NaN</td>\n      <td>NaN</td>\n      <td>NaN</td>\n      <td>...</td>\n      <td>NaN</td>\n      <td>NaN</td>\n      <td>NaN</td>\n      <td>NaN</td>\n      <td>NaN</td>\n      <td>NaN</td>\n      <td>NaN</td>\n      <td>NaN</td>\n      <td>NaN</td>\n      <td>NaN</td>\n    </tr>\n    <tr>\n      <th>30</th>\n      <td>93.25</td>\n      <td>NaN</td>\n      <td>NaN</td>\n      <td>NaN</td>\n      <td>NaN</td>\n      <td>NaN</td>\n      <td>NaN</td>\n      <td>NaN</td>\n      <td>NaN</td>\n      <td>NaN</td>\n      <td>...</td>\n      <td>NaN</td>\n      <td>NaN</td>\n      <td>NaN</td>\n      <td>NaN</td>\n      <td>NaN</td>\n      <td>NaN</td>\n      <td>NaN</td>\n      <td>NaN</td>\n      <td>NaN</td>\n      <td>NaN</td>\n    </tr>\n    <tr>\n      <th>...</th>\n      <th>...</th>\n      <td>...</td>\n      <td>...</td>\n      <td>...</td>\n      <td>...</td>\n      <td>...</td>\n      <td>...</td>\n      <td>...</td>\n      <td>...</td>\n      <td>...</td>\n      <td>...</td>\n      <td>...</td>\n      <td>...</td>\n      <td>...</td>\n      <td>...</td>\n      <td>...</td>\n      <td>...</td>\n      <td>...</td>\n      <td>...</td>\n      <td>...</td>\n      <td>...</td>\n      <td>...</td>\n    </tr>\n    <tr>\n      <th rowspan=\"5\" valign=\"top\">2021-06-23</th>\n      <th>850</th>\n      <td>33980.00</td>\n      <td>128.539993</td>\n      <td>1987.300049</td>\n      <td>40.712002</td>\n      <td>112.300003</td>\n      <td>214.880005</td>\n      <td>126.809998</td>\n      <td>0.63469</td>\n      <td>0.79357</td>\n      <td>3.6708</td>\n      <td>...</td>\n      <td>2.0</td>\n      <td>2.0</td>\n      <td>2.0</td>\n      <td>2.0</td>\n      <td>2.0</td>\n      <td>NaN</td>\n      <td>2.0</td>\n      <td>2.0</td>\n      <td>NaN</td>\n      <td>2.0</td>\n    </tr>\n    <tr>\n      <th>855</th>\n      <td>NaN</td>\n      <td>NaN</td>\n      <td>1986.900024</td>\n      <td>NaN</td>\n      <td>112.099998</td>\n      <td>215.009995</td>\n      <td>126.860001</td>\n      <td>0.63562</td>\n      <td>0.79637</td>\n      <td>3.6737</td>\n      <td>...</td>\n      <td>2.0</td>\n      <td>2.0</td>\n      <td>2.0</td>\n      <td>2.0</td>\n      <td>2.0</td>\n      <td>NaN</td>\n      <td>2.0</td>\n      <td>2.0</td>\n      <td>NaN</td>\n      <td>2.0</td>\n    </tr>\n    <tr>\n      <th>860</th>\n      <td>NaN</td>\n      <td>NaN</td>\n      <td>NaN</td>\n      <td>NaN</td>\n      <td>NaN</td>\n      <td>NaN</td>\n      <td>NaN</td>\n      <td>NaN</td>\n      <td>NaN</td>\n      <td>NaN</td>\n      <td>...</td>\n      <td>2.0</td>\n      <td>2.0</td>\n      <td>2.0</td>\n      <td>2.0</td>\n      <td>2.0</td>\n      <td>NaN</td>\n      <td>2.0</td>\n      <td>2.0</td>\n      <td>NaN</td>\n      <td>2.0</td>\n    </tr>\n    <tr>\n      <th>865</th>\n      <td>NaN</td>\n      <td>NaN</td>\n      <td>NaN</td>\n      <td>NaN</td>\n      <td>NaN</td>\n      <td>NaN</td>\n      <td>NaN</td>\n      <td>NaN</td>\n      <td>NaN</td>\n      <td>NaN</td>\n      <td>...</td>\n      <td>2.0</td>\n      <td>2.0</td>\n      <td>2.0</td>\n      <td>2.0</td>\n      <td>2.0</td>\n      <td>NaN</td>\n      <td>2.0</td>\n      <td>2.0</td>\n      <td>NaN</td>\n      <td>2.0</td>\n    </tr>\n    <tr>\n      <th>870</th>\n      <td>NaN</td>\n      <td>NaN</td>\n      <td>NaN</td>\n      <td>NaN</td>\n      <td>NaN</td>\n      <td>NaN</td>\n      <td>NaN</td>\n      <td>NaN</td>\n      <td>NaN</td>\n      <td>NaN</td>\n      <td>...</td>\n      <td>NaN</td>\n      <td>NaN</td>\n      <td>NaN</td>\n      <td>2.0</td>\n      <td>2.0</td>\n      <td>NaN</td>\n      <td>2.0</td>\n      <td>NaN</td>\n      <td>NaN</td>\n      <td>2.0</td>\n    </tr>\n  </tbody>\n</table>\n<p>865901 rows × 896 columns</p>\n</div>"
     },
     "execution_count": 43,
     "metadata": {},
     "output_type": "execute_result"
    }
   ],
   "source": [
    "prices.unstack(['ticker'])"
   ],
   "metadata": {
    "collapsed": false,
    "pycharm": {
     "name": "#%%\n"
    }
   }
  },
  {
   "cell_type": "code",
   "execution_count": 44,
   "outputs": [
    {
     "data": {
      "text/plain": "(MultiIndex([], names=['date', 'offset', 'ticker']),\n MultiIndex([], names=['date', 'offset', 'ticker']))"
     },
     "execution_count": 44,
     "metadata": {},
     "output_type": "execute_result"
    }
   ],
   "source": [
    "prices_small = reduce_footprint(prices.dropna(), except_cols=['volume'])\n",
    "inf = prices_small.index[np.isinf(prices_small).any(1)]\n",
    "nan = prices_small.index[np.isnan(prices_small).any(1)]\n",
    "\n",
    "inf, nan"
   ],
   "metadata": {
    "collapsed": false,
    "pycharm": {
     "name": "#%%\n"
    }
   }
  },
  {
   "cell_type": "code",
   "execution_count": 45,
   "outputs": [
    {
     "name": "stdout",
     "output_type": "stream",
     "text": [
      "<class 'pandas.core.frame.DataFrame'>\n",
      "MultiIndex: 11211158 entries, (Timestamp('2013-05-03 00:00:00'), 10, 'btc-usd') to (Timestamp('2021-06-20 00:00:00'), 870, 'wbtc-usd')\n",
      "Data columns (total 28 columns):\n",
      " #   Column       Non-Null Count     Dtype  \n",
      "---  ------       --------------     -----  \n",
      " 0   open         11211158 non-null  float32\n",
      " 1   high         11211158 non-null  float32\n",
      " 2   low          11211158 non-null  float32\n",
      " 3   close        11211158 non-null  float32\n",
      " 4   volume       11211158 non-null  float64\n",
      " 5   rsi          11211158 non-null  float32\n",
      " 6   bb_high      11211158 non-null  float32\n",
      " 7   bb_low       11211158 non-null  float32\n",
      " 8   NATR         11211158 non-null  float32\n",
      " 9   ATR          11211158 non-null  float32\n",
      " 10  PPO          11211158 non-null  float32\n",
      " 11  MACD         11211158 non-null  float32\n",
      " 12  sector       11211158 non-null  int16  \n",
      " 13  r01          11211158 non-null  float32\n",
      " 14  r02          11211158 non-null  float32\n",
      " 15  r03          11211158 non-null  float32\n",
      " 16  r01dec       11211158 non-null  float32\n",
      " 17  r02dec       11211158 non-null  float32\n",
      " 18  r03dec       11211158 non-null  float32\n",
      " 19  r01q_sector  11211158 non-null  float32\n",
      " 20  r02q_sector  11211158 non-null  float32\n",
      " 21  r03q_sector  11211158 non-null  float32\n",
      " 22  r01_fwd      11211158 non-null  float32\n",
      " 23  r02_fwd      11211158 non-null  float32\n",
      " 24  r03_fwd      11211158 non-null  float32\n",
      " 25  year         11211158 non-null  int16  \n",
      " 26  month        11211158 non-null  int16  \n",
      " 27  weekday      11211158 non-null  int16  \n",
      "dtypes: float32(23), float64(1), int16(4)\n",
      "memory usage: 1.2 GB\n"
     ]
    }
   ],
   "source": [
    "prices_small.sort_index(inplace=True)\n",
    "prices_small.drop(['open', 'close', 'low', 'high', 'volume'], axis=1).reset_index().to_feather('data.feather' + suffix)\n",
    "prices_small[['open', 'close', 'low', 'high', 'volume']].reset_index().to_feather('prices.feather' + suffix)\n",
    "prices_small.reset_index().to_feather('data+prices.feather' + suffix)\n",
    "\n",
    "prices_small.info(show_counts=True)"
   ],
   "metadata": {
    "collapsed": false,
    "pycharm": {
     "name": "#%%\n"
    }
   }
  },
  {
   "cell_type": "code",
   "execution_count": 46,
   "outputs": [
    {
     "ename": "TypeError",
     "evalue": "Only valid with DatetimeIndex, TimedeltaIndex or PeriodIndex, but got an instance of 'MultiIndex'",
     "output_type": "error",
     "traceback": [
      "\u001B[0;31m---------------------------------------------------------------------------\u001B[0m",
      "\u001B[0;31mTypeError\u001B[0m                                 Traceback (most recent call last)",
      "\u001B[0;32m<ipython-input-46-0cc6764ff201>\u001B[0m in \u001B[0;36m<module>\u001B[0;34m\u001B[0m\n\u001B[0;32m----> 1\u001B[0;31m \u001B[0mprices\u001B[0m\u001B[0;34m.\u001B[0m\u001B[0mresample\u001B[0m\u001B[0;34m(\u001B[0m\u001B[0;34m'M'\u001B[0m\u001B[0;34m)\u001B[0m\u001B[0;34m\u001B[0m\u001B[0;34m\u001B[0m\u001B[0m\n\u001B[0m\u001B[1;32m      2\u001B[0m \u001B[0;34m\u001B[0m\u001B[0m\n",
      "\u001B[0;32m~/miniconda3/envs/ml4t/lib/python3.8/site-packages/pandas/core/generic.py\u001B[0m in \u001B[0;36mresample\u001B[0;34m(self, rule, axis, closed, label, convention, kind, loffset, base, on, level, origin, offset)\u001B[0m\n\u001B[1;32m   8367\u001B[0m \u001B[0;34m\u001B[0m\u001B[0m\n\u001B[1;32m   8368\u001B[0m         \u001B[0maxis\u001B[0m \u001B[0;34m=\u001B[0m \u001B[0mself\u001B[0m\u001B[0;34m.\u001B[0m\u001B[0m_get_axis_number\u001B[0m\u001B[0;34m(\u001B[0m\u001B[0maxis\u001B[0m\u001B[0;34m)\u001B[0m\u001B[0;34m\u001B[0m\u001B[0;34m\u001B[0m\u001B[0m\n\u001B[0;32m-> 8369\u001B[0;31m         return get_resampler(\n\u001B[0m\u001B[1;32m   8370\u001B[0m             \u001B[0mself\u001B[0m\u001B[0;34m,\u001B[0m\u001B[0;34m\u001B[0m\u001B[0;34m\u001B[0m\u001B[0m\n\u001B[1;32m   8371\u001B[0m             \u001B[0mfreq\u001B[0m\u001B[0;34m=\u001B[0m\u001B[0mrule\u001B[0m\u001B[0;34m,\u001B[0m\u001B[0;34m\u001B[0m\u001B[0;34m\u001B[0m\u001B[0m\n",
      "\u001B[0;32m~/miniconda3/envs/ml4t/lib/python3.8/site-packages/pandas/core/resample.py\u001B[0m in \u001B[0;36mget_resampler\u001B[0;34m(obj, kind, **kwds)\u001B[0m\n\u001B[1;32m   1309\u001B[0m     \"\"\"\n\u001B[1;32m   1310\u001B[0m     \u001B[0mtg\u001B[0m \u001B[0;34m=\u001B[0m \u001B[0mTimeGrouper\u001B[0m\u001B[0;34m(\u001B[0m\u001B[0;34m**\u001B[0m\u001B[0mkwds\u001B[0m\u001B[0;34m)\u001B[0m\u001B[0;34m\u001B[0m\u001B[0;34m\u001B[0m\u001B[0m\n\u001B[0;32m-> 1311\u001B[0;31m     \u001B[0;32mreturn\u001B[0m \u001B[0mtg\u001B[0m\u001B[0;34m.\u001B[0m\u001B[0m_get_resampler\u001B[0m\u001B[0;34m(\u001B[0m\u001B[0mobj\u001B[0m\u001B[0;34m,\u001B[0m \u001B[0mkind\u001B[0m\u001B[0;34m=\u001B[0m\u001B[0mkind\u001B[0m\u001B[0;34m)\u001B[0m\u001B[0;34m\u001B[0m\u001B[0;34m\u001B[0m\u001B[0m\n\u001B[0m\u001B[1;32m   1312\u001B[0m \u001B[0;34m\u001B[0m\u001B[0m\n\u001B[1;32m   1313\u001B[0m \u001B[0;34m\u001B[0m\u001B[0m\n",
      "\u001B[0;32m~/miniconda3/envs/ml4t/lib/python3.8/site-packages/pandas/core/resample.py\u001B[0m in \u001B[0;36m_get_resampler\u001B[0;34m(self, obj, kind)\u001B[0m\n\u001B[1;32m   1474\u001B[0m             \u001B[0;32mreturn\u001B[0m \u001B[0mTimedeltaIndexResampler\u001B[0m\u001B[0;34m(\u001B[0m\u001B[0mobj\u001B[0m\u001B[0;34m,\u001B[0m \u001B[0mgroupby\u001B[0m\u001B[0;34m=\u001B[0m\u001B[0mself\u001B[0m\u001B[0;34m,\u001B[0m \u001B[0maxis\u001B[0m\u001B[0;34m=\u001B[0m\u001B[0mself\u001B[0m\u001B[0;34m.\u001B[0m\u001B[0maxis\u001B[0m\u001B[0;34m)\u001B[0m\u001B[0;34m\u001B[0m\u001B[0;34m\u001B[0m\u001B[0m\n\u001B[1;32m   1475\u001B[0m \u001B[0;34m\u001B[0m\u001B[0m\n\u001B[0;32m-> 1476\u001B[0;31m         raise TypeError(\n\u001B[0m\u001B[1;32m   1477\u001B[0m             \u001B[0;34m\"Only valid with DatetimeIndex, \"\u001B[0m\u001B[0;34m\u001B[0m\u001B[0;34m\u001B[0m\u001B[0m\n\u001B[1;32m   1478\u001B[0m             \u001B[0;34m\"TimedeltaIndex or PeriodIndex, \"\u001B[0m\u001B[0;34m\u001B[0m\u001B[0;34m\u001B[0m\u001B[0m\n",
      "\u001B[0;31mTypeError\u001B[0m: Only valid with DatetimeIndex, TimedeltaIndex or PeriodIndex, but got an instance of 'MultiIndex'"
     ]
    }
   ],
   "source": [
    "prices.resample('M')\n"
   ],
   "metadata": {
    "collapsed": false,
    "pycharm": {
     "name": "#%%\n"
    }
   }
  }
 ],
 "metadata": {
  "kernelspec": {
   "display_name": "Python 3",
   "language": "python",
   "name": "python3"
  },
  "language_info": {
   "codemirror_mode": {
    "name": "ipython",
    "version": 3
   },
   "file_extension": ".py",
   "mimetype": "text/x-python",
   "name": "python",
   "nbconvert_exporter": "python",
   "pygments_lexer": "ipython3",
   "version": "3.8.8"
  },
  "toc": {
   "base_numbering": 1,
   "nav_menu": {},
   "number_sections": true,
   "sideBar": true,
   "skip_h1_title": true,
   "title_cell": "Table of Contents",
   "title_sidebar": "Contents",
   "toc_cell": false,
   "toc_position": {},
   "toc_section_display": true,
   "toc_window_display": true
  }
 },
 "nbformat": 4,
 "nbformat_minor": 2
}